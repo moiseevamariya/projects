  {
   "cell_type": "markdown",
   "id": "0341ae97",
   "metadata": {},
   "source": [
    "# Исследование надежности заемщиков."
   ]
  },
  {
   "cell_type": "markdown",
   "id": "e943528f",
   "metadata": {},
   "source": [
    "### Шаг 1. Обзор данных"
   ]
  },
  {
   "cell_type": "markdown",
   "id": "f796d6dc",
   "metadata": {},
   "source": [
    "<div style=\"border:solid green 2px; padding: 20px\"> \n",
    "    \n",
    "**Комментарий ревьюера**\n",
    "\n",
    "**#ок**\n",
    "\n",
    "Немного удобне подгружать библиотеки в отдельной ячейке проекта. Так при необходимости добавить библиотеку тебе нужно будет дополнить и перезапустить первую ячеку. Эта ячейка только перегрузит библиотеки и не перегрузит данные, т.е. твой прогресс будет сохранен\n",
    "    \n",
    "В целом старайся, чтобы ячейки содержали некоторую логическую часть и не страшно, если в них будет по одной строке кода\n",
    "    \n",
    "</div>"
   ]
  },
  {
   "cell_type": "code",
   "execution_count": 1,
   "id": "954472a4",
   "metadata": {},
   "outputs": [],
   "source": [
    "import pandas as pd"
   ]
  },
  {
   "cell_type": "code",
   "execution_count": 2,
   "id": "0930a58c",
   "metadata": {},
   "outputs": [
    {
     "data": {
      "text/html": [
       "<div>\n",
       "<style scoped>\n",
       "    .dataframe tbody tr th:only-of-type {\n",
       "        vertical-align: middle;\n",
       "    }\n",
       "\n",
       "    .dataframe tbody tr th {\n",
       "        vertical-align: top;\n",
       "    }\n",
       "\n",
       "    .dataframe thead th {\n",
       "        text-align: right;\n",
       "    }\n",
       "</style>\n",
       "<table border=\"1\" class=\"dataframe\">\n",
       "  <thead>\n",
       "    <tr style=\"text-align: right;\">\n",
       "      <th></th>\n",
       "      <th>children</th>\n",
       "      <th>days_employed</th>\n",
       "      <th>dob_years</th>\n",
       "      <th>education</th>\n",
       "      <th>education_id</th>\n",
       "      <th>family_status</th>\n",
       "      <th>family_status_id</th>\n",
       "      <th>gender</th>\n",
       "      <th>income_type</th>\n",
       "      <th>debt</th>\n",
       "      <th>total_income</th>\n",
       "      <th>purpose</th>\n",
       "    </tr>\n",
       "  </thead>\n",
       "  <tbody>\n",
       "    <tr>\n",
       "      <td>0</td>\n",
       "      <td>1</td>\n",
       "      <td>-8437.673028</td>\n",
       "      <td>42</td>\n",
       "      <td>высшее</td>\n",
       "      <td>0</td>\n",
       "      <td>женат / замужем</td>\n",
       "      <td>0</td>\n",
       "      <td>F</td>\n",
       "      <td>сотрудник</td>\n",
       "      <td>0</td>\n",
       "      <td>253875.639453</td>\n",
       "      <td>покупка жилья</td>\n",
       "    </tr>\n",
       "    <tr>\n",
       "      <td>1</td>\n",
       "      <td>1</td>\n",
       "      <td>-4024.803754</td>\n",
       "      <td>36</td>\n",
       "      <td>среднее</td>\n",
       "      <td>1</td>\n",
       "      <td>женат / замужем</td>\n",
       "      <td>0</td>\n",
       "      <td>F</td>\n",
       "      <td>сотрудник</td>\n",
       "      <td>0</td>\n",
       "      <td>112080.014102</td>\n",
       "      <td>приобретение автомобиля</td>\n",
       "    </tr>\n",
       "    <tr>\n",
       "      <td>2</td>\n",
       "      <td>0</td>\n",
       "      <td>-5623.422610</td>\n",
       "      <td>33</td>\n",
       "      <td>Среднее</td>\n",
       "      <td>1</td>\n",
       "      <td>женат / замужем</td>\n",
       "      <td>0</td>\n",
       "      <td>M</td>\n",
       "      <td>сотрудник</td>\n",
       "      <td>0</td>\n",
       "      <td>145885.952297</td>\n",
       "      <td>покупка жилья</td>\n",
       "    </tr>\n",
       "    <tr>\n",
       "      <td>3</td>\n",
       "      <td>3</td>\n",
       "      <td>-4124.747207</td>\n",
       "      <td>32</td>\n",
       "      <td>среднее</td>\n",
       "      <td>1</td>\n",
       "      <td>женат / замужем</td>\n",
       "      <td>0</td>\n",
       "      <td>M</td>\n",
       "      <td>сотрудник</td>\n",
       "      <td>0</td>\n",
       "      <td>267628.550329</td>\n",
       "      <td>дополнительное образование</td>\n",
       "    </tr>\n",
       "    <tr>\n",
       "      <td>4</td>\n",
       "      <td>0</td>\n",
       "      <td>340266.072047</td>\n",
       "      <td>53</td>\n",
       "      <td>среднее</td>\n",
       "      <td>1</td>\n",
       "      <td>гражданский брак</td>\n",
       "      <td>1</td>\n",
       "      <td>F</td>\n",
       "      <td>пенсионер</td>\n",
       "      <td>0</td>\n",
       "      <td>158616.077870</td>\n",
       "      <td>сыграть свадьбу</td>\n",
       "    </tr>\n",
       "    <tr>\n",
       "      <td>5</td>\n",
       "      <td>0</td>\n",
       "      <td>-926.185831</td>\n",
       "      <td>27</td>\n",
       "      <td>высшее</td>\n",
       "      <td>0</td>\n",
       "      <td>гражданский брак</td>\n",
       "      <td>1</td>\n",
       "      <td>M</td>\n",
       "      <td>компаньон</td>\n",
       "      <td>0</td>\n",
       "      <td>255763.565419</td>\n",
       "      <td>покупка жилья</td>\n",
       "    </tr>\n",
       "    <tr>\n",
       "      <td>6</td>\n",
       "      <td>0</td>\n",
       "      <td>-2879.202052</td>\n",
       "      <td>43</td>\n",
       "      <td>высшее</td>\n",
       "      <td>0</td>\n",
       "      <td>женат / замужем</td>\n",
       "      <td>0</td>\n",
       "      <td>F</td>\n",
       "      <td>компаньон</td>\n",
       "      <td>0</td>\n",
       "      <td>240525.971920</td>\n",
       "      <td>операции с жильем</td>\n",
       "    </tr>\n",
       "    <tr>\n",
       "      <td>7</td>\n",
       "      <td>0</td>\n",
       "      <td>-152.779569</td>\n",
       "      <td>50</td>\n",
       "      <td>СРЕДНЕЕ</td>\n",
       "      <td>1</td>\n",
       "      <td>женат / замужем</td>\n",
       "      <td>0</td>\n",
       "      <td>M</td>\n",
       "      <td>сотрудник</td>\n",
       "      <td>0</td>\n",
       "      <td>135823.934197</td>\n",
       "      <td>образование</td>\n",
       "    </tr>\n",
       "    <tr>\n",
       "      <td>8</td>\n",
       "      <td>2</td>\n",
       "      <td>-6929.865299</td>\n",
       "      <td>35</td>\n",
       "      <td>ВЫСШЕЕ</td>\n",
       "      <td>0</td>\n",
       "      <td>гражданский брак</td>\n",
       "      <td>1</td>\n",
       "      <td>F</td>\n",
       "      <td>сотрудник</td>\n",
       "      <td>0</td>\n",
       "      <td>95856.832424</td>\n",
       "      <td>на проведение свадьбы</td>\n",
       "    </tr>\n",
       "    <tr>\n",
       "      <td>9</td>\n",
       "      <td>0</td>\n",
       "      <td>-2188.756445</td>\n",
       "      <td>41</td>\n",
       "      <td>среднее</td>\n",
       "      <td>1</td>\n",
       "      <td>женат / замужем</td>\n",
       "      <td>0</td>\n",
       "      <td>M</td>\n",
       "      <td>сотрудник</td>\n",
       "      <td>0</td>\n",
       "      <td>144425.938277</td>\n",
       "      <td>покупка жилья для семьи</td>\n",
       "    </tr>\n",
       "  </tbody>\n",
       "</table>\n",
       "</div>"
      ],
      "text/plain": [
       "   children  days_employed  dob_years education  education_id  \\\n",
       "0         1   -8437.673028         42    высшее             0   \n",
       "1         1   -4024.803754         36   среднее             1   \n",
       "2         0   -5623.422610         33   Среднее             1   \n",
       "3         3   -4124.747207         32   среднее             1   \n",
       "4         0  340266.072047         53   среднее             1   \n",
       "5         0    -926.185831         27    высшее             0   \n",
       "6         0   -2879.202052         43    высшее             0   \n",
       "7         0    -152.779569         50   СРЕДНЕЕ             1   \n",
       "8         2   -6929.865299         35    ВЫСШЕЕ             0   \n",
       "9         0   -2188.756445         41   среднее             1   \n",
       "\n",
       "      family_status  family_status_id gender income_type  debt   total_income  \\\n",
       "0   женат / замужем                 0      F   сотрудник     0  253875.639453   \n",
       "1   женат / замужем                 0      F   сотрудник     0  112080.014102   \n",
       "2   женат / замужем                 0      M   сотрудник     0  145885.952297   \n",
       "3   женат / замужем                 0      M   сотрудник     0  267628.550329   \n",
       "4  гражданский брак                 1      F   пенсионер     0  158616.077870   \n",
       "5  гражданский брак                 1      M   компаньон     0  255763.565419   \n",
       "6   женат / замужем                 0      F   компаньон     0  240525.971920   \n",
       "7   женат / замужем                 0      M   сотрудник     0  135823.934197   \n",
       "8  гражданский брак                 1      F   сотрудник     0   95856.832424   \n",
       "9   женат / замужем                 0      M   сотрудник     0  144425.938277   \n",
       "\n",
       "                      purpose  \n",
       "0               покупка жилья  \n",
       "1     приобретение автомобиля  \n",
       "2               покупка жилья  \n",
       "3  дополнительное образование  \n",
       "4             сыграть свадьбу  \n",
       "5               покупка жилья  \n",
       "6           операции с жильем  \n",
       "7                 образование  \n",
       "8       на проведение свадьбы  \n",
       "9     покупка жилья для семьи  "
      ]
     },
     "execution_count": 2,
     "metadata": {},
     "output_type": "execute_result"
    }
   ],
   "source": [
    "# Использование конструкции try-except, чтобы данные подгружались и локально, и глобально\n",
    "try:\n",
    "    data = pd.read_csv('C:/Users/datasets/data.csv')\n",
    "except:\n",
    "    data = pd.read_csv('/datasets/data.csv')\n",
    "\n",
    "data.head(10) # получение первых 10 строк датафрейма для ознакомления"
   ]
  },
  {
   "cell_type": "code",
   "execution_count": 3,
   "id": "aa25bc48",
   "metadata": {},
   "outputs": [
    {
     "name": "stdout",
     "output_type": "stream",
     "text": [
      "<class 'pandas.core.frame.DataFrame'>\n",
      "RangeIndex: 21525 entries, 0 to 21524\n",
      "Data columns (total 12 columns):\n",
      "children            21525 non-null int64\n",
      "days_employed       19351 non-null float64\n",
      "dob_years           21525 non-null int64\n",
      "education           21525 non-null object\n",
      "education_id        21525 non-null int64\n",
      "family_status       21525 non-null object\n",
      "family_status_id    21525 non-null int64\n",
      "gender              21525 non-null object\n",
      "income_type         21525 non-null object\n",
      "debt                21525 non-null int64\n",
      "total_income        19351 non-null float64\n",
      "purpose             21525 non-null object\n",
      "dtypes: float64(2), int64(5), object(5)\n",
      "memory usage: 2.0+ MB\n"
     ]
    }
   ],
   "source": [
    "data.info() # получение общей информации о датафрейме"
   ]
  },
  {
   "cell_type": "markdown",
   "id": "f604f76c",
   "metadata": {},
   "source": [
    "**Что нужно обработать**:\n",
    "- в столбцах `days_employed` и `total_income` есть пропущенные значения,\n",
    "- в столбце `days_employed` есть аномалии,\n",
    "- в столбце `education` есть дубликаты из-за разных регистров,\n",
    "- в столбце `total_income` и `days_employed` неудобный формат данных."
   ]
  },
  {
   "cell_type": "markdown",
   "id": "9a0a83d1",
   "metadata": {},
   "source": [
    "<div style=\"border:solid green 2px; padding: 20px\"> \n",
    "    \n",
    "**Комментарий ревьюера**\n",
    "\n",
    "**#ок**\n",
    "\n",
    "Данные верно загружены, правильно просмотрена общая информация.\n",
    "\n",
    "Дополнительно для поиска ошибок можно использовать `value_counts` для категориальных переменных и `describe` для получения информации о количественных переменных.\n",
    "\n",
    "</div>"
   ]
  },
  {
   "cell_type": "markdown",
   "id": "dcee1dde",
   "metadata": {},
   "source": [
    "### Шаг 2.1 Заполнение пропусков"
   ]
  },
  {
   "cell_type": "code",
   "execution_count": 4,
   "id": "c16ede4a",
   "metadata": {},
   "outputs": [
    {
     "data": {
      "text/html": [
       "<div>\n",
       "<style scoped>\n",
       "    .dataframe tbody tr th:only-of-type {\n",
       "        vertical-align: middle;\n",
       "    }\n",
       "\n",
       "    .dataframe tbody tr th {\n",
       "        vertical-align: top;\n",
       "    }\n",
       "\n",
       "    .dataframe thead th {\n",
       "        text-align: right;\n",
       "    }\n",
       "</style>\n",
       "<table border=\"1\" class=\"dataframe\">\n",
       "  <thead>\n",
       "    <tr style=\"text-align: right;\">\n",
       "      <th></th>\n",
       "      <th>children</th>\n",
       "      <th>days_employed</th>\n",
       "      <th>dob_years</th>\n",
       "      <th>education</th>\n",
       "      <th>education_id</th>\n",
       "      <th>family_status</th>\n",
       "      <th>family_status_id</th>\n",
       "      <th>gender</th>\n",
       "      <th>income_type</th>\n",
       "      <th>debt</th>\n",
       "      <th>total_income</th>\n",
       "      <th>purpose</th>\n",
       "    </tr>\n",
       "  </thead>\n",
       "  <tbody>\n",
       "    <tr>\n",
       "      <td>12</td>\n",
       "      <td>0</td>\n",
       "      <td>NaN</td>\n",
       "      <td>65</td>\n",
       "      <td>среднее</td>\n",
       "      <td>1</td>\n",
       "      <td>гражданский брак</td>\n",
       "      <td>1</td>\n",
       "      <td>M</td>\n",
       "      <td>пенсионер</td>\n",
       "      <td>0</td>\n",
       "      <td>NaN</td>\n",
       "      <td>сыграть свадьбу</td>\n",
       "    </tr>\n",
       "    <tr>\n",
       "      <td>26</td>\n",
       "      <td>0</td>\n",
       "      <td>NaN</td>\n",
       "      <td>41</td>\n",
       "      <td>среднее</td>\n",
       "      <td>1</td>\n",
       "      <td>женат / замужем</td>\n",
       "      <td>0</td>\n",
       "      <td>M</td>\n",
       "      <td>госслужащий</td>\n",
       "      <td>0</td>\n",
       "      <td>NaN</td>\n",
       "      <td>образование</td>\n",
       "    </tr>\n",
       "    <tr>\n",
       "      <td>29</td>\n",
       "      <td>0</td>\n",
       "      <td>NaN</td>\n",
       "      <td>63</td>\n",
       "      <td>среднее</td>\n",
       "      <td>1</td>\n",
       "      <td>Не женат / не замужем</td>\n",
       "      <td>4</td>\n",
       "      <td>F</td>\n",
       "      <td>пенсионер</td>\n",
       "      <td>0</td>\n",
       "      <td>NaN</td>\n",
       "      <td>строительство жилой недвижимости</td>\n",
       "    </tr>\n",
       "    <tr>\n",
       "      <td>41</td>\n",
       "      <td>0</td>\n",
       "      <td>NaN</td>\n",
       "      <td>50</td>\n",
       "      <td>среднее</td>\n",
       "      <td>1</td>\n",
       "      <td>женат / замужем</td>\n",
       "      <td>0</td>\n",
       "      <td>F</td>\n",
       "      <td>госслужащий</td>\n",
       "      <td>0</td>\n",
       "      <td>NaN</td>\n",
       "      <td>сделка с подержанным автомобилем</td>\n",
       "    </tr>\n",
       "    <tr>\n",
       "      <td>55</td>\n",
       "      <td>0</td>\n",
       "      <td>NaN</td>\n",
       "      <td>54</td>\n",
       "      <td>среднее</td>\n",
       "      <td>1</td>\n",
       "      <td>гражданский брак</td>\n",
       "      <td>1</td>\n",
       "      <td>F</td>\n",
       "      <td>пенсионер</td>\n",
       "      <td>1</td>\n",
       "      <td>NaN</td>\n",
       "      <td>сыграть свадьбу</td>\n",
       "    </tr>\n",
       "  </tbody>\n",
       "</table>\n",
       "</div>"
      ],
      "text/plain": [
       "    children  days_employed  dob_years education  education_id  \\\n",
       "12         0            NaN         65   среднее             1   \n",
       "26         0            NaN         41   среднее             1   \n",
       "29         0            NaN         63   среднее             1   \n",
       "41         0            NaN         50   среднее             1   \n",
       "55         0            NaN         54   среднее             1   \n",
       "\n",
       "            family_status  family_status_id gender  income_type  debt  \\\n",
       "12       гражданский брак                 1      M    пенсионер     0   \n",
       "26        женат / замужем                 0      M  госслужащий     0   \n",
       "29  Не женат / не замужем                 4      F    пенсионер     0   \n",
       "41        женат / замужем                 0      F  госслужащий     0   \n",
       "55       гражданский брак                 1      F    пенсионер     1   \n",
       "\n",
       "    total_income                           purpose  \n",
       "12           NaN                   сыграть свадьбу  \n",
       "26           NaN                       образование  \n",
       "29           NaN  строительство жилой недвижимости  \n",
       "41           NaN  сделка с подержанным автомобилем  \n",
       "55           NaN                   сыграть свадьбу  "
      ]
     },
     "execution_count": 4,
     "metadata": {},
     "output_type": "execute_result"
    }
   ],
   "source": [
    "# вывод начала таблицы с пропущенными значениями в столбце 'days_employed'\n",
    "data[data['days_employed'].isna()].head()"
   ]
  },
  {
   "cell_type": "code",
   "execution_count": 5,
   "id": "bb66c4d0",
   "metadata": {
    "scrolled": true
   },
   "outputs": [
    {
     "data": {
      "text/html": [
       "<div>\n",
       "<style scoped>\n",
       "    .dataframe tbody tr th:only-of-type {\n",
       "        vertical-align: middle;\n",
       "    }\n",
       "\n",
       "    .dataframe tbody tr th {\n",
       "        vertical-align: top;\n",
       "    }\n",
       "\n",
       "    .dataframe thead th {\n",
       "        text-align: right;\n",
       "    }\n",
       "</style>\n",
       "<table border=\"1\" class=\"dataframe\">\n",
       "  <thead>\n",
       "    <tr style=\"text-align: right;\">\n",
       "      <th></th>\n",
       "      <th>children</th>\n",
       "      <th>days_employed</th>\n",
       "      <th>dob_years</th>\n",
       "      <th>education</th>\n",
       "      <th>education_id</th>\n",
       "      <th>family_status</th>\n",
       "      <th>family_status_id</th>\n",
       "      <th>gender</th>\n",
       "      <th>income_type</th>\n",
       "      <th>debt</th>\n",
       "      <th>total_income</th>\n",
       "      <th>purpose</th>\n",
       "    </tr>\n",
       "  </thead>\n",
       "  <tbody>\n",
       "    <tr>\n",
       "      <td>12</td>\n",
       "      <td>0</td>\n",
       "      <td>NaN</td>\n",
       "      <td>65</td>\n",
       "      <td>среднее</td>\n",
       "      <td>1</td>\n",
       "      <td>гражданский брак</td>\n",
       "      <td>1</td>\n",
       "      <td>M</td>\n",
       "      <td>пенсионер</td>\n",
       "      <td>0</td>\n",
       "      <td>NaN</td>\n",
       "      <td>сыграть свадьбу</td>\n",
       "    </tr>\n",
       "    <tr>\n",
       "      <td>26</td>\n",
       "      <td>0</td>\n",
       "      <td>NaN</td>\n",
       "      <td>41</td>\n",
       "      <td>среднее</td>\n",
       "      <td>1</td>\n",
       "      <td>женат / замужем</td>\n",
       "      <td>0</td>\n",
       "      <td>M</td>\n",
       "      <td>госслужащий</td>\n",
       "      <td>0</td>\n",
       "      <td>NaN</td>\n",
       "      <td>образование</td>\n",
       "    </tr>\n",
       "    <tr>\n",
       "      <td>29</td>\n",
       "      <td>0</td>\n",
       "      <td>NaN</td>\n",
       "      <td>63</td>\n",
       "      <td>среднее</td>\n",
       "      <td>1</td>\n",
       "      <td>Не женат / не замужем</td>\n",
       "      <td>4</td>\n",
       "      <td>F</td>\n",
       "      <td>пенсионер</td>\n",
       "      <td>0</td>\n",
       "      <td>NaN</td>\n",
       "      <td>строительство жилой недвижимости</td>\n",
       "    </tr>\n",
       "    <tr>\n",
       "      <td>41</td>\n",
       "      <td>0</td>\n",
       "      <td>NaN</td>\n",
       "      <td>50</td>\n",
       "      <td>среднее</td>\n",
       "      <td>1</td>\n",
       "      <td>женат / замужем</td>\n",
       "      <td>0</td>\n",
       "      <td>F</td>\n",
       "      <td>госслужащий</td>\n",
       "      <td>0</td>\n",
       "      <td>NaN</td>\n",
       "      <td>сделка с подержанным автомобилем</td>\n",
       "    </tr>\n",
       "    <tr>\n",
       "      <td>55</td>\n",
       "      <td>0</td>\n",
       "      <td>NaN</td>\n",
       "      <td>54</td>\n",
       "      <td>среднее</td>\n",
       "      <td>1</td>\n",
       "      <td>гражданский брак</td>\n",
       "      <td>1</td>\n",
       "      <td>F</td>\n",
       "      <td>пенсионер</td>\n",
       "      <td>1</td>\n",
       "      <td>NaN</td>\n",
       "      <td>сыграть свадьбу</td>\n",
       "    </tr>\n",
       "  </tbody>\n",
       "</table>\n",
       "</div>"
      ],
      "text/plain": [
       "    children  days_employed  dob_years education  education_id  \\\n",
       "12         0            NaN         65   среднее             1   \n",
       "26         0            NaN         41   среднее             1   \n",
       "29         0            NaN         63   среднее             1   \n",
       "41         0            NaN         50   среднее             1   \n",
       "55         0            NaN         54   среднее             1   \n",
       "\n",
       "            family_status  family_status_id gender  income_type  debt  \\\n",
       "12       гражданский брак                 1      M    пенсионер     0   \n",
       "26        женат / замужем                 0      M  госслужащий     0   \n",
       "29  Не женат / не замужем                 4      F    пенсионер     0   \n",
       "41        женат / замужем                 0      F  госслужащий     0   \n",
       "55       гражданский брак                 1      F    пенсионер     1   \n",
       "\n",
       "    total_income                           purpose  \n",
       "12           NaN                   сыграть свадьбу  \n",
       "26           NaN                       образование  \n",
       "29           NaN  строительство жилой недвижимости  \n",
       "41           NaN  сделка с подержанным автомобилем  \n",
       "55           NaN                   сыграть свадьбу  "
      ]
     },
     "execution_count": 5,
     "metadata": {},
     "output_type": "execute_result"
    }
   ],
   "source": [
    "# вывод начала таблицы с пропущенными значениями в столбце 'total_income'\n",
    "data[data['total_income'].isna()].head()"
   ]
  },
  {
   "cell_type": "code",
   "execution_count": 6,
   "id": "b06c6ad1",
   "metadata": {},
   "outputs": [
    {
     "data": {
      "text/plain": [
       "children               0\n",
       "days_employed       2174\n",
       "dob_years              0\n",
       "education              0\n",
       "education_id           0\n",
       "family_status          0\n",
       "family_status_id       0\n",
       "gender                 0\n",
       "income_type            0\n",
       "debt                   0\n",
       "total_income        2174\n",
       "purpose                0\n",
       "dtype: int64"
      ]
     },
     "execution_count": 6,
     "metadata": {},
     "output_type": "execute_result"
    }
   ],
   "source": [
    "data.isna().sum() # подсчёт пропущенных значений"
   ]
  },
  {
   "cell_type": "markdown",
   "id": "e20a7655",
   "metadata": {},
   "source": [
    "Посчитаем долю пропущенных значений в каждом из столбцов с пропусками."
   ]
  },
  {
   "cell_type": "code",
   "execution_count": 7,
   "id": "f6f1be57",
   "metadata": {},
   "outputs": [
    {
     "name": "stdout",
     "output_type": "stream",
     "text": [
      "11.23%\n"
     ]
    }
   ],
   "source": [
    "days_employed_nan_share = (len(data[data['days_employed'].isna()]))/(data['days_employed'].count())\n",
    "\n",
    "print(f'{days_employed_nan_share:.2%}') # доля пропущенных значений в столбце `days_employed`"
   ]
  },
  {
   "cell_type": "code",
   "execution_count": 8,
   "id": "bc20b806",
   "metadata": {},
   "outputs": [
    {
     "name": "stdout",
     "output_type": "stream",
     "text": [
      "11.23%\n"
     ]
    }
   ],
   "source": [
    "total_income_nan_share = (len(data[data['total_income'].isna()]))/(data['total_income'].count())\n",
    "\n",
    "print(f'{total_income_nan_share:.2%}') # доля пропущенных значений в столбце `total_income`"
   ]
  },
  {
   "cell_type": "markdown",
   "id": "185b8735",
   "metadata": {},
   "source": [
    "<div style=\"border:solid green 2px; padding: 20px\"> \n",
    "    \n",
    "**Комментарий ревьюера**\n",
    "\n",
    "**#ок**\n",
    "\n",
    "Отлично рассчитан процент пропусков. Долю пропусков можно посчитать и в таблице, например так\n",
    "\n",
    "    (df.isna().mean()*100).round(1)\n",
    "</div>"
   ]
  },
  {
   "cell_type": "markdown",
   "id": "de2063f6",
   "metadata": {},
   "source": [
    "Пропущенные значения принимают значения NaN. Причем строки и их количество с пропущенными значениям в столбцах `days_employed` и `total_income` совпадают, значит есть зависимость между пропущенными значениям в этих столбцах. Вероятно, отсутствие количества рабочих дней могло привести к невозможности определения окончательного дохода.\n",
    "\n",
    "И в одном, и в другом столбце пропущены именно количественные переменные, поэтому можно заполнить пропуски средним значением столбца или медианным. Поскольку разброс значений числового ряда и в том, и другом случае, слишком большой, то среднее значение не отобразит действительной картины. Поэтому лучше заменить числовой ряд тем значением, которое находится посередине."
   ]
  },
  {
   "cell_type": "markdown",
   "id": "865ee72e",
   "metadata": {},
   "source": [
    "<div style=\"border:solid green 2px; padding: 20px\"> \n",
    "    \n",
    "**Комментарий ревьюера**\n",
    "\n",
    "**#ок**\n",
    "\n",
    "Ты все верно отметила. Можно проверить, что пропуски в данных в точности совпадают, т.е. доход и стаж пропущены в одних и техже строках. Для этого надо вывести подтаблицу с двойным условием data['total_income'].isna() и ~data['days_employed'].isna(). Т.е. чтобы в доходе пропуски были, а в стаже не было. Мы бы получили пустую таблицу\n",
    "</div>"
   ]
  },
  {
   "cell_type": "code",
   "execution_count": 9,
   "id": "bda55f9c",
   "metadata": {},
   "outputs": [
    {
     "data": {
      "text/plain": [
       "children            0\n",
       "days_employed       0\n",
       "dob_years           0\n",
       "education           0\n",
       "education_id        0\n",
       "family_status       0\n",
       "family_status_id    0\n",
       "gender              0\n",
       "income_type         0\n",
       "debt                0\n",
       "total_income        0\n",
       "purpose             0\n",
       "dtype: int64"
      ]
     },
     "execution_count": 9,
     "metadata": {},
     "output_type": "execute_result"
    }
   ],
   "source": [
    "data['days_employed'] = data['days_employed'].fillna(data['days_employed'].median()) # замена пропущенных значений в столбце 'days_employed'\n",
    "\n",
    "data['total_income'] = data['total_income'].fillna(data['total_income'].median()) # замена пропущенных значений в столбце 'total_income'\n",
    "\n",
    "data.isna().sum() # проверка, что больше нет пропущенных значений"
   ]
  },
  {
   "cell_type": "markdown",
   "id": "a2bad1f8",
   "metadata": {},
   "source": [
    "<div style=\"border:solid green 2px; padding: 20px\"> \n",
    "    \n",
    "**Комментарий ревьюера**\n",
    "\n",
    "**#ок**\n",
    "\n",
    "Заполнение медианой - правильное решение. В данных есть выбросы, а медиана наименее чувствительна к ним\n",
    "\n",
    "В принципе можно было не создавать дополнительных переменных, а рассчитывать медиану непосредственно при заполнении\n",
    "\n",
    "    data['total_income'] = data['total_income'].fillna(data['total_income'].median())\n",
    "\n",
    "</div>"
   ]
  },
  {
   "cell_type": "markdown",
   "id": "cec1bc99",
   "metadata": {},
   "source": [
    "### Шаг 2.2 Проверка данных на аномалии и исправления."
   ]
  },
  {
   "cell_type": "markdown",
   "id": "974fa1cf",
   "metadata": {},
   "source": [
    "Для поиска аномалий в столбцах с категориальными переменными а также с количественными, но где диапазон значений небольшой, применим метод `value_counts()`. Так как с помощью него можно увидеть и значения, и оценить количество аномальных значений для последующего принятия решения, как избавиться от этих аномалий.\n",
    "\n",
    "Для поиска анамолий в количественных переменных большого диапазона применим метод `unique()` в сочетании с `sort_values()`, чтобы увидеть начало и конец диапазона, и оценить их соответствие столбцам."
   ]
  },
  {
   "cell_type": "code",
   "execution_count": 10,
   "id": "176deffd",
   "metadata": {},
   "outputs": [
    {
     "data": {
      "text/plain": [
       " 0     14149\n",
       " 1      4818\n",
       " 2      2055\n",
       " 3       330\n",
       " 20       76\n",
       "-1        47\n",
       " 4        41\n",
       " 5         9\n",
       "Name: children, dtype: int64"
      ]
     },
     "metadata": {},
     "output_type": "display_data"
    }
   ],
   "source": [
    "display(data['children'].value_counts()) # проверка значений на аномалии в столбце 'children'"
   ]
  },
  {
   "cell_type": "markdown",
   "id": "d3d46a0e",
   "metadata": {},
   "source": [
    "Не может быть отрицательное число детей и 20 детей у 76 человек (учитывая, что даже 5 детей только у 9 человек) - это аномалия. Можно предположить, что -1 это число 1, а 20 это 2, просто при наборе произошла опечатка. И так как количество таких строк небольшое и составляет 0,6%, то замена этих значений не сыграет большой роли."
   ]
  },
  {
   "cell_type": "code",
   "execution_count": 11,
   "id": "fd15dba1",
   "metadata": {},
   "outputs": [
    {
     "data": {
      "text/plain": [
       "0    14149\n",
       "1     4865\n",
       "2     2131\n",
       "3      330\n",
       "4       41\n",
       "5        9\n",
       "Name: children, dtype: int64"
      ]
     },
     "execution_count": 11,
     "metadata": {},
     "output_type": "execute_result"
    }
   ],
   "source": [
    "data['children'] = data['children'].replace(-1, 1) # замена -1 на 1\n",
    "data['children'] = data['children'].replace(20, 2) # замена 20 на 2\n",
    "data['children'].value_counts() # проверка новых значений"
   ]
  },
  {
   "cell_type": "code",
   "execution_count": 12,
   "id": "0c8584a0",
   "metadata": {},
   "outputs": [
    {
     "data": {
      "text/plain": [
       "array([ 0, 19, 20, 21, 22, 23, 24, 25, 26, 27, 28, 29, 30, 31, 32, 33, 34,\n",
       "       35, 36, 37, 38, 39, 40, 41, 42, 43, 44, 45, 46, 47, 48, 49, 50, 51,\n",
       "       52, 53, 54, 55, 56, 57, 58, 59, 60, 61, 62, 63, 64, 65, 66, 67, 68,\n",
       "       69, 70, 71, 72, 73, 74, 75])"
      ]
     },
     "execution_count": 12,
     "metadata": {},
     "output_type": "execute_result"
    }
   ],
   "source": [
    "data['dob_years'].sort_values().unique() # проверка значений на аномалии в столбце 'dob_years'"
   ]
  },
  {
   "cell_type": "code",
   "execution_count": 13,
   "id": "b2bd019d",
   "metadata": {},
   "outputs": [
    {
     "data": {
      "text/plain": [
       "101"
      ]
     },
     "execution_count": 13,
     "metadata": {},
     "output_type": "execute_result"
    }
   ],
   "source": [
    "data[data['dob_years'] == 0]['dob_years'].count() # количество значений с возрастом 0"
   ]
  },
  {
   "cell_type": "markdown",
   "id": "472ad2d4",
   "metadata": {},
   "source": [
    "Возраст равен 0 - аномалия. Такие данные могли появиться, если у кого-то из клиентов в анкете не указан возраст. Их количество составляет меньше процента от всей выборки, что не должно повлиять на результаты, если мы заменим значение на среднее значение ряда."
   ]
  },
  {
   "cell_type": "code",
   "execution_count": 14,
   "id": "b445d943",
   "metadata": {},
   "outputs": [
    {
     "data": {
      "text/plain": [
       "array([19, 20, 21, 22, 23, 24, 25, 26, 27, 28, 29, 30, 31, 32, 33, 34, 35,\n",
       "       36, 37, 38, 39, 40, 41, 42, 43, 44, 45, 46, 47, 48, 49, 50, 51, 52,\n",
       "       53, 54, 55, 56, 57, 58, 59, 60, 61, 62, 63, 64, 65, 66, 67, 68, 69,\n",
       "       70, 71, 72, 73, 74, 75])"
      ]
     },
     "execution_count": 14,
     "metadata": {},
     "output_type": "execute_result"
    }
   ],
   "source": [
    "data['dob_years'] = data['dob_years'].replace(0, data['dob_years'].median())\n",
    "data['dob_years'].sort_values().unique() # проверка новых значений"
   ]
  },
  {
   "cell_type": "code",
   "execution_count": 15,
   "id": "ce1246ae",
   "metadata": {},
   "outputs": [
    {
     "data": {
      "text/plain": [
       "array([-18388.94990057, -17615.56326563, -16593.47281726, ...,\n",
       "       401675.09343386, 401715.81174889, 401755.40047533])"
      ]
     },
     "execution_count": 15,
     "metadata": {},
     "output_type": "execute_result"
    }
   ],
   "source": [
    "data['days_employed'].sort_values().unique() # проверка значений на аномалии в столбце 'days_employed'"
   ]
  },
  {
   "cell_type": "code",
   "execution_count": 16,
   "id": "f94a528d",
   "metadata": {},
   "outputs": [
    {
     "data": {
      "text/plain": [
       "18080"
      ]
     },
     "execution_count": 16,
     "metadata": {},
     "output_type": "execute_result"
    }
   ],
   "source": [
    "data[data['days_employed'] <= 0]['days_employed'].count() # количество строк с отрицательным значением дней работы"
   ]
  },
  {
   "cell_type": "markdown",
   "id": "ac030c6d",
   "metadata": {},
   "source": [
    "18080 строк с отрицательным значением дней работы это очень большой показатель, значит, ошибка была достаточно распространённая. Вероятно, она произошла из-за того, что значение этого столбца получали путем вычитания даты заполнения данных и даты начала рабочего стажа. Чтобы избавиться от отрицательных значений, возьмём модуль всех чисел в столбце. А для более удобного формата представления данных переведём дни работы в года, и,\n",
    "соответственно, переименуем столбец."
   ]
  },
  {
   "cell_type": "code",
   "execution_count": 17,
   "id": "b1c92831",
   "metadata": {
    "scrolled": true
   },
   "outputs": [],
   "source": [
    "data['days_employed'] = (abs(data['days_employed']))/365 # замена значений столбца на положительные и перевод в года\n",
    "\n",
    "data = data.rename(columns={'days_employed': 'years_employed'}) #переименование столбца"
   ]
  },
  {
   "cell_type": "code",
   "execution_count": 18,
   "id": "be4a1447",
   "metadata": {},
   "outputs": [
    {
     "data": {
      "text/plain": [
       "среднее                13750\n",
       "высшее                  4718\n",
       "СРЕДНЕЕ                  772\n",
       "Среднее                  711\n",
       "неоконченное высшее      668\n",
       "ВЫСШЕЕ                   274\n",
       "Высшее                   268\n",
       "начальное                250\n",
       "Неоконченное высшее       47\n",
       "НЕОКОНЧЕННОЕ ВЫСШЕЕ       29\n",
       "НАЧАЛЬНОЕ                 17\n",
       "Начальное                 15\n",
       "ученая степень             4\n",
       "УЧЕНАЯ СТЕПЕНЬ             1\n",
       "Ученая степень             1\n",
       "Name: education, dtype: int64"
      ]
     },
     "execution_count": 18,
     "metadata": {},
     "output_type": "execute_result"
    }
   ],
   "source": [
    "data['education'].value_counts() # проверка значений на аномалии в столбце 'education'"
   ]
  },
  {
   "cell_type": "markdown",
   "id": "499d9204",
   "metadata": {},
   "source": [
    "В столбце `education` встречаются только дубликаты, исправим их позже."
   ]
  },
  {
   "cell_type": "code",
   "execution_count": 19,
   "id": "dce8c65a",
   "metadata": {},
   "outputs": [
    {
     "data": {
      "text/plain": [
       "женат / замужем          12380\n",
       "гражданский брак          4177\n",
       "Не женат / не замужем     2813\n",
       "в разводе                 1195\n",
       "вдовец / вдова             960\n",
       "Name: family_status, dtype: int64"
      ]
     },
     "execution_count": 19,
     "metadata": {},
     "output_type": "execute_result"
    }
   ],
   "source": [
    "data['family_status'].value_counts() # проверка значений на аномалии в столбце 'family_status'"
   ]
  },
  {
   "cell_type": "markdown",
   "id": "2f95f1d1",
   "metadata": {},
   "source": [
    " В столбце `family_status` аномалий нет."
   ]
  },
  {
   "cell_type": "code",
   "execution_count": 20,
   "id": "f595922a",
   "metadata": {},
   "outputs": [
    {
     "data": {
      "text/plain": [
       "F      14236\n",
       "M       7288\n",
       "XNA        1\n",
       "Name: gender, dtype: int64"
      ]
     },
     "execution_count": 20,
     "metadata": {},
     "output_type": "execute_result"
    }
   ],
   "source": [
    "data['gender'].value_counts() # проверка значений на аномалии в столбце 'gender'"
   ]
  },
  {
   "cell_type": "code",
   "execution_count": 21,
   "id": "5001a480",
   "metadata": {},
   "outputs": [
    {
     "data": {
      "text/html": [
       "<div>\n",
       "<style scoped>\n",
       "    .dataframe tbody tr th:only-of-type {\n",
       "        vertical-align: middle;\n",
       "    }\n",
       "\n",
       "    .dataframe tbody tr th {\n",
       "        vertical-align: top;\n",
       "    }\n",
       "\n",
       "    .dataframe thead th {\n",
       "        text-align: right;\n",
       "    }\n",
       "</style>\n",
       "<table border=\"1\" class=\"dataframe\">\n",
       "  <thead>\n",
       "    <tr style=\"text-align: right;\">\n",
       "      <th></th>\n",
       "      <th>children</th>\n",
       "      <th>years_employed</th>\n",
       "      <th>dob_years</th>\n",
       "      <th>education</th>\n",
       "      <th>education_id</th>\n",
       "      <th>family_status</th>\n",
       "      <th>family_status_id</th>\n",
       "      <th>gender</th>\n",
       "      <th>income_type</th>\n",
       "      <th>debt</th>\n",
       "      <th>total_income</th>\n",
       "      <th>purpose</th>\n",
       "    </tr>\n",
       "  </thead>\n",
       "  <tbody>\n",
       "    <tr>\n",
       "      <td>10701</td>\n",
       "      <td>0</td>\n",
       "      <td>6.461919</td>\n",
       "      <td>24</td>\n",
       "      <td>неоконченное высшее</td>\n",
       "      <td>2</td>\n",
       "      <td>гражданский брак</td>\n",
       "      <td>1</td>\n",
       "      <td>XNA</td>\n",
       "      <td>компаньон</td>\n",
       "      <td>0</td>\n",
       "      <td>203905.157261</td>\n",
       "      <td>покупка недвижимости</td>\n",
       "    </tr>\n",
       "  </tbody>\n",
       "</table>\n",
       "</div>"
      ],
      "text/plain": [
       "       children  years_employed  dob_years            education  education_id  \\\n",
       "10701         0        6.461919         24  неоконченное высшее             2   \n",
       "\n",
       "          family_status  family_status_id gender income_type  debt  \\\n",
       "10701  гражданский брак                 1    XNA   компаньон     0   \n",
       "\n",
       "        total_income               purpose  \n",
       "10701  203905.157261  покупка недвижимости  "
      ]
     },
     "execution_count": 21,
     "metadata": {},
     "output_type": "execute_result"
    }
   ],
   "source": [
    "data[data['gender'] == 'XNA']"
   ]
  },
  {
   "cell_type": "markdown",
   "id": "d65fc76d",
   "metadata": {},
   "source": [
    "В данном столбце есть аномалия - пол XNA. Случайное значение, которое не сыграет роли. Заменим его на любой пол."
   ]
  },
  {
   "cell_type": "code",
   "execution_count": 22,
   "id": "2c1f4373",
   "metadata": {},
   "outputs": [
    {
     "data": {
      "text/plain": [
       "F    14237\n",
       "M     7288\n",
       "Name: gender, dtype: int64"
      ]
     },
     "execution_count": 22,
     "metadata": {},
     "output_type": "execute_result"
    }
   ],
   "source": [
    "data['gender'] = data['gender'].replace('XNA', 'F')\n",
    "\n",
    "data['gender'].value_counts() # проверка нового значения"
   ]
  },
  {
   "cell_type": "code",
   "execution_count": 23,
   "id": "b032bab0",
   "metadata": {},
   "outputs": [
    {
     "data": {
      "text/plain": [
       "сотрудник          11119\n",
       "компаньон           5085\n",
       "пенсионер           3856\n",
       "госслужащий         1459\n",
       "предприниматель        2\n",
       "безработный            2\n",
       "студент                1\n",
       "в декрете              1\n",
       "Name: income_type, dtype: int64"
      ]
     },
     "execution_count": 23,
     "metadata": {},
     "output_type": "execute_result"
    }
   ],
   "source": [
    "data['income_type'].value_counts() # проверка значений на аномалии в столбце 'income_type'"
   ]
  },
  {
   "cell_type": "code",
   "execution_count": 24,
   "id": "cc59a4e3",
   "metadata": {},
   "outputs": [
    {
     "data": {
      "text/plain": [
       "0    19784\n",
       "1     1741\n",
       "Name: debt, dtype: int64"
      ]
     },
     "execution_count": 24,
     "metadata": {},
     "output_type": "execute_result"
    }
   ],
   "source": [
    "data['debt'].value_counts()  # проверка значений на аномалии в столбце 'debt'"
   ]
  },
  {
   "cell_type": "markdown",
   "id": "1980bce6",
   "metadata": {},
   "source": [
    " В столбцах `income_type`, `debt` аномалий нет."
   ]
  },
  {
   "cell_type": "code",
   "execution_count": 25,
   "id": "b9c96c8b",
   "metadata": {
    "scrolled": true
   },
   "outputs": [
    {
     "data": {
      "text/plain": [
       "count    2.152500e+04\n",
       "mean     1.651595e+05\n",
       "std      9.786607e+04\n",
       "min      2.066726e+04\n",
       "25%      1.077982e+05\n",
       "50%      1.450179e+05\n",
       "75%      1.955436e+05\n",
       "max      2.265604e+06\n",
       "Name: total_income, dtype: float64"
      ]
     },
     "execution_count": 25,
     "metadata": {},
     "output_type": "execute_result"
    }
   ],
   "source": [
    "data['total_income'].describe() # проверка значений на аномалии в столбце 'total_income'"
   ]
  },
  {
   "cell_type": "markdown",
   "id": "ca4185b4",
   "metadata": {},
   "source": [
    "<div style=\"border:solid green 2px; padding: 20px\"> \n",
    "    \n",
    "**Комментарий ревьюера**\n",
    "\n",
    "**#ок**\n",
    "\n",
    "Доход - это количественная переменная, для нее лучше использовать `describe`\n",
    "\n",
    "    data['total_income'].describe()\n",
    "    \n",
    "Также для вывода на печать здесь в остальных ячейках не нужно использовать `display`. Последняя (она же единственная) ячейка в таблице выводится автоматически\n",
    "</div>"
   ]
  },
  {
   "cell_type": "markdown",
   "id": "6b703b5a",
   "metadata": {},
   "source": [
    "<div style=\"border:solid blue 2px; padding: 20px\"> \n",
    "    \n",
    "**Комментарий**   \n",
    "    Не помню такой метод `describe` в теме Предобработка данных, попробовала его применить и не совсем поняла, что в результате вывел код. Ещё и числа в экспоненциальном виде записаны."
   ]
  },
  {
   "cell_type": "markdown",
   "id": "5bdda17a",
   "metadata": {},
   "source": [
    "<div style=\"border:solid green 2px; padding: 20px\"> \n",
    "    \n",
    "**Комментарий ревьюера - 2**\n",
    "\n",
    "**#ок**\n",
    "\n",
    "В итоге тебе вывелись сразу все статистики: количество зваписей, среднее значение, стандартное отклонение, максимальное/минимальное значения и квантили (50% квантиль - это медиана)\n",
    "</div>"
   ]
  },
  {
   "cell_type": "markdown",
   "id": "6aea3729",
   "metadata": {},
   "source": [
    "В столбце `total_income` аномалий нет, все значения лежат в правдоподобном диапазоне."
   ]
  },
  {
   "cell_type": "code",
   "execution_count": 26,
   "id": "2ce2279c",
   "metadata": {},
   "outputs": [
    {
     "data": {
      "text/plain": [
       "array(['автомобили', 'автомобиль', 'высшее образование',\n",
       "       'дополнительное образование', 'жилье',\n",
       "       'заняться высшим образованием', 'заняться образованием',\n",
       "       'на покупку автомобиля', 'на покупку подержанного автомобиля',\n",
       "       'на покупку своего автомобиля', 'на проведение свадьбы',\n",
       "       'недвижимость', 'образование', 'операции с жильем',\n",
       "       'операции с коммерческой недвижимостью',\n",
       "       'операции с недвижимостью', 'операции со своей недвижимостью',\n",
       "       'покупка жилой недвижимости', 'покупка жилья',\n",
       "       'покупка жилья для сдачи', 'покупка жилья для семьи',\n",
       "       'покупка коммерческой недвижимости', 'покупка недвижимости',\n",
       "       'покупка своего жилья', 'получение высшего образования',\n",
       "       'получение дополнительного образования', 'получение образования',\n",
       "       'приобретение автомобиля', 'профильное образование',\n",
       "       'ремонт жилью', 'свадьба', 'свой автомобиль',\n",
       "       'сделка с автомобилем', 'сделка с подержанным автомобилем',\n",
       "       'строительство жилой недвижимости', 'строительство недвижимости',\n",
       "       'строительство собственной недвижимости', 'сыграть свадьбу'],\n",
       "      dtype=object)"
      ]
     },
     "execution_count": 26,
     "metadata": {},
     "output_type": "execute_result"
    }
   ],
   "source": [
    "data['purpose'].sort_values().unique() # проверка значений на аномалии в столбце 'purpose'"
   ]
  },
  {
   "cell_type": "markdown",
   "id": "0a602fdd",
   "metadata": {},
   "source": [
    "В данном столбце также есть неявные дубликаты, разберем их в дальнейших шагах."
   ]
  },
  {
   "cell_type": "markdown",
   "id": "63f63059",
   "metadata": {},
   "source": [
    "<div style=\"border:solid green 2px; padding: 20px\"> \n",
    "    \n",
    "**Комментарий ревьюера**\n",
    "\n",
    "**#ок**\n",
    "\n",
    "Отлично, все ошибки (их можно считать неявными пропусками данных) исправлены верно\n",
    "</div>"
   ]
  },
  {
   "cell_type": "markdown",
   "id": "91ca9b76",
   "metadata": {},
   "source": [
    "### Шаг 2.3. Изменение типов данных."
   ]
  },
  {
   "cell_type": "markdown",
   "id": "d08c379f",
   "metadata": {},
   "source": [
    "Для удобства предоставления, а также обработки данных приведем значения в столбцах `total_income` и `years_employed` к целочисленному типу данных. А значения столбца debt к типу bool."
   ]
  },
  {
   "cell_type": "code",
   "execution_count": 27,
   "id": "2cfb2fb1",
   "metadata": {},
   "outputs": [
    {
     "name": "stdout",
     "output_type": "stream",
     "text": [
      "<class 'pandas.core.frame.DataFrame'>\n",
      "RangeIndex: 21525 entries, 0 to 21524\n",
      "Data columns (total 12 columns):\n",
      "children            21525 non-null int64\n",
      "years_employed      21525 non-null int64\n",
      "dob_years           21525 non-null int64\n",
      "education           21525 non-null object\n",
      "education_id        21525 non-null int64\n",
      "family_status       21525 non-null object\n",
      "family_status_id    21525 non-null int64\n",
      "gender              21525 non-null object\n",
      "income_type         21525 non-null object\n",
      "debt                21525 non-null bool\n",
      "total_income        21525 non-null int64\n",
      "purpose             21525 non-null object\n",
      "dtypes: bool(1), int64(6), object(5)\n",
      "memory usage: 1.8+ MB\n"
     ]
    }
   ],
   "source": [
    "data['total_income'] = data['total_income'].astype('int')\n",
    "data['years_employed'] = data['years_employed'].astype('int')\n",
    "data['debt'] = data['debt'].astype('bool')\n",
    "data.info() # проверка исправления"
   ]
  },
  {
   "cell_type": "markdown",
   "id": "f744c762",
   "metadata": {},
   "source": [
    "<div style=\"border:solid green 2px; padding: 20px\"> \n",
    "    \n",
    "**Комментарий ревьюера**\n",
    "\n",
    "**#ок**\n",
    "\n",
    "Ты верно заменила типы данных. Дополнительно можно было debt сделать bool\n",
    "\n",
    "В качестве итога стоило ввывести info(), чтобы посмотреть результат исправления\n",
    "\n",
    "</div>"
   ]
  },
  {
   "cell_type": "markdown",
   "id": "0c718c41",
   "metadata": {},
   "source": [
    "### Шаг 2.4. Удаление дубликатов."
   ]
  },
  {
   "cell_type": "markdown",
   "id": "95edd610",
   "metadata": {},
   "source": [
    "В шаге 2.2 при проверке на аномалии был обнаружен столбец `education` с неявными дубликатами, для дальнейшего анализа необходимо от них избавиться путём перевода значений в нижний регистр. А далее проверить всю таблицу на явные дубликаты."
   ]
  },
  {
   "cell_type": "code",
   "execution_count": 28,
   "id": "feb4430b",
   "metadata": {},
   "outputs": [
    {
     "data": {
      "text/plain": [
       "среднее                15233\n",
       "высшее                  5260\n",
       "неоконченное высшее      744\n",
       "начальное                282\n",
       "ученая степень             6\n",
       "Name: education, dtype: int64"
      ]
     },
     "execution_count": 28,
     "metadata": {},
     "output_type": "execute_result"
    }
   ],
   "source": [
    "data['education'] = data['education'].str.lower() # перевод значений в столбце 'education' в нижний регистр \n",
    "\n",
    "data['education'].value_counts() # проверка отсутсвия неявных дубликатов"
   ]
  },
  {
   "cell_type": "code",
   "execution_count": 29,
   "id": "c43bedb7",
   "metadata": {},
   "outputs": [
    {
     "data": {
      "text/plain": [
       "72"
      ]
     },
     "execution_count": 29,
     "metadata": {},
     "output_type": "execute_result"
    }
   ],
   "source": [
    "data.duplicated().sum() # подсчёт явных дубликатов"
   ]
  },
  {
   "cell_type": "code",
   "execution_count": 30,
   "id": "9faa2949",
   "metadata": {},
   "outputs": [
    {
     "data": {
      "text/plain": [
       "0"
      ]
     },
     "execution_count": 30,
     "metadata": {},
     "output_type": "execute_result"
    }
   ],
   "source": [
    "data = data.drop_duplicates().reset_index(drop=True) # удаление дубликатов с перезаписью индексов\n",
    "data.duplicated().sum() # проверка, что дубликатов не осталось"
   ]
  },
  {
   "cell_type": "markdown",
   "id": "cf9a17ce",
   "metadata": {},
   "source": [
    "<div style=\"border:solid red 2px; padding: 20px\"> \n",
    "    \n",
    "**Комментарий ревьюера**\n",
    "\n",
    "**#ошибка**\n",
    "\n",
    "Выведи, пожалуйста, сколько дубликатов у нас было.\n",
    "    \n",
    "Также сделай проверку, что их действительно не осталось после удаления и покажи это явно\n",
    "</div>"
   ]
  },
  {
   "cell_type": "markdown",
   "id": "b0e72df2",
   "metadata": {},
   "source": [
    "<div style=\"border:solid blue 2px; padding: 20px\">\n",
    "    \n",
    "**Комментарий**\n",
    "    \n",
    "Подсчёт дубликатов был, но в одной и той же ячейке, что и их удаление, поэтому количество не вывелось. Исправила это и выделила первоначальный подсчёт в отдельную ячейку."
   ]
  },
  {
   "cell_type": "markdown",
   "id": "2718919d",
   "metadata": {},
   "source": [
    "<div style=\"border:solid green 2px; padding: 20px\"> \n",
    "    \n",
    "**Комментарий ревьюера - 2**\n",
    "\n",
    "**#ок**\n",
    "\n",
    "Хорошо, теперь верно\n",
    "</div>"
   ]
  },
  {
   "cell_type": "markdown",
   "id": "55ea0d82",
   "metadata": {},
   "source": [
    "Для выявления аномалий и неявных дубликатов в каждом столбце использовался метод `value_counts()`, с помощью которого можно увидеть все значения столбца и их частоту. \n",
    "\n",
    "Если дубликаты есть среди значений числового типа, то их метод покажет в самом начале, что может указывать на присутствие дубликатов. Или покажет числа, которые не характерны для описания данного столбца (например, отрицательное количество детей).\n",
    "Если дубликаты среди текстовых значений, то есть возможность вручную проверить дубликаты, которые образовались из-за регситра, ввода латиницы/кириллицы, пропуска букв и т.п.\n",
    "\n",
    "После замены таких дубликатов использовался метод drop_duplicates() для удаления дубликатов во всём датафрейме.\n",
    "\n",
    "К появлению дубликатов в столбце `education` могло привести отсутствие регламента по внесению данных из анкеты в электронную базу данных, поэтому кто-то использовал нижний регистр, а кто-то верхний.\n",
    "Дублированные строки во всём датафрейме могли появиться при повторном обращении клиента и , соответственно, повторном внесении данных."
   ]
  },
  {
   "cell_type": "markdown",
   "id": "0e4259d9",
   "metadata": {},
   "source": [
    "### Шаг 2.5. Формирование дополнительных датафреймов словарей, декомпозиция исходного датафрейма."
   ]
  },
  {
   "cell_type": "code",
   "execution_count": 31,
   "id": "db338da1",
   "metadata": {},
   "outputs": [
    {
     "data": {
      "text/html": [
       "<div>\n",
       "<style scoped>\n",
       "    .dataframe tbody tr th:only-of-type {\n",
       "        vertical-align: middle;\n",
       "    }\n",
       "\n",
       "    .dataframe tbody tr th {\n",
       "        vertical-align: top;\n",
       "    }\n",
       "\n",
       "    .dataframe thead th {\n",
       "        text-align: right;\n",
       "    }\n",
       "</style>\n",
       "<table border=\"1\" class=\"dataframe\">\n",
       "  <thead>\n",
       "    <tr style=\"text-align: right;\">\n",
       "      <th></th>\n",
       "      <th>education_id</th>\n",
       "      <th>education</th>\n",
       "    </tr>\n",
       "  </thead>\n",
       "  <tbody>\n",
       "    <tr>\n",
       "      <td>0</td>\n",
       "      <td>0</td>\n",
       "      <td>высшее</td>\n",
       "    </tr>\n",
       "    <tr>\n",
       "      <td>1</td>\n",
       "      <td>1</td>\n",
       "      <td>среднее</td>\n",
       "    </tr>\n",
       "    <tr>\n",
       "      <td>2</td>\n",
       "      <td>2</td>\n",
       "      <td>неоконченное высшее</td>\n",
       "    </tr>\n",
       "    <tr>\n",
       "      <td>3</td>\n",
       "      <td>3</td>\n",
       "      <td>начальное</td>\n",
       "    </tr>\n",
       "    <tr>\n",
       "      <td>4</td>\n",
       "      <td>4</td>\n",
       "      <td>ученая степень</td>\n",
       "    </tr>\n",
       "  </tbody>\n",
       "</table>\n",
       "</div>"
      ],
      "text/plain": [
       "   education_id            education\n",
       "0             0               высшее\n",
       "1             1              среднее\n",
       "2             2  неоконченное высшее\n",
       "3             3            начальное\n",
       "4             4       ученая степень"
      ]
     },
     "metadata": {},
     "output_type": "display_data"
    }
   ],
   "source": [
    "ed_type = data[['education_id', 'education']] # создание \"словаря\" для столбца 'education_id'\n",
    "\n",
    "ed_type = ed_type.drop_duplicates().reset_index(drop=True)\n",
    "\n",
    "display(ed_type)"
   ]
  },
  {
   "cell_type": "code",
   "execution_count": 32,
   "id": "3b37fbde",
   "metadata": {},
   "outputs": [
    {
     "data": {
      "text/html": [
       "<div>\n",
       "<style scoped>\n",
       "    .dataframe tbody tr th:only-of-type {\n",
       "        vertical-align: middle;\n",
       "    }\n",
       "\n",
       "    .dataframe tbody tr th {\n",
       "        vertical-align: top;\n",
       "    }\n",
       "\n",
       "    .dataframe thead th {\n",
       "        text-align: right;\n",
       "    }\n",
       "</style>\n",
       "<table border=\"1\" class=\"dataframe\">\n",
       "  <thead>\n",
       "    <tr style=\"text-align: right;\">\n",
       "      <th></th>\n",
       "      <th>family_status_id</th>\n",
       "      <th>family_status</th>\n",
       "    </tr>\n",
       "  </thead>\n",
       "  <tbody>\n",
       "    <tr>\n",
       "      <td>0</td>\n",
       "      <td>0</td>\n",
       "      <td>женат / замужем</td>\n",
       "    </tr>\n",
       "    <tr>\n",
       "      <td>1</td>\n",
       "      <td>1</td>\n",
       "      <td>гражданский брак</td>\n",
       "    </tr>\n",
       "    <tr>\n",
       "      <td>2</td>\n",
       "      <td>2</td>\n",
       "      <td>вдовец / вдова</td>\n",
       "    </tr>\n",
       "    <tr>\n",
       "      <td>3</td>\n",
       "      <td>3</td>\n",
       "      <td>в разводе</td>\n",
       "    </tr>\n",
       "    <tr>\n",
       "      <td>4</td>\n",
       "      <td>4</td>\n",
       "      <td>Не женат / не замужем</td>\n",
       "    </tr>\n",
       "  </tbody>\n",
       "</table>\n",
       "</div>"
      ],
      "text/plain": [
       "   family_status_id          family_status\n",
       "0                 0        женат / замужем\n",
       "1                 1       гражданский брак\n",
       "2                 2         вдовец / вдова\n",
       "3                 3              в разводе\n",
       "4                 4  Не женат / не замужем"
      ]
     },
     "metadata": {},
     "output_type": "display_data"
    }
   ],
   "source": [
    "family_type = data[['family_status_id', 'family_status']] # создание \"словаря\" для столбца 'family_status_id'\n",
    "\n",
    "family_type = family_type.drop_duplicates().reset_index(drop=True)\n",
    "\n",
    "display(family_type)"
   ]
  },
  {
   "cell_type": "code",
   "execution_count": 33,
   "id": "b9d2649d",
   "metadata": {},
   "outputs": [
    {
     "data": {
      "text/html": [
       "<div>\n",
       "<style scoped>\n",
       "    .dataframe tbody tr th:only-of-type {\n",
       "        vertical-align: middle;\n",
       "    }\n",
       "\n",
       "    .dataframe tbody tr th {\n",
       "        vertical-align: top;\n",
       "    }\n",
       "\n",
       "    .dataframe thead th {\n",
       "        text-align: right;\n",
       "    }\n",
       "</style>\n",
       "<table border=\"1\" class=\"dataframe\">\n",
       "  <thead>\n",
       "    <tr style=\"text-align: right;\">\n",
       "      <th></th>\n",
       "      <th>children</th>\n",
       "      <th>years_employed</th>\n",
       "      <th>dob_years</th>\n",
       "      <th>education_id</th>\n",
       "      <th>family_status_id</th>\n",
       "      <th>gender</th>\n",
       "      <th>income_type</th>\n",
       "      <th>debt</th>\n",
       "      <th>total_income</th>\n",
       "      <th>purpose</th>\n",
       "    </tr>\n",
       "  </thead>\n",
       "  <tbody>\n",
       "    <tr>\n",
       "      <td>0</td>\n",
       "      <td>1</td>\n",
       "      <td>23</td>\n",
       "      <td>42</td>\n",
       "      <td>0</td>\n",
       "      <td>0</td>\n",
       "      <td>F</td>\n",
       "      <td>сотрудник</td>\n",
       "      <td>False</td>\n",
       "      <td>253875</td>\n",
       "      <td>покупка жилья</td>\n",
       "    </tr>\n",
       "    <tr>\n",
       "      <td>1</td>\n",
       "      <td>1</td>\n",
       "      <td>11</td>\n",
       "      <td>36</td>\n",
       "      <td>1</td>\n",
       "      <td>0</td>\n",
       "      <td>F</td>\n",
       "      <td>сотрудник</td>\n",
       "      <td>False</td>\n",
       "      <td>112080</td>\n",
       "      <td>приобретение автомобиля</td>\n",
       "    </tr>\n",
       "    <tr>\n",
       "      <td>2</td>\n",
       "      <td>0</td>\n",
       "      <td>15</td>\n",
       "      <td>33</td>\n",
       "      <td>1</td>\n",
       "      <td>0</td>\n",
       "      <td>M</td>\n",
       "      <td>сотрудник</td>\n",
       "      <td>False</td>\n",
       "      <td>145885</td>\n",
       "      <td>покупка жилья</td>\n",
       "    </tr>\n",
       "    <tr>\n",
       "      <td>3</td>\n",
       "      <td>3</td>\n",
       "      <td>11</td>\n",
       "      <td>32</td>\n",
       "      <td>1</td>\n",
       "      <td>0</td>\n",
       "      <td>M</td>\n",
       "      <td>сотрудник</td>\n",
       "      <td>False</td>\n",
       "      <td>267628</td>\n",
       "      <td>дополнительное образование</td>\n",
       "    </tr>\n",
       "    <tr>\n",
       "      <td>4</td>\n",
       "      <td>0</td>\n",
       "      <td>932</td>\n",
       "      <td>53</td>\n",
       "      <td>1</td>\n",
       "      <td>1</td>\n",
       "      <td>F</td>\n",
       "      <td>пенсионер</td>\n",
       "      <td>False</td>\n",
       "      <td>158616</td>\n",
       "      <td>сыграть свадьбу</td>\n",
       "    </tr>\n",
       "    <tr>\n",
       "      <td>5</td>\n",
       "      <td>0</td>\n",
       "      <td>2</td>\n",
       "      <td>27</td>\n",
       "      <td>0</td>\n",
       "      <td>1</td>\n",
       "      <td>M</td>\n",
       "      <td>компаньон</td>\n",
       "      <td>False</td>\n",
       "      <td>255763</td>\n",
       "      <td>покупка жилья</td>\n",
       "    </tr>\n",
       "    <tr>\n",
       "      <td>6</td>\n",
       "      <td>0</td>\n",
       "      <td>7</td>\n",
       "      <td>43</td>\n",
       "      <td>0</td>\n",
       "      <td>0</td>\n",
       "      <td>F</td>\n",
       "      <td>компаньон</td>\n",
       "      <td>False</td>\n",
       "      <td>240525</td>\n",
       "      <td>операции с жильем</td>\n",
       "    </tr>\n",
       "    <tr>\n",
       "      <td>7</td>\n",
       "      <td>0</td>\n",
       "      <td>0</td>\n",
       "      <td>50</td>\n",
       "      <td>1</td>\n",
       "      <td>0</td>\n",
       "      <td>M</td>\n",
       "      <td>сотрудник</td>\n",
       "      <td>False</td>\n",
       "      <td>135823</td>\n",
       "      <td>образование</td>\n",
       "    </tr>\n",
       "    <tr>\n",
       "      <td>8</td>\n",
       "      <td>2</td>\n",
       "      <td>18</td>\n",
       "      <td>35</td>\n",
       "      <td>0</td>\n",
       "      <td>1</td>\n",
       "      <td>F</td>\n",
       "      <td>сотрудник</td>\n",
       "      <td>False</td>\n",
       "      <td>95856</td>\n",
       "      <td>на проведение свадьбы</td>\n",
       "    </tr>\n",
       "    <tr>\n",
       "      <td>9</td>\n",
       "      <td>0</td>\n",
       "      <td>5</td>\n",
       "      <td>41</td>\n",
       "      <td>1</td>\n",
       "      <td>0</td>\n",
       "      <td>M</td>\n",
       "      <td>сотрудник</td>\n",
       "      <td>False</td>\n",
       "      <td>144425</td>\n",
       "      <td>покупка жилья для семьи</td>\n",
       "    </tr>\n",
       "  </tbody>\n",
       "</table>\n",
       "</div>"
      ],
      "text/plain": [
       "   children  years_employed  dob_years  education_id  family_status_id gender  \\\n",
       "0         1              23         42             0                 0      F   \n",
       "1         1              11         36             1                 0      F   \n",
       "2         0              15         33             1                 0      M   \n",
       "3         3              11         32             1                 0      M   \n",
       "4         0             932         53             1                 1      F   \n",
       "5         0               2         27             0                 1      M   \n",
       "6         0               7         43             0                 0      F   \n",
       "7         0               0         50             1                 0      M   \n",
       "8         2              18         35             0                 1      F   \n",
       "9         0               5         41             1                 0      M   \n",
       "\n",
       "  income_type   debt  total_income                     purpose  \n",
       "0   сотрудник  False        253875               покупка жилья  \n",
       "1   сотрудник  False        112080     приобретение автомобиля  \n",
       "2   сотрудник  False        145885               покупка жилья  \n",
       "3   сотрудник  False        267628  дополнительное образование  \n",
       "4   пенсионер  False        158616             сыграть свадьбу  \n",
       "5   компаньон  False        255763               покупка жилья  \n",
       "6   компаньон  False        240525           операции с жильем  \n",
       "7   сотрудник  False        135823                 образование  \n",
       "8   сотрудник  False         95856       на проведение свадьбы  \n",
       "9   сотрудник  False        144425     покупка жилья для семьи  "
      ]
     },
     "execution_count": 33,
     "metadata": {},
     "output_type": "execute_result"
    }
   ],
   "source": [
    "data = data.drop(columns = ['education','family_status'], axis=1) # удаление столбцов 'education' и 'family_status'\n",
    "data.head(10)"
   ]
  },
  {
   "cell_type": "markdown",
   "id": "a94651c9",
   "metadata": {},
   "source": [
    "<div style=\"border:solid green 2px; padding: 20px\"> \n",
    "    \n",
    "**Комментарий ревьюера**\n",
    "\n",
    "**#ок**\n",
    "\n",
    "Отлично, словари правильно выделены\n",
    "</div>"
   ]
  },
  {
   "cell_type": "markdown",
   "id": "f0a8edc1",
   "metadata": {},
   "source": [
    "### Шаг 2.6. Категоризация дохода."
   ]
  },
  {
   "cell_type": "markdown",
   "id": "4f1dea49",
   "metadata": {},
   "source": [
    "Для дальнейшего анализа понадобится сопоставить уровень дохода заемщика с его кредитоплатежностью. Для этого разделим всех клиентов на категории в зависимости от их дохода."
   ]
  },
  {
   "cell_type": "code",
   "execution_count": 34,
   "id": "1f0dddd5",
   "metadata": {},
   "outputs": [
    {
     "data": {
      "text/plain": [
       "C    16015\n",
       "B     5041\n",
       "D      350\n",
       "A       25\n",
       "E       22\n",
       "Name: total_income_category, dtype: int64"
      ]
     },
     "execution_count": 34,
     "metadata": {},
     "output_type": "execute_result"
    }
   ],
   "source": [
    "# функция, которая возвращает категорию по значению дохода total_income по правилу:\n",
    "    # 0–30000 — категория 'E'\n",
    "    # 30001–50000 — категория 'D'\n",
    "    # 50001–200000 — категория 'C'\n",
    "    # 200001–1000000 — категория 'B'\n",
    "    # 1000001 и выше — категория 'A'\n",
    "    \n",
    "def income_category(total_income): \n",
    "    if total_income <= 30000:\n",
    "        return 'E'\n",
    "    if total_income <= 50000:\n",
    "        return 'D'\n",
    "    if total_income <= 200000:\n",
    "        return 'C'\n",
    "    if total_income <= 1000000:\n",
    "        return 'B'\n",
    "    return 'A'\n",
    "\n",
    "data['total_income_category'] = data['total_income'].apply(income_category) # добавление столбца с категорией\n",
    "\n",
    "data['total_income_category'].value_counts() # проверка получившихся категорий"
   ]
  },
  {
   "cell_type": "markdown",
   "id": "d39a5d5d",
   "metadata": {},
   "source": [
    "<div style=\"border:solid green 2px; padding: 20px\"> \n",
    "    \n",
    "**Комментарий ревьюера**\n",
    "\n",
    "**#ок**\n",
    "\n",
    "Хорошо, все верно. Немного нагляднее в качестве итога показать `data['total_income_category'].value_counts()`\n",
    "</div>"
   ]
  },
  {
   "cell_type": "markdown",
   "id": "4b955f5c",
   "metadata": {},
   "source": [
    "### Шаг 2.7. Категоризация целей кредита."
   ]
  },
  {
   "cell_type": "code",
   "execution_count": 35,
   "id": "00148500",
   "metadata": {},
   "outputs": [
    {
     "data": {
      "text/html": [
       "<div>\n",
       "<style scoped>\n",
       "    .dataframe tbody tr th:only-of-type {\n",
       "        vertical-align: middle;\n",
       "    }\n",
       "\n",
       "    .dataframe tbody tr th {\n",
       "        vertical-align: top;\n",
       "    }\n",
       "\n",
       "    .dataframe thead th {\n",
       "        text-align: right;\n",
       "    }\n",
       "</style>\n",
       "<table border=\"1\" class=\"dataframe\">\n",
       "  <thead>\n",
       "    <tr style=\"text-align: right;\">\n",
       "      <th></th>\n",
       "      <th>children</th>\n",
       "      <th>years_employed</th>\n",
       "      <th>dob_years</th>\n",
       "      <th>education_id</th>\n",
       "      <th>family_status_id</th>\n",
       "      <th>gender</th>\n",
       "      <th>income_type</th>\n",
       "      <th>debt</th>\n",
       "      <th>total_income</th>\n",
       "      <th>purpose</th>\n",
       "      <th>total_income_category</th>\n",
       "      <th>purpose_category</th>\n",
       "    </tr>\n",
       "  </thead>\n",
       "  <tbody>\n",
       "    <tr>\n",
       "      <td>0</td>\n",
       "      <td>1</td>\n",
       "      <td>23</td>\n",
       "      <td>42</td>\n",
       "      <td>0</td>\n",
       "      <td>0</td>\n",
       "      <td>F</td>\n",
       "      <td>сотрудник</td>\n",
       "      <td>False</td>\n",
       "      <td>253875</td>\n",
       "      <td>покупка жилья</td>\n",
       "      <td>B</td>\n",
       "      <td>операции с недвижимостью</td>\n",
       "    </tr>\n",
       "    <tr>\n",
       "      <td>1</td>\n",
       "      <td>1</td>\n",
       "      <td>11</td>\n",
       "      <td>36</td>\n",
       "      <td>1</td>\n",
       "      <td>0</td>\n",
       "      <td>F</td>\n",
       "      <td>сотрудник</td>\n",
       "      <td>False</td>\n",
       "      <td>112080</td>\n",
       "      <td>приобретение автомобиля</td>\n",
       "      <td>C</td>\n",
       "      <td>операции с автомобилем</td>\n",
       "    </tr>\n",
       "    <tr>\n",
       "      <td>2</td>\n",
       "      <td>0</td>\n",
       "      <td>15</td>\n",
       "      <td>33</td>\n",
       "      <td>1</td>\n",
       "      <td>0</td>\n",
       "      <td>M</td>\n",
       "      <td>сотрудник</td>\n",
       "      <td>False</td>\n",
       "      <td>145885</td>\n",
       "      <td>покупка жилья</td>\n",
       "      <td>C</td>\n",
       "      <td>операции с недвижимостью</td>\n",
       "    </tr>\n",
       "    <tr>\n",
       "      <td>3</td>\n",
       "      <td>3</td>\n",
       "      <td>11</td>\n",
       "      <td>32</td>\n",
       "      <td>1</td>\n",
       "      <td>0</td>\n",
       "      <td>M</td>\n",
       "      <td>сотрудник</td>\n",
       "      <td>False</td>\n",
       "      <td>267628</td>\n",
       "      <td>дополнительное образование</td>\n",
       "      <td>B</td>\n",
       "      <td>получение образования</td>\n",
       "    </tr>\n",
       "    <tr>\n",
       "      <td>4</td>\n",
       "      <td>0</td>\n",
       "      <td>932</td>\n",
       "      <td>53</td>\n",
       "      <td>1</td>\n",
       "      <td>1</td>\n",
       "      <td>F</td>\n",
       "      <td>пенсионер</td>\n",
       "      <td>False</td>\n",
       "      <td>158616</td>\n",
       "      <td>сыграть свадьбу</td>\n",
       "      <td>C</td>\n",
       "      <td>проведение свадьбы</td>\n",
       "    </tr>\n",
       "    <tr>\n",
       "      <td>5</td>\n",
       "      <td>0</td>\n",
       "      <td>2</td>\n",
       "      <td>27</td>\n",
       "      <td>0</td>\n",
       "      <td>1</td>\n",
       "      <td>M</td>\n",
       "      <td>компаньон</td>\n",
       "      <td>False</td>\n",
       "      <td>255763</td>\n",
       "      <td>покупка жилья</td>\n",
       "      <td>B</td>\n",
       "      <td>операции с недвижимостью</td>\n",
       "    </tr>\n",
       "    <tr>\n",
       "      <td>6</td>\n",
       "      <td>0</td>\n",
       "      <td>7</td>\n",
       "      <td>43</td>\n",
       "      <td>0</td>\n",
       "      <td>0</td>\n",
       "      <td>F</td>\n",
       "      <td>компаньон</td>\n",
       "      <td>False</td>\n",
       "      <td>240525</td>\n",
       "      <td>операции с жильем</td>\n",
       "      <td>B</td>\n",
       "      <td>операции с недвижимостью</td>\n",
       "    </tr>\n",
       "    <tr>\n",
       "      <td>7</td>\n",
       "      <td>0</td>\n",
       "      <td>0</td>\n",
       "      <td>50</td>\n",
       "      <td>1</td>\n",
       "      <td>0</td>\n",
       "      <td>M</td>\n",
       "      <td>сотрудник</td>\n",
       "      <td>False</td>\n",
       "      <td>135823</td>\n",
       "      <td>образование</td>\n",
       "      <td>C</td>\n",
       "      <td>получение образования</td>\n",
       "    </tr>\n",
       "    <tr>\n",
       "      <td>8</td>\n",
       "      <td>2</td>\n",
       "      <td>18</td>\n",
       "      <td>35</td>\n",
       "      <td>0</td>\n",
       "      <td>1</td>\n",
       "      <td>F</td>\n",
       "      <td>сотрудник</td>\n",
       "      <td>False</td>\n",
       "      <td>95856</td>\n",
       "      <td>на проведение свадьбы</td>\n",
       "      <td>C</td>\n",
       "      <td>проведение свадьбы</td>\n",
       "    </tr>\n",
       "    <tr>\n",
       "      <td>9</td>\n",
       "      <td>0</td>\n",
       "      <td>5</td>\n",
       "      <td>41</td>\n",
       "      <td>1</td>\n",
       "      <td>0</td>\n",
       "      <td>M</td>\n",
       "      <td>сотрудник</td>\n",
       "      <td>False</td>\n",
       "      <td>144425</td>\n",
       "      <td>покупка жилья для семьи</td>\n",
       "      <td>C</td>\n",
       "      <td>операции с недвижимостью</td>\n",
       "    </tr>\n",
       "  </tbody>\n",
       "</table>\n",
       "</div>"
      ],
      "text/plain": [
       "   children  years_employed  dob_years  education_id  family_status_id gender  \\\n",
       "0         1              23         42             0                 0      F   \n",
       "1         1              11         36             1                 0      F   \n",
       "2         0              15         33             1                 0      M   \n",
       "3         3              11         32             1                 0      M   \n",
       "4         0             932         53             1                 1      F   \n",
       "5         0               2         27             0                 1      M   \n",
       "6         0               7         43             0                 0      F   \n",
       "7         0               0         50             1                 0      M   \n",
       "8         2              18         35             0                 1      F   \n",
       "9         0               5         41             1                 0      M   \n",
       "\n",
       "  income_type   debt  total_income                     purpose  \\\n",
       "0   сотрудник  False        253875               покупка жилья   \n",
       "1   сотрудник  False        112080     приобретение автомобиля   \n",
       "2   сотрудник  False        145885               покупка жилья   \n",
       "3   сотрудник  False        267628  дополнительное образование   \n",
       "4   пенсионер  False        158616             сыграть свадьбу   \n",
       "5   компаньон  False        255763               покупка жилья   \n",
       "6   компаньон  False        240525           операции с жильем   \n",
       "7   сотрудник  False        135823                 образование   \n",
       "8   сотрудник  False         95856       на проведение свадьбы   \n",
       "9   сотрудник  False        144425     покупка жилья для семьи   \n",
       "\n",
       "  total_income_category          purpose_category  \n",
       "0                     B  операции с недвижимостью  \n",
       "1                     C    операции с автомобилем  \n",
       "2                     C  операции с недвижимостью  \n",
       "3                     B     получение образования  \n",
       "4                     C        проведение свадьбы  \n",
       "5                     B  операции с недвижимостью  \n",
       "6                     B  операции с недвижимостью  \n",
       "7                     C     получение образования  \n",
       "8                     C        проведение свадьбы  \n",
       "9                     C  операции с недвижимостью  "
      ]
     },
     "execution_count": 35,
     "metadata": {},
     "output_type": "execute_result"
    }
   ],
   "source": [
    "# функция, которая по значению в столбце 'purpose' разделит все цели кредита на 4 категории:\n",
    "    # 'операции с автомобилем'\n",
    "    # 'операции с недвижимостью'\n",
    "    # 'проведение свадьбы'\n",
    "    # 'получение образования'\n",
    "    \n",
    "def purpose_category(purpose):\n",
    "    if 'автомоб' in purpose:\n",
    "        return 'операции с автомобилем'\n",
    "    if 'образован' in purpose:\n",
    "        return 'получение образования'\n",
    "    if 'свадьб' in purpose:\n",
    "        return 'проведение свадьбы'\n",
    "    if 'недвижим' or 'жиль' in purpose:\n",
    "        return 'операции с недвижимостью'\n",
    "    \n",
    "data['purpose_category'] = data['purpose'].apply(purpose_category)  # добавление столбца с категорией\n",
    "\n",
    "data.head(10)"
   ]
  },
  {
   "cell_type": "markdown",
   "id": "aab95508",
   "metadata": {},
   "source": [
    "### Шаг 2.8. Категоризация по количеству детей."
   ]
  },
  {
   "cell_type": "code",
   "execution_count": 36,
   "id": "567274b0",
   "metadata": {},
   "outputs": [
    {
     "data": {
      "text/plain": [
       "нет детей      14090\n",
       "малодетный      6983\n",
       "многодетный      380\n",
       "Name: childrenby_category, dtype: int64"
      ]
     },
     "execution_count": 36,
     "metadata": {},
     "output_type": "execute_result"
    }
   ],
   "source": [
    "# функция, которая возвращает категорию по количеству детей children по правилу:\n",
    "    # 0 детей — категория 'нет детей'\n",
    "    # 1-2 ребенка — категория 'малодетный'\n",
    "    # 3 и более ребенка — категория 'многодетный'\n",
    "\n",
    "def childrenby_category(children): \n",
    "    if children == 0:\n",
    "        return 'нет детей'\n",
    "    if children == 1 or children == 2:\n",
    "        return 'малодетный'\n",
    "    if children >= 3:\n",
    "        return 'многодетный'\n",
    "\n",
    "data['childrenby_category'] = data['children'].apply(childrenby_category) # добавление столбца с категорией\n",
    "\n",
    "data['childrenby_category'].value_counts() # проверка получившихся категорий"
   ]
  },
  {
   "cell_type": "markdown",
   "id": "8b8ea79f",
   "metadata": {},
   "source": [
    "<div style=\"border:solid green 2px; padding: 20px\"> \n",
    "    \n",
    "**Комментарий ревьюера**\n",
    "\n",
    "**#ок**\n",
    "\n",
    "Отлично, требуемые по заданию категории выделены правильно, молодец\n",
    "</div>"
   ]
  },
  {
   "cell_type": "markdown",
   "id": "2baa2f82",
   "metadata": {},
   "source": [
    "<div style=\"border:solid gold 2px; padding: 20px\"> \n",
    "    \n",
    "**Комментарий ревьюера**\n",
    "\n",
    "**#можно лучше**\n",
    "\n",
    "также стоило выделить категории по количеству детей (хотя это напрямую в задании не сказано). Если ты посмотришь далее, то при оценки вероятности невозврата у на появились категории с 9 и 41 пользователем. Вообще говоря такие группы анализировать статистически не совсем верно. правильнее было бы укрупнить группы, чтобы в каждой было хотя бы 100 пользователей\n",
    "</div>"
   ]
  },
  {
   "cell_type": "markdown",
   "id": "c9c08892",
   "metadata": {},
   "source": [
    "<div style=\"border:solid blue 2px; padding: 20px\"> \n",
    "\n",
    "**Комментарий**\n",
    "    \n",
    "Попыталась выделить категории по количеству детей. Соответственно изменились данные в первом вопросе и выводе."
   ]
  },
  {
   "cell_type": "markdown",
   "id": "ace65efe",
   "metadata": {},
   "source": [
    "### Ответы на вопросы."
   ]
  },
  {
   "cell_type": "markdown",
   "id": "bec1967d",
   "metadata": {},
   "source": [
    "##### Вопрос 1:"
   ]
  },
  {
   "cell_type": "code",
   "execution_count": 37,
   "id": "81667e6b",
   "metadata": {},
   "outputs": [
    {
     "data": {
      "text/html": [
       "<div>\n",
       "<style scoped>\n",
       "    .dataframe tbody tr th:only-of-type {\n",
       "        vertical-align: middle;\n",
       "    }\n",
       "\n",
       "    .dataframe tbody tr th {\n",
       "        vertical-align: top;\n",
       "    }\n",
       "\n",
       "    .dataframe thead th {\n",
       "        text-align: right;\n",
       "    }\n",
       "</style>\n",
       "<table border=\"1\" class=\"dataframe\">\n",
       "  <thead>\n",
       "    <tr style=\"text-align: right;\">\n",
       "      <th>debt</th>\n",
       "      <th>False</th>\n",
       "      <th>True</th>\n",
       "      <th>share</th>\n",
       "    </tr>\n",
       "    <tr>\n",
       "      <th>childrenby_category</th>\n",
       "      <th></th>\n",
       "      <th></th>\n",
       "      <th></th>\n",
       "    </tr>\n",
       "  </thead>\n",
       "  <tbody>\n",
       "    <tr>\n",
       "      <td>нет детей</td>\n",
       "      <td>13027</td>\n",
       "      <td>1063</td>\n",
       "      <td>7.5</td>\n",
       "    </tr>\n",
       "    <tr>\n",
       "      <td>многодетный</td>\n",
       "      <td>349</td>\n",
       "      <td>31</td>\n",
       "      <td>8.2</td>\n",
       "    </tr>\n",
       "    <tr>\n",
       "      <td>малодетный</td>\n",
       "      <td>6336</td>\n",
       "      <td>647</td>\n",
       "      <td>9.3</td>\n",
       "    </tr>\n",
       "  </tbody>\n",
       "</table>\n",
       "</div>"
      ],
      "text/plain": [
       "debt                 False  True  share\n",
       "childrenby_category                    \n",
       "нет детей            13027  1063    7.5\n",
       "многодетный            349    31    8.2\n",
       "малодетный            6336   647    9.3"
      ]
     },
     "metadata": {},
     "output_type": "display_data"
    }
   ],
   "source": [
    "# построение сводной таблицы, сгруппированной по количеству детей, со значением наличия задолженности \n",
    "# и с подсчётом количества таких клиентов\n",
    "\n",
    "data_pivot_children = data.pivot_table(index='childrenby_category', columns='debt', values='gender', aggfunc='count')\n",
    "\n",
    "# добавление столбца с подсчётом доли клиентов (в процентах) с задолженностью от всех клиентов каждой группы\n",
    "\n",
    "data_pivot_children['share'] = (data_pivot_children[1]/(data_pivot_children[0]+data_pivot_children[1])*100).round(1)\n",
    "\n",
    "display(data_pivot_children.sort_values(by='share'))"
   ]
  },
  {
   "cell_type": "markdown",
   "id": "1fdfce9c",
   "metadata": {},
   "source": [
    "<div style=\"border:solid green 2px; padding: 20px\"> \n",
    "    \n",
    "**Комментарий ревьюера - 2**\n",
    "\n",
    "**#ок**\n",
    "\n",
    "Отлично\n",
    "</div>"
   ]
  },
  {
   "cell_type": "markdown",
   "id": "f56d93db",
   "metadata": {},
   "source": [
    "##### Вывод 1:\n",
    "\n",
    "*По сводной таблице можно заметить, что клиенты без детей возвращают кредиты в срок чаще, чем клиенты с детьми. В целом при наличии детей у клиента, их количество не влияет на возвращение кредита в срок, так как доля тех, кто имеет задолженность составляет 8-9%. А клиенты без детей, хоть и не намного, но имеют меньше задолженностей.*"
   ]
  },
  {
   "cell_type": "markdown",
   "id": "6f1a29a7",
   "metadata": {},
   "source": [
    "##### Вопрос 2:"
   ]
  },
  {
   "cell_type": "code",
   "execution_count": 38,
   "id": "99450aac",
   "metadata": {},
   "outputs": [
    {
     "data": {
      "text/html": [
       "<div>\n",
       "<style scoped>\n",
       "    .dataframe tbody tr th:only-of-type {\n",
       "        vertical-align: middle;\n",
       "    }\n",
       "\n",
       "    .dataframe tbody tr th {\n",
       "        vertical-align: top;\n",
       "    }\n",
       "\n",
       "    .dataframe thead th {\n",
       "        text-align: right;\n",
       "    }\n",
       "</style>\n",
       "<table border=\"1\" class=\"dataframe\">\n",
       "  <thead>\n",
       "    <tr style=\"text-align: right;\">\n",
       "      <th>debt</th>\n",
       "      <th>False</th>\n",
       "      <th>True</th>\n",
       "      <th>share</th>\n",
       "    </tr>\n",
       "    <tr>\n",
       "      <th>family_status_id</th>\n",
       "      <th></th>\n",
       "      <th></th>\n",
       "      <th></th>\n",
       "    </tr>\n",
       "  </thead>\n",
       "  <tbody>\n",
       "    <tr>\n",
       "      <td>2</td>\n",
       "      <td>896</td>\n",
       "      <td>63</td>\n",
       "      <td>6.6</td>\n",
       "    </tr>\n",
       "    <tr>\n",
       "      <td>3</td>\n",
       "      <td>1110</td>\n",
       "      <td>85</td>\n",
       "      <td>7.1</td>\n",
       "    </tr>\n",
       "    <tr>\n",
       "      <td>0</td>\n",
       "      <td>11408</td>\n",
       "      <td>931</td>\n",
       "      <td>7.5</td>\n",
       "    </tr>\n",
       "    <tr>\n",
       "      <td>1</td>\n",
       "      <td>3762</td>\n",
       "      <td>388</td>\n",
       "      <td>9.3</td>\n",
       "    </tr>\n",
       "    <tr>\n",
       "      <td>4</td>\n",
       "      <td>2536</td>\n",
       "      <td>274</td>\n",
       "      <td>9.8</td>\n",
       "    </tr>\n",
       "  </tbody>\n",
       "</table>\n",
       "</div>"
      ],
      "text/plain": [
       "debt              False  True  share\n",
       "family_status_id                    \n",
       "2                   896    63    6.6\n",
       "3                  1110    85    7.1\n",
       "0                 11408   931    7.5\n",
       "1                  3762   388    9.3\n",
       "4                  2536   274    9.8"
      ]
     },
     "metadata": {},
     "output_type": "display_data"
    },
    {
     "data": {
      "text/html": [
       "<div>\n",
       "<style scoped>\n",
       "    .dataframe tbody tr th:only-of-type {\n",
       "        vertical-align: middle;\n",
       "    }\n",
       "\n",
       "    .dataframe tbody tr th {\n",
       "        vertical-align: top;\n",
       "    }\n",
       "\n",
       "    .dataframe thead th {\n",
       "        text-align: right;\n",
       "    }\n",
       "</style>\n",
       "<table border=\"1\" class=\"dataframe\">\n",
       "  <thead>\n",
       "    <tr style=\"text-align: right;\">\n",
       "      <th></th>\n",
       "      <th>family_status_id</th>\n",
       "      <th>family_status</th>\n",
       "    </tr>\n",
       "  </thead>\n",
       "  <tbody>\n",
       "    <tr>\n",
       "      <td>0</td>\n",
       "      <td>0</td>\n",
       "      <td>женат / замужем</td>\n",
       "    </tr>\n",
       "    <tr>\n",
       "      <td>1</td>\n",
       "      <td>1</td>\n",
       "      <td>гражданский брак</td>\n",
       "    </tr>\n",
       "    <tr>\n",
       "      <td>2</td>\n",
       "      <td>2</td>\n",
       "      <td>вдовец / вдова</td>\n",
       "    </tr>\n",
       "    <tr>\n",
       "      <td>3</td>\n",
       "      <td>3</td>\n",
       "      <td>в разводе</td>\n",
       "    </tr>\n",
       "    <tr>\n",
       "      <td>4</td>\n",
       "      <td>4</td>\n",
       "      <td>Не женат / не замужем</td>\n",
       "    </tr>\n",
       "  </tbody>\n",
       "</table>\n",
       "</div>"
      ],
      "text/plain": [
       "   family_status_id          family_status\n",
       "0                 0        женат / замужем\n",
       "1                 1       гражданский брак\n",
       "2                 2         вдовец / вдова\n",
       "3                 3              в разводе\n",
       "4                 4  Не женат / не замужем"
      ]
     },
     "metadata": {},
     "output_type": "display_data"
    }
   ],
   "source": [
    "# построение сводной таблицы, сгруппированной по семейному статусу, со значением наличия задолженности \n",
    "# и с подсчётом количества таких клиентов\n",
    "\n",
    "data_pivot_family_status = data.pivot_table(index='family_status_id', columns='debt', values='gender', aggfunc='count')\n",
    "\n",
    "# добавление столбца с подсчётом доли клиентов (в процентах) с задолженностью от всех клиентов каждой группы\n",
    "\n",
    "data_pivot_family_status['share'] = (data_pivot_family_status[1]/(data_pivot_family_status[0]+data_pivot_family_status[1])*100).round(1)\n",
    "\n",
    "display(data_pivot_family_status.sort_values(by='share'))\n",
    "display(family_type)"
   ]
  },
  {
   "cell_type": "markdown",
   "id": "dd305c38",
   "metadata": {},
   "source": [
    "##### Вывод 2:\n",
    "*По сводной таблице можно видеть, что небольшие различия присутствуют между наличием задолженностей в зависимости от семейного положения. Меньше всего задолженностей у вдовцов или вдов - в этой категории доля тех, кто не вернул кредит вовремя, составляет 6,5%. А клиенты, состоящие в гражданском браке, и те, кто не женат, чаще всех возвращают кредиты не вовремя - их доля составляет около 9,5%. Клиенты, состоящие в браке, также как и кленты, состоящие в разводе, не вовзращают кредит в срок в 7% случаев.*\n"
   ]
  },
  {
   "cell_type": "markdown",
   "id": "26e013d3",
   "metadata": {},
   "source": [
    "##### Вопрос 3:"
   ]
  },
  {
   "cell_type": "code",
   "execution_count": 39,
   "id": "0e412c95",
   "metadata": {},
   "outputs": [
    {
     "data": {
      "text/html": [
       "<div>\n",
       "<style scoped>\n",
       "    .dataframe tbody tr th:only-of-type {\n",
       "        vertical-align: middle;\n",
       "    }\n",
       "\n",
       "    .dataframe tbody tr th {\n",
       "        vertical-align: top;\n",
       "    }\n",
       "\n",
       "    .dataframe thead th {\n",
       "        text-align: right;\n",
       "    }\n",
       "</style>\n",
       "<table border=\"1\" class=\"dataframe\">\n",
       "  <thead>\n",
       "    <tr style=\"text-align: right;\">\n",
       "      <th>debt</th>\n",
       "      <th>False</th>\n",
       "      <th>True</th>\n",
       "      <th>share</th>\n",
       "    </tr>\n",
       "    <tr>\n",
       "      <th>total_income_category</th>\n",
       "      <th></th>\n",
       "      <th></th>\n",
       "      <th></th>\n",
       "    </tr>\n",
       "  </thead>\n",
       "  <tbody>\n",
       "    <tr>\n",
       "      <td>D</td>\n",
       "      <td>329</td>\n",
       "      <td>21</td>\n",
       "      <td>6.0</td>\n",
       "    </tr>\n",
       "    <tr>\n",
       "      <td>B</td>\n",
       "      <td>4685</td>\n",
       "      <td>356</td>\n",
       "      <td>7.1</td>\n",
       "    </tr>\n",
       "    <tr>\n",
       "      <td>A</td>\n",
       "      <td>23</td>\n",
       "      <td>2</td>\n",
       "      <td>8.0</td>\n",
       "    </tr>\n",
       "    <tr>\n",
       "      <td>C</td>\n",
       "      <td>14655</td>\n",
       "      <td>1360</td>\n",
       "      <td>8.5</td>\n",
       "    </tr>\n",
       "    <tr>\n",
       "      <td>E</td>\n",
       "      <td>20</td>\n",
       "      <td>2</td>\n",
       "      <td>9.1</td>\n",
       "    </tr>\n",
       "  </tbody>\n",
       "</table>\n",
       "</div>"
      ],
      "text/plain": [
       "debt                   False  True  share\n",
       "total_income_category                    \n",
       "D                        329    21    6.0\n",
       "B                       4685   356    7.1\n",
       "A                         23     2    8.0\n",
       "C                      14655  1360    8.5\n",
       "E                         20     2    9.1"
      ]
     },
     "metadata": {},
     "output_type": "display_data"
    }
   ],
   "source": [
    "# построение сводной таблицы, сгруппированной по категории дохода, со значением наличия задолженности \n",
    "# и с подсчётом количества таких клиентов\n",
    "\n",
    "data_pivot_income = data.pivot_table(index='total_income_category', columns='debt', values='gender', aggfunc='count')\n",
    "\n",
    "# добавление столбца с подсчётом доли клиентов (в процентах) с задолженностью от всех клиентов каждой группы\n",
    "\n",
    "data_pivot_income['share'] = (data_pivot_income[1]/(data_pivot_income[0]+data_pivot_income[1])*100).round(1)\n",
    "\n",
    "display(data_pivot_income.sort_values(by='share'))"
   ]
  },
  {
   "cell_type": "markdown",
   "id": "6e5be655",
   "metadata": {},
   "source": [
    "##### Вывод 3:\n",
    "*В данном случае количество клиентов по категориям распределено неравномерно, поэтому нет возможности точно сказать, есть ли зависимость возвращения кредита в срок от уровня доходов. Но если опираться именно на эти данные, то реже всего кредит возвращают в срок именно люди с низкими доходами. А клиенты со доходами чуть выше среднего, наоборот, имеют меньше задолженностей. Клиенты со средним и высоким уровнем доходов имеют примерно одинаковое соотношение людей, не вернувших кредит в срок.*"
   ]
  },
  {
   "cell_type": "markdown",
   "id": "e764aa24",
   "metadata": {},
   "source": [
    "##### Вопрос 4:"
   ]
  },
  {
   "cell_type": "code",
   "execution_count": 40,
   "id": "7bdd2764",
   "metadata": {},
   "outputs": [
    {
     "data": {
      "text/html": [
       "<div>\n",
       "<style scoped>\n",
       "    .dataframe tbody tr th:only-of-type {\n",
       "        vertical-align: middle;\n",
       "    }\n",
       "\n",
       "    .dataframe tbody tr th {\n",
       "        vertical-align: top;\n",
       "    }\n",
       "\n",
       "    .dataframe thead th {\n",
       "        text-align: right;\n",
       "    }\n",
       "</style>\n",
       "<table border=\"1\" class=\"dataframe\">\n",
       "  <thead>\n",
       "    <tr style=\"text-align: right;\">\n",
       "      <th>debt</th>\n",
       "      <th>False</th>\n",
       "      <th>True</th>\n",
       "      <th>share</th>\n",
       "    </tr>\n",
       "    <tr>\n",
       "      <th>purpose_category</th>\n",
       "      <th></th>\n",
       "      <th></th>\n",
       "      <th></th>\n",
       "    </tr>\n",
       "  </thead>\n",
       "  <tbody>\n",
       "    <tr>\n",
       "      <td>операции с недвижимостью</td>\n",
       "      <td>10029</td>\n",
       "      <td>782</td>\n",
       "      <td>7.2</td>\n",
       "    </tr>\n",
       "    <tr>\n",
       "      <td>проведение свадьбы</td>\n",
       "      <td>2137</td>\n",
       "      <td>186</td>\n",
       "      <td>8.0</td>\n",
       "    </tr>\n",
       "    <tr>\n",
       "      <td>получение образования</td>\n",
       "      <td>3643</td>\n",
       "      <td>370</td>\n",
       "      <td>9.2</td>\n",
       "    </tr>\n",
       "    <tr>\n",
       "      <td>операции с автомобилем</td>\n",
       "      <td>3903</td>\n",
       "      <td>403</td>\n",
       "      <td>9.4</td>\n",
       "    </tr>\n",
       "  </tbody>\n",
       "</table>\n",
       "</div>"
      ],
      "text/plain": [
       "debt                      False  True  share\n",
       "purpose_category                            \n",
       "операции с недвижимостью  10029   782    7.2\n",
       "проведение свадьбы         2137   186    8.0\n",
       "получение образования      3643   370    9.2\n",
       "операции с автомобилем     3903   403    9.4"
      ]
     },
     "metadata": {},
     "output_type": "display_data"
    }
   ],
   "source": [
    "# построение сводной таблицы, сгруппированной по целям кредита, со значением наличия задолженности \n",
    "# и с подсчётом количества таких клиентов\n",
    "\n",
    "data_pivot_purpose = data.pivot_table(index='purpose_category', columns='debt', values='gender', aggfunc='count')\n",
    "\n",
    "# добавление столбца с подсчётом доли клиентов (в процентах) с задолженностью от всех клиентов каждой группы\n",
    "\n",
    "data_pivot_purpose['share'] = (data_pivot_purpose[1]/(data_pivot_purpose[0]+data_pivot_purpose[1])*100).round(1)\n",
    "\n",
    "display(data_pivot_purpose.sort_values(by='share'))"
   ]
  },
  {
   "cell_type": "markdown",
   "id": "1e3b9b9c",
   "metadata": {},
   "source": [
    "##### Вывод 4:\n",
    "*В данном случае существует небольшая зависимость между целями кредита и его возвращения в срок. Чаще вовремя возвращают кредит те клиенты, которые берут займ на операции с недвижимостью. Чуть реже возвращают кредит на проведение свадьбы. Клиенты, которые брали кредит на автомобиль или на получение образования, реже возвращают кредит вовремя - в 9% случаев.*"
   ]
  },
  {
   "cell_type": "markdown",
   "id": "15546689",
   "metadata": {},
   "source": [
    "<div style=\"border:solid gold 2px; padding: 20px\"> \n",
    "    \n",
    "**Комментарий ревьюера**\n",
    "\n",
    "**#можно лучше**\n",
    "\n",
    "Ты верно ответила на все вопросы, правильно использовала pivot_table\n",
    "\n",
    "Для лучшей считываемости данных стоило отсортировать полученные результаты и округлить значания в таблице (так как ты пишешь в выводах)\n",
    "</div>"
   ]
  },
  {
   "cell_type": "markdown",
   "id": "c10695de",
   "metadata": {},
   "source": [
    "## Общий вывод:"
   ]
  },
  {
   "cell_type": "markdown",
   "id": "fedd55a0",
   "metadata": {},
   "source": [
    "На возврат кредита в срок не оказывает сильного влияния ни количество детей, ни семейное положение, ни уровень дохода, ни цели кредита. Во всех случаях разбег доли тех, кто не вернул кредит вовремя от всего количества людей в каждой отдельной категории, был очень небольшой. Вероятно, необходимо проверить и другие факторы, которые могут влиять на возврат кредита в срок."
   ]
  },
  {
   "cell_type": "markdown",
   "id": "dda55782",
   "metadata": {},
   "source": [
    "<div style=\"border:solid green 2px; padding: 20px\"> \n",
    "    \n",
    "**Комментарий ревьюера**\n",
    "\n",
    "**#ок**\n",
    "\n",
    "Хорошо, в следующих частях курса ты научишься определять статистическую значимость. Тогда более обоснованно можно будет говорить о том насколько значительна или не значительна разница между группами\n",
    "</div>"
   ]
  },
  {
   "cell_type": "markdown",
   "id": "801ffc42",
   "metadata": {},
   "source": [
    "<div style=\"border:solid green 2px; padding: 20px\"> \n",
    "\n",
    "**Общий комментарий по проекту**\n",
    "\n",
    "Ты отлично поработала над проектом, молодец. Ты сделала хороший самостоятельный анализ\n",
    "    \n",
    "Ты молодец, отлично справляешься с программой. \n",
    "    \n",
    "Поправь, пожалуйста небольшие неточности, чтобы я могла принять проект.\n",
    "\n",
    "Удачи!\n",
    "</div>"
   ]
  }
 ],
 "metadata": {
  "ExecuteTimeLog": [
   {
    "duration": 830,
    "start_time": "2022-02-05T11:09:26.993Z"
   },
   {
    "duration": 271,
    "start_time": "2022-02-05T11:10:26.314Z"
   },
   {
    "duration": 304,
    "start_time": "2022-02-05T11:10:44.576Z"
   },
   {
    "duration": 247,
    "start_time": "2022-02-05T11:11:42.621Z"
   },
   {
    "duration": 16,
    "start_time": "2022-02-05T11:12:46.682Z"
   },
   {
    "duration": 169,
    "start_time": "2022-02-05T11:18:02.645Z"
   },
   {
    "duration": 179,
    "start_time": "2022-02-05T11:18:10.662Z"
   },
   {
    "duration": 360,
    "start_time": "2022-02-05T11:30:42.563Z"
   },
   {
    "duration": 101,
    "start_time": "2022-02-05T11:30:53.905Z"
   },
   {
    "duration": 9,
    "start_time": "2022-02-05T11:31:45.757Z"
   },
   {
    "duration": 266,
    "start_time": "2022-02-05T11:34:23.242Z"
   },
   {
    "duration": 251,
    "start_time": "2022-02-05T11:34:49.771Z"
   },
   {
    "duration": 4,
    "start_time": "2022-02-05T11:39:12.199Z"
   },
   {
    "duration": 311,
    "start_time": "2022-02-05T11:39:19.010Z"
   },
   {
    "duration": 6,
    "start_time": "2022-02-05T11:40:34.891Z"
   },
   {
    "duration": 101,
    "start_time": "2022-02-05T11:42:55.771Z"
   },
   {
    "duration": 4,
    "start_time": "2022-02-05T11:43:06.867Z"
   },
   {
    "duration": 384,
    "start_time": "2022-02-05T11:43:41.387Z"
   },
   {
    "duration": 326,
    "start_time": "2022-02-05T11:43:55.088Z"
   },
   {
    "duration": 99,
    "start_time": "2022-02-05T11:45:20.364Z"
   },
   {
    "duration": 322,
    "start_time": "2022-02-05T11:45:26.031Z"
   },
   {
    "duration": 402,
    "start_time": "2022-02-05T11:45:33.159Z"
   },
   {
    "duration": 4,
    "start_time": "2022-02-05T11:45:41.460Z"
   },
   {
    "duration": 10,
    "start_time": "2022-02-05T11:46:15.172Z"
   },
   {
    "duration": 15,
    "start_time": "2022-02-05T11:49:36.213Z"
   },
   {
    "duration": 5,
    "start_time": "2022-02-05T11:50:29.132Z"
   },
   {
    "duration": 7,
    "start_time": "2022-02-05T11:53:56.125Z"
   },
   {
    "duration": 9,
    "start_time": "2022-02-05T11:56:06.444Z"
   },
   {
    "duration": 8,
    "start_time": "2022-02-05T11:56:25.999Z"
   },
   {
    "duration": 306,
    "start_time": "2022-02-05T11:56:39.617Z"
   },
   {
    "duration": 104,
    "start_time": "2022-02-05T11:56:55.336Z"
   },
   {
    "duration": 1204,
    "start_time": "2022-02-05T11:57:14.338Z"
   },
   {
    "duration": 9,
    "start_time": "2022-02-05T11:57:21.070Z"
   },
   {
    "duration": 9,
    "start_time": "2022-02-05T11:58:30.548Z"
   },
   {
    "duration": 178,
    "start_time": "2022-02-05T11:58:59.701Z"
   },
   {
    "duration": 14,
    "start_time": "2022-02-05T11:59:12.207Z"
   },
   {
    "duration": 315,
    "start_time": "2022-02-05T11:59:49.582Z"
   },
   {
    "duration": 8,
    "start_time": "2022-02-05T12:02:25.925Z"
   },
   {
    "duration": 11,
    "start_time": "2022-02-05T12:16:17.978Z"
   },
   {
    "duration": 18,
    "start_time": "2022-02-05T12:18:46.071Z"
   },
   {
    "duration": 8,
    "start_time": "2022-02-05T12:19:25.814Z"
   },
   {
    "duration": 12,
    "start_time": "2022-02-05T12:27:26.841Z"
   },
   {
    "duration": 26,
    "start_time": "2022-02-05T12:28:20.399Z"
   },
   {
    "duration": 12,
    "start_time": "2022-02-05T12:29:04.650Z"
   },
   {
    "duration": 5,
    "start_time": "2022-02-05T12:37:29.524Z"
   },
   {
    "duration": 6,
    "start_time": "2022-02-05T12:38:06.967Z"
   },
   {
    "duration": 105,
    "start_time": "2022-02-05T12:38:27.343Z"
   },
   {
    "duration": 147,
    "start_time": "2022-02-05T12:38:37.414Z"
   },
   {
    "duration": 109,
    "start_time": "2022-02-05T12:39:27.973Z"
   },
   {
    "duration": 6,
    "start_time": "2022-02-05T12:39:45.963Z"
   },
   {
    "duration": 5,
    "start_time": "2022-02-05T12:42:03.338Z"
   },
   {
    "duration": 347,
    "start_time": "2022-02-05T12:44:05.299Z"
   },
   {
    "duration": 9,
    "start_time": "2022-02-05T12:44:19.840Z"
   },
   {
    "duration": 9,
    "start_time": "2022-02-05T12:45:22.833Z"
   },
   {
    "duration": 4,
    "start_time": "2022-02-05T12:57:36.198Z"
   },
   {
    "duration": 4,
    "start_time": "2022-02-05T12:57:45.308Z"
   },
   {
    "duration": 14,
    "start_time": "2022-02-05T12:59:29.089Z"
   },
   {
    "duration": 8,
    "start_time": "2022-02-05T12:59:46.263Z"
   },
   {
    "duration": 7,
    "start_time": "2022-02-05T13:00:03.346Z"
   },
   {
    "duration": 357,
    "start_time": "2022-02-05T13:00:39.600Z"
   },
   {
    "duration": 815,
    "start_time": "2022-02-05T13:00:50.724Z"
   },
   {
    "duration": 12,
    "start_time": "2022-02-05T13:00:55.202Z"
   },
   {
    "duration": 12,
    "start_time": "2022-02-05T13:00:57.928Z"
   },
   {
    "duration": 13,
    "start_time": "2022-02-05T13:01:00.851Z"
   },
   {
    "duration": 5,
    "start_time": "2022-02-05T13:01:08.263Z"
   },
   {
    "duration": 5,
    "start_time": "2022-02-05T13:01:10.122Z"
   },
   {
    "duration": 11,
    "start_time": "2022-02-05T13:01:39.743Z"
   },
   {
    "duration": 21,
    "start_time": "2022-02-05T13:03:36.676Z"
   },
   {
    "duration": 15,
    "start_time": "2022-02-05T13:03:54.929Z"
   },
   {
    "duration": 13,
    "start_time": "2022-02-05T13:04:03.064Z"
   },
   {
    "duration": 12,
    "start_time": "2022-02-05T13:04:34.185Z"
   },
   {
    "duration": 10,
    "start_time": "2022-02-05T13:05:56.465Z"
   },
   {
    "duration": 886,
    "start_time": "2022-02-05T13:06:36.670Z"
   },
   {
    "duration": 10,
    "start_time": "2022-02-05T13:06:37.557Z"
   },
   {
    "duration": 23,
    "start_time": "2022-02-05T13:06:37.569Z"
   },
   {
    "duration": 16,
    "start_time": "2022-02-05T13:06:37.593Z"
   },
   {
    "duration": 7,
    "start_time": "2022-02-05T13:06:37.611Z"
   },
   {
    "duration": 4,
    "start_time": "2022-02-05T13:06:37.620Z"
   },
   {
    "duration": 6,
    "start_time": "2022-02-05T13:06:37.626Z"
   },
   {
    "duration": 15,
    "start_time": "2022-02-05T13:06:37.634Z"
   },
   {
    "duration": 4,
    "start_time": "2022-02-05T13:09:24.768Z"
   },
   {
    "duration": 4,
    "start_time": "2022-02-05T13:09:54.693Z"
   },
   {
    "duration": 370,
    "start_time": "2022-02-05T13:10:18.349Z"
   },
   {
    "duration": 329,
    "start_time": "2022-02-05T13:10:36.940Z"
   },
   {
    "duration": 4,
    "start_time": "2022-02-05T13:10:43.436Z"
   },
   {
    "duration": 311,
    "start_time": "2022-02-05T13:12:10.044Z"
   },
   {
    "duration": 324,
    "start_time": "2022-02-05T13:12:59.008Z"
   },
   {
    "duration": 5,
    "start_time": "2022-02-05T13:13:34.340Z"
   },
   {
    "duration": 7,
    "start_time": "2022-02-05T13:13:58.520Z"
   },
   {
    "duration": 7,
    "start_time": "2022-02-05T13:14:15.596Z"
   },
   {
    "duration": 299,
    "start_time": "2022-02-05T13:14:53.536Z"
   },
   {
    "duration": 7,
    "start_time": "2022-02-05T13:15:00.117Z"
   },
   {
    "duration": 14,
    "start_time": "2022-02-05T13:16:00.755Z"
   },
   {
    "duration": 14,
    "start_time": "2022-02-05T13:16:40.749Z"
   },
   {
    "duration": 13,
    "start_time": "2022-02-05T13:17:09.129Z"
   },
   {
    "duration": 15,
    "start_time": "2022-02-05T13:17:34.853Z"
   },
   {
    "duration": 5,
    "start_time": "2022-02-05T13:17:54.576Z"
   },
   {
    "duration": 8,
    "start_time": "2022-02-05T13:18:14.641Z"
   },
   {
    "duration": 26,
    "start_time": "2022-02-05T13:18:49.676Z"
   },
   {
    "duration": 27,
    "start_time": "2022-02-05T13:20:10.885Z"
   },
   {
    "duration": 19,
    "start_time": "2022-02-05T13:20:17.311Z"
   },
   {
    "duration": 22,
    "start_time": "2022-02-05T13:22:50.451Z"
   },
   {
    "duration": 20,
    "start_time": "2022-02-05T13:26:01.584Z"
   },
   {
    "duration": 373,
    "start_time": "2022-02-05T13:27:04.449Z"
   },
   {
    "duration": 111,
    "start_time": "2022-02-05T13:27:22.139Z"
   },
   {
    "duration": 7,
    "start_time": "2022-02-05T13:27:30.567Z"
   },
   {
    "duration": 329,
    "start_time": "2022-02-05T13:28:06.459Z"
   },
   {
    "duration": 343,
    "start_time": "2022-02-05T13:28:14.902Z"
   },
   {
    "duration": 7,
    "start_time": "2022-02-05T13:28:49.399Z"
   },
   {
    "duration": 6,
    "start_time": "2022-02-05T13:30:32.914Z"
   },
   {
    "duration": 6,
    "start_time": "2022-02-05T13:35:49.024Z"
   },
   {
    "duration": 7,
    "start_time": "2022-02-05T13:36:11.902Z"
   },
   {
    "duration": 6,
    "start_time": "2022-02-05T13:37:56.999Z"
   },
   {
    "duration": 8,
    "start_time": "2022-02-05T13:38:09.179Z"
   },
   {
    "duration": 6,
    "start_time": "2022-02-05T13:38:19.917Z"
   },
   {
    "duration": 7,
    "start_time": "2022-02-05T13:38:35.663Z"
   },
   {
    "duration": 12,
    "start_time": "2022-02-05T13:39:02.157Z"
   },
   {
    "duration": 6,
    "start_time": "2022-02-05T13:39:12.922Z"
   },
   {
    "duration": 105,
    "start_time": "2022-02-05T13:41:05.242Z"
   },
   {
    "duration": 317,
    "start_time": "2022-02-05T13:41:11.657Z"
   },
   {
    "duration": 114,
    "start_time": "2022-02-05T13:44:00.160Z"
   },
   {
    "duration": 111,
    "start_time": "2022-02-05T13:44:14.501Z"
   },
   {
    "duration": 4,
    "start_time": "2022-02-05T13:44:27.575Z"
   },
   {
    "duration": 7,
    "start_time": "2022-02-05T13:44:34.020Z"
   },
   {
    "duration": 7,
    "start_time": "2022-02-05T13:44:46.804Z"
   },
   {
    "duration": 14,
    "start_time": "2022-02-05T13:48:46.993Z"
   },
   {
    "duration": 6,
    "start_time": "2022-02-05T13:54:11.378Z"
   },
   {
    "duration": 5,
    "start_time": "2022-02-05T13:54:39.363Z"
   },
   {
    "duration": 108,
    "start_time": "2022-02-05T13:55:02.238Z"
   },
   {
    "duration": 96,
    "start_time": "2022-02-05T14:01:16.331Z"
   },
   {
    "duration": 4,
    "start_time": "2022-02-05T14:01:32.111Z"
   },
   {
    "duration": 7,
    "start_time": "2022-02-05T14:01:45.337Z"
   },
   {
    "duration": 5,
    "start_time": "2022-02-05T14:02:06.835Z"
   },
   {
    "duration": 141,
    "start_time": "2022-02-05T14:03:03.176Z"
   },
   {
    "duration": 325,
    "start_time": "2022-02-05T14:03:31.800Z"
   },
   {
    "duration": 8,
    "start_time": "2022-02-05T14:04:21.195Z"
   },
   {
    "duration": 8,
    "start_time": "2022-02-05T14:04:42.132Z"
   },
   {
    "duration": 4,
    "start_time": "2022-02-05T14:05:04.617Z"
   },
   {
    "duration": 12,
    "start_time": "2022-02-05T14:05:06.512Z"
   },
   {
    "duration": 8,
    "start_time": "2022-02-05T14:05:36.565Z"
   },
   {
    "duration": 20,
    "start_time": "2022-02-05T14:05:47.323Z"
   },
   {
    "duration": 8,
    "start_time": "2022-02-05T14:06:11.761Z"
   },
   {
    "duration": 19,
    "start_time": "2022-02-05T14:06:19.054Z"
   },
   {
    "duration": 6,
    "start_time": "2022-02-05T14:07:00.732Z"
   },
   {
    "duration": 7,
    "start_time": "2022-02-05T14:07:19.126Z"
   },
   {
    "duration": 7,
    "start_time": "2022-02-05T14:07:24.526Z"
   },
   {
    "duration": 10,
    "start_time": "2022-02-05T14:07:56.884Z"
   },
   {
    "duration": 5,
    "start_time": "2022-02-05T14:08:29.383Z"
   },
   {
    "duration": 5,
    "start_time": "2022-02-05T14:08:33.273Z"
   },
   {
    "duration": 6,
    "start_time": "2022-02-05T14:08:37.675Z"
   },
   {
    "duration": 865,
    "start_time": "2022-02-05T14:09:02.216Z"
   },
   {
    "duration": 15,
    "start_time": "2022-02-05T14:09:03.083Z"
   },
   {
    "duration": 17,
    "start_time": "2022-02-05T14:09:03.100Z"
   },
   {
    "duration": 15,
    "start_time": "2022-02-05T14:09:03.119Z"
   },
   {
    "duration": 36,
    "start_time": "2022-02-05T14:09:03.136Z"
   },
   {
    "duration": 5,
    "start_time": "2022-02-05T14:09:03.174Z"
   },
   {
    "duration": 5,
    "start_time": "2022-02-05T14:09:03.180Z"
   },
   {
    "duration": 14,
    "start_time": "2022-02-05T14:09:03.188Z"
   },
   {
    "duration": 4,
    "start_time": "2022-02-05T14:09:03.204Z"
   },
   {
    "duration": 7,
    "start_time": "2022-02-05T14:09:03.210Z"
   },
   {
    "duration": 6,
    "start_time": "2022-02-05T14:09:03.218Z"
   },
   {
    "duration": 45,
    "start_time": "2022-02-05T14:09:03.226Z"
   },
   {
    "duration": 4,
    "start_time": "2022-02-05T14:09:03.273Z"
   },
   {
    "duration": 9,
    "start_time": "2022-02-05T14:09:03.278Z"
   },
   {
    "duration": 15,
    "start_time": "2022-02-05T14:09:03.289Z"
   },
   {
    "duration": 15,
    "start_time": "2022-02-05T14:09:03.305Z"
   },
   {
    "duration": 18,
    "start_time": "2022-02-05T14:09:03.322Z"
   },
   {
    "duration": 50,
    "start_time": "2022-02-05T14:09:03.342Z"
   },
   {
    "duration": 5,
    "start_time": "2022-02-05T14:09:03.394Z"
   },
   {
    "duration": 6,
    "start_time": "2022-02-05T14:09:03.401Z"
   },
   {
    "duration": 26,
    "start_time": "2022-02-05T14:09:03.409Z"
   },
   {
    "duration": 15,
    "start_time": "2022-02-05T14:09:34.877Z"
   },
   {
    "duration": 319,
    "start_time": "2022-02-05T14:10:56.309Z"
   },
   {
    "duration": 12,
    "start_time": "2022-02-05T14:11:12.944Z"
   },
   {
    "duration": 12,
    "start_time": "2022-02-05T14:11:35.082Z"
   },
   {
    "duration": 13,
    "start_time": "2022-02-05T14:11:45.571Z"
   },
   {
    "duration": 12,
    "start_time": "2022-02-05T14:11:54.227Z"
   },
   {
    "duration": 10,
    "start_time": "2022-02-05T14:12:02.628Z"
   },
   {
    "duration": 1032,
    "start_time": "2022-02-05T14:12:23.362Z"
   },
   {
    "duration": 10,
    "start_time": "2022-02-05T14:12:24.396Z"
   },
   {
    "duration": 13,
    "start_time": "2022-02-05T14:12:24.408Z"
   },
   {
    "duration": 12,
    "start_time": "2022-02-05T14:12:24.423Z"
   },
   {
    "duration": 9,
    "start_time": "2022-02-05T14:12:24.436Z"
   },
   {
    "duration": 5,
    "start_time": "2022-02-05T14:12:24.471Z"
   },
   {
    "duration": 5,
    "start_time": "2022-02-05T14:12:24.478Z"
   },
   {
    "duration": 15,
    "start_time": "2022-02-05T14:12:24.485Z"
   },
   {
    "duration": 5,
    "start_time": "2022-02-05T14:12:24.503Z"
   },
   {
    "duration": 7,
    "start_time": "2022-02-05T14:12:24.510Z"
   },
   {
    "duration": 7,
    "start_time": "2022-02-05T14:12:24.518Z"
   },
   {
    "duration": 48,
    "start_time": "2022-02-05T14:12:24.527Z"
   },
   {
    "duration": 8,
    "start_time": "2022-02-05T14:12:24.577Z"
   },
   {
    "duration": 13,
    "start_time": "2022-02-05T14:12:24.587Z"
   },
   {
    "duration": 14,
    "start_time": "2022-02-05T14:12:24.602Z"
   },
   {
    "duration": 14,
    "start_time": "2022-02-05T14:12:24.617Z"
   },
   {
    "duration": 47,
    "start_time": "2022-02-05T14:12:24.633Z"
   },
   {
    "duration": 5,
    "start_time": "2022-02-05T14:12:24.682Z"
   },
   {
    "duration": 7,
    "start_time": "2022-02-05T14:12:24.688Z"
   },
   {
    "duration": 17,
    "start_time": "2022-02-05T14:12:24.697Z"
   },
   {
    "duration": 6,
    "start_time": "2022-02-05T14:12:36.004Z"
   },
   {
    "duration": 563,
    "start_time": "2022-02-05T14:19:39.961Z"
   },
   {
    "duration": 6,
    "start_time": "2022-02-05T14:20:33.215Z"
   },
   {
    "duration": 9,
    "start_time": "2022-02-05T14:23:26.210Z"
   },
   {
    "duration": 8,
    "start_time": "2022-02-05T14:23:52.477Z"
   },
   {
    "duration": 9,
    "start_time": "2022-02-05T14:24:28.988Z"
   },
   {
    "duration": 1002,
    "start_time": "2022-02-05T14:25:22.618Z"
   },
   {
    "duration": 14,
    "start_time": "2022-02-05T14:25:23.622Z"
   },
   {
    "duration": 20,
    "start_time": "2022-02-05T14:25:23.638Z"
   },
   {
    "duration": 26,
    "start_time": "2022-02-05T14:25:23.660Z"
   },
   {
    "duration": 18,
    "start_time": "2022-02-05T14:25:23.688Z"
   },
   {
    "duration": 6,
    "start_time": "2022-02-05T14:25:23.708Z"
   },
   {
    "duration": 16,
    "start_time": "2022-02-05T14:25:23.716Z"
   },
   {
    "duration": 29,
    "start_time": "2022-02-05T14:25:23.736Z"
   },
   {
    "duration": 12,
    "start_time": "2022-02-05T14:25:23.767Z"
   },
   {
    "duration": 18,
    "start_time": "2022-02-05T14:25:23.780Z"
   },
   {
    "duration": 15,
    "start_time": "2022-02-05T14:25:23.800Z"
   },
   {
    "duration": 5,
    "start_time": "2022-02-05T14:25:23.817Z"
   },
   {
    "duration": 18,
    "start_time": "2022-02-05T14:25:23.823Z"
   },
   {
    "duration": 11,
    "start_time": "2022-02-05T14:25:23.842Z"
   },
   {
    "duration": 35,
    "start_time": "2022-02-05T14:25:23.855Z"
   },
   {
    "duration": 19,
    "start_time": "2022-02-05T14:25:23.892Z"
   },
   {
    "duration": 23,
    "start_time": "2022-02-05T14:25:23.913Z"
   },
   {
    "duration": 38,
    "start_time": "2022-02-05T14:25:23.938Z"
   },
   {
    "duration": 16,
    "start_time": "2022-02-05T14:25:23.977Z"
   },
   {
    "duration": 13,
    "start_time": "2022-02-05T14:25:23.995Z"
   },
   {
    "duration": 28,
    "start_time": "2022-02-05T14:25:24.010Z"
   },
   {
    "duration": 7,
    "start_time": "2022-02-05T14:26:18.295Z"
   },
   {
    "duration": 8,
    "start_time": "2022-02-05T14:26:30.745Z"
   },
   {
    "duration": 5,
    "start_time": "2022-02-05T14:27:48.544Z"
   },
   {
    "duration": 8,
    "start_time": "2022-02-05T14:27:57.751Z"
   },
   {
    "duration": 160,
    "start_time": "2022-02-05T14:30:33.753Z"
   },
   {
    "duration": 8,
    "start_time": "2022-02-05T14:30:38.933Z"
   },
   {
    "duration": 7,
    "start_time": "2022-02-05T14:31:47.068Z"
   },
   {
    "duration": 7,
    "start_time": "2022-02-05T14:33:04.375Z"
   },
   {
    "duration": 7,
    "start_time": "2022-02-05T14:33:26.218Z"
   },
   {
    "duration": 7,
    "start_time": "2022-02-05T14:33:48.468Z"
   },
   {
    "duration": 6,
    "start_time": "2022-02-05T14:34:00.187Z"
   },
   {
    "duration": 8,
    "start_time": "2022-02-05T14:34:05.960Z"
   },
   {
    "duration": 12,
    "start_time": "2022-02-05T14:36:45.065Z"
   },
   {
    "duration": 100,
    "start_time": "2022-02-05T14:41:32.291Z"
   },
   {
    "duration": 8,
    "start_time": "2022-02-05T14:41:38.294Z"
   },
   {
    "duration": 19,
    "start_time": "2022-02-05T14:44:40.590Z"
   },
   {
    "duration": 365,
    "start_time": "2022-02-05T14:52:37.673Z"
   },
   {
    "duration": 892,
    "start_time": "2022-02-05T14:57:45.541Z"
   },
   {
    "duration": 10,
    "start_time": "2022-02-05T14:57:46.434Z"
   },
   {
    "duration": 11,
    "start_time": "2022-02-05T14:57:46.446Z"
   },
   {
    "duration": 12,
    "start_time": "2022-02-05T14:57:46.459Z"
   },
   {
    "duration": 8,
    "start_time": "2022-02-05T14:57:46.473Z"
   },
   {
    "duration": 4,
    "start_time": "2022-02-05T14:57:46.483Z"
   },
   {
    "duration": 5,
    "start_time": "2022-02-05T14:57:46.488Z"
   },
   {
    "duration": 19,
    "start_time": "2022-02-05T14:57:46.495Z"
   },
   {
    "duration": 5,
    "start_time": "2022-02-05T14:57:46.515Z"
   },
   {
    "duration": 11,
    "start_time": "2022-02-05T14:57:46.521Z"
   },
   {
    "duration": 8,
    "start_time": "2022-02-05T14:57:46.533Z"
   },
   {
    "duration": 35,
    "start_time": "2022-02-05T14:57:46.543Z"
   },
   {
    "duration": 6,
    "start_time": "2022-02-05T14:57:46.580Z"
   },
   {
    "duration": 18,
    "start_time": "2022-02-05T14:57:46.588Z"
   },
   {
    "duration": 5,
    "start_time": "2022-02-05T14:57:46.608Z"
   },
   {
    "duration": 8,
    "start_time": "2022-02-05T14:57:46.615Z"
   },
   {
    "duration": 11,
    "start_time": "2022-02-05T14:57:46.624Z"
   },
   {
    "duration": 15,
    "start_time": "2022-02-05T14:57:46.636Z"
   },
   {
    "duration": 26,
    "start_time": "2022-02-05T14:57:46.652Z"
   },
   {
    "duration": 20,
    "start_time": "2022-02-05T14:57:46.680Z"
   },
   {
    "duration": 8,
    "start_time": "2022-02-05T14:57:46.702Z"
   },
   {
    "duration": 14,
    "start_time": "2022-02-05T14:57:46.711Z"
   },
   {
    "duration": 17,
    "start_time": "2022-02-05T14:57:46.727Z"
   },
   {
    "duration": 7,
    "start_time": "2022-02-05T15:00:13.246Z"
   },
   {
    "duration": 4,
    "start_time": "2022-02-05T15:01:22.111Z"
   },
   {
    "duration": 22,
    "start_time": "2022-02-05T15:02:50.310Z"
   },
   {
    "duration": 21,
    "start_time": "2022-02-05T15:03:27.630Z"
   },
   {
    "duration": 11,
    "start_time": "2022-02-05T15:04:26.797Z"
   },
   {
    "duration": 12,
    "start_time": "2022-02-05T15:04:50.324Z"
   },
   {
    "duration": 24,
    "start_time": "2022-02-05T15:07:22.153Z"
   },
   {
    "duration": 10,
    "start_time": "2022-02-05T15:20:25.808Z"
   },
   {
    "duration": 14,
    "start_time": "2022-02-05T15:21:13.141Z"
   },
   {
    "duration": 7,
    "start_time": "2022-02-05T15:22:01.522Z"
   },
   {
    "duration": 7,
    "start_time": "2022-02-05T15:22:18.471Z"
   },
   {
    "duration": 24,
    "start_time": "2022-02-05T16:43:30.871Z"
   },
   {
    "duration": 476,
    "start_time": "2022-02-05T16:54:51.808Z"
   },
   {
    "duration": 319,
    "start_time": "2022-02-05T16:56:38.366Z"
   },
   {
    "duration": 379,
    "start_time": "2022-02-05T16:57:05.956Z"
   },
   {
    "duration": 7,
    "start_time": "2022-02-05T16:57:38.739Z"
   },
   {
    "duration": 9,
    "start_time": "2022-02-05T16:58:58.698Z"
   },
   {
    "duration": 4,
    "start_time": "2022-02-05T16:59:31.546Z"
   },
   {
    "duration": 940,
    "start_time": "2022-02-05T16:59:42.556Z"
   },
   {
    "duration": 13,
    "start_time": "2022-02-05T16:59:43.499Z"
   },
   {
    "duration": 13,
    "start_time": "2022-02-05T16:59:43.514Z"
   },
   {
    "duration": 11,
    "start_time": "2022-02-05T16:59:43.529Z"
   },
   {
    "duration": 33,
    "start_time": "2022-02-05T16:59:43.542Z"
   },
   {
    "duration": 6,
    "start_time": "2022-02-05T16:59:43.576Z"
   },
   {
    "duration": 6,
    "start_time": "2022-02-05T16:59:43.583Z"
   },
   {
    "duration": 13,
    "start_time": "2022-02-05T16:59:43.592Z"
   },
   {
    "duration": 5,
    "start_time": "2022-02-05T16:59:43.606Z"
   },
   {
    "duration": 9,
    "start_time": "2022-02-05T16:59:43.612Z"
   },
   {
    "duration": 8,
    "start_time": "2022-02-05T16:59:43.622Z"
   },
   {
    "duration": 46,
    "start_time": "2022-02-05T16:59:43.631Z"
   },
   {
    "duration": 8,
    "start_time": "2022-02-05T16:59:43.679Z"
   },
   {
    "duration": 32,
    "start_time": "2022-02-05T16:59:43.688Z"
   },
   {
    "duration": 370,
    "start_time": "2022-02-05T16:59:43.722Z"
   },
   {
    "duration": 1149,
    "start_time": "2022-02-05T16:59:42.945Z"
   },
   {
    "duration": 1148,
    "start_time": "2022-02-05T16:59:42.947Z"
   },
   {
    "duration": 1146,
    "start_time": "2022-02-05T16:59:42.949Z"
   },
   {
    "duration": 1145,
    "start_time": "2022-02-05T16:59:42.951Z"
   },
   {
    "duration": 1144,
    "start_time": "2022-02-05T16:59:42.953Z"
   },
   {
    "duration": 1143,
    "start_time": "2022-02-05T16:59:42.955Z"
   },
   {
    "duration": 1142,
    "start_time": "2022-02-05T16:59:42.957Z"
   },
   {
    "duration": 1142,
    "start_time": "2022-02-05T16:59:42.958Z"
   },
   {
    "duration": 1141,
    "start_time": "2022-02-05T16:59:42.960Z"
   },
   {
    "duration": 1140,
    "start_time": "2022-02-05T16:59:42.962Z"
   },
   {
    "duration": 10,
    "start_time": "2022-02-05T17:00:51.720Z"
   },
   {
    "duration": 6,
    "start_time": "2022-02-05T17:01:20.051Z"
   },
   {
    "duration": 6,
    "start_time": "2022-02-05T17:02:19.169Z"
   },
   {
    "duration": 386,
    "start_time": "2022-02-05T17:03:01.871Z"
   },
   {
    "duration": 5,
    "start_time": "2022-02-05T17:03:11.424Z"
   },
   {
    "duration": 884,
    "start_time": "2022-02-05T17:03:26.272Z"
   },
   {
    "duration": 10,
    "start_time": "2022-02-05T17:03:27.158Z"
   },
   {
    "duration": 27,
    "start_time": "2022-02-05T17:03:27.170Z"
   },
   {
    "duration": 18,
    "start_time": "2022-02-05T17:03:27.199Z"
   },
   {
    "duration": 26,
    "start_time": "2022-02-05T17:03:27.219Z"
   },
   {
    "duration": 13,
    "start_time": "2022-02-05T17:03:27.247Z"
   },
   {
    "duration": 30,
    "start_time": "2022-02-05T17:03:27.261Z"
   },
   {
    "duration": 44,
    "start_time": "2022-02-05T17:03:27.293Z"
   },
   {
    "duration": 16,
    "start_time": "2022-02-05T17:03:27.339Z"
   },
   {
    "duration": 20,
    "start_time": "2022-02-05T17:03:27.357Z"
   },
   {
    "duration": 15,
    "start_time": "2022-02-05T17:03:27.379Z"
   },
   {
    "duration": 27,
    "start_time": "2022-02-05T17:03:27.395Z"
   },
   {
    "duration": 25,
    "start_time": "2022-02-05T17:03:27.424Z"
   },
   {
    "duration": 32,
    "start_time": "2022-02-05T17:03:27.451Z"
   },
   {
    "duration": 11,
    "start_time": "2022-02-05T17:03:27.484Z"
   },
   {
    "duration": 12,
    "start_time": "2022-02-05T17:03:27.497Z"
   },
   {
    "duration": 32,
    "start_time": "2022-02-05T17:03:27.511Z"
   },
   {
    "duration": 27,
    "start_time": "2022-02-05T17:03:27.544Z"
   },
   {
    "duration": 21,
    "start_time": "2022-02-05T17:03:27.572Z"
   },
   {
    "duration": 28,
    "start_time": "2022-02-05T17:03:27.594Z"
   },
   {
    "duration": 20,
    "start_time": "2022-02-05T17:03:27.624Z"
   },
   {
    "duration": 32,
    "start_time": "2022-02-05T17:03:27.645Z"
   },
   {
    "duration": 10,
    "start_time": "2022-02-05T17:03:27.679Z"
   },
   {
    "duration": 19,
    "start_time": "2022-02-05T17:03:27.691Z"
   },
   {
    "duration": 41,
    "start_time": "2022-02-05T17:03:27.711Z"
   },
   {
    "duration": 108,
    "start_time": "2022-02-05T17:04:40.618Z"
   },
   {
    "duration": 6,
    "start_time": "2022-02-05T17:04:45.856Z"
   },
   {
    "duration": 10,
    "start_time": "2022-02-05T17:05:43.876Z"
   },
   {
    "duration": 8,
    "start_time": "2022-02-05T17:06:08.778Z"
   },
   {
    "duration": 6,
    "start_time": "2022-02-05T17:06:37.085Z"
   },
   {
    "duration": 5,
    "start_time": "2022-02-05T17:06:39.614Z"
   },
   {
    "duration": 866,
    "start_time": "2022-02-05T17:07:04.940Z"
   },
   {
    "duration": 11,
    "start_time": "2022-02-05T17:07:05.808Z"
   },
   {
    "duration": 12,
    "start_time": "2022-02-05T17:07:05.821Z"
   },
   {
    "duration": 13,
    "start_time": "2022-02-05T17:07:05.834Z"
   },
   {
    "duration": 28,
    "start_time": "2022-02-05T17:07:05.848Z"
   },
   {
    "duration": 5,
    "start_time": "2022-02-05T17:07:05.878Z"
   },
   {
    "duration": 6,
    "start_time": "2022-02-05T17:07:05.884Z"
   },
   {
    "duration": 11,
    "start_time": "2022-02-05T17:07:05.892Z"
   },
   {
    "duration": 5,
    "start_time": "2022-02-05T17:07:05.904Z"
   },
   {
    "duration": 8,
    "start_time": "2022-02-05T17:07:05.910Z"
   },
   {
    "duration": 10,
    "start_time": "2022-02-05T17:07:05.919Z"
   },
   {
    "duration": 8,
    "start_time": "2022-02-05T17:07:05.930Z"
   },
   {
    "duration": 38,
    "start_time": "2022-02-05T17:07:05.939Z"
   },
   {
    "duration": 10,
    "start_time": "2022-02-05T17:07:05.978Z"
   },
   {
    "duration": 30,
    "start_time": "2022-02-05T17:07:05.990Z"
   },
   {
    "duration": 8,
    "start_time": "2022-02-05T17:07:06.022Z"
   },
   {
    "duration": 8,
    "start_time": "2022-02-05T17:07:06.031Z"
   },
   {
    "duration": 6,
    "start_time": "2022-02-05T17:07:06.041Z"
   },
   {
    "duration": 6,
    "start_time": "2022-02-05T17:07:06.071Z"
   },
   {
    "duration": 10,
    "start_time": "2022-02-05T17:07:06.078Z"
   },
   {
    "duration": 14,
    "start_time": "2022-02-05T17:07:06.089Z"
   },
   {
    "duration": 10,
    "start_time": "2022-02-05T17:07:06.105Z"
   },
   {
    "duration": 6,
    "start_time": "2022-02-05T17:07:06.118Z"
   },
   {
    "duration": 10,
    "start_time": "2022-02-05T17:07:06.125Z"
   },
   {
    "duration": 11,
    "start_time": "2022-02-05T17:07:06.136Z"
   },
   {
    "duration": 35,
    "start_time": "2022-02-05T17:07:06.149Z"
   },
   {
    "duration": 373,
    "start_time": "2022-02-05T17:12:08.596Z"
   },
   {
    "duration": 6,
    "start_time": "2022-02-05T17:19:44.211Z"
   },
   {
    "duration": 8736,
    "start_time": "2022-02-05T17:21:12.434Z"
   },
   {
    "duration": 8631,
    "start_time": "2022-02-05T17:21:28.340Z"
   },
   {
    "duration": 920,
    "start_time": "2022-02-05T17:21:47.849Z"
   },
   {
    "duration": 11,
    "start_time": "2022-02-05T17:21:48.771Z"
   },
   {
    "duration": 12,
    "start_time": "2022-02-05T17:21:48.784Z"
   },
   {
    "duration": 11,
    "start_time": "2022-02-05T17:21:48.798Z"
   },
   {
    "duration": 8,
    "start_time": "2022-02-05T17:21:48.811Z"
   },
   {
    "duration": 5,
    "start_time": "2022-02-05T17:21:48.821Z"
   },
   {
    "duration": 5,
    "start_time": "2022-02-05T17:21:48.827Z"
   },
   {
    "duration": 46,
    "start_time": "2022-02-05T17:21:48.835Z"
   },
   {
    "duration": 6,
    "start_time": "2022-02-05T17:21:48.883Z"
   },
   {
    "duration": 11,
    "start_time": "2022-02-05T17:21:48.891Z"
   },
   {
    "duration": 9,
    "start_time": "2022-02-05T17:21:48.904Z"
   },
   {
    "duration": 7,
    "start_time": "2022-02-05T17:21:48.914Z"
   },
   {
    "duration": 14,
    "start_time": "2022-02-05T17:21:48.922Z"
   },
   {
    "duration": 9,
    "start_time": "2022-02-05T17:21:48.937Z"
   },
   {
    "duration": 41,
    "start_time": "2022-02-05T17:21:48.947Z"
   },
   {
    "duration": 9,
    "start_time": "2022-02-05T17:21:48.989Z"
   },
   {
    "duration": 11,
    "start_time": "2022-02-05T17:21:49.000Z"
   },
   {
    "duration": 21,
    "start_time": "2022-02-05T17:21:49.013Z"
   },
   {
    "duration": 26,
    "start_time": "2022-02-05T17:21:49.036Z"
   },
   {
    "duration": 14,
    "start_time": "2022-02-05T17:21:49.064Z"
   },
   {
    "duration": 22,
    "start_time": "2022-02-05T17:21:49.080Z"
   },
   {
    "duration": 14,
    "start_time": "2022-02-05T17:21:49.104Z"
   },
   {
    "duration": 13,
    "start_time": "2022-02-05T17:21:49.120Z"
   },
   {
    "duration": 25,
    "start_time": "2022-02-05T17:21:49.134Z"
   },
   {
    "duration": 33,
    "start_time": "2022-02-05T17:21:49.161Z"
   },
   {
    "duration": 8301,
    "start_time": "2022-02-05T17:22:11.502Z"
   },
   {
    "duration": 821,
    "start_time": "2022-02-05T17:22:27.614Z"
   },
   {
    "duration": 10,
    "start_time": "2022-02-05T17:22:28.437Z"
   },
   {
    "duration": 29,
    "start_time": "2022-02-05T17:22:28.449Z"
   },
   {
    "duration": 15,
    "start_time": "2022-02-05T17:22:28.480Z"
   },
   {
    "duration": 15,
    "start_time": "2022-02-05T17:22:28.497Z"
   },
   {
    "duration": 14,
    "start_time": "2022-02-05T17:22:28.514Z"
   },
   {
    "duration": 15,
    "start_time": "2022-02-05T17:22:28.530Z"
   },
   {
    "duration": 22,
    "start_time": "2022-02-05T17:22:28.546Z"
   },
   {
    "duration": 14,
    "start_time": "2022-02-05T17:22:28.571Z"
   },
   {
    "duration": 9,
    "start_time": "2022-02-05T17:22:28.587Z"
   },
   {
    "duration": 8,
    "start_time": "2022-02-05T17:22:28.598Z"
   },
   {
    "duration": 22,
    "start_time": "2022-02-05T17:22:28.607Z"
   },
   {
    "duration": 14,
    "start_time": "2022-02-05T17:22:28.631Z"
   },
   {
    "duration": 18,
    "start_time": "2022-02-05T17:22:28.646Z"
   },
   {
    "duration": 27,
    "start_time": "2022-02-05T17:22:28.666Z"
   },
   {
    "duration": 10,
    "start_time": "2022-02-05T17:22:28.695Z"
   },
   {
    "duration": 11,
    "start_time": "2022-02-05T17:22:28.707Z"
   },
   {
    "duration": 17,
    "start_time": "2022-02-05T17:22:28.720Z"
   },
   {
    "duration": 23,
    "start_time": "2022-02-05T17:22:28.739Z"
   },
   {
    "duration": 24,
    "start_time": "2022-02-05T17:22:28.764Z"
   },
   {
    "duration": 18,
    "start_time": "2022-02-05T17:22:28.790Z"
   },
   {
    "duration": 17,
    "start_time": "2022-02-05T17:22:28.810Z"
   },
   {
    "duration": 15,
    "start_time": "2022-02-05T17:22:28.829Z"
   },
   {
    "duration": 13,
    "start_time": "2022-02-05T17:22:28.845Z"
   },
   {
    "duration": 26,
    "start_time": "2022-02-05T17:22:28.860Z"
   },
   {
    "duration": 861,
    "start_time": "2022-02-05T17:23:06.581Z"
   },
   {
    "duration": 9,
    "start_time": "2022-02-05T17:23:07.444Z"
   },
   {
    "duration": 12,
    "start_time": "2022-02-05T17:23:07.455Z"
   },
   {
    "duration": 12,
    "start_time": "2022-02-05T17:23:07.468Z"
   },
   {
    "duration": 9,
    "start_time": "2022-02-05T17:23:07.481Z"
   },
   {
    "duration": 5,
    "start_time": "2022-02-05T17:23:07.491Z"
   },
   {
    "duration": 5,
    "start_time": "2022-02-05T17:23:07.497Z"
   },
   {
    "duration": 13,
    "start_time": "2022-02-05T17:23:07.503Z"
   },
   {
    "duration": 5,
    "start_time": "2022-02-05T17:23:07.517Z"
   },
   {
    "duration": 9,
    "start_time": "2022-02-05T17:23:07.523Z"
   },
   {
    "duration": 8,
    "start_time": "2022-02-05T17:23:07.533Z"
   },
   {
    "duration": 5,
    "start_time": "2022-02-05T17:23:07.572Z"
   },
   {
    "duration": 8,
    "start_time": "2022-02-05T17:23:07.578Z"
   },
   {
    "duration": 7,
    "start_time": "2022-02-05T17:23:07.587Z"
   },
   {
    "duration": 11,
    "start_time": "2022-02-05T17:23:07.596Z"
   },
   {
    "duration": 10,
    "start_time": "2022-02-05T17:23:07.608Z"
   },
   {
    "duration": 6,
    "start_time": "2022-02-05T17:23:07.620Z"
   },
   {
    "duration": 9,
    "start_time": "2022-02-05T17:23:07.628Z"
   },
   {
    "duration": 35,
    "start_time": "2022-02-05T17:23:07.639Z"
   },
   {
    "duration": 11,
    "start_time": "2022-02-05T17:23:07.675Z"
   },
   {
    "duration": 8,
    "start_time": "2022-02-05T17:23:07.688Z"
   },
   {
    "duration": 7,
    "start_time": "2022-02-05T17:23:07.698Z"
   },
   {
    "duration": 8,
    "start_time": "2022-02-05T17:23:07.707Z"
   },
   {
    "duration": 12,
    "start_time": "2022-02-05T17:23:07.716Z"
   },
   {
    "duration": 42,
    "start_time": "2022-02-05T17:23:07.729Z"
   },
   {
    "duration": 958,
    "start_time": "2022-02-05T17:23:51.305Z"
   },
   {
    "duration": 9,
    "start_time": "2022-02-05T17:23:52.265Z"
   },
   {
    "duration": 13,
    "start_time": "2022-02-05T17:23:52.275Z"
   },
   {
    "duration": 12,
    "start_time": "2022-02-05T17:23:52.289Z"
   },
   {
    "duration": 11,
    "start_time": "2022-02-05T17:23:52.302Z"
   },
   {
    "duration": 5,
    "start_time": "2022-02-05T17:23:52.314Z"
   },
   {
    "duration": 7,
    "start_time": "2022-02-05T17:23:52.321Z"
   },
   {
    "duration": 14,
    "start_time": "2022-02-05T17:23:52.331Z"
   },
   {
    "duration": 5,
    "start_time": "2022-02-05T17:23:52.372Z"
   },
   {
    "duration": 7,
    "start_time": "2022-02-05T17:23:52.378Z"
   },
   {
    "duration": 6,
    "start_time": "2022-02-05T17:23:52.386Z"
   },
   {
    "duration": 7,
    "start_time": "2022-02-05T17:23:52.393Z"
   },
   {
    "duration": 18,
    "start_time": "2022-02-05T17:23:52.401Z"
   },
   {
    "duration": 15,
    "start_time": "2022-02-05T17:23:52.421Z"
   },
   {
    "duration": 8118,
    "start_time": "2022-02-05T17:23:52.438Z"
   },
   {
    "duration": 1084,
    "start_time": "2022-02-05T17:23:59.475Z"
   },
   {
    "duration": 1084,
    "start_time": "2022-02-05T17:23:59.477Z"
   },
   {
    "duration": 1083,
    "start_time": "2022-02-05T17:23:59.479Z"
   },
   {
    "duration": 1083,
    "start_time": "2022-02-05T17:23:59.481Z"
   },
   {
    "duration": 1083,
    "start_time": "2022-02-05T17:23:59.482Z"
   },
   {
    "duration": 1082,
    "start_time": "2022-02-05T17:23:59.484Z"
   },
   {
    "duration": 1081,
    "start_time": "2022-02-05T17:23:59.486Z"
   },
   {
    "duration": 1082,
    "start_time": "2022-02-05T17:23:59.487Z"
   },
   {
    "duration": 1081,
    "start_time": "2022-02-05T17:23:59.489Z"
   },
   {
    "duration": 1082,
    "start_time": "2022-02-05T17:23:59.490Z"
   },
   {
    "duration": 9182,
    "start_time": "2022-02-05T17:24:15.011Z"
   },
   {
    "duration": 832,
    "start_time": "2022-02-05T17:25:31.278Z"
   },
   {
    "duration": 9,
    "start_time": "2022-02-05T17:25:32.112Z"
   },
   {
    "duration": 12,
    "start_time": "2022-02-05T17:25:32.123Z"
   },
   {
    "duration": 12,
    "start_time": "2022-02-05T17:25:32.136Z"
   },
   {
    "duration": 25,
    "start_time": "2022-02-05T17:25:32.149Z"
   },
   {
    "duration": 5,
    "start_time": "2022-02-05T17:25:32.176Z"
   },
   {
    "duration": 4,
    "start_time": "2022-02-05T17:25:32.183Z"
   },
   {
    "duration": 14,
    "start_time": "2022-02-05T17:25:32.189Z"
   },
   {
    "duration": 5,
    "start_time": "2022-02-05T17:25:32.205Z"
   },
   {
    "duration": 9,
    "start_time": "2022-02-05T17:25:32.211Z"
   },
   {
    "duration": 9,
    "start_time": "2022-02-05T17:25:32.222Z"
   },
   {
    "duration": 7,
    "start_time": "2022-02-05T17:25:32.232Z"
   },
   {
    "duration": 33,
    "start_time": "2022-02-05T17:25:32.240Z"
   },
   {
    "duration": 9,
    "start_time": "2022-02-05T17:25:32.274Z"
   },
   {
    "duration": 7967,
    "start_time": "2022-02-05T17:25:32.285Z"
   },
   {
    "duration": 1096,
    "start_time": "2022-02-05T17:25:39.157Z"
   },
   {
    "duration": 1089,
    "start_time": "2022-02-05T17:25:39.165Z"
   },
   {
    "duration": 1087,
    "start_time": "2022-02-05T17:25:39.168Z"
   },
   {
    "duration": 1084,
    "start_time": "2022-02-05T17:25:39.172Z"
   },
   {
    "duration": 1083,
    "start_time": "2022-02-05T17:25:39.174Z"
   },
   {
    "duration": 1082,
    "start_time": "2022-02-05T17:25:39.176Z"
   },
   {
    "duration": 1082,
    "start_time": "2022-02-05T17:25:39.177Z"
   },
   {
    "duration": 1081,
    "start_time": "2022-02-05T17:25:39.179Z"
   },
   {
    "duration": 1080,
    "start_time": "2022-02-05T17:25:39.180Z"
   },
   {
    "duration": 1079,
    "start_time": "2022-02-05T17:25:39.182Z"
   },
   {
    "duration": 8,
    "start_time": "2022-02-05T17:26:25.842Z"
   },
   {
    "duration": 7,
    "start_time": "2022-02-05T17:26:41.454Z"
   },
   {
    "duration": 7,
    "start_time": "2022-02-05T17:26:43.922Z"
   },
   {
    "duration": 6,
    "start_time": "2022-02-05T17:26:46.806Z"
   },
   {
    "duration": 9,
    "start_time": "2022-02-05T17:26:54.144Z"
   },
   {
    "duration": 7,
    "start_time": "2022-02-05T17:26:58.242Z"
   },
   {
    "duration": 6,
    "start_time": "2022-02-05T17:27:05.766Z"
   },
   {
    "duration": 7,
    "start_time": "2022-02-05T17:27:09.334Z"
   },
   {
    "duration": 17,
    "start_time": "2022-02-05T17:27:15.079Z"
   },
   {
    "duration": 12,
    "start_time": "2022-02-05T17:28:49.172Z"
   },
   {
    "duration": 19,
    "start_time": "2022-02-05T17:28:56.696Z"
   },
   {
    "duration": 11,
    "start_time": "2022-02-05T17:29:27.775Z"
   },
   {
    "duration": 8,
    "start_time": "2022-02-05T17:29:29.637Z"
   },
   {
    "duration": 7,
    "start_time": "2022-02-05T17:29:30.933Z"
   },
   {
    "duration": 7,
    "start_time": "2022-02-05T17:29:32.293Z"
   },
   {
    "duration": 8,
    "start_time": "2022-02-05T17:29:32.665Z"
   },
   {
    "duration": 8,
    "start_time": "2022-02-05T17:29:34.643Z"
   },
   {
    "duration": 7,
    "start_time": "2022-02-05T17:29:39.021Z"
   },
   {
    "duration": 6,
    "start_time": "2022-02-05T17:29:39.788Z"
   },
   {
    "duration": 7,
    "start_time": "2022-02-05T17:29:43.816Z"
   },
   {
    "duration": 17,
    "start_time": "2022-02-05T17:29:46.118Z"
   },
   {
    "duration": 18,
    "start_time": "2022-02-05T17:29:47.595Z"
   },
   {
    "duration": 1096,
    "start_time": "2022-02-05T17:31:14.151Z"
   },
   {
    "duration": 1095,
    "start_time": "2022-02-05T17:31:14.153Z"
   },
   {
    "duration": 819,
    "start_time": "2022-02-05T17:31:35.223Z"
   },
   {
    "duration": 9,
    "start_time": "2022-02-05T17:31:36.044Z"
   },
   {
    "duration": 11,
    "start_time": "2022-02-05T17:31:36.055Z"
   },
   {
    "duration": 13,
    "start_time": "2022-02-05T17:31:36.068Z"
   },
   {
    "duration": 8,
    "start_time": "2022-02-05T17:31:36.083Z"
   },
   {
    "duration": 4,
    "start_time": "2022-02-05T17:31:36.092Z"
   },
   {
    "duration": 5,
    "start_time": "2022-02-05T17:31:36.097Z"
   },
   {
    "duration": 12,
    "start_time": "2022-02-05T17:31:36.104Z"
   },
   {
    "duration": 5,
    "start_time": "2022-02-05T17:31:36.117Z"
   },
   {
    "duration": 7,
    "start_time": "2022-02-05T17:31:36.124Z"
   },
   {
    "duration": 41,
    "start_time": "2022-02-05T17:31:36.132Z"
   },
   {
    "duration": 6,
    "start_time": "2022-02-05T17:31:36.174Z"
   },
   {
    "duration": 12,
    "start_time": "2022-02-05T17:31:36.181Z"
   },
   {
    "duration": 8,
    "start_time": "2022-02-05T17:31:36.195Z"
   },
   {
    "duration": 8,
    "start_time": "2022-02-05T17:31:36.204Z"
   },
   {
    "duration": 10,
    "start_time": "2022-02-05T17:31:36.213Z"
   },
   {
    "duration": 7,
    "start_time": "2022-02-05T17:31:36.225Z"
   },
   {
    "duration": 11,
    "start_time": "2022-02-05T17:31:36.234Z"
   },
   {
    "duration": 28,
    "start_time": "2022-02-05T17:31:36.246Z"
   },
   {
    "duration": 12,
    "start_time": "2022-02-05T17:31:36.276Z"
   },
   {
    "duration": 11,
    "start_time": "2022-02-05T17:31:36.290Z"
   },
   {
    "duration": 7,
    "start_time": "2022-02-05T17:31:36.302Z"
   },
   {
    "duration": 9,
    "start_time": "2022-02-05T17:31:36.311Z"
   },
   {
    "duration": 12,
    "start_time": "2022-02-05T17:31:36.321Z"
   },
   {
    "duration": 17,
    "start_time": "2022-02-05T17:31:36.334Z"
   },
   {
    "duration": 303,
    "start_time": "2022-02-09T05:15:54.624Z"
   },
   {
    "duration": 836,
    "start_time": "2022-02-09T05:16:25.513Z"
   },
   {
    "duration": 10,
    "start_time": "2022-02-09T05:16:26.351Z"
   },
   {
    "duration": 14,
    "start_time": "2022-02-09T05:16:26.363Z"
   },
   {
    "duration": 11,
    "start_time": "2022-02-09T05:16:26.379Z"
   },
   {
    "duration": 29,
    "start_time": "2022-02-09T05:16:26.391Z"
   },
   {
    "duration": 6,
    "start_time": "2022-02-09T05:16:26.422Z"
   },
   {
    "duration": 7,
    "start_time": "2022-02-09T05:16:26.430Z"
   },
   {
    "duration": 21,
    "start_time": "2022-02-09T05:16:26.439Z"
   },
   {
    "duration": 7,
    "start_time": "2022-02-09T05:16:26.463Z"
   },
   {
    "duration": 10,
    "start_time": "2022-02-09T05:16:26.472Z"
   },
   {
    "duration": 34,
    "start_time": "2022-02-09T05:16:26.484Z"
   },
   {
    "duration": 7,
    "start_time": "2022-02-09T05:16:26.520Z"
   },
   {
    "duration": 15,
    "start_time": "2022-02-09T05:16:26.528Z"
   },
   {
    "duration": 9,
    "start_time": "2022-02-09T05:16:26.544Z"
   },
   {
    "duration": 8,
    "start_time": "2022-02-09T05:16:26.554Z"
   },
   {
    "duration": 14,
    "start_time": "2022-02-09T05:16:26.564Z"
   },
   {
    "duration": 40,
    "start_time": "2022-02-09T05:16:26.579Z"
   },
   {
    "duration": 12,
    "start_time": "2022-02-09T05:16:26.621Z"
   },
   {
    "duration": 14,
    "start_time": "2022-02-09T05:16:26.635Z"
   },
   {
    "duration": 25,
    "start_time": "2022-02-09T05:16:26.651Z"
   },
   {
    "duration": 13,
    "start_time": "2022-02-09T05:16:26.678Z"
   },
   {
    "duration": 9,
    "start_time": "2022-02-09T05:16:26.693Z"
   },
   {
    "duration": 33,
    "start_time": "2022-02-09T05:16:26.703Z"
   },
   {
    "duration": 11,
    "start_time": "2022-02-09T05:16:26.738Z"
   },
   {
    "duration": 18,
    "start_time": "2022-02-09T05:16:26.751Z"
   },
   {
    "duration": 4,
    "start_time": "2022-02-09T05:16:26.770Z"
   },
   {
    "duration": 4,
    "start_time": "2022-02-09T05:16:36.074Z"
   },
   {
    "duration": -31,
    "start_time": "2022-02-09T05:17:38.354Z"
   },
   {
    "duration": 8394,
    "start_time": "2022-02-09T05:17:48.601Z"
   },
   {
    "duration": 840,
    "start_time": "2022-02-09T05:18:09.168Z"
   },
   {
    "duration": 15,
    "start_time": "2022-02-09T05:18:10.011Z"
   },
   {
    "duration": 16,
    "start_time": "2022-02-09T05:18:10.029Z"
   },
   {
    "duration": 14,
    "start_time": "2022-02-09T05:18:10.047Z"
   },
   {
    "duration": 13,
    "start_time": "2022-02-09T05:18:10.063Z"
   },
   {
    "duration": 40,
    "start_time": "2022-02-09T05:18:10.078Z"
   },
   {
    "duration": 8,
    "start_time": "2022-02-09T05:18:10.121Z"
   },
   {
    "duration": 16,
    "start_time": "2022-02-09T05:18:10.132Z"
   },
   {
    "duration": 7,
    "start_time": "2022-02-09T05:18:10.151Z"
   },
   {
    "duration": 10,
    "start_time": "2022-02-09T05:18:10.160Z"
   },
   {
    "duration": 11,
    "start_time": "2022-02-09T05:18:10.172Z"
   },
   {
    "duration": 47,
    "start_time": "2022-02-09T05:18:10.185Z"
   },
   {
    "duration": 10,
    "start_time": "2022-02-09T05:18:10.234Z"
   },
   {
    "duration": 10,
    "start_time": "2022-02-09T05:18:10.246Z"
   },
   {
    "duration": 9,
    "start_time": "2022-02-09T05:18:10.258Z"
   },
   {
    "duration": 59,
    "start_time": "2022-02-09T05:18:10.269Z"
   },
   {
    "duration": 8,
    "start_time": "2022-02-09T05:18:10.330Z"
   },
   {
    "duration": 21,
    "start_time": "2022-02-09T05:18:10.340Z"
   },
   {
    "duration": 12,
    "start_time": "2022-02-09T05:18:10.363Z"
   },
   {
    "duration": 26,
    "start_time": "2022-02-09T05:18:10.377Z"
   },
   {
    "duration": 11,
    "start_time": "2022-02-09T05:18:10.405Z"
   },
   {
    "duration": 10,
    "start_time": "2022-02-09T05:18:10.418Z"
   },
   {
    "duration": 8,
    "start_time": "2022-02-09T05:18:10.430Z"
   },
   {
    "duration": 16,
    "start_time": "2022-02-09T05:18:10.440Z"
   },
   {
    "duration": 22,
    "start_time": "2022-02-09T05:18:10.458Z"
   },
   {
    "duration": 7100,
    "start_time": "2022-02-09T05:18:10.482Z"
   },
   {
    "duration": 13,
    "start_time": "2022-02-09T05:25:45.345Z"
   },
   {
    "duration": 798,
    "start_time": "2022-02-09T05:26:32.958Z"
   },
   {
    "duration": 12,
    "start_time": "2022-02-09T05:26:33.758Z"
   },
   {
    "duration": 15,
    "start_time": "2022-02-09T05:26:33.772Z"
   },
   {
    "duration": 30,
    "start_time": "2022-02-09T05:26:33.789Z"
   },
   {
    "duration": 11,
    "start_time": "2022-02-09T05:26:33.821Z"
   },
   {
    "duration": 5,
    "start_time": "2022-02-09T05:26:33.834Z"
   },
   {
    "duration": 8,
    "start_time": "2022-02-09T05:26:33.841Z"
   },
   {
    "duration": 14,
    "start_time": "2022-02-09T05:26:33.851Z"
   },
   {
    "duration": 5,
    "start_time": "2022-02-09T05:26:33.867Z"
   },
   {
    "duration": 50,
    "start_time": "2022-02-09T05:26:33.874Z"
   },
   {
    "duration": 7,
    "start_time": "2022-02-09T05:26:33.926Z"
   },
   {
    "duration": 5,
    "start_time": "2022-02-09T05:26:33.935Z"
   },
   {
    "duration": 12,
    "start_time": "2022-02-09T05:26:33.942Z"
   },
   {
    "duration": 7,
    "start_time": "2022-02-09T05:26:33.956Z"
   },
   {
    "duration": 9,
    "start_time": "2022-02-09T05:26:33.965Z"
   },
   {
    "duration": 52,
    "start_time": "2022-02-09T05:26:33.976Z"
   },
   {
    "duration": 12,
    "start_time": "2022-02-09T05:26:34.030Z"
   },
   {
    "duration": 8,
    "start_time": "2022-02-09T05:26:34.044Z"
   },
   {
    "duration": 10,
    "start_time": "2022-02-09T05:26:34.054Z"
   },
   {
    "duration": 13,
    "start_time": "2022-02-09T05:26:34.065Z"
   },
   {
    "duration": 9,
    "start_time": "2022-02-09T05:26:34.080Z"
   },
   {
    "duration": 8,
    "start_time": "2022-02-09T05:26:34.118Z"
   },
   {
    "duration": 6,
    "start_time": "2022-02-09T05:26:34.129Z"
   },
   {
    "duration": 8,
    "start_time": "2022-02-09T05:26:34.136Z"
   },
   {
    "duration": 17,
    "start_time": "2022-02-09T05:26:34.146Z"
   },
   {
    "duration": 10,
    "start_time": "2022-02-09T05:26:34.165Z"
   },
   {
    "duration": 9,
    "start_time": "2022-02-09T05:31:41.209Z"
   },
   {
    "duration": 16,
    "start_time": "2022-02-09T05:32:43.296Z"
   },
   {
    "duration": 15,
    "start_time": "2022-02-09T05:33:10.488Z"
   },
   {
    "duration": 14,
    "start_time": "2022-02-09T05:33:27.341Z"
   },
   {
    "duration": 15,
    "start_time": "2022-02-09T05:33:45.462Z"
   },
   {
    "duration": 26,
    "start_time": "2022-02-09T05:35:58.352Z"
   },
   {
    "duration": 19,
    "start_time": "2022-02-09T05:38:40.943Z"
   },
   {
    "duration": 8,
    "start_time": "2022-02-09T05:38:59.316Z"
   },
   {
    "duration": 32,
    "start_time": "2022-02-09T05:39:30.169Z"
   },
   {
    "duration": 15,
    "start_time": "2022-02-09T05:41:34.410Z"
   },
   {
    "duration": 28,
    "start_time": "2022-02-09T05:41:47.250Z"
   },
   {
    "duration": 873,
    "start_time": "2022-02-09T05:42:01.622Z"
   },
   {
    "duration": 13,
    "start_time": "2022-02-09T05:42:02.497Z"
   },
   {
    "duration": 23,
    "start_time": "2022-02-09T05:42:02.513Z"
   },
   {
    "duration": 15,
    "start_time": "2022-02-09T05:42:02.538Z"
   },
   {
    "duration": 8,
    "start_time": "2022-02-09T05:42:02.555Z"
   },
   {
    "duration": 16,
    "start_time": "2022-02-09T05:42:02.564Z"
   },
   {
    "duration": 18,
    "start_time": "2022-02-09T05:42:02.581Z"
   },
   {
    "duration": 18,
    "start_time": "2022-02-09T05:42:02.602Z"
   },
   {
    "duration": 7,
    "start_time": "2022-02-09T05:42:02.623Z"
   },
   {
    "duration": 13,
    "start_time": "2022-02-09T05:42:02.633Z"
   },
   {
    "duration": 14,
    "start_time": "2022-02-09T05:42:02.648Z"
   },
   {
    "duration": 6,
    "start_time": "2022-02-09T05:42:02.663Z"
   },
   {
    "duration": 12,
    "start_time": "2022-02-09T05:42:02.670Z"
   },
   {
    "duration": 35,
    "start_time": "2022-02-09T05:42:02.683Z"
   },
   {
    "duration": 7,
    "start_time": "2022-02-09T05:42:02.720Z"
   },
   {
    "duration": 23,
    "start_time": "2022-02-09T05:42:02.729Z"
   },
   {
    "duration": 6,
    "start_time": "2022-02-09T05:42:02.754Z"
   },
   {
    "duration": 11,
    "start_time": "2022-02-09T05:42:02.762Z"
   },
   {
    "duration": 10,
    "start_time": "2022-02-09T05:42:02.774Z"
   },
   {
    "duration": 18,
    "start_time": "2022-02-09T05:42:02.786Z"
   },
   {
    "duration": 11,
    "start_time": "2022-02-09T05:42:02.818Z"
   },
   {
    "duration": 8,
    "start_time": "2022-02-09T05:42:02.831Z"
   },
   {
    "duration": 8,
    "start_time": "2022-02-09T05:42:02.843Z"
   },
   {
    "duration": 9,
    "start_time": "2022-02-09T05:42:02.853Z"
   },
   {
    "duration": 19,
    "start_time": "2022-02-09T05:42:02.864Z"
   },
   {
    "duration": 6,
    "start_time": "2022-02-09T05:42:02.919Z"
   },
   {
    "duration": 28,
    "start_time": "2022-02-09T05:42:02.927Z"
   },
   {
    "duration": 352,
    "start_time": "2022-02-09T05:43:35.527Z"
   },
   {
    "duration": 31,
    "start_time": "2022-02-09T05:43:48.972Z"
   },
   {
    "duration": 8,
    "start_time": "2022-02-09T05:47:55.836Z"
   },
   {
    "duration": 27,
    "start_time": "2022-02-09T05:49:10.526Z"
   },
   {
    "duration": 16,
    "start_time": "2022-02-09T05:56:40.254Z"
   },
   {
    "duration": 28,
    "start_time": "2022-02-09T05:57:59.071Z"
   },
   {
    "duration": 4,
    "start_time": "2022-02-09T06:25:14.457Z"
   },
   {
    "duration": 10,
    "start_time": "2022-02-09T06:25:40.010Z"
   },
   {
    "duration": 14,
    "start_time": "2022-02-09T06:27:51.843Z"
   },
   {
    "duration": 368,
    "start_time": "2022-02-09T06:29:46.898Z"
   },
   {
    "duration": 12,
    "start_time": "2022-02-09T06:29:56.372Z"
   },
   {
    "duration": 777,
    "start_time": "2022-02-09T06:40:28.286Z"
   },
   {
    "duration": 13,
    "start_time": "2022-02-09T06:40:51.610Z"
   },
   {
    "duration": 4,
    "start_time": "2022-02-09T06:50:54.192Z"
   },
   {
    "duration": 4,
    "start_time": "2022-02-09T06:50:58.811Z"
   },
   {
    "duration": 4,
    "start_time": "2022-02-09T06:51:03.887Z"
   },
   {
    "duration": 4,
    "start_time": "2022-02-09T06:51:14.883Z"
   },
   {
    "duration": 10,
    "start_time": "2022-02-09T06:51:57.047Z"
   },
   {
    "duration": 7,
    "start_time": "2022-02-09T06:52:10.638Z"
   },
   {
    "duration": 7,
    "start_time": "2022-02-09T06:54:24.220Z"
   },
   {
    "duration": 274,
    "start_time": "2022-02-09T06:59:44.106Z"
   },
   {
    "duration": 19,
    "start_time": "2022-02-09T06:59:53.140Z"
   },
   {
    "duration": 19,
    "start_time": "2022-02-09T07:00:21.053Z"
   },
   {
    "duration": 810,
    "start_time": "2022-02-09T07:18:01.469Z"
   },
   {
    "duration": 11,
    "start_time": "2022-02-09T07:18:02.281Z"
   },
   {
    "duration": 26,
    "start_time": "2022-02-09T07:18:02.294Z"
   },
   {
    "duration": 13,
    "start_time": "2022-02-09T07:18:02.322Z"
   },
   {
    "duration": 16,
    "start_time": "2022-02-09T07:18:02.337Z"
   },
   {
    "duration": 17,
    "start_time": "2022-02-09T07:18:02.355Z"
   },
   {
    "duration": 11,
    "start_time": "2022-02-09T07:18:02.374Z"
   },
   {
    "duration": 21,
    "start_time": "2022-02-09T07:18:02.386Z"
   },
   {
    "duration": 29,
    "start_time": "2022-02-09T07:18:02.409Z"
   },
   {
    "duration": 27,
    "start_time": "2022-02-09T07:18:02.440Z"
   },
   {
    "duration": 24,
    "start_time": "2022-02-09T07:18:02.469Z"
   },
   {
    "duration": 36,
    "start_time": "2022-02-09T07:18:02.495Z"
   },
   {
    "duration": 20,
    "start_time": "2022-02-09T07:18:02.533Z"
   },
   {
    "duration": 12,
    "start_time": "2022-02-09T07:18:02.555Z"
   },
   {
    "duration": 9,
    "start_time": "2022-02-09T07:18:02.569Z"
   },
   {
    "duration": 30,
    "start_time": "2022-02-09T07:18:02.580Z"
   },
   {
    "duration": 20,
    "start_time": "2022-02-09T07:18:02.611Z"
   },
   {
    "duration": 52,
    "start_time": "2022-02-09T07:18:02.633Z"
   },
   {
    "duration": 15,
    "start_time": "2022-02-09T07:18:02.687Z"
   },
   {
    "duration": 42,
    "start_time": "2022-02-09T07:18:02.704Z"
   },
   {
    "duration": 29,
    "start_time": "2022-02-09T07:18:02.747Z"
   },
   {
    "duration": 25,
    "start_time": "2022-02-09T07:18:02.777Z"
   },
   {
    "duration": 14,
    "start_time": "2022-02-09T07:18:02.804Z"
   },
   {
    "duration": 35,
    "start_time": "2022-02-09T07:18:02.820Z"
   },
   {
    "duration": 55,
    "start_time": "2022-02-09T07:18:02.857Z"
   },
   {
    "duration": 23,
    "start_time": "2022-02-09T07:18:02.914Z"
   },
   {
    "duration": 42,
    "start_time": "2022-02-09T07:18:02.940Z"
   },
   {
    "duration": 37,
    "start_time": "2022-02-09T07:18:02.984Z"
   },
   {
    "duration": 10,
    "start_time": "2022-02-09T07:18:03.023Z"
   },
   {
    "duration": 19,
    "start_time": "2022-02-09T07:18:03.035Z"
   },
   {
    "duration": 12,
    "start_time": "2022-02-09T07:18:03.055Z"
   },
   {
    "duration": 40,
    "start_time": "2022-02-09T07:18:03.068Z"
   },
   {
    "duration": 21,
    "start_time": "2022-02-09T07:18:21.408Z"
   },
   {
    "duration": 22,
    "start_time": "2022-02-09T07:18:41.933Z"
   },
   {
    "duration": 24,
    "start_time": "2022-02-09T07:18:51.666Z"
   },
   {
    "duration": 23,
    "start_time": "2022-02-09T07:19:25.624Z"
   },
   {
    "duration": 23,
    "start_time": "2022-02-09T07:19:55.758Z"
   },
   {
    "duration": 18,
    "start_time": "2022-02-09T07:20:32.691Z"
   },
   {
    "duration": 3,
    "start_time": "2022-02-09T07:28:24.134Z"
   },
   {
    "duration": 8610,
    "start_time": "2022-02-09T07:32:54.328Z"
   },
   {
    "duration": 30,
    "start_time": "2022-02-09T07:33:23.273Z"
   },
   {
    "duration": 27,
    "start_time": "2022-02-09T07:35:34.115Z"
   },
   {
    "duration": 18,
    "start_time": "2022-02-09T07:41:05.890Z"
   },
   {
    "duration": 279,
    "start_time": "2022-02-09T07:48:29.100Z"
   },
   {
    "duration": 19,
    "start_time": "2022-02-09T07:49:03.946Z"
   },
   {
    "duration": 279,
    "start_time": "2022-02-09T07:49:06.709Z"
   },
   {
    "duration": 265,
    "start_time": "2022-02-09T07:49:28.910Z"
   },
   {
    "duration": 282,
    "start_time": "2022-02-09T07:49:45.923Z"
   },
   {
    "duration": 276,
    "start_time": "2022-02-09T07:52:10.819Z"
   },
   {
    "duration": 282,
    "start_time": "2022-02-09T07:52:40.237Z"
   },
   {
    "duration": 15,
    "start_time": "2022-02-09T07:52:53.896Z"
   },
   {
    "duration": 17,
    "start_time": "2022-02-09T07:53:07.378Z"
   },
   {
    "duration": 16,
    "start_time": "2022-02-09T07:55:08.657Z"
   },
   {
    "duration": 100,
    "start_time": "2022-02-09T07:59:02.339Z"
   },
   {
    "duration": 9,
    "start_time": "2022-02-09T07:59:14.319Z"
   },
   {
    "duration": 272,
    "start_time": "2022-02-09T08:07:11.394Z"
   },
   {
    "duration": 291,
    "start_time": "2022-02-09T08:07:28.085Z"
   },
   {
    "duration": 22,
    "start_time": "2022-02-09T08:07:39.598Z"
   },
   {
    "duration": 277,
    "start_time": "2022-02-09T08:07:42.463Z"
   },
   {
    "duration": 19,
    "start_time": "2022-02-09T08:07:52.135Z"
   },
   {
    "duration": 20,
    "start_time": "2022-02-09T08:07:57.443Z"
   },
   {
    "duration": 5075,
    "start_time": "2022-02-09T08:09:49.953Z"
   },
   {
    "duration": 22,
    "start_time": "2022-02-09T08:10:16.823Z"
   },
   {
    "duration": 35,
    "start_time": "2022-02-09T08:11:34.382Z"
   },
   {
    "duration": 4456,
    "start_time": "2022-02-09T08:11:47.104Z"
   },
   {
    "duration": 24,
    "start_time": "2022-02-09T08:12:03.402Z"
   },
   {
    "duration": 35,
    "start_time": "2022-02-09T08:12:28.482Z"
   },
   {
    "duration": 22,
    "start_time": "2022-02-09T08:13:15.764Z"
   },
   {
    "duration": 20,
    "start_time": "2022-02-09T08:56:46.974Z"
   },
   {
    "duration": 22,
    "start_time": "2022-02-09T08:56:55.475Z"
   },
   {
    "duration": 24,
    "start_time": "2022-02-09T08:57:38.098Z"
   },
   {
    "duration": 24,
    "start_time": "2022-02-09T09:01:28.064Z"
   },
   {
    "duration": 25,
    "start_time": "2022-02-09T09:03:48.325Z"
   },
   {
    "duration": 30,
    "start_time": "2022-02-09T09:08:50.719Z"
   },
   {
    "duration": 22,
    "start_time": "2022-02-09T09:09:01.037Z"
   },
   {
    "duration": 26,
    "start_time": "2022-02-09T09:10:03.050Z"
   },
   {
    "duration": 24,
    "start_time": "2022-02-09T09:10:40.499Z"
   },
   {
    "duration": 21,
    "start_time": "2022-02-09T09:16:03.325Z"
   },
   {
    "duration": 22,
    "start_time": "2022-02-09T09:17:42.708Z"
   },
   {
    "duration": 27,
    "start_time": "2022-02-09T09:18:07.360Z"
   },
   {
    "duration": 22,
    "start_time": "2022-02-09T09:19:10.906Z"
   },
   {
    "duration": 33,
    "start_time": "2022-02-09T09:19:42.735Z"
   },
   {
    "duration": 22,
    "start_time": "2022-02-09T09:20:26.119Z"
   },
   {
    "duration": 23,
    "start_time": "2022-02-09T09:20:48.305Z"
   },
   {
    "duration": 23,
    "start_time": "2022-02-09T09:21:02.177Z"
   },
   {
    "duration": 112,
    "start_time": "2022-02-09T09:21:08.948Z"
   },
   {
    "duration": 24,
    "start_time": "2022-02-09T09:21:18.745Z"
   },
   {
    "duration": 23,
    "start_time": "2022-02-09T09:22:10.709Z"
   },
   {
    "duration": 21,
    "start_time": "2022-02-09T09:22:47.416Z"
   },
   {
    "duration": 218,
    "start_time": "2022-02-09T09:23:04.905Z"
   },
   {
    "duration": 21,
    "start_time": "2022-02-09T09:23:11.810Z"
   },
   {
    "duration": 21,
    "start_time": "2022-02-09T09:45:20.761Z"
   },
   {
    "duration": 25,
    "start_time": "2022-02-09T11:13:22.504Z"
   },
   {
    "duration": 21,
    "start_time": "2022-02-09T11:13:41.894Z"
   },
   {
    "duration": 13,
    "start_time": "2022-02-09T12:24:26.572Z"
   },
   {
    "duration": 12,
    "start_time": "2022-02-09T12:24:38.798Z"
   },
   {
    "duration": 7,
    "start_time": "2022-02-09T12:25:05.444Z"
   },
   {
    "duration": 9,
    "start_time": "2022-02-09T12:25:14.874Z"
   },
   {
    "duration": 863,
    "start_time": "2022-02-09T12:27:36.608Z"
   },
   {
    "duration": 11,
    "start_time": "2022-02-09T12:27:37.473Z"
   },
   {
    "duration": 14,
    "start_time": "2022-02-09T12:27:37.486Z"
   },
   {
    "duration": 27,
    "start_time": "2022-02-09T12:27:37.502Z"
   },
   {
    "duration": 17,
    "start_time": "2022-02-09T12:27:37.531Z"
   },
   {
    "duration": 10,
    "start_time": "2022-02-09T12:27:37.550Z"
   },
   {
    "duration": 8,
    "start_time": "2022-02-09T12:27:37.561Z"
   },
   {
    "duration": 20,
    "start_time": "2022-02-09T12:27:37.572Z"
   },
   {
    "duration": 7,
    "start_time": "2022-02-09T12:27:37.618Z"
   },
   {
    "duration": 11,
    "start_time": "2022-02-09T12:27:37.627Z"
   },
   {
    "duration": 7,
    "start_time": "2022-02-09T12:27:37.640Z"
   },
   {
    "duration": 8,
    "start_time": "2022-02-09T12:27:37.649Z"
   },
   {
    "duration": 9,
    "start_time": "2022-02-09T12:27:37.658Z"
   },
   {
    "duration": 7,
    "start_time": "2022-02-09T12:27:37.669Z"
   },
   {
    "duration": 48,
    "start_time": "2022-02-09T12:27:37.677Z"
   },
   {
    "duration": 16,
    "start_time": "2022-02-09T12:27:37.726Z"
   },
   {
    "duration": 7,
    "start_time": "2022-02-09T12:27:37.744Z"
   },
   {
    "duration": 11,
    "start_time": "2022-02-09T12:27:37.752Z"
   },
   {
    "duration": 9,
    "start_time": "2022-02-09T12:27:37.765Z"
   },
   {
    "duration": 44,
    "start_time": "2022-02-09T12:27:37.775Z"
   },
   {
    "duration": 9,
    "start_time": "2022-02-09T12:27:37.821Z"
   },
   {
    "duration": 11,
    "start_time": "2022-02-09T12:27:37.831Z"
   },
   {
    "duration": 7,
    "start_time": "2022-02-09T12:27:37.845Z"
   },
   {
    "duration": 11,
    "start_time": "2022-02-09T12:27:37.853Z"
   },
   {
    "duration": 17,
    "start_time": "2022-02-09T12:27:37.866Z"
   },
   {
    "duration": 5,
    "start_time": "2022-02-09T12:27:37.918Z"
   },
   {
    "duration": 21,
    "start_time": "2022-02-09T12:27:37.924Z"
   },
   {
    "duration": 30,
    "start_time": "2022-02-09T12:27:37.947Z"
   },
   {
    "duration": 11,
    "start_time": "2022-02-09T12:27:37.979Z"
   },
   {
    "duration": 11,
    "start_time": "2022-02-09T12:27:38.019Z"
   },
   {
    "duration": 12,
    "start_time": "2022-02-09T12:27:38.032Z"
   },
   {
    "duration": 19,
    "start_time": "2022-02-09T12:27:38.046Z"
   },
   {
    "duration": 53,
    "start_time": "2022-02-09T12:27:38.067Z"
   },
   {
    "duration": 26,
    "start_time": "2022-02-09T12:27:38.121Z"
   },
   {
    "duration": 21,
    "start_time": "2022-02-09T12:27:38.149Z"
   },
   {
    "duration": 18,
    "start_time": "2022-02-09T12:27:38.171Z"
   },
   {
    "duration": 23,
    "start_time": "2022-02-09T12:27:38.219Z"
   },
   {
    "duration": 793,
    "start_time": "2022-02-09T12:34:20.680Z"
   },
   {
    "duration": 11,
    "start_time": "2022-02-09T12:34:21.474Z"
   },
   {
    "duration": 11,
    "start_time": "2022-02-09T12:34:21.487Z"
   },
   {
    "duration": 28,
    "start_time": "2022-02-09T12:34:21.500Z"
   },
   {
    "duration": 10,
    "start_time": "2022-02-09T12:34:21.530Z"
   },
   {
    "duration": 8,
    "start_time": "2022-02-09T12:34:21.541Z"
   },
   {
    "duration": 5,
    "start_time": "2022-02-09T12:34:21.550Z"
   },
   {
    "duration": 17,
    "start_time": "2022-02-09T12:34:21.557Z"
   },
   {
    "duration": 46,
    "start_time": "2022-02-09T12:34:21.577Z"
   },
   {
    "duration": 8,
    "start_time": "2022-02-09T12:34:21.625Z"
   },
   {
    "duration": 6,
    "start_time": "2022-02-09T12:34:21.635Z"
   },
   {
    "duration": 5,
    "start_time": "2022-02-09T12:34:21.643Z"
   },
   {
    "duration": 13,
    "start_time": "2022-02-09T12:34:21.650Z"
   },
   {
    "duration": 7,
    "start_time": "2022-02-09T12:34:21.665Z"
   },
   {
    "duration": 47,
    "start_time": "2022-02-09T12:34:21.674Z"
   },
   {
    "duration": 14,
    "start_time": "2022-02-09T12:34:21.723Z"
   },
   {
    "duration": 15,
    "start_time": "2022-02-09T12:34:21.739Z"
   },
   {
    "duration": 19,
    "start_time": "2022-02-09T12:34:21.756Z"
   },
   {
    "duration": 12,
    "start_time": "2022-02-09T12:34:21.776Z"
   },
   {
    "duration": 29,
    "start_time": "2022-02-09T12:34:21.790Z"
   },
   {
    "duration": 9,
    "start_time": "2022-02-09T12:34:21.821Z"
   },
   {
    "duration": 8,
    "start_time": "2022-02-09T12:34:21.832Z"
   },
   {
    "duration": 6,
    "start_time": "2022-02-09T12:34:21.842Z"
   },
   {
    "duration": 9,
    "start_time": "2022-02-09T12:34:21.850Z"
   },
   {
    "duration": 17,
    "start_time": "2022-02-09T12:34:21.861Z"
   },
   {
    "duration": 39,
    "start_time": "2022-02-09T12:34:21.879Z"
   },
   {
    "duration": 18,
    "start_time": "2022-02-09T12:34:21.922Z"
   },
   {
    "duration": 31,
    "start_time": "2022-02-09T12:34:21.942Z"
   },
   {
    "duration": 11,
    "start_time": "2022-02-09T12:34:21.975Z"
   },
   {
    "duration": 40,
    "start_time": "2022-02-09T12:34:21.987Z"
   },
   {
    "duration": 14,
    "start_time": "2022-02-09T12:34:22.029Z"
   },
   {
    "duration": 17,
    "start_time": "2022-02-09T12:34:22.045Z"
   },
   {
    "duration": 54,
    "start_time": "2022-02-09T12:34:22.064Z"
   },
   {
    "duration": 23,
    "start_time": "2022-02-09T12:34:22.120Z"
   },
   {
    "duration": 20,
    "start_time": "2022-02-09T12:34:22.145Z"
   },
   {
    "duration": 18,
    "start_time": "2022-02-09T12:34:22.167Z"
   },
   {
    "duration": 50,
    "start_time": "2022-02-09T12:34:22.186Z"
   },
   {
    "duration": 406,
    "start_time": "2022-02-16T06:00:28.471Z"
   },
   {
    "duration": 730,
    "start_time": "2022-02-16T06:00:42.093Z"
   },
   {
    "duration": 245,
    "start_time": "2022-02-16T06:00:42.826Z"
   },
   {
    "duration": 14,
    "start_time": "2022-02-16T06:00:43.074Z"
   },
   {
    "duration": 18,
    "start_time": "2022-02-16T06:00:43.091Z"
   },
   {
    "duration": 19,
    "start_time": "2022-02-16T06:00:43.111Z"
   },
   {
    "duration": 60,
    "start_time": "2022-02-16T06:00:43.132Z"
   },
   {
    "duration": 9,
    "start_time": "2022-02-16T06:00:43.195Z"
   },
   {
    "duration": 6,
    "start_time": "2022-02-16T06:00:43.210Z"
   },
   {
    "duration": 57,
    "start_time": "2022-02-16T06:00:43.219Z"
   },
   {
    "duration": 8,
    "start_time": "2022-02-16T06:00:43.278Z"
   },
   {
    "duration": 12,
    "start_time": "2022-02-16T06:00:43.288Z"
   },
   {
    "duration": 8,
    "start_time": "2022-02-16T06:00:43.302Z"
   },
   {
    "duration": 7,
    "start_time": "2022-02-16T06:00:43.312Z"
   },
   {
    "duration": 55,
    "start_time": "2022-02-16T06:00:43.321Z"
   },
   {
    "duration": 10,
    "start_time": "2022-02-16T06:00:43.378Z"
   },
   {
    "duration": 9,
    "start_time": "2022-02-16T06:00:43.390Z"
   },
   {
    "duration": 11,
    "start_time": "2022-02-16T06:00:43.401Z"
   },
   {
    "duration": 10,
    "start_time": "2022-02-16T06:00:43.414Z"
   },
   {
    "duration": 50,
    "start_time": "2022-02-16T06:00:43.427Z"
   },
   {
    "duration": 10,
    "start_time": "2022-02-16T06:00:43.480Z"
   },
   {
    "duration": 18,
    "start_time": "2022-02-16T06:00:43.492Z"
   },
   {
    "duration": 12,
    "start_time": "2022-02-16T06:00:43.512Z"
   },
   {
    "duration": 47,
    "start_time": "2022-02-16T06:00:43.529Z"
   },
   {
    "duration": 8,
    "start_time": "2022-02-16T06:00:43.579Z"
   },
   {
    "duration": 13,
    "start_time": "2022-02-16T06:00:43.589Z"
   },
   {
    "duration": 24,
    "start_time": "2022-02-16T06:00:43.605Z"
   },
   {
    "duration": 6,
    "start_time": "2022-02-16T06:00:43.670Z"
   },
   {
    "duration": 26,
    "start_time": "2022-02-16T06:00:43.678Z"
   },
   {
    "duration": 69,
    "start_time": "2022-02-16T06:00:43.707Z"
   },
   {
    "duration": 16,
    "start_time": "2022-02-16T06:00:43.778Z"
   },
   {
    "duration": 15,
    "start_time": "2022-02-16T06:00:43.797Z"
   },
   {
    "duration": 20,
    "start_time": "2022-02-16T06:00:43.814Z"
   },
   {
    "duration": 58,
    "start_time": "2022-02-16T06:00:43.837Z"
   },
   {
    "duration": 32,
    "start_time": "2022-02-16T06:00:43.898Z"
   },
   {
    "duration": 61,
    "start_time": "2022-02-16T06:00:43.932Z"
   },
   {
    "duration": 33,
    "start_time": "2022-02-16T06:00:43.995Z"
   },
   {
    "duration": 59,
    "start_time": "2022-02-16T06:00:44.030Z"
   },
   {
    "duration": 32,
    "start_time": "2022-02-16T06:00:44.092Z"
   },
   {
    "duration": 11,
    "start_time": "2022-02-16T06:03:02.699Z"
   },
   {
    "duration": 700,
    "start_time": "2022-02-16T06:03:13.515Z"
   },
   {
    "duration": 257,
    "start_time": "2022-02-16T06:03:14.341Z"
   },
   {
    "duration": 16,
    "start_time": "2022-02-16T06:03:18.067Z"
   },
   {
    "duration": 20,
    "start_time": "2022-02-16T06:03:22.377Z"
   },
   {
    "duration": 20,
    "start_time": "2022-02-16T06:03:26.303Z"
   },
   {
    "duration": 14,
    "start_time": "2022-02-16T06:03:37.055Z"
   },
   {
    "duration": 8,
    "start_time": "2022-02-16T06:03:40.046Z"
   },
   {
    "duration": 8,
    "start_time": "2022-02-16T06:03:41.803Z"
   },
   {
    "duration": 18,
    "start_time": "2022-02-16T06:03:45.197Z"
   },
   {
    "duration": 7,
    "start_time": "2022-02-16T06:05:14.777Z"
   },
   {
    "duration": 14,
    "start_time": "2022-02-16T06:05:22.597Z"
   },
   {
    "duration": 9,
    "start_time": "2022-02-16T06:05:29.854Z"
   },
   {
    "duration": 8,
    "start_time": "2022-02-16T06:05:35.769Z"
   },
   {
    "duration": 11,
    "start_time": "2022-02-16T06:05:42.926Z"
   },
   {
    "duration": 10,
    "start_time": "2022-02-16T06:05:48.480Z"
   },
   {
    "duration": 10,
    "start_time": "2022-02-16T06:05:54.540Z"
   },
   {
    "duration": 11,
    "start_time": "2022-02-16T06:06:01.056Z"
   },
   {
    "duration": 11,
    "start_time": "2022-02-16T06:06:09.758Z"
   },
   {
    "duration": 11,
    "start_time": "2022-02-16T06:06:14.795Z"
   },
   {
    "duration": 19,
    "start_time": "2022-02-16T06:06:19.307Z"
   },
   {
    "duration": 13,
    "start_time": "2022-02-16T06:06:31.215Z"
   },
   {
    "duration": 11,
    "start_time": "2022-02-16T06:06:40.322Z"
   },
   {
    "duration": 11,
    "start_time": "2022-02-16T06:06:47.830Z"
   },
   {
    "duration": 9,
    "start_time": "2022-02-16T06:06:52.566Z"
   },
   {
    "duration": 12,
    "start_time": "2022-02-16T06:07:08.975Z"
   },
   {
    "duration": 98,
    "start_time": "2022-02-16T06:08:44.506Z"
   },
   {
    "duration": 13,
    "start_time": "2022-02-16T06:08:49.148Z"
   },
   {
    "duration": 25,
    "start_time": "2022-02-16T06:08:59.504Z"
   },
   {
    "duration": 13,
    "start_time": "2022-02-16T06:11:07.197Z"
   },
   {
    "duration": 27,
    "start_time": "2022-02-16T06:15:05.616Z"
   },
   {
    "duration": 100,
    "start_time": "2022-02-16T06:15:48.750Z"
   },
   {
    "duration": 6376,
    "start_time": "2022-02-16T06:16:27.188Z"
   },
   {
    "duration": 25,
    "start_time": "2022-02-16T06:17:14.496Z"
   },
   {
    "duration": 738,
    "start_time": "2022-02-16T06:17:21.788Z"
   },
   {
    "duration": 258,
    "start_time": "2022-02-16T06:17:22.529Z"
   },
   {
    "duration": 16,
    "start_time": "2022-02-16T06:17:22.791Z"
   },
   {
    "duration": 25,
    "start_time": "2022-02-16T06:17:22.810Z"
   },
   {
    "duration": 43,
    "start_time": "2022-02-16T06:17:22.838Z"
   },
   {
    "duration": 15,
    "start_time": "2022-02-16T06:17:22.884Z"
   },
   {
    "duration": 13,
    "start_time": "2022-02-16T06:17:22.902Z"
   },
   {
    "duration": 50,
    "start_time": "2022-02-16T06:17:22.921Z"
   },
   {
    "duration": 23,
    "start_time": "2022-02-16T06:17:22.974Z"
   },
   {
    "duration": 7,
    "start_time": "2022-02-16T06:17:22.999Z"
   },
   {
    "duration": 12,
    "start_time": "2022-02-16T06:17:23.009Z"
   },
   {
    "duration": 50,
    "start_time": "2022-02-16T06:17:23.023Z"
   },
   {
    "duration": 7,
    "start_time": "2022-02-16T06:17:23.076Z"
   },
   {
    "duration": 18,
    "start_time": "2022-02-16T06:17:23.085Z"
   },
   {
    "duration": 10,
    "start_time": "2022-02-16T06:17:23.106Z"
   },
   {
    "duration": 54,
    "start_time": "2022-02-16T06:17:23.119Z"
   },
   {
    "duration": 15,
    "start_time": "2022-02-16T06:17:23.176Z"
   },
   {
    "duration": 10,
    "start_time": "2022-02-16T06:17:23.193Z"
   },
   {
    "duration": 14,
    "start_time": "2022-02-16T06:17:23.206Z"
   },
   {
    "duration": 53,
    "start_time": "2022-02-16T06:17:23.223Z"
   },
   {
    "duration": 23,
    "start_time": "2022-02-16T06:17:23.279Z"
   },
   {
    "duration": 15,
    "start_time": "2022-02-16T06:17:23.304Z"
   },
   {
    "duration": 12,
    "start_time": "2022-02-16T06:17:23.325Z"
   },
   {
    "duration": 10,
    "start_time": "2022-02-16T06:17:23.371Z"
   },
   {
    "duration": 23,
    "start_time": "2022-02-16T06:17:23.384Z"
   },
   {
    "duration": 28,
    "start_time": "2022-02-16T06:17:23.410Z"
   },
   {
    "duration": 44,
    "start_time": "2022-02-16T06:17:23.440Z"
   },
   {
    "duration": 35,
    "start_time": "2022-02-16T06:17:23.488Z"
   },
   {
    "duration": 73,
    "start_time": "2022-02-16T06:17:23.532Z"
   },
   {
    "duration": 21,
    "start_time": "2022-02-16T06:17:23.607Z"
   },
   {
    "duration": 42,
    "start_time": "2022-02-16T06:17:23.631Z"
   },
   {
    "duration": 20,
    "start_time": "2022-02-16T06:17:23.675Z"
   },
   {
    "duration": 33,
    "start_time": "2022-02-16T06:17:23.698Z"
   },
   {
    "duration": 59,
    "start_time": "2022-02-16T06:17:23.734Z"
   },
   {
    "duration": 40,
    "start_time": "2022-02-16T06:17:23.796Z"
   },
   {
    "duration": 56,
    "start_time": "2022-02-16T06:17:23.839Z"
   },
   {
    "duration": 32,
    "start_time": "2022-02-16T06:17:23.898Z"
   },
   {
    "duration": 60,
    "start_time": "2022-02-16T06:17:23.933Z"
   },
   {
    "duration": 18,
    "start_time": "2022-02-16T06:18:33.912Z"
   },
   {
    "duration": 17,
    "start_time": "2022-02-16T06:19:27.065Z"
   },
   {
    "duration": 38,
    "start_time": "2022-02-16T06:20:28.654Z"
   },
   {
    "duration": 22,
    "start_time": "2022-02-16T06:20:37.582Z"
   },
   {
    "duration": 751,
    "start_time": "2022-02-16T06:20:54.825Z"
   },
   {
    "duration": 250,
    "start_time": "2022-02-16T06:20:55.579Z"
   },
   {
    "duration": 15,
    "start_time": "2022-02-16T06:20:55.832Z"
   },
   {
    "duration": 35,
    "start_time": "2022-02-16T06:20:55.850Z"
   },
   {
    "duration": 22,
    "start_time": "2022-02-16T06:20:55.888Z"
   },
   {
    "duration": 13,
    "start_time": "2022-02-16T06:20:55.912Z"
   },
   {
    "duration": 8,
    "start_time": "2022-02-16T06:20:55.927Z"
   },
   {
    "duration": 8,
    "start_time": "2022-02-16T06:20:55.971Z"
   },
   {
    "duration": 20,
    "start_time": "2022-02-16T06:20:55.982Z"
   },
   {
    "duration": 8,
    "start_time": "2022-02-16T06:20:56.004Z"
   },
   {
    "duration": 11,
    "start_time": "2022-02-16T06:20:56.015Z"
   },
   {
    "duration": 9,
    "start_time": "2022-02-16T06:20:56.070Z"
   },
   {
    "duration": 8,
    "start_time": "2022-02-16T06:20:56.081Z"
   },
   {
    "duration": 17,
    "start_time": "2022-02-16T06:20:56.091Z"
   },
   {
    "duration": 14,
    "start_time": "2022-02-16T06:20:56.110Z"
   },
   {
    "duration": 50,
    "start_time": "2022-02-16T06:20:56.127Z"
   },
   {
    "duration": 17,
    "start_time": "2022-02-16T06:20:56.180Z"
   },
   {
    "duration": 12,
    "start_time": "2022-02-16T06:20:56.199Z"
   },
   {
    "duration": 12,
    "start_time": "2022-02-16T06:20:56.214Z"
   },
   {
    "duration": 11,
    "start_time": "2022-02-16T06:20:56.270Z"
   },
   {
    "duration": 20,
    "start_time": "2022-02-16T06:20:56.285Z"
   },
   {
    "duration": 15,
    "start_time": "2022-02-16T06:20:56.308Z"
   },
   {
    "duration": 10,
    "start_time": "2022-02-16T06:20:56.369Z"
   },
   {
    "duration": 8,
    "start_time": "2022-02-16T06:20:56.382Z"
   },
   {
    "duration": 11,
    "start_time": "2022-02-16T06:20:56.393Z"
   },
   {
    "duration": 65,
    "start_time": "2022-02-16T06:20:56.406Z"
   },
   {
    "duration": 20,
    "start_time": "2022-02-16T06:20:56.474Z"
   },
   {
    "duration": 24,
    "start_time": "2022-02-16T06:20:56.496Z"
   },
   {
    "duration": 56,
    "start_time": "2022-02-16T06:20:56.522Z"
   },
   {
    "duration": 25,
    "start_time": "2022-02-16T06:20:56.581Z"
   },
   {
    "duration": 15,
    "start_time": "2022-02-16T06:20:56.608Z"
   },
   {
    "duration": 47,
    "start_time": "2022-02-16T06:20:56.626Z"
   },
   {
    "duration": 20,
    "start_time": "2022-02-16T06:20:56.676Z"
   },
   {
    "duration": 30,
    "start_time": "2022-02-16T06:20:56.699Z"
   },
   {
    "duration": 58,
    "start_time": "2022-02-16T06:20:56.731Z"
   },
   {
    "duration": 34,
    "start_time": "2022-02-16T06:20:56.792Z"
   },
   {
    "duration": 64,
    "start_time": "2022-02-16T06:20:56.829Z"
   },
   {
    "duration": 31,
    "start_time": "2022-02-16T06:20:56.896Z"
   },
   {
    "duration": 55,
    "start_time": "2022-02-16T06:20:56.929Z"
   },
   {
    "duration": 46,
    "start_time": "2022-02-16T06:21:43.918Z"
   },
   {
    "duration": -638,
    "start_time": "2022-02-16T06:22:01.080Z"
   },
   {
    "duration": 6274,
    "start_time": "2022-02-16T06:22:07.375Z"
   },
   {
    "duration": 103,
    "start_time": "2022-02-16T06:22:28.019Z"
   },
   {
    "duration": 758,
    "start_time": "2022-02-16T06:22:33.450Z"
   },
   {
    "duration": 266,
    "start_time": "2022-02-16T06:22:34.211Z"
   },
   {
    "duration": 15,
    "start_time": "2022-02-16T06:22:34.480Z"
   },
   {
    "duration": 20,
    "start_time": "2022-02-16T06:22:34.498Z"
   },
   {
    "duration": 49,
    "start_time": "2022-02-16T06:22:34.520Z"
   },
   {
    "duration": 12,
    "start_time": "2022-02-16T06:22:34.572Z"
   },
   {
    "duration": 9,
    "start_time": "2022-02-16T06:22:34.587Z"
   },
   {
    "duration": 8,
    "start_time": "2022-02-16T06:22:34.602Z"
   },
   {
    "duration": 64,
    "start_time": "2022-02-16T06:22:34.614Z"
   },
   {
    "duration": 11,
    "start_time": "2022-02-16T06:22:34.681Z"
   },
   {
    "duration": 12,
    "start_time": "2022-02-16T06:22:34.694Z"
   },
   {
    "duration": 8,
    "start_time": "2022-02-16T06:22:34.708Z"
   },
   {
    "duration": 7,
    "start_time": "2022-02-16T06:22:34.718Z"
   },
   {
    "duration": 12,
    "start_time": "2022-02-16T06:22:34.770Z"
   },
   {
    "duration": 10,
    "start_time": "2022-02-16T06:22:34.784Z"
   },
   {
    "duration": 10,
    "start_time": "2022-02-16T06:22:34.797Z"
   },
   {
    "duration": 11,
    "start_time": "2022-02-16T06:22:34.810Z"
   },
   {
    "duration": 10,
    "start_time": "2022-02-16T06:22:34.869Z"
   },
   {
    "duration": 11,
    "start_time": "2022-02-16T06:22:34.881Z"
   },
   {
    "duration": 20,
    "start_time": "2022-02-16T06:22:34.895Z"
   },
   {
    "duration": 20,
    "start_time": "2022-02-16T06:22:34.918Z"
   },
   {
    "duration": 38,
    "start_time": "2022-02-16T06:22:34.941Z"
   },
   {
    "duration": 10,
    "start_time": "2022-02-16T06:22:34.984Z"
   },
   {
    "duration": 10,
    "start_time": "2022-02-16T06:22:34.996Z"
   },
   {
    "duration": 11,
    "start_time": "2022-02-16T06:22:35.008Z"
   },
   {
    "duration": 66,
    "start_time": "2022-02-16T06:22:35.022Z"
   },
   {
    "duration": 18,
    "start_time": "2022-02-16T06:22:35.090Z"
   },
   {
    "duration": 23,
    "start_time": "2022-02-16T06:22:35.110Z"
   },
   {
    "duration": 55,
    "start_time": "2022-02-16T06:22:35.136Z"
   },
   {
    "duration": 42,
    "start_time": "2022-02-16T06:22:35.193Z"
   },
   {
    "duration": 40,
    "start_time": "2022-02-16T06:22:35.237Z"
   },
   {
    "duration": 14,
    "start_time": "2022-02-16T06:22:35.280Z"
   },
   {
    "duration": 22,
    "start_time": "2022-02-16T06:22:35.296Z"
   },
   {
    "duration": 59,
    "start_time": "2022-02-16T06:22:35.320Z"
   },
   {
    "duration": 28,
    "start_time": "2022-02-16T06:22:35.382Z"
   },
   {
    "duration": 56,
    "start_time": "2022-02-16T06:22:35.413Z"
   },
   {
    "duration": 34,
    "start_time": "2022-02-16T06:22:35.471Z"
   },
   {
    "duration": 29,
    "start_time": "2022-02-16T06:22:35.507Z"
   },
   {
    "duration": 57,
    "start_time": "2022-02-16T06:22:35.538Z"
   },
   {
    "duration": 837,
    "start_time": "2022-02-16T06:23:08.581Z"
   },
   {
    "duration": 295,
    "start_time": "2022-02-16T06:23:09.421Z"
   },
   {
    "duration": 21,
    "start_time": "2022-02-16T06:23:09.721Z"
   },
   {
    "duration": 35,
    "start_time": "2022-02-16T06:23:09.745Z"
   },
   {
    "duration": 19,
    "start_time": "2022-02-16T06:23:09.783Z"
   },
   {
    "duration": 19,
    "start_time": "2022-02-16T06:23:09.805Z"
   },
   {
    "duration": 44,
    "start_time": "2022-02-16T06:23:09.827Z"
   },
   {
    "duration": 9,
    "start_time": "2022-02-16T06:23:09.875Z"
   },
   {
    "duration": 25,
    "start_time": "2022-02-16T06:23:09.891Z"
   },
   {
    "duration": 8,
    "start_time": "2022-02-16T06:23:09.919Z"
   },
   {
    "duration": 48,
    "start_time": "2022-02-16T06:23:09.930Z"
   },
   {
    "duration": 9,
    "start_time": "2022-02-16T06:23:09.981Z"
   },
   {
    "duration": 8,
    "start_time": "2022-02-16T06:23:09.992Z"
   },
   {
    "duration": 12,
    "start_time": "2022-02-16T06:23:10.003Z"
   },
   {
    "duration": 53,
    "start_time": "2022-02-16T06:23:10.018Z"
   },
   {
    "duration": 10,
    "start_time": "2022-02-16T06:23:10.074Z"
   },
   {
    "duration": 13,
    "start_time": "2022-02-16T06:23:10.087Z"
   },
   {
    "duration": 10,
    "start_time": "2022-02-16T06:23:10.102Z"
   },
   {
    "duration": 59,
    "start_time": "2022-02-16T06:23:10.115Z"
   },
   {
    "duration": 13,
    "start_time": "2022-02-16T06:23:10.176Z"
   },
   {
    "duration": 18,
    "start_time": "2022-02-16T06:23:10.191Z"
   },
   {
    "duration": 11,
    "start_time": "2022-02-16T06:23:10.212Z"
   },
   {
    "duration": 10,
    "start_time": "2022-02-16T06:23:10.270Z"
   },
   {
    "duration": 8,
    "start_time": "2022-02-16T06:23:10.282Z"
   },
   {
    "duration": 12,
    "start_time": "2022-02-16T06:23:10.292Z"
   },
   {
    "duration": 70,
    "start_time": "2022-02-16T06:23:10.306Z"
   },
   {
    "duration": 18,
    "start_time": "2022-02-16T06:23:10.381Z"
   },
   {
    "duration": 23,
    "start_time": "2022-02-16T06:23:10.402Z"
   },
   {
    "duration": 60,
    "start_time": "2022-02-16T06:23:10.428Z"
   },
   {
    "duration": 40,
    "start_time": "2022-02-16T06:23:10.490Z"
   },
   {
    "duration": 54,
    "start_time": "2022-02-16T06:23:10.533Z"
   },
   {
    "duration": 23,
    "start_time": "2022-02-16T06:23:10.590Z"
   },
   {
    "duration": 56,
    "start_time": "2022-02-16T06:23:10.616Z"
   },
   {
    "duration": 46,
    "start_time": "2022-02-16T06:23:10.675Z"
   },
   {
    "duration": 76,
    "start_time": "2022-02-16T06:23:10.724Z"
   },
   {
    "duration": 66,
    "start_time": "2022-02-16T06:23:10.803Z"
   },
   {
    "duration": 51,
    "start_time": "2022-02-16T06:23:10.872Z"
   },
   {
    "duration": 64,
    "start_time": "2022-02-16T06:23:10.926Z"
   },
   {
    "duration": 41,
    "start_time": "2022-02-16T06:23:10.993Z"
   },
   {
    "duration": 732,
    "start_time": "2022-02-16T06:23:36.891Z"
   },
   {
    "duration": 252,
    "start_time": "2022-02-16T06:23:37.625Z"
   },
   {
    "duration": 15,
    "start_time": "2022-02-16T06:23:37.880Z"
   },
   {
    "duration": 25,
    "start_time": "2022-02-16T06:23:37.898Z"
   },
   {
    "duration": 45,
    "start_time": "2022-02-16T06:23:37.926Z"
   },
   {
    "duration": 12,
    "start_time": "2022-02-16T06:23:37.974Z"
   },
   {
    "duration": 25,
    "start_time": "2022-02-16T06:23:37.989Z"
   },
   {
    "duration": 10,
    "start_time": "2022-02-16T06:23:38.018Z"
   },
   {
    "duration": 40,
    "start_time": "2022-02-16T06:23:38.031Z"
   },
   {
    "duration": 7,
    "start_time": "2022-02-16T06:23:38.073Z"
   },
   {
    "duration": 18,
    "start_time": "2022-02-16T06:23:38.082Z"
   },
   {
    "duration": 21,
    "start_time": "2022-02-16T06:23:38.102Z"
   },
   {
    "duration": 7,
    "start_time": "2022-02-16T06:23:38.126Z"
   },
   {
    "duration": 36,
    "start_time": "2022-02-16T06:23:38.136Z"
   },
   {
    "duration": 11,
    "start_time": "2022-02-16T06:23:38.175Z"
   },
   {
    "duration": 10,
    "start_time": "2022-02-16T06:23:38.189Z"
   },
   {
    "duration": 16,
    "start_time": "2022-02-16T06:23:38.201Z"
   },
   {
    "duration": 49,
    "start_time": "2022-02-16T06:23:38.220Z"
   },
   {
    "duration": 13,
    "start_time": "2022-02-16T06:23:38.272Z"
   },
   {
    "duration": 13,
    "start_time": "2022-02-16T06:23:38.288Z"
   },
   {
    "duration": 21,
    "start_time": "2022-02-16T06:23:38.304Z"
   },
   {
    "duration": 50,
    "start_time": "2022-02-16T06:23:38.328Z"
   },
   {
    "duration": 10,
    "start_time": "2022-02-16T06:23:38.382Z"
   },
   {
    "duration": 15,
    "start_time": "2022-02-16T06:23:38.394Z"
   },
   {
    "duration": 18,
    "start_time": "2022-02-16T06:23:38.412Z"
   },
   {
    "duration": 60,
    "start_time": "2022-02-16T06:23:38.432Z"
   },
   {
    "duration": 25,
    "start_time": "2022-02-16T06:23:38.495Z"
   },
   {
    "duration": 56,
    "start_time": "2022-02-16T06:23:38.523Z"
   },
   {
    "duration": 31,
    "start_time": "2022-02-16T06:23:38.582Z"
   },
   {
    "duration": 66,
    "start_time": "2022-02-16T06:23:38.615Z"
   },
   {
    "duration": 16,
    "start_time": "2022-02-16T06:23:38.684Z"
   },
   {
    "duration": 15,
    "start_time": "2022-02-16T06:23:38.703Z"
   },
   {
    "duration": 49,
    "start_time": "2022-02-16T06:23:38.721Z"
   },
   {
    "duration": 29,
    "start_time": "2022-02-16T06:23:38.773Z"
   },
   {
    "duration": 30,
    "start_time": "2022-02-16T06:23:38.804Z"
   },
   {
    "duration": 64,
    "start_time": "2022-02-16T06:23:38.836Z"
   },
   {
    "duration": 34,
    "start_time": "2022-02-16T06:23:38.902Z"
   },
   {
    "duration": 58,
    "start_time": "2022-02-16T06:23:38.938Z"
   },
   {
    "duration": 30,
    "start_time": "2022-02-16T06:23:38.999Z"
   },
   {
    "duration": 774,
    "start_time": "2022-02-16T06:24:11.536Z"
   },
   {
    "duration": 263,
    "start_time": "2022-02-16T06:24:12.312Z"
   },
   {
    "duration": 14,
    "start_time": "2022-02-16T06:24:12.577Z"
   },
   {
    "duration": 25,
    "start_time": "2022-02-16T06:24:12.594Z"
   },
   {
    "duration": 20,
    "start_time": "2022-02-16T06:24:12.621Z"
   },
   {
    "duration": 37,
    "start_time": "2022-02-16T06:24:12.643Z"
   },
   {
    "duration": 7,
    "start_time": "2022-02-16T06:24:12.682Z"
   },
   {
    "duration": 7,
    "start_time": "2022-02-16T06:24:12.693Z"
   },
   {
    "duration": 23,
    "start_time": "2022-02-16T06:24:12.703Z"
   },
   {
    "duration": 46,
    "start_time": "2022-02-16T06:24:12.728Z"
   },
   {
    "duration": 11,
    "start_time": "2022-02-16T06:24:12.776Z"
   },
   {
    "duration": 7,
    "start_time": "2022-02-16T06:24:12.789Z"
   },
   {
    "duration": 7,
    "start_time": "2022-02-16T06:24:12.798Z"
   },
   {
    "duration": 11,
    "start_time": "2022-02-16T06:24:12.807Z"
   },
   {
    "duration": 55,
    "start_time": "2022-02-16T06:24:12.820Z"
   },
   {
    "duration": 10,
    "start_time": "2022-02-16T06:24:12.877Z"
   },
   {
    "duration": 15,
    "start_time": "2022-02-16T06:24:12.889Z"
   },
   {
    "duration": 9,
    "start_time": "2022-02-16T06:24:12.906Z"
   },
   {
    "duration": 10,
    "start_time": "2022-02-16T06:24:12.918Z"
   },
   {
    "duration": 10,
    "start_time": "2022-02-16T06:24:12.969Z"
   },
   {
    "duration": 21,
    "start_time": "2022-02-16T06:24:12.981Z"
   },
   {
    "duration": 11,
    "start_time": "2022-02-16T06:24:13.004Z"
   },
   {
    "duration": 10,
    "start_time": "2022-02-16T06:24:13.020Z"
   },
   {
    "duration": 44,
    "start_time": "2022-02-16T06:24:13.032Z"
   },
   {
    "duration": 11,
    "start_time": "2022-02-16T06:24:13.078Z"
   },
   {
    "duration": 24,
    "start_time": "2022-02-16T06:24:13.092Z"
   },
   {
    "duration": 55,
    "start_time": "2022-02-16T06:24:13.118Z"
   },
   {
    "duration": 23,
    "start_time": "2022-02-16T06:24:13.176Z"
   },
   {
    "duration": 25,
    "start_time": "2022-02-16T06:24:13.201Z"
   },
   {
    "duration": 70,
    "start_time": "2022-02-16T06:24:13.229Z"
   },
   {
    "duration": 14,
    "start_time": "2022-02-16T06:24:13.301Z"
   },
   {
    "duration": 15,
    "start_time": "2022-02-16T06:24:13.318Z"
   },
   {
    "duration": 47,
    "start_time": "2022-02-16T06:24:13.335Z"
   },
   {
    "duration": 27,
    "start_time": "2022-02-16T06:24:13.385Z"
   },
   {
    "duration": 58,
    "start_time": "2022-02-16T06:24:13.414Z"
   },
   {
    "duration": 34,
    "start_time": "2022-02-16T06:24:13.474Z"
   },
   {
    "duration": 63,
    "start_time": "2022-02-16T06:24:13.510Z"
   },
   {
    "duration": 29,
    "start_time": "2022-02-16T06:24:13.575Z"
   },
   {
    "duration": 30,
    "start_time": "2022-02-16T06:24:13.607Z"
   },
   {
    "duration": 407,
    "start_time": "2022-02-16T06:28:34.478Z"
   },
   {
    "duration": 341,
    "start_time": "2022-02-16T06:28:47.092Z"
   },
   {
    "duration": 747,
    "start_time": "2022-02-16T06:28:58.880Z"
   },
   {
    "duration": 283,
    "start_time": "2022-02-16T06:28:59.630Z"
   },
   {
    "duration": 15,
    "start_time": "2022-02-16T06:28:59.916Z"
   },
   {
    "duration": 42,
    "start_time": "2022-02-16T06:28:59.935Z"
   },
   {
    "duration": 20,
    "start_time": "2022-02-16T06:28:59.979Z"
   },
   {
    "duration": 44,
    "start_time": "2022-02-16T06:29:00.002Z"
   },
   {
    "duration": 23,
    "start_time": "2022-02-16T06:29:00.048Z"
   },
   {
    "duration": 19,
    "start_time": "2022-02-16T06:29:00.075Z"
   },
   {
    "duration": 19,
    "start_time": "2022-02-16T06:29:00.098Z"
   },
   {
    "duration": 18,
    "start_time": "2022-02-16T06:29:00.120Z"
   },
   {
    "duration": 39,
    "start_time": "2022-02-16T06:29:00.141Z"
   },
   {
    "duration": 12,
    "start_time": "2022-02-16T06:29:00.183Z"
   },
   {
    "duration": 11,
    "start_time": "2022-02-16T06:29:00.198Z"
   },
   {
    "duration": 19,
    "start_time": "2022-02-16T06:29:00.212Z"
   },
   {
    "duration": 15,
    "start_time": "2022-02-16T06:29:00.271Z"
   },
   {
    "duration": 12,
    "start_time": "2022-02-16T06:29:00.289Z"
   },
   {
    "duration": 18,
    "start_time": "2022-02-16T06:29:00.303Z"
   },
   {
    "duration": 20,
    "start_time": "2022-02-16T06:29:00.323Z"
   },
   {
    "duration": 11,
    "start_time": "2022-02-16T06:29:00.371Z"
   },
   {
    "duration": 13,
    "start_time": "2022-02-16T06:29:00.386Z"
   },
   {
    "duration": 27,
    "start_time": "2022-02-16T06:29:00.402Z"
   },
   {
    "duration": 47,
    "start_time": "2022-02-16T06:29:00.432Z"
   },
   {
    "duration": 15,
    "start_time": "2022-02-16T06:29:00.486Z"
   },
   {
    "duration": 15,
    "start_time": "2022-02-16T06:29:00.505Z"
   },
   {
    "duration": 14,
    "start_time": "2022-02-16T06:29:00.523Z"
   },
   {
    "duration": 25,
    "start_time": "2022-02-16T06:29:00.570Z"
   },
   {
    "duration": 19,
    "start_time": "2022-02-16T06:29:00.598Z"
   },
   {
    "duration": 23,
    "start_time": "2022-02-16T06:29:00.619Z"
   },
   {
    "duration": 39,
    "start_time": "2022-02-16T06:29:00.670Z"
   },
   {
    "duration": 44,
    "start_time": "2022-02-16T06:29:00.712Z"
   },
   {
    "duration": 10,
    "start_time": "2022-02-16T06:29:00.770Z"
   },
   {
    "duration": 20,
    "start_time": "2022-02-16T06:29:00.783Z"
   },
   {
    "duration": 20,
    "start_time": "2022-02-16T06:29:00.806Z"
   },
   {
    "duration": 61,
    "start_time": "2022-02-16T06:29:00.829Z"
   },
   {
    "duration": 32,
    "start_time": "2022-02-16T06:29:00.893Z"
   },
   {
    "duration": 61,
    "start_time": "2022-02-16T06:29:00.927Z"
   },
   {
    "duration": 35,
    "start_time": "2022-02-16T06:29:00.990Z"
   },
   {
    "duration": 54,
    "start_time": "2022-02-16T06:29:01.028Z"
   },
   {
    "duration": 33,
    "start_time": "2022-02-16T06:29:01.085Z"
   },
   {
    "duration": 405,
    "start_time": "2022-02-16T06:29:15.006Z"
   },
   {
    "duration": 759,
    "start_time": "2022-02-16T06:29:21.709Z"
   },
   {
    "duration": 270,
    "start_time": "2022-02-16T06:29:22.471Z"
   },
   {
    "duration": 15,
    "start_time": "2022-02-16T06:29:22.744Z"
   },
   {
    "duration": 20,
    "start_time": "2022-02-16T06:29:22.770Z"
   },
   {
    "duration": 19,
    "start_time": "2022-02-16T06:29:22.793Z"
   },
   {
    "duration": 13,
    "start_time": "2022-02-16T06:29:22.815Z"
   },
   {
    "duration": 8,
    "start_time": "2022-02-16T06:29:22.869Z"
   },
   {
    "duration": 12,
    "start_time": "2022-02-16T06:29:22.882Z"
   },
   {
    "duration": 20,
    "start_time": "2022-02-16T06:29:22.898Z"
   },
   {
    "duration": 7,
    "start_time": "2022-02-16T06:29:22.921Z"
   },
   {
    "duration": 48,
    "start_time": "2022-02-16T06:29:22.931Z"
   },
   {
    "duration": 9,
    "start_time": "2022-02-16T06:29:22.982Z"
   },
   {
    "duration": 7,
    "start_time": "2022-02-16T06:29:22.994Z"
   },
   {
    "duration": 12,
    "start_time": "2022-02-16T06:29:23.003Z"
   },
   {
    "duration": 56,
    "start_time": "2022-02-16T06:29:23.017Z"
   },
   {
    "duration": 11,
    "start_time": "2022-02-16T06:29:23.075Z"
   },
   {
    "duration": 12,
    "start_time": "2022-02-16T06:29:23.089Z"
   },
   {
    "duration": 11,
    "start_time": "2022-02-16T06:29:23.104Z"
   },
   {
    "duration": 53,
    "start_time": "2022-02-16T06:29:23.118Z"
   },
   {
    "duration": 11,
    "start_time": "2022-02-16T06:29:23.174Z"
   },
   {
    "duration": 20,
    "start_time": "2022-02-16T06:29:23.189Z"
   },
   {
    "duration": 60,
    "start_time": "2022-02-16T06:29:23.213Z"
   },
   {
    "duration": 11,
    "start_time": "2022-02-16T06:29:23.278Z"
   },
   {
    "duration": 10,
    "start_time": "2022-02-16T06:29:23.292Z"
   },
   {
    "duration": 13,
    "start_time": "2022-02-16T06:29:23.305Z"
   },
   {
    "duration": 82,
    "start_time": "2022-02-16T06:29:23.321Z"
   },
   {
    "duration": 22,
    "start_time": "2022-02-16T06:29:23.406Z"
   },
   {
    "duration": 50,
    "start_time": "2022-02-16T06:29:23.430Z"
   },
   {
    "duration": 29,
    "start_time": "2022-02-16T06:29:23.484Z"
   },
   {
    "duration": 88,
    "start_time": "2022-02-16T06:29:23.516Z"
   },
   {
    "duration": 16,
    "start_time": "2022-02-16T06:29:23.606Z"
   },
   {
    "duration": 15,
    "start_time": "2022-02-16T06:29:23.624Z"
   },
   {
    "duration": 46,
    "start_time": "2022-02-16T06:29:23.642Z"
   },
   {
    "duration": 31,
    "start_time": "2022-02-16T06:29:23.690Z"
   },
   {
    "duration": 63,
    "start_time": "2022-02-16T06:29:23.725Z"
   },
   {
    "duration": 41,
    "start_time": "2022-02-16T06:29:23.791Z"
   },
   {
    "duration": 56,
    "start_time": "2022-02-16T06:29:23.834Z"
   },
   {
    "duration": 30,
    "start_time": "2022-02-16T06:29:23.893Z"
   },
   {
    "duration": 64,
    "start_time": "2022-02-16T06:29:23.926Z"
   },
   {
    "duration": 21,
    "start_time": "2022-02-16T06:29:40.395Z"
   },
   {
    "duration": 40,
    "start_time": "2022-02-16T06:31:53.488Z"
   },
   {
    "duration": 381,
    "start_time": "2022-02-16T06:32:10.853Z"
   },
   {
    "duration": 31,
    "start_time": "2022-02-16T06:32:50.122Z"
   },
   {
    "duration": 34,
    "start_time": "2022-02-16T06:33:13.857Z"
   },
   {
    "duration": 36,
    "start_time": "2022-02-16T06:34:13.350Z"
   },
   {
    "duration": 36,
    "start_time": "2022-02-16T06:36:20.443Z"
   },
   {
    "duration": 32,
    "start_time": "2022-02-16T06:36:56.498Z"
   },
   {
    "duration": 36,
    "start_time": "2022-02-16T06:37:01.684Z"
   },
   {
    "duration": 30,
    "start_time": "2022-02-16T06:37:22.373Z"
   },
   {
    "duration": 34,
    "start_time": "2022-02-16T06:37:48.605Z"
   },
   {
    "duration": 266,
    "start_time": "2022-02-16T06:40:32.601Z"
   },
   {
    "duration": 767,
    "start_time": "2022-02-16T06:40:40.060Z"
   },
   {
    "duration": 251,
    "start_time": "2022-02-16T06:40:40.829Z"
   },
   {
    "duration": 15,
    "start_time": "2022-02-16T06:40:41.084Z"
   },
   {
    "duration": 21,
    "start_time": "2022-02-16T06:40:41.101Z"
   },
   {
    "duration": 54,
    "start_time": "2022-02-16T06:40:41.125Z"
   },
   {
    "duration": 12,
    "start_time": "2022-02-16T06:40:41.182Z"
   },
   {
    "duration": 7,
    "start_time": "2022-02-16T06:40:41.197Z"
   },
   {
    "duration": 7,
    "start_time": "2022-02-16T06:40:41.208Z"
   },
   {
    "duration": 59,
    "start_time": "2022-02-16T06:40:41.219Z"
   },
   {
    "duration": 8,
    "start_time": "2022-02-16T06:40:41.281Z"
   },
   {
    "duration": 11,
    "start_time": "2022-02-16T06:40:41.292Z"
   },
   {
    "duration": 15,
    "start_time": "2022-02-16T06:40:41.306Z"
   },
   {
    "duration": 48,
    "start_time": "2022-02-16T06:40:41.324Z"
   },
   {
    "duration": 14,
    "start_time": "2022-02-16T06:40:41.374Z"
   },
   {
    "duration": 10,
    "start_time": "2022-02-16T06:40:41.391Z"
   },
   {
    "duration": 10,
    "start_time": "2022-02-16T06:40:41.404Z"
   },
   {
    "duration": 66,
    "start_time": "2022-02-16T06:40:41.417Z"
   },
   {
    "duration": 10,
    "start_time": "2022-02-16T06:40:41.485Z"
   },
   {
    "duration": 10,
    "start_time": "2022-02-16T06:40:41.500Z"
   },
   {
    "duration": 14,
    "start_time": "2022-02-16T06:40:41.512Z"
   },
   {
    "duration": 52,
    "start_time": "2022-02-16T06:40:41.529Z"
   },
   {
    "duration": 13,
    "start_time": "2022-02-16T06:40:41.583Z"
   },
   {
    "duration": 9,
    "start_time": "2022-02-16T06:40:41.601Z"
   },
   {
    "duration": 8,
    "start_time": "2022-02-16T06:40:41.612Z"
   },
   {
    "duration": 57,
    "start_time": "2022-02-16T06:40:41.623Z"
   },
   {
    "duration": 25,
    "start_time": "2022-02-16T06:40:41.683Z"
   },
   {
    "duration": 65,
    "start_time": "2022-02-16T06:40:41.710Z"
   },
   {
    "duration": 24,
    "start_time": "2022-02-16T06:40:41.777Z"
   },
   {
    "duration": 79,
    "start_time": "2022-02-16T06:40:41.804Z"
   },
   {
    "duration": 95,
    "start_time": "2022-02-16T06:40:41.886Z"
   },
   {
    "duration": 15,
    "start_time": "2022-02-16T06:40:41.984Z"
   },
   {
    "duration": 73,
    "start_time": "2022-02-16T06:40:42.002Z"
   },
   {
    "duration": 22,
    "start_time": "2022-02-16T06:40:42.078Z"
   },
   {
    "duration": 83,
    "start_time": "2022-02-16T06:40:42.102Z"
   },
   {
    "duration": 85,
    "start_time": "2022-02-16T06:40:42.187Z"
   },
   {
    "duration": 36,
    "start_time": "2022-02-16T06:40:42.274Z"
   },
   {
    "duration": 87,
    "start_time": "2022-02-16T06:40:42.313Z"
   },
   {
    "duration": 86,
    "start_time": "2022-02-16T06:40:42.403Z"
   },
   {
    "duration": 88,
    "start_time": "2022-02-16T06:40:42.491Z"
   },
   {
    "duration": 18,
    "start_time": "2022-02-16T06:48:29.770Z"
   },
   {
    "duration": 20,
    "start_time": "2022-02-16T06:49:31.219Z"
   },
   {
    "duration": 35,
    "start_time": "2022-02-16T06:49:55.148Z"
   },
   {
    "duration": 774,
    "start_time": "2022-02-16T06:50:45.077Z"
   },
   {
    "duration": 317,
    "start_time": "2022-02-16T06:50:45.854Z"
   },
   {
    "duration": 18,
    "start_time": "2022-02-16T06:50:46.175Z"
   },
   {
    "duration": 21,
    "start_time": "2022-02-16T06:50:46.196Z"
   },
   {
    "duration": 57,
    "start_time": "2022-02-16T06:50:46.219Z"
   },
   {
    "duration": 20,
    "start_time": "2022-02-16T06:50:46.279Z"
   },
   {
    "duration": 8,
    "start_time": "2022-02-16T06:50:46.302Z"
   },
   {
    "duration": 10,
    "start_time": "2022-02-16T06:50:46.313Z"
   },
   {
    "duration": 46,
    "start_time": "2022-02-16T06:50:46.326Z"
   },
   {
    "duration": 8,
    "start_time": "2022-02-16T06:50:46.374Z"
   },
   {
    "duration": 21,
    "start_time": "2022-02-16T06:50:46.385Z"
   },
   {
    "duration": 7,
    "start_time": "2022-02-16T06:50:46.409Z"
   },
   {
    "duration": 7,
    "start_time": "2022-02-16T06:50:46.419Z"
   },
   {
    "duration": 48,
    "start_time": "2022-02-16T06:50:46.428Z"
   },
   {
    "duration": 10,
    "start_time": "2022-02-16T06:50:46.479Z"
   },
   {
    "duration": 23,
    "start_time": "2022-02-16T06:50:46.491Z"
   },
   {
    "duration": 17,
    "start_time": "2022-02-16T06:50:46.517Z"
   },
   {
    "duration": 34,
    "start_time": "2022-02-16T06:50:46.537Z"
   },
   {
    "duration": 21,
    "start_time": "2022-02-16T06:50:46.573Z"
   },
   {
    "duration": 27,
    "start_time": "2022-02-16T06:50:46.596Z"
   },
   {
    "duration": 36,
    "start_time": "2022-02-16T06:50:46.625Z"
   },
   {
    "duration": 16,
    "start_time": "2022-02-16T06:50:46.664Z"
   },
   {
    "duration": 41,
    "start_time": "2022-02-16T06:50:46.686Z"
   },
   {
    "duration": 17,
    "start_time": "2022-02-16T06:50:46.731Z"
   },
   {
    "duration": 19,
    "start_time": "2022-02-16T06:50:46.750Z"
   },
   {
    "duration": 36,
    "start_time": "2022-02-16T06:50:46.771Z"
   },
   {
    "duration": 33,
    "start_time": "2022-02-16T06:50:46.810Z"
   },
   {
    "duration": 35,
    "start_time": "2022-02-16T06:50:46.845Z"
   },
   {
    "duration": 52,
    "start_time": "2022-02-16T06:50:46.883Z"
   },
   {
    "duration": 47,
    "start_time": "2022-02-16T06:50:46.937Z"
   },
   {
    "duration": 16,
    "start_time": "2022-02-16T06:50:46.986Z"
   },
   {
    "duration": 16,
    "start_time": "2022-02-16T06:50:47.004Z"
   },
   {
    "duration": 48,
    "start_time": "2022-02-16T06:50:47.023Z"
   },
   {
    "duration": 22,
    "start_time": "2022-02-16T06:50:47.074Z"
   },
   {
    "duration": 32,
    "start_time": "2022-02-16T06:50:47.099Z"
   },
   {
    "duration": 62,
    "start_time": "2022-02-16T06:50:47.134Z"
   },
   {
    "duration": 42,
    "start_time": "2022-02-16T06:50:47.199Z"
   },
   {
    "duration": 70,
    "start_time": "2022-02-16T06:50:47.244Z"
   },
   {
    "duration": 63,
    "start_time": "2022-02-16T06:50:47.317Z"
   },
   {
    "duration": 47,
    "start_time": "2022-02-16T06:50:47.383Z"
   },
   {
    "duration": 20,
    "start_time": "2022-02-16T06:57:04.725Z"
   },
   {
    "duration": 717,
    "start_time": "2022-02-16T06:57:26.695Z"
   },
   {
    "duration": 319,
    "start_time": "2022-02-16T06:57:27.415Z"
   },
   {
    "duration": 17,
    "start_time": "2022-02-16T06:57:27.738Z"
   },
   {
    "duration": 19,
    "start_time": "2022-02-16T06:57:27.769Z"
   },
   {
    "duration": 19,
    "start_time": "2022-02-16T06:57:27.790Z"
   },
   {
    "duration": 13,
    "start_time": "2022-02-16T06:57:27.812Z"
   },
   {
    "duration": 41,
    "start_time": "2022-02-16T06:57:27.828Z"
   },
   {
    "duration": 8,
    "start_time": "2022-02-16T06:57:27.874Z"
   },
   {
    "duration": 18,
    "start_time": "2022-02-16T06:57:27.885Z"
   },
   {
    "duration": 8,
    "start_time": "2022-02-16T06:57:27.905Z"
   },
   {
    "duration": 55,
    "start_time": "2022-02-16T06:57:27.915Z"
   },
   {
    "duration": 10,
    "start_time": "2022-02-16T06:57:27.972Z"
   },
   {
    "duration": 8,
    "start_time": "2022-02-16T06:57:27.984Z"
   },
   {
    "duration": 14,
    "start_time": "2022-02-16T06:57:27.994Z"
   },
   {
    "duration": 10,
    "start_time": "2022-02-16T06:57:28.011Z"
   },
   {
    "duration": 55,
    "start_time": "2022-02-16T06:57:28.023Z"
   },
   {
    "duration": 14,
    "start_time": "2022-02-16T06:57:28.080Z"
   },
   {
    "duration": 9,
    "start_time": "2022-02-16T06:57:28.097Z"
   },
   {
    "duration": 9,
    "start_time": "2022-02-16T06:57:28.109Z"
   },
   {
    "duration": 54,
    "start_time": "2022-02-16T06:57:28.121Z"
   },
   {
    "duration": 20,
    "start_time": "2022-02-16T06:57:28.177Z"
   },
   {
    "duration": 11,
    "start_time": "2022-02-16T06:57:28.199Z"
   },
   {
    "duration": 9,
    "start_time": "2022-02-16T06:57:28.214Z"
   },
   {
    "duration": 7,
    "start_time": "2022-02-16T06:57:28.226Z"
   },
   {
    "duration": 45,
    "start_time": "2022-02-16T06:57:28.235Z"
   },
   {
    "duration": 26,
    "start_time": "2022-02-16T06:57:28.282Z"
   },
   {
    "duration": 19,
    "start_time": "2022-02-16T06:57:28.310Z"
   },
   {
    "duration": 53,
    "start_time": "2022-02-16T06:57:28.332Z"
   },
   {
    "duration": 24,
    "start_time": "2022-02-16T06:57:28.387Z"
   },
   {
    "duration": 75,
    "start_time": "2022-02-16T06:57:28.414Z"
   },
   {
    "duration": 15,
    "start_time": "2022-02-16T06:57:28.492Z"
   },
   {
    "duration": 15,
    "start_time": "2022-02-16T06:57:28.510Z"
   },
   {
    "duration": 45,
    "start_time": "2022-02-16T06:57:28.527Z"
   },
   {
    "duration": 21,
    "start_time": "2022-02-16T06:57:28.575Z"
   },
   {
    "duration": 29,
    "start_time": "2022-02-16T06:57:28.598Z"
   },
   {
    "duration": 51,
    "start_time": "2022-02-16T06:57:28.629Z"
   },
   {
    "duration": 34,
    "start_time": "2022-02-16T06:57:28.683Z"
   },
   {
    "duration": 60,
    "start_time": "2022-02-16T06:57:28.719Z"
   },
   {
    "duration": 30,
    "start_time": "2022-02-16T06:57:28.781Z"
   },
   {
    "duration": 58,
    "start_time": "2022-02-16T06:57:28.813Z"
   }
  ],
  "celltoolbar": "Необработанный формат ячейки",
  "kernelspec": {
   "display_name": "Python 3 (ipykernel)",
   "language": "python",
   "name": "python3"
  },
  "language_info": {
   "codemirror_mode": {
    "name": "ipython",
    "version": 3
   },
   "file_extension": ".py",
   "mimetype": "text/x-python",
   "name": "python",
   "nbconvert_exporter": "python",
   "pygments_lexer": "ipython3",
   "version": "3.9.7"
  },
  "toc": {
   "base_numbering": 1,
   "nav_menu": {},
   "number_sections": true,
   "sideBar": true,
   "skip_h1_title": true,
   "title_cell": "Table of Contents",
   "title_sidebar": "Contents",
   "toc_cell": false,
   "toc_position": {
    "height": "calc(100% - 180px)",
    "left": "10px",
    "top": "150px",
    "width": "392.1px"
   },
   "toc_section_display": true,
   "toc_window_display": true
  },
  "widgets": {
   "application/vnd.jupyter.widget-state+json": {
    "state": {},
    "version_major": 2,
    "version_minor": 0
   }
  }
 },
 "nbformat": 4,
 "nbformat_minor": 5
}
