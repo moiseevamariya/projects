{
 "cells": [
  {
   "cell_type": "markdown",
   "metadata": {
    "toc": true
   },
   "source": [
    "<h1>Содержание<span class=\"tocSkip\"></span></h1>\n",
    "<div class=\"toc\"><ul class=\"toc-item\"><li><span><a href=\"#Подготовка-данных\" data-toc-modified-id=\"Подготовка-данных-1\"><span class=\"toc-item-num\">1&nbsp;&nbsp;</span>Подготовка данных</a></span></li><li><span><a href=\"#Исследование-задачи\" data-toc-modified-id=\"Исследование-задачи-2\"><span class=\"toc-item-num\">2&nbsp;&nbsp;</span>Исследование задачи</a></span><ul class=\"toc-item\"><li><span><a href=\"#Дерево-решений\" data-toc-modified-id=\"Дерево-решений-2.1\"><span class=\"toc-item-num\">2.1&nbsp;&nbsp;</span>Дерево решений</a></span></li><li><span><a href=\"#Случайный-лес\" data-toc-modified-id=\"Случайный-лес-2.2\"><span class=\"toc-item-num\">2.2&nbsp;&nbsp;</span>Случайный лес</a></span></li><li><span><a href=\"#Логистическая-регрессия\" data-toc-modified-id=\"Логистическая-регрессия-2.3\"><span class=\"toc-item-num\">2.3&nbsp;&nbsp;</span>Логистическая регрессия</a></span></li><li><span><a href=\"#Вывод\" data-toc-modified-id=\"Вывод-2.4\"><span class=\"toc-item-num\">2.4&nbsp;&nbsp;</span>Вывод</a></span></li></ul></li><li><span><a href=\"#Борьба-с-дисбалансом\" data-toc-modified-id=\"Борьба-с-дисбалансом-3\"><span class=\"toc-item-num\">3&nbsp;&nbsp;</span>Борьба с дисбалансом</a></span><ul class=\"toc-item\"><li><span><a href=\"#Взвешивание-классов\" data-toc-modified-id=\"Взвешивание-классов-3.1\"><span class=\"toc-item-num\">3.1&nbsp;&nbsp;</span>Взвешивание классов</a></span><ul class=\"toc-item\"><li><span><a href=\"#Дерево-решений\" data-toc-modified-id=\"Дерево-решений-3.1.1\"><span class=\"toc-item-num\">3.1.1&nbsp;&nbsp;</span>Дерево решений</a></span></li><li><span><a href=\"#Случайный-лес\" data-toc-modified-id=\"Случайный-лес-3.1.2\"><span class=\"toc-item-num\">3.1.2&nbsp;&nbsp;</span>Случайный лес</a></span></li><li><span><a href=\"#Логистическая-регрессия\" data-toc-modified-id=\"Логистическая-регрессия-3.1.3\"><span class=\"toc-item-num\">3.1.3&nbsp;&nbsp;</span>Логистическая регрессия</a></span></li><li><span><a href=\"#Вывод\" data-toc-modified-id=\"Вывод-3.1.4\"><span class=\"toc-item-num\">3.1.4&nbsp;&nbsp;</span>Вывод</a></span></li></ul></li><li><span><a href=\"#Увеличение-выборки\" data-toc-modified-id=\"Увеличение-выборки-3.2\"><span class=\"toc-item-num\">3.2&nbsp;&nbsp;</span>Увеличение выборки</a></span><ul class=\"toc-item\"><li><span><a href=\"#Дерево-решение\" data-toc-modified-id=\"Дерево-решение-3.2.1\"><span class=\"toc-item-num\">3.2.1&nbsp;&nbsp;</span>Дерево решение</a></span></li><li><span><a href=\"#Случайный-лес\" data-toc-modified-id=\"Случайный-лес-3.2.2\"><span class=\"toc-item-num\">3.2.2&nbsp;&nbsp;</span>Случайный лес</a></span></li><li><span><a href=\"#Логистическая-регрессия\" data-toc-modified-id=\"Логистическая-регрессия-3.2.3\"><span class=\"toc-item-num\">3.2.3&nbsp;&nbsp;</span>Логистическая регрессия</a></span></li><li><span><a href=\"#Вывод\" data-toc-modified-id=\"Вывод-3.2.4\"><span class=\"toc-item-num\">3.2.4&nbsp;&nbsp;</span>Вывод</a></span></li></ul></li><li><span><a href=\"#Уменьшение-выборки\" data-toc-modified-id=\"Уменьшение-выборки-3.3\"><span class=\"toc-item-num\">3.3&nbsp;&nbsp;</span>Уменьшение выборки</a></span><ul class=\"toc-item\"><li><span><a href=\"#Дерево-решений\" data-toc-modified-id=\"Дерево-решений-3.3.1\"><span class=\"toc-item-num\">3.3.1&nbsp;&nbsp;</span>Дерево решений</a></span></li><li><span><a href=\"#Случайный-лес\" data-toc-modified-id=\"Случайный-лес-3.3.2\"><span class=\"toc-item-num\">3.3.2&nbsp;&nbsp;</span>Случайный лес</a></span></li><li><span><a href=\"#Логистическая-регрессия\" data-toc-modified-id=\"Логистическая-регрессия-3.3.3\"><span class=\"toc-item-num\">3.3.3&nbsp;&nbsp;</span>Логистическая регрессия</a></span></li><li><span><a href=\"#Вывод\" data-toc-modified-id=\"Вывод-3.3.4\"><span class=\"toc-item-num\">3.3.4&nbsp;&nbsp;</span>Вывод</a></span></li></ul></li></ul></li><li><span><a href=\"#Тестирование-модели\" data-toc-modified-id=\"Тестирование-модели-4\"><span class=\"toc-item-num\">4&nbsp;&nbsp;</span>Тестирование модели</a></span></li><li><span><a href=\"#Общий-вывод\" data-toc-modified-id=\"Общий-вывод-5\"><span class=\"toc-item-num\">5&nbsp;&nbsp;</span>Общий вывод</a></span></li></ul></div>"
   ]
  },
  {
   "cell_type": "markdown",
   "metadata": {},
   "source": [
    "# Отток клиентов"
   ]
  },
  {
   "cell_type": "markdown",
   "metadata": {},
   "source": [
    "Из «Бета-Банка» стали уходить клиенты. Каждый месяц. Немного, но заметно. Банковские маркетологи посчитали: сохранять текущих клиентов дешевле, чем привлекать новых. Нам предоставлены исторические данные о поведении клиентов и расторжении договоров с банком. \n",
    "\n",
    "**Цель проекта - построить модель для задачи классификации, которая сможет спрогнозировать, уйдёт клиент из банка в ближайшее время или нет.**"
   ]
  },
  {
   "cell_type": "markdown",
   "metadata": {},
   "source": [
    "## Подготовка данных"
   ]
  },
  {
   "cell_type": "code",
   "execution_count": 70,
   "metadata": {},
   "outputs": [],
   "source": [
    "import pandas as pd\n",
    "from sklearn.model_selection import train_test_split\n",
    "from sklearn.preprocessing import StandardScaler\n",
    "from sklearn.model_selection import GridSearchCV\n",
    "from sklearn.tree import DecisionTreeClassifier\n",
    "from sklearn.ensemble import RandomForestClassifier\n",
    "from sklearn.linear_model import LogisticRegression\n",
    "from sklearn.metrics import f1_score\n",
    "from sklearn.metrics import roc_auc_score\n",
    "from sklearn.utils import shuffle\n",
    "import matplotlib.pyplot as plt"
   ]
  },
  {
   "cell_type": "code",
   "execution_count": 2,
   "metadata": {},
   "outputs": [],
   "source": [
    "pd.options.mode.chained_assignment = None"
   ]
  },
  {
   "cell_type": "code",
   "execution_count": 3,
   "metadata": {},
   "outputs": [
    {
     "data": {
      "text/html": [
       "<div>\n",
       "<style scoped>\n",
       "    .dataframe tbody tr th:only-of-type {\n",
       "        vertical-align: middle;\n",
       "    }\n",
       "\n",
       "    .dataframe tbody tr th {\n",
       "        vertical-align: top;\n",
       "    }\n",
       "\n",
       "    .dataframe thead th {\n",
       "        text-align: right;\n",
       "    }\n",
       "</style>\n",
       "<table border=\"1\" class=\"dataframe\">\n",
       "  <thead>\n",
       "    <tr style=\"text-align: right;\">\n",
       "      <th></th>\n",
       "      <th>RowNumber</th>\n",
       "      <th>CustomerId</th>\n",
       "      <th>Surname</th>\n",
       "      <th>CreditScore</th>\n",
       "      <th>Geography</th>\n",
       "      <th>Gender</th>\n",
       "      <th>Age</th>\n",
       "      <th>Tenure</th>\n",
       "      <th>Balance</th>\n",
       "      <th>NumOfProducts</th>\n",
       "      <th>HasCrCard</th>\n",
       "      <th>IsActiveMember</th>\n",
       "      <th>EstimatedSalary</th>\n",
       "      <th>Exited</th>\n",
       "    </tr>\n",
       "  </thead>\n",
       "  <tbody>\n",
       "    <tr>\n",
       "      <th>0</th>\n",
       "      <td>1</td>\n",
       "      <td>15634602</td>\n",
       "      <td>Hargrave</td>\n",
       "      <td>619</td>\n",
       "      <td>France</td>\n",
       "      <td>Female</td>\n",
       "      <td>42</td>\n",
       "      <td>2.0</td>\n",
       "      <td>0.00</td>\n",
       "      <td>1</td>\n",
       "      <td>1</td>\n",
       "      <td>1</td>\n",
       "      <td>101348.88</td>\n",
       "      <td>1</td>\n",
       "    </tr>\n",
       "    <tr>\n",
       "      <th>1</th>\n",
       "      <td>2</td>\n",
       "      <td>15647311</td>\n",
       "      <td>Hill</td>\n",
       "      <td>608</td>\n",
       "      <td>Spain</td>\n",
       "      <td>Female</td>\n",
       "      <td>41</td>\n",
       "      <td>1.0</td>\n",
       "      <td>83807.86</td>\n",
       "      <td>1</td>\n",
       "      <td>0</td>\n",
       "      <td>1</td>\n",
       "      <td>112542.58</td>\n",
       "      <td>0</td>\n",
       "    </tr>\n",
       "    <tr>\n",
       "      <th>2</th>\n",
       "      <td>3</td>\n",
       "      <td>15619304</td>\n",
       "      <td>Onio</td>\n",
       "      <td>502</td>\n",
       "      <td>France</td>\n",
       "      <td>Female</td>\n",
       "      <td>42</td>\n",
       "      <td>8.0</td>\n",
       "      <td>159660.80</td>\n",
       "      <td>3</td>\n",
       "      <td>1</td>\n",
       "      <td>0</td>\n",
       "      <td>113931.57</td>\n",
       "      <td>1</td>\n",
       "    </tr>\n",
       "    <tr>\n",
       "      <th>3</th>\n",
       "      <td>4</td>\n",
       "      <td>15701354</td>\n",
       "      <td>Boni</td>\n",
       "      <td>699</td>\n",
       "      <td>France</td>\n",
       "      <td>Female</td>\n",
       "      <td>39</td>\n",
       "      <td>1.0</td>\n",
       "      <td>0.00</td>\n",
       "      <td>2</td>\n",
       "      <td>0</td>\n",
       "      <td>0</td>\n",
       "      <td>93826.63</td>\n",
       "      <td>0</td>\n",
       "    </tr>\n",
       "    <tr>\n",
       "      <th>4</th>\n",
       "      <td>5</td>\n",
       "      <td>15737888</td>\n",
       "      <td>Mitchell</td>\n",
       "      <td>850</td>\n",
       "      <td>Spain</td>\n",
       "      <td>Female</td>\n",
       "      <td>43</td>\n",
       "      <td>2.0</td>\n",
       "      <td>125510.82</td>\n",
       "      <td>1</td>\n",
       "      <td>1</td>\n",
       "      <td>1</td>\n",
       "      <td>79084.10</td>\n",
       "      <td>0</td>\n",
       "    </tr>\n",
       "  </tbody>\n",
       "</table>\n",
       "</div>"
      ],
      "text/plain": [
       "   RowNumber  CustomerId   Surname  CreditScore Geography  Gender  Age  \\\n",
       "0          1    15634602  Hargrave          619    France  Female   42   \n",
       "1          2    15647311      Hill          608     Spain  Female   41   \n",
       "2          3    15619304      Onio          502    France  Female   42   \n",
       "3          4    15701354      Boni          699    France  Female   39   \n",
       "4          5    15737888  Mitchell          850     Spain  Female   43   \n",
       "\n",
       "   Tenure    Balance  NumOfProducts  HasCrCard  IsActiveMember  \\\n",
       "0     2.0       0.00              1          1               1   \n",
       "1     1.0   83807.86              1          0               1   \n",
       "2     8.0  159660.80              3          1               0   \n",
       "3     1.0       0.00              2          0               0   \n",
       "4     2.0  125510.82              1          1               1   \n",
       "\n",
       "   EstimatedSalary  Exited  \n",
       "0        101348.88       1  \n",
       "1        112542.58       0  \n",
       "2        113931.57       1  \n",
       "3         93826.63       0  \n",
       "4         79084.10       0  "
      ]
     },
     "metadata": {},
     "output_type": "display_data"
    },
    {
     "name": "stdout",
     "output_type": "stream",
     "text": [
      "<class 'pandas.core.frame.DataFrame'>\n",
      "RangeIndex: 10000 entries, 0 to 9999\n",
      "Data columns (total 14 columns):\n",
      " #   Column           Non-Null Count  Dtype  \n",
      "---  ------           --------------  -----  \n",
      " 0   RowNumber        10000 non-null  int64  \n",
      " 1   CustomerId       10000 non-null  int64  \n",
      " 2   Surname          10000 non-null  object \n",
      " 3   CreditScore      10000 non-null  int64  \n",
      " 4   Geography        10000 non-null  object \n",
      " 5   Gender           10000 non-null  object \n",
      " 6   Age              10000 non-null  int64  \n",
      " 7   Tenure           9091 non-null   float64\n",
      " 8   Balance          10000 non-null  float64\n",
      " 9   NumOfProducts    10000 non-null  int64  \n",
      " 10  HasCrCard        10000 non-null  int64  \n",
      " 11  IsActiveMember   10000 non-null  int64  \n",
      " 12  EstimatedSalary  10000 non-null  float64\n",
      " 13  Exited           10000 non-null  int64  \n",
      "dtypes: float64(3), int64(8), object(3)\n",
      "memory usage: 1.1+ MB\n"
     ]
    }
   ],
   "source": [
    "df = pd.read_csv('/datasets/Churn.csv')\n",
    "display(df.head())\n",
    "df.info()"
   ]
  },
  {
   "cell_type": "markdown",
   "metadata": {},
   "source": [
    "В столбце `Tenure` есть достаточно большое количество пропущенных значений (ок. 10%), поэтому убрать эти строки мы не можем. Можно предположить, что в этих строках клиенты, которые пользуются услугами банка меньше года, поэтому можно заменить пропущенные значения на 0."
   ]
  },
  {
   "cell_type": "markdown",
   "metadata": {},
   "source": [
    "Итак, для подготовки данных необходимо сделать следующие шаги:\n",
    " - в столбце `Tenure` заменить пропущенные значения на 0\n",
    " - убрать столбцы `Surname`,`RowNumber`, `CustomerId`, так как от этих данных совсем не зависит, уйдёт клиент или нет. \n",
    " - преобразовать категориальные признаки в численные с помощтью фунуции `pd.get_dummies()`\n",
    " - разделить все данные на тестовую, валидационную и обучающую выборки в соотношении 3:1:1\n",
    " - стандартизировать все количественные признаки, так как в них есть большой разброс"
   ]
  },
  {
   "cell_type": "code",
   "execution_count": 4,
   "metadata": {},
   "outputs": [],
   "source": [
    "df = df.drop(['Surname','RowNumber', 'CustomerId'], axis=1) # убираем ненужные столбцы\n",
    "df['Tenure'] = df['Tenure'].fillna(0) # заменяем пропущенные значения на 0\n",
    "df_ohe = pd.get_dummies(df, drop_first=True) # преобразовываем категориальные признаки\n",
    "features = df_ohe.drop('Exited', axis=1) # выделяем признаки\n",
    "target = df_ohe['Exited'] # выделяем целевой признак"
   ]
  },
  {
   "cell_type": "code",
   "execution_count": 5,
   "metadata": {},
   "outputs": [
    {
     "name": "stdout",
     "output_type": "stream",
     "text": [
      "Размер признаков для тестовой выборки: (2000, 11)\n",
      "Размер признаков для валидационной выборки: (2000, 11)\n",
      "Размер признаков для обучающей выборки: (6000, 11)\n"
     ]
    }
   ],
   "source": [
    "# отделяем 20% данных для тестовой выборки\n",
    "features_train_valid, features_test, target_train_valid, target_test = train_test_split(\n",
    "    features, target, test_size=0.2, random_state=12345)\n",
    "# отделяем 25% оставшихся данных для валидационной выборки\n",
    "features_train, features_valid, target_train, target_valid= train_test_split(\n",
    "    features_train_valid, target_train_valid, test_size=0.25, random_state=12345)\n",
    "# для проверки выведем размеры признаков всех выборок\n",
    "print(\"Размер признаков для тестовой выборки:\", features_test.shape)\n",
    "print(\"Размер признаков для валидационной выборки:\", features_valid.shape)\n",
    "print(\"Размер признаков для обучающей выборки:\", features_train.shape)"
   ]
  },
  {
   "cell_type": "code",
   "execution_count": 6,
   "metadata": {},
   "outputs": [],
   "source": [
    "numeric = ['CreditScore', 'Age', 'Tenure', 'Balance', 'EstimatedSalary', 'NumOfProducts', 'HasCrCard', 'IsActiveMember'] # список всех количественных признаков"
   ]
  },
  {
   "cell_type": "code",
   "execution_count": 7,
   "metadata": {},
   "outputs": [
    {
     "data": {
      "text/html": [
       "<div>\n",
       "<style scoped>\n",
       "    .dataframe tbody tr th:only-of-type {\n",
       "        vertical-align: middle;\n",
       "    }\n",
       "\n",
       "    .dataframe tbody tr th {\n",
       "        vertical-align: top;\n",
       "    }\n",
       "\n",
       "    .dataframe thead th {\n",
       "        text-align: right;\n",
       "    }\n",
       "</style>\n",
       "<table border=\"1\" class=\"dataframe\">\n",
       "  <thead>\n",
       "    <tr style=\"text-align: right;\">\n",
       "      <th></th>\n",
       "      <th>CreditScore</th>\n",
       "      <th>Age</th>\n",
       "      <th>Tenure</th>\n",
       "      <th>Balance</th>\n",
       "      <th>NumOfProducts</th>\n",
       "      <th>HasCrCard</th>\n",
       "      <th>IsActiveMember</th>\n",
       "      <th>EstimatedSalary</th>\n",
       "      <th>Geography_Germany</th>\n",
       "      <th>Geography_Spain</th>\n",
       "      <th>Gender_Male</th>\n",
       "    </tr>\n",
       "  </thead>\n",
       "  <tbody>\n",
       "    <tr>\n",
       "      <th>492</th>\n",
       "      <td>-0.119286</td>\n",
       "      <td>-0.087897</td>\n",
       "      <td>-0.174647</td>\n",
       "      <td>0.081178</td>\n",
       "      <td>0.807737</td>\n",
       "      <td>-1.547768</td>\n",
       "      <td>0.970243</td>\n",
       "      <td>0.328383</td>\n",
       "      <td>0</td>\n",
       "      <td>0</td>\n",
       "      <td>0</td>\n",
       "    </tr>\n",
       "    <tr>\n",
       "      <th>6655</th>\n",
       "      <td>-0.998762</td>\n",
       "      <td>0.484225</td>\n",
       "      <td>-1.460235</td>\n",
       "      <td>0.141333</td>\n",
       "      <td>-0.911583</td>\n",
       "      <td>0.646092</td>\n",
       "      <td>0.970243</td>\n",
       "      <td>-0.730577</td>\n",
       "      <td>0</td>\n",
       "      <td>0</td>\n",
       "      <td>1</td>\n",
       "    </tr>\n",
       "    <tr>\n",
       "      <th>4287</th>\n",
       "      <td>0.656722</td>\n",
       "      <td>1.342407</td>\n",
       "      <td>-1.138838</td>\n",
       "      <td>0.363110</td>\n",
       "      <td>-0.911583</td>\n",
       "      <td>0.646092</td>\n",
       "      <td>0.970243</td>\n",
       "      <td>-0.479835</td>\n",
       "      <td>1</td>\n",
       "      <td>0</td>\n",
       "      <td>1</td>\n",
       "    </tr>\n",
       "    <tr>\n",
       "      <th>42</th>\n",
       "      <td>-0.978068</td>\n",
       "      <td>2.105236</td>\n",
       "      <td>-0.817441</td>\n",
       "      <td>0.656045</td>\n",
       "      <td>-0.911583</td>\n",
       "      <td>0.646092</td>\n",
       "      <td>0.970243</td>\n",
       "      <td>-0.103228</td>\n",
       "      <td>0</td>\n",
       "      <td>0</td>\n",
       "      <td>0</td>\n",
       "    </tr>\n",
       "    <tr>\n",
       "      <th>8178</th>\n",
       "      <td>0.584295</td>\n",
       "      <td>0.674932</td>\n",
       "      <td>0.789544</td>\n",
       "      <td>0.817236</td>\n",
       "      <td>0.807737</td>\n",
       "      <td>0.646092</td>\n",
       "      <td>0.970243</td>\n",
       "      <td>0.798526</td>\n",
       "      <td>0</td>\n",
       "      <td>0</td>\n",
       "      <td>0</td>\n",
       "    </tr>\n",
       "  </tbody>\n",
       "</table>\n",
       "</div>"
      ],
      "text/plain": [
       "      CreditScore       Age    Tenure   Balance  NumOfProducts  HasCrCard  \\\n",
       "492     -0.119286 -0.087897 -0.174647  0.081178       0.807737  -1.547768   \n",
       "6655    -0.998762  0.484225 -1.460235  0.141333      -0.911583   0.646092   \n",
       "4287     0.656722  1.342407 -1.138838  0.363110      -0.911583   0.646092   \n",
       "42      -0.978068  2.105236 -0.817441  0.656045      -0.911583   0.646092   \n",
       "8178     0.584295  0.674932  0.789544  0.817236       0.807737   0.646092   \n",
       "\n",
       "      IsActiveMember  EstimatedSalary  Geography_Germany  Geography_Spain  \\\n",
       "492         0.970243         0.328383                  0                0   \n",
       "6655        0.970243        -0.730577                  0                0   \n",
       "4287        0.970243        -0.479835                  1                0   \n",
       "42          0.970243        -0.103228                  0                0   \n",
       "8178        0.970243         0.798526                  0                0   \n",
       "\n",
       "      Gender_Male  \n",
       "492             0  \n",
       "6655            1  \n",
       "4287            1  \n",
       "42              0  \n",
       "8178            0  "
      ]
     },
     "execution_count": 7,
     "metadata": {},
     "output_type": "execute_result"
    }
   ],
   "source": [
    "# стандартизируем все количественные признаки и для проверки выведем размер обучающих признаков\n",
    "scaler = StandardScaler()\n",
    "scaler.fit(features[numeric])\n",
    "features_train[numeric] = scaler.transform(features_train[numeric])\n",
    "features_valid[numeric] = scaler.transform(features_valid[numeric])\n",
    "features_test[numeric] = scaler.transform(features_test[numeric])\n",
    "features_train.head()"
   ]
  },
  {
   "cell_type": "markdown",
   "metadata": {},
   "source": [
    "Данные готовы можно приступать к построению моделей."
   ]
  },
  {
   "cell_type": "markdown",
   "metadata": {},
   "source": [
    "## Исследование задачи"
   ]
  },
  {
   "cell_type": "markdown",
   "metadata": {},
   "source": [
    "Для проверки баланса классов найдем соотношение количества тех, кто не ушел из банка и тех, кто ушел."
   ]
  },
  {
   "cell_type": "code",
   "execution_count": 8,
   "metadata": {},
   "outputs": [
    {
     "data": {
      "text/plain": [
       "4.115089514066496"
      ]
     },
     "execution_count": 8,
     "metadata": {},
     "output_type": "execute_result"
    }
   ],
   "source": [
    "len(target_valid[target_valid == 0])/len(target_valid[target_valid == 1])"
   ]
  },
  {
   "cell_type": "markdown",
   "metadata": {},
   "source": [
    "Видим, что количество оставшихся клиентов более, чем в 4 раза больше, чем тех, кто ушел. Наблюдается явный дисбаланс. Обучим три модели (Дерево решений, Случайный лес и Логистическую регрессия) без учета этого дисбаланса. Для дерева решений и случайного леса переберем гиперпараметры в цикле. Для логистической регрессии зададим параметры сразу.\n",
    "В конце обучения каждой модели найдем f1-меру и AUC-ROC для валидационной выборки."
   ]
  },
  {
   "cell_type": "markdown",
   "metadata": {},
   "source": [
    "###  Дерево решений"
   ]
  },
  {
   "cell_type": "code",
   "execution_count": 9,
   "metadata": {},
   "outputs": [],
   "source": [
    "criterions = ['gini', 'entropy'] # список критериев расщепления\n",
    "max_features = [None, 'auto', 'log2'] # список числа признаков"
   ]
  },
  {
   "cell_type": "code",
   "execution_count": 10,
   "metadata": {},
   "outputs": [
    {
     "name": "stdout",
     "output_type": "stream",
     "text": [
      "f1-мера наилучшей модели на валидационной выборке: 0.5945165945165944 \n",
      "AUC-ROC: 0.8388150731419652 \n",
      "Критерий: gini \n",
      "Количество признаков: None \n",
      "Глубина дерева: 8 \n",
      "Минимальное количество примеров: 140 \n",
      "Минимальное количество объектов: 4\n",
      "CPU times: user 36.2 s, sys: 54.4 ms, total: 36.2 s\n",
      "Wall time: 36.3 s\n"
     ]
    }
   ],
   "source": [
    "%%time\n",
    "\n",
    "best_model_1 = None\n",
    "best_result_1 = 0\n",
    "best_depth_1 = 0\n",
    "best_criterion_1 = ''\n",
    "best_max_feature_1 = ''\n",
    "best_samples_split_1 = 0\n",
    "best_samples_leaf_1 = 0\n",
    "\n",
    "for criterion_1 in criterions:\n",
    "    for max_feature_1 in max_features:\n",
    "        for depth_1 in range(1, 10):\n",
    "            for samples_split_1 in range(10, 200, 10):\n",
    "                for samples_leaf_1 in range(1, 5):\n",
    "                    # обучение модели с заданными гиперпараметрами\n",
    "                    model_1 = DecisionTreeClassifier(random_state=12345, \n",
    "                                                     criterion=criterion_1,\n",
    "                                                     max_features=max_feature_1,\n",
    "                                                     max_depth=depth_1,\n",
    "                                                     min_samples_split=samples_split_1, \n",
    "                                                     min_samples_leaf=samples_leaf_1)\n",
    "                    model_1.fit(features_train, target_train)\n",
    "                    result_1 = f1_score(target_valid, model_1.predict(features_valid)) # подсчёт f1-меры \n",
    "                    if result_1 > best_result_1:\n",
    "                        # запись лучших параметров\n",
    "                        best_model_1 = model_1 \n",
    "                        best_result_1 = result_1\n",
    "                        best_criterion_1 = criterion_1\n",
    "                        best_max_feature_1 = max_feature_1\n",
    "                        best_depth_1 = depth_1\n",
    "                        best_samples_split_1 = samples_split_1\n",
    "                        best_samples_leaf_1 = samples_leaf_1\n",
    "                                                \n",
    "print(\"f1-мера наилучшей модели на валидационной выборке:\", best_result_1, \n",
    "      \"\\nAUC-ROC:\", roc_auc_score(target_valid, best_model_1.predict_proba(features_valid)[:, 1]), # подсчёт AUC-ROC \n",
    "      \"\\nКритерий:\", best_criterion_1, \n",
    "      \"\\nКоличество признаков:\", best_max_feature_1,\n",
    "      \"\\nГлубина дерева:\", best_depth_1,\n",
    "      \"\\nМинимальное количество примеров:\", best_samples_split_1, \n",
    "      \"\\nМинимальное количество объектов:\", best_samples_leaf_1)"
   ]
  },
  {
   "cell_type": "markdown",
   "metadata": {},
   "source": [
    "###  Случайный лес"
   ]
  },
  {
   "cell_type": "code",
   "execution_count": 11,
   "metadata": {},
   "outputs": [
    {
     "name": "stdout",
     "output_type": "stream",
     "text": [
      "f1-мера наилучшей модели на валидационной выборке: 0.5732899022801303 \n",
      "AUC-ROC: 0.8484324905145131 \n",
      "Критерий: entropy \n",
      "Количество признаков: None \n",
      "Количество деревьев: 14 \n",
      "Глубина дерева: 8\n",
      "CPU times: user 1min 10s, sys: 156 ms, total: 1min 10s\n",
      "Wall time: 1min 10s\n"
     ]
    }
   ],
   "source": [
    "%%time\n",
    "\n",
    "best_model_2 = None\n",
    "best_result_2 = 0\n",
    "best_est_2 = 0\n",
    "best_depth_2 = 0\n",
    "best_criterion_2 = ''\n",
    "best_max_feature_2 = ''\n",
    "\n",
    "for criterion_2 in criterions:\n",
    "    for max_feature_2 in max_features:\n",
    "        for est_2 in range(10, 20):\n",
    "            for depth_2 in range(5, 15):\n",
    "                        # обучение модели с заданными гиперпараметрами\n",
    "                        model_2 = RandomForestClassifier(random_state=12345,\n",
    "                                                         criterion=criterion_2,\n",
    "                                                         max_features=max_feature_2,\n",
    "                                                         n_estimators=est_2,\n",
    "                                                         max_depth=depth_2)\n",
    "                        model_2.fit(features_train, target_train)\n",
    "                        result_2 = f1_score(target_valid, model_2.predict(features_valid)) # подсчёт f1-меры\n",
    "                        if result_2 > best_result_2:\n",
    "                            # запись лучших параметров\n",
    "                            best_model_2 = model_2\n",
    "                            best_result_2 = result_2\n",
    "                            best_criterion_2 = criterion_2\n",
    "                            best_max_feature_2 = max_feature_2\n",
    "                            best_est_2 = est_2\n",
    "                            best_depth_2 = depth_2\n",
    "                            \n",
    "print(\"f1-мера наилучшей модели на валидационной выборке:\", best_result_2,\n",
    "      \"\\nAUC-ROC:\", roc_auc_score(target_valid, best_model_2.predict_proba(features_valid)[:, 1]), # подсчёт AUC-ROC\n",
    "      \"\\nКритерий:\", best_criterion_2,\n",
    "      \"\\nКоличество признаков:\", best_max_feature_2,\n",
    "      \"\\nКоличество деревьев:\", best_est_2,\n",
    "      \"\\nГлубина дерева:\", best_depth_2)"
   ]
  },
  {
   "cell_type": "markdown",
   "metadata": {},
   "source": [
    "###  Логистическая регрессия"
   ]
  },
  {
   "cell_type": "code",
   "execution_count": 12,
   "metadata": {},
   "outputs": [
    {
     "name": "stdout",
     "output_type": "stream",
     "text": [
      "f1-мера:  0.3056603773584906\n",
      "AUC-ROC: 0.7707635598352617\n",
      "CPU times: user 25.7 ms, sys: 33.9 ms, total: 59.6 ms\n",
      "Wall time: 68.2 ms\n"
     ]
    }
   ],
   "source": [
    "%%time\n",
    "\n",
    "model_3 = LogisticRegression(solver='liblinear', random_state=12345)\n",
    "model_3.fit(features_train, target_train)\n",
    "\n",
    "print(\"f1-мера: \", f1_score(target_valid, model_3.predict(features_valid))) # подсчёт f1-меры\n",
    "print(\"AUC-ROC:\", roc_auc_score(target_valid, model_3.predict_proba(features_valid)[:, 1])) # подсчёт AUC-ROC"
   ]
  },
  {
   "cell_type": "markdown",
   "metadata": {},
   "source": [
    "###  Вывод"
   ]
  },
  {
   "cell_type": "markdown",
   "metadata": {},
   "source": [
    "- самое максимальное значение f1-меры 0.595 получилось у модели Дерево решений с гиперпараметрами `max_depth = 8`, `min_samples_split = 140`, `min_samples_leaf = 4`.\n",
    "- самое максимальное значение AUC-ROC 0.848 получилось у модели Случайный лес с гиперпараметрами `criterion = 'entropy'`, `n_estimators = 14`, `max_depth = 8`.\n",
    "- минимальные значения и в той, и в другой метрике получились у Логистической регресии. Такое случилось из-за того, что для двух первых моделей мы перебирали достаточно много гиперпараметров, а для последней - установили их сразу.\n",
    "- даже при дисбалансе классов у Дерева решений удалось получить необходимое в задании значение f1-меры."
   ]
  },
  {
   "cell_type": "markdown",
   "metadata": {},
   "source": [
    "## Борьба с дисбалансом"
   ]
  },
  {
   "cell_type": "markdown",
   "metadata": {},
   "source": [
    "Для борьбы с дисбалансом классов воспользуемся тремя методами: взвешивание классов, увеличение выборки и уменьшение выборки. Данные методы используем для все трёх моделей (Дерево решений, Случайный лес и Логистическую регрессия)."
   ]
  },
  {
   "cell_type": "markdown",
   "metadata": {},
   "source": [
    "### Взвешивание классов"
   ]
  },
  {
   "cell_type": "markdown",
   "metadata": {},
   "source": [
    "####  Дерево решений"
   ]
  },
  {
   "cell_type": "code",
   "execution_count": 13,
   "metadata": {},
   "outputs": [
    {
     "name": "stdout",
     "output_type": "stream",
     "text": [
      "f1-мера наилучшей модели на валидационной выборке: 0.574826560951437 \n",
      "AUC-ROC: 0.8390018422587777 \n",
      "Критерий: entropy \n",
      "Количество признаков: None \n",
      "Глубина дерева: 7 \n",
      "Минимальное количество примеров: 90 \n",
      "Минимальное количество объектов: 2\n",
      "CPU times: user 40 s, sys: 67.9 ms, total: 40 s\n",
      "Wall time: 40.1 s\n"
     ]
    }
   ],
   "source": [
    "%%time\n",
    "\n",
    "best_model_4 = None\n",
    "best_result_4 = 0\n",
    "best_depth_4 = 0\n",
    "best_criterion_4 = ''\n",
    "best_max_feature_4 = ''\n",
    "best_samples_split_4 = 0\n",
    "best_samples_leaf_4 = 0\n",
    "\n",
    "for criterion_4 in criterions:\n",
    "    for max_feature_4 in max_features:\n",
    "        for depth_4 in range(1, 10):\n",
    "            for samples_split_4 in range(10, 200, 10):\n",
    "                for samples_leaf_4 in range(1, 5):\n",
    "                    # обучение модели с заданными гиперпараметрами\n",
    "                    model_4 = DecisionTreeClassifier(random_state=12345,\n",
    "                                                     class_weight='balanced',\n",
    "                                                     criterion=criterion_4,\n",
    "                                                     max_features=max_feature_4,\n",
    "                                                     max_depth=depth_4,\n",
    "                                                     min_samples_split=samples_split_4, \n",
    "                                                     min_samples_leaf=samples_leaf_4)\n",
    "                    model_4.fit(features_train, target_train)\n",
    "                    result_4 = f1_score(target_valid, model_4.predict(features_valid)) # подсчёт f1-меры\n",
    "                    if result_4 > best_result_4:\n",
    "                        # запись лучших параметров\n",
    "                        best_model_4 = model_4 \n",
    "                        best_result_4 = result_4\n",
    "                        best_criterion_4 = criterion_4\n",
    "                        best_max_feature_4 = max_feature_4\n",
    "                        best_depth_4 = depth_4\n",
    "                        best_samples_split_4 = samples_split_4\n",
    "                        best_samples_leaf_4 = samples_leaf_4\n",
    "                                                \n",
    "print(\"f1-мера наилучшей модели на валидационной выборке:\", best_result_4, \n",
    "      \"\\nAUC-ROC:\", roc_auc_score(target_valid, best_model_4.predict_proba(features_valid)[:, 1]), # подсчёт AUC-ROC\n",
    "      \"\\nКритерий:\", best_criterion_4, \n",
    "      \"\\nКоличество признаков:\", best_max_feature_4,\n",
    "      \"\\nГлубина дерева:\", best_depth_4,\n",
    "      \"\\nМинимальное количество примеров:\", best_samples_split_4, \n",
    "      \"\\nМинимальное количество объектов:\", best_samples_leaf_4)"
   ]
  },
  {
   "cell_type": "markdown",
   "metadata": {},
   "source": [
    "####  Случайный лес"
   ]
  },
  {
   "cell_type": "code",
   "execution_count": 14,
   "metadata": {},
   "outputs": [
    {
     "name": "stdout",
     "output_type": "stream",
     "text": [
      "f1-мера наилучшей модели на валидационной выборке: 0.5924112607099142 \n",
      "AUC-ROC: 0.8431195052128452 \n",
      "Критерий: entropy \n",
      "Количество признаков: auto \n",
      "Количество деревьев: 17 \n",
      "Глубина дерева: 10\n",
      "CPU times: user 1min 52s, sys: 208 ms, total: 1min 52s\n",
      "Wall time: 1min 54s\n"
     ]
    }
   ],
   "source": [
    "%%time\n",
    "\n",
    "best_model_5 = None\n",
    "best_result_5 = 0\n",
    "best_est_5 = 0\n",
    "best_depth_5 = 0\n",
    "best_criterion_5 = ''\n",
    "best_max_feature_5 = ''\n",
    "\n",
    "for criterion_5 in criterions:\n",
    "    for max_feature_5 in max_features:\n",
    "        for est_5 in range(10, 20):\n",
    "            for depth_5 in range(5, 20):\n",
    "                        # обучение модели с заданными гиперпараметрами\n",
    "                        model_5 = RandomForestClassifier(random_state=12345,\n",
    "                                                         class_weight='balanced',\n",
    "                                                         criterion=criterion_5,\n",
    "                                                         max_features=max_feature_5,\n",
    "                                                         n_estimators=est_5,\n",
    "                                                         max_depth=depth_5)\n",
    "                        model_5.fit(features_train, target_train)\n",
    "                        result_5 = f1_score(target_valid, model_5.predict(features_valid)) # подсчёт f1-меры\n",
    "                        if result_5 > best_result_5:\n",
    "                            # запись лучших параметров\n",
    "                            best_model_5 = model_5\n",
    "                            best_result_5 = result_5\n",
    "                            best_criterion_5 = criterion_5\n",
    "                            best_max_feature_5 = max_feature_5\n",
    "                            best_est_5 = est_5\n",
    "                            best_depth_5 = depth_5\n",
    "                            \n",
    "print(\"f1-мера наилучшей модели на валидационной выборке:\", best_result_5, \n",
    "      \"\\nAUC-ROC:\", roc_auc_score(target_valid, best_model_5.predict_proba(features_valid)[:, 1]), # подсчёт AUC-ROC\n",
    "      \"\\nКритерий:\", best_criterion_5,\n",
    "      \"\\nКоличество признаков:\", best_max_feature_5,\n",
    "      \"\\nКоличество деревьев:\", best_est_5,\n",
    "      \"\\nГлубина дерева:\", best_depth_5)"
   ]
  },
  {
   "cell_type": "markdown",
   "metadata": {},
   "source": [
    "####  Логистическая регрессия"
   ]
  },
  {
   "cell_type": "code",
   "execution_count": 15,
   "metadata": {},
   "outputs": [
    {
     "name": "stdout",
     "output_type": "stream",
     "text": [
      "f1-мера:  0.47763864042933807\n",
      "AUC-ROC: 0.7729507454074667\n",
      "CPU times: user 71.9 ms, sys: 28.2 ms, total: 100 ms\n",
      "Wall time: 80 ms\n"
     ]
    }
   ],
   "source": [
    "%%time\n",
    "\n",
    "model_6 = LogisticRegression(solver='liblinear', class_weight='balanced', random_state=12345)\n",
    "model_6.fit(features_train, target_train)\n",
    "\n",
    "print(\"f1-мера: \", f1_score(target_valid, model_6.predict(features_valid))) # подсчёт f1-меры\n",
    "print(\"AUC-ROC:\", roc_auc_score(target_valid, model_6.predict_proba(features_valid)[:, 1])) # подсчёт AUC-ROC"
   ]
  },
  {
   "cell_type": "markdown",
   "metadata": {},
   "source": [
    "#### Вывод"
   ]
  },
  {
   "cell_type": "markdown",
   "metadata": {},
   "source": [
    "- При учитывании дисбаланса лучшее значение f1-меры 0.592 и AUC-ROC 0.843 получилось у модели Случайного леса.\n",
    "- У модели Дерева решений значения метрик уменьшились, а у логистической регрессии, наоборот, увеличились."
   ]
  },
  {
   "cell_type": "markdown",
   "metadata": {},
   "source": [
    "### Увеличение выборки"
   ]
  },
  {
   "cell_type": "markdown",
   "metadata": {},
   "source": [
    "Для таких методов, как увеличение (upsampling) и уменьшение (downsampling) выборки необходимо разбить признаки и целевой признак обучающей выборки на отрицательные и положительные объекты."
   ]
  },
  {
   "cell_type": "code",
   "execution_count": 16,
   "metadata": {},
   "outputs": [],
   "source": [
    "features_zeros = features_train[target_train == 0]\n",
    "features_ones = features_train[target_train == 1]\n",
    "target_zeros = target_train[target_train == 0]\n",
    "target_ones = target_train[target_train == 1]"
   ]
  },
  {
   "cell_type": "markdown",
   "metadata": {},
   "source": [
    "Так как количество отрицательных объектов превышает положительные почти в 4 раза, именно на такое количество будем увеличивать положительные объекты. Далее объединим выборки и перемешаем."
   ]
  },
  {
   "cell_type": "code",
   "execution_count": 17,
   "metadata": {},
   "outputs": [],
   "source": [
    "features_upsampled = pd.concat([features_zeros] + [features_ones] * 4)\n",
    "target_upsampled = pd.concat([target_zeros] + [target_ones] * 4)\n",
    "features_upsampled, target_upsampled = shuffle(features_upsampled, target_upsampled, random_state=12345)"
   ]
  },
  {
   "cell_type": "markdown",
   "metadata": {},
   "source": [
    "Полученные выборки будем использовать для обучения трёх моделей."
   ]
  },
  {
   "cell_type": "markdown",
   "metadata": {},
   "source": [
    "####  Дерево решение"
   ]
  },
  {
   "cell_type": "code",
   "execution_count": 18,
   "metadata": {},
   "outputs": [
    {
     "name": "stdout",
     "output_type": "stream",
     "text": [
      "f1-мера наилучшей модели на валидационной выборке: 0.5737211634904714 \n",
      "AUC-ROC: 0.8373217149696639 \n",
      "Критерий: entropy \n",
      "Количество признаков: None \n",
      "Глубина дерева: 7 \n",
      "Минимальное количество примеров: 70 \n",
      "Минимальное количество объектов: 3\n",
      "CPU times: user 45.9 s, sys: 67.9 ms, total: 46 s\n",
      "Wall time: 46.7 s\n"
     ]
    }
   ],
   "source": [
    "%%time\n",
    "\n",
    "best_model_7 = None\n",
    "best_result_7 = 0\n",
    "best_depth_7 = 0\n",
    "best_criterion_7 = ''\n",
    "best_max_feature_7 = ''\n",
    "best_samples_split_7 = 0\n",
    "best_samples_leaf_7 = 0\n",
    "\n",
    "for criterion_7 in criterions:\n",
    "    for max_feature_7 in max_features:\n",
    "        for depth_7 in range(1, 10):\n",
    "            for samples_split_7 in range(10, 200, 10):\n",
    "                for samples_leaf_7 in range(1, 5):\n",
    "                    # обучение модели с заданными гиперпараметрами\n",
    "                    model_7 = DecisionTreeClassifier(random_state=12345, \n",
    "                                                     criterion=criterion_7,\n",
    "                                                     max_features=max_feature_7,\n",
    "                                                     max_depth=depth_7,\n",
    "                                                     min_samples_split=samples_split_7, \n",
    "                                                     min_samples_leaf=samples_leaf_7)\n",
    "                    model_7.fit(features_upsampled, target_upsampled)\n",
    "                    result_7 = f1_score(target_valid, model_7.predict(features_valid)) # подсчёт f1-меры \n",
    "                    if result_7 > best_result_7:\n",
    "                        # запись лучших параметров\n",
    "                        best_model_7 = model_7\n",
    "                        best_result_7 = result_7\n",
    "                        best_criterion_7 = criterion_7\n",
    "                        best_max_feature_7 = max_feature_7\n",
    "                        best_depth_7 = depth_7\n",
    "                        best_samples_split_7 = samples_split_7\n",
    "                        best_samples_leaf_7 = samples_leaf_7\n",
    "                                                \n",
    "print(\"f1-мера наилучшей модели на валидационной выборке:\", best_result_7, \n",
    "      \"\\nAUC-ROC:\", roc_auc_score(target_valid, best_model_7.predict_proba(features_valid)[:, 1]), # подсчёт AUC-ROC\n",
    "      \"\\nКритерий:\", best_criterion_7, \n",
    "      \"\\nКоличество признаков:\", best_max_feature_7,\n",
    "      \"\\nГлубина дерева:\", best_depth_7,\n",
    "      \"\\nМинимальное количество примеров:\", best_samples_split_7, \n",
    "      \"\\nМинимальное количество объектов:\", best_samples_leaf_7)"
   ]
  },
  {
   "cell_type": "markdown",
   "metadata": {},
   "source": [
    "####  Случайный лес"
   ]
  },
  {
   "cell_type": "code",
   "execution_count": 19,
   "metadata": {},
   "outputs": [
    {
     "name": "stdout",
     "output_type": "stream",
     "text": [
      "f1-мера наилучшей модели на валидационной выборке: 0.5901639344262295 \n",
      "AUC-ROC: 0.8267394562872843 \n",
      "Критерий: gini \n",
      "Количество признаков: auto \n",
      "Количество деревьев: 10 \n",
      "Глубина дерева: 14\n",
      "CPU times: user 1min 35s, sys: 168 ms, total: 1min 35s\n",
      "Wall time: 1min 36s\n"
     ]
    }
   ],
   "source": [
    "%%time\n",
    "\n",
    "best_model_8 = None\n",
    "best_result_8 = 0\n",
    "best_est_8 = 0\n",
    "best_depth_8 = 0\n",
    "best_criterion_8 = ''\n",
    "best_max_feature_8 = ''\n",
    "\n",
    "for criterion_8 in criterions:\n",
    "    for max_feature_8 in max_features:\n",
    "        for est_8 in range(10, 20):\n",
    "            for depth_8 in range(5, 15):\n",
    "                        # обучение модели с заданными гиперпараметрами\n",
    "                        model_8 = RandomForestClassifier(random_state=12345,\n",
    "                                                         criterion=criterion_8,\n",
    "                                                         max_features=max_feature_8,\n",
    "                                                         n_estimators=est_8,\n",
    "                                                         max_depth=depth_8)\n",
    "                        model_8.fit(features_upsampled, target_upsampled)\n",
    "                        result_8 = f1_score(target_valid, model_8.predict(features_valid)) # подсчёт f1-меры\n",
    "                        if result_8 > best_result_8:\n",
    "                            # запись лучших параметров\n",
    "                            best_model_8 = model_8\n",
    "                            best_result_8 = result_8\n",
    "                            best_criterion_8 = criterion_8\n",
    "                            best_max_feature_8 = max_feature_8\n",
    "                            best_est_8 = est_8\n",
    "                            best_depth_8 = depth_8\n",
    "                            \n",
    "print(\"f1-мера наилучшей модели на валидационной выборке:\", best_result_8, \n",
    "      \"\\nAUC-ROC:\", roc_auc_score(target_valid, best_model_8.predict_proba(features_valid)[:, 1]), # подсчёт AUC-ROC\n",
    "      \"\\nКритерий:\", best_criterion_8,\n",
    "      \"\\nКоличество признаков:\", best_max_feature_8,\n",
    "      \"\\nКоличество деревьев:\", best_est_8,\n",
    "      \"\\nГлубина дерева:\", best_depth_8)"
   ]
  },
  {
   "cell_type": "markdown",
   "metadata": {},
   "source": [
    "####  Логистическая регрессия"
   ]
  },
  {
   "cell_type": "code",
   "execution_count": 20,
   "metadata": {},
   "outputs": [
    {
     "name": "stdout",
     "output_type": "stream",
     "text": [
      "f1-мера:  0.4783759929390997\n",
      "AUC-ROC: 0.7729745882734426\n",
      "CPU times: user 45.5 ms, sys: 35.9 ms, total: 81.5 ms\n",
      "Wall time: 33.6 ms\n"
     ]
    }
   ],
   "source": [
    "%%time\n",
    "\n",
    "model_9 = LogisticRegression(solver='liblinear', random_state=12345)\n",
    "model_9.fit(features_upsampled, target_upsampled)\n",
    "\n",
    "print(\"f1-мера: \", f1_score(target_valid, model_9.predict(features_valid))) # подсчёт f1-меры\n",
    "print(\"AUC-ROC:\", roc_auc_score(target_valid, model_9.predict_proba(features_valid)[:, 1])) # подсчёт AUC-ROC"
   ]
  },
  {
   "cell_type": "markdown",
   "metadata": {},
   "source": [
    "#### Вывод"
   ]
  },
  {
   "cell_type": "markdown",
   "metadata": {},
   "source": [
    "При увеличении выборки результаты метрик всех трёх моделей почти не изменяются относительно метода взвешивания классов. Также можно заметить, что из-за увеличения объема данных, время обучения моделей Дерево решений и Случайного леса увеличились. "
   ]
  },
  {
   "cell_type": "markdown",
   "metadata": {},
   "source": [
    "### Уменьшение выборки"
   ]
  },
  {
   "cell_type": "markdown",
   "metadata": {},
   "source": [
    "Для уменьшения выборки возьмем четвёртую часть отрицательных объектов, чтобы выравнить их с количеством положительных."
   ]
  },
  {
   "cell_type": "code",
   "execution_count": 21,
   "metadata": {},
   "outputs": [],
   "source": [
    "features_downsampled = pd.concat([features_zeros.sample(frac=0.25, random_state=12345)] + [features_ones])\n",
    "target_downsampled = pd.concat([target_zeros.sample(frac=0.25, random_state=12345)] + [target_ones])\n",
    "features_downsampled, target_downsampled = shuffle(features_downsampled, target_downsampled, random_state=12345)"
   ]
  },
  {
   "cell_type": "markdown",
   "metadata": {},
   "source": [
    "####  Дерево решений"
   ]
  },
  {
   "cell_type": "code",
   "execution_count": 22,
   "metadata": {},
   "outputs": [
    {
     "name": "stdout",
     "output_type": "stream",
     "text": [
      "f1-мера наилучшей модели на валидационной выборке: 0.5603864734299516 \n",
      "AUC-ROC: 0.8301116322984999 \n",
      "Критерий: gini \n",
      "Количество признаков: None \n",
      "Глубина дерева: 7 \n",
      "Минимальное количество примеров: 30 \n",
      "Минимальное количество объектов: 1\n",
      "CPU times: user 23.3 s, sys: 76 ms, total: 23.4 s\n",
      "Wall time: 23.4 s\n"
     ]
    }
   ],
   "source": [
    "%%time\n",
    "\n",
    "best_model_10 = None\n",
    "best_result_10 = 0\n",
    "best_depth_10 = 0\n",
    "best_criterion_10 = ''\n",
    "best_max_feature_10 = ''\n",
    "best_samples_split_10 = 0\n",
    "best_samples_leaf_10 = 0\n",
    "\n",
    "for criterion_10 in criterions:\n",
    "    for max_feature_10 in max_features:\n",
    "        for depth_10 in range(1, 10):\n",
    "            for samples_split_10 in range(10, 200, 10):\n",
    "                for samples_leaf_10 in range(1, 5):\n",
    "                    # обучение модели с заданными гиперпараметрами\n",
    "                    model_10 = DecisionTreeClassifier(random_state=12345, \n",
    "                                                     criterion=criterion_10,\n",
    "                                                     max_features=max_feature_10,\n",
    "                                                     max_depth=depth_10,\n",
    "                                                     min_samples_split=samples_split_10, \n",
    "                                                     min_samples_leaf=samples_leaf_10)\n",
    "                    model_10.fit(features_downsampled, target_downsampled)\n",
    "                    result_10 = f1_score(target_valid, model_10.predict(features_valid)) # подсчёт f1-меры \n",
    "                    if result_10 > best_result_10:\n",
    "                        # запись лучших параметров\n",
    "                        best_model_10 = model_10\n",
    "                        best_result_10 = result_10\n",
    "                        best_criterion_10 = criterion_10\n",
    "                        best_max_feature_10 = max_feature_10\n",
    "                        best_depth_10 = depth_10\n",
    "                        best_samples_split_10 = samples_split_10\n",
    "                        best_samples_leaf_10 = samples_leaf_10\n",
    "                                                \n",
    "print(\"f1-мера наилучшей модели на валидационной выборке:\", best_result_10, \n",
    "      \"\\nAUC-ROC:\", roc_auc_score(target_valid, best_model_10.predict_proba(features_valid)[:, 1]), # подсчёт AUC-ROC\n",
    "      \"\\nКритерий:\", best_criterion_10, \n",
    "      \"\\nКоличество признаков:\", best_max_feature_10,\n",
    "      \"\\nГлубина дерева:\", best_depth_10,\n",
    "      \"\\nМинимальное количество примеров:\", best_samples_split_10, \n",
    "      \"\\nМинимальное количество объектов:\", best_samples_leaf_10)"
   ]
  },
  {
   "cell_type": "markdown",
   "metadata": {},
   "source": [
    "####  Случайный лес"
   ]
  },
  {
   "cell_type": "code",
   "execution_count": 23,
   "metadata": {},
   "outputs": [
    {
     "name": "stdout",
     "output_type": "stream",
     "text": [
      "f1-мера наилучшей модели на валидационной выборке: 0.5714285714285714 \n",
      "AUC-ROC: 0.8471370281298134 \n",
      "Критерий: entropy \n",
      "Количество признаков: None \n",
      "Количество деревьев: 17 \n",
      "Глубина дерева: 7\n",
      "CPU times: user 35.8 s, sys: 116 ms, total: 35.9 s\n",
      "Wall time: 35.9 s\n"
     ]
    }
   ],
   "source": [
    "%%time\n",
    "\n",
    "best_model_11 = None\n",
    "best_result_11 = 0\n",
    "best_est_11 = 0\n",
    "best_depth_11 = 0\n",
    "best_criterion_11 = ''\n",
    "best_max_feature_11 = ''\n",
    "\n",
    "for criterion_11 in criterions:\n",
    "    for max_feature_11 in max_features:\n",
    "        for est_11 in range(10, 20):\n",
    "            for depth_11 in range(5, 15):\n",
    "                        # обучение модели с заданными гиперпараметрами\n",
    "                        model_11 = RandomForestClassifier(random_state=12345,\n",
    "                                                         criterion=criterion_11,\n",
    "                                                         max_features=max_feature_11,\n",
    "                                                         n_estimators=est_11,\n",
    "                                                         max_depth=depth_11)\n",
    "                        model_11.fit(features_downsampled, target_downsampled)\n",
    "                        result_11 = f1_score(target_valid, model_11.predict(features_valid)) # подсчёт f1-меры\n",
    "                        if result_11 > best_result_11:\n",
    "                            # запись лучших параметров\n",
    "                            best_model_11 = model_11\n",
    "                            best_result_11 = result_11\n",
    "                            best_criterion_11 = criterion_11\n",
    "                            best_max_feature_11 = max_feature_11\n",
    "                            best_est_11 = est_11\n",
    "                            best_depth_11 = depth_11\n",
    "                            \n",
    "print(\"f1-мера наилучшей модели на валидационной выборке:\", best_result_11, \n",
    "      \"\\nAUC-ROC:\", roc_auc_score(target_valid, best_model_11.predict_proba(features_valid)[:, 1]), # подсчёт AUC-ROC\n",
    "      \"\\nКритерий:\", best_criterion_11,\n",
    "      \"\\nКоличество признаков:\", best_max_feature_11,\n",
    "      \"\\nКоличество деревьев:\", best_est_11,\n",
    "      \"\\nГлубина дерева:\", best_depth_11)"
   ]
  },
  {
   "cell_type": "markdown",
   "metadata": {},
   "source": [
    "####  Логистическая регрессия"
   ]
  },
  {
   "cell_type": "code",
   "execution_count": 24,
   "metadata": {},
   "outputs": [
    {
     "name": "stdout",
     "output_type": "stream",
     "text": [
      "f1-мера:  0.4784520668425682\n",
      "AUC-ROC: 0.7739171762416966\n",
      "CPU times: user 40.9 ms, sys: 119 µs, total: 41 ms\n",
      "Wall time: 26.3 ms\n"
     ]
    }
   ],
   "source": [
    "%%time\n",
    "\n",
    "model_12 = LogisticRegression(solver='liblinear', random_state=12345)\n",
    "model_12.fit(features_downsampled, target_downsampled)\n",
    "\n",
    "print(\"f1-мера: \", f1_score(target_valid, model_12.predict(features_valid))) # подсчёт f1-меры\n",
    "print(\"AUC-ROC:\", roc_auc_score(target_valid, model_12.predict_proba(features_valid)[:, 1])) # подсчёт AUC-ROC"
   ]
  },
  {
   "cell_type": "markdown",
   "metadata": {},
   "source": [
    "#### Вывод"
   ]
  },
  {
   "cell_type": "markdown",
   "metadata": {},
   "source": [
    "Значение f1-меры для всех моделей, кроме логистической регрессии, уменьшилось. Это обусловлено тем, что у модели стало в 2,5 раза меньше данных для обучения."
   ]
  },
  {
   "cell_type": "markdown",
   "metadata": {},
   "source": [
    "## Тестирование модели"
   ]
  },
  {
   "cell_type": "markdown",
   "metadata": {},
   "source": [
    "Из всех моделей можно выделить две с самы большим показателем f1-меры: Дерево решений без учёта дисбаланса классов (best_model_1) и Случайный лес с учетом дисбаланса классов и решения этой проблемы при помощи взвешивания (best_model_5). Так как в этих данных дисбаланс классов очень высокий, то для лучшей модели выберем best_model_5 и проверим на ней значения f1-меры и AUC-ROC."
   ]
  },
  {
   "cell_type": "code",
   "execution_count": 25,
   "metadata": {},
   "outputs": [
    {
     "name": "stdout",
     "output_type": "stream",
     "text": [
      "f1-мера на тестовой выборке: 0.6395348837209303\n",
      "AUC-ROC на тестовой выборке: 0.8583063732095029\n"
     ]
    }
   ],
   "source": [
    "print(\"f1-мера на тестовой выборке:\", f1_score(target_test, best_model_5.predict(features_test)))\n",
    "print(\"AUC-ROC на тестовой выборке:\", roc_auc_score(target_test, best_model_5.predict_proba(features_test)[:, 1]))"
   ]
  },
  {
   "cell_type": "markdown",
   "metadata": {},
   "source": [
    "Значения метрик на тестовой выборке получились выше, чем на валидационной выборке. Такое может происходить, если модель недоучилась, а значения метрик невысокие. Но в данном проекте необходимо конкретное значение f1-меры, которое удалось получить и на валидационной, и на тестовой выборке."
   ]
  },
  {
   "cell_type": "markdown",
   "metadata": {},
   "source": [
    "Найдем, какие факторы больше всего важны при моделировании."
   ]
  },
  {
   "cell_type": "code",
   "execution_count": 74,
   "metadata": {},
   "outputs": [
    {
     "data": {
      "text/html": [
       "<div>\n",
       "<style scoped>\n",
       "    .dataframe tbody tr th:only-of-type {\n",
       "        vertical-align: middle;\n",
       "    }\n",
       "\n",
       "    .dataframe tbody tr th {\n",
       "        vertical-align: top;\n",
       "    }\n",
       "\n",
       "    .dataframe thead th {\n",
       "        text-align: right;\n",
       "    }\n",
       "</style>\n",
       "<table border=\"1\" class=\"dataframe\">\n",
       "  <thead>\n",
       "    <tr style=\"text-align: right;\">\n",
       "      <th></th>\n",
       "      <th>feature</th>\n",
       "      <th>importance</th>\n",
       "    </tr>\n",
       "  </thead>\n",
       "  <tbody>\n",
       "    <tr>\n",
       "      <th>0</th>\n",
       "      <td>Age</td>\n",
       "      <td>0.299845</td>\n",
       "    </tr>\n",
       "    <tr>\n",
       "      <th>1</th>\n",
       "      <td>NumOfProducts</td>\n",
       "      <td>0.186421</td>\n",
       "    </tr>\n",
       "    <tr>\n",
       "      <th>2</th>\n",
       "      <td>Balance</td>\n",
       "      <td>0.121306</td>\n",
       "    </tr>\n",
       "    <tr>\n",
       "      <th>3</th>\n",
       "      <td>EstimatedSalary</td>\n",
       "      <td>0.097801</td>\n",
       "    </tr>\n",
       "    <tr>\n",
       "      <th>4</th>\n",
       "      <td>CreditScore</td>\n",
       "      <td>0.097370</td>\n",
       "    </tr>\n",
       "  </tbody>\n",
       "</table>\n",
       "</div>"
      ],
      "text/plain": [
       "           feature  importance\n",
       "0              Age    0.299845\n",
       "1    NumOfProducts    0.186421\n",
       "2          Balance    0.121306\n",
       "3  EstimatedSalary    0.097801\n",
       "4      CreditScore    0.097370"
      ]
     },
     "metadata": {},
     "output_type": "display_data"
    },
    {
     "data": {
      "image/png": "[encoded data removed]",
      "text/plain": [
       "<Figure size 432x288 with 1 Axes>"
      ]
     },
     "metadata": {},
     "output_type": "display_data"
    }
   ],
   "source": [
    "importances = best_model_5.feature_importances_\n",
    " # создаем список факторов \n",
    "feature_list = list(features_train.columns)\n",
    "# создаем датафрейм с факторами и их важностью\n",
    "feature_results = pd.DataFrame({'feature': feature_list,'importance': importances})\n",
    "# Выбираем 5 самых важных факторов\n",
    "feature_results = feature_results.sort_values(by='importance',ascending = False).reset_index(drop=True).head()  \n",
    "display(feature_results)\n",
    "feature_results.plot(x='feature', \n",
    "                     y='importance', \n",
    "                     kind='bar', \n",
    "                     figsize=(6,4), \n",
    "                     legend=False, \n",
    "                     colormap='Dark2', \n",
    "                     title='Важность факторов при моделировании')\n",
    "plt.show()"
   ]
  },
  {
   "cell_type": "markdown",
   "metadata": {},
   "source": [
    "## Общий вывод"
   ]
  },
  {
   "cell_type": "markdown",
   "metadata": {},
   "source": [
    "- для подготовки данных были проделаны операции преобразования категориальных признаков в численные, стандартизация данных, а также разделение всех данных на обучающую, валидационную и тестовые выборки в отношении 3:1:1\n",
    "- в данных присутствует значительные дисбаланс классов: положительных объектов в 4 раза меньше, чем отрицательных.\n",
    "- если не учитывать дисбаланс классов, то наибольшее значение f1-меры=0.595 на валидационной выборке получилось у модели Дерево решений. А наибольшее значение AUC-ROC=0.848 получилось у модели Случайный лес.\n",
    "- для борьбы с дисбалансом использовались методы взвешивания классов, увеличения и уменьшения выборки.\n",
    "- при учитывании дисбаланса классов наибольшее значение f1-меры=0.592 на валидационной выборке получилось у модели Слачайного леса при методе взвешивания классов. А наибольшее значение AUC-ROC=0.847 получилось у модели Случайный лес при методе уменьшения выборки.\n",
    "- для проверки тестовой выборки была взята модель Случайного леса с учетом дисбаланса классов и решения этой проблемы при помощи взвешивания, при данной модели значение f1-меры получилось 0.64"
   ]
  }
 ],
 "metadata": {
  "ExecuteTimeLog": [
   {
    "duration": 111,
    "start_time": "2022-04-27T02:31:37.747Z"
   },
   {
    "duration": 410,
    "start_time": "2022-04-27T02:31:39.928Z"
   },
   {
    "duration": 98,
    "start_time": "2022-04-27T02:31:40.394Z"
   },
   {
    "duration": 49,
    "start_time": "2022-04-27T02:31:47.283Z"
   },
   {
    "duration": 22,
    "start_time": "2022-04-27T02:32:06.377Z"
   },
   {
    "duration": 42,
    "start_time": "2022-04-27T02:32:31.004Z"
   },
   {
    "duration": 5,
    "start_time": "2022-04-27T02:33:57.888Z"
   },
   {
    "duration": 19,
    "start_time": "2022-04-27T02:34:12.924Z"
   },
   {
    "duration": 5,
    "start_time": "2022-04-27T02:40:54.900Z"
   },
   {
    "duration": 58,
    "start_time": "2022-04-27T02:41:28.701Z"
   },
   {
    "duration": 623,
    "start_time": "2022-04-27T02:41:41.524Z"
   },
   {
    "duration": 11,
    "start_time": "2022-04-27T02:41:44.884Z"
   },
   {
    "duration": 191,
    "start_time": "2022-04-27T02:44:11.692Z"
   },
   {
    "duration": 9,
    "start_time": "2022-04-27T02:44:12.549Z"
   },
   {
    "duration": 14,
    "start_time": "2022-04-27T02:44:29.170Z"
   },
   {
    "duration": 226,
    "start_time": "2022-04-27T02:44:56.116Z"
   },
   {
    "duration": 10,
    "start_time": "2022-04-27T02:44:56.770Z"
   },
   {
    "duration": 211,
    "start_time": "2022-04-27T02:45:23.555Z"
   },
   {
    "duration": 100,
    "start_time": "2022-04-27T02:45:27.544Z"
   },
   {
    "duration": 17,
    "start_time": "2022-04-27T02:45:28.549Z"
   },
   {
    "duration": 195,
    "start_time": "2022-04-27T02:46:03.596Z"
   },
   {
    "duration": 178,
    "start_time": "2022-04-27T02:47:22.390Z"
   },
   {
    "duration": 182,
    "start_time": "2022-04-27T02:47:47.550Z"
   },
   {
    "duration": 182,
    "start_time": "2022-04-27T02:49:15.207Z"
   },
   {
    "duration": 18,
    "start_time": "2022-04-27T02:49:27.389Z"
   },
   {
    "duration": 12,
    "start_time": "2022-04-27T02:50:15.861Z"
   },
   {
    "duration": 9,
    "start_time": "2022-04-27T02:50:18.580Z"
   },
   {
    "duration": 12,
    "start_time": "2022-04-27T02:50:20.149Z"
   },
   {
    "duration": 12,
    "start_time": "2022-04-27T02:54:34.991Z"
   },
   {
    "duration": 11,
    "start_time": "2022-04-27T02:55:04.426Z"
   },
   {
    "duration": 1018,
    "start_time": "2022-04-27T02:55:54.139Z"
   },
   {
    "duration": 48,
    "start_time": "2022-04-27T02:55:55.159Z"
   },
   {
    "duration": 13,
    "start_time": "2022-04-27T02:55:55.209Z"
   },
   {
    "duration": 13,
    "start_time": "2022-04-27T02:55:55.223Z"
   },
   {
    "duration": 15,
    "start_time": "2022-04-27T02:55:55.238Z"
   },
   {
    "duration": 11,
    "start_time": "2022-04-27T02:55:55.255Z"
   },
   {
    "duration": 13,
    "start_time": "2022-04-27T02:56:57.672Z"
   },
   {
    "duration": 90,
    "start_time": "2022-04-27T02:57:05.097Z"
   },
   {
    "duration": 7,
    "start_time": "2022-04-27T02:57:46.174Z"
   },
   {
    "duration": 8,
    "start_time": "2022-04-27T02:58:37.852Z"
   },
   {
    "duration": 1033,
    "start_time": "2022-04-27T02:58:52.003Z"
   },
   {
    "duration": 49,
    "start_time": "2022-04-27T02:58:53.037Z"
   },
   {
    "duration": 13,
    "start_time": "2022-04-27T02:58:53.088Z"
   },
   {
    "duration": 8,
    "start_time": "2022-04-27T02:58:53.103Z"
   },
   {
    "duration": 11,
    "start_time": "2022-04-27T02:58:53.113Z"
   },
   {
    "duration": 30,
    "start_time": "2022-04-27T02:58:53.126Z"
   },
   {
    "duration": 3,
    "start_time": "2022-04-27T02:58:53.157Z"
   },
   {
    "duration": 1024,
    "start_time": "2022-04-27T03:00:33.977Z"
   },
   {
    "duration": 49,
    "start_time": "2022-04-27T03:00:35.003Z"
   },
   {
    "duration": 12,
    "start_time": "2022-04-27T03:00:35.054Z"
   },
   {
    "duration": 9,
    "start_time": "2022-04-27T03:00:35.069Z"
   },
   {
    "duration": 12,
    "start_time": "2022-04-27T03:00:35.080Z"
   },
   {
    "duration": 4,
    "start_time": "2022-04-27T03:00:35.093Z"
   },
   {
    "duration": 11,
    "start_time": "2022-04-27T03:00:35.098Z"
   },
   {
    "duration": 2,
    "start_time": "2022-04-27T03:00:35.111Z"
   },
   {
    "duration": 2,
    "start_time": "2022-04-27T03:01:34.774Z"
   },
   {
    "duration": 31,
    "start_time": "2022-04-27T03:02:10.118Z"
   },
   {
    "duration": 23,
    "start_time": "2022-04-27T03:02:44.605Z"
   },
   {
    "duration": 7,
    "start_time": "2022-04-27T03:02:47.688Z"
   },
   {
    "duration": 12,
    "start_time": "2022-04-27T03:03:30.181Z"
   },
   {
    "duration": 8,
    "start_time": "2022-04-27T03:03:34.905Z"
   },
   {
    "duration": 89,
    "start_time": "2022-04-27T03:03:35.478Z"
   },
   {
    "duration": 2,
    "start_time": "2022-04-27T03:10:06.544Z"
   },
   {
    "duration": 14,
    "start_time": "2022-04-27T03:10:06.976Z"
   },
   {
    "duration": 1032,
    "start_time": "2022-04-27T03:10:48.616Z"
   },
   {
    "duration": 49,
    "start_time": "2022-04-27T03:10:49.650Z"
   },
   {
    "duration": 13,
    "start_time": "2022-04-27T03:10:49.700Z"
   },
   {
    "duration": 8,
    "start_time": "2022-04-27T03:10:49.715Z"
   },
   {
    "duration": 24,
    "start_time": "2022-04-27T03:10:49.726Z"
   },
   {
    "duration": 3,
    "start_time": "2022-04-27T03:10:49.751Z"
   },
   {
    "duration": 28,
    "start_time": "2022-04-27T03:10:49.755Z"
   },
   {
    "duration": 6,
    "start_time": "2022-04-27T03:10:49.785Z"
   },
   {
    "duration": 30,
    "start_time": "2022-04-27T03:12:32.678Z"
   },
   {
    "duration": 3,
    "start_time": "2022-04-27T03:12:56.500Z"
   },
   {
    "duration": 4,
    "start_time": "2022-04-27T03:13:03.221Z"
   },
   {
    "duration": 25,
    "start_time": "2022-04-27T03:13:10.281Z"
   },
   {
    "duration": 35,
    "start_time": "2022-04-27T03:20:18.539Z"
   },
   {
    "duration": 30,
    "start_time": "2022-04-27T03:20:47.170Z"
   },
   {
    "duration": 45,
    "start_time": "2022-04-27T03:24:41.768Z"
   },
   {
    "duration": 95,
    "start_time": "2022-04-27T03:26:53.019Z"
   },
   {
    "duration": 16,
    "start_time": "2022-04-27T03:27:05.346Z"
   },
   {
    "duration": 155,
    "start_time": "2022-04-27T03:28:13.127Z"
   },
   {
    "duration": 948,
    "start_time": "2022-04-27T03:28:21.401Z"
   },
   {
    "duration": 51,
    "start_time": "2022-04-27T03:28:22.351Z"
   },
   {
    "duration": 13,
    "start_time": "2022-04-27T03:28:22.404Z"
   },
   {
    "duration": 9,
    "start_time": "2022-04-27T03:28:22.418Z"
   },
   {
    "duration": 18,
    "start_time": "2022-04-27T03:28:22.429Z"
   },
   {
    "duration": 28,
    "start_time": "2022-04-27T03:28:22.449Z"
   },
   {
    "duration": 24,
    "start_time": "2022-04-27T03:29:28.909Z"
   },
   {
    "duration": 87,
    "start_time": "2022-04-27T03:34:13.209Z"
   },
   {
    "duration": 12,
    "start_time": "2022-04-27T03:34:24.210Z"
   },
   {
    "duration": 7,
    "start_time": "2022-04-27T03:34:44.258Z"
   },
   {
    "duration": 5,
    "start_time": "2022-04-27T03:35:02.828Z"
   },
   {
    "duration": 5,
    "start_time": "2022-04-27T03:35:24.418Z"
   },
   {
    "duration": 5,
    "start_time": "2022-04-27T03:36:21.275Z"
   },
   {
    "duration": 4,
    "start_time": "2022-04-27T03:36:33.475Z"
   },
   {
    "duration": 5,
    "start_time": "2022-04-27T03:36:40.371Z"
   },
   {
    "duration": 6,
    "start_time": "2022-04-27T03:36:53.995Z"
   },
   {
    "duration": 6,
    "start_time": "2022-04-27T03:37:00.142Z"
   },
   {
    "duration": 6,
    "start_time": "2022-04-27T03:38:22.671Z"
   },
   {
    "duration": 43,
    "start_time": "2022-04-27T03:45:46.734Z"
   },
   {
    "duration": 22203,
    "start_time": "2022-04-27T03:49:45.996Z"
   },
   {
    "duration": 3,
    "start_time": "2022-04-27T03:50:42.166Z"
   },
   {
    "duration": 22069,
    "start_time": "2022-04-27T03:50:45.634Z"
   },
   {
    "duration": 15,
    "start_time": "2022-04-27T03:52:44.362Z"
   },
   {
    "duration": 1777,
    "start_time": "2022-04-27T03:53:00.772Z"
   },
   {
    "duration": 730,
    "start_time": "2022-04-27T03:53:02.551Z"
   },
   {
    "duration": 17,
    "start_time": "2022-04-27T03:53:03.283Z"
   },
   {
    "duration": 9,
    "start_time": "2022-04-27T03:53:03.301Z"
   },
   {
    "duration": 2,
    "start_time": "2022-04-27T03:53:03.312Z"
   },
   {
    "duration": 48,
    "start_time": "2022-04-27T03:53:03.316Z"
   },
   {
    "duration": 5,
    "start_time": "2022-04-27T03:53:03.366Z"
   },
   {
    "duration": 87614,
    "start_time": "2022-04-27T03:53:03.372Z"
   },
   {
    "duration": 86621,
    "start_time": "2022-04-27T03:54:37.913Z"
   },
   {
    "duration": 12,
    "start_time": "2022-04-27T03:56:04.536Z"
   },
   {
    "duration": 108,
    "start_time": "2022-04-27T03:57:20.477Z"
   },
   {
    "duration": 105,
    "start_time": "2022-04-27T03:57:26.312Z"
   },
   {
    "duration": 9,
    "start_time": "2022-04-27T03:57:47.435Z"
   },
   {
    "duration": 8,
    "start_time": "2022-04-27T03:57:54.933Z"
   },
   {
    "duration": 4,
    "start_time": "2022-04-27T03:58:00.011Z"
   },
   {
    "duration": 185885,
    "start_time": "2022-04-27T03:58:12.245Z"
   },
   {
    "duration": 113,
    "start_time": "2022-04-27T04:04:44.364Z"
   },
   {
    "duration": 47275,
    "start_time": "2022-04-27T04:04:54.887Z"
   },
   {
    "duration": 66683,
    "start_time": "2022-04-27T04:06:08.252Z"
   },
   {
    "duration": 253218,
    "start_time": "2022-04-27T04:08:30.646Z"
   },
   {
    "duration": 263013,
    "start_time": "2022-04-27T04:14:08.593Z"
   },
   {
    "duration": 3,
    "start_time": "2022-04-27T04:19:05.579Z"
   },
   {
    "duration": 258516,
    "start_time": "2022-04-27T04:19:08.598Z"
   },
   {
    "duration": 226117,
    "start_time": "2022-04-27T04:59:17.675Z"
   },
   {
    "duration": 11,
    "start_time": "2022-04-27T05:03:26.368Z"
   },
   {
    "duration": 4,
    "start_time": "2022-04-27T05:03:30.682Z"
   },
   {
    "duration": 7,
    "start_time": "2022-04-27T05:03:35.350Z"
   },
   {
    "duration": 65,
    "start_time": "2022-04-27T05:08:56.338Z"
   },
   {
    "duration": 1433,
    "start_time": "2022-04-27T05:22:31.661Z"
   },
   {
    "duration": 80,
    "start_time": "2022-04-27T05:22:33.097Z"
   },
   {
    "duration": 24,
    "start_time": "2022-04-27T05:22:33.180Z"
   },
   {
    "duration": 12,
    "start_time": "2022-04-27T05:22:33.206Z"
   },
   {
    "duration": 2,
    "start_time": "2022-04-27T05:22:33.220Z"
   },
   {
    "duration": 48,
    "start_time": "2022-04-27T05:22:33.224Z"
   },
   {
    "duration": 5,
    "start_time": "2022-04-27T05:22:33.274Z"
   },
   {
    "duration": 30250,
    "start_time": "2022-04-27T05:22:33.281Z"
   },
   {
    "duration": 1129,
    "start_time": "2022-04-27T05:23:59.171Z"
   },
   {
    "duration": 54,
    "start_time": "2022-04-27T05:24:00.302Z"
   },
   {
    "duration": 18,
    "start_time": "2022-04-27T05:24:00.358Z"
   },
   {
    "duration": 10,
    "start_time": "2022-04-27T05:24:00.378Z"
   },
   {
    "duration": 18,
    "start_time": "2022-04-27T05:24:00.389Z"
   },
   {
    "duration": 38,
    "start_time": "2022-04-27T05:24:00.409Z"
   },
   {
    "duration": 5,
    "start_time": "2022-04-27T05:24:00.449Z"
   },
   {
    "duration": 31575,
    "start_time": "2022-04-27T05:24:00.456Z"
   },
   {
    "duration": 1245,
    "start_time": "2022-04-27T05:29:33.502Z"
   },
   {
    "duration": 57,
    "start_time": "2022-04-27T05:29:34.749Z"
   },
   {
    "duration": 15,
    "start_time": "2022-04-27T05:29:34.807Z"
   },
   {
    "duration": 10,
    "start_time": "2022-04-27T05:29:34.824Z"
   },
   {
    "duration": 12,
    "start_time": "2022-04-27T05:29:34.835Z"
   },
   {
    "duration": 29,
    "start_time": "2022-04-27T05:29:34.849Z"
   },
   {
    "duration": 6,
    "start_time": "2022-04-27T05:29:34.879Z"
   },
   {
    "duration": 1103,
    "start_time": "2022-04-27T05:29:51.474Z"
   },
   {
    "duration": 48,
    "start_time": "2022-04-27T05:29:52.580Z"
   },
   {
    "duration": 23,
    "start_time": "2022-04-27T05:29:52.630Z"
   },
   {
    "duration": 14,
    "start_time": "2022-04-27T05:29:52.655Z"
   },
   {
    "duration": 3,
    "start_time": "2022-04-27T05:29:52.671Z"
   },
   {
    "duration": 44,
    "start_time": "2022-04-27T05:29:52.675Z"
   },
   {
    "duration": 6,
    "start_time": "2022-04-27T05:29:52.720Z"
   },
   {
    "duration": 32677,
    "start_time": "2022-04-27T05:29:52.728Z"
   },
   {
    "duration": 1084,
    "start_time": "2022-04-27T05:40:31.086Z"
   },
   {
    "duration": 52,
    "start_time": "2022-04-27T05:40:32.172Z"
   },
   {
    "duration": 15,
    "start_time": "2022-04-27T05:40:32.226Z"
   },
   {
    "duration": 10,
    "start_time": "2022-04-27T05:40:32.247Z"
   },
   {
    "duration": 3,
    "start_time": "2022-04-27T05:40:32.258Z"
   },
   {
    "duration": 26,
    "start_time": "2022-04-27T05:40:32.263Z"
   },
   {
    "duration": 6,
    "start_time": "2022-04-27T05:40:32.290Z"
   },
   {
    "duration": 31559,
    "start_time": "2022-04-27T05:40:32.298Z"
   },
   {
    "duration": 42875,
    "start_time": "2022-04-27T05:41:03.859Z"
   },
   {
    "duration": 216,
    "start_time": "2022-04-27T05:41:46.736Z"
   },
   {
    "duration": 15504,
    "start_time": "2022-04-27T05:43:10.368Z"
   },
   {
    "duration": 15763,
    "start_time": "2022-04-27T05:43:59.544Z"
   },
   {
    "duration": 1152,
    "start_time": "2022-04-27T05:49:12.548Z"
   },
   {
    "duration": 49,
    "start_time": "2022-04-27T05:49:13.701Z"
   },
   {
    "duration": 16,
    "start_time": "2022-04-27T05:49:13.752Z"
   },
   {
    "duration": 10,
    "start_time": "2022-04-27T05:49:13.770Z"
   },
   {
    "duration": 5,
    "start_time": "2022-04-27T05:49:13.781Z"
   },
   {
    "duration": 28,
    "start_time": "2022-04-27T05:49:13.787Z"
   },
   {
    "duration": 36,
    "start_time": "2022-04-27T05:49:13.817Z"
   },
   {
    "duration": 32188,
    "start_time": "2022-04-27T05:49:13.854Z"
   },
   {
    "duration": 129,
    "start_time": "2022-04-27T05:54:56.227Z"
   },
   {
    "duration": 12453,
    "start_time": "2022-04-27T05:56:03.124Z"
   },
   {
    "duration": 37806,
    "start_time": "2022-04-27T05:56:53.372Z"
   },
   {
    "duration": 12817,
    "start_time": "2022-04-27T05:57:45.761Z"
   },
   {
    "duration": 154,
    "start_time": "2022-04-27T06:01:09.456Z"
   },
   {
    "duration": 4,
    "start_time": "2022-04-27T06:01:20.286Z"
   },
   {
    "duration": 32,
    "start_time": "2022-04-27T06:01:20.872Z"
   },
   {
    "duration": 52793,
    "start_time": "2022-04-27T06:01:54.737Z"
   },
   {
    "duration": 36413,
    "start_time": "2022-04-27T06:03:57.909Z"
   },
   {
    "duration": 62,
    "start_time": "2022-04-27T06:05:12.196Z"
   },
   {
    "duration": 74,
    "start_time": "2022-04-27T06:05:27.180Z"
   },
   {
    "duration": 129,
    "start_time": "2022-04-27T06:05:48.322Z"
   },
   {
    "duration": 113,
    "start_time": "2022-04-27T06:06:04.950Z"
   },
   {
    "duration": 17860,
    "start_time": "2022-04-27T06:08:37.476Z"
   },
   {
    "duration": 76145,
    "start_time": "2022-04-27T06:11:38.220Z"
   },
   {
    "duration": 79707,
    "start_time": "2022-04-27T06:15:24.726Z"
   },
   {
    "duration": 230,
    "start_time": "2022-04-27T06:17:44.836Z"
   },
   {
    "duration": 42592,
    "start_time": "2022-04-27T06:18:15.729Z"
   },
   {
    "duration": 63506,
    "start_time": "2022-04-27T06:20:56.654Z"
   },
   {
    "duration": 68,
    "start_time": "2022-04-27T06:24:51.656Z"
   },
   {
    "duration": 29016,
    "start_time": "2022-04-27T06:24:57.582Z"
   },
   {
    "duration": 39898,
    "start_time": "2022-04-27T06:26:01.715Z"
   },
   {
    "duration": 73493,
    "start_time": "2022-04-27T06:27:21.236Z"
   },
   {
    "duration": 73198,
    "start_time": "2022-04-27T06:29:58.214Z"
   },
   {
    "duration": 203,
    "start_time": "2022-04-27T06:31:26.153Z"
   },
   {
    "duration": 3,
    "start_time": "2022-04-27T06:39:05.515Z"
   },
   {
    "duration": 115,
    "start_time": "2022-04-27T06:48:17.173Z"
   },
   {
    "duration": 117,
    "start_time": "2022-04-27T06:49:12.680Z"
   },
   {
    "duration": 16,
    "start_time": "2022-04-27T06:49:16.010Z"
   },
   {
    "duration": 133,
    "start_time": "2022-04-27T06:49:17.413Z"
   },
   {
    "duration": 66285,
    "start_time": "2022-04-27T06:49:29.586Z"
   },
   {
    "duration": 137820,
    "start_time": "2022-04-27T06:52:51.485Z"
   },
   {
    "duration": 170,
    "start_time": "2022-04-27T06:55:22.077Z"
   },
   {
    "duration": 16,
    "start_time": "2022-04-27T07:06:06.510Z"
   },
   {
    "duration": 1292,
    "start_time": "2022-04-27T07:06:18.542Z"
   },
   {
    "duration": 51,
    "start_time": "2022-04-27T07:06:19.836Z"
   },
   {
    "duration": 21,
    "start_time": "2022-04-27T07:06:19.888Z"
   },
   {
    "duration": 37,
    "start_time": "2022-04-27T07:06:19.913Z"
   },
   {
    "duration": 4,
    "start_time": "2022-04-27T07:06:19.952Z"
   },
   {
    "duration": 38,
    "start_time": "2022-04-27T07:06:19.958Z"
   },
   {
    "duration": 8,
    "start_time": "2022-04-27T07:06:19.998Z"
   },
   {
    "duration": 6,
    "start_time": "2022-04-27T07:06:20.008Z"
   },
   {
    "duration": 56507,
    "start_time": "2022-04-27T07:06:20.015Z"
   },
   {
    "duration": 102311,
    "start_time": "2022-04-27T07:07:16.525Z"
   },
   {
    "duration": 211,
    "start_time": "2022-04-27T07:08:58.838Z"
   },
   {
    "duration": 66096,
    "start_time": "2022-04-27T07:08:59.053Z"
   },
   {
    "duration": 106041,
    "start_time": "2022-04-27T07:10:05.151Z"
   },
   {
    "duration": 155,
    "start_time": "2022-04-27T07:11:51.194Z"
   },
   {
    "duration": 99,
    "start_time": "2022-04-27T07:11:51.351Z"
   },
   {
    "duration": 72169,
    "start_time": "2022-04-27T07:11:51.453Z"
   },
   {
    "duration": 142591,
    "start_time": "2022-04-27T07:13:03.624Z"
   },
   {
    "duration": 135,
    "start_time": "2022-04-27T07:15:26.218Z"
   },
   {
    "duration": 9,
    "start_time": "2022-04-27T07:16:29.994Z"
   },
   {
    "duration": 24120,
    "start_time": "2022-04-27T07:18:41.435Z"
   },
   {
    "duration": 36429,
    "start_time": "2022-04-27T07:21:06.435Z"
   },
   {
    "duration": 20,
    "start_time": "2022-04-27T07:22:26.645Z"
   },
   {
    "duration": 13,
    "start_time": "2022-04-27T07:24:25.828Z"
   },
   {
    "duration": 12,
    "start_time": "2022-04-27T07:24:36.787Z"
   },
   {
    "duration": 97,
    "start_time": "2022-04-27T07:25:49.010Z"
   },
   {
    "duration": 18,
    "start_time": "2022-04-27T07:26:10.620Z"
   },
   {
    "duration": 9,
    "start_time": "2022-04-27T07:26:20.890Z"
   },
   {
    "duration": 14,
    "start_time": "2022-04-27T07:26:26.883Z"
   },
   {
    "duration": 8,
    "start_time": "2022-04-27T07:26:38.049Z"
   },
   {
    "duration": 16,
    "start_time": "2022-04-27T07:26:40.937Z"
   },
   {
    "duration": 8,
    "start_time": "2022-04-27T07:26:44.643Z"
   },
   {
    "duration": 11,
    "start_time": "2022-04-27T07:26:47.395Z"
   },
   {
    "duration": 8,
    "start_time": "2022-04-27T07:26:59.409Z"
   },
   {
    "duration": 8,
    "start_time": "2022-04-27T07:27:02.940Z"
   },
   {
    "duration": 10,
    "start_time": "2022-04-27T07:27:05.898Z"
   },
   {
    "duration": 49,
    "start_time": "2022-04-27T07:27:12.321Z"
   },
   {
    "duration": 20,
    "start_time": "2022-04-27T07:27:16.080Z"
   },
   {
    "duration": 8,
    "start_time": "2022-04-27T07:27:18.583Z"
   },
   {
    "duration": 11,
    "start_time": "2022-04-27T07:27:21.905Z"
   },
   {
    "duration": 13,
    "start_time": "2022-04-27T07:28:39.617Z"
   },
   {
    "duration": 1439,
    "start_time": "2022-04-27T07:36:31.368Z"
   },
   {
    "duration": 49,
    "start_time": "2022-04-27T07:36:32.809Z"
   },
   {
    "duration": 15,
    "start_time": "2022-04-27T07:36:32.859Z"
   },
   {
    "duration": 11,
    "start_time": "2022-04-27T07:36:32.877Z"
   },
   {
    "duration": 3,
    "start_time": "2022-04-27T07:36:32.890Z"
   },
   {
    "duration": 59,
    "start_time": "2022-04-27T07:36:32.895Z"
   },
   {
    "duration": 7,
    "start_time": "2022-04-27T07:36:32.957Z"
   },
   {
    "duration": 3,
    "start_time": "2022-04-27T07:36:32.966Z"
   },
   {
    "duration": 39102,
    "start_time": "2022-04-27T07:36:32.972Z"
   },
   {
    "duration": 73499,
    "start_time": "2022-04-27T07:37:12.076Z"
   },
   {
    "duration": 86,
    "start_time": "2022-04-27T07:38:25.576Z"
   },
   {
    "duration": 52585,
    "start_time": "2022-04-27T07:38:25.748Z"
   },
   {
    "duration": 75435,
    "start_time": "2022-04-27T07:39:18.351Z"
   },
   {
    "duration": 79,
    "start_time": "2022-04-27T07:40:33.787Z"
   },
   {
    "duration": 23,
    "start_time": "2022-04-27T07:40:33.949Z"
   },
   {
    "duration": 50874,
    "start_time": "2022-04-27T07:40:34.057Z"
   },
   {
    "duration": 100456,
    "start_time": "2022-04-27T07:41:24.933Z"
   },
   {
    "duration": 67,
    "start_time": "2022-04-27T07:43:05.391Z"
   },
   {
    "duration": 90,
    "start_time": "2022-04-27T07:43:05.461Z"
   },
   {
    "duration": 23859,
    "start_time": "2022-04-27T07:43:05.559Z"
   },
   {
    "duration": 35711,
    "start_time": "2022-04-27T07:43:29.420Z"
   },
   {
    "duration": 116,
    "start_time": "2022-04-27T07:44:05.133Z"
   },
   {
    "duration": 102,
    "start_time": "2022-04-27T07:44:05.251Z"
   },
   {
    "duration": 2,
    "start_time": "2022-04-27T07:46:26.031Z"
   },
   {
    "duration": 25,
    "start_time": "2022-04-27T07:47:05.422Z"
   },
   {
    "duration": 64,
    "start_time": "2022-04-27T08:11:01.897Z"
   },
   {
    "duration": 54,
    "start_time": "2022-04-27T08:11:35.366Z"
   },
   {
    "duration": 63,
    "start_time": "2022-04-27T08:11:56.799Z"
   },
   {
    "duration": 62,
    "start_time": "2022-04-27T08:12:13.804Z"
   },
   {
    "duration": 76333,
    "start_time": "2022-04-27T08:12:26.045Z"
   },
   {
    "duration": 14,
    "start_time": "2022-04-27T08:15:49.915Z"
   },
   {
    "duration": 15,
    "start_time": "2022-04-27T08:16:02.802Z"
   },
   {
    "duration": 9,
    "start_time": "2022-04-27T08:37:58.204Z"
   },
   {
    "duration": 8,
    "start_time": "2022-04-27T08:37:59.580Z"
   },
   {
    "duration": 10,
    "start_time": "2022-04-27T08:44:06.942Z"
   },
   {
    "duration": 27536,
    "start_time": "2022-04-27T08:44:08.358Z"
   },
   {
    "duration": 44144,
    "start_time": "2022-04-27T08:44:59.644Z"
   },
   {
    "duration": 103,
    "start_time": "2022-04-27T08:46:31.565Z"
   },
   {
    "duration": 4,
    "start_time": "2022-04-27T08:47:02.737Z"
   },
   {
    "duration": 12,
    "start_time": "2022-04-27T08:48:36.087Z"
   },
   {
    "duration": 18,
    "start_time": "2022-04-27T08:48:57.068Z"
   },
   {
    "duration": 7,
    "start_time": "2022-04-27T08:49:40.048Z"
   },
   {
    "duration": 11,
    "start_time": "2022-04-27T08:49:43.226Z"
   },
   {
    "duration": 56959,
    "start_time": "2022-04-27T08:50:06.647Z"
   },
   {
    "duration": 137369,
    "start_time": "2022-04-27T08:51:22.740Z"
   },
   {
    "duration": 30,
    "start_time": "2022-04-27T08:55:09.925Z"
   },
   {
    "duration": 9,
    "start_time": "2022-04-27T08:56:12.805Z"
   },
   {
    "duration": 25769,
    "start_time": "2022-04-27T08:56:14.764Z"
   },
   {
    "duration": 24,
    "start_time": "2022-04-27T08:56:42.980Z"
   },
   {
    "duration": 24,
    "start_time": "2022-04-27T08:56:59.216Z"
   },
   {
    "duration": 43305,
    "start_time": "2022-04-27T08:57:09.260Z"
   },
   {
    "duration": 194,
    "start_time": "2022-04-27T08:58:38.755Z"
   },
   {
    "duration": 41,
    "start_time": "2022-04-27T08:58:45.507Z"
   },
   {
    "duration": 10,
    "start_time": "2022-04-27T09:06:26.438Z"
   },
   {
    "duration": 58813,
    "start_time": "2022-04-27T09:06:29.614Z"
   },
   {
    "duration": 9,
    "start_time": "2022-04-27T09:07:48.071Z"
   },
   {
    "duration": 66417,
    "start_time": "2022-04-27T09:07:48.830Z"
   },
   {
    "duration": 28,
    "start_time": "2022-04-27T09:08:55.250Z"
   },
   {
    "duration": 1163,
    "start_time": "2022-04-27T09:09:31.142Z"
   },
   {
    "duration": 54,
    "start_time": "2022-04-27T09:09:32.307Z"
   },
   {
    "duration": 14,
    "start_time": "2022-04-27T09:09:32.362Z"
   },
   {
    "duration": 9,
    "start_time": "2022-04-27T09:09:32.378Z"
   },
   {
    "duration": 3,
    "start_time": "2022-04-27T09:09:32.388Z"
   },
   {
    "duration": 55,
    "start_time": "2022-04-27T09:09:32.393Z"
   },
   {
    "duration": 6,
    "start_time": "2022-04-27T09:09:32.450Z"
   },
   {
    "duration": 3,
    "start_time": "2022-04-27T09:09:32.458Z"
   },
   {
    "duration": 40015,
    "start_time": "2022-04-27T09:09:32.462Z"
   },
   {
    "duration": 92320,
    "start_time": "2022-04-27T09:10:12.480Z"
   },
   {
    "duration": 56,
    "start_time": "2022-04-27T09:11:44.801Z"
   },
   {
    "duration": 42176,
    "start_time": "2022-04-27T09:11:44.859Z"
   },
   {
    "duration": 71771,
    "start_time": "2022-04-27T09:12:27.037Z"
   },
   {
    "duration": 43,
    "start_time": "2022-04-27T09:13:38.810Z"
   },
   {
    "duration": 8,
    "start_time": "2022-04-27T09:13:38.856Z"
   },
   {
    "duration": 10,
    "start_time": "2022-04-27T09:13:38.949Z"
   },
   {
    "duration": 49440,
    "start_time": "2022-04-27T09:13:39.047Z"
   },
   {
    "duration": 106673,
    "start_time": "2022-04-27T09:14:28.488Z"
   },
   {
    "duration": 192,
    "start_time": "2022-04-27T09:16:15.164Z"
   },
   {
    "duration": 96,
    "start_time": "2022-04-27T09:16:15.359Z"
   },
   {
    "duration": 27690,
    "start_time": "2022-04-27T09:16:15.457Z"
   },
   {
    "duration": 41751,
    "start_time": "2022-04-27T09:16:43.149Z"
   },
   {
    "duration": 160,
    "start_time": "2022-04-27T09:17:24.901Z"
   },
   {
    "duration": 107,
    "start_time": "2022-04-27T09:17:25.149Z"
   },
   {
    "duration": 121525,
    "start_time": "2022-04-27T09:39:42.779Z"
   },
   {
    "duration": 22,
    "start_time": "2022-04-27T09:42:42.457Z"
   },
   {
    "duration": 10,
    "start_time": "2022-04-27T09:48:55.104Z"
   },
   {
    "duration": 24,
    "start_time": "2022-04-27T09:49:05.387Z"
   },
   {
    "duration": 31,
    "start_time": "2022-04-27T09:54:16.216Z"
   },
   {
    "duration": 3,
    "start_time": "2022-04-27T09:54:59.813Z"
   },
   {
    "duration": 41,
    "start_time": "2022-04-27T09:55:01.127Z"
   },
   {
    "duration": 5,
    "start_time": "2022-04-27T09:55:11.533Z"
   },
   {
    "duration": 3,
    "start_time": "2022-04-27T09:55:13.215Z"
   },
   {
    "duration": 30891,
    "start_time": "2022-04-27T09:55:14.022Z"
   },
   {
    "duration": 47830,
    "start_time": "2022-04-27T09:56:06.764Z"
   },
   {
    "duration": 3,
    "start_time": "2022-04-27T09:57:32.837Z"
   },
   {
    "duration": 39,
    "start_time": "2022-04-27T09:57:33.430Z"
   },
   {
    "duration": 44,
    "start_time": "2022-04-27T09:57:46.739Z"
   },
   {
    "duration": 1253,
    "start_time": "2022-04-27T09:58:12.277Z"
   },
   {
    "duration": 2,
    "start_time": "2022-04-27T09:58:13.533Z"
   },
   {
    "duration": 75,
    "start_time": "2022-04-27T09:58:13.538Z"
   },
   {
    "duration": 15,
    "start_time": "2022-04-27T09:58:13.615Z"
   },
   {
    "duration": 9,
    "start_time": "2022-04-27T09:58:13.631Z"
   },
   {
    "duration": 21,
    "start_time": "2022-04-27T09:58:13.642Z"
   },
   {
    "duration": 43,
    "start_time": "2022-04-27T09:58:13.666Z"
   },
   {
    "duration": 6,
    "start_time": "2022-04-27T09:58:13.710Z"
   },
   {
    "duration": 3,
    "start_time": "2022-04-27T09:58:13.718Z"
   },
   {
    "duration": 40319,
    "start_time": "2022-04-27T09:58:13.724Z"
   },
   {
    "duration": 74356,
    "start_time": "2022-04-27T09:58:54.049Z"
   },
   {
    "duration": 52,
    "start_time": "2022-04-27T10:00:08.407Z"
   },
   {
    "duration": 44826,
    "start_time": "2022-04-27T10:00:08.555Z"
   },
   {
    "duration": 123158,
    "start_time": "2022-04-27T10:00:53.383Z"
   },
   {
    "duration": 120,
    "start_time": "2022-04-27T10:02:56.543Z"
   },
   {
    "duration": 198,
    "start_time": "2022-04-27T10:02:56.666Z"
   },
   {
    "duration": 7,
    "start_time": "2022-04-27T10:02:56.866Z"
   },
   {
    "duration": 54142,
    "start_time": "2022-04-27T10:02:56.874Z"
   },
   {
    "duration": 103764,
    "start_time": "2022-04-27T10:03:51.017Z"
   },
   {
    "duration": 84,
    "start_time": "2022-04-27T10:05:34.783Z"
   },
   {
    "duration": 85,
    "start_time": "2022-04-27T10:05:34.869Z"
   },
   {
    "duration": 25803,
    "start_time": "2022-04-27T10:05:34.956Z"
   },
   {
    "duration": 39680,
    "start_time": "2022-04-27T10:06:00.762Z"
   },
   {
    "duration": 27,
    "start_time": "2022-04-27T10:06:40.448Z"
   },
   {
    "duration": 104,
    "start_time": "2022-04-27T10:06:40.554Z"
   },
   {
    "duration": 22,
    "start_time": "2022-04-27T10:11:06.383Z"
   },
   {
    "duration": 31,
    "start_time": "2022-04-27T10:53:45.167Z"
   },
   {
    "duration": 1520,
    "start_time": "2022-04-27T10:54:17.952Z"
   },
   {
    "duration": 4,
    "start_time": "2022-04-27T10:54:19.475Z"
   },
   {
    "duration": 53,
    "start_time": "2022-04-27T10:54:19.480Z"
   },
   {
    "duration": 21,
    "start_time": "2022-04-27T10:54:19.548Z"
   },
   {
    "duration": 17,
    "start_time": "2022-04-27T10:54:19.571Z"
   },
   {
    "duration": 4,
    "start_time": "2022-04-27T10:54:19.590Z"
   },
   {
    "duration": 86,
    "start_time": "2022-04-27T10:54:19.596Z"
   },
   {
    "duration": 8,
    "start_time": "2022-04-27T10:54:19.684Z"
   },
   {
    "duration": 3,
    "start_time": "2022-04-27T10:54:19.695Z"
   },
   {
    "duration": 48806,
    "start_time": "2022-04-27T10:54:19.701Z"
   },
   {
    "duration": 80123,
    "start_time": "2022-04-27T10:55:08.508Z"
   },
   {
    "duration": 126,
    "start_time": "2022-04-27T10:56:28.632Z"
   },
   {
    "duration": 45942,
    "start_time": "2022-04-27T10:56:28.763Z"
   },
   {
    "duration": 157316,
    "start_time": "2022-04-27T10:57:14.707Z"
   },
   {
    "duration": 129,
    "start_time": "2022-04-27T10:59:52.025Z"
   },
   {
    "duration": 15,
    "start_time": "2022-04-27T10:59:52.163Z"
   },
   {
    "duration": 100,
    "start_time": "2022-04-27T10:59:52.181Z"
   },
   {
    "duration": 72427,
    "start_time": "2022-04-27T10:59:52.284Z"
   },
   {
    "duration": 121766,
    "start_time": "2022-04-27T11:01:04.713Z"
   },
   {
    "duration": 177,
    "start_time": "2022-04-27T11:03:06.480Z"
   },
   {
    "duration": 86,
    "start_time": "2022-04-27T11:03:06.662Z"
   },
   {
    "duration": 34761,
    "start_time": "2022-04-27T11:03:06.750Z"
   },
   {
    "duration": 43079,
    "start_time": "2022-04-27T11:03:41.513Z"
   },
   {
    "duration": 77,
    "start_time": "2022-04-27T11:04:24.593Z"
   },
   {
    "duration": 203,
    "start_time": "2022-04-27T11:04:24.672Z"
   },
   {
    "duration": 45,
    "start_time": "2022-04-29T03:43:26.977Z"
   },
   {
    "duration": 1335,
    "start_time": "2022-04-29T03:43:35.783Z"
   },
   {
    "duration": 3,
    "start_time": "2022-04-29T03:43:37.120Z"
   },
   {
    "duration": 50,
    "start_time": "2022-04-29T03:43:37.125Z"
   },
   {
    "duration": 14,
    "start_time": "2022-04-29T03:43:37.177Z"
   },
   {
    "duration": 9,
    "start_time": "2022-04-29T03:43:37.193Z"
   },
   {
    "duration": 3,
    "start_time": "2022-04-29T03:43:37.204Z"
   },
   {
    "duration": 65,
    "start_time": "2022-04-29T03:43:37.209Z"
   },
   {
    "duration": 8,
    "start_time": "2022-04-29T03:43:37.276Z"
   },
   {
    "duration": 3,
    "start_time": "2022-04-29T03:43:37.285Z"
   },
   {
    "duration": 36324,
    "start_time": "2022-04-29T03:43:37.292Z"
   },
   {
    "duration": 70264,
    "start_time": "2022-04-29T03:44:13.618Z"
   },
   {
    "duration": 74,
    "start_time": "2022-04-29T03:45:23.884Z"
   },
   {
    "duration": 40195,
    "start_time": "2022-04-29T03:45:23.961Z"
   },
   {
    "duration": 114116,
    "start_time": "2022-04-29T03:46:04.158Z"
   },
   {
    "duration": 84,
    "start_time": "2022-04-29T03:47:58.275Z"
   },
   {
    "duration": 99,
    "start_time": "2022-04-29T03:47:58.361Z"
   },
   {
    "duration": 92,
    "start_time": "2022-04-29T03:47:58.463Z"
   },
   {
    "duration": 46743,
    "start_time": "2022-04-29T03:47:58.557Z"
   },
   {
    "duration": 96930,
    "start_time": "2022-04-29T03:48:45.302Z"
   },
   {
    "duration": 120,
    "start_time": "2022-04-29T03:50:22.234Z"
   },
   {
    "duration": 99,
    "start_time": "2022-04-29T03:50:22.357Z"
   },
   {
    "duration": 23435,
    "start_time": "2022-04-29T03:50:22.458Z"
   },
   {
    "duration": 35931,
    "start_time": "2022-04-29T03:50:45.895Z"
   },
   {
    "duration": 32,
    "start_time": "2022-04-29T03:51:21.828Z"
   },
   {
    "duration": 202,
    "start_time": "2022-04-29T03:51:21.863Z"
   },
   {
    "duration": 12,
    "start_time": "2022-04-29T03:51:22.067Z"
   },
   {
    "duration": 11,
    "start_time": "2022-04-29T03:57:28.303Z"
   },
   {
    "duration": 490,
    "start_time": "2022-04-29T03:59:09.259Z"
   },
   {
    "duration": 115,
    "start_time": "2022-04-29T03:59:50.972Z"
   },
   {
    "duration": 170,
    "start_time": "2022-04-29T04:00:43.128Z"
   },
   {
    "duration": 119,
    "start_time": "2022-04-29T04:01:45.589Z"
   },
   {
    "duration": 117,
    "start_time": "2022-04-29T04:03:22.002Z"
   },
   {
    "duration": 12,
    "start_time": "2022-04-29T04:04:45.409Z"
   },
   {
    "duration": 156,
    "start_time": "2022-04-29T04:04:56.810Z"
   },
   {
    "duration": 17,
    "start_time": "2022-04-29T04:05:09.584Z"
   },
   {
    "duration": 131,
    "start_time": "2022-04-29T04:05:33.195Z"
   },
   {
    "duration": 15,
    "start_time": "2022-04-29T04:09:30.119Z"
   },
   {
    "duration": 113,
    "start_time": "2022-04-29T04:09:44.006Z"
   },
   {
    "duration": 128,
    "start_time": "2022-04-29T04:10:39.748Z"
   },
   {
    "duration": 121,
    "start_time": "2022-04-29T04:10:49.275Z"
   },
   {
    "duration": 116,
    "start_time": "2022-04-29T04:11:00.023Z"
   },
   {
    "duration": 135,
    "start_time": "2022-04-29T04:11:28.051Z"
   },
   {
    "duration": 227,
    "start_time": "2022-04-29T04:11:52.729Z"
   },
   {
    "duration": 143,
    "start_time": "2022-04-29T04:11:59.960Z"
   },
   {
    "duration": 123,
    "start_time": "2022-04-29T04:12:11.739Z"
   },
   {
    "duration": 135,
    "start_time": "2022-04-29T04:14:01.843Z"
   },
   {
    "duration": 133,
    "start_time": "2022-04-29T04:15:07.840Z"
   },
   {
    "duration": 19,
    "start_time": "2022-04-29T04:15:31.379Z"
   },
   {
    "duration": 129,
    "start_time": "2022-04-29T04:15:36.639Z"
   },
   {
    "duration": 131,
    "start_time": "2022-04-29T04:17:27.046Z"
   },
   {
    "duration": 125,
    "start_time": "2022-04-29T04:17:34.083Z"
   },
   {
    "duration": 127,
    "start_time": "2022-04-29T04:17:47.398Z"
   },
   {
    "duration": 119,
    "start_time": "2022-04-29T04:18:12.727Z"
   },
   {
    "duration": 124,
    "start_time": "2022-04-29T04:19:52.767Z"
   },
   {
    "duration": 121,
    "start_time": "2022-04-29T04:20:05.749Z"
   },
   {
    "duration": 117,
    "start_time": "2022-04-29T04:20:27.407Z"
   },
   {
    "duration": 116,
    "start_time": "2022-04-29T04:20:31.043Z"
   },
   {
    "duration": 118,
    "start_time": "2022-04-29T04:20:37.440Z"
   },
   {
    "duration": 118,
    "start_time": "2022-04-29T04:21:32.882Z"
   },
   {
    "duration": 227,
    "start_time": "2022-04-29T04:21:36.633Z"
   },
   {
    "duration": 121,
    "start_time": "2022-04-29T04:21:45.928Z"
   },
   {
    "duration": 4,
    "start_time": "2022-04-29T04:24:10.317Z"
   },
   {
    "duration": 127,
    "start_time": "2022-04-29T04:24:14.039Z"
   },
   {
    "duration": 143,
    "start_time": "2022-04-29T04:25:46.924Z"
   },
   {
    "duration": 138,
    "start_time": "2022-04-29T04:26:14.706Z"
   },
   {
    "duration": 13,
    "start_time": "2022-04-29T04:26:31.254Z"
   },
   {
    "duration": 4,
    "start_time": "2022-04-29T04:27:16.389Z"
   },
   {
    "duration": 143,
    "start_time": "2022-04-29T04:27:21.866Z"
   },
   {
    "duration": 145,
    "start_time": "2022-04-29T04:28:56.909Z"
   },
   {
    "duration": 3,
    "start_time": "2022-04-29T04:29:29.151Z"
   },
   {
    "duration": 131,
    "start_time": "2022-04-29T04:29:32.737Z"
   },
   {
    "duration": 131,
    "start_time": "2022-04-29T04:30:49.236Z"
   },
   {
    "duration": 132,
    "start_time": "2022-04-29T04:32:34.564Z"
   },
   {
    "duration": 133,
    "start_time": "2022-04-29T04:32:51.464Z"
   }
  ],
  "kernelspec": {
   "display_name": "Python 3 (ipykernel)",
   "language": "python",
   "name": "python3"
  },
  "language_info": {
   "codemirror_mode": {
    "name": "ipython",
    "version": 3
   },
   "file_extension": ".py",
   "mimetype": "text/x-python",
   "name": "python",
   "nbconvert_exporter": "python",
   "pygments_lexer": "ipython3",
   "version": "3.9.7"
  },
  "toc": {
   "base_numbering": 1,
   "nav_menu": {},
   "number_sections": true,
   "sideBar": true,
   "skip_h1_title": true,
   "title_cell": "Содержание",
   "title_sidebar": "Contents",
   "toc_cell": true,
   "toc_position": {
    "height": "calc(100% - 180px)",
    "left": "10px",
    "top": "150px",
    "width": "366.594px"
   },
   "toc_section_display": true,
   "toc_window_display": true
  }
 },
 "nbformat": 4,
 "nbformat_minor": 2
}
