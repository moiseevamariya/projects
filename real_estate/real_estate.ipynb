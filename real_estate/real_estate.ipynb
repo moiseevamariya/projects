{
 "cells": [
  {
   "cell_type": "markdown",
   "metadata": {
    "toc": true
   },
   "source": [
    "<h1>Содержание<span class=\"tocSkip\"></span></h1>\n",
    "<div class=\"toc\"><ul class=\"toc-item\"><li><span><a href=\"#Исследование-объявлений-о-продаже-квартир\" data-toc-modified-id=\"Исследование-объявлений-о-продаже-квартир-1\">Исследование объявлений о продаже квартир</a></span><ul class=\"toc-item\"><li><span><a href=\"#Изучение-данных-из-файла\" data-toc-modified-id=\"Изучение-данных-из-файла-1.1\">Изучение данных из файла</a></span><ul class=\"toc-item\"><li><span><a href=\"#Вывод\" data-toc-modified-id=\"Вывод-1.1.1\">Вывод</a></span></li></ul></li><li><span><a href=\"#Предобработка-данных\" data-toc-modified-id=\"Предобработка-данных-1.2\">Предобработка данных</a></span><ul class=\"toc-item\"><li><span><a href=\"#Заполнение-пропусков-и-выявление-дубликатов\" data-toc-modified-id=\"Заполнение-пропусков-и-выявление-дубликатов-1.2.1\">Заполнение пропусков и выявление дубликатов</a></span></li><li><span><a href=\"#Изменение-типов-данных\" data-toc-modified-id=\"Изменение-типов-данных-1.2.2\">Изменение типов данных</a></span></li></ul></li><li><span><a href=\"#Расчёты-и-добавление-результатов-в-таблицу\" data-toc-modified-id=\"Расчёты-и-добавление-результатов-в-таблицу-1.3\">Расчёты и добавление результатов в таблицу</a></span></li><li><span><a href=\"#Исследовательский-анализ-данных\" data-toc-modified-id=\"Исследовательский-анализ-данных-1.4\">Исследовательский анализ данных</a></span><ul class=\"toc-item\"><li><span><a href=\"#Изучение-параметров\" data-toc-modified-id=\"Изучение-параметров-1.4.1\">Изучение параметров</a></span><ul class=\"toc-item\"><li><span><a href=\"#Площадь\" data-toc-modified-id=\"Площадь-1.4.1.1\">Площадь</a></span></li><li><span><a href=\"#Цена\" data-toc-modified-id=\"Цена-1.4.1.2\">Цена</a></span></li><li><span><a href=\"#Количество-комнат\" data-toc-modified-id=\"Количество-комнат-1.4.1.3\">Количество комнат</a></span></li><li><span><a href=\"#Высота-потолков\" data-toc-modified-id=\"Высота-потолков-1.4.1.4\">Высота потолков</a></span></li><li><span><a href=\"#Новый-срез-данных\" data-toc-modified-id=\"Новый-срез-данных-1.4.1.5\">Новый срез данных</a></span></li></ul></li><li><span><a href=\"#Изучение-времени-продажи\" data-toc-modified-id=\"Изучение-времени-продажи-1.4.2\">Изучение времени продажи</a></span></li><li><span><a href=\"#Изучение-зависимости-стоимости-жилья-от-параметров\" data-toc-modified-id=\"Изучение-зависимости-стоимости-жилья-от-параметров-1.4.3\">Изучение зависимости стоимости жилья от параметров</a></span></li><li><span><a href=\"#Изучение-стоимости-жилья-в-городах-с-наибольшим-количеством-объявлений\" data-toc-modified-id=\"Изучение-стоимости-жилья-в-городах-с-наибольшим-количеством-объявлений-1.4.4\">Изучение стоимости жилья в городах с наибольшим количеством объявлений</a></span></li><li><span><a href=\"#Изучение-зависимости-стоимости-жилья-от-удаленности-от-центра-в-Санкт-Петербурге\" data-toc-modified-id=\"Изучение-зависимости-стоимости-жилья-от-удаленности-от-центра-в-Санкт-Петербурге-1.4.5\">Изучение зависимости стоимости жилья от удаленности от центра в Санкт-Петербурге</a></span></li><li><span><a href=\"#Изучение-стоимости-жилья-в-центре\" data-toc-modified-id=\"Изучение-стоимости-жилья-в-центре-1.4.6\">Изучение стоимости жилья в центре</a></span><ul class=\"toc-item\"><li><span><a href=\"#Изучение-параметров\" data-toc-modified-id=\"Изучение-параметров-1.4.6.1\">Изучение параметров</a></span></li><li><span><a href=\"#Изучение-зависимости-стоимости-жилья-от-параметров\" data-toc-modified-id=\"Изучение-зависимости-стоимости-жилья-от-параметров-1.4.6.2\">Изучение зависимости стоимости жилья от параметров</a></span></li></ul></li></ul></li><li><span><a href=\"#Общий-вывод\" data-toc-modified-id=\"Общий-вывод-1.5\">Общий вывод</a></span></li></ul></li></ul></div>"
   ]
  },
  {
   "cell_type": "markdown",
   "metadata": {},
   "source": [
    "# Исследование объявлений о продаже квартир\n",
    "\n",
    "В распоряжении данные сервиса Яндекc Недвижимость — архив объявлений о продаже квартир в Санкт-Петербурге и соседних населённых пунктах за несколько лет. Нужно научиться определять рыночную стоимость объектов недвижимости. Задача — установить параметры. Это позволит построить автоматизированную систему: она отследит аномалии и мошенническую деятельность. \n",
    "\n",
    "По каждой квартире на продажу доступны два вида данных. Первые вписаны пользователем, вторые получены автоматически на основе картографических данных. Например, расстояние до центра, аэропорта, ближайшего парка и водоёма. "
   ]
  },
  {
   "cell_type": "markdown",
   "metadata": {},
   "source": [
    "## Изучение данных из файла"
   ]
  },
  {
   "cell_type": "code",
   "execution_count": 1,
   "metadata": {},
   "outputs": [],
   "source": [
    "import pandas as pd\n",
    "import matplotlib.pyplot as plt\n",
    "import warnings"
   ]
  },
  {
   "cell_type": "code",
   "execution_count": 2,
   "metadata": {},
   "outputs": [],
   "source": [
    "warnings.filterwarnings(\"ignore\") # отключение предупреждений"
   ]
  },
  {
   "cell_type": "code",
   "execution_count": 3,
   "metadata": {},
   "outputs": [
    {
     "data": {
      "text/html": [
       "<div>\n",
       "<style scoped>\n",
       "    .dataframe tbody tr th:only-of-type {\n",
       "        vertical-align: middle;\n",
       "    }\n",
       "\n",
       "    .dataframe tbody tr th {\n",
       "        vertical-align: top;\n",
       "    }\n",
       "\n",
       "    .dataframe thead th {\n",
       "        text-align: right;\n",
       "    }\n",
       "</style>\n",
       "<table border=\"1\" class=\"dataframe\">\n",
       "  <thead>\n",
       "    <tr style=\"text-align: right;\">\n",
       "      <th></th>\n",
       "      <th>total_images</th>\n",
       "      <th>last_price</th>\n",
       "      <th>total_area</th>\n",
       "      <th>first_day_exposition</th>\n",
       "      <th>rooms</th>\n",
       "      <th>ceiling_height</th>\n",
       "      <th>floors_total</th>\n",
       "      <th>living_area</th>\n",
       "      <th>floor</th>\n",
       "      <th>is_apartment</th>\n",
       "      <th>...</th>\n",
       "      <th>kitchen_area</th>\n",
       "      <th>balcony</th>\n",
       "      <th>locality_name</th>\n",
       "      <th>airports_nearest</th>\n",
       "      <th>cityCenters_nearest</th>\n",
       "      <th>parks_around3000</th>\n",
       "      <th>parks_nearest</th>\n",
       "      <th>ponds_around3000</th>\n",
       "      <th>ponds_nearest</th>\n",
       "      <th>days_exposition</th>\n",
       "    </tr>\n",
       "  </thead>\n",
       "  <tbody>\n",
       "    <tr>\n",
       "      <th>0</th>\n",
       "      <td>20</td>\n",
       "      <td>13000000.0</td>\n",
       "      <td>108.0</td>\n",
       "      <td>2019-03-07T00:00:00</td>\n",
       "      <td>3</td>\n",
       "      <td>2.70</td>\n",
       "      <td>16.0</td>\n",
       "      <td>51.0</td>\n",
       "      <td>8</td>\n",
       "      <td>NaN</td>\n",
       "      <td>...</td>\n",
       "      <td>25.0</td>\n",
       "      <td>NaN</td>\n",
       "      <td>Санкт-Петербург</td>\n",
       "      <td>18863.0</td>\n",
       "      <td>16028.0</td>\n",
       "      <td>1.0</td>\n",
       "      <td>482.0</td>\n",
       "      <td>2.0</td>\n",
       "      <td>755.0</td>\n",
       "      <td>NaN</td>\n",
       "    </tr>\n",
       "    <tr>\n",
       "      <th>1</th>\n",
       "      <td>7</td>\n",
       "      <td>3350000.0</td>\n",
       "      <td>40.4</td>\n",
       "      <td>2018-12-04T00:00:00</td>\n",
       "      <td>1</td>\n",
       "      <td>NaN</td>\n",
       "      <td>11.0</td>\n",
       "      <td>18.6</td>\n",
       "      <td>1</td>\n",
       "      <td>NaN</td>\n",
       "      <td>...</td>\n",
       "      <td>11.0</td>\n",
       "      <td>2.0</td>\n",
       "      <td>посёлок Шушары</td>\n",
       "      <td>12817.0</td>\n",
       "      <td>18603.0</td>\n",
       "      <td>0.0</td>\n",
       "      <td>NaN</td>\n",
       "      <td>0.0</td>\n",
       "      <td>NaN</td>\n",
       "      <td>81.0</td>\n",
       "    </tr>\n",
       "    <tr>\n",
       "      <th>2</th>\n",
       "      <td>10</td>\n",
       "      <td>5196000.0</td>\n",
       "      <td>56.0</td>\n",
       "      <td>2015-08-20T00:00:00</td>\n",
       "      <td>2</td>\n",
       "      <td>NaN</td>\n",
       "      <td>5.0</td>\n",
       "      <td>34.3</td>\n",
       "      <td>4</td>\n",
       "      <td>NaN</td>\n",
       "      <td>...</td>\n",
       "      <td>8.3</td>\n",
       "      <td>0.0</td>\n",
       "      <td>Санкт-Петербург</td>\n",
       "      <td>21741.0</td>\n",
       "      <td>13933.0</td>\n",
       "      <td>1.0</td>\n",
       "      <td>90.0</td>\n",
       "      <td>2.0</td>\n",
       "      <td>574.0</td>\n",
       "      <td>558.0</td>\n",
       "    </tr>\n",
       "    <tr>\n",
       "      <th>3</th>\n",
       "      <td>0</td>\n",
       "      <td>64900000.0</td>\n",
       "      <td>159.0</td>\n",
       "      <td>2015-07-24T00:00:00</td>\n",
       "      <td>3</td>\n",
       "      <td>NaN</td>\n",
       "      <td>14.0</td>\n",
       "      <td>NaN</td>\n",
       "      <td>9</td>\n",
       "      <td>NaN</td>\n",
       "      <td>...</td>\n",
       "      <td>NaN</td>\n",
       "      <td>0.0</td>\n",
       "      <td>Санкт-Петербург</td>\n",
       "      <td>28098.0</td>\n",
       "      <td>6800.0</td>\n",
       "      <td>2.0</td>\n",
       "      <td>84.0</td>\n",
       "      <td>3.0</td>\n",
       "      <td>234.0</td>\n",
       "      <td>424.0</td>\n",
       "    </tr>\n",
       "    <tr>\n",
       "      <th>4</th>\n",
       "      <td>2</td>\n",
       "      <td>10000000.0</td>\n",
       "      <td>100.0</td>\n",
       "      <td>2018-06-19T00:00:00</td>\n",
       "      <td>2</td>\n",
       "      <td>3.03</td>\n",
       "      <td>14.0</td>\n",
       "      <td>32.0</td>\n",
       "      <td>13</td>\n",
       "      <td>NaN</td>\n",
       "      <td>...</td>\n",
       "      <td>41.0</td>\n",
       "      <td>NaN</td>\n",
       "      <td>Санкт-Петербург</td>\n",
       "      <td>31856.0</td>\n",
       "      <td>8098.0</td>\n",
       "      <td>2.0</td>\n",
       "      <td>112.0</td>\n",
       "      <td>1.0</td>\n",
       "      <td>48.0</td>\n",
       "      <td>121.0</td>\n",
       "    </tr>\n",
       "  </tbody>\n",
       "</table>\n",
       "<p>5 rows × 22 columns</p>\n",
       "</div>"
      ],
      "text/plain": [
       "   total_images  last_price  total_area first_day_exposition  rooms  \\\n",
       "0            20  13000000.0       108.0  2019-03-07T00:00:00      3   \n",
       "1             7   3350000.0        40.4  2018-12-04T00:00:00      1   \n",
       "2            10   5196000.0        56.0  2015-08-20T00:00:00      2   \n",
       "3             0  64900000.0       159.0  2015-07-24T00:00:00      3   \n",
       "4             2  10000000.0       100.0  2018-06-19T00:00:00      2   \n",
       "\n",
       "   ceiling_height  floors_total  living_area  floor is_apartment  ...  \\\n",
       "0            2.70          16.0         51.0      8          NaN  ...   \n",
       "1             NaN          11.0         18.6      1          NaN  ...   \n",
       "2             NaN           5.0         34.3      4          NaN  ...   \n",
       "3             NaN          14.0          NaN      9          NaN  ...   \n",
       "4            3.03          14.0         32.0     13          NaN  ...   \n",
       "\n",
       "   kitchen_area  balcony    locality_name  airports_nearest  \\\n",
       "0          25.0      NaN  Санкт-Петербург           18863.0   \n",
       "1          11.0      2.0   посёлок Шушары           12817.0   \n",
       "2           8.3      0.0  Санкт-Петербург           21741.0   \n",
       "3           NaN      0.0  Санкт-Петербург           28098.0   \n",
       "4          41.0      NaN  Санкт-Петербург           31856.0   \n",
       "\n",
       "  cityCenters_nearest  parks_around3000  parks_nearest  ponds_around3000  \\\n",
       "0             16028.0               1.0          482.0               2.0   \n",
       "1             18603.0               0.0            NaN               0.0   \n",
       "2             13933.0               1.0           90.0               2.0   \n",
       "3              6800.0               2.0           84.0               3.0   \n",
       "4              8098.0               2.0          112.0               1.0   \n",
       "\n",
       "   ponds_nearest  days_exposition  \n",
       "0          755.0              NaN  \n",
       "1            NaN             81.0  \n",
       "2          574.0            558.0  \n",
       "3          234.0            424.0  \n",
       "4           48.0            121.0  \n",
       "\n",
       "[5 rows x 22 columns]"
      ]
     },
     "execution_count": 3,
     "metadata": {},
     "output_type": "execute_result"
    }
   ],
   "source": [
    "data = pd.read_csv('C:\\\\Users\\maria\\Desktop\\ЯПрактикум\\Проекты\\Проект3\\\\real_estate_data (1).csv', sep=\"\\t\")\n",
    "    \n",
    "data.head()"
   ]
  },
  {
   "cell_type": "code",
   "execution_count": 4,
   "metadata": {},
   "outputs": [
    {
     "name": "stdout",
     "output_type": "stream",
     "text": [
      "<class 'pandas.core.frame.DataFrame'>\n",
      "RangeIndex: 23699 entries, 0 to 23698\n",
      "Data columns (total 22 columns):\n",
      " #   Column                Non-Null Count  Dtype  \n",
      "---  ------                --------------  -----  \n",
      " 0   total_images          23699 non-null  int64  \n",
      " 1   last_price            23699 non-null  float64\n",
      " 2   total_area            23699 non-null  float64\n",
      " 3   first_day_exposition  23699 non-null  object \n",
      " 4   rooms                 23699 non-null  int64  \n",
      " 5   ceiling_height        14504 non-null  float64\n",
      " 6   floors_total          23613 non-null  float64\n",
      " 7   living_area           21796 non-null  float64\n",
      " 8   floor                 23699 non-null  int64  \n",
      " 9   is_apartment          2775 non-null   object \n",
      " 10  studio                23699 non-null  bool   \n",
      " 11  open_plan             23699 non-null  bool   \n",
      " 12  kitchen_area          21421 non-null  float64\n",
      " 13  balcony               12180 non-null  float64\n",
      " 14  locality_name         23650 non-null  object \n",
      " 15  airports_nearest      18157 non-null  float64\n",
      " 16  cityCenters_nearest   18180 non-null  float64\n",
      " 17  parks_around3000      18181 non-null  float64\n",
      " 18  parks_nearest         8079 non-null   float64\n",
      " 19  ponds_around3000      18181 non-null  float64\n",
      " 20  ponds_nearest         9110 non-null   float64\n",
      " 21  days_exposition       20518 non-null  float64\n",
      "dtypes: bool(2), float64(14), int64(3), object(3)\n",
      "memory usage: 3.7+ MB\n"
     ]
    }
   ],
   "source": [
    "data.info() # получение общей информации о датафрейме"
   ]
  },
  {
   "cell_type": "markdown",
   "metadata": {},
   "source": [
    "### Вывод"
   ]
  },
  {
   "cell_type": "markdown",
   "metadata": {},
   "source": [
    "В датафрейме присутствуют пропущенные значения в 14 столбцах из 22, их необходимо проанализировать и обработать. Также видно, что некоторые типы данных не соответствуют смысловым значениям столбцов, их также необходимо обработать. Что мы и сделаем следующим шагом."
   ]
  },
  {
   "cell_type": "markdown",
   "metadata": {},
   "source": [
    "## Предобработка данных"
   ]
  },
  {
   "cell_type": "markdown",
   "metadata": {},
   "source": [
    "### Заполнение пропусков и выявление дубликатов"
   ]
  },
  {
   "cell_type": "code",
   "execution_count": 5,
   "metadata": {},
   "outputs": [
    {
     "data": {
      "text/plain": [
       "0"
      ]
     },
     "execution_count": 5,
     "metadata": {},
     "output_type": "execute_result"
    }
   ],
   "source": [
    "data.duplicated().sum() # подсчет количество явных дубликатов"
   ]
  },
  {
   "cell_type": "markdown",
   "metadata": {},
   "source": [
    "Явных дубликатов не выявилось. Продолжаем анализровать данные и выявим, в каких столбцах есть пропущенные значения и какую долю они составляют."
   ]
  },
  {
   "cell_type": "code",
   "execution_count": 6,
   "metadata": {},
   "outputs": [
    {
     "data": {
      "text/plain": [
       "total_images             0.0\n",
       "last_price               0.0\n",
       "total_area               0.0\n",
       "first_day_exposition     0.0\n",
       "rooms                    0.0\n",
       "ceiling_height          38.8\n",
       "floors_total             0.4\n",
       "living_area              8.0\n",
       "floor                    0.0\n",
       "is_apartment            88.3\n",
       "studio                   0.0\n",
       "open_plan                0.0\n",
       "kitchen_area             9.6\n",
       "balcony                 48.6\n",
       "locality_name            0.2\n",
       "airports_nearest        23.4\n",
       "cityCenters_nearest     23.3\n",
       "parks_around3000        23.3\n",
       "parks_nearest           65.9\n",
       "ponds_around3000        23.3\n",
       "ponds_nearest           61.6\n",
       "days_exposition         13.4\n",
       "dtype: float64"
      ]
     },
     "execution_count": 6,
     "metadata": {},
     "output_type": "execute_result"
    }
   ],
   "source": [
    "(data.isna().mean()*100).round(1)"
   ]
  },
  {
   "cell_type": "markdown",
   "metadata": {},
   "source": [
    " В столбцах `is_apartment`, `airports_nearest`, `parks_nearest`, `ponds_nearest`, `kitchen_area`, большая доля пропущенных значений, но в дальнейшем исследовании данные столбцы не играют роли, поэтому пока данные значения так и оставим пропущенными.\n",
    " \n",
    " В столбцах  `parks_around3000`, `ponds_around3000`, `balcony` также большая доля пропущенных значений, но в них пропуски возникли, вероятно, из-за того, что если нет парка, пруда или балкона, то соответственно значение пропускали. Поэтому в них можно пропуски заменить на 0."
   ]
  },
  {
   "cell_type": "code",
   "execution_count": 7,
   "metadata": {},
   "outputs": [],
   "source": [
    "# замена пропущенных значений в столбцах 'parks_around3000', 'ponds_around3000', 'balcony' на 0\n",
    "data['parks_around3000'] = data['parks_around3000'].fillna(0)\n",
    "data['ponds_around3000'] = data['ponds_around3000'].fillna(0)\n",
    "data['balcony'] = data['balcony'].fillna(0)"
   ]
  },
  {
   "cell_type": "markdown",
   "metadata": {},
   "source": [
    " В столбцах `floors_total` и `locality_name` слишком маленькая доля пропущенных значений. Можно убрать эти строки, так как даже при их удалении  датафрейм потеряет около 0.5% данных."
   ]
  },
  {
   "cell_type": "code",
   "execution_count": 8,
   "metadata": {},
   "outputs": [],
   "source": [
    "#  удаление строк, в которых в столбцах 'floors_total' и 'locality_name' есть пропущенные значения\n",
    "data = data.dropna(subset=['floors_total','locality_name'])"
   ]
  },
  {
   "cell_type": "markdown",
   "metadata": {},
   "source": [
    " В столбце `ceiling_height`, `living_area`, `cityCenters_nearest`, `days_exposition` большая доля пропущенных значений и данные нам понадобятся для дальнейшего исследования. Проанализируем подробнее количественные значения в данных столбцах."
   ]
  },
  {
   "cell_type": "code",
   "execution_count": 9,
   "metadata": {},
   "outputs": [
    {
     "data": {
      "text/plain": [
       "count    14481.000000\n",
       "mean         2.771283\n",
       "std          1.261983\n",
       "min          1.000000\n",
       "25%          2.510000\n",
       "50%          2.650000\n",
       "75%          2.800000\n",
       "max        100.000000\n",
       "Name: ceiling_height, dtype: float64"
      ]
     },
     "execution_count": 9,
     "metadata": {},
     "output_type": "execute_result"
    }
   ],
   "source": [
    "data['ceiling_height'].describe()"
   ]
  },
  {
   "cell_type": "markdown",
   "metadata": {},
   "source": [
    "Большая часть значений лежит в пределах до 2.8 м, существуют выбросы. Средние значения не сильно отличаются от медианного, но так как всё-таки присутствуют выбросы, а медиана менее к ним чувствительна, заменим пропущенные значения столбца на медианное."
   ]
  },
  {
   "cell_type": "code",
   "execution_count": 10,
   "metadata": {},
   "outputs": [
    {
     "data": {
      "text/plain": [
       "count    21700.000000\n",
       "mean        34.454822\n",
       "std         22.045359\n",
       "min          2.000000\n",
       "25%         18.600000\n",
       "50%         30.000000\n",
       "75%         42.300000\n",
       "max        409.700000\n",
       "Name: living_area, dtype: float64"
      ]
     },
     "execution_count": 10,
     "metadata": {},
     "output_type": "execute_result"
    }
   ],
   "source": [
    "data['living_area'].describe()"
   ]
  },
  {
   "cell_type": "markdown",
   "metadata": {},
   "source": [
    "Большая часть значений лежит в пределах до 42 м², существуют выбросы. Средние значения не сильно отличаются от медианного, но так как всё-таки присутствуют выбросы, а медиана менее к ним чувствительна, заменим пропущенные значения столбца на медианное."
   ]
  },
  {
   "cell_type": "code",
   "execution_count": 11,
   "metadata": {},
   "outputs": [
    {
     "data": {
      "text/plain": [
       "count    18064.000000\n",
       "mean     14192.656056\n",
       "std       8613.348153\n",
       "min        181.000000\n",
       "25%       9238.000000\n",
       "50%      13096.500000\n",
       "75%      16285.000000\n",
       "max      65968.000000\n",
       "Name: cityCenters_nearest, dtype: float64"
      ]
     },
     "execution_count": 11,
     "metadata": {},
     "output_type": "execute_result"
    }
   ],
   "source": [
    "data['cityCenters_nearest'].describe()"
   ]
  },
  {
   "cell_type": "code",
   "execution_count": 12,
   "metadata": {},
   "outputs": [
    {
     "data": {
      "text/plain": [
       "count    20394.000000\n",
       "mean       180.741395\n",
       "std        219.732782\n",
       "min          1.000000\n",
       "25%         45.000000\n",
       "50%         95.000000\n",
       "75%        231.000000\n",
       "max       1580.000000\n",
       "Name: days_exposition, dtype: float64"
      ]
     },
     "execution_count": 12,
     "metadata": {},
     "output_type": "execute_result"
    }
   ],
   "source": [
    "data['days_exposition'].describe()"
   ]
  },
  {
   "cell_type": "markdown",
   "metadata": {},
   "source": [
    "Разброс расстояния до центра города достаточно большой, также как и количество дней размещения объявления. При замене данных на среднее или медианное значение анализ данных может исказиться, поэтому не будем менять значения."
   ]
  },
  {
   "cell_type": "code",
   "execution_count": 13,
   "metadata": {},
   "outputs": [],
   "source": [
    "# замена пропущенных значений в столбцах 'ceiling_height' на медианные\n",
    "data['ceiling_height'] = data['ceiling_height'].fillna(data['ceiling_height'].median())"
   ]
  },
  {
   "cell_type": "code",
   "execution_count": 14,
   "metadata": {},
   "outputs": [],
   "source": [
    "for room in data['rooms'].unique():\n",
    "    median = data.loc[data['rooms'] == room, 'living_area'].median()\n",
    "    data.loc[(data['living_area'].isna()) & (data['rooms'] == room), 'living_area'] = median"
   ]
  },
  {
   "cell_type": "code",
   "execution_count": 15,
   "metadata": {},
   "outputs": [
    {
     "data": {
      "text/plain": [
       "total_images             0.0\n",
       "last_price               0.0\n",
       "total_area               0.0\n",
       "first_day_exposition     0.0\n",
       "rooms                    0.0\n",
       "ceiling_height           0.0\n",
       "floors_total             0.0\n",
       "living_area              0.0\n",
       "floor                    0.0\n",
       "is_apartment            88.3\n",
       "studio                   0.0\n",
       "open_plan                0.0\n",
       "kitchen_area             9.4\n",
       "balcony                  0.0\n",
       "locality_name            0.0\n",
       "airports_nearest        23.4\n",
       "cityCenters_nearest     23.3\n",
       "parks_around3000         0.0\n",
       "parks_nearest           65.9\n",
       "ponds_around3000         0.0\n",
       "ponds_nearest           61.7\n",
       "days_exposition         13.5\n",
       "dtype: float64"
      ]
     },
     "execution_count": 15,
     "metadata": {},
     "output_type": "execute_result"
    }
   ],
   "source": [
    "(data.isna().mean()*100).round(1) # проверка после выполнения всех действий по пропущенным значениям"
   ]
  },
  {
   "cell_type": "markdown",
   "metadata": {},
   "source": [
    "### Изменение типов данных"
   ]
  },
  {
   "cell_type": "markdown",
   "metadata": {},
   "source": [
    "В столбцах `floors_total`, `balcony`, `parks_around3000`, `ponds_around3000` должно быть целое число, так как эти значения не могут быть дробными, поэтому приведем их к типу `int`. Также по датафрейму можно заметить, что столбец `last_price` также имеет только целые значения, проведем замену и там.\n",
    "\n",
    "А в столбце `days_exposition`лучше количество дней сделать целым, но так как в предыдущем шаге не заменяли пропущенные значения, то и к целочисленному типу приводить не будем.\n",
    "\n",
    "В столбце `first_day_exposition` должна быть дата, а не строка, поэтому применим метод `to_datetime()`.\n",
    "\n",
    "Также имело смысл привести столбец `is_apartment` к типу `bool`, но так как мы не убирали пропущенные значения из-за того, что этот столбец не нужен будет для анализа, тип данных менять не будем."
   ]
  },
  {
   "cell_type": "code",
   "execution_count": 16,
   "metadata": {},
   "outputs": [
    {
     "data": {
      "text/html": [
       "<div>\n",
       "<style scoped>\n",
       "    .dataframe tbody tr th:only-of-type {\n",
       "        vertical-align: middle;\n",
       "    }\n",
       "\n",
       "    .dataframe tbody tr th {\n",
       "        vertical-align: top;\n",
       "    }\n",
       "\n",
       "    .dataframe thead th {\n",
       "        text-align: right;\n",
       "    }\n",
       "</style>\n",
       "<table border=\"1\" class=\"dataframe\">\n",
       "  <thead>\n",
       "    <tr style=\"text-align: right;\">\n",
       "      <th></th>\n",
       "      <th>total_images</th>\n",
       "      <th>last_price</th>\n",
       "      <th>total_area</th>\n",
       "      <th>first_day_exposition</th>\n",
       "      <th>rooms</th>\n",
       "      <th>ceiling_height</th>\n",
       "      <th>floors_total</th>\n",
       "      <th>living_area</th>\n",
       "      <th>floor</th>\n",
       "      <th>is_apartment</th>\n",
       "      <th>...</th>\n",
       "      <th>kitchen_area</th>\n",
       "      <th>balcony</th>\n",
       "      <th>locality_name</th>\n",
       "      <th>airports_nearest</th>\n",
       "      <th>cityCenters_nearest</th>\n",
       "      <th>parks_around3000</th>\n",
       "      <th>parks_nearest</th>\n",
       "      <th>ponds_around3000</th>\n",
       "      <th>ponds_nearest</th>\n",
       "      <th>days_exposition</th>\n",
       "    </tr>\n",
       "  </thead>\n",
       "  <tbody>\n",
       "    <tr>\n",
       "      <th>0</th>\n",
       "      <td>20</td>\n",
       "      <td>13000000</td>\n",
       "      <td>108.0</td>\n",
       "      <td>2019-03-07</td>\n",
       "      <td>3</td>\n",
       "      <td>2.70</td>\n",
       "      <td>16</td>\n",
       "      <td>51.0</td>\n",
       "      <td>8</td>\n",
       "      <td>NaN</td>\n",
       "      <td>...</td>\n",
       "      <td>25.0</td>\n",
       "      <td>0</td>\n",
       "      <td>Санкт-Петербург</td>\n",
       "      <td>18863.0</td>\n",
       "      <td>16028.0</td>\n",
       "      <td>1</td>\n",
       "      <td>482.0</td>\n",
       "      <td>2</td>\n",
       "      <td>755.0</td>\n",
       "      <td>NaN</td>\n",
       "    </tr>\n",
       "    <tr>\n",
       "      <th>1</th>\n",
       "      <td>7</td>\n",
       "      <td>3350000</td>\n",
       "      <td>40.4</td>\n",
       "      <td>2018-12-04</td>\n",
       "      <td>1</td>\n",
       "      <td>2.65</td>\n",
       "      <td>11</td>\n",
       "      <td>18.6</td>\n",
       "      <td>1</td>\n",
       "      <td>NaN</td>\n",
       "      <td>...</td>\n",
       "      <td>11.0</td>\n",
       "      <td>2</td>\n",
       "      <td>посёлок Шушары</td>\n",
       "      <td>12817.0</td>\n",
       "      <td>18603.0</td>\n",
       "      <td>0</td>\n",
       "      <td>NaN</td>\n",
       "      <td>0</td>\n",
       "      <td>NaN</td>\n",
       "      <td>81.0</td>\n",
       "    </tr>\n",
       "    <tr>\n",
       "      <th>2</th>\n",
       "      <td>10</td>\n",
       "      <td>5196000</td>\n",
       "      <td>56.0</td>\n",
       "      <td>2015-08-20</td>\n",
       "      <td>2</td>\n",
       "      <td>2.65</td>\n",
       "      <td>5</td>\n",
       "      <td>34.3</td>\n",
       "      <td>4</td>\n",
       "      <td>NaN</td>\n",
       "      <td>...</td>\n",
       "      <td>8.3</td>\n",
       "      <td>0</td>\n",
       "      <td>Санкт-Петербург</td>\n",
       "      <td>21741.0</td>\n",
       "      <td>13933.0</td>\n",
       "      <td>1</td>\n",
       "      <td>90.0</td>\n",
       "      <td>2</td>\n",
       "      <td>574.0</td>\n",
       "      <td>558.0</td>\n",
       "    </tr>\n",
       "    <tr>\n",
       "      <th>3</th>\n",
       "      <td>0</td>\n",
       "      <td>64900000</td>\n",
       "      <td>159.0</td>\n",
       "      <td>2015-07-24</td>\n",
       "      <td>3</td>\n",
       "      <td>2.65</td>\n",
       "      <td>14</td>\n",
       "      <td>45.0</td>\n",
       "      <td>9</td>\n",
       "      <td>NaN</td>\n",
       "      <td>...</td>\n",
       "      <td>NaN</td>\n",
       "      <td>0</td>\n",
       "      <td>Санкт-Петербург</td>\n",
       "      <td>28098.0</td>\n",
       "      <td>6800.0</td>\n",
       "      <td>2</td>\n",
       "      <td>84.0</td>\n",
       "      <td>3</td>\n",
       "      <td>234.0</td>\n",
       "      <td>424.0</td>\n",
       "    </tr>\n",
       "    <tr>\n",
       "      <th>4</th>\n",
       "      <td>2</td>\n",
       "      <td>10000000</td>\n",
       "      <td>100.0</td>\n",
       "      <td>2018-06-19</td>\n",
       "      <td>2</td>\n",
       "      <td>3.03</td>\n",
       "      <td>14</td>\n",
       "      <td>32.0</td>\n",
       "      <td>13</td>\n",
       "      <td>NaN</td>\n",
       "      <td>...</td>\n",
       "      <td>41.0</td>\n",
       "      <td>0</td>\n",
       "      <td>Санкт-Петербург</td>\n",
       "      <td>31856.0</td>\n",
       "      <td>8098.0</td>\n",
       "      <td>2</td>\n",
       "      <td>112.0</td>\n",
       "      <td>1</td>\n",
       "      <td>48.0</td>\n",
       "      <td>121.0</td>\n",
       "    </tr>\n",
       "  </tbody>\n",
       "</table>\n",
       "<p>5 rows × 22 columns</p>\n",
       "</div>"
      ],
      "text/plain": [
       "   total_images  last_price  total_area first_day_exposition  rooms  \\\n",
       "0            20    13000000       108.0           2019-03-07      3   \n",
       "1             7     3350000        40.4           2018-12-04      1   \n",
       "2            10     5196000        56.0           2015-08-20      2   \n",
       "3             0    64900000       159.0           2015-07-24      3   \n",
       "4             2    10000000       100.0           2018-06-19      2   \n",
       "\n",
       "   ceiling_height  floors_total  living_area  floor is_apartment  ...  \\\n",
       "0            2.70            16         51.0      8          NaN  ...   \n",
       "1            2.65            11         18.6      1          NaN  ...   \n",
       "2            2.65             5         34.3      4          NaN  ...   \n",
       "3            2.65            14         45.0      9          NaN  ...   \n",
       "4            3.03            14         32.0     13          NaN  ...   \n",
       "\n",
       "   kitchen_area  balcony    locality_name  airports_nearest  \\\n",
       "0          25.0        0  Санкт-Петербург           18863.0   \n",
       "1          11.0        2   посёлок Шушары           12817.0   \n",
       "2           8.3        0  Санкт-Петербург           21741.0   \n",
       "3           NaN        0  Санкт-Петербург           28098.0   \n",
       "4          41.0        0  Санкт-Петербург           31856.0   \n",
       "\n",
       "  cityCenters_nearest  parks_around3000  parks_nearest  ponds_around3000  \\\n",
       "0             16028.0                 1          482.0                 2   \n",
       "1             18603.0                 0            NaN                 0   \n",
       "2             13933.0                 1           90.0                 2   \n",
       "3              6800.0                 2           84.0                 3   \n",
       "4              8098.0                 2          112.0                 1   \n",
       "\n",
       "   ponds_nearest  days_exposition  \n",
       "0          755.0              NaN  \n",
       "1            NaN             81.0  \n",
       "2          574.0            558.0  \n",
       "3          234.0            424.0  \n",
       "4           48.0            121.0  \n",
       "\n",
       "[5 rows x 22 columns]"
      ]
     },
     "execution_count": 16,
     "metadata": {},
     "output_type": "execute_result"
    }
   ],
   "source": [
    "data[['floors_total','balcony','parks_around3000','ponds_around3000','last_price']] = data[['floors_total','balcony','parks_around3000','ponds_around3000','last_price']].astype('int')\n",
    "data['first_day_exposition'] = pd.to_datetime(data['first_day_exposition'], format='%Y.%m.%dT%H:%M:%S')\n",
    "data.head() # проверка изменения"
   ]
  },
  {
   "cell_type": "markdown",
   "metadata": {},
   "source": [
    "**Произошла обработка следующих данных:**\n",
    " \n",
    "1. Пропущенные значения в столбце 'living_area' заменили на медианные в зависимости от количества комнат\n",
    "2. Пропущенные значения в столбце 'ceiling_height' заменили на медианное\n",
    "3. Пропущенные значения в столбцах 'parks_around3000', 'ponds_around3000', 'balcony' заменили на 0\n",
    "4. Убрали строки с пропущенными значениями в столбцах 'floors_total' и 'locality_name'\n",
    "5. Заменили на целочисленный тип данных значения в столбцах 'floors_total','balcony','parks_around3000','ponds_around3000','last_price'\n",
    "6. Заменили на дату значения в столбце 'first_day_exposition'"
   ]
  },
  {
   "cell_type": "markdown",
   "metadata": {},
   "source": [
    "## Расчёты и добавление результатов в таблицу"
   ]
  },
  {
   "cell_type": "markdown",
   "metadata": {},
   "source": [
    "Для дальнейшего анализа понадобятся дополнительные данные, поэтому добавим столбцы:\n",
    "- цена квадратного метра;\n",
    "- день недели (в числовом формате), месяц и год публикации объявления;\n",
    "- этаж квартиры (первый, последний, другой)\n",
    "- соотношение жилой и общей площади\n",
    "- соотношение площади кухни и общей площади"
   ]
  },
  {
   "cell_type": "code",
   "execution_count": 17,
   "metadata": {},
   "outputs": [],
   "source": [
    "data['one_square_price'] = (data['last_price']/data['total_area']).astype('int') # цена квадратного метра\n",
    "data['year_exposition'] = data['first_day_exposition'].dt.year # год публикации объявления\n",
    "data['month_exposition'] = data['first_day_exposition'].dt.month # месяц публикации объявления\n",
    "data['weekday_exposition'] = data['first_day_exposition'].dt.weekday # день недели публикации объявления\n",
    "data['living_to_total_area'] = (data['living_area']/data['total_area']).round(2) # соотношение жилой и общей площади\n",
    "data['kitchen_to_total_area'] = (data['kitchen_area']/data['total_area']).round(2) # соотношение площади кухни и общей площади"
   ]
  },
  {
   "cell_type": "markdown",
   "metadata": {},
   "source": [
    "Для того, чтобы добавить этаж квартиры, создадим функцию и применим метод `apply()`. То есть проведем категоризацию и выделим не только категорию этажа, но и id категории. А значения id и категории занесем в отдельный словарь."
   ]
  },
  {
   "cell_type": "code",
   "execution_count": 18,
   "metadata": {},
   "outputs": [],
   "source": [
    "# функция, которая возвращает категорию этажа по значению этажа floor по правилу:\n",
    "    # floor = 1 — категория 1 ('первый')\n",
    "    # floor = floors_total — 2 (категория 'последний')\n",
    "    # в иных случаях 0 ('другой')\n",
    "\n",
    "def floor_category_id(row): \n",
    "    if row['floor'] == 1:\n",
    "        return 1\n",
    "    if row['floor'] == row['floors_total']:\n",
    "        return 2\n",
    "    else:\n",
    "        return 0\n",
    "    \n",
    "data['floor_category_id'] = data.apply(floor_category_id, axis=1)"
   ]
  },
  {
   "cell_type": "code",
   "execution_count": 19,
   "metadata": {},
   "outputs": [
    {
     "data": {
      "text/html": [
       "<div>\n",
       "<style scoped>\n",
       "    .dataframe tbody tr th:only-of-type {\n",
       "        vertical-align: middle;\n",
       "    }\n",
       "\n",
       "    .dataframe tbody tr th {\n",
       "        vertical-align: top;\n",
       "    }\n",
       "\n",
       "    .dataframe thead th {\n",
       "        text-align: right;\n",
       "    }\n",
       "</style>\n",
       "<table border=\"1\" class=\"dataframe\">\n",
       "  <thead>\n",
       "    <tr style=\"text-align: right;\">\n",
       "      <th></th>\n",
       "      <th>floor_category</th>\n",
       "      <th>floor_category_id</th>\n",
       "    </tr>\n",
       "  </thead>\n",
       "  <tbody>\n",
       "    <tr>\n",
       "      <th>0</th>\n",
       "      <td>первый</td>\n",
       "      <td>1</td>\n",
       "    </tr>\n",
       "    <tr>\n",
       "      <th>1</th>\n",
       "      <td>последний</td>\n",
       "      <td>2</td>\n",
       "    </tr>\n",
       "    <tr>\n",
       "      <th>2</th>\n",
       "      <td>другой</td>\n",
       "      <td>0</td>\n",
       "    </tr>\n",
       "  </tbody>\n",
       "</table>\n",
       "</div>"
      ],
      "text/plain": [
       "  floor_category  floor_category_id\n",
       "0         первый                  1\n",
       "1      последний                  2\n",
       "2         другой                  0"
      ]
     },
     "metadata": {},
     "output_type": "display_data"
    }
   ],
   "source": [
    "# создание словаря\n",
    "data_floor = [['первый', 1], ['последний', 2], ['другой', 0]]\n",
    "columns = ['floor_category', 'floor_category_id']\n",
    "floor_type = pd.DataFrame(data=data_floor, columns=columns)\n",
    "display(floor_type)"
   ]
  },
  {
   "cell_type": "code",
   "execution_count": 20,
   "metadata": {},
   "outputs": [
    {
     "data": {
      "text/html": [
       "<div>\n",
       "<style scoped>\n",
       "    .dataframe tbody tr th:only-of-type {\n",
       "        vertical-align: middle;\n",
       "    }\n",
       "\n",
       "    .dataframe tbody tr th {\n",
       "        vertical-align: top;\n",
       "    }\n",
       "\n",
       "    .dataframe thead th {\n",
       "        text-align: right;\n",
       "    }\n",
       "</style>\n",
       "<table border=\"1\" class=\"dataframe\">\n",
       "  <thead>\n",
       "    <tr style=\"text-align: right;\">\n",
       "      <th></th>\n",
       "      <th>total_images</th>\n",
       "      <th>last_price</th>\n",
       "      <th>total_area</th>\n",
       "      <th>first_day_exposition</th>\n",
       "      <th>rooms</th>\n",
       "      <th>ceiling_height</th>\n",
       "      <th>floors_total</th>\n",
       "      <th>living_area</th>\n",
       "      <th>floor</th>\n",
       "      <th>is_apartment</th>\n",
       "      <th>...</th>\n",
       "      <th>ponds_around3000</th>\n",
       "      <th>ponds_nearest</th>\n",
       "      <th>days_exposition</th>\n",
       "      <th>one_square_price</th>\n",
       "      <th>year_exposition</th>\n",
       "      <th>month_exposition</th>\n",
       "      <th>weekday_exposition</th>\n",
       "      <th>living_to_total_area</th>\n",
       "      <th>kitchen_to_total_area</th>\n",
       "      <th>floor_category_id</th>\n",
       "    </tr>\n",
       "  </thead>\n",
       "  <tbody>\n",
       "    <tr>\n",
       "      <th>0</th>\n",
       "      <td>20</td>\n",
       "      <td>13000000</td>\n",
       "      <td>108.00</td>\n",
       "      <td>2019-03-07</td>\n",
       "      <td>3</td>\n",
       "      <td>2.70</td>\n",
       "      <td>16</td>\n",
       "      <td>51.00</td>\n",
       "      <td>8</td>\n",
       "      <td>NaN</td>\n",
       "      <td>...</td>\n",
       "      <td>2</td>\n",
       "      <td>755.0</td>\n",
       "      <td>NaN</td>\n",
       "      <td>120370</td>\n",
       "      <td>2019</td>\n",
       "      <td>3</td>\n",
       "      <td>3</td>\n",
       "      <td>0.47</td>\n",
       "      <td>0.23</td>\n",
       "      <td>0</td>\n",
       "    </tr>\n",
       "    <tr>\n",
       "      <th>1</th>\n",
       "      <td>7</td>\n",
       "      <td>3350000</td>\n",
       "      <td>40.40</td>\n",
       "      <td>2018-12-04</td>\n",
       "      <td>1</td>\n",
       "      <td>2.65</td>\n",
       "      <td>11</td>\n",
       "      <td>18.60</td>\n",
       "      <td>1</td>\n",
       "      <td>NaN</td>\n",
       "      <td>...</td>\n",
       "      <td>0</td>\n",
       "      <td>NaN</td>\n",
       "      <td>81.0</td>\n",
       "      <td>82920</td>\n",
       "      <td>2018</td>\n",
       "      <td>12</td>\n",
       "      <td>1</td>\n",
       "      <td>0.46</td>\n",
       "      <td>0.27</td>\n",
       "      <td>1</td>\n",
       "    </tr>\n",
       "    <tr>\n",
       "      <th>2</th>\n",
       "      <td>10</td>\n",
       "      <td>5196000</td>\n",
       "      <td>56.00</td>\n",
       "      <td>2015-08-20</td>\n",
       "      <td>2</td>\n",
       "      <td>2.65</td>\n",
       "      <td>5</td>\n",
       "      <td>34.30</td>\n",
       "      <td>4</td>\n",
       "      <td>NaN</td>\n",
       "      <td>...</td>\n",
       "      <td>2</td>\n",
       "      <td>574.0</td>\n",
       "      <td>558.0</td>\n",
       "      <td>92785</td>\n",
       "      <td>2015</td>\n",
       "      <td>8</td>\n",
       "      <td>3</td>\n",
       "      <td>0.61</td>\n",
       "      <td>0.15</td>\n",
       "      <td>0</td>\n",
       "    </tr>\n",
       "    <tr>\n",
       "      <th>3</th>\n",
       "      <td>0</td>\n",
       "      <td>64900000</td>\n",
       "      <td>159.00</td>\n",
       "      <td>2015-07-24</td>\n",
       "      <td>3</td>\n",
       "      <td>2.65</td>\n",
       "      <td>14</td>\n",
       "      <td>45.00</td>\n",
       "      <td>9</td>\n",
       "      <td>NaN</td>\n",
       "      <td>...</td>\n",
       "      <td>3</td>\n",
       "      <td>234.0</td>\n",
       "      <td>424.0</td>\n",
       "      <td>408176</td>\n",
       "      <td>2015</td>\n",
       "      <td>7</td>\n",
       "      <td>4</td>\n",
       "      <td>0.28</td>\n",
       "      <td>NaN</td>\n",
       "      <td>0</td>\n",
       "    </tr>\n",
       "    <tr>\n",
       "      <th>4</th>\n",
       "      <td>2</td>\n",
       "      <td>10000000</td>\n",
       "      <td>100.00</td>\n",
       "      <td>2018-06-19</td>\n",
       "      <td>2</td>\n",
       "      <td>3.03</td>\n",
       "      <td>14</td>\n",
       "      <td>32.00</td>\n",
       "      <td>13</td>\n",
       "      <td>NaN</td>\n",
       "      <td>...</td>\n",
       "      <td>1</td>\n",
       "      <td>48.0</td>\n",
       "      <td>121.0</td>\n",
       "      <td>100000</td>\n",
       "      <td>2018</td>\n",
       "      <td>6</td>\n",
       "      <td>1</td>\n",
       "      <td>0.32</td>\n",
       "      <td>0.41</td>\n",
       "      <td>0</td>\n",
       "    </tr>\n",
       "    <tr>\n",
       "      <th>5</th>\n",
       "      <td>10</td>\n",
       "      <td>2890000</td>\n",
       "      <td>30.40</td>\n",
       "      <td>2018-09-10</td>\n",
       "      <td>1</td>\n",
       "      <td>2.65</td>\n",
       "      <td>12</td>\n",
       "      <td>14.40</td>\n",
       "      <td>5</td>\n",
       "      <td>NaN</td>\n",
       "      <td>...</td>\n",
       "      <td>0</td>\n",
       "      <td>NaN</td>\n",
       "      <td>55.0</td>\n",
       "      <td>95065</td>\n",
       "      <td>2018</td>\n",
       "      <td>9</td>\n",
       "      <td>0</td>\n",
       "      <td>0.47</td>\n",
       "      <td>0.30</td>\n",
       "      <td>0</td>\n",
       "    </tr>\n",
       "    <tr>\n",
       "      <th>6</th>\n",
       "      <td>6</td>\n",
       "      <td>3700000</td>\n",
       "      <td>37.30</td>\n",
       "      <td>2017-11-02</td>\n",
       "      <td>1</td>\n",
       "      <td>2.65</td>\n",
       "      <td>26</td>\n",
       "      <td>10.60</td>\n",
       "      <td>6</td>\n",
       "      <td>NaN</td>\n",
       "      <td>...</td>\n",
       "      <td>0</td>\n",
       "      <td>NaN</td>\n",
       "      <td>155.0</td>\n",
       "      <td>99195</td>\n",
       "      <td>2017</td>\n",
       "      <td>11</td>\n",
       "      <td>3</td>\n",
       "      <td>0.28</td>\n",
       "      <td>0.39</td>\n",
       "      <td>0</td>\n",
       "    </tr>\n",
       "    <tr>\n",
       "      <th>7</th>\n",
       "      <td>5</td>\n",
       "      <td>7915000</td>\n",
       "      <td>71.60</td>\n",
       "      <td>2019-04-18</td>\n",
       "      <td>2</td>\n",
       "      <td>2.65</td>\n",
       "      <td>24</td>\n",
       "      <td>30.50</td>\n",
       "      <td>22</td>\n",
       "      <td>NaN</td>\n",
       "      <td>...</td>\n",
       "      <td>0</td>\n",
       "      <td>NaN</td>\n",
       "      <td>NaN</td>\n",
       "      <td>110544</td>\n",
       "      <td>2019</td>\n",
       "      <td>4</td>\n",
       "      <td>3</td>\n",
       "      <td>0.43</td>\n",
       "      <td>0.26</td>\n",
       "      <td>0</td>\n",
       "    </tr>\n",
       "    <tr>\n",
       "      <th>8</th>\n",
       "      <td>20</td>\n",
       "      <td>2900000</td>\n",
       "      <td>33.16</td>\n",
       "      <td>2018-05-23</td>\n",
       "      <td>1</td>\n",
       "      <td>2.65</td>\n",
       "      <td>27</td>\n",
       "      <td>15.43</td>\n",
       "      <td>26</td>\n",
       "      <td>NaN</td>\n",
       "      <td>...</td>\n",
       "      <td>0</td>\n",
       "      <td>NaN</td>\n",
       "      <td>189.0</td>\n",
       "      <td>87454</td>\n",
       "      <td>2018</td>\n",
       "      <td>5</td>\n",
       "      <td>2</td>\n",
       "      <td>0.47</td>\n",
       "      <td>0.27</td>\n",
       "      <td>0</td>\n",
       "    </tr>\n",
       "    <tr>\n",
       "      <th>9</th>\n",
       "      <td>18</td>\n",
       "      <td>5400000</td>\n",
       "      <td>61.00</td>\n",
       "      <td>2017-02-26</td>\n",
       "      <td>3</td>\n",
       "      <td>2.50</td>\n",
       "      <td>9</td>\n",
       "      <td>43.60</td>\n",
       "      <td>7</td>\n",
       "      <td>NaN</td>\n",
       "      <td>...</td>\n",
       "      <td>0</td>\n",
       "      <td>NaN</td>\n",
       "      <td>289.0</td>\n",
       "      <td>88524</td>\n",
       "      <td>2017</td>\n",
       "      <td>2</td>\n",
       "      <td>6</td>\n",
       "      <td>0.71</td>\n",
       "      <td>0.11</td>\n",
       "      <td>0</td>\n",
       "    </tr>\n",
       "  </tbody>\n",
       "</table>\n",
       "<p>10 rows × 29 columns</p>\n",
       "</div>"
      ],
      "text/plain": [
       "   total_images  last_price  total_area first_day_exposition  rooms  \\\n",
       "0            20    13000000      108.00           2019-03-07      3   \n",
       "1             7     3350000       40.40           2018-12-04      1   \n",
       "2            10     5196000       56.00           2015-08-20      2   \n",
       "3             0    64900000      159.00           2015-07-24      3   \n",
       "4             2    10000000      100.00           2018-06-19      2   \n",
       "5            10     2890000       30.40           2018-09-10      1   \n",
       "6             6     3700000       37.30           2017-11-02      1   \n",
       "7             5     7915000       71.60           2019-04-18      2   \n",
       "8            20     2900000       33.16           2018-05-23      1   \n",
       "9            18     5400000       61.00           2017-02-26      3   \n",
       "\n",
       "   ceiling_height  floors_total  living_area  floor is_apartment  ...  \\\n",
       "0            2.70            16        51.00      8          NaN  ...   \n",
       "1            2.65            11        18.60      1          NaN  ...   \n",
       "2            2.65             5        34.30      4          NaN  ...   \n",
       "3            2.65            14        45.00      9          NaN  ...   \n",
       "4            3.03            14        32.00     13          NaN  ...   \n",
       "5            2.65            12        14.40      5          NaN  ...   \n",
       "6            2.65            26        10.60      6          NaN  ...   \n",
       "7            2.65            24        30.50     22          NaN  ...   \n",
       "8            2.65            27        15.43     26          NaN  ...   \n",
       "9            2.50             9        43.60      7          NaN  ...   \n",
       "\n",
       "   ponds_around3000  ponds_nearest  days_exposition  one_square_price  \\\n",
       "0                 2          755.0              NaN            120370   \n",
       "1                 0            NaN             81.0             82920   \n",
       "2                 2          574.0            558.0             92785   \n",
       "3                 3          234.0            424.0            408176   \n",
       "4                 1           48.0            121.0            100000   \n",
       "5                 0            NaN             55.0             95065   \n",
       "6                 0            NaN            155.0             99195   \n",
       "7                 0            NaN              NaN            110544   \n",
       "8                 0            NaN            189.0             87454   \n",
       "9                 0            NaN            289.0             88524   \n",
       "\n",
       "  year_exposition  month_exposition  weekday_exposition  living_to_total_area  \\\n",
       "0            2019                 3                   3                  0.47   \n",
       "1            2018                12                   1                  0.46   \n",
       "2            2015                 8                   3                  0.61   \n",
       "3            2015                 7                   4                  0.28   \n",
       "4            2018                 6                   1                  0.32   \n",
       "5            2018                 9                   0                  0.47   \n",
       "6            2017                11                   3                  0.28   \n",
       "7            2019                 4                   3                  0.43   \n",
       "8            2018                 5                   2                  0.47   \n",
       "9            2017                 2                   6                  0.71   \n",
       "\n",
       "   kitchen_to_total_area  floor_category_id  \n",
       "0                   0.23                  0  \n",
       "1                   0.27                  1  \n",
       "2                   0.15                  0  \n",
       "3                    NaN                  0  \n",
       "4                   0.41                  0  \n",
       "5                   0.30                  0  \n",
       "6                   0.39                  0  \n",
       "7                   0.26                  0  \n",
       "8                   0.27                  0  \n",
       "9                   0.11                  0  \n",
       "\n",
       "[10 rows x 29 columns]"
      ]
     },
     "execution_count": 20,
     "metadata": {},
     "output_type": "execute_result"
    }
   ],
   "source": [
    "data.head(10) # проверка получившихся столбцов"
   ]
  },
  {
   "cell_type": "markdown",
   "metadata": {},
   "source": [
    "## Исследовательский анализ данных"
   ]
  },
  {
   "cell_type": "markdown",
   "metadata": {},
   "source": [
    "### Изучение параметров"
   ]
  },
  {
   "cell_type": "markdown",
   "metadata": {},
   "source": [
    "#### Площадь"
   ]
  },
  {
   "cell_type": "code",
   "execution_count": 21,
   "metadata": {},
   "outputs": [
    {
     "name": "stdout",
     "output_type": "stream",
     "text": [
      "count    23565.000000\n",
      "mean        60.322824\n",
      "std         35.657060\n",
      "min         12.000000\n",
      "25%         40.000000\n",
      "50%         52.000000\n",
      "75%         69.700000\n",
      "max        900.000000\n",
      "Name: total_area, dtype: float64\n"
     ]
    },
    {
     "data": {
      "text/plain": [
       "<AxesSubplot:>"
      ]
     },
     "execution_count": 21,
     "metadata": {},
     "output_type": "execute_result"
    },
    {
     "data": {
      "image/png": "[encoded data removed]",
      "text/plain": [
       "<Figure size 432x288 with 1 Axes>"
      ]
     },
     "metadata": {
      "needs_background": "light"
     },
     "output_type": "display_data"
    }
   ],
   "source": [
    "print(data['total_area'].describe()) # изучение площади\n",
    "data['total_area'].hist()"
   ]
  },
  {
   "cell_type": "markdown",
   "metadata": {},
   "source": [
    "По данным можно сделать вывод, что большая часть квартир имеют площадь от 12 до 70 м², но также есть небольшая доля квартир с площадью от 70 до 190 м², далее еще меньшее количество квартир с площадью примерно до 380 м². Минимальное значение площади составляет 12м², что вполне может быть, если это комната. Но максимальное значение в данных это 900, значит можно предполагать, что здесь происходит выброс. Проверим это при помощи диаграммы размаха."
   ]
  },
  {
   "cell_type": "code",
   "execution_count": 22,
   "metadata": {},
   "outputs": [
    {
     "data": {
      "text/plain": [
       "<AxesSubplot:>"
      ]
     },
     "execution_count": 22,
     "metadata": {},
     "output_type": "execute_result"
    },
    {
     "data": {
      "image/png": "[encoded data removed]",
      "text/plain": [
       "<Figure size 432x288 with 1 Axes>"
      ]
     },
     "metadata": {
      "needs_background": "light"
     },
     "output_type": "display_data"
    }
   ],
   "source": [
    "plt.ylim(-100, 1000)\n",
    "data.boxplot('total_area')"
   ]
  },
  {
   "cell_type": "markdown",
   "metadata": {},
   "source": [
    "Диаграмма подтверждает предыдущий вывод. Также выделяется выброс с площадью 900 м², это одно значение, которые выделяется из всех данных. Тем не менее для более однородных данных, ограничим жилую площадь до 200  м², именно с этой отметки начинается рассеивание. Проверим, какую долю составляют такие значения."
   ]
  },
  {
   "cell_type": "code",
   "execution_count": 23,
   "metadata": {},
   "outputs": [
    {
     "data": {
      "text/plain": [
       "0.009590494377254403"
      ]
     },
     "execution_count": 23,
     "metadata": {},
     "output_type": "execute_result"
    }
   ],
   "source": [
    "(len(data.query('total_area > 200')))/len(data)"
   ]
  },
  {
   "cell_type": "markdown",
   "metadata": {},
   "source": [
    "Доля совершенно небольшая, поэтому убираем те квартиры, площадь которых превышает 200  м²."
   ]
  },
  {
   "cell_type": "markdown",
   "metadata": {},
   "source": [
    "Видно, что данные стали более однородны."
   ]
  },
  {
   "cell_type": "markdown",
   "metadata": {},
   "source": [
    "#### Цена"
   ]
  },
  {
   "cell_type": "code",
   "execution_count": 24,
   "metadata": {},
   "outputs": [
    {
     "data": {
      "text/plain": [
       "count    2.356500e+04\n",
       "mean     6.540058e+06\n",
       "std      1.091093e+07\n",
       "min      1.219000e+04\n",
       "25%      3.400000e+06\n",
       "50%      4.646000e+06\n",
       "75%      6.790000e+06\n",
       "max      7.630000e+08\n",
       "Name: last_price, dtype: float64"
      ]
     },
     "execution_count": 24,
     "metadata": {},
     "output_type": "execute_result"
    }
   ],
   "source": [
    "data['last_price'].describe() # изучение цены"
   ]
  },
  {
   "cell_type": "markdown",
   "metadata": {},
   "source": [
    "Неудобно анализировать данные в таком формате, поэтому переведем цену за квартиру в млн.р. И проанализируем данные в млн.р. \n",
    "\n",
    "*Далее по работе цена так и останется в млн.р.*"
   ]
  },
  {
   "cell_type": "code",
   "execution_count": 25,
   "metadata": {},
   "outputs": [
    {
     "name": "stdout",
     "output_type": "stream",
     "text": [
      "count    23565.000000\n",
      "mean         6.540105\n",
      "std         10.910932\n",
      "min          0.010000\n",
      "25%          3.400000\n",
      "50%          4.650000\n",
      "75%          6.790000\n",
      "max        763.000000\n",
      "Name: last_price, dtype: float64\n"
     ]
    },
    {
     "data": {
      "text/plain": [
       "array([[<AxesSubplot:title={'center':'last_price'}>]], dtype=object)"
      ]
     },
     "execution_count": 25,
     "metadata": {},
     "output_type": "execute_result"
    },
    {
     "data": {
      "image/png": "[encoded data removed]",
      "text/plain": [
       "<Figure size 432x288 with 1 Axes>"
      ]
     },
     "metadata": {
      "needs_background": "light"
     },
     "output_type": "display_data"
    }
   ],
   "source": [
    "data['last_price'] = (data['last_price']/1000000).round(2)\n",
    "print(data['last_price'].describe())\n",
    "data.hist('last_price')"
   ]
  },
  {
   "cell_type": "code",
   "execution_count": 26,
   "metadata": {},
   "outputs": [
    {
     "data": {
      "text/plain": [
       "<AxesSubplot:>"
      ]
     },
     "execution_count": 26,
     "metadata": {},
     "output_type": "execute_result"
    },
    {
     "data": {
      "image/png": "[encoded data removed]",
      "text/plain": [
       "<Figure size 432x288 with 1 Axes>"
      ]
     },
     "metadata": {
      "needs_background": "light"
     },
     "output_type": "display_data"
    }
   ],
   "source": [
    "data.boxplot('last_price')"
   ]
  },
  {
   "cell_type": "markdown",
   "metadata": {},
   "source": [
    "Видно на диаграмме, что есть выбросы. Более 90% квартир имеют стоимость до 80 млн.р. Остальные выбросы аномальны и, возможно, они произошли, потому что данные изначально были заполнены не в тех единицах измерения. Построим еще одну диаграмму со значениями до 100 млн.р."
   ]
  },
  {
   "cell_type": "code",
   "execution_count": 27,
   "metadata": {},
   "outputs": [
    {
     "data": {
      "text/plain": [
       "array([[<AxesSubplot:title={'center':'last_price'}>]], dtype=object)"
      ]
     },
     "execution_count": 27,
     "metadata": {},
     "output_type": "execute_result"
    },
    {
     "data": {
      "image/png": "[encoded data removed]",
      "text/plain": [
       "<Figure size 432x288 with 1 Axes>"
      ]
     },
     "metadata": {
      "needs_background": "light"
     },
     "output_type": "display_data"
    }
   ],
   "source": [
    "data.query('last_price < 100').hist('last_price')"
   ]
  },
  {
   "cell_type": "markdown",
   "metadata": {},
   "source": [
    "Видно, что значения заканчиваются на 30 млн.р. Проверим какая доля таких значений в датафрейме и как поменяются данные, если возьмем стоимость до 30 млн.р."
   ]
  },
  {
   "cell_type": "code",
   "execution_count": 28,
   "metadata": {},
   "outputs": [
    {
     "data": {
      "text/plain": [
       "<AxesSubplot:>"
      ]
     },
     "execution_count": 28,
     "metadata": {},
     "output_type": "execute_result"
    },
    {
     "data": {
      "image/png": "[encoded data removed]",
      "text/plain": [
       "<Figure size 432x288 with 1 Axes>"
      ]
     },
     "metadata": {
      "needs_background": "light"
     },
     "output_type": "display_data"
    }
   ],
   "source": [
    "data.query('last_price < 30').boxplot('last_price')"
   ]
  },
  {
   "cell_type": "code",
   "execution_count": 29,
   "metadata": {},
   "outputs": [
    {
     "data": {
      "text/plain": [
       "0.01336728198599618"
      ]
     },
     "execution_count": 29,
     "metadata": {},
     "output_type": "execute_result"
    }
   ],
   "source": [
    "len(data.query('last_price > 30'))/len(data)"
   ]
  },
  {
   "cell_type": "markdown",
   "metadata": {},
   "source": [
    "Чуть больше процента будет удалено из таблицы, если возьмем значения стоимости квартиры меньше 30 млн.р. Верхняя граница обозначена, определим нижнюю."
   ]
  },
  {
   "cell_type": "code",
   "execution_count": 30,
   "metadata": {},
   "outputs": [
    {
     "data": {
      "text/plain": [
       "array([[<AxesSubplot:title={'center':'last_price'}>]], dtype=object)"
      ]
     },
     "execution_count": 30,
     "metadata": {},
     "output_type": "execute_result"
    },
    {
     "data": {
      "image/png": "[encoded data removed]",
      "text/plain": [
       "<Figure size 432x288 with 1 Axes>"
      ]
     },
     "metadata": {
      "needs_background": "light"
     },
     "output_type": "display_data"
    }
   ],
   "source": [
    "data.query('last_price < 0.7').hist('last_price')"
   ]
  },
  {
   "cell_type": "markdown",
   "metadata": {},
   "source": [
    "Можно заметить, что до 400 тыс.р. есть разрыв в данных и слишком маленькие значения для стоимости квартиры, это является выбросом. Поэтому обозначим границы данных на стоимость от 0.4 до 30 млн.р."
   ]
  },
  {
   "cell_type": "markdown",
   "metadata": {},
   "source": [
    "#### Количество комнат"
   ]
  },
  {
   "cell_type": "code",
   "execution_count": 31,
   "metadata": {},
   "outputs": [
    {
     "name": "stdout",
     "output_type": "stream",
     "text": [
      "count    23565.000000\n",
      "mean         2.070656\n",
      "std          1.078591\n",
      "min          0.000000\n",
      "25%          1.000000\n",
      "50%          2.000000\n",
      "75%          3.000000\n",
      "max         19.000000\n",
      "Name: rooms, dtype: float64\n"
     ]
    },
    {
     "data": {
      "text/plain": [
       "<AxesSubplot:>"
      ]
     },
     "execution_count": 31,
     "metadata": {},
     "output_type": "execute_result"
    },
    {
     "data": {
      "image/png": "[encoded data removed]",
      "text/plain": [
       "<Figure size 432x288 with 1 Axes>"
      ]
     },
     "metadata": {
      "needs_background": "light"
     },
     "output_type": "display_data"
    }
   ],
   "source": [
    "print(data['rooms'].describe()) # изучение количества комнат\n",
    "data['rooms'].hist()"
   ]
  },
  {
   "cell_type": "code",
   "execution_count": 32,
   "metadata": {},
   "outputs": [
    {
     "data": {
      "text/plain": [
       "<AxesSubplot:>"
      ]
     },
     "execution_count": 32,
     "metadata": {},
     "output_type": "execute_result"
    },
    {
     "data": {
      "image/png": "[encoded data removed]",
      "text/plain": [
       "<Figure size 432x288 with 1 Axes>"
      ]
     },
     "metadata": {
      "needs_background": "light"
     },
     "output_type": "display_data"
    }
   ],
   "source": [
    "data.boxplot('rooms')"
   ]
  },
  {
   "cell_type": "markdown",
   "metadata": {},
   "source": [
    "Видно, что значения больше 7 выбиваются из общей картины данных. Проверим, долю таких значений, чтобы в случае малого количества можно было убрать эти строки. "
   ]
  },
  {
   "cell_type": "code",
   "execution_count": 33,
   "metadata": {},
   "outputs": [
    {
     "data": {
      "text/plain": [
       "0.0013155102906853384"
      ]
     },
     "execution_count": 33,
     "metadata": {},
     "output_type": "execute_result"
    }
   ],
   "source": [
    "len(data.query('rooms > 7'))/len(data)"
   ]
  },
  {
   "cell_type": "markdown",
   "metadata": {},
   "source": [
    "Что касается минимального значения - то 0 комнат можно рассматривать как студию, тогда в столбце studio должно быть значение True. А если значение в столбце studio False, то комнат должно быть не 0. Проверим эти условия."
   ]
  },
  {
   "cell_type": "code",
   "execution_count": 34,
   "metadata": {},
   "outputs": [
    {
     "data": {
      "text/html": [
       "<div>\n",
       "<style scoped>\n",
       "    .dataframe tbody tr th:only-of-type {\n",
       "        vertical-align: middle;\n",
       "    }\n",
       "\n",
       "    .dataframe tbody tr th {\n",
       "        vertical-align: top;\n",
       "    }\n",
       "\n",
       "    .dataframe thead th {\n",
       "        text-align: right;\n",
       "    }\n",
       "</style>\n",
       "<table border=\"1\" class=\"dataframe\">\n",
       "  <thead>\n",
       "    <tr style=\"text-align: right;\">\n",
       "      <th></th>\n",
       "      <th>total_images</th>\n",
       "      <th>last_price</th>\n",
       "      <th>total_area</th>\n",
       "      <th>first_day_exposition</th>\n",
       "      <th>rooms</th>\n",
       "      <th>ceiling_height</th>\n",
       "      <th>floors_total</th>\n",
       "      <th>living_area</th>\n",
       "      <th>floor</th>\n",
       "      <th>is_apartment</th>\n",
       "      <th>...</th>\n",
       "      <th>ponds_around3000</th>\n",
       "      <th>ponds_nearest</th>\n",
       "      <th>days_exposition</th>\n",
       "      <th>one_square_price</th>\n",
       "      <th>year_exposition</th>\n",
       "      <th>month_exposition</th>\n",
       "      <th>weekday_exposition</th>\n",
       "      <th>living_to_total_area</th>\n",
       "      <th>kitchen_to_total_area</th>\n",
       "      <th>floor_category_id</th>\n",
       "    </tr>\n",
       "  </thead>\n",
       "  <tbody>\n",
       "    <tr>\n",
       "      <th>2389</th>\n",
       "      <td>5</td>\n",
       "      <td>2.25</td>\n",
       "      <td>25.41</td>\n",
       "      <td>2016-06-07</td>\n",
       "      <td>1</td>\n",
       "      <td>2.65</td>\n",
       "      <td>12</td>\n",
       "      <td>17.08</td>\n",
       "      <td>8</td>\n",
       "      <td>False</td>\n",
       "      <td>...</td>\n",
       "      <td>2</td>\n",
       "      <td>485.0</td>\n",
       "      <td>26.0</td>\n",
       "      <td>88547</td>\n",
       "      <td>2016</td>\n",
       "      <td>6</td>\n",
       "      <td>1</td>\n",
       "      <td>0.67</td>\n",
       "      <td>NaN</td>\n",
       "      <td>0</td>\n",
       "    </tr>\n",
       "    <tr>\n",
       "      <th>3187</th>\n",
       "      <td>13</td>\n",
       "      <td>3.80</td>\n",
       "      <td>27.00</td>\n",
       "      <td>2016-05-17</td>\n",
       "      <td>1</td>\n",
       "      <td>2.65</td>\n",
       "      <td>14</td>\n",
       "      <td>18.00</td>\n",
       "      <td>8</td>\n",
       "      <td>False</td>\n",
       "      <td>...</td>\n",
       "      <td>0</td>\n",
       "      <td>NaN</td>\n",
       "      <td>45.0</td>\n",
       "      <td>140740</td>\n",
       "      <td>2016</td>\n",
       "      <td>5</td>\n",
       "      <td>1</td>\n",
       "      <td>0.67</td>\n",
       "      <td>NaN</td>\n",
       "      <td>0</td>\n",
       "    </tr>\n",
       "    <tr>\n",
       "      <th>4180</th>\n",
       "      <td>4</td>\n",
       "      <td>4.50</td>\n",
       "      <td>34.00</td>\n",
       "      <td>2016-04-25</td>\n",
       "      <td>1</td>\n",
       "      <td>2.80</td>\n",
       "      <td>10</td>\n",
       "      <td>21.00</td>\n",
       "      <td>10</td>\n",
       "      <td>False</td>\n",
       "      <td>...</td>\n",
       "      <td>1</td>\n",
       "      <td>433.0</td>\n",
       "      <td>62.0</td>\n",
       "      <td>132352</td>\n",
       "      <td>2016</td>\n",
       "      <td>4</td>\n",
       "      <td>0</td>\n",
       "      <td>0.62</td>\n",
       "      <td>NaN</td>\n",
       "      <td>2</td>\n",
       "    </tr>\n",
       "    <tr>\n",
       "      <th>8683</th>\n",
       "      <td>10</td>\n",
       "      <td>3.50</td>\n",
       "      <td>32.50</td>\n",
       "      <td>2016-05-05</td>\n",
       "      <td>1</td>\n",
       "      <td>3.00</td>\n",
       "      <td>23</td>\n",
       "      <td>29.90</td>\n",
       "      <td>11</td>\n",
       "      <td>False</td>\n",
       "      <td>...</td>\n",
       "      <td>1</td>\n",
       "      <td>564.0</td>\n",
       "      <td>45.0</td>\n",
       "      <td>107692</td>\n",
       "      <td>2016</td>\n",
       "      <td>5</td>\n",
       "      <td>3</td>\n",
       "      <td>0.92</td>\n",
       "      <td>NaN</td>\n",
       "      <td>0</td>\n",
       "    </tr>\n",
       "    <tr>\n",
       "      <th>11026</th>\n",
       "      <td>1</td>\n",
       "      <td>2.80</td>\n",
       "      <td>28.00</td>\n",
       "      <td>2016-05-04</td>\n",
       "      <td>1</td>\n",
       "      <td>2.65</td>\n",
       "      <td>26</td>\n",
       "      <td>19.00</td>\n",
       "      <td>6</td>\n",
       "      <td>False</td>\n",
       "      <td>...</td>\n",
       "      <td>0</td>\n",
       "      <td>NaN</td>\n",
       "      <td>45.0</td>\n",
       "      <td>100000</td>\n",
       "      <td>2016</td>\n",
       "      <td>5</td>\n",
       "      <td>2</td>\n",
       "      <td>0.68</td>\n",
       "      <td>NaN</td>\n",
       "      <td>0</td>\n",
       "    </tr>\n",
       "    <tr>\n",
       "      <th>12935</th>\n",
       "      <td>10</td>\n",
       "      <td>2.20</td>\n",
       "      <td>31.00</td>\n",
       "      <td>2016-05-15</td>\n",
       "      <td>1</td>\n",
       "      <td>2.50</td>\n",
       "      <td>8</td>\n",
       "      <td>22.30</td>\n",
       "      <td>5</td>\n",
       "      <td>False</td>\n",
       "      <td>...</td>\n",
       "      <td>0</td>\n",
       "      <td>NaN</td>\n",
       "      <td>44.0</td>\n",
       "      <td>70967</td>\n",
       "      <td>2016</td>\n",
       "      <td>5</td>\n",
       "      <td>6</td>\n",
       "      <td>0.72</td>\n",
       "      <td>NaN</td>\n",
       "      <td>0</td>\n",
       "    </tr>\n",
       "    <tr>\n",
       "      <th>15142</th>\n",
       "      <td>2</td>\n",
       "      <td>2.70</td>\n",
       "      <td>30.00</td>\n",
       "      <td>2016-05-10</td>\n",
       "      <td>1</td>\n",
       "      <td>2.65</td>\n",
       "      <td>21</td>\n",
       "      <td>26.00</td>\n",
       "      <td>6</td>\n",
       "      <td>False</td>\n",
       "      <td>...</td>\n",
       "      <td>0</td>\n",
       "      <td>NaN</td>\n",
       "      <td>55.0</td>\n",
       "      <td>90000</td>\n",
       "      <td>2016</td>\n",
       "      <td>5</td>\n",
       "      <td>1</td>\n",
       "      <td>0.87</td>\n",
       "      <td>NaN</td>\n",
       "      <td>0</td>\n",
       "    </tr>\n",
       "    <tr>\n",
       "      <th>18732</th>\n",
       "      <td>4</td>\n",
       "      <td>2.40</td>\n",
       "      <td>22.00</td>\n",
       "      <td>2016-05-06</td>\n",
       "      <td>1</td>\n",
       "      <td>2.65</td>\n",
       "      <td>10</td>\n",
       "      <td>15.00</td>\n",
       "      <td>6</td>\n",
       "      <td>NaN</td>\n",
       "      <td>...</td>\n",
       "      <td>0</td>\n",
       "      <td>NaN</td>\n",
       "      <td>45.0</td>\n",
       "      <td>109090</td>\n",
       "      <td>2016</td>\n",
       "      <td>5</td>\n",
       "      <td>4</td>\n",
       "      <td>0.68</td>\n",
       "      <td>NaN</td>\n",
       "      <td>0</td>\n",
       "    </tr>\n",
       "    <tr>\n",
       "      <th>20086</th>\n",
       "      <td>0</td>\n",
       "      <td>1.55</td>\n",
       "      <td>22.00</td>\n",
       "      <td>2016-05-11</td>\n",
       "      <td>1</td>\n",
       "      <td>2.70</td>\n",
       "      <td>15</td>\n",
       "      <td>10.94</td>\n",
       "      <td>14</td>\n",
       "      <td>False</td>\n",
       "      <td>...</td>\n",
       "      <td>0</td>\n",
       "      <td>NaN</td>\n",
       "      <td>45.0</td>\n",
       "      <td>70454</td>\n",
       "      <td>2016</td>\n",
       "      <td>5</td>\n",
       "      <td>2</td>\n",
       "      <td>0.50</td>\n",
       "      <td>NaN</td>\n",
       "      <td>0</td>\n",
       "    </tr>\n",
       "    <tr>\n",
       "      <th>21702</th>\n",
       "      <td>9</td>\n",
       "      <td>2.35</td>\n",
       "      <td>23.40</td>\n",
       "      <td>2016-05-19</td>\n",
       "      <td>1</td>\n",
       "      <td>2.70</td>\n",
       "      <td>20</td>\n",
       "      <td>16.00</td>\n",
       "      <td>8</td>\n",
       "      <td>False</td>\n",
       "      <td>...</td>\n",
       "      <td>0</td>\n",
       "      <td>NaN</td>\n",
       "      <td>34.0</td>\n",
       "      <td>100384</td>\n",
       "      <td>2016</td>\n",
       "      <td>5</td>\n",
       "      <td>3</td>\n",
       "      <td>0.68</td>\n",
       "      <td>NaN</td>\n",
       "      <td>0</td>\n",
       "    </tr>\n",
       "    <tr>\n",
       "      <th>22652</th>\n",
       "      <td>5</td>\n",
       "      <td>2.65</td>\n",
       "      <td>26.00</td>\n",
       "      <td>2015-06-24</td>\n",
       "      <td>1</td>\n",
       "      <td>2.65</td>\n",
       "      <td>14</td>\n",
       "      <td>15.00</td>\n",
       "      <td>11</td>\n",
       "      <td>False</td>\n",
       "      <td>...</td>\n",
       "      <td>0</td>\n",
       "      <td>NaN</td>\n",
       "      <td>373.0</td>\n",
       "      <td>101923</td>\n",
       "      <td>2015</td>\n",
       "      <td>6</td>\n",
       "      <td>2</td>\n",
       "      <td>0.58</td>\n",
       "      <td>NaN</td>\n",
       "      <td>0</td>\n",
       "    </tr>\n",
       "  </tbody>\n",
       "</table>\n",
       "<p>11 rows × 29 columns</p>\n",
       "</div>"
      ],
      "text/plain": [
       "       total_images  last_price  total_area first_day_exposition  rooms  \\\n",
       "2389              5        2.25       25.41           2016-06-07      1   \n",
       "3187             13        3.80       27.00           2016-05-17      1   \n",
       "4180              4        4.50       34.00           2016-04-25      1   \n",
       "8683             10        3.50       32.50           2016-05-05      1   \n",
       "11026             1        2.80       28.00           2016-05-04      1   \n",
       "12935            10        2.20       31.00           2016-05-15      1   \n",
       "15142             2        2.70       30.00           2016-05-10      1   \n",
       "18732             4        2.40       22.00           2016-05-06      1   \n",
       "20086             0        1.55       22.00           2016-05-11      1   \n",
       "21702             9        2.35       23.40           2016-05-19      1   \n",
       "22652             5        2.65       26.00           2015-06-24      1   \n",
       "\n",
       "       ceiling_height  floors_total  living_area  floor is_apartment  ...  \\\n",
       "2389             2.65            12        17.08      8        False  ...   \n",
       "3187             2.65            14        18.00      8        False  ...   \n",
       "4180             2.80            10        21.00     10        False  ...   \n",
       "8683             3.00            23        29.90     11        False  ...   \n",
       "11026            2.65            26        19.00      6        False  ...   \n",
       "12935            2.50             8        22.30      5        False  ...   \n",
       "15142            2.65            21        26.00      6        False  ...   \n",
       "18732            2.65            10        15.00      6          NaN  ...   \n",
       "20086            2.70            15        10.94     14        False  ...   \n",
       "21702            2.70            20        16.00      8        False  ...   \n",
       "22652            2.65            14        15.00     11        False  ...   \n",
       "\n",
       "       ponds_around3000  ponds_nearest  days_exposition  one_square_price  \\\n",
       "2389                  2          485.0             26.0             88547   \n",
       "3187                  0            NaN             45.0            140740   \n",
       "4180                  1          433.0             62.0            132352   \n",
       "8683                  1          564.0             45.0            107692   \n",
       "11026                 0            NaN             45.0            100000   \n",
       "12935                 0            NaN             44.0             70967   \n",
       "15142                 0            NaN             55.0             90000   \n",
       "18732                 0            NaN             45.0            109090   \n",
       "20086                 0            NaN             45.0             70454   \n",
       "21702                 0            NaN             34.0            100384   \n",
       "22652                 0            NaN            373.0            101923   \n",
       "\n",
       "      year_exposition  month_exposition  weekday_exposition  \\\n",
       "2389             2016                 6                   1   \n",
       "3187             2016                 5                   1   \n",
       "4180             2016                 4                   0   \n",
       "8683             2016                 5                   3   \n",
       "11026            2016                 5                   2   \n",
       "12935            2016                 5                   6   \n",
       "15142            2016                 5                   1   \n",
       "18732            2016                 5                   4   \n",
       "20086            2016                 5                   2   \n",
       "21702            2016                 5                   3   \n",
       "22652            2015                 6                   2   \n",
       "\n",
       "       living_to_total_area  kitchen_to_total_area  floor_category_id  \n",
       "2389                   0.67                    NaN                  0  \n",
       "3187                   0.67                    NaN                  0  \n",
       "4180                   0.62                    NaN                  2  \n",
       "8683                   0.92                    NaN                  0  \n",
       "11026                  0.68                    NaN                  0  \n",
       "12935                  0.72                    NaN                  0  \n",
       "15142                  0.87                    NaN                  0  \n",
       "18732                  0.68                    NaN                  0  \n",
       "20086                  0.50                    NaN                  0  \n",
       "21702                  0.68                    NaN                  0  \n",
       "22652                  0.58                    NaN                  0  \n",
       "\n",
       "[11 rows x 29 columns]"
      ]
     },
     "execution_count": 34,
     "metadata": {},
     "output_type": "execute_result"
    }
   ],
   "source": [
    "data[(data['rooms'] != 0) & (data['studio'] == True)]"
   ]
  },
  {
   "cell_type": "code",
   "execution_count": 35,
   "metadata": {},
   "outputs": [
    {
     "data": {
      "text/html": [
       "<div>\n",
       "<style scoped>\n",
       "    .dataframe tbody tr th:only-of-type {\n",
       "        vertical-align: middle;\n",
       "    }\n",
       "\n",
       "    .dataframe tbody tr th {\n",
       "        vertical-align: top;\n",
       "    }\n",
       "\n",
       "    .dataframe thead th {\n",
       "        text-align: right;\n",
       "    }\n",
       "</style>\n",
       "<table border=\"1\" class=\"dataframe\">\n",
       "  <thead>\n",
       "    <tr style=\"text-align: right;\">\n",
       "      <th></th>\n",
       "      <th>total_images</th>\n",
       "      <th>last_price</th>\n",
       "      <th>total_area</th>\n",
       "      <th>first_day_exposition</th>\n",
       "      <th>rooms</th>\n",
       "      <th>ceiling_height</th>\n",
       "      <th>floors_total</th>\n",
       "      <th>living_area</th>\n",
       "      <th>floor</th>\n",
       "      <th>is_apartment</th>\n",
       "      <th>...</th>\n",
       "      <th>ponds_around3000</th>\n",
       "      <th>ponds_nearest</th>\n",
       "      <th>days_exposition</th>\n",
       "      <th>one_square_price</th>\n",
       "      <th>year_exposition</th>\n",
       "      <th>month_exposition</th>\n",
       "      <th>weekday_exposition</th>\n",
       "      <th>living_to_total_area</th>\n",
       "      <th>kitchen_to_total_area</th>\n",
       "      <th>floor_category_id</th>\n",
       "    </tr>\n",
       "  </thead>\n",
       "  <tbody>\n",
       "    <tr>\n",
       "      <th>349</th>\n",
       "      <td>4</td>\n",
       "      <td>2.32</td>\n",
       "      <td>25.00</td>\n",
       "      <td>2017-09-27</td>\n",
       "      <td>0</td>\n",
       "      <td>2.65</td>\n",
       "      <td>14</td>\n",
       "      <td>17.0</td>\n",
       "      <td>1</td>\n",
       "      <td>NaN</td>\n",
       "      <td>...</td>\n",
       "      <td>0</td>\n",
       "      <td>NaN</td>\n",
       "      <td>45.0</td>\n",
       "      <td>92800</td>\n",
       "      <td>2017</td>\n",
       "      <td>9</td>\n",
       "      <td>2</td>\n",
       "      <td>0.68</td>\n",
       "      <td>NaN</td>\n",
       "      <td>1</td>\n",
       "    </tr>\n",
       "    <tr>\n",
       "      <th>508</th>\n",
       "      <td>0</td>\n",
       "      <td>3.38</td>\n",
       "      <td>34.40</td>\n",
       "      <td>2017-03-28</td>\n",
       "      <td>0</td>\n",
       "      <td>2.65</td>\n",
       "      <td>26</td>\n",
       "      <td>24.3</td>\n",
       "      <td>19</td>\n",
       "      <td>NaN</td>\n",
       "      <td>...</td>\n",
       "      <td>1</td>\n",
       "      <td>593.0</td>\n",
       "      <td>430.0</td>\n",
       "      <td>98110</td>\n",
       "      <td>2017</td>\n",
       "      <td>3</td>\n",
       "      <td>1</td>\n",
       "      <td>0.71</td>\n",
       "      <td>NaN</td>\n",
       "      <td>0</td>\n",
       "    </tr>\n",
       "    <tr>\n",
       "      <th>780</th>\n",
       "      <td>9</td>\n",
       "      <td>2.60</td>\n",
       "      <td>26.10</td>\n",
       "      <td>2018-02-20</td>\n",
       "      <td>0</td>\n",
       "      <td>2.65</td>\n",
       "      <td>18</td>\n",
       "      <td>18.0</td>\n",
       "      <td>8</td>\n",
       "      <td>NaN</td>\n",
       "      <td>...</td>\n",
       "      <td>0</td>\n",
       "      <td>NaN</td>\n",
       "      <td>45.0</td>\n",
       "      <td>99616</td>\n",
       "      <td>2018</td>\n",
       "      <td>2</td>\n",
       "      <td>1</td>\n",
       "      <td>0.69</td>\n",
       "      <td>NaN</td>\n",
       "      <td>0</td>\n",
       "    </tr>\n",
       "    <tr>\n",
       "      <th>839</th>\n",
       "      <td>14</td>\n",
       "      <td>1.90</td>\n",
       "      <td>35.00</td>\n",
       "      <td>2017-04-14</td>\n",
       "      <td>0</td>\n",
       "      <td>2.70</td>\n",
       "      <td>5</td>\n",
       "      <td>15.0</td>\n",
       "      <td>3</td>\n",
       "      <td>False</td>\n",
       "      <td>...</td>\n",
       "      <td>0</td>\n",
       "      <td>NaN</td>\n",
       "      <td>7.0</td>\n",
       "      <td>54285</td>\n",
       "      <td>2017</td>\n",
       "      <td>4</td>\n",
       "      <td>4</td>\n",
       "      <td>0.43</td>\n",
       "      <td>NaN</td>\n",
       "      <td>0</td>\n",
       "    </tr>\n",
       "    <tr>\n",
       "      <th>946</th>\n",
       "      <td>5</td>\n",
       "      <td>2.20</td>\n",
       "      <td>23.00</td>\n",
       "      <td>2016-09-27</td>\n",
       "      <td>0</td>\n",
       "      <td>2.65</td>\n",
       "      <td>27</td>\n",
       "      <td>18.0</td>\n",
       "      <td>7</td>\n",
       "      <td>NaN</td>\n",
       "      <td>...</td>\n",
       "      <td>0</td>\n",
       "      <td>NaN</td>\n",
       "      <td>483.0</td>\n",
       "      <td>95652</td>\n",
       "      <td>2016</td>\n",
       "      <td>9</td>\n",
       "      <td>1</td>\n",
       "      <td>0.78</td>\n",
       "      <td>NaN</td>\n",
       "      <td>0</td>\n",
       "    </tr>\n",
       "    <tr>\n",
       "      <th>1574</th>\n",
       "      <td>0</td>\n",
       "      <td>2.20</td>\n",
       "      <td>22.00</td>\n",
       "      <td>2017-11-03</td>\n",
       "      <td>0</td>\n",
       "      <td>2.65</td>\n",
       "      <td>18</td>\n",
       "      <td>15.0</td>\n",
       "      <td>16</td>\n",
       "      <td>NaN</td>\n",
       "      <td>...</td>\n",
       "      <td>0</td>\n",
       "      <td>NaN</td>\n",
       "      <td>81.0</td>\n",
       "      <td>100000</td>\n",
       "      <td>2017</td>\n",
       "      <td>11</td>\n",
       "      <td>4</td>\n",
       "      <td>0.68</td>\n",
       "      <td>NaN</td>\n",
       "      <td>0</td>\n",
       "    </tr>\n",
       "    <tr>\n",
       "      <th>1625</th>\n",
       "      <td>7</td>\n",
       "      <td>1.98</td>\n",
       "      <td>23.98</td>\n",
       "      <td>2018-02-01</td>\n",
       "      <td>0</td>\n",
       "      <td>2.65</td>\n",
       "      <td>4</td>\n",
       "      <td>10.5</td>\n",
       "      <td>3</td>\n",
       "      <td>NaN</td>\n",
       "      <td>...</td>\n",
       "      <td>0</td>\n",
       "      <td>NaN</td>\n",
       "      <td>120.0</td>\n",
       "      <td>82568</td>\n",
       "      <td>2018</td>\n",
       "      <td>2</td>\n",
       "      <td>3</td>\n",
       "      <td>0.44</td>\n",
       "      <td>NaN</td>\n",
       "      <td>0</td>\n",
       "    </tr>\n",
       "    <tr>\n",
       "      <th>2532</th>\n",
       "      <td>5</td>\n",
       "      <td>3.50</td>\n",
       "      <td>27.10</td>\n",
       "      <td>2018-02-01</td>\n",
       "      <td>0</td>\n",
       "      <td>2.65</td>\n",
       "      <td>18</td>\n",
       "      <td>18.7</td>\n",
       "      <td>9</td>\n",
       "      <td>NaN</td>\n",
       "      <td>...</td>\n",
       "      <td>1</td>\n",
       "      <td>644.0</td>\n",
       "      <td>70.0</td>\n",
       "      <td>129151</td>\n",
       "      <td>2018</td>\n",
       "      <td>2</td>\n",
       "      <td>3</td>\n",
       "      <td>0.69</td>\n",
       "      <td>NaN</td>\n",
       "      <td>0</td>\n",
       "    </tr>\n",
       "    <tr>\n",
       "      <th>3019</th>\n",
       "      <td>18</td>\n",
       "      <td>2.10</td>\n",
       "      <td>24.00</td>\n",
       "      <td>2017-11-10</td>\n",
       "      <td>0</td>\n",
       "      <td>2.65</td>\n",
       "      <td>10</td>\n",
       "      <td>18.0</td>\n",
       "      <td>6</td>\n",
       "      <td>NaN</td>\n",
       "      <td>...</td>\n",
       "      <td>0</td>\n",
       "      <td>NaN</td>\n",
       "      <td>5.0</td>\n",
       "      <td>87500</td>\n",
       "      <td>2017</td>\n",
       "      <td>11</td>\n",
       "      <td>4</td>\n",
       "      <td>0.75</td>\n",
       "      <td>NaN</td>\n",
       "      <td>0</td>\n",
       "    </tr>\n",
       "    <tr>\n",
       "      <th>4115</th>\n",
       "      <td>7</td>\n",
       "      <td>2.60</td>\n",
       "      <td>24.00</td>\n",
       "      <td>2018-02-01</td>\n",
       "      <td>0</td>\n",
       "      <td>2.65</td>\n",
       "      <td>25</td>\n",
       "      <td>18.0</td>\n",
       "      <td>4</td>\n",
       "      <td>NaN</td>\n",
       "      <td>...</td>\n",
       "      <td>0</td>\n",
       "      <td>NaN</td>\n",
       "      <td>42.0</td>\n",
       "      <td>108333</td>\n",
       "      <td>2018</td>\n",
       "      <td>2</td>\n",
       "      <td>3</td>\n",
       "      <td>0.75</td>\n",
       "      <td>NaN</td>\n",
       "      <td>0</td>\n",
       "    </tr>\n",
       "    <tr>\n",
       "      <th>4437</th>\n",
       "      <td>10</td>\n",
       "      <td>3.20</td>\n",
       "      <td>25.00</td>\n",
       "      <td>2017-10-16</td>\n",
       "      <td>0</td>\n",
       "      <td>2.65</td>\n",
       "      <td>9</td>\n",
       "      <td>18.6</td>\n",
       "      <td>9</td>\n",
       "      <td>NaN</td>\n",
       "      <td>...</td>\n",
       "      <td>1</td>\n",
       "      <td>232.0</td>\n",
       "      <td>97.0</td>\n",
       "      <td>128000</td>\n",
       "      <td>2017</td>\n",
       "      <td>10</td>\n",
       "      <td>0</td>\n",
       "      <td>0.74</td>\n",
       "      <td>NaN</td>\n",
       "      <td>2</td>\n",
       "    </tr>\n",
       "    <tr>\n",
       "      <th>4683</th>\n",
       "      <td>2</td>\n",
       "      <td>3.65</td>\n",
       "      <td>35.00</td>\n",
       "      <td>2018-02-01</td>\n",
       "      <td>0</td>\n",
       "      <td>2.65</td>\n",
       "      <td>25</td>\n",
       "      <td>23.4</td>\n",
       "      <td>25</td>\n",
       "      <td>NaN</td>\n",
       "      <td>...</td>\n",
       "      <td>0</td>\n",
       "      <td>NaN</td>\n",
       "      <td>100.0</td>\n",
       "      <td>104285</td>\n",
       "      <td>2018</td>\n",
       "      <td>2</td>\n",
       "      <td>3</td>\n",
       "      <td>0.67</td>\n",
       "      <td>NaN</td>\n",
       "      <td>2</td>\n",
       "    </tr>\n",
       "    <tr>\n",
       "      <th>4876</th>\n",
       "      <td>7</td>\n",
       "      <td>3.00</td>\n",
       "      <td>25.00</td>\n",
       "      <td>2017-09-27</td>\n",
       "      <td>0</td>\n",
       "      <td>27.00</td>\n",
       "      <td>25</td>\n",
       "      <td>17.0</td>\n",
       "      <td>17</td>\n",
       "      <td>NaN</td>\n",
       "      <td>...</td>\n",
       "      <td>0</td>\n",
       "      <td>NaN</td>\n",
       "      <td>28.0</td>\n",
       "      <td>120000</td>\n",
       "      <td>2017</td>\n",
       "      <td>9</td>\n",
       "      <td>2</td>\n",
       "      <td>0.68</td>\n",
       "      <td>NaN</td>\n",
       "      <td>0</td>\n",
       "    </tr>\n",
       "    <tr>\n",
       "      <th>5749</th>\n",
       "      <td>20</td>\n",
       "      <td>3.59</td>\n",
       "      <td>25.00</td>\n",
       "      <td>2017-08-30</td>\n",
       "      <td>0</td>\n",
       "      <td>2.80</td>\n",
       "      <td>35</td>\n",
       "      <td>18.0</td>\n",
       "      <td>26</td>\n",
       "      <td>NaN</td>\n",
       "      <td>...</td>\n",
       "      <td>3</td>\n",
       "      <td>80.0</td>\n",
       "      <td>198.0</td>\n",
       "      <td>143600</td>\n",
       "      <td>2017</td>\n",
       "      <td>8</td>\n",
       "      <td>2</td>\n",
       "      <td>0.72</td>\n",
       "      <td>NaN</td>\n",
       "      <td>0</td>\n",
       "    </tr>\n",
       "    <tr>\n",
       "      <th>6472</th>\n",
       "      <td>13</td>\n",
       "      <td>3.62</td>\n",
       "      <td>28.00</td>\n",
       "      <td>2017-11-10</td>\n",
       "      <td>0</td>\n",
       "      <td>2.70</td>\n",
       "      <td>20</td>\n",
       "      <td>18.0</td>\n",
       "      <td>17</td>\n",
       "      <td>NaN</td>\n",
       "      <td>...</td>\n",
       "      <td>0</td>\n",
       "      <td>NaN</td>\n",
       "      <td>37.0</td>\n",
       "      <td>129285</td>\n",
       "      <td>2017</td>\n",
       "      <td>11</td>\n",
       "      <td>4</td>\n",
       "      <td>0.64</td>\n",
       "      <td>NaN</td>\n",
       "      <td>0</td>\n",
       "    </tr>\n",
       "    <tr>\n",
       "      <th>6612</th>\n",
       "      <td>18</td>\n",
       "      <td>3.59</td>\n",
       "      <td>26.80</td>\n",
       "      <td>2017-11-10</td>\n",
       "      <td>0</td>\n",
       "      <td>2.65</td>\n",
       "      <td>24</td>\n",
       "      <td>19.0</td>\n",
       "      <td>20</td>\n",
       "      <td>NaN</td>\n",
       "      <td>...</td>\n",
       "      <td>0</td>\n",
       "      <td>NaN</td>\n",
       "      <td>15.0</td>\n",
       "      <td>133955</td>\n",
       "      <td>2017</td>\n",
       "      <td>11</td>\n",
       "      <td>4</td>\n",
       "      <td>0.71</td>\n",
       "      <td>NaN</td>\n",
       "      <td>0</td>\n",
       "    </tr>\n",
       "    <tr>\n",
       "      <th>6805</th>\n",
       "      <td>7</td>\n",
       "      <td>1.85</td>\n",
       "      <td>31.00</td>\n",
       "      <td>2017-11-10</td>\n",
       "      <td>0</td>\n",
       "      <td>2.65</td>\n",
       "      <td>18</td>\n",
       "      <td>18.0</td>\n",
       "      <td>10</td>\n",
       "      <td>NaN</td>\n",
       "      <td>...</td>\n",
       "      <td>0</td>\n",
       "      <td>NaN</td>\n",
       "      <td>7.0</td>\n",
       "      <td>59677</td>\n",
       "      <td>2017</td>\n",
       "      <td>11</td>\n",
       "      <td>4</td>\n",
       "      <td>0.58</td>\n",
       "      <td>NaN</td>\n",
       "      <td>0</td>\n",
       "    </tr>\n",
       "    <tr>\n",
       "      <th>7008</th>\n",
       "      <td>4</td>\n",
       "      <td>5.20</td>\n",
       "      <td>32.30</td>\n",
       "      <td>2017-09-14</td>\n",
       "      <td>0</td>\n",
       "      <td>2.65</td>\n",
       "      <td>11</td>\n",
       "      <td>25.5</td>\n",
       "      <td>4</td>\n",
       "      <td>NaN</td>\n",
       "      <td>...</td>\n",
       "      <td>1</td>\n",
       "      <td>936.0</td>\n",
       "      <td>86.0</td>\n",
       "      <td>160990</td>\n",
       "      <td>2017</td>\n",
       "      <td>9</td>\n",
       "      <td>3</td>\n",
       "      <td>0.79</td>\n",
       "      <td>NaN</td>\n",
       "      <td>0</td>\n",
       "    </tr>\n",
       "    <tr>\n",
       "      <th>7237</th>\n",
       "      <td>8</td>\n",
       "      <td>3.00</td>\n",
       "      <td>42.63</td>\n",
       "      <td>2017-11-27</td>\n",
       "      <td>0</td>\n",
       "      <td>2.65</td>\n",
       "      <td>16</td>\n",
       "      <td>25.7</td>\n",
       "      <td>2</td>\n",
       "      <td>NaN</td>\n",
       "      <td>...</td>\n",
       "      <td>0</td>\n",
       "      <td>NaN</td>\n",
       "      <td>45.0</td>\n",
       "      <td>70349</td>\n",
       "      <td>2017</td>\n",
       "      <td>11</td>\n",
       "      <td>0</td>\n",
       "      <td>0.60</td>\n",
       "      <td>NaN</td>\n",
       "      <td>0</td>\n",
       "    </tr>\n",
       "    <tr>\n",
       "      <th>7286</th>\n",
       "      <td>6</td>\n",
       "      <td>2.58</td>\n",
       "      <td>30.00</td>\n",
       "      <td>2018-02-07</td>\n",
       "      <td>0</td>\n",
       "      <td>2.65</td>\n",
       "      <td>18</td>\n",
       "      <td>19.0</td>\n",
       "      <td>2</td>\n",
       "      <td>NaN</td>\n",
       "      <td>...</td>\n",
       "      <td>0</td>\n",
       "      <td>NaN</td>\n",
       "      <td>41.0</td>\n",
       "      <td>86000</td>\n",
       "      <td>2018</td>\n",
       "      <td>2</td>\n",
       "      <td>2</td>\n",
       "      <td>0.63</td>\n",
       "      <td>NaN</td>\n",
       "      <td>0</td>\n",
       "    </tr>\n",
       "    <tr>\n",
       "      <th>7818</th>\n",
       "      <td>11</td>\n",
       "      <td>3.30</td>\n",
       "      <td>27.30</td>\n",
       "      <td>2018-04-06</td>\n",
       "      <td>0</td>\n",
       "      <td>2.65</td>\n",
       "      <td>20</td>\n",
       "      <td>18.0</td>\n",
       "      <td>9</td>\n",
       "      <td>NaN</td>\n",
       "      <td>...</td>\n",
       "      <td>1</td>\n",
       "      <td>584.0</td>\n",
       "      <td>31.0</td>\n",
       "      <td>120879</td>\n",
       "      <td>2018</td>\n",
       "      <td>4</td>\n",
       "      <td>4</td>\n",
       "      <td>0.66</td>\n",
       "      <td>NaN</td>\n",
       "      <td>0</td>\n",
       "    </tr>\n",
       "    <tr>\n",
       "      <th>9412</th>\n",
       "      <td>5</td>\n",
       "      <td>2.10</td>\n",
       "      <td>16.00</td>\n",
       "      <td>2017-12-10</td>\n",
       "      <td>0</td>\n",
       "      <td>2.65</td>\n",
       "      <td>6</td>\n",
       "      <td>13.0</td>\n",
       "      <td>1</td>\n",
       "      <td>NaN</td>\n",
       "      <td>...</td>\n",
       "      <td>3</td>\n",
       "      <td>72.0</td>\n",
       "      <td>3.0</td>\n",
       "      <td>131250</td>\n",
       "      <td>2017</td>\n",
       "      <td>12</td>\n",
       "      <td>6</td>\n",
       "      <td>0.81</td>\n",
       "      <td>NaN</td>\n",
       "      <td>1</td>\n",
       "    </tr>\n",
       "    <tr>\n",
       "      <th>9586</th>\n",
       "      <td>7</td>\n",
       "      <td>1.67</td>\n",
       "      <td>28.30</td>\n",
       "      <td>2017-09-27</td>\n",
       "      <td>0</td>\n",
       "      <td>2.65</td>\n",
       "      <td>9</td>\n",
       "      <td>18.2</td>\n",
       "      <td>3</td>\n",
       "      <td>NaN</td>\n",
       "      <td>...</td>\n",
       "      <td>0</td>\n",
       "      <td>NaN</td>\n",
       "      <td>45.0</td>\n",
       "      <td>59010</td>\n",
       "      <td>2017</td>\n",
       "      <td>9</td>\n",
       "      <td>2</td>\n",
       "      <td>0.64</td>\n",
       "      <td>NaN</td>\n",
       "      <td>0</td>\n",
       "    </tr>\n",
       "    <tr>\n",
       "      <th>9861</th>\n",
       "      <td>10</td>\n",
       "      <td>2.35</td>\n",
       "      <td>25.00</td>\n",
       "      <td>2017-12-03</td>\n",
       "      <td>0</td>\n",
       "      <td>2.65</td>\n",
       "      <td>22</td>\n",
       "      <td>25.0</td>\n",
       "      <td>17</td>\n",
       "      <td>NaN</td>\n",
       "      <td>...</td>\n",
       "      <td>0</td>\n",
       "      <td>NaN</td>\n",
       "      <td>13.0</td>\n",
       "      <td>94000</td>\n",
       "      <td>2017</td>\n",
       "      <td>12</td>\n",
       "      <td>6</td>\n",
       "      <td>1.00</td>\n",
       "      <td>NaN</td>\n",
       "      <td>0</td>\n",
       "    </tr>\n",
       "    <tr>\n",
       "      <th>10284</th>\n",
       "      <td>9</td>\n",
       "      <td>2.70</td>\n",
       "      <td>24.00</td>\n",
       "      <td>2017-01-23</td>\n",
       "      <td>0</td>\n",
       "      <td>2.65</td>\n",
       "      <td>12</td>\n",
       "      <td>15.5</td>\n",
       "      <td>11</td>\n",
       "      <td>NaN</td>\n",
       "      <td>...</td>\n",
       "      <td>0</td>\n",
       "      <td>NaN</td>\n",
       "      <td>357.0</td>\n",
       "      <td>112500</td>\n",
       "      <td>2017</td>\n",
       "      <td>1</td>\n",
       "      <td>0</td>\n",
       "      <td>0.65</td>\n",
       "      <td>NaN</td>\n",
       "      <td>0</td>\n",
       "    </tr>\n",
       "    <tr>\n",
       "      <th>10606</th>\n",
       "      <td>14</td>\n",
       "      <td>2.95</td>\n",
       "      <td>25.27</td>\n",
       "      <td>2017-11-17</td>\n",
       "      <td>0</td>\n",
       "      <td>2.65</td>\n",
       "      <td>25</td>\n",
       "      <td>25.0</td>\n",
       "      <td>11</td>\n",
       "      <td>NaN</td>\n",
       "      <td>...</td>\n",
       "      <td>1</td>\n",
       "      <td>623.0</td>\n",
       "      <td>51.0</td>\n",
       "      <td>116739</td>\n",
       "      <td>2017</td>\n",
       "      <td>11</td>\n",
       "      <td>4</td>\n",
       "      <td>0.99</td>\n",
       "      <td>NaN</td>\n",
       "      <td>0</td>\n",
       "    </tr>\n",
       "    <tr>\n",
       "      <th>11035</th>\n",
       "      <td>1</td>\n",
       "      <td>2.50</td>\n",
       "      <td>26.00</td>\n",
       "      <td>2017-11-10</td>\n",
       "      <td>0</td>\n",
       "      <td>2.65</td>\n",
       "      <td>8</td>\n",
       "      <td>14.0</td>\n",
       "      <td>6</td>\n",
       "      <td>NaN</td>\n",
       "      <td>...</td>\n",
       "      <td>0</td>\n",
       "      <td>NaN</td>\n",
       "      <td>22.0</td>\n",
       "      <td>96153</td>\n",
       "      <td>2017</td>\n",
       "      <td>11</td>\n",
       "      <td>4</td>\n",
       "      <td>0.54</td>\n",
       "      <td>NaN</td>\n",
       "      <td>0</td>\n",
       "    </tr>\n",
       "    <tr>\n",
       "      <th>11051</th>\n",
       "      <td>2</td>\n",
       "      <td>2.20</td>\n",
       "      <td>26.00</td>\n",
       "      <td>2017-10-24</td>\n",
       "      <td>0</td>\n",
       "      <td>2.65</td>\n",
       "      <td>21</td>\n",
       "      <td>12.0</td>\n",
       "      <td>21</td>\n",
       "      <td>NaN</td>\n",
       "      <td>...</td>\n",
       "      <td>0</td>\n",
       "      <td>NaN</td>\n",
       "      <td>35.0</td>\n",
       "      <td>84615</td>\n",
       "      <td>2017</td>\n",
       "      <td>10</td>\n",
       "      <td>1</td>\n",
       "      <td>0.46</td>\n",
       "      <td>NaN</td>\n",
       "      <td>2</td>\n",
       "    </tr>\n",
       "    <tr>\n",
       "      <th>11157</th>\n",
       "      <td>0</td>\n",
       "      <td>2.90</td>\n",
       "      <td>27.30</td>\n",
       "      <td>2017-11-22</td>\n",
       "      <td>0</td>\n",
       "      <td>2.80</td>\n",
       "      <td>8</td>\n",
       "      <td>20.0</td>\n",
       "      <td>5</td>\n",
       "      <td>NaN</td>\n",
       "      <td>...</td>\n",
       "      <td>0</td>\n",
       "      <td>NaN</td>\n",
       "      <td>9.0</td>\n",
       "      <td>106227</td>\n",
       "      <td>2017</td>\n",
       "      <td>11</td>\n",
       "      <td>2</td>\n",
       "      <td>0.73</td>\n",
       "      <td>NaN</td>\n",
       "      <td>0</td>\n",
       "    </tr>\n",
       "    <tr>\n",
       "      <th>11331</th>\n",
       "      <td>6</td>\n",
       "      <td>1.32</td>\n",
       "      <td>27.32</td>\n",
       "      <td>2017-09-29</td>\n",
       "      <td>0</td>\n",
       "      <td>2.70</td>\n",
       "      <td>15</td>\n",
       "      <td>18.7</td>\n",
       "      <td>15</td>\n",
       "      <td>NaN</td>\n",
       "      <td>...</td>\n",
       "      <td>0</td>\n",
       "      <td>NaN</td>\n",
       "      <td>116.0</td>\n",
       "      <td>48133</td>\n",
       "      <td>2017</td>\n",
       "      <td>9</td>\n",
       "      <td>4</td>\n",
       "      <td>0.68</td>\n",
       "      <td>NaN</td>\n",
       "      <td>2</td>\n",
       "    </tr>\n",
       "    <tr>\n",
       "      <th>11692</th>\n",
       "      <td>0</td>\n",
       "      <td>2.55</td>\n",
       "      <td>23.06</td>\n",
       "      <td>2017-10-24</td>\n",
       "      <td>0</td>\n",
       "      <td>2.80</td>\n",
       "      <td>14</td>\n",
       "      <td>18.0</td>\n",
       "      <td>9</td>\n",
       "      <td>NaN</td>\n",
       "      <td>...</td>\n",
       "      <td>0</td>\n",
       "      <td>NaN</td>\n",
       "      <td>20.0</td>\n",
       "      <td>110581</td>\n",
       "      <td>2017</td>\n",
       "      <td>10</td>\n",
       "      <td>1</td>\n",
       "      <td>0.78</td>\n",
       "      <td>NaN</td>\n",
       "      <td>0</td>\n",
       "    </tr>\n",
       "    <tr>\n",
       "      <th>11705</th>\n",
       "      <td>5</td>\n",
       "      <td>3.38</td>\n",
       "      <td>26.00</td>\n",
       "      <td>2018-02-20</td>\n",
       "      <td>0</td>\n",
       "      <td>2.80</td>\n",
       "      <td>17</td>\n",
       "      <td>17.0</td>\n",
       "      <td>8</td>\n",
       "      <td>NaN</td>\n",
       "      <td>...</td>\n",
       "      <td>1</td>\n",
       "      <td>802.0</td>\n",
       "      <td>45.0</td>\n",
       "      <td>130000</td>\n",
       "      <td>2018</td>\n",
       "      <td>2</td>\n",
       "      <td>1</td>\n",
       "      <td>0.65</td>\n",
       "      <td>NaN</td>\n",
       "      <td>0</td>\n",
       "    </tr>\n",
       "    <tr>\n",
       "      <th>12412</th>\n",
       "      <td>0</td>\n",
       "      <td>3.30</td>\n",
       "      <td>27.00</td>\n",
       "      <td>2017-08-15</td>\n",
       "      <td>0</td>\n",
       "      <td>2.65</td>\n",
       "      <td>25</td>\n",
       "      <td>25.0</td>\n",
       "      <td>22</td>\n",
       "      <td>NaN</td>\n",
       "      <td>...</td>\n",
       "      <td>1</td>\n",
       "      <td>337.0</td>\n",
       "      <td>161.0</td>\n",
       "      <td>122222</td>\n",
       "      <td>2017</td>\n",
       "      <td>8</td>\n",
       "      <td>1</td>\n",
       "      <td>0.93</td>\n",
       "      <td>NaN</td>\n",
       "      <td>0</td>\n",
       "    </tr>\n",
       "    <tr>\n",
       "      <th>12691</th>\n",
       "      <td>1</td>\n",
       "      <td>3.70</td>\n",
       "      <td>24.20</td>\n",
       "      <td>2017-11-10</td>\n",
       "      <td>0</td>\n",
       "      <td>2.65</td>\n",
       "      <td>19</td>\n",
       "      <td>24.2</td>\n",
       "      <td>13</td>\n",
       "      <td>NaN</td>\n",
       "      <td>...</td>\n",
       "      <td>2</td>\n",
       "      <td>210.0</td>\n",
       "      <td>74.0</td>\n",
       "      <td>152892</td>\n",
       "      <td>2017</td>\n",
       "      <td>11</td>\n",
       "      <td>4</td>\n",
       "      <td>1.00</td>\n",
       "      <td>NaN</td>\n",
       "      <td>0</td>\n",
       "    </tr>\n",
       "    <tr>\n",
       "      <th>13953</th>\n",
       "      <td>21</td>\n",
       "      <td>3.26</td>\n",
       "      <td>28.20</td>\n",
       "      <td>2017-09-26</td>\n",
       "      <td>0</td>\n",
       "      <td>2.65</td>\n",
       "      <td>24</td>\n",
       "      <td>20.0</td>\n",
       "      <td>2</td>\n",
       "      <td>NaN</td>\n",
       "      <td>...</td>\n",
       "      <td>0</td>\n",
       "      <td>NaN</td>\n",
       "      <td>119.0</td>\n",
       "      <td>115425</td>\n",
       "      <td>2017</td>\n",
       "      <td>9</td>\n",
       "      <td>1</td>\n",
       "      <td>0.71</td>\n",
       "      <td>NaN</td>\n",
       "      <td>0</td>\n",
       "    </tr>\n",
       "    <tr>\n",
       "      <th>15105</th>\n",
       "      <td>8</td>\n",
       "      <td>2.50</td>\n",
       "      <td>26.10</td>\n",
       "      <td>2017-12-01</td>\n",
       "      <td>0</td>\n",
       "      <td>2.65</td>\n",
       "      <td>25</td>\n",
       "      <td>18.0</td>\n",
       "      <td>4</td>\n",
       "      <td>NaN</td>\n",
       "      <td>...</td>\n",
       "      <td>0</td>\n",
       "      <td>NaN</td>\n",
       "      <td>45.0</td>\n",
       "      <td>95785</td>\n",
       "      <td>2017</td>\n",
       "      <td>12</td>\n",
       "      <td>4</td>\n",
       "      <td>0.69</td>\n",
       "      <td>NaN</td>\n",
       "      <td>0</td>\n",
       "    </tr>\n",
       "    <tr>\n",
       "      <th>15273</th>\n",
       "      <td>9</td>\n",
       "      <td>2.70</td>\n",
       "      <td>25.20</td>\n",
       "      <td>2017-11-10</td>\n",
       "      <td>0</td>\n",
       "      <td>2.65</td>\n",
       "      <td>9</td>\n",
       "      <td>15.2</td>\n",
       "      <td>2</td>\n",
       "      <td>NaN</td>\n",
       "      <td>...</td>\n",
       "      <td>0</td>\n",
       "      <td>NaN</td>\n",
       "      <td>23.0</td>\n",
       "      <td>107142</td>\n",
       "      <td>2017</td>\n",
       "      <td>11</td>\n",
       "      <td>4</td>\n",
       "      <td>0.60</td>\n",
       "      <td>NaN</td>\n",
       "      <td>0</td>\n",
       "    </tr>\n",
       "    <tr>\n",
       "      <th>15434</th>\n",
       "      <td>0</td>\n",
       "      <td>2.20</td>\n",
       "      <td>27.00</td>\n",
       "      <td>2017-01-01</td>\n",
       "      <td>0</td>\n",
       "      <td>2.65</td>\n",
       "      <td>25</td>\n",
       "      <td>15.0</td>\n",
       "      <td>5</td>\n",
       "      <td>NaN</td>\n",
       "      <td>...</td>\n",
       "      <td>3</td>\n",
       "      <td>865.0</td>\n",
       "      <td>336.0</td>\n",
       "      <td>81481</td>\n",
       "      <td>2017</td>\n",
       "      <td>1</td>\n",
       "      <td>6</td>\n",
       "      <td>0.56</td>\n",
       "      <td>NaN</td>\n",
       "      <td>0</td>\n",
       "    </tr>\n",
       "    <tr>\n",
       "      <th>16429</th>\n",
       "      <td>2</td>\n",
       "      <td>2.46</td>\n",
       "      <td>28.01</td>\n",
       "      <td>2017-08-17</td>\n",
       "      <td>0</td>\n",
       "      <td>2.65</td>\n",
       "      <td>17</td>\n",
       "      <td>18.1</td>\n",
       "      <td>5</td>\n",
       "      <td>NaN</td>\n",
       "      <td>...</td>\n",
       "      <td>0</td>\n",
       "      <td>NaN</td>\n",
       "      <td>15.0</td>\n",
       "      <td>87825</td>\n",
       "      <td>2017</td>\n",
       "      <td>8</td>\n",
       "      <td>3</td>\n",
       "      <td>0.65</td>\n",
       "      <td>NaN</td>\n",
       "      <td>0</td>\n",
       "    </tr>\n",
       "    <tr>\n",
       "      <th>17695</th>\n",
       "      <td>7</td>\n",
       "      <td>2.55</td>\n",
       "      <td>24.00</td>\n",
       "      <td>2017-12-16</td>\n",
       "      <td>0</td>\n",
       "      <td>2.65</td>\n",
       "      <td>23</td>\n",
       "      <td>17.0</td>\n",
       "      <td>8</td>\n",
       "      <td>NaN</td>\n",
       "      <td>...</td>\n",
       "      <td>0</td>\n",
       "      <td>NaN</td>\n",
       "      <td>38.0</td>\n",
       "      <td>106250</td>\n",
       "      <td>2017</td>\n",
       "      <td>12</td>\n",
       "      <td>5</td>\n",
       "      <td>0.71</td>\n",
       "      <td>NaN</td>\n",
       "      <td>0</td>\n",
       "    </tr>\n",
       "    <tr>\n",
       "      <th>17729</th>\n",
       "      <td>7</td>\n",
       "      <td>2.95</td>\n",
       "      <td>28.05</td>\n",
       "      <td>2017-12-09</td>\n",
       "      <td>0</td>\n",
       "      <td>2.65</td>\n",
       "      <td>14</td>\n",
       "      <td>21.8</td>\n",
       "      <td>9</td>\n",
       "      <td>NaN</td>\n",
       "      <td>...</td>\n",
       "      <td>2</td>\n",
       "      <td>100.0</td>\n",
       "      <td>45.0</td>\n",
       "      <td>105098</td>\n",
       "      <td>2017</td>\n",
       "      <td>12</td>\n",
       "      <td>5</td>\n",
       "      <td>0.78</td>\n",
       "      <td>NaN</td>\n",
       "      <td>0</td>\n",
       "    </tr>\n",
       "    <tr>\n",
       "      <th>17805</th>\n",
       "      <td>17</td>\n",
       "      <td>2.60</td>\n",
       "      <td>31.10</td>\n",
       "      <td>2017-10-25</td>\n",
       "      <td>0</td>\n",
       "      <td>2.65</td>\n",
       "      <td>16</td>\n",
       "      <td>21.4</td>\n",
       "      <td>14</td>\n",
       "      <td>NaN</td>\n",
       "      <td>...</td>\n",
       "      <td>1</td>\n",
       "      <td>457.0</td>\n",
       "      <td>44.0</td>\n",
       "      <td>83601</td>\n",
       "      <td>2017</td>\n",
       "      <td>10</td>\n",
       "      <td>2</td>\n",
       "      <td>0.69</td>\n",
       "      <td>NaN</td>\n",
       "      <td>0</td>\n",
       "    </tr>\n",
       "    <tr>\n",
       "      <th>17824</th>\n",
       "      <td>10</td>\n",
       "      <td>2.30</td>\n",
       "      <td>22.50</td>\n",
       "      <td>2017-09-27</td>\n",
       "      <td>0</td>\n",
       "      <td>2.65</td>\n",
       "      <td>22</td>\n",
       "      <td>20.0</td>\n",
       "      <td>7</td>\n",
       "      <td>NaN</td>\n",
       "      <td>...</td>\n",
       "      <td>0</td>\n",
       "      <td>NaN</td>\n",
       "      <td>11.0</td>\n",
       "      <td>102222</td>\n",
       "      <td>2017</td>\n",
       "      <td>9</td>\n",
       "      <td>2</td>\n",
       "      <td>0.89</td>\n",
       "      <td>NaN</td>\n",
       "      <td>0</td>\n",
       "    </tr>\n",
       "    <tr>\n",
       "      <th>18042</th>\n",
       "      <td>15</td>\n",
       "      <td>2.95</td>\n",
       "      <td>25.90</td>\n",
       "      <td>2017-12-09</td>\n",
       "      <td>0</td>\n",
       "      <td>2.65</td>\n",
       "      <td>14</td>\n",
       "      <td>16.9</td>\n",
       "      <td>9</td>\n",
       "      <td>NaN</td>\n",
       "      <td>...</td>\n",
       "      <td>1</td>\n",
       "      <td>893.0</td>\n",
       "      <td>45.0</td>\n",
       "      <td>113899</td>\n",
       "      <td>2017</td>\n",
       "      <td>12</td>\n",
       "      <td>5</td>\n",
       "      <td>0.65</td>\n",
       "      <td>NaN</td>\n",
       "      <td>0</td>\n",
       "    </tr>\n",
       "    <tr>\n",
       "      <th>18549</th>\n",
       "      <td>16</td>\n",
       "      <td>3.70</td>\n",
       "      <td>29.00</td>\n",
       "      <td>2017-11-11</td>\n",
       "      <td>0</td>\n",
       "      <td>2.65</td>\n",
       "      <td>16</td>\n",
       "      <td>19.0</td>\n",
       "      <td>11</td>\n",
       "      <td>NaN</td>\n",
       "      <td>...</td>\n",
       "      <td>0</td>\n",
       "      <td>NaN</td>\n",
       "      <td>70.0</td>\n",
       "      <td>127551</td>\n",
       "      <td>2017</td>\n",
       "      <td>11</td>\n",
       "      <td>5</td>\n",
       "      <td>0.66</td>\n",
       "      <td>NaN</td>\n",
       "      <td>0</td>\n",
       "    </tr>\n",
       "    <tr>\n",
       "      <th>18782</th>\n",
       "      <td>0</td>\n",
       "      <td>2.50</td>\n",
       "      <td>25.00</td>\n",
       "      <td>2017-10-08</td>\n",
       "      <td>0</td>\n",
       "      <td>2.65</td>\n",
       "      <td>22</td>\n",
       "      <td>17.0</td>\n",
       "      <td>19</td>\n",
       "      <td>NaN</td>\n",
       "      <td>...</td>\n",
       "      <td>0</td>\n",
       "      <td>NaN</td>\n",
       "      <td>8.0</td>\n",
       "      <td>100000</td>\n",
       "      <td>2017</td>\n",
       "      <td>10</td>\n",
       "      <td>6</td>\n",
       "      <td>0.68</td>\n",
       "      <td>NaN</td>\n",
       "      <td>0</td>\n",
       "    </tr>\n",
       "    <tr>\n",
       "      <th>19392</th>\n",
       "      <td>5</td>\n",
       "      <td>71.00</td>\n",
       "      <td>371.00</td>\n",
       "      <td>2018-07-26</td>\n",
       "      <td>0</td>\n",
       "      <td>3.57</td>\n",
       "      <td>7</td>\n",
       "      <td>18.0</td>\n",
       "      <td>6</td>\n",
       "      <td>NaN</td>\n",
       "      <td>...</td>\n",
       "      <td>1</td>\n",
       "      <td>584.0</td>\n",
       "      <td>90.0</td>\n",
       "      <td>191374</td>\n",
       "      <td>2018</td>\n",
       "      <td>7</td>\n",
       "      <td>3</td>\n",
       "      <td>0.05</td>\n",
       "      <td>NaN</td>\n",
       "      <td>0</td>\n",
       "    </tr>\n",
       "    <tr>\n",
       "      <th>19477</th>\n",
       "      <td>11</td>\n",
       "      <td>2.30</td>\n",
       "      <td>20.00</td>\n",
       "      <td>2017-11-10</td>\n",
       "      <td>0</td>\n",
       "      <td>2.65</td>\n",
       "      <td>10</td>\n",
       "      <td>16.0</td>\n",
       "      <td>1</td>\n",
       "      <td>NaN</td>\n",
       "      <td>...</td>\n",
       "      <td>1</td>\n",
       "      <td>815.0</td>\n",
       "      <td>35.0</td>\n",
       "      <td>115000</td>\n",
       "      <td>2017</td>\n",
       "      <td>11</td>\n",
       "      <td>4</td>\n",
       "      <td>0.80</td>\n",
       "      <td>NaN</td>\n",
       "      <td>1</td>\n",
       "    </tr>\n",
       "    <tr>\n",
       "      <th>19735</th>\n",
       "      <td>1</td>\n",
       "      <td>2.80</td>\n",
       "      <td>30.50</td>\n",
       "      <td>2017-10-10</td>\n",
       "      <td>0</td>\n",
       "      <td>2.75</td>\n",
       "      <td>25</td>\n",
       "      <td>20.0</td>\n",
       "      <td>2</td>\n",
       "      <td>NaN</td>\n",
       "      <td>...</td>\n",
       "      <td>0</td>\n",
       "      <td>NaN</td>\n",
       "      <td>13.0</td>\n",
       "      <td>91803</td>\n",
       "      <td>2017</td>\n",
       "      <td>10</td>\n",
       "      <td>1</td>\n",
       "      <td>0.66</td>\n",
       "      <td>NaN</td>\n",
       "      <td>0</td>\n",
       "    </tr>\n",
       "    <tr>\n",
       "      <th>19917</th>\n",
       "      <td>5</td>\n",
       "      <td>2.34</td>\n",
       "      <td>25.41</td>\n",
       "      <td>2017-09-29</td>\n",
       "      <td>0</td>\n",
       "      <td>2.65</td>\n",
       "      <td>25</td>\n",
       "      <td>18.5</td>\n",
       "      <td>13</td>\n",
       "      <td>NaN</td>\n",
       "      <td>...</td>\n",
       "      <td>0</td>\n",
       "      <td>NaN</td>\n",
       "      <td>3.0</td>\n",
       "      <td>92089</td>\n",
       "      <td>2017</td>\n",
       "      <td>9</td>\n",
       "      <td>4</td>\n",
       "      <td>0.73</td>\n",
       "      <td>NaN</td>\n",
       "      <td>0</td>\n",
       "    </tr>\n",
       "    <tr>\n",
       "      <th>20002</th>\n",
       "      <td>8</td>\n",
       "      <td>2.70</td>\n",
       "      <td>28.00</td>\n",
       "      <td>2017-11-10</td>\n",
       "      <td>0</td>\n",
       "      <td>2.65</td>\n",
       "      <td>21</td>\n",
       "      <td>20.0</td>\n",
       "      <td>6</td>\n",
       "      <td>NaN</td>\n",
       "      <td>...</td>\n",
       "      <td>1</td>\n",
       "      <td>170.0</td>\n",
       "      <td>17.0</td>\n",
       "      <td>96428</td>\n",
       "      <td>2017</td>\n",
       "      <td>11</td>\n",
       "      <td>4</td>\n",
       "      <td>0.71</td>\n",
       "      <td>NaN</td>\n",
       "      <td>0</td>\n",
       "    </tr>\n",
       "    <tr>\n",
       "      <th>20045</th>\n",
       "      <td>3</td>\n",
       "      <td>3.10</td>\n",
       "      <td>25.00</td>\n",
       "      <td>2017-09-27</td>\n",
       "      <td>0</td>\n",
       "      <td>2.65</td>\n",
       "      <td>24</td>\n",
       "      <td>18.0</td>\n",
       "      <td>24</td>\n",
       "      <td>NaN</td>\n",
       "      <td>...</td>\n",
       "      <td>0</td>\n",
       "      <td>NaN</td>\n",
       "      <td>7.0</td>\n",
       "      <td>124000</td>\n",
       "      <td>2017</td>\n",
       "      <td>9</td>\n",
       "      <td>2</td>\n",
       "      <td>0.72</td>\n",
       "      <td>NaN</td>\n",
       "      <td>2</td>\n",
       "    </tr>\n",
       "    <tr>\n",
       "      <th>20054</th>\n",
       "      <td>5</td>\n",
       "      <td>2.73</td>\n",
       "      <td>21.00</td>\n",
       "      <td>2017-11-22</td>\n",
       "      <td>0</td>\n",
       "      <td>2.65</td>\n",
       "      <td>9</td>\n",
       "      <td>14.0</td>\n",
       "      <td>6</td>\n",
       "      <td>NaN</td>\n",
       "      <td>...</td>\n",
       "      <td>0</td>\n",
       "      <td>NaN</td>\n",
       "      <td>45.0</td>\n",
       "      <td>130000</td>\n",
       "      <td>2017</td>\n",
       "      <td>11</td>\n",
       "      <td>2</td>\n",
       "      <td>0.67</td>\n",
       "      <td>NaN</td>\n",
       "      <td>0</td>\n",
       "    </tr>\n",
       "    <tr>\n",
       "      <th>20793</th>\n",
       "      <td>13</td>\n",
       "      <td>3.60</td>\n",
       "      <td>27.50</td>\n",
       "      <td>2017-11-10</td>\n",
       "      <td>0</td>\n",
       "      <td>2.65</td>\n",
       "      <td>24</td>\n",
       "      <td>19.0</td>\n",
       "      <td>23</td>\n",
       "      <td>NaN</td>\n",
       "      <td>...</td>\n",
       "      <td>1</td>\n",
       "      <td>527.0</td>\n",
       "      <td>74.0</td>\n",
       "      <td>130909</td>\n",
       "      <td>2017</td>\n",
       "      <td>11</td>\n",
       "      <td>4</td>\n",
       "      <td>0.69</td>\n",
       "      <td>NaN</td>\n",
       "      <td>0</td>\n",
       "    </tr>\n",
       "    <tr>\n",
       "      <th>21299</th>\n",
       "      <td>13</td>\n",
       "      <td>2.45</td>\n",
       "      <td>28.50</td>\n",
       "      <td>2017-11-22</td>\n",
       "      <td>0</td>\n",
       "      <td>2.65</td>\n",
       "      <td>12</td>\n",
       "      <td>18.0</td>\n",
       "      <td>7</td>\n",
       "      <td>NaN</td>\n",
       "      <td>...</td>\n",
       "      <td>1</td>\n",
       "      <td>579.0</td>\n",
       "      <td>73.0</td>\n",
       "      <td>85964</td>\n",
       "      <td>2017</td>\n",
       "      <td>11</td>\n",
       "      <td>2</td>\n",
       "      <td>0.63</td>\n",
       "      <td>NaN</td>\n",
       "      <td>0</td>\n",
       "    </tr>\n",
       "    <tr>\n",
       "      <th>21628</th>\n",
       "      <td>9</td>\n",
       "      <td>3.90</td>\n",
       "      <td>34.00</td>\n",
       "      <td>2017-03-18</td>\n",
       "      <td>0</td>\n",
       "      <td>2.65</td>\n",
       "      <td>20</td>\n",
       "      <td>24.0</td>\n",
       "      <td>10</td>\n",
       "      <td>NaN</td>\n",
       "      <td>...</td>\n",
       "      <td>1</td>\n",
       "      <td>767.0</td>\n",
       "      <td>320.0</td>\n",
       "      <td>114705</td>\n",
       "      <td>2017</td>\n",
       "      <td>3</td>\n",
       "      <td>5</td>\n",
       "      <td>0.71</td>\n",
       "      <td>NaN</td>\n",
       "      <td>0</td>\n",
       "    </tr>\n",
       "    <tr>\n",
       "      <th>22573</th>\n",
       "      <td>8</td>\n",
       "      <td>2.25</td>\n",
       "      <td>24.00</td>\n",
       "      <td>2017-09-28</td>\n",
       "      <td>0</td>\n",
       "      <td>2.65</td>\n",
       "      <td>12</td>\n",
       "      <td>15.0</td>\n",
       "      <td>3</td>\n",
       "      <td>NaN</td>\n",
       "      <td>...</td>\n",
       "      <td>0</td>\n",
       "      <td>NaN</td>\n",
       "      <td>45.0</td>\n",
       "      <td>93750</td>\n",
       "      <td>2017</td>\n",
       "      <td>9</td>\n",
       "      <td>3</td>\n",
       "      <td>0.62</td>\n",
       "      <td>NaN</td>\n",
       "      <td>0</td>\n",
       "    </tr>\n",
       "    <tr>\n",
       "      <th>23442</th>\n",
       "      <td>0</td>\n",
       "      <td>2.50</td>\n",
       "      <td>27.70</td>\n",
       "      <td>2017-09-28</td>\n",
       "      <td>0</td>\n",
       "      <td>2.65</td>\n",
       "      <td>24</td>\n",
       "      <td>18.0</td>\n",
       "      <td>4</td>\n",
       "      <td>NaN</td>\n",
       "      <td>...</td>\n",
       "      <td>0</td>\n",
       "      <td>NaN</td>\n",
       "      <td>4.0</td>\n",
       "      <td>90252</td>\n",
       "      <td>2017</td>\n",
       "      <td>9</td>\n",
       "      <td>3</td>\n",
       "      <td>0.65</td>\n",
       "      <td>NaN</td>\n",
       "      <td>0</td>\n",
       "    </tr>\n",
       "    <tr>\n",
       "      <th>23592</th>\n",
       "      <td>10</td>\n",
       "      <td>1.45</td>\n",
       "      <td>29.00</td>\n",
       "      <td>2017-11-11</td>\n",
       "      <td>0</td>\n",
       "      <td>2.65</td>\n",
       "      <td>9</td>\n",
       "      <td>18.0</td>\n",
       "      <td>8</td>\n",
       "      <td>NaN</td>\n",
       "      <td>...</td>\n",
       "      <td>0</td>\n",
       "      <td>NaN</td>\n",
       "      <td>82.0</td>\n",
       "      <td>50000</td>\n",
       "      <td>2017</td>\n",
       "      <td>11</td>\n",
       "      <td>5</td>\n",
       "      <td>0.62</td>\n",
       "      <td>NaN</td>\n",
       "      <td>0</td>\n",
       "    </tr>\n",
       "  </tbody>\n",
       "</table>\n",
       "<p>59 rows × 29 columns</p>\n",
       "</div>"
      ],
      "text/plain": [
       "       total_images  last_price  total_area first_day_exposition  rooms  \\\n",
       "349               4        2.32       25.00           2017-09-27      0   \n",
       "508               0        3.38       34.40           2017-03-28      0   \n",
       "780               9        2.60       26.10           2018-02-20      0   \n",
       "839              14        1.90       35.00           2017-04-14      0   \n",
       "946               5        2.20       23.00           2016-09-27      0   \n",
       "1574              0        2.20       22.00           2017-11-03      0   \n",
       "1625              7        1.98       23.98           2018-02-01      0   \n",
       "2532              5        3.50       27.10           2018-02-01      0   \n",
       "3019             18        2.10       24.00           2017-11-10      0   \n",
       "4115              7        2.60       24.00           2018-02-01      0   \n",
       "4437             10        3.20       25.00           2017-10-16      0   \n",
       "4683              2        3.65       35.00           2018-02-01      0   \n",
       "4876              7        3.00       25.00           2017-09-27      0   \n",
       "5749             20        3.59       25.00           2017-08-30      0   \n",
       "6472             13        3.62       28.00           2017-11-10      0   \n",
       "6612             18        3.59       26.80           2017-11-10      0   \n",
       "6805              7        1.85       31.00           2017-11-10      0   \n",
       "7008              4        5.20       32.30           2017-09-14      0   \n",
       "7237              8        3.00       42.63           2017-11-27      0   \n",
       "7286              6        2.58       30.00           2018-02-07      0   \n",
       "7818             11        3.30       27.30           2018-04-06      0   \n",
       "9412              5        2.10       16.00           2017-12-10      0   \n",
       "9586              7        1.67       28.30           2017-09-27      0   \n",
       "9861             10        2.35       25.00           2017-12-03      0   \n",
       "10284             9        2.70       24.00           2017-01-23      0   \n",
       "10606            14        2.95       25.27           2017-11-17      0   \n",
       "11035             1        2.50       26.00           2017-11-10      0   \n",
       "11051             2        2.20       26.00           2017-10-24      0   \n",
       "11157             0        2.90       27.30           2017-11-22      0   \n",
       "11331             6        1.32       27.32           2017-09-29      0   \n",
       "11692             0        2.55       23.06           2017-10-24      0   \n",
       "11705             5        3.38       26.00           2018-02-20      0   \n",
       "12412             0        3.30       27.00           2017-08-15      0   \n",
       "12691             1        3.70       24.20           2017-11-10      0   \n",
       "13953            21        3.26       28.20           2017-09-26      0   \n",
       "15105             8        2.50       26.10           2017-12-01      0   \n",
       "15273             9        2.70       25.20           2017-11-10      0   \n",
       "15434             0        2.20       27.00           2017-01-01      0   \n",
       "16429             2        2.46       28.01           2017-08-17      0   \n",
       "17695             7        2.55       24.00           2017-12-16      0   \n",
       "17729             7        2.95       28.05           2017-12-09      0   \n",
       "17805            17        2.60       31.10           2017-10-25      0   \n",
       "17824            10        2.30       22.50           2017-09-27      0   \n",
       "18042            15        2.95       25.90           2017-12-09      0   \n",
       "18549            16        3.70       29.00           2017-11-11      0   \n",
       "18782             0        2.50       25.00           2017-10-08      0   \n",
       "19392             5       71.00      371.00           2018-07-26      0   \n",
       "19477            11        2.30       20.00           2017-11-10      0   \n",
       "19735             1        2.80       30.50           2017-10-10      0   \n",
       "19917             5        2.34       25.41           2017-09-29      0   \n",
       "20002             8        2.70       28.00           2017-11-10      0   \n",
       "20045             3        3.10       25.00           2017-09-27      0   \n",
       "20054             5        2.73       21.00           2017-11-22      0   \n",
       "20793            13        3.60       27.50           2017-11-10      0   \n",
       "21299            13        2.45       28.50           2017-11-22      0   \n",
       "21628             9        3.90       34.00           2017-03-18      0   \n",
       "22573             8        2.25       24.00           2017-09-28      0   \n",
       "23442             0        2.50       27.70           2017-09-28      0   \n",
       "23592            10        1.45       29.00           2017-11-11      0   \n",
       "\n",
       "       ceiling_height  floors_total  living_area  floor is_apartment  ...  \\\n",
       "349              2.65            14         17.0      1          NaN  ...   \n",
       "508              2.65            26         24.3     19          NaN  ...   \n",
       "780              2.65            18         18.0      8          NaN  ...   \n",
       "839              2.70             5         15.0      3        False  ...   \n",
       "946              2.65            27         18.0      7          NaN  ...   \n",
       "1574             2.65            18         15.0     16          NaN  ...   \n",
       "1625             2.65             4         10.5      3          NaN  ...   \n",
       "2532             2.65            18         18.7      9          NaN  ...   \n",
       "3019             2.65            10         18.0      6          NaN  ...   \n",
       "4115             2.65            25         18.0      4          NaN  ...   \n",
       "4437             2.65             9         18.6      9          NaN  ...   \n",
       "4683             2.65            25         23.4     25          NaN  ...   \n",
       "4876            27.00            25         17.0     17          NaN  ...   \n",
       "5749             2.80            35         18.0     26          NaN  ...   \n",
       "6472             2.70            20         18.0     17          NaN  ...   \n",
       "6612             2.65            24         19.0     20          NaN  ...   \n",
       "6805             2.65            18         18.0     10          NaN  ...   \n",
       "7008             2.65            11         25.5      4          NaN  ...   \n",
       "7237             2.65            16         25.7      2          NaN  ...   \n",
       "7286             2.65            18         19.0      2          NaN  ...   \n",
       "7818             2.65            20         18.0      9          NaN  ...   \n",
       "9412             2.65             6         13.0      1          NaN  ...   \n",
       "9586             2.65             9         18.2      3          NaN  ...   \n",
       "9861             2.65            22         25.0     17          NaN  ...   \n",
       "10284            2.65            12         15.5     11          NaN  ...   \n",
       "10606            2.65            25         25.0     11          NaN  ...   \n",
       "11035            2.65             8         14.0      6          NaN  ...   \n",
       "11051            2.65            21         12.0     21          NaN  ...   \n",
       "11157            2.80             8         20.0      5          NaN  ...   \n",
       "11331            2.70            15         18.7     15          NaN  ...   \n",
       "11692            2.80            14         18.0      9          NaN  ...   \n",
       "11705            2.80            17         17.0      8          NaN  ...   \n",
       "12412            2.65            25         25.0     22          NaN  ...   \n",
       "12691            2.65            19         24.2     13          NaN  ...   \n",
       "13953            2.65            24         20.0      2          NaN  ...   \n",
       "15105            2.65            25         18.0      4          NaN  ...   \n",
       "15273            2.65             9         15.2      2          NaN  ...   \n",
       "15434            2.65            25         15.0      5          NaN  ...   \n",
       "16429            2.65            17         18.1      5          NaN  ...   \n",
       "17695            2.65            23         17.0      8          NaN  ...   \n",
       "17729            2.65            14         21.8      9          NaN  ...   \n",
       "17805            2.65            16         21.4     14          NaN  ...   \n",
       "17824            2.65            22         20.0      7          NaN  ...   \n",
       "18042            2.65            14         16.9      9          NaN  ...   \n",
       "18549            2.65            16         19.0     11          NaN  ...   \n",
       "18782            2.65            22         17.0     19          NaN  ...   \n",
       "19392            3.57             7         18.0      6          NaN  ...   \n",
       "19477            2.65            10         16.0      1          NaN  ...   \n",
       "19735            2.75            25         20.0      2          NaN  ...   \n",
       "19917            2.65            25         18.5     13          NaN  ...   \n",
       "20002            2.65            21         20.0      6          NaN  ...   \n",
       "20045            2.65            24         18.0     24          NaN  ...   \n",
       "20054            2.65             9         14.0      6          NaN  ...   \n",
       "20793            2.65            24         19.0     23          NaN  ...   \n",
       "21299            2.65            12         18.0      7          NaN  ...   \n",
       "21628            2.65            20         24.0     10          NaN  ...   \n",
       "22573            2.65            12         15.0      3          NaN  ...   \n",
       "23442            2.65            24         18.0      4          NaN  ...   \n",
       "23592            2.65             9         18.0      8          NaN  ...   \n",
       "\n",
       "       ponds_around3000  ponds_nearest  days_exposition  one_square_price  \\\n",
       "349                   0            NaN             45.0             92800   \n",
       "508                   1          593.0            430.0             98110   \n",
       "780                   0            NaN             45.0             99616   \n",
       "839                   0            NaN              7.0             54285   \n",
       "946                   0            NaN            483.0             95652   \n",
       "1574                  0            NaN             81.0            100000   \n",
       "1625                  0            NaN            120.0             82568   \n",
       "2532                  1          644.0             70.0            129151   \n",
       "3019                  0            NaN              5.0             87500   \n",
       "4115                  0            NaN             42.0            108333   \n",
       "4437                  1          232.0             97.0            128000   \n",
       "4683                  0            NaN            100.0            104285   \n",
       "4876                  0            NaN             28.0            120000   \n",
       "5749                  3           80.0            198.0            143600   \n",
       "6472                  0            NaN             37.0            129285   \n",
       "6612                  0            NaN             15.0            133955   \n",
       "6805                  0            NaN              7.0             59677   \n",
       "7008                  1          936.0             86.0            160990   \n",
       "7237                  0            NaN             45.0             70349   \n",
       "7286                  0            NaN             41.0             86000   \n",
       "7818                  1          584.0             31.0            120879   \n",
       "9412                  3           72.0              3.0            131250   \n",
       "9586                  0            NaN             45.0             59010   \n",
       "9861                  0            NaN             13.0             94000   \n",
       "10284                 0            NaN            357.0            112500   \n",
       "10606                 1          623.0             51.0            116739   \n",
       "11035                 0            NaN             22.0             96153   \n",
       "11051                 0            NaN             35.0             84615   \n",
       "11157                 0            NaN              9.0            106227   \n",
       "11331                 0            NaN            116.0             48133   \n",
       "11692                 0            NaN             20.0            110581   \n",
       "11705                 1          802.0             45.0            130000   \n",
       "12412                 1          337.0            161.0            122222   \n",
       "12691                 2          210.0             74.0            152892   \n",
       "13953                 0            NaN            119.0            115425   \n",
       "15105                 0            NaN             45.0             95785   \n",
       "15273                 0            NaN             23.0            107142   \n",
       "15434                 3          865.0            336.0             81481   \n",
       "16429                 0            NaN             15.0             87825   \n",
       "17695                 0            NaN             38.0            106250   \n",
       "17729                 2          100.0             45.0            105098   \n",
       "17805                 1          457.0             44.0             83601   \n",
       "17824                 0            NaN             11.0            102222   \n",
       "18042                 1          893.0             45.0            113899   \n",
       "18549                 0            NaN             70.0            127551   \n",
       "18782                 0            NaN              8.0            100000   \n",
       "19392                 1          584.0             90.0            191374   \n",
       "19477                 1          815.0             35.0            115000   \n",
       "19735                 0            NaN             13.0             91803   \n",
       "19917                 0            NaN              3.0             92089   \n",
       "20002                 1          170.0             17.0             96428   \n",
       "20045                 0            NaN              7.0            124000   \n",
       "20054                 0            NaN             45.0            130000   \n",
       "20793                 1          527.0             74.0            130909   \n",
       "21299                 1          579.0             73.0             85964   \n",
       "21628                 1          767.0            320.0            114705   \n",
       "22573                 0            NaN             45.0             93750   \n",
       "23442                 0            NaN              4.0             90252   \n",
       "23592                 0            NaN             82.0             50000   \n",
       "\n",
       "      year_exposition  month_exposition  weekday_exposition  \\\n",
       "349              2017                 9                   2   \n",
       "508              2017                 3                   1   \n",
       "780              2018                 2                   1   \n",
       "839              2017                 4                   4   \n",
       "946              2016                 9                   1   \n",
       "1574             2017                11                   4   \n",
       "1625             2018                 2                   3   \n",
       "2532             2018                 2                   3   \n",
       "3019             2017                11                   4   \n",
       "4115             2018                 2                   3   \n",
       "4437             2017                10                   0   \n",
       "4683             2018                 2                   3   \n",
       "4876             2017                 9                   2   \n",
       "5749             2017                 8                   2   \n",
       "6472             2017                11                   4   \n",
       "6612             2017                11                   4   \n",
       "6805             2017                11                   4   \n",
       "7008             2017                 9                   3   \n",
       "7237             2017                11                   0   \n",
       "7286             2018                 2                   2   \n",
       "7818             2018                 4                   4   \n",
       "9412             2017                12                   6   \n",
       "9586             2017                 9                   2   \n",
       "9861             2017                12                   6   \n",
       "10284            2017                 1                   0   \n",
       "10606            2017                11                   4   \n",
       "11035            2017                11                   4   \n",
       "11051            2017                10                   1   \n",
       "11157            2017                11                   2   \n",
       "11331            2017                 9                   4   \n",
       "11692            2017                10                   1   \n",
       "11705            2018                 2                   1   \n",
       "12412            2017                 8                   1   \n",
       "12691            2017                11                   4   \n",
       "13953            2017                 9                   1   \n",
       "15105            2017                12                   4   \n",
       "15273            2017                11                   4   \n",
       "15434            2017                 1                   6   \n",
       "16429            2017                 8                   3   \n",
       "17695            2017                12                   5   \n",
       "17729            2017                12                   5   \n",
       "17805            2017                10                   2   \n",
       "17824            2017                 9                   2   \n",
       "18042            2017                12                   5   \n",
       "18549            2017                11                   5   \n",
       "18782            2017                10                   6   \n",
       "19392            2018                 7                   3   \n",
       "19477            2017                11                   4   \n",
       "19735            2017                10                   1   \n",
       "19917            2017                 9                   4   \n",
       "20002            2017                11                   4   \n",
       "20045            2017                 9                   2   \n",
       "20054            2017                11                   2   \n",
       "20793            2017                11                   4   \n",
       "21299            2017                11                   2   \n",
       "21628            2017                 3                   5   \n",
       "22573            2017                 9                   3   \n",
       "23442            2017                 9                   3   \n",
       "23592            2017                11                   5   \n",
       "\n",
       "       living_to_total_area  kitchen_to_total_area  floor_category_id  \n",
       "349                    0.68                    NaN                  1  \n",
       "508                    0.71                    NaN                  0  \n",
       "780                    0.69                    NaN                  0  \n",
       "839                    0.43                    NaN                  0  \n",
       "946                    0.78                    NaN                  0  \n",
       "1574                   0.68                    NaN                  0  \n",
       "1625                   0.44                    NaN                  0  \n",
       "2532                   0.69                    NaN                  0  \n",
       "3019                   0.75                    NaN                  0  \n",
       "4115                   0.75                    NaN                  0  \n",
       "4437                   0.74                    NaN                  2  \n",
       "4683                   0.67                    NaN                  2  \n",
       "4876                   0.68                    NaN                  0  \n",
       "5749                   0.72                    NaN                  0  \n",
       "6472                   0.64                    NaN                  0  \n",
       "6612                   0.71                    NaN                  0  \n",
       "6805                   0.58                    NaN                  0  \n",
       "7008                   0.79                    NaN                  0  \n",
       "7237                   0.60                    NaN                  0  \n",
       "7286                   0.63                    NaN                  0  \n",
       "7818                   0.66                    NaN                  0  \n",
       "9412                   0.81                    NaN                  1  \n",
       "9586                   0.64                    NaN                  0  \n",
       "9861                   1.00                    NaN                  0  \n",
       "10284                  0.65                    NaN                  0  \n",
       "10606                  0.99                    NaN                  0  \n",
       "11035                  0.54                    NaN                  0  \n",
       "11051                  0.46                    NaN                  2  \n",
       "11157                  0.73                    NaN                  0  \n",
       "11331                  0.68                    NaN                  2  \n",
       "11692                  0.78                    NaN                  0  \n",
       "11705                  0.65                    NaN                  0  \n",
       "12412                  0.93                    NaN                  0  \n",
       "12691                  1.00                    NaN                  0  \n",
       "13953                  0.71                    NaN                  0  \n",
       "15105                  0.69                    NaN                  0  \n",
       "15273                  0.60                    NaN                  0  \n",
       "15434                  0.56                    NaN                  0  \n",
       "16429                  0.65                    NaN                  0  \n",
       "17695                  0.71                    NaN                  0  \n",
       "17729                  0.78                    NaN                  0  \n",
       "17805                  0.69                    NaN                  0  \n",
       "17824                  0.89                    NaN                  0  \n",
       "18042                  0.65                    NaN                  0  \n",
       "18549                  0.66                    NaN                  0  \n",
       "18782                  0.68                    NaN                  0  \n",
       "19392                  0.05                    NaN                  0  \n",
       "19477                  0.80                    NaN                  1  \n",
       "19735                  0.66                    NaN                  0  \n",
       "19917                  0.73                    NaN                  0  \n",
       "20002                  0.71                    NaN                  0  \n",
       "20045                  0.72                    NaN                  2  \n",
       "20054                  0.67                    NaN                  0  \n",
       "20793                  0.69                    NaN                  0  \n",
       "21299                  0.63                    NaN                  0  \n",
       "21628                  0.71                    NaN                  0  \n",
       "22573                  0.62                    NaN                  0  \n",
       "23442                  0.65                    NaN                  0  \n",
       "23592                  0.62                    NaN                  0  \n",
       "\n",
       "[59 rows x 29 columns]"
      ]
     },
     "execution_count": 35,
     "metadata": {},
     "output_type": "execute_result"
    }
   ],
   "source": [
    "data[(data['rooms']==0) & (data['studio']==False)]"
   ]
  },
  {
   "cell_type": "markdown",
   "metadata": {},
   "source": [
    "Поменяем значения в столбце `rooms`, где `rooms` не равно 0, а `studio` True, на 0.\n",
    "А в столбце `studio`, где `rooms` равно 0, на True. И выведем таблицы на экран, если всё верно, то они должны быть пустыми."
   ]
  },
  {
   "cell_type": "code",
   "execution_count": 36,
   "metadata": {},
   "outputs": [],
   "source": [
    "data.loc[((data['rooms'] != 0) & (data['studio'] == True)), 'rooms'] = 0\n",
    "data.loc[((data['rooms']==0) & (data['studio']==False)), 'studio'] = True"
   ]
  },
  {
   "cell_type": "code",
   "execution_count": 37,
   "metadata": {},
   "outputs": [
    {
     "data": {
      "text/html": [
       "<div>\n",
       "<style scoped>\n",
       "    .dataframe tbody tr th:only-of-type {\n",
       "        vertical-align: middle;\n",
       "    }\n",
       "\n",
       "    .dataframe tbody tr th {\n",
       "        vertical-align: top;\n",
       "    }\n",
       "\n",
       "    .dataframe thead th {\n",
       "        text-align: right;\n",
       "    }\n",
       "</style>\n",
       "<table border=\"1\" class=\"dataframe\">\n",
       "  <thead>\n",
       "    <tr style=\"text-align: right;\">\n",
       "      <th></th>\n",
       "      <th>total_images</th>\n",
       "      <th>last_price</th>\n",
       "      <th>total_area</th>\n",
       "      <th>first_day_exposition</th>\n",
       "      <th>rooms</th>\n",
       "      <th>ceiling_height</th>\n",
       "      <th>floors_total</th>\n",
       "      <th>living_area</th>\n",
       "      <th>floor</th>\n",
       "      <th>is_apartment</th>\n",
       "      <th>...</th>\n",
       "      <th>ponds_around3000</th>\n",
       "      <th>ponds_nearest</th>\n",
       "      <th>days_exposition</th>\n",
       "      <th>one_square_price</th>\n",
       "      <th>year_exposition</th>\n",
       "      <th>month_exposition</th>\n",
       "      <th>weekday_exposition</th>\n",
       "      <th>living_to_total_area</th>\n",
       "      <th>kitchen_to_total_area</th>\n",
       "      <th>floor_category_id</th>\n",
       "    </tr>\n",
       "  </thead>\n",
       "  <tbody>\n",
       "  </tbody>\n",
       "</table>\n",
       "<p>0 rows × 29 columns</p>\n",
       "</div>"
      ],
      "text/plain": [
       "Empty DataFrame\n",
       "Columns: [total_images, last_price, total_area, first_day_exposition, rooms, ceiling_height, floors_total, living_area, floor, is_apartment, studio, open_plan, kitchen_area, balcony, locality_name, airports_nearest, cityCenters_nearest, parks_around3000, parks_nearest, ponds_around3000, ponds_nearest, days_exposition, one_square_price, year_exposition, month_exposition, weekday_exposition, living_to_total_area, kitchen_to_total_area, floor_category_id]\n",
       "Index: []\n",
       "\n",
       "[0 rows x 29 columns]"
      ]
     },
     "metadata": {},
     "output_type": "display_data"
    },
    {
     "data": {
      "text/html": [
       "<div>\n",
       "<style scoped>\n",
       "    .dataframe tbody tr th:only-of-type {\n",
       "        vertical-align: middle;\n",
       "    }\n",
       "\n",
       "    .dataframe tbody tr th {\n",
       "        vertical-align: top;\n",
       "    }\n",
       "\n",
       "    .dataframe thead th {\n",
       "        text-align: right;\n",
       "    }\n",
       "</style>\n",
       "<table border=\"1\" class=\"dataframe\">\n",
       "  <thead>\n",
       "    <tr style=\"text-align: right;\">\n",
       "      <th></th>\n",
       "      <th>total_images</th>\n",
       "      <th>last_price</th>\n",
       "      <th>total_area</th>\n",
       "      <th>first_day_exposition</th>\n",
       "      <th>rooms</th>\n",
       "      <th>ceiling_height</th>\n",
       "      <th>floors_total</th>\n",
       "      <th>living_area</th>\n",
       "      <th>floor</th>\n",
       "      <th>is_apartment</th>\n",
       "      <th>...</th>\n",
       "      <th>ponds_around3000</th>\n",
       "      <th>ponds_nearest</th>\n",
       "      <th>days_exposition</th>\n",
       "      <th>one_square_price</th>\n",
       "      <th>year_exposition</th>\n",
       "      <th>month_exposition</th>\n",
       "      <th>weekday_exposition</th>\n",
       "      <th>living_to_total_area</th>\n",
       "      <th>kitchen_to_total_area</th>\n",
       "      <th>floor_category_id</th>\n",
       "    </tr>\n",
       "  </thead>\n",
       "  <tbody>\n",
       "  </tbody>\n",
       "</table>\n",
       "<p>0 rows × 29 columns</p>\n",
       "</div>"
      ],
      "text/plain": [
       "Empty DataFrame\n",
       "Columns: [total_images, last_price, total_area, first_day_exposition, rooms, ceiling_height, floors_total, living_area, floor, is_apartment, studio, open_plan, kitchen_area, balcony, locality_name, airports_nearest, cityCenters_nearest, parks_around3000, parks_nearest, ponds_around3000, ponds_nearest, days_exposition, one_square_price, year_exposition, month_exposition, weekday_exposition, living_to_total_area, kitchen_to_total_area, floor_category_id]\n",
       "Index: []\n",
       "\n",
       "[0 rows x 29 columns]"
      ]
     },
     "metadata": {},
     "output_type": "display_data"
    }
   ],
   "source": [
    "display(data[(data['rooms'] != 0) & (data['studio'] == True)])\n",
    "display(data[(data['rooms']==0) & (data['studio']==False)])"
   ]
  },
  {
   "cell_type": "markdown",
   "metadata": {},
   "source": [
    "Для количества комнат введем границы от 0 до 7."
   ]
  },
  {
   "cell_type": "markdown",
   "metadata": {},
   "source": [
    "#### Высота потолков"
   ]
  },
  {
   "cell_type": "code",
   "execution_count": 38,
   "metadata": {},
   "outputs": [
    {
     "name": "stdout",
     "output_type": "stream",
     "text": [
      "count    23565.000000\n",
      "mean         2.724530\n",
      "std          0.991026\n",
      "min          1.000000\n",
      "25%          2.600000\n",
      "50%          2.650000\n",
      "75%          2.700000\n",
      "max        100.000000\n",
      "Name: ceiling_height, dtype: float64\n"
     ]
    },
    {
     "data": {
      "text/plain": [
       "<AxesSubplot:>"
      ]
     },
     "execution_count": 38,
     "metadata": {},
     "output_type": "execute_result"
    },
    {
     "data": {
      "image/png": "[encoded data removed]",
      "text/plain": [
       "<Figure size 432x288 with 1 Axes>"
      ]
     },
     "metadata": {
      "needs_background": "light"
     },
     "output_type": "display_data"
    }
   ],
   "source": [
    "print(data['ceiling_height'].describe()) # изучение высоты потолков\n",
    "data['ceiling_height'].hist()"
   ]
  },
  {
   "cell_type": "code",
   "execution_count": 39,
   "metadata": {},
   "outputs": [
    {
     "data": {
      "text/plain": [
       "<AxesSubplot:>"
      ]
     },
     "execution_count": 39,
     "metadata": {},
     "output_type": "execute_result"
    },
    {
     "data": {
      "image/png": "[encoded data removed]",
      "text/plain": [
       "<Figure size 432x288 with 1 Axes>"
      ]
     },
     "metadata": {
      "needs_background": "light"
     },
     "output_type": "display_data"
    }
   ],
   "source": [
    "data.boxplot('ceiling_height')"
   ]
  },
  {
   "cell_type": "markdown",
   "metadata": {},
   "source": [
    "По графикам можно сказать, что основная часть значений лежит до 5 м. Проверим, какую часть данные с более высокими потолками составляют от всего датафрейма. Минимальное значение слишком маленькое, так как потолки не могут быть 1 м. Нужно будет проверить и нижние границы."
   ]
  },
  {
   "cell_type": "code",
   "execution_count": 40,
   "metadata": {},
   "outputs": [
    {
     "data": {
      "text/plain": [
       "0.0015701251856566944"
      ]
     },
     "execution_count": 40,
     "metadata": {},
     "output_type": "execute_result"
    }
   ],
   "source": [
    "len(data.query('ceiling_height>=5'))/len(data) # доля квартир с потолками выше 5 м"
   ]
  },
  {
   "cell_type": "code",
   "execution_count": 41,
   "metadata": {},
   "outputs": [
    {
     "data": {
      "text/plain": [
       "array([[<AxesSubplot:title={'center':'ceiling_height'}>]], dtype=object)"
      ]
     },
     "execution_count": 41,
     "metadata": {},
     "output_type": "execute_result"
    },
    {
     "data": {
      "image/png": "[encoded data removed]",
      "text/plain": [
       "<Figure size 432x288 with 1 Axes>"
      ]
     },
     "metadata": {
      "needs_background": "light"
     },
     "output_type": "display_data"
    }
   ],
   "source": [
    "data.query('ceiling_height < 2').hist('ceiling_height') # проверяем нижние границы"
   ]
  },
  {
   "cell_type": "markdown",
   "metadata": {},
   "source": [
    "Видно, что меньше 2 м принимают только 3 значения. Поэтому обозначим реальные границы потолков от 2 до 5 м."
   ]
  },
  {
   "cell_type": "markdown",
   "metadata": {},
   "source": [
    "#### Новый срез данных"
   ]
  },
  {
   "cell_type": "markdown",
   "metadata": {},
   "source": [
    "\n",
    "Учитывая новые границы всех параметров, сделаем чистку данных и создадим новую переменную good_data для сохранения исходного Датафрейма."
   ]
  },
  {
   "cell_type": "code",
   "execution_count": 42,
   "metadata": {},
   "outputs": [
    {
     "data": {
      "image/png": "[encoded data removed]",
      "text/plain": [
       "<Figure size 432x288 with 1 Axes>"
      ]
     },
     "metadata": {
      "needs_background": "light"
     },
     "output_type": "display_data"
    },
    {
     "data": {
      "image/png": "[encoded data removed]",
      "text/plain": [
       "<Figure size 432x288 with 1 Axes>"
      ]
     },
     "metadata": {
      "needs_background": "light"
     },
     "output_type": "display_data"
    },
    {
     "data": {
      "image/png": "[encoded data removed]",
      "text/plain": [
       "<Figure size 432x288 with 1 Axes>"
      ]
     },
     "metadata": {
      "needs_background": "light"
     },
     "output_type": "display_data"
    },
    {
     "data": {
      "image/png": "[encoded data removed]",
      "text/plain": [
       "<Figure size 432x288 with 1 Axes>"
      ]
     },
     "metadata": {
      "needs_background": "light"
     },
     "output_type": "display_data"
    }
   ],
   "source": [
    "good_data = data.query('2 <= ceiling_height <= 5 and rooms <= 7 and 0.4 <= last_price <= 30 and total_area <= 200')\n",
    "\n",
    "good_data.hist('ceiling_height')\n",
    "plt.show()\n",
    "good_data.hist('rooms', bins=7)\n",
    "plt.show()\n",
    "good_data.hist('last_price')\n",
    "plt.show()\n",
    "good_data.hist('total_area')\n",
    "plt.show()"
   ]
  },
  {
   "cell_type": "markdown",
   "metadata": {},
   "source": [
    "По графикам видно, что данные стали более однородными."
   ]
  },
  {
   "cell_type": "markdown",
   "metadata": {},
   "source": [
    "### Изучение времени продажи"
   ]
  },
  {
   "cell_type": "markdown",
   "metadata": {},
   "source": [
    "Необходимо посчитать, сколько времени занимают средние продажи. Для этого применим метод `describe()` и построим диаграмму размаха."
   ]
  },
  {
   "cell_type": "code",
   "execution_count": 43,
   "metadata": {},
   "outputs": [
    {
     "data": {
      "text/plain": [
       "count    20053.000000\n",
       "mean       178.876826\n",
       "std        217.539471\n",
       "min          1.000000\n",
       "25%         45.000000\n",
       "50%         94.000000\n",
       "75%        228.000000\n",
       "max       1580.000000\n",
       "Name: days_exposition, dtype: float64"
      ]
     },
     "execution_count": 43,
     "metadata": {},
     "output_type": "execute_result"
    }
   ],
   "source": [
    "good_data['days_exposition'].describe()"
   ]
  },
  {
   "cell_type": "code",
   "execution_count": 44,
   "metadata": {},
   "outputs": [
    {
     "data": {
      "text/plain": [
       "<AxesSubplot:>"
      ]
     },
     "execution_count": 44,
     "metadata": {},
     "output_type": "execute_result"
    },
    {
     "data": {
      "image/png": "[encoded data removed]",
      "text/plain": [
       "<Figure size 432x288 with 1 Axes>"
      ]
     },
     "metadata": {
      "needs_background": "light"
     },
     "output_type": "display_data"
    }
   ],
   "source": [
    "plt.ylim(0,500)\n",
    "good_data.boxplot('days_exposition')"
   ]
  },
  {
   "cell_type": "markdown",
   "metadata": {},
   "source": [
    "Рассмотрим подробнее основную часть распределения."
   ]
  },
  {
   "cell_type": "code",
   "execution_count": 45,
   "metadata": {},
   "outputs": [
    {
     "data": {
      "text/plain": [
       "array([[<AxesSubplot:title={'center':'days_exposition'}>]], dtype=object)"
      ]
     },
     "execution_count": 45,
     "metadata": {},
     "output_type": "execute_result"
    },
    {
     "data": {
      "image/png": "[encoded data removed]",
      "text/plain": [
       "<Figure size 432x288 with 1 Axes>"
      ]
     },
     "metadata": {
      "needs_background": "light"
     },
     "output_type": "display_data"
    }
   ],
   "source": [
    "good_data.query('days_exposition < 200').hist('days_exposition')"
   ]
  },
  {
   "cell_type": "markdown",
   "metadata": {},
   "source": [
    "По диаграмме можно сделать вывод, что обычная продажа занимает от 50 до 200 дней. *Но чаще всего продажи занимают от 30 до 60 дней (1-2 месяца).* Если квартиру продали меньше, чем за месяц это можно считать быстрой продажей. Если квартиру продавали более 500 дней это уже можно считать слишком долгой продажей."
   ]
  },
  {
   "cell_type": "markdown",
   "metadata": {},
   "source": [
    "Минимальным значением является продажа за один день, в целом такое возможно, поэтому минимальные границы менять не будем. А вот максимальные границы снизим до 730 дней (2 года). На гистограмме видно, что дальнейшие значения имеют уже слишком маленькую долю. Но для уверенности убедимся в этом."
   ]
  },
  {
   "cell_type": "code",
   "execution_count": 46,
   "metadata": {},
   "outputs": [
    {
     "data": {
      "text/plain": [
       "0.030929618895185362"
      ]
     },
     "execution_count": 46,
     "metadata": {},
     "output_type": "execute_result"
    }
   ],
   "source": [
    "len(good_data.query('days_exposition > 730'))/len(good_data)"
   ]
  },
  {
   "cell_type": "code",
   "execution_count": 47,
   "metadata": {},
   "outputs": [
    {
     "data": {
      "text/plain": [
       "<AxesSubplot:>"
      ]
     },
     "execution_count": 47,
     "metadata": {},
     "output_type": "execute_result"
    },
    {
     "data": {
      "image/png": "[encoded data removed]",
      "text/plain": [
       "<Figure size 432x288 with 1 Axes>"
      ]
     },
     "metadata": {
      "needs_background": "light"
     },
     "output_type": "display_data"
    }
   ],
   "source": [
    "good_data = good_data.query('days_exposition <= 730')\n",
    "good_data.boxplot('days_exposition')"
   ]
  },
  {
   "cell_type": "markdown",
   "metadata": {},
   "source": [
    "Перед тем как искать зависимости между данными, выведем еще раз информацию о датафрейме после удаления некоторых данных."
   ]
  },
  {
   "cell_type": "code",
   "execution_count": 48,
   "metadata": {},
   "outputs": [
    {
     "name": "stdout",
     "output_type": "stream",
     "text": [
      "<class 'pandas.core.frame.DataFrame'>\n",
      "Int64Index: 19338 entries, 1 to 23697\n",
      "Data columns (total 29 columns):\n",
      " #   Column                 Non-Null Count  Dtype         \n",
      "---  ------                 --------------  -----         \n",
      " 0   total_images           19338 non-null  int64         \n",
      " 1   last_price             19338 non-null  float64       \n",
      " 2   total_area             19338 non-null  float64       \n",
      " 3   first_day_exposition   19338 non-null  datetime64[ns]\n",
      " 4   rooms                  19338 non-null  int64         \n",
      " 5   ceiling_height         19338 non-null  float64       \n",
      " 6   floors_total           19338 non-null  int32         \n",
      " 7   living_area            19338 non-null  float64       \n",
      " 8   floor                  19338 non-null  int64         \n",
      " 9   is_apartment           2334 non-null   object        \n",
      " 10  studio                 19338 non-null  bool          \n",
      " 11  open_plan              19338 non-null  bool          \n",
      " 12  kitchen_area           17405 non-null  float64       \n",
      " 13  balcony                19338 non-null  int32         \n",
      " 14  locality_name          19338 non-null  object        \n",
      " 15  airports_nearest       14856 non-null  float64       \n",
      " 16  cityCenters_nearest    14875 non-null  float64       \n",
      " 17  parks_around3000       19338 non-null  int32         \n",
      " 18  parks_nearest          6384 non-null   float64       \n",
      " 19  ponds_around3000       19338 non-null  int32         \n",
      " 20  ponds_nearest          7258 non-null   float64       \n",
      " 21  days_exposition        19338 non-null  float64       \n",
      " 22  one_square_price       19338 non-null  int32         \n",
      " 23  year_exposition        19338 non-null  int64         \n",
      " 24  month_exposition       19338 non-null  int64         \n",
      " 25  weekday_exposition     19338 non-null  int64         \n",
      " 26  living_to_total_area   19338 non-null  float64       \n",
      " 27  kitchen_to_total_area  17405 non-null  float64       \n",
      " 28  floor_category_id      19338 non-null  int64         \n",
      "dtypes: bool(2), datetime64[ns](1), float64(12), int32(5), int64(7), object(2)\n",
      "memory usage: 3.8+ MB\n"
     ]
    }
   ],
   "source": [
    "good_data.info()"
   ]
  },
  {
   "cell_type": "markdown",
   "metadata": {},
   "source": [
    "Видно, что 20% исходного датафрейма ушли, но зато данные стали более однородными без очевидных выбросов. Можно анализировать дальше."
   ]
  },
  {
   "cell_type": "markdown",
   "metadata": {},
   "source": [
    "### Изучение зависимости стоимости жилья от параметров"
   ]
  },
  {
   "cell_type": "markdown",
   "metadata": {},
   "source": [
    "Чтобы понять от какого фактора (кол-ва комнат, площади, расстояния до центра, даты размещения) больше всего зависит стоимость квартиры, построим диаграммы и для убедительности найдем коэффициент Пирсона по таким факторам, как количество комнат, площадь квартиры, удаленность от центра."
   ]
  },
  {
   "cell_type": "code",
   "execution_count": 49,
   "metadata": {},
   "outputs": [
    {
     "name": "stdout",
     "output_type": "stream",
     "text": [
      "Коэффициент корреляции Пирсона: 0.5\n"
     ]
    },
    {
     "data": {
      "image/png": "[encoded data removed]",
      "text/plain": [
       "<Figure size 432x288 with 1 Axes>"
      ]
     },
     "metadata": {
      "needs_background": "light"
     },
     "output_type": "display_data"
    }
   ],
   "source": [
    "# зависимость средней цены квартиры от количества комнат\n",
    "good_data.pivot_table(index='rooms', values='last_price').plot(grid=True, kind='bar')\n",
    "print('Коэффициент корреляции Пирсона:', (good_data['last_price'].corr(good_data['rooms']).round(2)))"
   ]
  },
  {
   "cell_type": "code",
   "execution_count": 50,
   "metadata": {},
   "outputs": [
    {
     "name": "stdout",
     "output_type": "stream",
     "text": [
      "Коэффициент корреляции Пирсона: 0.78\n"
     ]
    },
    {
     "data": {
      "image/png": "[encoded data removed]",
      "text/plain": [
       "<Figure size 432x288 with 1 Axes>"
      ]
     },
     "metadata": {
      "needs_background": "light"
     },
     "output_type": "display_data"
    }
   ],
   "source": [
    "good_data.plot(x='total_area', y='last_price', grid=True, kind='scatter') # зависимость от площади\n",
    "print('Коэффициент корреляции Пирсона:', (good_data['last_price'].corr(good_data['total_area']).round(2)))"
   ]
  },
  {
   "cell_type": "code",
   "execution_count": 51,
   "metadata": {},
   "outputs": [
    {
     "name": "stdout",
     "output_type": "stream",
     "text": [
      "Коэффициент корреляции Пирсона: -0.34\n"
     ]
    },
    {
     "data": {
      "image/png": "[encoded data removed]",
      "text/plain": [
       "<Figure size 432x288 with 1 Axes>"
      ]
     },
     "metadata": {
      "needs_background": "light"
     },
     "output_type": "display_data"
    }
   ],
   "source": [
    "good_data.plot(x='cityCenters_nearest', y='last_price', grid=True, kind='scatter') # зависимость от расстояния до центра\n",
    "print('Коэффициент корреляции Пирсона:', (good_data['last_price'].corr(good_data['cityCenters_nearest']).round(2)))"
   ]
  },
  {
   "cell_type": "markdown",
   "metadata": {},
   "source": [
    "Из предыдущих трех параметров больше всего на стоимость квартиры влияет её площадь. От количества комнат зависимость *меньше, но по графику можно видеть, что средняя цена увеличивается с увеличением комнат*. Судя по кэффициенту Пирсона стоимость квартиры от расстояния почти не зависит, но по диаграмме можно увидеть, что значительная часть дорогих квартир находится в пределах 10000м."
   ]
  },
  {
   "cell_type": "markdown",
   "metadata": {},
   "source": [
    "Для следующих факторов выведем только графики относительно средней цены для каждой категории."
   ]
  },
  {
   "cell_type": "code",
   "execution_count": 52,
   "metadata": {},
   "outputs": [
    {
     "data": {
      "text/html": [
       "<div>\n",
       "<style scoped>\n",
       "    .dataframe tbody tr th:only-of-type {\n",
       "        vertical-align: middle;\n",
       "    }\n",
       "\n",
       "    .dataframe tbody tr th {\n",
       "        vertical-align: top;\n",
       "    }\n",
       "\n",
       "    .dataframe thead th {\n",
       "        text-align: right;\n",
       "    }\n",
       "</style>\n",
       "<table border=\"1\" class=\"dataframe\">\n",
       "  <thead>\n",
       "    <tr style=\"text-align: right;\">\n",
       "      <th></th>\n",
       "      <th>floor_category</th>\n",
       "      <th>floor_category_id</th>\n",
       "    </tr>\n",
       "  </thead>\n",
       "  <tbody>\n",
       "    <tr>\n",
       "      <th>0</th>\n",
       "      <td>первый</td>\n",
       "      <td>1</td>\n",
       "    </tr>\n",
       "    <tr>\n",
       "      <th>1</th>\n",
       "      <td>последний</td>\n",
       "      <td>2</td>\n",
       "    </tr>\n",
       "    <tr>\n",
       "      <th>2</th>\n",
       "      <td>другой</td>\n",
       "      <td>0</td>\n",
       "    </tr>\n",
       "  </tbody>\n",
       "</table>\n",
       "</div>"
      ],
      "text/plain": [
       "  floor_category  floor_category_id\n",
       "0         первый                  1\n",
       "1      последний                  2\n",
       "2         другой                  0"
      ]
     },
     "metadata": {},
     "output_type": "display_data"
    },
    {
     "data": {
      "text/plain": [
       "<AxesSubplot:xlabel='floor_category_id'>"
      ]
     },
     "execution_count": 52,
     "metadata": {},
     "output_type": "execute_result"
    },
    {
     "data": {
      "image/png": "[encoded data removed]",
      "text/plain": [
       "<Figure size 432x288 with 1 Axes>"
      ]
     },
     "metadata": {
      "needs_background": "light"
     },
     "output_type": "display_data"
    }
   ],
   "source": [
    "display(floor_type) # категория этажей\n",
    "good_data.pivot_table(index='floor_category_id', values='last_price').plot(grid=True, kind='bar') # зависимость от этажа"
   ]
  },
  {
   "cell_type": "markdown",
   "metadata": {},
   "source": [
    "По графику можно заметить, что на последнем этаже средняя цена квартиры явно выше, чем на первом. Значит, есть зависимость стоимости от расположения квартиры (первый/последний этаж)."
   ]
  },
  {
   "cell_type": "code",
   "execution_count": 53,
   "metadata": {},
   "outputs": [
    {
     "data": {
      "text/plain": [
       "<AxesSubplot:xlabel='year_exposition'>"
      ]
     },
     "execution_count": 53,
     "metadata": {},
     "output_type": "execute_result"
    },
    {
     "data": {
      "image/png": "[encoded data removed]",
      "text/plain": [
       "<Figure size 432x288 with 1 Axes>"
      ]
     },
     "metadata": {
      "needs_background": "light"
     },
     "output_type": "display_data"
    }
   ],
   "source": [
    "good_data.pivot_table(index='year_exposition', values='last_price').plot(grid=True, style='o-') # зависимость от год размещения объявления"
   ]
  },
  {
   "cell_type": "markdown",
   "metadata": {},
   "source": [
    "В случае года размещения можно заметить, что средняя цена на квартиры резко упала после 2014 г. Дальше средняя цена каждый год держалась примерно на одном и том же уровне, кроме 2018 г. - там цена была меньше в 2 раза по сравнению с 2017 и 2019 годами. Зависимость стоимости квартиры от года размещения определить сложно, так как нет конкретной тенденции на рост или на спад из года в год."
   ]
  },
  {
   "cell_type": "code",
   "execution_count": 54,
   "metadata": {},
   "outputs": [
    {
     "data": {
      "text/plain": [
       "<AxesSubplot:xlabel='month_exposition'>"
      ]
     },
     "execution_count": 54,
     "metadata": {},
     "output_type": "execute_result"
    },
    {
     "data": {
      "image/png": "[encoded data removed]",
      "text/plain": [
       "<Figure size 432x288 with 1 Axes>"
      ]
     },
     "metadata": {
      "needs_background": "light"
     },
     "output_type": "display_data"
    }
   ],
   "source": [
    "good_data.pivot_table(index='month_exposition', values='last_price').plot(grid=True, kind='bar')"
   ]
  },
  {
   "cell_type": "code",
   "execution_count": 55,
   "metadata": {},
   "outputs": [
    {
     "data": {
      "text/plain": [
       "<AxesSubplot:xlabel='weekday_exposition'>"
      ]
     },
     "execution_count": 55,
     "metadata": {},
     "output_type": "execute_result"
    },
    {
     "data": {
      "image/png": "[encoded data removed]",
      "text/plain": [
       "<Figure size 432x288 with 1 Axes>"
      ]
     },
     "metadata": {
      "needs_background": "light"
     },
     "output_type": "display_data"
    }
   ],
   "source": [
    "good_data.pivot_table(index='weekday_exposition', values='last_price').plot(grid=True, kind='bar')"
   ]
  },
  {
   "cell_type": "markdown",
   "metadata": {},
   "source": [
    "По графикам месяцев и дней недели размещения видно, что ни то, ни другое не влияет на стоимость квартиры."
   ]
  },
  {
   "cell_type": "markdown",
   "metadata": {},
   "source": [
    "### Изучение стоимости жилья в городах с наибольшим количеством объявлений"
   ]
  },
  {
   "cell_type": "markdown",
   "metadata": {},
   "source": [
    "Для того, чтобы понять, в каком городе стомость жилья самая дорогая, а в каком - наоборот. Сначала выделим 10 городов с большим количеством объявлений, а потом отсортируем их по цене за квадратный метр."
   ]
  },
  {
   "cell_type": "code",
   "execution_count": 56,
   "metadata": {},
   "outputs": [
    {
     "data": {
      "text/html": [
       "<div>\n",
       "<style scoped>\n",
       "    .dataframe tbody tr th:only-of-type {\n",
       "        vertical-align: middle;\n",
       "    }\n",
       "\n",
       "    .dataframe tbody tr th {\n",
       "        vertical-align: top;\n",
       "    }\n",
       "\n",
       "    .dataframe thead th {\n",
       "        text-align: right;\n",
       "    }\n",
       "</style>\n",
       "<table border=\"1\" class=\"dataframe\">\n",
       "  <thead>\n",
       "    <tr style=\"text-align: right;\">\n",
       "      <th></th>\n",
       "      <th>ad_count</th>\n",
       "      <th>one_square_price</th>\n",
       "    </tr>\n",
       "    <tr>\n",
       "      <th>locality_name</th>\n",
       "      <th></th>\n",
       "      <th></th>\n",
       "    </tr>\n",
       "  </thead>\n",
       "  <tbody>\n",
       "    <tr>\n",
       "      <th>Санкт-Петербург</th>\n",
       "      <td>12773</td>\n",
       "      <td>108400.439834</td>\n",
       "    </tr>\n",
       "    <tr>\n",
       "      <th>Пушкин</th>\n",
       "      <td>289</td>\n",
       "      <td>101893.128028</td>\n",
       "    </tr>\n",
       "    <tr>\n",
       "      <th>деревня Кудрово</th>\n",
       "      <td>280</td>\n",
       "      <td>92614.325000</td>\n",
       "    </tr>\n",
       "    <tr>\n",
       "      <th>посёлок Парголово</th>\n",
       "      <td>294</td>\n",
       "      <td>89489.826531</td>\n",
       "    </tr>\n",
       "    <tr>\n",
       "      <th>посёлок Мурино</th>\n",
       "      <td>495</td>\n",
       "      <td>85806.260606</td>\n",
       "    </tr>\n",
       "    <tr>\n",
       "      <th>посёлок Шушары</th>\n",
       "      <td>396</td>\n",
       "      <td>77821.818182</td>\n",
       "    </tr>\n",
       "    <tr>\n",
       "      <th>Колпино</th>\n",
       "      <td>301</td>\n",
       "      <td>74674.086379</td>\n",
       "    </tr>\n",
       "    <tr>\n",
       "      <th>Всеволожск</th>\n",
       "      <td>327</td>\n",
       "      <td>68707.192661</td>\n",
       "    </tr>\n",
       "    <tr>\n",
       "      <th>Гатчина</th>\n",
       "      <td>253</td>\n",
       "      <td>68018.628458</td>\n",
       "    </tr>\n",
       "    <tr>\n",
       "      <th>Выборг</th>\n",
       "      <td>200</td>\n",
       "      <td>57161.130000</td>\n",
       "    </tr>\n",
       "  </tbody>\n",
       "</table>\n",
       "</div>"
      ],
      "text/plain": [
       "                   ad_count  one_square_price\n",
       "locality_name                                \n",
       "Санкт-Петербург       12773     108400.439834\n",
       "Пушкин                  289     101893.128028\n",
       "деревня Кудрово         280      92614.325000\n",
       "посёлок Парголово       294      89489.826531\n",
       "посёлок Мурино          495      85806.260606\n",
       "посёлок Шушары          396      77821.818182\n",
       "Колпино                 301      74674.086379\n",
       "Всеволожск              327      68707.192661\n",
       "Гатчина                 253      68018.628458\n",
       "Выборг                  200      57161.130000"
      ]
     },
     "metadata": {},
     "output_type": "display_data"
    }
   ],
   "source": [
    "# группировка по городам подсчет количества объявлений и средней цены за квадратный метр\n",
    "# с последующим переименованием столбцов\n",
    "# и отборе десяти крупных городов\n",
    "price_by_square = good_data.pivot_table(index='locality_name', values = 'one_square_price', aggfunc=['count', 'mean'])\n",
    "price_by_square.columns = ['ad_count', 'one_square_price']\n",
    "price_by_square = price_by_square.sort_values(by='ad_count', ascending=False).head(10)\n",
    "display(price_by_square.sort_values(by='one_square_price', ascending=False))"
   ]
  },
  {
   "cell_type": "markdown",
   "metadata": {},
   "source": [
    "По таблице можно сделать вывод, что самая высокая стоимость жилья в Санкт-Петербурге и в Пушкине. А низкая стоимость в Гатчине и Выборге."
   ]
  },
  {
   "cell_type": "markdown",
   "metadata": {},
   "source": [
    "### Изучение зависимости стоимости жилья от удаленности от центра в Санкт-Петербурге"
   ]
  },
  {
   "cell_type": "markdown",
   "metadata": {},
   "source": [
    "Необходимо изучить изменение стоимости жилья от удаленности от центра в г. Санкт-Петербург. Для этого введем новую переменную `spb_distance` и запишем в неё срез данных, чтобы город был только Санкт-Петербург. Дальше для удобства анализа нужно перевести расстояние от центра в столбце `cityCenters_nearest` из м в км и сделать значения целыми. Но здесь будет ошибка, так как в столбце `cityCenters_nearest` есть пропущенные значения. Поэтому сначала выясним их долю, и посмотрим можно ли их убрать."
   ]
  },
  {
   "cell_type": "code",
   "execution_count": 57,
   "metadata": {},
   "outputs": [
    {
     "data": {
      "text/plain": [
       "0.2"
      ]
     },
     "execution_count": 57,
     "metadata": {},
     "output_type": "execute_result"
    }
   ],
   "source": [
    "spb_distance = good_data.query('locality_name == \"Санкт-Петербург\"') # отбор по городу 'Санкт-Петербург'\n",
    "(spb_distance['cityCenters_nearest'].isna().mean()*100).round(1)"
   ]
  },
  {
   "cell_type": "markdown",
   "metadata": {},
   "source": [
    "Пропущенные значения занимают всего 0,2% от данных, поэтому если мы их уберем, это не повлияет на анализ. Поэтому уберем строки с пропущенными значениями в столбце `cityCenters_nearest` и проделаем необходимые вычисления."
   ]
  },
  {
   "cell_type": "code",
   "execution_count": 58,
   "metadata": {},
   "outputs": [
    {
     "data": {
      "text/plain": [
       "<AxesSubplot:xlabel='cityCenters_nearest'>"
      ]
     },
     "execution_count": 58,
     "metadata": {},
     "output_type": "execute_result"
    },
    {
     "data": {
      "image/png": "[encoded data removed]",
      "text/plain": [
       "<Figure size 576x288 with 1 Axes>"
      ]
     },
     "metadata": {
      "needs_background": "light"
     },
     "output_type": "display_data"
    }
   ],
   "source": [
    "spb_distance = spb_distance.dropna(subset=['cityCenters_nearest'])\n",
    "# перевод в км с округлением и приведение к целочисленному типу\n",
    "spb_distance['cityCenters_nearest'] = (spb_distance['cityCenters_nearest']/1000).round(0).astype('int')\n",
    "spb_distance.pivot_table(index='cityCenters_nearest', values='last_price').plot(style='o-', xlim=(0, 30), grid=True, figsize=(8, 4))"
   ]
  },
  {
   "cell_type": "markdown",
   "metadata": {},
   "source": [
    "Видно, что резкое снижение стоимости жилья начинается после отметки в 5 км. Значит, квартиры в центре Санкт-Петербурга находятся в радиусе 5 км."
   ]
  },
  {
   "cell_type": "markdown",
   "metadata": {},
   "source": [
    "### Изучение стоимости жилья в центре"
   ]
  },
  {
   "cell_type": "markdown",
   "metadata": {},
   "source": [
    "#### Изучение параметров"
   ]
  },
  {
   "cell_type": "markdown",
   "metadata": {},
   "source": [
    "Выделим квартиры в центре Санкт-Петербурга, то есть те, которые находятся в радиусе 5 км."
   ]
  },
  {
   "cell_type": "code",
   "execution_count": 59,
   "metadata": {},
   "outputs": [],
   "source": [
    "spb_distance_center = spb_distance.query('cityCenters_nearest <= 5')"
   ]
  },
  {
   "cell_type": "code",
   "execution_count": 60,
   "metadata": {},
   "outputs": [
    {
     "name": "stdout",
     "output_type": "stream",
     "text": [
      "count    1756.000000\n",
      "mean        9.964271\n",
      "std         5.135922\n",
      "min         1.600000\n",
      "25%         6.500000\n",
      "50%         8.500000\n",
      "75%        12.000000\n",
      "max        30.000000\n",
      "Name: last_price, dtype: float64\n"
     ]
    },
    {
     "data": {
      "text/plain": [
       "array([[<AxesSubplot:title={'center':'last_price'}>]], dtype=object)"
      ]
     },
     "execution_count": 60,
     "metadata": {},
     "output_type": "execute_result"
    },
    {
     "data": {
      "image/png": "[encoded data removed]",
      "text/plain": [
       "<Figure size 432x288 with 1 Axes>"
      ]
     },
     "metadata": {
      "needs_background": "light"
     },
     "output_type": "display_data"
    }
   ],
   "source": [
    "print(spb_distance_center['last_price'].describe()) # изучение цены\n",
    "spb_distance_center.hist('last_price')"
   ]
  },
  {
   "cell_type": "code",
   "execution_count": 61,
   "metadata": {},
   "outputs": [
    {
     "name": "stdout",
     "output_type": "stream",
     "text": [
      "count    1756.000000\n",
      "mean       81.476458\n",
      "std        34.448675\n",
      "min        12.000000\n",
      "25%        56.200000\n",
      "50%        75.500000\n",
      "75%       100.000000\n",
      "max       200.000000\n",
      "Name: total_area, dtype: float64\n"
     ]
    },
    {
     "data": {
      "text/plain": [
       "array([[<AxesSubplot:title={'center':'total_area'}>]], dtype=object)"
      ]
     },
     "execution_count": 61,
     "metadata": {},
     "output_type": "execute_result"
    },
    {
     "data": {
      "image/png": "[encoded data removed]",
      "text/plain": [
       "<Figure size 432x288 with 1 Axes>"
      ]
     },
     "metadata": {
      "needs_background": "light"
     },
     "output_type": "display_data"
    }
   ],
   "source": [
    "print(spb_distance_center['total_area'].describe()) # изучение площади\n",
    "spb_distance_center.hist('total_area')"
   ]
  },
  {
   "cell_type": "code",
   "execution_count": 62,
   "metadata": {},
   "outputs": [
    {
     "name": "stdout",
     "output_type": "stream",
     "text": [
      "count    1756.000000\n",
      "mean        2.714692\n",
      "std         1.208720\n",
      "min         0.000000\n",
      "25%         2.000000\n",
      "50%         3.000000\n",
      "75%         3.000000\n",
      "max         7.000000\n",
      "Name: rooms, dtype: float64\n"
     ]
    },
    {
     "data": {
      "text/plain": [
       "array([[<AxesSubplot:title={'center':'rooms'}>]], dtype=object)"
      ]
     },
     "execution_count": 62,
     "metadata": {},
     "output_type": "execute_result"
    },
    {
     "data": {
      "image/png": "[encoded data removed]",
      "text/plain": [
       "<Figure size 432x288 with 1 Axes>"
      ]
     },
     "metadata": {
      "needs_background": "light"
     },
     "output_type": "display_data"
    }
   ],
   "source": [
    "print(spb_distance_center['rooms'].describe()) # изучение количества комнат\n",
    "spb_distance_center.hist('rooms', bins=7)"
   ]
  },
  {
   "cell_type": "code",
   "execution_count": 63,
   "metadata": {},
   "outputs": [
    {
     "name": "stdout",
     "output_type": "stream",
     "text": [
      "count    1756.000000\n",
      "mean        2.941737\n",
      "std         0.347767\n",
      "min         2.400000\n",
      "25%         2.650000\n",
      "50%         2.800000\n",
      "75%         3.200000\n",
      "max         4.800000\n",
      "Name: ceiling_height, dtype: float64\n"
     ]
    },
    {
     "data": {
      "text/plain": [
       "array([[<AxesSubplot:title={'center':'ceiling_height'}>]], dtype=object)"
      ]
     },
     "execution_count": 63,
     "metadata": {},
     "output_type": "execute_result"
    },
    {
     "data": {
      "image/png": "[encoded data removed]",
      "text/plain": [
       "<Figure size 432x288 with 1 Axes>"
      ]
     },
     "metadata": {
      "needs_background": "light"
     },
     "output_type": "display_data"
    }
   ],
   "source": [
    "print(spb_distance_center['ceiling_height'].describe()) # изучение высоты потолков\n",
    "spb_distance_center.hist('ceiling_height')"
   ]
  },
  {
   "cell_type": "markdown",
   "metadata": {},
   "source": [
    "В целом все данные более или менее однородные, сильно выбивающихся значений нет, *а распределения на диаграммах похожи на распределения значений по всей базе.* Значит, можно изучать влияние факторов на стоимость квартир в центре."
   ]
  },
  {
   "cell_type": "markdown",
   "metadata": {},
   "source": [
    "#### Изучение зависимости стоимости жилья от параметров"
   ]
  },
  {
   "cell_type": "code",
   "execution_count": 64,
   "metadata": {},
   "outputs": [
    {
     "name": "stdout",
     "output_type": "stream",
     "text": [
      "Коэффициент корреляции Пирсона: 0.43\n"
     ]
    },
    {
     "data": {
      "image/png": "[encoded data removed]",
      "text/plain": [
       "<Figure size 432x288 with 1 Axes>"
      ]
     },
     "metadata": {
      "needs_background": "light"
     },
     "output_type": "display_data"
    }
   ],
   "source": [
    "# зависимость средней цены от количества комнат\n",
    "spb_distance_center.pivot_table(index='rooms', values='last_price').plot(grid=True, kind='bar')\n",
    "print('Коэффициент корреляции Пирсона:', (spb_distance_center['last_price'].corr(spb_distance_center['rooms']).round(2)))"
   ]
  },
  {
   "cell_type": "code",
   "execution_count": 65,
   "metadata": {},
   "outputs": [
    {
     "name": "stdout",
     "output_type": "stream",
     "text": [
      "Коэффициент корреляции Пирсона: 0.71\n"
     ]
    },
    {
     "data": {
      "image/png": "[encoded data removed]",
      "text/plain": [
       "<Figure size 432x288 with 1 Axes>"
      ]
     },
     "metadata": {
      "needs_background": "light"
     },
     "output_type": "display_data"
    }
   ],
   "source": [
    "# зависимость цены от площади\n",
    "spb_distance_center.plot(x='total_area', y='last_price', grid=True, kind='scatter')\n",
    "print('Коэффициент корреляции Пирсона:', (spb_distance_center['last_price'].corr(spb_distance_center['total_area']).round(2)))"
   ]
  },
  {
   "cell_type": "code",
   "execution_count": 66,
   "metadata": {},
   "outputs": [
    {
     "name": "stdout",
     "output_type": "stream",
     "text": [
      "Коэффициент корреляции Пирсона: -0.03\n"
     ]
    },
    {
     "data": {
      "image/png": "[encoded data removed]",
      "text/plain": [
       "<Figure size 432x288 with 1 Axes>"
      ]
     },
     "metadata": {
      "needs_background": "light"
     },
     "output_type": "display_data"
    }
   ],
   "source": [
    "# зависимость средней цены от расстояния до центра\n",
    "spb_distance_center.pivot_table(index='cityCenters_nearest', values='last_price').plot(grid=True, kind='bar')\n",
    "print('Коэффициент корреляции Пирсона:', (spb_distance_center['last_price'].corr(spb_distance_center['cityCenters_nearest']).round(2)))"
   ]
  },
  {
   "cell_type": "code",
   "execution_count": 67,
   "metadata": {},
   "outputs": [
    {
     "data": {
      "text/html": [
       "<div>\n",
       "<style scoped>\n",
       "    .dataframe tbody tr th:only-of-type {\n",
       "        vertical-align: middle;\n",
       "    }\n",
       "\n",
       "    .dataframe tbody tr th {\n",
       "        vertical-align: top;\n",
       "    }\n",
       "\n",
       "    .dataframe thead th {\n",
       "        text-align: right;\n",
       "    }\n",
       "</style>\n",
       "<table border=\"1\" class=\"dataframe\">\n",
       "  <thead>\n",
       "    <tr style=\"text-align: right;\">\n",
       "      <th></th>\n",
       "      <th>floor_category</th>\n",
       "      <th>floor_category_id</th>\n",
       "    </tr>\n",
       "  </thead>\n",
       "  <tbody>\n",
       "    <tr>\n",
       "      <th>0</th>\n",
       "      <td>первый</td>\n",
       "      <td>1</td>\n",
       "    </tr>\n",
       "    <tr>\n",
       "      <th>1</th>\n",
       "      <td>последний</td>\n",
       "      <td>2</td>\n",
       "    </tr>\n",
       "    <tr>\n",
       "      <th>2</th>\n",
       "      <td>другой</td>\n",
       "      <td>0</td>\n",
       "    </tr>\n",
       "  </tbody>\n",
       "</table>\n",
       "</div>"
      ],
      "text/plain": [
       "  floor_category  floor_category_id\n",
       "0         первый                  1\n",
       "1      последний                  2\n",
       "2         другой                  0"
      ]
     },
     "metadata": {},
     "output_type": "display_data"
    },
    {
     "data": {
      "text/plain": [
       "<AxesSubplot:xlabel='floor_category_id'>"
      ]
     },
     "execution_count": 67,
     "metadata": {},
     "output_type": "execute_result"
    },
    {
     "data": {
      "image/png": "[encoded data removed]",
      "text/plain": [
       "<Figure size 432x288 with 1 Axes>"
      ]
     },
     "metadata": {
      "needs_background": "light"
     },
     "output_type": "display_data"
    }
   ],
   "source": [
    "display(floor_type) # категория этажей\n",
    "# зависимость средней цены от этажа\n",
    "spb_distance_center.pivot_table(index='floor_category_id', values='last_price').plot(grid=True, kind='bar')"
   ]
  },
  {
   "cell_type": "code",
   "execution_count": 68,
   "metadata": {},
   "outputs": [
    {
     "data": {
      "text/plain": [
       "<AxesSubplot:xlabel='year_exposition'>"
      ]
     },
     "execution_count": 68,
     "metadata": {},
     "output_type": "execute_result"
    },
    {
     "data": {
      "image/png": "[encoded data removed]",
      "text/plain": [
       "<Figure size 432x288 with 1 Axes>"
      ]
     },
     "metadata": {
      "needs_background": "light"
     },
     "output_type": "display_data"
    }
   ],
   "source": [
    "# зависимость средней цены от года размещения\n",
    "spb_distance_center.pivot_table(index='year_exposition', values='last_price').plot(grid=True, style='o-')"
   ]
  },
  {
   "cell_type": "code",
   "execution_count": 69,
   "metadata": {},
   "outputs": [
    {
     "data": {
      "text/plain": [
       "<AxesSubplot:xlabel='month_exposition'>"
      ]
     },
     "execution_count": 69,
     "metadata": {},
     "output_type": "execute_result"
    },
    {
     "data": {
      "image/png": "[encoded data removed]",
      "text/plain": [
       "<Figure size 432x288 with 1 Axes>"
      ]
     },
     "metadata": {
      "needs_background": "light"
     },
     "output_type": "display_data"
    }
   ],
   "source": [
    "# зависимость средней цены от месяца размещения\n",
    "spb_distance_center.pivot_table(index='month_exposition', values='last_price').plot(grid=True, kind='bar')"
   ]
  },
  {
   "cell_type": "code",
   "execution_count": 70,
   "metadata": {},
   "outputs": [
    {
     "data": {
      "text/plain": [
       "<AxesSubplot:xlabel='weekday_exposition'>"
      ]
     },
     "execution_count": 70,
     "metadata": {},
     "output_type": "execute_result"
    },
    {
     "data": {
      "image/png": "[encoded data removed]",
      "text/plain": [
       "<Figure size 432x288 with 1 Axes>"
      ]
     },
     "metadata": {
      "needs_background": "light"
     },
     "output_type": "display_data"
    }
   ],
   "source": [
    "# зависимость средней цены от дня недели размещения\n",
    "spb_distance_center.pivot_table(index='weekday_exposition', values='last_price').plot(grid=True, kind='bar')"
   ]
  },
  {
   "cell_type": "markdown",
   "metadata": {},
   "source": [
    "Как и в общем случае сильнее всего стоимость жилья зависит от площади квартиры, также зависимость есть между стоимостью и количеством комнат. На квартиры в центре не оказывает влияние удаленность, в отличие от всего датафрейма. Значит, главное чтобы она находилась в центре (радиус 5 км), а внутри центра цены не зависят от удаленности. \n",
    "\n",
    "Также, как и по всем данным, видно, что средняя цена квартир на последнем этаже выше, чем на первом. \n",
    "\n",
    "*После 2014 г. средняя цена на квартиры заметно уменьшилась, но в отличии от общей базы, спад цены произошел не в 2018, а в 2016 году. Остальные года средняя стоимость в центре составляла примерно 10 млн.р. Но также как и по общим данным очевидной зависимости цены от года размещения нет.*\n",
    "\n",
    "*Месяц и день недели размещения объявлений, как и в общем случае, не влияют на стоимость квартиры.*"
   ]
  },
  {
   "cell_type": "markdown",
   "metadata": {},
   "source": [
    "## Общий вывод"
   ]
  },
  {
   "cell_type": "markdown",
   "metadata": {},
   "source": [
    "1. В исходном Датафрейме было достаточно много пропущенных значений, данные были несколько не однородны. Поэтому при обработке данных были изучены и обработаны основные параметры: стоимость квартир, площадь, коичество комнат, высота потолков, длительность продажи квартир.\n",
    "\n",
    "2. Для исследования дополнительно были расчитаны: цена квадратного метра; день недели, месяц и год публикации объявления; этаж квартиры (первый, последний, другой); соотношение жилой и общей площади; соотношение площади кухни и общей площади.\n",
    "\n",
    "3. В ходе работы получили следующие результаты:\n",
    "\n",
    "    3.1. Продажа квартиры занимает от месяца до полугода.\n",
    "    \n",
    "    3.2. Самое значительное влияние на стоимость любой квартиры оказывает её площадь.\n",
    "    \n",
    "    3.3. Средняя цена также зависит от количества комнат. \n",
    "    \n",
    "    3.4. Отличаются ценой квартиры в центре (радиус 5 км) г. Санкт-Петербурга, но расстояние внутри центра не влияет на стоимость квартиры. \n",
    "    \n",
    "    3.5. Высота потолков не влияет на стоимость квартиры.\n",
    "    \n",
    "    3.6. Нет прямой зависимости цены квартиры от года, месяца или дня недели размещения объявления."
   ]
  }
 ],
 "metadata": {
  "ExecuteTimeLog": [
   {
    "duration": 600,
    "start_time": "2022-02-26T14:09:05.811Z"
   },
   {
    "duration": 600,
    "start_time": "2022-02-26T14:09:14.269Z"
   },
   {
    "duration": 4055,
    "start_time": "2022-02-26T14:09:15.598Z"
   },
   {
    "duration": 4086,
    "start_time": "2022-02-26T14:09:52.240Z"
   },
   {
    "duration": 272,
    "start_time": "2022-02-26T14:10:22.987Z"
   },
   {
    "duration": 11,
    "start_time": "2022-02-26T14:10:41.176Z"
   },
   {
    "duration": 24,
    "start_time": "2022-02-26T14:11:16.523Z"
   },
   {
    "duration": 11,
    "start_time": "2022-02-26T14:11:17.648Z"
   },
   {
    "duration": 7,
    "start_time": "2022-02-26T14:14:12.594Z"
   },
   {
    "duration": 9,
    "start_time": "2022-02-26T14:14:16.117Z"
   },
   {
    "duration": 3,
    "start_time": "2022-02-26T14:14:20.461Z"
   },
   {
    "duration": 293,
    "start_time": "2022-02-26T14:14:20.466Z"
   },
   {
    "duration": 9,
    "start_time": "2022-02-26T14:14:20.761Z"
   },
   {
    "duration": 35,
    "start_time": "2022-02-26T14:14:20.771Z"
   },
   {
    "duration": 8,
    "start_time": "2022-02-26T14:14:20.807Z"
   },
   {
    "duration": 4,
    "start_time": "2022-02-26T14:14:20.817Z"
   },
   {
    "duration": 12,
    "start_time": "2022-02-26T14:14:20.822Z"
   },
   {
    "duration": 8,
    "start_time": "2022-02-26T14:14:20.835Z"
   },
   {
    "duration": 7,
    "start_time": "2022-02-26T14:14:20.845Z"
   },
   {
    "duration": 7,
    "start_time": "2022-02-26T14:14:20.853Z"
   },
   {
    "duration": 45,
    "start_time": "2022-02-26T14:14:20.861Z"
   },
   {
    "duration": 4,
    "start_time": "2022-02-26T14:14:20.908Z"
   },
   {
    "duration": 8,
    "start_time": "2022-02-26T14:14:20.914Z"
   },
   {
    "duration": 34,
    "start_time": "2022-02-26T14:15:21.156Z"
   },
   {
    "duration": 499,
    "start_time": "2022-02-26T14:16:17.837Z"
   },
   {
    "duration": 22,
    "start_time": "2022-02-26T14:16:19.070Z"
   },
   {
    "duration": 15,
    "start_time": "2022-02-26T14:16:22.373Z"
   },
   {
    "duration": 509,
    "start_time": "2022-02-26T14:16:23.727Z"
   },
   {
    "duration": 20,
    "start_time": "2022-02-26T14:16:24.238Z"
   },
   {
    "duration": 263,
    "start_time": "2022-02-26T14:17:48.329Z"
   },
   {
    "duration": 577,
    "start_time": "2022-02-26T14:21:32.587Z"
   },
   {
    "duration": 265,
    "start_time": "2022-02-26T14:21:33.165Z"
   },
   {
    "duration": 8,
    "start_time": "2022-02-26T14:21:33.432Z"
   },
   {
    "duration": 22,
    "start_time": "2022-02-26T14:21:33.442Z"
   },
   {
    "duration": 9,
    "start_time": "2022-02-26T14:21:33.465Z"
   },
   {
    "duration": 4,
    "start_time": "2022-02-26T14:21:33.476Z"
   },
   {
    "duration": 25,
    "start_time": "2022-02-26T14:21:33.481Z"
   },
   {
    "duration": 7,
    "start_time": "2022-02-26T14:21:33.508Z"
   },
   {
    "duration": 6,
    "start_time": "2022-02-26T14:21:33.517Z"
   },
   {
    "duration": 6,
    "start_time": "2022-02-26T14:21:33.525Z"
   },
   {
    "duration": 8,
    "start_time": "2022-02-26T14:21:33.532Z"
   },
   {
    "duration": 6,
    "start_time": "2022-02-26T14:21:33.542Z"
   },
   {
    "duration": 17,
    "start_time": "2022-02-26T14:21:33.549Z"
   },
   {
    "duration": 57,
    "start_time": "2022-02-26T14:21:33.568Z"
   },
   {
    "duration": 15,
    "start_time": "2022-02-26T14:21:33.626Z"
   },
   {
    "duration": 522,
    "start_time": "2022-02-26T14:21:33.643Z"
   },
   {
    "duration": 21,
    "start_time": "2022-02-26T14:21:34.166Z"
   },
   {
    "duration": 329,
    "start_time": "2022-02-28T08:55:31.167Z"
   },
   {
    "duration": 209,
    "start_time": "2022-02-28T08:55:35.221Z"
   },
   {
    "duration": 508,
    "start_time": "2022-02-28T08:55:56.310Z"
   },
   {
    "duration": 250,
    "start_time": "2022-02-28T08:55:56.819Z"
   },
   {
    "duration": 10,
    "start_time": "2022-02-28T08:55:57.071Z"
   },
   {
    "duration": 23,
    "start_time": "2022-02-28T08:55:57.082Z"
   },
   {
    "duration": 8,
    "start_time": "2022-02-28T08:55:57.107Z"
   },
   {
    "duration": 4,
    "start_time": "2022-02-28T08:55:57.117Z"
   },
   {
    "duration": 8,
    "start_time": "2022-02-28T08:55:57.122Z"
   },
   {
    "duration": 9,
    "start_time": "2022-02-28T08:55:57.159Z"
   },
   {
    "duration": 7,
    "start_time": "2022-02-28T08:55:57.170Z"
   },
   {
    "duration": 8,
    "start_time": "2022-02-28T08:55:57.178Z"
   },
   {
    "duration": 7,
    "start_time": "2022-02-28T08:55:57.188Z"
   },
   {
    "duration": 5,
    "start_time": "2022-02-28T08:55:57.197Z"
   },
   {
    "duration": 8,
    "start_time": "2022-02-28T08:55:57.204Z"
   },
   {
    "duration": 73,
    "start_time": "2022-02-28T08:55:57.214Z"
   },
   {
    "duration": 15,
    "start_time": "2022-02-28T08:55:57.288Z"
   },
   {
    "duration": 559,
    "start_time": "2022-02-28T08:55:57.305Z"
   },
   {
    "duration": 24,
    "start_time": "2022-02-28T08:55:57.865Z"
   },
   {
    "duration": 10,
    "start_time": "2022-02-28T08:55:57.891Z"
   },
   {
    "duration": 268,
    "start_time": "2022-02-28T08:56:43.406Z"
   },
   {
    "duration": 280,
    "start_time": "2022-02-28T09:01:59.158Z"
   },
   {
    "duration": 2959,
    "start_time": "2022-02-28T09:02:07.758Z"
   },
   {
    "duration": 260,
    "start_time": "2022-02-28T09:04:20.316Z"
   },
   {
    "duration": 221,
    "start_time": "2022-02-28T09:05:05.725Z"
   },
   {
    "duration": 205,
    "start_time": "2022-02-28T09:05:10.258Z"
   },
   {
    "duration": 202,
    "start_time": "2022-02-28T09:05:17.002Z"
   },
   {
    "duration": 204,
    "start_time": "2022-02-28T09:05:24.460Z"
   },
   {
    "duration": 191,
    "start_time": "2022-02-28T09:05:36.486Z"
   },
   {
    "duration": 184,
    "start_time": "2022-02-28T09:06:59.308Z"
   },
   {
    "duration": 19,
    "start_time": "2022-02-28T09:07:23.413Z"
   },
   {
    "duration": 31,
    "start_time": "2022-02-28T09:07:35.729Z"
   },
   {
    "duration": 206,
    "start_time": "2022-02-28T09:12:12.083Z"
   },
   {
    "duration": 190,
    "start_time": "2022-02-28T09:12:17.485Z"
   },
   {
    "duration": 645,
    "start_time": "2022-02-28T09:12:23.656Z"
   },
   {
    "duration": 215,
    "start_time": "2022-02-28T09:12:24.303Z"
   },
   {
    "duration": 9,
    "start_time": "2022-02-28T09:12:24.520Z"
   },
   {
    "duration": 34,
    "start_time": "2022-02-28T09:12:24.531Z"
   },
   {
    "duration": 10,
    "start_time": "2022-02-28T09:12:24.566Z"
   },
   {
    "duration": 4,
    "start_time": "2022-02-28T09:12:24.578Z"
   },
   {
    "duration": 9,
    "start_time": "2022-02-28T09:12:24.584Z"
   },
   {
    "duration": 9,
    "start_time": "2022-02-28T09:12:24.596Z"
   },
   {
    "duration": 9,
    "start_time": "2022-02-28T09:12:24.606Z"
   },
   {
    "duration": 46,
    "start_time": "2022-02-28T09:12:24.616Z"
   },
   {
    "duration": 8,
    "start_time": "2022-02-28T09:12:24.664Z"
   },
   {
    "duration": 6,
    "start_time": "2022-02-28T09:12:24.674Z"
   },
   {
    "duration": 10,
    "start_time": "2022-02-28T09:12:24.682Z"
   },
   {
    "duration": 39,
    "start_time": "2022-02-28T09:12:24.693Z"
   },
   {
    "duration": 42,
    "start_time": "2022-02-28T09:12:24.733Z"
   },
   {
    "duration": 584,
    "start_time": "2022-02-28T09:12:24.776Z"
   },
   {
    "duration": 24,
    "start_time": "2022-02-28T09:12:25.362Z"
   },
   {
    "duration": 14,
    "start_time": "2022-02-28T09:12:25.388Z"
   },
   {
    "duration": 191,
    "start_time": "2022-02-28T09:12:25.403Z"
   },
   {
    "duration": 33,
    "start_time": "2022-02-28T09:12:25.596Z"
   },
   {
    "duration": 942,
    "start_time": "2022-02-28T09:12:25.631Z"
   },
   {
    "duration": 211,
    "start_time": "2022-02-28T09:12:26.574Z"
   },
   {
    "duration": 423,
    "start_time": "2022-02-28T09:13:05.607Z"
   },
   {
    "duration": 149,
    "start_time": "2022-02-28T09:13:30.767Z"
   },
   {
    "duration": 22,
    "start_time": "2022-02-28T09:18:43.228Z"
   },
   {
    "duration": 21,
    "start_time": "2022-02-28T09:18:49.351Z"
   },
   {
    "duration": 8,
    "start_time": "2022-02-28T09:23:18.009Z"
   },
   {
    "duration": 192,
    "start_time": "2022-02-28T09:23:28.914Z"
   },
   {
    "duration": 185,
    "start_time": "2022-02-28T09:23:57.226Z"
   },
   {
    "duration": 203,
    "start_time": "2022-02-28T09:24:07.008Z"
   },
   {
    "duration": 190,
    "start_time": "2022-02-28T09:24:19.335Z"
   },
   {
    "duration": 211,
    "start_time": "2022-02-28T09:24:27.554Z"
   },
   {
    "duration": 17,
    "start_time": "2022-02-28T09:24:50.379Z"
   },
   {
    "duration": 9,
    "start_time": "2022-02-28T09:27:16.578Z"
   },
   {
    "duration": 7,
    "start_time": "2022-02-28T09:27:42.280Z"
   },
   {
    "duration": 7,
    "start_time": "2022-02-28T09:28:43.425Z"
   },
   {
    "duration": 69,
    "start_time": "2022-02-28T09:31:46.377Z"
   },
   {
    "duration": 16,
    "start_time": "2022-02-28T09:31:53.005Z"
   },
   {
    "duration": 205,
    "start_time": "2022-02-28T09:32:02.130Z"
   },
   {
    "duration": 16,
    "start_time": "2022-02-28T09:32:07.215Z"
   },
   {
    "duration": 17,
    "start_time": "2022-02-28T09:32:55.756Z"
   },
   {
    "duration": 645,
    "start_time": "2022-02-28T09:33:41.389Z"
   },
   {
    "duration": 215,
    "start_time": "2022-02-28T09:33:42.036Z"
   },
   {
    "duration": 10,
    "start_time": "2022-02-28T09:33:42.254Z"
   },
   {
    "duration": 26,
    "start_time": "2022-02-28T09:33:42.266Z"
   },
   {
    "duration": 10,
    "start_time": "2022-02-28T09:33:42.293Z"
   },
   {
    "duration": 6,
    "start_time": "2022-02-28T09:33:42.305Z"
   },
   {
    "duration": 49,
    "start_time": "2022-02-28T09:33:42.313Z"
   },
   {
    "duration": 11,
    "start_time": "2022-02-28T09:33:42.366Z"
   },
   {
    "duration": 10,
    "start_time": "2022-02-28T09:33:42.379Z"
   },
   {
    "duration": 10,
    "start_time": "2022-02-28T09:33:42.391Z"
   },
   {
    "duration": 10,
    "start_time": "2022-02-28T09:33:42.404Z"
   },
   {
    "duration": 43,
    "start_time": "2022-02-28T09:33:42.416Z"
   },
   {
    "duration": 13,
    "start_time": "2022-02-28T09:33:42.461Z"
   },
   {
    "duration": 50,
    "start_time": "2022-02-28T09:33:42.475Z"
   },
   {
    "duration": 47,
    "start_time": "2022-02-28T09:33:42.527Z"
   },
   {
    "duration": 661,
    "start_time": "2022-02-28T09:33:42.576Z"
   },
   {
    "duration": 31,
    "start_time": "2022-02-28T09:33:43.239Z"
   },
   {
    "duration": 8,
    "start_time": "2022-02-28T09:33:43.272Z"
   },
   {
    "duration": 209,
    "start_time": "2022-02-28T09:33:43.282Z"
   },
   {
    "duration": 214,
    "start_time": "2022-02-28T09:33:43.492Z"
   },
   {
    "duration": 29,
    "start_time": "2022-02-28T09:33:43.708Z"
   },
   {
    "duration": 26,
    "start_time": "2022-02-28T09:33:43.739Z"
   },
   {
    "duration": 225,
    "start_time": "2022-02-28T09:33:43.768Z"
   },
   {
    "duration": 202,
    "start_time": "2022-02-28T09:34:32.858Z"
   },
   {
    "duration": 198,
    "start_time": "2022-02-28T09:34:36.850Z"
   },
   {
    "duration": 9,
    "start_time": "2022-02-28T09:36:40.691Z"
   },
   {
    "duration": 204,
    "start_time": "2022-02-28T09:37:01.777Z"
   },
   {
    "duration": 151,
    "start_time": "2022-02-28T09:37:33.849Z"
   },
   {
    "duration": 223,
    "start_time": "2022-02-28T09:38:06.847Z"
   },
   {
    "duration": 195,
    "start_time": "2022-02-28T09:38:11.762Z"
   },
   {
    "duration": 137,
    "start_time": "2022-02-28T09:38:38.067Z"
   },
   {
    "duration": 156,
    "start_time": "2022-02-28T09:38:48.267Z"
   },
   {
    "duration": 196,
    "start_time": "2022-02-28T09:38:58.917Z"
   },
   {
    "duration": 9,
    "start_time": "2022-02-28T09:39:19.754Z"
   },
   {
    "duration": 5,
    "start_time": "2022-02-28T09:40:09.973Z"
   },
   {
    "duration": 9,
    "start_time": "2022-02-28T09:40:19.224Z"
   },
   {
    "duration": 257,
    "start_time": "2022-02-28T09:40:23.903Z"
   },
   {
    "duration": 159,
    "start_time": "2022-02-28T09:40:27.814Z"
   },
   {
    "duration": 11,
    "start_time": "2022-02-28T09:41:28.340Z"
   },
   {
    "duration": 242,
    "start_time": "2022-02-28T09:42:21.569Z"
   },
   {
    "duration": 2965,
    "start_time": "2022-02-28T09:42:28.744Z"
   },
   {
    "duration": 2851,
    "start_time": "2022-02-28T09:42:38.257Z"
   },
   {
    "duration": 288,
    "start_time": "2022-02-28T09:42:52.873Z"
   },
   {
    "duration": 201,
    "start_time": "2022-02-28T09:43:37.287Z"
   },
   {
    "duration": 656,
    "start_time": "2022-02-28T09:44:37.144Z"
   },
   {
    "duration": 222,
    "start_time": "2022-02-28T09:44:37.802Z"
   },
   {
    "duration": 10,
    "start_time": "2022-02-28T09:44:38.026Z"
   },
   {
    "duration": 35,
    "start_time": "2022-02-28T09:44:38.038Z"
   },
   {
    "duration": 10,
    "start_time": "2022-02-28T09:44:38.075Z"
   },
   {
    "duration": 4,
    "start_time": "2022-02-28T09:44:38.086Z"
   },
   {
    "duration": 9,
    "start_time": "2022-02-28T09:44:38.092Z"
   },
   {
    "duration": 7,
    "start_time": "2022-02-28T09:44:38.102Z"
   },
   {
    "duration": 8,
    "start_time": "2022-02-28T09:44:38.112Z"
   },
   {
    "duration": 44,
    "start_time": "2022-02-28T09:44:38.121Z"
   },
   {
    "duration": 8,
    "start_time": "2022-02-28T09:44:38.167Z"
   },
   {
    "duration": 6,
    "start_time": "2022-02-28T09:44:38.176Z"
   },
   {
    "duration": 11,
    "start_time": "2022-02-28T09:44:38.183Z"
   },
   {
    "duration": 77,
    "start_time": "2022-02-28T09:44:38.195Z"
   },
   {
    "duration": 15,
    "start_time": "2022-02-28T09:44:38.274Z"
   },
   {
    "duration": 594,
    "start_time": "2022-02-28T09:44:38.290Z"
   },
   {
    "duration": 24,
    "start_time": "2022-02-28T09:44:38.886Z"
   },
   {
    "duration": 7,
    "start_time": "2022-02-28T09:44:38.912Z"
   },
   {
    "duration": 198,
    "start_time": "2022-02-28T09:44:38.921Z"
   },
   {
    "duration": 179,
    "start_time": "2022-02-28T09:44:39.121Z"
   },
   {
    "duration": 21,
    "start_time": "2022-02-28T09:44:39.301Z"
   },
   {
    "duration": 7,
    "start_time": "2022-02-28T09:44:39.324Z"
   },
   {
    "duration": 27,
    "start_time": "2022-02-28T09:44:39.332Z"
   },
   {
    "duration": 8,
    "start_time": "2022-02-28T09:44:39.360Z"
   },
   {
    "duration": 218,
    "start_time": "2022-02-28T09:44:39.370Z"
   },
   {
    "duration": 165,
    "start_time": "2022-02-28T09:44:39.589Z"
   },
   {
    "duration": 13,
    "start_time": "2022-02-28T09:44:53.900Z"
   },
   {
    "duration": 15,
    "start_time": "2022-02-28T09:45:32.233Z"
   },
   {
    "duration": 9,
    "start_time": "2022-02-28T09:46:30.114Z"
   },
   {
    "duration": 631,
    "start_time": "2022-02-28T09:46:38.461Z"
   },
   {
    "duration": 214,
    "start_time": "2022-02-28T09:46:39.094Z"
   },
   {
    "duration": 10,
    "start_time": "2022-02-28T09:46:39.310Z"
   },
   {
    "duration": 37,
    "start_time": "2022-02-28T09:46:39.322Z"
   },
   {
    "duration": 10,
    "start_time": "2022-02-28T09:46:39.360Z"
   },
   {
    "duration": 5,
    "start_time": "2022-02-28T09:46:39.372Z"
   },
   {
    "duration": 15,
    "start_time": "2022-02-28T09:46:39.378Z"
   },
   {
    "duration": 9,
    "start_time": "2022-02-28T09:46:39.395Z"
   },
   {
    "duration": 8,
    "start_time": "2022-02-28T09:46:39.406Z"
   },
   {
    "duration": 45,
    "start_time": "2022-02-28T09:46:39.416Z"
   },
   {
    "duration": 8,
    "start_time": "2022-02-28T09:46:39.462Z"
   },
   {
    "duration": 6,
    "start_time": "2022-02-28T09:46:39.471Z"
   },
   {
    "duration": 9,
    "start_time": "2022-02-28T09:46:39.478Z"
   },
   {
    "duration": 75,
    "start_time": "2022-02-28T09:46:39.488Z"
   },
   {
    "duration": 17,
    "start_time": "2022-02-28T09:46:39.564Z"
   },
   {
    "duration": 587,
    "start_time": "2022-02-28T09:46:39.582Z"
   },
   {
    "duration": 24,
    "start_time": "2022-02-28T09:46:40.171Z"
   },
   {
    "duration": 8,
    "start_time": "2022-02-28T09:46:40.197Z"
   },
   {
    "duration": 207,
    "start_time": "2022-02-28T09:46:40.206Z"
   },
   {
    "duration": 183,
    "start_time": "2022-02-28T09:46:40.415Z"
   },
   {
    "duration": 24,
    "start_time": "2022-02-28T09:46:40.600Z"
   },
   {
    "duration": 34,
    "start_time": "2022-02-28T09:46:40.626Z"
   },
   {
    "duration": 8,
    "start_time": "2022-02-28T09:46:40.663Z"
   },
   {
    "duration": 4,
    "start_time": "2022-02-28T09:46:40.673Z"
   },
   {
    "duration": 232,
    "start_time": "2022-02-28T09:46:40.679Z"
   },
   {
    "duration": 162,
    "start_time": "2022-02-28T09:46:40.913Z"
   },
   {
    "duration": 10,
    "start_time": "2022-02-28T09:48:50.714Z"
   },
   {
    "duration": 629,
    "start_time": "2022-02-28T09:49:09.787Z"
   },
   {
    "duration": 230,
    "start_time": "2022-02-28T09:49:10.418Z"
   },
   {
    "duration": 11,
    "start_time": "2022-02-28T09:49:10.650Z"
   },
   {
    "duration": 52,
    "start_time": "2022-02-28T09:49:10.663Z"
   },
   {
    "duration": 10,
    "start_time": "2022-02-28T09:49:10.716Z"
   },
   {
    "duration": 37,
    "start_time": "2022-02-28T09:49:10.729Z"
   },
   {
    "duration": 33,
    "start_time": "2022-02-28T09:49:10.768Z"
   },
   {
    "duration": 33,
    "start_time": "2022-02-28T09:49:10.804Z"
   },
   {
    "duration": 26,
    "start_time": "2022-02-28T09:49:10.839Z"
   },
   {
    "duration": 23,
    "start_time": "2022-02-28T09:49:10.867Z"
   },
   {
    "duration": 28,
    "start_time": "2022-02-28T09:49:10.891Z"
   },
   {
    "duration": 24,
    "start_time": "2022-02-28T09:49:10.921Z"
   },
   {
    "duration": 20,
    "start_time": "2022-02-28T09:49:10.947Z"
   },
   {
    "duration": 57,
    "start_time": "2022-02-28T09:49:10.968Z"
   },
   {
    "duration": 26,
    "start_time": "2022-02-28T09:49:11.026Z"
   },
   {
    "duration": 568,
    "start_time": "2022-02-28T09:49:11.054Z"
   },
   {
    "duration": 22,
    "start_time": "2022-02-28T09:49:11.624Z"
   },
   {
    "duration": 14,
    "start_time": "2022-02-28T09:49:11.647Z"
   },
   {
    "duration": 198,
    "start_time": "2022-02-28T09:49:11.663Z"
   },
   {
    "duration": 180,
    "start_time": "2022-02-28T09:49:11.863Z"
   },
   {
    "duration": 29,
    "start_time": "2022-02-28T09:49:12.045Z"
   },
   {
    "duration": 13,
    "start_time": "2022-02-28T09:49:12.075Z"
   },
   {
    "duration": 27,
    "start_time": "2022-02-28T09:49:12.091Z"
   },
   {
    "duration": 27,
    "start_time": "2022-02-28T09:49:12.119Z"
   },
   {
    "duration": 232,
    "start_time": "2022-02-28T09:49:12.148Z"
   },
   {
    "duration": 166,
    "start_time": "2022-02-28T09:49:12.381Z"
   },
   {
    "duration": 193,
    "start_time": "2022-02-28T09:49:50.031Z"
   },
   {
    "duration": 12,
    "start_time": "2022-02-28T09:50:22.486Z"
   },
   {
    "duration": 608,
    "start_time": "2022-02-28T11:08:32.692Z"
   },
   {
    "duration": 243,
    "start_time": "2022-02-28T11:08:33.302Z"
   },
   {
    "duration": 11,
    "start_time": "2022-02-28T11:08:33.549Z"
   },
   {
    "duration": 26,
    "start_time": "2022-02-28T11:08:33.561Z"
   },
   {
    "duration": 10,
    "start_time": "2022-02-28T11:08:33.588Z"
   },
   {
    "duration": 5,
    "start_time": "2022-02-28T11:08:33.600Z"
   },
   {
    "duration": 10,
    "start_time": "2022-02-28T11:08:33.607Z"
   },
   {
    "duration": 41,
    "start_time": "2022-02-28T11:08:33.619Z"
   },
   {
    "duration": 9,
    "start_time": "2022-02-28T11:08:33.662Z"
   },
   {
    "duration": 8,
    "start_time": "2022-02-28T11:08:33.672Z"
   },
   {
    "duration": 7,
    "start_time": "2022-02-28T11:08:33.682Z"
   },
   {
    "duration": 6,
    "start_time": "2022-02-28T11:08:33.691Z"
   },
   {
    "duration": 9,
    "start_time": "2022-02-28T11:08:33.698Z"
   },
   {
    "duration": 88,
    "start_time": "2022-02-28T11:08:33.709Z"
   },
   {
    "duration": 16,
    "start_time": "2022-02-28T11:08:33.798Z"
   },
   {
    "duration": 586,
    "start_time": "2022-02-28T11:08:33.816Z"
   },
   {
    "duration": 24,
    "start_time": "2022-02-28T11:08:34.404Z"
   },
   {
    "duration": 8,
    "start_time": "2022-02-28T11:08:34.430Z"
   },
   {
    "duration": 186,
    "start_time": "2022-02-28T11:08:34.459Z"
   },
   {
    "duration": 190,
    "start_time": "2022-02-28T11:08:34.647Z"
   },
   {
    "duration": 30,
    "start_time": "2022-02-28T11:08:34.838Z"
   },
   {
    "duration": 12,
    "start_time": "2022-02-28T11:08:34.871Z"
   },
   {
    "duration": 8,
    "start_time": "2022-02-28T11:08:34.884Z"
   },
   {
    "duration": 8,
    "start_time": "2022-02-28T11:08:34.893Z"
   },
   {
    "duration": 229,
    "start_time": "2022-02-28T11:08:34.902Z"
   },
   {
    "duration": 160,
    "start_time": "2022-02-28T11:08:35.133Z"
   },
   {
    "duration": 198,
    "start_time": "2022-02-28T11:08:35.295Z"
   },
   {
    "duration": 6,
    "start_time": "2022-02-28T11:08:35.495Z"
   },
   {
    "duration": 270,
    "start_time": "2022-02-28T11:09:09.903Z"
   },
   {
    "duration": 189,
    "start_time": "2022-02-28T11:09:21.833Z"
   },
   {
    "duration": 5,
    "start_time": "2022-02-28T11:14:35.896Z"
   },
   {
    "duration": 9,
    "start_time": "2022-02-28T11:14:55.086Z"
   },
   {
    "duration": 196,
    "start_time": "2022-02-28T11:15:03.821Z"
   },
   {
    "duration": 153,
    "start_time": "2022-02-28T11:15:10.950Z"
   },
   {
    "duration": 629,
    "start_time": "2022-02-28T11:15:19.017Z"
   },
   {
    "duration": 246,
    "start_time": "2022-02-28T11:15:19.648Z"
   },
   {
    "duration": 10,
    "start_time": "2022-02-28T11:15:19.896Z"
   },
   {
    "duration": 26,
    "start_time": "2022-02-28T11:15:19.907Z"
   },
   {
    "duration": 32,
    "start_time": "2022-02-28T11:15:19.934Z"
   },
   {
    "duration": 4,
    "start_time": "2022-02-28T11:15:19.968Z"
   },
   {
    "duration": 10,
    "start_time": "2022-02-28T11:15:19.974Z"
   },
   {
    "duration": 8,
    "start_time": "2022-02-28T11:15:19.987Z"
   },
   {
    "duration": 8,
    "start_time": "2022-02-28T11:15:19.997Z"
   },
   {
    "duration": 60,
    "start_time": "2022-02-28T11:15:20.006Z"
   },
   {
    "duration": 8,
    "start_time": "2022-02-28T11:15:20.067Z"
   },
   {
    "duration": 5,
    "start_time": "2022-02-28T11:15:20.077Z"
   },
   {
    "duration": 14,
    "start_time": "2022-02-28T11:15:20.084Z"
   },
   {
    "duration": 80,
    "start_time": "2022-02-28T11:15:20.100Z"
   },
   {
    "duration": 18,
    "start_time": "2022-02-28T11:15:20.182Z"
   },
   {
    "duration": 591,
    "start_time": "2022-02-28T11:15:20.202Z"
   },
   {
    "duration": 27,
    "start_time": "2022-02-28T11:15:20.795Z"
   },
   {
    "duration": 11,
    "start_time": "2022-02-28T11:15:20.824Z"
   },
   {
    "duration": 215,
    "start_time": "2022-02-28T11:15:20.860Z"
   },
   {
    "duration": 206,
    "start_time": "2022-02-28T11:15:21.077Z"
   },
   {
    "duration": 27,
    "start_time": "2022-02-28T11:15:21.285Z"
   },
   {
    "duration": 15,
    "start_time": "2022-02-28T11:15:21.315Z"
   },
   {
    "duration": 11,
    "start_time": "2022-02-28T11:15:21.361Z"
   },
   {
    "duration": 11,
    "start_time": "2022-02-28T11:15:21.374Z"
   },
   {
    "duration": 239,
    "start_time": "2022-02-28T11:15:21.388Z"
   },
   {
    "duration": 183,
    "start_time": "2022-02-28T11:15:21.629Z"
   },
   {
    "duration": 453,
    "start_time": "2022-02-28T11:15:21.815Z"
   },
   {
    "duration": 9,
    "start_time": "2022-02-28T11:15:22.270Z"
   },
   {
    "duration": 143,
    "start_time": "2022-02-28T11:18:47.346Z"
   },
   {
    "duration": 148,
    "start_time": "2022-02-28T11:19:51.784Z"
   },
   {
    "duration": 181,
    "start_time": "2022-02-28T11:20:22.702Z"
   },
   {
    "duration": 137,
    "start_time": "2022-02-28T11:24:09.736Z"
   },
   {
    "duration": 147,
    "start_time": "2022-02-28T11:24:26.048Z"
   },
   {
    "duration": 130,
    "start_time": "2022-02-28T11:24:52.809Z"
   },
   {
    "duration": 153,
    "start_time": "2022-02-28T11:25:01.470Z"
   },
   {
    "duration": 218,
    "start_time": "2022-02-28T11:25:11.056Z"
   },
   {
    "duration": 139,
    "start_time": "2022-02-28T11:25:27.843Z"
   },
   {
    "duration": 150,
    "start_time": "2022-02-28T11:25:37.333Z"
   },
   {
    "duration": 134,
    "start_time": "2022-02-28T11:25:48.678Z"
   },
   {
    "duration": 192,
    "start_time": "2022-02-28T11:26:16.172Z"
   },
   {
    "duration": 172,
    "start_time": "2022-02-28T11:26:38.013Z"
   },
   {
    "duration": 63,
    "start_time": "2022-02-28T11:36:07.400Z"
   },
   {
    "duration": 135,
    "start_time": "2022-02-28T11:36:13.689Z"
   },
   {
    "duration": 139,
    "start_time": "2022-02-28T11:36:18.575Z"
   },
   {
    "duration": 151,
    "start_time": "2022-02-28T11:37:21.384Z"
   },
   {
    "duration": 197,
    "start_time": "2022-02-28T11:37:51.510Z"
   },
   {
    "duration": 211,
    "start_time": "2022-02-28T11:37:55.558Z"
   },
   {
    "duration": 211,
    "start_time": "2022-02-28T11:43:03.050Z"
   },
   {
    "duration": 256,
    "start_time": "2022-02-28T11:43:08.953Z"
   },
   {
    "duration": 198,
    "start_time": "2022-02-28T11:43:19.411Z"
   },
   {
    "duration": 207,
    "start_time": "2022-02-28T11:43:24.439Z"
   },
   {
    "duration": 204,
    "start_time": "2022-02-28T11:43:31.433Z"
   },
   {
    "duration": 9,
    "start_time": "2022-02-28T11:47:09.380Z"
   },
   {
    "duration": 10,
    "start_time": "2022-02-28T11:47:25.308Z"
   },
   {
    "duration": 8,
    "start_time": "2022-02-28T11:47:37.408Z"
   },
   {
    "duration": 8,
    "start_time": "2022-02-28T11:50:49.941Z"
   },
   {
    "duration": 9,
    "start_time": "2022-02-28T11:51:48.332Z"
   },
   {
    "duration": 92,
    "start_time": "2022-02-28T11:54:12.330Z"
   },
   {
    "duration": 695,
    "start_time": "2022-02-28T11:55:00.443Z"
   },
   {
    "duration": 237,
    "start_time": "2022-02-28T11:55:01.140Z"
   },
   {
    "duration": 11,
    "start_time": "2022-02-28T11:55:01.379Z"
   },
   {
    "duration": 53,
    "start_time": "2022-02-28T11:55:01.391Z"
   },
   {
    "duration": 41,
    "start_time": "2022-02-28T11:55:01.446Z"
   },
   {
    "duration": 10,
    "start_time": "2022-02-28T11:55:01.489Z"
   },
   {
    "duration": 44,
    "start_time": "2022-02-28T11:55:01.501Z"
   },
   {
    "duration": 31,
    "start_time": "2022-02-28T11:55:01.548Z"
   },
   {
    "duration": 26,
    "start_time": "2022-02-28T11:55:01.581Z"
   },
   {
    "duration": 14,
    "start_time": "2022-02-28T11:55:01.609Z"
   },
   {
    "duration": 26,
    "start_time": "2022-02-28T11:55:01.625Z"
   },
   {
    "duration": 23,
    "start_time": "2022-02-28T11:55:01.653Z"
   },
   {
    "duration": 26,
    "start_time": "2022-02-28T11:55:01.678Z"
   },
   {
    "duration": 63,
    "start_time": "2022-02-28T11:55:01.706Z"
   },
   {
    "duration": 17,
    "start_time": "2022-02-28T11:55:01.771Z"
   },
   {
    "duration": 575,
    "start_time": "2022-02-28T11:55:01.789Z"
   },
   {
    "duration": 23,
    "start_time": "2022-02-28T11:55:02.366Z"
   },
   {
    "duration": 8,
    "start_time": "2022-02-28T11:55:02.391Z"
   },
   {
    "duration": 200,
    "start_time": "2022-02-28T11:55:02.401Z"
   },
   {
    "duration": 197,
    "start_time": "2022-02-28T11:55:02.603Z"
   },
   {
    "duration": 21,
    "start_time": "2022-02-28T11:55:02.802Z"
   },
   {
    "duration": 11,
    "start_time": "2022-02-28T11:55:02.825Z"
   },
   {
    "duration": 26,
    "start_time": "2022-02-28T11:55:02.839Z"
   },
   {
    "duration": 9,
    "start_time": "2022-02-28T11:55:02.867Z"
   },
   {
    "duration": 223,
    "start_time": "2022-02-28T11:55:02.877Z"
   },
   {
    "duration": 169,
    "start_time": "2022-02-28T11:55:03.101Z"
   },
   {
    "duration": 217,
    "start_time": "2022-02-28T11:55:03.272Z"
   },
   {
    "duration": 8,
    "start_time": "2022-02-28T11:55:03.490Z"
   },
   {
    "duration": 103,
    "start_time": "2022-02-28T11:55:03.500Z"
   },
   {
    "duration": 13,
    "start_time": "2022-02-28T11:55:55.924Z"
   },
   {
    "duration": 142,
    "start_time": "2022-02-28T11:57:51.644Z"
   },
   {
    "duration": 259,
    "start_time": "2022-02-28T11:59:05.786Z"
   },
   {
    "duration": 10,
    "start_time": "2022-02-28T11:59:48.825Z"
   },
   {
    "duration": 185,
    "start_time": "2022-02-28T12:00:59.152Z"
   },
   {
    "duration": 201,
    "start_time": "2022-02-28T12:01:35.017Z"
   },
   {
    "duration": 188,
    "start_time": "2022-02-28T12:01:42.059Z"
   },
   {
    "duration": 16,
    "start_time": "2022-02-28T12:03:26.669Z"
   },
   {
    "duration": 14,
    "start_time": "2022-02-28T12:03:54.094Z"
   },
   {
    "duration": 14,
    "start_time": "2022-02-28T12:05:27.592Z"
   },
   {
    "duration": 732,
    "start_time": "2022-02-28T12:05:33.150Z"
   },
   {
    "duration": 219,
    "start_time": "2022-02-28T12:05:33.884Z"
   },
   {
    "duration": 11,
    "start_time": "2022-02-28T12:05:34.106Z"
   },
   {
    "duration": 44,
    "start_time": "2022-02-28T12:05:34.119Z"
   },
   {
    "duration": 10,
    "start_time": "2022-02-28T12:05:34.165Z"
   },
   {
    "duration": 5,
    "start_time": "2022-02-28T12:05:34.177Z"
   },
   {
    "duration": 10,
    "start_time": "2022-02-28T12:05:34.183Z"
   },
   {
    "duration": 9,
    "start_time": "2022-02-28T12:05:34.196Z"
   },
   {
    "duration": 8,
    "start_time": "2022-02-28T12:05:34.207Z"
   },
   {
    "duration": 9,
    "start_time": "2022-02-28T12:05:34.260Z"
   },
   {
    "duration": 8,
    "start_time": "2022-02-28T12:05:34.271Z"
   },
   {
    "duration": 6,
    "start_time": "2022-02-28T12:05:34.281Z"
   },
   {
    "duration": 10,
    "start_time": "2022-02-28T12:05:34.288Z"
   },
   {
    "duration": 82,
    "start_time": "2022-02-28T12:05:34.300Z"
   },
   {
    "duration": 16,
    "start_time": "2022-02-28T12:05:34.384Z"
   },
   {
    "duration": 594,
    "start_time": "2022-02-28T12:05:34.402Z"
   },
   {
    "duration": 25,
    "start_time": "2022-02-28T12:05:34.998Z"
   },
   {
    "duration": 8,
    "start_time": "2022-02-28T12:05:35.025Z"
   },
   {
    "duration": 212,
    "start_time": "2022-02-28T12:05:35.035Z"
   },
   {
    "duration": 195,
    "start_time": "2022-02-28T12:05:35.248Z"
   },
   {
    "duration": 28,
    "start_time": "2022-02-28T12:05:35.445Z"
   },
   {
    "duration": 13,
    "start_time": "2022-02-28T12:05:35.475Z"
   },
   {
    "duration": 8,
    "start_time": "2022-02-28T12:05:35.491Z"
   },
   {
    "duration": 11,
    "start_time": "2022-02-28T12:05:35.501Z"
   },
   {
    "duration": 249,
    "start_time": "2022-02-28T12:05:35.514Z"
   },
   {
    "duration": 169,
    "start_time": "2022-02-28T12:05:35.765Z"
   },
   {
    "duration": 230,
    "start_time": "2022-02-28T12:05:35.936Z"
   },
   {
    "duration": 163,
    "start_time": "2022-02-28T12:05:36.168Z"
   },
   {
    "duration": 8,
    "start_time": "2022-02-28T12:05:36.333Z"
   },
   {
    "duration": 212,
    "start_time": "2022-02-28T12:05:36.343Z"
   },
   {
    "duration": 14,
    "start_time": "2022-02-28T12:05:36.559Z"
   },
   {
    "duration": 15,
    "start_time": "2022-02-28T12:07:48.518Z"
   },
   {
    "duration": 15,
    "start_time": "2022-02-28T12:07:54.275Z"
   },
   {
    "duration": 13,
    "start_time": "2022-02-28T12:08:16.267Z"
   },
   {
    "duration": 9,
    "start_time": "2022-02-28T12:08:39.728Z"
   },
   {
    "duration": 192,
    "start_time": "2022-02-28T12:08:40.846Z"
   },
   {
    "duration": 13,
    "start_time": "2022-02-28T12:08:42.766Z"
   },
   {
    "duration": 9,
    "start_time": "2022-02-28T12:09:32.786Z"
   },
   {
    "duration": 626,
    "start_time": "2022-02-28T12:09:47.991Z"
   },
   {
    "duration": 261,
    "start_time": "2022-02-28T12:09:48.619Z"
   },
   {
    "duration": 11,
    "start_time": "2022-02-28T12:09:48.882Z"
   },
   {
    "duration": 27,
    "start_time": "2022-02-28T12:09:48.895Z"
   },
   {
    "duration": 11,
    "start_time": "2022-02-28T12:09:48.924Z"
   },
   {
    "duration": 26,
    "start_time": "2022-02-28T12:09:48.936Z"
   },
   {
    "duration": 10,
    "start_time": "2022-02-28T12:09:48.965Z"
   },
   {
    "duration": 9,
    "start_time": "2022-02-28T12:09:48.978Z"
   },
   {
    "duration": 9,
    "start_time": "2022-02-28T12:09:48.989Z"
   },
   {
    "duration": 9,
    "start_time": "2022-02-28T12:09:49.000Z"
   },
   {
    "duration": 55,
    "start_time": "2022-02-28T12:09:49.011Z"
   },
   {
    "duration": 6,
    "start_time": "2022-02-28T12:09:49.068Z"
   },
   {
    "duration": 10,
    "start_time": "2022-02-28T12:09:49.076Z"
   },
   {
    "duration": 73,
    "start_time": "2022-02-28T12:09:49.088Z"
   },
   {
    "duration": 17,
    "start_time": "2022-02-28T12:09:49.163Z"
   },
   {
    "duration": 609,
    "start_time": "2022-02-28T12:09:49.181Z"
   },
   {
    "duration": 26,
    "start_time": "2022-02-28T12:09:49.791Z"
   },
   {
    "duration": 9,
    "start_time": "2022-02-28T12:09:49.819Z"
   },
   {
    "duration": 214,
    "start_time": "2022-02-28T12:09:49.830Z"
   },
   {
    "duration": 209,
    "start_time": "2022-02-28T12:09:50.046Z"
   },
   {
    "duration": 24,
    "start_time": "2022-02-28T12:09:50.257Z"
   },
   {
    "duration": 12,
    "start_time": "2022-02-28T12:09:50.282Z"
   },
   {
    "duration": 8,
    "start_time": "2022-02-28T12:09:50.296Z"
   },
   {
    "duration": 13,
    "start_time": "2022-02-28T12:09:50.305Z"
   },
   {
    "duration": 246,
    "start_time": "2022-02-28T12:09:50.320Z"
   },
   {
    "duration": 169,
    "start_time": "2022-02-28T12:09:50.568Z"
   },
   {
    "duration": 223,
    "start_time": "2022-02-28T12:09:50.739Z"
   },
   {
    "duration": 160,
    "start_time": "2022-02-28T12:09:50.964Z"
   },
   {
    "duration": 9,
    "start_time": "2022-02-28T12:09:51.126Z"
   },
   {
    "duration": 213,
    "start_time": "2022-02-28T12:09:51.136Z"
   },
   {
    "duration": 20,
    "start_time": "2022-02-28T12:09:51.350Z"
   },
   {
    "duration": 14,
    "start_time": "2022-02-28T12:12:01.136Z"
   },
   {
    "duration": 10,
    "start_time": "2022-02-28T12:12:32.016Z"
   },
   {
    "duration": 12,
    "start_time": "2022-02-28T12:12:46.390Z"
   },
   {
    "duration": 13,
    "start_time": "2022-02-28T12:12:49.470Z"
   },
   {
    "duration": 620,
    "start_time": "2022-02-28T12:13:37.893Z"
   },
   {
    "duration": 226,
    "start_time": "2022-02-28T12:13:38.515Z"
   },
   {
    "duration": 16,
    "start_time": "2022-02-28T12:13:38.743Z"
   },
   {
    "duration": 26,
    "start_time": "2022-02-28T12:13:38.761Z"
   },
   {
    "duration": 10,
    "start_time": "2022-02-28T12:13:38.789Z"
   },
   {
    "duration": 5,
    "start_time": "2022-02-28T12:13:38.800Z"
   },
   {
    "duration": 52,
    "start_time": "2022-02-28T12:13:38.807Z"
   },
   {
    "duration": 9,
    "start_time": "2022-02-28T12:13:38.862Z"
   },
   {
    "duration": 8,
    "start_time": "2022-02-28T12:13:38.872Z"
   },
   {
    "duration": 8,
    "start_time": "2022-02-28T12:13:38.881Z"
   },
   {
    "duration": 8,
    "start_time": "2022-02-28T12:13:38.891Z"
   },
   {
    "duration": 6,
    "start_time": "2022-02-28T12:13:38.900Z"
   },
   {
    "duration": 10,
    "start_time": "2022-02-28T12:13:38.959Z"
   },
   {
    "duration": 41,
    "start_time": "2022-02-28T12:13:38.970Z"
   },
   {
    "duration": 51,
    "start_time": "2022-02-28T12:13:39.013Z"
   },
   {
    "duration": 612,
    "start_time": "2022-02-28T12:13:39.066Z"
   },
   {
    "duration": 26,
    "start_time": "2022-02-28T12:13:39.680Z"
   },
   {
    "duration": 22,
    "start_time": "2022-02-28T12:13:39.708Z"
   },
   {
    "duration": 214,
    "start_time": "2022-02-28T12:13:39.732Z"
   },
   {
    "duration": 205,
    "start_time": "2022-02-28T12:13:39.948Z"
   },
   {
    "duration": 25,
    "start_time": "2022-02-28T12:13:40.155Z"
   },
   {
    "duration": 12,
    "start_time": "2022-02-28T12:13:40.181Z"
   },
   {
    "duration": 8,
    "start_time": "2022-02-28T12:13:40.196Z"
   },
   {
    "duration": 53,
    "start_time": "2022-02-28T12:13:40.206Z"
   },
   {
    "duration": 232,
    "start_time": "2022-02-28T12:13:40.261Z"
   },
   {
    "duration": 192,
    "start_time": "2022-02-28T12:13:40.494Z"
   },
   {
    "duration": 235,
    "start_time": "2022-02-28T12:13:40.688Z"
   },
   {
    "duration": 177,
    "start_time": "2022-02-28T12:13:40.925Z"
   },
   {
    "duration": 11,
    "start_time": "2022-02-28T12:13:41.104Z"
   },
   {
    "duration": 222,
    "start_time": "2022-02-28T12:13:41.117Z"
   },
   {
    "duration": 19,
    "start_time": "2022-02-28T12:14:33.296Z"
   },
   {
    "duration": 210,
    "start_time": "2022-02-28T12:17:11.926Z"
   },
   {
    "duration": 213,
    "start_time": "2022-02-28T12:17:50.871Z"
   },
   {
    "duration": 195,
    "start_time": "2022-02-28T12:17:55.135Z"
   },
   {
    "duration": 216,
    "start_time": "2022-02-28T12:18:00.563Z"
   },
   {
    "duration": 203,
    "start_time": "2022-02-28T12:18:06.024Z"
   },
   {
    "duration": 253,
    "start_time": "2022-02-28T12:18:15.695Z"
   },
   {
    "duration": 665,
    "start_time": "2022-02-28T12:20:40.964Z"
   },
   {
    "duration": 203,
    "start_time": "2022-02-28T12:20:41.631Z"
   },
   {
    "duration": 10,
    "start_time": "2022-02-28T12:20:41.835Z"
   },
   {
    "duration": 53,
    "start_time": "2022-02-28T12:20:41.847Z"
   },
   {
    "duration": 10,
    "start_time": "2022-02-28T12:20:41.901Z"
   },
   {
    "duration": 22,
    "start_time": "2022-02-28T12:20:41.913Z"
   },
   {
    "duration": 26,
    "start_time": "2022-02-28T12:20:41.937Z"
   },
   {
    "duration": 33,
    "start_time": "2022-02-28T12:20:41.966Z"
   },
   {
    "duration": 45,
    "start_time": "2022-02-28T12:20:42.001Z"
   },
   {
    "duration": 20,
    "start_time": "2022-02-28T12:20:42.048Z"
   },
   {
    "duration": 32,
    "start_time": "2022-02-28T12:20:42.070Z"
   },
   {
    "duration": 28,
    "start_time": "2022-02-28T12:20:42.104Z"
   },
   {
    "duration": 47,
    "start_time": "2022-02-28T12:20:42.134Z"
   },
   {
    "duration": 59,
    "start_time": "2022-02-28T12:20:42.183Z"
   },
   {
    "duration": 19,
    "start_time": "2022-02-28T12:20:42.244Z"
   },
   {
    "duration": 575,
    "start_time": "2022-02-28T12:20:42.264Z"
   },
   {
    "duration": 32,
    "start_time": "2022-02-28T12:20:42.841Z"
   },
   {
    "duration": 8,
    "start_time": "2022-02-28T12:20:42.874Z"
   },
   {
    "duration": 195,
    "start_time": "2022-02-28T12:20:42.883Z"
   },
   {
    "duration": 183,
    "start_time": "2022-02-28T12:20:43.080Z"
   },
   {
    "duration": 21,
    "start_time": "2022-02-28T12:20:43.265Z"
   },
   {
    "duration": 11,
    "start_time": "2022-02-28T12:20:43.288Z"
   },
   {
    "duration": 8,
    "start_time": "2022-02-28T12:20:43.301Z"
   },
   {
    "duration": 11,
    "start_time": "2022-02-28T12:20:43.310Z"
   },
   {
    "duration": 245,
    "start_time": "2022-02-28T12:20:43.323Z"
   },
   {
    "duration": 173,
    "start_time": "2022-02-28T12:20:43.570Z"
   },
   {
    "duration": 221,
    "start_time": "2022-02-28T12:20:43.745Z"
   },
   {
    "duration": 171,
    "start_time": "2022-02-28T12:20:43.968Z"
   },
   {
    "duration": 20,
    "start_time": "2022-02-28T12:20:44.141Z"
   },
   {
    "duration": 205,
    "start_time": "2022-02-28T12:20:44.163Z"
   },
   {
    "duration": 19,
    "start_time": "2022-02-28T12:20:44.370Z"
   },
   {
    "duration": 236,
    "start_time": "2022-02-28T12:20:44.391Z"
   },
   {
    "duration": 137,
    "start_time": "2022-02-28T12:21:13.148Z"
   },
   {
    "duration": 143,
    "start_time": "2022-02-28T12:21:34.472Z"
   },
   {
    "duration": 677,
    "start_time": "2022-02-28T12:21:55.447Z"
   },
   {
    "duration": 204,
    "start_time": "2022-02-28T12:21:56.126Z"
   },
   {
    "duration": 11,
    "start_time": "2022-02-28T12:21:56.332Z"
   },
   {
    "duration": 44,
    "start_time": "2022-02-28T12:21:56.345Z"
   },
   {
    "duration": 10,
    "start_time": "2022-02-28T12:21:56.391Z"
   },
   {
    "duration": 5,
    "start_time": "2022-02-28T12:21:56.403Z"
   },
   {
    "duration": 8,
    "start_time": "2022-02-28T12:21:56.410Z"
   },
   {
    "duration": 47,
    "start_time": "2022-02-28T12:21:56.420Z"
   },
   {
    "duration": 12,
    "start_time": "2022-02-28T12:21:56.470Z"
   },
   {
    "duration": 11,
    "start_time": "2022-02-28T12:21:56.484Z"
   },
   {
    "duration": 11,
    "start_time": "2022-02-28T12:21:56.497Z"
   },
   {
    "duration": 6,
    "start_time": "2022-02-28T12:21:56.510Z"
   },
   {
    "duration": 54,
    "start_time": "2022-02-28T12:21:56.518Z"
   },
   {
    "duration": 40,
    "start_time": "2022-02-28T12:21:56.574Z"
   },
   {
    "duration": 49,
    "start_time": "2022-02-28T12:21:56.616Z"
   },
   {
    "duration": 663,
    "start_time": "2022-02-28T12:21:56.668Z"
   },
   {
    "duration": 30,
    "start_time": "2022-02-28T12:21:57.333Z"
   },
   {
    "duration": 12,
    "start_time": "2022-02-28T12:21:57.366Z"
   },
   {
    "duration": 230,
    "start_time": "2022-02-28T12:21:57.381Z"
   },
   {
    "duration": 211,
    "start_time": "2022-02-28T12:21:57.613Z"
   },
   {
    "duration": 41,
    "start_time": "2022-02-28T12:21:57.826Z"
   },
   {
    "duration": 15,
    "start_time": "2022-02-28T12:21:57.870Z"
   },
   {
    "duration": 9,
    "start_time": "2022-02-28T12:21:57.886Z"
   },
   {
    "duration": 10,
    "start_time": "2022-02-28T12:21:57.897Z"
   },
   {
    "duration": 272,
    "start_time": "2022-02-28T12:21:57.908Z"
   },
   {
    "duration": 196,
    "start_time": "2022-02-28T12:21:58.182Z"
   },
   {
    "duration": 238,
    "start_time": "2022-02-28T12:21:58.383Z"
   },
   {
    "duration": 185,
    "start_time": "2022-02-28T12:21:58.623Z"
   },
   {
    "duration": 8,
    "start_time": "2022-02-28T12:21:58.811Z"
   },
   {
    "duration": 224,
    "start_time": "2022-02-28T12:21:58.821Z"
   },
   {
    "duration": 30,
    "start_time": "2022-02-28T12:21:59.047Z"
   },
   {
    "duration": 244,
    "start_time": "2022-02-28T12:21:59.079Z"
   },
   {
    "duration": 24,
    "start_time": "2022-02-28T12:22:19.892Z"
   },
   {
    "duration": 657,
    "start_time": "2022-02-28T12:22:28.552Z"
   },
   {
    "duration": 217,
    "start_time": "2022-02-28T12:22:29.211Z"
   },
   {
    "duration": 10,
    "start_time": "2022-02-28T12:22:29.430Z"
   },
   {
    "duration": 44,
    "start_time": "2022-02-28T12:22:29.442Z"
   },
   {
    "duration": 10,
    "start_time": "2022-02-28T12:22:29.487Z"
   },
   {
    "duration": 5,
    "start_time": "2022-02-28T12:22:29.498Z"
   },
   {
    "duration": 9,
    "start_time": "2022-02-28T12:22:29.505Z"
   },
   {
    "duration": 47,
    "start_time": "2022-02-28T12:22:29.516Z"
   },
   {
    "duration": 11,
    "start_time": "2022-02-28T12:22:29.566Z"
   },
   {
    "duration": 8,
    "start_time": "2022-02-28T12:22:29.579Z"
   },
   {
    "duration": 8,
    "start_time": "2022-02-28T12:22:29.589Z"
   },
   {
    "duration": 6,
    "start_time": "2022-02-28T12:22:29.599Z"
   },
   {
    "duration": 9,
    "start_time": "2022-02-28T12:22:29.606Z"
   },
   {
    "duration": 45,
    "start_time": "2022-02-28T12:22:29.660Z"
   },
   {
    "duration": 16,
    "start_time": "2022-02-28T12:22:29.707Z"
   },
   {
    "duration": 964,
    "start_time": "2022-02-28T12:22:29.725Z"
   },
   {
    "duration": 25,
    "start_time": "2022-02-28T12:22:30.690Z"
   },
   {
    "duration": 69,
    "start_time": "2022-02-28T12:22:30.717Z"
   },
   {
    "duration": 214,
    "start_time": "2022-02-28T12:22:30.788Z"
   },
   {
    "duration": 211,
    "start_time": "2022-02-28T12:22:31.004Z"
   },
   {
    "duration": 27,
    "start_time": "2022-02-28T12:22:31.217Z"
   },
   {
    "duration": 29,
    "start_time": "2022-02-28T12:22:31.246Z"
   },
   {
    "duration": 8,
    "start_time": "2022-02-28T12:22:31.278Z"
   },
   {
    "duration": 29,
    "start_time": "2022-02-28T12:22:31.288Z"
   },
   {
    "duration": 253,
    "start_time": "2022-02-28T12:22:31.319Z"
   },
   {
    "duration": 182,
    "start_time": "2022-02-28T12:22:31.574Z"
   },
   {
    "duration": 252,
    "start_time": "2022-02-28T12:22:31.760Z"
   },
   {
    "duration": 169,
    "start_time": "2022-02-28T12:22:32.014Z"
   },
   {
    "duration": 8,
    "start_time": "2022-02-28T12:22:32.185Z"
   },
   {
    "duration": 219,
    "start_time": "2022-02-28T12:22:32.195Z"
   },
   {
    "duration": 17,
    "start_time": "2022-02-28T12:22:32.416Z"
   },
   {
    "duration": 246,
    "start_time": "2022-02-28T12:22:32.435Z"
   },
   {
    "duration": 669,
    "start_time": "2022-02-28T12:23:16.337Z"
   },
   {
    "duration": 279,
    "start_time": "2022-02-28T12:23:17.008Z"
   },
   {
    "duration": 10,
    "start_time": "2022-02-28T12:23:17.289Z"
   },
   {
    "duration": 85,
    "start_time": "2022-02-28T12:23:17.301Z"
   },
   {
    "duration": 19,
    "start_time": "2022-02-28T12:23:17.387Z"
   },
   {
    "duration": 26,
    "start_time": "2022-02-28T12:23:17.408Z"
   },
   {
    "duration": 63,
    "start_time": "2022-02-28T12:23:17.436Z"
   },
   {
    "duration": 20,
    "start_time": "2022-02-28T12:23:17.500Z"
   },
   {
    "duration": 19,
    "start_time": "2022-02-28T12:23:17.523Z"
   },
   {
    "duration": 31,
    "start_time": "2022-02-28T12:23:17.544Z"
   },
   {
    "duration": 26,
    "start_time": "2022-02-28T12:23:17.577Z"
   },
   {
    "duration": 7,
    "start_time": "2022-02-28T12:23:17.605Z"
   },
   {
    "duration": 25,
    "start_time": "2022-02-28T12:23:17.613Z"
   },
   {
    "duration": 54,
    "start_time": "2022-02-28T12:23:17.640Z"
   },
   {
    "duration": 19,
    "start_time": "2022-02-28T12:23:17.696Z"
   },
   {
    "duration": 619,
    "start_time": "2022-02-28T12:23:17.717Z"
   },
   {
    "duration": 37,
    "start_time": "2022-02-28T12:23:18.337Z"
   },
   {
    "duration": 9,
    "start_time": "2022-02-28T12:23:18.376Z"
   },
   {
    "duration": 219,
    "start_time": "2022-02-28T12:23:18.386Z"
   },
   {
    "duration": 207,
    "start_time": "2022-02-28T12:23:18.606Z"
   },
   {
    "duration": 48,
    "start_time": "2022-02-28T12:23:18.814Z"
   },
   {
    "duration": 16,
    "start_time": "2022-02-28T12:23:18.864Z"
   },
   {
    "duration": 9,
    "start_time": "2022-02-28T12:23:18.882Z"
   },
   {
    "duration": 11,
    "start_time": "2022-02-28T12:23:18.893Z"
   },
   {
    "duration": 270,
    "start_time": "2022-02-28T12:23:18.906Z"
   },
   {
    "duration": 176,
    "start_time": "2022-02-28T12:23:19.178Z"
   },
   {
    "duration": 245,
    "start_time": "2022-02-28T12:23:19.357Z"
   },
   {
    "duration": 170,
    "start_time": "2022-02-28T12:23:19.604Z"
   },
   {
    "duration": 9,
    "start_time": "2022-02-28T12:23:19.776Z"
   },
   {
    "duration": 222,
    "start_time": "2022-02-28T12:23:19.787Z"
   },
   {
    "duration": 18,
    "start_time": "2022-02-28T12:23:20.011Z"
   },
   {
    "duration": 259,
    "start_time": "2022-02-28T12:23:20.031Z"
   },
   {
    "duration": 17,
    "start_time": "2022-02-28T12:24:15.170Z"
   },
   {
    "duration": 669,
    "start_time": "2022-02-28T12:24:24.535Z"
   },
   {
    "duration": 225,
    "start_time": "2022-02-28T12:24:25.206Z"
   },
   {
    "duration": 11,
    "start_time": "2022-02-28T12:24:25.433Z"
   },
   {
    "duration": 47,
    "start_time": "2022-02-28T12:24:25.446Z"
   },
   {
    "duration": 10,
    "start_time": "2022-02-28T12:24:25.495Z"
   },
   {
    "duration": 6,
    "start_time": "2022-02-28T12:24:25.507Z"
   },
   {
    "duration": 24,
    "start_time": "2022-02-28T12:24:25.514Z"
   },
   {
    "duration": 23,
    "start_time": "2022-02-28T12:24:25.539Z"
   },
   {
    "duration": 11,
    "start_time": "2022-02-28T12:24:25.566Z"
   },
   {
    "duration": 18,
    "start_time": "2022-02-28T12:24:25.580Z"
   },
   {
    "duration": 14,
    "start_time": "2022-02-28T12:24:25.600Z"
   },
   {
    "duration": 16,
    "start_time": "2022-02-28T12:24:25.616Z"
   },
   {
    "duration": 28,
    "start_time": "2022-02-28T12:24:25.634Z"
   },
   {
    "duration": 45,
    "start_time": "2022-02-28T12:24:25.665Z"
   },
   {
    "duration": 52,
    "start_time": "2022-02-28T12:24:25.712Z"
   },
   {
    "duration": 637,
    "start_time": "2022-02-28T12:24:25.767Z"
   },
   {
    "duration": 63,
    "start_time": "2022-02-28T12:24:26.406Z"
   },
   {
    "duration": 11,
    "start_time": "2022-02-28T12:24:26.471Z"
   },
   {
    "duration": 485,
    "start_time": "2022-02-28T12:24:26.484Z"
   },
   {
    "duration": 219,
    "start_time": "2022-02-28T12:24:26.971Z"
   },
   {
    "duration": 35,
    "start_time": "2022-02-28T12:24:27.192Z"
   },
   {
    "duration": 39,
    "start_time": "2022-02-28T12:24:27.229Z"
   },
   {
    "duration": 10,
    "start_time": "2022-02-28T12:24:27.270Z"
   },
   {
    "duration": 10,
    "start_time": "2022-02-28T12:24:27.281Z"
   },
   {
    "duration": 251,
    "start_time": "2022-02-28T12:24:27.293Z"
   },
   {
    "duration": 182,
    "start_time": "2022-02-28T12:24:27.546Z"
   },
   {
    "duration": 248,
    "start_time": "2022-02-28T12:24:27.731Z"
   },
   {
    "duration": 168,
    "start_time": "2022-02-28T12:24:27.981Z"
   },
   {
    "duration": 23,
    "start_time": "2022-02-28T12:24:28.151Z"
   },
   {
    "duration": 212,
    "start_time": "2022-02-28T12:24:28.176Z"
   },
   {
    "duration": 19,
    "start_time": "2022-02-28T12:24:28.390Z"
   },
   {
    "duration": 239,
    "start_time": "2022-02-28T12:24:28.411Z"
   },
   {
    "duration": 16,
    "start_time": "2022-02-28T12:25:19.883Z"
   },
   {
    "duration": 629,
    "start_time": "2022-02-28T12:28:12.200Z"
   },
   {
    "duration": 227,
    "start_time": "2022-02-28T12:28:12.831Z"
   },
   {
    "duration": 11,
    "start_time": "2022-02-28T12:28:13.060Z"
   },
   {
    "duration": 25,
    "start_time": "2022-02-28T12:28:13.073Z"
   },
   {
    "duration": 10,
    "start_time": "2022-02-28T12:28:13.100Z"
   },
   {
    "duration": 5,
    "start_time": "2022-02-28T12:28:13.111Z"
   },
   {
    "duration": 48,
    "start_time": "2022-02-28T12:28:13.118Z"
   },
   {
    "duration": 8,
    "start_time": "2022-02-28T12:28:13.169Z"
   },
   {
    "duration": 8,
    "start_time": "2022-02-28T12:28:13.179Z"
   },
   {
    "duration": 7,
    "start_time": "2022-02-28T12:28:13.188Z"
   },
   {
    "duration": 7,
    "start_time": "2022-02-28T12:28:13.197Z"
   },
   {
    "duration": 5,
    "start_time": "2022-02-28T12:28:13.206Z"
   },
   {
    "duration": 51,
    "start_time": "2022-02-28T12:28:13.212Z"
   },
   {
    "duration": 38,
    "start_time": "2022-02-28T12:28:13.264Z"
   },
   {
    "duration": 16,
    "start_time": "2022-02-28T12:28:13.304Z"
   },
   {
    "duration": 619,
    "start_time": "2022-02-28T12:28:13.322Z"
   },
   {
    "duration": 28,
    "start_time": "2022-02-28T12:28:13.943Z"
   },
   {
    "duration": 8,
    "start_time": "2022-02-28T12:28:13.972Z"
   },
   {
    "duration": 206,
    "start_time": "2022-02-28T12:28:13.981Z"
   },
   {
    "duration": 189,
    "start_time": "2022-02-28T12:28:14.189Z"
   },
   {
    "duration": 26,
    "start_time": "2022-02-28T12:28:14.380Z"
   },
   {
    "duration": 13,
    "start_time": "2022-02-28T12:28:14.408Z"
   },
   {
    "duration": 39,
    "start_time": "2022-02-28T12:28:14.424Z"
   },
   {
    "duration": 11,
    "start_time": "2022-02-28T12:28:14.465Z"
   },
   {
    "duration": 239,
    "start_time": "2022-02-28T12:28:14.478Z"
   },
   {
    "duration": 177,
    "start_time": "2022-02-28T12:28:14.719Z"
   },
   {
    "duration": 229,
    "start_time": "2022-02-28T12:28:14.898Z"
   },
   {
    "duration": 170,
    "start_time": "2022-02-28T12:28:15.130Z"
   },
   {
    "duration": 11,
    "start_time": "2022-02-28T12:28:15.303Z"
   },
   {
    "duration": 227,
    "start_time": "2022-02-28T12:28:15.316Z"
   },
   {
    "duration": 30,
    "start_time": "2022-02-28T12:28:15.545Z"
   },
   {
    "duration": 236,
    "start_time": "2022-02-28T12:28:15.577Z"
   },
   {
    "duration": 9,
    "start_time": "2022-02-28T12:30:01.685Z"
   },
   {
    "duration": 35,
    "start_time": "2022-02-28T12:30:52.012Z"
   },
   {
    "duration": 206,
    "start_time": "2022-02-28T12:31:25.470Z"
   },
   {
    "duration": 16,
    "start_time": "2022-02-28T12:32:33.009Z"
   },
   {
    "duration": 8,
    "start_time": "2022-02-28T12:32:43.234Z"
   },
   {
    "duration": 199,
    "start_time": "2022-02-28T12:32:46.461Z"
   },
   {
    "duration": 621,
    "start_time": "2022-02-28T12:33:18.406Z"
   },
   {
    "duration": 323,
    "start_time": "2022-02-28T12:33:19.028Z"
   },
   {
    "duration": 11,
    "start_time": "2022-02-28T12:33:19.353Z"
   },
   {
    "duration": 29,
    "start_time": "2022-02-28T12:33:19.366Z"
   },
   {
    "duration": 10,
    "start_time": "2022-02-28T12:33:19.397Z"
   },
   {
    "duration": 5,
    "start_time": "2022-02-28T12:33:19.409Z"
   },
   {
    "duration": 17,
    "start_time": "2022-02-28T12:33:19.415Z"
   },
   {
    "duration": 30,
    "start_time": "2022-02-28T12:33:19.434Z"
   },
   {
    "duration": 9,
    "start_time": "2022-02-28T12:33:19.466Z"
   },
   {
    "duration": 9,
    "start_time": "2022-02-28T12:33:19.477Z"
   },
   {
    "duration": 10,
    "start_time": "2022-02-28T12:33:19.488Z"
   },
   {
    "duration": 6,
    "start_time": "2022-02-28T12:33:19.500Z"
   },
   {
    "duration": 56,
    "start_time": "2022-02-28T12:33:19.507Z"
   },
   {
    "duration": 41,
    "start_time": "2022-02-28T12:33:19.564Z"
   },
   {
    "duration": 17,
    "start_time": "2022-02-28T12:33:19.607Z"
   },
   {
    "duration": 596,
    "start_time": "2022-02-28T12:33:19.626Z"
   },
   {
    "duration": 36,
    "start_time": "2022-02-28T12:33:20.224Z"
   },
   {
    "duration": 11,
    "start_time": "2022-02-28T12:33:20.262Z"
   },
   {
    "duration": 212,
    "start_time": "2022-02-28T12:33:20.275Z"
   },
   {
    "duration": 193,
    "start_time": "2022-02-28T12:33:20.489Z"
   },
   {
    "duration": 24,
    "start_time": "2022-02-28T12:33:20.684Z"
   },
   {
    "duration": 18,
    "start_time": "2022-02-28T12:33:20.709Z"
   },
   {
    "duration": 33,
    "start_time": "2022-02-28T12:33:20.728Z"
   },
   {
    "duration": 11,
    "start_time": "2022-02-28T12:33:20.763Z"
   },
   {
    "duration": 294,
    "start_time": "2022-02-28T12:33:20.776Z"
   },
   {
    "duration": 315,
    "start_time": "2022-02-28T12:33:21.072Z"
   },
   {
    "duration": 256,
    "start_time": "2022-02-28T12:33:21.391Z"
   },
   {
    "duration": 164,
    "start_time": "2022-02-28T12:33:21.649Z"
   },
   {
    "duration": 9,
    "start_time": "2022-02-28T12:33:21.814Z"
   },
   {
    "duration": 209,
    "start_time": "2022-02-28T12:33:21.825Z"
   },
   {
    "duration": 27,
    "start_time": "2022-02-28T12:33:22.036Z"
   },
   {
    "duration": 217,
    "start_time": "2022-02-28T12:33:22.065Z"
   },
   {
    "duration": 10,
    "start_time": "2022-02-28T12:33:22.283Z"
   },
   {
    "duration": 219,
    "start_time": "2022-02-28T12:33:22.294Z"
   },
   {
    "duration": 143,
    "start_time": "2022-02-28T12:33:56.781Z"
   },
   {
    "duration": 17,
    "start_time": "2022-02-28T12:39:08.619Z"
   },
   {
    "duration": 23,
    "start_time": "2022-02-28T12:39:22.705Z"
   },
   {
    "duration": 36,
    "start_time": "2022-02-28T12:40:23.975Z"
   },
   {
    "duration": 34,
    "start_time": "2022-02-28T12:40:39.374Z"
   },
   {
    "duration": 7,
    "start_time": "2022-02-28T12:43:03.214Z"
   },
   {
    "duration": 6,
    "start_time": "2022-02-28T12:44:30.160Z"
   },
   {
    "duration": 11,
    "start_time": "2022-02-28T12:44:42.088Z"
   },
   {
    "duration": 7,
    "start_time": "2022-02-28T12:44:58.825Z"
   },
   {
    "duration": 9,
    "start_time": "2022-02-28T12:44:59.339Z"
   },
   {
    "duration": 10,
    "start_time": "2022-02-28T12:45:11.919Z"
   },
   {
    "duration": 7,
    "start_time": "2022-02-28T12:45:19.979Z"
   },
   {
    "duration": 610,
    "start_time": "2022-02-28T12:45:24.709Z"
   },
   {
    "duration": 211,
    "start_time": "2022-02-28T12:45:25.321Z"
   },
   {
    "duration": 10,
    "start_time": "2022-02-28T12:45:25.534Z"
   },
   {
    "duration": 27,
    "start_time": "2022-02-28T12:45:25.559Z"
   },
   {
    "duration": 10,
    "start_time": "2022-02-28T12:45:25.587Z"
   },
   {
    "duration": 5,
    "start_time": "2022-02-28T12:45:25.599Z"
   },
   {
    "duration": 12,
    "start_time": "2022-02-28T12:45:25.605Z"
   },
   {
    "duration": 42,
    "start_time": "2022-02-28T12:45:25.619Z"
   },
   {
    "duration": 10,
    "start_time": "2022-02-28T12:45:25.663Z"
   },
   {
    "duration": 9,
    "start_time": "2022-02-28T12:45:25.675Z"
   },
   {
    "duration": 10,
    "start_time": "2022-02-28T12:45:25.685Z"
   },
   {
    "duration": 6,
    "start_time": "2022-02-28T12:45:25.697Z"
   },
   {
    "duration": 55,
    "start_time": "2022-02-28T12:45:25.705Z"
   },
   {
    "duration": 44,
    "start_time": "2022-02-28T12:45:25.762Z"
   },
   {
    "duration": 17,
    "start_time": "2022-02-28T12:45:25.808Z"
   },
   {
    "duration": 621,
    "start_time": "2022-02-28T12:45:25.827Z"
   },
   {
    "duration": 29,
    "start_time": "2022-02-28T12:45:26.450Z"
   },
   {
    "duration": 9,
    "start_time": "2022-02-28T12:45:26.481Z"
   },
   {
    "duration": 217,
    "start_time": "2022-02-28T12:45:26.492Z"
   },
   {
    "duration": 210,
    "start_time": "2022-02-28T12:45:26.711Z"
   },
   {
    "duration": 38,
    "start_time": "2022-02-28T12:45:26.923Z"
   },
   {
    "duration": 19,
    "start_time": "2022-02-28T12:45:26.963Z"
   },
   {
    "duration": 8,
    "start_time": "2022-02-28T12:45:26.985Z"
   },
   {
    "duration": 16,
    "start_time": "2022-02-28T12:45:26.995Z"
   },
   {
    "duration": 232,
    "start_time": "2022-02-28T12:45:27.013Z"
   },
   {
    "duration": 176,
    "start_time": "2022-02-28T12:45:27.247Z"
   },
   {
    "duration": 229,
    "start_time": "2022-02-28T12:45:27.425Z"
   },
   {
    "duration": 164,
    "start_time": "2022-02-28T12:45:27.658Z"
   },
   {
    "duration": 9,
    "start_time": "2022-02-28T12:45:27.824Z"
   },
   {
    "duration": 219,
    "start_time": "2022-02-28T12:45:27.835Z"
   },
   {
    "duration": 18,
    "start_time": "2022-02-28T12:45:28.058Z"
   },
   {
    "duration": 229,
    "start_time": "2022-02-28T12:45:28.078Z"
   },
   {
    "duration": 8,
    "start_time": "2022-02-28T12:45:28.309Z"
   },
   {
    "duration": 229,
    "start_time": "2022-02-28T12:45:28.319Z"
   },
   {
    "duration": 171,
    "start_time": "2022-02-28T12:45:28.549Z"
   },
   {
    "duration": 10,
    "start_time": "2022-02-28T12:45:28.721Z"
   },
   {
    "duration": 29,
    "start_time": "2022-02-28T12:45:28.733Z"
   },
   {
    "duration": 223,
    "start_time": "2022-02-28T12:46:41.874Z"
   },
   {
    "duration": 214,
    "start_time": "2022-02-28T12:46:49.292Z"
   },
   {
    "duration": 238,
    "start_time": "2022-02-28T12:47:34.736Z"
   },
   {
    "duration": 173,
    "start_time": "2022-02-28T12:48:02.891Z"
   },
   {
    "duration": 214,
    "start_time": "2022-02-28T12:48:21.739Z"
   },
   {
    "duration": 211,
    "start_time": "2022-02-28T12:48:57.457Z"
   },
   {
    "duration": 205,
    "start_time": "2022-02-28T12:49:27.833Z"
   },
   {
    "duration": 964,
    "start_time": "2022-02-28T12:49:50.299Z"
   },
   {
    "duration": 256,
    "start_time": "2022-02-28T12:49:51.265Z"
   },
   {
    "duration": 12,
    "start_time": "2022-02-28T12:49:51.524Z"
   },
   {
    "duration": 43,
    "start_time": "2022-02-28T12:49:51.539Z"
   },
   {
    "duration": 12,
    "start_time": "2022-02-28T12:49:51.584Z"
   },
   {
    "duration": 7,
    "start_time": "2022-02-28T12:49:51.598Z"
   },
   {
    "duration": 12,
    "start_time": "2022-02-28T12:49:51.606Z"
   },
   {
    "duration": 47,
    "start_time": "2022-02-28T12:49:51.621Z"
   },
   {
    "duration": 10,
    "start_time": "2022-02-28T12:49:51.670Z"
   },
   {
    "duration": 10,
    "start_time": "2022-02-28T12:49:51.682Z"
   },
   {
    "duration": 10,
    "start_time": "2022-02-28T12:49:51.694Z"
   },
   {
    "duration": 57,
    "start_time": "2022-02-28T12:49:51.706Z"
   },
   {
    "duration": 11,
    "start_time": "2022-02-28T12:49:51.765Z"
   },
   {
    "duration": 39,
    "start_time": "2022-02-28T12:49:51.778Z"
   },
   {
    "duration": 49,
    "start_time": "2022-02-28T12:49:51.819Z"
   },
   {
    "duration": 565,
    "start_time": "2022-02-28T12:49:51.869Z"
   },
   {
    "duration": 33,
    "start_time": "2022-02-28T12:49:52.435Z"
   },
   {
    "duration": 8,
    "start_time": "2022-02-28T12:49:52.469Z"
   },
   {
    "duration": 200,
    "start_time": "2022-02-28T12:49:52.479Z"
   },
   {
    "duration": 196,
    "start_time": "2022-02-28T12:49:52.681Z"
   },
   {
    "duration": 23,
    "start_time": "2022-02-28T12:49:52.879Z"
   },
   {
    "duration": 16,
    "start_time": "2022-02-28T12:49:52.903Z"
   },
   {
    "duration": 37,
    "start_time": "2022-02-28T12:49:52.922Z"
   },
   {
    "duration": 210,
    "start_time": "2022-02-28T12:49:52.961Z"
   },
   {
    "duration": 166,
    "start_time": "2022-02-28T12:49:53.173Z"
   },
   {
    "duration": 208,
    "start_time": "2022-02-28T12:49:53.340Z"
   },
   {
    "duration": 152,
    "start_time": "2022-02-28T12:49:53.549Z"
   },
   {
    "duration": 9,
    "start_time": "2022-02-28T12:49:53.702Z"
   },
   {
    "duration": 200,
    "start_time": "2022-02-28T12:49:53.712Z"
   },
   {
    "duration": 16,
    "start_time": "2022-02-28T12:49:53.914Z"
   },
   {
    "duration": 213,
    "start_time": "2022-02-28T12:49:53.931Z"
   },
   {
    "duration": 200,
    "start_time": "2022-02-28T12:49:54.146Z"
   },
   {
    "duration": 146,
    "start_time": "2022-02-28T12:49:54.348Z"
   },
   {
    "duration": 9,
    "start_time": "2022-02-28T12:49:54.495Z"
   },
   {
    "duration": 208,
    "start_time": "2022-02-28T12:49:54.506Z"
   },
   {
    "duration": 41,
    "start_time": "2022-02-28T12:54:34.393Z"
   },
   {
    "duration": 35,
    "start_time": "2022-02-28T12:54:46.599Z"
   },
   {
    "duration": 36,
    "start_time": "2022-02-28T12:56:02.228Z"
   },
   {
    "duration": 39,
    "start_time": "2022-02-28T12:58:39.668Z"
   },
   {
    "duration": 36,
    "start_time": "2022-02-28T12:59:00.213Z"
   },
   {
    "duration": 48,
    "start_time": "2022-02-28T12:59:13.696Z"
   },
   {
    "duration": 45,
    "start_time": "2022-02-28T12:59:39.874Z"
   },
   {
    "duration": 35,
    "start_time": "2022-02-28T12:59:55.456Z"
   },
   {
    "duration": 34,
    "start_time": "2022-02-28T13:01:19.095Z"
   },
   {
    "duration": 34,
    "start_time": "2022-02-28T13:01:28.905Z"
   },
   {
    "duration": 43,
    "start_time": "2022-02-28T13:01:34.381Z"
   },
   {
    "duration": 37,
    "start_time": "2022-02-28T13:02:00.676Z"
   },
   {
    "duration": 36,
    "start_time": "2022-02-28T13:02:50.944Z"
   },
   {
    "duration": 28,
    "start_time": "2022-02-28T13:02:59.261Z"
   },
   {
    "duration": 27,
    "start_time": "2022-02-28T13:05:25.287Z"
   },
   {
    "duration": 7,
    "start_time": "2022-02-28T13:05:26.845Z"
   },
   {
    "duration": 45,
    "start_time": "2022-02-28T13:06:06.425Z"
   },
   {
    "duration": 9,
    "start_time": "2022-02-28T13:06:56.031Z"
   },
   {
    "duration": 42,
    "start_time": "2022-02-28T13:09:07.282Z"
   },
   {
    "duration": 44,
    "start_time": "2022-02-28T13:09:13.427Z"
   },
   {
    "duration": 8,
    "start_time": "2022-02-28T13:09:30.997Z"
   },
   {
    "duration": 8,
    "start_time": "2022-02-28T13:10:04.145Z"
   },
   {
    "duration": 8,
    "start_time": "2022-02-28T13:10:31.553Z"
   },
   {
    "duration": 6,
    "start_time": "2022-02-28T13:12:39.317Z"
   },
   {
    "duration": 5,
    "start_time": "2022-02-28T13:12:52.467Z"
   },
   {
    "duration": 44,
    "start_time": "2022-02-28T13:16:21.336Z"
   },
   {
    "duration": 43,
    "start_time": "2022-02-28T13:16:46.470Z"
   },
   {
    "duration": 47,
    "start_time": "2022-02-28T13:18:34.213Z"
   },
   {
    "duration": 38,
    "start_time": "2022-02-28T13:19:26.847Z"
   },
   {
    "duration": 34,
    "start_time": "2022-02-28T13:19:43.109Z"
   },
   {
    "duration": 33,
    "start_time": "2022-02-28T13:19:53.795Z"
   },
   {
    "duration": 33,
    "start_time": "2022-02-28T13:20:03.136Z"
   },
   {
    "duration": 45,
    "start_time": "2022-02-28T13:20:18.674Z"
   },
   {
    "duration": 316,
    "start_time": "2022-02-28T13:21:19.524Z"
   },
   {
    "duration": 46,
    "start_time": "2022-02-28T13:21:26.635Z"
   },
   {
    "duration": 57,
    "start_time": "2022-02-28T13:21:46.871Z"
   },
   {
    "duration": 29,
    "start_time": "2022-02-28T13:21:55.704Z"
   },
   {
    "duration": 208,
    "start_time": "2022-02-28T13:23:57.710Z"
   },
   {
    "duration": 234,
    "start_time": "2022-02-28T13:36:41.237Z"
   },
   {
    "duration": 76,
    "start_time": "2022-02-28T13:36:57.815Z"
   },
   {
    "duration": 31,
    "start_time": "2022-02-28T13:37:04.762Z"
   },
   {
    "duration": 261,
    "start_time": "2022-02-28T13:37:24.357Z"
   },
   {
    "duration": 202,
    "start_time": "2022-02-28T13:38:23.761Z"
   },
   {
    "duration": 217,
    "start_time": "2022-02-28T13:38:41.641Z"
   },
   {
    "duration": 207,
    "start_time": "2022-02-28T13:38:47.557Z"
   },
   {
    "duration": 3181,
    "start_time": "2022-02-28T13:40:54.919Z"
   },
   {
    "duration": 189,
    "start_time": "2022-02-28T13:41:32.279Z"
   },
   {
    "duration": 194,
    "start_time": "2022-02-28T13:41:46.608Z"
   },
   {
    "duration": 2897,
    "start_time": "2022-02-28T13:42:02.750Z"
   },
   {
    "duration": 340,
    "start_time": "2022-02-28T13:43:45.291Z"
   },
   {
    "duration": 207,
    "start_time": "2022-02-28T13:45:56.365Z"
   },
   {
    "duration": 264,
    "start_time": "2022-02-28T13:46:13.477Z"
   },
   {
    "duration": 208,
    "start_time": "2022-02-28T13:48:49.704Z"
   },
   {
    "duration": 114,
    "start_time": "2022-02-28T13:49:32.832Z"
   },
   {
    "duration": 212,
    "start_time": "2022-02-28T13:49:49.878Z"
   },
   {
    "duration": 221,
    "start_time": "2022-02-28T13:50:15.650Z"
   },
   {
    "duration": 621,
    "start_time": "2022-02-28T13:50:41.714Z"
   },
   {
    "duration": 214,
    "start_time": "2022-02-28T13:50:42.337Z"
   },
   {
    "duration": 11,
    "start_time": "2022-02-28T13:50:42.553Z"
   },
   {
    "duration": 48,
    "start_time": "2022-02-28T13:50:42.566Z"
   },
   {
    "duration": 10,
    "start_time": "2022-02-28T13:50:42.616Z"
   },
   {
    "duration": 30,
    "start_time": "2022-02-28T13:50:42.627Z"
   },
   {
    "duration": 40,
    "start_time": "2022-02-28T13:50:42.659Z"
   },
   {
    "duration": 36,
    "start_time": "2022-02-28T13:50:42.702Z"
   },
   {
    "duration": 35,
    "start_time": "2022-02-28T13:50:42.740Z"
   },
   {
    "duration": 8,
    "start_time": "2022-02-28T13:50:42.777Z"
   },
   {
    "duration": 8,
    "start_time": "2022-02-28T13:50:42.787Z"
   },
   {
    "duration": 6,
    "start_time": "2022-02-28T13:50:42.796Z"
   },
   {
    "duration": 9,
    "start_time": "2022-02-28T13:50:42.804Z"
   },
   {
    "duration": 71,
    "start_time": "2022-02-28T13:50:42.815Z"
   },
   {
    "duration": 16,
    "start_time": "2022-02-28T13:50:42.888Z"
   },
   {
    "duration": 608,
    "start_time": "2022-02-28T13:50:42.906Z"
   },
   {
    "duration": 26,
    "start_time": "2022-02-28T13:50:43.516Z"
   },
   {
    "duration": 225,
    "start_time": "2022-02-28T13:50:43.543Z"
   },
   {
    "duration": 208,
    "start_time": "2022-02-28T13:50:43.770Z"
   },
   {
    "duration": 24,
    "start_time": "2022-02-28T13:50:43.979Z"
   },
   {
    "duration": 18,
    "start_time": "2022-02-28T13:50:44.004Z"
   },
   {
    "duration": 35,
    "start_time": "2022-02-28T13:50:44.024Z"
   },
   {
    "duration": 239,
    "start_time": "2022-02-28T13:50:44.062Z"
   },
   {
    "duration": 185,
    "start_time": "2022-02-28T13:50:44.303Z"
   },
   {
    "duration": 409,
    "start_time": "2022-02-28T13:50:44.489Z"
   },
   {
    "duration": 233,
    "start_time": "2022-02-28T13:50:44.900Z"
   },
   {
    "duration": 8,
    "start_time": "2022-02-28T13:50:45.135Z"
   },
   {
    "duration": 215,
    "start_time": "2022-02-28T13:50:45.145Z"
   },
   {
    "duration": 18,
    "start_time": "2022-02-28T13:50:45.362Z"
   },
   {
    "duration": 236,
    "start_time": "2022-02-28T13:50:45.382Z"
   },
   {
    "duration": 223,
    "start_time": "2022-02-28T13:50:45.620Z"
   },
   {
    "duration": 175,
    "start_time": "2022-02-28T13:50:45.845Z"
   },
   {
    "duration": 8,
    "start_time": "2022-02-28T13:50:46.022Z"
   },
   {
    "duration": 325,
    "start_time": "2022-02-28T13:50:46.031Z"
   },
   {
    "duration": 199,
    "start_time": "2022-02-28T13:50:46.159Z"
   },
   {
    "duration": 233,
    "start_time": "2022-02-28T13:51:15.599Z"
   },
   {
    "duration": 206,
    "start_time": "2022-02-28T13:51:24.296Z"
   },
   {
    "duration": 210,
    "start_time": "2022-02-28T13:52:16.886Z"
   },
   {
    "duration": 27,
    "start_time": "2022-02-28T13:52:46.974Z"
   },
   {
    "duration": 7,
    "start_time": "2022-02-28T13:54:26.959Z"
   },
   {
    "duration": 9,
    "start_time": "2022-02-28T13:54:38.681Z"
   },
   {
    "duration": 46,
    "start_time": "2022-02-28T13:54:47.382Z"
   },
   {
    "duration": 46,
    "start_time": "2022-02-28T13:58:11.518Z"
   },
   {
    "duration": 237,
    "start_time": "2022-02-28T13:58:15.024Z"
   },
   {
    "duration": 46,
    "start_time": "2022-02-28T13:58:18.939Z"
   },
   {
    "duration": 57,
    "start_time": "2022-02-28T13:58:26.949Z"
   },
   {
    "duration": 18,
    "start_time": "2022-02-28T13:58:42.163Z"
   },
   {
    "duration": 19,
    "start_time": "2022-02-28T13:58:44.555Z"
   },
   {
    "duration": 46,
    "start_time": "2022-02-28T14:00:31.739Z"
   },
   {
    "duration": 97,
    "start_time": "2022-02-28T14:02:40.080Z"
   },
   {
    "duration": 19,
    "start_time": "2022-02-28T14:02:51.943Z"
   },
   {
    "duration": 44,
    "start_time": "2022-02-28T14:03:45.887Z"
   },
   {
    "duration": 15,
    "start_time": "2022-02-28T14:06:33.370Z"
   },
   {
    "duration": 16,
    "start_time": "2022-02-28T14:06:58.535Z"
   },
   {
    "duration": 663,
    "start_time": "2022-02-28T14:11:01.108Z"
   },
   {
    "duration": 352,
    "start_time": "2022-02-28T14:11:01.772Z"
   },
   {
    "duration": 11,
    "start_time": "2022-02-28T14:11:02.126Z"
   },
   {
    "duration": 45,
    "start_time": "2022-02-28T14:11:02.140Z"
   },
   {
    "duration": 10,
    "start_time": "2022-02-28T14:11:02.187Z"
   },
   {
    "duration": 11,
    "start_time": "2022-02-28T14:11:02.199Z"
   },
   {
    "duration": 21,
    "start_time": "2022-02-28T14:11:02.212Z"
   },
   {
    "duration": 47,
    "start_time": "2022-02-28T14:11:02.236Z"
   },
   {
    "duration": 14,
    "start_time": "2022-02-28T14:11:02.285Z"
   },
   {
    "duration": 25,
    "start_time": "2022-02-28T14:11:02.300Z"
   },
   {
    "duration": 15,
    "start_time": "2022-02-28T14:11:02.327Z"
   },
   {
    "duration": 15,
    "start_time": "2022-02-28T14:11:02.344Z"
   },
   {
    "duration": 22,
    "start_time": "2022-02-28T14:11:02.361Z"
   },
   {
    "duration": 53,
    "start_time": "2022-02-28T14:11:02.385Z"
   },
   {
    "duration": 16,
    "start_time": "2022-02-28T14:11:02.440Z"
   },
   {
    "duration": 604,
    "start_time": "2022-02-28T14:11:02.458Z"
   },
   {
    "duration": 26,
    "start_time": "2022-02-28T14:11:03.063Z"
   },
   {
    "duration": 206,
    "start_time": "2022-02-28T14:11:03.090Z"
   },
   {
    "duration": 200,
    "start_time": "2022-02-28T14:11:03.298Z"
   },
   {
    "duration": 24,
    "start_time": "2022-02-28T14:11:03.500Z"
   },
   {
    "duration": 38,
    "start_time": "2022-02-28T14:11:03.526Z"
   },
   {
    "duration": 24,
    "start_time": "2022-02-28T14:11:03.566Z"
   },
   {
    "duration": 253,
    "start_time": "2022-02-28T14:11:03.593Z"
   },
   {
    "duration": 173,
    "start_time": "2022-02-28T14:11:03.848Z"
   },
   {
    "duration": 226,
    "start_time": "2022-02-28T14:11:04.023Z"
   },
   {
    "duration": 165,
    "start_time": "2022-02-28T14:11:04.251Z"
   },
   {
    "duration": 9,
    "start_time": "2022-02-28T14:11:04.418Z"
   },
   {
    "duration": 213,
    "start_time": "2022-02-28T14:11:04.429Z"
   },
   {
    "duration": 27,
    "start_time": "2022-02-28T14:11:04.644Z"
   },
   {
    "duration": 230,
    "start_time": "2022-02-28T14:11:04.673Z"
   },
   {
    "duration": 223,
    "start_time": "2022-02-28T14:11:04.905Z"
   },
   {
    "duration": 179,
    "start_time": "2022-02-28T14:11:05.130Z"
   },
   {
    "duration": 7,
    "start_time": "2022-02-28T14:11:05.311Z"
   },
   {
    "duration": 53,
    "start_time": "2022-02-28T14:11:05.319Z"
   },
   {
    "duration": 45,
    "start_time": "2022-02-28T14:11:05.374Z"
   },
   {
    "duration": 10,
    "start_time": "2022-02-28T14:11:05.421Z"
   },
   {
    "duration": 249,
    "start_time": "2022-02-28T14:11:05.432Z"
   },
   {
    "duration": 30,
    "start_time": "2022-02-28T14:12:38.855Z"
   },
   {
    "duration": 216,
    "start_time": "2022-02-28T14:12:46.896Z"
   },
   {
    "duration": 299,
    "start_time": "2022-02-28T14:16:07.346Z"
   },
   {
    "duration": 217,
    "start_time": "2022-02-28T14:16:13.775Z"
   },
   {
    "duration": 215,
    "start_time": "2022-02-28T14:16:59.320Z"
   },
   {
    "duration": 145,
    "start_time": "2022-02-28T14:17:26.478Z"
   },
   {
    "duration": 148,
    "start_time": "2022-02-28T14:17:44.487Z"
   },
   {
    "duration": 56,
    "start_time": "2022-02-28T14:18:51.562Z"
   },
   {
    "duration": 3133,
    "start_time": "2022-02-28T14:18:58.046Z"
   },
   {
    "duration": 209,
    "start_time": "2022-02-28T14:19:14.431Z"
   },
   {
    "duration": 206,
    "start_time": "2022-02-28T14:22:53.027Z"
   },
   {
    "duration": 210,
    "start_time": "2022-02-28T14:23:05.874Z"
   },
   {
    "duration": 196,
    "start_time": "2022-02-28T14:23:11.972Z"
   },
   {
    "duration": 10,
    "start_time": "2022-02-28T14:23:59.633Z"
   },
   {
    "duration": 8,
    "start_time": "2022-02-28T14:24:05.005Z"
   },
   {
    "duration": 641,
    "start_time": "2022-02-28T14:24:13.203Z"
   },
   {
    "duration": 225,
    "start_time": "2022-02-28T14:24:13.846Z"
   },
   {
    "duration": 15,
    "start_time": "2022-02-28T14:24:14.074Z"
   },
   {
    "duration": 28,
    "start_time": "2022-02-28T14:24:14.098Z"
   },
   {
    "duration": 10,
    "start_time": "2022-02-28T14:24:14.128Z"
   },
   {
    "duration": 5,
    "start_time": "2022-02-28T14:24:14.160Z"
   },
   {
    "duration": 25,
    "start_time": "2022-02-28T14:24:14.167Z"
   },
   {
    "duration": 21,
    "start_time": "2022-02-28T14:24:14.195Z"
   },
   {
    "duration": 26,
    "start_time": "2022-02-28T14:24:14.218Z"
   },
   {
    "duration": 9,
    "start_time": "2022-02-28T14:24:14.246Z"
   },
   {
    "duration": 17,
    "start_time": "2022-02-28T14:24:14.256Z"
   },
   {
    "duration": 16,
    "start_time": "2022-02-28T14:24:14.275Z"
   },
   {
    "duration": 15,
    "start_time": "2022-02-28T14:24:14.293Z"
   },
   {
    "duration": 52,
    "start_time": "2022-02-28T14:24:14.310Z"
   },
   {
    "duration": 17,
    "start_time": "2022-02-28T14:24:14.364Z"
   },
   {
    "duration": 879,
    "start_time": "2022-02-28T14:24:14.383Z"
   },
   {
    "duration": 27,
    "start_time": "2022-02-28T14:24:15.263Z"
   },
   {
    "duration": 232,
    "start_time": "2022-02-28T14:24:15.292Z"
   },
   {
    "duration": 212,
    "start_time": "2022-02-28T14:24:15.526Z"
   },
   {
    "duration": 20,
    "start_time": "2022-02-28T14:24:15.740Z"
   },
   {
    "duration": 228,
    "start_time": "2022-02-28T14:24:15.762Z"
   },
   {
    "duration": 10,
    "start_time": "2022-02-28T14:24:15.991Z"
   },
   {
    "duration": 250,
    "start_time": "2022-02-28T14:24:16.004Z"
   },
   {
    "duration": 185,
    "start_time": "2022-02-28T14:24:16.256Z"
   },
   {
    "duration": 231,
    "start_time": "2022-02-28T14:24:16.443Z"
   },
   {
    "duration": 172,
    "start_time": "2022-02-28T14:24:16.676Z"
   },
   {
    "duration": 18,
    "start_time": "2022-02-28T14:24:16.849Z"
   },
   {
    "duration": 219,
    "start_time": "2022-02-28T14:24:16.869Z"
   },
   {
    "duration": 19,
    "start_time": "2022-02-28T14:24:17.090Z"
   },
   {
    "duration": 243,
    "start_time": "2022-02-28T14:24:17.111Z"
   },
   {
    "duration": 247,
    "start_time": "2022-02-28T14:24:17.359Z"
   },
   {
    "duration": 183,
    "start_time": "2022-02-28T14:24:17.608Z"
   },
   {
    "duration": 9,
    "start_time": "2022-02-28T14:24:17.794Z"
   },
   {
    "duration": 55,
    "start_time": "2022-02-28T14:24:17.805Z"
   },
   {
    "duration": 48,
    "start_time": "2022-02-28T14:24:17.863Z"
   },
   {
    "duration": 10,
    "start_time": "2022-02-28T14:24:17.912Z"
   },
   {
    "duration": 58,
    "start_time": "2022-02-28T14:24:17.924Z"
   },
   {
    "duration": 247,
    "start_time": "2022-02-28T14:24:17.984Z"
   },
   {
    "duration": 258,
    "start_time": "2022-02-28T14:24:18.233Z"
   },
   {
    "duration": 166,
    "start_time": "2022-02-28T14:24:18.493Z"
   },
   {
    "duration": 225,
    "start_time": "2022-02-28T14:24:18.661Z"
   },
   {
    "duration": 8,
    "start_time": "2022-02-28T14:24:42.272Z"
   },
   {
    "duration": 8,
    "start_time": "2022-02-28T14:24:59.106Z"
   },
   {
    "duration": 614,
    "start_time": "2022-02-28T14:25:05.119Z"
   },
   {
    "duration": 231,
    "start_time": "2022-02-28T14:25:05.735Z"
   },
   {
    "duration": 11,
    "start_time": "2022-02-28T14:25:05.969Z"
   },
   {
    "duration": 30,
    "start_time": "2022-02-28T14:25:05.982Z"
   },
   {
    "duration": 11,
    "start_time": "2022-02-28T14:25:06.013Z"
   },
   {
    "duration": 37,
    "start_time": "2022-02-28T14:25:06.026Z"
   },
   {
    "duration": 13,
    "start_time": "2022-02-28T14:25:06.065Z"
   },
   {
    "duration": 12,
    "start_time": "2022-02-28T14:25:06.080Z"
   },
   {
    "duration": 11,
    "start_time": "2022-02-28T14:25:06.096Z"
   },
   {
    "duration": 54,
    "start_time": "2022-02-28T14:25:06.110Z"
   },
   {
    "duration": 9,
    "start_time": "2022-02-28T14:25:06.166Z"
   },
   {
    "duration": 7,
    "start_time": "2022-02-28T14:25:06.176Z"
   },
   {
    "duration": 11,
    "start_time": "2022-02-28T14:25:06.185Z"
   },
   {
    "duration": 83,
    "start_time": "2022-02-28T14:25:06.198Z"
   },
   {
    "duration": 20,
    "start_time": "2022-02-28T14:25:06.284Z"
   },
   {
    "duration": 634,
    "start_time": "2022-02-28T14:25:06.306Z"
   },
   {
    "duration": 26,
    "start_time": "2022-02-28T14:25:06.942Z"
   },
   {
    "duration": 391,
    "start_time": "2022-02-28T14:25:06.970Z"
   },
   {
    "duration": 291,
    "start_time": "2022-02-28T14:25:07.364Z"
   },
   {
    "duration": 8,
    "start_time": "2022-02-28T14:25:07.658Z"
   },
   {
    "duration": 233,
    "start_time": "2022-02-28T14:25:07.668Z"
   },
   {
    "duration": 10,
    "start_time": "2022-02-28T14:25:07.903Z"
   },
   {
    "duration": 256,
    "start_time": "2022-02-28T14:25:07.914Z"
   },
   {
    "duration": 181,
    "start_time": "2022-02-28T14:25:08.172Z"
   },
   {
    "duration": 225,
    "start_time": "2022-02-28T14:25:08.359Z"
   },
   {
    "duration": 177,
    "start_time": "2022-02-28T14:25:08.585Z"
   },
   {
    "duration": 10,
    "start_time": "2022-02-28T14:25:08.765Z"
   },
   {
    "duration": 249,
    "start_time": "2022-02-28T14:25:08.777Z"
   },
   {
    "duration": 20,
    "start_time": "2022-02-28T14:25:09.027Z"
   },
   {
    "duration": 237,
    "start_time": "2022-02-28T14:25:09.048Z"
   },
   {
    "duration": 236,
    "start_time": "2022-02-28T14:25:09.287Z"
   },
   {
    "duration": 178,
    "start_time": "2022-02-28T14:25:09.525Z"
   },
   {
    "duration": 8,
    "start_time": "2022-02-28T14:25:09.705Z"
   },
   {
    "duration": 53,
    "start_time": "2022-02-28T14:25:09.716Z"
   },
   {
    "duration": 47,
    "start_time": "2022-02-28T14:25:09.771Z"
   },
   {
    "duration": 39,
    "start_time": "2022-02-28T14:25:09.820Z"
   },
   {
    "duration": 29,
    "start_time": "2022-02-28T14:25:09.861Z"
   },
   {
    "duration": 240,
    "start_time": "2022-02-28T14:25:09.891Z"
   },
   {
    "duration": 255,
    "start_time": "2022-02-28T14:25:10.133Z"
   },
   {
    "duration": 161,
    "start_time": "2022-02-28T14:25:10.390Z"
   },
   {
    "duration": 222,
    "start_time": "2022-02-28T14:25:10.553Z"
   },
   {
    "duration": 7,
    "start_time": "2022-02-28T14:25:32.554Z"
   },
   {
    "duration": 8,
    "start_time": "2022-02-28T14:25:46.943Z"
   },
   {
    "duration": 671,
    "start_time": "2022-02-28T14:26:52.002Z"
   },
   {
    "duration": 260,
    "start_time": "2022-02-28T14:26:52.675Z"
   },
   {
    "duration": 11,
    "start_time": "2022-02-28T14:26:52.937Z"
   },
   {
    "duration": 28,
    "start_time": "2022-02-28T14:26:52.959Z"
   },
   {
    "duration": 10,
    "start_time": "2022-02-28T14:26:52.989Z"
   },
   {
    "duration": 4,
    "start_time": "2022-02-28T14:26:53.001Z"
   },
   {
    "duration": 12,
    "start_time": "2022-02-28T14:26:53.007Z"
   },
   {
    "duration": 42,
    "start_time": "2022-02-28T14:26:53.021Z"
   },
   {
    "duration": 9,
    "start_time": "2022-02-28T14:26:53.065Z"
   },
   {
    "duration": 9,
    "start_time": "2022-02-28T14:26:53.076Z"
   },
   {
    "duration": 8,
    "start_time": "2022-02-28T14:26:53.086Z"
   },
   {
    "duration": 5,
    "start_time": "2022-02-28T14:26:53.096Z"
   },
   {
    "duration": 9,
    "start_time": "2022-02-28T14:26:53.103Z"
   },
   {
    "duration": 85,
    "start_time": "2022-02-28T14:26:53.113Z"
   },
   {
    "duration": 16,
    "start_time": "2022-02-28T14:26:53.199Z"
   },
   {
    "duration": 631,
    "start_time": "2022-02-28T14:26:53.217Z"
   },
   {
    "duration": 29,
    "start_time": "2022-02-28T14:26:53.850Z"
   },
   {
    "duration": 211,
    "start_time": "2022-02-28T14:26:53.880Z"
   },
   {
    "duration": 194,
    "start_time": "2022-02-28T14:26:54.092Z"
   },
   {
    "duration": 7,
    "start_time": "2022-02-28T14:26:54.288Z"
   },
   {
    "duration": 220,
    "start_time": "2022-02-28T14:26:54.297Z"
   },
   {
    "duration": 8,
    "start_time": "2022-02-28T14:26:54.519Z"
   },
   {
    "duration": 241,
    "start_time": "2022-02-28T14:26:54.531Z"
   },
   {
    "duration": 179,
    "start_time": "2022-02-28T14:26:54.774Z"
   },
   {
    "duration": 228,
    "start_time": "2022-02-28T14:26:54.959Z"
   },
   {
    "duration": 175,
    "start_time": "2022-02-28T14:26:55.189Z"
   },
   {
    "duration": 10,
    "start_time": "2022-02-28T14:26:55.366Z"
   },
   {
    "duration": 225,
    "start_time": "2022-02-28T14:26:55.377Z"
   },
   {
    "duration": 18,
    "start_time": "2022-02-28T14:26:55.604Z"
   },
   {
    "duration": 238,
    "start_time": "2022-02-28T14:26:55.623Z"
   },
   {
    "duration": 240,
    "start_time": "2022-02-28T14:26:55.863Z"
   },
   {
    "duration": 174,
    "start_time": "2022-02-28T14:26:56.105Z"
   },
   {
    "duration": 8,
    "start_time": "2022-02-28T14:26:56.281Z"
   },
   {
    "duration": 44,
    "start_time": "2022-02-28T14:26:56.291Z"
   },
   {
    "duration": 59,
    "start_time": "2022-02-28T14:26:56.336Z"
   },
   {
    "duration": 10,
    "start_time": "2022-02-28T14:26:56.397Z"
   },
   {
    "duration": 56,
    "start_time": "2022-02-28T14:26:56.409Z"
   },
   {
    "duration": 236,
    "start_time": "2022-02-28T14:26:56.466Z"
   },
   {
    "duration": 265,
    "start_time": "2022-02-28T14:26:56.704Z"
   },
   {
    "duration": 168,
    "start_time": "2022-02-28T14:26:56.971Z"
   },
   {
    "duration": 225,
    "start_time": "2022-02-28T14:26:57.141Z"
   },
   {
    "duration": 7,
    "start_time": "2022-02-28T14:27:25.666Z"
   },
   {
    "duration": 262,
    "start_time": "2022-02-28T14:29:23.709Z"
   },
   {
    "duration": 7,
    "start_time": "2022-02-28T14:29:31.738Z"
   },
   {
    "duration": 221,
    "start_time": "2022-02-28T14:37:45.266Z"
   },
   {
    "duration": 218,
    "start_time": "2022-02-28T14:38:54.158Z"
   },
   {
    "duration": 191,
    "start_time": "2022-02-28T14:39:57.793Z"
   },
   {
    "duration": 81,
    "start_time": "2022-02-28T14:44:10.717Z"
   },
   {
    "duration": 77,
    "start_time": "2022-02-28T14:44:14.895Z"
   },
   {
    "duration": 209,
    "start_time": "2022-02-28T14:44:22.045Z"
   },
   {
    "duration": 8,
    "start_time": "2022-02-28T14:45:07.404Z"
   },
   {
    "duration": 226,
    "start_time": "2022-02-28T14:45:18.387Z"
   },
   {
    "duration": 211,
    "start_time": "2022-02-28T14:45:36.440Z"
   },
   {
    "duration": 11,
    "start_time": "2022-02-28T14:54:27.004Z"
   },
   {
    "duration": 205,
    "start_time": "2022-02-28T14:54:40.197Z"
   },
   {
    "duration": 5,
    "start_time": "2022-02-28T14:56:18.481Z"
   },
   {
    "duration": 7,
    "start_time": "2022-02-28T14:56:28.737Z"
   },
   {
    "duration": 44,
    "start_time": "2022-02-28T14:56:53.283Z"
   },
   {
    "duration": 11,
    "start_time": "2022-02-28T14:57:15.455Z"
   },
   {
    "duration": 11,
    "start_time": "2022-02-28T14:57:41.322Z"
   },
   {
    "duration": 241,
    "start_time": "2022-02-28T14:58:08.168Z"
   },
   {
    "duration": 242,
    "start_time": "2022-02-28T14:59:08.620Z"
   },
   {
    "duration": 167,
    "start_time": "2022-02-28T15:03:11.153Z"
   },
   {
    "duration": 6,
    "start_time": "2022-02-28T15:03:52.058Z"
   },
   {
    "duration": 167,
    "start_time": "2022-02-28T15:04:18.630Z"
   },
   {
    "duration": 226,
    "start_time": "2022-02-28T15:04:29.866Z"
   },
   {
    "duration": 199,
    "start_time": "2022-02-28T15:05:03.956Z"
   },
   {
    "duration": 16,
    "start_time": "2022-02-28T15:06:16.388Z"
   },
   {
    "duration": 205,
    "start_time": "2022-02-28T15:06:18.589Z"
   },
   {
    "duration": 221,
    "start_time": "2022-02-28T15:06:26.777Z"
   },
   {
    "duration": 162,
    "start_time": "2022-02-28T15:09:13.243Z"
   },
   {
    "duration": 160,
    "start_time": "2022-02-28T15:12:25.649Z"
   },
   {
    "duration": 143,
    "start_time": "2022-02-28T15:12:33.328Z"
   },
   {
    "duration": 151,
    "start_time": "2022-02-28T15:12:38.446Z"
   },
   {
    "duration": 147,
    "start_time": "2022-02-28T15:13:25.377Z"
   },
   {
    "duration": 3452,
    "start_time": "2022-02-28T15:18:47.922Z"
   },
   {
    "duration": 224,
    "start_time": "2022-02-28T15:19:03.467Z"
   },
   {
    "duration": 8,
    "start_time": "2022-02-28T15:20:01.996Z"
   },
   {
    "duration": 218,
    "start_time": "2022-02-28T15:20:57.675Z"
   },
   {
    "duration": 9,
    "start_time": "2022-02-28T15:23:19.602Z"
   },
   {
    "duration": 328,
    "start_time": "2022-02-28T15:26:02.050Z"
   },
   {
    "duration": 697,
    "start_time": "2022-02-28T15:26:13.886Z"
   },
   {
    "duration": 241,
    "start_time": "2022-02-28T15:26:14.587Z"
   },
   {
    "duration": 12,
    "start_time": "2022-02-28T15:26:14.830Z"
   },
   {
    "duration": 38,
    "start_time": "2022-02-28T15:26:14.845Z"
   },
   {
    "duration": 15,
    "start_time": "2022-02-28T15:26:14.885Z"
   },
   {
    "duration": 7,
    "start_time": "2022-02-28T15:26:14.903Z"
   },
   {
    "duration": 51,
    "start_time": "2022-02-28T15:26:14.914Z"
   },
   {
    "duration": 15,
    "start_time": "2022-02-28T15:26:14.967Z"
   },
   {
    "duration": 9,
    "start_time": "2022-02-28T15:26:14.984Z"
   },
   {
    "duration": 10,
    "start_time": "2022-02-28T15:26:14.995Z"
   },
   {
    "duration": 56,
    "start_time": "2022-02-28T15:26:15.007Z"
   },
   {
    "duration": 21,
    "start_time": "2022-02-28T15:26:15.065Z"
   },
   {
    "duration": 24,
    "start_time": "2022-02-28T15:26:15.088Z"
   },
   {
    "duration": 48,
    "start_time": "2022-02-28T15:26:15.114Z"
   },
   {
    "duration": 19,
    "start_time": "2022-02-28T15:26:15.164Z"
   },
   {
    "duration": 670,
    "start_time": "2022-02-28T15:26:15.185Z"
   },
   {
    "duration": 27,
    "start_time": "2022-02-28T15:26:15.857Z"
   },
   {
    "duration": 227,
    "start_time": "2022-02-28T15:26:15.886Z"
   },
   {
    "duration": 214,
    "start_time": "2022-02-28T15:26:16.115Z"
   },
   {
    "duration": 9,
    "start_time": "2022-02-28T15:26:16.331Z"
   },
   {
    "duration": 256,
    "start_time": "2022-02-28T15:26:16.342Z"
   },
   {
    "duration": 10,
    "start_time": "2022-02-28T15:26:16.602Z"
   },
   {
    "duration": 266,
    "start_time": "2022-02-28T15:26:16.615Z"
   },
   {
    "duration": 180,
    "start_time": "2022-02-28T15:26:16.883Z"
   },
   {
    "duration": 250,
    "start_time": "2022-02-28T15:26:17.065Z"
   },
   {
    "duration": 185,
    "start_time": "2022-02-28T15:26:17.317Z"
   },
   {
    "duration": 10,
    "start_time": "2022-02-28T15:26:17.505Z"
   },
   {
    "duration": 244,
    "start_time": "2022-02-28T15:26:17.517Z"
   },
   {
    "duration": 23,
    "start_time": "2022-02-28T15:26:17.763Z"
   },
   {
    "duration": 254,
    "start_time": "2022-02-28T15:26:17.788Z"
   },
   {
    "duration": 256,
    "start_time": "2022-02-28T15:26:18.043Z"
   },
   {
    "duration": 184,
    "start_time": "2022-02-28T15:26:18.301Z"
   },
   {
    "duration": 9,
    "start_time": "2022-02-28T15:26:18.486Z"
   },
   {
    "duration": 34,
    "start_time": "2022-02-28T15:26:18.496Z"
   },
   {
    "duration": 73,
    "start_time": "2022-02-28T15:26:18.532Z"
   },
   {
    "duration": 11,
    "start_time": "2022-02-28T15:26:18.607Z"
   },
   {
    "duration": 60,
    "start_time": "2022-02-28T15:26:18.620Z"
   },
   {
    "duration": 245,
    "start_time": "2022-02-28T15:26:18.682Z"
   },
   {
    "duration": 280,
    "start_time": "2022-02-28T15:26:18.928Z"
   },
   {
    "duration": 178,
    "start_time": "2022-02-28T15:26:19.209Z"
   },
   {
    "duration": 201,
    "start_time": "2022-02-28T15:26:19.389Z"
   },
   {
    "duration": 7,
    "start_time": "2022-02-28T15:26:19.592Z"
   },
   {
    "duration": 243,
    "start_time": "2022-02-28T15:26:19.601Z"
   },
   {
    "duration": 243,
    "start_time": "2022-02-28T15:26:19.846Z"
   },
   {
    "duration": 10,
    "start_time": "2022-02-28T15:26:20.092Z"
   },
   {
    "duration": 249,
    "start_time": "2022-02-28T15:26:20.104Z"
   },
   {
    "duration": 163,
    "start_time": "2022-02-28T15:26:20.359Z"
   },
   {
    "duration": 10,
    "start_time": "2022-02-28T15:26:20.524Z"
   },
   {
    "duration": 244,
    "start_time": "2022-02-28T15:26:20.536Z"
   },
   {
    "duration": 152,
    "start_time": "2022-02-28T15:26:59.281Z"
   },
   {
    "duration": 203,
    "start_time": "2022-02-28T15:29:34.980Z"
   },
   {
    "duration": 165,
    "start_time": "2022-02-28T15:30:26.158Z"
   },
   {
    "duration": 9,
    "start_time": "2022-02-28T15:31:49.229Z"
   },
   {
    "duration": 159,
    "start_time": "2022-02-28T15:31:51.484Z"
   },
   {
    "duration": 9,
    "start_time": "2022-02-28T15:32:23.862Z"
   },
   {
    "duration": 738,
    "start_time": "2022-02-28T15:32:29.580Z"
   },
   {
    "duration": 224,
    "start_time": "2022-02-28T15:32:30.320Z"
   },
   {
    "duration": 21,
    "start_time": "2022-02-28T15:32:30.546Z"
   },
   {
    "duration": 43,
    "start_time": "2022-02-28T15:32:30.569Z"
   },
   {
    "duration": 12,
    "start_time": "2022-02-28T15:32:30.613Z"
   },
   {
    "duration": 30,
    "start_time": "2022-02-28T15:32:30.626Z"
   },
   {
    "duration": 35,
    "start_time": "2022-02-28T15:32:30.658Z"
   },
   {
    "duration": 33,
    "start_time": "2022-02-28T15:32:30.696Z"
   },
   {
    "duration": 23,
    "start_time": "2022-02-28T15:32:30.731Z"
   },
   {
    "duration": 18,
    "start_time": "2022-02-28T15:32:30.756Z"
   },
   {
    "duration": 15,
    "start_time": "2022-02-28T15:32:30.776Z"
   },
   {
    "duration": 10,
    "start_time": "2022-02-28T15:32:30.793Z"
   },
   {
    "duration": 31,
    "start_time": "2022-02-28T15:32:30.805Z"
   },
   {
    "duration": 53,
    "start_time": "2022-02-28T15:32:30.838Z"
   },
   {
    "duration": 22,
    "start_time": "2022-02-28T15:32:30.894Z"
   },
   {
    "duration": 669,
    "start_time": "2022-02-28T15:32:30.918Z"
   },
   {
    "duration": 30,
    "start_time": "2022-02-28T15:32:31.589Z"
   },
   {
    "duration": 234,
    "start_time": "2022-02-28T15:32:31.621Z"
   },
   {
    "duration": 211,
    "start_time": "2022-02-28T15:32:31.859Z"
   },
   {
    "duration": 10,
    "start_time": "2022-02-28T15:32:32.073Z"
   },
   {
    "duration": 252,
    "start_time": "2022-02-28T15:32:32.086Z"
   },
   {
    "duration": 23,
    "start_time": "2022-02-28T15:32:32.341Z"
   },
   {
    "duration": 259,
    "start_time": "2022-02-28T15:32:32.371Z"
   },
   {
    "duration": 193,
    "start_time": "2022-02-28T15:32:32.633Z"
   },
   {
    "duration": 246,
    "start_time": "2022-02-28T15:32:32.829Z"
   },
   {
    "duration": 186,
    "start_time": "2022-02-28T15:32:33.078Z"
   },
   {
    "duration": 10,
    "start_time": "2022-02-28T15:32:33.266Z"
   },
   {
    "duration": 243,
    "start_time": "2022-02-28T15:32:33.278Z"
   },
   {
    "duration": 36,
    "start_time": "2022-02-28T15:32:33.523Z"
   },
   {
    "duration": 232,
    "start_time": "2022-02-28T15:32:33.562Z"
   },
   {
    "duration": 228,
    "start_time": "2022-02-28T15:32:33.796Z"
   },
   {
    "duration": 173,
    "start_time": "2022-02-28T15:32:34.025Z"
   },
   {
    "duration": 10,
    "start_time": "2022-02-28T15:32:34.200Z"
   },
   {
    "duration": 52,
    "start_time": "2022-02-28T15:32:34.212Z"
   },
   {
    "duration": 47,
    "start_time": "2022-02-28T15:32:34.266Z"
   },
   {
    "duration": 11,
    "start_time": "2022-02-28T15:32:34.315Z"
   },
   {
    "duration": 58,
    "start_time": "2022-02-28T15:32:34.327Z"
   },
   {
    "duration": 243,
    "start_time": "2022-02-28T15:32:34.387Z"
   },
   {
    "duration": 270,
    "start_time": "2022-02-28T15:32:34.632Z"
   },
   {
    "duration": 169,
    "start_time": "2022-02-28T15:32:34.903Z"
   },
   {
    "duration": 9,
    "start_time": "2022-02-28T15:32:35.075Z"
   },
   {
    "duration": 245,
    "start_time": "2022-02-28T15:32:35.086Z"
   },
   {
    "duration": 229,
    "start_time": "2022-02-28T15:32:35.332Z"
   },
   {
    "duration": 10,
    "start_time": "2022-02-28T15:32:35.562Z"
   },
   {
    "duration": 236,
    "start_time": "2022-02-28T15:32:35.573Z"
   },
   {
    "duration": 157,
    "start_time": "2022-02-28T15:32:35.811Z"
   },
   {
    "duration": 8,
    "start_time": "2022-02-28T15:32:35.970Z"
   },
   {
    "duration": 243,
    "start_time": "2022-02-28T15:32:35.980Z"
   },
   {
    "duration": 227,
    "start_time": "2022-02-28T15:32:36.225Z"
   },
   {
    "duration": 10,
    "start_time": "2022-02-28T15:32:36.454Z"
   },
   {
    "duration": 11,
    "start_time": "2022-02-28T15:32:36.466Z"
   },
   {
    "duration": 189,
    "start_time": "2022-02-28T15:32:36.479Z"
   },
   {
    "duration": 7,
    "start_time": "2022-02-28T15:32:54.070Z"
   },
   {
    "duration": 162,
    "start_time": "2022-02-28T15:33:01.944Z"
   },
   {
    "duration": 680,
    "start_time": "2022-02-28T15:33:09.265Z"
   },
   {
    "duration": 238,
    "start_time": "2022-02-28T15:33:09.948Z"
   },
   {
    "duration": 11,
    "start_time": "2022-02-28T15:33:10.188Z"
   },
   {
    "duration": 27,
    "start_time": "2022-02-28T15:33:10.201Z"
   },
   {
    "duration": 31,
    "start_time": "2022-02-28T15:33:10.230Z"
   },
   {
    "duration": 5,
    "start_time": "2022-02-28T15:33:10.262Z"
   },
   {
    "duration": 11,
    "start_time": "2022-02-28T15:33:10.269Z"
   },
   {
    "duration": 8,
    "start_time": "2022-02-28T15:33:10.282Z"
   },
   {
    "duration": 9,
    "start_time": "2022-02-28T15:33:10.293Z"
   },
   {
    "duration": 9,
    "start_time": "2022-02-28T15:33:10.304Z"
   },
   {
    "duration": 53,
    "start_time": "2022-02-28T15:33:10.314Z"
   },
   {
    "duration": 6,
    "start_time": "2022-02-28T15:33:10.369Z"
   },
   {
    "duration": 10,
    "start_time": "2022-02-28T15:33:10.377Z"
   },
   {
    "duration": 76,
    "start_time": "2022-02-28T15:33:10.388Z"
   },
   {
    "duration": 19,
    "start_time": "2022-02-28T15:33:10.466Z"
   },
   {
    "duration": 639,
    "start_time": "2022-02-28T15:33:10.486Z"
   },
   {
    "duration": 36,
    "start_time": "2022-02-28T15:33:11.127Z"
   },
   {
    "duration": 207,
    "start_time": "2022-02-28T15:33:11.164Z"
   },
   {
    "duration": 202,
    "start_time": "2022-02-28T15:33:11.373Z"
   },
   {
    "duration": 8,
    "start_time": "2022-02-28T15:33:11.577Z"
   },
   {
    "duration": 242,
    "start_time": "2022-02-28T15:33:11.586Z"
   },
   {
    "duration": 10,
    "start_time": "2022-02-28T15:33:11.829Z"
   },
   {
    "duration": 263,
    "start_time": "2022-02-28T15:33:11.841Z"
   },
   {
    "duration": 178,
    "start_time": "2022-02-28T15:33:12.107Z"
   },
   {
    "duration": 253,
    "start_time": "2022-02-28T15:33:12.287Z"
   },
   {
    "duration": 186,
    "start_time": "2022-02-28T15:33:12.542Z"
   },
   {
    "duration": 8,
    "start_time": "2022-02-28T15:33:12.733Z"
   },
   {
    "duration": 225,
    "start_time": "2022-02-28T15:33:12.760Z"
   },
   {
    "duration": 21,
    "start_time": "2022-02-28T15:33:12.988Z"
   },
   {
    "duration": 448,
    "start_time": "2022-02-28T15:33:13.011Z"
   },
   {
    "duration": 284,
    "start_time": "2022-02-28T15:33:13.461Z"
   },
   {
    "duration": 171,
    "start_time": "2022-02-28T15:33:13.747Z"
   },
   {
    "duration": 8,
    "start_time": "2022-02-28T15:33:13.919Z"
   },
   {
    "duration": 48,
    "start_time": "2022-02-28T15:33:13.928Z"
   },
   {
    "duration": 45,
    "start_time": "2022-02-28T15:33:13.977Z"
   },
   {
    "duration": 10,
    "start_time": "2022-02-28T15:33:14.024Z"
   },
   {
    "duration": 50,
    "start_time": "2022-02-28T15:33:14.035Z"
   },
   {
    "duration": 246,
    "start_time": "2022-02-28T15:33:14.087Z"
   },
   {
    "duration": 264,
    "start_time": "2022-02-28T15:33:14.334Z"
   },
   {
    "duration": 166,
    "start_time": "2022-02-28T15:33:14.600Z"
   },
   {
    "duration": 7,
    "start_time": "2022-02-28T15:33:14.768Z"
   },
   {
    "duration": 238,
    "start_time": "2022-02-28T15:33:14.777Z"
   },
   {
    "duration": 245,
    "start_time": "2022-02-28T15:33:15.017Z"
   },
   {
    "duration": 9,
    "start_time": "2022-02-28T15:33:15.264Z"
   },
   {
    "duration": 245,
    "start_time": "2022-02-28T15:33:15.275Z"
   },
   {
    "duration": 156,
    "start_time": "2022-02-28T15:33:15.521Z"
   },
   {
    "duration": 9,
    "start_time": "2022-02-28T15:33:15.679Z"
   },
   {
    "duration": 237,
    "start_time": "2022-02-28T15:33:15.690Z"
   },
   {
    "duration": 231,
    "start_time": "2022-02-28T15:33:15.928Z"
   },
   {
    "duration": 8,
    "start_time": "2022-02-28T15:33:16.161Z"
   },
   {
    "duration": 7,
    "start_time": "2022-02-28T15:33:16.171Z"
   },
   {
    "duration": 197,
    "start_time": "2022-02-28T15:33:16.180Z"
   },
   {
    "duration": 167,
    "start_time": "2022-02-28T15:37:09.501Z"
   },
   {
    "duration": 209,
    "start_time": "2022-02-28T15:37:17.572Z"
   },
   {
    "duration": 5,
    "start_time": "2022-02-28T15:43:38.736Z"
   },
   {
    "duration": 6264,
    "start_time": "2022-02-28T15:49:25.541Z"
   },
   {
    "duration": 5179,
    "start_time": "2022-02-28T15:49:34.040Z"
   },
   {
    "duration": 208,
    "start_time": "2022-02-28T15:50:31.606Z"
   },
   {
    "duration": 5074,
    "start_time": "2022-02-28T15:50:39.673Z"
   },
   {
    "duration": 5189,
    "start_time": "2022-02-28T15:52:56.192Z"
   },
   {
    "duration": 81,
    "start_time": "2022-02-28T15:53:25.755Z"
   },
   {
    "duration": 208,
    "start_time": "2022-02-28T15:54:02.589Z"
   },
   {
    "duration": 17,
    "start_time": "2022-02-28T15:54:31.491Z"
   },
   {
    "duration": 2491,
    "start_time": "2022-02-28T15:55:19.310Z"
   },
   {
    "duration": 198,
    "start_time": "2022-02-28T15:56:22.034Z"
   },
   {
    "duration": 335,
    "start_time": "2022-02-28T15:57:10.012Z"
   },
   {
    "duration": 472,
    "start_time": "2022-02-28T15:57:18.626Z"
   },
   {
    "duration": 373,
    "start_time": "2022-02-28T15:57:30.065Z"
   },
   {
    "duration": 5053,
    "start_time": "2022-02-28T15:57:34.987Z"
   },
   {
    "duration": 302,
    "start_time": "2022-02-28T15:57:47.202Z"
   },
   {
    "duration": 327,
    "start_time": "2022-02-28T15:57:57.421Z"
   },
   {
    "duration": 327,
    "start_time": "2022-02-28T15:58:18.732Z"
   },
   {
    "duration": 471,
    "start_time": "2022-02-28T15:59:45.704Z"
   },
   {
    "duration": 571,
    "start_time": "2022-02-28T16:01:06.823Z"
   },
   {
    "duration": 559,
    "start_time": "2022-02-28T16:02:29.137Z"
   },
   {
    "duration": 255,
    "start_time": "2022-02-28T16:03:24.204Z"
   },
   {
    "duration": 8,
    "start_time": "2022-02-28T16:03:52.428Z"
   },
   {
    "duration": 19,
    "start_time": "2022-02-28T16:04:01.408Z"
   },
   {
    "duration": 256,
    "start_time": "2022-02-28T16:04:06.909Z"
   },
   {
    "duration": 446,
    "start_time": "2022-02-28T16:04:44.053Z"
   },
   {
    "duration": 160,
    "start_time": "2022-02-28T16:05:43.840Z"
   },
   {
    "duration": 7,
    "start_time": "2022-02-28T16:05:52.062Z"
   },
   {
    "duration": 16,
    "start_time": "2022-02-28T16:06:03.349Z"
   },
   {
    "duration": 210,
    "start_time": "2022-02-28T16:06:04.466Z"
   },
   {
    "duration": 495,
    "start_time": "2022-02-28T16:06:15.617Z"
   },
   {
    "duration": 5,
    "start_time": "2022-02-28T16:06:30.317Z"
   },
   {
    "duration": 459,
    "start_time": "2022-02-28T16:07:13.744Z"
   },
   {
    "duration": 8,
    "start_time": "2022-02-28T16:08:04.733Z"
   },
   {
    "duration": 7,
    "start_time": "2022-02-28T16:08:48.136Z"
   },
   {
    "duration": 210,
    "start_time": "2022-02-28T16:08:50.230Z"
   },
   {
    "duration": 9,
    "start_time": "2022-02-28T16:08:55.866Z"
   },
   {
    "duration": 451,
    "start_time": "2022-02-28T16:09:02.260Z"
   },
   {
    "duration": 6,
    "start_time": "2022-02-28T16:09:23.148Z"
   },
   {
    "duration": 448,
    "start_time": "2022-02-28T16:09:43.804Z"
   },
   {
    "duration": 475,
    "start_time": "2022-02-28T16:10:47.713Z"
   },
   {
    "duration": 452,
    "start_time": "2022-02-28T16:11:40.734Z"
   },
   {
    "duration": 426,
    "start_time": "2022-02-28T16:12:20.672Z"
   },
   {
    "duration": 414,
    "start_time": "2022-02-28T16:12:37.375Z"
   },
   {
    "duration": 418,
    "start_time": "2022-02-28T16:12:38.377Z"
   },
   {
    "duration": 446,
    "start_time": "2022-02-28T16:13:22.663Z"
   },
   {
    "duration": 10,
    "start_time": "2022-02-28T16:19:44.143Z"
   },
   {
    "duration": 10,
    "start_time": "2022-02-28T16:21:09.048Z"
   },
   {
    "duration": 260,
    "start_time": "2022-02-28T16:22:39.808Z"
   },
   {
    "duration": 205,
    "start_time": "2022-02-28T16:26:04.901Z"
   },
   {
    "duration": 265,
    "start_time": "2022-02-28T16:26:52.965Z"
   },
   {
    "duration": 7,
    "start_time": "2022-02-28T16:27:01.168Z"
   },
   {
    "duration": 194,
    "start_time": "2022-02-28T16:27:14.614Z"
   },
   {
    "duration": 16,
    "start_time": "2022-02-28T16:27:50.332Z"
   },
   {
    "duration": 199,
    "start_time": "2022-02-28T16:28:02.997Z"
   },
   {
    "duration": 242,
    "start_time": "2022-02-28T16:28:16.336Z"
   },
   {
    "duration": 203,
    "start_time": "2022-02-28T16:28:39.908Z"
   },
   {
    "duration": 8,
    "start_time": "2022-02-28T16:28:42.980Z"
   },
   {
    "duration": 153,
    "start_time": "2022-02-28T16:28:50.935Z"
   },
   {
    "duration": 210,
    "start_time": "2022-02-28T16:29:20.538Z"
   },
   {
    "duration": 8,
    "start_time": "2022-02-28T16:29:43.248Z"
   },
   {
    "duration": 149,
    "start_time": "2022-02-28T16:29:52.329Z"
   },
   {
    "duration": 8,
    "start_time": "2022-02-28T16:29:56.782Z"
   },
   {
    "duration": 215,
    "start_time": "2022-02-28T16:30:03.155Z"
   },
   {
    "duration": 704,
    "start_time": "2022-02-28T16:30:27.733Z"
   },
   {
    "duration": 213,
    "start_time": "2022-02-28T16:30:28.439Z"
   },
   {
    "duration": 14,
    "start_time": "2022-02-28T16:30:28.655Z"
   },
   {
    "duration": 29,
    "start_time": "2022-02-28T16:30:28.672Z"
   },
   {
    "duration": 13,
    "start_time": "2022-02-28T16:30:28.703Z"
   },
   {
    "duration": 13,
    "start_time": "2022-02-28T16:30:28.718Z"
   },
   {
    "duration": 12,
    "start_time": "2022-02-28T16:30:28.759Z"
   },
   {
    "duration": 12,
    "start_time": "2022-02-28T16:30:28.772Z"
   },
   {
    "duration": 10,
    "start_time": "2022-02-28T16:30:28.788Z"
   },
   {
    "duration": 10,
    "start_time": "2022-02-28T16:30:28.801Z"
   },
   {
    "duration": 11,
    "start_time": "2022-02-28T16:30:28.860Z"
   },
   {
    "duration": 8,
    "start_time": "2022-02-28T16:30:28.873Z"
   },
   {
    "duration": 11,
    "start_time": "2022-02-28T16:30:28.883Z"
   },
   {
    "duration": 80,
    "start_time": "2022-02-28T16:30:28.896Z"
   },
   {
    "duration": 17,
    "start_time": "2022-02-28T16:30:28.978Z"
   },
   {
    "duration": 615,
    "start_time": "2022-02-28T16:30:28.997Z"
   },
   {
    "duration": 26,
    "start_time": "2022-02-28T16:30:29.614Z"
   },
   {
    "duration": 207,
    "start_time": "2022-02-28T16:30:29.642Z"
   },
   {
    "duration": 198,
    "start_time": "2022-02-28T16:30:29.851Z"
   },
   {
    "duration": 9,
    "start_time": "2022-02-28T16:30:30.059Z"
   },
   {
    "duration": 226,
    "start_time": "2022-02-28T16:30:30.071Z"
   },
   {
    "duration": 9,
    "start_time": "2022-02-28T16:30:30.299Z"
   },
   {
    "duration": 254,
    "start_time": "2022-02-28T16:30:30.310Z"
   },
   {
    "duration": 169,
    "start_time": "2022-02-28T16:30:30.566Z"
   },
   {
    "duration": 237,
    "start_time": "2022-02-28T16:30:30.737Z"
   },
   {
    "duration": 168,
    "start_time": "2022-02-28T16:30:30.975Z"
   },
   {
    "duration": 16,
    "start_time": "2022-02-28T16:30:31.148Z"
   },
   {
    "duration": 215,
    "start_time": "2022-02-28T16:30:31.167Z"
   },
   {
    "duration": 25,
    "start_time": "2022-02-28T16:30:31.384Z"
   },
   {
    "duration": 234,
    "start_time": "2022-02-28T16:30:31.411Z"
   },
   {
    "duration": 229,
    "start_time": "2022-02-28T16:30:31.647Z"
   },
   {
    "duration": 226,
    "start_time": "2022-02-28T16:30:31.878Z"
   },
   {
    "duration": 58,
    "start_time": "2022-02-28T16:30:32.105Z"
   },
   {
    "duration": 26,
    "start_time": "2022-02-28T16:30:32.165Z"
   },
   {
    "duration": 100,
    "start_time": "2022-02-28T16:30:32.192Z"
   },
   {
    "duration": 10,
    "start_time": "2022-02-28T16:30:32.294Z"
   },
   {
    "duration": 80,
    "start_time": "2022-02-28T16:30:32.306Z"
   },
   {
    "duration": 352,
    "start_time": "2022-02-28T16:30:32.387Z"
   },
   {
    "duration": 249,
    "start_time": "2022-02-28T16:30:32.741Z"
   },
   {
    "duration": 167,
    "start_time": "2022-02-28T16:30:32.992Z"
   },
   {
    "duration": 8,
    "start_time": "2022-02-28T16:30:33.161Z"
   },
   {
    "duration": 220,
    "start_time": "2022-02-28T16:30:33.170Z"
   },
   {
    "duration": 228,
    "start_time": "2022-02-28T16:30:33.392Z"
   },
   {
    "duration": 13,
    "start_time": "2022-02-28T16:30:33.622Z"
   },
   {
    "duration": 231,
    "start_time": "2022-02-28T16:30:33.636Z"
   },
   {
    "duration": 146,
    "start_time": "2022-02-28T16:30:33.868Z"
   },
   {
    "duration": 9,
    "start_time": "2022-02-28T16:30:34.016Z"
   },
   {
    "duration": 224,
    "start_time": "2022-02-28T16:30:34.027Z"
   },
   {
    "duration": 14,
    "start_time": "2022-02-28T16:30:34.253Z"
   },
   {
    "duration": 509,
    "start_time": "2022-02-28T16:30:34.269Z"
   },
   {
    "duration": 547,
    "start_time": "2022-02-28T16:30:34.780Z"
   },
   {
    "duration": 492,
    "start_time": "2022-02-28T16:30:35.329Z"
   },
   {
    "duration": 228,
    "start_time": "2022-02-28T16:32:00.345Z"
   },
   {
    "duration": 18,
    "start_time": "2022-02-28T16:33:23.431Z"
   },
   {
    "duration": 272,
    "start_time": "2022-02-28T16:33:33.836Z"
   },
   {
    "duration": 632,
    "start_time": "2022-02-28T16:33:49.700Z"
   },
   {
    "duration": 216,
    "start_time": "2022-02-28T16:33:50.334Z"
   },
   {
    "duration": 12,
    "start_time": "2022-02-28T16:33:50.552Z"
   },
   {
    "duration": 25,
    "start_time": "2022-02-28T16:33:50.566Z"
   },
   {
    "duration": 10,
    "start_time": "2022-02-28T16:33:50.593Z"
   },
   {
    "duration": 4,
    "start_time": "2022-02-28T16:33:50.605Z"
   },
   {
    "duration": 9,
    "start_time": "2022-02-28T16:33:50.611Z"
   },
   {
    "duration": 42,
    "start_time": "2022-02-28T16:33:50.621Z"
   },
   {
    "duration": 9,
    "start_time": "2022-02-28T16:33:50.665Z"
   },
   {
    "duration": 9,
    "start_time": "2022-02-28T16:33:50.676Z"
   },
   {
    "duration": 7,
    "start_time": "2022-02-28T16:33:50.687Z"
   },
   {
    "duration": 6,
    "start_time": "2022-02-28T16:33:50.696Z"
   },
   {
    "duration": 57,
    "start_time": "2022-02-28T16:33:50.703Z"
   },
   {
    "duration": 38,
    "start_time": "2022-02-28T16:33:50.762Z"
   },
   {
    "duration": 17,
    "start_time": "2022-02-28T16:33:50.802Z"
   },
   {
    "duration": 619,
    "start_time": "2022-02-28T16:33:50.821Z"
   },
   {
    "duration": 33,
    "start_time": "2022-02-28T16:33:51.441Z"
   },
   {
    "duration": 196,
    "start_time": "2022-02-28T16:33:51.475Z"
   },
   {
    "duration": 189,
    "start_time": "2022-02-28T16:33:51.673Z"
   },
   {
    "duration": 10,
    "start_time": "2022-02-28T16:33:51.864Z"
   },
   {
    "duration": 225,
    "start_time": "2022-02-28T16:33:51.876Z"
   },
   {
    "duration": 9,
    "start_time": "2022-02-28T16:33:52.103Z"
   },
   {
    "duration": 228,
    "start_time": "2022-02-28T16:33:52.113Z"
   },
   {
    "duration": 164,
    "start_time": "2022-02-28T16:33:52.343Z"
   },
   {
    "duration": 231,
    "start_time": "2022-02-28T16:33:52.509Z"
   },
   {
    "duration": 166,
    "start_time": "2022-02-28T16:33:52.742Z"
   },
   {
    "duration": 6,
    "start_time": "2022-02-28T16:33:52.912Z"
   },
   {
    "duration": 228,
    "start_time": "2022-02-28T16:33:52.920Z"
   },
   {
    "duration": 26,
    "start_time": "2022-02-28T16:33:53.150Z"
   },
   {
    "duration": 202,
    "start_time": "2022-02-28T16:33:53.177Z"
   },
   {
    "duration": 205,
    "start_time": "2022-02-28T16:33:53.381Z"
   },
   {
    "duration": 164,
    "start_time": "2022-02-28T16:33:53.587Z"
   },
   {
    "duration": 10,
    "start_time": "2022-02-28T16:33:53.753Z"
   },
   {
    "duration": 29,
    "start_time": "2022-02-28T16:33:53.765Z"
   },
   {
    "duration": 64,
    "start_time": "2022-02-28T16:33:53.796Z"
   },
   {
    "duration": 10,
    "start_time": "2022-02-28T16:33:53.862Z"
   },
   {
    "duration": 29,
    "start_time": "2022-02-28T16:33:53.874Z"
   },
   {
    "duration": 235,
    "start_time": "2022-02-28T16:33:53.904Z"
   },
   {
    "duration": 254,
    "start_time": "2022-02-28T16:33:54.141Z"
   },
   {
    "duration": 156,
    "start_time": "2022-02-28T16:33:54.396Z"
   },
   {
    "duration": 11,
    "start_time": "2022-02-28T16:33:54.553Z"
   },
   {
    "duration": 225,
    "start_time": "2022-02-28T16:33:54.565Z"
   },
   {
    "duration": 220,
    "start_time": "2022-02-28T16:33:54.792Z"
   },
   {
    "duration": 9,
    "start_time": "2022-02-28T16:33:55.013Z"
   },
   {
    "duration": 231,
    "start_time": "2022-02-28T16:33:55.023Z"
   },
   {
    "duration": 155,
    "start_time": "2022-02-28T16:33:55.256Z"
   },
   {
    "duration": 8,
    "start_time": "2022-02-28T16:33:55.413Z"
   },
   {
    "duration": 213,
    "start_time": "2022-02-28T16:33:55.422Z"
   },
   {
    "duration": 11,
    "start_time": "2022-02-28T16:33:55.636Z"
   },
   {
    "duration": 474,
    "start_time": "2022-02-28T16:33:55.659Z"
   },
   {
    "duration": 554,
    "start_time": "2022-02-28T16:33:56.134Z"
   },
   {
    "duration": 722,
    "start_time": "2022-02-28T16:33:56.689Z"
   },
   {
    "duration": 217,
    "start_time": "2022-02-28T16:36:20.610Z"
   },
   {
    "duration": 219,
    "start_time": "2022-02-28T16:36:22.754Z"
   },
   {
    "duration": 8,
    "start_time": "2022-02-28T16:36:28.219Z"
   },
   {
    "duration": 47,
    "start_time": "2022-02-28T16:36:46.924Z"
   },
   {
    "duration": 31,
    "start_time": "2022-02-28T16:36:48.858Z"
   },
   {
    "duration": 11,
    "start_time": "2022-02-28T16:37:13.152Z"
   },
   {
    "duration": 32,
    "start_time": "2022-02-28T16:37:13.850Z"
   },
   {
    "duration": 224,
    "start_time": "2022-02-28T16:37:22.491Z"
   },
   {
    "duration": 199,
    "start_time": "2022-02-28T16:37:33.336Z"
   },
   {
    "duration": 148,
    "start_time": "2022-02-28T16:37:38.308Z"
   },
   {
    "duration": 8,
    "start_time": "2022-02-28T16:37:51.227Z"
   },
   {
    "duration": 208,
    "start_time": "2022-02-28T16:37:57.829Z"
   },
   {
    "duration": 221,
    "start_time": "2022-02-28T16:38:08.755Z"
   },
   {
    "duration": 10,
    "start_time": "2022-02-28T16:38:16.894Z"
   },
   {
    "duration": 212,
    "start_time": "2022-02-28T16:38:17.849Z"
   },
   {
    "duration": 146,
    "start_time": "2022-02-28T16:38:25.045Z"
   },
   {
    "duration": 8,
    "start_time": "2022-02-28T16:38:46.479Z"
   },
   {
    "duration": 227,
    "start_time": "2022-02-28T16:38:58.696Z"
   },
   {
    "duration": 11,
    "start_time": "2022-02-28T16:39:06.051Z"
   },
   {
    "duration": 530,
    "start_time": "2022-02-28T16:39:16.895Z"
   },
   {
    "duration": 525,
    "start_time": "2022-02-28T16:39:27.516Z"
   },
   {
    "duration": 483,
    "start_time": "2022-02-28T16:39:37.641Z"
   },
   {
    "duration": 214,
    "start_time": "2022-02-28T16:41:19.366Z"
   },
   {
    "duration": 699,
    "start_time": "2022-02-28T16:41:46.731Z"
   },
   {
    "duration": 219,
    "start_time": "2022-02-28T16:41:47.432Z"
   },
   {
    "duration": 11,
    "start_time": "2022-02-28T16:41:47.654Z"
   },
   {
    "duration": 28,
    "start_time": "2022-02-28T16:41:47.668Z"
   },
   {
    "duration": 12,
    "start_time": "2022-02-28T16:41:47.698Z"
   },
   {
    "duration": 6,
    "start_time": "2022-02-28T16:41:47.711Z"
   },
   {
    "duration": 41,
    "start_time": "2022-02-28T16:41:47.718Z"
   },
   {
    "duration": 10,
    "start_time": "2022-02-28T16:41:47.763Z"
   },
   {
    "duration": 10,
    "start_time": "2022-02-28T16:41:47.775Z"
   },
   {
    "duration": 9,
    "start_time": "2022-02-28T16:41:47.787Z"
   },
   {
    "duration": 9,
    "start_time": "2022-02-28T16:41:47.798Z"
   },
   {
    "duration": 52,
    "start_time": "2022-02-28T16:41:47.809Z"
   },
   {
    "duration": 10,
    "start_time": "2022-02-28T16:41:47.863Z"
   },
   {
    "duration": 45,
    "start_time": "2022-02-28T16:41:47.875Z"
   },
   {
    "duration": 50,
    "start_time": "2022-02-28T16:41:47.922Z"
   },
   {
    "duration": 611,
    "start_time": "2022-02-28T16:41:47.974Z"
   },
   {
    "duration": 26,
    "start_time": "2022-02-28T16:41:48.587Z"
   },
   {
    "duration": 215,
    "start_time": "2022-02-28T16:41:48.615Z"
   },
   {
    "duration": 214,
    "start_time": "2022-02-28T16:41:48.832Z"
   },
   {
    "duration": 14,
    "start_time": "2022-02-28T16:41:49.048Z"
   },
   {
    "duration": 220,
    "start_time": "2022-02-28T16:41:49.063Z"
   },
   {
    "duration": 8,
    "start_time": "2022-02-28T16:41:49.285Z"
   },
   {
    "duration": 241,
    "start_time": "2022-02-28T16:41:49.297Z"
   },
   {
    "duration": 168,
    "start_time": "2022-02-28T16:41:49.540Z"
   },
   {
    "duration": 230,
    "start_time": "2022-02-28T16:41:49.710Z"
   },
   {
    "duration": 172,
    "start_time": "2022-02-28T16:41:49.942Z"
   },
   {
    "duration": 7,
    "start_time": "2022-02-28T16:41:50.115Z"
   },
   {
    "duration": 224,
    "start_time": "2022-02-28T16:41:50.123Z"
   },
   {
    "duration": 26,
    "start_time": "2022-02-28T16:41:50.348Z"
   },
   {
    "duration": 225,
    "start_time": "2022-02-28T16:41:50.376Z"
   },
   {
    "duration": 230,
    "start_time": "2022-02-28T16:41:50.603Z"
   },
   {
    "duration": 178,
    "start_time": "2022-02-28T16:41:50.835Z"
   },
   {
    "duration": 7,
    "start_time": "2022-02-28T16:41:51.016Z"
   },
   {
    "duration": 48,
    "start_time": "2022-02-28T16:41:51.024Z"
   },
   {
    "duration": 47,
    "start_time": "2022-02-28T16:41:51.074Z"
   },
   {
    "duration": 10,
    "start_time": "2022-02-28T16:41:51.123Z"
   },
   {
    "duration": 59,
    "start_time": "2022-02-28T16:41:51.135Z"
   },
   {
    "duration": 239,
    "start_time": "2022-02-28T16:41:51.196Z"
   },
   {
    "duration": 275,
    "start_time": "2022-02-28T16:41:51.437Z"
   },
   {
    "duration": 166,
    "start_time": "2022-02-28T16:41:51.714Z"
   },
   {
    "duration": 7,
    "start_time": "2022-02-28T16:41:51.882Z"
   },
   {
    "duration": 226,
    "start_time": "2022-02-28T16:41:51.891Z"
   },
   {
    "duration": 229,
    "start_time": "2022-02-28T16:41:52.119Z"
   },
   {
    "duration": 15,
    "start_time": "2022-02-28T16:41:52.350Z"
   },
   {
    "duration": 246,
    "start_time": "2022-02-28T16:41:52.367Z"
   },
   {
    "duration": 153,
    "start_time": "2022-02-28T16:41:52.615Z"
   },
   {
    "duration": 8,
    "start_time": "2022-02-28T16:41:52.770Z"
   },
   {
    "duration": 254,
    "start_time": "2022-02-28T16:41:52.779Z"
   },
   {
    "duration": 25,
    "start_time": "2022-02-28T16:41:53.034Z"
   },
   {
    "duration": 489,
    "start_time": "2022-02-28T16:41:53.061Z"
   },
   {
    "duration": 498,
    "start_time": "2022-02-28T16:41:53.552Z"
   },
   {
    "duration": 470,
    "start_time": "2022-02-28T16:41:54.052Z"
   },
   {
    "duration": 289,
    "start_time": "2022-03-01T12:35:22.165Z"
   },
   {
    "duration": 888,
    "start_time": "2022-03-01T12:35:31.325Z"
   },
   {
    "duration": 265,
    "start_time": "2022-03-01T12:35:32.222Z"
   },
   {
    "duration": 15,
    "start_time": "2022-03-01T12:35:32.490Z"
   },
   {
    "duration": 61,
    "start_time": "2022-03-01T12:35:32.508Z"
   },
   {
    "duration": 14,
    "start_time": "2022-03-01T12:35:32.572Z"
   },
   {
    "duration": 9,
    "start_time": "2022-03-01T12:35:32.589Z"
   },
   {
    "duration": 57,
    "start_time": "2022-03-01T12:35:32.604Z"
   },
   {
    "duration": 12,
    "start_time": "2022-03-01T12:35:32.665Z"
   },
   {
    "duration": 11,
    "start_time": "2022-03-01T12:35:32.680Z"
   },
   {
    "duration": 12,
    "start_time": "2022-03-01T12:35:32.694Z"
   },
   {
    "duration": 52,
    "start_time": "2022-03-01T12:35:32.709Z"
   },
   {
    "duration": 8,
    "start_time": "2022-03-01T12:35:32.763Z"
   },
   {
    "duration": 12,
    "start_time": "2022-03-01T12:35:32.774Z"
   },
   {
    "duration": 105,
    "start_time": "2022-03-01T12:35:32.788Z"
   },
   {
    "duration": 22,
    "start_time": "2022-03-01T12:35:32.896Z"
   },
   {
    "duration": 971,
    "start_time": "2022-03-01T12:35:32.920Z"
   },
   {
    "duration": 36,
    "start_time": "2022-03-01T12:35:33.894Z"
   },
   {
    "duration": 277,
    "start_time": "2022-03-01T12:35:33.952Z"
   },
   {
    "duration": 421,
    "start_time": "2022-03-01T12:35:34.232Z"
   },
   {
    "duration": 10,
    "start_time": "2022-03-01T12:35:34.655Z"
   },
   {
    "duration": 527,
    "start_time": "2022-03-01T12:35:34.668Z"
   },
   {
    "duration": 14,
    "start_time": "2022-03-01T12:35:35.203Z"
   },
   {
    "duration": 552,
    "start_time": "2022-03-01T12:35:35.221Z"
   },
   {
    "duration": 369,
    "start_time": "2022-03-01T12:35:35.776Z"
   },
   {
    "duration": 326,
    "start_time": "2022-03-01T12:35:36.151Z"
   },
   {
    "duration": 237,
    "start_time": "2022-03-01T12:35:36.479Z"
   },
   {
    "duration": 9,
    "start_time": "2022-03-01T12:35:36.718Z"
   },
   {
    "duration": 317,
    "start_time": "2022-03-01T12:35:36.730Z"
   },
   {
    "duration": 25,
    "start_time": "2022-03-01T12:35:37.052Z"
   },
   {
    "duration": 312,
    "start_time": "2022-03-01T12:35:37.080Z"
   },
   {
    "duration": 319,
    "start_time": "2022-03-01T12:35:37.396Z"
   },
   {
    "duration": 220,
    "start_time": "2022-03-01T12:35:37.717Z"
   },
   {
    "duration": 15,
    "start_time": "2022-03-01T12:35:37.940Z"
   },
   {
    "duration": 41,
    "start_time": "2022-03-01T12:35:37.957Z"
   },
   {
    "duration": 104,
    "start_time": "2022-03-01T12:35:38.000Z"
   },
   {
    "duration": 14,
    "start_time": "2022-03-01T12:35:38.106Z"
   },
   {
    "duration": 66,
    "start_time": "2022-03-01T12:35:38.123Z"
   },
   {
    "duration": 329,
    "start_time": "2022-03-01T12:35:38.191Z"
   },
   {
    "duration": 345,
    "start_time": "2022-03-01T12:35:38.522Z"
   },
   {
    "duration": 230,
    "start_time": "2022-03-01T12:35:38.869Z"
   },
   {
    "duration": 11,
    "start_time": "2022-03-01T12:35:39.101Z"
   },
   {
    "duration": 328,
    "start_time": "2022-03-01T12:35:39.114Z"
   },
   {
    "duration": 306,
    "start_time": "2022-03-01T12:35:39.445Z"
   },
   {
    "duration": 10,
    "start_time": "2022-03-01T12:35:39.754Z"
   },
   {
    "duration": 315,
    "start_time": "2022-03-01T12:35:39.766Z"
   },
   {
    "duration": 219,
    "start_time": "2022-03-01T12:35:40.083Z"
   },
   {
    "duration": 10,
    "start_time": "2022-03-01T12:35:40.304Z"
   },
   {
    "duration": 338,
    "start_time": "2022-03-01T12:35:40.317Z"
   },
   {
    "duration": 16,
    "start_time": "2022-03-01T12:35:40.658Z"
   },
   {
    "duration": 670,
    "start_time": "2022-03-01T12:35:40.677Z"
   },
   {
    "duration": 691,
    "start_time": "2022-03-01T12:35:41.352Z"
   },
   {
    "duration": 680,
    "start_time": "2022-03-01T12:35:42.051Z"
   },
   {
    "duration": 59,
    "start_time": "2022-03-01T12:35:42.734Z"
   },
   {
    "duration": 22,
    "start_time": "2022-03-01T12:36:56.015Z"
   },
   {
    "duration": 18,
    "start_time": "2022-03-01T12:40:32.919Z"
   },
   {
    "duration": 6163,
    "start_time": "2022-03-01T12:41:06.851Z"
   },
   {
    "duration": 19,
    "start_time": "2022-03-01T12:41:33.416Z"
   },
   {
    "duration": 418,
    "start_time": "2022-03-01T12:42:01.696Z"
   },
   {
    "duration": 6839,
    "start_time": "2022-03-01T12:46:49.480Z"
   },
   {
    "duration": 6390,
    "start_time": "2022-03-01T12:47:04.466Z"
   },
   {
    "duration": 214,
    "start_time": "2022-03-01T12:47:24.788Z"
   },
   {
    "duration": 712,
    "start_time": "2022-03-01T12:49:07.082Z"
   },
   {
    "duration": 650,
    "start_time": "2022-03-01T12:49:28.845Z"
   },
   {
    "duration": 629,
    "start_time": "2022-03-01T12:49:54.335Z"
   },
   {
    "duration": 682,
    "start_time": "2022-03-01T12:50:11.447Z"
   },
   {
    "duration": 508,
    "start_time": "2022-03-01T12:50:27.845Z"
   },
   {
    "duration": 536,
    "start_time": "2022-03-01T12:51:08.835Z"
   },
   {
    "duration": 824,
    "start_time": "2022-03-01T12:51:32.064Z"
   },
   {
    "duration": 262,
    "start_time": "2022-03-01T12:51:32.891Z"
   },
   {
    "duration": 16,
    "start_time": "2022-03-01T12:51:33.156Z"
   },
   {
    "duration": 77,
    "start_time": "2022-03-01T12:51:33.175Z"
   },
   {
    "duration": 18,
    "start_time": "2022-03-01T12:51:33.254Z"
   },
   {
    "duration": 7,
    "start_time": "2022-03-01T12:51:33.274Z"
   },
   {
    "duration": 12,
    "start_time": "2022-03-01T12:51:33.284Z"
   },
   {
    "duration": 62,
    "start_time": "2022-03-01T12:51:33.300Z"
   },
   {
    "duration": 11,
    "start_time": "2022-03-01T12:51:33.365Z"
   },
   {
    "duration": 12,
    "start_time": "2022-03-01T12:51:33.379Z"
   },
   {
    "duration": 65,
    "start_time": "2022-03-01T12:51:33.393Z"
   },
   {
    "duration": 8,
    "start_time": "2022-03-01T12:51:33.460Z"
   },
   {
    "duration": 14,
    "start_time": "2022-03-01T12:51:33.471Z"
   },
   {
    "duration": 106,
    "start_time": "2022-03-01T12:51:33.488Z"
   },
   {
    "duration": 24,
    "start_time": "2022-03-01T12:51:33.596Z"
   },
   {
    "duration": 998,
    "start_time": "2022-03-01T12:51:33.622Z"
   },
   {
    "duration": 47,
    "start_time": "2022-03-01T12:51:34.623Z"
   },
   {
    "duration": 786,
    "start_time": "2022-03-01T12:51:34.673Z"
   },
   {
    "duration": 506,
    "start_time": "2022-03-01T12:51:35.462Z"
   },
   {
    "duration": 12,
    "start_time": "2022-03-01T12:51:35.970Z"
   },
   {
    "duration": 572,
    "start_time": "2022-03-01T12:51:35.984Z"
   },
   {
    "duration": 13,
    "start_time": "2022-03-01T12:51:36.559Z"
   },
   {
    "duration": 369,
    "start_time": "2022-03-01T12:51:36.577Z"
   },
   {
    "duration": 242,
    "start_time": "2022-03-01T12:51:36.953Z"
   },
   {
    "duration": 497,
    "start_time": "2022-03-01T12:51:37.199Z"
   },
   {
    "duration": 323,
    "start_time": "2022-03-01T12:51:37.699Z"
   },
   {
    "duration": 23,
    "start_time": "2022-03-01T12:51:38.028Z"
   },
   {
    "duration": 315,
    "start_time": "2022-03-01T12:51:38.053Z"
   },
   {
    "duration": 26,
    "start_time": "2022-03-01T12:51:38.370Z"
   },
   {
    "duration": 354,
    "start_time": "2022-03-01T12:51:38.398Z"
   },
   {
    "duration": 339,
    "start_time": "2022-03-01T12:51:38.755Z"
   },
   {
    "duration": 250,
    "start_time": "2022-03-01T12:51:39.097Z"
   },
   {
    "duration": 11,
    "start_time": "2022-03-01T12:51:39.352Z"
   },
   {
    "duration": 39,
    "start_time": "2022-03-01T12:51:39.365Z"
   },
   {
    "duration": 105,
    "start_time": "2022-03-01T12:51:39.406Z"
   },
   {
    "duration": 40,
    "start_time": "2022-03-01T12:51:39.514Z"
   },
   {
    "duration": 61,
    "start_time": "2022-03-01T12:51:39.556Z"
   },
   {
    "duration": 355,
    "start_time": "2022-03-01T12:51:39.620Z"
   },
   {
    "duration": 353,
    "start_time": "2022-03-01T12:51:39.977Z"
   },
   {
    "duration": 241,
    "start_time": "2022-03-01T12:51:40.333Z"
   },
   {
    "duration": 10,
    "start_time": "2022-03-01T12:51:40.577Z"
   },
   {
    "duration": 329,
    "start_time": "2022-03-01T12:51:40.589Z"
   },
   {
    "duration": 325,
    "start_time": "2022-03-01T12:51:40.921Z"
   },
   {
    "duration": 19,
    "start_time": "2022-03-01T12:51:41.252Z"
   },
   {
    "duration": 346,
    "start_time": "2022-03-01T12:51:41.274Z"
   },
   {
    "duration": 218,
    "start_time": "2022-03-01T12:51:41.622Z"
   },
   {
    "duration": 16,
    "start_time": "2022-03-01T12:51:41.842Z"
   },
   {
    "duration": 331,
    "start_time": "2022-03-01T12:51:41.861Z"
   },
   {
    "duration": 17,
    "start_time": "2022-03-01T12:51:42.194Z"
   },
   {
    "duration": 690,
    "start_time": "2022-03-01T12:51:42.213Z"
   },
   {
    "duration": 674,
    "start_time": "2022-03-01T12:51:42.907Z"
   },
   {
    "duration": 617,
    "start_time": "2022-03-01T12:51:43.583Z"
   },
   {
    "duration": 297,
    "start_time": "2022-03-01T12:51:43.907Z"
   },
   {
    "duration": 646,
    "start_time": "2022-03-01T12:52:28.889Z"
   },
   {
    "duration": 726,
    "start_time": "2022-03-01T12:52:40.889Z"
   },
   {
    "duration": 657,
    "start_time": "2022-03-01T12:53:33.513Z"
   },
   {
    "duration": 641,
    "start_time": "2022-03-01T12:53:52.399Z"
   },
   {
    "duration": 4,
    "start_time": "2022-03-01T12:55:15.715Z"
   },
   {
    "duration": 7,
    "start_time": "2022-03-01T12:55:40.681Z"
   },
   {
    "duration": 15,
    "start_time": "2022-03-01T12:55:51.998Z"
   },
   {
    "duration": 7429,
    "start_time": "2022-03-01T12:56:33.368Z"
   },
   {
    "duration": 5819,
    "start_time": "2022-03-01T12:57:22.583Z"
   },
   {
    "duration": 33,
    "start_time": "2022-03-01T12:57:36.180Z"
   },
   {
    "duration": 21797,
    "start_time": "2022-03-01T12:59:26.804Z"
   },
   {
    "duration": 653,
    "start_time": "2022-03-01T13:01:00.992Z"
   },
   {
    "duration": 675,
    "start_time": "2022-03-01T13:01:18.153Z"
   },
   {
    "duration": 667,
    "start_time": "2022-03-01T13:01:49.284Z"
   },
   {
    "duration": 835,
    "start_time": "2022-03-01T13:02:10.494Z"
   },
   {
    "duration": 668,
    "start_time": "2022-03-01T13:02:37.086Z"
   },
   {
    "duration": 1090,
    "start_time": "2022-03-01T13:07:42.998Z"
   },
   {
    "duration": 677,
    "start_time": "2022-03-01T13:08:02.676Z"
   },
   {
    "duration": 247,
    "start_time": "2022-03-01T13:08:41.854Z"
   },
   {
    "duration": 315,
    "start_time": "2022-03-01T13:08:59.213Z"
   },
   {
    "duration": 5,
    "start_time": "2022-03-01T13:13:45.213Z"
   },
   {
    "duration": 41,
    "start_time": "2022-03-01T13:13:47.430Z"
   },
   {
    "duration": 6,
    "start_time": "2022-03-01T13:13:55.999Z"
   },
   {
    "duration": 38,
    "start_time": "2022-03-01T13:13:56.497Z"
   },
   {
    "duration": 5,
    "start_time": "2022-03-01T13:14:05.680Z"
   },
   {
    "duration": 37,
    "start_time": "2022-03-01T13:14:06.840Z"
   },
   {
    "duration": 5,
    "start_time": "2022-03-01T13:16:14.166Z"
   },
   {
    "duration": 36,
    "start_time": "2022-03-01T13:16:15.809Z"
   },
   {
    "duration": 281,
    "start_time": "2022-03-01T13:16:17.733Z"
   },
   {
    "duration": 223,
    "start_time": "2022-03-01T13:16:18.048Z"
   },
   {
    "duration": 10,
    "start_time": "2022-03-01T13:16:18.389Z"
   },
   {
    "duration": 294,
    "start_time": "2022-03-01T13:16:19.006Z"
   },
   {
    "duration": 14,
    "start_time": "2022-03-01T13:16:19.340Z"
   },
   {
    "duration": 301,
    "start_time": "2022-03-01T13:16:19.694Z"
   },
   {
    "duration": 244,
    "start_time": "2022-03-01T13:16:19.998Z"
   },
   {
    "duration": 304,
    "start_time": "2022-03-01T13:16:20.439Z"
   },
   {
    "duration": 236,
    "start_time": "2022-03-01T13:16:20.806Z"
   },
   {
    "duration": 9,
    "start_time": "2022-03-01T13:16:21.052Z"
   },
   {
    "duration": 314,
    "start_time": "2022-03-01T13:16:21.545Z"
   },
   {
    "duration": 33,
    "start_time": "2022-03-01T13:16:21.906Z"
   },
   {
    "duration": 283,
    "start_time": "2022-03-01T13:16:22.095Z"
   },
   {
    "duration": 295,
    "start_time": "2022-03-01T13:16:22.470Z"
   },
   {
    "duration": 241,
    "start_time": "2022-03-01T13:16:22.768Z"
   },
   {
    "duration": 10,
    "start_time": "2022-03-01T13:16:23.011Z"
   },
   {
    "duration": 41,
    "start_time": "2022-03-01T13:16:23.396Z"
   },
   {
    "duration": 72,
    "start_time": "2022-03-01T13:16:24.096Z"
   },
   {
    "duration": 15,
    "start_time": "2022-03-01T13:16:24.927Z"
   },
   {
    "duration": 46,
    "start_time": "2022-03-01T13:16:25.078Z"
   },
   {
    "duration": 301,
    "start_time": "2022-03-01T13:16:25.269Z"
   },
   {
    "duration": 302,
    "start_time": "2022-03-01T13:16:25.643Z"
   },
   {
    "duration": 232,
    "start_time": "2022-03-01T13:16:25.952Z"
   },
   {
    "duration": 11,
    "start_time": "2022-03-01T13:16:26.188Z"
   },
   {
    "duration": 298,
    "start_time": "2022-03-01T13:16:26.341Z"
   },
   {
    "duration": 309,
    "start_time": "2022-03-01T13:16:26.696Z"
   },
   {
    "duration": 14,
    "start_time": "2022-03-01T13:16:27.039Z"
   },
   {
    "duration": 300,
    "start_time": "2022-03-01T13:16:27.215Z"
   },
   {
    "duration": 221,
    "start_time": "2022-03-01T13:16:27.517Z"
   },
   {
    "duration": 12,
    "start_time": "2022-03-01T13:16:28.083Z"
   },
   {
    "duration": 343,
    "start_time": "2022-03-01T13:16:28.253Z"
   },
   {
    "duration": 16,
    "start_time": "2022-03-01T13:16:28.599Z"
   },
   {
    "duration": 659,
    "start_time": "2022-03-01T13:16:28.801Z"
   },
   {
    "duration": 722,
    "start_time": "2022-03-01T13:16:29.462Z"
   },
   {
    "duration": 669,
    "start_time": "2022-03-01T13:16:30.187Z"
   },
   {
    "duration": 5459,
    "start_time": "2022-03-01T13:16:30.859Z"
   },
   {
    "duration": 242,
    "start_time": "2022-03-01T13:16:36.079Z"
   },
   {
    "duration": 255,
    "start_time": "2022-03-01T13:16:47.000Z"
   },
   {
    "duration": 843,
    "start_time": "2022-03-01T13:17:26.534Z"
   },
   {
    "duration": 245,
    "start_time": "2022-03-01T13:17:27.379Z"
   },
   {
    "duration": 27,
    "start_time": "2022-03-01T13:17:27.628Z"
   },
   {
    "duration": 38,
    "start_time": "2022-03-01T13:17:27.658Z"
   },
   {
    "duration": 16,
    "start_time": "2022-03-01T13:17:27.698Z"
   },
   {
    "duration": 7,
    "start_time": "2022-03-01T13:17:27.752Z"
   },
   {
    "duration": 18,
    "start_time": "2022-03-01T13:17:27.762Z"
   },
   {
    "duration": 15,
    "start_time": "2022-03-01T13:17:27.783Z"
   },
   {
    "duration": 58,
    "start_time": "2022-03-01T13:17:27.805Z"
   },
   {
    "duration": 12,
    "start_time": "2022-03-01T13:17:27.867Z"
   },
   {
    "duration": 11,
    "start_time": "2022-03-01T13:17:27.882Z"
   },
   {
    "duration": 56,
    "start_time": "2022-03-01T13:17:27.896Z"
   },
   {
    "duration": 14,
    "start_time": "2022-03-01T13:17:27.955Z"
   },
   {
    "duration": 93,
    "start_time": "2022-03-01T13:17:27.971Z"
   },
   {
    "duration": 25,
    "start_time": "2022-03-01T13:17:28.066Z"
   },
   {
    "duration": 4,
    "start_time": "2022-03-01T13:17:28.094Z"
   },
   {
    "duration": 76,
    "start_time": "2022-03-01T13:17:28.101Z"
   },
   {
    "duration": 304,
    "start_time": "2022-03-01T13:17:28.180Z"
   },
   {
    "duration": 247,
    "start_time": "2022-03-01T13:17:28.486Z"
   },
   {
    "duration": 22,
    "start_time": "2022-03-01T13:17:28.735Z"
   },
   {
    "duration": 316,
    "start_time": "2022-03-01T13:17:28.759Z"
   },
   {
    "duration": 11,
    "start_time": "2022-03-01T13:17:29.077Z"
   },
   {
    "duration": 376,
    "start_time": "2022-03-01T13:17:29.090Z"
   },
   {
    "duration": 261,
    "start_time": "2022-03-01T13:17:29.468Z"
   },
   {
    "duration": 347,
    "start_time": "2022-03-01T13:17:29.731Z"
   },
   {
    "duration": 485,
    "start_time": "2022-03-01T13:17:30.080Z"
   },
   {
    "duration": 10,
    "start_time": "2022-03-01T13:17:30.571Z"
   },
   {
    "duration": 514,
    "start_time": "2022-03-01T13:17:30.585Z"
   },
   {
    "duration": 28,
    "start_time": "2022-03-01T13:17:31.102Z"
   },
   {
    "duration": 311,
    "start_time": "2022-03-01T13:17:31.151Z"
   },
   {
    "duration": 332,
    "start_time": "2022-03-01T13:17:31.465Z"
   },
   {
    "duration": 246,
    "start_time": "2022-03-01T13:17:31.800Z"
   },
   {
    "duration": 11,
    "start_time": "2022-03-01T13:17:32.052Z"
   },
   {
    "duration": 40,
    "start_time": "2022-03-01T13:17:32.065Z"
   },
   {
    "duration": 104,
    "start_time": "2022-03-01T13:17:32.108Z"
   },
   {
    "duration": 39,
    "start_time": "2022-03-01T13:17:32.214Z"
   },
   {
    "duration": 46,
    "start_time": "2022-03-01T13:17:32.256Z"
   },
   {
    "duration": 348,
    "start_time": "2022-03-01T13:17:32.304Z"
   },
   {
    "duration": 301,
    "start_time": "2022-03-01T13:17:32.654Z"
   },
   {
    "duration": 227,
    "start_time": "2022-03-01T13:17:32.958Z"
   },
   {
    "duration": 10,
    "start_time": "2022-03-01T13:17:33.188Z"
   },
   {
    "duration": 376,
    "start_time": "2022-03-01T13:17:33.201Z"
   },
   {
    "duration": 325,
    "start_time": "2022-03-01T13:17:33.579Z"
   },
   {
    "duration": 13,
    "start_time": "2022-03-01T13:17:33.906Z"
   },
   {
    "duration": 336,
    "start_time": "2022-03-01T13:17:33.921Z"
   },
   {
    "duration": 235,
    "start_time": "2022-03-01T13:17:34.260Z"
   },
   {
    "duration": 15,
    "start_time": "2022-03-01T13:17:34.498Z"
   },
   {
    "duration": 365,
    "start_time": "2022-03-01T13:17:34.516Z"
   },
   {
    "duration": 19,
    "start_time": "2022-03-01T13:17:34.884Z"
   },
   {
    "duration": 745,
    "start_time": "2022-03-01T13:17:34.906Z"
   },
   {
    "duration": 737,
    "start_time": "2022-03-01T13:17:35.654Z"
   },
   {
    "duration": 709,
    "start_time": "2022-03-01T13:17:36.393Z"
   },
   {
    "duration": 6065,
    "start_time": "2022-03-01T13:17:37.105Z"
   },
   {
    "duration": 228,
    "start_time": "2022-03-01T13:17:42.945Z"
   },
   {
    "duration": 225,
    "start_time": "2022-03-01T13:17:42.949Z"
   },
   {
    "duration": 5,
    "start_time": "2022-03-01T13:18:29.200Z"
   },
   {
    "duration": 39,
    "start_time": "2022-03-01T13:18:30.593Z"
   },
   {
    "duration": 5,
    "start_time": "2022-03-01T13:18:40.364Z"
   },
   {
    "duration": 38,
    "start_time": "2022-03-01T13:18:41.608Z"
   },
   {
    "duration": 1118,
    "start_time": "2022-03-01T13:19:13.438Z"
   },
   {
    "duration": 38,
    "start_time": "2022-03-01T13:19:15.677Z"
   },
   {
    "duration": 5994,
    "start_time": "2022-03-01T13:19:23.198Z"
   },
   {
    "duration": 848,
    "start_time": "2022-03-01T13:19:39.060Z"
   },
   {
    "duration": 273,
    "start_time": "2022-03-01T13:19:39.911Z"
   },
   {
    "duration": 18,
    "start_time": "2022-03-01T13:19:40.188Z"
   },
   {
    "duration": 70,
    "start_time": "2022-03-01T13:19:40.210Z"
   },
   {
    "duration": 20,
    "start_time": "2022-03-01T13:19:40.284Z"
   },
   {
    "duration": 8,
    "start_time": "2022-03-01T13:19:40.307Z"
   },
   {
    "duration": 45,
    "start_time": "2022-03-01T13:19:40.317Z"
   },
   {
    "duration": 14,
    "start_time": "2022-03-01T13:19:40.369Z"
   },
   {
    "duration": 64,
    "start_time": "2022-03-01T13:19:40.387Z"
   },
   {
    "duration": 15,
    "start_time": "2022-03-01T13:19:40.454Z"
   },
   {
    "duration": 17,
    "start_time": "2022-03-01T13:19:40.472Z"
   },
   {
    "duration": 13,
    "start_time": "2022-03-01T13:19:40.492Z"
   },
   {
    "duration": 63,
    "start_time": "2022-03-01T13:19:40.507Z"
   },
   {
    "duration": 78,
    "start_time": "2022-03-01T13:19:40.573Z"
   },
   {
    "duration": 26,
    "start_time": "2022-03-01T13:19:40.654Z"
   },
   {
    "duration": 974,
    "start_time": "2022-03-01T13:19:40.682Z"
   },
   {
    "duration": 39,
    "start_time": "2022-03-01T13:19:41.658Z"
   },
   {
    "duration": 311,
    "start_time": "2022-03-01T13:19:41.699Z"
   },
   {
    "duration": 277,
    "start_time": "2022-03-01T13:19:42.012Z"
   },
   {
    "duration": 13,
    "start_time": "2022-03-01T13:19:42.291Z"
   },
   {
    "duration": 333,
    "start_time": "2022-03-01T13:19:42.307Z"
   },
   {
    "duration": 18,
    "start_time": "2022-03-01T13:19:42.642Z"
   },
   {
    "duration": 342,
    "start_time": "2022-03-01T13:19:42.666Z"
   },
   {
    "duration": 253,
    "start_time": "2022-03-01T13:19:43.011Z"
   },
   {
    "duration": 323,
    "start_time": "2022-03-01T13:19:43.267Z"
   },
   {
    "duration": 244,
    "start_time": "2022-03-01T13:19:43.593Z"
   },
   {
    "duration": 18,
    "start_time": "2022-03-01T13:19:43.839Z"
   },
   {
    "duration": 296,
    "start_time": "2022-03-01T13:19:43.860Z"
   },
   {
    "duration": 23,
    "start_time": "2022-03-01T13:19:44.159Z"
   },
   {
    "duration": 323,
    "start_time": "2022-03-01T13:19:44.184Z"
   },
   {
    "duration": 321,
    "start_time": "2022-03-01T13:19:44.509Z"
   },
   {
    "duration": 233,
    "start_time": "2022-03-01T13:19:44.833Z"
   },
   {
    "duration": 10,
    "start_time": "2022-03-01T13:19:45.068Z"
   },
   {
    "duration": 41,
    "start_time": "2022-03-01T13:19:45.080Z"
   },
   {
    "duration": 96,
    "start_time": "2022-03-01T13:19:45.123Z"
   },
   {
    "duration": 37,
    "start_time": "2022-03-01T13:19:45.221Z"
   },
   {
    "duration": 48,
    "start_time": "2022-03-01T13:19:45.260Z"
   },
   {
    "duration": 380,
    "start_time": "2022-03-01T13:19:45.311Z"
   },
   {
    "duration": 368,
    "start_time": "2022-03-01T13:19:45.694Z"
   },
   {
    "duration": 235,
    "start_time": "2022-03-01T13:19:46.064Z"
   },
   {
    "duration": 10,
    "start_time": "2022-03-01T13:19:46.301Z"
   },
   {
    "duration": 329,
    "start_time": "2022-03-01T13:19:46.313Z"
   },
   {
    "duration": 318,
    "start_time": "2022-03-01T13:19:46.644Z"
   },
   {
    "duration": 11,
    "start_time": "2022-03-01T13:19:46.965Z"
   },
   {
    "duration": 324,
    "start_time": "2022-03-01T13:19:46.979Z"
   },
   {
    "duration": 224,
    "start_time": "2022-03-01T13:19:47.305Z"
   },
   {
    "duration": 24,
    "start_time": "2022-03-01T13:19:47.532Z"
   },
   {
    "duration": 337,
    "start_time": "2022-03-01T13:19:47.558Z"
   },
   {
    "duration": 14,
    "start_time": "2022-03-01T13:19:47.897Z"
   },
   {
    "duration": 725,
    "start_time": "2022-03-01T13:19:47.914Z"
   },
   {
    "duration": 720,
    "start_time": "2022-03-01T13:19:48.642Z"
   },
   {
    "duration": 671,
    "start_time": "2022-03-01T13:19:49.365Z"
   },
   {
    "duration": 705,
    "start_time": "2022-03-01T13:19:50.038Z"
   },
   {
    "duration": 732,
    "start_time": "2022-03-01T13:19:50.745Z"
   },
   {
    "duration": 716,
    "start_time": "2022-03-01T13:19:51.479Z"
   },
   {
    "duration": 7792,
    "start_time": "2022-03-01T13:20:29.598Z"
   },
   {
    "duration": 648,
    "start_time": "2022-03-01T13:20:44.025Z"
   },
   {
    "duration": 919,
    "start_time": "2022-03-01T13:21:39.952Z"
   },
   {
    "duration": 37,
    "start_time": "2022-03-01T13:21:44.139Z"
   },
   {
    "duration": 24,
    "start_time": "2022-03-01T14:39:54.572Z"
   },
   {
    "duration": 734,
    "start_time": "2022-03-01T14:40:11.473Z"
   },
   {
    "duration": 24,
    "start_time": "2022-03-01T14:40:23.523Z"
   },
   {
    "duration": 24,
    "start_time": "2022-03-01T14:41:04.895Z"
   },
   {
    "duration": 22,
    "start_time": "2022-03-01T14:41:14.926Z"
   },
   {
    "duration": 233,
    "start_time": "2022-03-01T14:41:59.528Z"
   },
   {
    "duration": 239,
    "start_time": "2022-03-01T14:42:17.791Z"
   },
   {
    "duration": 40,
    "start_time": "2022-03-01T14:42:39.275Z"
   },
   {
    "duration": 270,
    "start_time": "2022-03-01T14:42:57.966Z"
   },
   {
    "duration": 241,
    "start_time": "2022-03-01T14:43:42.448Z"
   },
   {
    "duration": 37,
    "start_time": "2022-03-01T14:43:52.116Z"
   },
   {
    "duration": 27,
    "start_time": "2022-03-01T14:46:07.761Z"
   },
   {
    "duration": 40,
    "start_time": "2022-03-01T14:46:51.748Z"
   },
   {
    "duration": 42,
    "start_time": "2022-03-01T14:47:01.398Z"
   },
   {
    "duration": 28,
    "start_time": "2022-03-01T14:48:26.414Z"
   },
   {
    "duration": 30,
    "start_time": "2022-03-01T14:48:30.908Z"
   },
   {
    "duration": 29,
    "start_time": "2022-03-01T14:48:54.195Z"
   },
   {
    "duration": 34,
    "start_time": "2022-03-01T14:50:31.783Z"
   },
   {
    "duration": 16,
    "start_time": "2022-03-01T14:51:06.230Z"
   },
   {
    "duration": 15,
    "start_time": "2022-03-01T14:51:09.685Z"
   },
   {
    "duration": 23,
    "start_time": "2022-03-01T14:51:22.448Z"
   },
   {
    "duration": 26,
    "start_time": "2022-03-01T14:52:44.385Z"
   },
   {
    "duration": 35,
    "start_time": "2022-03-01T14:52:47.965Z"
   },
   {
    "duration": 30,
    "start_time": "2022-03-01T14:53:04.717Z"
   },
   {
    "duration": 37,
    "start_time": "2022-03-01T14:53:14.690Z"
   },
   {
    "duration": 40,
    "start_time": "2022-03-01T14:53:39.890Z"
   },
   {
    "duration": 12,
    "start_time": "2022-03-01T14:55:06.709Z"
   },
   {
    "duration": 16,
    "start_time": "2022-03-01T14:55:17.871Z"
   },
   {
    "duration": 16,
    "start_time": "2022-03-01T14:55:22.848Z"
   },
   {
    "duration": 16,
    "start_time": "2022-03-01T15:00:54.158Z"
   },
   {
    "duration": 13,
    "start_time": "2022-03-01T15:02:04.155Z"
   },
   {
    "duration": 245,
    "start_time": "2022-03-01T15:02:53.880Z"
   },
   {
    "duration": 6062,
    "start_time": "2022-03-01T15:03:09.584Z"
   },
   {
    "duration": 7977,
    "start_time": "2022-03-01T15:03:40.940Z"
   },
   {
    "duration": 8640,
    "start_time": "2022-03-01T15:04:53.162Z"
   },
   {
    "duration": 267,
    "start_time": "2022-03-01T15:05:22.047Z"
   },
   {
    "duration": 685,
    "start_time": "2022-03-01T15:06:01.847Z"
   },
   {
    "duration": 104,
    "start_time": "2022-03-01T15:19:56.079Z"
   },
   {
    "duration": 221,
    "start_time": "2022-03-01T15:20:39.135Z"
   },
   {
    "duration": 772,
    "start_time": "2022-03-01T15:20:56.304Z"
   },
   {
    "duration": 122,
    "start_time": "2022-03-01T15:20:57.079Z"
   },
   {
    "duration": 15,
    "start_time": "2022-03-01T15:20:57.204Z"
   },
   {
    "duration": 61,
    "start_time": "2022-03-01T15:20:57.222Z"
   },
   {
    "duration": 14,
    "start_time": "2022-03-01T15:20:57.285Z"
   },
   {
    "duration": 7,
    "start_time": "2022-03-01T15:20:57.301Z"
   },
   {
    "duration": 48,
    "start_time": "2022-03-01T15:20:57.310Z"
   },
   {
    "duration": 11,
    "start_time": "2022-03-01T15:20:57.361Z"
   },
   {
    "duration": 10,
    "start_time": "2022-03-01T15:20:57.376Z"
   },
   {
    "duration": 10,
    "start_time": "2022-03-01T15:20:57.389Z"
   },
   {
    "duration": 51,
    "start_time": "2022-03-01T15:20:57.401Z"
   },
   {
    "duration": 8,
    "start_time": "2022-03-01T15:20:57.455Z"
   },
   {
    "duration": 14,
    "start_time": "2022-03-01T15:20:57.465Z"
   },
   {
    "duration": 94,
    "start_time": "2022-03-01T15:20:57.481Z"
   },
   {
    "duration": 23,
    "start_time": "2022-03-01T15:20:57.578Z"
   },
   {
    "duration": 963,
    "start_time": "2022-03-01T15:20:57.603Z"
   },
   {
    "duration": 36,
    "start_time": "2022-03-01T15:20:58.568Z"
   },
   {
    "duration": 292,
    "start_time": "2022-03-01T15:20:58.606Z"
   },
   {
    "duration": 267,
    "start_time": "2022-03-01T15:20:58.901Z"
   },
   {
    "duration": 11,
    "start_time": "2022-03-01T15:20:59.170Z"
   },
   {
    "duration": 322,
    "start_time": "2022-03-01T15:20:59.184Z"
   },
   {
    "duration": 11,
    "start_time": "2022-03-01T15:20:59.508Z"
   },
   {
    "duration": 323,
    "start_time": "2022-03-01T15:20:59.522Z"
   },
   {
    "duration": 248,
    "start_time": "2022-03-01T15:20:59.851Z"
   },
   {
    "duration": 338,
    "start_time": "2022-03-01T15:21:00.101Z"
   },
   {
    "duration": 248,
    "start_time": "2022-03-01T15:21:00.442Z"
   },
   {
    "duration": 10,
    "start_time": "2022-03-01T15:21:00.695Z"
   },
   {
    "duration": 560,
    "start_time": "2022-03-01T15:21:00.708Z"
   },
   {
    "duration": 80,
    "start_time": "2022-03-01T15:21:01.271Z"
   },
   {
    "duration": 393,
    "start_time": "2022-03-01T15:21:01.354Z"
   },
   {
    "duration": 314,
    "start_time": "2022-03-01T15:21:01.749Z"
   },
   {
    "duration": 229,
    "start_time": "2022-03-01T15:21:02.065Z"
   },
   {
    "duration": 10,
    "start_time": "2022-03-01T15:21:02.297Z"
   },
   {
    "duration": 66,
    "start_time": "2022-03-01T15:21:02.310Z"
   },
   {
    "duration": 89,
    "start_time": "2022-03-01T15:21:02.379Z"
   },
   {
    "duration": 14,
    "start_time": "2022-03-01T15:21:02.470Z"
   },
   {
    "duration": 80,
    "start_time": "2022-03-01T15:21:02.487Z"
   },
   {
    "duration": 336,
    "start_time": "2022-03-01T15:21:02.571Z"
   },
   {
    "duration": 467,
    "start_time": "2022-03-01T15:21:02.910Z"
   },
   {
    "duration": 237,
    "start_time": "2022-03-01T15:21:03.380Z"
   },
   {
    "duration": 11,
    "start_time": "2022-03-01T15:21:03.620Z"
   },
   {
    "duration": 349,
    "start_time": "2022-03-01T15:21:03.633Z"
   },
   {
    "duration": 318,
    "start_time": "2022-03-01T15:21:03.984Z"
   },
   {
    "duration": 14,
    "start_time": "2022-03-01T15:21:04.305Z"
   },
   {
    "duration": 246,
    "start_time": "2022-03-01T15:21:04.321Z"
   },
   {
    "duration": 11,
    "start_time": "2022-03-01T15:21:04.569Z"
   },
   {
    "duration": 385,
    "start_time": "2022-03-01T15:21:04.582Z"
   },
   {
    "duration": 15,
    "start_time": "2022-03-01T15:21:04.970Z"
   },
   {
    "duration": 690,
    "start_time": "2022-03-01T15:21:04.988Z"
   },
   {
    "duration": 1040,
    "start_time": "2022-03-01T15:21:05.681Z"
   },
   {
    "duration": 722,
    "start_time": "2022-03-01T15:21:06.724Z"
   },
   {
    "duration": 701,
    "start_time": "2022-03-01T15:21:07.452Z"
   },
   {
    "duration": 684,
    "start_time": "2022-03-01T15:21:08.155Z"
   },
   {
    "duration": 698,
    "start_time": "2022-03-01T15:21:08.842Z"
   },
   {
    "duration": 340,
    "start_time": "2022-03-01T15:21:09.543Z"
   },
   {
    "duration": 382,
    "start_time": "2022-03-01T15:21:38.135Z"
   },
   {
    "duration": 292,
    "start_time": "2022-03-01T15:23:25.259Z"
   },
   {
    "duration": 36,
    "start_time": "2022-03-01T15:25:24.573Z"
   },
   {
    "duration": 279,
    "start_time": "2022-03-01T15:30:53.415Z"
   },
   {
    "duration": 11,
    "start_time": "2022-03-01T15:31:04.668Z"
   },
   {
    "duration": 321,
    "start_time": "2022-03-01T15:32:00.916Z"
   },
   {
    "duration": 217,
    "start_time": "2022-03-01T15:32:27.552Z"
   },
   {
    "duration": 19,
    "start_time": "2022-03-01T15:33:43.042Z"
   },
   {
    "duration": 35,
    "start_time": "2022-03-01T15:34:48.936Z"
   },
   {
    "duration": 5414,
    "start_time": "2022-03-01T15:37:57.859Z"
   },
   {
    "duration": 315,
    "start_time": "2022-03-01T15:38:24.610Z"
   },
   {
    "duration": 326,
    "start_time": "2022-03-01T15:41:39.759Z"
   },
   {
    "duration": 311,
    "start_time": "2022-03-01T15:41:52.371Z"
   },
   {
    "duration": 307,
    "start_time": "2022-03-01T15:41:57.762Z"
   },
   {
    "duration": 328,
    "start_time": "2022-03-01T15:42:01.422Z"
   },
   {
    "duration": 15,
    "start_time": "2022-03-01T15:43:37.694Z"
   },
   {
    "duration": 346,
    "start_time": "2022-03-01T15:44:28.642Z"
   },
   {
    "duration": 295,
    "start_time": "2022-03-01T15:45:25.720Z"
   },
   {
    "duration": 14,
    "start_time": "2022-03-01T15:45:41.018Z"
   },
   {
    "duration": 35,
    "start_time": "2022-03-01T15:45:59.069Z"
   },
   {
    "duration": 356,
    "start_time": "2022-03-01T15:46:58.855Z"
   },
   {
    "duration": 323,
    "start_time": "2022-03-01T15:47:18.493Z"
   },
   {
    "duration": 16,
    "start_time": "2022-03-01T15:52:43.568Z"
   },
   {
    "duration": 324,
    "start_time": "2022-03-01T15:54:16.382Z"
   },
   {
    "duration": 221,
    "start_time": "2022-03-01T15:55:43.449Z"
   },
   {
    "duration": 74,
    "start_time": "2022-03-01T15:55:52.024Z"
   },
   {
    "duration": 76,
    "start_time": "2022-03-01T15:56:23.614Z"
   },
   {
    "duration": 323,
    "start_time": "2022-03-01T15:56:50.488Z"
   },
   {
    "duration": 795,
    "start_time": "2022-03-01T15:57:25.385Z"
   },
   {
    "duration": 117,
    "start_time": "2022-03-01T15:57:26.182Z"
   },
   {
    "duration": 15,
    "start_time": "2022-03-01T15:57:26.303Z"
   },
   {
    "duration": 66,
    "start_time": "2022-03-01T15:57:26.321Z"
   },
   {
    "duration": 16,
    "start_time": "2022-03-01T15:57:26.389Z"
   },
   {
    "duration": 7,
    "start_time": "2022-03-01T15:57:26.407Z"
   },
   {
    "duration": 44,
    "start_time": "2022-03-01T15:57:26.417Z"
   },
   {
    "duration": 16,
    "start_time": "2022-03-01T15:57:26.464Z"
   },
   {
    "duration": 66,
    "start_time": "2022-03-01T15:57:26.486Z"
   },
   {
    "duration": 14,
    "start_time": "2022-03-01T15:57:26.556Z"
   },
   {
    "duration": 12,
    "start_time": "2022-03-01T15:57:26.573Z"
   },
   {
    "duration": 8,
    "start_time": "2022-03-01T15:57:26.587Z"
   },
   {
    "duration": 61,
    "start_time": "2022-03-01T15:57:26.597Z"
   },
   {
    "duration": 57,
    "start_time": "2022-03-01T15:57:26.661Z"
   },
   {
    "duration": 47,
    "start_time": "2022-03-01T15:57:26.721Z"
   },
   {
    "duration": 975,
    "start_time": "2022-03-01T15:57:26.771Z"
   },
   {
    "duration": 38,
    "start_time": "2022-03-01T15:57:27.749Z"
   },
   {
    "duration": 310,
    "start_time": "2022-03-01T15:57:27.789Z"
   },
   {
    "duration": 283,
    "start_time": "2022-03-01T15:57:28.102Z"
   },
   {
    "duration": 14,
    "start_time": "2022-03-01T15:57:28.388Z"
   },
   {
    "duration": 348,
    "start_time": "2022-03-01T15:57:28.405Z"
   },
   {
    "duration": 11,
    "start_time": "2022-03-01T15:57:28.756Z"
   },
   {
    "duration": 432,
    "start_time": "2022-03-01T15:57:28.769Z"
   },
   {
    "duration": 319,
    "start_time": "2022-03-01T15:57:29.204Z"
   },
   {
    "duration": 442,
    "start_time": "2022-03-01T15:57:29.526Z"
   },
   {
    "duration": 336,
    "start_time": "2022-03-01T15:57:29.971Z"
   },
   {
    "duration": 11,
    "start_time": "2022-03-01T15:57:30.315Z"
   },
   {
    "duration": 426,
    "start_time": "2022-03-01T15:57:30.329Z"
   },
   {
    "duration": 35,
    "start_time": "2022-03-01T15:57:30.758Z"
   },
   {
    "duration": 411,
    "start_time": "2022-03-01T15:57:30.795Z"
   },
   {
    "duration": 420,
    "start_time": "2022-03-01T15:57:31.208Z"
   },
   {
    "duration": 310,
    "start_time": "2022-03-01T15:57:31.630Z"
   },
   {
    "duration": 17,
    "start_time": "2022-03-01T15:57:31.943Z"
   },
   {
    "duration": 55,
    "start_time": "2022-03-01T15:57:31.963Z"
   },
   {
    "duration": 72,
    "start_time": "2022-03-01T15:57:32.052Z"
   },
   {
    "duration": 33,
    "start_time": "2022-03-01T15:57:32.127Z"
   },
   {
    "duration": 44,
    "start_time": "2022-03-01T15:57:32.163Z"
   },
   {
    "duration": 367,
    "start_time": "2022-03-01T15:57:32.210Z"
   },
   {
    "duration": 373,
    "start_time": "2022-03-01T15:57:32.580Z"
   },
   {
    "duration": 240,
    "start_time": "2022-03-01T15:57:32.956Z"
   },
   {
    "duration": 10,
    "start_time": "2022-03-01T15:57:33.199Z"
   },
   {
    "duration": 342,
    "start_time": "2022-03-01T15:57:33.211Z"
   },
   {
    "duration": 328,
    "start_time": "2022-03-01T15:57:33.556Z"
   },
   {
    "duration": 12,
    "start_time": "2022-03-01T15:57:33.886Z"
   },
   {
    "duration": 237,
    "start_time": "2022-03-01T15:57:33.900Z"
   },
   {
    "duration": 19,
    "start_time": "2022-03-01T15:57:34.140Z"
   },
   {
    "duration": 350,
    "start_time": "2022-03-01T15:57:34.162Z"
   },
   {
    "duration": 15,
    "start_time": "2022-03-01T15:57:34.515Z"
   },
   {
    "duration": 731,
    "start_time": "2022-03-01T15:57:34.533Z"
   },
   {
    "duration": 720,
    "start_time": "2022-03-01T15:57:35.267Z"
   },
   {
    "duration": 650,
    "start_time": "2022-03-01T15:57:35.990Z"
   },
   {
    "duration": 717,
    "start_time": "2022-03-01T15:57:36.643Z"
   },
   {
    "duration": 701,
    "start_time": "2022-03-01T15:57:37.362Z"
   },
   {
    "duration": 705,
    "start_time": "2022-03-01T15:57:38.066Z"
   },
   {
    "duration": 34,
    "start_time": "2022-03-01T15:57:38.774Z"
   },
   {
    "duration": 44,
    "start_time": "2022-03-01T15:57:38.810Z"
   },
   {
    "duration": 415,
    "start_time": "2022-03-01T15:57:38.856Z"
   },
   {
    "duration": 16,
    "start_time": "2022-03-01T15:58:17.100Z"
   },
   {
    "duration": 881,
    "start_time": "2022-03-01T15:59:29.830Z"
   },
   {
    "duration": 124,
    "start_time": "2022-03-01T15:59:30.714Z"
   },
   {
    "duration": 24,
    "start_time": "2022-03-01T15:59:30.842Z"
   },
   {
    "duration": 41,
    "start_time": "2022-03-01T15:59:30.869Z"
   },
   {
    "duration": 52,
    "start_time": "2022-03-01T15:59:30.913Z"
   },
   {
    "duration": 6,
    "start_time": "2022-03-01T15:59:30.968Z"
   },
   {
    "duration": 22,
    "start_time": "2022-03-01T15:59:30.977Z"
   },
   {
    "duration": 52,
    "start_time": "2022-03-01T15:59:31.003Z"
   },
   {
    "duration": 12,
    "start_time": "2022-03-01T15:59:31.058Z"
   },
   {
    "duration": 13,
    "start_time": "2022-03-01T15:59:31.072Z"
   },
   {
    "duration": 16,
    "start_time": "2022-03-01T15:59:31.088Z"
   },
   {
    "duration": 12,
    "start_time": "2022-03-01T15:59:31.151Z"
   },
   {
    "duration": 20,
    "start_time": "2022-03-01T15:59:31.165Z"
   },
   {
    "duration": 95,
    "start_time": "2022-03-01T15:59:31.188Z"
   },
   {
    "duration": 27,
    "start_time": "2022-03-01T15:59:31.286Z"
   },
   {
    "duration": 996,
    "start_time": "2022-03-01T15:59:31.316Z"
   },
   {
    "duration": 55,
    "start_time": "2022-03-01T15:59:32.315Z"
   },
   {
    "duration": 312,
    "start_time": "2022-03-01T15:59:32.373Z"
   },
   {
    "duration": 281,
    "start_time": "2022-03-01T15:59:32.688Z"
   },
   {
    "duration": 14,
    "start_time": "2022-03-01T15:59:32.972Z"
   },
   {
    "duration": 340,
    "start_time": "2022-03-01T15:59:32.989Z"
   },
   {
    "duration": 21,
    "start_time": "2022-03-01T15:59:33.333Z"
   },
   {
    "duration": 337,
    "start_time": "2022-03-01T15:59:33.359Z"
   },
   {
    "duration": 252,
    "start_time": "2022-03-01T15:59:33.701Z"
   },
   {
    "duration": 319,
    "start_time": "2022-03-01T15:59:33.956Z"
   },
   {
    "duration": 237,
    "start_time": "2022-03-01T15:59:34.277Z"
   },
   {
    "duration": 10,
    "start_time": "2022-03-01T15:59:34.516Z"
   },
   {
    "duration": 410,
    "start_time": "2022-03-01T15:59:34.528Z"
   },
   {
    "duration": 38,
    "start_time": "2022-03-01T15:59:34.941Z"
   },
   {
    "duration": 400,
    "start_time": "2022-03-01T15:59:34.982Z"
   },
   {
    "duration": 525,
    "start_time": "2022-03-01T15:59:35.385Z"
   },
   {
    "duration": 301,
    "start_time": "2022-03-01T15:59:35.912Z"
   },
   {
    "duration": 10,
    "start_time": "2022-03-01T15:59:36.215Z"
   },
   {
    "duration": 64,
    "start_time": "2022-03-01T15:59:36.228Z"
   },
   {
    "duration": 127,
    "start_time": "2022-03-01T15:59:36.295Z"
   },
   {
    "duration": 33,
    "start_time": "2022-03-01T15:59:36.424Z"
   },
   {
    "duration": 45,
    "start_time": "2022-03-01T15:59:36.460Z"
   },
   {
    "duration": 383,
    "start_time": "2022-03-01T15:59:36.507Z"
   },
   {
    "duration": 352,
    "start_time": "2022-03-01T15:59:36.892Z"
   },
   {
    "duration": 240,
    "start_time": "2022-03-01T15:59:37.246Z"
   },
   {
    "duration": 11,
    "start_time": "2022-03-01T15:59:37.488Z"
   },
   {
    "duration": 317,
    "start_time": "2022-03-01T15:59:37.501Z"
   },
   {
    "duration": 326,
    "start_time": "2022-03-01T15:59:37.821Z"
   },
   {
    "duration": 14,
    "start_time": "2022-03-01T15:59:38.151Z"
   },
   {
    "duration": 246,
    "start_time": "2022-03-01T15:59:38.168Z"
   },
   {
    "duration": 11,
    "start_time": "2022-03-01T15:59:38.416Z"
   },
   {
    "duration": 341,
    "start_time": "2022-03-01T15:59:38.429Z"
   },
   {
    "duration": 16,
    "start_time": "2022-03-01T15:59:38.772Z"
   },
   {
    "duration": 689,
    "start_time": "2022-03-01T15:59:38.790Z"
   },
   {
    "duration": 688,
    "start_time": "2022-03-01T15:59:39.481Z"
   },
   {
    "duration": 666,
    "start_time": "2022-03-01T15:59:40.171Z"
   },
   {
    "duration": 686,
    "start_time": "2022-03-01T15:59:40.840Z"
   },
   {
    "duration": 676,
    "start_time": "2022-03-01T15:59:41.528Z"
   },
   {
    "duration": 656,
    "start_time": "2022-03-01T15:59:42.206Z"
   },
   {
    "duration": 36,
    "start_time": "2022-03-01T15:59:42.864Z"
   },
   {
    "duration": 13,
    "start_time": "2022-03-01T15:59:42.902Z"
   },
   {
    "duration": 138,
    "start_time": "2022-03-01T15:59:42.918Z"
   },
   {
    "duration": 361,
    "start_time": "2022-03-01T15:59:43.059Z"
   },
   {
    "duration": 1539,
    "start_time": "2022-03-01T16:05:01.253Z"
   },
   {
    "duration": 26,
    "start_time": "2022-03-01T16:05:07.846Z"
   },
   {
    "duration": 977,
    "start_time": "2022-03-01T16:05:08.865Z"
   },
   {
    "duration": 41,
    "start_time": "2022-03-01T16:05:09.845Z"
   },
   {
    "duration": 325,
    "start_time": "2022-03-01T16:05:37.269Z"
   },
   {
    "duration": 943,
    "start_time": "2022-03-01T16:06:08.679Z"
   },
   {
    "duration": 41,
    "start_time": "2022-03-01T16:06:17.676Z"
   },
   {
    "duration": 225,
    "start_time": "2022-03-01T16:06:24.305Z"
   },
   {
    "duration": 835,
    "start_time": "2022-03-01T16:06:44.955Z"
   },
   {
    "duration": 129,
    "start_time": "2022-03-01T16:06:45.793Z"
   },
   {
    "duration": 31,
    "start_time": "2022-03-01T16:06:45.925Z"
   },
   {
    "duration": 37,
    "start_time": "2022-03-01T16:06:45.958Z"
   },
   {
    "duration": 16,
    "start_time": "2022-03-01T16:06:45.997Z"
   },
   {
    "duration": 40,
    "start_time": "2022-03-01T16:06:46.015Z"
   },
   {
    "duration": 19,
    "start_time": "2022-03-01T16:06:46.058Z"
   },
   {
    "duration": 16,
    "start_time": "2022-03-01T16:06:46.083Z"
   },
   {
    "duration": 57,
    "start_time": "2022-03-01T16:06:46.102Z"
   },
   {
    "duration": 13,
    "start_time": "2022-03-01T16:06:46.162Z"
   },
   {
    "duration": 12,
    "start_time": "2022-03-01T16:06:46.177Z"
   },
   {
    "duration": 61,
    "start_time": "2022-03-01T16:06:46.192Z"
   },
   {
    "duration": 25,
    "start_time": "2022-03-01T16:06:46.255Z"
   },
   {
    "duration": 92,
    "start_time": "2022-03-01T16:06:46.283Z"
   },
   {
    "duration": 26,
    "start_time": "2022-03-01T16:06:46.378Z"
   },
   {
    "duration": 1021,
    "start_time": "2022-03-01T16:06:46.406Z"
   },
   {
    "duration": 48,
    "start_time": "2022-03-01T16:06:47.430Z"
   },
   {
    "duration": 313,
    "start_time": "2022-03-01T16:06:47.481Z"
   },
   {
    "duration": 281,
    "start_time": "2022-03-01T16:06:47.797Z"
   },
   {
    "duration": 10,
    "start_time": "2022-03-01T16:06:48.081Z"
   },
   {
    "duration": 361,
    "start_time": "2022-03-01T16:06:48.093Z"
   },
   {
    "duration": 34,
    "start_time": "2022-03-01T16:06:48.457Z"
   },
   {
    "duration": 331,
    "start_time": "2022-03-01T16:06:48.496Z"
   },
   {
    "duration": 241,
    "start_time": "2022-03-01T16:06:48.831Z"
   },
   {
    "duration": 332,
    "start_time": "2022-03-01T16:06:49.075Z"
   },
   {
    "duration": 245,
    "start_time": "2022-03-01T16:06:49.410Z"
   },
   {
    "duration": 9,
    "start_time": "2022-03-01T16:06:49.657Z"
   },
   {
    "duration": 313,
    "start_time": "2022-03-01T16:06:49.668Z"
   },
   {
    "duration": 25,
    "start_time": "2022-03-01T16:06:49.983Z"
   },
   {
    "duration": 314,
    "start_time": "2022-03-01T16:06:50.010Z"
   },
   {
    "duration": 307,
    "start_time": "2022-03-01T16:06:50.327Z"
   },
   {
    "duration": 230,
    "start_time": "2022-03-01T16:06:50.637Z"
   },
   {
    "duration": 10,
    "start_time": "2022-03-01T16:06:50.869Z"
   },
   {
    "duration": 43,
    "start_time": "2022-03-01T16:06:50.881Z"
   },
   {
    "duration": 67,
    "start_time": "2022-03-01T16:06:50.952Z"
   },
   {
    "duration": 34,
    "start_time": "2022-03-01T16:06:51.021Z"
   },
   {
    "duration": 48,
    "start_time": "2022-03-01T16:06:51.057Z"
   },
   {
    "duration": 349,
    "start_time": "2022-03-01T16:06:51.108Z"
   },
   {
    "duration": 360,
    "start_time": "2022-03-01T16:06:51.460Z"
   },
   {
    "duration": 253,
    "start_time": "2022-03-01T16:06:51.823Z"
   },
   {
    "duration": 10,
    "start_time": "2022-03-01T16:06:52.079Z"
   },
   {
    "duration": 333,
    "start_time": "2022-03-01T16:06:52.091Z"
   },
   {
    "duration": 316,
    "start_time": "2022-03-01T16:06:52.427Z"
   },
   {
    "duration": 15,
    "start_time": "2022-03-01T16:06:52.751Z"
   },
   {
    "duration": 306,
    "start_time": "2022-03-01T16:06:52.768Z"
   },
   {
    "duration": 13,
    "start_time": "2022-03-01T16:06:53.077Z"
   },
   {
    "duration": 358,
    "start_time": "2022-03-01T16:06:53.093Z"
   },
   {
    "duration": 19,
    "start_time": "2022-03-01T16:06:53.454Z"
   },
   {
    "duration": 705,
    "start_time": "2022-03-01T16:06:53.476Z"
   },
   {
    "duration": 692,
    "start_time": "2022-03-01T16:06:54.184Z"
   },
   {
    "duration": 664,
    "start_time": "2022-03-01T16:06:54.879Z"
   },
   {
    "duration": 709,
    "start_time": "2022-03-01T16:06:55.550Z"
   },
   {
    "duration": 731,
    "start_time": "2022-03-01T16:06:56.261Z"
   },
   {
    "duration": 696,
    "start_time": "2022-03-01T16:06:56.995Z"
   },
   {
    "duration": 872,
    "start_time": "2022-03-01T16:06:57.694Z"
   },
   {
    "duration": 34,
    "start_time": "2022-03-01T16:06:58.569Z"
   },
   {
    "duration": 12,
    "start_time": "2022-03-01T16:06:58.606Z"
   },
   {
    "duration": 356,
    "start_time": "2022-03-01T16:06:58.651Z"
   },
   {
    "duration": 1063,
    "start_time": "2022-03-01T16:08:00.873Z"
   },
   {
    "duration": 927,
    "start_time": "2022-03-01T16:08:16.690Z"
   },
   {
    "duration": 76,
    "start_time": "2022-03-01T16:10:38.785Z"
   },
   {
    "duration": 613,
    "start_time": "2022-03-01T16:10:46.218Z"
   },
   {
    "duration": 492,
    "start_time": "2022-03-01T16:11:42.300Z"
   },
   {
    "duration": 896,
    "start_time": "2022-03-01T16:14:15.755Z"
   },
   {
    "duration": 1864,
    "start_time": "2022-03-01T16:14:22.924Z"
   },
   {
    "duration": 602,
    "start_time": "2022-03-01T16:14:35.334Z"
   },
   {
    "duration": 582,
    "start_time": "2022-03-01T16:15:11.176Z"
   },
   {
    "duration": 957,
    "start_time": "2022-03-01T16:15:22.463Z"
   },
   {
    "duration": 739,
    "start_time": "2022-03-01T16:15:30.293Z"
   },
   {
    "duration": 444,
    "start_time": "2022-03-01T16:15:38.291Z"
   },
   {
    "duration": 499,
    "start_time": "2022-03-01T16:16:37.213Z"
   },
   {
    "duration": 494,
    "start_time": "2022-03-01T16:18:24.220Z"
   },
   {
    "duration": 513,
    "start_time": "2022-03-01T16:18:31.938Z"
   },
   {
    "duration": 338,
    "start_time": "2022-03-01T16:18:39.752Z"
   },
   {
    "duration": 322,
    "start_time": "2022-03-01T16:18:50.501Z"
   },
   {
    "duration": 16,
    "start_time": "2022-03-01T16:18:54.693Z"
   },
   {
    "duration": 333,
    "start_time": "2022-03-01T16:18:55.584Z"
   },
   {
    "duration": 646,
    "start_time": "2022-03-01T16:23:37.492Z"
   },
   {
    "duration": 1002,
    "start_time": "2022-03-01T16:27:41.549Z"
   },
   {
    "duration": 41,
    "start_time": "2022-03-01T16:27:43.486Z"
   },
   {
    "duration": 1041,
    "start_time": "2022-03-01T16:28:00.910Z"
   },
   {
    "duration": 39,
    "start_time": "2022-03-01T16:28:01.954Z"
   },
   {
    "duration": 5,
    "start_time": "2022-03-01T16:38:34.721Z"
   },
   {
    "duration": 244,
    "start_time": "2022-03-01T16:38:58.171Z"
   },
   {
    "duration": 10,
    "start_time": "2022-03-01T16:39:03.190Z"
   },
   {
    "duration": 935,
    "start_time": "2022-03-01T16:40:09.904Z"
   },
   {
    "duration": 14,
    "start_time": "2022-03-01T16:40:10.841Z"
   },
   {
    "duration": 37,
    "start_time": "2022-03-01T16:40:10.895Z"
   },
   {
    "duration": 1195,
    "start_time": "2022-03-01T16:40:36.718Z"
   },
   {
    "duration": 10,
    "start_time": "2022-03-01T16:40:38.459Z"
   },
   {
    "duration": 37,
    "start_time": "2022-03-01T16:40:39.709Z"
   },
   {
    "duration": 5267,
    "start_time": "2022-03-01T16:41:06.843Z"
   },
   {
    "duration": 834,
    "start_time": "2022-03-01T16:41:18.062Z"
   },
   {
    "duration": 124,
    "start_time": "2022-03-01T16:41:18.899Z"
   },
   {
    "duration": 33,
    "start_time": "2022-03-01T16:41:19.027Z"
   },
   {
    "duration": 41,
    "start_time": "2022-03-01T16:41:19.064Z"
   },
   {
    "duration": 54,
    "start_time": "2022-03-01T16:41:19.108Z"
   },
   {
    "duration": 8,
    "start_time": "2022-03-01T16:41:19.165Z"
   },
   {
    "duration": 12,
    "start_time": "2022-03-01T16:41:19.176Z"
   },
   {
    "duration": 13,
    "start_time": "2022-03-01T16:41:19.192Z"
   },
   {
    "duration": 12,
    "start_time": "2022-03-01T16:41:19.251Z"
   },
   {
    "duration": 11,
    "start_time": "2022-03-01T16:41:19.266Z"
   },
   {
    "duration": 12,
    "start_time": "2022-03-01T16:41:19.279Z"
   },
   {
    "duration": 58,
    "start_time": "2022-03-01T16:41:19.293Z"
   },
   {
    "duration": 14,
    "start_time": "2022-03-01T16:41:19.353Z"
   },
   {
    "duration": 81,
    "start_time": "2022-03-01T16:41:19.370Z"
   },
   {
    "duration": 22,
    "start_time": "2022-03-01T16:41:19.453Z"
   },
   {
    "duration": 961,
    "start_time": "2022-03-01T16:41:19.478Z"
   },
   {
    "duration": 17,
    "start_time": "2022-03-01T16:41:20.441Z"
   },
   {
    "duration": 41,
    "start_time": "2022-03-01T16:41:20.461Z"
   },
   {
    "duration": 329,
    "start_time": "2022-03-01T16:41:20.505Z"
   },
   {
    "duration": 284,
    "start_time": "2022-03-01T16:41:20.837Z"
   },
   {
    "duration": 29,
    "start_time": "2022-03-01T16:41:21.124Z"
   },
   {
    "duration": 308,
    "start_time": "2022-03-01T16:41:21.155Z"
   },
   {
    "duration": 11,
    "start_time": "2022-03-01T16:41:21.469Z"
   },
   {
    "duration": 372,
    "start_time": "2022-03-01T16:41:21.483Z"
   },
   {
    "duration": 243,
    "start_time": "2022-03-01T16:41:21.857Z"
   },
   {
    "duration": 336,
    "start_time": "2022-03-01T16:41:22.102Z"
   },
   {
    "duration": 259,
    "start_time": "2022-03-01T16:41:22.440Z"
   },
   {
    "duration": 9,
    "start_time": "2022-03-01T16:41:22.701Z"
   },
   {
    "duration": 310,
    "start_time": "2022-03-01T16:41:22.712Z"
   },
   {
    "duration": 47,
    "start_time": "2022-03-01T16:41:23.025Z"
   },
   {
    "duration": 321,
    "start_time": "2022-03-01T16:41:23.075Z"
   },
   {
    "duration": 326,
    "start_time": "2022-03-01T16:41:23.399Z"
   },
   {
    "duration": 227,
    "start_time": "2022-03-01T16:41:23.728Z"
   },
   {
    "duration": 9,
    "start_time": "2022-03-01T16:41:23.958Z"
   },
   {
    "duration": 41,
    "start_time": "2022-03-01T16:41:23.969Z"
   },
   {
    "duration": 97,
    "start_time": "2022-03-01T16:41:24.012Z"
   },
   {
    "duration": 45,
    "start_time": "2022-03-01T16:41:24.112Z"
   },
   {
    "duration": 59,
    "start_time": "2022-03-01T16:41:24.159Z"
   },
   {
    "duration": 452,
    "start_time": "2022-03-01T16:41:24.221Z"
   },
   {
    "duration": 355,
    "start_time": "2022-03-01T16:41:24.676Z"
   },
   {
    "duration": 244,
    "start_time": "2022-03-01T16:41:25.033Z"
   },
   {
    "duration": 11,
    "start_time": "2022-03-01T16:41:25.279Z"
   },
   {
    "duration": 323,
    "start_time": "2022-03-01T16:41:25.292Z"
   },
   {
    "duration": 316,
    "start_time": "2022-03-01T16:41:25.617Z"
   },
   {
    "duration": 23,
    "start_time": "2022-03-01T16:41:25.936Z"
   },
   {
    "duration": 218,
    "start_time": "2022-03-01T16:41:25.961Z"
   },
   {
    "duration": 10,
    "start_time": "2022-03-01T16:41:26.182Z"
   },
   {
    "duration": 358,
    "start_time": "2022-03-01T16:41:26.195Z"
   },
   {
    "duration": 15,
    "start_time": "2022-03-01T16:41:26.556Z"
   },
   {
    "duration": 705,
    "start_time": "2022-03-01T16:41:26.574Z"
   },
   {
    "duration": 1029,
    "start_time": "2022-03-01T16:41:27.282Z"
   },
   {
    "duration": 940,
    "start_time": "2022-03-01T16:41:28.314Z"
   },
   {
    "duration": 917,
    "start_time": "2022-03-01T16:41:29.257Z"
   },
   {
    "duration": 974,
    "start_time": "2022-03-01T16:41:30.177Z"
   },
   {
    "duration": 661,
    "start_time": "2022-03-01T16:41:31.154Z"
   },
   {
    "duration": 1086,
    "start_time": "2022-03-01T16:41:31.818Z"
   },
   {
    "duration": 62,
    "start_time": "2022-03-01T16:41:32.907Z"
   },
   {
    "duration": 16,
    "start_time": "2022-03-01T16:41:32.972Z"
   },
   {
    "duration": 484,
    "start_time": "2022-03-01T16:41:32.990Z"
   },
   {
    "duration": 11,
    "start_time": "2022-03-01T16:43:36.719Z"
   },
   {
    "duration": 230,
    "start_time": "2022-03-01T16:44:32.545Z"
   },
   {
    "duration": 228,
    "start_time": "2022-03-01T16:45:03.030Z"
   },
   {
    "duration": 17,
    "start_time": "2022-03-01T16:45:19.602Z"
   },
   {
    "duration": 338,
    "start_time": "2022-03-01T16:45:21.188Z"
   },
   {
    "duration": 239,
    "start_time": "2022-03-01T16:46:06.205Z"
   },
   {
    "duration": 15,
    "start_time": "2022-03-01T16:46:10.274Z"
   },
   {
    "duration": 454,
    "start_time": "2022-03-01T16:46:11.566Z"
   },
   {
    "duration": 845,
    "start_time": "2022-03-01T16:47:42.637Z"
   },
   {
    "duration": 117,
    "start_time": "2022-03-01T16:47:43.485Z"
   },
   {
    "duration": 16,
    "start_time": "2022-03-01T16:47:43.605Z"
   },
   {
    "duration": 64,
    "start_time": "2022-03-01T16:47:43.624Z"
   },
   {
    "duration": 16,
    "start_time": "2022-03-01T16:47:43.690Z"
   },
   {
    "duration": 7,
    "start_time": "2022-03-01T16:47:43.708Z"
   },
   {
    "duration": 14,
    "start_time": "2022-03-01T16:47:43.751Z"
   },
   {
    "duration": 13,
    "start_time": "2022-03-01T16:47:43.768Z"
   },
   {
    "duration": 12,
    "start_time": "2022-03-01T16:47:43.784Z"
   },
   {
    "duration": 56,
    "start_time": "2022-03-01T16:47:43.799Z"
   },
   {
    "duration": 14,
    "start_time": "2022-03-01T16:47:43.858Z"
   },
   {
    "duration": 9,
    "start_time": "2022-03-01T16:47:43.875Z"
   },
   {
    "duration": 17,
    "start_time": "2022-03-01T16:47:43.887Z"
   },
   {
    "duration": 96,
    "start_time": "2022-03-01T16:47:43.907Z"
   },
   {
    "duration": 52,
    "start_time": "2022-03-01T16:47:44.005Z"
   },
   {
    "duration": 1087,
    "start_time": "2022-03-01T16:47:44.059Z"
   },
   {
    "duration": 10,
    "start_time": "2022-03-01T16:47:45.148Z"
   },
   {
    "duration": 36,
    "start_time": "2022-03-01T16:47:45.161Z"
   },
   {
    "duration": 322,
    "start_time": "2022-03-01T16:47:45.200Z"
   },
   {
    "duration": 282,
    "start_time": "2022-03-01T16:47:45.525Z"
   },
   {
    "duration": 10,
    "start_time": "2022-03-01T16:47:45.810Z"
   },
   {
    "duration": 325,
    "start_time": "2022-03-01T16:47:45.822Z"
   },
   {
    "duration": 11,
    "start_time": "2022-03-01T16:47:46.154Z"
   },
   {
    "duration": 356,
    "start_time": "2022-03-01T16:47:46.169Z"
   },
   {
    "duration": 244,
    "start_time": "2022-03-01T16:47:46.528Z"
   },
   {
    "duration": 329,
    "start_time": "2022-03-01T16:47:46.774Z"
   },
   {
    "duration": 245,
    "start_time": "2022-03-01T16:47:47.106Z"
   },
   {
    "duration": 11,
    "start_time": "2022-03-01T16:47:47.353Z"
   },
   {
    "duration": 411,
    "start_time": "2022-03-01T16:47:47.367Z"
   },
   {
    "duration": 32,
    "start_time": "2022-03-01T16:47:47.781Z"
   },
   {
    "duration": 321,
    "start_time": "2022-03-01T16:47:47.815Z"
   },
   {
    "duration": 318,
    "start_time": "2022-03-01T16:47:48.139Z"
   },
   {
    "duration": 233,
    "start_time": "2022-03-01T16:47:48.460Z"
   },
   {
    "duration": 14,
    "start_time": "2022-03-01T16:47:48.697Z"
   },
   {
    "duration": 73,
    "start_time": "2022-03-01T16:47:48.713Z"
   },
   {
    "duration": 81,
    "start_time": "2022-03-01T16:47:48.788Z"
   },
   {
    "duration": 15,
    "start_time": "2022-03-01T16:47:48.872Z"
   },
   {
    "duration": 87,
    "start_time": "2022-03-01T16:47:48.889Z"
   },
   {
    "duration": 336,
    "start_time": "2022-03-01T16:47:48.979Z"
   },
   {
    "duration": 352,
    "start_time": "2022-03-01T16:47:49.317Z"
   },
   {
    "duration": 250,
    "start_time": "2022-03-01T16:47:49.671Z"
   },
   {
    "duration": 10,
    "start_time": "2022-03-01T16:47:49.924Z"
   },
   {
    "duration": 325,
    "start_time": "2022-03-01T16:47:49.952Z"
   },
   {
    "duration": 350,
    "start_time": "2022-03-01T16:47:50.280Z"
   },
   {
    "duration": 21,
    "start_time": "2022-03-01T16:47:50.632Z"
   },
   {
    "duration": 254,
    "start_time": "2022-03-01T16:47:50.655Z"
   },
   {
    "duration": 15,
    "start_time": "2022-03-01T16:47:50.913Z"
   },
   {
    "duration": 361,
    "start_time": "2022-03-01T16:47:50.931Z"
   },
   {
    "duration": 15,
    "start_time": "2022-03-01T16:47:51.295Z"
   },
   {
    "duration": 886,
    "start_time": "2022-03-01T16:47:51.313Z"
   },
   {
    "duration": 911,
    "start_time": "2022-03-01T16:47:52.202Z"
   },
   {
    "duration": 821,
    "start_time": "2022-03-01T16:47:53.116Z"
   },
   {
    "duration": 710,
    "start_time": "2022-03-01T16:47:53.940Z"
   },
   {
    "duration": 719,
    "start_time": "2022-03-01T16:47:54.653Z"
   },
   {
    "duration": 700,
    "start_time": "2022-03-01T16:47:55.374Z"
   },
   {
    "duration": 557,
    "start_time": "2022-03-01T16:47:56.076Z"
   },
   {
    "duration": 56,
    "start_time": "2022-03-01T16:47:56.635Z"
   },
   {
    "duration": 12,
    "start_time": "2022-03-01T16:47:56.693Z"
   },
   {
    "duration": 359,
    "start_time": "2022-03-01T16:47:56.708Z"
   },
   {
    "duration": 328,
    "start_time": "2022-03-01T16:52:36.494Z"
   },
   {
    "duration": 14,
    "start_time": "2022-03-01T16:52:43.530Z"
   },
   {
    "duration": 857,
    "start_time": "2022-03-01T16:52:52.264Z"
   },
   {
    "duration": 126,
    "start_time": "2022-03-01T16:52:53.125Z"
   },
   {
    "duration": 16,
    "start_time": "2022-03-01T16:52:53.254Z"
   },
   {
    "duration": 39,
    "start_time": "2022-03-01T16:52:53.273Z"
   },
   {
    "duration": 48,
    "start_time": "2022-03-01T16:52:53.314Z"
   },
   {
    "duration": 7,
    "start_time": "2022-03-01T16:52:53.364Z"
   },
   {
    "duration": 13,
    "start_time": "2022-03-01T16:52:53.373Z"
   },
   {
    "duration": 12,
    "start_time": "2022-03-01T16:52:53.390Z"
   },
   {
    "duration": 12,
    "start_time": "2022-03-01T16:52:53.451Z"
   },
   {
    "duration": 13,
    "start_time": "2022-03-01T16:52:53.466Z"
   },
   {
    "duration": 14,
    "start_time": "2022-03-01T16:52:53.482Z"
   },
   {
    "duration": 60,
    "start_time": "2022-03-01T16:52:53.499Z"
   },
   {
    "duration": 13,
    "start_time": "2022-03-01T16:52:53.562Z"
   },
   {
    "duration": 82,
    "start_time": "2022-03-01T16:52:53.578Z"
   },
   {
    "duration": 24,
    "start_time": "2022-03-01T16:52:53.662Z"
   },
   {
    "duration": 985,
    "start_time": "2022-03-01T16:52:53.688Z"
   },
   {
    "duration": 12,
    "start_time": "2022-03-01T16:52:54.676Z"
   },
   {
    "duration": 65,
    "start_time": "2022-03-01T16:52:54.692Z"
   },
   {
    "duration": 317,
    "start_time": "2022-03-01T16:52:54.759Z"
   },
   {
    "duration": 278,
    "start_time": "2022-03-01T16:52:55.079Z"
   },
   {
    "duration": 11,
    "start_time": "2022-03-01T16:52:55.360Z"
   },
   {
    "duration": 327,
    "start_time": "2022-03-01T16:52:55.374Z"
   },
   {
    "duration": 12,
    "start_time": "2022-03-01T16:52:55.706Z"
   },
   {
    "duration": 371,
    "start_time": "2022-03-01T16:52:55.722Z"
   },
   {
    "duration": 462,
    "start_time": "2022-03-01T16:52:56.095Z"
   },
   {
    "duration": 484,
    "start_time": "2022-03-01T16:52:56.560Z"
   },
   {
    "duration": 322,
    "start_time": "2022-03-01T16:52:57.047Z"
   },
   {
    "duration": 11,
    "start_time": "2022-03-01T16:52:57.372Z"
   },
   {
    "duration": 431,
    "start_time": "2022-03-01T16:52:57.386Z"
   },
   {
    "duration": 39,
    "start_time": "2022-03-01T16:52:57.820Z"
   },
   {
    "duration": 315,
    "start_time": "2022-03-01T16:52:57.861Z"
   },
   {
    "duration": 324,
    "start_time": "2022-03-01T16:52:58.179Z"
   },
   {
    "duration": 254,
    "start_time": "2022-03-01T16:52:58.506Z"
   },
   {
    "duration": 306,
    "start_time": "2022-03-01T16:52:58.763Z"
   },
   {
    "duration": 374,
    "start_time": "2022-03-01T16:52:58.698Z"
   },
   {
    "duration": 373,
    "start_time": "2022-03-01T16:52:58.701Z"
   },
   {
    "duration": 365,
    "start_time": "2022-03-01T16:52:58.711Z"
   },
   {
    "duration": 363,
    "start_time": "2022-03-01T16:52:58.715Z"
   },
   {
    "duration": 361,
    "start_time": "2022-03-01T16:52:58.719Z"
   },
   {
    "duration": 353,
    "start_time": "2022-03-01T16:52:58.729Z"
   },
   {
    "duration": 352,
    "start_time": "2022-03-01T16:52:58.732Z"
   },
   {
    "duration": 351,
    "start_time": "2022-03-01T16:52:58.735Z"
   },
   {
    "duration": 328,
    "start_time": "2022-03-01T16:52:58.761Z"
   },
   {
    "duration": 322,
    "start_time": "2022-03-01T16:52:58.769Z"
   },
   {
    "duration": 315,
    "start_time": "2022-03-01T16:52:58.778Z"
   },
   {
    "duration": 314,
    "start_time": "2022-03-01T16:52:58.782Z"
   },
   {
    "duration": 312,
    "start_time": "2022-03-01T16:52:58.786Z"
   },
   {
    "duration": 311,
    "start_time": "2022-03-01T16:52:58.789Z"
   },
   {
    "duration": 310,
    "start_time": "2022-03-01T16:52:58.792Z"
   },
   {
    "duration": 295,
    "start_time": "2022-03-01T16:52:58.809Z"
   },
   {
    "duration": 284,
    "start_time": "2022-03-01T16:52:58.822Z"
   },
   {
    "duration": 284,
    "start_time": "2022-03-01T16:52:58.825Z"
   },
   {
    "duration": 282,
    "start_time": "2022-03-01T16:52:58.828Z"
   },
   {
    "duration": 281,
    "start_time": "2022-03-01T16:52:58.831Z"
   },
   {
    "duration": 278,
    "start_time": "2022-03-01T16:52:58.835Z"
   },
   {
    "duration": 311,
    "start_time": "2022-03-01T16:52:58.839Z"
   },
   {
    "duration": 284,
    "start_time": "2022-03-01T16:52:58.869Z"
   },
   {
    "duration": 283,
    "start_time": "2022-03-01T16:52:58.872Z"
   },
   {
    "duration": 282,
    "start_time": "2022-03-01T16:52:58.875Z"
   },
   {
    "duration": 233,
    "start_time": "2022-03-01T16:53:39.432Z"
   },
   {
    "duration": 281,
    "start_time": "2022-03-01T16:53:56.338Z"
   },
   {
    "duration": 278,
    "start_time": "2022-03-01T16:54:04.664Z"
   },
   {
    "duration": 295,
    "start_time": "2022-03-01T16:54:16.435Z"
   },
   {
    "duration": 822,
    "start_time": "2022-03-01T16:54:36.195Z"
   },
   {
    "duration": 127,
    "start_time": "2022-03-01T16:54:37.020Z"
   },
   {
    "duration": 16,
    "start_time": "2022-03-01T16:54:37.150Z"
   },
   {
    "duration": 38,
    "start_time": "2022-03-01T16:54:37.168Z"
   },
   {
    "duration": 52,
    "start_time": "2022-03-01T16:54:37.209Z"
   },
   {
    "duration": 7,
    "start_time": "2022-03-01T16:54:37.263Z"
   },
   {
    "duration": 12,
    "start_time": "2022-03-01T16:54:37.272Z"
   },
   {
    "duration": 11,
    "start_time": "2022-03-01T16:54:37.288Z"
   },
   {
    "duration": 50,
    "start_time": "2022-03-01T16:54:37.302Z"
   },
   {
    "duration": 11,
    "start_time": "2022-03-01T16:54:37.355Z"
   },
   {
    "duration": 11,
    "start_time": "2022-03-01T16:54:37.368Z"
   },
   {
    "duration": 8,
    "start_time": "2022-03-01T16:54:37.381Z"
   },
   {
    "duration": 68,
    "start_time": "2022-03-01T16:54:37.392Z"
   },
   {
    "duration": 55,
    "start_time": "2022-03-01T16:54:37.462Z"
   },
   {
    "duration": 49,
    "start_time": "2022-03-01T16:54:37.520Z"
   },
   {
    "duration": 1452,
    "start_time": "2022-03-01T16:54:37.572Z"
   },
   {
    "duration": 13,
    "start_time": "2022-03-01T16:54:39.027Z"
   },
   {
    "duration": 37,
    "start_time": "2022-03-01T16:54:39.052Z"
   },
   {
    "duration": 304,
    "start_time": "2022-03-01T16:54:39.091Z"
   },
   {
    "duration": 281,
    "start_time": "2022-03-01T16:54:39.397Z"
   },
   {
    "duration": 11,
    "start_time": "2022-03-01T16:54:39.681Z"
   },
   {
    "duration": 328,
    "start_time": "2022-03-01T16:54:39.694Z"
   },
   {
    "duration": 27,
    "start_time": "2022-03-01T16:54:40.031Z"
   },
   {
    "duration": 335,
    "start_time": "2022-03-01T16:54:40.062Z"
   },
   {
    "duration": 268,
    "start_time": "2022-03-01T16:54:40.400Z"
   },
   {
    "duration": 320,
    "start_time": "2022-03-01T16:54:40.670Z"
   },
   {
    "duration": 245,
    "start_time": "2022-03-01T16:54:40.994Z"
   },
   {
    "duration": 14,
    "start_time": "2022-03-01T16:54:41.242Z"
   },
   {
    "duration": 328,
    "start_time": "2022-03-01T16:54:41.259Z"
   },
   {
    "duration": 25,
    "start_time": "2022-03-01T16:54:41.590Z"
   },
   {
    "duration": 403,
    "start_time": "2022-03-01T16:54:41.617Z"
   },
   {
    "duration": 669,
    "start_time": "2022-03-01T16:54:42.023Z"
   },
   {
    "duration": 433,
    "start_time": "2022-03-01T16:54:42.695Z"
   },
   {
    "duration": 325,
    "start_time": "2022-03-01T16:54:43.131Z"
   },
   {
    "duration": 388,
    "start_time": "2022-03-01T16:54:43.071Z"
   },
   {
    "duration": 386,
    "start_time": "2022-03-01T16:54:43.075Z"
   },
   {
    "duration": 383,
    "start_time": "2022-03-01T16:54:43.079Z"
   },
   {
    "duration": 372,
    "start_time": "2022-03-01T16:54:43.091Z"
   },
   {
    "duration": 370,
    "start_time": "2022-03-01T16:54:43.095Z"
   },
   {
    "duration": 367,
    "start_time": "2022-03-01T16:54:43.099Z"
   },
   {
    "duration": 358,
    "start_time": "2022-03-01T16:54:43.109Z"
   },
   {
    "duration": 356,
    "start_time": "2022-03-01T16:54:43.113Z"
   },
   {
    "duration": 354,
    "start_time": "2022-03-01T16:54:43.116Z"
   },
   {
    "duration": 337,
    "start_time": "2022-03-01T16:54:43.134Z"
   },
   {
    "duration": 336,
    "start_time": "2022-03-01T16:54:43.136Z"
   },
   {
    "duration": 316,
    "start_time": "2022-03-01T16:54:43.158Z"
   },
   {
    "duration": 308,
    "start_time": "2022-03-01T16:54:43.167Z"
   },
   {
    "duration": 305,
    "start_time": "2022-03-01T16:54:43.171Z"
   },
   {
    "duration": 303,
    "start_time": "2022-03-01T16:54:43.175Z"
   },
   {
    "duration": 301,
    "start_time": "2022-03-01T16:54:43.178Z"
   },
   {
    "duration": 294,
    "start_time": "2022-03-01T16:54:43.186Z"
   },
   {
    "duration": 293,
    "start_time": "2022-03-01T16:54:43.189Z"
   },
   {
    "duration": 291,
    "start_time": "2022-03-01T16:54:43.192Z"
   },
   {
    "duration": 273,
    "start_time": "2022-03-01T16:54:43.211Z"
   },
   {
    "duration": 271,
    "start_time": "2022-03-01T16:54:43.215Z"
   },
   {
    "duration": 266,
    "start_time": "2022-03-01T16:54:43.221Z"
   },
   {
    "duration": 264,
    "start_time": "2022-03-01T16:54:43.224Z"
   },
   {
    "duration": 261,
    "start_time": "2022-03-01T16:54:43.229Z"
   },
   {
    "duration": 258,
    "start_time": "2022-03-01T16:54:43.234Z"
   },
   {
    "duration": 307,
    "start_time": "2022-03-01T16:55:09.013Z"
   },
   {
    "duration": 375,
    "start_time": "2022-03-01T16:55:27.902Z"
   },
   {
    "duration": 310,
    "start_time": "2022-03-01T16:56:00.704Z"
   },
   {
    "duration": 11,
    "start_time": "2022-03-01T16:56:07.498Z"
   },
   {
    "duration": 846,
    "start_time": "2022-03-01T16:57:10.865Z"
   },
   {
    "duration": 160,
    "start_time": "2022-03-01T16:57:11.714Z"
   },
   {
    "duration": 21,
    "start_time": "2022-03-01T16:57:11.877Z"
   },
   {
    "duration": 67,
    "start_time": "2022-03-01T16:57:11.902Z"
   },
   {
    "duration": 19,
    "start_time": "2022-03-01T16:57:11.971Z"
   },
   {
    "duration": 9,
    "start_time": "2022-03-01T16:57:11.993Z"
   },
   {
    "duration": 56,
    "start_time": "2022-03-01T16:57:12.005Z"
   },
   {
    "duration": 15,
    "start_time": "2022-03-01T16:57:12.066Z"
   },
   {
    "duration": 12,
    "start_time": "2022-03-01T16:57:12.085Z"
   },
   {
    "duration": 59,
    "start_time": "2022-03-01T16:57:12.100Z"
   },
   {
    "duration": 12,
    "start_time": "2022-03-01T16:57:12.161Z"
   },
   {
    "duration": 9,
    "start_time": "2022-03-01T16:57:12.176Z"
   },
   {
    "duration": 65,
    "start_time": "2022-03-01T16:57:12.188Z"
   },
   {
    "duration": 55,
    "start_time": "2022-03-01T16:57:12.255Z"
   },
   {
    "duration": 48,
    "start_time": "2022-03-01T16:57:12.313Z"
   },
   {
    "duration": 1000,
    "start_time": "2022-03-01T16:57:12.363Z"
   },
   {
    "duration": 11,
    "start_time": "2022-03-01T16:57:13.365Z"
   },
   {
    "duration": 36,
    "start_time": "2022-03-01T16:57:13.379Z"
   },
   {
    "duration": 340,
    "start_time": "2022-03-01T16:57:13.418Z"
   },
   {
    "duration": 274,
    "start_time": "2022-03-01T16:57:13.760Z"
   },
   {
    "duration": 19,
    "start_time": "2022-03-01T16:57:14.036Z"
   },
   {
    "duration": 326,
    "start_time": "2022-03-01T16:57:14.058Z"
   },
   {
    "duration": 12,
    "start_time": "2022-03-01T16:57:14.389Z"
   },
   {
    "duration": 371,
    "start_time": "2022-03-01T16:57:14.406Z"
   },
   {
    "duration": 267,
    "start_time": "2022-03-01T16:57:14.779Z"
   },
   {
    "duration": 350,
    "start_time": "2022-03-01T16:57:15.051Z"
   },
   {
    "duration": 261,
    "start_time": "2022-03-01T16:57:15.403Z"
   },
   {
    "duration": 10,
    "start_time": "2022-03-01T16:57:15.666Z"
   },
   {
    "duration": 328,
    "start_time": "2022-03-01T16:57:15.678Z"
   },
   {
    "duration": 43,
    "start_time": "2022-03-01T16:57:16.009Z"
   },
   {
    "duration": 311,
    "start_time": "2022-03-01T16:57:16.056Z"
   },
   {
    "duration": 344,
    "start_time": "2022-03-01T16:57:16.369Z"
   },
   {
    "duration": 244,
    "start_time": "2022-03-01T16:57:16.715Z"
   },
   {
    "duration": 13,
    "start_time": "2022-03-01T16:57:16.962Z"
   },
   {
    "duration": 75,
    "start_time": "2022-03-01T16:57:16.978Z"
   },
   {
    "duration": 97,
    "start_time": "2022-03-01T16:57:17.056Z"
   },
   {
    "duration": 18,
    "start_time": "2022-03-01T16:57:17.156Z"
   },
   {
    "duration": 78,
    "start_time": "2022-03-01T16:57:17.177Z"
   },
   {
    "duration": 350,
    "start_time": "2022-03-01T16:57:17.257Z"
   },
   {
    "duration": 479,
    "start_time": "2022-03-01T16:57:17.610Z"
   },
   {
    "duration": 246,
    "start_time": "2022-03-01T16:57:18.092Z"
   },
   {
    "duration": 13,
    "start_time": "2022-03-01T16:57:18.341Z"
   },
   {
    "duration": 438,
    "start_time": "2022-03-01T16:57:18.357Z"
   },
   {
    "duration": 445,
    "start_time": "2022-03-01T16:57:18.797Z"
   },
   {
    "duration": 12,
    "start_time": "2022-03-01T16:57:19.251Z"
   },
   {
    "duration": 231,
    "start_time": "2022-03-01T16:57:19.265Z"
   },
   {
    "duration": 11,
    "start_time": "2022-03-01T16:57:19.499Z"
   },
   {
    "duration": 367,
    "start_time": "2022-03-01T16:57:19.513Z"
   },
   {
    "duration": 15,
    "start_time": "2022-03-01T16:57:19.883Z"
   },
   {
    "duration": 1164,
    "start_time": "2022-03-01T16:57:19.900Z"
   },
   {
    "duration": 1067,
    "start_time": "2022-03-01T16:57:21.067Z"
   },
   {
    "duration": 717,
    "start_time": "2022-03-01T16:57:22.137Z"
   },
   {
    "duration": 803,
    "start_time": "2022-03-01T16:57:22.857Z"
   },
   {
    "duration": 762,
    "start_time": "2022-03-01T16:57:23.662Z"
   },
   {
    "duration": 727,
    "start_time": "2022-03-01T16:57:24.427Z"
   },
   {
    "duration": 588,
    "start_time": "2022-03-01T16:57:25.157Z"
   },
   {
    "duration": 38,
    "start_time": "2022-03-01T16:57:25.752Z"
   },
   {
    "duration": 13,
    "start_time": "2022-03-01T16:57:25.793Z"
   },
   {
    "duration": 392,
    "start_time": "2022-03-01T16:57:25.809Z"
   },
   {
    "duration": 419,
    "start_time": "2022-03-01T16:57:41.399Z"
   },
   {
    "duration": 322,
    "start_time": "2022-03-01T16:58:13.469Z"
   },
   {
    "duration": 310,
    "start_time": "2022-03-01T16:58:33.043Z"
   },
   {
    "duration": 338,
    "start_time": "2022-03-01T16:58:41.225Z"
   },
   {
    "duration": 308,
    "start_time": "2022-03-01T16:58:47.779Z"
   },
   {
    "duration": 343,
    "start_time": "2022-03-01T16:59:05.094Z"
   },
   {
    "duration": 704,
    "start_time": "2022-03-01T17:00:02.960Z"
   },
   {
    "duration": 766,
    "start_time": "2022-03-01T17:07:14.977Z"
   },
   {
    "duration": 672,
    "start_time": "2022-03-01T17:07:27.884Z"
   },
   {
    "duration": 644,
    "start_time": "2022-03-01T17:08:59.720Z"
   },
   {
    "duration": 923,
    "start_time": "2022-03-01T17:09:03.934Z"
   },
   {
    "duration": 510,
    "start_time": "2022-03-01T17:10:18.663Z"
   },
   {
    "duration": 848,
    "start_time": "2022-03-01T17:10:40.647Z"
   },
   {
    "duration": 119,
    "start_time": "2022-03-01T17:10:41.498Z"
   },
   {
    "duration": 31,
    "start_time": "2022-03-01T17:10:41.620Z"
   },
   {
    "duration": 37,
    "start_time": "2022-03-01T17:10:41.655Z"
   },
   {
    "duration": 16,
    "start_time": "2022-03-01T17:10:41.695Z"
   },
   {
    "duration": 43,
    "start_time": "2022-03-01T17:10:41.713Z"
   },
   {
    "duration": 14,
    "start_time": "2022-03-01T17:10:41.759Z"
   },
   {
    "duration": 12,
    "start_time": "2022-03-01T17:10:41.775Z"
   },
   {
    "duration": 10,
    "start_time": "2022-03-01T17:10:41.791Z"
   },
   {
    "duration": 12,
    "start_time": "2022-03-01T17:10:41.850Z"
   },
   {
    "duration": 11,
    "start_time": "2022-03-01T17:10:41.865Z"
   },
   {
    "duration": 7,
    "start_time": "2022-03-01T17:10:41.878Z"
   },
   {
    "duration": 63,
    "start_time": "2022-03-01T17:10:41.888Z"
   },
   {
    "duration": 55,
    "start_time": "2022-03-01T17:10:41.953Z"
   },
   {
    "duration": 55,
    "start_time": "2022-03-01T17:10:42.012Z"
   },
   {
    "duration": 1005,
    "start_time": "2022-03-01T17:10:42.069Z"
   },
   {
    "duration": 11,
    "start_time": "2022-03-01T17:10:43.076Z"
   },
   {
    "duration": 64,
    "start_time": "2022-03-01T17:10:43.089Z"
   },
   {
    "duration": 299,
    "start_time": "2022-03-01T17:10:43.156Z"
   },
   {
    "duration": 297,
    "start_time": "2022-03-01T17:10:43.457Z"
   },
   {
    "duration": 12,
    "start_time": "2022-03-01T17:10:43.757Z"
   },
   {
    "duration": 322,
    "start_time": "2022-03-01T17:10:43.772Z"
   },
   {
    "duration": 14,
    "start_time": "2022-03-01T17:10:44.097Z"
   },
   {
    "duration": 347,
    "start_time": "2022-03-01T17:10:44.114Z"
   },
   {
    "duration": 257,
    "start_time": "2022-03-01T17:10:44.463Z"
   },
   {
    "duration": 341,
    "start_time": "2022-03-01T17:10:44.723Z"
   },
   {
    "duration": 251,
    "start_time": "2022-03-01T17:10:45.070Z"
   },
   {
    "duration": 10,
    "start_time": "2022-03-01T17:10:45.324Z"
   },
   {
    "duration": 347,
    "start_time": "2022-03-01T17:10:45.336Z"
   },
   {
    "duration": 25,
    "start_time": "2022-03-01T17:10:45.686Z"
   },
   {
    "duration": 424,
    "start_time": "2022-03-01T17:10:45.714Z"
   },
   {
    "duration": 430,
    "start_time": "2022-03-01T17:10:46.141Z"
   },
   {
    "duration": 301,
    "start_time": "2022-03-01T17:10:46.574Z"
   },
   {
    "duration": 13,
    "start_time": "2022-03-01T17:10:46.878Z"
   },
   {
    "duration": 83,
    "start_time": "2022-03-01T17:10:46.894Z"
   },
   {
    "duration": 120,
    "start_time": "2022-03-01T17:10:46.979Z"
   },
   {
    "duration": 16,
    "start_time": "2022-03-01T17:10:47.103Z"
   },
   {
    "duration": 66,
    "start_time": "2022-03-01T17:10:47.122Z"
   },
   {
    "duration": 347,
    "start_time": "2022-03-01T17:10:47.191Z"
   },
   {
    "duration": 349,
    "start_time": "2022-03-01T17:10:47.540Z"
   },
   {
    "duration": 242,
    "start_time": "2022-03-01T17:10:47.891Z"
   },
   {
    "duration": 20,
    "start_time": "2022-03-01T17:10:48.135Z"
   },
   {
    "duration": 339,
    "start_time": "2022-03-01T17:10:48.157Z"
   },
   {
    "duration": 464,
    "start_time": "2022-03-01T17:10:48.499Z"
   },
   {
    "duration": 16,
    "start_time": "2022-03-01T17:10:48.966Z"
   },
   {
    "duration": 344,
    "start_time": "2022-03-01T17:10:48.985Z"
   },
   {
    "duration": 23,
    "start_time": "2022-03-01T17:10:49.332Z"
   },
   {
    "duration": 327,
    "start_time": "2022-03-01T17:10:49.357Z"
   },
   {
    "duration": 16,
    "start_time": "2022-03-01T17:10:49.686Z"
   },
   {
    "duration": 933,
    "start_time": "2022-03-01T17:10:49.704Z"
   },
   {
    "duration": 1325,
    "start_time": "2022-03-01T17:10:50.640Z"
   },
   {
    "duration": 918,
    "start_time": "2022-03-01T17:10:51.968Z"
   },
   {
    "duration": 782,
    "start_time": "2022-03-01T17:10:52.889Z"
   },
   {
    "duration": 661,
    "start_time": "2022-03-01T17:10:53.674Z"
   },
   {
    "duration": 659,
    "start_time": "2022-03-01T17:10:54.337Z"
   },
   {
    "duration": 838,
    "start_time": "2022-03-01T17:10:54.999Z"
   },
   {
    "duration": 44,
    "start_time": "2022-03-01T17:10:55.839Z"
   },
   {
    "duration": 13,
    "start_time": "2022-03-01T17:10:55.885Z"
   },
   {
    "duration": 392,
    "start_time": "2022-03-01T17:10:55.900Z"
   },
   {
    "duration": 854,
    "start_time": "2022-03-01T17:12:58.239Z"
   },
   {
    "duration": 121,
    "start_time": "2022-03-01T17:12:59.095Z"
   },
   {
    "duration": 32,
    "start_time": "2022-03-01T17:12:59.219Z"
   },
   {
    "duration": 41,
    "start_time": "2022-03-01T17:12:59.255Z"
   },
   {
    "duration": 17,
    "start_time": "2022-03-01T17:12:59.300Z"
   },
   {
    "duration": 7,
    "start_time": "2022-03-01T17:12:59.352Z"
   },
   {
    "duration": 20,
    "start_time": "2022-03-01T17:12:59.361Z"
   },
   {
    "duration": 12,
    "start_time": "2022-03-01T17:12:59.385Z"
   },
   {
    "duration": 57,
    "start_time": "2022-03-01T17:12:59.400Z"
   },
   {
    "duration": 12,
    "start_time": "2022-03-01T17:12:59.459Z"
   },
   {
    "duration": 11,
    "start_time": "2022-03-01T17:12:59.474Z"
   },
   {
    "duration": 8,
    "start_time": "2022-03-01T17:12:59.487Z"
   },
   {
    "duration": 64,
    "start_time": "2022-03-01T17:12:59.497Z"
   },
   {
    "duration": 52,
    "start_time": "2022-03-01T17:12:59.563Z"
   },
   {
    "duration": 53,
    "start_time": "2022-03-01T17:12:59.617Z"
   },
   {
    "duration": 959,
    "start_time": "2022-03-01T17:12:59.672Z"
   },
   {
    "duration": 20,
    "start_time": "2022-03-01T17:13:00.633Z"
   },
   {
    "duration": 46,
    "start_time": "2022-03-01T17:13:00.655Z"
   },
   {
    "duration": 390,
    "start_time": "2022-03-01T17:13:00.704Z"
   },
   {
    "duration": 314,
    "start_time": "2022-03-01T17:13:01.097Z"
   },
   {
    "duration": 13,
    "start_time": "2022-03-01T17:13:01.413Z"
   },
   {
    "duration": 408,
    "start_time": "2022-03-01T17:13:01.452Z"
   },
   {
    "duration": 14,
    "start_time": "2022-03-01T17:13:01.868Z"
   },
   {
    "duration": 394,
    "start_time": "2022-03-01T17:13:01.886Z"
   },
   {
    "duration": 261,
    "start_time": "2022-03-01T17:13:02.283Z"
   },
   {
    "duration": 333,
    "start_time": "2022-03-01T17:13:02.547Z"
   },
   {
    "duration": 243,
    "start_time": "2022-03-01T17:13:02.883Z"
   },
   {
    "duration": 9,
    "start_time": "2022-03-01T17:13:03.129Z"
   },
   {
    "duration": 324,
    "start_time": "2022-03-01T17:13:03.152Z"
   },
   {
    "duration": 25,
    "start_time": "2022-03-01T17:13:03.479Z"
   },
   {
    "duration": 322,
    "start_time": "2022-03-01T17:13:03.507Z"
   },
   {
    "duration": 324,
    "start_time": "2022-03-01T17:13:03.832Z"
   },
   {
    "duration": 231,
    "start_time": "2022-03-01T17:13:04.159Z"
   },
   {
    "duration": 11,
    "start_time": "2022-03-01T17:13:04.392Z"
   },
   {
    "duration": 69,
    "start_time": "2022-03-01T17:13:04.405Z"
   },
   {
    "duration": 85,
    "start_time": "2022-03-01T17:13:04.476Z"
   },
   {
    "duration": 14,
    "start_time": "2022-03-01T17:13:04.564Z"
   },
   {
    "duration": 77,
    "start_time": "2022-03-01T17:13:04.580Z"
   },
   {
    "duration": 346,
    "start_time": "2022-03-01T17:13:04.660Z"
   },
   {
    "duration": 430,
    "start_time": "2022-03-01T17:13:05.009Z"
   },
   {
    "duration": 228,
    "start_time": "2022-03-01T17:13:05.442Z"
   },
   {
    "duration": 10,
    "start_time": "2022-03-01T17:13:05.672Z"
   },
   {
    "duration": 299,
    "start_time": "2022-03-01T17:13:05.684Z"
   },
   {
    "duration": 297,
    "start_time": "2022-03-01T17:13:05.986Z"
   },
   {
    "duration": 12,
    "start_time": "2022-03-01T17:13:06.285Z"
   },
   {
    "duration": 272,
    "start_time": "2022-03-01T17:13:06.300Z"
   },
   {
    "duration": 11,
    "start_time": "2022-03-01T17:13:06.575Z"
   },
   {
    "duration": 580,
    "start_time": "2022-03-01T17:13:06.588Z"
   },
   {
    "duration": 16,
    "start_time": "2022-03-01T17:13:07.171Z"
   },
   {
    "duration": 951,
    "start_time": "2022-03-01T17:13:07.189Z"
   },
   {
    "duration": 944,
    "start_time": "2022-03-01T17:13:08.143Z"
   },
   {
    "duration": 929,
    "start_time": "2022-03-01T17:13:09.090Z"
   },
   {
    "duration": 704,
    "start_time": "2022-03-01T17:13:10.022Z"
   },
   {
    "duration": 728,
    "start_time": "2022-03-01T17:13:10.729Z"
   },
   {
    "duration": 684,
    "start_time": "2022-03-01T17:13:11.460Z"
   },
   {
    "duration": 757,
    "start_time": "2022-03-01T17:13:12.150Z"
   },
   {
    "duration": 48,
    "start_time": "2022-03-01T17:13:12.910Z"
   },
   {
    "duration": 13,
    "start_time": "2022-03-01T17:13:12.960Z"
   },
   {
    "duration": 372,
    "start_time": "2022-03-01T17:13:12.975Z"
   },
   {
    "duration": 215,
    "start_time": "2022-03-02T04:54:58.394Z"
   },
   {
    "duration": 162,
    "start_time": "2022-03-02T04:55:05.114Z"
   },
   {
    "duration": 598,
    "start_time": "2022-03-02T04:55:13.695Z"
   },
   {
    "duration": 89,
    "start_time": "2022-03-02T04:55:14.295Z"
   },
   {
    "duration": 12,
    "start_time": "2022-03-02T04:55:14.387Z"
   },
   {
    "duration": 51,
    "start_time": "2022-03-02T04:55:14.401Z"
   },
   {
    "duration": 12,
    "start_time": "2022-03-02T04:55:14.454Z"
   },
   {
    "duration": 6,
    "start_time": "2022-03-02T04:55:14.468Z"
   },
   {
    "duration": 11,
    "start_time": "2022-03-02T04:55:14.476Z"
   },
   {
    "duration": 47,
    "start_time": "2022-03-02T04:55:14.489Z"
   },
   {
    "duration": 10,
    "start_time": "2022-03-02T04:55:14.540Z"
   },
   {
    "duration": 10,
    "start_time": "2022-03-02T04:55:14.552Z"
   },
   {
    "duration": 10,
    "start_time": "2022-03-02T04:55:14.564Z"
   },
   {
    "duration": 8,
    "start_time": "2022-03-02T04:55:14.576Z"
   },
   {
    "duration": 56,
    "start_time": "2022-03-02T04:55:14.585Z"
   },
   {
    "duration": 34,
    "start_time": "2022-03-02T04:55:14.643Z"
   },
   {
    "duration": 16,
    "start_time": "2022-03-02T04:55:14.679Z"
   },
   {
    "duration": 575,
    "start_time": "2022-03-02T04:55:14.696Z"
   },
   {
    "duration": 7,
    "start_time": "2022-03-02T04:55:15.273Z"
   },
   {
    "duration": 23,
    "start_time": "2022-03-02T04:55:15.282Z"
   },
   {
    "duration": 179,
    "start_time": "2022-03-02T04:55:15.307Z"
   },
   {
    "duration": 178,
    "start_time": "2022-03-02T04:55:15.487Z"
   },
   {
    "duration": 7,
    "start_time": "2022-03-02T04:55:15.667Z"
   },
   {
    "duration": 183,
    "start_time": "2022-03-02T04:55:15.675Z"
   },
   {
    "duration": 9,
    "start_time": "2022-03-02T04:55:15.860Z"
   },
   {
    "duration": 190,
    "start_time": "2022-03-02T04:55:15.870Z"
   },
   {
    "duration": 137,
    "start_time": "2022-03-02T04:55:16.062Z"
   },
   {
    "duration": 193,
    "start_time": "2022-03-02T04:55:16.201Z"
   },
   {
    "duration": 137,
    "start_time": "2022-03-02T04:55:16.398Z"
   },
   {
    "duration": 7,
    "start_time": "2022-03-02T04:55:16.538Z"
   },
   {
    "duration": 189,
    "start_time": "2022-03-02T04:55:16.546Z"
   },
   {
    "duration": 17,
    "start_time": "2022-03-02T04:55:16.736Z"
   },
   {
    "duration": 178,
    "start_time": "2022-03-02T04:55:16.754Z"
   },
   {
    "duration": 180,
    "start_time": "2022-03-02T04:55:16.934Z"
   },
   {
    "duration": 136,
    "start_time": "2022-03-02T04:55:17.116Z"
   },
   {
    "duration": 6,
    "start_time": "2022-03-02T04:55:17.254Z"
   },
   {
    "duration": 22,
    "start_time": "2022-03-02T04:55:17.262Z"
   },
   {
    "duration": 64,
    "start_time": "2022-03-02T04:55:17.286Z"
   },
   {
    "duration": 9,
    "start_time": "2022-03-02T04:55:17.351Z"
   },
   {
    "duration": 25,
    "start_time": "2022-03-02T04:55:17.362Z"
   },
   {
    "duration": 202,
    "start_time": "2022-03-02T04:55:17.388Z"
   },
   {
    "duration": 236,
    "start_time": "2022-03-02T04:55:17.592Z"
   },
   {
    "duration": 133,
    "start_time": "2022-03-02T04:55:17.829Z"
   },
   {
    "duration": 7,
    "start_time": "2022-03-02T04:55:17.964Z"
   },
   {
    "duration": 193,
    "start_time": "2022-03-02T04:55:17.972Z"
   },
   {
    "duration": 189,
    "start_time": "2022-03-02T04:55:18.166Z"
   },
   {
    "duration": 9,
    "start_time": "2022-03-02T04:55:18.356Z"
   },
   {
    "duration": 141,
    "start_time": "2022-03-02T04:55:18.366Z"
   },
   {
    "duration": 8,
    "start_time": "2022-03-02T04:55:18.509Z"
   },
   {
    "duration": 210,
    "start_time": "2022-03-02T04:55:18.518Z"
   },
   {
    "duration": 9,
    "start_time": "2022-03-02T04:55:18.730Z"
   },
   {
    "duration": 432,
    "start_time": "2022-03-02T04:55:18.741Z"
   },
   {
    "duration": 476,
    "start_time": "2022-03-02T04:55:19.175Z"
   },
   {
    "duration": 427,
    "start_time": "2022-03-02T04:55:19.653Z"
   },
   {
    "duration": 485,
    "start_time": "2022-03-02T04:55:20.082Z"
   },
   {
    "duration": 476,
    "start_time": "2022-03-02T04:55:20.569Z"
   },
   {
    "duration": 430,
    "start_time": "2022-03-02T04:55:21.046Z"
   },
   {
    "duration": 534,
    "start_time": "2022-03-02T04:55:21.478Z"
   },
   {
    "duration": 37,
    "start_time": "2022-03-02T04:55:22.014Z"
   },
   {
    "duration": 10,
    "start_time": "2022-03-02T04:55:22.053Z"
   },
   {
    "duration": 223,
    "start_time": "2022-03-02T04:55:22.065Z"
   },
   {
    "duration": 7,
    "start_time": "2022-03-02T04:55:22.289Z"
   },
   {
    "duration": 5,
    "start_time": "2022-03-02T04:55:38.532Z"
   },
   {
    "duration": 11,
    "start_time": "2022-03-02T04:55:56.505Z"
   },
   {
    "duration": 244,
    "start_time": "2022-03-02T05:01:59.793Z"
   },
   {
    "duration": 128,
    "start_time": "2022-03-02T05:02:12.086Z"
   },
   {
    "duration": 150,
    "start_time": "2022-03-02T05:03:27.425Z"
   },
   {
    "duration": 184,
    "start_time": "2022-03-02T05:04:25.942Z"
   },
   {
    "duration": 123,
    "start_time": "2022-03-02T05:04:53.836Z"
   },
   {
    "duration": 124,
    "start_time": "2022-03-02T05:04:55.961Z"
   },
   {
    "duration": 132,
    "start_time": "2022-03-02T05:04:56.513Z"
   },
   {
    "duration": 116,
    "start_time": "2022-03-02T05:04:57.001Z"
   },
   {
    "duration": 309,
    "start_time": "2022-03-02T05:07:04.331Z"
   },
   {
    "duration": 327,
    "start_time": "2022-03-02T05:07:27.314Z"
   },
   {
    "duration": 307,
    "start_time": "2022-03-02T05:07:52.332Z"
   },
   {
    "duration": 277,
    "start_time": "2022-03-02T05:08:47.356Z"
   },
   {
    "duration": 269,
    "start_time": "2022-03-02T05:09:18.265Z"
   },
   {
    "duration": 149,
    "start_time": "2022-03-02T05:13:22.555Z"
   },
   {
    "duration": 9,
    "start_time": "2022-03-02T05:13:40.250Z"
   },
   {
    "duration": 7,
    "start_time": "2022-03-02T05:14:07.401Z"
   },
   {
    "duration": 7,
    "start_time": "2022-03-02T05:14:33.887Z"
   },
   {
    "duration": 8,
    "start_time": "2022-03-02T05:14:55.768Z"
   },
   {
    "duration": 300,
    "start_time": "2022-03-02T12:57:32.437Z"
   },
   {
    "duration": 224,
    "start_time": "2022-03-02T12:58:26.822Z"
   },
   {
    "duration": 874,
    "start_time": "2022-03-02T12:58:33.781Z"
   },
   {
    "duration": 137,
    "start_time": "2022-03-02T12:58:34.674Z"
   },
   {
    "duration": 16,
    "start_time": "2022-03-02T12:58:34.814Z"
   },
   {
    "duration": 63,
    "start_time": "2022-03-02T12:58:34.833Z"
   },
   {
    "duration": 17,
    "start_time": "2022-03-02T12:58:34.899Z"
   },
   {
    "duration": 6,
    "start_time": "2022-03-02T12:58:34.919Z"
   },
   {
    "duration": 55,
    "start_time": "2022-03-02T12:58:34.928Z"
   },
   {
    "duration": 12,
    "start_time": "2022-03-02T12:58:34.986Z"
   },
   {
    "duration": 12,
    "start_time": "2022-03-02T12:58:35.002Z"
   },
   {
    "duration": 57,
    "start_time": "2022-03-02T12:58:35.018Z"
   },
   {
    "duration": 12,
    "start_time": "2022-03-02T12:58:35.077Z"
   },
   {
    "duration": 8,
    "start_time": "2022-03-02T12:58:35.091Z"
   },
   {
    "duration": 14,
    "start_time": "2022-03-02T12:58:35.102Z"
   },
   {
    "duration": 101,
    "start_time": "2022-03-02T12:58:35.118Z"
   },
   {
    "duration": 24,
    "start_time": "2022-03-02T12:58:35.221Z"
   },
   {
    "duration": 1010,
    "start_time": "2022-03-02T12:58:35.247Z"
   },
   {
    "duration": 14,
    "start_time": "2022-03-02T12:58:36.260Z"
   },
   {
    "duration": 37,
    "start_time": "2022-03-02T12:58:36.277Z"
   },
   {
    "duration": 319,
    "start_time": "2022-03-02T12:58:36.316Z"
   },
   {
    "duration": 322,
    "start_time": "2022-03-02T12:58:36.637Z"
   },
   {
    "duration": 14,
    "start_time": "2022-03-02T12:58:36.961Z"
   },
   {
    "duration": 316,
    "start_time": "2022-03-02T12:58:36.977Z"
   },
   {
    "duration": 11,
    "start_time": "2022-03-02T12:58:37.295Z"
   },
   {
    "duration": 314,
    "start_time": "2022-03-02T12:58:37.309Z"
   },
   {
    "duration": 266,
    "start_time": "2022-03-02T12:58:37.625Z"
   },
   {
    "duration": 504,
    "start_time": "2022-03-02T12:58:37.897Z"
   },
   {
    "duration": 319,
    "start_time": "2022-03-02T12:58:38.404Z"
   },
   {
    "duration": 10,
    "start_time": "2022-03-02T12:58:38.726Z"
   },
   {
    "duration": 335,
    "start_time": "2022-03-02T12:58:38.738Z"
   },
   {
    "duration": 25,
    "start_time": "2022-03-02T12:58:39.075Z"
   },
   {
    "duration": 316,
    "start_time": "2022-03-02T12:58:39.102Z"
   },
   {
    "duration": 324,
    "start_time": "2022-03-02T12:58:39.421Z"
   },
   {
    "duration": 261,
    "start_time": "2022-03-02T12:58:39.748Z"
   },
   {
    "duration": 12,
    "start_time": "2022-03-02T12:58:40.011Z"
   },
   {
    "duration": 67,
    "start_time": "2022-03-02T12:58:40.026Z"
   },
   {
    "duration": 87,
    "start_time": "2022-03-02T12:58:40.095Z"
   },
   {
    "duration": 15,
    "start_time": "2022-03-02T12:58:40.184Z"
   },
   {
    "duration": 76,
    "start_time": "2022-03-02T12:58:40.201Z"
   },
   {
    "duration": 336,
    "start_time": "2022-03-02T12:58:40.279Z"
   },
   {
    "duration": 468,
    "start_time": "2022-03-02T12:58:40.617Z"
   },
   {
    "duration": 246,
    "start_time": "2022-03-02T12:58:41.087Z"
   },
   {
    "duration": 14,
    "start_time": "2022-03-02T12:58:41.336Z"
   },
   {
    "duration": 457,
    "start_time": "2022-03-02T12:58:41.352Z"
   },
   {
    "duration": 331,
    "start_time": "2022-03-02T12:58:41.811Z"
   },
   {
    "duration": 12,
    "start_time": "2022-03-02T12:58:42.144Z"
   },
   {
    "duration": 241,
    "start_time": "2022-03-02T12:58:42.158Z"
   },
   {
    "duration": 11,
    "start_time": "2022-03-02T12:58:42.402Z"
   },
   {
    "duration": 361,
    "start_time": "2022-03-02T12:58:42.416Z"
   },
   {
    "duration": 16,
    "start_time": "2022-03-02T12:58:42.779Z"
   },
   {
    "duration": 719,
    "start_time": "2022-03-02T12:58:42.798Z"
   },
   {
    "duration": 726,
    "start_time": "2022-03-02T12:58:43.520Z"
   },
   {
    "duration": 693,
    "start_time": "2022-03-02T12:58:44.248Z"
   },
   {
    "duration": 724,
    "start_time": "2022-03-02T12:58:44.943Z"
   },
   {
    "duration": 691,
    "start_time": "2022-03-02T12:58:45.673Z"
   },
   {
    "duration": 700,
    "start_time": "2022-03-02T12:58:46.373Z"
   },
   {
    "duration": 796,
    "start_time": "2022-03-02T12:58:47.075Z"
   },
   {
    "duration": 36,
    "start_time": "2022-03-02T12:58:47.874Z"
   },
   {
    "duration": 13,
    "start_time": "2022-03-02T12:58:47.913Z"
   },
   {
    "duration": 396,
    "start_time": "2022-03-02T12:58:47.929Z"
   },
   {
    "duration": 17,
    "start_time": "2022-03-02T12:58:48.328Z"
   },
   {
    "duration": 33,
    "start_time": "2022-03-02T12:58:48.347Z"
   },
   {
    "duration": 10,
    "start_time": "2022-03-02T12:58:48.382Z"
   },
   {
    "duration": 15,
    "start_time": "2022-03-02T12:58:48.394Z"
   },
   {
    "duration": 492,
    "start_time": "2022-03-02T12:58:48.412Z"
   },
   {
    "duration": 446,
    "start_time": "2022-03-02T12:58:48.906Z"
   },
   {
    "duration": 662,
    "start_time": "2022-03-02T12:58:49.355Z"
   },
   {
    "duration": 555,
    "start_time": "2022-03-02T12:58:50.020Z"
   },
   {
    "duration": 421,
    "start_time": "2022-03-02T12:58:50.578Z"
   },
   {
    "duration": 486,
    "start_time": "2022-03-02T12:59:33.339Z"
   },
   {
    "duration": 932,
    "start_time": "2022-03-02T13:14:50.594Z"
   },
   {
    "duration": 123,
    "start_time": "2022-03-02T13:14:51.529Z"
   },
   {
    "duration": 29,
    "start_time": "2022-03-02T13:14:51.656Z"
   },
   {
    "duration": 38,
    "start_time": "2022-03-02T13:14:51.688Z"
   },
   {
    "duration": 58,
    "start_time": "2022-03-02T13:14:51.728Z"
   },
   {
    "duration": 6,
    "start_time": "2022-03-02T13:14:51.789Z"
   },
   {
    "duration": 27,
    "start_time": "2022-03-02T13:14:51.797Z"
   },
   {
    "duration": 13,
    "start_time": "2022-03-02T13:14:51.828Z"
   },
   {
    "duration": 39,
    "start_time": "2022-03-02T13:14:51.844Z"
   },
   {
    "duration": 13,
    "start_time": "2022-03-02T13:14:51.885Z"
   },
   {
    "duration": 12,
    "start_time": "2022-03-02T13:14:51.901Z"
   },
   {
    "duration": 9,
    "start_time": "2022-03-02T13:14:51.915Z"
   },
   {
    "duration": 13,
    "start_time": "2022-03-02T13:14:51.973Z"
   },
   {
    "duration": 59,
    "start_time": "2022-03-02T13:14:51.989Z"
   },
   {
    "duration": 24,
    "start_time": "2022-03-02T13:14:52.073Z"
   },
   {
    "duration": 981,
    "start_time": "2022-03-02T13:14:52.100Z"
   },
   {
    "duration": 11,
    "start_time": "2022-03-02T13:14:53.083Z"
   },
   {
    "duration": 40,
    "start_time": "2022-03-02T13:14:53.097Z"
   },
   {
    "duration": 325,
    "start_time": "2022-03-02T13:14:53.140Z"
   },
   {
    "duration": 295,
    "start_time": "2022-03-02T13:14:53.467Z"
   },
   {
    "duration": 16,
    "start_time": "2022-03-02T13:14:53.764Z"
   },
   {
    "duration": 317,
    "start_time": "2022-03-02T13:14:53.782Z"
   },
   {
    "duration": 11,
    "start_time": "2022-03-02T13:14:54.105Z"
   },
   {
    "duration": 338,
    "start_time": "2022-03-02T13:14:54.120Z"
   },
   {
    "duration": 241,
    "start_time": "2022-03-02T13:14:54.460Z"
   },
   {
    "duration": 337,
    "start_time": "2022-03-02T13:14:54.704Z"
   },
   {
    "duration": 238,
    "start_time": "2022-03-02T13:14:55.044Z"
   },
   {
    "duration": 9,
    "start_time": "2022-03-02T13:14:55.285Z"
   },
   {
    "duration": 337,
    "start_time": "2022-03-02T13:14:55.297Z"
   },
   {
    "duration": 43,
    "start_time": "2022-03-02T13:14:55.636Z"
   },
   {
    "duration": 307,
    "start_time": "2022-03-02T13:14:55.681Z"
   },
   {
    "duration": 334,
    "start_time": "2022-03-02T13:14:55.991Z"
   },
   {
    "duration": 234,
    "start_time": "2022-03-02T13:14:56.328Z"
   },
   {
    "duration": 16,
    "start_time": "2022-03-02T13:14:56.564Z"
   },
   {
    "duration": 66,
    "start_time": "2022-03-02T13:14:56.582Z"
   },
   {
    "duration": 80,
    "start_time": "2022-03-02T13:14:56.650Z"
   },
   {
    "duration": 13,
    "start_time": "2022-03-02T13:14:56.733Z"
   },
   {
    "duration": 66,
    "start_time": "2022-03-02T13:14:56.749Z"
   },
   {
    "duration": 343,
    "start_time": "2022-03-02T13:14:56.818Z"
   },
   {
    "duration": 375,
    "start_time": "2022-03-02T13:14:57.163Z"
   },
   {
    "duration": 240,
    "start_time": "2022-03-02T13:14:57.541Z"
   },
   {
    "duration": 12,
    "start_time": "2022-03-02T13:14:57.783Z"
   },
   {
    "duration": 378,
    "start_time": "2022-03-02T13:14:57.797Z"
   },
   {
    "duration": 343,
    "start_time": "2022-03-02T13:14:58.178Z"
   },
   {
    "duration": 12,
    "start_time": "2022-03-02T13:14:58.523Z"
   },
   {
    "duration": 250,
    "start_time": "2022-03-02T13:14:58.537Z"
   },
   {
    "duration": 15,
    "start_time": "2022-03-02T13:14:58.790Z"
   },
   {
    "duration": 371,
    "start_time": "2022-03-02T13:14:58.808Z"
   },
   {
    "duration": 16,
    "start_time": "2022-03-02T13:14:59.182Z"
   },
   {
    "duration": 697,
    "start_time": "2022-03-02T13:14:59.201Z"
   },
   {
    "duration": 718,
    "start_time": "2022-03-02T13:14:59.900Z"
   },
   {
    "duration": 672,
    "start_time": "2022-03-02T13:15:00.621Z"
   },
   {
    "duration": 715,
    "start_time": "2022-03-02T13:15:01.295Z"
   },
   {
    "duration": 690,
    "start_time": "2022-03-02T13:15:02.013Z"
   },
   {
    "duration": 697,
    "start_time": "2022-03-02T13:15:02.705Z"
   },
   {
    "duration": 879,
    "start_time": "2022-03-02T13:15:03.405Z"
   },
   {
    "duration": 38,
    "start_time": "2022-03-02T13:15:04.287Z"
   },
   {
    "duration": 13,
    "start_time": "2022-03-02T13:15:04.328Z"
   },
   {
    "duration": 364,
    "start_time": "2022-03-02T13:15:04.374Z"
   },
   {
    "duration": 17,
    "start_time": "2022-03-02T13:15:04.740Z"
   },
   {
    "duration": 12,
    "start_time": "2022-03-02T13:15:04.774Z"
   },
   {
    "duration": 28,
    "start_time": "2022-03-02T13:15:04.788Z"
   },
   {
    "duration": 25,
    "start_time": "2022-03-02T13:15:04.818Z"
   },
   {
    "duration": 488,
    "start_time": "2022-03-02T13:15:04.846Z"
   },
   {
    "duration": 471,
    "start_time": "2022-03-02T13:15:05.337Z"
   },
   {
    "duration": 462,
    "start_time": "2022-03-02T13:15:05.811Z"
   },
   {
    "duration": 468,
    "start_time": "2022-03-02T13:15:06.275Z"
   },
   {
    "duration": 436,
    "start_time": "2022-03-02T13:15:06.751Z"
   },
   {
    "duration": 990,
    "start_time": "2022-03-02T13:29:12.235Z"
   },
   {
    "duration": 130,
    "start_time": "2022-03-02T13:29:13.228Z"
   },
   {
    "duration": 24,
    "start_time": "2022-03-02T13:29:13.361Z"
   },
   {
    "duration": 39,
    "start_time": "2022-03-02T13:29:13.388Z"
   },
   {
    "duration": 47,
    "start_time": "2022-03-02T13:29:13.430Z"
   },
   {
    "duration": 7,
    "start_time": "2022-03-02T13:29:13.479Z"
   },
   {
    "duration": 16,
    "start_time": "2022-03-02T13:29:13.488Z"
   },
   {
    "duration": 12,
    "start_time": "2022-03-02T13:29:13.506Z"
   },
   {
    "duration": 53,
    "start_time": "2022-03-02T13:29:13.522Z"
   },
   {
    "duration": 12,
    "start_time": "2022-03-02T13:29:13.578Z"
   },
   {
    "duration": 13,
    "start_time": "2022-03-02T13:29:13.592Z"
   },
   {
    "duration": 7,
    "start_time": "2022-03-02T13:29:13.607Z"
   },
   {
    "duration": 66,
    "start_time": "2022-03-02T13:29:13.617Z"
   },
   {
    "duration": 58,
    "start_time": "2022-03-02T13:29:13.685Z"
   },
   {
    "duration": 49,
    "start_time": "2022-03-02T13:29:13.745Z"
   },
   {
    "duration": 1097,
    "start_time": "2022-03-02T13:29:13.796Z"
   },
   {
    "duration": 11,
    "start_time": "2022-03-02T13:29:14.895Z"
   },
   {
    "duration": 65,
    "start_time": "2022-03-02T13:29:14.908Z"
   },
   {
    "duration": 302,
    "start_time": "2022-03-02T13:29:14.976Z"
   },
   {
    "duration": 288,
    "start_time": "2022-03-02T13:29:15.281Z"
   },
   {
    "duration": 11,
    "start_time": "2022-03-02T13:29:15.574Z"
   },
   {
    "duration": 328,
    "start_time": "2022-03-02T13:29:15.587Z"
   },
   {
    "duration": 13,
    "start_time": "2022-03-02T13:29:15.918Z"
   },
   {
    "duration": 343,
    "start_time": "2022-03-02T13:29:15.934Z"
   },
   {
    "duration": 245,
    "start_time": "2022-03-02T13:29:16.280Z"
   },
   {
    "duration": 345,
    "start_time": "2022-03-02T13:29:16.528Z"
   },
   {
    "duration": 250,
    "start_time": "2022-03-02T13:29:16.880Z"
   },
   {
    "duration": 10,
    "start_time": "2022-03-02T13:29:17.133Z"
   },
   {
    "duration": 341,
    "start_time": "2022-03-02T13:29:17.145Z"
   },
   {
    "duration": 26,
    "start_time": "2022-03-02T13:29:17.488Z"
   },
   {
    "duration": 333,
    "start_time": "2022-03-02T13:29:17.516Z"
   },
   {
    "duration": 334,
    "start_time": "2022-03-02T13:29:17.852Z"
   },
   {
    "duration": 241,
    "start_time": "2022-03-02T13:29:18.188Z"
   },
   {
    "duration": 10,
    "start_time": "2022-03-02T13:29:18.431Z"
   },
   {
    "duration": 63,
    "start_time": "2022-03-02T13:29:18.443Z"
   },
   {
    "duration": 82,
    "start_time": "2022-03-02T13:29:18.508Z"
   },
   {
    "duration": 15,
    "start_time": "2022-03-02T13:29:18.593Z"
   },
   {
    "duration": 73,
    "start_time": "2022-03-02T13:29:18.610Z"
   },
   {
    "duration": 355,
    "start_time": "2022-03-02T13:29:18.686Z"
   },
   {
    "duration": 372,
    "start_time": "2022-03-02T13:29:19.043Z"
   },
   {
    "duration": 256,
    "start_time": "2022-03-02T13:29:19.417Z"
   },
   {
    "duration": 12,
    "start_time": "2022-03-02T13:29:19.675Z"
   },
   {
    "duration": 353,
    "start_time": "2022-03-02T13:29:19.690Z"
   },
   {
    "duration": 340,
    "start_time": "2022-03-02T13:29:20.046Z"
   },
   {
    "duration": 12,
    "start_time": "2022-03-02T13:29:20.388Z"
   },
   {
    "duration": 249,
    "start_time": "2022-03-02T13:29:20.402Z"
   },
   {
    "duration": 32,
    "start_time": "2022-03-02T13:29:20.654Z"
   },
   {
    "duration": 394,
    "start_time": "2022-03-02T13:29:20.689Z"
   },
   {
    "duration": 16,
    "start_time": "2022-03-02T13:29:21.086Z"
   },
   {
    "duration": 686,
    "start_time": "2022-03-02T13:29:21.104Z"
   },
   {
    "duration": 700,
    "start_time": "2022-03-02T13:29:21.792Z"
   },
   {
    "duration": 673,
    "start_time": "2022-03-02T13:29:22.495Z"
   },
   {
    "duration": 732,
    "start_time": "2022-03-02T13:29:23.171Z"
   },
   {
    "duration": 701,
    "start_time": "2022-03-02T13:29:23.906Z"
   },
   {
    "duration": 674,
    "start_time": "2022-03-02T13:29:24.609Z"
   },
   {
    "duration": 789,
    "start_time": "2022-03-02T13:29:25.286Z"
   },
   {
    "duration": 38,
    "start_time": "2022-03-02T13:29:26.078Z"
   },
   {
    "duration": 13,
    "start_time": "2022-03-02T13:29:26.118Z"
   },
   {
    "duration": 393,
    "start_time": "2022-03-02T13:29:26.133Z"
   },
   {
    "duration": 16,
    "start_time": "2022-03-02T13:29:26.529Z"
   },
   {
    "duration": 32,
    "start_time": "2022-03-02T13:29:26.548Z"
   },
   {
    "duration": 13,
    "start_time": "2022-03-02T13:29:26.583Z"
   },
   {
    "duration": 14,
    "start_time": "2022-03-02T13:29:26.598Z"
   },
   {
    "duration": 506,
    "start_time": "2022-03-02T13:29:26.615Z"
   },
   {
    "duration": 498,
    "start_time": "2022-03-02T13:29:27.123Z"
   },
   {
    "duration": 499,
    "start_time": "2022-03-02T13:29:27.623Z"
   },
   {
    "duration": 499,
    "start_time": "2022-03-02T13:29:28.125Z"
   },
   {
    "duration": 583,
    "start_time": "2022-03-02T13:29:28.626Z"
   },
   {
    "duration": 274,
    "start_time": "2022-03-10T22:06:35.798Z"
   },
   {
    "duration": 821,
    "start_time": "2022-03-10T22:06:42.918Z"
   },
   {
    "duration": 127,
    "start_time": "2022-03-10T22:06:43.742Z"
   },
   {
    "duration": 24,
    "start_time": "2022-03-10T22:06:43.872Z"
   },
   {
    "duration": 37,
    "start_time": "2022-03-10T22:06:43.899Z"
   },
   {
    "duration": 17,
    "start_time": "2022-03-10T22:06:43.938Z"
   },
   {
    "duration": 34,
    "start_time": "2022-03-10T22:06:43.957Z"
   },
   {
    "duration": 31,
    "start_time": "2022-03-10T22:06:43.994Z"
   },
   {
    "duration": 13,
    "start_time": "2022-03-10T22:06:44.028Z"
   },
   {
    "duration": 11,
    "start_time": "2022-03-10T22:06:44.043Z"
   },
   {
    "duration": 31,
    "start_time": "2022-03-10T22:06:44.056Z"
   },
   {
    "duration": 12,
    "start_time": "2022-03-10T22:06:44.089Z"
   },
   {
    "duration": 8,
    "start_time": "2022-03-10T22:06:44.103Z"
   },
   {
    "duration": 13,
    "start_time": "2022-03-10T22:06:44.113Z"
   },
   {
    "duration": 94,
    "start_time": "2022-03-10T22:06:44.129Z"
   },
   {
    "duration": 24,
    "start_time": "2022-03-10T22:06:44.728Z"
   },
   {
    "duration": 1020,
    "start_time": "2022-03-10T22:06:44.754Z"
   },
   {
    "duration": 12,
    "start_time": "2022-03-10T22:06:45.777Z"
   },
   {
    "duration": 44,
    "start_time": "2022-03-10T22:06:45.792Z"
   },
   {
    "duration": 315,
    "start_time": "2022-03-10T22:06:45.838Z"
   },
   {
    "duration": 288,
    "start_time": "2022-03-10T22:06:46.155Z"
   },
   {
    "duration": 10,
    "start_time": "2022-03-10T22:06:46.445Z"
   },
   {
    "duration": 332,
    "start_time": "2022-03-10T22:06:46.457Z"
   },
   {
    "duration": 12,
    "start_time": "2022-03-10T22:06:46.793Z"
   },
   {
    "duration": 327,
    "start_time": "2022-03-10T22:06:46.808Z"
   },
   {
    "duration": 240,
    "start_time": "2022-03-10T22:06:47.137Z"
   },
   {
    "duration": 324,
    "start_time": "2022-03-10T22:06:47.387Z"
   },
   {
    "duration": 255,
    "start_time": "2022-03-10T22:06:47.713Z"
   },
   {
    "duration": 16,
    "start_time": "2022-03-10T22:06:47.971Z"
   },
   {
    "duration": 322,
    "start_time": "2022-03-10T22:06:47.990Z"
   },
   {
    "duration": 25,
    "start_time": "2022-03-10T22:06:48.315Z"
   },
   {
    "duration": 344,
    "start_time": "2022-03-10T22:06:48.343Z"
   },
   {
    "duration": 335,
    "start_time": "2022-03-10T22:06:48.690Z"
   },
   {
    "duration": 230,
    "start_time": "2022-03-10T22:06:49.028Z"
   },
   {
    "duration": 10,
    "start_time": "2022-03-10T22:06:49.261Z"
   },
   {
    "duration": 43,
    "start_time": "2022-03-10T22:06:49.288Z"
   },
   {
    "duration": 99,
    "start_time": "2022-03-10T22:06:49.335Z"
   },
   {
    "duration": 19,
    "start_time": "2022-03-10T22:06:49.437Z"
   },
   {
    "duration": 69,
    "start_time": "2022-03-10T22:06:49.458Z"
   },
   {
    "duration": 338,
    "start_time": "2022-03-10T22:06:49.529Z"
   },
   {
    "duration": 359,
    "start_time": "2022-03-10T22:06:49.870Z"
   },
   {
    "duration": 239,
    "start_time": "2022-03-10T22:06:50.234Z"
   },
   {
    "duration": 17,
    "start_time": "2022-03-10T22:06:50.476Z"
   },
   {
    "duration": 325,
    "start_time": "2022-03-10T22:06:50.495Z"
   },
   {
    "duration": 334,
    "start_time": "2022-03-10T22:06:50.824Z"
   },
   {
    "duration": 72,
    "start_time": "2022-03-10T22:06:51.162Z"
   },
   {
    "duration": 12,
    "start_time": "2022-03-10T22:06:51.236Z"
   },
   {
    "duration": 241,
    "start_time": "2022-03-10T22:06:51.250Z"
   },
   {
    "duration": 10,
    "start_time": "2022-03-10T22:06:51.494Z"
   },
   {
    "duration": 354,
    "start_time": "2022-03-10T22:06:51.507Z"
   },
   {
    "duration": 24,
    "start_time": "2022-03-10T22:06:51.864Z"
   },
   {
    "duration": 764,
    "start_time": "2022-03-10T22:06:51.890Z"
   },
   {
    "duration": 709,
    "start_time": "2022-03-10T22:06:52.657Z"
   },
   {
    "duration": 669,
    "start_time": "2022-03-10T22:06:53.368Z"
   },
   {
    "duration": 662,
    "start_time": "2022-03-10T22:06:54.039Z"
   },
   {
    "duration": 1084,
    "start_time": "2022-03-10T22:06:54.703Z"
   },
   {
    "duration": 765,
    "start_time": "2022-03-10T22:06:55.790Z"
   },
   {
    "duration": 678,
    "start_time": "2022-03-10T22:06:56.558Z"
   },
   {
    "duration": 48,
    "start_time": "2022-03-10T22:06:57.239Z"
   },
   {
    "duration": 13,
    "start_time": "2022-03-10T22:06:57.289Z"
   },
   {
    "duration": 337,
    "start_time": "2022-03-10T22:06:57.304Z"
   },
   {
    "duration": 17,
    "start_time": "2022-03-10T22:06:57.644Z"
   },
   {
    "duration": 27,
    "start_time": "2022-03-10T22:06:57.663Z"
   },
   {
    "duration": 11,
    "start_time": "2022-03-10T22:06:57.693Z"
   },
   {
    "duration": 9,
    "start_time": "2022-03-10T22:06:57.707Z"
   },
   {
    "duration": 471,
    "start_time": "2022-03-10T22:06:57.718Z"
   },
   {
    "duration": 458,
    "start_time": "2022-03-10T22:06:58.191Z"
   },
   {
    "duration": 446,
    "start_time": "2022-03-10T22:06:58.651Z"
   },
   {
    "duration": 424,
    "start_time": "2022-03-10T22:06:59.099Z"
   },
   {
    "duration": 420,
    "start_time": "2022-03-10T22:06:59.525Z"
   },
   {
    "duration": 98,
    "start_time": "2022-03-11T05:17:10.088Z"
   },
   {
    "duration": 333,
    "start_time": "2022-03-11T05:36:11.986Z"
   },
   {
    "duration": 907,
    "start_time": "2022-03-11T05:36:28.459Z"
   },
   {
    "duration": 119,
    "start_time": "2022-03-11T05:36:29.368Z"
   },
   {
    "duration": 15,
    "start_time": "2022-03-11T05:36:29.490Z"
   },
   {
    "duration": 36,
    "start_time": "2022-03-11T05:36:29.507Z"
   },
   {
    "duration": 39,
    "start_time": "2022-03-11T05:36:29.545Z"
   },
   {
    "duration": 8,
    "start_time": "2022-03-11T05:36:29.587Z"
   },
   {
    "duration": 15,
    "start_time": "2022-03-11T05:36:29.598Z"
   },
   {
    "duration": 57,
    "start_time": "2022-03-11T05:36:29.618Z"
   },
   {
    "duration": 12,
    "start_time": "2022-03-11T05:36:29.679Z"
   },
   {
    "duration": 11,
    "start_time": "2022-03-11T05:36:29.693Z"
   },
   {
    "duration": 12,
    "start_time": "2022-03-11T05:36:29.706Z"
   },
   {
    "duration": 2054,
    "start_time": "2022-03-11T05:36:29.721Z"
   },
   {
    "duration": 35,
    "start_time": "2022-03-11T05:36:31.744Z"
   },
   {
    "duration": 33,
    "start_time": "2022-03-11T05:36:31.748Z"
   },
   {
    "duration": 30,
    "start_time": "2022-03-11T05:36:31.752Z"
   },
   {
    "duration": 26,
    "start_time": "2022-03-11T05:36:31.757Z"
   },
   {
    "duration": 24,
    "start_time": "2022-03-11T05:36:31.761Z"
   },
   {
    "duration": 21,
    "start_time": "2022-03-11T05:36:31.765Z"
   },
   {
    "duration": 18,
    "start_time": "2022-03-11T05:36:31.769Z"
   },
   {
    "duration": 16,
    "start_time": "2022-03-11T05:36:31.773Z"
   },
   {
    "duration": 12,
    "start_time": "2022-03-11T05:36:31.778Z"
   },
   {
    "duration": 9,
    "start_time": "2022-03-11T05:36:31.782Z"
   },
   {
    "duration": 7,
    "start_time": "2022-03-11T05:36:31.786Z"
   },
   {
    "duration": 4,
    "start_time": "2022-03-11T05:36:31.790Z"
   },
   {
    "duration": -13,
    "start_time": "2022-03-11T05:36:31.808Z"
   },
   {
    "duration": -17,
    "start_time": "2022-03-11T05:36:31.813Z"
   },
   {
    "duration": -19,
    "start_time": "2022-03-11T05:36:31.817Z"
   },
   {
    "duration": -24,
    "start_time": "2022-03-11T05:36:31.823Z"
   },
   {
    "duration": -34,
    "start_time": "2022-03-11T05:36:31.834Z"
   },
   {
    "duration": -37,
    "start_time": "2022-03-11T05:36:31.839Z"
   },
   {
    "duration": -40,
    "start_time": "2022-03-11T05:36:31.843Z"
   },
   {
    "duration": -45,
    "start_time": "2022-03-11T05:36:31.849Z"
   },
   {
    "duration": -47,
    "start_time": "2022-03-11T05:36:31.853Z"
   },
   {
    "duration": -52,
    "start_time": "2022-03-11T05:36:31.859Z"
   },
   {
    "duration": -55,
    "start_time": "2022-03-11T05:36:31.863Z"
   },
   {
    "duration": -59,
    "start_time": "2022-03-11T05:36:31.869Z"
   },
   {
    "duration": -62,
    "start_time": "2022-03-11T05:36:31.873Z"
   },
   {
    "duration": -934,
    "start_time": "2022-03-11T05:36:32.746Z"
   },
   {
    "duration": -937,
    "start_time": "2022-03-11T05:36:32.750Z"
   },
   {
    "duration": -940,
    "start_time": "2022-03-11T05:36:32.754Z"
   },
   {
    "duration": -942,
    "start_time": "2022-03-11T05:36:32.758Z"
   },
   {
    "duration": -945,
    "start_time": "2022-03-11T05:36:32.762Z"
   },
   {
    "duration": -947,
    "start_time": "2022-03-11T05:36:32.765Z"
   },
   {
    "duration": -950,
    "start_time": "2022-03-11T05:36:32.769Z"
   },
   {
    "duration": -953,
    "start_time": "2022-03-11T05:36:32.773Z"
   },
   {
    "duration": -903,
    "start_time": "2022-03-11T05:36:32.777Z"
   },
   {
    "duration": -906,
    "start_time": "2022-03-11T05:36:32.781Z"
   },
   {
    "duration": -909,
    "start_time": "2022-03-11T05:36:32.785Z"
   },
   {
    "duration": -912,
    "start_time": "2022-03-11T05:36:32.789Z"
   },
   {
    "duration": -914,
    "start_time": "2022-03-11T05:36:32.793Z"
   },
   {
    "duration": -917,
    "start_time": "2022-03-11T05:36:32.797Z"
   },
   {
    "duration": -922,
    "start_time": "2022-03-11T05:36:32.803Z"
   },
   {
    "duration": -925,
    "start_time": "2022-03-11T05:36:32.807Z"
   },
   {
    "duration": -929,
    "start_time": "2022-03-11T05:36:32.812Z"
   },
   {
    "duration": -931,
    "start_time": "2022-03-11T05:36:32.816Z"
   },
   {
    "duration": -941,
    "start_time": "2022-03-11T05:36:32.827Z"
   },
   {
    "duration": -944,
    "start_time": "2022-03-11T05:36:32.831Z"
   },
   {
    "duration": -947,
    "start_time": "2022-03-11T05:36:32.835Z"
   },
   {
    "duration": -950,
    "start_time": "2022-03-11T05:36:32.839Z"
   },
   {
    "duration": -952,
    "start_time": "2022-03-11T05:36:32.843Z"
   },
   {
    "duration": -954,
    "start_time": "2022-03-11T05:36:32.846Z"
   },
   {
    "duration": -957,
    "start_time": "2022-03-11T05:36:32.850Z"
   },
   {
    "duration": -960,
    "start_time": "2022-03-11T05:36:32.854Z"
   },
   {
    "duration": -963,
    "start_time": "2022-03-11T05:36:32.858Z"
   },
   {
    "duration": -965,
    "start_time": "2022-03-11T05:36:32.862Z"
   },
   {
    "duration": -968,
    "start_time": "2022-03-11T05:36:32.866Z"
   },
   {
    "duration": -971,
    "start_time": "2022-03-11T05:36:32.870Z"
   },
   {
    "duration": -974,
    "start_time": "2022-03-11T05:36:32.874Z"
   },
   {
    "duration": -976,
    "start_time": "2022-03-11T05:36:32.878Z"
   },
   {
    "duration": 2005,
    "start_time": "2022-03-11T05:37:21.917Z"
   },
   {
    "duration": 1953,
    "start_time": "2022-03-11T05:39:01.932Z"
   },
   {
    "duration": 7039,
    "start_time": "2022-03-11T05:39:44.543Z"
   },
   {
    "duration": 89,
    "start_time": "2022-03-11T05:40:10.729Z"
   },
   {
    "duration": 81,
    "start_time": "2022-03-11T05:40:54.527Z"
   },
   {
    "duration": 15,
    "start_time": "2022-03-11T05:41:03.818Z"
   },
   {
    "duration": 6,
    "start_time": "2022-03-11T05:41:18.785Z"
   },
   {
    "duration": 16,
    "start_time": "2022-03-11T05:41:19.393Z"
   },
   {
    "duration": 7565,
    "start_time": "2022-03-11T05:43:19.284Z"
   },
   {
    "duration": 7277,
    "start_time": "2022-03-11T05:54:03.770Z"
   },
   {
    "duration": 905,
    "start_time": "2022-03-11T05:54:28.381Z"
   },
   {
    "duration": 117,
    "start_time": "2022-03-11T05:54:29.289Z"
   },
   {
    "duration": 16,
    "start_time": "2022-03-11T05:54:29.409Z"
   },
   {
    "duration": 59,
    "start_time": "2022-03-11T05:54:29.428Z"
   },
   {
    "duration": 14,
    "start_time": "2022-03-11T05:54:29.489Z"
   },
   {
    "duration": 7,
    "start_time": "2022-03-11T05:54:29.505Z"
   },
   {
    "duration": 14,
    "start_time": "2022-03-11T05:54:29.514Z"
   },
   {
    "duration": 46,
    "start_time": "2022-03-11T05:54:29.532Z"
   },
   {
    "duration": 13,
    "start_time": "2022-03-11T05:54:29.581Z"
   },
   {
    "duration": 13,
    "start_time": "2022-03-11T05:54:29.597Z"
   },
   {
    "duration": 12,
    "start_time": "2022-03-11T05:54:29.612Z"
   },
   {
    "duration": 47,
    "start_time": "2022-03-11T05:54:29.627Z"
   },
   {
    "duration": 75,
    "start_time": "2022-03-11T05:54:29.676Z"
   },
   {
    "duration": 26,
    "start_time": "2022-03-11T05:54:29.753Z"
   },
   {
    "duration": 7404,
    "start_time": "2022-03-11T05:54:29.782Z"
   },
   {
    "duration": 43,
    "start_time": "2022-03-11T05:54:37.148Z"
   },
   {
    "duration": 37,
    "start_time": "2022-03-11T05:54:37.156Z"
   },
   {
    "duration": 33,
    "start_time": "2022-03-11T05:54:37.161Z"
   },
   {
    "duration": 31,
    "start_time": "2022-03-11T05:54:37.165Z"
   },
   {
    "duration": 28,
    "start_time": "2022-03-11T05:54:37.170Z"
   },
   {
    "duration": 25,
    "start_time": "2022-03-11T05:54:37.174Z"
   },
   {
    "duration": 22,
    "start_time": "2022-03-11T05:54:37.179Z"
   },
   {
    "duration": 19,
    "start_time": "2022-03-11T05:54:37.183Z"
   },
   {
    "duration": 17,
    "start_time": "2022-03-11T05:54:37.187Z"
   },
   {
    "duration": -11,
    "start_time": "2022-03-11T05:54:37.216Z"
   },
   {
    "duration": -15,
    "start_time": "2022-03-11T05:54:37.221Z"
   },
   {
    "duration": -17,
    "start_time": "2022-03-11T05:54:37.225Z"
   },
   {
    "duration": -21,
    "start_time": "2022-03-11T05:54:37.230Z"
   },
   {
    "duration": -28,
    "start_time": "2022-03-11T05:54:37.238Z"
   },
   {
    "duration": -32,
    "start_time": "2022-03-11T05:54:37.243Z"
   },
   {
    "duration": -35,
    "start_time": "2022-03-11T05:54:37.247Z"
   },
   {
    "duration": -38,
    "start_time": "2022-03-11T05:54:37.252Z"
   },
   {
    "duration": -41,
    "start_time": "2022-03-11T05:54:37.256Z"
   },
   {
    "duration": -43,
    "start_time": "2022-03-11T05:54:37.260Z"
   },
   {
    "duration": -46,
    "start_time": "2022-03-11T05:54:37.265Z"
   },
   {
    "duration": -49,
    "start_time": "2022-03-11T05:54:37.269Z"
   },
   {
    "duration": -273,
    "start_time": "2022-03-11T05:54:37.495Z"
   },
   {
    "duration": -742,
    "start_time": "2022-03-11T05:54:37.966Z"
   },
   {
    "duration": -745,
    "start_time": "2022-03-11T05:54:37.971Z"
   },
   {
    "duration": -748,
    "start_time": "2022-03-11T05:54:37.975Z"
   },
   {
    "duration": -706,
    "start_time": "2022-03-11T05:54:37.979Z"
   },
   {
    "duration": -709,
    "start_time": "2022-03-11T05:54:37.984Z"
   },
   {
    "duration": -726,
    "start_time": "2022-03-11T05:54:38.002Z"
   },
   {
    "duration": -729,
    "start_time": "2022-03-11T05:54:38.007Z"
   },
   {
    "duration": -732,
    "start_time": "2022-03-11T05:54:38.012Z"
   },
   {
    "duration": -736,
    "start_time": "2022-03-11T05:54:38.017Z"
   },
   {
    "duration": -752,
    "start_time": "2022-03-11T05:54:38.034Z"
   },
   {
    "duration": -760,
    "start_time": "2022-03-11T05:54:38.044Z"
   },
   {
    "duration": -763,
    "start_time": "2022-03-11T05:54:38.048Z"
   },
   {
    "duration": -774,
    "start_time": "2022-03-11T05:54:38.061Z"
   },
   {
    "duration": -780,
    "start_time": "2022-03-11T05:54:38.068Z"
   },
   {
    "duration": -790,
    "start_time": "2022-03-11T05:54:38.080Z"
   },
   {
    "duration": -795,
    "start_time": "2022-03-11T05:54:38.086Z"
   },
   {
    "duration": -825,
    "start_time": "2022-03-11T05:54:38.117Z"
   },
   {
    "duration": -832,
    "start_time": "2022-03-11T05:54:38.126Z"
   },
   {
    "duration": -836,
    "start_time": "2022-03-11T05:54:38.131Z"
   },
   {
    "duration": -843,
    "start_time": "2022-03-11T05:54:38.139Z"
   },
   {
    "duration": -845,
    "start_time": "2022-03-11T05:54:38.143Z"
   },
   {
    "duration": -847,
    "start_time": "2022-03-11T05:54:38.147Z"
   },
   {
    "duration": -855,
    "start_time": "2022-03-11T05:54:38.156Z"
   },
   {
    "duration": -858,
    "start_time": "2022-03-11T05:54:38.160Z"
   },
   {
    "duration": -860,
    "start_time": "2022-03-11T05:54:38.164Z"
   },
   {
    "duration": -868,
    "start_time": "2022-03-11T05:54:38.173Z"
   },
   {
    "duration": -871,
    "start_time": "2022-03-11T05:54:38.177Z"
   },
   {
    "duration": -873,
    "start_time": "2022-03-11T05:54:38.181Z"
   },
   {
    "duration": -875,
    "start_time": "2022-03-11T05:54:38.185Z"
   },
   {
    "duration": -878,
    "start_time": "2022-03-11T05:54:38.189Z"
   },
   {
    "duration": -880,
    "start_time": "2022-03-11T05:54:38.193Z"
   },
   {
    "duration": -883,
    "start_time": "2022-03-11T05:54:38.196Z"
   },
   {
    "duration": 6996,
    "start_time": "2022-03-11T05:56:04.979Z"
   },
   {
    "duration": 311,
    "start_time": "2022-03-11T05:57:21.011Z"
   },
   {
    "duration": 7366,
    "start_time": "2022-03-11T05:58:32.071Z"
   },
   {
    "duration": 5342,
    "start_time": "2022-03-11T05:58:49.089Z"
   },
   {
    "duration": 52,
    "start_time": "2022-03-11T06:00:41.165Z"
   },
   {
    "duration": 51,
    "start_time": "2022-03-11T06:01:00.133Z"
   },
   {
    "duration": 288,
    "start_time": "2022-03-11T06:11:48.534Z"
   },
   {
    "duration": 943,
    "start_time": "2022-03-11T06:11:56.161Z"
   },
   {
    "duration": 128,
    "start_time": "2022-03-11T06:11:57.107Z"
   },
   {
    "duration": 17,
    "start_time": "2022-03-11T06:11:57.238Z"
   },
   {
    "duration": 41,
    "start_time": "2022-03-11T06:11:57.275Z"
   },
   {
    "duration": 16,
    "start_time": "2022-03-11T06:11:57.319Z"
   },
   {
    "duration": 39,
    "start_time": "2022-03-11T06:11:57.339Z"
   },
   {
    "duration": 24,
    "start_time": "2022-03-11T06:11:57.381Z"
   },
   {
    "duration": 15,
    "start_time": "2022-03-11T06:11:57.410Z"
   },
   {
    "duration": 12,
    "start_time": "2022-03-11T06:11:57.428Z"
   },
   {
    "duration": 47,
    "start_time": "2022-03-11T06:11:57.443Z"
   },
   {
    "duration": 20,
    "start_time": "2022-03-11T06:11:57.492Z"
   },
   {
    "duration": 6,
    "start_time": "2022-03-11T06:11:57.514Z"
   },
   {
    "duration": 92,
    "start_time": "2022-03-11T06:11:57.523Z"
   },
   {
    "duration": 14,
    "start_time": "2022-03-11T06:11:57.617Z"
   },
   {
    "duration": 79,
    "start_time": "2022-03-11T06:11:57.633Z"
   },
   {
    "duration": 25,
    "start_time": "2022-03-11T06:11:57.714Z"
   },
   {
    "duration": 991,
    "start_time": "2022-03-11T06:11:57.741Z"
   },
   {
    "duration": 11,
    "start_time": "2022-03-11T06:11:58.735Z"
   },
   {
    "duration": 54,
    "start_time": "2022-03-11T06:11:58.749Z"
   },
   {
    "duration": 297,
    "start_time": "2022-03-11T06:11:58.805Z"
   },
   {
    "duration": 297,
    "start_time": "2022-03-11T06:11:59.105Z"
   },
   {
    "duration": 12,
    "start_time": "2022-03-11T06:11:59.406Z"
   },
   {
    "duration": 349,
    "start_time": "2022-03-11T06:11:59.427Z"
   },
   {
    "duration": 11,
    "start_time": "2022-03-11T06:11:59.779Z"
   },
   {
    "duration": 349,
    "start_time": "2022-03-11T06:11:59.793Z"
   },
   {
    "duration": 371,
    "start_time": "2022-03-11T06:12:00.144Z"
   },
   {
    "duration": 526,
    "start_time": "2022-03-11T06:12:00.574Z"
   },
   {
    "duration": 239,
    "start_time": "2022-03-11T06:12:01.103Z"
   },
   {
    "duration": 10,
    "start_time": "2022-03-11T06:12:01.345Z"
   },
   {
    "duration": 353,
    "start_time": "2022-03-11T06:12:01.358Z"
   },
   {
    "duration": 27,
    "start_time": "2022-03-11T06:12:01.713Z"
   },
   {
    "duration": 336,
    "start_time": "2022-03-11T06:12:01.743Z"
   },
   {
    "duration": 329,
    "start_time": "2022-03-11T06:12:02.081Z"
   },
   {
    "duration": 251,
    "start_time": "2022-03-11T06:12:02.412Z"
   },
   {
    "duration": 15,
    "start_time": "2022-03-11T06:12:02.666Z"
   },
   {
    "duration": 51,
    "start_time": "2022-03-11T06:12:02.683Z"
   },
   {
    "duration": 90,
    "start_time": "2022-03-11T06:12:02.737Z"
   },
   {
    "duration": 15,
    "start_time": "2022-03-11T06:12:02.830Z"
   },
   {
    "duration": 94,
    "start_time": "2022-03-11T06:12:02.847Z"
   },
   {
    "duration": 441,
    "start_time": "2022-03-11T06:12:02.944Z"
   },
   {
    "duration": 385,
    "start_time": "2022-03-11T06:12:03.389Z"
   },
   {
    "duration": 254,
    "start_time": "2022-03-11T06:12:03.777Z"
   },
   {
    "duration": 10,
    "start_time": "2022-03-11T06:12:04.034Z"
   },
   {
    "duration": 342,
    "start_time": "2022-03-11T06:12:04.046Z"
   },
   {
    "duration": 340,
    "start_time": "2022-03-11T06:12:04.391Z"
   },
   {
    "duration": 12,
    "start_time": "2022-03-11T06:12:04.733Z"
   },
   {
    "duration": 235,
    "start_time": "2022-03-11T06:12:04.748Z"
   },
   {
    "duration": 14,
    "start_time": "2022-03-11T06:12:04.986Z"
   },
   {
    "duration": 370,
    "start_time": "2022-03-11T06:12:05.004Z"
   },
   {
    "duration": 18,
    "start_time": "2022-03-11T06:12:05.377Z"
   },
   {
    "duration": 712,
    "start_time": "2022-03-11T06:12:05.398Z"
   },
   {
    "duration": 727,
    "start_time": "2022-03-11T06:12:06.112Z"
   },
   {
    "duration": 707,
    "start_time": "2022-03-11T06:12:06.842Z"
   },
   {
    "duration": 754,
    "start_time": "2022-03-11T06:12:07.552Z"
   },
   {
    "duration": 682,
    "start_time": "2022-03-11T06:12:08.309Z"
   },
   {
    "duration": 703,
    "start_time": "2022-03-11T06:12:08.993Z"
   },
   {
    "duration": 774,
    "start_time": "2022-03-11T06:12:09.699Z"
   },
   {
    "duration": 39,
    "start_time": "2022-03-11T06:12:10.476Z"
   },
   {
    "duration": 16,
    "start_time": "2022-03-11T06:12:10.517Z"
   },
   {
    "duration": 381,
    "start_time": "2022-03-11T06:12:10.535Z"
   },
   {
    "duration": 19,
    "start_time": "2022-03-11T06:12:10.918Z"
   },
   {
    "duration": 36,
    "start_time": "2022-03-11T06:12:10.940Z"
   },
   {
    "duration": 11,
    "start_time": "2022-03-11T06:12:10.979Z"
   },
   {
    "duration": 13,
    "start_time": "2022-03-11T06:12:10.993Z"
   },
   {
    "duration": 487,
    "start_time": "2022-03-11T06:12:11.009Z"
   },
   {
    "duration": 454,
    "start_time": "2022-03-11T06:12:11.499Z"
   },
   {
    "duration": 457,
    "start_time": "2022-03-11T06:12:11.955Z"
   },
   {
    "duration": 509,
    "start_time": "2022-03-11T06:12:12.419Z"
   },
   {
    "duration": 477,
    "start_time": "2022-03-11T06:12:12.931Z"
   },
   {
    "duration": 389,
    "start_time": "2022-03-11T06:12:53.454Z"
   },
   {
    "duration": 4,
    "start_time": "2022-03-11T06:12:56.510Z"
   },
   {
    "duration": 4,
    "start_time": "2022-03-11T06:12:57.030Z"
   },
   {
    "duration": 911,
    "start_time": "2022-03-11T06:13:03.961Z"
   },
   {
    "duration": 4,
    "start_time": "2022-03-11T06:13:04.875Z"
   },
   {
    "duration": 148,
    "start_time": "2022-03-11T06:13:04.882Z"
   },
   {
    "duration": 17,
    "start_time": "2022-03-11T06:13:05.033Z"
   },
   {
    "duration": 84,
    "start_time": "2022-03-11T06:13:05.053Z"
   },
   {
    "duration": 15,
    "start_time": "2022-03-11T06:13:05.140Z"
   },
   {
    "duration": 23,
    "start_time": "2022-03-11T06:13:05.157Z"
   },
   {
    "duration": 51,
    "start_time": "2022-03-11T06:13:05.184Z"
   },
   {
    "duration": 65,
    "start_time": "2022-03-11T06:13:05.238Z"
   },
   {
    "duration": 38,
    "start_time": "2022-03-11T06:13:05.306Z"
   },
   {
    "duration": 47,
    "start_time": "2022-03-11T06:13:05.347Z"
   },
   {
    "duration": 23,
    "start_time": "2022-03-11T06:13:05.396Z"
   },
   {
    "duration": 24,
    "start_time": "2022-03-11T06:13:05.422Z"
   },
   {
    "duration": 99,
    "start_time": "2022-03-11T06:13:05.449Z"
   },
   {
    "duration": 23,
    "start_time": "2022-03-11T06:13:05.550Z"
   },
   {
    "duration": 69,
    "start_time": "2022-03-11T06:13:05.575Z"
   },
   {
    "duration": 38,
    "start_time": "2022-03-11T06:13:05.646Z"
   },
   {
    "duration": 999,
    "start_time": "2022-03-11T06:13:05.686Z"
   },
   {
    "duration": 10,
    "start_time": "2022-03-11T06:13:06.688Z"
   },
   {
    "duration": 61,
    "start_time": "2022-03-11T06:13:06.700Z"
   },
   {
    "duration": 298,
    "start_time": "2022-03-11T06:13:06.764Z"
   },
   {
    "duration": 282,
    "start_time": "2022-03-11T06:13:07.064Z"
   },
   {
    "duration": 20,
    "start_time": "2022-03-11T06:13:07.355Z"
   },
   {
    "duration": 319,
    "start_time": "2022-03-11T06:13:07.381Z"
   },
   {
    "duration": 13,
    "start_time": "2022-03-11T06:13:07.703Z"
   },
   {
    "duration": 355,
    "start_time": "2022-03-11T06:13:07.719Z"
   },
   {
    "duration": 241,
    "start_time": "2022-03-11T06:13:08.078Z"
   },
   {
    "duration": 568,
    "start_time": "2022-03-11T06:13:08.322Z"
   },
   {
    "duration": 482,
    "start_time": "2022-03-11T06:13:08.893Z"
   },
   {
    "duration": 11,
    "start_time": "2022-03-11T06:13:09.378Z"
   },
   {
    "duration": 326,
    "start_time": "2022-03-11T06:13:09.392Z"
   },
   {
    "duration": 28,
    "start_time": "2022-03-11T06:13:09.721Z"
   },
   {
    "duration": 307,
    "start_time": "2022-03-11T06:13:09.773Z"
   },
   {
    "duration": 330,
    "start_time": "2022-03-11T06:13:10.083Z"
   },
   {
    "duration": 229,
    "start_time": "2022-03-11T06:13:10.416Z"
   },
   {
    "duration": 9,
    "start_time": "2022-03-11T06:13:10.648Z"
   },
   {
    "duration": 50,
    "start_time": "2022-03-11T06:13:10.660Z"
   },
   {
    "duration": 92,
    "start_time": "2022-03-11T06:13:10.713Z"
   },
   {
    "duration": 15,
    "start_time": "2022-03-11T06:13:10.807Z"
   },
   {
    "duration": 67,
    "start_time": "2022-03-11T06:13:10.824Z"
   },
   {
    "duration": 343,
    "start_time": "2022-03-11T06:13:10.894Z"
   },
   {
    "duration": 370,
    "start_time": "2022-03-11T06:13:11.240Z"
   },
   {
    "duration": 243,
    "start_time": "2022-03-11T06:13:11.612Z"
   },
   {
    "duration": 19,
    "start_time": "2022-03-11T06:13:11.857Z"
   },
   {
    "duration": 329,
    "start_time": "2022-03-11T06:13:11.878Z"
   },
   {
    "duration": 330,
    "start_time": "2022-03-11T06:13:12.210Z"
   },
   {
    "duration": 12,
    "start_time": "2022-03-11T06:13:12.542Z"
   },
   {
    "duration": 233,
    "start_time": "2022-03-11T06:13:12.557Z"
   },
   {
    "duration": 12,
    "start_time": "2022-03-11T06:13:12.792Z"
   },
   {
    "duration": 370,
    "start_time": "2022-03-11T06:13:12.806Z"
   },
   {
    "duration": 15,
    "start_time": "2022-03-11T06:13:13.178Z"
   },
   {
    "duration": 691,
    "start_time": "2022-03-11T06:13:13.195Z"
   },
   {
    "duration": 704,
    "start_time": "2022-03-11T06:13:13.888Z"
   },
   {
    "duration": 685,
    "start_time": "2022-03-11T06:13:14.594Z"
   },
   {
    "duration": 706,
    "start_time": "2022-03-11T06:13:15.282Z"
   },
   {
    "duration": 712,
    "start_time": "2022-03-11T06:13:15.991Z"
   },
   {
    "duration": 674,
    "start_time": "2022-03-11T06:13:16.705Z"
   },
   {
    "duration": 777,
    "start_time": "2022-03-11T06:13:17.381Z"
   },
   {
    "duration": 47,
    "start_time": "2022-03-11T06:13:18.161Z"
   },
   {
    "duration": 15,
    "start_time": "2022-03-11T06:13:18.211Z"
   },
   {
    "duration": 370,
    "start_time": "2022-03-11T06:13:18.229Z"
   },
   {
    "duration": 18,
    "start_time": "2022-03-11T06:13:18.602Z"
   },
   {
    "duration": 12,
    "start_time": "2022-03-11T06:13:18.622Z"
   },
   {
    "duration": 44,
    "start_time": "2022-03-11T06:13:18.636Z"
   },
   {
    "duration": 11,
    "start_time": "2022-03-11T06:13:18.682Z"
   },
   {
    "duration": 422,
    "start_time": "2022-03-11T06:13:18.695Z"
   },
   {
    "duration": 490,
    "start_time": "2022-03-11T06:13:19.120Z"
   },
   {
    "duration": 489,
    "start_time": "2022-03-11T06:13:19.620Z"
   },
   {
    "duration": 502,
    "start_time": "2022-03-11T06:13:20.112Z"
   },
   {
    "duration": 461,
    "start_time": "2022-03-11T06:13:20.616Z"
   },
   {
    "duration": 12,
    "start_time": "2022-03-11T06:16:52.556Z"
   },
   {
    "duration": 339,
    "start_time": "2022-03-11T06:17:12.661Z"
   },
   {
    "duration": 231,
    "start_time": "2022-03-11T06:17:20.986Z"
   },
   {
    "duration": 320,
    "start_time": "2022-03-11T06:17:30.818Z"
   },
   {
    "duration": 225,
    "start_time": "2022-03-11T06:17:50.846Z"
   },
   {
    "duration": 9,
    "start_time": "2022-03-11T06:17:59.952Z"
   },
   {
    "duration": 417,
    "start_time": "2022-03-11T06:18:08.823Z"
   },
   {
    "duration": 326,
    "start_time": "2022-03-11T06:18:56.276Z"
   },
   {
    "duration": 258,
    "start_time": "2022-03-11T06:19:01.377Z"
   },
   {
    "duration": 9,
    "start_time": "2022-03-11T06:19:14.213Z"
   },
   {
    "duration": 41,
    "start_time": "2022-03-11T06:19:27.795Z"
   },
   {
    "duration": 71,
    "start_time": "2022-03-11T06:19:39.572Z"
   },
   {
    "duration": 228,
    "start_time": "2022-03-11T06:20:19.267Z"
   },
   {
    "duration": 15,
    "start_time": "2022-03-11T06:20:21.976Z"
   },
   {
    "duration": 47,
    "start_time": "2022-03-11T06:20:22.673Z"
   },
   {
    "duration": 295,
    "start_time": "2022-03-11T06:20:39.381Z"
   },
   {
    "duration": 240,
    "start_time": "2022-03-11T06:20:45.035Z"
   },
   {
    "duration": 14,
    "start_time": "2022-03-11T06:20:58.333Z"
   },
   {
    "duration": 317,
    "start_time": "2022-03-11T06:21:06.448Z"
   },
   {
    "duration": 13,
    "start_time": "2022-03-11T06:28:51.775Z"
   },
   {
    "duration": 390,
    "start_time": "2022-03-11T06:32:16.632Z"
   },
   {
    "duration": 461,
    "start_time": "2022-03-11T06:32:40.737Z"
   },
   {
    "duration": 371,
    "start_time": "2022-03-11T06:36:41.895Z"
   },
   {
    "duration": 16,
    "start_time": "2022-03-11T06:37:51.811Z"
   },
   {
    "duration": 386,
    "start_time": "2022-03-11T06:38:04.003Z"
   },
   {
    "duration": 12,
    "start_time": "2022-03-11T06:38:07.722Z"
   },
   {
    "duration": 208,
    "start_time": "2022-03-11T06:38:08.646Z"
   },
   {
    "duration": 11,
    "start_time": "2022-03-11T06:38:20.947Z"
   },
   {
    "duration": 308,
    "start_time": "2022-03-11T06:38:21.834Z"
   },
   {
    "duration": 16,
    "start_time": "2022-03-11T06:38:26.007Z"
   },
   {
    "duration": 11,
    "start_time": "2022-03-11T06:39:45.733Z"
   },
   {
    "duration": 355,
    "start_time": "2022-03-13T06:17:06.757Z"
   },
   {
    "duration": 308,
    "start_time": "2022-03-13T06:17:14.669Z"
   },
   {
    "duration": 655,
    "start_time": "2022-03-13T06:17:21.506Z"
   },
   {
    "duration": 2,
    "start_time": "2022-03-13T06:17:22.163Z"
   },
   {
    "duration": 82,
    "start_time": "2022-03-13T06:17:22.167Z"
   },
   {
    "duration": 9,
    "start_time": "2022-03-13T06:17:22.251Z"
   },
   {
    "duration": 22,
    "start_time": "2022-03-13T06:17:22.261Z"
   },
   {
    "duration": 21,
    "start_time": "2022-03-13T06:17:22.284Z"
   },
   {
    "duration": 4,
    "start_time": "2022-03-13T06:17:22.306Z"
   },
   {
    "duration": 6,
    "start_time": "2022-03-13T06:17:22.313Z"
   },
   {
    "duration": 7,
    "start_time": "2022-03-13T06:17:22.321Z"
   },
   {
    "duration": 7,
    "start_time": "2022-03-13T06:17:22.329Z"
   },
   {
    "duration": 6,
    "start_time": "2022-03-13T06:17:22.337Z"
   },
   {
    "duration": 6,
    "start_time": "2022-03-13T06:17:22.345Z"
   },
   {
    "duration": 4,
    "start_time": "2022-03-13T06:17:22.352Z"
   },
   {
    "duration": 80,
    "start_time": "2022-03-13T06:17:22.357Z"
   },
   {
    "duration": 8,
    "start_time": "2022-03-13T06:17:22.438Z"
   },
   {
    "duration": 30,
    "start_time": "2022-03-13T06:17:22.448Z"
   },
   {
    "duration": 33,
    "start_time": "2022-03-13T06:17:22.479Z"
   },
   {
    "duration": 525,
    "start_time": "2022-03-13T06:17:22.514Z"
   },
   {
    "duration": 7,
    "start_time": "2022-03-13T06:17:23.040Z"
   },
   {
    "duration": 22,
    "start_time": "2022-03-13T06:17:23.048Z"
   },
   {
    "duration": 165,
    "start_time": "2022-03-13T06:17:23.072Z"
   },
   {
    "duration": 163,
    "start_time": "2022-03-13T06:17:23.238Z"
   },
   {
    "duration": 7,
    "start_time": "2022-03-13T06:17:23.405Z"
   },
   {
    "duration": 8,
    "start_time": "2022-03-13T06:17:23.415Z"
   },
   {
    "duration": 184,
    "start_time": "2022-03-13T06:17:23.424Z"
   },
   {
    "duration": 144,
    "start_time": "2022-03-13T06:17:23.609Z"
   },
   {
    "duration": 171,
    "start_time": "2022-03-13T06:17:23.755Z"
   },
   {
    "duration": 123,
    "start_time": "2022-03-13T06:17:23.927Z"
   },
   {
    "duration": 6,
    "start_time": "2022-03-13T06:17:24.052Z"
   },
   {
    "duration": 175,
    "start_time": "2022-03-13T06:17:24.059Z"
   },
   {
    "duration": 168,
    "start_time": "2022-03-13T06:17:24.236Z"
   },
   {
    "duration": 128,
    "start_time": "2022-03-13T06:17:24.406Z"
   },
   {
    "duration": 5,
    "start_time": "2022-03-13T06:17:24.536Z"
   },
   {
    "duration": 23,
    "start_time": "2022-03-13T06:17:24.542Z"
   },
   {
    "duration": 53,
    "start_time": "2022-03-13T06:17:24.566Z"
   },
   {
    "duration": 8,
    "start_time": "2022-03-13T06:17:24.621Z"
   },
   {
    "duration": 23,
    "start_time": "2022-03-13T06:17:24.630Z"
   },
   {
    "duration": 169,
    "start_time": "2022-03-13T06:17:24.654Z"
   },
   {
    "duration": 131,
    "start_time": "2022-03-13T06:17:24.825Z"
   },
   {
    "duration": 7,
    "start_time": "2022-03-13T06:17:24.958Z"
   },
   {
    "duration": 175,
    "start_time": "2022-03-13T06:17:24.967Z"
   },
   {
    "duration": 509,
    "start_time": "2022-03-13T06:17:25.144Z"
   },
   {
    "duration": 9,
    "start_time": "2022-03-13T06:17:25.655Z"
   },
   {
    "duration": 125,
    "start_time": "2022-03-13T06:17:25.665Z"
   },
   {
    "duration": 15,
    "start_time": "2022-03-13T06:17:25.792Z"
   },
   {
    "duration": 179,
    "start_time": "2022-03-13T06:17:25.808Z"
   },
   {
    "duration": 19,
    "start_time": "2022-03-13T06:17:25.989Z"
   },
   {
    "duration": 424,
    "start_time": "2022-03-13T06:17:26.010Z"
   },
   {
    "duration": 468,
    "start_time": "2022-03-13T06:17:26.435Z"
   },
   {
    "duration": 420,
    "start_time": "2022-03-13T06:17:26.904Z"
   },
   {
    "duration": 623,
    "start_time": "2022-03-13T06:17:27.326Z"
   },
   {
    "duration": 475,
    "start_time": "2022-03-13T06:17:27.951Z"
   },
   {
    "duration": 469,
    "start_time": "2022-03-13T06:17:28.427Z"
   },
   {
    "duration": 415,
    "start_time": "2022-03-13T06:17:28.897Z"
   },
   {
    "duration": 21,
    "start_time": "2022-03-13T06:17:29.314Z"
   },
   {
    "duration": 7,
    "start_time": "2022-03-13T06:17:29.337Z"
   },
   {
    "duration": 284,
    "start_time": "2022-03-13T06:17:29.345Z"
   },
   {
    "duration": 10,
    "start_time": "2022-03-13T06:17:29.631Z"
   },
   {
    "duration": 7,
    "start_time": "2022-03-13T06:17:29.642Z"
   },
   {
    "duration": 8,
    "start_time": "2022-03-13T06:17:29.650Z"
   },
   {
    "duration": 6,
    "start_time": "2022-03-13T06:17:29.660Z"
   },
   {
    "duration": 342,
    "start_time": "2022-03-13T06:17:29.668Z"
   },
   {
    "duration": 324,
    "start_time": "2022-03-13T06:17:30.011Z"
   },
   {
    "duration": 295,
    "start_time": "2022-03-13T06:17:30.337Z"
   },
   {
    "duration": 316,
    "start_time": "2022-03-13T06:17:30.633Z"
   },
   {
    "duration": 313,
    "start_time": "2022-03-13T06:17:30.951Z"
   },
   {
    "duration": 578,
    "start_time": "2022-03-13T06:17:42.277Z"
   },
   {
    "duration": 650,
    "start_time": "2022-03-13T06:18:03.315Z"
   },
   {
    "duration": 363,
    "start_time": "2022-03-13T06:18:08.060Z"
   },
   {
    "duration": 597,
    "start_time": "2022-03-13T06:18:10.885Z"
   },
   {
    "duration": 594,
    "start_time": "2022-03-13T06:20:10.573Z"
   },
   {
    "duration": 593,
    "start_time": "2022-03-13T06:20:34.447Z"
   },
   {
    "duration": 9,
    "start_time": "2022-03-13T06:22:08.641Z"
   },
   {
    "duration": 15,
    "start_time": "2022-03-13T06:22:19.002Z"
   },
   {
    "duration": 15,
    "start_time": "2022-03-13T06:22:56.770Z"
   },
   {
    "duration": 15,
    "start_time": "2022-03-13T06:24:41.842Z"
   },
   {
    "duration": 14,
    "start_time": "2022-03-13T06:25:45.606Z"
   },
   {
    "duration": 631,
    "start_time": "2022-03-13T06:25:54.461Z"
   },
   {
    "duration": 3,
    "start_time": "2022-03-13T06:25:55.094Z"
   },
   {
    "duration": 95,
    "start_time": "2022-03-13T06:25:55.101Z"
   },
   {
    "duration": 9,
    "start_time": "2022-03-13T06:25:55.198Z"
   },
   {
    "duration": 24,
    "start_time": "2022-03-13T06:25:55.209Z"
   },
   {
    "duration": 16,
    "start_time": "2022-03-13T06:25:55.235Z"
   },
   {
    "duration": 5,
    "start_time": "2022-03-13T06:25:55.252Z"
   },
   {
    "duration": 7,
    "start_time": "2022-03-13T06:25:55.259Z"
   },
   {
    "duration": 34,
    "start_time": "2022-03-13T06:25:55.268Z"
   },
   {
    "duration": 8,
    "start_time": "2022-03-13T06:25:55.304Z"
   },
   {
    "duration": 7,
    "start_time": "2022-03-13T06:25:55.313Z"
   },
   {
    "duration": 6,
    "start_time": "2022-03-13T06:25:55.322Z"
   },
   {
    "duration": 5,
    "start_time": "2022-03-13T06:25:55.330Z"
   },
   {
    "duration": 66,
    "start_time": "2022-03-13T06:25:55.336Z"
   },
   {
    "duration": 9,
    "start_time": "2022-03-13T06:25:55.403Z"
   },
   {
    "duration": 31,
    "start_time": "2022-03-13T06:25:55.413Z"
   },
   {
    "duration": 14,
    "start_time": "2022-03-13T06:25:55.446Z"
   },
   {
    "duration": 528,
    "start_time": "2022-03-13T06:25:55.462Z"
   },
   {
    "duration": 10,
    "start_time": "2022-03-13T06:25:55.991Z"
   },
   {
    "duration": 19,
    "start_time": "2022-03-13T06:25:56.003Z"
   },
   {
    "duration": 167,
    "start_time": "2022-03-13T06:25:56.024Z"
   },
   {
    "duration": 154,
    "start_time": "2022-03-13T06:25:56.193Z"
   },
   {
    "duration": 7,
    "start_time": "2022-03-13T06:25:56.351Z"
   },
   {
    "duration": 7,
    "start_time": "2022-03-13T06:25:56.360Z"
   },
   {
    "duration": 182,
    "start_time": "2022-03-13T06:25:56.368Z"
   },
   {
    "duration": 134,
    "start_time": "2022-03-13T06:25:56.552Z"
   },
   {
    "duration": 173,
    "start_time": "2022-03-13T06:25:56.688Z"
   },
   {
    "duration": 131,
    "start_time": "2022-03-13T06:25:56.862Z"
   },
   {
    "duration": 11,
    "start_time": "2022-03-13T06:25:56.994Z"
   },
   {
    "duration": 166,
    "start_time": "2022-03-13T06:25:57.007Z"
   },
   {
    "duration": 172,
    "start_time": "2022-03-13T06:25:57.175Z"
   },
   {
    "duration": 129,
    "start_time": "2022-03-13T06:25:57.348Z"
   },
   {
    "duration": 7,
    "start_time": "2022-03-13T06:25:57.479Z"
   },
   {
    "duration": 35,
    "start_time": "2022-03-13T06:25:57.487Z"
   },
   {
    "duration": 36,
    "start_time": "2022-03-13T06:25:57.524Z"
   },
   {
    "duration": 9,
    "start_time": "2022-03-13T06:25:57.562Z"
   },
   {
    "duration": 48,
    "start_time": "2022-03-13T06:25:57.572Z"
   },
   {
    "duration": 162,
    "start_time": "2022-03-13T06:25:57.622Z"
   },
   {
    "duration": 122,
    "start_time": "2022-03-13T06:25:57.786Z"
   },
   {
    "duration": 6,
    "start_time": "2022-03-13T06:25:57.910Z"
   },
   {
    "duration": 171,
    "start_time": "2022-03-13T06:25:57.917Z"
   },
   {
    "duration": 20,
    "start_time": "2022-03-13T06:25:58.090Z"
   },
   {
    "duration": 7,
    "start_time": "2022-03-13T06:25:58.111Z"
   },
   {
    "duration": 174,
    "start_time": "2022-03-13T06:25:58.119Z"
   },
   {
    "duration": 10,
    "start_time": "2022-03-13T06:25:58.295Z"
   },
   {
    "duration": 180,
    "start_time": "2022-03-13T06:25:58.306Z"
   },
   {
    "duration": 14,
    "start_time": "2022-03-13T06:25:58.487Z"
   },
   {
    "duration": 420,
    "start_time": "2022-03-13T06:25:58.503Z"
   },
   {
    "duration": 444,
    "start_time": "2022-03-13T06:25:58.925Z"
   },
   {
    "duration": 441,
    "start_time": "2022-03-13T06:25:59.371Z"
   },
   {
    "duration": 447,
    "start_time": "2022-03-13T06:25:59.814Z"
   },
   {
    "duration": 443,
    "start_time": "2022-03-13T06:26:00.264Z"
   },
   {
    "duration": 430,
    "start_time": "2022-03-13T06:26:00.709Z"
   },
   {
    "duration": 458,
    "start_time": "2022-03-13T06:26:01.141Z"
   },
   {
    "duration": 21,
    "start_time": "2022-03-13T06:26:01.602Z"
   },
   {
    "duration": 9,
    "start_time": "2022-03-13T06:26:01.625Z"
   },
   {
    "duration": 204,
    "start_time": "2022-03-13T06:26:01.635Z"
   },
   {
    "duration": 11,
    "start_time": "2022-03-13T06:26:01.841Z"
   },
   {
    "duration": 8,
    "start_time": "2022-03-13T06:26:01.853Z"
   },
   {
    "duration": 7,
    "start_time": "2022-03-13T06:26:01.863Z"
   },
   {
    "duration": 34,
    "start_time": "2022-03-13T06:26:01.872Z"
   },
   {
    "duration": 313,
    "start_time": "2022-03-13T06:26:01.908Z"
   },
   {
    "duration": 289,
    "start_time": "2022-03-13T06:26:02.222Z"
   },
   {
    "duration": 368,
    "start_time": "2022-03-13T06:26:02.512Z"
   },
   {
    "duration": 327,
    "start_time": "2022-03-13T06:26:02.882Z"
   },
   {
    "duration": 282,
    "start_time": "2022-03-13T06:26:03.211Z"
   },
   {
    "duration": 17,
    "start_time": "2022-03-13T06:28:14.385Z"
   },
   {
    "duration": 33,
    "start_time": "2022-03-13T06:28:29.735Z"
   },
   {
    "duration": 35,
    "start_time": "2022-03-13T06:28:55.785Z"
   },
   {
    "duration": 143,
    "start_time": "2022-03-13T06:29:14.968Z"
   },
   {
    "duration": 409,
    "start_time": "2022-03-13T06:29:26.201Z"
   },
   {
    "duration": 132,
    "start_time": "2022-03-13T06:29:31.047Z"
   },
   {
    "duration": 22,
    "start_time": "2022-03-13T06:29:49.366Z"
   },
   {
    "duration": 16,
    "start_time": "2022-03-13T06:34:18.985Z"
   },
   {
    "duration": 176,
    "start_time": "2022-03-13T06:34:26.550Z"
   },
   {
    "duration": 17,
    "start_time": "2022-03-13T06:36:14.911Z"
   },
   {
    "duration": 171,
    "start_time": "2022-03-13T06:36:27.764Z"
   },
   {
    "duration": 170,
    "start_time": "2022-03-13T06:36:34.089Z"
   },
   {
    "duration": 199,
    "start_time": "2022-03-13T06:36:40.230Z"
   },
   {
    "duration": 170,
    "start_time": "2022-03-13T06:36:47.021Z"
   },
   {
    "duration": 705,
    "start_time": "2022-03-13T06:37:02.394Z"
   },
   {
    "duration": 2100,
    "start_time": "2022-03-13T06:40:07.388Z"
   },
   {
    "duration": 1016,
    "start_time": "2022-03-13T06:40:29.655Z"
   },
   {
    "duration": 647,
    "start_time": "2022-03-13T06:40:46.298Z"
   },
   {
    "duration": 789,
    "start_time": "2022-03-13T06:41:37.850Z"
   },
   {
    "duration": 11,
    "start_time": "2022-03-13T06:43:12.333Z"
   },
   {
    "duration": 9,
    "start_time": "2022-03-13T06:43:16.849Z"
   },
   {
    "duration": 110,
    "start_time": "2022-03-13T06:43:17.750Z"
   },
   {
    "duration": 6,
    "start_time": "2022-03-13T06:43:22.613Z"
   },
   {
    "duration": 172,
    "start_time": "2022-03-13T06:43:24.177Z"
   },
   {
    "duration": 9,
    "start_time": "2022-03-13T06:43:30.745Z"
   },
   {
    "duration": 326,
    "start_time": "2022-03-13T06:43:55.544Z"
   },
   {
    "duration": 246,
    "start_time": "2022-03-13T06:44:22.440Z"
   },
   {
    "duration": 900,
    "start_time": "2022-03-13T06:45:07.059Z"
   },
   {
    "duration": 664,
    "start_time": "2022-03-13T06:48:00.241Z"
   },
   {
    "duration": 644,
    "start_time": "2022-03-13T06:48:14.857Z"
   },
   {
    "duration": 739,
    "start_time": "2022-03-13T06:48:24.619Z"
   },
   {
    "duration": 648,
    "start_time": "2022-03-13T06:48:45.825Z"
   },
   {
    "duration": 738,
    "start_time": "2022-03-13T06:48:52.201Z"
   },
   {
    "duration": 656,
    "start_time": "2022-03-13T06:49:10.839Z"
   },
   {
    "duration": 830,
    "start_time": "2022-03-13T06:50:09.958Z"
   },
   {
    "duration": 713,
    "start_time": "2022-03-13T06:50:30.130Z"
   },
   {
    "duration": 709,
    "start_time": "2022-03-13T06:50:48.423Z"
   },
   {
    "duration": 172,
    "start_time": "2022-03-13T06:51:56.546Z"
   },
   {
    "duration": 174,
    "start_time": "2022-03-13T06:53:06.841Z"
   },
   {
    "duration": 274,
    "start_time": "2022-03-13T06:53:23.047Z"
   },
   {
    "duration": 698,
    "start_time": "2022-03-13T06:53:30.887Z"
   },
   {
    "duration": 2,
    "start_time": "2022-03-13T06:53:31.586Z"
   },
   {
    "duration": 99,
    "start_time": "2022-03-13T06:53:31.590Z"
   },
   {
    "duration": 10,
    "start_time": "2022-03-13T06:53:31.690Z"
   },
   {
    "duration": 22,
    "start_time": "2022-03-13T06:53:31.702Z"
   },
   {
    "duration": 10,
    "start_time": "2022-03-13T06:53:31.725Z"
   },
   {
    "duration": 6,
    "start_time": "2022-03-13T06:53:31.737Z"
   },
   {
    "duration": 7,
    "start_time": "2022-03-13T06:53:31.746Z"
   },
   {
    "duration": 9,
    "start_time": "2022-03-13T06:53:31.756Z"
   },
   {
    "duration": 41,
    "start_time": "2022-03-13T06:53:31.766Z"
   },
   {
    "duration": 8,
    "start_time": "2022-03-13T06:53:31.808Z"
   },
   {
    "duration": 6,
    "start_time": "2022-03-13T06:53:31.817Z"
   },
   {
    "duration": 3,
    "start_time": "2022-03-13T06:53:31.825Z"
   },
   {
    "duration": 46,
    "start_time": "2022-03-13T06:53:31.830Z"
   },
   {
    "duration": 28,
    "start_time": "2022-03-13T06:53:31.878Z"
   },
   {
    "duration": 31,
    "start_time": "2022-03-13T06:53:31.908Z"
   },
   {
    "duration": 15,
    "start_time": "2022-03-13T06:53:31.940Z"
   },
   {
    "duration": 521,
    "start_time": "2022-03-13T06:53:31.956Z"
   },
   {
    "duration": 6,
    "start_time": "2022-03-13T06:53:32.479Z"
   },
   {
    "duration": 31,
    "start_time": "2022-03-13T06:53:32.486Z"
   },
   {
    "duration": 152,
    "start_time": "2022-03-13T06:53:32.519Z"
   },
   {
    "duration": 161,
    "start_time": "2022-03-13T06:53:32.673Z"
   },
   {
    "duration": 6,
    "start_time": "2022-03-13T06:53:32.838Z"
   },
   {
    "duration": 8,
    "start_time": "2022-03-13T06:53:32.846Z"
   },
   {
    "duration": 173,
    "start_time": "2022-03-13T06:53:32.855Z"
   },
   {
    "duration": 136,
    "start_time": "2022-03-13T06:53:33.030Z"
   },
   {
    "duration": 175,
    "start_time": "2022-03-13T06:53:33.168Z"
   },
   {
    "duration": 123,
    "start_time": "2022-03-13T06:53:33.345Z"
   },
   {
    "duration": 6,
    "start_time": "2022-03-13T06:53:33.469Z"
   },
   {
    "duration": 169,
    "start_time": "2022-03-13T06:53:33.476Z"
   },
   {
    "duration": 171,
    "start_time": "2022-03-13T06:53:33.647Z"
   },
   {
    "duration": 132,
    "start_time": "2022-03-13T06:53:33.819Z"
   },
   {
    "duration": 6,
    "start_time": "2022-03-13T06:53:33.952Z"
   },
   {
    "duration": 23,
    "start_time": "2022-03-13T06:53:33.959Z"
   },
   {
    "duration": 48,
    "start_time": "2022-03-13T06:53:33.984Z"
   },
   {
    "duration": 8,
    "start_time": "2022-03-13T06:53:34.034Z"
   },
   {
    "duration": 22,
    "start_time": "2022-03-13T06:53:34.043Z"
   },
   {
    "duration": 176,
    "start_time": "2022-03-13T06:53:34.067Z"
   },
   {
    "duration": 130,
    "start_time": "2022-03-13T06:53:34.244Z"
   },
   {
    "duration": 6,
    "start_time": "2022-03-13T06:53:34.375Z"
   },
   {
    "duration": 169,
    "start_time": "2022-03-13T06:53:34.383Z"
   },
   {
    "duration": 764,
    "start_time": "2022-03-13T06:53:34.553Z"
   },
   {
    "duration": 174,
    "start_time": "2022-03-13T06:53:35.319Z"
   },
   {
    "duration": 123,
    "start_time": "2022-03-13T06:53:35.495Z"
   },
   {
    "duration": 6,
    "start_time": "2022-03-13T06:53:35.620Z"
   },
   {
    "duration": 191,
    "start_time": "2022-03-13T06:53:35.628Z"
   },
   {
    "duration": 8,
    "start_time": "2022-03-13T06:53:35.820Z"
   },
   {
    "duration": 433,
    "start_time": "2022-03-13T06:53:35.830Z"
   },
   {
    "duration": 439,
    "start_time": "2022-03-13T06:53:36.264Z"
   },
   {
    "duration": 597,
    "start_time": "2022-03-13T06:53:36.704Z"
   },
   {
    "duration": 409,
    "start_time": "2022-03-13T06:53:37.303Z"
   },
   {
    "duration": 483,
    "start_time": "2022-03-13T06:53:37.713Z"
   },
   {
    "duration": 406,
    "start_time": "2022-03-13T06:53:38.197Z"
   },
   {
    "duration": 410,
    "start_time": "2022-03-13T06:53:38.604Z"
   },
   {
    "duration": 22,
    "start_time": "2022-03-13T06:53:39.015Z"
   },
   {
    "duration": 7,
    "start_time": "2022-03-13T06:53:39.039Z"
   },
   {
    "duration": 194,
    "start_time": "2022-03-13T06:53:39.047Z"
   },
   {
    "duration": 10,
    "start_time": "2022-03-13T06:53:39.242Z"
   },
   {
    "duration": 7,
    "start_time": "2022-03-13T06:53:39.253Z"
   },
   {
    "duration": 7,
    "start_time": "2022-03-13T06:53:39.261Z"
   },
   {
    "duration": 32,
    "start_time": "2022-03-13T06:53:39.269Z"
   },
   {
    "duration": 285,
    "start_time": "2022-03-13T06:53:39.303Z"
   },
   {
    "duration": 318,
    "start_time": "2022-03-13T06:53:39.589Z"
   },
   {
    "duration": 275,
    "start_time": "2022-03-13T06:53:39.908Z"
   },
   {
    "duration": 308,
    "start_time": "2022-03-13T06:53:40.184Z"
   },
   {
    "duration": 294,
    "start_time": "2022-03-13T06:53:40.494Z"
   },
   {
    "duration": 162,
    "start_time": "2022-03-13T06:54:53.798Z"
   },
   {
    "duration": 971,
    "start_time": "2022-03-13T06:56:30.872Z"
   },
   {
    "duration": 759,
    "start_time": "2022-03-13T06:57:06.349Z"
   },
   {
    "duration": 626,
    "start_time": "2022-03-13T06:57:14.893Z"
   },
   {
    "duration": 9,
    "start_time": "2022-03-13T06:57:46.817Z"
   },
   {
    "duration": 112,
    "start_time": "2022-03-13T06:57:47.677Z"
   },
   {
    "duration": 169,
    "start_time": "2022-03-13T06:57:49.139Z"
   },
   {
    "duration": 236,
    "start_time": "2022-03-13T06:58:14.824Z"
   },
   {
    "duration": 171,
    "start_time": "2022-03-13T07:00:06.359Z"
   },
   {
    "duration": 171,
    "start_time": "2022-03-13T07:00:48.203Z"
   },
   {
    "duration": 7,
    "start_time": "2022-03-13T07:04:09.155Z"
   },
   {
    "duration": 160,
    "start_time": "2022-03-13T07:04:09.923Z"
   },
   {
    "duration": 6,
    "start_time": "2022-03-13T07:04:17.459Z"
   },
   {
    "duration": 124,
    "start_time": "2022-03-13T07:04:34.445Z"
   },
   {
    "duration": 608,
    "start_time": "2022-03-13T07:04:42.145Z"
   },
   {
    "duration": 3,
    "start_time": "2022-03-13T07:04:42.754Z"
   },
   {
    "duration": 81,
    "start_time": "2022-03-13T07:04:42.758Z"
   },
   {
    "duration": 9,
    "start_time": "2022-03-13T07:04:42.841Z"
   },
   {
    "duration": 22,
    "start_time": "2022-03-13T07:04:42.852Z"
   },
   {
    "duration": 11,
    "start_time": "2022-03-13T07:04:42.875Z"
   },
   {
    "duration": 16,
    "start_time": "2022-03-13T07:04:42.887Z"
   },
   {
    "duration": 7,
    "start_time": "2022-03-13T07:04:42.905Z"
   },
   {
    "duration": 7,
    "start_time": "2022-03-13T07:04:42.913Z"
   },
   {
    "duration": 6,
    "start_time": "2022-03-13T07:04:42.922Z"
   },
   {
    "duration": 7,
    "start_time": "2022-03-13T07:04:42.930Z"
   },
   {
    "duration": 8,
    "start_time": "2022-03-13T07:04:42.938Z"
   },
   {
    "duration": 9,
    "start_time": "2022-03-13T07:04:42.947Z"
   },
   {
    "duration": 79,
    "start_time": "2022-03-13T07:04:42.957Z"
   },
   {
    "duration": 8,
    "start_time": "2022-03-13T07:04:43.038Z"
   },
   {
    "duration": 31,
    "start_time": "2022-03-13T07:04:43.047Z"
   },
   {
    "duration": 31,
    "start_time": "2022-03-13T07:04:43.079Z"
   },
   {
    "duration": 529,
    "start_time": "2022-03-13T07:04:43.111Z"
   },
   {
    "duration": 8,
    "start_time": "2022-03-13T07:04:43.641Z"
   },
   {
    "duration": 33,
    "start_time": "2022-03-13T07:04:43.650Z"
   },
   {
    "duration": 165,
    "start_time": "2022-03-13T07:04:43.684Z"
   },
   {
    "duration": 152,
    "start_time": "2022-03-13T07:04:43.850Z"
   },
   {
    "duration": 6,
    "start_time": "2022-03-13T07:04:44.006Z"
   },
   {
    "duration": 23,
    "start_time": "2022-03-13T07:04:44.015Z"
   },
   {
    "duration": 171,
    "start_time": "2022-03-13T07:04:44.040Z"
   },
   {
    "duration": 118,
    "start_time": "2022-03-13T07:04:44.213Z"
   },
   {
    "duration": 183,
    "start_time": "2022-03-13T07:04:44.333Z"
   },
   {
    "duration": 124,
    "start_time": "2022-03-13T07:04:44.518Z"
   },
   {
    "duration": 6,
    "start_time": "2022-03-13T07:04:44.643Z"
   },
   {
    "duration": 171,
    "start_time": "2022-03-13T07:04:44.651Z"
   },
   {
    "duration": 169,
    "start_time": "2022-03-13T07:04:44.823Z"
   },
   {
    "duration": 133,
    "start_time": "2022-03-13T07:04:44.993Z"
   },
   {
    "duration": 6,
    "start_time": "2022-03-13T07:04:45.127Z"
   },
   {
    "duration": 37,
    "start_time": "2022-03-13T07:04:45.135Z"
   },
   {
    "duration": 35,
    "start_time": "2022-03-13T07:04:45.174Z"
   },
   {
    "duration": 8,
    "start_time": "2022-03-13T07:04:45.210Z"
   },
   {
    "duration": 42,
    "start_time": "2022-03-13T07:04:45.219Z"
   },
   {
    "duration": 152,
    "start_time": "2022-03-13T07:04:45.262Z"
   },
   {
    "duration": 123,
    "start_time": "2022-03-13T07:04:45.415Z"
   },
   {
    "duration": 7,
    "start_time": "2022-03-13T07:04:45.540Z"
   },
   {
    "duration": 177,
    "start_time": "2022-03-13T07:04:45.549Z"
   },
   {
    "duration": 689,
    "start_time": "2022-03-13T07:04:45.727Z"
   },
   {
    "duration": 8,
    "start_time": "2022-03-13T07:04:46.417Z"
   },
   {
    "duration": 131,
    "start_time": "2022-03-13T07:04:46.427Z"
   },
   {
    "duration": 176,
    "start_time": "2022-03-13T07:04:46.560Z"
   },
   {
    "duration": 6,
    "start_time": "2022-03-13T07:04:46.738Z"
   },
   {
    "duration": 150,
    "start_time": "2022-03-13T07:04:46.745Z"
   },
   {
    "duration": 10,
    "start_time": "2022-03-13T07:04:46.897Z"
   },
   {
    "duration": 444,
    "start_time": "2022-03-13T07:04:46.909Z"
   },
   {
    "duration": 475,
    "start_time": "2022-03-13T07:04:47.355Z"
   },
   {
    "duration": 609,
    "start_time": "2022-03-13T07:04:47.832Z"
   },
   {
    "duration": 552,
    "start_time": "2022-03-13T07:04:48.442Z"
   },
   {
    "duration": 559,
    "start_time": "2022-03-13T07:04:48.995Z"
   },
   {
    "duration": 442,
    "start_time": "2022-03-13T07:04:49.556Z"
   },
   {
    "duration": 410,
    "start_time": "2022-03-13T07:04:50.001Z"
   },
   {
    "duration": 20,
    "start_time": "2022-03-13T07:04:50.413Z"
   },
   {
    "duration": 7,
    "start_time": "2022-03-13T07:04:50.435Z"
   },
   {
    "duration": 200,
    "start_time": "2022-03-13T07:04:50.443Z"
   },
   {
    "duration": 9,
    "start_time": "2022-03-13T07:04:50.645Z"
   },
   {
    "duration": 6,
    "start_time": "2022-03-13T07:04:50.656Z"
   },
   {
    "duration": 9,
    "start_time": "2022-03-13T07:04:50.664Z"
   },
   {
    "duration": 27,
    "start_time": "2022-03-13T07:04:50.674Z"
   },
   {
    "duration": 284,
    "start_time": "2022-03-13T07:04:50.702Z"
   },
   {
    "duration": 326,
    "start_time": "2022-03-13T07:04:50.988Z"
   },
   {
    "duration": 289,
    "start_time": "2022-03-13T07:04:51.316Z"
   },
   {
    "duration": 295,
    "start_time": "2022-03-13T07:04:51.606Z"
   },
   {
    "duration": 291,
    "start_time": "2022-03-13T07:04:51.902Z"
   },
   {
    "duration": 15,
    "start_time": "2022-03-13T07:10:27.712Z"
   },
   {
    "duration": 16,
    "start_time": "2022-03-13T07:10:38.985Z"
   },
   {
    "duration": 13,
    "start_time": "2022-03-13T07:10:54.247Z"
   },
   {
    "duration": 8184,
    "start_time": "2022-03-13T07:11:13.954Z"
   },
   {
    "duration": 7782,
    "start_time": "2022-03-13T07:11:32.016Z"
   },
   {
    "duration": 450,
    "start_time": "2022-03-13T07:11:51.151Z"
   },
   {
    "duration": 327,
    "start_time": "2022-03-13T07:12:35.709Z"
   },
   {
    "duration": 313,
    "start_time": "2022-03-13T07:12:49.963Z"
   },
   {
    "duration": 329,
    "start_time": "2022-03-13T07:17:56.745Z"
   },
   {
    "duration": 161,
    "start_time": "2022-03-13T07:18:09.089Z"
   },
   {
    "duration": 135,
    "start_time": "2022-03-13T07:18:56.205Z"
   },
   {
    "duration": 155,
    "start_time": "2022-03-13T07:19:34.596Z"
   },
   {
    "duration": 690,
    "start_time": "2022-03-13T07:20:10.869Z"
   },
   {
    "duration": 323,
    "start_time": "2022-03-13T07:20:26.286Z"
   },
   {
    "duration": 154,
    "start_time": "2022-03-13T07:20:31.565Z"
   },
   {
    "duration": 173,
    "start_time": "2022-03-13T07:21:02.135Z"
   },
   {
    "duration": 177,
    "start_time": "2022-03-13T07:21:11.085Z"
   },
   {
    "duration": 175,
    "start_time": "2022-03-13T07:21:15.914Z"
   },
   {
    "duration": 140,
    "start_time": "2022-03-13T07:21:23.359Z"
   },
   {
    "duration": 148,
    "start_time": "2022-03-13T07:21:43.746Z"
   },
   {
    "duration": 172,
    "start_time": "2022-03-13T07:22:40.893Z"
   },
   {
    "duration": 483,
    "start_time": "2022-03-13T07:22:41.643Z"
   },
   {
    "duration": 425,
    "start_time": "2022-03-13T07:22:43.828Z"
   },
   {
    "duration": 156,
    "start_time": "2022-03-13T07:24:16.461Z"
   },
   {
    "duration": 167,
    "start_time": "2022-03-13T07:27:06.971Z"
   },
   {
    "duration": 173,
    "start_time": "2022-03-13T07:27:36.799Z"
   },
   {
    "duration": 145,
    "start_time": "2022-03-13T07:28:49.048Z"
   },
   {
    "duration": 182,
    "start_time": "2022-03-13T07:30:49.892Z"
   },
   {
    "duration": 169,
    "start_time": "2022-03-13T07:31:36.904Z"
   },
   {
    "duration": 671,
    "start_time": "2022-03-13T07:35:36.896Z"
   },
   {
    "duration": 3,
    "start_time": "2022-03-13T07:35:37.569Z"
   },
   {
    "duration": 85,
    "start_time": "2022-03-13T07:35:37.575Z"
   },
   {
    "duration": 10,
    "start_time": "2022-03-13T07:35:37.663Z"
   },
   {
    "duration": 35,
    "start_time": "2022-03-13T07:35:37.675Z"
   },
   {
    "duration": 11,
    "start_time": "2022-03-13T07:35:37.712Z"
   },
   {
    "duration": 5,
    "start_time": "2022-03-13T07:35:37.725Z"
   },
   {
    "duration": 10,
    "start_time": "2022-03-13T07:35:37.731Z"
   },
   {
    "duration": 7,
    "start_time": "2022-03-13T07:35:37.744Z"
   },
   {
    "duration": 7,
    "start_time": "2022-03-13T07:35:37.753Z"
   },
   {
    "duration": 40,
    "start_time": "2022-03-13T07:35:37.761Z"
   },
   {
    "duration": 8,
    "start_time": "2022-03-13T07:35:37.803Z"
   },
   {
    "duration": 5,
    "start_time": "2022-03-13T07:35:37.812Z"
   },
   {
    "duration": 42,
    "start_time": "2022-03-13T07:35:37.819Z"
   },
   {
    "duration": 9,
    "start_time": "2022-03-13T07:35:37.863Z"
   },
   {
    "duration": 56,
    "start_time": "2022-03-13T07:35:37.874Z"
   },
   {
    "duration": 15,
    "start_time": "2022-03-13T07:35:37.932Z"
   },
   {
    "duration": 518,
    "start_time": "2022-03-13T07:35:37.949Z"
   },
   {
    "duration": 6,
    "start_time": "2022-03-13T07:35:38.469Z"
   },
   {
    "duration": 32,
    "start_time": "2022-03-13T07:35:38.477Z"
   },
   {
    "duration": 154,
    "start_time": "2022-03-13T07:35:38.510Z"
   },
   {
    "duration": 159,
    "start_time": "2022-03-13T07:35:38.666Z"
   },
   {
    "duration": 7,
    "start_time": "2022-03-13T07:35:38.827Z"
   },
   {
    "duration": 9,
    "start_time": "2022-03-13T07:35:38.836Z"
   },
   {
    "duration": 182,
    "start_time": "2022-03-13T07:35:38.847Z"
   },
   {
    "duration": 135,
    "start_time": "2022-03-13T07:35:39.031Z"
   },
   {
    "duration": 172,
    "start_time": "2022-03-13T07:35:39.170Z"
   },
   {
    "duration": 124,
    "start_time": "2022-03-13T07:35:39.344Z"
   },
   {
    "duration": 6,
    "start_time": "2022-03-13T07:35:39.470Z"
   },
   {
    "duration": 179,
    "start_time": "2022-03-13T07:35:39.478Z"
   },
   {
    "duration": 182,
    "start_time": "2022-03-13T07:35:39.659Z"
   },
   {
    "duration": 130,
    "start_time": "2022-03-13T07:35:39.842Z"
   },
   {
    "duration": 5,
    "start_time": "2022-03-13T07:35:39.974Z"
   },
   {
    "duration": 31,
    "start_time": "2022-03-13T07:35:39.980Z"
   },
   {
    "duration": 37,
    "start_time": "2022-03-13T07:35:40.012Z"
   },
   {
    "duration": 8,
    "start_time": "2022-03-13T07:35:40.050Z"
   },
   {
    "duration": 49,
    "start_time": "2022-03-13T07:35:40.060Z"
   },
   {
    "duration": 150,
    "start_time": "2022-03-13T07:35:40.111Z"
   },
   {
    "duration": 121,
    "start_time": "2022-03-13T07:35:40.262Z"
   },
   {
    "duration": 6,
    "start_time": "2022-03-13T07:35:40.385Z"
   },
   {
    "duration": 164,
    "start_time": "2022-03-13T07:35:40.401Z"
   },
   {
    "duration": 697,
    "start_time": "2022-03-13T07:35:40.567Z"
   },
   {
    "duration": 8,
    "start_time": "2022-03-13T07:35:41.266Z"
   },
   {
    "duration": 125,
    "start_time": "2022-03-13T07:35:41.276Z"
   },
   {
    "duration": 174,
    "start_time": "2022-03-13T07:35:41.403Z"
   },
   {
    "duration": 7,
    "start_time": "2022-03-13T07:35:41.578Z"
   },
   {
    "duration": 138,
    "start_time": "2022-03-13T07:35:41.587Z"
   },
   {
    "duration": 11,
    "start_time": "2022-03-13T07:35:41.726Z"
   },
   {
    "duration": 175,
    "start_time": "2022-03-13T07:35:41.738Z"
   },
   {
    "duration": 447,
    "start_time": "2022-03-13T07:35:41.914Z"
   },
   {
    "duration": 461,
    "start_time": "2022-03-13T07:35:42.363Z"
   },
   {
    "duration": 143,
    "start_time": "2022-03-13T07:35:42.825Z"
   },
   {
    "duration": 233,
    "start_time": "2022-03-13T07:35:42.969Z"
   },
   {
    "duration": 184,
    "start_time": "2022-03-13T07:35:43.204Z"
   },
   {
    "duration": 172,
    "start_time": "2022-03-13T07:35:43.390Z"
   },
   {
    "duration": 21,
    "start_time": "2022-03-13T07:35:43.564Z"
   },
   {
    "duration": 21,
    "start_time": "2022-03-13T07:35:43.586Z"
   },
   {
    "duration": 193,
    "start_time": "2022-03-13T07:35:43.608Z"
   },
   {
    "duration": 11,
    "start_time": "2022-03-13T07:35:43.802Z"
   },
   {
    "duration": 7,
    "start_time": "2022-03-13T07:35:43.814Z"
   },
   {
    "duration": 5,
    "start_time": "2022-03-13T07:35:43.823Z"
   },
   {
    "duration": 6,
    "start_time": "2022-03-13T07:35:43.829Z"
   },
   {
    "duration": 294,
    "start_time": "2022-03-13T07:35:43.836Z"
   },
   {
    "duration": 278,
    "start_time": "2022-03-13T07:35:44.132Z"
   },
   {
    "duration": 291,
    "start_time": "2022-03-13T07:35:44.412Z"
   },
   {
    "duration": 304,
    "start_time": "2022-03-13T07:35:44.705Z"
   },
   {
    "duration": 336,
    "start_time": "2022-03-13T07:35:45.011Z"
   },
   {
    "duration": 621,
    "start_time": "2022-03-13T07:38:05.163Z"
   },
   {
    "duration": 532,
    "start_time": "2022-03-13T07:38:36.017Z"
   },
   {
    "duration": 490,
    "start_time": "2022-03-13T07:38:49.869Z"
   },
   {
    "duration": 489,
    "start_time": "2022-03-13T07:39:02.257Z"
   },
   {
    "duration": 343,
    "start_time": "2022-03-13T07:39:18.233Z"
   },
   {
    "duration": 177,
    "start_time": "2022-03-13T07:39:55.301Z"
   },
   {
    "duration": 164,
    "start_time": "2022-03-13T07:40:53.622Z"
   },
   {
    "duration": 163,
    "start_time": "2022-03-13T07:40:54.368Z"
   },
   {
    "duration": 161,
    "start_time": "2022-03-13T07:40:55.545Z"
   },
   {
    "duration": 154,
    "start_time": "2022-03-13T07:40:56.327Z"
   },
   {
    "duration": 156,
    "start_time": "2022-03-13T07:41:01.590Z"
   },
   {
    "duration": 167,
    "start_time": "2022-03-13T07:41:38.417Z"
   },
   {
    "duration": 166,
    "start_time": "2022-03-13T07:41:38.853Z"
   },
   {
    "duration": 156,
    "start_time": "2022-03-13T07:41:39.630Z"
   },
   {
    "duration": 151,
    "start_time": "2022-03-13T07:41:40.232Z"
   },
   {
    "duration": 9,
    "start_time": "2022-03-13T07:43:30.791Z"
   },
   {
    "duration": 158,
    "start_time": "2022-03-13T07:44:19.656Z"
   },
   {
    "duration": 156,
    "start_time": "2022-03-13T07:44:37.755Z"
   },
   {
    "duration": 289,
    "start_time": "2022-03-13T07:45:04.757Z"
   },
   {
    "duration": 157,
    "start_time": "2022-03-13T07:46:37.471Z"
   },
   {
    "duration": 373,
    "start_time": "2022-03-13T07:47:10.520Z"
   },
   {
    "duration": 784,
    "start_time": "2022-03-13T07:47:50.154Z"
   },
   {
    "duration": 3,
    "start_time": "2022-03-13T07:47:50.940Z"
   },
   {
    "duration": 125,
    "start_time": "2022-03-13T07:47:50.945Z"
   },
   {
    "duration": 14,
    "start_time": "2022-03-13T07:47:51.072Z"
   },
   {
    "duration": 40,
    "start_time": "2022-03-13T07:47:51.087Z"
   },
   {
    "duration": 13,
    "start_time": "2022-03-13T07:47:51.129Z"
   },
   {
    "duration": 6,
    "start_time": "2022-03-13T07:47:51.144Z"
   },
   {
    "duration": 11,
    "start_time": "2022-03-13T07:47:51.153Z"
   },
   {
    "duration": 8,
    "start_time": "2022-03-13T07:47:51.166Z"
   },
   {
    "duration": 8,
    "start_time": "2022-03-13T07:47:51.202Z"
   },
   {
    "duration": 8,
    "start_time": "2022-03-13T07:47:51.211Z"
   },
   {
    "duration": 7,
    "start_time": "2022-03-13T07:47:51.220Z"
   },
   {
    "duration": 3,
    "start_time": "2022-03-13T07:47:51.229Z"
   },
   {
    "duration": 82,
    "start_time": "2022-03-13T07:47:51.234Z"
   },
   {
    "duration": 8,
    "start_time": "2022-03-13T07:47:51.318Z"
   },
   {
    "duration": 31,
    "start_time": "2022-03-13T07:47:51.328Z"
   },
   {
    "duration": 15,
    "start_time": "2022-03-13T07:47:51.361Z"
   },
   {
    "duration": 537,
    "start_time": "2022-03-13T07:47:51.377Z"
   },
   {
    "duration": 7,
    "start_time": "2022-03-13T07:47:51.916Z"
   },
   {
    "duration": 21,
    "start_time": "2022-03-13T07:47:51.924Z"
   },
   {
    "duration": 171,
    "start_time": "2022-03-13T07:47:51.947Z"
   },
   {
    "duration": 154,
    "start_time": "2022-03-13T07:47:52.119Z"
   },
   {
    "duration": 7,
    "start_time": "2022-03-13T07:47:52.277Z"
   },
   {
    "duration": 19,
    "start_time": "2022-03-13T07:47:52.287Z"
   },
   {
    "duration": 178,
    "start_time": "2022-03-13T07:47:52.308Z"
   },
   {
    "duration": 135,
    "start_time": "2022-03-13T07:47:52.487Z"
   },
   {
    "duration": 180,
    "start_time": "2022-03-13T07:47:52.624Z"
   },
   {
    "duration": 132,
    "start_time": "2022-03-13T07:47:52.806Z"
   },
   {
    "duration": 6,
    "start_time": "2022-03-13T07:47:52.940Z"
   },
   {
    "duration": 169,
    "start_time": "2022-03-13T07:47:52.948Z"
   },
   {
    "duration": 182,
    "start_time": "2022-03-13T07:47:53.119Z"
   },
   {
    "duration": 126,
    "start_time": "2022-03-13T07:47:53.303Z"
   },
   {
    "duration": 6,
    "start_time": "2022-03-13T07:47:53.430Z"
   },
   {
    "duration": 24,
    "start_time": "2022-03-13T07:47:53.438Z"
   },
   {
    "duration": 59,
    "start_time": "2022-03-13T07:47:53.463Z"
   },
   {
    "duration": 10,
    "start_time": "2022-03-13T07:47:53.524Z"
   },
   {
    "duration": 28,
    "start_time": "2022-03-13T07:47:53.535Z"
   },
   {
    "duration": 187,
    "start_time": "2022-03-13T07:47:53.564Z"
   },
   {
    "duration": 126,
    "start_time": "2022-03-13T07:47:53.753Z"
   },
   {
    "duration": 7,
    "start_time": "2022-03-13T07:47:53.880Z"
   },
   {
    "duration": 180,
    "start_time": "2022-03-13T07:47:53.888Z"
   },
   {
    "duration": 701,
    "start_time": "2022-03-13T07:47:54.069Z"
   },
   {
    "duration": 8,
    "start_time": "2022-03-13T07:47:54.771Z"
   },
   {
    "duration": 126,
    "start_time": "2022-03-13T07:47:54.781Z"
   },
   {
    "duration": 174,
    "start_time": "2022-03-13T07:47:54.908Z"
   },
   {
    "duration": 6,
    "start_time": "2022-03-13T07:47:55.083Z"
   },
   {
    "duration": 201,
    "start_time": "2022-03-13T07:47:55.091Z"
   },
   {
    "duration": 16,
    "start_time": "2022-03-13T07:47:55.294Z"
   },
   {
    "duration": 173,
    "start_time": "2022-03-13T07:47:55.312Z"
   },
   {
    "duration": 463,
    "start_time": "2022-03-13T07:47:55.487Z"
   },
   {
    "duration": 471,
    "start_time": "2022-03-13T07:47:55.952Z"
   },
   {
    "duration": 148,
    "start_time": "2022-03-13T07:47:56.425Z"
   },
   {
    "duration": 243,
    "start_time": "2022-03-13T07:47:56.575Z"
   },
   {
    "duration": 197,
    "start_time": "2022-03-13T07:47:56.819Z"
   },
   {
    "duration": 157,
    "start_time": "2022-03-13T07:47:57.017Z"
   },
   {
    "duration": 30,
    "start_time": "2022-03-13T07:47:57.175Z"
   },
   {
    "duration": 8,
    "start_time": "2022-03-13T07:47:57.206Z"
   },
   {
    "duration": 188,
    "start_time": "2022-03-13T07:47:57.215Z"
   },
   {
    "duration": 6,
    "start_time": "2022-03-13T07:47:57.404Z"
   },
   {
    "duration": 168,
    "start_time": "2022-03-13T07:47:57.412Z"
   },
   {
    "duration": 180,
    "start_time": "2022-03-13T07:47:57.581Z"
   },
   {
    "duration": 164,
    "start_time": "2022-03-13T07:47:57.762Z"
   },
   {
    "duration": 159,
    "start_time": "2022-03-13T07:47:57.928Z"
   },
   {
    "duration": 180,
    "start_time": "2022-03-13T07:47:58.089Z"
   },
   {
    "duration": 347,
    "start_time": "2022-03-13T07:47:58.271Z"
   },
   {
    "duration": 154,
    "start_time": "2022-03-13T07:47:58.619Z"
   },
   {
    "duration": 349,
    "start_time": "2022-03-13T07:47:58.774Z"
   },
   {
    "duration": 431,
    "start_time": "2022-03-13T07:47:59.129Z"
   },
   {
    "duration": 121,
    "start_time": "2022-03-13T07:54:24.468Z"
   },
   {
    "duration": 166,
    "start_time": "2022-03-13T07:54:28.088Z"
   },
   {
    "duration": 301,
    "start_time": "2022-03-13T07:55:36.554Z"
   },
   {
    "duration": 146,
    "start_time": "2022-03-13T07:55:39.245Z"
   },
   {
    "duration": 130,
    "start_time": "2022-03-13T07:55:55.377Z"
   },
   {
    "duration": 157,
    "start_time": "2022-03-13T08:07:07.902Z"
   },
   {
    "duration": 177,
    "start_time": "2022-03-13T08:07:26.881Z"
   }
  ],
  "kernelspec": {
   "display_name": "Python 3 (ipykernel)",
   "language": "python",
   "name": "python3"
  },
  "language_info": {
   "codemirror_mode": {
    "name": "ipython",
    "version": 3
   },
   "file_extension": ".py",
   "mimetype": "text/x-python",
   "name": "python",
   "nbconvert_exporter": "python",
   "pygments_lexer": "ipython3",
   "version": "3.9.7"
  },
  "toc": {
   "base_numbering": 1,
   "nav_menu": {},
   "number_sections": false,
   "sideBar": true,
   "skip_h1_title": false,
   "title_cell": "Содержание",
   "title_sidebar": "Contents",
   "toc_cell": true,
   "toc_position": {
    "height": "calc(100% - 180px)",
    "left": "10px",
    "top": "150px",
    "width": "366.594px"
   },
   "toc_section_display": true,
   "toc_window_display": true
  }
 },
 "nbformat": 4,
 "nbformat_minor": 4
}
