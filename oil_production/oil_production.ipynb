{
 "cells": [
  {
   "cell_type": "markdown",
   "id": "0ea6f436",
   "metadata": {
    "toc": true
   },
   "source": [
    "<h1>Содержание<span class=\"tocSkip\"></span></h1>\n",
    "<div class=\"toc\"><ul class=\"toc-item\"><li><span><a href=\"#Загрузка-и-подготовка-данных\" data-toc-modified-id=\"Загрузка-и-подготовка-данных-1\"><span class=\"toc-item-num\">1&nbsp;&nbsp;</span>Загрузка и подготовка данных</a></span></li><li><span><a href=\"#Обучение-и-проверка-модели\" data-toc-modified-id=\"Обучение-и-проверка-модели-2\"><span class=\"toc-item-num\">2&nbsp;&nbsp;</span>Обучение и проверка модели</a></span></li><li><span><a href=\"#Подготовка-к-расчёту-прибыли\" data-toc-modified-id=\"Подготовка-к-расчёту-прибыли-3\"><span class=\"toc-item-num\">3&nbsp;&nbsp;</span>Подготовка к расчёту прибыли</a></span></li><li><span><a href=\"#Расчёт-прибыли-и-рисков\" data-toc-modified-id=\"Расчёт-прибыли-и-рисков-4\"><span class=\"toc-item-num\">4&nbsp;&nbsp;</span>Расчёт прибыли и рисков</a></span></li><li><span><a href=\"#Вывод\" data-toc-modified-id=\"Вывод-5\"><span class=\"toc-item-num\">5&nbsp;&nbsp;</span>Вывод</a></span></li></ul></div>"
   ]
  },
  {
   "cell_type": "markdown",
   "id": "bd7fdb76",
   "metadata": {},
   "source": [
    "# Выбор локации для скважины"
   ]
  },
  {
   "cell_type": "markdown",
   "id": "2723f3e7",
   "metadata": {},
   "source": [
    "Добывающей компании «ГлавРосГосНефть» нужно решить, где бурить новую скважину.\n",
    "Нам предоставлены пробы нефти в трёх регионах: в каждом 10 000 месторождений, где измерили качество нефти и объём её запасов. **Цель проекта - построить модель машинного обучения, которая поможет определить регион, где добыча принесёт наибольшую прибыль.** "
   ]
  },
  {
   "cell_type": "markdown",
   "id": "2836cef6",
   "metadata": {},
   "source": [
    "## Загрузка и подготовка данных"
   ]
  },
  {
   "cell_type": "markdown",
   "id": "7024cc27",
   "metadata": {},
   "source": [
    "Установка библиотеки для исследовательского анализа"
   ]
  },
  {
   "cell_type": "code",
   "execution_count": 4,
   "id": "b9d88bfd",
   "metadata": {},
   "outputs": [
    {
     "name": "stdout",
     "output_type": "stream",
     "text": [
      "Collecting sweetviz\n",
      "  Downloading sweetviz-2.1.3-py3-none-any.whl (15.1 MB)\n",
      "\u001b[K     |████████████████████████████████| 15.1 MB 2.1 MB/s eta 0:00:01\n",
      "\u001b[?25hRequirement already satisfied: numpy>=1.16.0 in /opt/conda/lib/python3.9/site-packages (from sweetviz) (1.21.1)\n",
      "Requirement already satisfied: pandas!=1.0.0,!=1.0.1,!=1.0.2,>=0.25.3 in /opt/conda/lib/python3.9/site-packages (from sweetviz) (1.2.4)\n",
      "Requirement already satisfied: scipy>=1.3.2 in /opt/conda/lib/python3.9/site-packages (from sweetviz) (1.8.0)\n",
      "Requirement already satisfied: matplotlib>=3.1.3 in /opt/conda/lib/python3.9/site-packages (from sweetviz) (3.3.4)\n",
      "Requirement already satisfied: tqdm>=4.43.0 in /opt/conda/lib/python3.9/site-packages (from sweetviz) (4.61.2)\n",
      "Collecting importlib-resources>=1.2.0\n",
      "  Downloading importlib_resources-5.7.1-py3-none-any.whl (28 kB)\n",
      "Requirement already satisfied: jinja2>=2.11.1 in /opt/conda/lib/python3.9/site-packages (from sweetviz) (3.0.1)\n",
      "Requirement already satisfied: zipp>=3.1.0 in /opt/conda/lib/python3.9/site-packages (from importlib-resources>=1.2.0->sweetviz) (3.5.0)\n",
      "Requirement already satisfied: MarkupSafe>=2.0 in /opt/conda/lib/python3.9/site-packages (from jinja2>=2.11.1->sweetviz) (2.0.1)\n",
      "Requirement already satisfied: python-dateutil>=2.1 in /opt/conda/lib/python3.9/site-packages (from matplotlib>=3.1.3->sweetviz) (2.8.1)\n",
      "Requirement already satisfied: pillow>=6.2.0 in /opt/conda/lib/python3.9/site-packages (from matplotlib>=3.1.3->sweetviz) (8.4.0)\n",
      "Requirement already satisfied: cycler>=0.10 in /opt/conda/lib/python3.9/site-packages (from matplotlib>=3.1.3->sweetviz) (0.11.0)\n",
      "Requirement already satisfied: kiwisolver>=1.0.1 in /opt/conda/lib/python3.9/site-packages (from matplotlib>=3.1.3->sweetviz) (1.4.0)\n",
      "Requirement already satisfied: pyparsing!=2.0.4,!=2.1.2,!=2.1.6,>=2.0.3 in /opt/conda/lib/python3.9/site-packages (from matplotlib>=3.1.3->sweetviz) (2.4.7)\n",
      "Requirement already satisfied: pytz>=2017.3 in /opt/conda/lib/python3.9/site-packages (from pandas!=1.0.0,!=1.0.1,!=1.0.2,>=0.25.3->sweetviz) (2021.1)\n",
      "Requirement already satisfied: six>=1.5 in /opt/conda/lib/python3.9/site-packages (from python-dateutil>=2.1->matplotlib>=3.1.3->sweetviz) (1.16.0)\n",
      "Installing collected packages: importlib-resources, sweetviz\n",
      "Successfully installed importlib-resources-5.7.1 sweetviz-2.1.3\n",
      "Note: you may need to restart the kernel to use updated packages.\n"
     ]
    }
   ],
   "source": [
    "pip install sweetviz"
   ]
  },
  {
   "cell_type": "code",
   "execution_count": 5,
   "id": "bfcc4399",
   "metadata": {},
   "outputs": [],
   "source": [
    "# импорт всех библиотек и инструментов\n",
    "import pandas as pd\n",
    "import matplotlib.pyplot as plt\n",
    "import sweetviz as sv\n",
    "from sklearn.model_selection import train_test_split\n",
    "from sklearn.linear_model import LinearRegression\n",
    "from sklearn.metrics import mean_squared_error\n",
    "import numpy as np"
   ]
  },
  {
   "cell_type": "code",
   "execution_count": 10,
   "id": "e2064132",
   "metadata": {},
   "outputs": [],
   "source": [
    "df_0 = pd.read_csv('/datasets/geo_data_0.csv')\n",
    "df_1 = pd.read_csv('/datasets/geo_data_1.csv')\n",
    "df_2 = pd.read_csv('/datasets/geo_data_2.csv')"
   ]
  },
  {
   "cell_type": "markdown",
   "id": "aeb155fc",
   "metadata": {},
   "source": [
    "Создадим список с датафреймами для последующей работы в циклах и выведем на экран первые строки таблиц."
   ]
  },
  {
   "cell_type": "code",
   "execution_count": 11,
   "id": "73d2a512",
   "metadata": {},
   "outputs": [],
   "source": [
    "datas = [df_0, df_1, df_2]"
   ]
  },
  {
   "cell_type": "code",
   "execution_count": 12,
   "id": "c178e6e1",
   "metadata": {},
   "outputs": [
    {
     "data": {
      "text/html": [
       "<div>\n",
       "<style scoped>\n",
       "    .dataframe tbody tr th:only-of-type {\n",
       "        vertical-align: middle;\n",
       "    }\n",
       "\n",
       "    .dataframe tbody tr th {\n",
       "        vertical-align: top;\n",
       "    }\n",
       "\n",
       "    .dataframe thead th {\n",
       "        text-align: right;\n",
       "    }\n",
       "</style>\n",
       "<table border=\"1\" class=\"dataframe\">\n",
       "  <thead>\n",
       "    <tr style=\"text-align: right;\">\n",
       "      <th></th>\n",
       "      <th>id</th>\n",
       "      <th>f0</th>\n",
       "      <th>f1</th>\n",
       "      <th>f2</th>\n",
       "      <th>product</th>\n",
       "    </tr>\n",
       "  </thead>\n",
       "  <tbody>\n",
       "    <tr>\n",
       "      <th>0</th>\n",
       "      <td>txEyH</td>\n",
       "      <td>0.705745</td>\n",
       "      <td>-0.497823</td>\n",
       "      <td>1.221170</td>\n",
       "      <td>105.280062</td>\n",
       "    </tr>\n",
       "    <tr>\n",
       "      <th>1</th>\n",
       "      <td>2acmU</td>\n",
       "      <td>1.334711</td>\n",
       "      <td>-0.340164</td>\n",
       "      <td>4.365080</td>\n",
       "      <td>73.037750</td>\n",
       "    </tr>\n",
       "    <tr>\n",
       "      <th>2</th>\n",
       "      <td>409Wp</td>\n",
       "      <td>1.022732</td>\n",
       "      <td>0.151990</td>\n",
       "      <td>1.419926</td>\n",
       "      <td>85.265647</td>\n",
       "    </tr>\n",
       "    <tr>\n",
       "      <th>3</th>\n",
       "      <td>iJLyR</td>\n",
       "      <td>-0.032172</td>\n",
       "      <td>0.139033</td>\n",
       "      <td>2.978566</td>\n",
       "      <td>168.620776</td>\n",
       "    </tr>\n",
       "    <tr>\n",
       "      <th>4</th>\n",
       "      <td>Xdl7t</td>\n",
       "      <td>1.988431</td>\n",
       "      <td>0.155413</td>\n",
       "      <td>4.751769</td>\n",
       "      <td>154.036647</td>\n",
       "    </tr>\n",
       "  </tbody>\n",
       "</table>\n",
       "</div>"
      ],
      "text/plain": [
       "      id        f0        f1        f2     product\n",
       "0  txEyH  0.705745 -0.497823  1.221170  105.280062\n",
       "1  2acmU  1.334711 -0.340164  4.365080   73.037750\n",
       "2  409Wp  1.022732  0.151990  1.419926   85.265647\n",
       "3  iJLyR -0.032172  0.139033  2.978566  168.620776\n",
       "4  Xdl7t  1.988431  0.155413  4.751769  154.036647"
      ]
     },
     "metadata": {},
     "output_type": "display_data"
    },
    {
     "data": {
      "text/html": [
       "<div>\n",
       "<style scoped>\n",
       "    .dataframe tbody tr th:only-of-type {\n",
       "        vertical-align: middle;\n",
       "    }\n",
       "\n",
       "    .dataframe tbody tr th {\n",
       "        vertical-align: top;\n",
       "    }\n",
       "\n",
       "    .dataframe thead th {\n",
       "        text-align: right;\n",
       "    }\n",
       "</style>\n",
       "<table border=\"1\" class=\"dataframe\">\n",
       "  <thead>\n",
       "    <tr style=\"text-align: right;\">\n",
       "      <th></th>\n",
       "      <th>id</th>\n",
       "      <th>f0</th>\n",
       "      <th>f1</th>\n",
       "      <th>f2</th>\n",
       "      <th>product</th>\n",
       "    </tr>\n",
       "  </thead>\n",
       "  <tbody>\n",
       "    <tr>\n",
       "      <th>0</th>\n",
       "      <td>kBEdx</td>\n",
       "      <td>-15.001348</td>\n",
       "      <td>-8.276000</td>\n",
       "      <td>-0.005876</td>\n",
       "      <td>3.179103</td>\n",
       "    </tr>\n",
       "    <tr>\n",
       "      <th>1</th>\n",
       "      <td>62mP7</td>\n",
       "      <td>14.272088</td>\n",
       "      <td>-3.475083</td>\n",
       "      <td>0.999183</td>\n",
       "      <td>26.953261</td>\n",
       "    </tr>\n",
       "    <tr>\n",
       "      <th>2</th>\n",
       "      <td>vyE1P</td>\n",
       "      <td>6.263187</td>\n",
       "      <td>-5.948386</td>\n",
       "      <td>5.001160</td>\n",
       "      <td>134.766305</td>\n",
       "    </tr>\n",
       "    <tr>\n",
       "      <th>3</th>\n",
       "      <td>KcrkZ</td>\n",
       "      <td>-13.081196</td>\n",
       "      <td>-11.506057</td>\n",
       "      <td>4.999415</td>\n",
       "      <td>137.945408</td>\n",
       "    </tr>\n",
       "    <tr>\n",
       "      <th>4</th>\n",
       "      <td>AHL4O</td>\n",
       "      <td>12.702195</td>\n",
       "      <td>-8.147433</td>\n",
       "      <td>5.004363</td>\n",
       "      <td>134.766305</td>\n",
       "    </tr>\n",
       "  </tbody>\n",
       "</table>\n",
       "</div>"
      ],
      "text/plain": [
       "      id         f0         f1        f2     product\n",
       "0  kBEdx -15.001348  -8.276000 -0.005876    3.179103\n",
       "1  62mP7  14.272088  -3.475083  0.999183   26.953261\n",
       "2  vyE1P   6.263187  -5.948386  5.001160  134.766305\n",
       "3  KcrkZ -13.081196 -11.506057  4.999415  137.945408\n",
       "4  AHL4O  12.702195  -8.147433  5.004363  134.766305"
      ]
     },
     "metadata": {},
     "output_type": "display_data"
    },
    {
     "data": {
      "text/html": [
       "<div>\n",
       "<style scoped>\n",
       "    .dataframe tbody tr th:only-of-type {\n",
       "        vertical-align: middle;\n",
       "    }\n",
       "\n",
       "    .dataframe tbody tr th {\n",
       "        vertical-align: top;\n",
       "    }\n",
       "\n",
       "    .dataframe thead th {\n",
       "        text-align: right;\n",
       "    }\n",
       "</style>\n",
       "<table border=\"1\" class=\"dataframe\">\n",
       "  <thead>\n",
       "    <tr style=\"text-align: right;\">\n",
       "      <th></th>\n",
       "      <th>id</th>\n",
       "      <th>f0</th>\n",
       "      <th>f1</th>\n",
       "      <th>f2</th>\n",
       "      <th>product</th>\n",
       "    </tr>\n",
       "  </thead>\n",
       "  <tbody>\n",
       "    <tr>\n",
       "      <th>0</th>\n",
       "      <td>fwXo0</td>\n",
       "      <td>-1.146987</td>\n",
       "      <td>0.963328</td>\n",
       "      <td>-0.828965</td>\n",
       "      <td>27.758673</td>\n",
       "    </tr>\n",
       "    <tr>\n",
       "      <th>1</th>\n",
       "      <td>WJtFt</td>\n",
       "      <td>0.262778</td>\n",
       "      <td>0.269839</td>\n",
       "      <td>-2.530187</td>\n",
       "      <td>56.069697</td>\n",
       "    </tr>\n",
       "    <tr>\n",
       "      <th>2</th>\n",
       "      <td>ovLUW</td>\n",
       "      <td>0.194587</td>\n",
       "      <td>0.289035</td>\n",
       "      <td>-5.586433</td>\n",
       "      <td>62.871910</td>\n",
       "    </tr>\n",
       "    <tr>\n",
       "      <th>3</th>\n",
       "      <td>q6cA6</td>\n",
       "      <td>2.236060</td>\n",
       "      <td>-0.553760</td>\n",
       "      <td>0.930038</td>\n",
       "      <td>114.572842</td>\n",
       "    </tr>\n",
       "    <tr>\n",
       "      <th>4</th>\n",
       "      <td>WPMUX</td>\n",
       "      <td>-0.515993</td>\n",
       "      <td>1.716266</td>\n",
       "      <td>5.899011</td>\n",
       "      <td>149.600746</td>\n",
       "    </tr>\n",
       "  </tbody>\n",
       "</table>\n",
       "</div>"
      ],
      "text/plain": [
       "      id        f0        f1        f2     product\n",
       "0  fwXo0 -1.146987  0.963328 -0.828965   27.758673\n",
       "1  WJtFt  0.262778  0.269839 -2.530187   56.069697\n",
       "2  ovLUW  0.194587  0.289035 -5.586433   62.871910\n",
       "3  q6cA6  2.236060 -0.553760  0.930038  114.572842\n",
       "4  WPMUX -0.515993  1.716266  5.899011  149.600746"
      ]
     },
     "metadata": {},
     "output_type": "display_data"
    }
   ],
   "source": [
    "for i in datas:\n",
    "    display(i.head())"
   ]
  },
  {
   "cell_type": "markdown",
   "id": "d9775b81",
   "metadata": {},
   "source": [
    "При помощи библиотеки `sweetviz` (установлена вручную вначале документа) проведем исследовательский анализ и выведем три отчета для каждого датафрейма."
   ]
  },
  {
   "cell_type": "code",
   "execution_count": 13,
   "id": "535efb1a",
   "metadata": {},
   "outputs": [
    {
     "data": {
      "application/vnd.jupyter.widget-view+json": {
       "model_id": "88be1342a9054b42a75c84bdc86187b5",
       "version_major": 2,
       "version_minor": 0
      },
      "text/plain": [
       "                                             |          | [  0%]   00:00 -> (? left)"
      ]
     },
     "metadata": {},
     "output_type": "display_data"
    },
    {
     "name": "stdout",
     "output_type": "stream",
     "text": [
      "Report SWEETVIZ_REPORT.html was generated! NOTEBOOK/COLAB USERS: the web browser MAY not pop up, regardless, the report IS saved in your notebook/colab files.\n"
     ]
    },
    {
     "data": {
      "application/vnd.jupyter.widget-view+json": {
       "model_id": "d6dd1dfa76864d8dbe10db606b7cfb3f",
       "version_major": 2,
       "version_minor": 0
      },
      "text/plain": [
       "                                             |          | [  0%]   00:00 -> (? left)"
      ]
     },
     "metadata": {},
     "output_type": "display_data"
    },
    {
     "name": "stdout",
     "output_type": "stream",
     "text": [
      "Report SWEETVIZ_REPORT.html was generated! NOTEBOOK/COLAB USERS: the web browser MAY not pop up, regardless, the report IS saved in your notebook/colab files.\n"
     ]
    },
    {
     "data": {
      "application/vnd.jupyter.widget-view+json": {
       "model_id": "b08129a240ff4df9af527796fc31fafc",
       "version_major": 2,
       "version_minor": 0
      },
      "text/plain": [
       "                                             |          | [  0%]   00:00 -> (? left)"
      ]
     },
     "metadata": {},
     "output_type": "display_data"
    },
    {
     "name": "stdout",
     "output_type": "stream",
     "text": [
      "Report SWEETVIZ_REPORT.html was generated! NOTEBOOK/COLAB USERS: the web browser MAY not pop up, regardless, the report IS saved in your notebook/colab files.\n"
     ]
    }
   ],
   "source": [
    "for i in datas:\n",
    "    report = sv.analyze(i)\n",
    "    report.show_html()"
   ]
  },
  {
   "cell_type": "markdown",
   "id": "29c1c461",
   "metadata": {},
   "source": [
    "**ВЫВОД**\n",
    "\n",
    "Пропущенных значений нет, дубликатов нет. Все данные относительно однородны. Можно приступать к обучению моделей."
   ]
  },
  {
   "cell_type": "markdown",
   "id": "a06b74ec",
   "metadata": {},
   "source": [
    "## Обучение и проверка модели"
   ]
  },
  {
   "cell_type": "markdown",
   "id": "9de0e6a0",
   "metadata": {},
   "source": [
    "Чтобы не дублировать код для каждого региона, воспользуемся списком Датафреймов и в цикле выведем для каждого региона средний запас предсказанного сырья, а также RMSE модели."
   ]
  },
  {
   "cell_type": "code",
   "execution_count": 14,
   "id": "1a26de1f",
   "metadata": {},
   "outputs": [
    {
     "name": "stdout",
     "output_type": "stream",
     "text": [
      "Средний запас предсказанного сырья в регионе № 1 : 92.593 \n",
      "RMSE модели на валидационной выборке: 37.579 \n",
      "\n",
      "Средний запас предсказанного сырья в регионе № 2 : 68.729 \n",
      "RMSE модели на валидационной выборке: 0.893 \n",
      "\n",
      "Средний запас предсказанного сырья в регионе № 3 : 94.965 \n",
      "RMSE модели на валидационной выборке: 40.03 \n",
      "\n"
     ]
    }
   ],
   "source": [
    "for index, i in enumerate(datas):\n",
    "    features = i.drop(['id', 'product'], axis=1) # в признаки выделяем столбцы 'f0', 'f1', 'f2'\n",
    "    target = i['product'] # в целевой признак выделяем столбец 'product'\n",
    "    \n",
    "    # отделяем 25% данных для валидационной выборки\n",
    "    features_train, features_valid, target_train, target_valid = train_test_split(\n",
    "        features, target, test_size=0.25, random_state=12345)\n",
    "\n",
    "    model = LinearRegression() # создаем модель линенйной регрессии\n",
    "    model.fit(features_train, target_train) # обучаем модель\n",
    "    predictions = model.predict(features_valid) # предсказания\n",
    "    answers = target_valid # правильные ответы\n",
    "    rmse = mean_squared_error(answers, predictions) ** 0.5 # расчитываем rmse\n",
    "    print('Средний запас предсказанного сырья в регионе №', index+1, ':', predictions.mean().round(3), \n",
    "            '\\nRMSE модели на валидационной выборке:', rmse.round(3),\n",
    "          '\\n')"
   ]
  },
  {
   "cell_type": "markdown",
   "id": "f1a5eca3",
   "metadata": {},
   "source": [
    "**ВЫВОД**\n",
    "\n",
    "- Средние запасы в первом и третьем регионах почти совпадают и составляют 92,5 и 95 тыс. баррелей соотвественно.\n",
    "- Значения RMSE моделей в этих регионах также похожи 37,5 и 40 тыс. баррелей. Это говорит о том, что разброс запасов в этих регионах достаточно большой. То есть с одной скважины можно получить как 50 тыс., так и 130 тыс. баррелей нефти.\n",
    "- Во втором регионе средний запас предсказанного сырья значительно меньше, чем в других регионах. Однако, RMSE близко к 0, то есть все скважины имеют достаточно стабильный запас."
   ]
  },
  {
   "cell_type": "markdown",
   "id": "74c8224a",
   "metadata": {},
   "source": [
    "## Подготовка к расчёту прибыли"
   ]
  },
  {
   "cell_type": "markdown",
   "id": "51c4e227",
   "metadata": {},
   "source": [
    "Для подсчёта необходимого объёма сырья для безубыточности разделим бюджет на количество разрабатываемых скважин и на доход с одной скважины."
   ]
  },
  {
   "cell_type": "code",
   "execution_count": 20,
   "id": "525dbdee",
   "metadata": {},
   "outputs": [
    {
     "name": "stdout",
     "output_type": "stream",
     "text": [
      "Объём сырья с одной скважины для безубыточности: 111.11 тыс. баррелей\n"
     ]
    }
   ],
   "source": [
    "BUDGET = 10**10\n",
    "INCOME_PER_ONE = 450*(10**3)\n",
    "AMOUNT = 200\n",
    "VOLUME_PER_ONE = BUDGET/AMOUNT/INCOME_PER_ONE\n",
    "\n",
    "print('Объём сырья с одной скважины для безубыточности:', round(VOLUME_PER_ONE, 2), 'тыс. баррелей')"
   ]
  },
  {
   "cell_type": "markdown",
   "id": "39fdf6fe",
   "metadata": {},
   "source": [
    "**ВЫВОД:**\n",
    "- Во всех регионах предсказанные средние запасы одной скважины меньше, чем необходимое количество для безубыточности.\n",
    "- Если учитывать разброс, то такие объемы скважин могут быть в первом и третьем регионах.\n",
    "- Во втором регионе среднее значение предсказанных запасов в 1,5 раза меньше необходимого."
   ]
  },
  {
   "cell_type": "markdown",
   "id": "8ecd55ec",
   "metadata": {},
   "source": [
    "## Расчёт прибыли и рисков "
   ]
  },
  {
   "cell_type": "markdown",
   "id": "df5933e2",
   "metadata": {},
   "source": [
    "Напишем функцию для определения прибыли, которая на вход получает предсказания модели, правильные ответы, а также количество скважин, которые будут разрабатываться. Возвращает функция прибыль, учитывая заложенный расход на разработку месторождения. Далее при помощи этой функции и техники `Bootstrap` расчитаем среднюю прибыль и риски для каждого региона."
   ]
  },
  {
   "cell_type": "code",
   "execution_count": 21,
   "id": "eea10b9e",
   "metadata": {},
   "outputs": [],
   "source": [
    "def profit(target, predictions, count):\n",
    "    pred_sorted = predictions.sort_values(ascending=False) # сортируем предсказания по убыванию\n",
    "    selected = target[pred_sorted.index][:count] # выбираем правильные ответы, соответствующие максимальным предсказаниям\n",
    "    profit = income_per_one * selected.sum()- BUDGET \n",
    "    return profit"
   ]
  },
  {
   "cell_type": "markdown",
   "id": "26a1e277",
   "metadata": {},
   "source": [
    "Так как во втором пункте мы не выделяли в отдельные переменные предсказания и правильные ответы для каждого региона, воспользуемся тем же кодом, но добавим к нему расчёт средней прибыли и 95%-го доверительного интервала для каждого региона."
   ]
  },
  {
   "cell_type": "code",
   "execution_count": 33,
   "id": "e7799593",
   "metadata": {},
   "outputs": [
    {
     "name": "stdout",
     "output_type": "stream",
     "text": [
      "Средняя прибыль в регионе № 1 : 425938527 \n",
      "95%-ый доверительный интервал прибыли: ( -102090095 ; 947976353 ) \n",
      "Риск убытков: 6.0% \n",
      "\n",
      "Средняя прибыль в регионе № 2 : 518259494 \n",
      "95%-ый доверительный интервал прибыли: ( 128123231 ; 953612982 ) \n",
      "Риск убытков: 0.3% \n",
      "\n",
      "Средняя прибыль в регионе № 3 : 420194005 \n",
      "95%-ый доверительный интервал прибыли: ( -115852609 ; 989629940 ) \n",
      "Риск убытков: 6.2% \n",
      "\n"
     ]
    }
   ],
   "source": [
    "state = np.random.RandomState(12345)\n",
    "\n",
    "for index, i in enumerate(datas):\n",
    "    features = i.drop(['id', 'product'], axis=1)\n",
    "    target = i['product']\n",
    "    # отделяем 25% данных для валидационной выборки\n",
    "    features_train, features_valid, target_train, target_valid = train_test_split(\n",
    "        features, target, test_size=0.25, random_state=12345)\n",
    "    \n",
    "    # сбрасываем индексы валидационной выборки для нужной размерности\n",
    "    target_valid = target_valid.reset_index(drop=True)\n",
    "    features_valid = features_valid.reset_index(drop=True)\n",
    "\n",
    "    model = LinearRegression()\n",
    "    model.fit(features_train, target_train)\n",
    "    predictions = model.predict(features_valid)\n",
    "    \n",
    "    predictions = pd.Series(predictions) # преобразовываем массив в Series\n",
    "\n",
    "    values = [] # создаем пустой список, куда занесем значения прибыли\n",
    "    \n",
    "    # применяем технику Bootstrap с 1000 выборок, чтобы найти распределение прибыли\n",
    "    for i in range(1000):\n",
    "        target_subsample = target_valid.sample(500, replace=True, random_state=state) \n",
    "        pred_subsample = predictions[target_subsample.index]\n",
    "        values.append(profit(target_subsample, pred_subsample, AMOUNT))\n",
    "\n",
    "    values = pd.Series(values) # преобразовываем массив в Series\n",
    "    \n",
    "    mean = values.mean() # находим среднее значение для всех средних\n",
    "    lower = values.quantile(q=0.025) # находим 2,5%-ый квантиль\n",
    "    upper = values.quantile(q=0.975) # находим 97,5%-ый квантиль\n",
    "    loss = (values < 0).sum()/len(values) # находим риск убытка как отношение количества значений с отрицательной прибыли на все значения\n",
    "    \n",
    "    print('Средняя прибыль в регионе №', index+1, ':', round(mean),\n",
    "          '\\n95%-ый доверительный интервал прибыли:', '(', round(lower), ';', round(upper),')', \n",
    "          '\\n'f'Риск убытков: {loss:.1%}',\n",
    "         '\\n')"
   ]
  },
  {
   "cell_type": "markdown",
   "id": "42d4ea20",
   "metadata": {},
   "source": [
    "## Вывод"
   ]
  },
  {
   "cell_type": "markdown",
   "id": "8f8e1aa3",
   "metadata": {},
   "source": [
    "- Средняя прибыль в первом и третьем регионах почти одинаковая около 420 млн руб. А во втором регионе средняя прибыль значительно выше и составляет 518 млн руб.\n",
    "- Риск получить убытки в первом и в первом и третьем регионах около 6%. Для второго региона риск убытков всего 0.3%. \n",
    "- Для разработки скважин рекомендовано выбрать регион №2. Предсказанная суммарная средняя прибыль со всех скважин значительно больше, чем в других регионах. А вероятность рисков убытка меньше 2,5%."
   ]
  }
 ],
 "metadata": {
  "ExecuteTimeLog": [
   {
    "duration": 113,
    "start_time": "2022-05-11T21:31:05.535Z"
   },
   {
    "duration": 79,
    "start_time": "2022-05-12T05:31:02.885Z"
   },
   {
    "duration": 88,
    "start_time": "2022-05-12T05:31:08.801Z"
   },
   {
    "duration": 69,
    "start_time": "2022-05-12T05:31:13.910Z"
   },
   {
    "duration": 66,
    "start_time": "2022-05-12T05:31:23.944Z"
   },
   {
    "duration": 66,
    "start_time": "2022-05-12T05:31:35.854Z"
   },
   {
    "duration": 66,
    "start_time": "2022-05-12T05:31:41.516Z"
   },
   {
    "duration": 217,
    "start_time": "2022-05-12T05:32:04.932Z"
   },
   {
    "duration": 67,
    "start_time": "2022-05-12T05:33:46.211Z"
   },
   {
    "duration": 63,
    "start_time": "2022-05-12T05:33:50.242Z"
   },
   {
    "duration": 69,
    "start_time": "2022-05-12T05:34:54.905Z"
   },
   {
    "duration": 69,
    "start_time": "2022-05-12T05:35:00.810Z"
   },
   {
    "duration": 197,
    "start_time": "2022-05-12T05:35:06.008Z"
   },
   {
    "duration": 73,
    "start_time": "2022-05-12T05:36:06.219Z"
   },
   {
    "duration": 0,
    "start_time": "2022-05-12T05:36:06.294Z"
   },
   {
    "duration": 0,
    "start_time": "2022-05-12T05:36:06.295Z"
   },
   {
    "duration": 0,
    "start_time": "2022-05-12T05:36:06.297Z"
   },
   {
    "duration": 0,
    "start_time": "2022-05-12T05:36:06.298Z"
   },
   {
    "duration": 0,
    "start_time": "2022-05-12T05:36:06.300Z"
   },
   {
    "duration": 0,
    "start_time": "2022-05-12T05:36:06.301Z"
   },
   {
    "duration": 0,
    "start_time": "2022-05-12T05:36:06.303Z"
   },
   {
    "duration": 0,
    "start_time": "2022-05-12T05:36:06.304Z"
   },
   {
    "duration": 0,
    "start_time": "2022-05-12T05:36:06.306Z"
   },
   {
    "duration": 0,
    "start_time": "2022-05-12T05:36:06.307Z"
   },
   {
    "duration": 0,
    "start_time": "2022-05-12T05:36:06.309Z"
   },
   {
    "duration": 75,
    "start_time": "2022-05-12T05:36:17.734Z"
   },
   {
    "duration": 68,
    "start_time": "2022-05-12T05:36:22.417Z"
   },
   {
    "duration": 5075,
    "start_time": "2022-05-12T05:36:24.228Z"
   },
   {
    "duration": 1573,
    "start_time": "2022-05-12T05:36:29.306Z"
   },
   {
    "duration": 76,
    "start_time": "2022-05-12T05:36:30.881Z"
   },
   {
    "duration": 0,
    "start_time": "2022-05-12T05:36:30.959Z"
   },
   {
    "duration": 0,
    "start_time": "2022-05-12T05:36:30.960Z"
   },
   {
    "duration": 0,
    "start_time": "2022-05-12T05:36:30.961Z"
   },
   {
    "duration": 0,
    "start_time": "2022-05-12T05:36:30.962Z"
   },
   {
    "duration": 0,
    "start_time": "2022-05-12T05:36:30.963Z"
   },
   {
    "duration": 0,
    "start_time": "2022-05-12T05:36:30.964Z"
   },
   {
    "duration": 4,
    "start_time": "2022-05-12T05:36:32.145Z"
   },
   {
    "duration": 119,
    "start_time": "2022-05-12T05:36:33.131Z"
   },
   {
    "duration": 9,
    "start_time": "2022-05-12T05:36:54.552Z"
   },
   {
    "duration": 350,
    "start_time": "2022-05-12T05:36:59.814Z"
   },
   {
    "duration": 3,
    "start_time": "2022-05-12T05:37:01.838Z"
   },
   {
    "duration": 25,
    "start_time": "2022-05-12T05:37:02.653Z"
   },
   {
    "duration": 12188,
    "start_time": "2022-05-12T05:37:04.062Z"
   },
   {
    "duration": 374,
    "start_time": "2022-05-12T05:37:20.940Z"
   },
   {
    "duration": 4,
    "start_time": "2022-05-12T05:37:24.032Z"
   },
   {
    "duration": 3,
    "start_time": "2022-05-12T05:37:27.276Z"
   },
   {
    "duration": 4623,
    "start_time": "2022-05-12T05:37:29.640Z"
   },
   {
    "duration": 5,
    "start_time": "2022-05-12T05:38:16.833Z"
   },
   {
    "duration": 4817,
    "start_time": "2022-05-12T05:38:18.572Z"
   },
   {
    "duration": 4,
    "start_time": "2022-05-12T05:41:27.051Z"
   },
   {
    "duration": 4,
    "start_time": "2022-05-12T05:42:10.142Z"
   },
   {
    "duration": 4678,
    "start_time": "2022-05-12T05:42:12.122Z"
   },
   {
    "duration": 74,
    "start_time": "2022-05-12T05:46:27.638Z"
   },
   {
    "duration": 4647,
    "start_time": "2022-05-12T05:46:33.117Z"
   },
   {
    "duration": 4518,
    "start_time": "2022-05-12T05:47:46.735Z"
   },
   {
    "duration": 4689,
    "start_time": "2022-05-12T05:48:06.888Z"
   },
   {
    "duration": 4570,
    "start_time": "2022-05-12T05:51:32.477Z"
   },
   {
    "duration": 98,
    "start_time": "2022-05-12T05:56:05.602Z"
   },
   {
    "duration": 67,
    "start_time": "2022-05-12T05:56:11.158Z"
   },
   {
    "duration": 4701,
    "start_time": "2022-05-12T05:56:34.756Z"
   },
   {
    "duration": 71,
    "start_time": "2022-05-12T05:56:56.079Z"
   },
   {
    "duration": 4752,
    "start_time": "2022-05-12T05:57:01.332Z"
   },
   {
    "duration": 4564,
    "start_time": "2022-05-12T06:02:44.796Z"
   }
  ],
  "kernelspec": {
   "display_name": "Python 3 (ipykernel)",
   "language": "python",
   "name": "python3"
  },
  "language_info": {
   "codemirror_mode": {
    "name": "ipython",
    "version": 3
   },
   "file_extension": ".py",
   "mimetype": "text/x-python",
   "name": "python",
   "nbconvert_exporter": "python",
   "pygments_lexer": "ipython3",
   "version": "3.9.7"
  },
  "toc": {
   "base_numbering": 1,
   "nav_menu": {},
   "number_sections": true,
   "sideBar": true,
   "skip_h1_title": true,
   "title_cell": "Содержание",
   "title_sidebar": "Содержание",
   "toc_cell": true,
   "toc_position": {},
   "toc_section_display": true,
   "toc_window_display": true
  }
 },
 "nbformat": 4,
 "nbformat_minor": 5
}
