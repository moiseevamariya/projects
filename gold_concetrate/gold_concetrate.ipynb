{
 "cells": [
  {
   "cell_type": "markdown",
   "metadata": {
    "toc": true
   },
   "source": [
    "<h1>Содержание<span class=\"tocSkip\"></span></h1>\n",
    "<div class=\"toc\"><ul class=\"toc-item\"><li><span><a href=\"#Подготовка-данных\" data-toc-modified-id=\"Подготовка-данных-1\"><span class=\"toc-item-num\">1&nbsp;&nbsp;</span>Подготовка данных</a></span><ul class=\"toc-item\"><li><span><a href=\"#Изучение-данных\" data-toc-modified-id=\"Изучение-данных-1.1\"><span class=\"toc-item-num\">1.1&nbsp;&nbsp;</span>Изучение данных</a></span></li><li><span><a href=\"#Проверка-расчётов\" data-toc-modified-id=\"Проверка-расчётов-1.2\"><span class=\"toc-item-num\">1.2&nbsp;&nbsp;</span>Проверка расчётов</a></span></li><li><span><a href=\"#Анализ-отсутствующих-столбцов-в-тестовой-выборке\" data-toc-modified-id=\"Анализ-отсутствующих-столбцов-в-тестовой-выборке-1.3\"><span class=\"toc-item-num\">1.3&nbsp;&nbsp;</span>Анализ отсутствующих столбцов в тестовой выборке</a></span></li><li><span><a href=\"#Предобработка-данных\" data-toc-modified-id=\"Предобработка-данных-1.4\"><span class=\"toc-item-num\">1.4&nbsp;&nbsp;</span>Предобработка данных</a></span></li><li><span><a href=\"#Вывод\" data-toc-modified-id=\"Вывод-1.5\"><span class=\"toc-item-num\">1.5&nbsp;&nbsp;</span>Вывод</a></span></li></ul></li><li><span><a href=\"#Анализ-данных\" data-toc-modified-id=\"Анализ-данных-2\"><span class=\"toc-item-num\">2&nbsp;&nbsp;</span>Анализ данных</a></span><ul class=\"toc-item\"><li><span><a href=\"#Анализ-изменения-концентрации-металлов\" data-toc-modified-id=\"Анализ-изменения-концентрации-металлов-2.1\"><span class=\"toc-item-num\">2.1&nbsp;&nbsp;</span>Анализ изменения концентрации металлов</a></span></li><li><span><a href=\"#Сравнение-размеров-гранул-сырья\" data-toc-modified-id=\"Сравнение-размеров-гранул-сырья-2.2\"><span class=\"toc-item-num\">2.2&nbsp;&nbsp;</span>Сравнение размеров гранул сырья</a></span></li><li><span><a href=\"#Исследование-суммарной-концентрации-всех-металлов-на-разных-стадиях\" data-toc-modified-id=\"Исследование-суммарной-концентрации-всех-металлов-на-разных-стадиях-2.3\"><span class=\"toc-item-num\">2.3&nbsp;&nbsp;</span>Исследование суммарной концентрации всех металлов на разных стадиях</a></span></li><li><span><a href=\"#Вывод\" data-toc-modified-id=\"Вывод-2.4\"><span class=\"toc-item-num\">2.4&nbsp;&nbsp;</span>Вывод</a></span></li></ul></li><li><span><a href=\"#Модель\" data-toc-modified-id=\"Модель-3\"><span class=\"toc-item-num\">3&nbsp;&nbsp;</span>Модель</a></span><ul class=\"toc-item\"><li><span><a href=\"#Функция-для-подсчёта-sMAPE\" data-toc-modified-id=\"Функция-для-подсчёта-sMAPE-3.1\"><span class=\"toc-item-num\">3.1&nbsp;&nbsp;</span>Функция для подсчёта sMAPE</a></span></li><li><span><a href=\"#Поиск-наилучшей-модели-для-предсказания-чернового-концентрата-золота\" data-toc-modified-id=\"Поиск-наилучшей-модели-для-предсказания-чернового-концентрата-золота-3.2\"><span class=\"toc-item-num\">3.2&nbsp;&nbsp;</span>Поиск наилучшей модели для предсказания чернового концентрата золота</a></span><ul class=\"toc-item\"><li><span><a href=\"#Линейная-регрессия\" data-toc-modified-id=\"Линейная-регрессия-3.2.1\"><span class=\"toc-item-num\">3.2.1&nbsp;&nbsp;</span>Линейная регрессия</a></span></li><li><span><a href=\"#Дерево-решений\" data-toc-modified-id=\"Дерево-решений-3.2.2\"><span class=\"toc-item-num\">3.2.2&nbsp;&nbsp;</span>Дерево решений</a></span></li><li><span><a href=\"#Случайный-лес\" data-toc-modified-id=\"Случайный-лес-3.2.3\"><span class=\"toc-item-num\">3.2.3&nbsp;&nbsp;</span>Случайный лес</a></span></li><li><span><a href=\"#Проверка-модели-на-адекватность\" data-toc-modified-id=\"Проверка-модели-на-адекватность-3.2.4\"><span class=\"toc-item-num\">3.2.4&nbsp;&nbsp;</span>Проверка модели на адекватность</a></span></li></ul></li><li><span><a href=\"#Поиск-наилучшей-модели-для-предсказания-финального-концентрата-золота\" data-toc-modified-id=\"Поиск-наилучшей-модели-для-предсказания-финального-концентрата-золота-3.3\"><span class=\"toc-item-num\">3.3&nbsp;&nbsp;</span>Поиск наилучшей модели для предсказания финального концентрата золота</a></span><ul class=\"toc-item\"><li><span><a href=\"#Линейная-регрессия\" data-toc-modified-id=\"Линейная-регрессия-3.3.1\"><span class=\"toc-item-num\">3.3.1&nbsp;&nbsp;</span>Линейная регрессия</a></span></li><li><span><a href=\"#Дерево-решений\" data-toc-modified-id=\"Дерево-решений-3.3.2\"><span class=\"toc-item-num\">3.3.2&nbsp;&nbsp;</span>Дерево решений</a></span></li><li><span><a href=\"#Случайный-лес\" data-toc-modified-id=\"Случайный-лес-3.3.3\"><span class=\"toc-item-num\">3.3.3&nbsp;&nbsp;</span>Случайный лес</a></span></li><li><span><a href=\"#Проверка-модели-на-адекватность\" data-toc-modified-id=\"Проверка-модели-на-адекватность-3.3.4\"><span class=\"toc-item-num\">3.3.4&nbsp;&nbsp;</span>Проверка модели на адекватность</a></span></li></ul></li><li><span><a href=\"#Проверка-моделей-на-тестовой-выборке\" data-toc-modified-id=\"Проверка-моделей-на-тестовой-выборке-3.4\"><span class=\"toc-item-num\">3.4&nbsp;&nbsp;</span>Проверка моделей на тестовой выборке</a></span></li><li><span><a href=\"#Вывод\" data-toc-modified-id=\"Вывод-3.5\"><span class=\"toc-item-num\">3.5&nbsp;&nbsp;</span>Вывод</a></span></li></ul></li></ul></div>"
   ]
  },
  {
   "cell_type": "markdown",
   "metadata": {},
   "source": [
    "# Восстановление золота из руды"
   ]
  },
  {
   "cell_type": "markdown",
   "metadata": {},
   "source": [
    "Компания разрабатывает решения для эффективной работы промышленных предприятий. Задача - подготовить прототипа модели машинного обучения. Модель поможет оптимизировать производство, чтобы не запускать предприятие с убыточными характеристиками.\n",
    "\n",
    "Модель должна предсказать коэффициент восстановления золота из золотосодержащей руды. В нашем распоряжении данные с параметрами добычи и очистки."
   ]
  },
  {
   "cell_type": "markdown",
   "metadata": {},
   "source": [
    "## Подготовка данных"
   ]
  },
  {
   "cell_type": "code",
   "execution_count": 1,
   "metadata": {},
   "outputs": [
    {
     "name": "stdout",
     "output_type": "stream",
     "text": [
      "Requirement already satisfied: sweetviz in c:\\users\\maria\\anaconda3\\lib\\site-packages (2.1.3)\n",
      "Requirement already satisfied: tqdm>=4.43.0 in c:\\users\\maria\\anaconda3\\lib\\site-packages (from sweetviz) (4.62.3)\n",
      "Requirement already satisfied: jinja2>=2.11.1 in c:\\users\\maria\\anaconda3\\lib\\site-packages (from sweetviz) (2.11.3)\n",
      "Requirement already satisfied: importlib-resources>=1.2.0 in c:\\users\\maria\\anaconda3\\lib\\site-packages (from sweetviz) (5.7.1)\n",
      "Requirement already satisfied: matplotlib>=3.1.3 in c:\\users\\maria\\anaconda3\\lib\\site-packages (from sweetviz) (3.4.3)\n",
      "Requirement already satisfied: scipy>=1.3.2 in c:\\users\\maria\\anaconda3\\lib\\site-packages (from sweetviz) (1.7.1)\n",
      "Requirement already satisfied: pandas!=1.0.0,!=1.0.1,!=1.0.2,>=0.25.3 in c:\\users\\maria\\anaconda3\\lib\\site-packages (from sweetviz) (1.3.4)\n",
      "Requirement already satisfied: numpy>=1.16.0 in c:\\users\\maria\\anaconda3\\lib\\site-packages (from sweetviz) (1.20.3)\n",
      "Requirement already satisfied: zipp>=3.1.0 in c:\\users\\maria\\anaconda3\\lib\\site-packages (from importlib-resources>=1.2.0->sweetviz) (3.6.0)\n",
      "Requirement already satisfied: MarkupSafe>=0.23 in c:\\users\\maria\\anaconda3\\lib\\site-packages (from jinja2>=2.11.1->sweetviz) (1.1.1)\n",
      "Requirement already satisfied: pillow>=6.2.0 in c:\\users\\maria\\anaconda3\\lib\\site-packages (from matplotlib>=3.1.3->sweetviz) (8.4.0)\n",
      "Requirement already satisfied: python-dateutil>=2.7 in c:\\users\\maria\\anaconda3\\lib\\site-packages (from matplotlib>=3.1.3->sweetviz) (2.8.2)\n",
      "Requirement already satisfied: pyparsing>=2.2.1 in c:\\users\\maria\\anaconda3\\lib\\site-packages (from matplotlib>=3.1.3->sweetviz) (3.0.4)\n",
      "Requirement already satisfied: kiwisolver>=1.0.1 in c:\\users\\maria\\anaconda3\\lib\\site-packages (from matplotlib>=3.1.3->sweetviz) (1.3.1)\n",
      "Requirement already satisfied: cycler>=0.10 in c:\\users\\maria\\anaconda3\\lib\\site-packages (from matplotlib>=3.1.3->sweetviz) (0.10.0)\n",
      "Requirement already satisfied: six in c:\\users\\maria\\anaconda3\\lib\\site-packages (from cycler>=0.10->matplotlib>=3.1.3->sweetviz) (1.16.0)\n",
      "Requirement already satisfied: pytz>=2017.3 in c:\\users\\maria\\anaconda3\\lib\\site-packages (from pandas!=1.0.0,!=1.0.1,!=1.0.2,>=0.25.3->sweetviz) (2021.3)\n",
      "Requirement already satisfied: colorama in c:\\users\\maria\\anaconda3\\lib\\site-packages (from tqdm>=4.43.0->sweetviz) (0.4.4)\n",
      "Note: you may need to restart the kernel to use updated packages.\n"
     ]
    }
   ],
   "source": [
    "pip install sweetviz"
   ]
  },
  {
   "cell_type": "markdown",
   "metadata": {},
   "source": [
    "### Изучение данных"
   ]
  },
  {
   "cell_type": "code",
   "execution_count": 2,
   "metadata": {},
   "outputs": [],
   "source": [
    "import pandas as pd\n",
    "import sweetviz as sv\n",
    "import matplotlib.pyplot as plt\n",
    "from scipy import stats as st\n",
    "import seaborn as sns\n",
    "from sklearn.metrics import mean_absolute_error\n",
    "from sklearn.metrics import make_scorer\n",
    "from sklearn.linear_model import LinearRegression\n",
    "from sklearn.tree import DecisionTreeRegressor\n",
    "from sklearn.ensemble import RandomForestRegressor\n",
    "from sklearn.model_selection import GridSearchCV\n",
    "from sklearn.dummy import DummyRegressor\n",
    "from sklearn.model_selection import train_test_split\n",
    "from sklearn.model_selection import cross_val_score\n",
    "import numpy as np"
   ]
  },
  {
   "cell_type": "code",
   "execution_count": 3,
   "metadata": {},
   "outputs": [],
   "source": [
    "df_train = pd.read_csv('C:\\\\Users\\maria\\Desktop\\ЯПрактикум\\Проекты\\Проект9_Сборный проект 2\\\\gold_recovery_train_new.csv')\n",
    "df_test = pd.read_csv('C:\\\\Users\\maria\\Desktop\\ЯПрактикум\\Проекты\\Проект9_Сборный проект 2\\\\gold_recovery_test_new.csv')\n",
    "df_full = pd.read_csv('C:\\\\Users\\maria\\Desktop\\ЯПрактикум\\Проекты\\Проект9_Сборный проект 2\\\\gold_recovery_full_new.csv')"
   ]
  },
  {
   "cell_type": "code",
   "execution_count": 4,
   "metadata": {
    "scrolled": true
   },
   "outputs": [
    {
     "data": {
      "text/html": [
       "<div>\n",
       "<style scoped>\n",
       "    .dataframe tbody tr th:only-of-type {\n",
       "        vertical-align: middle;\n",
       "    }\n",
       "\n",
       "    .dataframe tbody tr th {\n",
       "        vertical-align: top;\n",
       "    }\n",
       "\n",
       "    .dataframe thead th {\n",
       "        text-align: right;\n",
       "    }\n",
       "</style>\n",
       "<table border=\"1\" class=\"dataframe\">\n",
       "  <thead>\n",
       "    <tr style=\"text-align: right;\">\n",
       "      <th></th>\n",
       "      <th>date</th>\n",
       "      <th>final.output.concentrate_ag</th>\n",
       "      <th>final.output.concentrate_pb</th>\n",
       "      <th>final.output.concentrate_sol</th>\n",
       "      <th>final.output.concentrate_au</th>\n",
       "      <th>final.output.recovery</th>\n",
       "      <th>final.output.tail_ag</th>\n",
       "      <th>final.output.tail_pb</th>\n",
       "      <th>final.output.tail_sol</th>\n",
       "      <th>final.output.tail_au</th>\n",
       "      <th>...</th>\n",
       "      <th>secondary_cleaner.state.floatbank4_a_air</th>\n",
       "      <th>secondary_cleaner.state.floatbank4_a_level</th>\n",
       "      <th>secondary_cleaner.state.floatbank4_b_air</th>\n",
       "      <th>secondary_cleaner.state.floatbank4_b_level</th>\n",
       "      <th>secondary_cleaner.state.floatbank5_a_air</th>\n",
       "      <th>secondary_cleaner.state.floatbank5_a_level</th>\n",
       "      <th>secondary_cleaner.state.floatbank5_b_air</th>\n",
       "      <th>secondary_cleaner.state.floatbank5_b_level</th>\n",
       "      <th>secondary_cleaner.state.floatbank6_a_air</th>\n",
       "      <th>secondary_cleaner.state.floatbank6_a_level</th>\n",
       "    </tr>\n",
       "  </thead>\n",
       "  <tbody>\n",
       "    <tr>\n",
       "      <th>0</th>\n",
       "      <td>2016-01-15 00:00:00</td>\n",
       "      <td>6.055403</td>\n",
       "      <td>9.889648</td>\n",
       "      <td>5.507324</td>\n",
       "      <td>42.192020</td>\n",
       "      <td>70.541216</td>\n",
       "      <td>10.411962</td>\n",
       "      <td>0.895447</td>\n",
       "      <td>16.904297</td>\n",
       "      <td>2.143149</td>\n",
       "      <td>...</td>\n",
       "      <td>14.016835</td>\n",
       "      <td>-502.488007</td>\n",
       "      <td>12.099931</td>\n",
       "      <td>-504.715942</td>\n",
       "      <td>9.925633</td>\n",
       "      <td>-498.310211</td>\n",
       "      <td>8.079666</td>\n",
       "      <td>-500.470978</td>\n",
       "      <td>14.151341</td>\n",
       "      <td>-605.841980</td>\n",
       "    </tr>\n",
       "    <tr>\n",
       "      <th>1</th>\n",
       "      <td>2016-01-15 01:00:00</td>\n",
       "      <td>6.029369</td>\n",
       "      <td>9.968944</td>\n",
       "      <td>5.257781</td>\n",
       "      <td>42.701629</td>\n",
       "      <td>69.266198</td>\n",
       "      <td>10.462676</td>\n",
       "      <td>0.927452</td>\n",
       "      <td>16.634514</td>\n",
       "      <td>2.224930</td>\n",
       "      <td>...</td>\n",
       "      <td>13.992281</td>\n",
       "      <td>-505.503262</td>\n",
       "      <td>11.950531</td>\n",
       "      <td>-501.331529</td>\n",
       "      <td>10.039245</td>\n",
       "      <td>-500.169983</td>\n",
       "      <td>7.984757</td>\n",
       "      <td>-500.582168</td>\n",
       "      <td>13.998353</td>\n",
       "      <td>-599.787184</td>\n",
       "    </tr>\n",
       "    <tr>\n",
       "      <th>2</th>\n",
       "      <td>2016-01-15 02:00:00</td>\n",
       "      <td>6.055926</td>\n",
       "      <td>10.213995</td>\n",
       "      <td>5.383759</td>\n",
       "      <td>42.657501</td>\n",
       "      <td>68.116445</td>\n",
       "      <td>10.507046</td>\n",
       "      <td>0.953716</td>\n",
       "      <td>16.208849</td>\n",
       "      <td>2.257889</td>\n",
       "      <td>...</td>\n",
       "      <td>14.015015</td>\n",
       "      <td>-502.520901</td>\n",
       "      <td>11.912783</td>\n",
       "      <td>-501.133383</td>\n",
       "      <td>10.070913</td>\n",
       "      <td>-500.129135</td>\n",
       "      <td>8.013877</td>\n",
       "      <td>-500.517572</td>\n",
       "      <td>14.028663</td>\n",
       "      <td>-601.427363</td>\n",
       "    </tr>\n",
       "    <tr>\n",
       "      <th>3</th>\n",
       "      <td>2016-01-15 03:00:00</td>\n",
       "      <td>6.047977</td>\n",
       "      <td>9.977019</td>\n",
       "      <td>4.858634</td>\n",
       "      <td>42.689819</td>\n",
       "      <td>68.347543</td>\n",
       "      <td>10.422762</td>\n",
       "      <td>0.883763</td>\n",
       "      <td>16.532835</td>\n",
       "      <td>2.146849</td>\n",
       "      <td>...</td>\n",
       "      <td>14.036510</td>\n",
       "      <td>-500.857308</td>\n",
       "      <td>11.999550</td>\n",
       "      <td>-501.193686</td>\n",
       "      <td>9.970366</td>\n",
       "      <td>-499.201640</td>\n",
       "      <td>7.977324</td>\n",
       "      <td>-500.255908</td>\n",
       "      <td>14.005551</td>\n",
       "      <td>-599.996129</td>\n",
       "    </tr>\n",
       "    <tr>\n",
       "      <th>4</th>\n",
       "      <td>2016-01-15 04:00:00</td>\n",
       "      <td>6.148599</td>\n",
       "      <td>10.142511</td>\n",
       "      <td>4.939416</td>\n",
       "      <td>42.774141</td>\n",
       "      <td>66.927016</td>\n",
       "      <td>10.360302</td>\n",
       "      <td>0.792826</td>\n",
       "      <td>16.525686</td>\n",
       "      <td>2.055292</td>\n",
       "      <td>...</td>\n",
       "      <td>14.027298</td>\n",
       "      <td>-499.838632</td>\n",
       "      <td>11.953070</td>\n",
       "      <td>-501.053894</td>\n",
       "      <td>9.925709</td>\n",
       "      <td>-501.686727</td>\n",
       "      <td>7.894242</td>\n",
       "      <td>-500.356035</td>\n",
       "      <td>13.996647</td>\n",
       "      <td>-601.496691</td>\n",
       "    </tr>\n",
       "  </tbody>\n",
       "</table>\n",
       "<p>5 rows × 87 columns</p>\n",
       "</div>"
      ],
      "text/plain": [
       "                  date  final.output.concentrate_ag  \\\n",
       "0  2016-01-15 00:00:00                     6.055403   \n",
       "1  2016-01-15 01:00:00                     6.029369   \n",
       "2  2016-01-15 02:00:00                     6.055926   \n",
       "3  2016-01-15 03:00:00                     6.047977   \n",
       "4  2016-01-15 04:00:00                     6.148599   \n",
       "\n",
       "   final.output.concentrate_pb  final.output.concentrate_sol  \\\n",
       "0                     9.889648                      5.507324   \n",
       "1                     9.968944                      5.257781   \n",
       "2                    10.213995                      5.383759   \n",
       "3                     9.977019                      4.858634   \n",
       "4                    10.142511                      4.939416   \n",
       "\n",
       "   final.output.concentrate_au  final.output.recovery  final.output.tail_ag  \\\n",
       "0                    42.192020              70.541216             10.411962   \n",
       "1                    42.701629              69.266198             10.462676   \n",
       "2                    42.657501              68.116445             10.507046   \n",
       "3                    42.689819              68.347543             10.422762   \n",
       "4                    42.774141              66.927016             10.360302   \n",
       "\n",
       "   final.output.tail_pb  final.output.tail_sol  final.output.tail_au  ...  \\\n",
       "0              0.895447              16.904297              2.143149  ...   \n",
       "1              0.927452              16.634514              2.224930  ...   \n",
       "2              0.953716              16.208849              2.257889  ...   \n",
       "3              0.883763              16.532835              2.146849  ...   \n",
       "4              0.792826              16.525686              2.055292  ...   \n",
       "\n",
       "   secondary_cleaner.state.floatbank4_a_air  \\\n",
       "0                                 14.016835   \n",
       "1                                 13.992281   \n",
       "2                                 14.015015   \n",
       "3                                 14.036510   \n",
       "4                                 14.027298   \n",
       "\n",
       "   secondary_cleaner.state.floatbank4_a_level  \\\n",
       "0                                 -502.488007   \n",
       "1                                 -505.503262   \n",
       "2                                 -502.520901   \n",
       "3                                 -500.857308   \n",
       "4                                 -499.838632   \n",
       "\n",
       "   secondary_cleaner.state.floatbank4_b_air  \\\n",
       "0                                 12.099931   \n",
       "1                                 11.950531   \n",
       "2                                 11.912783   \n",
       "3                                 11.999550   \n",
       "4                                 11.953070   \n",
       "\n",
       "   secondary_cleaner.state.floatbank4_b_level  \\\n",
       "0                                 -504.715942   \n",
       "1                                 -501.331529   \n",
       "2                                 -501.133383   \n",
       "3                                 -501.193686   \n",
       "4                                 -501.053894   \n",
       "\n",
       "   secondary_cleaner.state.floatbank5_a_air  \\\n",
       "0                                  9.925633   \n",
       "1                                 10.039245   \n",
       "2                                 10.070913   \n",
       "3                                  9.970366   \n",
       "4                                  9.925709   \n",
       "\n",
       "   secondary_cleaner.state.floatbank5_a_level  \\\n",
       "0                                 -498.310211   \n",
       "1                                 -500.169983   \n",
       "2                                 -500.129135   \n",
       "3                                 -499.201640   \n",
       "4                                 -501.686727   \n",
       "\n",
       "   secondary_cleaner.state.floatbank5_b_air  \\\n",
       "0                                  8.079666   \n",
       "1                                  7.984757   \n",
       "2                                  8.013877   \n",
       "3                                  7.977324   \n",
       "4                                  7.894242   \n",
       "\n",
       "   secondary_cleaner.state.floatbank5_b_level  \\\n",
       "0                                 -500.470978   \n",
       "1                                 -500.582168   \n",
       "2                                 -500.517572   \n",
       "3                                 -500.255908   \n",
       "4                                 -500.356035   \n",
       "\n",
       "   secondary_cleaner.state.floatbank6_a_air  \\\n",
       "0                                 14.151341   \n",
       "1                                 13.998353   \n",
       "2                                 14.028663   \n",
       "3                                 14.005551   \n",
       "4                                 13.996647   \n",
       "\n",
       "   secondary_cleaner.state.floatbank6_a_level  \n",
       "0                                 -605.841980  \n",
       "1                                 -599.787184  \n",
       "2                                 -601.427363  \n",
       "3                                 -599.996129  \n",
       "4                                 -601.496691  \n",
       "\n",
       "[5 rows x 87 columns]"
      ]
     },
     "metadata": {},
     "output_type": "display_data"
    },
    {
     "name": "stdout",
     "output_type": "stream",
     "text": [
      "<class 'pandas.core.frame.DataFrame'>\n",
      "RangeIndex: 14149 entries, 0 to 14148\n",
      "Data columns (total 87 columns):\n",
      " #   Column                                              Non-Null Count  Dtype  \n",
      "---  ------                                              --------------  -----  \n",
      " 0   date                                                14149 non-null  object \n",
      " 1   final.output.concentrate_ag                         14148 non-null  float64\n",
      " 2   final.output.concentrate_pb                         14148 non-null  float64\n",
      " 3   final.output.concentrate_sol                        13938 non-null  float64\n",
      " 4   final.output.concentrate_au                         14149 non-null  float64\n",
      " 5   final.output.recovery                               14149 non-null  float64\n",
      " 6   final.output.tail_ag                                14149 non-null  float64\n",
      " 7   final.output.tail_pb                                14049 non-null  float64\n",
      " 8   final.output.tail_sol                               14144 non-null  float64\n",
      " 9   final.output.tail_au                                14149 non-null  float64\n",
      " 10  primary_cleaner.input.sulfate                       14129 non-null  float64\n",
      " 11  primary_cleaner.input.depressant                    14117 non-null  float64\n",
      " 12  primary_cleaner.input.feed_size                     14149 non-null  float64\n",
      " 13  primary_cleaner.input.xanthate                      14049 non-null  float64\n",
      " 14  primary_cleaner.output.concentrate_ag               14149 non-null  float64\n",
      " 15  primary_cleaner.output.concentrate_pb               14063 non-null  float64\n",
      " 16  primary_cleaner.output.concentrate_sol              13863 non-null  float64\n",
      " 17  primary_cleaner.output.concentrate_au               14149 non-null  float64\n",
      " 18  primary_cleaner.output.tail_ag                      14148 non-null  float64\n",
      " 19  primary_cleaner.output.tail_pb                      14134 non-null  float64\n",
      " 20  primary_cleaner.output.tail_sol                     14103 non-null  float64\n",
      " 21  primary_cleaner.output.tail_au                      14149 non-null  float64\n",
      " 22  primary_cleaner.state.floatbank8_a_air              14145 non-null  float64\n",
      " 23  primary_cleaner.state.floatbank8_a_level            14148 non-null  float64\n",
      " 24  primary_cleaner.state.floatbank8_b_air              14145 non-null  float64\n",
      " 25  primary_cleaner.state.floatbank8_b_level            14148 non-null  float64\n",
      " 26  primary_cleaner.state.floatbank8_c_air              14147 non-null  float64\n",
      " 27  primary_cleaner.state.floatbank8_c_level            14148 non-null  float64\n",
      " 28  primary_cleaner.state.floatbank8_d_air              14146 non-null  float64\n",
      " 29  primary_cleaner.state.floatbank8_d_level            14148 non-null  float64\n",
      " 30  rougher.calculation.sulfate_to_au_concentrate       14148 non-null  float64\n",
      " 31  rougher.calculation.floatbank10_sulfate_to_au_feed  14148 non-null  float64\n",
      " 32  rougher.calculation.floatbank11_sulfate_to_au_feed  14148 non-null  float64\n",
      " 33  rougher.calculation.au_pb_ratio                     14149 non-null  float64\n",
      " 34  rougher.input.feed_ag                               14149 non-null  float64\n",
      " 35  rougher.input.feed_pb                               14049 non-null  float64\n",
      " 36  rougher.input.feed_rate                             14141 non-null  float64\n",
      " 37  rougher.input.feed_size                             14005 non-null  float64\n",
      " 38  rougher.input.feed_sol                              14071 non-null  float64\n",
      " 39  rougher.input.feed_au                               14149 non-null  float64\n",
      " 40  rougher.input.floatbank10_sulfate                   14120 non-null  float64\n",
      " 41  rougher.input.floatbank10_xanthate                  14141 non-null  float64\n",
      " 42  rougher.input.floatbank11_sulfate                   14113 non-null  float64\n",
      " 43  rougher.input.floatbank11_xanthate                  13721 non-null  float64\n",
      " 44  rougher.output.concentrate_ag                       14149 non-null  float64\n",
      " 45  rougher.output.concentrate_pb                       14149 non-null  float64\n",
      " 46  rougher.output.concentrate_sol                      14127 non-null  float64\n",
      " 47  rougher.output.concentrate_au                       14149 non-null  float64\n",
      " 48  rougher.output.recovery                             14149 non-null  float64\n",
      " 49  rougher.output.tail_ag                              14148 non-null  float64\n",
      " 50  rougher.output.tail_pb                              14149 non-null  float64\n",
      " 51  rougher.output.tail_sol                             14149 non-null  float64\n",
      " 52  rougher.output.tail_au                              14149 non-null  float64\n",
      " 53  rougher.state.floatbank10_a_air                     14148 non-null  float64\n",
      " 54  rougher.state.floatbank10_a_level                   14148 non-null  float64\n",
      " 55  rougher.state.floatbank10_b_air                     14148 non-null  float64\n",
      " 56  rougher.state.floatbank10_b_level                   14148 non-null  float64\n",
      " 57  rougher.state.floatbank10_c_air                     14148 non-null  float64\n",
      " 58  rougher.state.floatbank10_c_level                   14148 non-null  float64\n",
      " 59  rougher.state.floatbank10_d_air                     14149 non-null  float64\n",
      " 60  rougher.state.floatbank10_d_level                   14149 non-null  float64\n",
      " 61  rougher.state.floatbank10_e_air                     13713 non-null  float64\n",
      " 62  rougher.state.floatbank10_e_level                   14149 non-null  float64\n",
      " 63  rougher.state.floatbank10_f_air                     14149 non-null  float64\n",
      " 64  rougher.state.floatbank10_f_level                   14149 non-null  float64\n",
      " 65  secondary_cleaner.output.tail_ag                    14147 non-null  float64\n",
      " 66  secondary_cleaner.output.tail_pb                    14139 non-null  float64\n",
      " 67  secondary_cleaner.output.tail_sol                   12544 non-null  float64\n",
      " 68  secondary_cleaner.output.tail_au                    14149 non-null  float64\n",
      " 69  secondary_cleaner.state.floatbank2_a_air            13932 non-null  float64\n",
      " 70  secondary_cleaner.state.floatbank2_a_level          14148 non-null  float64\n",
      " 71  secondary_cleaner.state.floatbank2_b_air            14128 non-null  float64\n",
      " 72  secondary_cleaner.state.floatbank2_b_level          14148 non-null  float64\n",
      " 73  secondary_cleaner.state.floatbank3_a_air            14145 non-null  float64\n",
      " 74  secondary_cleaner.state.floatbank3_a_level          14148 non-null  float64\n",
      " 75  secondary_cleaner.state.floatbank3_b_air            14148 non-null  float64\n",
      " 76  secondary_cleaner.state.floatbank3_b_level          14148 non-null  float64\n",
      " 77  secondary_cleaner.state.floatbank4_a_air            14143 non-null  float64\n",
      " 78  secondary_cleaner.state.floatbank4_a_level          14148 non-null  float64\n",
      " 79  secondary_cleaner.state.floatbank4_b_air            14148 non-null  float64\n",
      " 80  secondary_cleaner.state.floatbank4_b_level          14148 non-null  float64\n",
      " 81  secondary_cleaner.state.floatbank5_a_air            14148 non-null  float64\n",
      " 82  secondary_cleaner.state.floatbank5_a_level          14148 non-null  float64\n",
      " 83  secondary_cleaner.state.floatbank5_b_air            14148 non-null  float64\n",
      " 84  secondary_cleaner.state.floatbank5_b_level          14148 non-null  float64\n",
      " 85  secondary_cleaner.state.floatbank6_a_air            14147 non-null  float64\n",
      " 86  secondary_cleaner.state.floatbank6_a_level          14148 non-null  float64\n",
      "dtypes: float64(86), object(1)\n",
      "memory usage: 9.4+ MB\n"
     ]
    },
    {
     "data": {
      "text/html": [
       "<div>\n",
       "<style scoped>\n",
       "    .dataframe tbody tr th:only-of-type {\n",
       "        vertical-align: middle;\n",
       "    }\n",
       "\n",
       "    .dataframe tbody tr th {\n",
       "        vertical-align: top;\n",
       "    }\n",
       "\n",
       "    .dataframe thead th {\n",
       "        text-align: right;\n",
       "    }\n",
       "</style>\n",
       "<table border=\"1\" class=\"dataframe\">\n",
       "  <thead>\n",
       "    <tr style=\"text-align: right;\">\n",
       "      <th></th>\n",
       "      <th>date</th>\n",
       "      <th>primary_cleaner.input.sulfate</th>\n",
       "      <th>primary_cleaner.input.depressant</th>\n",
       "      <th>primary_cleaner.input.feed_size</th>\n",
       "      <th>primary_cleaner.input.xanthate</th>\n",
       "      <th>primary_cleaner.state.floatbank8_a_air</th>\n",
       "      <th>primary_cleaner.state.floatbank8_a_level</th>\n",
       "      <th>primary_cleaner.state.floatbank8_b_air</th>\n",
       "      <th>primary_cleaner.state.floatbank8_b_level</th>\n",
       "      <th>primary_cleaner.state.floatbank8_c_air</th>\n",
       "      <th>...</th>\n",
       "      <th>secondary_cleaner.state.floatbank4_a_air</th>\n",
       "      <th>secondary_cleaner.state.floatbank4_a_level</th>\n",
       "      <th>secondary_cleaner.state.floatbank4_b_air</th>\n",
       "      <th>secondary_cleaner.state.floatbank4_b_level</th>\n",
       "      <th>secondary_cleaner.state.floatbank5_a_air</th>\n",
       "      <th>secondary_cleaner.state.floatbank5_a_level</th>\n",
       "      <th>secondary_cleaner.state.floatbank5_b_air</th>\n",
       "      <th>secondary_cleaner.state.floatbank5_b_level</th>\n",
       "      <th>secondary_cleaner.state.floatbank6_a_air</th>\n",
       "      <th>secondary_cleaner.state.floatbank6_a_level</th>\n",
       "    </tr>\n",
       "  </thead>\n",
       "  <tbody>\n",
       "    <tr>\n",
       "      <th>0</th>\n",
       "      <td>2016-09-01 00:59:59</td>\n",
       "      <td>210.800909</td>\n",
       "      <td>14.993118</td>\n",
       "      <td>8.080000</td>\n",
       "      <td>1.005021</td>\n",
       "      <td>1398.981301</td>\n",
       "      <td>-500.225577</td>\n",
       "      <td>1399.144926</td>\n",
       "      <td>-499.919735</td>\n",
       "      <td>1400.102998</td>\n",
       "      <td>...</td>\n",
       "      <td>12.023554</td>\n",
       "      <td>-497.795834</td>\n",
       "      <td>8.016656</td>\n",
       "      <td>-501.289139</td>\n",
       "      <td>7.946562</td>\n",
       "      <td>-432.317850</td>\n",
       "      <td>4.872511</td>\n",
       "      <td>-500.037437</td>\n",
       "      <td>26.705889</td>\n",
       "      <td>-499.709414</td>\n",
       "    </tr>\n",
       "    <tr>\n",
       "      <th>1</th>\n",
       "      <td>2016-09-01 01:59:59</td>\n",
       "      <td>215.392455</td>\n",
       "      <td>14.987471</td>\n",
       "      <td>8.080000</td>\n",
       "      <td>0.990469</td>\n",
       "      <td>1398.777912</td>\n",
       "      <td>-500.057435</td>\n",
       "      <td>1398.055362</td>\n",
       "      <td>-499.778182</td>\n",
       "      <td>1396.151033</td>\n",
       "      <td>...</td>\n",
       "      <td>12.058140</td>\n",
       "      <td>-498.695773</td>\n",
       "      <td>8.130979</td>\n",
       "      <td>-499.634209</td>\n",
       "      <td>7.958270</td>\n",
       "      <td>-525.839648</td>\n",
       "      <td>4.878850</td>\n",
       "      <td>-500.162375</td>\n",
       "      <td>25.019940</td>\n",
       "      <td>-499.819438</td>\n",
       "    </tr>\n",
       "    <tr>\n",
       "      <th>2</th>\n",
       "      <td>2016-09-01 02:59:59</td>\n",
       "      <td>215.259946</td>\n",
       "      <td>12.884934</td>\n",
       "      <td>7.786667</td>\n",
       "      <td>0.996043</td>\n",
       "      <td>1398.493666</td>\n",
       "      <td>-500.868360</td>\n",
       "      <td>1398.860436</td>\n",
       "      <td>-499.764529</td>\n",
       "      <td>1398.075709</td>\n",
       "      <td>...</td>\n",
       "      <td>11.962366</td>\n",
       "      <td>-498.767484</td>\n",
       "      <td>8.096893</td>\n",
       "      <td>-500.827423</td>\n",
       "      <td>8.071056</td>\n",
       "      <td>-500.801673</td>\n",
       "      <td>4.905125</td>\n",
       "      <td>-499.828510</td>\n",
       "      <td>24.994862</td>\n",
       "      <td>-500.622559</td>\n",
       "    </tr>\n",
       "    <tr>\n",
       "      <th>3</th>\n",
       "      <td>2016-09-01 03:59:59</td>\n",
       "      <td>215.336236</td>\n",
       "      <td>12.006805</td>\n",
       "      <td>7.640000</td>\n",
       "      <td>0.863514</td>\n",
       "      <td>1399.618111</td>\n",
       "      <td>-498.863574</td>\n",
       "      <td>1397.440120</td>\n",
       "      <td>-499.211024</td>\n",
       "      <td>1400.129303</td>\n",
       "      <td>...</td>\n",
       "      <td>12.033091</td>\n",
       "      <td>-498.350935</td>\n",
       "      <td>8.074946</td>\n",
       "      <td>-499.474407</td>\n",
       "      <td>7.897085</td>\n",
       "      <td>-500.868509</td>\n",
       "      <td>4.931400</td>\n",
       "      <td>-499.963623</td>\n",
       "      <td>24.948919</td>\n",
       "      <td>-498.709987</td>\n",
       "    </tr>\n",
       "    <tr>\n",
       "      <th>4</th>\n",
       "      <td>2016-09-01 04:59:59</td>\n",
       "      <td>199.099327</td>\n",
       "      <td>10.682530</td>\n",
       "      <td>7.530000</td>\n",
       "      <td>0.805575</td>\n",
       "      <td>1401.268123</td>\n",
       "      <td>-500.808305</td>\n",
       "      <td>1398.128818</td>\n",
       "      <td>-499.504543</td>\n",
       "      <td>1402.172226</td>\n",
       "      <td>...</td>\n",
       "      <td>12.025367</td>\n",
       "      <td>-500.786497</td>\n",
       "      <td>8.054678</td>\n",
       "      <td>-500.397500</td>\n",
       "      <td>8.107890</td>\n",
       "      <td>-509.526725</td>\n",
       "      <td>4.957674</td>\n",
       "      <td>-500.360026</td>\n",
       "      <td>25.003331</td>\n",
       "      <td>-500.856333</td>\n",
       "    </tr>\n",
       "  </tbody>\n",
       "</table>\n",
       "<p>5 rows × 53 columns</p>\n",
       "</div>"
      ],
      "text/plain": [
       "                  date  primary_cleaner.input.sulfate  \\\n",
       "0  2016-09-01 00:59:59                     210.800909   \n",
       "1  2016-09-01 01:59:59                     215.392455   \n",
       "2  2016-09-01 02:59:59                     215.259946   \n",
       "3  2016-09-01 03:59:59                     215.336236   \n",
       "4  2016-09-01 04:59:59                     199.099327   \n",
       "\n",
       "   primary_cleaner.input.depressant  primary_cleaner.input.feed_size  \\\n",
       "0                         14.993118                         8.080000   \n",
       "1                         14.987471                         8.080000   \n",
       "2                         12.884934                         7.786667   \n",
       "3                         12.006805                         7.640000   \n",
       "4                         10.682530                         7.530000   \n",
       "\n",
       "   primary_cleaner.input.xanthate  primary_cleaner.state.floatbank8_a_air  \\\n",
       "0                        1.005021                             1398.981301   \n",
       "1                        0.990469                             1398.777912   \n",
       "2                        0.996043                             1398.493666   \n",
       "3                        0.863514                             1399.618111   \n",
       "4                        0.805575                             1401.268123   \n",
       "\n",
       "   primary_cleaner.state.floatbank8_a_level  \\\n",
       "0                               -500.225577   \n",
       "1                               -500.057435   \n",
       "2                               -500.868360   \n",
       "3                               -498.863574   \n",
       "4                               -500.808305   \n",
       "\n",
       "   primary_cleaner.state.floatbank8_b_air  \\\n",
       "0                             1399.144926   \n",
       "1                             1398.055362   \n",
       "2                             1398.860436   \n",
       "3                             1397.440120   \n",
       "4                             1398.128818   \n",
       "\n",
       "   primary_cleaner.state.floatbank8_b_level  \\\n",
       "0                               -499.919735   \n",
       "1                               -499.778182   \n",
       "2                               -499.764529   \n",
       "3                               -499.211024   \n",
       "4                               -499.504543   \n",
       "\n",
       "   primary_cleaner.state.floatbank8_c_air  ...  \\\n",
       "0                             1400.102998  ...   \n",
       "1                             1396.151033  ...   \n",
       "2                             1398.075709  ...   \n",
       "3                             1400.129303  ...   \n",
       "4                             1402.172226  ...   \n",
       "\n",
       "   secondary_cleaner.state.floatbank4_a_air  \\\n",
       "0                                 12.023554   \n",
       "1                                 12.058140   \n",
       "2                                 11.962366   \n",
       "3                                 12.033091   \n",
       "4                                 12.025367   \n",
       "\n",
       "   secondary_cleaner.state.floatbank4_a_level  \\\n",
       "0                                 -497.795834   \n",
       "1                                 -498.695773   \n",
       "2                                 -498.767484   \n",
       "3                                 -498.350935   \n",
       "4                                 -500.786497   \n",
       "\n",
       "   secondary_cleaner.state.floatbank4_b_air  \\\n",
       "0                                  8.016656   \n",
       "1                                  8.130979   \n",
       "2                                  8.096893   \n",
       "3                                  8.074946   \n",
       "4                                  8.054678   \n",
       "\n",
       "   secondary_cleaner.state.floatbank4_b_level  \\\n",
       "0                                 -501.289139   \n",
       "1                                 -499.634209   \n",
       "2                                 -500.827423   \n",
       "3                                 -499.474407   \n",
       "4                                 -500.397500   \n",
       "\n",
       "   secondary_cleaner.state.floatbank5_a_air  \\\n",
       "0                                  7.946562   \n",
       "1                                  7.958270   \n",
       "2                                  8.071056   \n",
       "3                                  7.897085   \n",
       "4                                  8.107890   \n",
       "\n",
       "   secondary_cleaner.state.floatbank5_a_level  \\\n",
       "0                                 -432.317850   \n",
       "1                                 -525.839648   \n",
       "2                                 -500.801673   \n",
       "3                                 -500.868509   \n",
       "4                                 -509.526725   \n",
       "\n",
       "   secondary_cleaner.state.floatbank5_b_air  \\\n",
       "0                                  4.872511   \n",
       "1                                  4.878850   \n",
       "2                                  4.905125   \n",
       "3                                  4.931400   \n",
       "4                                  4.957674   \n",
       "\n",
       "   secondary_cleaner.state.floatbank5_b_level  \\\n",
       "0                                 -500.037437   \n",
       "1                                 -500.162375   \n",
       "2                                 -499.828510   \n",
       "3                                 -499.963623   \n",
       "4                                 -500.360026   \n",
       "\n",
       "   secondary_cleaner.state.floatbank6_a_air  \\\n",
       "0                                 26.705889   \n",
       "1                                 25.019940   \n",
       "2                                 24.994862   \n",
       "3                                 24.948919   \n",
       "4                                 25.003331   \n",
       "\n",
       "   secondary_cleaner.state.floatbank6_a_level  \n",
       "0                                 -499.709414  \n",
       "1                                 -499.819438  \n",
       "2                                 -500.622559  \n",
       "3                                 -498.709987  \n",
       "4                                 -500.856333  \n",
       "\n",
       "[5 rows x 53 columns]"
      ]
     },
     "metadata": {},
     "output_type": "display_data"
    },
    {
     "name": "stdout",
     "output_type": "stream",
     "text": [
      "<class 'pandas.core.frame.DataFrame'>\n",
      "RangeIndex: 5290 entries, 0 to 5289\n",
      "Data columns (total 53 columns):\n",
      " #   Column                                      Non-Null Count  Dtype  \n",
      "---  ------                                      --------------  -----  \n",
      " 0   date                                        5290 non-null   object \n",
      " 1   primary_cleaner.input.sulfate               5286 non-null   float64\n",
      " 2   primary_cleaner.input.depressant            5285 non-null   float64\n",
      " 3   primary_cleaner.input.feed_size             5290 non-null   float64\n",
      " 4   primary_cleaner.input.xanthate              5286 non-null   float64\n",
      " 5   primary_cleaner.state.floatbank8_a_air      5290 non-null   float64\n",
      " 6   primary_cleaner.state.floatbank8_a_level    5290 non-null   float64\n",
      " 7   primary_cleaner.state.floatbank8_b_air      5290 non-null   float64\n",
      " 8   primary_cleaner.state.floatbank8_b_level    5290 non-null   float64\n",
      " 9   primary_cleaner.state.floatbank8_c_air      5290 non-null   float64\n",
      " 10  primary_cleaner.state.floatbank8_c_level    5290 non-null   float64\n",
      " 11  primary_cleaner.state.floatbank8_d_air      5290 non-null   float64\n",
      " 12  primary_cleaner.state.floatbank8_d_level    5290 non-null   float64\n",
      " 13  rougher.input.feed_ag                       5290 non-null   float64\n",
      " 14  rougher.input.feed_pb                       5290 non-null   float64\n",
      " 15  rougher.input.feed_rate                     5287 non-null   float64\n",
      " 16  rougher.input.feed_size                     5289 non-null   float64\n",
      " 17  rougher.input.feed_sol                      5269 non-null   float64\n",
      " 18  rougher.input.feed_au                       5290 non-null   float64\n",
      " 19  rougher.input.floatbank10_sulfate           5285 non-null   float64\n",
      " 20  rougher.input.floatbank10_xanthate          5290 non-null   float64\n",
      " 21  rougher.input.floatbank11_sulfate           5282 non-null   float64\n",
      " 22  rougher.input.floatbank11_xanthate          5265 non-null   float64\n",
      " 23  rougher.state.floatbank10_a_air             5290 non-null   float64\n",
      " 24  rougher.state.floatbank10_a_level           5290 non-null   float64\n",
      " 25  rougher.state.floatbank10_b_air             5290 non-null   float64\n",
      " 26  rougher.state.floatbank10_b_level           5290 non-null   float64\n",
      " 27  rougher.state.floatbank10_c_air             5290 non-null   float64\n",
      " 28  rougher.state.floatbank10_c_level           5290 non-null   float64\n",
      " 29  rougher.state.floatbank10_d_air             5290 non-null   float64\n",
      " 30  rougher.state.floatbank10_d_level           5290 non-null   float64\n",
      " 31  rougher.state.floatbank10_e_air             5290 non-null   float64\n",
      " 32  rougher.state.floatbank10_e_level           5290 non-null   float64\n",
      " 33  rougher.state.floatbank10_f_air             5290 non-null   float64\n",
      " 34  rougher.state.floatbank10_f_level           5290 non-null   float64\n",
      " 35  secondary_cleaner.state.floatbank2_a_air    5287 non-null   float64\n",
      " 36  secondary_cleaner.state.floatbank2_a_level  5290 non-null   float64\n",
      " 37  secondary_cleaner.state.floatbank2_b_air    5288 non-null   float64\n",
      " 38  secondary_cleaner.state.floatbank2_b_level  5290 non-null   float64\n",
      " 39  secondary_cleaner.state.floatbank3_a_air    5281 non-null   float64\n",
      " 40  secondary_cleaner.state.floatbank3_a_level  5290 non-null   float64\n",
      " 41  secondary_cleaner.state.floatbank3_b_air    5290 non-null   float64\n",
      " 42  secondary_cleaner.state.floatbank3_b_level  5290 non-null   float64\n",
      " 43  secondary_cleaner.state.floatbank4_a_air    5290 non-null   float64\n",
      " 44  secondary_cleaner.state.floatbank4_a_level  5290 non-null   float64\n",
      " 45  secondary_cleaner.state.floatbank4_b_air    5290 non-null   float64\n",
      " 46  secondary_cleaner.state.floatbank4_b_level  5290 non-null   float64\n",
      " 47  secondary_cleaner.state.floatbank5_a_air    5290 non-null   float64\n",
      " 48  secondary_cleaner.state.floatbank5_a_level  5290 non-null   float64\n",
      " 49  secondary_cleaner.state.floatbank5_b_air    5290 non-null   float64\n",
      " 50  secondary_cleaner.state.floatbank5_b_level  5290 non-null   float64\n",
      " 51  secondary_cleaner.state.floatbank6_a_air    5290 non-null   float64\n",
      " 52  secondary_cleaner.state.floatbank6_a_level  5290 non-null   float64\n",
      "dtypes: float64(52), object(1)\n",
      "memory usage: 2.1+ MB\n"
     ]
    },
    {
     "data": {
      "text/html": [
       "<div>\n",
       "<style scoped>\n",
       "    .dataframe tbody tr th:only-of-type {\n",
       "        vertical-align: middle;\n",
       "    }\n",
       "\n",
       "    .dataframe tbody tr th {\n",
       "        vertical-align: top;\n",
       "    }\n",
       "\n",
       "    .dataframe thead th {\n",
       "        text-align: right;\n",
       "    }\n",
       "</style>\n",
       "<table border=\"1\" class=\"dataframe\">\n",
       "  <thead>\n",
       "    <tr style=\"text-align: right;\">\n",
       "      <th></th>\n",
       "      <th>date</th>\n",
       "      <th>final.output.concentrate_ag</th>\n",
       "      <th>final.output.concentrate_pb</th>\n",
       "      <th>final.output.concentrate_sol</th>\n",
       "      <th>final.output.concentrate_au</th>\n",
       "      <th>final.output.recovery</th>\n",
       "      <th>final.output.tail_ag</th>\n",
       "      <th>final.output.tail_pb</th>\n",
       "      <th>final.output.tail_sol</th>\n",
       "      <th>final.output.tail_au</th>\n",
       "      <th>...</th>\n",
       "      <th>secondary_cleaner.state.floatbank4_a_air</th>\n",
       "      <th>secondary_cleaner.state.floatbank4_a_level</th>\n",
       "      <th>secondary_cleaner.state.floatbank4_b_air</th>\n",
       "      <th>secondary_cleaner.state.floatbank4_b_level</th>\n",
       "      <th>secondary_cleaner.state.floatbank5_a_air</th>\n",
       "      <th>secondary_cleaner.state.floatbank5_a_level</th>\n",
       "      <th>secondary_cleaner.state.floatbank5_b_air</th>\n",
       "      <th>secondary_cleaner.state.floatbank5_b_level</th>\n",
       "      <th>secondary_cleaner.state.floatbank6_a_air</th>\n",
       "      <th>secondary_cleaner.state.floatbank6_a_level</th>\n",
       "    </tr>\n",
       "  </thead>\n",
       "  <tbody>\n",
       "    <tr>\n",
       "      <th>0</th>\n",
       "      <td>2016-01-15 00:00:00</td>\n",
       "      <td>6.055403</td>\n",
       "      <td>9.889648</td>\n",
       "      <td>5.507324</td>\n",
       "      <td>42.192020</td>\n",
       "      <td>70.541216</td>\n",
       "      <td>10.411962</td>\n",
       "      <td>0.895447</td>\n",
       "      <td>16.904297</td>\n",
       "      <td>2.143149</td>\n",
       "      <td>...</td>\n",
       "      <td>14.016835</td>\n",
       "      <td>-502.488007</td>\n",
       "      <td>12.099931</td>\n",
       "      <td>-504.715942</td>\n",
       "      <td>9.925633</td>\n",
       "      <td>-498.310211</td>\n",
       "      <td>8.079666</td>\n",
       "      <td>-500.470978</td>\n",
       "      <td>14.151341</td>\n",
       "      <td>-605.841980</td>\n",
       "    </tr>\n",
       "    <tr>\n",
       "      <th>1</th>\n",
       "      <td>2016-01-15 01:00:00</td>\n",
       "      <td>6.029369</td>\n",
       "      <td>9.968944</td>\n",
       "      <td>5.257781</td>\n",
       "      <td>42.701629</td>\n",
       "      <td>69.266198</td>\n",
       "      <td>10.462676</td>\n",
       "      <td>0.927452</td>\n",
       "      <td>16.634514</td>\n",
       "      <td>2.224930</td>\n",
       "      <td>...</td>\n",
       "      <td>13.992281</td>\n",
       "      <td>-505.503262</td>\n",
       "      <td>11.950531</td>\n",
       "      <td>-501.331529</td>\n",
       "      <td>10.039245</td>\n",
       "      <td>-500.169983</td>\n",
       "      <td>7.984757</td>\n",
       "      <td>-500.582168</td>\n",
       "      <td>13.998353</td>\n",
       "      <td>-599.787184</td>\n",
       "    </tr>\n",
       "    <tr>\n",
       "      <th>2</th>\n",
       "      <td>2016-01-15 02:00:00</td>\n",
       "      <td>6.055926</td>\n",
       "      <td>10.213995</td>\n",
       "      <td>5.383759</td>\n",
       "      <td>42.657501</td>\n",
       "      <td>68.116445</td>\n",
       "      <td>10.507046</td>\n",
       "      <td>0.953716</td>\n",
       "      <td>16.208849</td>\n",
       "      <td>2.257889</td>\n",
       "      <td>...</td>\n",
       "      <td>14.015015</td>\n",
       "      <td>-502.520901</td>\n",
       "      <td>11.912783</td>\n",
       "      <td>-501.133383</td>\n",
       "      <td>10.070913</td>\n",
       "      <td>-500.129135</td>\n",
       "      <td>8.013877</td>\n",
       "      <td>-500.517572</td>\n",
       "      <td>14.028663</td>\n",
       "      <td>-601.427363</td>\n",
       "    </tr>\n",
       "    <tr>\n",
       "      <th>3</th>\n",
       "      <td>2016-01-15 03:00:00</td>\n",
       "      <td>6.047977</td>\n",
       "      <td>9.977019</td>\n",
       "      <td>4.858634</td>\n",
       "      <td>42.689819</td>\n",
       "      <td>68.347543</td>\n",
       "      <td>10.422762</td>\n",
       "      <td>0.883763</td>\n",
       "      <td>16.532835</td>\n",
       "      <td>2.146849</td>\n",
       "      <td>...</td>\n",
       "      <td>14.036510</td>\n",
       "      <td>-500.857308</td>\n",
       "      <td>11.999550</td>\n",
       "      <td>-501.193686</td>\n",
       "      <td>9.970366</td>\n",
       "      <td>-499.201640</td>\n",
       "      <td>7.977324</td>\n",
       "      <td>-500.255908</td>\n",
       "      <td>14.005551</td>\n",
       "      <td>-599.996129</td>\n",
       "    </tr>\n",
       "    <tr>\n",
       "      <th>4</th>\n",
       "      <td>2016-01-15 04:00:00</td>\n",
       "      <td>6.148599</td>\n",
       "      <td>10.142511</td>\n",
       "      <td>4.939416</td>\n",
       "      <td>42.774141</td>\n",
       "      <td>66.927016</td>\n",
       "      <td>10.360302</td>\n",
       "      <td>0.792826</td>\n",
       "      <td>16.525686</td>\n",
       "      <td>2.055292</td>\n",
       "      <td>...</td>\n",
       "      <td>14.027298</td>\n",
       "      <td>-499.838632</td>\n",
       "      <td>11.953070</td>\n",
       "      <td>-501.053894</td>\n",
       "      <td>9.925709</td>\n",
       "      <td>-501.686727</td>\n",
       "      <td>7.894242</td>\n",
       "      <td>-500.356035</td>\n",
       "      <td>13.996647</td>\n",
       "      <td>-601.496691</td>\n",
       "    </tr>\n",
       "  </tbody>\n",
       "</table>\n",
       "<p>5 rows × 87 columns</p>\n",
       "</div>"
      ],
      "text/plain": [
       "                  date  final.output.concentrate_ag  \\\n",
       "0  2016-01-15 00:00:00                     6.055403   \n",
       "1  2016-01-15 01:00:00                     6.029369   \n",
       "2  2016-01-15 02:00:00                     6.055926   \n",
       "3  2016-01-15 03:00:00                     6.047977   \n",
       "4  2016-01-15 04:00:00                     6.148599   \n",
       "\n",
       "   final.output.concentrate_pb  final.output.concentrate_sol  \\\n",
       "0                     9.889648                      5.507324   \n",
       "1                     9.968944                      5.257781   \n",
       "2                    10.213995                      5.383759   \n",
       "3                     9.977019                      4.858634   \n",
       "4                    10.142511                      4.939416   \n",
       "\n",
       "   final.output.concentrate_au  final.output.recovery  final.output.tail_ag  \\\n",
       "0                    42.192020              70.541216             10.411962   \n",
       "1                    42.701629              69.266198             10.462676   \n",
       "2                    42.657501              68.116445             10.507046   \n",
       "3                    42.689819              68.347543             10.422762   \n",
       "4                    42.774141              66.927016             10.360302   \n",
       "\n",
       "   final.output.tail_pb  final.output.tail_sol  final.output.tail_au  ...  \\\n",
       "0              0.895447              16.904297              2.143149  ...   \n",
       "1              0.927452              16.634514              2.224930  ...   \n",
       "2              0.953716              16.208849              2.257889  ...   \n",
       "3              0.883763              16.532835              2.146849  ...   \n",
       "4              0.792826              16.525686              2.055292  ...   \n",
       "\n",
       "   secondary_cleaner.state.floatbank4_a_air  \\\n",
       "0                                 14.016835   \n",
       "1                                 13.992281   \n",
       "2                                 14.015015   \n",
       "3                                 14.036510   \n",
       "4                                 14.027298   \n",
       "\n",
       "   secondary_cleaner.state.floatbank4_a_level  \\\n",
       "0                                 -502.488007   \n",
       "1                                 -505.503262   \n",
       "2                                 -502.520901   \n",
       "3                                 -500.857308   \n",
       "4                                 -499.838632   \n",
       "\n",
       "   secondary_cleaner.state.floatbank4_b_air  \\\n",
       "0                                 12.099931   \n",
       "1                                 11.950531   \n",
       "2                                 11.912783   \n",
       "3                                 11.999550   \n",
       "4                                 11.953070   \n",
       "\n",
       "   secondary_cleaner.state.floatbank4_b_level  \\\n",
       "0                                 -504.715942   \n",
       "1                                 -501.331529   \n",
       "2                                 -501.133383   \n",
       "3                                 -501.193686   \n",
       "4                                 -501.053894   \n",
       "\n",
       "   secondary_cleaner.state.floatbank5_a_air  \\\n",
       "0                                  9.925633   \n",
       "1                                 10.039245   \n",
       "2                                 10.070913   \n",
       "3                                  9.970366   \n",
       "4                                  9.925709   \n",
       "\n",
       "   secondary_cleaner.state.floatbank5_a_level  \\\n",
       "0                                 -498.310211   \n",
       "1                                 -500.169983   \n",
       "2                                 -500.129135   \n",
       "3                                 -499.201640   \n",
       "4                                 -501.686727   \n",
       "\n",
       "   secondary_cleaner.state.floatbank5_b_air  \\\n",
       "0                                  8.079666   \n",
       "1                                  7.984757   \n",
       "2                                  8.013877   \n",
       "3                                  7.977324   \n",
       "4                                  7.894242   \n",
       "\n",
       "   secondary_cleaner.state.floatbank5_b_level  \\\n",
       "0                                 -500.470978   \n",
       "1                                 -500.582168   \n",
       "2                                 -500.517572   \n",
       "3                                 -500.255908   \n",
       "4                                 -500.356035   \n",
       "\n",
       "   secondary_cleaner.state.floatbank6_a_air  \\\n",
       "0                                 14.151341   \n",
       "1                                 13.998353   \n",
       "2                                 14.028663   \n",
       "3                                 14.005551   \n",
       "4                                 13.996647   \n",
       "\n",
       "   secondary_cleaner.state.floatbank6_a_level  \n",
       "0                                 -605.841980  \n",
       "1                                 -599.787184  \n",
       "2                                 -601.427363  \n",
       "3                                 -599.996129  \n",
       "4                                 -601.496691  \n",
       "\n",
       "[5 rows x 87 columns]"
      ]
     },
     "metadata": {},
     "output_type": "display_data"
    },
    {
     "name": "stdout",
     "output_type": "stream",
     "text": [
      "<class 'pandas.core.frame.DataFrame'>\n",
      "RangeIndex: 19439 entries, 0 to 19438\n",
      "Data columns (total 87 columns):\n",
      " #   Column                                              Non-Null Count  Dtype  \n",
      "---  ------                                              --------------  -----  \n",
      " 0   date                                                19439 non-null  object \n",
      " 1   final.output.concentrate_ag                         19438 non-null  float64\n",
      " 2   final.output.concentrate_pb                         19438 non-null  float64\n",
      " 3   final.output.concentrate_sol                        19228 non-null  float64\n",
      " 4   final.output.concentrate_au                         19439 non-null  float64\n",
      " 5   final.output.recovery                               19439 non-null  float64\n",
      " 6   final.output.tail_ag                                19438 non-null  float64\n",
      " 7   final.output.tail_pb                                19338 non-null  float64\n",
      " 8   final.output.tail_sol                               19433 non-null  float64\n",
      " 9   final.output.tail_au                                19439 non-null  float64\n",
      " 10  primary_cleaner.input.sulfate                       19415 non-null  float64\n",
      " 11  primary_cleaner.input.depressant                    19402 non-null  float64\n",
      " 12  primary_cleaner.input.feed_size                     19439 non-null  float64\n",
      " 13  primary_cleaner.input.xanthate                      19335 non-null  float64\n",
      " 14  primary_cleaner.output.concentrate_ag               19439 non-null  float64\n",
      " 15  primary_cleaner.output.concentrate_pb               19323 non-null  float64\n",
      " 16  primary_cleaner.output.concentrate_sol              19069 non-null  float64\n",
      " 17  primary_cleaner.output.concentrate_au               19439 non-null  float64\n",
      " 18  primary_cleaner.output.tail_ag                      19435 non-null  float64\n",
      " 19  primary_cleaner.output.tail_pb                      19418 non-null  float64\n",
      " 20  primary_cleaner.output.tail_sol                     19377 non-null  float64\n",
      " 21  primary_cleaner.output.tail_au                      19439 non-null  float64\n",
      " 22  primary_cleaner.state.floatbank8_a_air              19435 non-null  float64\n",
      " 23  primary_cleaner.state.floatbank8_a_level            19438 non-null  float64\n",
      " 24  primary_cleaner.state.floatbank8_b_air              19435 non-null  float64\n",
      " 25  primary_cleaner.state.floatbank8_b_level            19438 non-null  float64\n",
      " 26  primary_cleaner.state.floatbank8_c_air              19437 non-null  float64\n",
      " 27  primary_cleaner.state.floatbank8_c_level            19438 non-null  float64\n",
      " 28  primary_cleaner.state.floatbank8_d_air              19436 non-null  float64\n",
      " 29  primary_cleaner.state.floatbank8_d_level            19438 non-null  float64\n",
      " 30  rougher.calculation.sulfate_to_au_concentrate       19437 non-null  float64\n",
      " 31  rougher.calculation.floatbank10_sulfate_to_au_feed  19437 non-null  float64\n",
      " 32  rougher.calculation.floatbank11_sulfate_to_au_feed  19437 non-null  float64\n",
      " 33  rougher.calculation.au_pb_ratio                     19439 non-null  float64\n",
      " 34  rougher.input.feed_ag                               19439 non-null  float64\n",
      " 35  rougher.input.feed_pb                               19339 non-null  float64\n",
      " 36  rougher.input.feed_rate                             19428 non-null  float64\n",
      " 37  rougher.input.feed_size                             19294 non-null  float64\n",
      " 38  rougher.input.feed_sol                              19340 non-null  float64\n",
      " 39  rougher.input.feed_au                               19439 non-null  float64\n",
      " 40  rougher.input.floatbank10_sulfate                   19405 non-null  float64\n",
      " 41  rougher.input.floatbank10_xanthate                  19431 non-null  float64\n",
      " 42  rougher.input.floatbank11_sulfate                   19395 non-null  float64\n",
      " 43  rougher.input.floatbank11_xanthate                  18986 non-null  float64\n",
      " 44  rougher.output.concentrate_ag                       19439 non-null  float64\n",
      " 45  rougher.output.concentrate_pb                       19439 non-null  float64\n",
      " 46  rougher.output.concentrate_sol                      19416 non-null  float64\n",
      " 47  rougher.output.concentrate_au                       19439 non-null  float64\n",
      " 48  rougher.output.recovery                             19439 non-null  float64\n",
      " 49  rougher.output.tail_ag                              19438 non-null  float64\n",
      " 50  rougher.output.tail_pb                              19439 non-null  float64\n",
      " 51  rougher.output.tail_sol                             19439 non-null  float64\n",
      " 52  rougher.output.tail_au                              19439 non-null  float64\n",
      " 53  rougher.state.floatbank10_a_air                     19438 non-null  float64\n",
      " 54  rougher.state.floatbank10_a_level                   19438 non-null  float64\n",
      " 55  rougher.state.floatbank10_b_air                     19438 non-null  float64\n",
      " 56  rougher.state.floatbank10_b_level                   19438 non-null  float64\n",
      " 57  rougher.state.floatbank10_c_air                     19438 non-null  float64\n",
      " 58  rougher.state.floatbank10_c_level                   19438 non-null  float64\n",
      " 59  rougher.state.floatbank10_d_air                     19439 non-null  float64\n",
      " 60  rougher.state.floatbank10_d_level                   19439 non-null  float64\n",
      " 61  rougher.state.floatbank10_e_air                     19003 non-null  float64\n",
      " 62  rougher.state.floatbank10_e_level                   19439 non-null  float64\n",
      " 63  rougher.state.floatbank10_f_air                     19439 non-null  float64\n",
      " 64  rougher.state.floatbank10_f_level                   19439 non-null  float64\n",
      " 65  secondary_cleaner.output.tail_ag                    19437 non-null  float64\n",
      " 66  secondary_cleaner.output.tail_pb                    19427 non-null  float64\n",
      " 67  secondary_cleaner.output.tail_sol                   17691 non-null  float64\n",
      " 68  secondary_cleaner.output.tail_au                    19439 non-null  float64\n",
      " 69  secondary_cleaner.state.floatbank2_a_air            19219 non-null  float64\n",
      " 70  secondary_cleaner.state.floatbank2_a_level          19438 non-null  float64\n",
      " 71  secondary_cleaner.state.floatbank2_b_air            19416 non-null  float64\n",
      " 72  secondary_cleaner.state.floatbank2_b_level          19438 non-null  float64\n",
      " 73  secondary_cleaner.state.floatbank3_a_air            19426 non-null  float64\n",
      " 74  secondary_cleaner.state.floatbank3_a_level          19438 non-null  float64\n",
      " 75  secondary_cleaner.state.floatbank3_b_air            19438 non-null  float64\n",
      " 76  secondary_cleaner.state.floatbank3_b_level          19438 non-null  float64\n",
      " 77  secondary_cleaner.state.floatbank4_a_air            19433 non-null  float64\n",
      " 78  secondary_cleaner.state.floatbank4_a_level          19438 non-null  float64\n",
      " 79  secondary_cleaner.state.floatbank4_b_air            19438 non-null  float64\n",
      " 80  secondary_cleaner.state.floatbank4_b_level          19438 non-null  float64\n",
      " 81  secondary_cleaner.state.floatbank5_a_air            19438 non-null  float64\n",
      " 82  secondary_cleaner.state.floatbank5_a_level          19438 non-null  float64\n",
      " 83  secondary_cleaner.state.floatbank5_b_air            19438 non-null  float64\n",
      " 84  secondary_cleaner.state.floatbank5_b_level          19438 non-null  float64\n",
      " 85  secondary_cleaner.state.floatbank6_a_air            19437 non-null  float64\n",
      " 86  secondary_cleaner.state.floatbank6_a_level          19438 non-null  float64\n",
      "dtypes: float64(86), object(1)\n",
      "memory usage: 12.9+ MB\n"
     ]
    }
   ],
   "source": [
    "for df in [df_train, df_test, df_full]:\n",
    "    display(df.head())\n",
    "    df.info()"
   ]
  },
  {
   "cell_type": "markdown",
   "metadata": {},
   "source": [
    "**Вывод:**\n",
    "\n",
    "- Обучающая и тестовая выборки разбиты в соотношении 70:30.\n",
    "- Во всех датафреймах есть пропущенные строки, их необходимо обработать.\n",
    "- В тестовой выборке нет некоторых столбцов, которые есть в исходном и обучающем датасетах, их необходимо добавить."
   ]
  },
  {
   "cell_type": "markdown",
   "metadata": {},
   "source": [
    "### Проверка расчётов"
   ]
  },
  {
   "cell_type": "markdown",
   "metadata": {},
   "source": [
    "Для проверки правильности расчётов на обучающей выборке посчитаем вручную эффективность обогащения чернового концентрата `rougher.output.recovery` и сравним значения с имеющимися данными с помощью метрики MAE."
   ]
  },
  {
   "cell_type": "code",
   "execution_count": 5,
   "metadata": {
    "scrolled": true
   },
   "outputs": [
    {
     "data": {
      "text/plain": [
       "9.73512347450521e-15"
      ]
     },
     "metadata": {},
     "output_type": "display_data"
    }
   ],
   "source": [
    "# создаём новый столбец с расчётами\n",
    "df_train['check']=(df_train['rougher.output.concentrate_au']*(df_train['rougher.input.feed_au'] - df_train['rougher.output.tail_au']))/(df_train['rougher.input.feed_au']*(df_train['rougher.output.concentrate_au']-df_train['rougher.output.tail_au']))*100\n",
    "# считаем MAE для проверочного и существующего признаков\n",
    "mae = mean_absolute_error(df_train['check'], df_train['rougher.output.recovery'])\n",
    "display(mae)"
   ]
  },
  {
   "cell_type": "markdown",
   "metadata": {},
   "source": [
    "**Вывод:**\n",
    "\n",
    "Получаем очень маленькое значений среднего абсолютного отклонения, значит, расчёты корректны. Дополнительный столбец удаляем."
   ]
  },
  {
   "cell_type": "code",
   "execution_count": 6,
   "metadata": {},
   "outputs": [],
   "source": [
    "df_train = df_train.drop('check', axis=1)"
   ]
  },
  {
   "cell_type": "markdown",
   "metadata": {},
   "source": [
    "### Анализ отсутствующих столбцов в тестовой выборке"
   ]
  },
  {
   "cell_type": "markdown",
   "metadata": {},
   "source": [
    "Проверим, какие признаки отсутствуют в тестовой выборке по сравнению с исходной."
   ]
  },
  {
   "cell_type": "code",
   "execution_count": 7,
   "metadata": {},
   "outputs": [
    {
     "data": {
      "text/plain": [
       "Index(['final.output.concentrate_ag', 'final.output.concentrate_au',\n",
       "       'final.output.concentrate_pb', 'final.output.concentrate_sol',\n",
       "       'final.output.recovery', 'final.output.tail_ag', 'final.output.tail_au',\n",
       "       'final.output.tail_pb', 'final.output.tail_sol',\n",
       "       'primary_cleaner.output.concentrate_ag',\n",
       "       'primary_cleaner.output.concentrate_au',\n",
       "       'primary_cleaner.output.concentrate_pb',\n",
       "       'primary_cleaner.output.concentrate_sol',\n",
       "       'primary_cleaner.output.tail_ag', 'primary_cleaner.output.tail_au',\n",
       "       'primary_cleaner.output.tail_pb', 'primary_cleaner.output.tail_sol',\n",
       "       'rougher.calculation.au_pb_ratio',\n",
       "       'rougher.calculation.floatbank10_sulfate_to_au_feed',\n",
       "       'rougher.calculation.floatbank11_sulfate_to_au_feed',\n",
       "       'rougher.calculation.sulfate_to_au_concentrate',\n",
       "       'rougher.output.concentrate_ag', 'rougher.output.concentrate_au',\n",
       "       'rougher.output.concentrate_pb', 'rougher.output.concentrate_sol',\n",
       "       'rougher.output.recovery', 'rougher.output.tail_ag',\n",
       "       'rougher.output.tail_au', 'rougher.output.tail_pb',\n",
       "       'rougher.output.tail_sol', 'secondary_cleaner.output.tail_ag',\n",
       "       'secondary_cleaner.output.tail_au', 'secondary_cleaner.output.tail_pb',\n",
       "       'secondary_cleaner.output.tail_sol'],\n",
       "      dtype='object')"
      ]
     },
     "metadata": {},
     "output_type": "display_data"
    }
   ],
   "source": [
    "diff = df_full.columns.difference(df_test.columns)\n",
    "display(diff)"
   ]
  },
  {
   "cell_type": "markdown",
   "metadata": {},
   "source": [
    "В тестовой выборке отсутствуют признаки получившегося продукта на всех этапах обработки, а также, соответственно, все финальные признаки, так как получившиеся параметры модель и должна предсказать. Но для предсказания на тестовой выборке нам нужны будут целевые признаки. В шаге по предобработке данных добавим эти признаки из исходных данных. "
   ]
  },
  {
   "cell_type": "markdown",
   "metadata": {},
   "source": [
    "### Предобработка данных"
   ]
  },
  {
   "cell_type": "markdown",
   "metadata": {},
   "source": [
    "При помощи библиотеки `sweetviz` (установлена вручную вначале документа) проведем исследовательский анализ и выведем три отчета для каждого датафрейма."
   ]
  },
  {
   "cell_type": "code",
   "execution_count": 9,
   "metadata": {},
   "outputs": [
    {
     "ename": "NameError",
     "evalue": "name 'sv' is not defined",
     "output_type": "error",
     "traceback": [
      "\u001b[1;31m---------------------------------------------------------------------------\u001b[0m",
      "\u001b[1;31mNameError\u001b[0m                                 Traceback (most recent call last)",
      "\u001b[1;32m~\\AppData\\Local\\Temp/ipykernel_4200/2635845854.py\u001b[0m in \u001b[0;36m<module>\u001b[1;34m\u001b[0m\n\u001b[0;32m      1\u001b[0m \u001b[1;32mfor\u001b[0m \u001b[0mdf\u001b[0m \u001b[1;32min\u001b[0m \u001b[1;33m[\u001b[0m\u001b[0mdf_train\u001b[0m\u001b[1;33m,\u001b[0m \u001b[0mdf_test\u001b[0m\u001b[1;33m,\u001b[0m \u001b[0mdf_full\u001b[0m\u001b[1;33m]\u001b[0m\u001b[1;33m:\u001b[0m\u001b[1;33m\u001b[0m\u001b[1;33m\u001b[0m\u001b[0m\n\u001b[1;32m----> 2\u001b[1;33m     \u001b[0mreport\u001b[0m \u001b[1;33m=\u001b[0m \u001b[0msv\u001b[0m\u001b[1;33m.\u001b[0m\u001b[0manalyze\u001b[0m\u001b[1;33m(\u001b[0m\u001b[0mdf\u001b[0m\u001b[1;33m)\u001b[0m\u001b[1;33m\u001b[0m\u001b[1;33m\u001b[0m\u001b[0m\n\u001b[0m\u001b[0;32m      3\u001b[0m     \u001b[0mreport\u001b[0m\u001b[1;33m.\u001b[0m\u001b[0mshow_html\u001b[0m\u001b[1;33m(\u001b[0m\u001b[1;33m)\u001b[0m\u001b[1;33m\u001b[0m\u001b[1;33m\u001b[0m\u001b[0m\n",
      "\u001b[1;31mNameError\u001b[0m: name 'sv' is not defined"
     ]
    }
   ],
   "source": [
    "for df in [df_train, df_test, df_full]:\n",
    "    report = sv.analyze(df)\n",
    "    report.show_html()"
   ]
  },
  {
   "cell_type": "markdown",
   "metadata": {},
   "source": [
    "- Дубликатов нет ни в одном датафрейме.\n",
    "- В некоторых признаках есть пропущенные значения. Поскольку все строки идут в порядке возрастания времени, и по условию соседние по времени параметры часто похожи, то можно заменить пропущенные значения на значения из предыдущих строк."
   ]
  },
  {
   "cell_type": "code",
   "execution_count": 10,
   "metadata": {
    "scrolled": true
   },
   "outputs": [
    {
     "name": "stdout",
     "output_type": "stream",
     "text": [
      "<class 'pandas.core.frame.DataFrame'>\n",
      "RangeIndex: 5290 entries, 0 to 5289\n",
      "Data columns (total 53 columns):\n",
      " #   Column                                      Non-Null Count  Dtype  \n",
      "---  ------                                      --------------  -----  \n",
      " 0   date                                        5290 non-null   object \n",
      " 1   primary_cleaner.input.sulfate               5290 non-null   float64\n",
      " 2   primary_cleaner.input.depressant            5290 non-null   float64\n",
      " 3   primary_cleaner.input.feed_size             5290 non-null   float64\n",
      " 4   primary_cleaner.input.xanthate              5290 non-null   float64\n",
      " 5   primary_cleaner.state.floatbank8_a_air      5290 non-null   float64\n",
      " 6   primary_cleaner.state.floatbank8_a_level    5290 non-null   float64\n",
      " 7   primary_cleaner.state.floatbank8_b_air      5290 non-null   float64\n",
      " 8   primary_cleaner.state.floatbank8_b_level    5290 non-null   float64\n",
      " 9   primary_cleaner.state.floatbank8_c_air      5290 non-null   float64\n",
      " 10  primary_cleaner.state.floatbank8_c_level    5290 non-null   float64\n",
      " 11  primary_cleaner.state.floatbank8_d_air      5290 non-null   float64\n",
      " 12  primary_cleaner.state.floatbank8_d_level    5290 non-null   float64\n",
      " 13  rougher.input.feed_ag                       5290 non-null   float64\n",
      " 14  rougher.input.feed_pb                       5290 non-null   float64\n",
      " 15  rougher.input.feed_rate                     5290 non-null   float64\n",
      " 16  rougher.input.feed_size                     5290 non-null   float64\n",
      " 17  rougher.input.feed_sol                      5290 non-null   float64\n",
      " 18  rougher.input.feed_au                       5290 non-null   float64\n",
      " 19  rougher.input.floatbank10_sulfate           5290 non-null   float64\n",
      " 20  rougher.input.floatbank10_xanthate          5290 non-null   float64\n",
      " 21  rougher.input.floatbank11_sulfate           5290 non-null   float64\n",
      " 22  rougher.input.floatbank11_xanthate          5290 non-null   float64\n",
      " 23  rougher.state.floatbank10_a_air             5290 non-null   float64\n",
      " 24  rougher.state.floatbank10_a_level           5290 non-null   float64\n",
      " 25  rougher.state.floatbank10_b_air             5290 non-null   float64\n",
      " 26  rougher.state.floatbank10_b_level           5290 non-null   float64\n",
      " 27  rougher.state.floatbank10_c_air             5290 non-null   float64\n",
      " 28  rougher.state.floatbank10_c_level           5290 non-null   float64\n",
      " 29  rougher.state.floatbank10_d_air             5290 non-null   float64\n",
      " 30  rougher.state.floatbank10_d_level           5290 non-null   float64\n",
      " 31  rougher.state.floatbank10_e_air             5290 non-null   float64\n",
      " 32  rougher.state.floatbank10_e_level           5290 non-null   float64\n",
      " 33  rougher.state.floatbank10_f_air             5290 non-null   float64\n",
      " 34  rougher.state.floatbank10_f_level           5290 non-null   float64\n",
      " 35  secondary_cleaner.state.floatbank2_a_air    5290 non-null   float64\n",
      " 36  secondary_cleaner.state.floatbank2_a_level  5290 non-null   float64\n",
      " 37  secondary_cleaner.state.floatbank2_b_air    5290 non-null   float64\n",
      " 38  secondary_cleaner.state.floatbank2_b_level  5290 non-null   float64\n",
      " 39  secondary_cleaner.state.floatbank3_a_air    5290 non-null   float64\n",
      " 40  secondary_cleaner.state.floatbank3_a_level  5290 non-null   float64\n",
      " 41  secondary_cleaner.state.floatbank3_b_air    5290 non-null   float64\n",
      " 42  secondary_cleaner.state.floatbank3_b_level  5290 non-null   float64\n",
      " 43  secondary_cleaner.state.floatbank4_a_air    5290 non-null   float64\n",
      " 44  secondary_cleaner.state.floatbank4_a_level  5290 non-null   float64\n",
      " 45  secondary_cleaner.state.floatbank4_b_air    5290 non-null   float64\n",
      " 46  secondary_cleaner.state.floatbank4_b_level  5290 non-null   float64\n",
      " 47  secondary_cleaner.state.floatbank5_a_air    5290 non-null   float64\n",
      " 48  secondary_cleaner.state.floatbank5_a_level  5290 non-null   float64\n",
      " 49  secondary_cleaner.state.floatbank5_b_air    5290 non-null   float64\n",
      " 50  secondary_cleaner.state.floatbank5_b_level  5290 non-null   float64\n",
      " 51  secondary_cleaner.state.floatbank6_a_air    5290 non-null   float64\n",
      " 52  secondary_cleaner.state.floatbank6_a_level  5290 non-null   float64\n",
      "dtypes: float64(52), object(1)\n",
      "memory usage: 2.1+ MB\n"
     ]
    }
   ],
   "source": [
    "# заполнение пропусков значением из предыдущей строки\n",
    "df_train = df_train.fillna(method='ffill')\n",
    "df_test = df_test.fillna(method='ffill')\n",
    "df_full = df_full.fillna(method='ffill')\n",
    "df_test.info()"
   ]
  },
  {
   "cell_type": "markdown",
   "metadata": {},
   "source": [
    "Чтобы добавить недостающие столбцы в тестовую выборку:\n",
    "- переведём признак `date` в индексы в обоих Датафреймах\n",
    "- с помощью `merge` присоединим к тестовой выборке целевые признаки по `date`"
   ]
  },
  {
   "cell_type": "code",
   "execution_count": 11,
   "metadata": {},
   "outputs": [],
   "source": [
    "# перевод даты в индексы\n",
    "for df in [df_full, df_test]:\n",
    "    df['date'] = pd.to_datetime(df['date'], format='%Y-%m-%d %H:%M:%S')\n",
    "    df['date'] = pd.to_numeric(df['date'])\n",
    "    df = df.set_index('date')"
   ]
  },
  {
   "cell_type": "code",
   "execution_count": 12,
   "metadata": {},
   "outputs": [
    {
     "name": "stdout",
     "output_type": "stream",
     "text": [
      "<class 'pandas.core.frame.DataFrame'>\n",
      "Int64Index: 5290 entries, 0 to 5289\n",
      "Data columns (total 55 columns):\n",
      " #   Column                                      Non-Null Count  Dtype  \n",
      "---  ------                                      --------------  -----  \n",
      " 0   date                                        5290 non-null   int64  \n",
      " 1   primary_cleaner.input.sulfate               5290 non-null   float64\n",
      " 2   primary_cleaner.input.depressant            5290 non-null   float64\n",
      " 3   primary_cleaner.input.feed_size             5290 non-null   float64\n",
      " 4   primary_cleaner.input.xanthate              5290 non-null   float64\n",
      " 5   primary_cleaner.state.floatbank8_a_air      5290 non-null   float64\n",
      " 6   primary_cleaner.state.floatbank8_a_level    5290 non-null   float64\n",
      " 7   primary_cleaner.state.floatbank8_b_air      5290 non-null   float64\n",
      " 8   primary_cleaner.state.floatbank8_b_level    5290 non-null   float64\n",
      " 9   primary_cleaner.state.floatbank8_c_air      5290 non-null   float64\n",
      " 10  primary_cleaner.state.floatbank8_c_level    5290 non-null   float64\n",
      " 11  primary_cleaner.state.floatbank8_d_air      5290 non-null   float64\n",
      " 12  primary_cleaner.state.floatbank8_d_level    5290 non-null   float64\n",
      " 13  rougher.input.feed_ag                       5290 non-null   float64\n",
      " 14  rougher.input.feed_pb                       5290 non-null   float64\n",
      " 15  rougher.input.feed_rate                     5290 non-null   float64\n",
      " 16  rougher.input.feed_size                     5290 non-null   float64\n",
      " 17  rougher.input.feed_sol                      5290 non-null   float64\n",
      " 18  rougher.input.feed_au                       5290 non-null   float64\n",
      " 19  rougher.input.floatbank10_sulfate           5290 non-null   float64\n",
      " 20  rougher.input.floatbank10_xanthate          5290 non-null   float64\n",
      " 21  rougher.input.floatbank11_sulfate           5290 non-null   float64\n",
      " 22  rougher.input.floatbank11_xanthate          5290 non-null   float64\n",
      " 23  rougher.state.floatbank10_a_air             5290 non-null   float64\n",
      " 24  rougher.state.floatbank10_a_level           5290 non-null   float64\n",
      " 25  rougher.state.floatbank10_b_air             5290 non-null   float64\n",
      " 26  rougher.state.floatbank10_b_level           5290 non-null   float64\n",
      " 27  rougher.state.floatbank10_c_air             5290 non-null   float64\n",
      " 28  rougher.state.floatbank10_c_level           5290 non-null   float64\n",
      " 29  rougher.state.floatbank10_d_air             5290 non-null   float64\n",
      " 30  rougher.state.floatbank10_d_level           5290 non-null   float64\n",
      " 31  rougher.state.floatbank10_e_air             5290 non-null   float64\n",
      " 32  rougher.state.floatbank10_e_level           5290 non-null   float64\n",
      " 33  rougher.state.floatbank10_f_air             5290 non-null   float64\n",
      " 34  rougher.state.floatbank10_f_level           5290 non-null   float64\n",
      " 35  secondary_cleaner.state.floatbank2_a_air    5290 non-null   float64\n",
      " 36  secondary_cleaner.state.floatbank2_a_level  5290 non-null   float64\n",
      " 37  secondary_cleaner.state.floatbank2_b_air    5290 non-null   float64\n",
      " 38  secondary_cleaner.state.floatbank2_b_level  5290 non-null   float64\n",
      " 39  secondary_cleaner.state.floatbank3_a_air    5290 non-null   float64\n",
      " 40  secondary_cleaner.state.floatbank3_a_level  5290 non-null   float64\n",
      " 41  secondary_cleaner.state.floatbank3_b_air    5290 non-null   float64\n",
      " 42  secondary_cleaner.state.floatbank3_b_level  5290 non-null   float64\n",
      " 43  secondary_cleaner.state.floatbank4_a_air    5290 non-null   float64\n",
      " 44  secondary_cleaner.state.floatbank4_a_level  5290 non-null   float64\n",
      " 45  secondary_cleaner.state.floatbank4_b_air    5290 non-null   float64\n",
      " 46  secondary_cleaner.state.floatbank4_b_level  5290 non-null   float64\n",
      " 47  secondary_cleaner.state.floatbank5_a_air    5290 non-null   float64\n",
      " 48  secondary_cleaner.state.floatbank5_a_level  5290 non-null   float64\n",
      " 49  secondary_cleaner.state.floatbank5_b_air    5290 non-null   float64\n",
      " 50  secondary_cleaner.state.floatbank5_b_level  5290 non-null   float64\n",
      " 51  secondary_cleaner.state.floatbank6_a_air    5290 non-null   float64\n",
      " 52  secondary_cleaner.state.floatbank6_a_level  5290 non-null   float64\n",
      " 53  rougher.output.concentrate_au               5290 non-null   float64\n",
      " 54  final.output.concentrate_au                 5290 non-null   float64\n",
      "dtypes: float64(54), int64(1)\n",
      "memory usage: 2.3 MB\n"
     ]
    }
   ],
   "source": [
    "# присоединение признаков\n",
    "df_test = df_test.merge(df_full[['date','rougher.output.concentrate_au', 'final.output.concentrate_au']], on='date')\n",
    "# проверка данных\n",
    "df_test.info()"
   ]
  },
  {
   "cell_type": "markdown",
   "metadata": {},
   "source": [
    "### Вывод"
   ]
  },
  {
   "cell_type": "markdown",
   "metadata": {},
   "source": [
    "- После перепроверки расчётов в Датафреймах можно сделать вывод, что они верны.\n",
    "- Заполнены пропущенные строки значениями из предыдущих строк, так как соседние по времени параметры похожи.\n",
    "- В тестовую выборку добавлены отсутствующие изначально целевые признаки."
   ]
  },
  {
   "cell_type": "markdown",
   "metadata": {},
   "source": [
    "## Анализ данных"
   ]
  },
  {
   "cell_type": "markdown",
   "metadata": {},
   "source": [
    "### Анализ изменения концентрации металлов"
   ]
  },
  {
   "cell_type": "markdown",
   "metadata": {},
   "source": [
    "Для того, чтобы проанализировать изменения концентрации разных металлов выберем (создадим новый Датафрейм `df_metal`) из исходного Датафрейма `df_full` те признаки, в названии которых присутствует название из списка концентратов при помощи цикла. Далее для каждого концентрата построим столбчатую диаграмму в разрезе каждого этапа."
   ]
  },
  {
   "cell_type": "code",
   "execution_count": 13,
   "metadata": {
    "scrolled": false
   },
   "outputs": [
    {
     "data": {
      "image/png": "[encoded data removed]",
      "text/plain": [
       "<Figure size 864x432 with 1 Axes>"
      ]
     },
     "metadata": {
      "needs_background": "light"
     },
     "output_type": "display_data"
    },
    {
     "data": {
      "image/png": "[encoded data removed]",
      "text/plain": [
       "<Figure size 864x432 with 1 Axes>"
      ]
     },
     "metadata": {},
     "output_type": "display_data"
    },
    {
     "data": {
      "image/png": "[encoded data removed]",
      "text/plain": [
       "<Figure size 864x432 with 1 Axes>"
      ]
     },
     "metadata": {},
     "output_type": "display_data"
    }
   ],
   "source": [
    "for metal in ['concentrate_ag', 'concentrate_pb', 'concentrate_au']:\n",
    "    df_metal = df_full.iloc[:, df_full.columns.str.contains(metal, case=False)]\n",
    "    plt.figure(figsize = (12,6))\n",
    "    sns.set_theme(style=\"whitegrid\")\n",
    "    sns.barplot(data=df_metal).set_title(metal)"
   ]
  },
  {
   "cell_type": "markdown",
   "metadata": {},
   "source": [
    "**Вывод:**\n",
    "- Концентрация серебра уменьшается после каждого этапа: после флотации концентрация серебра в среднем 12%, после первичной очистки - около 8%, в финальном концентрате содержится 5% серебра.\n",
    "- Концентрация свинца увеличивается после всего очищения только на 1,5-2%. В отличие от серебра и золота концентрация свинца значительно не изменяется.\n",
    "- Концентрация золота увеличивается после каждого этапа: после флотации концентрация золота в среднем около 20%, после первичной очистки - около 30%, в финальном концентрате - около 42%."
   ]
  },
  {
   "cell_type": "markdown",
   "metadata": {},
   "source": [
    "### Сравнение размеров гранул сырья"
   ]
  },
  {
   "cell_type": "markdown",
   "metadata": {},
   "source": [
    "Для того, чтобы проверить насколько равномерны данные в тестовой и обучающей выборках, построим гистограммы с распределением  размеров гранул сырья `rougher.input.feed_size` на каждой выборке."
   ]
  },
  {
   "cell_type": "code",
   "execution_count": 14,
   "metadata": {},
   "outputs": [
    {
     "data": {
      "image/png": "[encoded data removed]",
      "text/plain": [
       "<Figure size 432x288 with 1 Axes>"
      ]
     },
     "metadata": {},
     "output_type": "display_data"
    }
   ],
   "source": [
    "df_train['rougher.input.feed_size'].plot(kind='hist', density=True, bins=20, label='Обучающая выборка', legend=True, title='Распределение размеров гранул сырья')\n",
    "df_test['rougher.input.feed_size'].plot(kind='hist', density=True, bins=20, label='Тестовая выборка', legend=True)\n",
    "plt.show()"
   ]
  },
  {
   "cell_type": "markdown",
   "metadata": {},
   "source": [
    "Проверим средние двух выборок при помощи `ttest`. Обозначим нулевую гипотезу как: \"средние двух выборок равны\", критический роувень значимости возьмём 5%. Так как размеры выборок разные добавим, что `equal_var = False`."
   ]
  },
  {
   "cell_type": "code",
   "execution_count": 15,
   "metadata": {},
   "outputs": [
    {
     "name": "stdout",
     "output_type": "stream",
     "text": [
      "p-значение: 3.134338776805464e-39\n",
      "Отвергаем нулевую гипотезу\n"
     ]
    }
   ],
   "source": [
    "alpha = .05 # критический уровень статистической значимости\n",
    "\n",
    "results = st.ttest_ind(\n",
    "    df_train['rougher.input.feed_size'], \n",
    "    df_test['rougher.input.feed_size'],\n",
    "    equal_var = False)\n",
    "\n",
    "print('p-значение:', results.pvalue)\n",
    "\n",
    "if results.pvalue < alpha:\n",
    "    print(\"Отвергаем нулевую гипотезу\")\n",
    "else:\n",
    "    print(\"Не получилось отвергнуть нулевую гипотезу\") "
   ]
  },
  {
   "cell_type": "markdown",
   "metadata": {},
   "source": [
    "**Вывод:**\n",
    "\n",
    "Распределения размеров гранул на тестовой и обучающей выборках разные. Это можно увидеть и на гистограмме плотностей, и по результатам ttest. Вероятность, что средние двух выборок равны, очень мала. Но другими данными мы не обладаем, поэтому всё равно продолжим работать с этими выборками."
   ]
  },
  {
   "cell_type": "markdown",
   "metadata": {},
   "source": [
    "### Исследование суммарной концентрации всех металлов на разных стадиях"
   ]
  },
  {
   "cell_type": "markdown",
   "metadata": {},
   "source": [
    "Для данного исследования создадим новый Датафрейм `df_metal_sum`, в который занесём суммарные концентрации трёх металлов на каждой стадии обработки. Далее для нового Датафрейма построим гистограмму с распределением суммарной концентрации."
   ]
  },
  {
   "cell_type": "code",
   "execution_count": 16,
   "metadata": {},
   "outputs": [
    {
     "data": {
      "image/png": "[encoded data removed]",
      "text/plain": [
       "<Figure size 432x288 with 1 Axes>"
      ]
     },
     "metadata": {},
     "output_type": "display_data"
    }
   ],
   "source": [
    "df_metal_sum = pd.DataFrame()\n",
    "df_metal_sum['feed'] = df_full['rougher.input.feed_ag'] + df_full['rougher.input.feed_pb'] + df_full['rougher.input.feed_au']\n",
    "df_metal_sum['rougher'] = df_full['rougher.output.concentrate_ag'] + df_full['rougher.output.concentrate_pb'] + df_full['rougher.output.concentrate_au']\n",
    "df_metal_sum['final'] = df_full['final.output.concentrate_ag'] + df_full['final.output.concentrate_pb'] + df_full['final.output.concentrate_au']\n",
    "sns.histplot(data=df_metal_sum).set_title('Суммарная концентрации всех металлов')\n",
    "plt.show()"
   ]
  },
  {
   "cell_type": "code",
   "execution_count": 17,
   "metadata": {},
   "outputs": [
    {
     "data": {
      "text/html": [
       "<div>\n",
       "<style scoped>\n",
       "    .dataframe tbody tr th:only-of-type {\n",
       "        vertical-align: middle;\n",
       "    }\n",
       "\n",
       "    .dataframe tbody tr th {\n",
       "        vertical-align: top;\n",
       "    }\n",
       "\n",
       "    .dataframe thead th {\n",
       "        text-align: right;\n",
       "    }\n",
       "</style>\n",
       "<table border=\"1\" class=\"dataframe\">\n",
       "  <thead>\n",
       "    <tr style=\"text-align: right;\">\n",
       "      <th></th>\n",
       "      <th>feed</th>\n",
       "      <th>rougher</th>\n",
       "      <th>final</th>\n",
       "    </tr>\n",
       "  </thead>\n",
       "  <tbody>\n",
       "    <tr>\n",
       "      <th>count</th>\n",
       "      <td>19439.000000</td>\n",
       "      <td>19439.000000</td>\n",
       "      <td>19439.000000</td>\n",
       "    </tr>\n",
       "    <tr>\n",
       "      <th>mean</th>\n",
       "      <td>20.646120</td>\n",
       "      <td>39.373032</td>\n",
       "      <td>59.223721</td>\n",
       "    </tr>\n",
       "    <tr>\n",
       "      <th>std</th>\n",
       "      <td>4.480027</td>\n",
       "      <td>6.863389</td>\n",
       "      <td>6.095138</td>\n",
       "    </tr>\n",
       "    <tr>\n",
       "      <th>min</th>\n",
       "      <td>0.030000</td>\n",
       "      <td>0.000000</td>\n",
       "      <td>0.000000</td>\n",
       "    </tr>\n",
       "    <tr>\n",
       "      <th>25%</th>\n",
       "      <td>17.252879</td>\n",
       "      <td>38.394639</td>\n",
       "      <td>59.298323</td>\n",
       "    </tr>\n",
       "    <tr>\n",
       "      <th>50%</th>\n",
       "      <td>20.141216</td>\n",
       "      <td>40.312648</td>\n",
       "      <td>60.306921</td>\n",
       "    </tr>\n",
       "    <tr>\n",
       "      <th>75%</th>\n",
       "      <td>23.797381</td>\n",
       "      <td>42.365102</td>\n",
       "      <td>61.096667</td>\n",
       "    </tr>\n",
       "    <tr>\n",
       "      <th>max</th>\n",
       "      <td>33.498784</td>\n",
       "      <td>55.568687</td>\n",
       "      <td>64.968881</td>\n",
       "    </tr>\n",
       "  </tbody>\n",
       "</table>\n",
       "</div>"
      ],
      "text/plain": [
       "               feed       rougher         final\n",
       "count  19439.000000  19439.000000  19439.000000\n",
       "mean      20.646120     39.373032     59.223721\n",
       "std        4.480027      6.863389      6.095138\n",
       "min        0.030000      0.000000      0.000000\n",
       "25%       17.252879     38.394639     59.298323\n",
       "50%       20.141216     40.312648     60.306921\n",
       "75%       23.797381     42.365102     61.096667\n",
       "max       33.498784     55.568687     64.968881"
      ]
     },
     "execution_count": 17,
     "metadata": {},
     "output_type": "execute_result"
    }
   ],
   "source": [
    "df_metal_sum.describe()"
   ]
  },
  {
   "cell_type": "markdown",
   "metadata": {},
   "source": [
    "Можно заметить, что есть значения с нулевыми концентрациями на протяжении всех стадий. Так как эти данные некорректны,  уберём их из датафреймов, сделаем это для финальной концентрации золота - именно для его предсказания будем строить модель."
   ]
  },
  {
   "cell_type": "code",
   "execution_count": 18,
   "metadata": {},
   "outputs": [],
   "source": [
    "df_full = df_full[df_full['final.output.concentrate_au'] > 0]\n",
    "df_train = df_train[df_train['final.output.concentrate_au'] > 0]\n",
    "df_test = df_test[df_test['final.output.concentrate_au'] > 0]"
   ]
  },
  {
   "cell_type": "code",
   "execution_count": 19,
   "metadata": {},
   "outputs": [
    {
     "name": "stdout",
     "output_type": "stream",
     "text": [
      "count    14091.000000\n",
      "mean        44.184916\n",
      "std          4.019591\n",
      "min          0.010000\n",
      "25%         43.296713\n",
      "50%         44.884643\n",
      "75%         46.172256\n",
      "max         52.756638\n",
      "Name: final.output.concentrate_au, dtype: float64\n",
      "count    5250.000000\n",
      "mean       44.608321\n",
      "std         4.182271\n",
      "min         0.904254\n",
      "25%        43.807034\n",
      "50%        45.360433\n",
      "75%        46.582318\n",
      "max        51.233068\n",
      "Name: final.output.concentrate_au, dtype: float64\n"
     ]
    }
   ],
   "source": [
    "# проверка, что нет нулевых значений\n",
    "print(df_train['final.output.concentrate_au'].describe())\n",
    "print(df_test['final.output.concentrate_au'].describe())"
   ]
  },
  {
   "cell_type": "markdown",
   "metadata": {},
   "source": [
    "Нули отсутствуют."
   ]
  },
  {
   "cell_type": "markdown",
   "metadata": {},
   "source": [
    "### Вывод"
   ]
  },
  {
   "cell_type": "markdown",
   "metadata": {},
   "source": [
    "В результате анализа данных было выявлено:\n",
    "- На каждом этапе обработки концентрация золота увеличивается, концентрация серебра уменьшается, а концентрация свинца остаётся почти неизменной.\n",
    "- Распределения размеров гранул достаточно похожи, значит тестовая и обучающая выборки распределены равномерны и построение модели будет корректным.\n",
    "- При подсчёте суммарной концентрации, обнаружились строки с суммарной концентрацией металлов - 0%. Эти строки могут исказить предсказания модели, поэтому они были убраны во всех Датафреймах."
   ]
  },
  {
   "cell_type": "markdown",
   "metadata": {},
   "source": [
    "## Модель"
   ]
  },
  {
   "cell_type": "markdown",
   "metadata": {},
   "source": [
    "Так как для итоговой оценки нам нужны предсказания и чернового, и финального концентрата золота работать будем по следующему алгоритму:\n",
    "- напишем функцию для расчёта отклонения sMAPE и сделаем из неё метрику качества при помощи `make_scorer`.\n",
    "- найдем лучшую модель для предсказания чернового концентрата золота и выберем минимальное sMAPE\n",
    "- найдем лучшую модель для предсказания финального концентрата золота и выберем минимальное sMAPE\n",
    "- рассчитаем итоговую sMAPE, так как она складывается из двух предыдущих, то чем меньше будут исходные отклонения, тем меньше будет и финальное отклонение."
   ]
  },
  {
   "cell_type": "markdown",
   "metadata": {},
   "source": [
    "### Функция для подсчёта sMAPE"
   ]
  },
  {
   "cell_type": "code",
   "execution_count": 20,
   "metadata": {},
   "outputs": [],
   "source": [
    "def smape(target, predictions):\n",
    "    error = (np.abs(target-predictions))/((np.abs(target)+np.abs(predictions))/2)\n",
    "    return np.mean(error)*100\n",
    "smape_score = make_scorer(smape, greater_is_better=False)"
   ]
  },
  {
   "cell_type": "markdown",
   "metadata": {},
   "source": [
    "### Поиск наилучшей модели для предсказания чернового концентрата золота"
   ]
  },
  {
   "cell_type": "markdown",
   "metadata": {},
   "source": [
    "Так как модель должна будет предсказать концентрации на тестовой выборке, значит, в обучающей мы должны взять только те признаки, которые есть в тестовой, для этого воспользуемся списком с названием признаков, присутствующих в тестовой выборке, и передадим в качесте индекса обучающей выборке `df_train[test_columns]`. \n",
    "\n",
    "Также на черновой концентрат влияют только признаки, связанные с исходным сырьем и непосредственно со стадией флотации, поэтому для такого разделения при помощи `iloc` передадим обучающей выборке только признаки, содержащие строку 'rougher'. Так как в это условие попал и сам целевой признак, уберем его при помощи `drop`. В целевой признак пойдёт признак `rougher.output.concentrate_au` из полной обучающей выборки."
   ]
  },
  {
   "cell_type": "code",
   "execution_count": 21,
   "metadata": {},
   "outputs": [],
   "source": [
    "test_columns = df_test.columns #список с названием признаков из тестовой выборки"
   ]
  },
  {
   "cell_type": "code",
   "execution_count": 22,
   "metadata": {},
   "outputs": [],
   "source": [
    "features_train_rougher = (df_train[test_columns].iloc[:, df_train[test_columns].columns.str.contains('rougher', case=False)]).drop(['rougher.output.concentrate_au'], axis=1)\n",
    "target_train_rougher = df_train['rougher.output.concentrate_au']"
   ]
  },
  {
   "cell_type": "code",
   "execution_count": 23,
   "metadata": {},
   "outputs": [],
   "source": [
    "state = np.random.RandomState(12345)"
   ]
  },
  {
   "cell_type": "markdown",
   "metadata": {},
   "source": [
    "#### Линейная регрессия"
   ]
  },
  {
   "cell_type": "markdown",
   "metadata": {},
   "source": [
    "В линейной регресии выполним кросс-валидацию при помощи `cross_val_score`, а далее найдем среднее значение sMAPE. Так как в `make_scorer` мы добавляли параметр `greater_is_better=False`, значения smape могут получиться отрицательными, поэтому возьмем эти значения по модулю."
   ]
  },
  {
   "cell_type": "code",
   "execution_count": 24,
   "metadata": {},
   "outputs": [
    {
     "name": "stdout",
     "output_type": "stream",
     "text": [
      "sMAPE модели: 12.816699859598307\n",
      "Wall time: 252 ms\n"
     ]
    }
   ],
   "source": [
    "%%time\n",
    "model_rougher_lnr = LinearRegression()\n",
    "scores_smape_rougher_lnr = cross_val_score(model_rougher_lnr, features_train_rougher, target_train_rougher, scoring=smape_score, cv=20)\n",
    "smape_rougher_lnr = abs(scores_smape_rougher_lnr).mean()\n",
    "print('sMAPE модели:', smape_rougher_lnr)"
   ]
  },
  {
   "cell_type": "markdown",
   "metadata": {},
   "source": [
    "#### Дерево решений"
   ]
  },
  {
   "cell_type": "markdown",
   "metadata": {},
   "source": [
    "Для дерева решений и случайного леса воспользуемся GridSearchCV, чтобы одновременно перебрать параметры и осуществить кросс-валидацию."
   ]
  },
  {
   "cell_type": "code",
   "execution_count": 25,
   "metadata": {},
   "outputs": [],
   "source": [
    "parametrs_dtr = {'max_depth': range (1,15,2),\n",
    "                 \"splitter\": [\"best\",\"random\"],\n",
    "                 'min_samples_leaf': range (1,10),\n",
    "                 'min_samples_split': range(2,10)\n",
    "                }"
   ]
  },
  {
   "cell_type": "code",
   "execution_count": 26,
   "metadata": {},
   "outputs": [
    {
     "name": "stdout",
     "output_type": "stream",
     "text": [
      "{'max_depth': 5, 'min_samples_leaf': 4, 'min_samples_split': 2, 'splitter': 'random'}\n",
      "sMAPE модели: 13.72643613618935\n",
      "Wall time: 7min 39s\n"
     ]
    }
   ],
   "source": [
    "%%time\n",
    "# создаем модель для перебора параметров\n",
    "model_rougher_dtr = GridSearchCV(DecisionTreeRegressor(random_state=state), parametrs_dtr, scoring=smape_score, cv=5)\n",
    "# обучаем модель\n",
    "model_rougher_dtr.fit(features_train_rougher, target_train_rougher)\n",
    "# получаем лучшее sMAPE среди всех переборов модели\n",
    "smape_rougher_dtr = model_rougher_dtr.best_score_ \n",
    "best_model_1 = model_rougher_dtr.best_estimator_\n",
    "print(model_rougher_dtr.best_params_)\n",
    "print('sMAPE модели:', abs(smape_rougher_dtr))"
   ]
  },
  {
   "cell_type": "markdown",
   "metadata": {},
   "source": [
    "#### Случайный лес"
   ]
  },
  {
   "cell_type": "code",
   "execution_count": 27,
   "metadata": {},
   "outputs": [],
   "source": [
    "parametrs_rfr = {'max_depth': range (10,60,10),\n",
    "                 'n_estimators': range (10, 60, 20)\n",
    "                }"
   ]
  },
  {
   "cell_type": "code",
   "execution_count": 28,
   "metadata": {},
   "outputs": [
    {
     "name": "stdout",
     "output_type": "stream",
     "text": [
      "{'max_depth': 10, 'n_estimators': 10}\n",
      "sMAPE модели: 14.73252407153636\n",
      "Wall time: 8min 2s\n"
     ]
    }
   ],
   "source": [
    "%%time\n",
    "model_rougher_rfr = GridSearchCV(RandomForestRegressor(random_state=state), parametrs_rfr, scoring=smape_score, cv=5)\n",
    "model_rougher_rfr.fit(features_train_rougher, target_train_rougher)\n",
    "smape_rougher_rfr = abs(model_rougher_rfr.best_score_)\n",
    "best_model_2 = model_rougher_rfr.best_estimator_\n",
    "print(model_rougher_rfr.best_params_)\n",
    "print('sMAPE модели:', abs(smape_rougher_rfr))"
   ]
  },
  {
   "cell_type": "markdown",
   "metadata": {},
   "source": [
    "#### Проверка модели на адекватность"
   ]
  },
  {
   "cell_type": "code",
   "execution_count": 29,
   "metadata": {},
   "outputs": [
    {
     "name": "stdout",
     "output_type": "stream",
     "text": [
      "sMAPE случайной модели: 13.808041748128886\n"
     ]
    }
   ],
   "source": [
    "dummy_regr = DummyRegressor()\n",
    "dummy_regr.fit(features_train_rougher, target_train_rougher)\n",
    "pred = dummy_regr.predict(features_train_rougher)\n",
    "print('sMAPE случайной модели:', smape(target_train_rougher, pred))"
   ]
  },
  {
   "cell_type": "markdown",
   "metadata": {},
   "source": [
    "**Вывод:**\n",
    "\n",
    "Меньшее отклонение получилось у модели Линейной регрессии - 12.8%. Это меньше, чем у sMAPE случайной модели. Возьмём этот результат для расчёта итогового sMAPE для обучающей выборки."
   ]
  },
  {
   "cell_type": "markdown",
   "metadata": {},
   "source": [
    "### Поиск наилучшей модели для предсказания финального концентрата золота"
   ]
  },
  {
   "cell_type": "markdown",
   "metadata": {},
   "source": [
    "На финальный концентрат влияют уже все признаки, но опять-таки, которые есть в тестовой выборке. Тогда так как нам нужен только концентрат золота, то целевой признак - это `final.output.concentrate_au`. Остальные признаки, кроме даты и чернового концентрата, возьмём как features из обучающей выборки с индексацией `[test_columns]`."
   ]
  },
  {
   "cell_type": "code",
   "execution_count": 30,
   "metadata": {},
   "outputs": [],
   "source": [
    "features_train_final = df_train[test_columns].drop(['date', 'final.output.concentrate_au', 'rougher.output.concentrate_au'], axis=1)\n",
    "target_train_final = df_train['final.output.concentrate_au']"
   ]
  },
  {
   "cell_type": "markdown",
   "metadata": {},
   "source": [
    "#### Линейная регрессия"
   ]
  },
  {
   "cell_type": "code",
   "execution_count": 31,
   "metadata": {},
   "outputs": [
    {
     "name": "stdout",
     "output_type": "stream",
     "text": [
      "sMAPE модели: 5.617737905923605\n",
      "Wall time: 455 ms\n"
     ]
    }
   ],
   "source": [
    "%%time\n",
    "model_final_lnr = LinearRegression()\n",
    "scores_smape_final_lnr = cross_val_score(model_final_lnr, features_train_final, target_train_final, scoring=smape_score, cv=20)\n",
    "smape_final_lnr = abs(scores_smape_final_lnr).mean()\n",
    "print('sMAPE модели:', smape_final_lnr)"
   ]
  },
  {
   "cell_type": "markdown",
   "metadata": {},
   "source": [
    "#### Дерево решений"
   ]
  },
  {
   "cell_type": "markdown",
   "metadata": {},
   "source": [
    "Параметры для данной модели возьмём те же, что и при построении модели Дерева решений для чернового концентрата."
   ]
  },
  {
   "cell_type": "code",
   "execution_count": 32,
   "metadata": {},
   "outputs": [
    {
     "name": "stdout",
     "output_type": "stream",
     "text": [
      "{'max_depth': 3, 'min_samples_leaf': 7, 'min_samples_split': 2, 'splitter': 'random'}\n",
      "sMAPE модели: 5.6244217086493995\n",
      "Wall time: 17min 51s\n"
     ]
    }
   ],
   "source": [
    "%%time\n",
    "model_final_dtr = GridSearchCV(DecisionTreeRegressor(random_state=state), parametrs_dtr, scoring=smape_score, cv=5)\n",
    "model_final_dtr.fit(features_train_final, target_train_final)\n",
    "smape_final_dtr = model_final_dtr.best_score_\n",
    "best_model_3 = model_final_dtr.best_estimator_\n",
    "print(model_final_dtr.best_params_)\n",
    "print('sMAPE модели:', abs(smape_final_dtr))"
   ]
  },
  {
   "cell_type": "markdown",
   "metadata": {},
   "source": [
    "#### Случайный лес"
   ]
  },
  {
   "cell_type": "markdown",
   "metadata": {},
   "source": [
    "Параметры для данной модели возьмём те же, что и при построении модели  Случайного леса для чернового концентрата."
   ]
  },
  {
   "cell_type": "code",
   "execution_count": 33,
   "metadata": {},
   "outputs": [
    {
     "name": "stdout",
     "output_type": "stream",
     "text": [
      "{'max_depth': 10, 'n_estimators': 10}\n",
      "sMAPE модели: 6.818729742101001\n",
      "Wall time: 23min 51s\n"
     ]
    }
   ],
   "source": [
    "%%time\n",
    "model_final_rfr = GridSearchCV(RandomForestRegressor(random_state=state), parametrs_rfr, scoring=smape_score, cv=5)\n",
    "model_final_rfr.fit(features_train_final, target_train_final)\n",
    "smape_final_rfr = model_final_rfr.best_score_\n",
    "best_model_4 = model_final_rfr.best_estimator_\n",
    "print(model_final_rfr.best_params_)\n",
    "print('sMAPE модели:', abs(smape_final_rfr))"
   ]
  },
  {
   "cell_type": "markdown",
   "metadata": {},
   "source": [
    "#### Проверка модели на адекватность"
   ]
  },
  {
   "cell_type": "code",
   "execution_count": 34,
   "metadata": {},
   "outputs": [
    {
     "name": "stdout",
     "output_type": "stream",
     "text": [
      "sMAPE случайной модели: 5.65970737929483\n"
     ]
    }
   ],
   "source": [
    "dummy_regr_1 = DummyRegressor()\n",
    "dummy_regr_1.fit(features_train_final, target_train_final)\n",
    "pred_1 = dummy_regr_1.predict(features_train_final)\n",
    "print('sMAPE случайной модели:', smape(target_train_final, pred_1))"
   ]
  },
  {
   "cell_type": "markdown",
   "metadata": {},
   "source": [
    "Меньшее отклонение получилось у Линейной регрессии - 5.61%. Данное значение меньше, чем у случайной модели. Возьмём этот результат для расчёта итогового sMAPE для обучающей выборки."
   ]
  },
  {
   "cell_type": "markdown",
   "metadata": {},
   "source": [
    "Рассчитаем итоговое sMAPE."
   ]
  },
  {
   "cell_type": "code",
   "execution_count": 35,
   "metadata": {},
   "outputs": [
    {
     "name": "stdout",
     "output_type": "stream",
     "text": [
      "Итоговое sMAPE на обучающей выборке: 7.417478394342281\n"
     ]
    }
   ],
   "source": [
    "final_smape_train = (0.25*smape_rougher_lnr)+(0.75*smape_final_lnr)\n",
    "print('Итоговое sMAPE на обучающей выборке:', final_smape_train)"
   ]
  },
  {
   "cell_type": "markdown",
   "metadata": {},
   "source": [
    "На обучающей выборке доля ошибок получилась 7.4%. Проверим эти модели на тестовой выборке."
   ]
  },
  {
   "cell_type": "markdown",
   "metadata": {},
   "source": [
    "### Проверка моделей на тестовой выборке"
   ]
  },
  {
   "cell_type": "markdown",
   "metadata": {},
   "source": [
    "Так как изначально линейная регрессия была оценена при помощи `cross_val_score` обучим модель отдельно."
   ]
  },
  {
   "cell_type": "code",
   "execution_count": 36,
   "metadata": {},
   "outputs": [
    {
     "name": "stdout",
     "output_type": "stream",
     "text": [
      "sMAPE модели: 10.801638071714468\n"
     ]
    }
   ],
   "source": [
    "# выбираем из тестовой выборки все признаки, относящиеся к процессу флотации, кроме целевого\n",
    "features_test_rougher = (df_test.iloc[:, df_test.columns.str.contains('rougher', case=False)]).drop(['rougher.output.concentrate_au'], axis=1)\n",
    "# выбираем целевой признак\n",
    "target_test_rougher = df_test['rougher.output.concentrate_au']\n",
    "# обучаем модель\n",
    "model_rougher = LinearRegression()\n",
    "model_rougher.fit(features_train_rougher, target_train_rougher)\n",
    "# считаем sMAPE\n",
    "smape_test_rougher = smape(target_test_rougher, model_rougher.predict(features_test_rougher))\n",
    "print('sMAPE модели:', smape_test_rougher)"
   ]
  },
  {
   "cell_type": "markdown",
   "metadata": {},
   "source": [
    "Проделаем аналогичные шаги для финальной концентрации."
   ]
  },
  {
   "cell_type": "code",
   "execution_count": 37,
   "metadata": {},
   "outputs": [
    {
     "name": "stdout",
     "output_type": "stream",
     "text": [
      "sMAPE модели: 6.282215448142997\n"
     ]
    }
   ],
   "source": [
    "model_final = LinearRegression()\n",
    "model_final.fit(features_train_final, target_train_final)\n",
    "features_test = df_test.drop(['final.output.concentrate_au', 'date', 'rougher.output.concentrate_au'], axis=1)\n",
    "target_test = df_test['final.output.concentrate_au']\n",
    "smape_test_final = smape(target_test, model_final.predict(features_test))\n",
    "print('sMAPE модели:', smape_test_final)"
   ]
  },
  {
   "cell_type": "code",
   "execution_count": 38,
   "metadata": {},
   "outputs": [
    {
     "name": "stdout",
     "output_type": "stream",
     "text": [
      "Итоговое sMAPE на тестовой выборке: 7.412071104035864\n"
     ]
    }
   ],
   "source": [
    "# считаем итоговый sMAPE на тестовой выборке\n",
    "final_smape_test = (0.25*smape_test_rougher)+(0.75*smape_test_final)\n",
    "print('Итоговое sMAPE на тестовой выборке:', final_smape_test)"
   ]
  },
  {
   "cell_type": "markdown",
   "metadata": {},
   "source": [
    "### Вывод"
   ]
  },
  {
   "cell_type": "markdown",
   "metadata": {},
   "source": [
    "- При имеющихся данных лучшей моделью для предсказания и чернового, и финального концентрата золота, получилась модель Линейной регрессии. \n",
    "- Значение относительного отклонения у данной модели при прогнозировании чернового концентрата золота получилось 12.8%. Модель пройдена на адекватность, так как у случайной модели эта же метрика качества равна 13,8%, то есть отклонение выше.\n",
    "- Значение относительного отклонения у данной модели при прогнозировании финального концентрата золота получилось 5.61%.\n",
    "- На обучающей выборке итогове sMAPE составило 7.4%.\n",
    "- На тестовой выборке  итогове sMAPE составило также 7.4%."
   ]
  }
 ],
 "metadata": {
  "ExecuteTimeLog": [
   {
    "duration": 52,
    "start_time": "2022-05-18T02:25:42.938Z"
   },
   {
    "duration": 687,
    "start_time": "2022-05-18T02:25:45.753Z"
   },
   {
    "duration": 1485,
    "start_time": "2022-05-18T02:25:46.442Z"
   },
   {
    "duration": 35,
    "start_time": "2022-05-18T02:25:54.603Z"
   },
   {
    "duration": 24,
    "start_time": "2022-05-18T02:27:57.749Z"
   },
   {
    "duration": 31,
    "start_time": "2022-05-18T02:28:33.308Z"
   },
   {
    "duration": 39,
    "start_time": "2022-05-18T02:29:31.500Z"
   },
   {
    "duration": 24,
    "start_time": "2022-05-18T02:29:36.361Z"
   },
   {
    "duration": 57,
    "start_time": "2022-05-18T02:29:57.091Z"
   },
   {
    "duration": 17,
    "start_time": "2022-05-18T02:30:09.599Z"
   },
   {
    "duration": 22,
    "start_time": "2022-05-18T02:34:45.714Z"
   },
   {
    "duration": 26,
    "start_time": "2022-05-18T02:46:53.985Z"
   },
   {
    "duration": 20,
    "start_time": "2022-05-18T02:47:06.887Z"
   },
   {
    "duration": 3,
    "start_time": "2022-05-18T02:47:24.221Z"
   },
   {
    "duration": 28,
    "start_time": "2022-05-18T02:47:31.155Z"
   },
   {
    "duration": 6,
    "start_time": "2022-05-18T02:47:53.129Z"
   },
   {
    "duration": 58,
    "start_time": "2022-05-18T02:47:54.043Z"
   },
   {
    "duration": 36,
    "start_time": "2022-05-18T02:54:10.299Z"
   },
   {
    "duration": 248,
    "start_time": "2022-05-18T02:55:00.049Z"
   },
   {
    "duration": 569,
    "start_time": "2022-05-18T02:57:12.371Z"
   },
   {
    "duration": 7,
    "start_time": "2022-05-18T02:57:58.894Z"
   },
   {
    "duration": 41,
    "start_time": "2022-05-18T02:58:05.141Z"
   },
   {
    "duration": 2,
    "start_time": "2022-05-18T02:58:54.671Z"
   },
   {
    "duration": 7,
    "start_time": "2022-05-18T02:58:57.805Z"
   },
   {
    "duration": 9,
    "start_time": "2022-05-18T03:16:12.740Z"
   },
   {
    "duration": 8,
    "start_time": "2022-05-18T03:17:50.776Z"
   },
   {
    "duration": 6,
    "start_time": "2022-05-18T03:18:12.086Z"
   },
   {
    "duration": 144,
    "start_time": "2022-05-18T03:18:51.074Z"
   },
   {
    "duration": 517,
    "start_time": "2022-05-18T03:19:19.628Z"
   },
   {
    "duration": 825,
    "start_time": "2022-05-18T03:19:43.463Z"
   },
   {
    "duration": 1291,
    "start_time": "2022-05-18T03:20:13.196Z"
   },
   {
    "duration": 6,
    "start_time": "2022-05-18T03:21:16.158Z"
   },
   {
    "duration": 8,
    "start_time": "2022-05-18T03:21:22.390Z"
   },
   {
    "duration": 8,
    "start_time": "2022-05-18T03:21:39.159Z"
   },
   {
    "duration": 9,
    "start_time": "2022-05-18T03:21:45.251Z"
   },
   {
    "duration": 8,
    "start_time": "2022-05-18T03:21:49.172Z"
   },
   {
    "duration": 8,
    "start_time": "2022-05-18T03:21:55.993Z"
   },
   {
    "duration": 9,
    "start_time": "2022-05-18T03:24:05.843Z"
   },
   {
    "duration": 3,
    "start_time": "2022-05-18T03:24:10.152Z"
   },
   {
    "duration": 213,
    "start_time": "2022-05-18T03:24:11.069Z"
   },
   {
    "duration": 2,
    "start_time": "2022-05-18T03:24:25.016Z"
   },
   {
    "duration": 223,
    "start_time": "2022-05-18T03:24:25.565Z"
   },
   {
    "duration": 923,
    "start_time": "2022-05-18T03:25:23.421Z"
   },
   {
    "duration": 729,
    "start_time": "2022-05-18T03:25:24.346Z"
   },
   {
    "duration": 3,
    "start_time": "2022-05-18T03:25:25.077Z"
   },
   {
    "duration": 108,
    "start_time": "2022-05-18T03:25:25.081Z"
   },
   {
    "duration": 8,
    "start_time": "2022-05-18T03:25:25.191Z"
   },
   {
    "duration": 5,
    "start_time": "2022-05-18T03:34:03.345Z"
   },
   {
    "duration": 124,
    "start_time": "2022-05-18T03:34:31.260Z"
   },
   {
    "duration": 16,
    "start_time": "2022-05-18T03:34:39.932Z"
   },
   {
    "duration": 5,
    "start_time": "2022-05-18T03:34:52.069Z"
   },
   {
    "duration": 3,
    "start_time": "2022-05-18T03:36:35.054Z"
   },
   {
    "duration": 4,
    "start_time": "2022-05-18T03:36:46.645Z"
   },
   {
    "duration": 5,
    "start_time": "2022-05-18T03:36:52.761Z"
   },
   {
    "duration": 12,
    "start_time": "2022-05-18T03:37:19.976Z"
   },
   {
    "duration": 4,
    "start_time": "2022-05-18T03:37:31.088Z"
   },
   {
    "duration": 15,
    "start_time": "2022-05-18T03:37:49.662Z"
   },
   {
    "duration": 7,
    "start_time": "2022-05-18T03:38:05.009Z"
   },
   {
    "duration": 7,
    "start_time": "2022-05-18T03:39:34.619Z"
   },
   {
    "duration": 9,
    "start_time": "2022-05-18T03:42:45.262Z"
   },
   {
    "duration": 906,
    "start_time": "2022-05-18T03:42:50.117Z"
   },
   {
    "duration": 755,
    "start_time": "2022-05-18T03:42:51.026Z"
   },
   {
    "duration": 3,
    "start_time": "2022-05-18T03:42:51.783Z"
   },
   {
    "duration": 153,
    "start_time": "2022-05-18T03:42:51.788Z"
   },
   {
    "duration": 11,
    "start_time": "2022-05-18T03:42:51.947Z"
   },
   {
    "duration": 5,
    "start_time": "2022-05-18T03:42:51.960Z"
   },
   {
    "duration": 100,
    "start_time": "2022-05-18T04:44:14.266Z"
   },
   {
    "duration": 3081,
    "start_time": "2022-05-18T04:44:27.324Z"
   },
   {
    "duration": 604,
    "start_time": "2022-05-18T04:44:31.977Z"
   },
   {
    "duration": 164427,
    "start_time": "2022-05-18T04:45:20.776Z"
   },
   {
    "duration": 34,
    "start_time": "2022-05-18T05:49:09.847Z"
   },
   {
    "duration": 43,
    "start_time": "2022-05-18T05:49:17.804Z"
   },
   {
    "duration": 49,
    "start_time": "2022-05-18T05:49:42.649Z"
   },
   {
    "duration": 52,
    "start_time": "2022-05-18T05:49:52.093Z"
   },
   {
    "duration": 79,
    "start_time": "2022-05-18T05:50:09.413Z"
   },
   {
    "duration": 8,
    "start_time": "2022-05-18T05:54:54.491Z"
   },
   {
    "duration": 13,
    "start_time": "2022-05-18T06:00:51.864Z"
   },
   {
    "duration": 42,
    "start_time": "2022-05-18T06:01:07.556Z"
   },
   {
    "duration": 4,
    "start_time": "2022-05-18T06:01:13.262Z"
   },
   {
    "duration": 13,
    "start_time": "2022-05-18T06:01:16.640Z"
   },
   {
    "duration": 11,
    "start_time": "2022-05-18T06:02:22.744Z"
   },
   {
    "duration": 11,
    "start_time": "2022-05-18T06:03:40.595Z"
   },
   {
    "duration": 5,
    "start_time": "2022-05-18T06:04:01.673Z"
   },
   {
    "duration": 44,
    "start_time": "2022-05-18T06:04:11.212Z"
   },
   {
    "duration": 7,
    "start_time": "2022-05-18T06:04:21.128Z"
   },
   {
    "duration": 5,
    "start_time": "2022-05-18T06:04:33.472Z"
   },
   {
    "duration": 4,
    "start_time": "2022-05-18T06:04:39.778Z"
   },
   {
    "duration": 5,
    "start_time": "2022-05-18T06:06:52.767Z"
   },
   {
    "duration": 12,
    "start_time": "2022-05-18T06:07:08.868Z"
   },
   {
    "duration": 11,
    "start_time": "2022-05-18T06:07:12.779Z"
   },
   {
    "duration": 26,
    "start_time": "2022-05-18T06:07:20.322Z"
   },
   {
    "duration": 14,
    "start_time": "2022-05-18T06:07:26.602Z"
   },
   {
    "duration": 13,
    "start_time": "2022-05-18T06:07:38.399Z"
   },
   {
    "duration": 20,
    "start_time": "2022-05-18T06:08:41.127Z"
   },
   {
    "duration": 13,
    "start_time": "2022-05-18T06:09:00.012Z"
   },
   {
    "duration": 5,
    "start_time": "2022-05-18T06:10:23.671Z"
   },
   {
    "duration": 389,
    "start_time": "2022-05-18T06:10:33.023Z"
   },
   {
    "duration": 504,
    "start_time": "2022-05-18T06:11:15.170Z"
   },
   {
    "duration": 572,
    "start_time": "2022-05-18T06:12:40.844Z"
   },
   {
    "duration": 553,
    "start_time": "2022-05-18T06:12:56.667Z"
   },
   {
    "duration": 12,
    "start_time": "2022-05-18T06:13:11.002Z"
   },
   {
    "duration": 506,
    "start_time": "2022-05-18T06:16:37.914Z"
   },
   {
    "duration": 27,
    "start_time": "2022-05-18T06:25:17.703Z"
   },
   {
    "duration": 429,
    "start_time": "2022-05-18T06:26:32.853Z"
   },
   {
    "duration": 345,
    "start_time": "2022-05-18T06:26:39.347Z"
   },
   {
    "duration": 4,
    "start_time": "2022-05-18T06:32:46.376Z"
   },
   {
    "duration": 321,
    "start_time": "2022-05-18T06:33:00.861Z"
   },
   {
    "duration": 24,
    "start_time": "2022-05-18T06:35:25.466Z"
   },
   {
    "duration": 28,
    "start_time": "2022-05-18T06:35:44.942Z"
   },
   {
    "duration": 22,
    "start_time": "2022-05-18T06:35:52.771Z"
   },
   {
    "duration": 31,
    "start_time": "2022-05-18T06:36:10.725Z"
   },
   {
    "duration": 28,
    "start_time": "2022-05-18T06:36:30.506Z"
   },
   {
    "duration": 390,
    "start_time": "2022-05-18T06:36:37.973Z"
   },
   {
    "duration": 2367,
    "start_time": "2022-05-18T06:41:43.080Z"
   },
   {
    "duration": 1420,
    "start_time": "2022-05-18T06:41:45.450Z"
   },
   {
    "duration": 1313,
    "start_time": "2022-05-18T06:41:46.872Z"
   },
   {
    "duration": 4,
    "start_time": "2022-05-18T06:41:48.188Z"
   },
   {
    "duration": 274,
    "start_time": "2022-05-18T06:41:48.194Z"
   },
   {
    "duration": 11,
    "start_time": "2022-05-18T06:41:48.471Z"
   },
   {
    "duration": 15,
    "start_time": "2022-05-18T06:41:48.485Z"
   },
   {
    "duration": 16,
    "start_time": "2022-05-18T06:41:48.502Z"
   },
   {
    "duration": 91,
    "start_time": "2022-05-18T06:41:48.520Z"
   },
   {
    "duration": 2617,
    "start_time": "2022-05-18T06:45:55.054Z"
   },
   {
    "duration": 1200,
    "start_time": "2022-05-18T06:45:57.674Z"
   },
   {
    "duration": 771,
    "start_time": "2022-05-18T06:45:58.876Z"
   },
   {
    "duration": 3,
    "start_time": "2022-05-18T06:45:59.649Z"
   },
   {
    "duration": 207,
    "start_time": "2022-05-18T06:45:59.654Z"
   },
   {
    "duration": 8,
    "start_time": "2022-05-18T06:45:59.863Z"
   },
   {
    "duration": 18,
    "start_time": "2022-05-18T06:45:59.873Z"
   },
   {
    "duration": 16,
    "start_time": "2022-05-18T06:45:59.893Z"
   },
   {
    "duration": 137,
    "start_time": "2022-05-18T06:45:59.911Z"
   },
   {
    "duration": 13,
    "start_time": "2022-05-18T06:46:00.050Z"
   },
   {
    "duration": 298,
    "start_time": "2022-05-18T06:46:21.700Z"
   },
   {
    "duration": 158,
    "start_time": "2022-05-18T06:47:02.609Z"
   },
   {
    "duration": 189,
    "start_time": "2022-05-18T06:48:21.772Z"
   },
   {
    "duration": 161,
    "start_time": "2022-05-18T06:49:54.424Z"
   },
   {
    "duration": 145,
    "start_time": "2022-05-18T06:50:17.843Z"
   },
   {
    "duration": 2092,
    "start_time": "2022-05-18T06:51:09.166Z"
   },
   {
    "duration": 1203,
    "start_time": "2022-05-18T06:51:11.261Z"
   },
   {
    "duration": 714,
    "start_time": "2022-05-18T06:51:12.466Z"
   },
   {
    "duration": 3,
    "start_time": "2022-05-18T06:51:13.182Z"
   },
   {
    "duration": 226,
    "start_time": "2022-05-18T06:51:13.187Z"
   },
   {
    "duration": 17,
    "start_time": "2022-05-18T06:51:13.415Z"
   },
   {
    "duration": 20,
    "start_time": "2022-05-18T06:51:13.433Z"
   },
   {
    "duration": 4,
    "start_time": "2022-05-18T06:51:13.454Z"
   },
   {
    "duration": 81,
    "start_time": "2022-05-18T06:51:13.459Z"
   },
   {
    "duration": 204,
    "start_time": "2022-05-18T06:51:13.542Z"
   },
   {
    "duration": 160,
    "start_time": "2022-05-18T06:51:33.324Z"
   },
   {
    "duration": 18,
    "start_time": "2022-05-18T06:51:39.610Z"
   },
   {
    "duration": 24,
    "start_time": "2022-05-18T06:51:47.863Z"
   },
   {
    "duration": 26,
    "start_time": "2022-05-18T06:53:03.588Z"
   },
   {
    "duration": 38,
    "start_time": "2022-05-18T06:53:13.998Z"
   },
   {
    "duration": 411,
    "start_time": "2022-05-18T06:53:29.811Z"
   },
   {
    "duration": 443,
    "start_time": "2022-05-18T06:54:54.668Z"
   },
   {
    "duration": 464,
    "start_time": "2022-05-18T06:57:04.042Z"
   },
   {
    "duration": 456,
    "start_time": "2022-05-18T06:57:16.843Z"
   },
   {
    "duration": 447,
    "start_time": "2022-05-18T06:57:22.012Z"
   },
   {
    "duration": 493,
    "start_time": "2022-05-18T06:57:32.888Z"
   },
   {
    "duration": 11,
    "start_time": "2022-05-18T06:59:20.552Z"
   },
   {
    "duration": 3,
    "start_time": "2022-05-18T06:59:23.110Z"
   },
   {
    "duration": 1334,
    "start_time": "2022-05-18T06:59:23.750Z"
   },
   {
    "duration": 1467,
    "start_time": "2022-05-18T07:00:17.816Z"
   },
   {
    "duration": 16,
    "start_time": "2022-05-18T07:03:46.753Z"
   },
   {
    "duration": 1297,
    "start_time": "2022-05-18T07:06:40.083Z"
   },
   {
    "duration": 1400,
    "start_time": "2022-05-18T07:08:06.847Z"
   },
   {
    "duration": 1454,
    "start_time": "2022-05-18T07:08:15.092Z"
   },
   {
    "duration": 168,
    "start_time": "2022-05-18T07:43:51.492Z"
   },
   {
    "duration": 166,
    "start_time": "2022-05-18T07:45:17.465Z"
   },
   {
    "duration": 167,
    "start_time": "2022-05-18T07:45:31.071Z"
   },
   {
    "duration": 193,
    "start_time": "2022-05-18T07:45:39.543Z"
   },
   {
    "duration": 156,
    "start_time": "2022-05-18T07:45:59.851Z"
   },
   {
    "duration": 10,
    "start_time": "2022-05-18T07:46:09.051Z"
   },
   {
    "duration": 312,
    "start_time": "2022-05-18T07:46:14.767Z"
   },
   {
    "duration": 35,
    "start_time": "2022-05-18T07:46:41.463Z"
   },
   {
    "duration": 35,
    "start_time": "2022-05-18T07:47:00.963Z"
   },
   {
    "duration": 27,
    "start_time": "2022-05-18T07:47:05.978Z"
   },
   {
    "duration": 33,
    "start_time": "2022-05-18T07:47:09.129Z"
   },
   {
    "duration": 213,
    "start_time": "2022-05-18T07:47:26.404Z"
   },
   {
    "duration": 205,
    "start_time": "2022-05-18T07:47:31.792Z"
   },
   {
    "duration": 198,
    "start_time": "2022-05-18T07:47:51.071Z"
   },
   {
    "duration": 187,
    "start_time": "2022-05-18T07:48:16.007Z"
   },
   {
    "duration": 42,
    "start_time": "2022-05-18T07:48:33.687Z"
   },
   {
    "duration": 164,
    "start_time": "2022-05-18T07:48:38.003Z"
   },
   {
    "duration": 190,
    "start_time": "2022-05-18T07:48:44.106Z"
   },
   {
    "duration": 29,
    "start_time": "2022-05-18T07:49:29.163Z"
   },
   {
    "duration": 169,
    "start_time": "2022-05-18T07:49:38.355Z"
   },
   {
    "duration": 215,
    "start_time": "2022-05-18T07:49:47.175Z"
   },
   {
    "duration": 224,
    "start_time": "2022-05-18T07:50:04.259Z"
   },
   {
    "duration": 283,
    "start_time": "2022-05-18T07:50:16.081Z"
   },
   {
    "duration": 226,
    "start_time": "2022-05-18T07:50:35.652Z"
   },
   {
    "duration": 374,
    "start_time": "2022-05-18T07:53:38.590Z"
   },
   {
    "duration": 261,
    "start_time": "2022-05-18T07:57:32.060Z"
   },
   {
    "duration": 349,
    "start_time": "2022-05-18T07:58:03.262Z"
   },
   {
    "duration": 302,
    "start_time": "2022-05-18T07:58:17.566Z"
   },
   {
    "duration": 592,
    "start_time": "2022-05-18T07:58:25.089Z"
   },
   {
    "duration": 559,
    "start_time": "2022-05-18T07:58:46.704Z"
   },
   {
    "duration": 348,
    "start_time": "2022-05-18T07:58:56.315Z"
   },
   {
    "duration": 481,
    "start_time": "2022-05-18T07:59:18.669Z"
   },
   {
    "duration": 256,
    "start_time": "2022-05-18T08:02:44.004Z"
   },
   {
    "duration": 1497,
    "start_time": "2022-05-18T08:17:32.627Z"
   },
   {
    "duration": 19,
    "start_time": "2022-05-18T08:18:34.922Z"
   },
   {
    "duration": 4,
    "start_time": "2022-05-18T08:18:40.071Z"
   },
   {
    "duration": 3,
    "start_time": "2022-05-18T08:18:49.111Z"
   },
   {
    "duration": 6,
    "start_time": "2022-05-18T08:20:22.267Z"
   },
   {
    "duration": 176,
    "start_time": "2022-05-18T08:20:38.494Z"
   },
   {
    "duration": 153,
    "start_time": "2022-05-18T08:22:07.356Z"
   },
   {
    "duration": 249,
    "start_time": "2022-05-18T08:23:04.316Z"
   },
   {
    "duration": 397,
    "start_time": "2022-05-18T08:23:39.112Z"
   },
   {
    "duration": 73,
    "start_time": "2022-05-18T08:26:56.676Z"
   },
   {
    "duration": 247,
    "start_time": "2022-05-18T08:27:04.700Z"
   },
   {
    "duration": 544,
    "start_time": "2022-05-18T08:27:44.911Z"
   },
   {
    "duration": 238,
    "start_time": "2022-05-18T08:27:48.948Z"
   },
   {
    "duration": 21,
    "start_time": "2022-05-18T08:28:57.705Z"
   },
   {
    "duration": 302,
    "start_time": "2022-05-18T08:29:11.173Z"
   },
   {
    "duration": 18,
    "start_time": "2022-05-18T08:29:25.320Z"
   },
   {
    "duration": 267,
    "start_time": "2022-05-18T08:29:44.272Z"
   },
   {
    "duration": 199,
    "start_time": "2022-05-18T08:29:50.987Z"
   },
   {
    "duration": 312,
    "start_time": "2022-05-18T08:30:25.039Z"
   },
   {
    "duration": 242,
    "start_time": "2022-05-18T08:31:15.162Z"
   },
   {
    "duration": 268,
    "start_time": "2022-05-18T08:31:22.582Z"
   },
   {
    "duration": 364,
    "start_time": "2022-05-18T08:31:32.472Z"
   },
   {
    "duration": 353,
    "start_time": "2022-05-18T08:32:04.592Z"
   },
   {
    "duration": 890,
    "start_time": "2022-05-18T08:33:39.748Z"
   },
   {
    "duration": 14,
    "start_time": "2022-05-18T08:34:35.519Z"
   },
   {
    "duration": 19,
    "start_time": "2022-05-18T08:34:48.223Z"
   },
   {
    "duration": 20,
    "start_time": "2022-05-18T08:35:23.624Z"
   },
   {
    "duration": 656,
    "start_time": "2022-05-18T08:35:29.822Z"
   },
   {
    "duration": 628,
    "start_time": "2022-05-18T08:35:59.563Z"
   },
   {
    "duration": 823,
    "start_time": "2022-05-18T08:36:10.861Z"
   },
   {
    "duration": 944,
    "start_time": "2022-05-18T08:36:42.418Z"
   },
   {
    "duration": 479,
    "start_time": "2022-05-18T08:49:34.763Z"
   },
   {
    "duration": 20,
    "start_time": "2022-05-18T08:53:35.561Z"
   },
   {
    "duration": 27,
    "start_time": "2022-05-18T08:53:45.416Z"
   },
   {
    "duration": 19,
    "start_time": "2022-05-18T08:53:51.050Z"
   },
   {
    "duration": 45,
    "start_time": "2022-05-18T08:54:23.169Z"
   },
   {
    "duration": 599,
    "start_time": "2022-05-18T08:54:52.394Z"
   },
   {
    "duration": 138,
    "start_time": "2022-05-18T08:55:53.347Z"
   },
   {
    "duration": 12,
    "start_time": "2022-05-18T08:56:12.465Z"
   },
   {
    "duration": 38,
    "start_time": "2022-05-18T08:58:06.763Z"
   },
   {
    "duration": 743,
    "start_time": "2022-05-18T08:59:15.979Z"
   },
   {
    "duration": 9,
    "start_time": "2022-05-18T09:00:05.201Z"
   },
   {
    "duration": 28,
    "start_time": "2022-05-18T09:07:22.105Z"
   },
   {
    "duration": 23,
    "start_time": "2022-05-18T09:08:22.063Z"
   },
   {
    "duration": 58,
    "start_time": "2022-05-18T09:10:56.804Z"
   },
   {
    "duration": 20,
    "start_time": "2022-05-18T09:12:24.084Z"
   },
   {
    "duration": 152,
    "start_time": "2022-05-18T09:12:41.321Z"
   },
   {
    "duration": 20,
    "start_time": "2022-05-18T09:12:57.572Z"
   },
   {
    "duration": 22,
    "start_time": "2022-05-18T09:13:01.058Z"
   },
   {
    "duration": 14,
    "start_time": "2022-05-18T09:14:06.481Z"
   },
   {
    "duration": 513,
    "start_time": "2022-05-18T09:14:23.468Z"
   },
   {
    "duration": 12,
    "start_time": "2022-05-18T09:16:04.472Z"
   },
   {
    "duration": 516,
    "start_time": "2022-05-18T09:16:05.232Z"
   },
   {
    "duration": 59,
    "start_time": "2022-05-18T09:19:16.984Z"
   },
   {
    "duration": 18,
    "start_time": "2022-05-18T09:19:32.660Z"
   },
   {
    "duration": 18,
    "start_time": "2022-05-18T09:19:46.052Z"
   },
   {
    "duration": 39,
    "start_time": "2022-05-18T09:24:24.673Z"
   },
   {
    "duration": 32,
    "start_time": "2022-05-18T09:24:28.420Z"
   },
   {
    "duration": 16,
    "start_time": "2022-05-18T09:24:32.156Z"
   },
   {
    "duration": 462,
    "start_time": "2022-05-18T09:24:43.857Z"
   },
   {
    "duration": 26,
    "start_time": "2022-05-18T09:25:10.713Z"
   },
   {
    "duration": 25,
    "start_time": "2022-05-18T09:25:11.237Z"
   },
   {
    "duration": 712,
    "start_time": "2022-05-18T09:25:12.358Z"
   },
   {
    "duration": 19,
    "start_time": "2022-05-18T09:25:22.796Z"
   },
   {
    "duration": 16,
    "start_time": "2022-05-18T09:25:25.556Z"
   },
   {
    "duration": 541,
    "start_time": "2022-05-18T09:25:26.256Z"
   },
   {
    "duration": 16,
    "start_time": "2022-05-18T09:27:29.561Z"
   },
   {
    "duration": 20,
    "start_time": "2022-05-18T09:27:31.171Z"
   },
   {
    "duration": 499,
    "start_time": "2022-05-18T09:27:35.976Z"
   },
   {
    "duration": 12,
    "start_time": "2022-05-18T09:28:23.379Z"
   },
   {
    "duration": 4,
    "start_time": "2022-05-18T09:28:56.976Z"
   },
   {
    "duration": 2321,
    "start_time": "2022-05-18T09:29:48.872Z"
   },
   {
    "duration": 1319,
    "start_time": "2022-05-18T09:29:51.196Z"
   },
   {
    "duration": 720,
    "start_time": "2022-05-18T09:29:52.517Z"
   },
   {
    "duration": 117,
    "start_time": "2022-05-18T09:29:53.247Z"
   },
   {
    "duration": 10,
    "start_time": "2022-05-18T09:29:53.366Z"
   },
   {
    "duration": 20,
    "start_time": "2022-05-18T09:29:53.378Z"
   },
   {
    "duration": 42,
    "start_time": "2022-05-18T09:29:53.400Z"
   },
   {
    "duration": 93,
    "start_time": "2022-05-18T09:29:53.443Z"
   },
   {
    "duration": 7,
    "start_time": "2022-05-18T09:29:53.538Z"
   },
   {
    "duration": 0,
    "start_time": "2022-05-18T09:29:53.547Z"
   },
   {
    "duration": 0,
    "start_time": "2022-05-18T09:29:53.549Z"
   },
   {
    "duration": 0,
    "start_time": "2022-05-18T09:29:53.551Z"
   },
   {
    "duration": 0,
    "start_time": "2022-05-18T09:29:53.553Z"
   },
   {
    "duration": 28,
    "start_time": "2022-05-18T09:30:09.714Z"
   },
   {
    "duration": 148,
    "start_time": "2022-05-18T09:32:42.545Z"
   },
   {
    "duration": 36,
    "start_time": "2022-05-18T09:33:05.076Z"
   },
   {
    "duration": 40,
    "start_time": "2022-05-18T09:34:47.301Z"
   },
   {
    "duration": 42,
    "start_time": "2022-05-18T09:35:12.577Z"
   },
   {
    "duration": 19,
    "start_time": "2022-05-18T09:35:19.421Z"
   },
   {
    "duration": 26,
    "start_time": "2022-05-18T09:35:21.810Z"
   },
   {
    "duration": 23,
    "start_time": "2022-05-18T09:36:31.282Z"
   },
   {
    "duration": 16,
    "start_time": "2022-05-18T09:36:40.742Z"
   },
   {
    "duration": 434,
    "start_time": "2022-05-18T09:36:53.159Z"
   },
   {
    "duration": 17,
    "start_time": "2022-05-18T09:37:14.558Z"
   },
   {
    "duration": 17,
    "start_time": "2022-05-18T09:37:15.442Z"
   },
   {
    "duration": 450,
    "start_time": "2022-05-18T09:37:17.409Z"
   },
   {
    "duration": 17,
    "start_time": "2022-05-18T09:37:31.817Z"
   },
   {
    "duration": 1499,
    "start_time": "2022-05-18T09:38:10.350Z"
   },
   {
    "duration": 267,
    "start_time": "2022-05-18T09:38:14.712Z"
   },
   {
    "duration": 458,
    "start_time": "2022-05-18T09:38:17.742Z"
   },
   {
    "duration": 3,
    "start_time": "2022-05-18T09:38:22.423Z"
   },
   {
    "duration": 14,
    "start_time": "2022-05-18T09:38:53.205Z"
   },
   {
    "duration": 125,
    "start_time": "2022-05-18T09:38:54.654Z"
   },
   {
    "duration": 453,
    "start_time": "2022-05-18T09:38:57.989Z"
   },
   {
    "duration": 12,
    "start_time": "2022-05-18T09:39:09.899Z"
   },
   {
    "duration": 18,
    "start_time": "2022-05-18T09:39:11.243Z"
   },
   {
    "duration": 24,
    "start_time": "2022-05-18T09:40:05.207Z"
   },
   {
    "duration": 17,
    "start_time": "2022-05-18T09:41:33.059Z"
   },
   {
    "duration": 22,
    "start_time": "2022-05-18T09:41:34.755Z"
   },
   {
    "duration": 451,
    "start_time": "2022-05-18T09:41:37.385Z"
   },
   {
    "duration": 34,
    "start_time": "2022-05-18T09:41:45.254Z"
   },
   {
    "duration": 9,
    "start_time": "2022-05-18T09:41:59.491Z"
   },
   {
    "duration": 22,
    "start_time": "2022-05-18T09:42:01.413Z"
   },
   {
    "duration": 185,
    "start_time": "2022-05-18T09:42:31.142Z"
   },
   {
    "duration": 2367,
    "start_time": "2022-05-18T09:42:48.194Z"
   },
   {
    "duration": 1428,
    "start_time": "2022-05-18T09:42:50.563Z"
   },
   {
    "duration": 752,
    "start_time": "2022-05-18T09:42:51.993Z"
   },
   {
    "duration": 117,
    "start_time": "2022-05-18T09:42:52.747Z"
   },
   {
    "duration": 12,
    "start_time": "2022-05-18T09:42:52.868Z"
   },
   {
    "duration": 9,
    "start_time": "2022-05-18T09:42:52.882Z"
   },
   {
    "duration": 5,
    "start_time": "2022-05-18T09:42:52.893Z"
   },
   {
    "duration": 101,
    "start_time": "2022-05-18T09:42:52.900Z"
   },
   {
    "duration": 1596,
    "start_time": "2022-05-18T09:42:53.003Z"
   },
   {
    "duration": 269,
    "start_time": "2022-05-18T09:42:54.601Z"
   },
   {
    "duration": 542,
    "start_time": "2022-05-18T09:42:54.873Z"
   },
   {
    "duration": 35,
    "start_time": "2022-05-18T09:42:55.417Z"
   },
   {
    "duration": 15,
    "start_time": "2022-05-18T09:42:55.455Z"
   },
   {
    "duration": 20,
    "start_time": "2022-05-18T09:42:55.474Z"
   },
   {
    "duration": 15,
    "start_time": "2022-05-18T09:42:55.496Z"
   },
   {
    "duration": 168,
    "start_time": "2022-05-18T09:42:55.513Z"
   },
   {
    "duration": 2368,
    "start_time": "2022-05-18T09:43:26.457Z"
   },
   {
    "duration": 1360,
    "start_time": "2022-05-18T09:43:28.830Z"
   },
   {
    "duration": 760,
    "start_time": "2022-05-18T09:43:30.192Z"
   },
   {
    "duration": 118,
    "start_time": "2022-05-18T09:43:30.955Z"
   },
   {
    "duration": 9,
    "start_time": "2022-05-18T09:43:31.074Z"
   },
   {
    "duration": 42,
    "start_time": "2022-05-18T09:43:31.084Z"
   },
   {
    "duration": 39,
    "start_time": "2022-05-18T09:43:31.128Z"
   },
   {
    "duration": 130,
    "start_time": "2022-05-18T09:43:31.169Z"
   },
   {
    "duration": 1542,
    "start_time": "2022-05-18T09:43:31.301Z"
   },
   {
    "duration": 246,
    "start_time": "2022-05-18T09:43:32.847Z"
   },
   {
    "duration": 478,
    "start_time": "2022-05-18T09:43:33.095Z"
   },
   {
    "duration": 21,
    "start_time": "2022-05-18T09:43:33.576Z"
   },
   {
    "duration": 4,
    "start_time": "2022-05-18T09:43:33.598Z"
   },
   {
    "duration": 46,
    "start_time": "2022-05-18T09:43:33.603Z"
   },
   {
    "duration": 16,
    "start_time": "2022-05-18T09:43:33.651Z"
   },
   {
    "duration": 492,
    "start_time": "2022-05-18T09:43:33.668Z"
   },
   {
    "duration": 249,
    "start_time": "2022-05-18T09:44:00.865Z"
   },
   {
    "duration": 10,
    "start_time": "2022-05-18T09:44:43.895Z"
   },
   {
    "duration": 15,
    "start_time": "2022-05-18T12:22:29.375Z"
   },
   {
    "duration": 10,
    "start_time": "2022-05-18T12:22:29.935Z"
   },
   {
    "duration": 123,
    "start_time": "2022-05-18T12:32:11.884Z"
   },
   {
    "duration": 18,
    "start_time": "2022-05-18T12:34:16.205Z"
   },
   {
    "duration": 13,
    "start_time": "2022-05-18T12:34:34.857Z"
   },
   {
    "duration": 71,
    "start_time": "2022-05-18T12:36:52.131Z"
   },
   {
    "duration": 7,
    "start_time": "2022-05-18T12:40:22.829Z"
   },
   {
    "duration": 12,
    "start_time": "2022-05-18T12:40:31.217Z"
   },
   {
    "duration": 2503,
    "start_time": "2022-05-18T12:40:52.201Z"
   },
   {
    "duration": 1345,
    "start_time": "2022-05-18T12:40:54.706Z"
   },
   {
    "duration": 792,
    "start_time": "2022-05-18T12:40:56.054Z"
   },
   {
    "duration": 128,
    "start_time": "2022-05-18T12:40:56.848Z"
   },
   {
    "duration": 14,
    "start_time": "2022-05-18T12:40:56.978Z"
   },
   {
    "duration": 19,
    "start_time": "2022-05-18T12:40:56.994Z"
   },
   {
    "duration": 36,
    "start_time": "2022-05-18T12:40:57.015Z"
   },
   {
    "duration": 13,
    "start_time": "2022-05-18T12:40:57.053Z"
   },
   {
    "duration": 200,
    "start_time": "2022-05-18T12:40:57.068Z"
   },
   {
    "duration": 0,
    "start_time": "2022-05-18T12:40:57.270Z"
   },
   {
    "duration": 0,
    "start_time": "2022-05-18T12:40:57.272Z"
   },
   {
    "duration": 1,
    "start_time": "2022-05-18T12:40:57.273Z"
   },
   {
    "duration": 0,
    "start_time": "2022-05-18T12:40:57.275Z"
   },
   {
    "duration": 0,
    "start_time": "2022-05-18T12:40:57.277Z"
   },
   {
    "duration": 0,
    "start_time": "2022-05-18T12:40:57.278Z"
   },
   {
    "duration": 2384,
    "start_time": "2022-05-18T12:41:24.334Z"
   },
   {
    "duration": 1340,
    "start_time": "2022-05-18T12:41:26.721Z"
   },
   {
    "duration": 666,
    "start_time": "2022-05-18T12:41:28.063Z"
   },
   {
    "duration": 109,
    "start_time": "2022-05-18T12:41:28.730Z"
   },
   {
    "duration": 9,
    "start_time": "2022-05-18T12:41:28.842Z"
   },
   {
    "duration": 5,
    "start_time": "2022-05-18T12:41:28.853Z"
   },
   {
    "duration": 5,
    "start_time": "2022-05-18T12:41:28.860Z"
   },
   {
    "duration": 98,
    "start_time": "2022-05-18T12:41:28.866Z"
   },
   {
    "duration": 1385,
    "start_time": "2022-05-18T12:41:28.966Z"
   },
   {
    "duration": 223,
    "start_time": "2022-05-18T12:41:30.353Z"
   },
   {
    "duration": 444,
    "start_time": "2022-05-18T12:41:30.578Z"
   },
   {
    "duration": 25,
    "start_time": "2022-05-18T12:41:31.027Z"
   },
   {
    "duration": 29,
    "start_time": "2022-05-18T12:41:31.054Z"
   },
   {
    "duration": 9,
    "start_time": "2022-05-18T12:41:31.086Z"
   },
   {
    "duration": 7,
    "start_time": "2022-05-18T12:42:21.420Z"
   },
   {
    "duration": 115,
    "start_time": "2022-05-18T12:42:30.800Z"
   },
   {
    "duration": 2237,
    "start_time": "2022-05-18T12:46:34.836Z"
   },
   {
    "duration": 1793,
    "start_time": "2022-05-18T12:46:37.075Z"
   },
   {
    "duration": 1077,
    "start_time": "2022-05-18T12:46:38.870Z"
   },
   {
    "duration": 107,
    "start_time": "2022-05-18T12:46:39.949Z"
   },
   {
    "duration": 12,
    "start_time": "2022-05-18T12:46:40.058Z"
   },
   {
    "duration": 12,
    "start_time": "2022-05-18T12:46:40.072Z"
   },
   {
    "duration": 65,
    "start_time": "2022-05-18T12:46:40.086Z"
   },
   {
    "duration": 3,
    "start_time": "2022-05-18T12:46:40.153Z"
   },
   {
    "duration": 201,
    "start_time": "2022-05-18T12:46:40.158Z"
   },
   {
    "duration": 0,
    "start_time": "2022-05-18T12:46:40.360Z"
   },
   {
    "duration": 0,
    "start_time": "2022-05-18T12:46:40.362Z"
   },
   {
    "duration": 0,
    "start_time": "2022-05-18T12:46:40.363Z"
   },
   {
    "duration": 0,
    "start_time": "2022-05-18T12:46:40.364Z"
   },
   {
    "duration": 0,
    "start_time": "2022-05-18T12:46:40.364Z"
   },
   {
    "duration": 0,
    "start_time": "2022-05-18T12:46:40.366Z"
   },
   {
    "duration": 12,
    "start_time": "2022-05-18T12:47:44.798Z"
   },
   {
    "duration": 2155,
    "start_time": "2022-05-18T12:47:56.195Z"
   },
   {
    "duration": 1298,
    "start_time": "2022-05-18T12:47:58.352Z"
   },
   {
    "duration": 705,
    "start_time": "2022-05-18T12:47:59.652Z"
   },
   {
    "duration": 116,
    "start_time": "2022-05-18T12:48:00.359Z"
   },
   {
    "duration": 10,
    "start_time": "2022-05-18T12:48:00.477Z"
   },
   {
    "duration": 41,
    "start_time": "2022-05-18T12:48:00.488Z"
   },
   {
    "duration": 43,
    "start_time": "2022-05-18T12:48:00.531Z"
   },
   {
    "duration": 29,
    "start_time": "2022-05-18T12:48:00.577Z"
   },
   {
    "duration": 98,
    "start_time": "2022-05-18T12:48:00.607Z"
   },
   {
    "duration": 2574,
    "start_time": "2022-05-18T12:48:00.707Z"
   },
   {
    "duration": 232,
    "start_time": "2022-05-18T12:48:03.283Z"
   },
   {
    "duration": 455,
    "start_time": "2022-05-18T12:48:03.516Z"
   },
   {
    "duration": 21,
    "start_time": "2022-05-18T12:48:03.973Z"
   },
   {
    "duration": 37,
    "start_time": "2022-05-18T12:48:03.996Z"
   },
   {
    "duration": 8,
    "start_time": "2022-05-18T12:48:04.035Z"
   },
   {
    "duration": 130,
    "start_time": "2022-05-18T12:48:50.053Z"
   },
   {
    "duration": 11,
    "start_time": "2022-05-18T12:50:31.790Z"
   },
   {
    "duration": 470,
    "start_time": "2022-05-18T12:51:31.142Z"
   },
   {
    "duration": 18,
    "start_time": "2022-05-18T12:51:54.645Z"
   },
   {
    "duration": 18,
    "start_time": "2022-05-18T12:52:02.676Z"
   },
   {
    "duration": 56,
    "start_time": "2022-05-18T12:52:25.868Z"
   },
   {
    "duration": 20,
    "start_time": "2022-05-18T12:53:40.164Z"
   },
   {
    "duration": 15,
    "start_time": "2022-05-18T12:54:48.500Z"
   },
   {
    "duration": 48,
    "start_time": "2022-05-18T12:55:00.656Z"
   },
   {
    "duration": 123,
    "start_time": "2022-05-18T12:55:18.972Z"
   },
   {
    "duration": 14,
    "start_time": "2022-05-18T13:10:15.904Z"
   },
   {
    "duration": 22,
    "start_time": "2022-05-18T13:10:25.352Z"
   },
   {
    "duration": 16,
    "start_time": "2022-05-18T13:12:17.443Z"
   },
   {
    "duration": 2786,
    "start_time": "2022-05-18T13:12:31.184Z"
   },
   {
    "duration": 1831,
    "start_time": "2022-05-18T13:12:33.972Z"
   },
   {
    "duration": 820,
    "start_time": "2022-05-18T13:12:35.805Z"
   },
   {
    "duration": 116,
    "start_time": "2022-05-18T13:12:36.627Z"
   },
   {
    "duration": 9,
    "start_time": "2022-05-18T13:12:36.745Z"
   },
   {
    "duration": 5,
    "start_time": "2022-05-18T13:12:36.756Z"
   },
   {
    "duration": 95,
    "start_time": "2022-05-18T13:12:36.763Z"
   },
   {
    "duration": 68,
    "start_time": "2022-05-18T13:12:36.860Z"
   },
   {
    "duration": 2,
    "start_time": "2022-05-18T13:12:36.931Z"
   },
   {
    "duration": 111,
    "start_time": "2022-05-18T13:12:36.936Z"
   },
   {
    "duration": 1551,
    "start_time": "2022-05-18T13:12:37.048Z"
   },
   {
    "duration": 222,
    "start_time": "2022-05-18T13:12:38.601Z"
   },
   {
    "duration": 422,
    "start_time": "2022-05-18T13:12:38.825Z"
   },
   {
    "duration": 27,
    "start_time": "2022-05-18T13:12:39.249Z"
   },
   {
    "duration": 24,
    "start_time": "2022-05-18T13:12:39.279Z"
   },
   {
    "duration": 25,
    "start_time": "2022-05-18T13:12:39.305Z"
   },
   {
    "duration": 696,
    "start_time": "2022-05-20T03:26:16.232Z"
   },
   {
    "duration": 4110,
    "start_time": "2022-05-20T03:26:23.755Z"
   },
   {
    "duration": 1081,
    "start_time": "2022-05-20T03:26:27.867Z"
   },
   {
    "duration": 1383,
    "start_time": "2022-05-20T03:26:29.489Z"
   },
   {
    "duration": 98,
    "start_time": "2022-05-20T03:26:30.874Z"
   },
   {
    "duration": 3,
    "start_time": "2022-05-20T03:31:22.378Z"
   },
   {
    "duration": 64,
    "start_time": "2022-05-20T03:31:23.428Z"
   },
   {
    "duration": 3,
    "start_time": "2022-05-20T03:31:49.300Z"
   },
   {
    "duration": 3,
    "start_time": "2022-05-20T03:31:54.801Z"
   },
   {
    "duration": 24,
    "start_time": "2022-05-20T03:34:49.302Z"
   },
   {
    "duration": 27,
    "start_time": "2022-05-20T03:35:08.068Z"
   },
   {
    "duration": 44,
    "start_time": "2022-05-20T03:35:25.807Z"
   },
   {
    "duration": 3,
    "start_time": "2022-05-20T03:35:34.308Z"
   },
   {
    "duration": 10,
    "start_time": "2022-05-20T03:35:38.459Z"
   },
   {
    "duration": 3,
    "start_time": "2022-05-20T03:40:30.616Z"
   },
   {
    "duration": 10,
    "start_time": "2022-05-20T03:48:24.884Z"
   },
   {
    "duration": 24,
    "start_time": "2022-05-20T03:48:51.383Z"
   },
   {
    "duration": 20,
    "start_time": "2022-05-20T03:48:55.975Z"
   },
   {
    "duration": 13,
    "start_time": "2022-05-20T03:49:21.227Z"
   },
   {
    "duration": 100,
    "start_time": "2022-05-20T03:57:49.304Z"
   },
   {
    "duration": 8,
    "start_time": "2022-05-20T03:58:12.704Z"
   },
   {
    "duration": 22,
    "start_time": "2022-05-20T03:58:16.252Z"
   },
   {
    "duration": 22,
    "start_time": "2022-05-20T03:58:52.328Z"
   },
   {
    "duration": 2165,
    "start_time": "2022-05-20T03:59:22.846Z"
   },
   {
    "duration": 1407,
    "start_time": "2022-05-20T03:59:25.014Z"
   },
   {
    "duration": 695,
    "start_time": "2022-05-20T03:59:26.423Z"
   },
   {
    "duration": 115,
    "start_time": "2022-05-20T03:59:27.121Z"
   },
   {
    "duration": 9,
    "start_time": "2022-05-20T03:59:27.237Z"
   },
   {
    "duration": 5,
    "start_time": "2022-05-20T03:59:27.248Z"
   },
   {
    "duration": 76,
    "start_time": "2022-05-20T03:59:27.255Z"
   },
   {
    "duration": 2,
    "start_time": "2022-05-20T03:59:27.333Z"
   },
   {
    "duration": 69,
    "start_time": "2022-05-20T03:59:27.336Z"
   },
   {
    "duration": 1408,
    "start_time": "2022-05-20T03:59:27.407Z"
   },
   {
    "duration": 217,
    "start_time": "2022-05-20T03:59:28.816Z"
   },
   {
    "duration": 413,
    "start_time": "2022-05-20T03:59:29.035Z"
   },
   {
    "duration": 19,
    "start_time": "2022-05-20T03:59:29.449Z"
   },
   {
    "duration": 22,
    "start_time": "2022-05-20T03:59:29.470Z"
   },
   {
    "duration": 9,
    "start_time": "2022-05-20T03:59:29.493Z"
   },
   {
    "duration": 24,
    "start_time": "2022-05-20T03:59:29.503Z"
   },
   {
    "duration": 4,
    "start_time": "2022-05-20T03:59:29.529Z"
   },
   {
    "duration": 10,
    "start_time": "2022-05-20T03:59:29.534Z"
   },
   {
    "duration": 6,
    "start_time": "2022-05-20T03:59:29.545Z"
   },
   {
    "duration": 4,
    "start_time": "2022-05-20T03:59:29.553Z"
   },
   {
    "duration": 133,
    "start_time": "2022-05-20T03:59:29.559Z"
   },
   {
    "duration": 21,
    "start_time": "2022-05-20T04:00:18.860Z"
   },
   {
    "duration": 15,
    "start_time": "2022-05-20T04:00:57.751Z"
   },
   {
    "duration": 21,
    "start_time": "2022-05-20T04:01:44.893Z"
   },
   {
    "duration": 53,
    "start_time": "2022-05-20T04:02:42.272Z"
   },
   {
    "duration": 14,
    "start_time": "2022-05-20T04:02:44.230Z"
   },
   {
    "duration": 11,
    "start_time": "2022-05-20T04:03:30.794Z"
   },
   {
    "duration": 25,
    "start_time": "2022-05-20T04:03:38.921Z"
   },
   {
    "duration": 20,
    "start_time": "2022-05-20T04:03:43.675Z"
   },
   {
    "duration": 7,
    "start_time": "2022-05-20T04:03:51.983Z"
   },
   {
    "duration": 3,
    "start_time": "2022-05-20T04:03:53.485Z"
   },
   {
    "duration": 2,
    "start_time": "2022-05-20T04:03:53.963Z"
   },
   {
    "duration": 291,
    "start_time": "2022-05-20T04:03:54.438Z"
   },
   {
    "duration": 614,
    "start_time": "2022-05-20T04:04:01.123Z"
   },
   {
    "duration": 4,
    "start_time": "2022-05-20T04:04:35.367Z"
   },
   {
    "duration": 2106,
    "start_time": "2022-05-20T04:04:39.521Z"
   },
   {
    "duration": 4,
    "start_time": "2022-05-20T04:05:17.968Z"
   },
   {
    "duration": 2924,
    "start_time": "2022-05-20T04:05:19.612Z"
   },
   {
    "duration": 3,
    "start_time": "2022-05-20T04:05:47.027Z"
   },
   {
    "duration": 2308,
    "start_time": "2022-05-20T04:07:35.727Z"
   },
   {
    "duration": 2255,
    "start_time": "2022-05-20T04:07:46.574Z"
   },
   {
    "duration": 3,
    "start_time": "2022-05-20T04:07:52.107Z"
   },
   {
    "duration": 3,
    "start_time": "2022-05-20T04:07:53.098Z"
   },
   {
    "duration": 7,
    "start_time": "2022-05-20T04:07:53.897Z"
   },
   {
    "duration": 4,
    "start_time": "2022-05-20T04:07:55.411Z"
   },
   {
    "duration": 3,
    "start_time": "2022-05-20T04:07:55.967Z"
   },
   {
    "duration": 2308,
    "start_time": "2022-05-20T04:07:56.625Z"
   },
   {
    "duration": 2253,
    "start_time": "2022-05-20T04:08:12.484Z"
   },
   {
    "duration": 2232,
    "start_time": "2022-05-20T04:08:21.895Z"
   },
   {
    "duration": 3,
    "start_time": "2022-05-20T04:09:40.442Z"
   },
   {
    "duration": 6,
    "start_time": "2022-05-20T04:09:43.658Z"
   },
   {
    "duration": 3,
    "start_time": "2022-05-20T04:09:44.239Z"
   },
   {
    "duration": 3,
    "start_time": "2022-05-20T04:09:44.709Z"
   },
   {
    "duration": 1958,
    "start_time": "2022-05-20T04:09:45.971Z"
   },
   {
    "duration": 2217,
    "start_time": "2022-05-20T04:10:03.812Z"
   },
   {
    "duration": 3447,
    "start_time": "2022-05-20T04:10:27.584Z"
   },
   {
    "duration": 5639,
    "start_time": "2022-05-20T04:10:37.000Z"
   },
   {
    "duration": 10,
    "start_time": "2022-05-20T04:14:03.397Z"
   },
   {
    "duration": 7,
    "start_time": "2022-05-20T04:14:05.779Z"
   },
   {
    "duration": 4,
    "start_time": "2022-05-20T04:14:06.124Z"
   },
   {
    "duration": 2885,
    "start_time": "2022-05-20T04:14:06.443Z"
   },
   {
    "duration": 47,
    "start_time": "2022-05-20T04:15:43.431Z"
   },
   {
    "duration": 4,
    "start_time": "2022-05-20T04:17:27.764Z"
   },
   {
    "duration": 14,
    "start_time": "2022-05-20T04:17:35.717Z"
   },
   {
    "duration": 7,
    "start_time": "2022-05-20T04:19:04.738Z"
   },
   {
    "duration": 3302,
    "start_time": "2022-05-20T04:19:51.431Z"
   },
   {
    "duration": 7,
    "start_time": "2022-05-20T04:19:57.308Z"
   },
   {
    "duration": 2933,
    "start_time": "2022-05-20T04:19:57.998Z"
   },
   {
    "duration": 1592,
    "start_time": "2022-05-20T04:20:21.939Z"
   },
   {
    "duration": 1599,
    "start_time": "2022-05-20T04:21:00.629Z"
   },
   {
    "duration": 3,
    "start_time": "2022-05-20T04:21:33.554Z"
   },
   {
    "duration": 3,
    "start_time": "2022-05-20T04:21:41.926Z"
   },
   {
    "duration": 3,
    "start_time": "2022-05-20T04:22:47.542Z"
   },
   {
    "duration": 3148,
    "start_time": "2022-05-20T04:23:01.187Z"
   },
   {
    "duration": 92,
    "start_time": "2022-05-20T04:23:04.337Z"
   },
   {
    "duration": 1596,
    "start_time": "2022-05-20T04:23:04.431Z"
   },
   {
    "duration": 4,
    "start_time": "2022-05-20T04:23:06.030Z"
   },
   {
    "duration": 3,
    "start_time": "2022-05-20T04:39:04.548Z"
   },
   {
    "duration": 8,
    "start_time": "2022-05-20T04:39:06.095Z"
   },
   {
    "duration": 3,
    "start_time": "2022-05-20T04:39:08.664Z"
   },
   {
    "duration": 1522,
    "start_time": "2022-05-20T04:39:10.709Z"
   },
   {
    "duration": 8,
    "start_time": "2022-05-20T04:39:17.586Z"
   },
   {
    "duration": 3006,
    "start_time": "2022-05-20T04:39:18.028Z"
   },
   {
    "duration": 8,
    "start_time": "2022-05-20T04:43:08.569Z"
   },
   {
    "duration": 4,
    "start_time": "2022-05-20T04:43:09.003Z"
   },
   {
    "duration": 38,
    "start_time": "2022-05-20T04:50:16.159Z"
   },
   {
    "duration": 3,
    "start_time": "2022-05-20T04:50:21.978Z"
   },
   {
    "duration": 4,
    "start_time": "2022-05-20T04:51:30.151Z"
   },
   {
    "duration": 9,
    "start_time": "2022-05-20T04:52:21.976Z"
   },
   {
    "duration": 10,
    "start_time": "2022-05-20T04:52:23.852Z"
   },
   {
    "duration": 21,
    "start_time": "2022-05-20T04:52:47.788Z"
   },
   {
    "duration": 3,
    "start_time": "2022-05-20T04:52:53.423Z"
   },
   {
    "duration": 13,
    "start_time": "2022-05-20T04:52:54.529Z"
   },
   {
    "duration": 3,
    "start_time": "2022-05-20T04:53:11.106Z"
   },
   {
    "duration": 27,
    "start_time": "2022-05-20T04:53:37.096Z"
   },
   {
    "duration": 3,
    "start_time": "2022-05-20T04:53:48.046Z"
   },
   {
    "duration": 3,
    "start_time": "2022-05-20T04:53:48.698Z"
   },
   {
    "duration": 5,
    "start_time": "2022-05-20T05:04:01.797Z"
   },
   {
    "duration": 245116,
    "start_time": "2022-05-20T05:04:01.803Z"
   },
   {
    "duration": 1892,
    "start_time": "2022-05-20T05:16:31.146Z"
   },
   {
    "duration": 1434,
    "start_time": "2022-05-20T05:20:46.193Z"
   },
   {
    "duration": 2451,
    "start_time": "2022-05-20T05:21:57.681Z"
   },
   {
    "duration": 3,
    "start_time": "2022-05-20T05:23:13.482Z"
   },
   {
    "duration": 253123,
    "start_time": "2022-05-20T05:23:20.791Z"
   },
   {
    "duration": 12,
    "start_time": "2022-05-20T05:27:54.220Z"
   },
   {
    "duration": 1647,
    "start_time": "2022-05-20T05:27:59.780Z"
   },
   {
    "duration": 6,
    "start_time": "2022-05-20T05:28:16.427Z"
   },
   {
    "duration": 251927,
    "start_time": "2022-05-20T05:28:23.805Z"
   },
   {
    "duration": 1696,
    "start_time": "2022-05-20T05:33:36.730Z"
   },
   {
    "duration": 4,
    "start_time": "2022-05-20T05:34:09.803Z"
   },
   {
    "duration": 243684,
    "start_time": "2022-05-20T05:34:12.780Z"
   },
   {
    "duration": 226235,
    "start_time": "2022-05-20T05:39:18.439Z"
   },
   {
    "duration": 11,
    "start_time": "2022-05-20T05:46:34.512Z"
   },
   {
    "duration": 2,
    "start_time": "2022-05-20T05:46:38.434Z"
   },
   {
    "duration": 239355,
    "start_time": "2022-05-20T05:46:38.871Z"
   },
   {
    "duration": 3,
    "start_time": "2022-05-20T05:51:36.007Z"
   },
   {
    "duration": 3,
    "start_time": "2022-05-20T05:51:36.771Z"
   },
   {
    "duration": 231100,
    "start_time": "2022-05-20T05:51:40.472Z"
   },
   {
    "duration": 4,
    "start_time": "2022-05-20T05:55:43.161Z"
   },
   {
    "duration": 539722,
    "start_time": "2022-05-20T05:55:48.500Z"
   },
   {
    "duration": 556137,
    "start_time": "2022-05-20T06:05:30.432Z"
   },
   {
    "duration": 2168,
    "start_time": "2022-05-20T06:15:51.192Z"
   },
   {
    "duration": 1302,
    "start_time": "2022-05-20T06:15:53.363Z"
   },
   {
    "duration": 656,
    "start_time": "2022-05-20T06:15:54.667Z"
   },
   {
    "duration": 102,
    "start_time": "2022-05-20T06:15:55.325Z"
   },
   {
    "duration": 8,
    "start_time": "2022-05-20T06:15:55.429Z"
   },
   {
    "duration": 4,
    "start_time": "2022-05-20T06:15:55.439Z"
   },
   {
    "duration": 56,
    "start_time": "2022-05-20T06:15:55.445Z"
   },
   {
    "duration": 2,
    "start_time": "2022-05-20T06:15:55.503Z"
   },
   {
    "duration": 59,
    "start_time": "2022-05-20T06:15:55.526Z"
   },
   {
    "duration": 21,
    "start_time": "2022-05-20T06:15:55.587Z"
   },
   {
    "duration": 1460,
    "start_time": "2022-05-20T06:15:55.626Z"
   },
   {
    "duration": 226,
    "start_time": "2022-05-20T06:15:57.087Z"
   },
   {
    "duration": 404,
    "start_time": "2022-05-20T06:15:57.314Z"
   },
   {
    "duration": 21,
    "start_time": "2022-05-20T06:15:57.721Z"
   },
   {
    "duration": 20,
    "start_time": "2022-05-20T06:15:57.744Z"
   },
   {
    "duration": 10,
    "start_time": "2022-05-20T06:15:57.766Z"
   },
   {
    "duration": 4,
    "start_time": "2022-05-20T06:15:57.778Z"
   },
   {
    "duration": 11,
    "start_time": "2022-05-20T06:15:57.783Z"
   },
   {
    "duration": 31,
    "start_time": "2022-05-20T06:15:57.796Z"
   },
   {
    "duration": 1601,
    "start_time": "2022-05-20T06:15:57.829Z"
   },
   {
    "duration": 3,
    "start_time": "2022-05-20T06:15:59.432Z"
   },
   {
    "duration": 266,
    "start_time": "2022-05-20T06:15:59.436Z"
   },
   {
    "duration": 0,
    "start_time": "2022-05-20T06:15:59.704Z"
   },
   {
    "duration": 0,
    "start_time": "2022-05-20T06:15:59.705Z"
   },
   {
    "duration": 0,
    "start_time": "2022-05-20T06:15:59.706Z"
   },
   {
    "duration": 0,
    "start_time": "2022-05-20T06:15:59.707Z"
   },
   {
    "duration": 0,
    "start_time": "2022-05-20T06:15:59.708Z"
   },
   {
    "duration": 0,
    "start_time": "2022-05-20T06:15:59.709Z"
   },
   {
    "duration": 0,
    "start_time": "2022-05-20T06:15:59.726Z"
   },
   {
    "duration": 2017,
    "start_time": "2022-05-20T06:20:48.670Z"
   },
   {
    "duration": 1298,
    "start_time": "2022-05-20T06:20:50.689Z"
   },
   {
    "duration": 654,
    "start_time": "2022-05-20T06:20:51.989Z"
   },
   {
    "duration": 98,
    "start_time": "2022-05-20T06:20:52.645Z"
   },
   {
    "duration": 8,
    "start_time": "2022-05-20T06:20:52.745Z"
   },
   {
    "duration": 19,
    "start_time": "2022-05-20T06:20:52.755Z"
   },
   {
    "duration": 58,
    "start_time": "2022-05-20T06:20:52.776Z"
   },
   {
    "duration": 2,
    "start_time": "2022-05-20T06:20:52.836Z"
   },
   {
    "duration": 66,
    "start_time": "2022-05-20T06:20:52.840Z"
   },
   {
    "duration": 23,
    "start_time": "2022-05-20T06:20:52.927Z"
   },
   {
    "duration": 1361,
    "start_time": "2022-05-20T06:20:52.951Z"
   },
   {
    "duration": 225,
    "start_time": "2022-05-20T06:20:54.314Z"
   },
   {
    "duration": 401,
    "start_time": "2022-05-20T06:20:54.540Z"
   },
   {
    "duration": 17,
    "start_time": "2022-05-20T06:20:54.943Z"
   },
   {
    "duration": 19,
    "start_time": "2022-05-20T06:20:54.962Z"
   },
   {
    "duration": 7,
    "start_time": "2022-05-20T06:20:54.983Z"
   },
   {
    "duration": 3,
    "start_time": "2022-05-20T06:20:54.992Z"
   },
   {
    "duration": 33,
    "start_time": "2022-05-20T06:20:54.996Z"
   },
   {
    "duration": 9,
    "start_time": "2022-05-20T06:20:55.030Z"
   },
   {
    "duration": 1593,
    "start_time": "2022-05-20T06:20:55.041Z"
   },
   {
    "duration": 92,
    "start_time": "2022-05-20T06:20:56.636Z"
   },
   {
    "duration": 170,
    "start_time": "2022-05-20T06:20:56.730Z"
   },
   {
    "duration": 0,
    "start_time": "2022-05-20T06:20:56.901Z"
   },
   {
    "duration": 0,
    "start_time": "2022-05-20T06:20:56.903Z"
   },
   {
    "duration": 0,
    "start_time": "2022-05-20T06:20:56.904Z"
   },
   {
    "duration": 0,
    "start_time": "2022-05-20T06:20:56.905Z"
   },
   {
    "duration": 0,
    "start_time": "2022-05-20T06:20:56.906Z"
   },
   {
    "duration": 0,
    "start_time": "2022-05-20T06:20:56.907Z"
   },
   {
    "duration": 0,
    "start_time": "2022-05-20T06:20:56.908Z"
   },
   {
    "duration": 2171,
    "start_time": "2022-05-20T06:21:41.883Z"
   },
   {
    "duration": 1282,
    "start_time": "2022-05-20T06:21:44.056Z"
   },
   {
    "duration": 683,
    "start_time": "2022-05-20T06:21:45.340Z"
   },
   {
    "duration": 106,
    "start_time": "2022-05-20T06:21:46.024Z"
   },
   {
    "duration": 9,
    "start_time": "2022-05-20T06:21:46.132Z"
   },
   {
    "duration": 17,
    "start_time": "2022-05-20T06:21:46.143Z"
   },
   {
    "duration": 73,
    "start_time": "2022-05-20T06:21:46.162Z"
   },
   {
    "duration": 3,
    "start_time": "2022-05-20T06:21:46.237Z"
   },
   {
    "duration": 89,
    "start_time": "2022-05-20T06:21:46.242Z"
   },
   {
    "duration": 30,
    "start_time": "2022-05-20T06:21:46.333Z"
   },
   {
    "duration": 1390,
    "start_time": "2022-05-20T06:21:46.365Z"
   },
   {
    "duration": 212,
    "start_time": "2022-05-20T06:21:47.757Z"
   },
   {
    "duration": 394,
    "start_time": "2022-05-20T06:21:47.970Z"
   },
   {
    "duration": 19,
    "start_time": "2022-05-20T06:21:48.367Z"
   },
   {
    "duration": 21,
    "start_time": "2022-05-20T06:21:48.387Z"
   },
   {
    "duration": 23,
    "start_time": "2022-05-20T06:21:48.410Z"
   },
   {
    "duration": 7,
    "start_time": "2022-05-20T06:21:48.435Z"
   },
   {
    "duration": 9,
    "start_time": "2022-05-20T06:21:48.443Z"
   },
   {
    "duration": 11,
    "start_time": "2022-05-20T06:21:48.455Z"
   },
   {
    "duration": 1259,
    "start_time": "2022-05-20T06:21:48.468Z"
   },
   {
    "duration": 4,
    "start_time": "2022-05-20T06:21:49.729Z"
   },
   {
    "duration": 234902,
    "start_time": "2022-05-20T06:21:49.735Z"
   },
   {
    "duration": 4,
    "start_time": "2022-05-20T06:25:44.639Z"
   },
   {
    "duration": 2241,
    "start_time": "2022-05-20T06:53:19.261Z"
   },
   {
    "duration": 1437,
    "start_time": "2022-05-20T06:53:21.505Z"
   },
   {
    "duration": 768,
    "start_time": "2022-05-20T06:53:22.950Z"
   },
   {
    "duration": 136,
    "start_time": "2022-05-20T06:53:23.720Z"
   },
   {
    "duration": 11,
    "start_time": "2022-05-20T06:53:23.858Z"
   },
   {
    "duration": 6,
    "start_time": "2022-05-20T06:53:23.870Z"
   },
   {
    "duration": 88,
    "start_time": "2022-05-20T06:53:23.878Z"
   },
   {
    "duration": 3,
    "start_time": "2022-05-20T06:53:23.968Z"
   },
   {
    "duration": 82,
    "start_time": "2022-05-20T06:53:23.972Z"
   },
   {
    "duration": 22,
    "start_time": "2022-05-20T06:53:24.057Z"
   },
   {
    "duration": 1508,
    "start_time": "2022-05-20T06:53:24.081Z"
   },
   {
    "duration": 279,
    "start_time": "2022-05-20T06:53:25.591Z"
   },
   {
    "duration": 511,
    "start_time": "2022-05-20T06:53:25.872Z"
   },
   {
    "duration": 27,
    "start_time": "2022-05-20T06:53:26.386Z"
   },
   {
    "duration": 45,
    "start_time": "2022-05-20T06:53:26.415Z"
   },
   {
    "duration": 11,
    "start_time": "2022-05-20T06:53:26.465Z"
   },
   {
    "duration": 10,
    "start_time": "2022-05-20T06:53:26.478Z"
   },
   {
    "duration": 15,
    "start_time": "2022-05-20T06:53:26.490Z"
   },
   {
    "duration": 9,
    "start_time": "2022-05-20T06:53:26.507Z"
   },
   {
    "duration": 1825,
    "start_time": "2022-05-20T06:53:26.518Z"
   },
   {
    "duration": 7,
    "start_time": "2022-05-20T06:53:28.433Z"
   },
   {
    "duration": 237683,
    "start_time": "2022-05-20T06:53:28.445Z"
   },
   {
    "duration": 3,
    "start_time": "2022-05-20T06:57:26.130Z"
   },
   {
    "duration": 1523295,
    "start_time": "2022-05-20T06:57:26.135Z"
   },
   {
    "duration": 5,
    "start_time": "2022-05-20T07:22:49.432Z"
   },
   {
    "duration": 2493,
    "start_time": "2022-05-20T07:22:49.440Z"
   },
   {
    "duration": 529841,
    "start_time": "2022-05-20T07:22:51.935Z"
   },
   {
    "duration": 3643440,
    "start_time": "2022-05-20T07:31:41.779Z"
   },
   {
    "duration": 127,
    "start_time": "2022-05-20T08:32:25.220Z"
   },
   {
    "duration": 3,
    "start_time": "2022-05-20T08:34:57.909Z"
   },
   {
    "duration": 51,
    "start_time": "2022-05-20T12:39:41.943Z"
   },
   {
    "duration": 14,
    "start_time": "2022-05-20T12:39:50.932Z"
   },
   {
    "duration": 44,
    "start_time": "2022-05-20T12:42:06.240Z"
   },
   {
    "duration": 629,
    "start_time": "2022-05-20T12:45:36.491Z"
   },
   {
    "duration": 9,
    "start_time": "2022-05-20T12:45:46.963Z"
   },
   {
    "duration": 539,
    "start_time": "2022-05-20T12:45:54.258Z"
   },
   {
    "duration": 8,
    "start_time": "2022-05-20T12:45:54.984Z"
   },
   {
    "duration": 645,
    "start_time": "2022-05-20T12:46:14.906Z"
   },
   {
    "duration": 13,
    "start_time": "2022-05-20T12:46:15.828Z"
   },
   {
    "duration": 578,
    "start_time": "2022-05-20T12:46:44.177Z"
   },
   {
    "duration": 10,
    "start_time": "2022-05-20T12:46:46.222Z"
   },
   {
    "duration": 3613,
    "start_time": "2022-05-20T13:00:37.411Z"
   },
   {
    "duration": 1528,
    "start_time": "2022-05-20T13:00:41.026Z"
   },
   {
    "duration": 1519,
    "start_time": "2022-05-20T13:00:42.556Z"
   },
   {
    "duration": 96,
    "start_time": "2022-05-20T13:00:44.077Z"
   },
   {
    "duration": 9,
    "start_time": "2022-05-20T13:00:44.174Z"
   },
   {
    "duration": 7,
    "start_time": "2022-05-20T13:00:44.184Z"
   },
   {
    "duration": 74,
    "start_time": "2022-05-20T13:00:44.193Z"
   },
   {
    "duration": 164178,
    "start_time": "2022-05-20T13:00:44.268Z"
   },
   {
    "duration": 42,
    "start_time": "2022-05-20T13:03:28.448Z"
   },
   {
    "duration": 1513,
    "start_time": "2022-05-20T13:03:28.493Z"
   },
   {
    "duration": 249,
    "start_time": "2022-05-20T13:03:30.008Z"
   },
   {
    "duration": 438,
    "start_time": "2022-05-20T13:03:30.259Z"
   },
   {
    "duration": 20,
    "start_time": "2022-05-20T13:03:30.698Z"
   },
   {
    "duration": 726,
    "start_time": "2022-05-20T13:03:30.728Z"
   },
   {
    "duration": 0,
    "start_time": "2022-05-20T13:03:31.455Z"
   },
   {
    "duration": 0,
    "start_time": "2022-05-20T13:03:31.457Z"
   },
   {
    "duration": 0,
    "start_time": "2022-05-20T13:03:31.458Z"
   },
   {
    "duration": 0,
    "start_time": "2022-05-20T13:03:31.459Z"
   },
   {
    "duration": 0,
    "start_time": "2022-05-20T13:03:31.461Z"
   },
   {
    "duration": 0,
    "start_time": "2022-05-20T13:03:31.462Z"
   },
   {
    "duration": 0,
    "start_time": "2022-05-20T13:03:31.463Z"
   },
   {
    "duration": 0,
    "start_time": "2022-05-20T13:03:31.464Z"
   },
   {
    "duration": 0,
    "start_time": "2022-05-20T13:03:31.466Z"
   },
   {
    "duration": 0,
    "start_time": "2022-05-20T13:03:31.467Z"
   },
   {
    "duration": 0,
    "start_time": "2022-05-20T13:03:31.478Z"
   },
   {
    "duration": 0,
    "start_time": "2022-05-20T13:03:31.480Z"
   },
   {
    "duration": 0,
    "start_time": "2022-05-20T13:03:31.482Z"
   },
   {
    "duration": 0,
    "start_time": "2022-05-20T13:03:31.483Z"
   },
   {
    "duration": 3182,
    "start_time": "2022-05-20T13:04:51.203Z"
   },
   {
    "duration": 1852,
    "start_time": "2022-05-20T13:04:54.387Z"
   },
   {
    "duration": 1517,
    "start_time": "2022-05-20T13:04:56.241Z"
   },
   {
    "duration": 87,
    "start_time": "2022-05-20T13:04:57.760Z"
   },
   {
    "duration": 8,
    "start_time": "2022-05-20T13:04:57.849Z"
   },
   {
    "duration": 6,
    "start_time": "2022-05-20T13:04:57.858Z"
   },
   {
    "duration": 70,
    "start_time": "2022-05-20T13:04:57.866Z"
   },
   {
    "duration": 3,
    "start_time": "2022-05-20T13:04:57.937Z"
   },
   {
    "duration": 43,
    "start_time": "2022-05-20T13:04:57.941Z"
   },
   {
    "duration": 1333,
    "start_time": "2022-05-20T13:04:57.986Z"
   },
   {
    "duration": 222,
    "start_time": "2022-05-20T13:04:59.320Z"
   },
   {
    "duration": 413,
    "start_time": "2022-05-20T13:04:59.543Z"
   },
   {
    "duration": 19,
    "start_time": "2022-05-20T13:04:59.958Z"
   },
   {
    "duration": 14,
    "start_time": "2022-05-20T13:04:59.980Z"
   },
   {
    "duration": 32,
    "start_time": "2022-05-20T13:04:59.996Z"
   },
   {
    "duration": 4,
    "start_time": "2022-05-20T13:05:00.029Z"
   },
   {
    "duration": 28,
    "start_time": "2022-05-20T13:05:00.034Z"
   },
   {
    "duration": 6,
    "start_time": "2022-05-20T13:05:00.064Z"
   },
   {
    "duration": 1464,
    "start_time": "2022-05-20T13:05:00.072Z"
   },
   {
    "duration": 4,
    "start_time": "2022-05-20T13:05:01.628Z"
   },
   {
    "duration": 241504,
    "start_time": "2022-05-20T13:05:01.633Z"
   },
   {
    "duration": 4,
    "start_time": "2022-05-20T13:09:03.139Z"
   },
   {
    "duration": 1552773,
    "start_time": "2022-05-20T13:09:03.145Z"
   },
   {
    "duration": 7,
    "start_time": "2022-05-20T13:34:55.920Z"
   },
   {
    "duration": 3106,
    "start_time": "2022-05-20T13:34:55.929Z"
   },
   {
    "duration": 556007,
    "start_time": "2022-05-20T13:34:59.039Z"
   },
   {
    "duration": 3732679,
    "start_time": "2022-05-20T13:44:15.048Z"
   },
   {
    "duration": 3,
    "start_time": "2022-05-20T14:46:27.729Z"
   },
   {
    "duration": 4,
    "start_time": "2022-05-20T14:49:53.142Z"
   },
   {
    "duration": 117,
    "start_time": "2022-05-20T14:49:57.675Z"
   },
   {
    "duration": 6,
    "start_time": "2022-05-20T14:50:07.093Z"
   },
   {
    "duration": 16,
    "start_time": "2022-05-20T14:50:32.495Z"
   },
   {
    "duration": 5,
    "start_time": "2022-05-20T14:51:44.496Z"
   },
   {
    "duration": 8,
    "start_time": "2022-05-20T14:52:13.202Z"
   },
   {
    "duration": 6,
    "start_time": "2022-05-20T14:53:16.687Z"
   },
   {
    "duration": 9,
    "start_time": "2022-05-20T14:53:38.748Z"
   },
   {
    "duration": 7,
    "start_time": "2022-05-20T14:53:45.303Z"
   },
   {
    "duration": 6,
    "start_time": "2022-05-20T14:54:17.038Z"
   },
   {
    "duration": 7,
    "start_time": "2022-05-20T14:55:47.592Z"
   },
   {
    "duration": 9,
    "start_time": "2022-05-20T15:11:32.440Z"
   },
   {
    "duration": 16,
    "start_time": "2022-05-20T15:11:40.439Z"
   },
   {
    "duration": 38,
    "start_time": "2022-05-20T15:11:49.415Z"
   },
   {
    "duration": 41,
    "start_time": "2022-05-20T15:13:48.175Z"
   },
   {
    "duration": 20,
    "start_time": "2022-05-20T15:14:46.484Z"
   },
   {
    "duration": 38,
    "start_time": "2022-05-20T15:14:58.507Z"
   },
   {
    "duration": 43,
    "start_time": "2022-05-20T15:15:07.597Z"
   },
   {
    "duration": 54,
    "start_time": "2022-05-20T15:18:46.229Z"
   },
   {
    "duration": 42,
    "start_time": "2022-05-20T15:19:27.604Z"
   },
   {
    "duration": 647,
    "start_time": "2022-05-20T15:26:01.024Z"
   },
   {
    "duration": 122,
    "start_time": "2022-05-20T15:27:09.924Z"
   },
   {
    "duration": 5,
    "start_time": "2022-05-20T15:28:10.065Z"
   },
   {
    "duration": 31,
    "start_time": "2022-05-20T15:28:38.157Z"
   },
   {
    "duration": 10048,
    "start_time": "2022-05-20T15:29:04.662Z"
   },
   {
    "duration": 10543,
    "start_time": "2022-05-20T15:30:33.231Z"
   },
   {
    "duration": 51,
    "start_time": "2022-05-20T15:30:43.776Z"
   },
   {
    "duration": 5,
    "start_time": "2022-05-20T15:31:31.348Z"
   },
   {
    "duration": 17,
    "start_time": "2022-05-20T15:31:32.284Z"
   },
   {
    "duration": 9,
    "start_time": "2022-05-20T15:33:39.947Z"
   },
   {
    "duration": 5,
    "start_time": "2022-05-20T15:33:45.059Z"
   },
   {
    "duration": 108,
    "start_time": "2022-05-20T15:33:50.204Z"
   },
   {
    "duration": 33,
    "start_time": "2022-05-20T15:33:58.581Z"
   },
   {
    "duration": 9881,
    "start_time": "2022-05-20T15:34:06.295Z"
   },
   {
    "duration": 17,
    "start_time": "2022-05-20T15:35:23.779Z"
   },
   {
    "duration": 2077,
    "start_time": "2022-05-20T15:35:39.806Z"
   },
   {
    "duration": 1297,
    "start_time": "2022-05-20T15:35:41.885Z"
   },
   {
    "duration": 723,
    "start_time": "2022-05-20T15:35:43.184Z"
   },
   {
    "duration": 126,
    "start_time": "2022-05-20T15:35:43.910Z"
   },
   {
    "duration": 8,
    "start_time": "2022-05-20T15:35:44.037Z"
   },
   {
    "duration": 20,
    "start_time": "2022-05-20T15:35:44.047Z"
   },
   {
    "duration": 5,
    "start_time": "2022-05-20T15:35:44.068Z"
   },
   {
    "duration": 84,
    "start_time": "2022-05-20T15:35:44.074Z"
   },
   {
    "duration": 2,
    "start_time": "2022-05-20T15:35:44.159Z"
   },
   {
    "duration": 41,
    "start_time": "2022-05-20T15:35:44.164Z"
   },
   {
    "duration": 54,
    "start_time": "2022-05-20T15:35:44.226Z"
   },
   {
    "duration": 1464,
    "start_time": "2022-05-20T15:35:44.281Z"
   },
   {
    "duration": 242,
    "start_time": "2022-05-20T15:35:45.746Z"
   },
   {
    "duration": 486,
    "start_time": "2022-05-20T15:35:45.990Z"
   },
   {
    "duration": 28,
    "start_time": "2022-05-20T15:35:46.478Z"
   },
   {
    "duration": 28,
    "start_time": "2022-05-20T15:35:46.509Z"
   },
   {
    "duration": 19,
    "start_time": "2022-05-20T15:35:46.540Z"
   },
   {
    "duration": 13,
    "start_time": "2022-05-20T15:35:46.562Z"
   },
   {
    "duration": 35,
    "start_time": "2022-05-20T15:35:46.576Z"
   },
   {
    "duration": 6,
    "start_time": "2022-05-20T15:35:46.613Z"
   },
   {
    "duration": 1607,
    "start_time": "2022-05-20T15:35:46.621Z"
   },
   {
    "duration": 4,
    "start_time": "2022-05-20T15:35:48.230Z"
   },
   {
    "duration": 240185,
    "start_time": "2022-05-20T15:35:48.235Z"
   },
   {
    "duration": 5,
    "start_time": "2022-05-20T15:39:48.422Z"
   },
   {
    "duration": 2201,
    "start_time": "2022-05-20T15:42:34.988Z"
   },
   {
    "duration": 1274,
    "start_time": "2022-05-20T15:42:37.192Z"
   },
   {
    "duration": 677,
    "start_time": "2022-05-20T15:42:38.467Z"
   },
   {
    "duration": 110,
    "start_time": "2022-05-20T15:42:39.147Z"
   },
   {
    "duration": 8,
    "start_time": "2022-05-20T15:42:39.259Z"
   },
   {
    "duration": 36,
    "start_time": "2022-05-20T15:42:39.269Z"
   },
   {
    "duration": 4,
    "start_time": "2022-05-20T15:42:39.307Z"
   },
   {
    "duration": 64,
    "start_time": "2022-05-20T15:42:39.312Z"
   },
   {
    "duration": 2,
    "start_time": "2022-05-20T15:42:39.377Z"
   },
   {
    "duration": 52,
    "start_time": "2022-05-20T15:42:39.382Z"
   },
   {
    "duration": 52,
    "start_time": "2022-05-20T15:42:39.435Z"
   },
   {
    "duration": 1384,
    "start_time": "2022-05-20T15:42:39.489Z"
   },
   {
    "duration": 222,
    "start_time": "2022-05-20T15:42:40.874Z"
   },
   {
    "duration": 409,
    "start_time": "2022-05-20T15:42:41.098Z"
   },
   {
    "duration": 28,
    "start_time": "2022-05-20T15:42:41.509Z"
   },
   {
    "duration": 12,
    "start_time": "2022-05-20T15:42:41.538Z"
   },
   {
    "duration": 8,
    "start_time": "2022-05-20T15:42:41.552Z"
   },
   {
    "duration": 3,
    "start_time": "2022-05-20T15:42:41.562Z"
   },
   {
    "duration": 15,
    "start_time": "2022-05-20T15:42:41.566Z"
   },
   {
    "duration": 11,
    "start_time": "2022-05-20T15:42:41.582Z"
   },
   {
    "duration": 1541,
    "start_time": "2022-05-20T15:42:41.594Z"
   },
   {
    "duration": 91,
    "start_time": "2022-05-20T15:42:43.137Z"
   },
   {
    "duration": 235854,
    "start_time": "2022-05-20T15:42:43.229Z"
   },
   {
    "duration": 4,
    "start_time": "2022-05-20T15:46:39.086Z"
   },
   {
    "duration": 1542098,
    "start_time": "2022-05-20T15:46:39.092Z"
   },
   {
    "duration": 8,
    "start_time": "2022-05-20T16:12:21.192Z"
   },
   {
    "duration": 38,
    "start_time": "2022-05-20T16:12:21.201Z"
   },
   {
    "duration": 2393,
    "start_time": "2022-05-20T16:12:21.242Z"
   },
   {
    "duration": 515384,
    "start_time": "2022-05-20T16:12:23.729Z"
   },
   {
    "duration": 3559835,
    "start_time": "2022-05-20T16:20:59.115Z"
   },
   {
    "duration": 8,
    "start_time": "2022-05-20T17:20:18.951Z"
   },
   {
    "duration": 11,
    "start_time": "2022-05-20T17:20:18.960Z"
   },
   {
    "duration": 6,
    "start_time": "2022-05-20T17:20:18.973Z"
   },
   {
    "duration": 14,
    "start_time": "2022-05-20T17:20:18.981Z"
   },
   {
    "duration": 7,
    "start_time": "2022-05-20T17:20:18.998Z"
   },
   {
    "duration": 14,
    "start_time": "2022-05-20T17:26:46.864Z"
   },
   {
    "duration": 34,
    "start_time": "2022-05-20T17:26:48.702Z"
   },
   {
    "duration": 31,
    "start_time": "2022-05-20T17:27:03.492Z"
   },
   {
    "duration": 27,
    "start_time": "2022-05-20T17:27:10.369Z"
   },
   {
    "duration": 9,
    "start_time": "2022-05-20T17:32:04.608Z"
   },
   {
    "duration": 6,
    "start_time": "2022-05-20T17:33:32.164Z"
   },
   {
    "duration": 1424,
    "start_time": "2022-05-20T17:34:17.307Z"
   },
   {
    "duration": 699,
    "start_time": "2022-05-20T17:34:38.635Z"
   },
   {
    "duration": 35,
    "start_time": "2022-05-20T17:35:19.376Z"
   },
   {
    "duration": 5,
    "start_time": "2022-05-20T17:35:27.386Z"
   },
   {
    "duration": 3,
    "start_time": "2022-05-20T17:36:25.406Z"
   },
   {
    "duration": 11,
    "start_time": "2022-05-20T17:37:09.211Z"
   },
   {
    "duration": 15,
    "start_time": "2022-05-20T17:37:27.241Z"
   },
   {
    "duration": 159,
    "start_time": "2022-05-20T17:37:35.165Z"
   },
   {
    "duration": 12,
    "start_time": "2022-05-20T17:38:29.562Z"
   },
   {
    "duration": 10,
    "start_time": "2022-05-20T17:39:48.624Z"
   },
   {
    "duration": 3,
    "start_time": "2022-05-20T17:40:12.212Z"
   },
   {
    "duration": 2,
    "start_time": "2022-05-20T17:40:29.156Z"
   },
   {
    "duration": 3,
    "start_time": "2022-05-20T17:40:41.255Z"
   },
   {
    "duration": 3,
    "start_time": "2022-05-20T17:40:46.940Z"
   },
   {
    "duration": 4,
    "start_time": "2022-05-20T17:43:40.705Z"
   },
   {
    "duration": 6,
    "start_time": "2022-05-20T17:43:46.034Z"
   },
   {
    "duration": 2231,
    "start_time": "2022-05-20T17:47:36.819Z"
   },
   {
    "duration": 1406,
    "start_time": "2022-05-20T17:47:39.053Z"
   },
   {
    "duration": 789,
    "start_time": "2022-05-20T17:47:40.461Z"
   },
   {
    "duration": 134,
    "start_time": "2022-05-20T17:47:41.253Z"
   },
   {
    "duration": 11,
    "start_time": "2022-05-20T17:47:41.389Z"
   },
   {
    "duration": 54,
    "start_time": "2022-05-20T17:47:41.402Z"
   },
   {
    "duration": 20,
    "start_time": "2022-05-20T17:47:41.458Z"
   },
   {
    "duration": 151387,
    "start_time": "2022-05-20T17:47:41.479Z"
   },
   {
    "duration": 36,
    "start_time": "2022-05-20T17:50:12.867Z"
   },
   {
    "duration": 28,
    "start_time": "2022-05-20T17:50:12.907Z"
   },
   {
    "duration": 38,
    "start_time": "2022-05-20T17:50:12.938Z"
   },
   {
    "duration": 1498,
    "start_time": "2022-05-20T17:50:12.978Z"
   },
   {
    "duration": 1029,
    "start_time": "2022-05-20T17:50:14.477Z"
   },
   {
    "duration": 0,
    "start_time": "2022-05-20T17:50:15.508Z"
   },
   {
    "duration": 0,
    "start_time": "2022-05-20T17:50:15.509Z"
   },
   {
    "duration": 0,
    "start_time": "2022-05-20T17:50:15.510Z"
   },
   {
    "duration": 0,
    "start_time": "2022-05-20T17:50:15.511Z"
   },
   {
    "duration": 0,
    "start_time": "2022-05-20T17:50:15.512Z"
   },
   {
    "duration": 0,
    "start_time": "2022-05-20T17:50:15.512Z"
   },
   {
    "duration": 0,
    "start_time": "2022-05-20T17:50:15.513Z"
   },
   {
    "duration": 0,
    "start_time": "2022-05-20T17:50:15.528Z"
   },
   {
    "duration": 0,
    "start_time": "2022-05-20T17:50:15.529Z"
   },
   {
    "duration": 0,
    "start_time": "2022-05-20T17:50:15.530Z"
   },
   {
    "duration": 0,
    "start_time": "2022-05-20T17:50:15.531Z"
   },
   {
    "duration": 0,
    "start_time": "2022-05-20T17:50:15.532Z"
   },
   {
    "duration": 0,
    "start_time": "2022-05-20T17:50:15.533Z"
   },
   {
    "duration": 0,
    "start_time": "2022-05-20T17:50:15.535Z"
   },
   {
    "duration": 0,
    "start_time": "2022-05-20T17:50:15.535Z"
   },
   {
    "duration": 0,
    "start_time": "2022-05-20T17:50:15.536Z"
   },
   {
    "duration": 0,
    "start_time": "2022-05-20T17:50:15.537Z"
   },
   {
    "duration": 0,
    "start_time": "2022-05-20T17:50:15.538Z"
   },
   {
    "duration": 0,
    "start_time": "2022-05-20T17:50:15.540Z"
   },
   {
    "duration": 0,
    "start_time": "2022-05-20T17:50:15.541Z"
   },
   {
    "duration": 0,
    "start_time": "2022-05-20T17:50:15.542Z"
   },
   {
    "duration": 0,
    "start_time": "2022-05-20T17:50:15.543Z"
   },
   {
    "duration": 245,
    "start_time": "2022-05-20T17:51:32.164Z"
   },
   {
    "duration": 416,
    "start_time": "2022-05-20T17:51:55.578Z"
   },
   {
    "duration": 20,
    "start_time": "2022-05-20T17:51:55.996Z"
   },
   {
    "duration": 26,
    "start_time": "2022-05-20T17:51:56.018Z"
   },
   {
    "duration": 8,
    "start_time": "2022-05-20T17:51:56.046Z"
   },
   {
    "duration": 26,
    "start_time": "2022-05-20T17:51:56.056Z"
   },
   {
    "duration": 20,
    "start_time": "2022-05-20T17:51:56.083Z"
   },
   {
    "duration": 25,
    "start_time": "2022-05-20T17:51:56.104Z"
   },
   {
    "duration": 1402,
    "start_time": "2022-05-20T17:51:56.130Z"
   },
   {
    "duration": 4,
    "start_time": "2022-05-20T17:51:57.534Z"
   },
   {
    "duration": 2060,
    "start_time": "2022-05-20T17:55:34.259Z"
   },
   {
    "duration": 1312,
    "start_time": "2022-05-20T17:55:36.322Z"
   },
   {
    "duration": 649,
    "start_time": "2022-05-20T17:55:37.636Z"
   },
   {
    "duration": 92,
    "start_time": "2022-05-20T17:55:38.286Z"
   },
   {
    "duration": 8,
    "start_time": "2022-05-20T17:55:38.379Z"
   },
   {
    "duration": 22,
    "start_time": "2022-05-20T17:55:38.388Z"
   },
   {
    "duration": 18,
    "start_time": "2022-05-20T17:55:38.412Z"
   },
   {
    "duration": 15,
    "start_time": "2022-05-20T17:55:38.431Z"
   },
   {
    "duration": 38,
    "start_time": "2022-05-20T17:55:38.447Z"
   },
   {
    "duration": 17,
    "start_time": "2022-05-20T17:55:38.487Z"
   },
   {
    "duration": 46,
    "start_time": "2022-05-20T17:55:38.505Z"
   },
   {
    "duration": 1300,
    "start_time": "2022-05-20T17:55:38.552Z"
   },
   {
    "duration": 208,
    "start_time": "2022-05-20T17:55:39.854Z"
   },
   {
    "duration": 378,
    "start_time": "2022-05-20T17:55:40.065Z"
   },
   {
    "duration": 17,
    "start_time": "2022-05-20T17:55:40.444Z"
   },
   {
    "duration": 18,
    "start_time": "2022-05-20T17:55:40.462Z"
   },
   {
    "duration": 7,
    "start_time": "2022-05-20T17:55:40.481Z"
   },
   {
    "duration": 3,
    "start_time": "2022-05-20T17:55:40.490Z"
   },
   {
    "duration": 34,
    "start_time": "2022-05-20T17:55:40.494Z"
   },
   {
    "duration": 5,
    "start_time": "2022-05-20T17:55:40.530Z"
   },
   {
    "duration": 1491,
    "start_time": "2022-05-20T17:55:40.536Z"
   },
   {
    "duration": 3,
    "start_time": "2022-05-20T17:55:42.029Z"
   },
   {
    "duration": 2123,
    "start_time": "2022-05-20T17:59:30.524Z"
   },
   {
    "duration": 1214,
    "start_time": "2022-05-20T17:59:32.649Z"
   },
   {
    "duration": 682,
    "start_time": "2022-05-20T17:59:33.865Z"
   },
   {
    "duration": 97,
    "start_time": "2022-05-20T17:59:34.549Z"
   },
   {
    "duration": 9,
    "start_time": "2022-05-20T17:59:34.648Z"
   },
   {
    "duration": 17,
    "start_time": "2022-05-20T17:59:34.659Z"
   },
   {
    "duration": 6,
    "start_time": "2022-05-20T17:59:34.678Z"
   },
   {
    "duration": 8,
    "start_time": "2022-05-20T17:59:34.685Z"
   },
   {
    "duration": 70,
    "start_time": "2022-05-20T17:59:34.695Z"
   },
   {
    "duration": 22,
    "start_time": "2022-05-20T17:59:34.769Z"
   },
   {
    "duration": 51,
    "start_time": "2022-05-20T17:59:34.793Z"
   },
   {
    "duration": 1321,
    "start_time": "2022-05-20T17:59:34.846Z"
   },
   {
    "duration": 283,
    "start_time": "2022-05-20T17:59:36.169Z"
   },
   {
    "duration": 408,
    "start_time": "2022-05-20T17:59:36.454Z"
   },
   {
    "duration": 19,
    "start_time": "2022-05-20T17:59:36.864Z"
   },
   {
    "duration": 20,
    "start_time": "2022-05-20T17:59:36.884Z"
   },
   {
    "duration": 24,
    "start_time": "2022-05-20T17:59:36.906Z"
   },
   {
    "duration": 3,
    "start_time": "2022-05-20T17:59:36.932Z"
   },
   {
    "duration": 13,
    "start_time": "2022-05-20T17:59:36.936Z"
   },
   {
    "duration": 5,
    "start_time": "2022-05-20T17:59:36.951Z"
   },
   {
    "duration": 1271,
    "start_time": "2022-05-20T17:59:36.957Z"
   },
   {
    "duration": 5,
    "start_time": "2022-05-20T17:59:38.231Z"
   },
   {
    "duration": 2253,
    "start_time": "2022-05-20T18:07:25.167Z"
   },
   {
    "duration": 1378,
    "start_time": "2022-05-20T18:07:27.422Z"
   },
   {
    "duration": 672,
    "start_time": "2022-05-20T18:07:28.802Z"
   },
   {
    "duration": 127,
    "start_time": "2022-05-20T18:07:29.477Z"
   },
   {
    "duration": 22,
    "start_time": "2022-05-20T18:07:29.606Z"
   },
   {
    "duration": 28,
    "start_time": "2022-05-20T18:07:29.630Z"
   },
   {
    "duration": 5,
    "start_time": "2022-05-20T18:07:29.660Z"
   },
   {
    "duration": 29,
    "start_time": "2022-05-20T18:07:29.667Z"
   },
   {
    "duration": 46,
    "start_time": "2022-05-20T18:07:29.698Z"
   },
   {
    "duration": 19,
    "start_time": "2022-05-20T18:07:29.748Z"
   },
   {
    "duration": 45,
    "start_time": "2022-05-20T18:07:29.769Z"
   },
   {
    "duration": 1331,
    "start_time": "2022-05-20T18:07:29.815Z"
   },
   {
    "duration": 216,
    "start_time": "2022-05-20T18:07:31.148Z"
   },
   {
    "duration": 393,
    "start_time": "2022-05-20T18:07:31.366Z"
   },
   {
    "duration": 22,
    "start_time": "2022-05-20T18:07:31.761Z"
   },
   {
    "duration": 21,
    "start_time": "2022-05-20T18:07:31.784Z"
   },
   {
    "duration": 43,
    "start_time": "2022-05-20T18:07:31.806Z"
   },
   {
    "duration": 46,
    "start_time": "2022-05-20T18:07:31.850Z"
   },
   {
    "duration": 54,
    "start_time": "2022-05-20T18:07:31.898Z"
   },
   {
    "duration": 23,
    "start_time": "2022-05-20T18:07:31.954Z"
   },
   {
    "duration": 1559,
    "start_time": "2022-05-20T18:07:31.979Z"
   },
   {
    "duration": 87,
    "start_time": "2022-05-20T18:07:33.541Z"
   },
   {
    "duration": 2138,
    "start_time": "2022-05-20T18:12:01.540Z"
   },
   {
    "duration": 1304,
    "start_time": "2022-05-20T18:12:03.680Z"
   },
   {
    "duration": 686,
    "start_time": "2022-05-20T18:12:04.986Z"
   },
   {
    "duration": 97,
    "start_time": "2022-05-20T18:12:05.674Z"
   },
   {
    "duration": 9,
    "start_time": "2022-05-20T18:12:05.773Z"
   },
   {
    "duration": 39,
    "start_time": "2022-05-20T18:12:05.783Z"
   },
   {
    "duration": 18,
    "start_time": "2022-05-20T18:12:05.827Z"
   },
   {
    "duration": 34,
    "start_time": "2022-05-20T18:12:05.846Z"
   },
   {
    "duration": 75,
    "start_time": "2022-05-20T18:12:05.882Z"
   },
   {
    "duration": 20,
    "start_time": "2022-05-20T18:12:05.960Z"
   },
   {
    "duration": 46,
    "start_time": "2022-05-20T18:12:05.981Z"
   },
   {
    "duration": 1465,
    "start_time": "2022-05-20T18:12:06.029Z"
   },
   {
    "duration": 212,
    "start_time": "2022-05-20T18:12:07.495Z"
   },
   {
    "duration": 402,
    "start_time": "2022-05-20T18:12:07.708Z"
   },
   {
    "duration": 24,
    "start_time": "2022-05-20T18:12:08.111Z"
   },
   {
    "duration": 19,
    "start_time": "2022-05-20T18:12:08.136Z"
   },
   {
    "duration": 15,
    "start_time": "2022-05-20T18:12:08.157Z"
   },
   {
    "duration": 14,
    "start_time": "2022-05-20T18:12:08.173Z"
   },
   {
    "duration": 49,
    "start_time": "2022-05-20T18:12:08.188Z"
   },
   {
    "duration": 27,
    "start_time": "2022-05-20T18:12:08.239Z"
   },
   {
    "duration": 1663,
    "start_time": "2022-05-20T18:12:08.268Z"
   },
   {
    "duration": 4,
    "start_time": "2022-05-20T18:12:09.933Z"
   },
   {
    "duration": 3180,
    "start_time": "2022-05-20T22:44:12.526Z"
   },
   {
    "duration": 1484,
    "start_time": "2022-05-20T22:44:15.708Z"
   },
   {
    "duration": 1458,
    "start_time": "2022-05-20T22:44:17.194Z"
   },
   {
    "duration": 105,
    "start_time": "2022-05-20T22:44:18.655Z"
   },
   {
    "duration": 8,
    "start_time": "2022-05-20T22:44:18.761Z"
   },
   {
    "duration": 21,
    "start_time": "2022-05-20T22:44:18.771Z"
   },
   {
    "duration": 4,
    "start_time": "2022-05-20T22:44:18.794Z"
   },
   {
    "duration": 5,
    "start_time": "2022-05-20T22:44:18.800Z"
   },
   {
    "duration": 32,
    "start_time": "2022-05-20T22:44:18.827Z"
   },
   {
    "duration": 19,
    "start_time": "2022-05-20T22:44:18.862Z"
   },
   {
    "duration": 52,
    "start_time": "2022-05-20T22:44:18.882Z"
   },
   {
    "duration": 1312,
    "start_time": "2022-05-20T22:44:18.936Z"
   },
   {
    "duration": 218,
    "start_time": "2022-05-20T22:44:20.249Z"
   },
   {
    "duration": 397,
    "start_time": "2022-05-20T22:44:20.469Z"
   },
   {
    "duration": 19,
    "start_time": "2022-05-20T22:44:20.868Z"
   },
   {
    "duration": 18,
    "start_time": "2022-05-20T22:44:20.888Z"
   },
   {
    "duration": 24,
    "start_time": "2022-05-20T22:44:20.908Z"
   },
   {
    "duration": 3,
    "start_time": "2022-05-20T22:44:20.934Z"
   },
   {
    "duration": 21,
    "start_time": "2022-05-20T22:44:20.938Z"
   },
   {
    "duration": 7,
    "start_time": "2022-05-20T22:44:20.960Z"
   },
   {
    "duration": 1662,
    "start_time": "2022-05-20T22:44:20.968Z"
   },
   {
    "duration": 4,
    "start_time": "2022-05-20T22:44:22.632Z"
   },
   {
    "duration": 2076,
    "start_time": "2022-05-20T22:50:17.663Z"
   },
   {
    "duration": 1317,
    "start_time": "2022-05-20T22:50:19.741Z"
   },
   {
    "duration": 686,
    "start_time": "2022-05-20T22:50:21.059Z"
   },
   {
    "duration": 101,
    "start_time": "2022-05-20T22:50:21.747Z"
   },
   {
    "duration": 7,
    "start_time": "2022-05-20T22:50:21.850Z"
   },
   {
    "duration": 20,
    "start_time": "2022-05-20T22:50:21.858Z"
   },
   {
    "duration": 4,
    "start_time": "2022-05-20T22:50:21.880Z"
   },
   {
    "duration": 5,
    "start_time": "2022-05-20T22:50:21.885Z"
   },
   {
    "duration": 60,
    "start_time": "2022-05-20T22:50:21.891Z"
   },
   {
    "duration": 18,
    "start_time": "2022-05-20T22:50:21.954Z"
   },
   {
    "duration": 34,
    "start_time": "2022-05-20T22:50:21.974Z"
   },
   {
    "duration": 1273,
    "start_time": "2022-05-20T22:50:22.027Z"
   },
   {
    "duration": 212,
    "start_time": "2022-05-20T22:50:23.301Z"
   },
   {
    "duration": 420,
    "start_time": "2022-05-20T22:50:23.515Z"
   },
   {
    "duration": 18,
    "start_time": "2022-05-20T22:50:23.936Z"
   },
   {
    "duration": 19,
    "start_time": "2022-05-20T22:50:23.956Z"
   },
   {
    "duration": 8,
    "start_time": "2022-05-20T22:50:23.976Z"
   },
   {
    "duration": 3,
    "start_time": "2022-05-20T22:50:23.986Z"
   },
   {
    "duration": 38,
    "start_time": "2022-05-20T22:50:23.990Z"
   },
   {
    "duration": 5,
    "start_time": "2022-05-20T22:50:24.030Z"
   },
   {
    "duration": 1392,
    "start_time": "2022-05-20T22:50:24.037Z"
   },
   {
    "duration": 4,
    "start_time": "2022-05-20T22:50:25.431Z"
   },
   {
    "duration": 210273,
    "start_time": "2022-05-20T22:50:25.437Z"
   },
   {
    "duration": 3,
    "start_time": "2022-05-20T22:53:55.711Z"
   },
   {
    "duration": 2084,
    "start_time": "2022-05-20T23:39:41.162Z"
   },
   {
    "duration": 1322,
    "start_time": "2022-05-20T23:39:43.248Z"
   },
   {
    "duration": 732,
    "start_time": "2022-05-20T23:39:44.571Z"
   },
   {
    "duration": 98,
    "start_time": "2022-05-20T23:39:45.305Z"
   },
   {
    "duration": 28,
    "start_time": "2022-05-20T23:39:45.405Z"
   },
   {
    "duration": 18,
    "start_time": "2022-05-20T23:39:45.440Z"
   },
   {
    "duration": 4,
    "start_time": "2022-05-20T23:39:45.460Z"
   },
   {
    "duration": 6,
    "start_time": "2022-05-20T23:39:45.466Z"
   },
   {
    "duration": 42,
    "start_time": "2022-05-20T23:39:45.474Z"
   },
   {
    "duration": 26,
    "start_time": "2022-05-20T23:39:45.529Z"
   },
   {
    "duration": 37,
    "start_time": "2022-05-20T23:39:45.556Z"
   },
   {
    "duration": 1813,
    "start_time": "2022-05-20T23:39:45.595Z"
   },
   {
    "duration": 239,
    "start_time": "2022-05-20T23:39:47.410Z"
   },
   {
    "duration": 469,
    "start_time": "2022-05-20T23:39:47.651Z"
   },
   {
    "duration": 31,
    "start_time": "2022-05-20T23:39:48.122Z"
   },
   {
    "duration": 19,
    "start_time": "2022-05-20T23:39:48.155Z"
   },
   {
    "duration": 8,
    "start_time": "2022-05-20T23:39:48.175Z"
   },
   {
    "duration": 3,
    "start_time": "2022-05-20T23:39:48.185Z"
   },
   {
    "duration": 12,
    "start_time": "2022-05-20T23:39:48.189Z"
   },
   {
    "duration": 10,
    "start_time": "2022-05-20T23:39:48.202Z"
   },
   {
    "duration": 2132,
    "start_time": "2022-05-20T23:39:48.213Z"
   },
   {
    "duration": 88,
    "start_time": "2022-05-20T23:39:50.347Z"
   },
   {
    "duration": 287077,
    "start_time": "2022-05-20T23:39:50.437Z"
   },
   {
    "duration": 3,
    "start_time": "2022-05-20T23:44:37.516Z"
   },
   {
    "duration": 2173,
    "start_time": "2022-05-21T00:08:08.340Z"
   },
   {
    "duration": 1337,
    "start_time": "2022-05-21T00:08:10.515Z"
   },
   {
    "duration": 731,
    "start_time": "2022-05-21T00:08:11.853Z"
   },
   {
    "duration": 105,
    "start_time": "2022-05-21T00:08:12.586Z"
   },
   {
    "duration": 9,
    "start_time": "2022-05-21T00:08:12.693Z"
   },
   {
    "duration": 37,
    "start_time": "2022-05-21T00:08:12.704Z"
   },
   {
    "duration": 5,
    "start_time": "2022-05-21T00:08:12.743Z"
   },
   {
    "duration": 7,
    "start_time": "2022-05-21T00:08:12.749Z"
   },
   {
    "duration": 38,
    "start_time": "2022-05-21T00:08:12.757Z"
   },
   {
    "duration": 42,
    "start_time": "2022-05-21T00:08:12.796Z"
   },
   {
    "duration": 34,
    "start_time": "2022-05-21T00:08:12.840Z"
   },
   {
    "duration": 1365,
    "start_time": "2022-05-21T00:08:12.876Z"
   },
   {
    "duration": 213,
    "start_time": "2022-05-21T00:08:14.242Z"
   },
   {
    "duration": 423,
    "start_time": "2022-05-21T00:08:14.457Z"
   },
   {
    "duration": 18,
    "start_time": "2022-05-21T00:08:14.881Z"
   },
   {
    "duration": 37,
    "start_time": "2022-05-21T00:08:14.900Z"
   },
   {
    "duration": 8,
    "start_time": "2022-05-21T00:08:14.940Z"
   },
   {
    "duration": 3,
    "start_time": "2022-05-21T00:08:14.950Z"
   },
   {
    "duration": 16,
    "start_time": "2022-05-21T00:08:14.954Z"
   },
   {
    "duration": 7,
    "start_time": "2022-05-21T00:08:14.971Z"
   },
   {
    "duration": 2153,
    "start_time": "2022-05-21T00:08:14.980Z"
   },
   {
    "duration": 7,
    "start_time": "2022-05-21T00:08:17.139Z"
   },
   {
    "duration": 2120,
    "start_time": "2022-05-21T00:10:09.563Z"
   },
   {
    "duration": 1250,
    "start_time": "2022-05-21T00:10:11.686Z"
   },
   {
    "duration": 754,
    "start_time": "2022-05-21T00:10:12.941Z"
   },
   {
    "duration": 97,
    "start_time": "2022-05-21T00:10:13.697Z"
   },
   {
    "duration": 10,
    "start_time": "2022-05-21T00:10:13.795Z"
   },
   {
    "duration": 52,
    "start_time": "2022-05-21T00:10:13.807Z"
   },
   {
    "duration": 4,
    "start_time": "2022-05-21T00:10:13.861Z"
   },
   {
    "duration": 5,
    "start_time": "2022-05-21T00:10:13.867Z"
   },
   {
    "duration": 44,
    "start_time": "2022-05-21T00:10:13.875Z"
   },
   {
    "duration": 22,
    "start_time": "2022-05-21T00:10:13.922Z"
   },
   {
    "duration": 41,
    "start_time": "2022-05-21T00:10:13.946Z"
   },
   {
    "duration": 1430,
    "start_time": "2022-05-21T00:10:13.988Z"
   },
   {
    "duration": 223,
    "start_time": "2022-05-21T00:10:15.419Z"
   },
   {
    "duration": 420,
    "start_time": "2022-05-21T00:10:15.643Z"
   },
   {
    "duration": 19,
    "start_time": "2022-05-21T00:10:16.065Z"
   },
   {
    "duration": 19,
    "start_time": "2022-05-21T00:10:16.086Z"
   },
   {
    "duration": 36,
    "start_time": "2022-05-21T00:10:16.107Z"
   },
   {
    "duration": 3,
    "start_time": "2022-05-21T00:10:16.145Z"
   },
   {
    "duration": 19,
    "start_time": "2022-05-21T00:10:16.150Z"
   },
   {
    "duration": 10,
    "start_time": "2022-05-21T00:10:16.171Z"
   },
   {
    "duration": 2358,
    "start_time": "2022-05-21T00:10:16.182Z"
   },
   {
    "duration": 5,
    "start_time": "2022-05-21T00:10:18.542Z"
   },
   {
    "duration": 289321,
    "start_time": "2022-05-21T00:10:18.549Z"
   },
   {
    "duration": 2,
    "start_time": "2022-05-21T00:15:07.872Z"
   },
   {
    "duration": 2152,
    "start_time": "2022-05-21T00:17:24.059Z"
   },
   {
    "duration": 1432,
    "start_time": "2022-05-21T00:17:26.214Z"
   },
   {
    "duration": 714,
    "start_time": "2022-05-21T00:17:27.648Z"
   },
   {
    "duration": 103,
    "start_time": "2022-05-21T00:17:28.364Z"
   },
   {
    "duration": 8,
    "start_time": "2022-05-21T00:17:28.468Z"
   },
   {
    "duration": 18,
    "start_time": "2022-05-21T00:17:28.478Z"
   },
   {
    "duration": 4,
    "start_time": "2022-05-21T00:17:28.498Z"
   },
   {
    "duration": 19,
    "start_time": "2022-05-21T00:17:28.527Z"
   },
   {
    "duration": 42,
    "start_time": "2022-05-21T00:17:28.548Z"
   },
   {
    "duration": 20,
    "start_time": "2022-05-21T00:17:28.593Z"
   },
   {
    "duration": 41,
    "start_time": "2022-05-21T00:17:28.615Z"
   },
   {
    "duration": 1437,
    "start_time": "2022-05-21T00:17:28.658Z"
   },
   {
    "duration": 214,
    "start_time": "2022-05-21T00:17:30.097Z"
   },
   {
    "duration": 404,
    "start_time": "2022-05-21T00:17:30.312Z"
   },
   {
    "duration": 20,
    "start_time": "2022-05-21T00:17:30.718Z"
   },
   {
    "duration": 34,
    "start_time": "2022-05-21T00:17:30.739Z"
   },
   {
    "duration": 8,
    "start_time": "2022-05-21T00:17:30.775Z"
   },
   {
    "duration": 4,
    "start_time": "2022-05-21T00:17:30.785Z"
   },
   {
    "duration": 24,
    "start_time": "2022-05-21T00:17:30.790Z"
   },
   {
    "duration": 30,
    "start_time": "2022-05-21T00:17:30.816Z"
   },
   {
    "duration": 1589,
    "start_time": "2022-05-21T00:17:30.848Z"
   },
   {
    "duration": 4,
    "start_time": "2022-05-21T00:17:32.442Z"
   },
   {
    "duration": 209112,
    "start_time": "2022-05-21T00:17:32.448Z"
   },
   {
    "duration": 3,
    "start_time": "2022-05-21T00:21:01.562Z"
   },
   {
    "duration": 1221231,
    "start_time": "2022-05-21T00:21:01.567Z"
   },
   {
    "duration": 6,
    "start_time": "2022-05-21T00:41:22.800Z"
   },
   {
    "duration": 9,
    "start_time": "2022-05-21T00:41:22.808Z"
   },
   {
    "duration": 7296,
    "start_time": "2022-05-21T00:41:22.830Z"
   },
   {
    "duration": 569512,
    "start_time": "2022-05-21T00:41:30.129Z"
   },
   {
    "duration": 3539235,
    "start_time": "2022-05-21T00:50:59.652Z"
   },
   {
    "duration": 6,
    "start_time": "2022-05-21T01:49:58.888Z"
   },
   {
    "duration": 17,
    "start_time": "2022-05-21T01:49:58.896Z"
   },
   {
    "duration": 34,
    "start_time": "2022-05-21T01:49:58.914Z"
   },
   {
    "duration": 20,
    "start_time": "2022-05-21T01:49:58.950Z"
   },
   {
    "duration": 30,
    "start_time": "2022-05-21T01:49:58.972Z"
   },
   {
    "duration": 32,
    "start_time": "2022-05-21T02:49:16.393Z"
   },
   {
    "duration": 5,
    "start_time": "2022-05-21T02:49:53.740Z"
   },
   {
    "duration": 1967,
    "start_time": "2022-05-21T02:57:26.103Z"
   },
   {
    "duration": 20,
    "start_time": "2022-05-21T02:57:36.824Z"
   },
   {
    "duration": 12,
    "start_time": "2022-05-21T02:57:54.713Z"
   },
   {
    "duration": 1803,
    "start_time": "2022-05-21T02:57:55.754Z"
   },
   {
    "duration": 12,
    "start_time": "2022-05-21T02:57:58.308Z"
   },
   {
    "duration": 42,
    "start_time": "2022-05-21T02:58:37.115Z"
   },
   {
    "duration": 290,
    "start_time": "2022-05-21T03:05:33.377Z"
   },
   {
    "duration": 20,
    "start_time": "2022-05-21T03:05:54.217Z"
   },
   {
    "duration": 12,
    "start_time": "2022-05-21T03:06:03.446Z"
   },
   {
    "duration": 2659,
    "start_time": "2022-05-21T03:06:13.887Z"
   },
   {
    "duration": 7,
    "start_time": "2022-05-21T03:07:33.342Z"
   },
   {
    "duration": 4794,
    "start_time": "2022-05-21T03:10:17.142Z"
   },
   {
    "duration": 39,
    "start_time": "2022-05-21T03:10:50.914Z"
   },
   {
    "duration": 1512,
    "start_time": "2022-05-21T03:11:50.461Z"
   },
   {
    "duration": 3772,
    "start_time": "2022-05-21T03:12:24.686Z"
   },
   {
    "duration": 16,
    "start_time": "2022-05-21T03:13:20.363Z"
   },
   {
    "duration": 3474,
    "start_time": "2022-05-21T03:13:41.774Z"
   },
   {
    "duration": 42,
    "start_time": "2022-05-21T03:13:57.098Z"
   },
   {
    "duration": 16,
    "start_time": "2022-05-21T03:17:50.549Z"
   },
   {
    "duration": 3657,
    "start_time": "2022-05-21T03:18:41.291Z"
   },
   {
    "duration": 126,
    "start_time": "2022-05-21T03:18:59.614Z"
   },
   {
    "duration": 2819,
    "start_time": "2022-05-21T03:19:25.126Z"
   },
   {
    "duration": 4354,
    "start_time": "2022-05-21T03:19:53.088Z"
   },
   {
    "duration": 40,
    "start_time": "2022-05-21T03:20:10.396Z"
   },
   {
    "duration": 5110,
    "start_time": "2022-05-21T03:20:43.723Z"
   },
   {
    "duration": 8,
    "start_time": "2022-05-21T03:21:05.152Z"
   },
   {
    "duration": 0,
    "start_time": "2022-05-21T03:21:19.290Z"
   },
   {
    "duration": 5790,
    "start_time": "2022-05-21T03:21:52.560Z"
   },
   {
    "duration": 10,
    "start_time": "2022-05-21T03:22:13.234Z"
   },
   {
    "duration": 7,
    "start_time": "2022-05-21T03:23:59.742Z"
   },
   {
    "duration": 485018,
    "start_time": "2022-05-21T03:26:01.554Z"
   },
   {
    "duration": 14,
    "start_time": "2022-05-21T03:34:32.870Z"
   },
   {
    "duration": 4,
    "start_time": "2022-05-21T03:37:06.394Z"
   },
   {
    "duration": 102550,
    "start_time": "2022-05-21T03:37:06.928Z"
   },
   {
    "duration": 10,
    "start_time": "2022-05-21T03:39:33.472Z"
   },
   {
    "duration": 4,
    "start_time": "2022-05-21T03:41:51.879Z"
   },
   {
    "duration": 219881,
    "start_time": "2022-05-21T03:41:52.360Z"
   },
   {
    "duration": 27,
    "start_time": "2022-05-21T03:46:04.851Z"
   },
   {
    "duration": 18,
    "start_time": "2022-05-21T03:46:17.056Z"
   },
   {
    "duration": 33,
    "start_time": "2022-05-21T03:46:40.202Z"
   },
   {
    "duration": 12,
    "start_time": "2022-05-21T03:46:44.872Z"
   },
   {
    "duration": 24,
    "start_time": "2022-05-21T03:47:46.157Z"
   },
   {
    "duration": 24,
    "start_time": "2022-05-21T03:48:34.415Z"
   },
   {
    "duration": 3,
    "start_time": "2022-05-21T03:48:35.353Z"
   },
   {
    "duration": 1341,
    "start_time": "2022-05-21T03:48:37.004Z"
   },
   {
    "duration": 3,
    "start_time": "2022-05-21T03:48:41.868Z"
   },
   {
    "duration": 73258,
    "start_time": "2022-05-21T03:48:42.493Z"
   },
   {
    "duration": 22,
    "start_time": "2022-05-21T03:51:22.408Z"
   },
   {
    "duration": 11790,
    "start_time": "2022-05-21T03:51:42.251Z"
   },
   {
    "duration": 5,
    "start_time": "2022-05-21T03:53:44.552Z"
   },
   {
    "duration": 129467,
    "start_time": "2022-05-21T03:53:44.967Z"
   },
   {
    "duration": 4,
    "start_time": "2022-05-21T03:55:54.790Z"
   },
   {
    "duration": 8,
    "start_time": "2022-05-21T04:01:51.391Z"
   },
   {
    "duration": 21,
    "start_time": "2022-05-21T04:01:59.947Z"
   },
   {
    "duration": 7,
    "start_time": "2022-05-21T04:04:10.445Z"
   },
   {
    "duration": 34,
    "start_time": "2022-05-21T04:04:12.500Z"
   },
   {
    "duration": 20,
    "start_time": "2022-05-21T04:05:51.874Z"
   },
   {
    "duration": 72,
    "start_time": "2022-05-21T04:06:03.144Z"
   },
   {
    "duration": 8,
    "start_time": "2022-05-21T04:06:08.007Z"
   },
   {
    "duration": 15,
    "start_time": "2022-05-21T04:06:10.273Z"
   },
   {
    "duration": 15,
    "start_time": "2022-05-21T04:07:02.052Z"
   },
   {
    "duration": 155,
    "start_time": "2022-05-21T04:07:08.643Z"
   },
   {
    "duration": 8,
    "start_time": "2022-05-21T04:09:14.084Z"
   },
   {
    "duration": 18,
    "start_time": "2022-05-21T04:09:16.153Z"
   },
   {
    "duration": 25,
    "start_time": "2022-05-21T04:09:54.045Z"
   },
   {
    "duration": 17,
    "start_time": "2022-05-21T04:10:06.129Z"
   },
   {
    "duration": 11,
    "start_time": "2022-05-21T04:10:10.848Z"
   },
   {
    "duration": 1532,
    "start_time": "2022-05-21T04:10:20.505Z"
   },
   {
    "duration": 278569,
    "start_time": "2022-05-21T04:10:27.480Z"
   },
   {
    "duration": 10,
    "start_time": "2022-05-21T04:15:23.098Z"
   },
   {
    "duration": 22,
    "start_time": "2022-05-21T04:15:25.534Z"
   },
   {
    "duration": 8,
    "start_time": "2022-05-21T04:15:26.627Z"
   },
   {
    "duration": 18,
    "start_time": "2022-05-21T04:15:26.955Z"
   },
   {
    "duration": 5,
    "start_time": "2022-05-21T04:19:13.461Z"
   },
   {
    "duration": 6499,
    "start_time": "2022-05-21T04:19:14.454Z"
   },
   {
    "duration": 7,
    "start_time": "2022-05-21T04:22:34.146Z"
   },
   {
    "duration": 4,
    "start_time": "2022-05-21T04:22:34.749Z"
   },
   {
    "duration": 13,
    "start_time": "2022-05-21T04:22:35.265Z"
   },
   {
    "duration": 1701,
    "start_time": "2022-05-21T04:22:37.945Z"
   },
   {
    "duration": 9,
    "start_time": "2022-05-21T04:22:51.142Z"
   },
   {
    "duration": 4,
    "start_time": "2022-05-21T04:22:51.645Z"
   },
   {
    "duration": 27,
    "start_time": "2022-05-21T04:22:52.001Z"
   },
   {
    "duration": 1635,
    "start_time": "2022-05-21T04:22:54.812Z"
   },
   {
    "duration": 19,
    "start_time": "2022-05-21T04:23:51.316Z"
   },
   {
    "duration": 1836,
    "start_time": "2022-05-21T04:23:52.295Z"
   },
   {
    "duration": 5520,
    "start_time": "2022-05-21T04:24:40.235Z"
   },
   {
    "duration": 30,
    "start_time": "2022-05-21T04:25:14.324Z"
   },
   {
    "duration": 5414,
    "start_time": "2022-05-21T04:27:29.439Z"
   },
   {
    "duration": 5104,
    "start_time": "2022-05-21T04:27:59.047Z"
   },
   {
    "duration": 2882,
    "start_time": "2022-05-21T04:28:04.154Z"
   },
   {
    "duration": 1692,
    "start_time": "2022-05-21T04:28:07.037Z"
   },
   {
    "duration": 232,
    "start_time": "2022-05-21T04:28:08.730Z"
   },
   {
    "duration": 80,
    "start_time": "2022-05-21T04:28:08.965Z"
   },
   {
    "duration": 20,
    "start_time": "2022-05-21T04:28:09.047Z"
   },
   {
    "duration": 63,
    "start_time": "2022-05-21T04:28:09.069Z"
   },
   {
    "duration": 43,
    "start_time": "2022-05-21T04:28:09.133Z"
   },
   {
    "duration": 29,
    "start_time": "2022-05-21T04:28:09.178Z"
   },
   {
    "duration": 114,
    "start_time": "2022-05-21T04:28:09.233Z"
   },
   {
    "duration": 85,
    "start_time": "2022-05-21T04:28:09.350Z"
   },
   {
    "duration": 333,
    "start_time": "2022-05-21T04:28:09.443Z"
   },
   {
    "duration": 0,
    "start_time": "2022-05-21T04:28:09.779Z"
   },
   {
    "duration": 0,
    "start_time": "2022-05-21T04:28:09.832Z"
   },
   {
    "duration": 0,
    "start_time": "2022-05-21T04:28:09.833Z"
   },
   {
    "duration": 0,
    "start_time": "2022-05-21T04:28:09.833Z"
   },
   {
    "duration": 0,
    "start_time": "2022-05-21T04:28:09.834Z"
   },
   {
    "duration": 0,
    "start_time": "2022-05-21T04:28:09.837Z"
   },
   {
    "duration": 0,
    "start_time": "2022-05-21T04:28:09.838Z"
   },
   {
    "duration": 0,
    "start_time": "2022-05-21T04:28:09.839Z"
   },
   {
    "duration": 0,
    "start_time": "2022-05-21T04:28:09.839Z"
   },
   {
    "duration": 0,
    "start_time": "2022-05-21T04:28:09.840Z"
   },
   {
    "duration": 0,
    "start_time": "2022-05-21T04:28:09.845Z"
   },
   {
    "duration": 0,
    "start_time": "2022-05-21T04:28:09.846Z"
   },
   {
    "duration": 0,
    "start_time": "2022-05-21T04:28:09.848Z"
   },
   {
    "duration": 0,
    "start_time": "2022-05-21T04:28:09.849Z"
   },
   {
    "duration": 1,
    "start_time": "2022-05-21T04:28:09.850Z"
   },
   {
    "duration": 0,
    "start_time": "2022-05-21T04:28:09.852Z"
   },
   {
    "duration": 0,
    "start_time": "2022-05-21T04:28:09.853Z"
   },
   {
    "duration": 0,
    "start_time": "2022-05-21T04:28:09.854Z"
   },
   {
    "duration": 0,
    "start_time": "2022-05-21T04:28:09.856Z"
   },
   {
    "duration": 0,
    "start_time": "2022-05-21T04:28:09.857Z"
   },
   {
    "duration": 0,
    "start_time": "2022-05-21T04:28:09.858Z"
   },
   {
    "duration": 0,
    "start_time": "2022-05-21T04:28:09.861Z"
   },
   {
    "duration": 0,
    "start_time": "2022-05-21T04:28:09.931Z"
   },
   {
    "duration": 0,
    "start_time": "2022-05-21T04:28:09.932Z"
   },
   {
    "duration": 25,
    "start_time": "2022-05-21T04:28:55.229Z"
   },
   {
    "duration": 37,
    "start_time": "2022-05-21T04:29:37.493Z"
   },
   {
    "duration": 18,
    "start_time": "2022-05-21T04:31:05.683Z"
   },
   {
    "duration": 18,
    "start_time": "2022-05-21T04:33:17.645Z"
   },
   {
    "duration": 22,
    "start_time": "2022-05-21T04:33:37.628Z"
   },
   {
    "duration": 16,
    "start_time": "2022-05-21T04:33:46.875Z"
   },
   {
    "duration": 34,
    "start_time": "2022-05-21T04:34:11.226Z"
   },
   {
    "duration": 5809,
    "start_time": "2022-05-21T04:35:31.938Z"
   },
   {
    "duration": 3083,
    "start_time": "2022-05-21T04:35:37.749Z"
   },
   {
    "duration": 1636,
    "start_time": "2022-05-21T04:35:40.834Z"
   },
   {
    "duration": 283,
    "start_time": "2022-05-21T04:35:42.472Z"
   },
   {
    "duration": 9,
    "start_time": "2022-05-21T04:35:42.756Z"
   },
   {
    "duration": 78,
    "start_time": "2022-05-21T04:35:42.767Z"
   },
   {
    "duration": 24,
    "start_time": "2022-05-21T04:35:42.849Z"
   },
   {
    "duration": 57,
    "start_time": "2022-05-21T04:35:42.875Z"
   },
   {
    "duration": 43,
    "start_time": "2022-05-21T04:35:42.941Z"
   },
   {
    "duration": 79,
    "start_time": "2022-05-21T04:35:42.988Z"
   },
   {
    "duration": 74,
    "start_time": "2022-05-21T04:35:43.069Z"
   },
   {
    "duration": 98,
    "start_time": "2022-05-21T04:35:43.146Z"
   },
   {
    "duration": 3602,
    "start_time": "2022-05-21T04:35:43.246Z"
   },
   {
    "duration": 522,
    "start_time": "2022-05-21T04:35:46.851Z"
   },
   {
    "duration": 1111,
    "start_time": "2022-05-21T04:35:47.431Z"
   },
   {
    "duration": 25,
    "start_time": "2022-05-21T04:35:48.545Z"
   },
   {
    "duration": 33,
    "start_time": "2022-05-21T04:35:48.628Z"
   },
   {
    "duration": 85,
    "start_time": "2022-05-21T04:35:48.663Z"
   },
   {
    "duration": 17,
    "start_time": "2022-05-21T04:35:48.750Z"
   },
   {
    "duration": 91,
    "start_time": "2022-05-21T04:35:48.770Z"
   },
   {
    "duration": 27,
    "start_time": "2022-05-21T04:35:48.863Z"
   },
   {
    "duration": 1061,
    "start_time": "2022-05-21T04:35:48.892Z"
   },
   {
    "duration": 16,
    "start_time": "2022-05-21T04:35:50.041Z"
   },
   {
    "duration": 342414,
    "start_time": "2022-05-21T04:35:50.135Z"
   },
   {
    "duration": 5,
    "start_time": "2022-05-21T04:41:32.551Z"
   },
   {
    "duration": 1608953,
    "start_time": "2022-05-21T04:41:32.558Z"
   },
   {
    "duration": 29,
    "start_time": "2022-05-21T05:08:21.512Z"
   },
   {
    "duration": 5,
    "start_time": "2022-05-21T05:08:21.544Z"
   },
   {
    "duration": 1882,
    "start_time": "2022-05-21T05:08:21.551Z"
   },
   {
    "duration": 398152,
    "start_time": "2022-05-21T05:08:23.439Z"
   },
   {
    "duration": 0,
    "start_time": "2022-05-21T05:48:58.704Z"
   },
   {
    "duration": 0,
    "start_time": "2022-05-21T05:48:58.706Z"
   },
   {
    "duration": 0,
    "start_time": "2022-05-21T05:48:58.708Z"
   },
   {
    "duration": 0,
    "start_time": "2022-05-21T05:48:58.709Z"
   },
   {
    "duration": 0,
    "start_time": "2022-05-21T05:48:58.711Z"
   },
   {
    "duration": 0,
    "start_time": "2022-05-21T05:48:58.712Z"
   },
   {
    "duration": 0,
    "start_time": "2022-05-21T05:48:58.714Z"
   },
   {
    "duration": 389266,
    "start_time": "2022-05-21T05:56:06.284Z"
   },
   {
    "duration": 2066243,
    "start_time": "2022-05-21T06:02:35.552Z"
   },
   {
    "duration": 6,
    "start_time": "2022-05-21T06:37:01.797Z"
   },
   {
    "duration": 69,
    "start_time": "2022-05-21T06:37:01.805Z"
   },
   {
    "duration": 66,
    "start_time": "2022-05-21T06:37:01.876Z"
   },
   {
    "duration": 0,
    "start_time": "2022-05-21T06:37:01.944Z"
   },
   {
    "duration": 0,
    "start_time": "2022-05-21T06:37:01.945Z"
   },
   {
    "duration": 0,
    "start_time": "2022-05-21T06:37:01.946Z"
   },
   {
    "duration": 137380,
    "start_time": "2022-05-21T06:42:14.126Z"
   },
   {
    "duration": 18,
    "start_time": "2022-05-21T06:44:31.509Z"
   },
   {
    "duration": 41,
    "start_time": "2022-05-21T06:45:11.640Z"
   },
   {
    "duration": 5,
    "start_time": "2022-05-21T06:45:43.691Z"
   },
   {
    "duration": 16,
    "start_time": "2022-05-21T06:46:51.588Z"
   },
   {
    "duration": 5,
    "start_time": "2022-05-21T06:46:55.554Z"
   },
   {
    "duration": 50,
    "start_time": "2022-05-21T06:47:07.321Z"
   },
   {
    "duration": 18,
    "start_time": "2022-05-21T06:47:20.853Z"
   },
   {
    "duration": 11,
    "start_time": "2022-05-21T06:47:26.591Z"
   },
   {
    "duration": 28,
    "start_time": "2022-05-21T06:47:27.090Z"
   },
   {
    "duration": 1613,
    "start_time": "2022-05-21T06:47:36.053Z"
   },
   {
    "duration": 5,
    "start_time": "2022-05-21T06:48:50.257Z"
   },
   {
    "duration": 4,
    "start_time": "2022-05-21T06:49:06.180Z"
   },
   {
    "duration": 2275,
    "start_time": "2022-05-21T06:50:08.578Z"
   },
   {
    "duration": 1338,
    "start_time": "2022-05-21T06:50:10.857Z"
   },
   {
    "duration": 824,
    "start_time": "2022-05-21T06:50:12.197Z"
   },
   {
    "duration": 117,
    "start_time": "2022-05-21T06:50:13.024Z"
   },
   {
    "duration": 16,
    "start_time": "2022-05-21T06:50:13.142Z"
   },
   {
    "duration": 51,
    "start_time": "2022-05-21T06:50:13.159Z"
   },
   {
    "duration": 10,
    "start_time": "2022-05-21T06:50:13.212Z"
   },
   {
    "duration": 59,
    "start_time": "2022-05-21T06:50:13.223Z"
   },
   {
    "duration": 71,
    "start_time": "2022-05-21T06:50:13.284Z"
   },
   {
    "duration": 41,
    "start_time": "2022-05-21T06:50:13.362Z"
   },
   {
    "duration": 28,
    "start_time": "2022-05-21T06:50:13.405Z"
   },
   {
    "duration": 2611,
    "start_time": "2022-05-21T06:50:13.438Z"
   },
   {
    "duration": 357,
    "start_time": "2022-05-21T06:50:16.051Z"
   },
   {
    "duration": 480,
    "start_time": "2022-05-21T06:50:16.410Z"
   },
   {
    "duration": 20,
    "start_time": "2022-05-21T06:50:16.893Z"
   },
   {
    "duration": 34,
    "start_time": "2022-05-21T06:50:16.914Z"
   },
   {
    "duration": 26,
    "start_time": "2022-05-21T06:50:16.954Z"
   },
   {
    "duration": 3,
    "start_time": "2022-05-21T06:50:16.982Z"
   },
   {
    "duration": 12,
    "start_time": "2022-05-21T06:50:16.986Z"
   },
   {
    "duration": 20,
    "start_time": "2022-05-21T06:50:16.999Z"
   },
   {
    "duration": 11,
    "start_time": "2022-05-21T06:50:17.022Z"
   },
   {
    "duration": 1604,
    "start_time": "2022-05-21T06:50:17.034Z"
   },
   {
    "duration": 10,
    "start_time": "2022-05-21T06:50:18.642Z"
   },
   {
    "duration": 276628,
    "start_time": "2022-05-21T06:50:18.659Z"
   },
   {
    "duration": 3,
    "start_time": "2022-05-21T06:54:55.288Z"
   },
   {
    "duration": 1464466,
    "start_time": "2022-05-21T06:54:55.293Z"
   },
   {
    "duration": 8,
    "start_time": "2022-05-21T07:19:19.765Z"
   },
   {
    "duration": 9,
    "start_time": "2022-05-21T07:19:19.777Z"
   },
   {
    "duration": 352,
    "start_time": "2022-05-21T07:19:19.788Z"
   },
   {
    "duration": 35679,
    "start_time": "2022-05-21T07:19:20.142Z"
   },
   {
    "duration": 5675,
    "start_time": "2022-05-21T07:19:55.823Z"
   },
   {
    "duration": 7,
    "start_time": "2022-05-21T07:20:01.502Z"
   },
   {
    "duration": 36,
    "start_time": "2022-05-21T07:20:01.511Z"
   },
   {
    "duration": 0,
    "start_time": "2022-05-21T07:20:01.548Z"
   },
   {
    "duration": 0,
    "start_time": "2022-05-21T07:20:01.550Z"
   },
   {
    "duration": 0,
    "start_time": "2022-05-21T07:20:01.551Z"
   },
   {
    "duration": 40,
    "start_time": "2022-05-21T07:24:42.012Z"
   },
   {
    "duration": 9,
    "start_time": "2022-05-21T07:25:15.083Z"
   },
   {
    "duration": 37,
    "start_time": "2022-05-21T07:25:16.478Z"
   },
   {
    "duration": 3603,
    "start_time": "2022-05-21T07:25:23.270Z"
   },
   {
    "duration": 695637,
    "start_time": "2022-05-21T07:25:37.858Z"
   },
   {
    "duration": 3582409,
    "start_time": "2022-05-21T07:37:13.497Z"
   },
   {
    "duration": 7,
    "start_time": "2022-05-21T08:36:55.908Z"
   },
   {
    "duration": 9,
    "start_time": "2022-05-21T08:36:55.916Z"
   },
   {
    "duration": 49,
    "start_time": "2022-05-21T08:36:55.933Z"
   },
   {
    "duration": 0,
    "start_time": "2022-05-21T08:36:55.983Z"
   },
   {
    "duration": 0,
    "start_time": "2022-05-21T08:36:55.984Z"
   },
   {
    "duration": 38,
    "start_time": "2022-05-21T08:42:35.315Z"
   },
   {
    "duration": 5,
    "start_time": "2022-05-21T08:43:17.694Z"
   },
   {
    "duration": 4,
    "start_time": "2022-05-21T08:43:43.069Z"
   },
   {
    "duration": 17,
    "start_time": "2022-05-21T08:43:45.456Z"
   },
   {
    "duration": 2,
    "start_time": "2022-05-21T08:43:53.063Z"
   },
   {
    "duration": 16,
    "start_time": "2022-05-21T08:44:22.090Z"
   },
   {
    "duration": 5,
    "start_time": "2022-05-21T08:44:23.087Z"
   },
   {
    "duration": 25,
    "start_time": "2022-05-21T08:44:28.277Z"
   },
   {
    "duration": 12,
    "start_time": "2022-05-21T08:44:52.175Z"
   },
   {
    "duration": 37,
    "start_time": "2022-05-21T08:45:06.058Z"
   },
   {
    "duration": 54,
    "start_time": "2022-05-21T08:45:42.563Z"
   },
   {
    "duration": 12,
    "start_time": "2022-05-21T08:46:04.720Z"
   },
   {
    "duration": 1572,
    "start_time": "2022-05-21T08:46:11.261Z"
   },
   {
    "duration": 3591,
    "start_time": "2022-05-21T08:46:23.357Z"
   },
   {
    "duration": 4255,
    "start_time": "2022-05-21T08:46:56.270Z"
   },
   {
    "duration": 3978,
    "start_time": "2022-05-21T08:47:00.527Z"
   },
   {
    "duration": 878,
    "start_time": "2022-05-21T08:47:04.507Z"
   },
   {
    "duration": 120,
    "start_time": "2022-05-21T08:47:05.388Z"
   },
   {
    "duration": 22,
    "start_time": "2022-05-21T08:47:05.510Z"
   },
   {
    "duration": 128,
    "start_time": "2022-05-21T08:47:05.534Z"
   },
   {
    "duration": 9,
    "start_time": "2022-05-21T08:47:05.667Z"
   },
   {
    "duration": 8,
    "start_time": "2022-05-21T08:47:05.677Z"
   },
   {
    "duration": 66,
    "start_time": "2022-05-21T08:47:05.687Z"
   },
   {
    "duration": 32,
    "start_time": "2022-05-21T08:47:05.756Z"
   },
   {
    "duration": 29,
    "start_time": "2022-05-21T08:47:05.790Z"
   },
   {
    "duration": 1758,
    "start_time": "2022-05-21T08:47:05.830Z"
   },
   {
    "duration": 268,
    "start_time": "2022-05-21T08:47:07.590Z"
   },
   {
    "duration": 466,
    "start_time": "2022-05-21T08:47:07.869Z"
   },
   {
    "duration": 32,
    "start_time": "2022-05-21T08:47:08.336Z"
   },
   {
    "duration": 23,
    "start_time": "2022-05-21T08:47:08.370Z"
   },
   {
    "duration": 11,
    "start_time": "2022-05-21T08:47:08.395Z"
   },
   {
    "duration": 24,
    "start_time": "2022-05-21T08:47:08.408Z"
   },
   {
    "duration": 32,
    "start_time": "2022-05-21T08:47:08.436Z"
   },
   {
    "duration": 28,
    "start_time": "2022-05-21T08:47:08.470Z"
   },
   {
    "duration": 8,
    "start_time": "2022-05-21T08:47:08.500Z"
   },
   {
    "duration": 1261,
    "start_time": "2022-05-21T08:47:08.510Z"
   },
   {
    "duration": 32,
    "start_time": "2022-05-21T08:47:09.841Z"
   },
   {
    "duration": 358523,
    "start_time": "2022-05-21T08:47:09.936Z"
   },
   {
    "duration": 8,
    "start_time": "2022-05-21T08:53:08.461Z"
   },
   {
    "duration": 2533,
    "start_time": "2022-05-21T08:53:16.712Z"
   },
   {
    "duration": 2183,
    "start_time": "2022-05-21T08:53:19.264Z"
   },
   {
    "duration": 1447,
    "start_time": "2022-05-21T08:53:21.449Z"
   },
   {
    "duration": 145,
    "start_time": "2022-05-21T08:53:22.898Z"
   },
   {
    "duration": 17,
    "start_time": "2022-05-21T08:53:23.050Z"
   },
   {
    "duration": 46,
    "start_time": "2022-05-21T08:53:23.069Z"
   },
   {
    "duration": 6,
    "start_time": "2022-05-21T08:53:23.117Z"
   },
   {
    "duration": 47,
    "start_time": "2022-05-21T08:53:23.125Z"
   },
   {
    "duration": 90,
    "start_time": "2022-05-21T08:53:23.174Z"
   },
   {
    "duration": 71,
    "start_time": "2022-05-21T08:53:23.266Z"
   },
   {
    "duration": 27,
    "start_time": "2022-05-21T08:53:23.346Z"
   },
   {
    "duration": 1738,
    "start_time": "2022-05-21T08:53:23.375Z"
   },
   {
    "duration": 285,
    "start_time": "2022-05-21T08:53:25.115Z"
   },
   {
    "duration": 507,
    "start_time": "2022-05-21T08:53:25.404Z"
   },
   {
    "duration": 29,
    "start_time": "2022-05-21T08:53:25.913Z"
   },
   {
    "duration": 80,
    "start_time": "2022-05-21T08:53:25.944Z"
   },
   {
    "duration": 33,
    "start_time": "2022-05-21T08:53:26.026Z"
   },
   {
    "duration": 33,
    "start_time": "2022-05-21T08:53:26.062Z"
   },
   {
    "duration": 38,
    "start_time": "2022-05-21T08:53:26.097Z"
   },
   {
    "duration": 334,
    "start_time": "2022-05-21T08:53:26.144Z"
   },
   {
    "duration": 0,
    "start_time": "2022-05-21T08:53:26.480Z"
   },
   {
    "duration": 0,
    "start_time": "2022-05-21T08:53:26.482Z"
   },
   {
    "duration": 0,
    "start_time": "2022-05-21T08:53:26.483Z"
   },
   {
    "duration": 0,
    "start_time": "2022-05-21T08:53:26.485Z"
   },
   {
    "duration": 0,
    "start_time": "2022-05-21T08:53:26.486Z"
   },
   {
    "duration": 0,
    "start_time": "2022-05-21T08:53:26.487Z"
   },
   {
    "duration": 0,
    "start_time": "2022-05-21T08:53:26.490Z"
   },
   {
    "duration": 0,
    "start_time": "2022-05-21T08:53:26.492Z"
   },
   {
    "duration": 0,
    "start_time": "2022-05-21T08:53:26.493Z"
   },
   {
    "duration": 0,
    "start_time": "2022-05-21T08:53:26.494Z"
   },
   {
    "duration": 0,
    "start_time": "2022-05-21T08:53:26.496Z"
   },
   {
    "duration": 0,
    "start_time": "2022-05-21T08:53:26.497Z"
   },
   {
    "duration": 0,
    "start_time": "2022-05-21T08:53:26.499Z"
   },
   {
    "duration": 0,
    "start_time": "2022-05-21T08:53:26.500Z"
   },
   {
    "duration": 0,
    "start_time": "2022-05-21T08:53:26.501Z"
   },
   {
    "duration": 0,
    "start_time": "2022-05-21T08:53:26.502Z"
   },
   {
    "duration": 16,
    "start_time": "2022-05-21T08:54:03.615Z"
   },
   {
    "duration": 4,
    "start_time": "2022-05-21T08:54:05.292Z"
   },
   {
    "duration": 1743,
    "start_time": "2022-05-21T08:54:06.594Z"
   },
   {
    "duration": 873,
    "start_time": "2022-05-21T08:54:49.383Z"
   },
   {
    "duration": 2656,
    "start_time": "2022-05-21T08:56:33.591Z"
   },
   {
    "duration": 1587,
    "start_time": "2022-05-21T08:56:36.250Z"
   },
   {
    "duration": 1111,
    "start_time": "2022-05-21T08:56:37.848Z"
   },
   {
    "duration": 117,
    "start_time": "2022-05-21T08:56:38.965Z"
   },
   {
    "duration": 8,
    "start_time": "2022-05-21T08:56:39.084Z"
   },
   {
    "duration": 30,
    "start_time": "2022-05-21T08:56:39.094Z"
   },
   {
    "duration": 14,
    "start_time": "2022-05-21T08:56:39.146Z"
   },
   {
    "duration": 17,
    "start_time": "2022-05-21T08:56:39.163Z"
   },
   {
    "duration": 58,
    "start_time": "2022-05-21T08:56:39.183Z"
   },
   {
    "duration": 27,
    "start_time": "2022-05-21T08:56:39.259Z"
   },
   {
    "duration": 17,
    "start_time": "2022-05-21T08:56:39.289Z"
   },
   {
    "duration": 1659,
    "start_time": "2022-05-21T08:56:39.307Z"
   },
   {
    "duration": 257,
    "start_time": "2022-05-21T08:56:40.973Z"
   },
   {
    "duration": 487,
    "start_time": "2022-05-21T08:56:41.231Z"
   },
   {
    "duration": 50,
    "start_time": "2022-05-21T08:56:41.720Z"
   },
   {
    "duration": 47,
    "start_time": "2022-05-21T08:56:41.776Z"
   },
   {
    "duration": 17,
    "start_time": "2022-05-21T08:56:41.824Z"
   },
   {
    "duration": 42,
    "start_time": "2022-05-21T08:56:41.843Z"
   },
   {
    "duration": 12,
    "start_time": "2022-05-21T08:56:41.887Z"
   },
   {
    "duration": 44,
    "start_time": "2022-05-21T08:56:41.901Z"
   },
   {
    "duration": 34,
    "start_time": "2022-05-21T08:56:41.946Z"
   },
   {
    "duration": 982,
    "start_time": "2022-05-21T08:56:41.981Z"
   },
   {
    "duration": 7,
    "start_time": "2022-05-21T08:56:42.966Z"
   },
   {
    "duration": 367117,
    "start_time": "2022-05-21T08:56:42.976Z"
   },
   {
    "duration": 4,
    "start_time": "2022-05-21T09:02:50.094Z"
   },
   {
    "duration": 4592,
    "start_time": "2022-05-21T09:31:05.822Z"
   },
   {
    "duration": 1545,
    "start_time": "2022-05-21T09:31:10.417Z"
   },
   {
    "duration": 1998,
    "start_time": "2022-05-21T09:31:11.964Z"
   },
   {
    "duration": 118,
    "start_time": "2022-05-21T09:31:13.965Z"
   },
   {
    "duration": 10,
    "start_time": "2022-05-21T09:31:14.086Z"
   },
   {
    "duration": 46,
    "start_time": "2022-05-21T09:31:14.098Z"
   },
   {
    "duration": 7,
    "start_time": "2022-05-21T09:31:14.149Z"
   },
   {
    "duration": 10,
    "start_time": "2022-05-21T09:31:14.157Z"
   },
   {
    "duration": 45,
    "start_time": "2022-05-21T09:31:14.169Z"
   },
   {
    "duration": 31,
    "start_time": "2022-05-21T09:31:14.216Z"
   },
   {
    "duration": 36,
    "start_time": "2022-05-21T09:31:14.249Z"
   },
   {
    "duration": 1569,
    "start_time": "2022-05-21T09:31:14.286Z"
   },
   {
    "duration": 241,
    "start_time": "2022-05-21T09:31:15.858Z"
   },
   {
    "duration": 580,
    "start_time": "2022-05-21T09:31:16.102Z"
   },
   {
    "duration": 25,
    "start_time": "2022-05-21T09:31:16.684Z"
   },
   {
    "duration": 33,
    "start_time": "2022-05-21T09:31:16.711Z"
   },
   {
    "duration": 36,
    "start_time": "2022-05-21T09:31:16.746Z"
   },
   {
    "duration": 9,
    "start_time": "2022-05-21T09:31:16.784Z"
   },
   {
    "duration": 11,
    "start_time": "2022-05-21T09:31:16.795Z"
   },
   {
    "duration": 29,
    "start_time": "2022-05-21T09:31:16.808Z"
   },
   {
    "duration": 23,
    "start_time": "2022-05-21T09:31:16.844Z"
   },
   {
    "duration": 1067,
    "start_time": "2022-05-21T09:31:16.869Z"
   },
   {
    "duration": 7,
    "start_time": "2022-05-21T09:31:17.944Z"
   },
   {
    "duration": 18891,
    "start_time": "2022-05-21T09:31:17.958Z"
   },
   {
    "duration": 5,
    "start_time": "2022-05-21T09:31:36.858Z"
   },
   {
    "duration": 9128,
    "start_time": "2022-05-21T09:31:36.864Z"
   },
   {
    "duration": 4,
    "start_time": "2022-05-21T09:31:45.994Z"
   },
   {
    "duration": 0,
    "start_time": "2022-05-21T09:31:46.000Z"
   },
   {
    "duration": 0,
    "start_time": "2022-05-21T09:31:46.001Z"
   },
   {
    "duration": 0,
    "start_time": "2022-05-21T09:31:46.003Z"
   },
   {
    "duration": 0,
    "start_time": "2022-05-21T09:31:46.004Z"
   },
   {
    "duration": 0,
    "start_time": "2022-05-21T09:31:46.005Z"
   },
   {
    "duration": 0,
    "start_time": "2022-05-21T09:31:46.007Z"
   },
   {
    "duration": 0,
    "start_time": "2022-05-21T09:31:46.027Z"
   },
   {
    "duration": 0,
    "start_time": "2022-05-21T09:31:46.028Z"
   },
   {
    "duration": 0,
    "start_time": "2022-05-21T09:31:46.029Z"
   },
   {
    "duration": 7,
    "start_time": "2022-05-21T09:32:00.198Z"
   },
   {
    "duration": 61,
    "start_time": "2022-05-21T09:32:00.207Z"
   },
   {
    "duration": 5559,
    "start_time": "2022-05-21T09:32:00.270Z"
   },
   {
    "duration": 41854,
    "start_time": "2022-05-21T09:32:05.831Z"
   },
   {
    "duration": 20779,
    "start_time": "2022-05-21T09:32:47.687Z"
   },
   {
    "duration": 6,
    "start_time": "2022-05-21T09:33:08.468Z"
   },
   {
    "duration": 27,
    "start_time": "2022-05-21T09:33:08.476Z"
   },
   {
    "duration": 54,
    "start_time": "2022-05-21T09:33:08.504Z"
   },
   {
    "duration": 0,
    "start_time": "2022-05-21T09:33:08.560Z"
   },
   {
    "duration": 0,
    "start_time": "2022-05-21T09:33:08.561Z"
   },
   {
    "duration": 16,
    "start_time": "2022-05-21T09:33:40.221Z"
   },
   {
    "duration": 10,
    "start_time": "2022-05-21T09:33:41.190Z"
   },
   {
    "duration": 4,
    "start_time": "2022-05-21T09:33:42.260Z"
   },
   {
    "duration": 2377,
    "start_time": "2022-05-21T09:36:00.312Z"
   },
   {
    "duration": 1372,
    "start_time": "2022-05-21T09:36:02.691Z"
   },
   {
    "duration": 759,
    "start_time": "2022-05-21T09:36:04.065Z"
   },
   {
    "duration": 132,
    "start_time": "2022-05-21T09:36:04.826Z"
   },
   {
    "duration": 8,
    "start_time": "2022-05-21T09:36:04.960Z"
   },
   {
    "duration": 26,
    "start_time": "2022-05-21T09:36:04.970Z"
   },
   {
    "duration": 5,
    "start_time": "2022-05-21T09:36:04.998Z"
   },
   {
    "duration": 10,
    "start_time": "2022-05-21T09:36:05.005Z"
   },
   {
    "duration": 51,
    "start_time": "2022-05-21T09:36:05.017Z"
   },
   {
    "duration": 20,
    "start_time": "2022-05-21T09:36:05.072Z"
   },
   {
    "duration": 51,
    "start_time": "2022-05-21T09:36:05.094Z"
   },
   {
    "duration": 1654,
    "start_time": "2022-05-21T09:36:05.146Z"
   },
   {
    "duration": 265,
    "start_time": "2022-05-21T09:36:06.802Z"
   },
   {
    "duration": 467,
    "start_time": "2022-05-21T09:36:07.069Z"
   },
   {
    "duration": 28,
    "start_time": "2022-05-21T09:36:07.543Z"
   },
   {
    "duration": 16,
    "start_time": "2022-05-21T09:36:07.573Z"
   },
   {
    "duration": 10,
    "start_time": "2022-05-21T09:36:07.591Z"
   },
   {
    "duration": 5,
    "start_time": "2022-05-21T09:36:07.603Z"
   },
   {
    "duration": 34,
    "start_time": "2022-05-21T09:36:07.610Z"
   },
   {
    "duration": 25,
    "start_time": "2022-05-21T09:36:07.647Z"
   },
   {
    "duration": 10,
    "start_time": "2022-05-21T09:36:07.674Z"
   },
   {
    "duration": 1049,
    "start_time": "2022-05-21T09:36:07.686Z"
   },
   {
    "duration": 6,
    "start_time": "2022-05-21T09:36:08.740Z"
   },
   {
    "duration": 179822,
    "start_time": "2022-05-21T09:36:08.751Z"
   },
   {
    "duration": 3,
    "start_time": "2022-05-21T09:39:08.575Z"
   },
   {
    "duration": 262523,
    "start_time": "2022-05-21T09:39:08.580Z"
   },
   {
    "duration": 6,
    "start_time": "2022-05-21T09:43:31.105Z"
   },
   {
    "duration": 64,
    "start_time": "2022-05-21T09:43:31.115Z"
   },
   {
    "duration": 4279,
    "start_time": "2022-05-21T09:43:31.181Z"
   },
   {
    "duration": 2559,
    "start_time": "2022-05-21T09:45:20.076Z"
   },
   {
    "duration": 1534,
    "start_time": "2022-05-21T09:45:22.637Z"
   },
   {
    "duration": 858,
    "start_time": "2022-05-21T09:45:24.179Z"
   },
   {
    "duration": 129,
    "start_time": "2022-05-21T09:45:25.042Z"
   },
   {
    "duration": 10,
    "start_time": "2022-05-21T09:45:25.174Z"
   },
   {
    "duration": 32,
    "start_time": "2022-05-21T09:45:25.185Z"
   },
   {
    "duration": 5,
    "start_time": "2022-05-21T09:45:25.219Z"
   },
   {
    "duration": 51,
    "start_time": "2022-05-21T09:45:25.225Z"
   },
   {
    "duration": 69,
    "start_time": "2022-05-21T09:45:25.278Z"
   },
   {
    "duration": 47,
    "start_time": "2022-05-21T09:45:25.349Z"
   },
   {
    "duration": 23,
    "start_time": "2022-05-21T09:45:25.397Z"
   },
   {
    "duration": 1863,
    "start_time": "2022-05-21T09:45:25.422Z"
   },
   {
    "duration": 295,
    "start_time": "2022-05-21T09:45:27.287Z"
   },
   {
    "duration": 536,
    "start_time": "2022-05-21T09:45:27.585Z"
   },
   {
    "duration": 46,
    "start_time": "2022-05-21T09:45:28.124Z"
   },
   {
    "duration": 18,
    "start_time": "2022-05-21T09:45:28.172Z"
   },
   {
    "duration": 12,
    "start_time": "2022-05-21T09:45:28.192Z"
   },
   {
    "duration": 13,
    "start_time": "2022-05-21T09:45:28.205Z"
   },
   {
    "duration": 44,
    "start_time": "2022-05-21T09:45:28.221Z"
   },
   {
    "duration": 18,
    "start_time": "2022-05-21T09:45:28.267Z"
   },
   {
    "duration": 10,
    "start_time": "2022-05-21T09:45:28.287Z"
   },
   {
    "duration": 937,
    "start_time": "2022-05-21T09:45:28.298Z"
   },
   {
    "duration": 21,
    "start_time": "2022-05-21T09:45:29.237Z"
   },
   {
    "duration": 6228,
    "start_time": "2022-05-21T09:45:29.269Z"
   },
   {
    "duration": 3,
    "start_time": "2022-05-21T09:45:35.499Z"
   },
   {
    "duration": 2501,
    "start_time": "2022-05-21T09:45:35.503Z"
   },
   {
    "duration": 6,
    "start_time": "2022-05-21T09:45:38.006Z"
   },
   {
    "duration": 27,
    "start_time": "2022-05-21T09:45:38.014Z"
   },
   {
    "duration": 1815,
    "start_time": "2022-05-21T09:45:38.042Z"
   },
   {
    "duration": 5930,
    "start_time": "2022-05-21T09:45:39.868Z"
   },
   {
    "duration": 16,
    "start_time": "2022-05-21T09:45:45.799Z"
   },
   {
    "duration": 0,
    "start_time": "2022-05-21T09:45:45.816Z"
   },
   {
    "duration": 0,
    "start_time": "2022-05-21T09:45:45.827Z"
   },
   {
    "duration": 0,
    "start_time": "2022-05-21T09:45:45.828Z"
   },
   {
    "duration": 0,
    "start_time": "2022-05-21T09:45:45.828Z"
   },
   {
    "duration": 0,
    "start_time": "2022-05-21T09:45:45.829Z"
   },
   {
    "duration": 2311,
    "start_time": "2022-05-21T09:46:39.813Z"
   },
   {
    "duration": 1346,
    "start_time": "2022-05-21T09:46:42.131Z"
   },
   {
    "duration": 758,
    "start_time": "2022-05-21T09:46:43.479Z"
   },
   {
    "duration": 110,
    "start_time": "2022-05-21T09:46:44.243Z"
   },
   {
    "duration": 16,
    "start_time": "2022-05-21T09:46:44.355Z"
   },
   {
    "duration": 25,
    "start_time": "2022-05-21T09:46:44.373Z"
   },
   {
    "duration": 6,
    "start_time": "2022-05-21T09:46:44.400Z"
   },
   {
    "duration": 7,
    "start_time": "2022-05-21T09:46:44.407Z"
   },
   {
    "duration": 50,
    "start_time": "2022-05-21T09:46:44.415Z"
   },
   {
    "duration": 18,
    "start_time": "2022-05-21T09:46:44.468Z"
   },
   {
    "duration": 18,
    "start_time": "2022-05-21T09:46:44.488Z"
   },
   {
    "duration": 1584,
    "start_time": "2022-05-21T09:46:44.508Z"
   },
   {
    "duration": 279,
    "start_time": "2022-05-21T09:46:46.094Z"
   },
   {
    "duration": 514,
    "start_time": "2022-05-21T09:46:46.375Z"
   },
   {
    "duration": 19,
    "start_time": "2022-05-21T09:46:46.891Z"
   },
   {
    "duration": 40,
    "start_time": "2022-05-21T09:46:46.912Z"
   },
   {
    "duration": 19,
    "start_time": "2022-05-21T09:46:46.958Z"
   },
   {
    "duration": 4,
    "start_time": "2022-05-21T09:46:46.979Z"
   },
   {
    "duration": 9,
    "start_time": "2022-05-21T09:46:46.985Z"
   },
   {
    "duration": 16,
    "start_time": "2022-05-21T09:46:46.996Z"
   },
   {
    "duration": 8,
    "start_time": "2022-05-21T09:46:47.014Z"
   },
   {
    "duration": 935,
    "start_time": "2022-05-21T09:46:47.024Z"
   },
   {
    "duration": 15,
    "start_time": "2022-05-21T09:46:48.026Z"
   },
   {
    "duration": 4007,
    "start_time": "2022-05-21T10:13:38.672Z"
   },
   {
    "duration": 1607,
    "start_time": "2022-05-21T10:13:42.682Z"
   },
   {
    "duration": 1071,
    "start_time": "2022-05-21T10:13:44.293Z"
   },
   {
    "duration": 103,
    "start_time": "2022-05-21T10:13:45.367Z"
   },
   {
    "duration": 10,
    "start_time": "2022-05-21T10:13:45.472Z"
   },
   {
    "duration": 22,
    "start_time": "2022-05-21T10:13:45.483Z"
   },
   {
    "duration": 41,
    "start_time": "2022-05-21T10:13:45.507Z"
   },
   {
    "duration": 10,
    "start_time": "2022-05-21T10:13:45.554Z"
   },
   {
    "duration": 41,
    "start_time": "2022-05-21T10:13:45.566Z"
   },
   {
    "duration": 30,
    "start_time": "2022-05-21T10:13:45.609Z"
   },
   {
    "duration": 36,
    "start_time": "2022-05-21T10:13:45.646Z"
   },
   {
    "duration": 1719,
    "start_time": "2022-05-21T10:13:45.684Z"
   },
   {
    "duration": 248,
    "start_time": "2022-05-21T10:13:47.405Z"
   },
   {
    "duration": 703,
    "start_time": "2022-05-21T10:13:47.657Z"
   },
   {
    "duration": 103,
    "start_time": "2022-05-21T10:13:48.362Z"
   },
   {
    "duration": 74,
    "start_time": "2022-05-21T10:13:48.467Z"
   },
   {
    "duration": 20,
    "start_time": "2022-05-21T10:13:48.544Z"
   },
   {
    "duration": 8,
    "start_time": "2022-05-21T10:13:48.567Z"
   },
   {
    "duration": 50,
    "start_time": "2022-05-21T10:13:48.577Z"
   },
   {
    "duration": 55,
    "start_time": "2022-05-21T10:13:48.629Z"
   },
   {
    "duration": 13,
    "start_time": "2022-05-21T10:13:48.686Z"
   },
   {
    "duration": 1600,
    "start_time": "2022-05-21T10:13:48.727Z"
   },
   {
    "duration": 19,
    "start_time": "2022-05-21T10:13:50.330Z"
   },
   {
    "duration": 3635,
    "start_time": "2022-05-21T10:33:09.470Z"
   },
   {
    "duration": 2263,
    "start_time": "2022-05-21T10:33:13.108Z"
   },
   {
    "duration": 1395,
    "start_time": "2022-05-21T10:33:15.372Z"
   },
   {
    "duration": 105,
    "start_time": "2022-05-21T10:33:16.769Z"
   },
   {
    "duration": 8,
    "start_time": "2022-05-21T10:33:16.876Z"
   },
   {
    "duration": 68,
    "start_time": "2022-05-21T10:33:16.886Z"
   },
   {
    "duration": 6,
    "start_time": "2022-05-21T10:33:16.957Z"
   },
   {
    "duration": 4,
    "start_time": "2022-05-21T10:33:16.965Z"
   },
   {
    "duration": 100,
    "start_time": "2022-05-21T10:33:16.971Z"
   },
   {
    "duration": 20,
    "start_time": "2022-05-21T10:33:17.074Z"
   },
   {
    "duration": 39,
    "start_time": "2022-05-21T10:33:17.096Z"
   },
   {
    "duration": 1587,
    "start_time": "2022-05-21T10:33:17.138Z"
   },
   {
    "duration": 244,
    "start_time": "2022-05-21T10:33:18.729Z"
   },
   {
    "duration": 464,
    "start_time": "2022-05-21T10:33:18.975Z"
   },
   {
    "duration": 24,
    "start_time": "2022-05-21T10:33:19.441Z"
   },
   {
    "duration": 17,
    "start_time": "2022-05-21T10:33:19.466Z"
   },
   {
    "duration": 10,
    "start_time": "2022-05-21T10:33:19.485Z"
   },
   {
    "duration": 3,
    "start_time": "2022-05-21T10:33:19.497Z"
   },
   {
    "duration": 31,
    "start_time": "2022-05-21T10:33:19.501Z"
   },
   {
    "duration": 42,
    "start_time": "2022-05-21T10:33:19.543Z"
   },
   {
    "duration": 6,
    "start_time": "2022-05-21T10:33:19.587Z"
   },
   {
    "duration": 837,
    "start_time": "2022-05-21T10:33:19.595Z"
   },
   {
    "duration": 9,
    "start_time": "2022-05-21T10:33:20.437Z"
   },
   {
    "duration": 50545,
    "start_time": "2022-05-21T10:33:20.449Z"
   },
   {
    "duration": 3,
    "start_time": "2022-05-21T10:34:10.996Z"
   },
   {
    "duration": 520275,
    "start_time": "2022-05-21T10:34:11.001Z"
   },
   {
    "duration": 6,
    "start_time": "2022-05-21T10:42:51.279Z"
   },
   {
    "duration": 22,
    "start_time": "2022-05-21T10:42:51.289Z"
   },
   {
    "duration": 2324,
    "start_time": "2022-05-21T10:42:51.313Z"
   },
   {
    "duration": 129252,
    "start_time": "2022-05-21T10:42:53.641Z"
   },
   {
    "duration": 544163,
    "start_time": "2022-05-21T10:45:02.895Z"
   },
   {
    "duration": 7,
    "start_time": "2022-05-21T10:54:07.060Z"
   },
   {
    "duration": 15,
    "start_time": "2022-05-21T10:54:07.068Z"
   },
   {
    "duration": 0,
    "start_time": "2022-05-21T10:54:07.085Z"
   },
   {
    "duration": 0,
    "start_time": "2022-05-21T10:54:07.086Z"
   },
   {
    "duration": 0,
    "start_time": "2022-05-21T10:54:07.087Z"
   },
   {
    "duration": 0,
    "start_time": "2022-05-21T10:54:07.088Z"
   },
   {
    "duration": 4003,
    "start_time": "2022-05-21T10:54:43.253Z"
   },
   {
    "duration": 1435,
    "start_time": "2022-05-21T10:54:47.259Z"
   },
   {
    "duration": 1772,
    "start_time": "2022-05-21T10:54:48.695Z"
   },
   {
    "duration": 102,
    "start_time": "2022-05-21T10:54:50.469Z"
   },
   {
    "duration": 9,
    "start_time": "2022-05-21T10:54:50.572Z"
   },
   {
    "duration": 30,
    "start_time": "2022-05-21T10:54:50.582Z"
   },
   {
    "duration": 17,
    "start_time": "2022-05-21T10:54:50.614Z"
   },
   {
    "duration": 9,
    "start_time": "2022-05-21T10:54:50.634Z"
   },
   {
    "duration": 52,
    "start_time": "2022-05-21T10:54:50.647Z"
   },
   {
    "duration": 20,
    "start_time": "2022-05-21T10:54:50.701Z"
   },
   {
    "duration": 56,
    "start_time": "2022-05-21T10:54:50.723Z"
   },
   {
    "duration": 1485,
    "start_time": "2022-05-21T10:54:50.781Z"
   },
   {
    "duration": 225,
    "start_time": "2022-05-21T10:54:52.268Z"
   },
   {
    "duration": 412,
    "start_time": "2022-05-21T10:54:52.495Z"
   },
   {
    "duration": 40,
    "start_time": "2022-05-21T10:54:52.909Z"
   },
   {
    "duration": 19,
    "start_time": "2022-05-21T10:54:52.951Z"
   },
   {
    "duration": 29,
    "start_time": "2022-05-21T10:54:52.971Z"
   },
   {
    "duration": 4,
    "start_time": "2022-05-21T10:54:56.805Z"
   },
   {
    "duration": 2,
    "start_time": "2022-05-21T10:54:59.791Z"
   },
   {
    "duration": 15,
    "start_time": "2022-05-21T10:55:02.886Z"
   },
   {
    "duration": 4,
    "start_time": "2022-05-21T10:55:03.353Z"
   },
   {
    "duration": 765,
    "start_time": "2022-05-21T10:55:06.077Z"
   },
   {
    "duration": 886,
    "start_time": "2022-05-21T10:55:19.756Z"
   },
   {
    "duration": 1265,
    "start_time": "2022-05-21T10:55:33.256Z"
   },
   {
    "duration": 1150,
    "start_time": "2022-05-21T10:55:51.957Z"
   },
   {
    "duration": 1190,
    "start_time": "2022-05-21T10:56:08.266Z"
   },
   {
    "duration": 1826,
    "start_time": "2022-05-21T10:56:23.072Z"
   },
   {
    "duration": 1149,
    "start_time": "2022-05-21T10:56:28.777Z"
   },
   {
    "duration": 1989,
    "start_time": "2022-05-21T10:56:34.594Z"
   },
   {
    "duration": 68892,
    "start_time": "2022-05-21T10:57:04.569Z"
   },
   {
    "duration": 839,
    "start_time": "2022-05-21T10:58:48.261Z"
   },
   {
    "duration": 4,
    "start_time": "2022-05-21T11:00:01.179Z"
   },
   {
    "duration": 72544,
    "start_time": "2022-05-21T11:00:06.064Z"
   },
   {
    "duration": 4,
    "start_time": "2022-05-21T11:01:28.764Z"
   },
   {
    "duration": 71081,
    "start_time": "2022-05-21T11:01:57.907Z"
   },
   {
    "duration": 1007,
    "start_time": "2022-05-21T11:03:21.549Z"
   },
   {
    "duration": 1000,
    "start_time": "2022-05-21T11:03:35.458Z"
   },
   {
    "duration": 1198,
    "start_time": "2022-05-21T11:04:53.306Z"
   },
   {
    "duration": 3,
    "start_time": "2022-05-21T11:05:20.972Z"
   },
   {
    "duration": 173891,
    "start_time": "2022-05-21T11:05:24.366Z"
   },
   {
    "duration": 3,
    "start_time": "2022-05-21T11:09:20.512Z"
   },
   {
    "duration": 3,
    "start_time": "2022-05-21T11:09:32.887Z"
   },
   {
    "duration": 67289,
    "start_time": "2022-05-21T11:09:33.650Z"
   },
   {
    "duration": 7,
    "start_time": "2022-05-21T11:10:47.261Z"
   },
   {
    "duration": 7,
    "start_time": "2022-05-21T11:10:53.156Z"
   },
   {
    "duration": 16,
    "start_time": "2022-05-21T11:11:19.150Z"
   },
   {
    "duration": 2792,
    "start_time": "2022-05-21T11:11:20.466Z"
   },
   {
    "duration": 10,
    "start_time": "2022-05-21T11:11:57.122Z"
   },
   {
    "duration": 81,
    "start_time": "2022-05-21T11:13:50.282Z"
   },
   {
    "duration": 18,
    "start_time": "2022-05-21T11:13:54.220Z"
   },
   {
    "duration": 167,
    "start_time": "2022-05-21T11:14:45.859Z"
   },
   {
    "duration": 15,
    "start_time": "2022-05-21T11:14:47.369Z"
   },
   {
    "duration": 18,
    "start_time": "2022-05-21T11:14:54.370Z"
   },
   {
    "duration": 4,
    "start_time": "2022-05-21T11:15:10.596Z"
   },
   {
    "duration": 68,
    "start_time": "2022-05-21T11:15:37.824Z"
   },
   {
    "duration": 3,
    "start_time": "2022-05-21T11:15:43.384Z"
   },
   {
    "duration": 2762,
    "start_time": "2022-05-21T11:24:24.697Z"
   },
   {
    "duration": 6,
    "start_time": "2022-05-21T11:24:27.463Z"
   },
   {
    "duration": 750,
    "start_time": "2022-05-21T11:24:27.472Z"
   },
   {
    "duration": 137,
    "start_time": "2022-05-21T11:24:28.224Z"
   },
   {
    "duration": 9,
    "start_time": "2022-05-21T11:24:28.363Z"
   },
   {
    "duration": 26,
    "start_time": "2022-05-21T11:24:28.374Z"
   },
   {
    "duration": 30,
    "start_time": "2022-05-21T11:24:28.403Z"
   },
   {
    "duration": 42,
    "start_time": "2022-05-21T11:24:28.434Z"
   },
   {
    "duration": 55,
    "start_time": "2022-05-21T11:24:28.479Z"
   },
   {
    "duration": 27,
    "start_time": "2022-05-21T11:24:28.542Z"
   },
   {
    "duration": 163,
    "start_time": "2022-05-21T11:24:28.571Z"
   },
   {
    "duration": 1640,
    "start_time": "2022-05-21T11:24:28.736Z"
   },
   {
    "duration": 282,
    "start_time": "2022-05-21T11:24:30.378Z"
   },
   {
    "duration": 2390,
    "start_time": "2022-05-21T11:24:32.906Z"
   },
   {
    "duration": 1520,
    "start_time": "2022-05-21T11:24:35.299Z"
   },
   {
    "duration": 731,
    "start_time": "2022-05-21T11:24:36.820Z"
   },
   {
    "duration": 120,
    "start_time": "2022-05-21T11:24:37.554Z"
   },
   {
    "duration": 12,
    "start_time": "2022-05-21T11:24:37.676Z"
   },
   {
    "duration": 32,
    "start_time": "2022-05-21T11:24:37.689Z"
   },
   {
    "duration": 8,
    "start_time": "2022-05-21T11:24:37.724Z"
   },
   {
    "duration": 9,
    "start_time": "2022-05-21T11:24:37.733Z"
   },
   {
    "duration": 40,
    "start_time": "2022-05-21T11:24:37.743Z"
   },
   {
    "duration": 34,
    "start_time": "2022-05-21T11:24:37.787Z"
   },
   {
    "duration": 25,
    "start_time": "2022-05-21T11:24:37.822Z"
   },
   {
    "duration": 1571,
    "start_time": "2022-05-21T11:24:37.853Z"
   },
   {
    "duration": 240,
    "start_time": "2022-05-21T11:24:39.436Z"
   },
   {
    "duration": 477,
    "start_time": "2022-05-21T11:24:39.678Z"
   },
   {
    "duration": 26,
    "start_time": "2022-05-21T11:24:40.161Z"
   },
   {
    "duration": 20,
    "start_time": "2022-05-21T11:24:40.189Z"
   },
   {
    "duration": 12,
    "start_time": "2022-05-21T11:24:40.211Z"
   },
   {
    "duration": 11,
    "start_time": "2022-05-21T11:24:40.225Z"
   },
   {
    "duration": 34,
    "start_time": "2022-05-21T11:24:40.239Z"
   },
   {
    "duration": 21,
    "start_time": "2022-05-21T11:24:40.275Z"
   },
   {
    "duration": 6,
    "start_time": "2022-05-21T11:24:40.297Z"
   },
   {
    "duration": 1240,
    "start_time": "2022-05-21T11:24:40.305Z"
   },
   {
    "duration": 9,
    "start_time": "2022-05-21T11:24:41.550Z"
   },
   {
    "duration": 46513,
    "start_time": "2022-05-21T11:24:41.630Z"
   },
   {
    "duration": 3,
    "start_time": "2022-05-21T11:25:28.147Z"
   },
   {
    "duration": 1387611,
    "start_time": "2022-05-21T11:25:28.152Z"
   },
   {
    "duration": 12,
    "start_time": "2022-05-21T11:48:35.765Z"
   },
   {
    "duration": 30,
    "start_time": "2022-05-21T11:48:35.781Z"
   },
   {
    "duration": 3321,
    "start_time": "2022-05-21T11:48:35.814Z"
   },
   {
    "duration": 106502,
    "start_time": "2022-05-21T11:48:39.138Z"
   },
   {
    "duration": 4494174,
    "start_time": "2022-05-21T11:50:25.647Z"
   },
   {
    "duration": 14,
    "start_time": "2022-05-21T13:05:19.823Z"
   },
   {
    "duration": 51,
    "start_time": "2022-05-21T13:05:19.849Z"
   },
   {
    "duration": 29,
    "start_time": "2022-05-21T13:05:19.902Z"
   },
   {
    "duration": 128,
    "start_time": "2022-05-21T13:05:19.937Z"
   },
   {
    "duration": 1453,
    "start_time": "2022-05-21T13:05:20.127Z"
   },
   {
    "duration": 35,
    "start_time": "2022-05-21T13:05:21.645Z"
   },
   {
    "duration": 55,
    "start_time": "2022-05-21T13:05:21.684Z"
   },
   {
    "duration": 4,
    "start_time": "2022-05-21T13:11:53.691Z"
   },
   {
    "duration": 5564,
    "start_time": "2022-05-21T13:19:11.982Z"
   },
   {
    "duration": 6790,
    "start_time": "2022-05-21T13:19:23.556Z"
   },
   {
    "duration": 15827,
    "start_time": "2022-05-21T13:19:38.708Z"
   },
   {
    "duration": 22786,
    "start_time": "2022-05-21T13:20:08.066Z"
   },
   {
    "duration": 15581,
    "start_time": "2022-05-21T13:20:44.896Z"
   },
   {
    "duration": 20383,
    "start_time": "2022-05-21T13:21:08.469Z"
   },
   {
    "duration": 19484,
    "start_time": "2022-05-21T13:21:35.354Z"
   },
   {
    "duration": 4774,
    "start_time": "2022-05-21T13:23:16.554Z"
   },
   {
    "duration": 5,
    "start_time": "2022-05-21T13:26:12.166Z"
   },
   {
    "duration": 17,
    "start_time": "2022-05-21T13:27:02.006Z"
   },
   {
    "duration": 135,
    "start_time": "2022-05-21T13:27:02.920Z"
   },
   {
    "duration": 164,
    "start_time": "2022-05-21T13:31:36.110Z"
   },
   {
    "duration": 1112,
    "start_time": "2022-05-21T13:32:24.356Z"
   },
   {
    "duration": 4,
    "start_time": "2022-05-21T13:32:48.809Z"
   },
   {
    "duration": 2418,
    "start_time": "2022-05-21T13:36:54.370Z"
   },
   {
    "duration": 1500,
    "start_time": "2022-05-21T13:36:56.790Z"
   },
   {
    "duration": 1958,
    "start_time": "2022-05-21T13:36:58.292Z"
   },
   {
    "duration": 109,
    "start_time": "2022-05-21T13:37:00.255Z"
   },
   {
    "duration": 8,
    "start_time": "2022-05-21T13:37:00.366Z"
   },
   {
    "duration": 37,
    "start_time": "2022-05-21T13:37:00.376Z"
   },
   {
    "duration": 45,
    "start_time": "2022-05-21T13:37:00.415Z"
   },
   {
    "duration": 168845,
    "start_time": "2022-05-21T13:37:00.462Z"
   },
   {
    "duration": 41,
    "start_time": "2022-05-21T13:39:49.309Z"
   },
   {
    "duration": 25,
    "start_time": "2022-05-21T13:39:49.355Z"
   },
   {
    "duration": 20,
    "start_time": "2022-05-21T13:39:49.383Z"
   },
   {
    "duration": 1654,
    "start_time": "2022-05-21T13:39:49.406Z"
   },
   {
    "duration": 279,
    "start_time": "2022-05-21T13:39:51.062Z"
   },
   {
    "duration": 485,
    "start_time": "2022-05-21T13:39:51.347Z"
   },
   {
    "duration": 28,
    "start_time": "2022-05-21T13:39:51.836Z"
   },
   {
    "duration": 19,
    "start_time": "2022-05-21T13:39:51.866Z"
   },
   {
    "duration": 11,
    "start_time": "2022-05-21T13:39:51.887Z"
   },
   {
    "duration": 4,
    "start_time": "2022-05-21T13:39:51.900Z"
   },
   {
    "duration": 24,
    "start_time": "2022-05-21T13:39:51.906Z"
   },
   {
    "duration": 38,
    "start_time": "2022-05-21T13:39:51.937Z"
   },
   {
    "duration": 10,
    "start_time": "2022-05-21T13:39:51.977Z"
   },
   {
    "duration": 4244,
    "start_time": "2022-05-21T13:39:51.989Z"
   },
   {
    "duration": 12,
    "start_time": "2022-05-21T13:39:56.235Z"
   },
   {
    "duration": 2243,
    "start_time": "2022-05-21T13:42:31.957Z"
   },
   {
    "duration": 1331,
    "start_time": "2022-05-21T13:42:34.202Z"
   },
   {
    "duration": 775,
    "start_time": "2022-05-21T13:42:35.536Z"
   },
   {
    "duration": 143,
    "start_time": "2022-05-21T13:42:36.313Z"
   },
   {
    "duration": 9,
    "start_time": "2022-05-21T13:42:36.459Z"
   },
   {
    "duration": 38,
    "start_time": "2022-05-21T13:42:36.470Z"
   },
   {
    "duration": 6,
    "start_time": "2022-05-21T13:42:36.510Z"
   },
   {
    "duration": 12233,
    "start_time": "2022-05-21T13:42:36.517Z"
   },
   {
    "duration": 0,
    "start_time": "2022-05-21T13:42:48.757Z"
   },
   {
    "duration": 0,
    "start_time": "2022-05-21T13:42:48.758Z"
   },
   {
    "duration": 0,
    "start_time": "2022-05-21T13:42:48.759Z"
   },
   {
    "duration": 0,
    "start_time": "2022-05-21T13:42:48.760Z"
   },
   {
    "duration": 0,
    "start_time": "2022-05-21T13:42:48.762Z"
   },
   {
    "duration": 0,
    "start_time": "2022-05-21T13:42:48.762Z"
   },
   {
    "duration": 0,
    "start_time": "2022-05-21T13:42:48.763Z"
   },
   {
    "duration": 0,
    "start_time": "2022-05-21T13:42:48.764Z"
   },
   {
    "duration": 0,
    "start_time": "2022-05-21T13:42:48.765Z"
   },
   {
    "duration": 0,
    "start_time": "2022-05-21T13:42:48.766Z"
   },
   {
    "duration": 0,
    "start_time": "2022-05-21T13:42:48.766Z"
   },
   {
    "duration": 0,
    "start_time": "2022-05-21T13:42:48.767Z"
   },
   {
    "duration": 0,
    "start_time": "2022-05-21T13:42:48.768Z"
   },
   {
    "duration": 0,
    "start_time": "2022-05-21T13:42:48.770Z"
   },
   {
    "duration": 0,
    "start_time": "2022-05-21T13:42:48.771Z"
   },
   {
    "duration": 0,
    "start_time": "2022-05-21T13:42:48.771Z"
   },
   {
    "duration": 0,
    "start_time": "2022-05-21T13:42:48.773Z"
   },
   {
    "duration": 0,
    "start_time": "2022-05-21T13:42:48.774Z"
   },
   {
    "duration": 0,
    "start_time": "2022-05-21T13:42:48.775Z"
   },
   {
    "duration": 0,
    "start_time": "2022-05-21T13:42:48.776Z"
   },
   {
    "duration": 0,
    "start_time": "2022-05-21T13:42:48.777Z"
   },
   {
    "duration": 0,
    "start_time": "2022-05-21T13:42:48.778Z"
   },
   {
    "duration": 0,
    "start_time": "2022-05-21T13:42:48.779Z"
   },
   {
    "duration": 0,
    "start_time": "2022-05-21T13:42:48.780Z"
   },
   {
    "duration": 0,
    "start_time": "2022-05-21T13:42:48.782Z"
   },
   {
    "duration": 0,
    "start_time": "2022-05-21T13:42:48.782Z"
   },
   {
    "duration": 0,
    "start_time": "2022-05-21T13:42:48.784Z"
   },
   {
    "duration": 0,
    "start_time": "2022-05-21T13:42:48.784Z"
   },
   {
    "duration": 2462,
    "start_time": "2022-05-21T13:43:09.851Z"
   },
   {
    "duration": 1503,
    "start_time": "2022-05-21T13:43:12.316Z"
   },
   {
    "duration": 796,
    "start_time": "2022-05-21T13:43:13.820Z"
   },
   {
    "duration": 140,
    "start_time": "2022-05-21T13:43:14.618Z"
   },
   {
    "duration": 12,
    "start_time": "2022-05-21T13:43:14.763Z"
   },
   {
    "duration": 21,
    "start_time": "2022-05-21T13:43:14.777Z"
   },
   {
    "duration": 6,
    "start_time": "2022-05-21T13:43:14.800Z"
   },
   {
    "duration": 173294,
    "start_time": "2022-05-21T13:43:14.807Z"
   },
   {
    "duration": 48,
    "start_time": "2022-05-21T13:46:08.103Z"
   },
   {
    "duration": 24,
    "start_time": "2022-05-21T13:46:08.154Z"
   },
   {
    "duration": 52,
    "start_time": "2022-05-21T13:46:08.180Z"
   },
   {
    "duration": 1680,
    "start_time": "2022-05-21T13:46:08.242Z"
   },
   {
    "duration": 289,
    "start_time": "2022-05-21T13:46:09.932Z"
   },
   {
    "duration": 534,
    "start_time": "2022-05-21T13:46:10.230Z"
   },
   {
    "duration": 21,
    "start_time": "2022-05-21T13:46:10.770Z"
   },
   {
    "duration": 20,
    "start_time": "2022-05-21T13:46:10.793Z"
   },
   {
    "duration": 15,
    "start_time": "2022-05-21T13:46:10.838Z"
   },
   {
    "duration": 28,
    "start_time": "2022-05-21T13:46:10.857Z"
   },
   {
    "duration": 21,
    "start_time": "2022-05-21T13:46:10.887Z"
   },
   {
    "duration": 61,
    "start_time": "2022-05-21T13:46:10.910Z"
   },
   {
    "duration": 13,
    "start_time": "2022-05-21T13:46:10.973Z"
   },
   {
    "duration": 4067,
    "start_time": "2022-05-21T13:46:10.987Z"
   },
   {
    "duration": 63,
    "start_time": "2022-05-21T13:46:15.063Z"
   },
   {
    "duration": 464875,
    "start_time": "2022-05-21T13:46:15.129Z"
   },
   {
    "duration": 3,
    "start_time": "2022-05-21T13:54:00.006Z"
   },
   {
    "duration": 476631,
    "start_time": "2022-05-21T13:54:00.011Z"
   },
   {
    "duration": 6,
    "start_time": "2022-05-21T14:01:56.645Z"
   },
   {
    "duration": 12,
    "start_time": "2022-05-21T14:01:56.654Z"
   },
   {
    "duration": 13677,
    "start_time": "2022-05-21T14:01:56.667Z"
   },
   {
    "duration": 1120240,
    "start_time": "2022-05-21T14:02:10.348Z"
   },
   {
    "duration": 1562285,
    "start_time": "2022-05-21T14:20:50.591Z"
   },
   {
    "duration": 8,
    "start_time": "2022-05-21T14:46:52.878Z"
   },
   {
    "duration": 14,
    "start_time": "2022-05-21T14:46:52.888Z"
   },
   {
    "duration": 354,
    "start_time": "2022-05-21T14:46:52.904Z"
   },
   {
    "duration": 0,
    "start_time": "2022-05-21T14:46:53.260Z"
   },
   {
    "duration": 0,
    "start_time": "2022-05-21T14:46:53.262Z"
   },
   {
    "duration": 213,
    "start_time": "2022-05-21T14:50:20.726Z"
   },
   {
    "duration": 976,
    "start_time": "2022-05-21T14:50:25.207Z"
   },
   {
    "duration": 7,
    "start_time": "2022-05-21T14:50:27.951Z"
   },
   {
    "duration": 63,
    "start_time": "2022-05-22T14:01:38.327Z"
   },
   {
    "duration": 3831,
    "start_time": "2022-05-22T14:01:45.853Z"
   },
   {
    "duration": 1679,
    "start_time": "2022-05-22T14:01:49.687Z"
   },
   {
    "duration": 4173,
    "start_time": "2022-05-22T14:01:51.369Z"
   },
   {
    "duration": 128,
    "start_time": "2022-05-22T14:01:55.546Z"
   },
   {
    "duration": 10,
    "start_time": "2022-05-22T14:01:55.676Z"
   },
   {
    "duration": 18,
    "start_time": "2022-05-22T14:01:55.688Z"
   },
   {
    "duration": 6,
    "start_time": "2022-05-22T14:01:55.708Z"
   },
   {
    "duration": 173356,
    "start_time": "2022-05-22T14:01:55.715Z"
   },
   {
    "duration": 87,
    "start_time": "2022-05-22T14:04:49.074Z"
   },
   {
    "duration": 19,
    "start_time": "2022-05-22T14:04:49.164Z"
   },
   {
    "duration": 22,
    "start_time": "2022-05-22T14:04:49.185Z"
   },
   {
    "duration": 1678,
    "start_time": "2022-05-22T14:04:49.210Z"
   },
   {
    "duration": 297,
    "start_time": "2022-05-22T14:05:04.635Z"
   },
   {
    "duration": 313,
    "start_time": "2022-05-22T14:05:39.271Z"
   },
   {
    "duration": 508,
    "start_time": "2022-05-22T14:06:24.357Z"
   },
   {
    "duration": 31,
    "start_time": "2022-05-22T14:06:24.936Z"
   },
   {
    "duration": 22,
    "start_time": "2022-05-22T14:06:26.402Z"
   },
   {
    "duration": 14,
    "start_time": "2022-05-22T14:06:26.860Z"
   },
   {
    "duration": 4,
    "start_time": "2022-05-22T14:06:30.029Z"
   },
   {
    "duration": 2,
    "start_time": "2022-05-22T14:06:33.463Z"
   },
   {
    "duration": 17,
    "start_time": "2022-05-22T14:06:34.535Z"
   },
   {
    "duration": 3,
    "start_time": "2022-05-22T14:06:36.363Z"
   },
   {
    "duration": 4449,
    "start_time": "2022-05-22T14:06:37.692Z"
   },
   {
    "duration": 4,
    "start_time": "2022-05-22T14:07:43.111Z"
   },
   {
    "duration": 465584,
    "start_time": "2022-05-22T14:07:43.613Z"
   },
   {
    "duration": 4,
    "start_time": "2022-05-22T14:17:20.722Z"
   },
   {
    "duration": 485342,
    "start_time": "2022-05-22T14:17:21.653Z"
   },
   {
    "duration": 55,
    "start_time": "2022-05-23T06:21:46.308Z"
   },
   {
    "duration": 3,
    "start_time": "2022-05-23T06:22:23.910Z"
   },
   {
    "duration": 560,
    "start_time": "2022-05-23T06:22:23.914Z"
   },
   {
    "duration": 0,
    "start_time": "2022-05-23T06:22:24.477Z"
   },
   {
    "duration": 0,
    "start_time": "2022-05-23T06:22:24.479Z"
   },
   {
    "duration": 0,
    "start_time": "2022-05-23T06:22:24.480Z"
   },
   {
    "duration": 0,
    "start_time": "2022-05-23T06:22:24.481Z"
   },
   {
    "duration": 0,
    "start_time": "2022-05-23T06:22:24.483Z"
   },
   {
    "duration": 0,
    "start_time": "2022-05-23T06:22:24.484Z"
   },
   {
    "duration": 0,
    "start_time": "2022-05-23T06:22:24.485Z"
   },
   {
    "duration": 0,
    "start_time": "2022-05-23T06:22:24.487Z"
   },
   {
    "duration": 0,
    "start_time": "2022-05-23T06:22:24.487Z"
   },
   {
    "duration": 0,
    "start_time": "2022-05-23T06:22:24.489Z"
   },
   {
    "duration": 0,
    "start_time": "2022-05-23T06:22:24.490Z"
   },
   {
    "duration": 8,
    "start_time": "2022-05-23T06:22:28.393Z"
   },
   {
    "duration": 2,
    "start_time": "2022-05-23T06:22:40.291Z"
   },
   {
    "duration": 10,
    "start_time": "2022-05-23T06:22:40.294Z"
   },
   {
    "duration": 0,
    "start_time": "2022-05-23T06:22:40.305Z"
   },
   {
    "duration": 0,
    "start_time": "2022-05-23T06:22:40.306Z"
   },
   {
    "duration": 0,
    "start_time": "2022-05-23T06:22:40.307Z"
   },
   {
    "duration": 7,
    "start_time": "2022-05-23T06:22:40.309Z"
   },
   {
    "duration": 0,
    "start_time": "2022-05-23T06:22:40.318Z"
   },
   {
    "duration": 0,
    "start_time": "2022-05-23T06:22:40.320Z"
   },
   {
    "duration": 10,
    "start_time": "2022-05-23T06:22:40.322Z"
   },
   {
    "duration": 0,
    "start_time": "2022-05-23T06:22:40.334Z"
   },
   {
    "duration": 0,
    "start_time": "2022-05-23T06:22:40.335Z"
   },
   {
    "duration": 0,
    "start_time": "2022-05-23T06:22:40.336Z"
   },
   {
    "duration": 1059,
    "start_time": "2022-05-23T06:22:56.487Z"
   },
   {
    "duration": 3278,
    "start_time": "2022-05-23T06:22:57.674Z"
   },
   {
    "duration": 99,
    "start_time": "2022-05-23T06:23:00.954Z"
   },
   {
    "duration": 2,
    "start_time": "2022-05-23T06:23:07.574Z"
   },
   {
    "duration": 4,
    "start_time": "2022-05-23T06:23:07.581Z"
   },
   {
    "duration": 660,
    "start_time": "2022-05-23T06:23:07.586Z"
   },
   {
    "duration": 107,
    "start_time": "2022-05-23T06:23:08.247Z"
   },
   {
    "duration": 8,
    "start_time": "2022-05-23T06:23:08.355Z"
   },
   {
    "duration": 14,
    "start_time": "2022-05-23T06:23:08.366Z"
   },
   {
    "duration": 5,
    "start_time": "2022-05-23T06:23:08.381Z"
   },
   {
    "duration": 10,
    "start_time": "2022-05-23T06:23:08.388Z"
   },
   {
    "duration": 49,
    "start_time": "2022-05-23T06:23:08.400Z"
   },
   {
    "duration": 17,
    "start_time": "2022-05-23T06:23:08.450Z"
   },
   {
    "duration": 18,
    "start_time": "2022-05-23T06:23:08.469Z"
   },
   {
    "duration": 1324,
    "start_time": "2022-05-23T06:23:08.489Z"
   },
   {
    "duration": 259,
    "start_time": "2022-05-23T06:23:09.814Z"
   },
   {
    "duration": 292,
    "start_time": "2022-05-23T06:23:17.494Z"
   },
   {
    "duration": 248,
    "start_time": "2022-05-23T06:24:36.390Z"
   },
   {
    "duration": 242,
    "start_time": "2022-05-23T06:24:40.236Z"
   },
   {
    "duration": 356,
    "start_time": "2022-05-23T06:25:48.306Z"
   },
   {
    "duration": 232,
    "start_time": "2022-05-23T06:26:03.682Z"
   },
   {
    "duration": 4,
    "start_time": "2022-05-23T06:29:48.503Z"
   },
   {
    "duration": 6,
    "start_time": "2022-05-23T06:30:29.667Z"
   },
   {
    "duration": 5,
    "start_time": "2022-05-23T06:30:46.114Z"
   },
   {
    "duration": 5,
    "start_time": "2022-05-23T06:34:02.273Z"
   },
   {
    "duration": 5,
    "start_time": "2022-05-23T06:34:15.153Z"
   },
   {
    "duration": 7,
    "start_time": "2022-05-23T06:39:16.377Z"
   },
   {
    "duration": 5,
    "start_time": "2022-05-23T06:42:30.224Z"
   },
   {
    "duration": 3,
    "start_time": "2022-05-23T06:51:31.613Z"
   },
   {
    "duration": 3,
    "start_time": "2022-05-23T06:51:35.167Z"
   },
   {
    "duration": 12,
    "start_time": "2022-05-23T06:51:35.620Z"
   },
   {
    "duration": 3,
    "start_time": "2022-05-23T06:51:36.171Z"
   },
   {
    "duration": 3932,
    "start_time": "2022-05-23T06:51:37.717Z"
   },
   {
    "duration": 3,
    "start_time": "2022-05-23T06:53:24.276Z"
   },
   {
    "duration": 428616,
    "start_time": "2022-05-23T06:54:37.074Z"
   },
   {
    "duration": 3,
    "start_time": "2022-05-23T07:02:12.890Z"
   },
   {
    "duration": 1240,
    "start_time": "2022-05-23T07:02:12.895Z"
   },
   {
    "duration": 685,
    "start_time": "2022-05-23T07:02:14.137Z"
   },
   {
    "duration": 99,
    "start_time": "2022-05-23T07:02:14.824Z"
   },
   {
    "duration": 8,
    "start_time": "2022-05-23T07:02:14.941Z"
   },
   {
    "duration": 20,
    "start_time": "2022-05-23T07:02:14.950Z"
   },
   {
    "duration": 5,
    "start_time": "2022-05-23T07:02:14.971Z"
   },
   {
    "duration": 6,
    "start_time": "2022-05-23T07:02:14.978Z"
   },
   {
    "duration": 55,
    "start_time": "2022-05-23T07:02:14.986Z"
   },
   {
    "duration": 18,
    "start_time": "2022-05-23T07:02:15.043Z"
   },
   {
    "duration": 19,
    "start_time": "2022-05-23T07:02:15.063Z"
   },
   {
    "duration": 1415,
    "start_time": "2022-05-23T07:02:15.083Z"
   },
   {
    "duration": 285,
    "start_time": "2022-05-23T07:02:16.499Z"
   },
   {
    "duration": 5,
    "start_time": "2022-05-23T07:02:16.786Z"
   },
   {
    "duration": 504,
    "start_time": "2022-05-23T07:02:16.793Z"
   },
   {
    "duration": 20,
    "start_time": "2022-05-23T07:02:17.299Z"
   },
   {
    "duration": 31,
    "start_time": "2022-05-23T07:02:17.320Z"
   },
   {
    "duration": 12,
    "start_time": "2022-05-23T07:02:17.353Z"
   },
   {
    "duration": 3,
    "start_time": "2022-05-23T07:02:17.366Z"
   },
   {
    "duration": 7,
    "start_time": "2022-05-23T07:02:17.371Z"
   },
   {
    "duration": 16,
    "start_time": "2022-05-23T07:02:17.379Z"
   },
   {
    "duration": 5,
    "start_time": "2022-05-23T07:02:17.397Z"
   },
   {
    "duration": 2641,
    "start_time": "2022-05-23T07:02:17.404Z"
   },
   {
    "duration": 92,
    "start_time": "2022-05-23T07:02:20.050Z"
   },
   {
    "duration": 436707,
    "start_time": "2022-05-23T07:02:20.143Z"
   },
   {
    "duration": 3,
    "start_time": "2022-05-23T07:09:36.851Z"
   },
   {
    "duration": 468732,
    "start_time": "2022-05-23T07:09:36.856Z"
   },
   {
    "duration": 7,
    "start_time": "2022-05-23T07:17:25.590Z"
   },
   {
    "duration": 9,
    "start_time": "2022-05-23T07:17:25.598Z"
   },
   {
    "duration": 8246,
    "start_time": "2022-05-23T07:17:25.609Z"
   },
   {
    "duration": 1055094,
    "start_time": "2022-05-23T07:17:33.857Z"
   },
   {
    "duration": 1498443,
    "start_time": "2022-05-23T07:35:08.955Z"
   },
   {
    "duration": 7,
    "start_time": "2022-05-23T08:00:07.399Z"
   },
   {
    "duration": 9,
    "start_time": "2022-05-23T08:00:07.408Z"
   },
   {
    "duration": 135,
    "start_time": "2022-05-23T08:00:07.419Z"
   },
   {
    "duration": 301,
    "start_time": "2022-05-23T08:00:07.641Z"
   },
   {
    "duration": 5,
    "start_time": "2022-05-23T08:00:07.945Z"
   }
  ],
  "kernelspec": {
   "display_name": "Python 3 (ipykernel)",
   "language": "python",
   "name": "python3"
  },
  "language_info": {
   "codemirror_mode": {
    "name": "ipython",
    "version": 3
   },
   "file_extension": ".py",
   "mimetype": "text/x-python",
   "name": "python",
   "nbconvert_exporter": "python",
   "pygments_lexer": "ipython3",
   "version": "3.9.7"
  },
  "toc": {
   "base_numbering": 1,
   "nav_menu": {},
   "number_sections": true,
   "sideBar": true,
   "skip_h1_title": true,
   "title_cell": "Содержание",
   "title_sidebar": "Contents",
   "toc_cell": true,
   "toc_position": {
    "height": "calc(100% - 180px)",
    "left": "10px",
    "top": "150px",
    "width": "291px"
   },
   "toc_section_display": true,
   "toc_window_display": true
  }
 },
 "nbformat": 4,
 "nbformat_minor": 2
}
