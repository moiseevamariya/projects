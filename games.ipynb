{
 "cells": [
  {
   "cell_type": "markdown",
   "metadata": {
    "toc": true
   },
   "source": [
    "<h1>Содержание<span class=\"tocSkip\"></span></h1>\n",
    "<div class=\"toc\"><ul class=\"toc-item\"><li><span><a href=\"#Предобработка-данных\" data-toc-modified-id=\"Предобработка-данных-1\"><span class=\"toc-item-num\">1&nbsp;&nbsp;</span>Предобработка данных</a></span><ul class=\"toc-item\"><li><span><a href=\"#Обработка-имени-и-жанра-игр\" data-toc-modified-id=\"Обработка-имени-и-жанра-игр-1.1\"><span class=\"toc-item-num\">1.1&nbsp;&nbsp;</span>Обработка имени и жанра игр</a></span></li><li><span><a href=\"#Обработка-года-выпуска-игр\" data-toc-modified-id=\"Обработка-года-выпуска-игр-1.2\"><span class=\"toc-item-num\">1.2&nbsp;&nbsp;</span>Обработка года выпуска игр</a></span></li><li><span><a href=\"#Обработка-оценок-и-рейтинга-игр\" data-toc-modified-id=\"Обработка-оценок-и-рейтинга-игр-1.3\"><span class=\"toc-item-num\">1.3&nbsp;&nbsp;</span>Обработка оценок и рейтинга игр</a></span></li><li><span><a href=\"#Добавление-суммарных-продаж\" data-toc-modified-id=\"Добавление-суммарных-продаж-1.4\"><span class=\"toc-item-num\">1.4&nbsp;&nbsp;</span>Добавление суммарных продаж</a></span></li><li><span><a href=\"#Вывод\" data-toc-modified-id=\"Вывод-1.5\"><span class=\"toc-item-num\">1.5&nbsp;&nbsp;</span>Вывод</a></span></li></ul></li><li><span><a href=\"#Исследовательский-анализ-данных\" data-toc-modified-id=\"Исследовательский-анализ-данных-2\"><span class=\"toc-item-num\">2&nbsp;&nbsp;</span>Исследовательский анализ данных</a></span><ul class=\"toc-item\"><li><span><a href=\"#Определение-актуального-периода\" data-toc-modified-id=\"Определение-актуального-периода-2.1\"><span class=\"toc-item-num\">2.1&nbsp;&nbsp;</span>Определение актуального периода</a></span></li><li><span><a href=\"#Определение-потенциально-прибыльных-платформ\" data-toc-modified-id=\"Определение-потенциально-прибыльных-платформ-2.2\"><span class=\"toc-item-num\">2.2&nbsp;&nbsp;</span>Определение потенциально прибыльных платформ</a></span></li><li><span><a href=\"#Изучение-влияния-отзывов-на-продажи\" data-toc-modified-id=\"Изучение-влияния-отзывов-на-продажи-2.3\"><span class=\"toc-item-num\">2.3&nbsp;&nbsp;</span>Изучение влияния отзывов на продажи</a></span><ul class=\"toc-item\"><li><span><a href=\"#Платформа-PS4\" data-toc-modified-id=\"Платформа-PS4-2.3.1\"><span class=\"toc-item-num\">2.3.1&nbsp;&nbsp;</span>Платформа PS4</a></span></li><li><span><a href=\"#Платформа-XOne\" data-toc-modified-id=\"Платформа-XOne-2.3.2\"><span class=\"toc-item-num\">2.3.2&nbsp;&nbsp;</span>Платформа XOne</a></span></li><li><span><a href=\"#Платформа-3DS\" data-toc-modified-id=\"Платформа-3DS-2.3.3\"><span class=\"toc-item-num\">2.3.3&nbsp;&nbsp;</span>Платформа 3DS</a></span></li></ul></li><li><span><a href=\"#Определение-популярных-жанров\" data-toc-modified-id=\"Определение-популярных-жанров-2.4\"><span class=\"toc-item-num\">2.4&nbsp;&nbsp;</span>Определение популярных жанров</a></span></li><li><span><a href=\"#Вывод\" data-toc-modified-id=\"Вывод-2.5\"><span class=\"toc-item-num\">2.5&nbsp;&nbsp;</span>Вывод</a></span></li></ul></li><li><span><a href=\"#Составление-пользовательского-портрета-по-регионам\" data-toc-modified-id=\"Составление-пользовательского-портрета-по-регионам-3\"><span class=\"toc-item-num\">3&nbsp;&nbsp;</span>Составление пользовательского портрета по регионам</a></span><ul class=\"toc-item\"><li><span><a href=\"#Определение-ТОП-5-популярных-платформ-по-регионам\" data-toc-modified-id=\"Определение-ТОП-5-популярных-платформ-по-регионам-3.1\"><span class=\"toc-item-num\">3.1&nbsp;&nbsp;</span>Определение ТОП-5 популярных платформ по регионам</a></span></li><li><span><a href=\"#Определение-ТОП-5-популярных-жанров-по-регионам\" data-toc-modified-id=\"Определение-ТОП-5-популярных-жанров-по-регионам-3.2\"><span class=\"toc-item-num\">3.2&nbsp;&nbsp;</span>Определение ТОП-5 популярных жанров по регионам</a></span></li><li><span><a href=\"#Определение-влияния-рейтинга-по-регионам\" data-toc-modified-id=\"Определение-влияния-рейтинга-по-регионам-3.3\"><span class=\"toc-item-num\">3.3&nbsp;&nbsp;</span>Определение влияния рейтинга по регионам</a></span></li><li><span><a href=\"#Вывод\" data-toc-modified-id=\"Вывод-3.4\"><span class=\"toc-item-num\">3.4&nbsp;&nbsp;</span>Вывод</a></span></li></ul></li><li><span><a href=\"#Проверка-гипотез\" data-toc-modified-id=\"Проверка-гипотез-4\"><span class=\"toc-item-num\">4&nbsp;&nbsp;</span>Проверка гипотез</a></span><ul class=\"toc-item\"><li><span><a href=\"#Гипотеза-1\" data-toc-modified-id=\"Гипотеза-1-4.1\"><span class=\"toc-item-num\">4.1&nbsp;&nbsp;</span>Гипотеза 1</a></span></li><li><span><a href=\"#Гипотеза-2\" data-toc-modified-id=\"Гипотеза-2-4.2\"><span class=\"toc-item-num\">4.2&nbsp;&nbsp;</span>Гипотеза 2</a></span></li></ul></li><li><span><a href=\"#Общий-вывод\" data-toc-modified-id=\"Общий-вывод-5\"><span class=\"toc-item-num\">5&nbsp;&nbsp;</span>Общий вывод</a></span></li></ul></div>"
   ]
  },
  {
   "cell_type": "markdown",
   "metadata": {},
   "source": [
    "# Исследование факторов, влияющих на успешность компьютерных игр"
   ]
  },
  {
   "cell_type": "markdown",
   "metadata": {},
   "source": [
    "Интернет-магазин «Стримчик», который продаёт по всему миру компьютерные игры, планирует рекламную кампанию на 2017 год. Из открытых источников нам доступны исторические данные о продажах игр, оценки пользователей и экспертов, жанры и платформы (например, Xbox или PlayStation). **Цель исследования - выявить определяющие успешность игры закономерности.** Это позволит сделать ставку на потенциально популярный продукт и спланировать рекламные кампании."
   ]
  },
  {
   "cell_type": "markdown",
   "metadata": {},
   "source": [
    "## Предобработка данных"
   ]
  },
  {
   "cell_type": "code",
   "execution_count": 1,
   "metadata": {},
   "outputs": [],
   "source": [
    "import pandas as pd\n",
    "import matplotlib.pyplot as plt\n",
    "import math\n",
    "import numpy as np\n",
    "import seaborn as sns\n",
    "import warnings\n",
    "from scipy import stats as st"
   ]
  },
  {
   "cell_type": "code",
   "execution_count": 2,
   "metadata": {},
   "outputs": [],
   "source": [
    "warnings.filterwarnings(\"ignore\") # отключение предупреждений"
   ]
  },
  {
   "cell_type": "code",
   "execution_count": 3,
   "metadata": {},
   "outputs": [
    {
     "data": {
      "text/html": [
       "<div>\n",
       "<style scoped>\n",
       "    .dataframe tbody tr th:only-of-type {\n",
       "        vertical-align: middle;\n",
       "    }\n",
       "\n",
       "    .dataframe tbody tr th {\n",
       "        vertical-align: top;\n",
       "    }\n",
       "\n",
       "    .dataframe thead th {\n",
       "        text-align: right;\n",
       "    }\n",
       "</style>\n",
       "<table border=\"1\" class=\"dataframe\">\n",
       "  <thead>\n",
       "    <tr style=\"text-align: right;\">\n",
       "      <th></th>\n",
       "      <th>Name</th>\n",
       "      <th>Platform</th>\n",
       "      <th>Year_of_Release</th>\n",
       "      <th>Genre</th>\n",
       "      <th>NA_sales</th>\n",
       "      <th>EU_sales</th>\n",
       "      <th>JP_sales</th>\n",
       "      <th>Other_sales</th>\n",
       "      <th>Critic_Score</th>\n",
       "      <th>User_Score</th>\n",
       "      <th>Rating</th>\n",
       "    </tr>\n",
       "  </thead>\n",
       "  <tbody>\n",
       "    <tr>\n",
       "      <th>0</th>\n",
       "      <td>Wii Sports</td>\n",
       "      <td>Wii</td>\n",
       "      <td>2006.0</td>\n",
       "      <td>Sports</td>\n",
       "      <td>41.36</td>\n",
       "      <td>28.96</td>\n",
       "      <td>3.77</td>\n",
       "      <td>8.45</td>\n",
       "      <td>76.0</td>\n",
       "      <td>8</td>\n",
       "      <td>E</td>\n",
       "    </tr>\n",
       "    <tr>\n",
       "      <th>1</th>\n",
       "      <td>Super Mario Bros.</td>\n",
       "      <td>NES</td>\n",
       "      <td>1985.0</td>\n",
       "      <td>Platform</td>\n",
       "      <td>29.08</td>\n",
       "      <td>3.58</td>\n",
       "      <td>6.81</td>\n",
       "      <td>0.77</td>\n",
       "      <td>NaN</td>\n",
       "      <td>NaN</td>\n",
       "      <td>NaN</td>\n",
       "    </tr>\n",
       "    <tr>\n",
       "      <th>2</th>\n",
       "      <td>Mario Kart Wii</td>\n",
       "      <td>Wii</td>\n",
       "      <td>2008.0</td>\n",
       "      <td>Racing</td>\n",
       "      <td>15.68</td>\n",
       "      <td>12.76</td>\n",
       "      <td>3.79</td>\n",
       "      <td>3.29</td>\n",
       "      <td>82.0</td>\n",
       "      <td>8.3</td>\n",
       "      <td>E</td>\n",
       "    </tr>\n",
       "    <tr>\n",
       "      <th>3</th>\n",
       "      <td>Wii Sports Resort</td>\n",
       "      <td>Wii</td>\n",
       "      <td>2009.0</td>\n",
       "      <td>Sports</td>\n",
       "      <td>15.61</td>\n",
       "      <td>10.93</td>\n",
       "      <td>3.28</td>\n",
       "      <td>2.95</td>\n",
       "      <td>80.0</td>\n",
       "      <td>8</td>\n",
       "      <td>E</td>\n",
       "    </tr>\n",
       "    <tr>\n",
       "      <th>4</th>\n",
       "      <td>Pokemon Red/Pokemon Blue</td>\n",
       "      <td>GB</td>\n",
       "      <td>1996.0</td>\n",
       "      <td>Role-Playing</td>\n",
       "      <td>11.27</td>\n",
       "      <td>8.89</td>\n",
       "      <td>10.22</td>\n",
       "      <td>1.00</td>\n",
       "      <td>NaN</td>\n",
       "      <td>NaN</td>\n",
       "      <td>NaN</td>\n",
       "    </tr>\n",
       "  </tbody>\n",
       "</table>\n",
       "</div>"
      ],
      "text/plain": [
       "                       Name Platform  Year_of_Release         Genre  NA_sales  \\\n",
       "0                Wii Sports      Wii           2006.0        Sports     41.36   \n",
       "1         Super Mario Bros.      NES           1985.0      Platform     29.08   \n",
       "2            Mario Kart Wii      Wii           2008.0        Racing     15.68   \n",
       "3         Wii Sports Resort      Wii           2009.0        Sports     15.61   \n",
       "4  Pokemon Red/Pokemon Blue       GB           1996.0  Role-Playing     11.27   \n",
       "\n",
       "   EU_sales  JP_sales  Other_sales  Critic_Score User_Score Rating  \n",
       "0     28.96      3.77         8.45          76.0          8      E  \n",
       "1      3.58      6.81         0.77           NaN        NaN    NaN  \n",
       "2     12.76      3.79         3.29          82.0        8.3      E  \n",
       "3     10.93      3.28         2.95          80.0          8      E  \n",
       "4      8.89     10.22         1.00           NaN        NaN    NaN  "
      ]
     },
     "execution_count": 3,
     "metadata": {},
     "output_type": "execute_result"
    }
   ],
   "source": [
    "data = pd.read_csv('C:\\\\Users\\maria\\Desktop\\ЯПрактикум\\Проекты\\Проект5_Сборный проект 1\\games.csv')\n",
    "data.head()"
   ]
  },
  {
   "cell_type": "code",
   "execution_count": 4,
   "metadata": {},
   "outputs": [
    {
     "name": "stdout",
     "output_type": "stream",
     "text": [
      "<class 'pandas.core.frame.DataFrame'>\n",
      "RangeIndex: 16715 entries, 0 to 16714\n",
      "Data columns (total 11 columns):\n",
      " #   Column           Non-Null Count  Dtype  \n",
      "---  ------           --------------  -----  \n",
      " 0   Name             16713 non-null  object \n",
      " 1   Platform         16715 non-null  object \n",
      " 2   Year_of_Release  16446 non-null  float64\n",
      " 3   Genre            16713 non-null  object \n",
      " 4   NA_sales         16715 non-null  float64\n",
      " 5   EU_sales         16715 non-null  float64\n",
      " 6   JP_sales         16715 non-null  float64\n",
      " 7   Other_sales      16715 non-null  float64\n",
      " 8   Critic_Score     8137 non-null   float64\n",
      " 9   User_Score       10014 non-null  object \n",
      " 10  Rating           9949 non-null   object \n",
      "dtypes: float64(6), object(5)\n",
      "memory usage: 1.4+ MB\n"
     ]
    }
   ],
   "source": [
    "data.info()"
   ]
  },
  {
   "cell_type": "markdown",
   "metadata": {},
   "source": [
    "Необходимо проделать следующие шаги для предобработки данных:\n",
    "\n",
    "- Перевод названия столбцов в \"\"змеиный регистр\"\n",
    "- Проверка пропущенных значений в столбцах `name`, `year_of_release`, `genre`, `critic_score`, `user_score`, `rating`\n",
    "- Приведение к целочисленному типу значения в столбце year_of_release\n",
    "- Приведение к действительным числам значения в столбце user_score\n",
    "- Добавление столбца с суммарными продажами"
   ]
  },
  {
   "cell_type": "code",
   "execution_count": 5,
   "metadata": {},
   "outputs": [],
   "source": [
    "# перевод наименования столбцов в нижний регистр\n",
    "data.columns = data.columns.str.lower()"
   ]
  },
  {
   "cell_type": "markdown",
   "metadata": {},
   "source": [
    "### Обработка имени и жанра игр"
   ]
  },
  {
   "cell_type": "code",
   "execution_count": 6,
   "metadata": {},
   "outputs": [
    {
     "data": {
      "text/html": [
       "<div>\n",
       "<style scoped>\n",
       "    .dataframe tbody tr th:only-of-type {\n",
       "        vertical-align: middle;\n",
       "    }\n",
       "\n",
       "    .dataframe tbody tr th {\n",
       "        vertical-align: top;\n",
       "    }\n",
       "\n",
       "    .dataframe thead th {\n",
       "        text-align: right;\n",
       "    }\n",
       "</style>\n",
       "<table border=\"1\" class=\"dataframe\">\n",
       "  <thead>\n",
       "    <tr style=\"text-align: right;\">\n",
       "      <th></th>\n",
       "      <th>name</th>\n",
       "      <th>platform</th>\n",
       "      <th>year_of_release</th>\n",
       "      <th>genre</th>\n",
       "      <th>na_sales</th>\n",
       "      <th>eu_sales</th>\n",
       "      <th>jp_sales</th>\n",
       "      <th>other_sales</th>\n",
       "      <th>critic_score</th>\n",
       "      <th>user_score</th>\n",
       "      <th>rating</th>\n",
       "    </tr>\n",
       "  </thead>\n",
       "  <tbody>\n",
       "    <tr>\n",
       "      <th>659</th>\n",
       "      <td>NaN</td>\n",
       "      <td>GEN</td>\n",
       "      <td>1993.0</td>\n",
       "      <td>NaN</td>\n",
       "      <td>1.78</td>\n",
       "      <td>0.53</td>\n",
       "      <td>0.00</td>\n",
       "      <td>0.08</td>\n",
       "      <td>NaN</td>\n",
       "      <td>NaN</td>\n",
       "      <td>NaN</td>\n",
       "    </tr>\n",
       "    <tr>\n",
       "      <th>14244</th>\n",
       "      <td>NaN</td>\n",
       "      <td>GEN</td>\n",
       "      <td>1993.0</td>\n",
       "      <td>NaN</td>\n",
       "      <td>0.00</td>\n",
       "      <td>0.00</td>\n",
       "      <td>0.03</td>\n",
       "      <td>0.00</td>\n",
       "      <td>NaN</td>\n",
       "      <td>NaN</td>\n",
       "      <td>NaN</td>\n",
       "    </tr>\n",
       "  </tbody>\n",
       "</table>\n",
       "</div>"
      ],
      "text/plain": [
       "      name platform  year_of_release genre  na_sales  eu_sales  jp_sales  \\\n",
       "659    NaN      GEN           1993.0   NaN      1.78      0.53      0.00   \n",
       "14244  NaN      GEN           1993.0   NaN      0.00      0.00      0.03   \n",
       "\n",
       "       other_sales  critic_score user_score rating  \n",
       "659           0.08           NaN        NaN    NaN  \n",
       "14244         0.00           NaN        NaN    NaN  "
      ]
     },
     "execution_count": 6,
     "metadata": {},
     "output_type": "execute_result"
    }
   ],
   "source": [
    "data[data['name'].isna()] # проверка пропущенных значений в столбце name"
   ]
  },
  {
   "cell_type": "markdown",
   "metadata": {},
   "source": [
    "В этих строках неизвестно название игры, без этой информации нет смысла анализировать данные строки. На всякий случай проверим, в каких еще строках есть платформа `GEN`, может быть на ней выпускалась одна игра и мы сможем восстановить данные."
   ]
  },
  {
   "cell_type": "code",
   "execution_count": 7,
   "metadata": {
    "scrolled": true
   },
   "outputs": [
    {
     "data": {
      "text/html": [
       "<div>\n",
       "<style scoped>\n",
       "    .dataframe tbody tr th:only-of-type {\n",
       "        vertical-align: middle;\n",
       "    }\n",
       "\n",
       "    .dataframe tbody tr th {\n",
       "        vertical-align: top;\n",
       "    }\n",
       "\n",
       "    .dataframe thead th {\n",
       "        text-align: right;\n",
       "    }\n",
       "</style>\n",
       "<table border=\"1\" class=\"dataframe\">\n",
       "  <thead>\n",
       "    <tr style=\"text-align: right;\">\n",
       "      <th></th>\n",
       "      <th>name</th>\n",
       "      <th>platform</th>\n",
       "      <th>year_of_release</th>\n",
       "      <th>genre</th>\n",
       "      <th>na_sales</th>\n",
       "      <th>eu_sales</th>\n",
       "      <th>jp_sales</th>\n",
       "      <th>other_sales</th>\n",
       "      <th>critic_score</th>\n",
       "      <th>user_score</th>\n",
       "      <th>rating</th>\n",
       "    </tr>\n",
       "  </thead>\n",
       "  <tbody>\n",
       "    <tr>\n",
       "      <th>145</th>\n",
       "      <td>Sonic the Hedgehog 2</td>\n",
       "      <td>GEN</td>\n",
       "      <td>1992.0</td>\n",
       "      <td>Platform</td>\n",
       "      <td>4.47</td>\n",
       "      <td>1.20</td>\n",
       "      <td>0.16</td>\n",
       "      <td>0.19</td>\n",
       "      <td>NaN</td>\n",
       "      <td>NaN</td>\n",
       "      <td>NaN</td>\n",
       "    </tr>\n",
       "    <tr>\n",
       "      <th>257</th>\n",
       "      <td>Sonic the Hedgehog</td>\n",
       "      <td>GEN</td>\n",
       "      <td>1991.0</td>\n",
       "      <td>Platform</td>\n",
       "      <td>3.03</td>\n",
       "      <td>0.91</td>\n",
       "      <td>0.26</td>\n",
       "      <td>0.13</td>\n",
       "      <td>NaN</td>\n",
       "      <td>NaN</td>\n",
       "      <td>NaN</td>\n",
       "    </tr>\n",
       "    <tr>\n",
       "      <th>564</th>\n",
       "      <td>Mortal Kombat</td>\n",
       "      <td>GEN</td>\n",
       "      <td>1992.0</td>\n",
       "      <td>Fighting</td>\n",
       "      <td>1.95</td>\n",
       "      <td>0.63</td>\n",
       "      <td>0.00</td>\n",
       "      <td>0.09</td>\n",
       "      <td>NaN</td>\n",
       "      <td>NaN</td>\n",
       "      <td>NaN</td>\n",
       "    </tr>\n",
       "    <tr>\n",
       "      <th>588</th>\n",
       "      <td>Streets of Rage</td>\n",
       "      <td>GEN</td>\n",
       "      <td>1990.0</td>\n",
       "      <td>Action</td>\n",
       "      <td>1.86</td>\n",
       "      <td>0.55</td>\n",
       "      <td>0.11</td>\n",
       "      <td>0.08</td>\n",
       "      <td>NaN</td>\n",
       "      <td>NaN</td>\n",
       "      <td>NaN</td>\n",
       "    </tr>\n",
       "    <tr>\n",
       "      <th>659</th>\n",
       "      <td>NaN</td>\n",
       "      <td>GEN</td>\n",
       "      <td>1993.0</td>\n",
       "      <td>NaN</td>\n",
       "      <td>1.78</td>\n",
       "      <td>0.53</td>\n",
       "      <td>0.00</td>\n",
       "      <td>0.08</td>\n",
       "      <td>NaN</td>\n",
       "      <td>NaN</td>\n",
       "      <td>NaN</td>\n",
       "    </tr>\n",
       "    <tr>\n",
       "      <th>832</th>\n",
       "      <td>NBA Jam</td>\n",
       "      <td>GEN</td>\n",
       "      <td>1992.0</td>\n",
       "      <td>Sports</td>\n",
       "      <td>1.75</td>\n",
       "      <td>0.25</td>\n",
       "      <td>0.00</td>\n",
       "      <td>0.05</td>\n",
       "      <td>NaN</td>\n",
       "      <td>NaN</td>\n",
       "      <td>NaN</td>\n",
       "    </tr>\n",
       "    <tr>\n",
       "      <th>960</th>\n",
       "      <td>Sonic &amp; Knuckles</td>\n",
       "      <td>GEN</td>\n",
       "      <td>1994.0</td>\n",
       "      <td>Platform</td>\n",
       "      <td>1.24</td>\n",
       "      <td>0.43</td>\n",
       "      <td>0.03</td>\n",
       "      <td>0.12</td>\n",
       "      <td>NaN</td>\n",
       "      <td>NaN</td>\n",
       "      <td>NaN</td>\n",
       "    </tr>\n",
       "    <tr>\n",
       "      <th>996</th>\n",
       "      <td>Sonic the Hedgehog 3</td>\n",
       "      <td>GEN</td>\n",
       "      <td>1994.0</td>\n",
       "      <td>Platform</td>\n",
       "      <td>1.02</td>\n",
       "      <td>0.47</td>\n",
       "      <td>0.20</td>\n",
       "      <td>0.07</td>\n",
       "      <td>NaN</td>\n",
       "      <td>NaN</td>\n",
       "      <td>NaN</td>\n",
       "    </tr>\n",
       "    <tr>\n",
       "      <th>1099</th>\n",
       "      <td>Street Fighter II': Special Champion Edition</td>\n",
       "      <td>GEN</td>\n",
       "      <td>1992.0</td>\n",
       "      <td>Fighting</td>\n",
       "      <td>1.00</td>\n",
       "      <td>0.30</td>\n",
       "      <td>0.31</td>\n",
       "      <td>0.04</td>\n",
       "      <td>NaN</td>\n",
       "      <td>NaN</td>\n",
       "      <td>NaN</td>\n",
       "    </tr>\n",
       "    <tr>\n",
       "      <th>1365</th>\n",
       "      <td>Disney's The Lion King</td>\n",
       "      <td>GEN</td>\n",
       "      <td>1994.0</td>\n",
       "      <td>Platform</td>\n",
       "      <td>0.97</td>\n",
       "      <td>0.37</td>\n",
       "      <td>0.03</td>\n",
       "      <td>0.05</td>\n",
       "      <td>NaN</td>\n",
       "      <td>NaN</td>\n",
       "      <td>NaN</td>\n",
       "    </tr>\n",
       "    <tr>\n",
       "      <th>1453</th>\n",
       "      <td>Mortal Kombat 3</td>\n",
       "      <td>GEN</td>\n",
       "      <td>1994.0</td>\n",
       "      <td>Fighting</td>\n",
       "      <td>1.03</td>\n",
       "      <td>0.27</td>\n",
       "      <td>0.00</td>\n",
       "      <td>0.04</td>\n",
       "      <td>NaN</td>\n",
       "      <td>NaN</td>\n",
       "      <td>NaN</td>\n",
       "    </tr>\n",
       "    <tr>\n",
       "      <th>1842</th>\n",
       "      <td>NBA Jam Tournament Edition</td>\n",
       "      <td>GEN</td>\n",
       "      <td>1994.0</td>\n",
       "      <td>Sports</td>\n",
       "      <td>0.95</td>\n",
       "      <td>0.14</td>\n",
       "      <td>0.00</td>\n",
       "      <td>0.03</td>\n",
       "      <td>NaN</td>\n",
       "      <td>NaN</td>\n",
       "      <td>NaN</td>\n",
       "    </tr>\n",
       "    <tr>\n",
       "      <th>6451</th>\n",
       "      <td>Virtua Racing</td>\n",
       "      <td>GEN</td>\n",
       "      <td>1994.0</td>\n",
       "      <td>Racing</td>\n",
       "      <td>0.00</td>\n",
       "      <td>0.00</td>\n",
       "      <td>0.26</td>\n",
       "      <td>0.00</td>\n",
       "      <td>NaN</td>\n",
       "      <td>NaN</td>\n",
       "      <td>NaN</td>\n",
       "    </tr>\n",
       "    <tr>\n",
       "      <th>7885</th>\n",
       "      <td>Shining Force II</td>\n",
       "      <td>GEN</td>\n",
       "      <td>1993.0</td>\n",
       "      <td>Strategy</td>\n",
       "      <td>0.00</td>\n",
       "      <td>0.00</td>\n",
       "      <td>0.19</td>\n",
       "      <td>0.00</td>\n",
       "      <td>NaN</td>\n",
       "      <td>NaN</td>\n",
       "      <td>NaN</td>\n",
       "    </tr>\n",
       "    <tr>\n",
       "      <th>8893</th>\n",
       "      <td>Super Street Fighter II</td>\n",
       "      <td>GEN</td>\n",
       "      <td>1993.0</td>\n",
       "      <td>Fighting</td>\n",
       "      <td>0.00</td>\n",
       "      <td>0.00</td>\n",
       "      <td>0.15</td>\n",
       "      <td>0.00</td>\n",
       "      <td>NaN</td>\n",
       "      <td>NaN</td>\n",
       "      <td>NaN</td>\n",
       "    </tr>\n",
       "    <tr>\n",
       "      <th>9000</th>\n",
       "      <td>Lunar 2: Eternal Blue(sales, but wrong system)</td>\n",
       "      <td>GEN</td>\n",
       "      <td>1994.0</td>\n",
       "      <td>Role-Playing</td>\n",
       "      <td>0.00</td>\n",
       "      <td>0.00</td>\n",
       "      <td>0.14</td>\n",
       "      <td>0.00</td>\n",
       "      <td>NaN</td>\n",
       "      <td>NaN</td>\n",
       "      <td>NaN</td>\n",
       "    </tr>\n",
       "    <tr>\n",
       "      <th>9563</th>\n",
       "      <td>Gunstar Heroes</td>\n",
       "      <td>GEN</td>\n",
       "      <td>1992.0</td>\n",
       "      <td>Shooter</td>\n",
       "      <td>0.00</td>\n",
       "      <td>0.00</td>\n",
       "      <td>0.13</td>\n",
       "      <td>0.00</td>\n",
       "      <td>NaN</td>\n",
       "      <td>NaN</td>\n",
       "      <td>NaN</td>\n",
       "    </tr>\n",
       "    <tr>\n",
       "      <th>9787</th>\n",
       "      <td>Ecco the Dolphin</td>\n",
       "      <td>GEN</td>\n",
       "      <td>1992.0</td>\n",
       "      <td>Adventure</td>\n",
       "      <td>0.00</td>\n",
       "      <td>0.00</td>\n",
       "      <td>0.12</td>\n",
       "      <td>0.00</td>\n",
       "      <td>NaN</td>\n",
       "      <td>NaN</td>\n",
       "      <td>NaN</td>\n",
       "    </tr>\n",
       "    <tr>\n",
       "      <th>11563</th>\n",
       "      <td>Yuu Yuu Hakusho: Makyo Toitsusen</td>\n",
       "      <td>GEN</td>\n",
       "      <td>1994.0</td>\n",
       "      <td>Fighting</td>\n",
       "      <td>0.00</td>\n",
       "      <td>0.00</td>\n",
       "      <td>0.08</td>\n",
       "      <td>0.00</td>\n",
       "      <td>NaN</td>\n",
       "      <td>NaN</td>\n",
       "      <td>NaN</td>\n",
       "    </tr>\n",
       "    <tr>\n",
       "      <th>11660</th>\n",
       "      <td>Dragon Slayer: The Legend of Heroes</td>\n",
       "      <td>GEN</td>\n",
       "      <td>1994.0</td>\n",
       "      <td>Role-Playing</td>\n",
       "      <td>0.00</td>\n",
       "      <td>0.00</td>\n",
       "      <td>0.08</td>\n",
       "      <td>0.00</td>\n",
       "      <td>NaN</td>\n",
       "      <td>NaN</td>\n",
       "      <td>NaN</td>\n",
       "    </tr>\n",
       "    <tr>\n",
       "      <th>11986</th>\n",
       "      <td>Ecco: The Tides of Time</td>\n",
       "      <td>GEN</td>\n",
       "      <td>1993.0</td>\n",
       "      <td>Adventure</td>\n",
       "      <td>0.00</td>\n",
       "      <td>0.00</td>\n",
       "      <td>0.07</td>\n",
       "      <td>0.00</td>\n",
       "      <td>NaN</td>\n",
       "      <td>NaN</td>\n",
       "      <td>NaN</td>\n",
       "    </tr>\n",
       "    <tr>\n",
       "      <th>12098</th>\n",
       "      <td>Street Fighter II': Special Champion Edition (...</td>\n",
       "      <td>GEN</td>\n",
       "      <td>1993.0</td>\n",
       "      <td>Action</td>\n",
       "      <td>0.00</td>\n",
       "      <td>0.00</td>\n",
       "      <td>0.07</td>\n",
       "      <td>0.00</td>\n",
       "      <td>NaN</td>\n",
       "      <td>NaN</td>\n",
       "      <td>NaN</td>\n",
       "    </tr>\n",
       "    <tr>\n",
       "      <th>12264</th>\n",
       "      <td>Streets of Rage 3</td>\n",
       "      <td>GEN</td>\n",
       "      <td>1993.0</td>\n",
       "      <td>Action</td>\n",
       "      <td>0.00</td>\n",
       "      <td>0.00</td>\n",
       "      <td>0.07</td>\n",
       "      <td>0.00</td>\n",
       "      <td>NaN</td>\n",
       "      <td>NaN</td>\n",
       "      <td>NaN</td>\n",
       "    </tr>\n",
       "    <tr>\n",
       "      <th>12984</th>\n",
       "      <td>Dynamite Headdy</td>\n",
       "      <td>GEN</td>\n",
       "      <td>1993.0</td>\n",
       "      <td>Platform</td>\n",
       "      <td>0.00</td>\n",
       "      <td>0.00</td>\n",
       "      <td>0.05</td>\n",
       "      <td>0.00</td>\n",
       "      <td>NaN</td>\n",
       "      <td>NaN</td>\n",
       "      <td>NaN</td>\n",
       "    </tr>\n",
       "    <tr>\n",
       "      <th>13343</th>\n",
       "      <td>Beyond Oasis</td>\n",
       "      <td>GEN</td>\n",
       "      <td>1993.0</td>\n",
       "      <td>Role-Playing</td>\n",
       "      <td>0.00</td>\n",
       "      <td>0.00</td>\n",
       "      <td>0.05</td>\n",
       "      <td>0.00</td>\n",
       "      <td>NaN</td>\n",
       "      <td>NaN</td>\n",
       "      <td>NaN</td>\n",
       "    </tr>\n",
       "    <tr>\n",
       "      <th>14085</th>\n",
       "      <td>J-League Pro Striker 2</td>\n",
       "      <td>GEN</td>\n",
       "      <td>1994.0</td>\n",
       "      <td>Sports</td>\n",
       "      <td>0.00</td>\n",
       "      <td>0.00</td>\n",
       "      <td>0.04</td>\n",
       "      <td>0.00</td>\n",
       "      <td>NaN</td>\n",
       "      <td>NaN</td>\n",
       "      <td>NaN</td>\n",
       "    </tr>\n",
       "    <tr>\n",
       "      <th>14132</th>\n",
       "      <td>Castlevania Bloodlines</td>\n",
       "      <td>GEN</td>\n",
       "      <td>1994.0</td>\n",
       "      <td>Platform</td>\n",
       "      <td>0.00</td>\n",
       "      <td>0.00</td>\n",
       "      <td>0.04</td>\n",
       "      <td>0.00</td>\n",
       "      <td>NaN</td>\n",
       "      <td>NaN</td>\n",
       "      <td>NaN</td>\n",
       "    </tr>\n",
       "    <tr>\n",
       "      <th>14244</th>\n",
       "      <td>NaN</td>\n",
       "      <td>GEN</td>\n",
       "      <td>1993.0</td>\n",
       "      <td>NaN</td>\n",
       "      <td>0.00</td>\n",
       "      <td>0.00</td>\n",
       "      <td>0.03</td>\n",
       "      <td>0.00</td>\n",
       "      <td>NaN</td>\n",
       "      <td>NaN</td>\n",
       "      <td>NaN</td>\n",
       "    </tr>\n",
       "    <tr>\n",
       "      <th>14488</th>\n",
       "      <td>Puzzle &amp; Action: Tant-R</td>\n",
       "      <td>GEN</td>\n",
       "      <td>1994.0</td>\n",
       "      <td>Misc</td>\n",
       "      <td>0.00</td>\n",
       "      <td>0.00</td>\n",
       "      <td>0.03</td>\n",
       "      <td>0.00</td>\n",
       "      <td>NaN</td>\n",
       "      <td>NaN</td>\n",
       "      <td>NaN</td>\n",
       "    </tr>\n",
       "  </tbody>\n",
       "</table>\n",
       "</div>"
      ],
      "text/plain": [
       "                                                    name platform  \\\n",
       "145                                 Sonic the Hedgehog 2      GEN   \n",
       "257                                   Sonic the Hedgehog      GEN   \n",
       "564                                        Mortal Kombat      GEN   \n",
       "588                                      Streets of Rage      GEN   \n",
       "659                                                  NaN      GEN   \n",
       "832                                              NBA Jam      GEN   \n",
       "960                                     Sonic & Knuckles      GEN   \n",
       "996                                 Sonic the Hedgehog 3      GEN   \n",
       "1099        Street Fighter II': Special Champion Edition      GEN   \n",
       "1365                              Disney's The Lion King      GEN   \n",
       "1453                                     Mortal Kombat 3      GEN   \n",
       "1842                          NBA Jam Tournament Edition      GEN   \n",
       "6451                                       Virtua Racing      GEN   \n",
       "7885                                    Shining Force II      GEN   \n",
       "8893                             Super Street Fighter II      GEN   \n",
       "9000      Lunar 2: Eternal Blue(sales, but wrong system)      GEN   \n",
       "9563                                      Gunstar Heroes      GEN   \n",
       "9787                                    Ecco the Dolphin      GEN   \n",
       "11563                   Yuu Yuu Hakusho: Makyo Toitsusen      GEN   \n",
       "11660                Dragon Slayer: The Legend of Heroes      GEN   \n",
       "11986                            Ecco: The Tides of Time      GEN   \n",
       "12098  Street Fighter II': Special Champion Edition (...      GEN   \n",
       "12264                                  Streets of Rage 3      GEN   \n",
       "12984                                    Dynamite Headdy      GEN   \n",
       "13343                                       Beyond Oasis      GEN   \n",
       "14085                             J-League Pro Striker 2      GEN   \n",
       "14132                             Castlevania Bloodlines      GEN   \n",
       "14244                                                NaN      GEN   \n",
       "14488                            Puzzle & Action: Tant-R      GEN   \n",
       "\n",
       "       year_of_release         genre  na_sales  eu_sales  jp_sales  \\\n",
       "145             1992.0      Platform      4.47      1.20      0.16   \n",
       "257             1991.0      Platform      3.03      0.91      0.26   \n",
       "564             1992.0      Fighting      1.95      0.63      0.00   \n",
       "588             1990.0        Action      1.86      0.55      0.11   \n",
       "659             1993.0           NaN      1.78      0.53      0.00   \n",
       "832             1992.0        Sports      1.75      0.25      0.00   \n",
       "960             1994.0      Platform      1.24      0.43      0.03   \n",
       "996             1994.0      Platform      1.02      0.47      0.20   \n",
       "1099            1992.0      Fighting      1.00      0.30      0.31   \n",
       "1365            1994.0      Platform      0.97      0.37      0.03   \n",
       "1453            1994.0      Fighting      1.03      0.27      0.00   \n",
       "1842            1994.0        Sports      0.95      0.14      0.00   \n",
       "6451            1994.0        Racing      0.00      0.00      0.26   \n",
       "7885            1993.0      Strategy      0.00      0.00      0.19   \n",
       "8893            1993.0      Fighting      0.00      0.00      0.15   \n",
       "9000            1994.0  Role-Playing      0.00      0.00      0.14   \n",
       "9563            1992.0       Shooter      0.00      0.00      0.13   \n",
       "9787            1992.0     Adventure      0.00      0.00      0.12   \n",
       "11563           1994.0      Fighting      0.00      0.00      0.08   \n",
       "11660           1994.0  Role-Playing      0.00      0.00      0.08   \n",
       "11986           1993.0     Adventure      0.00      0.00      0.07   \n",
       "12098           1993.0        Action      0.00      0.00      0.07   \n",
       "12264           1993.0        Action      0.00      0.00      0.07   \n",
       "12984           1993.0      Platform      0.00      0.00      0.05   \n",
       "13343           1993.0  Role-Playing      0.00      0.00      0.05   \n",
       "14085           1994.0        Sports      0.00      0.00      0.04   \n",
       "14132           1994.0      Platform      0.00      0.00      0.04   \n",
       "14244           1993.0           NaN      0.00      0.00      0.03   \n",
       "14488           1994.0          Misc      0.00      0.00      0.03   \n",
       "\n",
       "       other_sales  critic_score user_score rating  \n",
       "145           0.19           NaN        NaN    NaN  \n",
       "257           0.13           NaN        NaN    NaN  \n",
       "564           0.09           NaN        NaN    NaN  \n",
       "588           0.08           NaN        NaN    NaN  \n",
       "659           0.08           NaN        NaN    NaN  \n",
       "832           0.05           NaN        NaN    NaN  \n",
       "960           0.12           NaN        NaN    NaN  \n",
       "996           0.07           NaN        NaN    NaN  \n",
       "1099          0.04           NaN        NaN    NaN  \n",
       "1365          0.05           NaN        NaN    NaN  \n",
       "1453          0.04           NaN        NaN    NaN  \n",
       "1842          0.03           NaN        NaN    NaN  \n",
       "6451          0.00           NaN        NaN    NaN  \n",
       "7885          0.00           NaN        NaN    NaN  \n",
       "8893          0.00           NaN        NaN    NaN  \n",
       "9000          0.00           NaN        NaN    NaN  \n",
       "9563          0.00           NaN        NaN    NaN  \n",
       "9787          0.00           NaN        NaN    NaN  \n",
       "11563         0.00           NaN        NaN    NaN  \n",
       "11660         0.00           NaN        NaN    NaN  \n",
       "11986         0.00           NaN        NaN    NaN  \n",
       "12098         0.00           NaN        NaN    NaN  \n",
       "12264         0.00           NaN        NaN    NaN  \n",
       "12984         0.00           NaN        NaN    NaN  \n",
       "13343         0.00           NaN        NaN    NaN  \n",
       "14085         0.00           NaN        NaN    NaN  \n",
       "14132         0.00           NaN        NaN    NaN  \n",
       "14244         0.00           NaN        NaN    NaN  \n",
       "14488         0.00           NaN        NaN    NaN  "
      ]
     },
     "execution_count": 7,
     "metadata": {},
     "output_type": "execute_result"
    }
   ],
   "source": [
    "data[data['platform'] == \"GEN\"]"
   ]
  },
  {
   "cell_type": "markdown",
   "metadata": {},
   "source": [
    "По срезу не удалось выявить только одну игру, поэтому восстановить названия игр нет возможности. Значит, надо удалить строки, в которых нет названия игры."
   ]
  },
  {
   "cell_type": "code",
   "execution_count": 8,
   "metadata": {},
   "outputs": [
    {
     "name": "stdout",
     "output_type": "stream",
     "text": [
      "<class 'pandas.core.frame.DataFrame'>\n",
      "Int64Index: 16713 entries, 0 to 16714\n",
      "Data columns (total 11 columns):\n",
      " #   Column           Non-Null Count  Dtype  \n",
      "---  ------           --------------  -----  \n",
      " 0   name             16713 non-null  object \n",
      " 1   platform         16713 non-null  object \n",
      " 2   year_of_release  16444 non-null  float64\n",
      " 3   genre            16713 non-null  object \n",
      " 4   na_sales         16713 non-null  float64\n",
      " 5   eu_sales         16713 non-null  float64\n",
      " 6   jp_sales         16713 non-null  float64\n",
      " 7   other_sales      16713 non-null  float64\n",
      " 8   critic_score     8137 non-null   float64\n",
      " 9   user_score       10014 non-null  object \n",
      " 10  rating           9949 non-null   object \n",
      "dtypes: float64(6), object(5)\n",
      "memory usage: 1.5+ MB\n"
     ]
    }
   ],
   "source": [
    "data = data.dropna(subset=['name'])\n",
    "data.info()"
   ]
  },
  {
   "cell_type": "markdown",
   "metadata": {},
   "source": [
    "### Обработка года выпуска игр"
   ]
  },
  {
   "cell_type": "markdown",
   "metadata": {},
   "source": [
    "Так как в дальнейшем анализе год выпуска игры будет играть большую роль, то необходимо перевести год в целочисленный тип. Для этого решим, что делать с пропусками. "
   ]
  },
  {
   "cell_type": "code",
   "execution_count": 9,
   "metadata": {},
   "outputs": [
    {
     "name": "stdout",
     "output_type": "stream",
     "text": [
      "1.61\n"
     ]
    },
    {
     "data": {
      "text/html": [
       "<div>\n",
       "<style scoped>\n",
       "    .dataframe tbody tr th:only-of-type {\n",
       "        vertical-align: middle;\n",
       "    }\n",
       "\n",
       "    .dataframe tbody tr th {\n",
       "        vertical-align: top;\n",
       "    }\n",
       "\n",
       "    .dataframe thead th {\n",
       "        text-align: right;\n",
       "    }\n",
       "</style>\n",
       "<table border=\"1\" class=\"dataframe\">\n",
       "  <thead>\n",
       "    <tr style=\"text-align: right;\">\n",
       "      <th></th>\n",
       "      <th>name</th>\n",
       "      <th>platform</th>\n",
       "      <th>year_of_release</th>\n",
       "      <th>genre</th>\n",
       "      <th>na_sales</th>\n",
       "      <th>eu_sales</th>\n",
       "      <th>jp_sales</th>\n",
       "      <th>other_sales</th>\n",
       "      <th>critic_score</th>\n",
       "      <th>user_score</th>\n",
       "      <th>rating</th>\n",
       "    </tr>\n",
       "  </thead>\n",
       "  <tbody>\n",
       "    <tr>\n",
       "      <th>183</th>\n",
       "      <td>Madden NFL 2004</td>\n",
       "      <td>PS2</td>\n",
       "      <td>NaN</td>\n",
       "      <td>Sports</td>\n",
       "      <td>4.26</td>\n",
       "      <td>0.26</td>\n",
       "      <td>0.01</td>\n",
       "      <td>0.71</td>\n",
       "      <td>94.0</td>\n",
       "      <td>8.5</td>\n",
       "      <td>E</td>\n",
       "    </tr>\n",
       "    <tr>\n",
       "      <th>377</th>\n",
       "      <td>FIFA Soccer 2004</td>\n",
       "      <td>PS2</td>\n",
       "      <td>NaN</td>\n",
       "      <td>Sports</td>\n",
       "      <td>0.59</td>\n",
       "      <td>2.36</td>\n",
       "      <td>0.04</td>\n",
       "      <td>0.51</td>\n",
       "      <td>84.0</td>\n",
       "      <td>6.4</td>\n",
       "      <td>E</td>\n",
       "    </tr>\n",
       "    <tr>\n",
       "      <th>456</th>\n",
       "      <td>LEGO Batman: The Videogame</td>\n",
       "      <td>Wii</td>\n",
       "      <td>NaN</td>\n",
       "      <td>Action</td>\n",
       "      <td>1.80</td>\n",
       "      <td>0.97</td>\n",
       "      <td>0.00</td>\n",
       "      <td>0.29</td>\n",
       "      <td>74.0</td>\n",
       "      <td>7.9</td>\n",
       "      <td>E10+</td>\n",
       "    </tr>\n",
       "    <tr>\n",
       "      <th>475</th>\n",
       "      <td>wwe Smackdown vs. Raw 2006</td>\n",
       "      <td>PS2</td>\n",
       "      <td>NaN</td>\n",
       "      <td>Fighting</td>\n",
       "      <td>1.57</td>\n",
       "      <td>1.02</td>\n",
       "      <td>0.00</td>\n",
       "      <td>0.41</td>\n",
       "      <td>NaN</td>\n",
       "      <td>NaN</td>\n",
       "      <td>NaN</td>\n",
       "    </tr>\n",
       "    <tr>\n",
       "      <th>609</th>\n",
       "      <td>Space Invaders</td>\n",
       "      <td>2600</td>\n",
       "      <td>NaN</td>\n",
       "      <td>Shooter</td>\n",
       "      <td>2.36</td>\n",
       "      <td>0.14</td>\n",
       "      <td>0.00</td>\n",
       "      <td>0.03</td>\n",
       "      <td>NaN</td>\n",
       "      <td>NaN</td>\n",
       "      <td>NaN</td>\n",
       "    </tr>\n",
       "    <tr>\n",
       "      <th>...</th>\n",
       "      <td>...</td>\n",
       "      <td>...</td>\n",
       "      <td>...</td>\n",
       "      <td>...</td>\n",
       "      <td>...</td>\n",
       "      <td>...</td>\n",
       "      <td>...</td>\n",
       "      <td>...</td>\n",
       "      <td>...</td>\n",
       "      <td>...</td>\n",
       "      <td>...</td>\n",
       "    </tr>\n",
       "    <tr>\n",
       "      <th>16373</th>\n",
       "      <td>PDC World Championship Darts 2008</td>\n",
       "      <td>PSP</td>\n",
       "      <td>NaN</td>\n",
       "      <td>Sports</td>\n",
       "      <td>0.01</td>\n",
       "      <td>0.00</td>\n",
       "      <td>0.00</td>\n",
       "      <td>0.00</td>\n",
       "      <td>43.0</td>\n",
       "      <td>tbd</td>\n",
       "      <td>E10+</td>\n",
       "    </tr>\n",
       "    <tr>\n",
       "      <th>16405</th>\n",
       "      <td>Freaky Flyers</td>\n",
       "      <td>GC</td>\n",
       "      <td>NaN</td>\n",
       "      <td>Racing</td>\n",
       "      <td>0.01</td>\n",
       "      <td>0.00</td>\n",
       "      <td>0.00</td>\n",
       "      <td>0.00</td>\n",
       "      <td>69.0</td>\n",
       "      <td>6.5</td>\n",
       "      <td>T</td>\n",
       "    </tr>\n",
       "    <tr>\n",
       "      <th>16448</th>\n",
       "      <td>Inversion</td>\n",
       "      <td>PC</td>\n",
       "      <td>NaN</td>\n",
       "      <td>Shooter</td>\n",
       "      <td>0.01</td>\n",
       "      <td>0.00</td>\n",
       "      <td>0.00</td>\n",
       "      <td>0.00</td>\n",
       "      <td>59.0</td>\n",
       "      <td>6.7</td>\n",
       "      <td>M</td>\n",
       "    </tr>\n",
       "    <tr>\n",
       "      <th>16458</th>\n",
       "      <td>Hakuouki: Shinsengumi Kitan</td>\n",
       "      <td>PS3</td>\n",
       "      <td>NaN</td>\n",
       "      <td>Adventure</td>\n",
       "      <td>0.01</td>\n",
       "      <td>0.00</td>\n",
       "      <td>0.00</td>\n",
       "      <td>0.00</td>\n",
       "      <td>NaN</td>\n",
       "      <td>NaN</td>\n",
       "      <td>NaN</td>\n",
       "    </tr>\n",
       "    <tr>\n",
       "      <th>16522</th>\n",
       "      <td>Virtua Quest</td>\n",
       "      <td>GC</td>\n",
       "      <td>NaN</td>\n",
       "      <td>Role-Playing</td>\n",
       "      <td>0.01</td>\n",
       "      <td>0.00</td>\n",
       "      <td>0.00</td>\n",
       "      <td>0.00</td>\n",
       "      <td>55.0</td>\n",
       "      <td>5.5</td>\n",
       "      <td>T</td>\n",
       "    </tr>\n",
       "  </tbody>\n",
       "</table>\n",
       "<p>269 rows × 11 columns</p>\n",
       "</div>"
      ],
      "text/plain": [
       "                                    name platform  year_of_release  \\\n",
       "183                      Madden NFL 2004      PS2              NaN   \n",
       "377                     FIFA Soccer 2004      PS2              NaN   \n",
       "456           LEGO Batman: The Videogame      Wii              NaN   \n",
       "475           wwe Smackdown vs. Raw 2006      PS2              NaN   \n",
       "609                       Space Invaders     2600              NaN   \n",
       "...                                  ...      ...              ...   \n",
       "16373  PDC World Championship Darts 2008      PSP              NaN   \n",
       "16405                      Freaky Flyers       GC              NaN   \n",
       "16448                          Inversion       PC              NaN   \n",
       "16458        Hakuouki: Shinsengumi Kitan      PS3              NaN   \n",
       "16522                       Virtua Quest       GC              NaN   \n",
       "\n",
       "              genre  na_sales  eu_sales  jp_sales  other_sales  critic_score  \\\n",
       "183          Sports      4.26      0.26      0.01         0.71          94.0   \n",
       "377          Sports      0.59      2.36      0.04         0.51          84.0   \n",
       "456          Action      1.80      0.97      0.00         0.29          74.0   \n",
       "475        Fighting      1.57      1.02      0.00         0.41           NaN   \n",
       "609         Shooter      2.36      0.14      0.00         0.03           NaN   \n",
       "...             ...       ...       ...       ...          ...           ...   \n",
       "16373        Sports      0.01      0.00      0.00         0.00          43.0   \n",
       "16405        Racing      0.01      0.00      0.00         0.00          69.0   \n",
       "16448       Shooter      0.01      0.00      0.00         0.00          59.0   \n",
       "16458     Adventure      0.01      0.00      0.00         0.00           NaN   \n",
       "16522  Role-Playing      0.01      0.00      0.00         0.00          55.0   \n",
       "\n",
       "      user_score rating  \n",
       "183          8.5      E  \n",
       "377          6.4      E  \n",
       "456          7.9   E10+  \n",
       "475          NaN    NaN  \n",
       "609          NaN    NaN  \n",
       "...          ...    ...  \n",
       "16373        tbd   E10+  \n",
       "16405        6.5      T  \n",
       "16448        6.7      M  \n",
       "16458        NaN    NaN  \n",
       "16522        5.5      T  \n",
       "\n",
       "[269 rows x 11 columns]"
      ]
     },
     "execution_count": 9,
     "metadata": {},
     "output_type": "execute_result"
    }
   ],
   "source": [
    "print(round(len(data[data['year_of_release'].isna()])/len(data)*100, 2))\n",
    "data[data['year_of_release'].isna()]"
   ]
  },
  {
   "cell_type": "markdown",
   "metadata": {},
   "source": [
    "Пропущено 269 строк, что составляет 1.6% от всего ДатаФрейма, доля небольшая, но найдем возможность хотя бы частично заполнить пропущенные значения. Посмотрим на одну из игр, например, \"LEGO Batman: The Videogame\"."
   ]
  },
  {
   "cell_type": "code",
   "execution_count": 10,
   "metadata": {},
   "outputs": [
    {
     "data": {
      "text/html": [
       "<div>\n",
       "<style scoped>\n",
       "    .dataframe tbody tr th:only-of-type {\n",
       "        vertical-align: middle;\n",
       "    }\n",
       "\n",
       "    .dataframe tbody tr th {\n",
       "        vertical-align: top;\n",
       "    }\n",
       "\n",
       "    .dataframe thead th {\n",
       "        text-align: right;\n",
       "    }\n",
       "</style>\n",
       "<table border=\"1\" class=\"dataframe\">\n",
       "  <thead>\n",
       "    <tr style=\"text-align: right;\">\n",
       "      <th></th>\n",
       "      <th>name</th>\n",
       "      <th>platform</th>\n",
       "      <th>year_of_release</th>\n",
       "      <th>genre</th>\n",
       "      <th>na_sales</th>\n",
       "      <th>eu_sales</th>\n",
       "      <th>jp_sales</th>\n",
       "      <th>other_sales</th>\n",
       "      <th>critic_score</th>\n",
       "      <th>user_score</th>\n",
       "      <th>rating</th>\n",
       "    </tr>\n",
       "  </thead>\n",
       "  <tbody>\n",
       "    <tr>\n",
       "      <th>397</th>\n",
       "      <td>LEGO Batman: The Videogame</td>\n",
       "      <td>X360</td>\n",
       "      <td>2008.0</td>\n",
       "      <td>Action</td>\n",
       "      <td>2.04</td>\n",
       "      <td>1.02</td>\n",
       "      <td>0.0</td>\n",
       "      <td>0.32</td>\n",
       "      <td>76.0</td>\n",
       "      <td>7.9</td>\n",
       "      <td>E10+</td>\n",
       "    </tr>\n",
       "    <tr>\n",
       "      <th>456</th>\n",
       "      <td>LEGO Batman: The Videogame</td>\n",
       "      <td>Wii</td>\n",
       "      <td>NaN</td>\n",
       "      <td>Action</td>\n",
       "      <td>1.80</td>\n",
       "      <td>0.97</td>\n",
       "      <td>0.0</td>\n",
       "      <td>0.29</td>\n",
       "      <td>74.0</td>\n",
       "      <td>7.9</td>\n",
       "      <td>E10+</td>\n",
       "    </tr>\n",
       "    <tr>\n",
       "      <th>460</th>\n",
       "      <td>LEGO Batman: The Videogame</td>\n",
       "      <td>DS</td>\n",
       "      <td>2008.0</td>\n",
       "      <td>Action</td>\n",
       "      <td>1.75</td>\n",
       "      <td>1.01</td>\n",
       "      <td>0.0</td>\n",
       "      <td>0.29</td>\n",
       "      <td>72.0</td>\n",
       "      <td>8</td>\n",
       "      <td>E10+</td>\n",
       "    </tr>\n",
       "    <tr>\n",
       "      <th>1519</th>\n",
       "      <td>LEGO Batman: The Videogame</td>\n",
       "      <td>PS3</td>\n",
       "      <td>2008.0</td>\n",
       "      <td>Action</td>\n",
       "      <td>0.72</td>\n",
       "      <td>0.39</td>\n",
       "      <td>0.0</td>\n",
       "      <td>0.19</td>\n",
       "      <td>75.0</td>\n",
       "      <td>7.7</td>\n",
       "      <td>E10+</td>\n",
       "    </tr>\n",
       "    <tr>\n",
       "      <th>1538</th>\n",
       "      <td>LEGO Batman: The Videogame</td>\n",
       "      <td>PSP</td>\n",
       "      <td>NaN</td>\n",
       "      <td>Action</td>\n",
       "      <td>0.57</td>\n",
       "      <td>0.44</td>\n",
       "      <td>0.0</td>\n",
       "      <td>0.27</td>\n",
       "      <td>73.0</td>\n",
       "      <td>7.4</td>\n",
       "      <td>E10+</td>\n",
       "    </tr>\n",
       "    <tr>\n",
       "      <th>1553</th>\n",
       "      <td>LEGO Batman: The Videogame</td>\n",
       "      <td>PS2</td>\n",
       "      <td>2008.0</td>\n",
       "      <td>Action</td>\n",
       "      <td>0.72</td>\n",
       "      <td>0.03</td>\n",
       "      <td>0.0</td>\n",
       "      <td>0.52</td>\n",
       "      <td>77.0</td>\n",
       "      <td>8.9</td>\n",
       "      <td>E10+</td>\n",
       "    </tr>\n",
       "    <tr>\n",
       "      <th>12465</th>\n",
       "      <td>LEGO Batman: The Videogame</td>\n",
       "      <td>PC</td>\n",
       "      <td>2008.0</td>\n",
       "      <td>Action</td>\n",
       "      <td>0.02</td>\n",
       "      <td>0.03</td>\n",
       "      <td>0.0</td>\n",
       "      <td>0.01</td>\n",
       "      <td>80.0</td>\n",
       "      <td>7.8</td>\n",
       "      <td>E10+</td>\n",
       "    </tr>\n",
       "  </tbody>\n",
       "</table>\n",
       "</div>"
      ],
      "text/plain": [
       "                             name platform  year_of_release   genre  na_sales  \\\n",
       "397    LEGO Batman: The Videogame     X360           2008.0  Action      2.04   \n",
       "456    LEGO Batman: The Videogame      Wii              NaN  Action      1.80   \n",
       "460    LEGO Batman: The Videogame       DS           2008.0  Action      1.75   \n",
       "1519   LEGO Batman: The Videogame      PS3           2008.0  Action      0.72   \n",
       "1538   LEGO Batman: The Videogame      PSP              NaN  Action      0.57   \n",
       "1553   LEGO Batman: The Videogame      PS2           2008.0  Action      0.72   \n",
       "12465  LEGO Batman: The Videogame       PC           2008.0  Action      0.02   \n",
       "\n",
       "       eu_sales  jp_sales  other_sales  critic_score user_score rating  \n",
       "397        1.02       0.0         0.32          76.0        7.9   E10+  \n",
       "456        0.97       0.0         0.29          74.0        7.9   E10+  \n",
       "460        1.01       0.0         0.29          72.0          8   E10+  \n",
       "1519       0.39       0.0         0.19          75.0        7.7   E10+  \n",
       "1538       0.44       0.0         0.27          73.0        7.4   E10+  \n",
       "1553       0.03       0.0         0.52          77.0        8.9   E10+  \n",
       "12465      0.03       0.0         0.01          80.0        7.8   E10+  "
      ]
     },
     "execution_count": 10,
     "metadata": {},
     "output_type": "execute_result"
    }
   ],
   "source": [
    "data.query('name == \"LEGO Batman: The Videogame\"')"
   ]
  },
  {
   "cell_type": "markdown",
   "metadata": {},
   "source": [
    "Можно заметить, что эта игра выпускалась только в 2008г. на нескольких платформах. Значит, можно сделать вывод, что на пропущенных значениях также должен стоять 2008г. Таких игр в Датафрейме может быть несколько. Но если игра выпускалась в разные годы, то если внести только одно значение наугад, данные будут искажены. В итоге нам надо чтобы год выпуска игры был в единственном экземпляре, тогда можно заполнить пропущенные значения именно этим годом. Для этого:\n",
    "- Составим новую таблицу с названием игры и годом\n",
    "- Уберем все повторяющиеся значения, чтобы оставить только уникальный список\n",
    "- Посчитаем при помощи сводной таблицы, сколько раз встречается игра с разными годами выпуска и оставим только те игры, которые встречаются один раз\n",
    "- Подтянуть год выпуска методом merge() из основного Датафрейма, остальные данные удалить\n",
    "- Снова сделать удаление дубликатов, так как после слияния получится на одну игру несколько строк\n",
    "\n",
    "Таким образом, мы создадим словарь для игры с единственным и уникальным годом выпуска, потом из этого словаря возьмём значения для заполнения пропущенных значений."
   ]
  },
  {
   "cell_type": "code",
   "execution_count": 11,
   "metadata": {},
   "outputs": [],
   "source": [
    "unique_year = data[['name', 'year_of_release']].drop_duplicates().reset_index(drop=True)\n",
    "unique_year = unique_year.pivot_table(index='name', values='year_of_release', aggfunc='count').query('year_of_release == 1')\n",
    "unique_year = unique_year.merge(data, on= 'name').drop(columns = ['platform', 'genre', 'na_sales', 'eu_sales','jp_sales', 'other_sales', 'critic_score', 'user_score', 'rating'], axis = 1)\n",
    "unique_year = unique_year.drop_duplicates().reset_index(drop=True)"
   ]
  },
  {
   "cell_type": "markdown",
   "metadata": {},
   "source": [
    "Заполним пропущенные значения в data столбца 'year_of_release' по имени и году из таблицы unique_year. Для промежуточного подсчета возьмем медиану, так как она будет равна единственному значению в списке."
   ]
  },
  {
   "cell_type": "code",
   "execution_count": 12,
   "metadata": {},
   "outputs": [],
   "source": [
    "for name in data['name'].unique():\n",
    "    year = unique_year.loc[unique_year['name'] == name, 'year_of_release_y'].median()\n",
    "    data.loc[(data['year_of_release'].isna()) & (data['name'] == name), 'year_of_release'] = year"
   ]
  },
  {
   "cell_type": "code",
   "execution_count": 13,
   "metadata": {},
   "outputs": [
    {
     "data": {
      "text/html": [
       "<div>\n",
       "<style scoped>\n",
       "    .dataframe tbody tr th:only-of-type {\n",
       "        vertical-align: middle;\n",
       "    }\n",
       "\n",
       "    .dataframe tbody tr th {\n",
       "        vertical-align: top;\n",
       "    }\n",
       "\n",
       "    .dataframe thead th {\n",
       "        text-align: right;\n",
       "    }\n",
       "</style>\n",
       "<table border=\"1\" class=\"dataframe\">\n",
       "  <thead>\n",
       "    <tr style=\"text-align: right;\">\n",
       "      <th></th>\n",
       "      <th>name</th>\n",
       "      <th>platform</th>\n",
       "      <th>year_of_release</th>\n",
       "      <th>genre</th>\n",
       "      <th>na_sales</th>\n",
       "      <th>eu_sales</th>\n",
       "      <th>jp_sales</th>\n",
       "      <th>other_sales</th>\n",
       "      <th>critic_score</th>\n",
       "      <th>user_score</th>\n",
       "      <th>rating</th>\n",
       "    </tr>\n",
       "  </thead>\n",
       "  <tbody>\n",
       "    <tr>\n",
       "      <th>397</th>\n",
       "      <td>LEGO Batman: The Videogame</td>\n",
       "      <td>X360</td>\n",
       "      <td>2008.0</td>\n",
       "      <td>Action</td>\n",
       "      <td>2.04</td>\n",
       "      <td>1.02</td>\n",
       "      <td>0.0</td>\n",
       "      <td>0.32</td>\n",
       "      <td>76.0</td>\n",
       "      <td>7.9</td>\n",
       "      <td>E10+</td>\n",
       "    </tr>\n",
       "    <tr>\n",
       "      <th>456</th>\n",
       "      <td>LEGO Batman: The Videogame</td>\n",
       "      <td>Wii</td>\n",
       "      <td>2008.0</td>\n",
       "      <td>Action</td>\n",
       "      <td>1.80</td>\n",
       "      <td>0.97</td>\n",
       "      <td>0.0</td>\n",
       "      <td>0.29</td>\n",
       "      <td>74.0</td>\n",
       "      <td>7.9</td>\n",
       "      <td>E10+</td>\n",
       "    </tr>\n",
       "    <tr>\n",
       "      <th>460</th>\n",
       "      <td>LEGO Batman: The Videogame</td>\n",
       "      <td>DS</td>\n",
       "      <td>2008.0</td>\n",
       "      <td>Action</td>\n",
       "      <td>1.75</td>\n",
       "      <td>1.01</td>\n",
       "      <td>0.0</td>\n",
       "      <td>0.29</td>\n",
       "      <td>72.0</td>\n",
       "      <td>8</td>\n",
       "      <td>E10+</td>\n",
       "    </tr>\n",
       "    <tr>\n",
       "      <th>1519</th>\n",
       "      <td>LEGO Batman: The Videogame</td>\n",
       "      <td>PS3</td>\n",
       "      <td>2008.0</td>\n",
       "      <td>Action</td>\n",
       "      <td>0.72</td>\n",
       "      <td>0.39</td>\n",
       "      <td>0.0</td>\n",
       "      <td>0.19</td>\n",
       "      <td>75.0</td>\n",
       "      <td>7.7</td>\n",
       "      <td>E10+</td>\n",
       "    </tr>\n",
       "    <tr>\n",
       "      <th>1538</th>\n",
       "      <td>LEGO Batman: The Videogame</td>\n",
       "      <td>PSP</td>\n",
       "      <td>2008.0</td>\n",
       "      <td>Action</td>\n",
       "      <td>0.57</td>\n",
       "      <td>0.44</td>\n",
       "      <td>0.0</td>\n",
       "      <td>0.27</td>\n",
       "      <td>73.0</td>\n",
       "      <td>7.4</td>\n",
       "      <td>E10+</td>\n",
       "    </tr>\n",
       "    <tr>\n",
       "      <th>1553</th>\n",
       "      <td>LEGO Batman: The Videogame</td>\n",
       "      <td>PS2</td>\n",
       "      <td>2008.0</td>\n",
       "      <td>Action</td>\n",
       "      <td>0.72</td>\n",
       "      <td>0.03</td>\n",
       "      <td>0.0</td>\n",
       "      <td>0.52</td>\n",
       "      <td>77.0</td>\n",
       "      <td>8.9</td>\n",
       "      <td>E10+</td>\n",
       "    </tr>\n",
       "    <tr>\n",
       "      <th>12465</th>\n",
       "      <td>LEGO Batman: The Videogame</td>\n",
       "      <td>PC</td>\n",
       "      <td>2008.0</td>\n",
       "      <td>Action</td>\n",
       "      <td>0.02</td>\n",
       "      <td>0.03</td>\n",
       "      <td>0.0</td>\n",
       "      <td>0.01</td>\n",
       "      <td>80.0</td>\n",
       "      <td>7.8</td>\n",
       "      <td>E10+</td>\n",
       "    </tr>\n",
       "  </tbody>\n",
       "</table>\n",
       "</div>"
      ],
      "text/plain": [
       "                             name platform  year_of_release   genre  na_sales  \\\n",
       "397    LEGO Batman: The Videogame     X360           2008.0  Action      2.04   \n",
       "456    LEGO Batman: The Videogame      Wii           2008.0  Action      1.80   \n",
       "460    LEGO Batman: The Videogame       DS           2008.0  Action      1.75   \n",
       "1519   LEGO Batman: The Videogame      PS3           2008.0  Action      0.72   \n",
       "1538   LEGO Batman: The Videogame      PSP           2008.0  Action      0.57   \n",
       "1553   LEGO Batman: The Videogame      PS2           2008.0  Action      0.72   \n",
       "12465  LEGO Batman: The Videogame       PC           2008.0  Action      0.02   \n",
       "\n",
       "       eu_sales  jp_sales  other_sales  critic_score user_score rating  \n",
       "397        1.02       0.0         0.32          76.0        7.9   E10+  \n",
       "456        0.97       0.0         0.29          74.0        7.9   E10+  \n",
       "460        1.01       0.0         0.29          72.0          8   E10+  \n",
       "1519       0.39       0.0         0.19          75.0        7.7   E10+  \n",
       "1538       0.44       0.0         0.27          73.0        7.4   E10+  \n",
       "1553       0.03       0.0         0.52          77.0        8.9   E10+  \n",
       "12465      0.03       0.0         0.01          80.0        7.8   E10+  "
      ]
     },
     "execution_count": 13,
     "metadata": {},
     "output_type": "execute_result"
    }
   ],
   "source": [
    "data.query('name == \"LEGO Batman: The Videogame\"') # проверка заполнились ли значения"
   ]
  },
  {
   "cell_type": "code",
   "execution_count": 14,
   "metadata": {},
   "outputs": [
    {
     "name": "stdout",
     "output_type": "stream",
     "text": [
      "0.95\n"
     ]
    },
    {
     "data": {
      "text/html": [
       "<div>\n",
       "<style scoped>\n",
       "    .dataframe tbody tr th:only-of-type {\n",
       "        vertical-align: middle;\n",
       "    }\n",
       "\n",
       "    .dataframe tbody tr th {\n",
       "        vertical-align: top;\n",
       "    }\n",
       "\n",
       "    .dataframe thead th {\n",
       "        text-align: right;\n",
       "    }\n",
       "</style>\n",
       "<table border=\"1\" class=\"dataframe\">\n",
       "  <thead>\n",
       "    <tr style=\"text-align: right;\">\n",
       "      <th></th>\n",
       "      <th>name</th>\n",
       "      <th>platform</th>\n",
       "      <th>year_of_release</th>\n",
       "      <th>genre</th>\n",
       "      <th>na_sales</th>\n",
       "      <th>eu_sales</th>\n",
       "      <th>jp_sales</th>\n",
       "      <th>other_sales</th>\n",
       "      <th>critic_score</th>\n",
       "      <th>user_score</th>\n",
       "      <th>rating</th>\n",
       "    </tr>\n",
       "  </thead>\n",
       "  <tbody>\n",
       "    <tr>\n",
       "      <th>475</th>\n",
       "      <td>wwe Smackdown vs. Raw 2006</td>\n",
       "      <td>PS2</td>\n",
       "      <td>NaN</td>\n",
       "      <td>Fighting</td>\n",
       "      <td>1.57</td>\n",
       "      <td>1.02</td>\n",
       "      <td>0.00</td>\n",
       "      <td>0.41</td>\n",
       "      <td>NaN</td>\n",
       "      <td>NaN</td>\n",
       "      <td>NaN</td>\n",
       "    </tr>\n",
       "    <tr>\n",
       "      <th>609</th>\n",
       "      <td>Space Invaders</td>\n",
       "      <td>2600</td>\n",
       "      <td>NaN</td>\n",
       "      <td>Shooter</td>\n",
       "      <td>2.36</td>\n",
       "      <td>0.14</td>\n",
       "      <td>0.00</td>\n",
       "      <td>0.03</td>\n",
       "      <td>NaN</td>\n",
       "      <td>NaN</td>\n",
       "      <td>NaN</td>\n",
       "    </tr>\n",
       "    <tr>\n",
       "      <th>627</th>\n",
       "      <td>Rock Band</td>\n",
       "      <td>X360</td>\n",
       "      <td>NaN</td>\n",
       "      <td>Misc</td>\n",
       "      <td>1.93</td>\n",
       "      <td>0.33</td>\n",
       "      <td>0.00</td>\n",
       "      <td>0.21</td>\n",
       "      <td>92.0</td>\n",
       "      <td>8.2</td>\n",
       "      <td>T</td>\n",
       "    </tr>\n",
       "    <tr>\n",
       "      <th>657</th>\n",
       "      <td>Frogger's Adventures: Temple of the Frog</td>\n",
       "      <td>GBA</td>\n",
       "      <td>NaN</td>\n",
       "      <td>Adventure</td>\n",
       "      <td>2.15</td>\n",
       "      <td>0.18</td>\n",
       "      <td>0.00</td>\n",
       "      <td>0.07</td>\n",
       "      <td>73.0</td>\n",
       "      <td>tbd</td>\n",
       "      <td>E</td>\n",
       "    </tr>\n",
       "    <tr>\n",
       "      <th>805</th>\n",
       "      <td>Rock Band</td>\n",
       "      <td>Wii</td>\n",
       "      <td>NaN</td>\n",
       "      <td>Misc</td>\n",
       "      <td>1.33</td>\n",
       "      <td>0.56</td>\n",
       "      <td>0.00</td>\n",
       "      <td>0.20</td>\n",
       "      <td>80.0</td>\n",
       "      <td>6.3</td>\n",
       "      <td>T</td>\n",
       "    </tr>\n",
       "    <tr>\n",
       "      <th>...</th>\n",
       "      <td>...</td>\n",
       "      <td>...</td>\n",
       "      <td>...</td>\n",
       "      <td>...</td>\n",
       "      <td>...</td>\n",
       "      <td>...</td>\n",
       "      <td>...</td>\n",
       "      <td>...</td>\n",
       "      <td>...</td>\n",
       "      <td>...</td>\n",
       "      <td>...</td>\n",
       "    </tr>\n",
       "    <tr>\n",
       "      <th>16277</th>\n",
       "      <td>Homeworld Remastered Collection</td>\n",
       "      <td>PC</td>\n",
       "      <td>NaN</td>\n",
       "      <td>Strategy</td>\n",
       "      <td>0.00</td>\n",
       "      <td>0.01</td>\n",
       "      <td>0.00</td>\n",
       "      <td>0.00</td>\n",
       "      <td>86.0</td>\n",
       "      <td>8.2</td>\n",
       "      <td>E10+</td>\n",
       "    </tr>\n",
       "    <tr>\n",
       "      <th>16288</th>\n",
       "      <td>Shorts</td>\n",
       "      <td>DS</td>\n",
       "      <td>NaN</td>\n",
       "      <td>Platform</td>\n",
       "      <td>0.01</td>\n",
       "      <td>0.00</td>\n",
       "      <td>0.00</td>\n",
       "      <td>0.00</td>\n",
       "      <td>NaN</td>\n",
       "      <td>tbd</td>\n",
       "      <td>E10+</td>\n",
       "    </tr>\n",
       "    <tr>\n",
       "      <th>16348</th>\n",
       "      <td>Agarest Senki: Re-appearance</td>\n",
       "      <td>PS3</td>\n",
       "      <td>NaN</td>\n",
       "      <td>Role-Playing</td>\n",
       "      <td>0.00</td>\n",
       "      <td>0.00</td>\n",
       "      <td>0.01</td>\n",
       "      <td>0.00</td>\n",
       "      <td>NaN</td>\n",
       "      <td>NaN</td>\n",
       "      <td>NaN</td>\n",
       "    </tr>\n",
       "    <tr>\n",
       "      <th>16458</th>\n",
       "      <td>Hakuouki: Shinsengumi Kitan</td>\n",
       "      <td>PS3</td>\n",
       "      <td>NaN</td>\n",
       "      <td>Adventure</td>\n",
       "      <td>0.01</td>\n",
       "      <td>0.00</td>\n",
       "      <td>0.00</td>\n",
       "      <td>0.00</td>\n",
       "      <td>NaN</td>\n",
       "      <td>NaN</td>\n",
       "      <td>NaN</td>\n",
       "    </tr>\n",
       "    <tr>\n",
       "      <th>16522</th>\n",
       "      <td>Virtua Quest</td>\n",
       "      <td>GC</td>\n",
       "      <td>NaN</td>\n",
       "      <td>Role-Playing</td>\n",
       "      <td>0.01</td>\n",
       "      <td>0.00</td>\n",
       "      <td>0.00</td>\n",
       "      <td>0.00</td>\n",
       "      <td>55.0</td>\n",
       "      <td>5.5</td>\n",
       "      <td>T</td>\n",
       "    </tr>\n",
       "  </tbody>\n",
       "</table>\n",
       "<p>158 rows × 11 columns</p>\n",
       "</div>"
      ],
      "text/plain": [
       "                                           name platform  year_of_release  \\\n",
       "475                  wwe Smackdown vs. Raw 2006      PS2              NaN   \n",
       "609                              Space Invaders     2600              NaN   \n",
       "627                                   Rock Band     X360              NaN   \n",
       "657    Frogger's Adventures: Temple of the Frog      GBA              NaN   \n",
       "805                                   Rock Band      Wii              NaN   \n",
       "...                                         ...      ...              ...   \n",
       "16277           Homeworld Remastered Collection       PC              NaN   \n",
       "16288                                    Shorts       DS              NaN   \n",
       "16348              Agarest Senki: Re-appearance      PS3              NaN   \n",
       "16458               Hakuouki: Shinsengumi Kitan      PS3              NaN   \n",
       "16522                              Virtua Quest       GC              NaN   \n",
       "\n",
       "              genre  na_sales  eu_sales  jp_sales  other_sales  critic_score  \\\n",
       "475        Fighting      1.57      1.02      0.00         0.41           NaN   \n",
       "609         Shooter      2.36      0.14      0.00         0.03           NaN   \n",
       "627            Misc      1.93      0.33      0.00         0.21          92.0   \n",
       "657       Adventure      2.15      0.18      0.00         0.07          73.0   \n",
       "805            Misc      1.33      0.56      0.00         0.20          80.0   \n",
       "...             ...       ...       ...       ...          ...           ...   \n",
       "16277      Strategy      0.00      0.01      0.00         0.00          86.0   \n",
       "16288      Platform      0.01      0.00      0.00         0.00           NaN   \n",
       "16348  Role-Playing      0.00      0.00      0.01         0.00           NaN   \n",
       "16458     Adventure      0.01      0.00      0.00         0.00           NaN   \n",
       "16522  Role-Playing      0.01      0.00      0.00         0.00          55.0   \n",
       "\n",
       "      user_score rating  \n",
       "475          NaN    NaN  \n",
       "609          NaN    NaN  \n",
       "627          8.2      T  \n",
       "657          tbd      E  \n",
       "805          6.3      T  \n",
       "...          ...    ...  \n",
       "16277        8.2   E10+  \n",
       "16288        tbd   E10+  \n",
       "16348        NaN    NaN  \n",
       "16458        NaN    NaN  \n",
       "16522        5.5      T  \n",
       "\n",
       "[158 rows x 11 columns]"
      ]
     },
     "execution_count": 14,
     "metadata": {},
     "output_type": "execute_result"
    }
   ],
   "source": [
    "print(round(len(data[data['year_of_release'].isna()])/len(data)*100, 2))\n",
    "data[data['year_of_release'].isna()]"
   ]
  },
  {
   "cell_type": "markdown",
   "metadata": {},
   "source": [
    "Год выхода остальных игр либо неизвестен, либо игра выпускалась в разные годы, поэтому данные строки всё же придется убрать, но так как они составляют уже менее 1%, то на анализе данных это не сыграет большой роли. И можно привести год к целочисленному типу."
   ]
  },
  {
   "cell_type": "code",
   "execution_count": 15,
   "metadata": {},
   "outputs": [
    {
     "name": "stdout",
     "output_type": "stream",
     "text": [
      "<class 'pandas.core.frame.DataFrame'>\n",
      "Int64Index: 16555 entries, 0 to 16714\n",
      "Data columns (total 11 columns):\n",
      " #   Column           Non-Null Count  Dtype  \n",
      "---  ------           --------------  -----  \n",
      " 0   name             16555 non-null  object \n",
      " 1   platform         16555 non-null  object \n",
      " 2   year_of_release  16555 non-null  int32  \n",
      " 3   genre            16555 non-null  object \n",
      " 4   na_sales         16555 non-null  float64\n",
      " 5   eu_sales         16555 non-null  float64\n",
      " 6   jp_sales         16555 non-null  float64\n",
      " 7   other_sales      16555 non-null  float64\n",
      " 8   critic_score     8068 non-null   float64\n",
      " 9   user_score       9926 non-null   object \n",
      " 10  rating           9860 non-null   object \n",
      "dtypes: float64(5), int32(1), object(5)\n",
      "memory usage: 1.5+ MB\n"
     ]
    }
   ],
   "source": [
    "data = data.dropna(subset=['year_of_release'])\n",
    "data['year_of_release'] = data['year_of_release'].astype('int')\n",
    "data.info()"
   ]
  },
  {
   "cell_type": "markdown",
   "metadata": {},
   "source": [
    "### Обработка оценок и рейтинга игр"
   ]
  },
  {
   "cell_type": "markdown",
   "metadata": {},
   "source": [
    "Прежде чем обрабатывать пропущенные значения в столбцах `critic_score`,`user_score` и `rating`, проверим их общие данные . "
   ]
  },
  {
   "cell_type": "code",
   "execution_count": 16,
   "metadata": {},
   "outputs": [
    {
     "data": {
      "text/plain": [
       "count    8068.000000\n",
       "mean       68.996529\n",
       "std        13.919636\n",
       "min        13.000000\n",
       "25%        60.000000\n",
       "50%        71.000000\n",
       "75%        79.000000\n",
       "max        98.000000\n",
       "Name: critic_score, dtype: float64"
      ]
     },
     "execution_count": 16,
     "metadata": {},
     "output_type": "execute_result"
    }
   ],
   "source": [
    "data['critic_score'].describe()"
   ]
  },
  {
   "cell_type": "markdown",
   "metadata": {},
   "source": [
    "В столбце `critic_score` данные соответствуют действительности, оценки лежат в тех пределах, которые должны быть. Значит, пропущенные значения заменим на -1, чтобы поставить \"заглушку\" и не убирать половину Датафрейма."
   ]
  },
  {
   "cell_type": "code",
   "execution_count": 17,
   "metadata": {},
   "outputs": [
    {
     "data": {
      "text/plain": [
       "tbd    2391\n",
       "7.8     324\n",
       "8       287\n",
       "8.2     279\n",
       "8.3     253\n",
       "       ... \n",
       "1.1       2\n",
       "1.9       2\n",
       "9.6       2\n",
       "0         1\n",
       "9.7       1\n",
       "Name: user_score, Length: 96, dtype: int64"
      ]
     },
     "execution_count": 17,
     "metadata": {},
     "output_type": "execute_result"
    }
   ],
   "source": [
    "data['user_score'].value_counts()"
   ]
  },
  {
   "cell_type": "markdown",
   "metadata": {},
   "source": [
    "В столбце `user_score` есть строковое значение \"tbd\", означающее, что оценка пользователя еще не выставлена. Но такое значение мешает преобразовать столбец в числа. Поэтому данные в столбце сначала переведем в числовые методом `to_numeric()`, заменяя все некорректные значения, в том числе \"tbd\", на Nan. Потом эти значения добавятся к пропущенным и уже все пропущенные заменим на -1, чтобы поставить \"заглушку\" на пропущенные данные, так как пропусков в данном столбце получится больше половины Датафрейма."
   ]
  },
  {
   "cell_type": "code",
   "execution_count": 18,
   "metadata": {},
   "outputs": [
    {
     "data": {
      "text/plain": [
       "E       3954\n",
       "T       2929\n",
       "M       1552\n",
       "E10+    1411\n",
       "EC         8\n",
       "K-A        3\n",
       "RP         2\n",
       "AO         1\n",
       "Name: rating, dtype: int64"
      ]
     },
     "execution_count": 18,
     "metadata": {},
     "output_type": "execute_result"
    }
   ],
   "source": [
    "data['rating'].value_counts()"
   ]
  },
  {
   "cell_type": "markdown",
   "metadata": {},
   "source": [
    "В столбце `rating` все значения строковые, поэтому для пропущенных значений тоже поставим \"заглушку\", но уже строкой 'unknown'."
   ]
  },
  {
   "cell_type": "code",
   "execution_count": 19,
   "metadata": {},
   "outputs": [],
   "source": [
    "data['user_score'] = pd.to_numeric(data['user_score'], errors='coerce') # замена на числовые значения в столбце `user_score`\n",
    "data[['user_score', 'critic_score']] = data[['user_score', 'critic_score']].fillna(-1) # замена пропущенных значений на -1\n",
    "data['rating'] = data['rating'].fillna('unknown') # замена пропущенных значений на 'unknown'"
   ]
  },
  {
   "cell_type": "code",
   "execution_count": 20,
   "metadata": {},
   "outputs": [
    {
     "data": {
      "text/plain": [
       "count    7535.000000\n",
       "mean        7.125362\n",
       "std         1.498063\n",
       "min         0.000000\n",
       "25%         6.400000\n",
       "50%         7.500000\n",
       "75%         8.200000\n",
       "max         9.700000\n",
       "Name: user_score, dtype: float64"
      ]
     },
     "execution_count": 20,
     "metadata": {},
     "output_type": "execute_result"
    }
   ],
   "source": [
    "data.query('user_score != -1')['user_score'].describe() # проверка пользовательских оценок без учета пропущенных"
   ]
  },
  {
   "cell_type": "markdown",
   "metadata": {},
   "source": [
    "### Добавление суммарных продаж"
   ]
  },
  {
   "cell_type": "markdown",
   "metadata": {},
   "source": [
    "Теперь добавим в таблицу столбец с суммарными продажами по каждой строке."
   ]
  },
  {
   "cell_type": "code",
   "execution_count": 21,
   "metadata": {},
   "outputs": [],
   "source": [
    "data['total_sales'] = data[['na_sales','eu_sales','jp_sales','other_sales']].sum(axis=1)"
   ]
  },
  {
   "cell_type": "code",
   "execution_count": 22,
   "metadata": {},
   "outputs": [
    {
     "name": "stdout",
     "output_type": "stream",
     "text": [
      "<class 'pandas.core.frame.DataFrame'>\n",
      "Int64Index: 16555 entries, 0 to 16714\n",
      "Data columns (total 12 columns):\n",
      " #   Column           Non-Null Count  Dtype  \n",
      "---  ------           --------------  -----  \n",
      " 0   name             16555 non-null  object \n",
      " 1   platform         16555 non-null  object \n",
      " 2   year_of_release  16555 non-null  int32  \n",
      " 3   genre            16555 non-null  object \n",
      " 4   na_sales         16555 non-null  float64\n",
      " 5   eu_sales         16555 non-null  float64\n",
      " 6   jp_sales         16555 non-null  float64\n",
      " 7   other_sales      16555 non-null  float64\n",
      " 8   critic_score     16555 non-null  float64\n",
      " 9   user_score       16555 non-null  float64\n",
      " 10  rating           16555 non-null  object \n",
      " 11  total_sales      16555 non-null  float64\n",
      "dtypes: float64(7), int32(1), object(4)\n",
      "memory usage: 1.6+ MB\n"
     ]
    },
    {
     "data": {
      "text/html": [
       "<div>\n",
       "<style scoped>\n",
       "    .dataframe tbody tr th:only-of-type {\n",
       "        vertical-align: middle;\n",
       "    }\n",
       "\n",
       "    .dataframe tbody tr th {\n",
       "        vertical-align: top;\n",
       "    }\n",
       "\n",
       "    .dataframe thead th {\n",
       "        text-align: right;\n",
       "    }\n",
       "</style>\n",
       "<table border=\"1\" class=\"dataframe\">\n",
       "  <thead>\n",
       "    <tr style=\"text-align: right;\">\n",
       "      <th></th>\n",
       "      <th>name</th>\n",
       "      <th>platform</th>\n",
       "      <th>year_of_release</th>\n",
       "      <th>genre</th>\n",
       "      <th>na_sales</th>\n",
       "      <th>eu_sales</th>\n",
       "      <th>jp_sales</th>\n",
       "      <th>other_sales</th>\n",
       "      <th>critic_score</th>\n",
       "      <th>user_score</th>\n",
       "      <th>rating</th>\n",
       "      <th>total_sales</th>\n",
       "    </tr>\n",
       "  </thead>\n",
       "  <tbody>\n",
       "    <tr>\n",
       "      <th>0</th>\n",
       "      <td>Wii Sports</td>\n",
       "      <td>Wii</td>\n",
       "      <td>2006</td>\n",
       "      <td>Sports</td>\n",
       "      <td>41.36</td>\n",
       "      <td>28.96</td>\n",
       "      <td>3.77</td>\n",
       "      <td>8.45</td>\n",
       "      <td>76.0</td>\n",
       "      <td>8.0</td>\n",
       "      <td>E</td>\n",
       "      <td>82.54</td>\n",
       "    </tr>\n",
       "    <tr>\n",
       "      <th>1</th>\n",
       "      <td>Super Mario Bros.</td>\n",
       "      <td>NES</td>\n",
       "      <td>1985</td>\n",
       "      <td>Platform</td>\n",
       "      <td>29.08</td>\n",
       "      <td>3.58</td>\n",
       "      <td>6.81</td>\n",
       "      <td>0.77</td>\n",
       "      <td>-1.0</td>\n",
       "      <td>-1.0</td>\n",
       "      <td>unknown</td>\n",
       "      <td>40.24</td>\n",
       "    </tr>\n",
       "    <tr>\n",
       "      <th>2</th>\n",
       "      <td>Mario Kart Wii</td>\n",
       "      <td>Wii</td>\n",
       "      <td>2008</td>\n",
       "      <td>Racing</td>\n",
       "      <td>15.68</td>\n",
       "      <td>12.76</td>\n",
       "      <td>3.79</td>\n",
       "      <td>3.29</td>\n",
       "      <td>82.0</td>\n",
       "      <td>8.3</td>\n",
       "      <td>E</td>\n",
       "      <td>35.52</td>\n",
       "    </tr>\n",
       "    <tr>\n",
       "      <th>3</th>\n",
       "      <td>Wii Sports Resort</td>\n",
       "      <td>Wii</td>\n",
       "      <td>2009</td>\n",
       "      <td>Sports</td>\n",
       "      <td>15.61</td>\n",
       "      <td>10.93</td>\n",
       "      <td>3.28</td>\n",
       "      <td>2.95</td>\n",
       "      <td>80.0</td>\n",
       "      <td>8.0</td>\n",
       "      <td>E</td>\n",
       "      <td>32.77</td>\n",
       "    </tr>\n",
       "    <tr>\n",
       "      <th>4</th>\n",
       "      <td>Pokemon Red/Pokemon Blue</td>\n",
       "      <td>GB</td>\n",
       "      <td>1996</td>\n",
       "      <td>Role-Playing</td>\n",
       "      <td>11.27</td>\n",
       "      <td>8.89</td>\n",
       "      <td>10.22</td>\n",
       "      <td>1.00</td>\n",
       "      <td>-1.0</td>\n",
       "      <td>-1.0</td>\n",
       "      <td>unknown</td>\n",
       "      <td>31.38</td>\n",
       "    </tr>\n",
       "  </tbody>\n",
       "</table>\n",
       "</div>"
      ],
      "text/plain": [
       "                       name platform  year_of_release         genre  na_sales  \\\n",
       "0                Wii Sports      Wii             2006        Sports     41.36   \n",
       "1         Super Mario Bros.      NES             1985      Platform     29.08   \n",
       "2            Mario Kart Wii      Wii             2008        Racing     15.68   \n",
       "3         Wii Sports Resort      Wii             2009        Sports     15.61   \n",
       "4  Pokemon Red/Pokemon Blue       GB             1996  Role-Playing     11.27   \n",
       "\n",
       "   eu_sales  jp_sales  other_sales  critic_score  user_score   rating  \\\n",
       "0     28.96      3.77         8.45          76.0         8.0        E   \n",
       "1      3.58      6.81         0.77          -1.0        -1.0  unknown   \n",
       "2     12.76      3.79         3.29          82.0         8.3        E   \n",
       "3     10.93      3.28         2.95          80.0         8.0        E   \n",
       "4      8.89     10.22         1.00          -1.0        -1.0  unknown   \n",
       "\n",
       "   total_sales  \n",
       "0        82.54  \n",
       "1        40.24  \n",
       "2        35.52  \n",
       "3        32.77  \n",
       "4        31.38  "
      ]
     },
     "execution_count": 22,
     "metadata": {},
     "output_type": "execute_result"
    }
   ],
   "source": [
    "data.info()\n",
    "data.head()"
   ]
  },
  {
   "cell_type": "markdown",
   "metadata": {},
   "source": [
    "Все данные приведены к нужному типу, пропусков больше нет. "
   ]
  },
  {
   "cell_type": "markdown",
   "metadata": {},
   "source": [
    "### Вывод"
   ]
  },
  {
   "cell_type": "markdown",
   "metadata": {},
   "source": [
    "Были обработаны следующие данные:\n",
    "- Названия столбцов переведены в \"\"змеиный регистр\"\n",
    "- Строки с пропущенными значениям в столбцах `name` и `genre` убраны\n",
    "- В ячейки с пропущенными значениям столбца `year_of_release` по словарю, где возможно, добавлены даты выхода. Там, где дата неизвестна, строки убраны. Значения переведены в целочисленный тип.\n",
    "- В столбце  `user_score` значения переведены в действительные числа\n",
    "- В столбцах `critic_score` и `user_score` пропущенные значения заменены на -1\n",
    "- В столбце `rating` пропущенные значения заменены на 'unknown'\n",
    "- Добавлен столбец с суммарными продажами"
   ]
  },
  {
   "cell_type": "markdown",
   "metadata": {},
   "source": [
    "## Исследовательский анализ данных"
   ]
  },
  {
   "cell_type": "markdown",
   "metadata": {},
   "source": [
    "### Определение актуального периода"
   ]
  },
  {
   "cell_type": "code",
   "execution_count": 23,
   "metadata": {},
   "outputs": [
    {
     "data": {
      "image/png": "[encoded data removed]",
      "text/plain": [
       "<Figure size 648x360 with 1 Axes>"
      ]
     },
     "metadata": {
      "needs_background": "light"
     },
     "output_type": "display_data"
    }
   ],
   "source": [
    "(data\n",
    " .pivot_table(index='year_of_release', values = 'name', aggfunc = 'count')\n",
    " .plot(style='o-', title='Количество выпущенных игр по годам', grid=True, figsize=(9,5), legend=False)\n",
    ");"
   ]
  },
  {
   "cell_type": "markdown",
   "metadata": {},
   "source": [
    "До 1993 года ежегодгный выпуск не превышал 100 игр. Дальше количество игр увеличивалось постепенно, а после 2000го года начался резкий рост ежегодного выпуска. Самое большое количество игр было выпущено в 2008 и 2009 годах. Далее количество резко снизилось и с 2012 по 2016 года держится примерно на одном уровне. "
   ]
  },
  {
   "cell_type": "markdown",
   "metadata": {},
   "source": [
    "Выберем 10 платформ с самыми высокими суммарными продажами и построим для каждой платформы разбивку по годам."
   ]
  },
  {
   "cell_type": "code",
   "execution_count": 24,
   "metadata": {},
   "outputs": [
    {
     "data": {
      "text/html": [
       "<div>\n",
       "<style scoped>\n",
       "    .dataframe tbody tr th:only-of-type {\n",
       "        vertical-align: middle;\n",
       "    }\n",
       "\n",
       "    .dataframe tbody tr th {\n",
       "        vertical-align: top;\n",
       "    }\n",
       "\n",
       "    .dataframe thead th {\n",
       "        text-align: right;\n",
       "    }\n",
       "</style>\n",
       "<table border=\"1\" class=\"dataframe\">\n",
       "  <thead>\n",
       "    <tr style=\"text-align: right;\">\n",
       "      <th></th>\n",
       "      <th>platform</th>\n",
       "      <th>total_sales</th>\n",
       "    </tr>\n",
       "  </thead>\n",
       "  <tbody>\n",
       "    <tr>\n",
       "      <th>16</th>\n",
       "      <td>PS2</td>\n",
       "      <td>1245.96</td>\n",
       "    </tr>\n",
       "    <tr>\n",
       "      <th>28</th>\n",
       "      <td>X360</td>\n",
       "      <td>966.61</td>\n",
       "    </tr>\n",
       "    <tr>\n",
       "      <th>17</th>\n",
       "      <td>PS3</td>\n",
       "      <td>934.71</td>\n",
       "    </tr>\n",
       "    <tr>\n",
       "      <th>26</th>\n",
       "      <td>Wii</td>\n",
       "      <td>903.31</td>\n",
       "    </tr>\n",
       "    <tr>\n",
       "      <th>4</th>\n",
       "      <td>DS</td>\n",
       "      <td>804.28</td>\n",
       "    </tr>\n",
       "    <tr>\n",
       "      <th>15</th>\n",
       "      <td>PS</td>\n",
       "      <td>727.58</td>\n",
       "    </tr>\n",
       "    <tr>\n",
       "      <th>18</th>\n",
       "      <td>PS4</td>\n",
       "      <td>314.14</td>\n",
       "    </tr>\n",
       "    <tr>\n",
       "      <th>6</th>\n",
       "      <td>GBA</td>\n",
       "      <td>313.73</td>\n",
       "    </tr>\n",
       "    <tr>\n",
       "      <th>19</th>\n",
       "      <td>PSP</td>\n",
       "      <td>292.77</td>\n",
       "    </tr>\n",
       "    <tr>\n",
       "      <th>2</th>\n",
       "      <td>3DS</td>\n",
       "      <td>258.51</td>\n",
       "    </tr>\n",
       "  </tbody>\n",
       "</table>\n",
       "</div>"
      ],
      "text/plain": [
       "   platform  total_sales\n",
       "16      PS2      1245.96\n",
       "28     X360       966.61\n",
       "17      PS3       934.71\n",
       "26      Wii       903.31\n",
       "4        DS       804.28\n",
       "15       PS       727.58\n",
       "18      PS4       314.14\n",
       "6       GBA       313.73\n",
       "19      PSP       292.77\n",
       "2       3DS       258.51"
      ]
     },
     "metadata": {},
     "output_type": "display_data"
    }
   ],
   "source": [
    "platforms = (data\n",
    "             .pivot_table(index='platform', values='total_sales', aggfunc='sum').reset_index()\n",
    "             .sort_values(by='total_sales', ascending=False).head(10)\n",
    "            )\n",
    "display(platforms)"
   ]
  },
  {
   "cell_type": "code",
   "execution_count": 25,
   "metadata": {
    "scrolled": false
   },
   "outputs": [
    {
     "data": {
      "image/png": "[encoded data removed]",
      "text/plain": [
       "<Figure size 648x360 with 1 Axes>"
      ]
     },
     "metadata": {
      "needs_background": "light"
     },
     "output_type": "display_data"
    },
    {
     "data": {
      "image/png": "[encoded data removed]",
      "text/plain": [
       "<Figure size 648x360 with 1 Axes>"
      ]
     },
     "metadata": {
      "needs_background": "light"
     },
     "output_type": "display_data"
    },
    {
     "data": {
      "image/png": "[encoded data removed]",
      "text/plain": [
       "<Figure size 648x360 with 1 Axes>"
      ]
     },
     "metadata": {
      "needs_background": "light"
     },
     "output_type": "display_data"
    },
    {
     "data": {
      "image/png": "[encoded data removed]",
      "text/plain": [
       "<Figure size 648x360 with 1 Axes>"
      ]
     },
     "metadata": {
      "needs_background": "light"
     },
     "output_type": "display_data"
    },
    {
     "data": {
      "image/png": "[encoded data removed]",
      "text/plain": [
       "<Figure size 648x360 with 1 Axes>"
      ]
     },
     "metadata": {
      "needs_background": "light"
     },
     "output_type": "display_data"
    },
    {
     "data": {
      "image/png": "[encoded data removed]",
      "text/plain": [
       "<Figure size 648x360 with 1 Axes>"
      ]
     },
     "metadata": {
      "needs_background": "light"
     },
     "output_type": "display_data"
    },
    {
     "data": {
      "image/png": "[encoded data removed]",
      "text/plain": [
       "<Figure size 648x360 with 1 Axes>"
      ]
     },
     "metadata": {
      "needs_background": "light"
     },
     "output_type": "display_data"
    },
    {
     "data": {
      "image/png": "[encoded data removed]",
      "text/plain": [
       "<Figure size 648x360 with 1 Axes>"
      ]
     },
     "metadata": {
      "needs_background": "light"
     },
     "output_type": "display_data"
    },
    {
     "data": {
      "image/png": "[encoded data removed]",
      "text/plain": [
       "<Figure size 648x360 with 1 Axes>"
      ]
     },
     "metadata": {
      "needs_background": "light"
     },
     "output_type": "display_data"
    },
    {
     "data": {
      "image/png": "[encoded data removed]",
      "text/plain": [
       "<Figure size 648x360 with 1 Axes>"
      ]
     },
     "metadata": {
      "needs_background": "light"
     },
     "output_type": "display_data"
    }
   ],
   "source": [
    "for i in platforms['platform']:\n",
    "    (data\n",
    "     .query('platform == @i')\n",
    "     .pivot_table(index='year_of_release', values='total_sales', aggfunc='sum')\n",
    "     .plot(kind='bar', title=i, grid=True, figsize=(9,5), legend=True)\n",
    "    )"
   ]
  },
  {
   "cell_type": "markdown",
   "metadata": {},
   "source": [
    "По графикам можно увидеть, что \"жизненный цикл\" платформы составляет около 10 лет. Те платформы, которые начали выпускать игры в 2005-2006 гг., например X360, PS3, Wii, PSP, за 2015-2016гг. показали сильный спад в продажах. Их пик продаж приходился на 2009-2011гг. Те платформы, которые выпускали еще раньше свои игры, на данный момент по ним нет даже данных за предыдущие два года. К таким платформам относятся PS, PS2, DS, GBA. А платформы PS4 и 3DS запустились позже остальных  видно, что продажи за 2016г. у них значительно выше. На пике продаж платформ находятся 2-4 года, поэтому для анализа будем брать данные с 2012 г.\n",
    "Также нужно учитывать, что данные за 2016г. могут быть неполными и если мы построим график, включая 2016г. может показаться, что продажи на всех платформах падают. Чтобы этого не допустить, данные будем брать с 2012г. до 2015г. включая (актуальные)."
   ]
  },
  {
   "cell_type": "code",
   "execution_count": 26,
   "metadata": {},
   "outputs": [],
   "source": [
    "data_actual = data.query('2011 < year_of_release < 2016') # срез данных с актуальными данными"
   ]
  },
  {
   "cell_type": "markdown",
   "metadata": {},
   "source": [
    "### Определение потенциально прибыльных платформ"
   ]
  },
  {
   "cell_type": "markdown",
   "metadata": {},
   "source": [
    "Составим сводную таблицу с продажами платформ по годам, начиная с 2012 года и заканчивая 2015. "
   ]
  },
  {
   "cell_type": "code",
   "execution_count": 27,
   "metadata": {
    "scrolled": false
   },
   "outputs": [
    {
     "data": {
      "text/html": [
       "<div>\n",
       "<style scoped>\n",
       "    .dataframe tbody tr th:only-of-type {\n",
       "        vertical-align: middle;\n",
       "    }\n",
       "\n",
       "    .dataframe tbody tr th {\n",
       "        vertical-align: top;\n",
       "    }\n",
       "\n",
       "    .dataframe thead th {\n",
       "        text-align: right;\n",
       "    }\n",
       "</style>\n",
       "<table border=\"1\" class=\"dataframe\">\n",
       "  <thead>\n",
       "    <tr style=\"text-align: right;\">\n",
       "      <th>platform</th>\n",
       "      <th>3DS</th>\n",
       "      <th>DS</th>\n",
       "      <th>PC</th>\n",
       "      <th>PS3</th>\n",
       "      <th>PS4</th>\n",
       "      <th>PSP</th>\n",
       "      <th>PSV</th>\n",
       "      <th>Wii</th>\n",
       "      <th>WiiU</th>\n",
       "      <th>X360</th>\n",
       "      <th>XOne</th>\n",
       "    </tr>\n",
       "    <tr>\n",
       "      <th>year_of_release</th>\n",
       "      <th></th>\n",
       "      <th></th>\n",
       "      <th></th>\n",
       "      <th></th>\n",
       "      <th></th>\n",
       "      <th></th>\n",
       "      <th></th>\n",
       "      <th></th>\n",
       "      <th></th>\n",
       "      <th></th>\n",
       "      <th></th>\n",
       "    </tr>\n",
       "  </thead>\n",
       "  <tbody>\n",
       "    <tr>\n",
       "      <th>2012</th>\n",
       "      <td>51.76</td>\n",
       "      <td>11.67</td>\n",
       "      <td>23.45</td>\n",
       "      <td>108.28</td>\n",
       "      <td>NaN</td>\n",
       "      <td>7.95</td>\n",
       "      <td>16.19</td>\n",
       "      <td>22.94</td>\n",
       "      <td>17.56</td>\n",
       "      <td>100.72</td>\n",
       "      <td>NaN</td>\n",
       "    </tr>\n",
       "    <tr>\n",
       "      <th>2013</th>\n",
       "      <td>56.57</td>\n",
       "      <td>1.54</td>\n",
       "      <td>12.66</td>\n",
       "      <td>113.25</td>\n",
       "      <td>25.99</td>\n",
       "      <td>3.38</td>\n",
       "      <td>10.59</td>\n",
       "      <td>8.59</td>\n",
       "      <td>21.65</td>\n",
       "      <td>88.58</td>\n",
       "      <td>18.96</td>\n",
       "    </tr>\n",
       "    <tr>\n",
       "      <th>2014</th>\n",
       "      <td>43.76</td>\n",
       "      <td>NaN</td>\n",
       "      <td>13.28</td>\n",
       "      <td>47.76</td>\n",
       "      <td>100.00</td>\n",
       "      <td>0.24</td>\n",
       "      <td>11.90</td>\n",
       "      <td>3.75</td>\n",
       "      <td>22.03</td>\n",
       "      <td>34.74</td>\n",
       "      <td>54.07</td>\n",
       "    </tr>\n",
       "    <tr>\n",
       "      <th>2015</th>\n",
       "      <td>27.78</td>\n",
       "      <td>NaN</td>\n",
       "      <td>8.52</td>\n",
       "      <td>16.82</td>\n",
       "      <td>118.90</td>\n",
       "      <td>0.12</td>\n",
       "      <td>6.25</td>\n",
       "      <td>1.14</td>\n",
       "      <td>16.35</td>\n",
       "      <td>11.96</td>\n",
       "      <td>60.14</td>\n",
       "    </tr>\n",
       "  </tbody>\n",
       "</table>\n",
       "</div>"
      ],
      "text/plain": [
       "platform           3DS     DS     PC     PS3     PS4   PSP    PSV    Wii  \\\n",
       "year_of_release                                                            \n",
       "2012             51.76  11.67  23.45  108.28     NaN  7.95  16.19  22.94   \n",
       "2013             56.57   1.54  12.66  113.25   25.99  3.38  10.59   8.59   \n",
       "2014             43.76    NaN  13.28   47.76  100.00  0.24  11.90   3.75   \n",
       "2015             27.78    NaN   8.52   16.82  118.90  0.12   6.25   1.14   \n",
       "\n",
       "platform          WiiU    X360   XOne  \n",
       "year_of_release                        \n",
       "2012             17.56  100.72    NaN  \n",
       "2013             21.65   88.58  18.96  \n",
       "2014             22.03   34.74  54.07  \n",
       "2015             16.35   11.96  60.14  "
      ]
     },
     "execution_count": 27,
     "metadata": {},
     "output_type": "execute_result"
    }
   ],
   "source": [
    "data_actual.pivot_table(index='year_of_release', columns='platform', values='total_sales', aggfunc='sum')"
   ]
  },
  {
   "cell_type": "markdown",
   "metadata": {},
   "source": [
    "Можно увидеть, что для платформ DC, DS, GBA, GC, PS2, XB за 2015-2016 года нет данных продаж, значит эти платформы уже нельзя рассматривать как потенциально прибыльные. Также можно убрать из потенциальных платформ PSP и Wii, так как за последние три года их продажи упали почти до 0. Остальные платформы можно рассматривать как потенциально прибыльные.\n",
    "\n",
    "Построим для оставшихся платформ 3DS, PC, PS3, PS4, PSV, WiiU, X360, XOne графики с разбивкой продаж по годам."
   ]
  },
  {
   "cell_type": "code",
   "execution_count": 28,
   "metadata": {},
   "outputs": [
    {
     "data": {
      "image/png": "[encoded data removed]",
      "text/plain": [
       "<Figure size 1224x648 with 1 Axes>"
      ]
     },
     "metadata": {
      "needs_background": "light"
     },
     "output_type": "display_data"
    }
   ],
   "source": [
    "(data_actual\n",
    " .query('platform == [\"3DS\", \"PC\", \"PS3\", \"PS4\", \"PSV\", \"WiiU\", \"X360\", \"XOne\"]')\n",
    " .pivot_table(index='year_of_release', columns='platform', values='total_sales', aggfunc='sum')\n",
    " .plot(grid=True, style='o-', figsize=(17,9), legend=True)\n",
    ");"
   ]
  },
  {
   "cell_type": "markdown",
   "metadata": {},
   "source": [
    "Очевидный рост продаж показывают платформы PS4 и XOne - эти две платформы главные претенденты на потенциально прибыльные. Заметный спад идет на платформах PS3 и X360, но эти платформы и работают дольше всего, а значит завершают свой \"жизненный цикл\". Не большие, но стабильные продажи на протяжении трех лет показывают платформы WiiU и PSV. Платформа 3DS, несмотря на то, что сейчас её продажи имеют спад, она присутствует на рынке 5 лет и может быть рассмотрена как потенциальная, так как её продажи превышают продажи на предыдущих двух плафтормах. А платформа PC на рынке присутствует давно и не показывает большой объем продаж в последнее время, поэтому на мой взгляд, её не стоит рассматривать.\n",
    "\n",
    "Итого **выделяем 3 платформы как потенциально прибыльные: PS4, XOne, 3DS.** Построим для этих платформ диаграммы размаха."
   ]
  },
  {
   "cell_type": "code",
   "execution_count": 29,
   "metadata": {},
   "outputs": [
    {
     "data": {
      "image/png": "[encoded data removed]",
      "text/plain": [
       "<Figure size 864x360 with 1 Axes>"
      ]
     },
     "metadata": {
      "needs_background": "light"
     },
     "output_type": "display_data"
    }
   ],
   "source": [
    "data_platform = data_actual.query('platform == [ \"PS4\", \"3DS\", \"XOne\"]')\n",
    "plt.figure(figsize=(12,5))\n",
    "plt.grid()\n",
    "sns.boxplot(x='total_sales', y='platform', data=data_platform, orient='h');"
   ]
  },
  {
   "cell_type": "markdown",
   "metadata": {},
   "source": [
    "По данным трем платформам видно, что глобальные продажи в среднем варьируются от 0,1 до 1 млн копий, третий квартиль у  платформ PS4 и XOne приходится на 2,5 млн копий. *На этих двух платформах было продано больше игр, чем на платформе 3DS.*\n",
    "\n",
    "*Можно увидеть, что на платформах PS4 и XOne очевидные выбросы начинаются с 3 млн, а на платформе 3DS с 1 млн копий. Выбросы могут быть присущи самым популярным играм на платформе. Такие объемы продаж скорее являются исключением.*\n",
    "\n",
    "Для дальнейшего анализа такие выбросы могут исказить картину, поэтому возьмём граничное значение в 4 млн проданных копий. Проверим какую часть данных составляют строки с такими продажами."
   ]
  },
  {
   "cell_type": "code",
   "execution_count": 30,
   "metadata": {},
   "outputs": [
    {
     "data": {
      "text/plain": [
       "2.21"
      ]
     },
     "execution_count": 30,
     "metadata": {},
     "output_type": "execute_result"
    }
   ],
   "source": [
    "round(len(data_actual.query('total_sales > 4'))/len(data_actual)*100, 2)"
   ]
  },
  {
   "cell_type": "markdown",
   "metadata": {},
   "source": [
    "2.21% от всего Датафремйа это незначительная часть, поэтому для дальнейшего анализа влияния оценок критиков и пользователей на продажи возьмем только значения меньше 4 млн."
   ]
  },
  {
   "cell_type": "code",
   "execution_count": 31,
   "metadata": {},
   "outputs": [],
   "source": [
    "data_actual_scores = data_actual.query('total_sales <= 4')"
   ]
  },
  {
   "cell_type": "markdown",
   "metadata": {},
   "source": [
    "### Изучение влияния отзывов на продажи"
   ]
  },
  {
   "cell_type": "markdown",
   "metadata": {},
   "source": [
    "#### Платформа PS4"
   ]
  },
  {
   "cell_type": "markdown",
   "metadata": {},
   "source": [
    "Для анализа влияния отзывов на продажи возьмем популярную платформу \"PS4\", поскольку она находится в ТОП-10 по глобальным продажам, а также является потенциально прибыльной. Также надо заметить, что при обработке данных мы заменили пропущенные значения в оценках пользователей и критиков на -1, поэтому для данного анализа мы будем использовать срез данных, в которых `critic_score` и `user_score` не равны -1."
   ]
  },
  {
   "cell_type": "code",
   "execution_count": 32,
   "metadata": {},
   "outputs": [
    {
     "data": {
      "image/png": "[encoded data removed]",
      "text/plain": [
       "<Figure size 432x288 with 1 Axes>"
      ]
     },
     "metadata": {
      "needs_background": "light"
     },
     "output_type": "display_data"
    },
    {
     "name": "stdout",
     "output_type": "stream",
     "text": [
      "Коэффициент корреляции Пирсона: 0.42\n"
     ]
    }
   ],
   "source": [
    "(data_actual_scores\n",
    "    .query('platform == \"PS4\" & critic_score != -1')\n",
    "    .plot(x='critic_score', y='total_sales', grid=True, kind='scatter', title='Зависимость продаж на платформе PS4 от отзывов критиков', color='blue')\n",
    ")\n",
    "plt.show()\n",
    "print('Коэффициент корреляции Пирсона:', \n",
    "      (data_actual_scores.query('platform == \"PS4\" & critic_score != -1')['total_sales']\n",
    "       .corr(data_actual_scores.query('platform == \"PS4\" & critic_score != -1')['critic_score']).round(2)))"
   ]
  },
  {
   "cell_type": "code",
   "execution_count": 33,
   "metadata": {},
   "outputs": [
    {
     "data": {
      "image/png": "[encoded data removed]",
      "text/plain": [
       "<Figure size 432x288 with 1 Axes>"
      ]
     },
     "metadata": {
      "needs_background": "light"
     },
     "output_type": "display_data"
    },
    {
     "name": "stdout",
     "output_type": "stream",
     "text": [
      "Коэффициент корреляции Пирсона: 0.07\n"
     ]
    }
   ],
   "source": [
    "(data_actual_scores\n",
    " .query('platform == \"PS4\" & user_score != -1')\n",
    " .plot(x='user_score', y='total_sales', grid=True, kind='scatter', title='Зависимость продаж на платформе PS4 от отзывов пользователей', color='blue')\n",
    ")\n",
    "plt.show()\n",
    "print('Коэффициент корреляции Пирсона:', \n",
    "      (data_actual_scores.query('platform == \"PS4\" & user_score != -1')['total_sales']\n",
    "       .corr(data_actual_scores.query('platform == \"PS4\" & user_score != -1')['user_score']).round(2)))"
   ]
  },
  {
   "cell_type": "markdown",
   "metadata": {},
   "source": [
    "- Отзывы критиков влияют на объем продаж намного больше, чем отзывы пользователей.\n",
    "- Между отзывами критиков и продажами имеется прямая зависимость - чем выше оценка, тем больше продажи, однако связь слабая.\n",
    "- Отзывы пользователей почти не влияют на продажи. "
   ]
  },
  {
   "cell_type": "markdown",
   "metadata": {},
   "source": [
    "Построим аналогичные графики для других потенциальных платформ XOne и 3DS, чтобы сравнить результаты."
   ]
  },
  {
   "cell_type": "markdown",
   "metadata": {},
   "source": [
    "#### Платформа XOne"
   ]
  },
  {
   "cell_type": "code",
   "execution_count": 34,
   "metadata": {},
   "outputs": [
    {
     "data": {
      "image/png": "[encoded data removed]",
      "text/plain": [
       "<Figure size 432x288 with 1 Axes>"
      ]
     },
     "metadata": {
      "needs_background": "light"
     },
     "output_type": "display_data"
    },
    {
     "name": "stdout",
     "output_type": "stream",
     "text": [
      "Коэффициент корреляции Пирсона: 0.44\n"
     ]
    }
   ],
   "source": [
    "(data_actual_scores\n",
    "    .query('platform == \"XOne\" & critic_score != -1')\n",
    "    .plot(x='critic_score', y='total_sales', grid=True, kind='scatter', title='Зависимость продаж на платформе XOne от отзывов критиков', color='purple')\n",
    ")\n",
    "plt.show()\n",
    "print('Коэффициент корреляции Пирсона:', \n",
    "      (data_actual_scores.query('platform == \"XOne\" & critic_score != -1')['total_sales']\n",
    "       .corr(data_actual_scores.query('platform == \"XOne\" & critic_score != -1')['critic_score']).round(2)))"
   ]
  },
  {
   "cell_type": "code",
   "execution_count": 35,
   "metadata": {},
   "outputs": [
    {
     "data": {
      "image/png": "[encoded data removed]",
      "text/plain": [
       "<Figure size 432x288 with 1 Axes>"
      ]
     },
     "metadata": {
      "needs_background": "light"
     },
     "output_type": "display_data"
    },
    {
     "name": "stdout",
     "output_type": "stream",
     "text": [
      "Коэффициент корреляции Пирсона: -0.06\n"
     ]
    }
   ],
   "source": [
    "(data_actual_scores\n",
    " .query('platform == \"XOne\" & user_score != -1')\n",
    " .plot(x='user_score', y='total_sales', grid=True, kind='scatter', title='Зависимость продаж на платформе XOne от отзывов пользователей', color='purple')\n",
    ")\n",
    "plt.show()\n",
    "print('Коэффициент корреляции Пирсона:', \n",
    "      (data_actual_scores.query('platform == \"XOne\" & user_score != -1')['total_sales']\n",
    "       .corr(data_actual_scores.query('platform == \"XOne\" & user_score != -1')['user_score']).round(2)))"
   ]
  },
  {
   "cell_type": "markdown",
   "metadata": {},
   "source": [
    "На плафторме XOne результаты очень похожи. Отзывы критиков влияют на объем продаж намного больше, чем отзывы пользователей, но связь остаётся слабой. А отзывы пользователей, хотя коэффициент корреляции здесь отрицательный, всё также не влияют на продажи. "
   ]
  },
  {
   "cell_type": "markdown",
   "metadata": {},
   "source": [
    "#### Платформа 3DS"
   ]
  },
  {
   "cell_type": "code",
   "execution_count": 36,
   "metadata": {},
   "outputs": [
    {
     "data": {
      "image/png": "[encoded data removed]",
      "text/plain": [
       "<Figure size 432x288 with 1 Axes>"
      ]
     },
     "metadata": {
      "needs_background": "light"
     },
     "output_type": "display_data"
    },
    {
     "name": "stdout",
     "output_type": "stream",
     "text": [
      "Коэффициент корреляции Пирсона: 0.36\n"
     ]
    }
   ],
   "source": [
    "(data_actual_scores\n",
    "    .query('platform == \"3DS\" & critic_score != -1')\n",
    "    .plot(x='critic_score', y='total_sales', grid=True, kind='scatter', title='Зависимость продаж на платформе 3DS от отзывов критиков', color='brown')\n",
    ")\n",
    "plt.show()\n",
    "print('Коэффициент корреляции Пирсона:', \n",
    "      (data_actual_scores.query('platform == \"3DS\" & critic_score != -1')['total_sales']\n",
    "       .corr(data_actual_scores.query('platform == \"3DS\" & critic_score != -1')['critic_score']).round(2)))"
   ]
  },
  {
   "cell_type": "code",
   "execution_count": 37,
   "metadata": {},
   "outputs": [
    {
     "data": {
      "image/png": "[encoded data removed]",
      "text/plain": [
       "<Figure size 432x288 with 1 Axes>"
      ]
     },
     "metadata": {
      "needs_background": "light"
     },
     "output_type": "display_data"
    },
    {
     "name": "stdout",
     "output_type": "stream",
     "text": [
      "Коэффициент корреляции Пирсона: 0.24\n"
     ]
    }
   ],
   "source": [
    "(data_actual_scores\n",
    " .query('platform == \"3DS\" & user_score != -1')\n",
    " .plot(x='user_score', y='total_sales', grid=True, kind='scatter', title='Зависимость продаж на платформе 3DS от отзывов пользователей', color='brown')\n",
    ")\n",
    "plt.show()\n",
    "print('Коэффициент корреляции Пирсона:', \n",
    "      (data_actual_scores.query('platform == \"3DS\" & user_score != -1')['total_sales']\n",
    "       .corr(data_actual_scores.query('platform == \"3DS\" & user_score != -1')['user_score']).round(2)))"
   ]
  },
  {
   "cell_type": "markdown",
   "metadata": {},
   "source": [
    "На платформе 3DS интересно, что в отличии от двух предыдущих здесь зависимость продаж от оценок пользователей выше, но связь всё равно остаётся слабой. Также меньше влияет и оценка критиков. "
   ]
  },
  {
   "cell_type": "markdown",
   "metadata": {},
   "source": [
    "### Определение популярных жанров"
   ]
  },
  {
   "cell_type": "markdown",
   "metadata": {},
   "source": [
    "Построим столбчатые диаграммы, которые показывают количество выпущенных игр по жанрам, их суммарный объем продаж и медианный объем продаж. И посмотрим, действительно ли те жанры, которых выпускалось больше всего, становятся более успешными."
   ]
  },
  {
   "cell_type": "code",
   "execution_count": 38,
   "metadata": {},
   "outputs": [
    {
     "data": {
      "image/png": "[encoded data removed]",
      "text/plain": [
       "<Figure size 720x360 with 1 Axes>"
      ]
     },
     "metadata": {
      "needs_background": "light"
     },
     "output_type": "display_data"
    }
   ],
   "source": [
    "(data_actual\n",
    " .pivot_table(index='genre', values='name', aggfunc='count')\n",
    " .sort_values(by='name', ascending=False)\n",
    " .plot(kind='bar', title='Количество выпущенных игр по жанрам', grid=True, figsize=(10,5), legend=False)\n",
    ");"
   ]
  },
  {
   "cell_type": "code",
   "execution_count": 39,
   "metadata": {},
   "outputs": [
    {
     "data": {
      "image/png": "[encoded data removed]",
      "text/plain": [
       "<Figure size 720x360 with 1 Axes>"
      ]
     },
     "metadata": {
      "needs_background": "light"
     },
     "output_type": "display_data"
    }
   ],
   "source": [
    "(data_actual\n",
    " .pivot_table(index='genre', values='total_sales', aggfunc='sum')\n",
    " .sort_values(by='total_sales', ascending=False)\n",
    " .plot(kind='bar', title='Суммарный объем продаж по жанрам', grid=True, figsize=(10,5), legend=False)\n",
    ");"
   ]
  },
  {
   "cell_type": "code",
   "execution_count": 40,
   "metadata": {},
   "outputs": [
    {
     "data": {
      "image/png": "[encoded data removed]",
      "text/plain": [
       "<Figure size 720x360 with 1 Axes>"
      ]
     },
     "metadata": {
      "needs_background": "light"
     },
     "output_type": "display_data"
    }
   ],
   "source": [
    "(data_actual\n",
    " .pivot_table(index='genre', values='total_sales', aggfunc='mean')\n",
    " .sort_values(by='total_sales', ascending=False)\n",
    " .plot(kind='bar', title='Средний объем продаж по жанрам', grid=True, figsize=(10,5), legend=False)\n",
    ");"
   ]
  },
  {
   "cell_type": "markdown",
   "metadata": {},
   "source": [
    "В ТОП-5 и по количеству, и по суммарным продажам входят жанры Role-Playing, Shooter, Sports и Action, причем последний идёт значительно впереди именно из-за большого количества выпускаемых игр. Так как если посмотреть на средние продажи по всем жанрам, то Action останется только на 9ом месте. А самые большие объемы продаж на единицу игры приходятся на жанр Shooter. Это можно было и заметить по тому, что в жанре Shooter выпускалось относительно не так много игр, но по суммарному объему продаж этот жанр оказался на втором месте. Также по средним объемам продаж можно выделить жанры Sports, Platform, Racing и Role-Playing.\n",
    "А жанр Adventure, несмотря на то, что по количеству выпускаемых игр находится на 3ем месте, показывает незначительные продажи."
   ]
  },
  {
   "cell_type": "markdown",
   "metadata": {},
   "source": [
    "### Вывод"
   ]
  },
  {
   "cell_type": "markdown",
   "metadata": {},
   "source": [
    "Исследовательский анализ данных показал, что:\n",
    "- актуальный период при анализе продаж компьютерных игр - 4 года\n",
    "- потециально прибыльными платформами являются PS4, XOne, 3DS\n",
    "- отзывы критиков влияют на объем продаж больше, чем отзывы пользователей, однако связь слабая\n",
    "- В ТОП-5 и по количеству, и по суммарным продажам игр входят жанры Action, Role-Playing, Shooter и Sports\n",
    "- В расчёте на единицу игры по объёмам продаж преобладает жанр Shooter, за ним идут жанры Platform и Sports."
   ]
  },
  {
   "cell_type": "markdown",
   "metadata": {},
   "source": [
    "## Составление пользовательского портрета по регионам"
   ]
  },
  {
   "cell_type": "markdown",
   "metadata": {},
   "source": [
    "Для составления портрета пользователя по регионам найдем самые популярные платформы и популярные жанры в данных регионах."
   ]
  },
  {
   "cell_type": "markdown",
   "metadata": {},
   "source": [
    "### Определение ТОП-5 популярных платформ по регионам"
   ]
  },
  {
   "cell_type": "code",
   "execution_count": 41,
   "metadata": {
    "scrolled": false
   },
   "outputs": [
    {
     "data": {
      "text/html": [
       "<div>\n",
       "<style scoped>\n",
       "    .dataframe tbody tr th:only-of-type {\n",
       "        vertical-align: middle;\n",
       "    }\n",
       "\n",
       "    .dataframe tbody tr th {\n",
       "        vertical-align: top;\n",
       "    }\n",
       "\n",
       "    .dataframe thead th {\n",
       "        text-align: right;\n",
       "    }\n",
       "</style>\n",
       "<table border=\"1\" class=\"dataframe\">\n",
       "  <thead>\n",
       "    <tr style=\"text-align: right;\">\n",
       "      <th></th>\n",
       "      <th>na_sales</th>\n",
       "      <th>share</th>\n",
       "    </tr>\n",
       "    <tr>\n",
       "      <th>platform</th>\n",
       "      <th></th>\n",
       "      <th></th>\n",
       "    </tr>\n",
       "  </thead>\n",
       "  <tbody>\n",
       "    <tr>\n",
       "      <th>X360</th>\n",
       "      <td>139.88</td>\n",
       "      <td>0.26</td>\n",
       "    </tr>\n",
       "    <tr>\n",
       "      <th>PS3</th>\n",
       "      <td>103.07</td>\n",
       "      <td>0.19</td>\n",
       "    </tr>\n",
       "    <tr>\n",
       "      <th>PS4</th>\n",
       "      <td>87.25</td>\n",
       "      <td>0.16</td>\n",
       "    </tr>\n",
       "    <tr>\n",
       "      <th>XOne</th>\n",
       "      <td>78.85</td>\n",
       "      <td>0.14</td>\n",
       "    </tr>\n",
       "    <tr>\n",
       "      <th>3DS</th>\n",
       "      <td>51.35</td>\n",
       "      <td>0.09</td>\n",
       "    </tr>\n",
       "  </tbody>\n",
       "</table>\n",
       "</div>"
      ],
      "text/plain": [
       "          na_sales  share\n",
       "platform                 \n",
       "X360        139.88   0.26\n",
       "PS3         103.07   0.19\n",
       "PS4          87.25   0.16\n",
       "XOne         78.85   0.14\n",
       "3DS          51.35   0.09"
      ]
     },
     "metadata": {},
     "output_type": "display_data"
    },
    {
     "data": {
      "image/png": "[encoded data removed]",
      "text/plain": [
       "<Figure size 432x288 with 1 Axes>"
      ]
     },
     "metadata": {},
     "output_type": "display_data"
    },
    {
     "data": {
      "text/html": [
       "<div>\n",
       "<style scoped>\n",
       "    .dataframe tbody tr th:only-of-type {\n",
       "        vertical-align: middle;\n",
       "    }\n",
       "\n",
       "    .dataframe tbody tr th {\n",
       "        vertical-align: top;\n",
       "    }\n",
       "\n",
       "    .dataframe thead th {\n",
       "        text-align: right;\n",
       "    }\n",
       "</style>\n",
       "<table border=\"1\" class=\"dataframe\">\n",
       "  <thead>\n",
       "    <tr style=\"text-align: right;\">\n",
       "      <th></th>\n",
       "      <th>eu_sales</th>\n",
       "      <th>share</th>\n",
       "    </tr>\n",
       "    <tr>\n",
       "      <th>platform</th>\n",
       "      <th></th>\n",
       "      <th></th>\n",
       "    </tr>\n",
       "  </thead>\n",
       "  <tbody>\n",
       "    <tr>\n",
       "      <th>PS4</th>\n",
       "      <td>109.31</td>\n",
       "      <td>0.24</td>\n",
       "    </tr>\n",
       "    <tr>\n",
       "      <th>PS3</th>\n",
       "      <td>106.01</td>\n",
       "      <td>0.23</td>\n",
       "    </tr>\n",
       "    <tr>\n",
       "      <th>X360</th>\n",
       "      <td>74.18</td>\n",
       "      <td>0.16</td>\n",
       "    </tr>\n",
       "    <tr>\n",
       "      <th>3DS</th>\n",
       "      <td>40.50</td>\n",
       "      <td>0.09</td>\n",
       "    </tr>\n",
       "    <tr>\n",
       "      <th>XOne</th>\n",
       "      <td>41.96</td>\n",
       "      <td>0.09</td>\n",
       "    </tr>\n",
       "  </tbody>\n",
       "</table>\n",
       "</div>"
      ],
      "text/plain": [
       "          eu_sales  share\n",
       "platform                 \n",
       "PS4         109.31   0.24\n",
       "PS3         106.01   0.23\n",
       "X360         74.18   0.16\n",
       "3DS          40.50   0.09\n",
       "XOne         41.96   0.09"
      ]
     },
     "metadata": {},
     "output_type": "display_data"
    },
    {
     "data": {
      "image/png": "[encoded data removed]",
      "text/plain": [
       "<Figure size 432x288 with 1 Axes>"
      ]
     },
     "metadata": {},
     "output_type": "display_data"
    },
    {
     "data": {
      "text/html": [
       "<div>\n",
       "<style scoped>\n",
       "    .dataframe tbody tr th:only-of-type {\n",
       "        vertical-align: middle;\n",
       "    }\n",
       "\n",
       "    .dataframe tbody tr th {\n",
       "        vertical-align: top;\n",
       "    }\n",
       "\n",
       "    .dataframe thead th {\n",
       "        text-align: right;\n",
       "    }\n",
       "</style>\n",
       "<table border=\"1\" class=\"dataframe\">\n",
       "  <thead>\n",
       "    <tr style=\"text-align: right;\">\n",
       "      <th></th>\n",
       "      <th>jp_sales</th>\n",
       "      <th>share</th>\n",
       "    </tr>\n",
       "    <tr>\n",
       "      <th>platform</th>\n",
       "      <th></th>\n",
       "      <th></th>\n",
       "    </tr>\n",
       "  </thead>\n",
       "  <tbody>\n",
       "    <tr>\n",
       "      <th>3DS</th>\n",
       "      <td>79.76</td>\n",
       "      <td>0.46</td>\n",
       "    </tr>\n",
       "    <tr>\n",
       "      <th>PS3</th>\n",
       "      <td>33.99</td>\n",
       "      <td>0.20</td>\n",
       "    </tr>\n",
       "    <tr>\n",
       "      <th>PSV</th>\n",
       "      <td>17.48</td>\n",
       "      <td>0.10</td>\n",
       "    </tr>\n",
       "    <tr>\n",
       "      <th>WiiU</th>\n",
       "      <td>12.34</td>\n",
       "      <td>0.07</td>\n",
       "    </tr>\n",
       "    <tr>\n",
       "      <th>PS4</th>\n",
       "      <td>10.22</td>\n",
       "      <td>0.06</td>\n",
       "    </tr>\n",
       "  </tbody>\n",
       "</table>\n",
       "</div>"
      ],
      "text/plain": [
       "          jp_sales  share\n",
       "platform                 \n",
       "3DS          79.76   0.46\n",
       "PS3          33.99   0.20\n",
       "PSV          17.48   0.10\n",
       "WiiU         12.34   0.07\n",
       "PS4          10.22   0.06"
      ]
     },
     "metadata": {},
     "output_type": "display_data"
    },
    {
     "data": {
      "image/png": "[encoded data removed]",
      "text/plain": [
       "<Figure size 432x288 with 1 Axes>"
      ]
     },
     "metadata": {},
     "output_type": "display_data"
    }
   ],
   "source": [
    "for i in data_actual[['na_sales', 'eu_sales', 'jp_sales']]: # для всех регионов датафрейма\n",
    "    # вводим новую переменную с группировкой объема продаж по платформам\n",
    "    region_data = data_actual.pivot_table(index='platform', values=i, aggfunc='sum')\n",
    "    # добавляем долю продаж платформы от всех продаж в данном регионе\n",
    "    region_data['share'] = (region_data[i]/region_data[i].sum()).round(2)\n",
    "    # выделяем первые 5 платформ\n",
    "    region_data_top_5 = region_data.sort_values(by = 'share', ascending=False).head(5)\n",
    "    # выводим получившуюся диаграмму для визуализации\n",
    "    display(region_data_top_5)\n",
    "    region_data_top_5.plot(kind='pie', label='', y=i, title=i, legend=False)\n",
    "    plt.show()"
   ]
  },
  {
   "cell_type": "markdown",
   "metadata": {},
   "source": [
    "- В Америке самой большой популярностью (26% доля рынка) пользуется платформа X360, поскольку эта платформа от корпорации Microsoft, базирующейся в США. \n",
    "- В Европе самыми популярными оказалиьс PS3 и PS4 (ок. 23-24%), несмотря на то, что эта платформа японская от компании Sony. По всей видимости эта платформа направлена именно нацелевую аудиторию в Европе, а также в Америке, так как там эти платформы занимают 2 и 3 место по доле рынка. \n",
    "- В Японии ярко выражено распространение платформы 3DS (46%) от япноской компании Nintendo. Её отличие в том, что это портативная консоль, а поскольку известно, что жители Японии очень много времени проводят на работе, то можно сделать вывод, что портативные консоли там популярнее всего."
   ]
  },
  {
   "cell_type": "markdown",
   "metadata": {},
   "source": [
    "### Определение ТОП-5 популярных жанров по регионам"
   ]
  },
  {
   "cell_type": "markdown",
   "metadata": {},
   "source": [
    "Аналогично выделим самые популярные жанры."
   ]
  },
  {
   "cell_type": "code",
   "execution_count": 42,
   "metadata": {},
   "outputs": [
    {
     "data": {
      "text/html": [
       "<div>\n",
       "<style scoped>\n",
       "    .dataframe tbody tr th:only-of-type {\n",
       "        vertical-align: middle;\n",
       "    }\n",
       "\n",
       "    .dataframe tbody tr th {\n",
       "        vertical-align: top;\n",
       "    }\n",
       "\n",
       "    .dataframe thead th {\n",
       "        text-align: right;\n",
       "    }\n",
       "</style>\n",
       "<table border=\"1\" class=\"dataframe\">\n",
       "  <thead>\n",
       "    <tr style=\"text-align: right;\">\n",
       "      <th></th>\n",
       "      <th>na_sales</th>\n",
       "      <th>share</th>\n",
       "    </tr>\n",
       "    <tr>\n",
       "      <th>genre</th>\n",
       "      <th></th>\n",
       "      <th></th>\n",
       "    </tr>\n",
       "  </thead>\n",
       "  <tbody>\n",
       "    <tr>\n",
       "      <th>Action</th>\n",
       "      <td>170.80</td>\n",
       "      <td>0.31</td>\n",
       "    </tr>\n",
       "    <tr>\n",
       "      <th>Shooter</th>\n",
       "      <td>128.55</td>\n",
       "      <td>0.23</td>\n",
       "    </tr>\n",
       "    <tr>\n",
       "      <th>Sports</th>\n",
       "      <td>73.99</td>\n",
       "      <td>0.13</td>\n",
       "    </tr>\n",
       "    <tr>\n",
       "      <th>Role-Playing</th>\n",
       "      <td>58.11</td>\n",
       "      <td>0.11</td>\n",
       "    </tr>\n",
       "    <tr>\n",
       "      <th>Misc</th>\n",
       "      <td>37.43</td>\n",
       "      <td>0.07</td>\n",
       "    </tr>\n",
       "  </tbody>\n",
       "</table>\n",
       "</div>"
      ],
      "text/plain": [
       "              na_sales  share\n",
       "genre                        \n",
       "Action          170.80   0.31\n",
       "Shooter         128.55   0.23\n",
       "Sports           73.99   0.13\n",
       "Role-Playing     58.11   0.11\n",
       "Misc             37.43   0.07"
      ]
     },
     "metadata": {},
     "output_type": "display_data"
    },
    {
     "data": {
      "image/png": "[encoded data removed]",
      "text/plain": [
       "<Figure size 432x288 with 1 Axes>"
      ]
     },
     "metadata": {},
     "output_type": "display_data"
    },
    {
     "data": {
      "text/html": [
       "<div>\n",
       "<style scoped>\n",
       "    .dataframe tbody tr th:only-of-type {\n",
       "        vertical-align: middle;\n",
       "    }\n",
       "\n",
       "    .dataframe tbody tr th {\n",
       "        vertical-align: top;\n",
       "    }\n",
       "\n",
       "    .dataframe thead th {\n",
       "        text-align: right;\n",
       "    }\n",
       "</style>\n",
       "<table border=\"1\" class=\"dataframe\">\n",
       "  <thead>\n",
       "    <tr style=\"text-align: right;\">\n",
       "      <th></th>\n",
       "      <th>eu_sales</th>\n",
       "      <th>share</th>\n",
       "    </tr>\n",
       "    <tr>\n",
       "      <th>genre</th>\n",
       "      <th></th>\n",
       "      <th></th>\n",
       "    </tr>\n",
       "  </thead>\n",
       "  <tbody>\n",
       "    <tr>\n",
       "      <th>Action</th>\n",
       "      <td>150.77</td>\n",
       "      <td>0.33</td>\n",
       "    </tr>\n",
       "    <tr>\n",
       "      <th>Shooter</th>\n",
       "      <td>97.57</td>\n",
       "      <td>0.21</td>\n",
       "    </tr>\n",
       "    <tr>\n",
       "      <th>Sports</th>\n",
       "      <td>57.08</td>\n",
       "      <td>0.12</td>\n",
       "    </tr>\n",
       "    <tr>\n",
       "      <th>Role-Playing</th>\n",
       "      <td>44.25</td>\n",
       "      <td>0.10</td>\n",
       "    </tr>\n",
       "    <tr>\n",
       "      <th>Misc</th>\n",
       "      <td>25.66</td>\n",
       "      <td>0.06</td>\n",
       "    </tr>\n",
       "  </tbody>\n",
       "</table>\n",
       "</div>"
      ],
      "text/plain": [
       "              eu_sales  share\n",
       "genre                        \n",
       "Action          150.77   0.33\n",
       "Shooter          97.57   0.21\n",
       "Sports           57.08   0.12\n",
       "Role-Playing     44.25   0.10\n",
       "Misc             25.66   0.06"
      ]
     },
     "metadata": {},
     "output_type": "display_data"
    },
    {
     "data": {
      "image/png": "[encoded data removed]",
      "text/plain": [
       "<Figure size 432x288 with 1 Axes>"
      ]
     },
     "metadata": {},
     "output_type": "display_data"
    },
    {
     "data": {
      "text/html": [
       "<div>\n",
       "<style scoped>\n",
       "    .dataframe tbody tr th:only-of-type {\n",
       "        vertical-align: middle;\n",
       "    }\n",
       "\n",
       "    .dataframe tbody tr th {\n",
       "        vertical-align: top;\n",
       "    }\n",
       "\n",
       "    .dataframe thead th {\n",
       "        text-align: right;\n",
       "    }\n",
       "</style>\n",
       "<table border=\"1\" class=\"dataframe\">\n",
       "  <thead>\n",
       "    <tr style=\"text-align: right;\">\n",
       "      <th></th>\n",
       "      <th>jp_sales</th>\n",
       "      <th>share</th>\n",
       "    </tr>\n",
       "    <tr>\n",
       "      <th>genre</th>\n",
       "      <th></th>\n",
       "      <th></th>\n",
       "    </tr>\n",
       "  </thead>\n",
       "  <tbody>\n",
       "    <tr>\n",
       "      <th>Role-Playing</th>\n",
       "      <td>58.83</td>\n",
       "      <td>0.34</td>\n",
       "    </tr>\n",
       "    <tr>\n",
       "      <th>Action</th>\n",
       "      <td>45.73</td>\n",
       "      <td>0.26</td>\n",
       "    </tr>\n",
       "    <tr>\n",
       "      <th>Misc</th>\n",
       "      <td>12.06</td>\n",
       "      <td>0.07</td>\n",
       "    </tr>\n",
       "    <tr>\n",
       "      <th>Simulation</th>\n",
       "      <td>10.08</td>\n",
       "      <td>0.06</td>\n",
       "    </tr>\n",
       "    <tr>\n",
       "      <th>Fighting</th>\n",
       "      <td>8.69</td>\n",
       "      <td>0.05</td>\n",
       "    </tr>\n",
       "  </tbody>\n",
       "</table>\n",
       "</div>"
      ],
      "text/plain": [
       "              jp_sales  share\n",
       "genre                        \n",
       "Role-Playing     58.83   0.34\n",
       "Action           45.73   0.26\n",
       "Misc             12.06   0.07\n",
       "Simulation       10.08   0.06\n",
       "Fighting          8.69   0.05"
      ]
     },
     "metadata": {},
     "output_type": "display_data"
    },
    {
     "data": {
      "image/png": "[encoded data removed]",
      "text/plain": [
       "<Figure size 432x288 with 1 Axes>"
      ]
     },
     "metadata": {},
     "output_type": "display_data"
    }
   ],
   "source": [
    "for i in data_actual[['na_sales', 'eu_sales', 'jp_sales']]:\n",
    "    region_genre_data = data_actual.pivot_table(index='genre', values=i, aggfunc='sum')\n",
    "    region_genre_data['share'] = (region_genre_data[i]/region_genre_data[i].sum()).round(2)\n",
    "    region_genre_data_top_5 = region_genre_data.sort_values(by = 'share', ascending=False).head(5)\n",
    "    display(region_genre_data_top_5)\n",
    "    region_genre_data_top_5.plot(kind='pie', y=i, label='', title = i, legend=False)\n",
    "    plt.show()"
   ]
  },
  {
   "cell_type": "markdown",
   "metadata": {},
   "source": [
    "В Европе и Америке ТОП-5 жанров одинаковые, а их доли почти совпадают. Это обусловлено тем, что игровые культуры этих регионов очень похожи. Первые три места занимают жанры Action, Shooter, Sport, которые являются динамичными играми. \n",
    "\n",
    "В Японии 60% всех продаж занимают два жанра Action и Role-Playing, причем на первом месте в данном регионе находится Role-Playing. Этот жанр менее динамичный и требует больше обдуманных и планомерных действий и решений."
   ]
  },
  {
   "cell_type": "markdown",
   "metadata": {},
   "source": [
    "### Определение влияния рейтинга по регионам"
   ]
  },
  {
   "cell_type": "markdown",
   "metadata": {},
   "source": [
    "Определим, игры с каким рейтингом более популярны в каждом регионе, аналогично двум предыдущим пунктам."
   ]
  },
  {
   "cell_type": "code",
   "execution_count": 43,
   "metadata": {},
   "outputs": [
    {
     "data": {
      "image/png": "[encoded data removed]",
      "text/plain": [
       "<Figure size 432x288 with 1 Axes>"
      ]
     },
     "metadata": {},
     "output_type": "display_data"
    },
    {
     "data": {
      "image/png": "[encoded data removed]",
      "text/plain": [
       "<Figure size 432x288 with 1 Axes>"
      ]
     },
     "metadata": {},
     "output_type": "display_data"
    },
    {
     "data": {
      "image/png": "[encoded data removed]",
      "text/plain": [
       "<Figure size 432x288 with 1 Axes>"
      ]
     },
     "metadata": {},
     "output_type": "display_data"
    }
   ],
   "source": [
    "for i in data_actual[['na_sales', 'eu_sales', 'jp_sales']]:\n",
    "    region_genre_data = data_actual.pivot_table(index='rating', values=i, aggfunc='sum')\n",
    "    region_genre_data.plot(kind='pie', y=i, label='', title = i, legend=False, autopct='%.1f')\n",
    "    plt.show()"
   ]
  },
  {
   "cell_type": "markdown",
   "metadata": {},
   "source": [
    "Снова можно увидеть, что в Америке и Европе очень похожие ситуации. Около 40% продаж приходится на игры категории М (для взрослых). Около 20% игр приходится для любого возраста. Но видно, что примерно у 16% игр не проставлен рейтинг, поэтому сложно точно сказать, влияет ли рейтинг на продажи в этих регионах.\n",
    "\n",
    "В Японии еще сложнее анализировать данные, так как там рейтинг неизвестен больше, чем у половины игр. то может быть связано с тем, что в наших данных рейтинг представлен от организации ESRB, что является американской системой оценок. В Японии же существует своя организация для оценок игр - CERO."
   ]
  },
  {
   "cell_type": "markdown",
   "metadata": {},
   "source": [
    "### Вывод"
   ]
  },
  {
   "cell_type": "markdown",
   "metadata": {},
   "source": [
    "- Пользователи из Америки предпочитают игры динамичных жанров Action, Shooter, Sport. Чаще всего пользуются платформой X360, но также популярны PS3 и PS4. Больше всего популярны игры с рейтингом М (для взрослых).\n",
    "- Пользователи из Европы также предпочитают игры динамичных жанров Action, Shooter, Sport. Чаще всего пользуются платформами PS3 и PS4. Больше всего популярны игры с рейтингом М (для взрослых).\n",
    "- Пользователи из Японии предпочитают игры жанра Role-Playing, но также относительно высокую долю занимают игры в жанре Action. Чаще всего используют платформу 3DS. У большинства игр нет рейтинга возраста, поскольку в исходных данных рейтинг представлен американской организацией ESRB."
   ]
  },
  {
   "cell_type": "markdown",
   "metadata": {},
   "source": [
    "## Проверка гипотез"
   ]
  },
  {
   "cell_type": "markdown",
   "metadata": {},
   "source": [
    "Проверим две гипотезы и для каждой сформулируем альтернативную. Так как нулевая гипотеза всегда формулируется так, чтобы использовать знак равенства, то нулевые и альтернативные гипотезы будут следующие:\n",
    "\n",
    "*Гипотеза 1:*\n",
    "- H₀: Средние пользовательские рейтинги платформ Xbox One и PC равны\n",
    "- H₁: Средние пользовательские рейтинги платформ Xbox One и PC не равны\n",
    "  \n",
    "*Гипотеза 2:*  \n",
    "- H₀: Средние пользовательские рейтинги жанров Action и Sports равны.\n",
    "- H₁: Средние пользовательские рейтинги жанров Action и Sports не равны."
   ]
  },
  {
   "cell_type": "markdown",
   "metadata": {},
   "source": [
    "### Гипотеза 1"
   ]
  },
  {
   "cell_type": "markdown",
   "metadata": {},
   "source": [
    "Так как рейтинги проставлены не во всём Датафрейме, а там где были пропущены значения мы поставили \"заглушку\" в виде значения -1, значит, мы будем анализировать выборки данных. Проверим объемы выборок."
   ]
  },
  {
   "cell_type": "code",
   "execution_count": 44,
   "metadata": {},
   "outputs": [
    {
     "data": {
      "text/plain": [
       "platform\n",
       "3DS     103\n",
       "DS        3\n",
       "PC      165\n",
       "PS3     275\n",
       "PS4     156\n",
       "PSP       4\n",
       "PSV     117\n",
       "Wii      18\n",
       "WiiU     91\n",
       "X360    229\n",
       "XOne    116\n",
       "Name: name, dtype: int64"
      ]
     },
     "execution_count": 44,
     "metadata": {},
     "output_type": "execute_result"
    }
   ],
   "source": [
    "data_actual.query('user_score != -1').groupby('platform')['name'].count()"
   ]
  },
  {
   "cell_type": "markdown",
   "metadata": {},
   "source": [
    "Объемы выборок для платформ Xbox One и PC находятся в одном диапазоне, поэтому не будем добавлять параметр `equal_var = False`. Критический уровень статистической значимости возьмём 0.01. Проверим первую гипотезу."
   ]
  },
  {
   "cell_type": "code",
   "execution_count": 45,
   "metadata": {},
   "outputs": [
    {
     "name": "stdout",
     "output_type": "stream",
     "text": [
      "p-значение:  0.981369790613591\n",
      "Не отвергаем нулевую гипотезу\n"
     ]
    }
   ],
   "source": [
    "sample_1 = data_actual.query('user_score != -1 & platform == \"XOne\"')['user_score']\n",
    "sample_2 = data_actual.query('user_score != -1 & platform == \"PC\"')['user_score']\n",
    "alpha = .01\n",
    "results_0 = st.ttest_ind(\n",
    "    sample_1, \n",
    "    sample_2\n",
    ")\n",
    "\n",
    "print('p-значение: ', results_0.pvalue)\n",
    "\n",
    "if results_0.pvalue < alpha:\n",
    "    print(\"Отвергаем нулевую гипотезу\")\n",
    "else:\n",
    "    print(\"Не отвергаем нулевую гипотезу\") "
   ]
  },
  {
   "cell_type": "markdown",
   "metadata": {},
   "source": [
    "Значение p-value очень высокое, чтобы отвергать такую гипотезу. При таком значении можно подтвердить нулевую гипотезу, что *средние пользовательские рейтинги платформ Xbox One и PC равны.*"
   ]
  },
  {
   "cell_type": "markdown",
   "metadata": {},
   "source": [
    "### Гипотеза 2"
   ]
  },
  {
   "cell_type": "markdown",
   "metadata": {},
   "source": [
    "Проверим объемы выборок для проверки второй гипотезы."
   ]
  },
  {
   "cell_type": "code",
   "execution_count": 46,
   "metadata": {},
   "outputs": [
    {
     "data": {
      "text/plain": [
       "genre\n",
       "Action          445\n",
       "Adventure        53\n",
       "Fighting         60\n",
       "Misc             61\n",
       "Platform         56\n",
       "Puzzle            9\n",
       "Racing           69\n",
       "Role-Playing    149\n",
       "Shooter         158\n",
       "Simulation       32\n",
       "Sports          158\n",
       "Strategy         27\n",
       "Name: name, dtype: int64"
      ]
     },
     "execution_count": 46,
     "metadata": {},
     "output_type": "execute_result"
    }
   ],
   "source": [
    "data_actual.query('user_score != -1').groupby('genre')['name'].count()"
   ]
  },
  {
   "cell_type": "markdown",
   "metadata": {},
   "source": [
    "Объемы выборок для жанров Action и Sports не равны, поэтому добавим параметр `equal_var = False`. Критический уровень статистической значимости возьмём 0.01. Проверим второую гипотезу."
   ]
  },
  {
   "cell_type": "code",
   "execution_count": 47,
   "metadata": {},
   "outputs": [
    {
     "name": "stdout",
     "output_type": "stream",
     "text": [
      "p-значение:  1.838715928358654e-18\n",
      "Отвергаем нулевую гипотезу\n"
     ]
    }
   ],
   "source": [
    "sample_1 = data_actual.query('user_score != -1 & genre == \"Action\"')['user_score']\n",
    "sample_2 = data_actual.query('user_score != -1 & genre == \"Sports\"')['user_score']\n",
    "alpha = .01\n",
    "results_0 = st.ttest_ind(\n",
    "    sample_1, \n",
    "    sample_2,\n",
    "    equal_var = False\n",
    ")\n",
    "\n",
    "print('p-значение: ', results_0.pvalue)\n",
    "\n",
    "if results_0.pvalue < alpha:\n",
    "    print(\"Отвергаем нулевую гипотезу\")\n",
    "else:\n",
    "    print(\"Не отвергаем нулевую гипотезу\") "
   ]
  },
  {
   "cell_type": "markdown",
   "metadata": {},
   "source": [
    "В данном случае p-value слишком мало, чтобы не отвергать нулевую гипотезу. Поэтому отвергаем её в пользу альтернативной: *средние пользовательские рейтинги жанров Action и Sports не равны.*"
   ]
  },
  {
   "cell_type": "markdown",
   "metadata": {},
   "source": [
    "## Общий вывод"
   ]
  },
  {
   "cell_type": "markdown",
   "metadata": {},
   "source": [
    "- Для анализа данных был выбран период в 4 года, так как в среднем именно столько игра находится на пике продаж.\n",
    "- При планировании рекламных кампаний больше всего стоит уделить внимание платформам PS4, XOne, 3DS, так как они более современные и показатели их продаж либо растут, либо значительно выше, чем у других платформ.\n",
    "- В жанрах следует делать упор на Shooter, Sports, Platform так как по средним объемам продаж данные игры успешнее всего.\n",
    "- При выборе продвигаемых игр стоит обращать внимание на оценки критиков, так как хоть и слабая, но есть связь между высокой оценкой критиков и высоким объемом продаж.\n",
    "- При планировании рекламных кампаний по регионам для Америки и Европы можно разработать единую модель продвижения, так как портреты пользователей в этих регионах схожи. Для пользователей из Японии необходимо разработать отдельную кампанию.\n",
    "- Пользователи из Америки предпочитают игры динамичных жанров Action и Shooter. Чаще всего пользуются платформой X360. Больше всего популярны игры с рейтингом М (для взрослых).\n",
    "- Пользователи из Европы также предпочитают игры динамичных жанров Action, Shooter, Sport. Чаще всего пользуются платформами PS3 и PS4. Больше всего популярны игры с рейтингом М (для взрослых).\n",
    "- Пользователи из Японии предпочитают игры жанра Role-Playing и Action. Чаще всего используют платформу 3DS. У большинства игр нет рейтинга возраста.\n",
    "- При проверки гипотез было выявлено, что:\n",
    "        *средние пользовательские рейтинги платформ Xbox One и PC равны\n",
    "        *средние пользовательские рейтинги жанров Action и Sports не равны"
   ]
  },
  {
   "cell_type": "code",
   "execution_count": null,
   "metadata": {},
   "outputs": [],
   "source": []
  }
 ],
 "metadata": {
  "ExecuteTimeLog": [
   {
    "duration": 1110,
    "start_time": "2022-04-09T08:39:59.927Z"
   },
   {
    "duration": 53,
    "start_time": "2022-04-09T08:40:01.039Z"
   },
   {
    "duration": 22,
    "start_time": "2022-04-09T08:40:01.094Z"
   },
   {
    "duration": 3,
    "start_time": "2022-04-09T08:40:01.118Z"
   },
   {
    "duration": 21,
    "start_time": "2022-04-09T08:40:01.123Z"
   },
   {
    "duration": 33,
    "start_time": "2022-04-09T08:40:01.146Z"
   },
   {
    "duration": 35,
    "start_time": "2022-04-09T08:40:01.181Z"
   },
   {
    "duration": 24,
    "start_time": "2022-04-09T08:40:01.218Z"
   },
   {
    "duration": 19,
    "start_time": "2022-04-09T08:40:01.244Z"
   },
   {
    "duration": 81,
    "start_time": "2022-04-09T08:40:01.266Z"
   },
   {
    "duration": 31565,
    "start_time": "2022-04-09T08:40:01.349Z"
   },
   {
    "duration": 17,
    "start_time": "2022-04-09T08:40:32.915Z"
   },
   {
    "duration": 34,
    "start_time": "2022-04-09T08:40:32.934Z"
   },
   {
    "duration": 19,
    "start_time": "2022-04-09T08:40:32.970Z"
   },
   {
    "duration": 24,
    "start_time": "2022-04-09T08:40:32.991Z"
   },
   {
    "duration": 6,
    "start_time": "2022-04-09T08:40:33.017Z"
   },
   {
    "duration": 7,
    "start_time": "2022-04-09T08:40:33.025Z"
   },
   {
    "duration": 12,
    "start_time": "2022-04-09T08:40:33.034Z"
   },
   {
    "duration": 11,
    "start_time": "2022-04-09T08:40:33.048Z"
   },
   {
    "duration": 5,
    "start_time": "2022-04-09T08:40:33.061Z"
   },
   {
    "duration": 64,
    "start_time": "2022-04-09T08:40:33.067Z"
   },
   {
    "duration": 192,
    "start_time": "2022-04-09T08:40:33.132Z"
   },
   {
    "duration": 17,
    "start_time": "2022-04-09T08:40:33.325Z"
   },
   {
    "duration": 2010,
    "start_time": "2022-04-09T08:40:33.343Z"
   },
   {
    "duration": 6,
    "start_time": "2022-04-09T08:40:35.354Z"
   },
   {
    "duration": 27,
    "start_time": "2022-04-09T08:40:35.362Z"
   },
   {
    "duration": 338,
    "start_time": "2022-04-09T08:40:35.391Z"
   },
   {
    "duration": 190,
    "start_time": "2022-04-09T08:40:35.732Z"
   },
   {
    "duration": 124,
    "start_time": "2022-04-09T08:40:35.923Z"
   },
   {
    "duration": 119,
    "start_time": "2022-04-09T08:40:36.049Z"
   },
   {
    "duration": 7,
    "start_time": "2022-04-09T08:40:36.170Z"
   },
   {
    "duration": 12,
    "start_time": "2022-04-09T08:40:36.179Z"
   },
   {
    "duration": 173,
    "start_time": "2022-04-09T08:40:36.193Z"
   },
   {
    "duration": 177,
    "start_time": "2022-04-09T08:40:36.368Z"
   },
   {
    "duration": 173,
    "start_time": "2022-04-09T08:40:36.547Z"
   },
   {
    "duration": 160,
    "start_time": "2022-04-09T08:40:36.722Z"
   },
   {
    "duration": 204,
    "start_time": "2022-04-09T08:40:36.884Z"
   },
   {
    "duration": 225,
    "start_time": "2022-04-09T08:40:37.090Z"
   },
   {
    "duration": 372,
    "start_time": "2022-04-09T08:40:37.316Z"
   },
   {
    "duration": 320,
    "start_time": "2022-04-09T08:40:37.690Z"
   },
   {
    "duration": 280,
    "start_time": "2022-04-09T08:40:38.012Z"
   },
   {
    "duration": 18,
    "start_time": "2022-04-09T08:40:38.294Z"
   },
   {
    "duration": 10,
    "start_time": "2022-04-09T08:40:38.314Z"
   },
   {
    "duration": 10,
    "start_time": "2022-04-09T08:40:38.326Z"
   },
   {
    "duration": 10,
    "start_time": "2022-04-09T08:40:38.338Z"
   },
   {
    "duration": 49,
    "start_time": "2022-04-10T11:42:23.889Z"
   },
   {
    "duration": 6,
    "start_time": "2022-04-10T11:51:35.424Z"
   },
   {
    "duration": 1221,
    "start_time": "2022-04-10T11:51:50.859Z"
   },
   {
    "duration": 59,
    "start_time": "2022-04-10T11:51:52.082Z"
   },
   {
    "duration": 15,
    "start_time": "2022-04-10T11:51:52.142Z"
   },
   {
    "duration": 4,
    "start_time": "2022-04-10T11:51:52.159Z"
   },
   {
    "duration": 15,
    "start_time": "2022-04-10T11:51:52.164Z"
   },
   {
    "duration": 42,
    "start_time": "2022-04-10T11:51:52.181Z"
   },
   {
    "duration": 21,
    "start_time": "2022-04-10T11:51:52.225Z"
   },
   {
    "duration": 22,
    "start_time": "2022-04-10T11:51:52.247Z"
   },
   {
    "duration": 47,
    "start_time": "2022-04-10T11:51:52.271Z"
   },
   {
    "duration": 51,
    "start_time": "2022-04-10T11:51:52.322Z"
   },
   {
    "duration": 31407,
    "start_time": "2022-04-10T11:51:52.375Z"
   },
   {
    "duration": 16,
    "start_time": "2022-04-10T11:52:23.784Z"
   },
   {
    "duration": 31,
    "start_time": "2022-04-10T11:52:23.802Z"
   },
   {
    "duration": 27,
    "start_time": "2022-04-10T11:52:23.835Z"
   },
   {
    "duration": 9,
    "start_time": "2022-04-10T11:52:23.864Z"
   },
   {
    "duration": 7,
    "start_time": "2022-04-10T11:52:23.874Z"
   },
   {
    "duration": 30,
    "start_time": "2022-04-10T11:52:23.883Z"
   },
   {
    "duration": 14,
    "start_time": "2022-04-10T11:52:23.916Z"
   },
   {
    "duration": 13,
    "start_time": "2022-04-10T11:52:23.932Z"
   },
   {
    "duration": 6,
    "start_time": "2022-04-10T11:52:23.946Z"
   },
   {
    "duration": 24,
    "start_time": "2022-04-10T11:52:23.954Z"
   },
   {
    "duration": 193,
    "start_time": "2022-04-10T11:52:24.009Z"
   },
   {
    "duration": 22,
    "start_time": "2022-04-10T11:52:24.204Z"
   },
   {
    "duration": 2016,
    "start_time": "2022-04-10T11:52:24.228Z"
   },
   {
    "duration": 6,
    "start_time": "2022-04-10T11:52:26.246Z"
   },
   {
    "duration": 25,
    "start_time": "2022-04-10T11:52:26.253Z"
   },
   {
    "duration": 338,
    "start_time": "2022-04-10T11:52:26.280Z"
   },
   {
    "duration": 194,
    "start_time": "2022-04-10T11:52:26.623Z"
   },
   {
    "duration": 113,
    "start_time": "2022-04-10T11:52:26.819Z"
   },
   {
    "duration": 123,
    "start_time": "2022-04-10T11:52:26.934Z"
   },
   {
    "duration": 112,
    "start_time": "2022-04-10T11:52:27.059Z"
   },
   {
    "duration": 7,
    "start_time": "2022-04-10T11:52:27.172Z"
   },
   {
    "duration": 13,
    "start_time": "2022-04-10T11:52:27.180Z"
   },
   {
    "duration": 176,
    "start_time": "2022-04-10T11:52:27.195Z"
   },
   {
    "duration": 174,
    "start_time": "2022-04-10T11:52:27.372Z"
   },
   {
    "duration": 172,
    "start_time": "2022-04-10T11:52:27.547Z"
   },
   {
    "duration": 162,
    "start_time": "2022-04-10T11:52:27.721Z"
   },
   {
    "duration": 193,
    "start_time": "2022-04-10T11:52:27.884Z"
   },
   {
    "duration": 203,
    "start_time": "2022-04-10T11:52:28.079Z"
   },
   {
    "duration": 367,
    "start_time": "2022-04-10T11:52:28.283Z"
   },
   {
    "duration": 305,
    "start_time": "2022-04-10T11:52:28.652Z"
   },
   {
    "duration": 291,
    "start_time": "2022-04-10T11:52:28.958Z"
   },
   {
    "duration": 9,
    "start_time": "2022-04-10T11:52:29.250Z"
   },
   {
    "duration": 11,
    "start_time": "2022-04-10T11:52:29.260Z"
   },
   {
    "duration": 8,
    "start_time": "2022-04-10T11:52:29.272Z"
   },
   {
    "duration": 38,
    "start_time": "2022-04-10T11:52:29.282Z"
   },
   {
    "duration": 119,
    "start_time": "2022-04-10T11:54:05.783Z"
   },
   {
    "duration": 289,
    "start_time": "2022-04-10T11:54:32.324Z"
   },
   {
    "duration": 345,
    "start_time": "2022-04-10T11:57:29.682Z"
   },
   {
    "duration": 15,
    "start_time": "2022-04-10T11:59:23.321Z"
   },
   {
    "duration": 113,
    "start_time": "2022-04-10T11:59:40.170Z"
   },
   {
    "duration": 325,
    "start_time": "2022-04-10T12:01:59.760Z"
   },
   {
    "duration": 624,
    "start_time": "2022-04-10T12:02:26.330Z"
   },
   {
    "duration": 115,
    "start_time": "2022-04-10T12:04:04.140Z"
   },
   {
    "duration": 190,
    "start_time": "2022-04-10T12:04:08.960Z"
   },
   {
    "duration": 111,
    "start_time": "2022-04-10T12:04:33.434Z"
   },
   {
    "duration": 10,
    "start_time": "2022-04-10T12:07:22.950Z"
   },
   {
    "duration": 22,
    "start_time": "2022-04-10T12:07:33.699Z"
   },
   {
    "duration": 70,
    "start_time": "2022-04-10T12:08:08.085Z"
   },
   {
    "duration": 17,
    "start_time": "2022-04-10T12:08:14.520Z"
   },
   {
    "duration": 16,
    "start_time": "2022-04-10T12:08:40.087Z"
   },
   {
    "duration": 23,
    "start_time": "2022-04-10T12:10:11.633Z"
   },
   {
    "duration": 30,
    "start_time": "2022-04-10T12:11:27.117Z"
   },
   {
    "duration": 30,
    "start_time": "2022-04-10T12:12:17.873Z"
   },
   {
    "duration": 216,
    "start_time": "2022-04-10T12:18:33.713Z"
   },
   {
    "duration": 186,
    "start_time": "2022-04-10T12:22:14.267Z"
   },
   {
    "duration": 6,
    "start_time": "2022-04-10T12:22:20.845Z"
   },
   {
    "duration": 10,
    "start_time": "2022-04-10T12:22:45.143Z"
   },
   {
    "duration": 13,
    "start_time": "2022-04-10T12:23:21.279Z"
   },
   {
    "duration": 219,
    "start_time": "2022-04-10T12:23:29.093Z"
   },
   {
    "duration": 223,
    "start_time": "2022-04-10T12:24:43.449Z"
   },
   {
    "duration": 120,
    "start_time": "2022-04-10T12:25:01.810Z"
   },
   {
    "duration": 58,
    "start_time": "2022-04-10T12:25:33.546Z"
   },
   {
    "duration": 233,
    "start_time": "2022-04-10T12:26:29.375Z"
   },
   {
    "duration": 231,
    "start_time": "2022-04-10T12:26:47.334Z"
   },
   {
    "duration": 216,
    "start_time": "2022-04-10T12:27:55.045Z"
   },
   {
    "duration": 178,
    "start_time": "2022-04-10T12:31:14.897Z"
   },
   {
    "duration": 167,
    "start_time": "2022-04-10T12:32:00.096Z"
   },
   {
    "duration": 172,
    "start_time": "2022-04-10T12:32:04.160Z"
   },
   {
    "duration": 166,
    "start_time": "2022-04-10T12:32:09.577Z"
   },
   {
    "duration": 172,
    "start_time": "2022-04-10T12:32:14.427Z"
   },
   {
    "duration": 169,
    "start_time": "2022-04-10T12:32:21.133Z"
   },
   {
    "duration": 166,
    "start_time": "2022-04-10T12:34:32.243Z"
   },
   {
    "duration": 168,
    "start_time": "2022-04-10T12:34:38.165Z"
   },
   {
    "duration": 157,
    "start_time": "2022-04-10T12:34:42.950Z"
   },
   {
    "duration": 168,
    "start_time": "2022-04-10T12:35:04.982Z"
   },
   {
    "duration": 173,
    "start_time": "2022-04-10T12:35:10.658Z"
   },
   {
    "duration": 256,
    "start_time": "2022-04-10T12:36:02.860Z"
   },
   {
    "duration": 178,
    "start_time": "2022-04-10T12:36:11.144Z"
   },
   {
    "duration": 168,
    "start_time": "2022-04-10T12:36:18.530Z"
   },
   {
    "duration": 184,
    "start_time": "2022-04-10T12:36:28.187Z"
   },
   {
    "duration": 168,
    "start_time": "2022-04-10T12:37:05.554Z"
   },
   {
    "duration": 151,
    "start_time": "2022-04-10T12:37:16.668Z"
   },
   {
    "duration": 161,
    "start_time": "2022-04-10T12:37:26.429Z"
   },
   {
    "duration": 13,
    "start_time": "2022-04-10T12:37:38.842Z"
   },
   {
    "duration": 163,
    "start_time": "2022-04-10T12:37:43.356Z"
   },
   {
    "duration": 18,
    "start_time": "2022-04-10T12:39:11.439Z"
   },
   {
    "duration": 167,
    "start_time": "2022-04-10T12:39:18.207Z"
   },
   {
    "duration": 212,
    "start_time": "2022-04-10T12:44:39.857Z"
   },
   {
    "duration": 171,
    "start_time": "2022-04-10T12:44:54.888Z"
   },
   {
    "duration": 195,
    "start_time": "2022-04-10T12:45:01.435Z"
   },
   {
    "duration": 176,
    "start_time": "2022-04-10T12:45:10.879Z"
   },
   {
    "duration": 180,
    "start_time": "2022-04-10T12:45:25.493Z"
   },
   {
    "duration": 176,
    "start_time": "2022-04-10T12:45:36.857Z"
   },
   {
    "duration": 201,
    "start_time": "2022-04-10T12:46:23.633Z"
   },
   {
    "duration": 292,
    "start_time": "2022-04-10T12:46:43.108Z"
   },
   {
    "duration": 174,
    "start_time": "2022-04-10T12:48:59.107Z"
   },
   {
    "duration": 7,
    "start_time": "2022-04-10T12:57:06.275Z"
   },
   {
    "duration": 6,
    "start_time": "2022-04-10T12:57:11.664Z"
   },
   {
    "duration": 172,
    "start_time": "2022-04-10T13:01:26.986Z"
   },
   {
    "duration": 177,
    "start_time": "2022-04-10T13:01:32.701Z"
   },
   {
    "duration": 1854,
    "start_time": "2022-04-10T13:03:49.426Z"
   },
   {
    "duration": 145889,
    "start_time": "2022-04-10T13:06:31.358Z"
   },
   {
    "duration": 200,
    "start_time": "2022-04-10T13:08:57.249Z"
   },
   {
    "duration": 211,
    "start_time": "2022-04-10T13:08:57.451Z"
   },
   {
    "duration": 10,
    "start_time": "2022-04-10T13:11:09.820Z"
   },
   {
    "duration": 4,
    "start_time": "2022-04-10T13:11:14.953Z"
   },
   {
    "duration": 9,
    "start_time": "2022-04-10T13:11:15.445Z"
   },
   {
    "duration": 9,
    "start_time": "2022-04-10T13:11:41.744Z"
   },
   {
    "duration": 3,
    "start_time": "2022-04-10T13:12:22.598Z"
   },
   {
    "duration": 3,
    "start_time": "2022-04-10T13:12:23.011Z"
   },
   {
    "duration": 195,
    "start_time": "2022-04-10T13:12:29.538Z"
   },
   {
    "duration": 183,
    "start_time": "2022-04-10T13:12:34.760Z"
   },
   {
    "duration": 190,
    "start_time": "2022-04-10T13:13:05.640Z"
   },
   {
    "duration": 193,
    "start_time": "2022-04-10T13:13:13.516Z"
   },
   {
    "duration": 201,
    "start_time": "2022-04-10T13:14:12.572Z"
   },
   {
    "duration": 201,
    "start_time": "2022-04-10T13:14:57.625Z"
   },
   {
    "duration": 207,
    "start_time": "2022-04-10T13:15:17.446Z"
   },
   {
    "duration": 157,
    "start_time": "2022-04-10T13:15:26.394Z"
   },
   {
    "duration": 225,
    "start_time": "2022-04-10T13:15:30.566Z"
   },
   {
    "duration": 204,
    "start_time": "2022-04-10T13:16:00.231Z"
   },
   {
    "duration": 214,
    "start_time": "2022-04-10T13:16:26.198Z"
   },
   {
    "duration": 206,
    "start_time": "2022-04-10T13:16:34.363Z"
   },
   {
    "duration": 200,
    "start_time": "2022-04-10T13:17:07.321Z"
   },
   {
    "duration": 238,
    "start_time": "2022-04-10T13:17:40.635Z"
   },
   {
    "duration": 195,
    "start_time": "2022-04-10T13:18:39.521Z"
   },
   {
    "duration": 212,
    "start_time": "2022-04-10T13:18:41.540Z"
   },
   {
    "duration": 203,
    "start_time": "2022-04-10T13:19:19.856Z"
   },
   {
    "duration": 197,
    "start_time": "2022-04-10T13:19:56.586Z"
   },
   {
    "duration": 218,
    "start_time": "2022-04-10T13:24:07.097Z"
   },
   {
    "duration": 326,
    "start_time": "2022-04-10T13:27:29.036Z"
   },
   {
    "duration": 196,
    "start_time": "2022-04-10T13:27:44.432Z"
   },
   {
    "duration": 335,
    "start_time": "2022-04-10T13:35:11.383Z"
   },
   {
    "duration": 32,
    "start_time": "2022-04-10T13:41:22.897Z"
   },
   {
    "duration": 696,
    "start_time": "2022-04-10T13:41:49.816Z"
   },
   {
    "duration": 716,
    "start_time": "2022-04-10T13:42:06.307Z"
   },
   {
    "duration": 739,
    "start_time": "2022-04-10T13:43:14.177Z"
   },
   {
    "duration": 560,
    "start_time": "2022-04-10T13:43:59.318Z"
   },
   {
    "duration": 569,
    "start_time": "2022-04-10T13:44:34.896Z"
   },
   {
    "duration": 540,
    "start_time": "2022-04-10T13:44:52.563Z"
   },
   {
    "duration": 542,
    "start_time": "2022-04-10T13:47:40.357Z"
   },
   {
    "duration": 553,
    "start_time": "2022-04-10T13:47:47.498Z"
   },
   {
    "duration": 303,
    "start_time": "2022-04-10T13:47:58.747Z"
   },
   {
    "duration": 288,
    "start_time": "2022-04-10T13:48:19.999Z"
   },
   {
    "duration": 316,
    "start_time": "2022-04-10T13:49:56.045Z"
   },
   {
    "duration": 305,
    "start_time": "2022-04-10T13:50:02.667Z"
   },
   {
    "duration": 328,
    "start_time": "2022-04-10T13:51:09.719Z"
   },
   {
    "duration": 159,
    "start_time": "2022-04-10T13:51:37.546Z"
   },
   {
    "duration": 348,
    "start_time": "2022-04-10T13:52:00.863Z"
   },
   {
    "duration": 331,
    "start_time": "2022-04-10T13:52:38.628Z"
   },
   {
    "duration": 308,
    "start_time": "2022-04-10T13:52:59.082Z"
   },
   {
    "duration": 16,
    "start_time": "2022-04-10T13:53:37.230Z"
   },
   {
    "duration": 303,
    "start_time": "2022-04-10T13:53:42.222Z"
   },
   {
    "duration": 303,
    "start_time": "2022-04-10T13:53:50.082Z"
   },
   {
    "duration": 170,
    "start_time": "2022-04-10T13:54:08.116Z"
   },
   {
    "duration": 813,
    "start_time": "2022-04-10T13:54:57.057Z"
   },
   {
    "duration": 1197,
    "start_time": "2022-04-10T13:55:10.776Z"
   },
   {
    "duration": 164,
    "start_time": "2022-04-10T13:55:31.664Z"
   },
   {
    "duration": 67,
    "start_time": "2022-04-10T13:55:38.833Z"
   },
   {
    "duration": 321,
    "start_time": "2022-04-10T13:55:53.601Z"
   },
   {
    "duration": 171,
    "start_time": "2022-04-10T13:57:06.088Z"
   },
   {
    "duration": 171,
    "start_time": "2022-04-10T13:59:25.875Z"
   },
   {
    "duration": 168,
    "start_time": "2022-04-10T13:59:49.864Z"
   },
   {
    "duration": 178,
    "start_time": "2022-04-10T14:00:07.081Z"
   },
   {
    "duration": 185,
    "start_time": "2022-04-10T14:01:09.264Z"
   },
   {
    "duration": 27,
    "start_time": "2022-04-10T14:01:32.250Z"
   },
   {
    "duration": 339,
    "start_time": "2022-04-10T14:02:42.895Z"
   },
   {
    "duration": 68,
    "start_time": "2022-04-10T14:02:59.936Z"
   },
   {
    "duration": 287,
    "start_time": "2022-04-10T14:04:08.959Z"
   },
   {
    "duration": 276,
    "start_time": "2022-04-10T14:05:43.541Z"
   },
   {
    "duration": 515,
    "start_time": "2022-04-10T14:08:48.438Z"
   },
   {
    "duration": 278,
    "start_time": "2022-04-10T14:09:18.760Z"
   },
   {
    "duration": 274,
    "start_time": "2022-04-10T14:09:42.799Z"
   },
   {
    "duration": 295,
    "start_time": "2022-04-10T14:10:49.221Z"
   },
   {
    "duration": 220,
    "start_time": "2022-04-10T14:12:57.430Z"
   },
   {
    "duration": 210,
    "start_time": "2022-04-10T14:14:30.848Z"
   },
   {
    "duration": 222,
    "start_time": "2022-04-10T14:15:16.188Z"
   },
   {
    "duration": 198,
    "start_time": "2022-04-10T14:15:22.556Z"
   },
   {
    "duration": 200,
    "start_time": "2022-04-10T14:15:40.285Z"
   },
   {
    "duration": 200,
    "start_time": "2022-04-10T14:15:46.686Z"
   },
   {
    "duration": 18,
    "start_time": "2022-04-10T14:16:49.850Z"
   },
   {
    "duration": 206,
    "start_time": "2022-04-10T14:16:56.763Z"
   },
   {
    "duration": 198,
    "start_time": "2022-04-10T14:32:30.769Z"
   },
   {
    "duration": 210,
    "start_time": "2022-04-10T14:32:38.228Z"
   },
   {
    "duration": 196,
    "start_time": "2022-04-10T14:32:43.550Z"
   },
   {
    "duration": 283,
    "start_time": "2022-04-10T14:42:07.549Z"
   },
   {
    "duration": 301,
    "start_time": "2022-04-10T14:42:51.210Z"
   },
   {
    "duration": 268,
    "start_time": "2022-04-10T14:42:57.068Z"
   },
   {
    "duration": 257,
    "start_time": "2022-04-10T14:43:42.223Z"
   },
   {
    "duration": 297,
    "start_time": "2022-04-10T14:46:08.717Z"
   },
   {
    "duration": 279,
    "start_time": "2022-04-10T14:46:20.485Z"
   },
   {
    "duration": 256,
    "start_time": "2022-04-10T14:46:41.083Z"
   },
   {
    "duration": 281,
    "start_time": "2022-04-10T14:46:53.981Z"
   },
   {
    "duration": 299,
    "start_time": "2022-04-10T14:47:02.751Z"
   },
   {
    "duration": 28,
    "start_time": "2022-04-10T14:47:53.259Z"
   },
   {
    "duration": 28,
    "start_time": "2022-04-10T14:48:11.942Z"
   },
   {
    "duration": 273,
    "start_time": "2022-04-10T14:48:34.151Z"
   },
   {
    "duration": 213,
    "start_time": "2022-04-10T14:51:24.517Z"
   },
   {
    "duration": 212,
    "start_time": "2022-04-10T14:51:33.516Z"
   },
   {
    "duration": 311,
    "start_time": "2022-04-10T15:07:04.484Z"
   },
   {
    "duration": 3053,
    "start_time": "2022-04-10T15:09:28.794Z"
   },
   {
    "duration": 281,
    "start_time": "2022-04-10T15:10:13.805Z"
   },
   {
    "duration": 279,
    "start_time": "2022-04-10T15:10:17.742Z"
   },
   {
    "duration": 256,
    "start_time": "2022-04-10T15:11:31.436Z"
   },
   {
    "duration": 276,
    "start_time": "2022-04-10T15:13:13.493Z"
   },
   {
    "duration": 267,
    "start_time": "2022-04-10T15:13:52.714Z"
   },
   {
    "duration": 997,
    "start_time": "2022-04-10T15:14:04.859Z"
   },
   {
    "duration": 283,
    "start_time": "2022-04-10T15:14:17.963Z"
   },
   {
    "duration": 153,
    "start_time": "2022-04-10T15:16:15.496Z"
   },
   {
    "duration": 1229,
    "start_time": "2022-04-10T15:16:35.997Z"
   },
   {
    "duration": 452,
    "start_time": "2022-04-10T15:16:48.234Z"
   },
   {
    "duration": 457,
    "start_time": "2022-04-10T15:17:08.799Z"
   },
   {
    "duration": 315,
    "start_time": "2022-04-10T15:17:33.026Z"
   },
   {
    "duration": 260,
    "start_time": "2022-04-10T15:18:36.656Z"
   },
   {
    "duration": 294,
    "start_time": "2022-04-10T15:19:41.134Z"
   },
   {
    "duration": 295,
    "start_time": "2022-04-10T15:20:37.052Z"
   },
   {
    "duration": 281,
    "start_time": "2022-04-10T15:21:30.740Z"
   },
   {
    "duration": 1126,
    "start_time": "2022-04-10T15:27:40.077Z"
   },
   {
    "duration": 4,
    "start_time": "2022-04-10T15:27:41.205Z"
   },
   {
    "duration": 61,
    "start_time": "2022-04-10T15:27:41.210Z"
   },
   {
    "duration": 14,
    "start_time": "2022-04-10T15:27:41.273Z"
   },
   {
    "duration": 2,
    "start_time": "2022-04-10T15:27:41.289Z"
   },
   {
    "duration": 21,
    "start_time": "2022-04-10T15:27:41.293Z"
   },
   {
    "duration": 23,
    "start_time": "2022-04-10T15:27:41.316Z"
   },
   {
    "duration": 18,
    "start_time": "2022-04-10T15:27:41.341Z"
   },
   {
    "duration": 49,
    "start_time": "2022-04-10T15:27:41.361Z"
   },
   {
    "duration": 18,
    "start_time": "2022-04-10T15:27:41.413Z"
   },
   {
    "duration": 47,
    "start_time": "2022-04-10T15:27:41.433Z"
   },
   {
    "duration": 30511,
    "start_time": "2022-04-10T15:27:41.482Z"
   },
   {
    "duration": 22,
    "start_time": "2022-04-10T15:28:11.995Z"
   },
   {
    "duration": 23,
    "start_time": "2022-04-10T15:28:12.019Z"
   },
   {
    "duration": 18,
    "start_time": "2022-04-10T15:28:12.044Z"
   },
   {
    "duration": 9,
    "start_time": "2022-04-10T15:28:12.063Z"
   },
   {
    "duration": 35,
    "start_time": "2022-04-10T15:28:12.074Z"
   },
   {
    "duration": 7,
    "start_time": "2022-04-10T15:28:12.111Z"
   },
   {
    "duration": 15,
    "start_time": "2022-04-10T15:28:12.120Z"
   },
   {
    "duration": 10,
    "start_time": "2022-04-10T15:28:12.137Z"
   },
   {
    "duration": 4,
    "start_time": "2022-04-10T15:28:12.149Z"
   },
   {
    "duration": 54,
    "start_time": "2022-04-10T15:28:12.155Z"
   },
   {
    "duration": 188,
    "start_time": "2022-04-10T15:28:12.211Z"
   },
   {
    "duration": 22,
    "start_time": "2022-04-10T15:28:12.401Z"
   },
   {
    "duration": 1925,
    "start_time": "2022-04-10T15:28:12.425Z"
   },
   {
    "duration": 6,
    "start_time": "2022-04-10T15:28:14.352Z"
   },
   {
    "duration": 25,
    "start_time": "2022-04-10T15:28:14.360Z"
   },
   {
    "duration": 400,
    "start_time": "2022-04-10T15:28:14.389Z"
   },
   {
    "duration": 145,
    "start_time": "2022-04-10T15:28:14.791Z"
   },
   {
    "duration": 6,
    "start_time": "2022-04-10T15:28:14.938Z"
   },
   {
    "duration": 7,
    "start_time": "2022-04-10T15:28:14.946Z"
   },
   {
    "duration": 186,
    "start_time": "2022-04-10T15:28:14.955Z"
   },
   {
    "duration": 182,
    "start_time": "2022-04-10T15:28:15.142Z"
   },
   {
    "duration": 175,
    "start_time": "2022-04-10T15:28:15.326Z"
   },
   {
    "duration": 171,
    "start_time": "2022-04-10T15:28:15.503Z"
   },
   {
    "duration": 177,
    "start_time": "2022-04-10T15:28:15.676Z"
   },
   {
    "duration": 180,
    "start_time": "2022-04-10T15:28:15.855Z"
   },
   {
    "duration": 190,
    "start_time": "2022-04-10T15:28:16.037Z"
   },
   {
    "duration": 208,
    "start_time": "2022-04-10T15:28:16.229Z"
   },
   {
    "duration": 201,
    "start_time": "2022-04-10T15:28:16.439Z"
   },
   {
    "duration": 380,
    "start_time": "2022-04-10T15:28:16.641Z"
   },
   {
    "duration": 293,
    "start_time": "2022-04-10T15:28:17.022Z"
   },
   {
    "duration": 292,
    "start_time": "2022-04-10T15:28:17.317Z"
   },
   {
    "duration": 10,
    "start_time": "2022-04-10T15:28:17.610Z"
   },
   {
    "duration": 14,
    "start_time": "2022-04-10T15:28:17.621Z"
   },
   {
    "duration": 8,
    "start_time": "2022-04-10T15:28:17.636Z"
   },
   {
    "duration": 11,
    "start_time": "2022-04-10T15:28:17.647Z"
   },
   {
    "duration": 106,
    "start_time": "2022-04-10T15:32:16.349Z"
   },
   {
    "duration": 149,
    "start_time": "2022-04-10T15:32:31.200Z"
   },
   {
    "duration": 1462,
    "start_time": "2022-04-11T10:16:55.230Z"
   },
   {
    "duration": 3,
    "start_time": "2022-04-11T10:16:56.694Z"
   },
   {
    "duration": 53,
    "start_time": "2022-04-11T10:16:56.698Z"
   },
   {
    "duration": 13,
    "start_time": "2022-04-11T10:16:56.754Z"
   },
   {
    "duration": 3,
    "start_time": "2022-04-11T10:16:56.769Z"
   },
   {
    "duration": 16,
    "start_time": "2022-04-11T10:16:56.773Z"
   },
   {
    "duration": 26,
    "start_time": "2022-04-11T10:16:56.791Z"
   },
   {
    "duration": 17,
    "start_time": "2022-04-11T10:16:56.819Z"
   },
   {
    "duration": 39,
    "start_time": "2022-04-11T10:16:56.838Z"
   },
   {
    "duration": 17,
    "start_time": "2022-04-11T10:16:56.880Z"
   },
   {
    "duration": 72,
    "start_time": "2022-04-11T10:16:56.899Z"
   },
   {
    "duration": 28612,
    "start_time": "2022-04-11T10:16:56.972Z"
   },
   {
    "duration": 16,
    "start_time": "2022-04-11T10:17:25.586Z"
   },
   {
    "duration": 22,
    "start_time": "2022-04-11T10:17:25.603Z"
   },
   {
    "duration": 41,
    "start_time": "2022-04-11T10:17:25.626Z"
   },
   {
    "duration": 9,
    "start_time": "2022-04-11T10:17:25.669Z"
   },
   {
    "duration": 7,
    "start_time": "2022-04-11T10:17:25.679Z"
   },
   {
    "duration": 7,
    "start_time": "2022-04-11T10:17:25.688Z"
   },
   {
    "duration": 16,
    "start_time": "2022-04-11T10:17:25.697Z"
   },
   {
    "duration": 12,
    "start_time": "2022-04-11T10:17:25.715Z"
   },
   {
    "duration": 33,
    "start_time": "2022-04-11T10:17:25.729Z"
   },
   {
    "duration": 27,
    "start_time": "2022-04-11T10:17:25.764Z"
   },
   {
    "duration": 162,
    "start_time": "2022-04-11T10:17:25.792Z"
   },
   {
    "duration": 16,
    "start_time": "2022-04-11T10:17:25.956Z"
   },
   {
    "duration": 1618,
    "start_time": "2022-04-11T10:17:25.974Z"
   },
   {
    "duration": 6,
    "start_time": "2022-04-11T10:17:27.594Z"
   },
   {
    "duration": 23,
    "start_time": "2022-04-11T10:17:27.602Z"
   },
   {
    "duration": 357,
    "start_time": "2022-04-11T10:17:27.629Z"
   },
   {
    "duration": 128,
    "start_time": "2022-04-11T10:17:27.988Z"
   },
   {
    "duration": 227,
    "start_time": "2022-04-11T10:17:28.118Z"
   },
   {
    "duration": 3,
    "start_time": "2022-04-11T10:21:40.460Z"
   },
   {
    "duration": 16,
    "start_time": "2022-04-11T10:21:40.464Z"
   },
   {
    "duration": 60,
    "start_time": "2022-04-11T10:21:40.482Z"
   },
   {
    "duration": 17,
    "start_time": "2022-04-11T10:21:40.544Z"
   },
   {
    "duration": 7,
    "start_time": "2022-04-11T10:21:40.563Z"
   },
   {
    "duration": 21,
    "start_time": "2022-04-11T10:21:40.571Z"
   },
   {
    "duration": 27,
    "start_time": "2022-04-11T10:21:40.594Z"
   },
   {
    "duration": 29,
    "start_time": "2022-04-11T10:21:40.622Z"
   },
   {
    "duration": 29,
    "start_time": "2022-04-11T10:21:40.652Z"
   },
   {
    "duration": 15,
    "start_time": "2022-04-11T10:21:40.682Z"
   },
   {
    "duration": 62,
    "start_time": "2022-04-11T10:21:40.699Z"
   },
   {
    "duration": 26749,
    "start_time": "2022-04-11T10:21:40.763Z"
   },
   {
    "duration": 14,
    "start_time": "2022-04-11T10:22:07.514Z"
   },
   {
    "duration": 32,
    "start_time": "2022-04-11T10:22:07.531Z"
   },
   {
    "duration": 15,
    "start_time": "2022-04-11T10:22:07.564Z"
   },
   {
    "duration": 7,
    "start_time": "2022-04-11T10:22:07.581Z"
   },
   {
    "duration": 5,
    "start_time": "2022-04-11T10:22:07.590Z"
   },
   {
    "duration": 8,
    "start_time": "2022-04-11T10:22:07.597Z"
   },
   {
    "duration": 12,
    "start_time": "2022-04-11T10:22:07.606Z"
   },
   {
    "duration": 42,
    "start_time": "2022-04-11T10:22:07.619Z"
   },
   {
    "duration": 5,
    "start_time": "2022-04-11T10:22:07.662Z"
   },
   {
    "duration": 24,
    "start_time": "2022-04-11T10:22:07.668Z"
   },
   {
    "duration": 148,
    "start_time": "2022-04-11T10:22:07.694Z"
   },
   {
    "duration": 19,
    "start_time": "2022-04-11T10:22:07.844Z"
   },
   {
    "duration": 1689,
    "start_time": "2022-04-11T10:22:07.864Z"
   },
   {
    "duration": 6,
    "start_time": "2022-04-11T10:22:09.557Z"
   },
   {
    "duration": 24,
    "start_time": "2022-04-11T10:22:09.564Z"
   },
   {
    "duration": 257,
    "start_time": "2022-04-11T10:22:09.589Z"
   },
   {
    "duration": 138,
    "start_time": "2022-04-11T10:22:09.848Z"
   },
   {
    "duration": 236,
    "start_time": "2022-04-11T10:22:09.988Z"
   },
   {
    "duration": 6,
    "start_time": "2022-04-11T10:22:10.226Z"
   },
   {
    "duration": 6,
    "start_time": "2022-04-11T10:22:10.234Z"
   },
   {
    "duration": 159,
    "start_time": "2022-04-11T10:22:10.241Z"
   },
   {
    "duration": 161,
    "start_time": "2022-04-11T10:22:10.401Z"
   },
   {
    "duration": 158,
    "start_time": "2022-04-11T10:22:10.563Z"
   },
   {
    "duration": 154,
    "start_time": "2022-04-11T10:22:10.723Z"
   },
   {
    "duration": 164,
    "start_time": "2022-04-11T10:22:10.878Z"
   },
   {
    "duration": 160,
    "start_time": "2022-04-11T10:22:11.044Z"
   },
   {
    "duration": 246,
    "start_time": "2022-04-11T10:22:11.206Z"
   },
   {
    "duration": 388,
    "start_time": "2022-04-11T10:22:11.458Z"
   },
   {
    "duration": 164,
    "start_time": "2022-04-11T10:22:11.857Z"
   },
   {
    "duration": 249,
    "start_time": "2022-04-11T10:22:12.023Z"
   },
   {
    "duration": 14,
    "start_time": "2022-04-11T10:22:16.603Z"
   },
   {
    "duration": 110,
    "start_time": "2022-04-11T10:22:53.883Z"
   },
   {
    "duration": 581,
    "start_time": "2022-04-11T10:23:02.880Z"
   },
   {
    "duration": 173,
    "start_time": "2022-04-11T10:23:31.280Z"
   },
   {
    "duration": 21,
    "start_time": "2022-04-11T10:23:36.171Z"
   },
   {
    "duration": 153,
    "start_time": "2022-04-11T10:23:43.032Z"
   },
   {
    "duration": 95,
    "start_time": "2022-04-11T10:23:55.791Z"
   },
   {
    "duration": 116,
    "start_time": "2022-04-11T10:24:11.362Z"
   },
   {
    "duration": 98,
    "start_time": "2022-04-11T10:24:14.793Z"
   },
   {
    "duration": 5,
    "start_time": "2022-04-11T10:24:59.664Z"
   }
  ],
  "kernelspec": {
   "display_name": "Python 3 (ipykernel)",
   "language": "python",
   "name": "python3"
  },
  "language_info": {
   "codemirror_mode": {
    "name": "ipython",
    "version": 3
   },
   "file_extension": ".py",
   "mimetype": "text/x-python",
   "name": "python",
   "nbconvert_exporter": "python",
   "pygments_lexer": "ipython3",
   "version": "3.9.7"
  },
  "toc": {
   "base_numbering": 1,
   "nav_menu": {
    "height": "31.9687px",
    "width": "265.594px"
   },
   "number_sections": true,
   "sideBar": true,
   "skip_h1_title": true,
   "title_cell": "Содержание",
   "title_sidebar": "Содержание",
   "toc_cell": true,
   "toc_position": {
    "height": "calc(100% - 180px)",
    "left": "10px",
    "top": "150px",
    "width": "263px"
   },
   "toc_section_display": true,
   "toc_window_display": true
  }
 },
 "nbformat": 4,
 "nbformat_minor": 2
}
