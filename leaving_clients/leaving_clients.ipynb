{
 "cells": [
  {
   "cell_type": "markdown",
   "id": "dd19143e",
   "metadata": {
    "toc": true
   },
   "source": [
    "<h1>Содержание<span class=\"tocSkip\"></span></h1>\n",
    "<div class=\"toc\"><ul class=\"toc-item\"><li><span><a href=\"#Исследовательский-анализ-данных\" data-toc-modified-id=\"Исследовательский-анализ-данных-1\"><span class=\"toc-item-num\">1&nbsp;&nbsp;</span>Исследовательский анализ данных</a></span><ul class=\"toc-item\"><li><span><a href=\"#contract\" data-toc-modified-id=\"contract-1.1\"><span class=\"toc-item-num\">1.1&nbsp;&nbsp;</span>contract</a></span></li><li><span><a href=\"#personal\" data-toc-modified-id=\"personal-1.2\"><span class=\"toc-item-num\">1.2&nbsp;&nbsp;</span>personal</a></span></li><li><span><a href=\"#internet\" data-toc-modified-id=\"internet-1.3\"><span class=\"toc-item-num\">1.3&nbsp;&nbsp;</span>internet</a></span></li><li><span><a href=\"#phone\" data-toc-modified-id=\"phone-1.4\"><span class=\"toc-item-num\">1.4&nbsp;&nbsp;</span>phone</a></span></li></ul></li><li><span><a href=\"#Предобработка-данных\" data-toc-modified-id=\"Предобработка-данных-2\"><span class=\"toc-item-num\">2&nbsp;&nbsp;</span>Предобработка данных</a></span></li><li><span><a href=\"#Обучение-моделей\" data-toc-modified-id=\"Обучение-моделей-3\"><span class=\"toc-item-num\">3&nbsp;&nbsp;</span>Обучение моделей</a></span><ul class=\"toc-item\"><li><span><a href=\"#CatBoost\" data-toc-modified-id=\"CatBoost-3.1\"><span class=\"toc-item-num\">3.1&nbsp;&nbsp;</span>CatBoost</a></span></li><li><span><a href=\"#LightGBM\" data-toc-modified-id=\"LightGBM-3.2\"><span class=\"toc-item-num\">3.2&nbsp;&nbsp;</span>LightGBM</a></span></li></ul></li><li><span><a href=\"#Тестирование\" data-toc-modified-id=\"Тестирование-4\"><span class=\"toc-item-num\">4&nbsp;&nbsp;</span>Тестирование</a></span></li><li><span><a href=\"#Вывод\" data-toc-modified-id=\"Вывод-5\"><span class=\"toc-item-num\">5&nbsp;&nbsp;</span>Вывод</a></span></li></ul></div>"
   ]
  },
  {
   "cell_type": "markdown",
   "id": "8e632292",
   "metadata": {},
   "source": [
    "# Прогнозирование оттока клиентов телеком компании "
   ]
  },
  {
   "cell_type": "markdown",
   "id": "57a38b0e",
   "metadata": {},
   "source": [
    "Оператор связи хочет научиться прогнозировать отток клиентов - задача классификации. Если выяснится, что пользователь планирует уйти, ему будут предложены промокоды и специальные условия. В нашем распоряжении персональные данные о некоторых клиентах, информация об их тарифах и договорах. \n",
    "\n",
    "**Цель проекта** - построить модель для прогнозирования ухода клиента. "
   ]
  },
  {
   "cell_type": "markdown",
   "id": "35e221c2",
   "metadata": {},
   "source": [
    "## Исследовательский анализ данных"
   ]
  },
  {
   "cell_type": "code",
   "execution_count": 3,
   "id": "2b6fb5ba",
   "metadata": {},
   "outputs": [
    {
     "name": "stdout",
     "output_type": "stream",
     "text": [
      "Requirement already satisfied: sweetviz in c:\\users\\maria\\anaconda3\\lib\\site-packages (2.1.3)\n",
      "Requirement already satisfied: scipy>=1.3.2 in c:\\users\\maria\\anaconda3\\lib\\site-packages (from sweetviz) (1.7.1)\n",
      "Requirement already satisfied: pandas!=1.0.0,!=1.0.1,!=1.0.2,>=0.25.3 in c:\\users\\maria\\anaconda3\\lib\\site-packages (from sweetviz) (1.3.4)\n",
      "Requirement already satisfied: jinja2>=2.11.1 in c:\\users\\maria\\anaconda3\\lib\\site-packages (from sweetviz) (2.11.3)\n",
      "Requirement already satisfied: numpy>=1.16.0 in c:\\users\\maria\\anaconda3\\lib\\site-packages (from sweetviz) (1.20.3)\n",
      "Requirement already satisfied: matplotlib>=3.1.3 in c:\\users\\maria\\anaconda3\\lib\\site-packages (from sweetviz) (3.4.3)\n",
      "Requirement already satisfied: importlib-resources>=1.2.0 in c:\\users\\maria\\anaconda3\\lib\\site-packages (from sweetviz) (5.7.1)\n",
      "Requirement already satisfied: tqdm>=4.43.0 in c:\\users\\maria\\anaconda3\\lib\\site-packages (from sweetviz) (4.62.3)\n",
      "Requirement already satisfied: zipp>=3.1.0 in c:\\users\\maria\\anaconda3\\lib\\site-packages (from importlib-resources>=1.2.0->sweetviz) (3.6.0)\n",
      "Requirement already satisfied: MarkupSafe>=0.23 in c:\\users\\maria\\anaconda3\\lib\\site-packages (from jinja2>=2.11.1->sweetviz) (1.1.1)\n",
      "Requirement already satisfied: pyparsing>=2.2.1 in c:\\users\\maria\\anaconda3\\lib\\site-packages (from matplotlib>=3.1.3->sweetviz) (3.0.4)\n",
      "Requirement already satisfied: python-dateutil>=2.7 in c:\\users\\maria\\anaconda3\\lib\\site-packages (from matplotlib>=3.1.3->sweetviz) (2.8.2)\n",
      "Requirement already satisfied: kiwisolver>=1.0.1 in c:\\users\\maria\\anaconda3\\lib\\site-packages (from matplotlib>=3.1.3->sweetviz) (1.3.1)\n",
      "Requirement already satisfied: cycler>=0.10 in c:\\users\\maria\\anaconda3\\lib\\site-packages (from matplotlib>=3.1.3->sweetviz) (0.10.0)\n",
      "Requirement already satisfied: pillow>=6.2.0 in c:\\users\\maria\\anaconda3\\lib\\site-packages (from matplotlib>=3.1.3->sweetviz) (8.4.0)\n",
      "Requirement already satisfied: six in c:\\users\\maria\\anaconda3\\lib\\site-packages (from cycler>=0.10->matplotlib>=3.1.3->sweetviz) (1.16.0)\n",
      "Requirement already satisfied: pytz>=2017.3 in c:\\users\\maria\\anaconda3\\lib\\site-packages (from pandas!=1.0.0,!=1.0.1,!=1.0.2,>=0.25.3->sweetviz) (2021.3)\n",
      "Requirement already satisfied: colorama in c:\\users\\maria\\anaconda3\\lib\\site-packages (from tqdm>=4.43.0->sweetviz) (0.4.4)\n"
     ]
    }
   ],
   "source": [
    "!pip install sweetviz"
   ]
  },
  {
   "cell_type": "code",
   "execution_count": 4,
   "id": "bc10e285",
   "metadata": {},
   "outputs": [],
   "source": [
    "import pandas as pd\n",
    "import sweetviz as sv\n",
    "import warnings\n",
    "import numpy as np\n",
    "import matplotlib.pyplot as plt\n",
    "from sklearn.metrics import roc_curve\n",
    "from sklearn.model_selection import train_test_split\n",
    "from sklearn.experimental import enable_halving_search_cv\n",
    "from sklearn.model_selection import HalvingRandomSearchCV\n",
    "from catboost import CatBoostClassifier\n",
    "from lightgbm import LGBMClassifier\n",
    "from sklearn.dummy import DummyClassifier\n",
    "from sklearn.metrics import roc_auc_score"
   ]
  },
  {
   "cell_type": "code",
   "execution_count": 5,
   "id": "6ec87ca9",
   "metadata": {},
   "outputs": [],
   "source": [
    "warnings.filterwarnings('ignore')"
   ]
  },
  {
   "cell_type": "code",
   "execution_count": 6,
   "id": "4e3bfe4b",
   "metadata": {},
   "outputs": [],
   "source": [
    "contract = pd.read_csv('/datasets/final_provider/contract.csv')\n",
    "personal = pd.read_csv('/datasets/final_provider/personal.csv')\n",
    "internet = pd.read_csv('/datasets/final_provider/internet.csv')\n",
    "phone = pd.read_csv('/datasets/final_provider/phone.csv')"
   ]
  },
  {
   "cell_type": "markdown",
   "id": "151e91c3",
   "metadata": {},
   "source": [
    "Изучим кратко каждый датафрейм."
   ]
  },
  {
   "cell_type": "markdown",
   "id": "76b705f9",
   "metadata": {},
   "source": [
    "### contract"
   ]
  },
  {
   "cell_type": "code",
   "execution_count": 7,
   "id": "73e63212",
   "metadata": {},
   "outputs": [
    {
     "data": {
      "text/html": [
       "<div>\n",
       "<style scoped>\n",
       "    .dataframe tbody tr th:only-of-type {\n",
       "        vertical-align: middle;\n",
       "    }\n",
       "\n",
       "    .dataframe tbody tr th {\n",
       "        vertical-align: top;\n",
       "    }\n",
       "\n",
       "    .dataframe thead th {\n",
       "        text-align: right;\n",
       "    }\n",
       "</style>\n",
       "<table border=\"1\" class=\"dataframe\">\n",
       "  <thead>\n",
       "    <tr style=\"text-align: right;\">\n",
       "      <th></th>\n",
       "      <th>customerID</th>\n",
       "      <th>BeginDate</th>\n",
       "      <th>EndDate</th>\n",
       "      <th>Type</th>\n",
       "      <th>PaperlessBilling</th>\n",
       "      <th>PaymentMethod</th>\n",
       "      <th>MonthlyCharges</th>\n",
       "      <th>TotalCharges</th>\n",
       "    </tr>\n",
       "  </thead>\n",
       "  <tbody>\n",
       "    <tr>\n",
       "      <th>0</th>\n",
       "      <td>7590-VHVEG</td>\n",
       "      <td>2020-01-01</td>\n",
       "      <td>No</td>\n",
       "      <td>Month-to-month</td>\n",
       "      <td>Yes</td>\n",
       "      <td>Electronic check</td>\n",
       "      <td>29.85</td>\n",
       "      <td>29.85</td>\n",
       "    </tr>\n",
       "    <tr>\n",
       "      <th>1</th>\n",
       "      <td>5575-GNVDE</td>\n",
       "      <td>2017-04-01</td>\n",
       "      <td>No</td>\n",
       "      <td>One year</td>\n",
       "      <td>No</td>\n",
       "      <td>Mailed check</td>\n",
       "      <td>56.95</td>\n",
       "      <td>1889.5</td>\n",
       "    </tr>\n",
       "    <tr>\n",
       "      <th>2</th>\n",
       "      <td>3668-QPYBK</td>\n",
       "      <td>2019-10-01</td>\n",
       "      <td>2019-12-01 00:00:00</td>\n",
       "      <td>Month-to-month</td>\n",
       "      <td>Yes</td>\n",
       "      <td>Mailed check</td>\n",
       "      <td>53.85</td>\n",
       "      <td>108.15</td>\n",
       "    </tr>\n",
       "    <tr>\n",
       "      <th>3</th>\n",
       "      <td>7795-CFOCW</td>\n",
       "      <td>2016-05-01</td>\n",
       "      <td>No</td>\n",
       "      <td>One year</td>\n",
       "      <td>No</td>\n",
       "      <td>Bank transfer (automatic)</td>\n",
       "      <td>42.30</td>\n",
       "      <td>1840.75</td>\n",
       "    </tr>\n",
       "    <tr>\n",
       "      <th>4</th>\n",
       "      <td>9237-HQITU</td>\n",
       "      <td>2019-09-01</td>\n",
       "      <td>2019-11-01 00:00:00</td>\n",
       "      <td>Month-to-month</td>\n",
       "      <td>Yes</td>\n",
       "      <td>Electronic check</td>\n",
       "      <td>70.70</td>\n",
       "      <td>151.65</td>\n",
       "    </tr>\n",
       "  </tbody>\n",
       "</table>\n",
       "</div>"
      ],
      "text/plain": [
       "   customerID   BeginDate              EndDate            Type  \\\n",
       "0  7590-VHVEG  2020-01-01                   No  Month-to-month   \n",
       "1  5575-GNVDE  2017-04-01                   No        One year   \n",
       "2  3668-QPYBK  2019-10-01  2019-12-01 00:00:00  Month-to-month   \n",
       "3  7795-CFOCW  2016-05-01                   No        One year   \n",
       "4  9237-HQITU  2019-09-01  2019-11-01 00:00:00  Month-to-month   \n",
       "\n",
       "  PaperlessBilling              PaymentMethod  MonthlyCharges TotalCharges  \n",
       "0              Yes           Electronic check           29.85        29.85  \n",
       "1               No               Mailed check           56.95       1889.5  \n",
       "2              Yes               Mailed check           53.85       108.15  \n",
       "3               No  Bank transfer (automatic)           42.30      1840.75  \n",
       "4              Yes           Electronic check           70.70       151.65  "
      ]
     },
     "metadata": {},
     "output_type": "display_data"
    },
    {
     "name": "stdout",
     "output_type": "stream",
     "text": [
      "<class 'pandas.core.frame.DataFrame'>\n",
      "RangeIndex: 7043 entries, 0 to 7042\n",
      "Data columns (total 8 columns):\n",
      " #   Column            Non-Null Count  Dtype  \n",
      "---  ------            --------------  -----  \n",
      " 0   customerID        7043 non-null   object \n",
      " 1   BeginDate         7043 non-null   object \n",
      " 2   EndDate           7043 non-null   object \n",
      " 3   Type              7043 non-null   object \n",
      " 4   PaperlessBilling  7043 non-null   object \n",
      " 5   PaymentMethod     7043 non-null   object \n",
      " 6   MonthlyCharges    7043 non-null   float64\n",
      " 7   TotalCharges      7043 non-null   object \n",
      "dtypes: float64(1), object(7)\n",
      "memory usage: 440.3+ KB\n"
     ]
    }
   ],
   "source": [
    "display(contract.head())\n",
    "contract.info()"
   ]
  },
  {
   "cell_type": "markdown",
   "id": "c9a2eb60",
   "metadata": {},
   "source": [
    "- В нашем распоряжении данные 7043 клиентов.\n",
    "- Столбец 'EndDate' является целевым признаком, так как в нём есть информация, закончился ли контракт у клиента или нет.\n",
    "- Столбец 'TotalCharges' содержит количественный признак, поэтому необходимо поменять тип данных на float64.\n",
    "- Учитывая дату начала и конца договора, в таблицу можно добавить признак, обозначающий, сколько дней клиент пользуется услугами. Данный признак может влиять на уход, потому что более лояльные клиенты, как правило, остаются. Там, где нет даты окончания, вычитать будем от даты выгрузки данных 01.02.2020."
   ]
  },
  {
   "cell_type": "markdown",
   "id": "1b5bc55d",
   "metadata": {},
   "source": [
    "При переводе 'TotalCharges' в количественный признак через `pd.to_numeric()`, обнаружилась ошибка, что в некоторых строках есть значения \" \". Выведем их на экран."
   ]
  },
  {
   "cell_type": "code",
   "execution_count": 8,
   "id": "09137e7a",
   "metadata": {},
   "outputs": [
    {
     "data": {
      "text/html": [
       "<div>\n",
       "<style scoped>\n",
       "    .dataframe tbody tr th:only-of-type {\n",
       "        vertical-align: middle;\n",
       "    }\n",
       "\n",
       "    .dataframe tbody tr th {\n",
       "        vertical-align: top;\n",
       "    }\n",
       "\n",
       "    .dataframe thead th {\n",
       "        text-align: right;\n",
       "    }\n",
       "</style>\n",
       "<table border=\"1\" class=\"dataframe\">\n",
       "  <thead>\n",
       "    <tr style=\"text-align: right;\">\n",
       "      <th></th>\n",
       "      <th>customerID</th>\n",
       "      <th>BeginDate</th>\n",
       "      <th>EndDate</th>\n",
       "      <th>Type</th>\n",
       "      <th>PaperlessBilling</th>\n",
       "      <th>PaymentMethod</th>\n",
       "      <th>MonthlyCharges</th>\n",
       "      <th>TotalCharges</th>\n",
       "    </tr>\n",
       "  </thead>\n",
       "  <tbody>\n",
       "    <tr>\n",
       "      <th>488</th>\n",
       "      <td>4472-LVYGI</td>\n",
       "      <td>2020-02-01</td>\n",
       "      <td>No</td>\n",
       "      <td>Two year</td>\n",
       "      <td>Yes</td>\n",
       "      <td>Bank transfer (automatic)</td>\n",
       "      <td>52.55</td>\n",
       "      <td></td>\n",
       "    </tr>\n",
       "    <tr>\n",
       "      <th>753</th>\n",
       "      <td>3115-CZMZD</td>\n",
       "      <td>2020-02-01</td>\n",
       "      <td>No</td>\n",
       "      <td>Two year</td>\n",
       "      <td>No</td>\n",
       "      <td>Mailed check</td>\n",
       "      <td>20.25</td>\n",
       "      <td></td>\n",
       "    </tr>\n",
       "    <tr>\n",
       "      <th>936</th>\n",
       "      <td>5709-LVOEQ</td>\n",
       "      <td>2020-02-01</td>\n",
       "      <td>No</td>\n",
       "      <td>Two year</td>\n",
       "      <td>No</td>\n",
       "      <td>Mailed check</td>\n",
       "      <td>80.85</td>\n",
       "      <td></td>\n",
       "    </tr>\n",
       "    <tr>\n",
       "      <th>1082</th>\n",
       "      <td>4367-NUYAO</td>\n",
       "      <td>2020-02-01</td>\n",
       "      <td>No</td>\n",
       "      <td>Two year</td>\n",
       "      <td>No</td>\n",
       "      <td>Mailed check</td>\n",
       "      <td>25.75</td>\n",
       "      <td></td>\n",
       "    </tr>\n",
       "    <tr>\n",
       "      <th>1340</th>\n",
       "      <td>1371-DWPAZ</td>\n",
       "      <td>2020-02-01</td>\n",
       "      <td>No</td>\n",
       "      <td>Two year</td>\n",
       "      <td>No</td>\n",
       "      <td>Credit card (automatic)</td>\n",
       "      <td>56.05</td>\n",
       "      <td></td>\n",
       "    </tr>\n",
       "    <tr>\n",
       "      <th>3331</th>\n",
       "      <td>7644-OMVMY</td>\n",
       "      <td>2020-02-01</td>\n",
       "      <td>No</td>\n",
       "      <td>Two year</td>\n",
       "      <td>No</td>\n",
       "      <td>Mailed check</td>\n",
       "      <td>19.85</td>\n",
       "      <td></td>\n",
       "    </tr>\n",
       "    <tr>\n",
       "      <th>3826</th>\n",
       "      <td>3213-VVOLG</td>\n",
       "      <td>2020-02-01</td>\n",
       "      <td>No</td>\n",
       "      <td>Two year</td>\n",
       "      <td>No</td>\n",
       "      <td>Mailed check</td>\n",
       "      <td>25.35</td>\n",
       "      <td></td>\n",
       "    </tr>\n",
       "    <tr>\n",
       "      <th>4380</th>\n",
       "      <td>2520-SGTTA</td>\n",
       "      <td>2020-02-01</td>\n",
       "      <td>No</td>\n",
       "      <td>Two year</td>\n",
       "      <td>No</td>\n",
       "      <td>Mailed check</td>\n",
       "      <td>20.00</td>\n",
       "      <td></td>\n",
       "    </tr>\n",
       "    <tr>\n",
       "      <th>5218</th>\n",
       "      <td>2923-ARZLG</td>\n",
       "      <td>2020-02-01</td>\n",
       "      <td>No</td>\n",
       "      <td>One year</td>\n",
       "      <td>Yes</td>\n",
       "      <td>Mailed check</td>\n",
       "      <td>19.70</td>\n",
       "      <td></td>\n",
       "    </tr>\n",
       "    <tr>\n",
       "      <th>6670</th>\n",
       "      <td>4075-WKNIU</td>\n",
       "      <td>2020-02-01</td>\n",
       "      <td>No</td>\n",
       "      <td>Two year</td>\n",
       "      <td>No</td>\n",
       "      <td>Mailed check</td>\n",
       "      <td>73.35</td>\n",
       "      <td></td>\n",
       "    </tr>\n",
       "    <tr>\n",
       "      <th>6754</th>\n",
       "      <td>2775-SEFEE</td>\n",
       "      <td>2020-02-01</td>\n",
       "      <td>No</td>\n",
       "      <td>Two year</td>\n",
       "      <td>Yes</td>\n",
       "      <td>Bank transfer (automatic)</td>\n",
       "      <td>61.90</td>\n",
       "      <td></td>\n",
       "    </tr>\n",
       "  </tbody>\n",
       "</table>\n",
       "</div>"
      ],
      "text/plain": [
       "      customerID   BeginDate EndDate      Type PaperlessBilling  \\\n",
       "488   4472-LVYGI  2020-02-01      No  Two year              Yes   \n",
       "753   3115-CZMZD  2020-02-01      No  Two year               No   \n",
       "936   5709-LVOEQ  2020-02-01      No  Two year               No   \n",
       "1082  4367-NUYAO  2020-02-01      No  Two year               No   \n",
       "1340  1371-DWPAZ  2020-02-01      No  Two year               No   \n",
       "3331  7644-OMVMY  2020-02-01      No  Two year               No   \n",
       "3826  3213-VVOLG  2020-02-01      No  Two year               No   \n",
       "4380  2520-SGTTA  2020-02-01      No  Two year               No   \n",
       "5218  2923-ARZLG  2020-02-01      No  One year              Yes   \n",
       "6670  4075-WKNIU  2020-02-01      No  Two year               No   \n",
       "6754  2775-SEFEE  2020-02-01      No  Two year              Yes   \n",
       "\n",
       "                  PaymentMethod  MonthlyCharges TotalCharges  \n",
       "488   Bank transfer (automatic)           52.55               \n",
       "753                Mailed check           20.25               \n",
       "936                Mailed check           80.85               \n",
       "1082               Mailed check           25.75               \n",
       "1340    Credit card (automatic)           56.05               \n",
       "3331               Mailed check           19.85               \n",
       "3826               Mailed check           25.35               \n",
       "4380               Mailed check           20.00               \n",
       "5218               Mailed check           19.70               \n",
       "6670               Mailed check           73.35               \n",
       "6754  Bank transfer (automatic)           61.90               "
      ]
     },
     "execution_count": 8,
     "metadata": {},
     "output_type": "execute_result"
    }
   ],
   "source": [
    "contract[contract['TotalCharges'] == \" \"]"
   ]
  },
  {
   "cell_type": "markdown",
   "id": "4c6b49e8",
   "metadata": {},
   "source": [
    "Эти клиенты заключили контракт в день выгрузки данных, поэтому общей суммы затрат у них нет. Количество дней для таких пользователей будет равно 0. Так как таких строк только 11, уберём их из датасета."
   ]
  },
  {
   "cell_type": "code",
   "execution_count": 9,
   "id": "7256a918",
   "metadata": {},
   "outputs": [],
   "source": [
    "contract = contract.loc[contract['TotalCharges'] != \" \"]"
   ]
  },
  {
   "cell_type": "code",
   "execution_count": 10,
   "id": "f8738dbf",
   "metadata": {},
   "outputs": [],
   "source": [
    "# переводим TotalCharges в тип float64\n",
    "\n",
    "contract['TotalCharges'] = pd.to_numeric(contract['TotalCharges'])"
   ]
  },
  {
   "cell_type": "code",
   "execution_count": 11,
   "id": "76005c9d",
   "metadata": {},
   "outputs": [
    {
     "name": "stdout",
     "output_type": "stream",
     "text": [
      "<class 'pandas.core.frame.DataFrame'>\n",
      "Int64Index: 7032 entries, 0 to 7042\n",
      "Data columns (total 8 columns):\n",
      " #   Column            Non-Null Count  Dtype  \n",
      "---  ------            --------------  -----  \n",
      " 0   customerID        7032 non-null   object \n",
      " 1   BeginDate         7032 non-null   object \n",
      " 2   EndDate           7032 non-null   object \n",
      " 3   Type              7032 non-null   object \n",
      " 4   PaperlessBilling  7032 non-null   object \n",
      " 5   PaymentMethod     7032 non-null   object \n",
      " 6   MonthlyCharges    7032 non-null   float64\n",
      " 7   TotalCharges      7032 non-null   float64\n",
      "dtypes: float64(2), object(6)\n",
      "memory usage: 494.4+ KB\n"
     ]
    }
   ],
   "source": [
    "# выводим для проверки\n",
    "\n",
    "contract.info()"
   ]
  },
  {
   "cell_type": "markdown",
   "id": "78456690",
   "metadata": {},
   "source": [
    "Для более детального анализа воспользуемся `sweetviz.analyze()`."
   ]
  },
  {
   "cell_type": "code",
   "execution_count": 12,
   "id": "ef710f08",
   "metadata": {
    "scrolled": true
   },
   "outputs": [
    {
     "data": {
      "application/vnd.jupyter.widget-view+json": {
       "model_id": "c62ceaf273204f3a9f1616dcb9114917",
       "version_major": 2,
       "version_minor": 0
      },
      "text/plain": [
       "                                             |          | [  0%]   00:00 -> (? left)"
      ]
     },
     "metadata": {},
     "output_type": "display_data"
    }
   ],
   "source": [
    "report = sv.analyze(contract)"
   ]
  },
  {
   "cell_type": "markdown",
   "id": "13b8e684",
   "metadata": {},
   "source": []
  },
  {
   "cell_type": "markdown",
   "id": "02d2a492",
   "metadata": {},
   "source": [
    "- Отток клиентов в данных составляет 27%, наблюдатеся дисбаланс классов.\n",
    "- Самым распространённым типом договора является Month-to-month (55% клиентов).\n",
    "- Самый распространённый метод оплаты - электронный чек (34% клиентов), остальные методы составляют примерно одинаковую часть.\n",
    "- Распределение ежемесячных трат на услуги не является нормальным. Самая большая доля клиентов приходится на оплату 20-30 у.е. в месяц. Из числовых категорий ежемесячные траты коррелируются с общими тратами.\n",
    "- Распределение общих трат на услуги также не является нормальным. Половина клиентов заплатили менее 1400 у.е. Большая корреляция происходит у общих трат и даты начала контракта. Чем раньше клиент заключил договор, тем больше денег он в итоге потратил."
   ]
  },
  {
   "cell_type": "markdown",
   "id": "dc4d69fe",
   "metadata": {},
   "source": [
    "### personal"
   ]
  },
  {
   "cell_type": "code",
   "execution_count": 13,
   "id": "9b20bb88",
   "metadata": {},
   "outputs": [
    {
     "data": {
      "text/html": [
       "<div>\n",
       "<style scoped>\n",
       "    .dataframe tbody tr th:only-of-type {\n",
       "        vertical-align: middle;\n",
       "    }\n",
       "\n",
       "    .dataframe tbody tr th {\n",
       "        vertical-align: top;\n",
       "    }\n",
       "\n",
       "    .dataframe thead th {\n",
       "        text-align: right;\n",
       "    }\n",
       "</style>\n",
       "<table border=\"1\" class=\"dataframe\">\n",
       "  <thead>\n",
       "    <tr style=\"text-align: right;\">\n",
       "      <th></th>\n",
       "      <th>customerID</th>\n",
       "      <th>gender</th>\n",
       "      <th>SeniorCitizen</th>\n",
       "      <th>Partner</th>\n",
       "      <th>Dependents</th>\n",
       "    </tr>\n",
       "  </thead>\n",
       "  <tbody>\n",
       "    <tr>\n",
       "      <th>0</th>\n",
       "      <td>7590-VHVEG</td>\n",
       "      <td>Female</td>\n",
       "      <td>0</td>\n",
       "      <td>Yes</td>\n",
       "      <td>No</td>\n",
       "    </tr>\n",
       "    <tr>\n",
       "      <th>1</th>\n",
       "      <td>5575-GNVDE</td>\n",
       "      <td>Male</td>\n",
       "      <td>0</td>\n",
       "      <td>No</td>\n",
       "      <td>No</td>\n",
       "    </tr>\n",
       "    <tr>\n",
       "      <th>2</th>\n",
       "      <td>3668-QPYBK</td>\n",
       "      <td>Male</td>\n",
       "      <td>0</td>\n",
       "      <td>No</td>\n",
       "      <td>No</td>\n",
       "    </tr>\n",
       "    <tr>\n",
       "      <th>3</th>\n",
       "      <td>7795-CFOCW</td>\n",
       "      <td>Male</td>\n",
       "      <td>0</td>\n",
       "      <td>No</td>\n",
       "      <td>No</td>\n",
       "    </tr>\n",
       "    <tr>\n",
       "      <th>4</th>\n",
       "      <td>9237-HQITU</td>\n",
       "      <td>Female</td>\n",
       "      <td>0</td>\n",
       "      <td>No</td>\n",
       "      <td>No</td>\n",
       "    </tr>\n",
       "  </tbody>\n",
       "</table>\n",
       "</div>"
      ],
      "text/plain": [
       "   customerID  gender  SeniorCitizen Partner Dependents\n",
       "0  7590-VHVEG  Female              0     Yes         No\n",
       "1  5575-GNVDE    Male              0      No         No\n",
       "2  3668-QPYBK    Male              0      No         No\n",
       "3  7795-CFOCW    Male              0      No         No\n",
       "4  9237-HQITU  Female              0      No         No"
      ]
     },
     "metadata": {},
     "output_type": "display_data"
    },
    {
     "name": "stdout",
     "output_type": "stream",
     "text": [
      "<class 'pandas.core.frame.DataFrame'>\n",
      "RangeIndex: 7043 entries, 0 to 7042\n",
      "Data columns (total 5 columns):\n",
      " #   Column         Non-Null Count  Dtype \n",
      "---  ------         --------------  ----- \n",
      " 0   customerID     7043 non-null   object\n",
      " 1   gender         7043 non-null   object\n",
      " 2   SeniorCitizen  7043 non-null   int64 \n",
      " 3   Partner        7043 non-null   object\n",
      " 4   Dependents     7043 non-null   object\n",
      "dtypes: int64(1), object(4)\n",
      "memory usage: 275.2+ KB\n"
     ]
    }
   ],
   "source": [
    "display(personal.head())\n",
    "personal.info()"
   ]
  },
  {
   "cell_type": "markdown",
   "id": "77067290",
   "metadata": {},
   "source": [
    "- В датасете 'personal' есть данные обо всех клиентах. Пропуски отсутствуют. \n",
    "- Почти все данные категориальные, кроме' SeniorCitizen'."
   ]
  },
  {
   "cell_type": "code",
   "execution_count": 14,
   "id": "c257d941",
   "metadata": {
    "scrolled": true
   },
   "outputs": [
    {
     "data": {
      "application/vnd.jupyter.widget-view+json": {
       "model_id": "231a4f4d54554dc9873bdce53bdefb35",
       "version_major": 2,
       "version_minor": 0
      },
      "text/plain": [
       "                                             |          | [  0%]   00:00 -> (? left)"
      ]
     },
     "metadata": {},
     "output_type": "display_data"
    }
   ],
   "source": [
    "report = sv.analyze(personal)"
   ]
  },
  {
   "cell_type": "markdown",
   "id": "5f26c849",
   "metadata": {},
   "source": [
    "- Разделение по половому признаку и по наличию партнера 50/50, данные однородны.\n",
    "- Среди клиентов 16% пенсионеры.\n",
    "- 30% пользователей имеют иждивенцев.\n",
    "- В рамках данного датафрейма нет корреляционных признаков."
   ]
  },
  {
   "cell_type": "markdown",
   "id": "bd7fcb7b",
   "metadata": {},
   "source": [
    "### internet"
   ]
  },
  {
   "cell_type": "code",
   "execution_count": 15,
   "id": "2387a918",
   "metadata": {
    "scrolled": false
   },
   "outputs": [
    {
     "data": {
      "text/html": [
       "<div>\n",
       "<style scoped>\n",
       "    .dataframe tbody tr th:only-of-type {\n",
       "        vertical-align: middle;\n",
       "    }\n",
       "\n",
       "    .dataframe tbody tr th {\n",
       "        vertical-align: top;\n",
       "    }\n",
       "\n",
       "    .dataframe thead th {\n",
       "        text-align: right;\n",
       "    }\n",
       "</style>\n",
       "<table border=\"1\" class=\"dataframe\">\n",
       "  <thead>\n",
       "    <tr style=\"text-align: right;\">\n",
       "      <th></th>\n",
       "      <th>customerID</th>\n",
       "      <th>InternetService</th>\n",
       "      <th>OnlineSecurity</th>\n",
       "      <th>OnlineBackup</th>\n",
       "      <th>DeviceProtection</th>\n",
       "      <th>TechSupport</th>\n",
       "      <th>StreamingTV</th>\n",
       "      <th>StreamingMovies</th>\n",
       "    </tr>\n",
       "  </thead>\n",
       "  <tbody>\n",
       "    <tr>\n",
       "      <th>0</th>\n",
       "      <td>7590-VHVEG</td>\n",
       "      <td>DSL</td>\n",
       "      <td>No</td>\n",
       "      <td>Yes</td>\n",
       "      <td>No</td>\n",
       "      <td>No</td>\n",
       "      <td>No</td>\n",
       "      <td>No</td>\n",
       "    </tr>\n",
       "    <tr>\n",
       "      <th>1</th>\n",
       "      <td>5575-GNVDE</td>\n",
       "      <td>DSL</td>\n",
       "      <td>Yes</td>\n",
       "      <td>No</td>\n",
       "      <td>Yes</td>\n",
       "      <td>No</td>\n",
       "      <td>No</td>\n",
       "      <td>No</td>\n",
       "    </tr>\n",
       "    <tr>\n",
       "      <th>2</th>\n",
       "      <td>3668-QPYBK</td>\n",
       "      <td>DSL</td>\n",
       "      <td>Yes</td>\n",
       "      <td>Yes</td>\n",
       "      <td>No</td>\n",
       "      <td>No</td>\n",
       "      <td>No</td>\n",
       "      <td>No</td>\n",
       "    </tr>\n",
       "    <tr>\n",
       "      <th>3</th>\n",
       "      <td>7795-CFOCW</td>\n",
       "      <td>DSL</td>\n",
       "      <td>Yes</td>\n",
       "      <td>No</td>\n",
       "      <td>Yes</td>\n",
       "      <td>Yes</td>\n",
       "      <td>No</td>\n",
       "      <td>No</td>\n",
       "    </tr>\n",
       "    <tr>\n",
       "      <th>4</th>\n",
       "      <td>9237-HQITU</td>\n",
       "      <td>Fiber optic</td>\n",
       "      <td>No</td>\n",
       "      <td>No</td>\n",
       "      <td>No</td>\n",
       "      <td>No</td>\n",
       "      <td>No</td>\n",
       "      <td>No</td>\n",
       "    </tr>\n",
       "  </tbody>\n",
       "</table>\n",
       "</div>"
      ],
      "text/plain": [
       "   customerID InternetService OnlineSecurity OnlineBackup DeviceProtection  \\\n",
       "0  7590-VHVEG             DSL             No          Yes               No   \n",
       "1  5575-GNVDE             DSL            Yes           No              Yes   \n",
       "2  3668-QPYBK             DSL            Yes          Yes               No   \n",
       "3  7795-CFOCW             DSL            Yes           No              Yes   \n",
       "4  9237-HQITU     Fiber optic             No           No               No   \n",
       "\n",
       "  TechSupport StreamingTV StreamingMovies  \n",
       "0          No          No              No  \n",
       "1          No          No              No  \n",
       "2          No          No              No  \n",
       "3         Yes          No              No  \n",
       "4          No          No              No  "
      ]
     },
     "metadata": {},
     "output_type": "display_data"
    },
    {
     "name": "stdout",
     "output_type": "stream",
     "text": [
      "<class 'pandas.core.frame.DataFrame'>\n",
      "RangeIndex: 5517 entries, 0 to 5516\n",
      "Data columns (total 8 columns):\n",
      " #   Column            Non-Null Count  Dtype \n",
      "---  ------            --------------  ----- \n",
      " 0   customerID        5517 non-null   object\n",
      " 1   InternetService   5517 non-null   object\n",
      " 2   OnlineSecurity    5517 non-null   object\n",
      " 3   OnlineBackup      5517 non-null   object\n",
      " 4   DeviceProtection  5517 non-null   object\n",
      " 5   TechSupport       5517 non-null   object\n",
      " 6   StreamingTV       5517 non-null   object\n",
      " 7   StreamingMovies   5517 non-null   object\n",
      "dtypes: object(8)\n",
      "memory usage: 344.9+ KB\n"
     ]
    }
   ],
   "source": [
    "display(internet.head())\n",
    "internet.info()"
   ]
  },
  {
   "cell_type": "markdown",
   "id": "932c5ef8",
   "metadata": {},
   "source": [
    "- Нет данных некоторых пользователей. Примерно у 22% клиентов нет подключенных услуг интернета.\n",
    "- В рамках данного датасета пропущенных значений нет.\n",
    "- Данные категориальные."
   ]
  },
  {
   "cell_type": "markdown",
   "id": "42d08dba",
   "metadata": {},
   "source": [
    "### phone"
   ]
  },
  {
   "cell_type": "code",
   "execution_count": 16,
   "id": "f5cba194",
   "metadata": {},
   "outputs": [
    {
     "data": {
      "text/html": [
       "<div>\n",
       "<style scoped>\n",
       "    .dataframe tbody tr th:only-of-type {\n",
       "        vertical-align: middle;\n",
       "    }\n",
       "\n",
       "    .dataframe tbody tr th {\n",
       "        vertical-align: top;\n",
       "    }\n",
       "\n",
       "    .dataframe thead th {\n",
       "        text-align: right;\n",
       "    }\n",
       "</style>\n",
       "<table border=\"1\" class=\"dataframe\">\n",
       "  <thead>\n",
       "    <tr style=\"text-align: right;\">\n",
       "      <th></th>\n",
       "      <th>customerID</th>\n",
       "      <th>MultipleLines</th>\n",
       "    </tr>\n",
       "  </thead>\n",
       "  <tbody>\n",
       "    <tr>\n",
       "      <th>0</th>\n",
       "      <td>5575-GNVDE</td>\n",
       "      <td>No</td>\n",
       "    </tr>\n",
       "    <tr>\n",
       "      <th>1</th>\n",
       "      <td>3668-QPYBK</td>\n",
       "      <td>No</td>\n",
       "    </tr>\n",
       "    <tr>\n",
       "      <th>2</th>\n",
       "      <td>9237-HQITU</td>\n",
       "      <td>No</td>\n",
       "    </tr>\n",
       "    <tr>\n",
       "      <th>3</th>\n",
       "      <td>9305-CDSKC</td>\n",
       "      <td>Yes</td>\n",
       "    </tr>\n",
       "    <tr>\n",
       "      <th>4</th>\n",
       "      <td>1452-KIOVK</td>\n",
       "      <td>Yes</td>\n",
       "    </tr>\n",
       "  </tbody>\n",
       "</table>\n",
       "</div>"
      ],
      "text/plain": [
       "   customerID MultipleLines\n",
       "0  5575-GNVDE            No\n",
       "1  3668-QPYBK            No\n",
       "2  9237-HQITU            No\n",
       "3  9305-CDSKC           Yes\n",
       "4  1452-KIOVK           Yes"
      ]
     },
     "metadata": {},
     "output_type": "display_data"
    },
    {
     "name": "stdout",
     "output_type": "stream",
     "text": [
      "<class 'pandas.core.frame.DataFrame'>\n",
      "RangeIndex: 6361 entries, 0 to 6360\n",
      "Data columns (total 2 columns):\n",
      " #   Column         Non-Null Count  Dtype \n",
      "---  ------         --------------  ----- \n",
      " 0   customerID     6361 non-null   object\n",
      " 1   MultipleLines  6361 non-null   object\n",
      "dtypes: object(2)\n",
      "memory usage: 99.5+ KB\n"
     ]
    }
   ],
   "source": [
    "display(phone.head())\n",
    "phone.info()"
   ]
  },
  {
   "cell_type": "markdown",
   "id": "5b436463",
   "metadata": {},
   "source": [
    "- Нет данных некоторых пользователей. Примерно у 10% клиентов нет подключенных услуг телефонии.\n",
    "- В рамках данного датасета пропущенных значений нет.\n",
    "- Данные категориальные."
   ]
  },
  {
   "cell_type": "markdown",
   "id": "30acfb30",
   "metadata": {},
   "source": [
    "## Предобработка данных"
   ]
  },
  {
   "cell_type": "code",
   "execution_count": 15,
   "id": "81a72f7d",
   "metadata": {},
   "outputs": [
    {
     "data": {
      "text/html": [
       "<div>\n",
       "<style scoped>\n",
       "    .dataframe tbody tr th:only-of-type {\n",
       "        vertical-align: middle;\n",
       "    }\n",
       "\n",
       "    .dataframe tbody tr th {\n",
       "        vertical-align: top;\n",
       "    }\n",
       "\n",
       "    .dataframe thead th {\n",
       "        text-align: right;\n",
       "    }\n",
       "</style>\n",
       "<table border=\"1\" class=\"dataframe\">\n",
       "  <thead>\n",
       "    <tr style=\"text-align: right;\">\n",
       "      <th></th>\n",
       "      <th>customerID</th>\n",
       "      <th>BeginDate</th>\n",
       "      <th>EndDate</th>\n",
       "      <th>Type</th>\n",
       "      <th>PaperlessBilling</th>\n",
       "      <th>PaymentMethod</th>\n",
       "      <th>MonthlyCharges</th>\n",
       "      <th>TotalCharges</th>\n",
       "      <th>Days</th>\n",
       "    </tr>\n",
       "  </thead>\n",
       "  <tbody>\n",
       "    <tr>\n",
       "      <th>0</th>\n",
       "      <td>7590-VHVEG</td>\n",
       "      <td>2020-01-01</td>\n",
       "      <td>2020-02-01</td>\n",
       "      <td>Month-to-month</td>\n",
       "      <td>Yes</td>\n",
       "      <td>Electronic check</td>\n",
       "      <td>29.85</td>\n",
       "      <td>29.85</td>\n",
       "      <td>31</td>\n",
       "    </tr>\n",
       "    <tr>\n",
       "      <th>1</th>\n",
       "      <td>5575-GNVDE</td>\n",
       "      <td>2017-04-01</td>\n",
       "      <td>2020-02-01</td>\n",
       "      <td>One year</td>\n",
       "      <td>No</td>\n",
       "      <td>Mailed check</td>\n",
       "      <td>56.95</td>\n",
       "      <td>1889.50</td>\n",
       "      <td>1036</td>\n",
       "    </tr>\n",
       "    <tr>\n",
       "      <th>2</th>\n",
       "      <td>3668-QPYBK</td>\n",
       "      <td>2019-10-01</td>\n",
       "      <td>2019-12-01</td>\n",
       "      <td>Month-to-month</td>\n",
       "      <td>Yes</td>\n",
       "      <td>Mailed check</td>\n",
       "      <td>53.85</td>\n",
       "      <td>108.15</td>\n",
       "      <td>61</td>\n",
       "    </tr>\n",
       "    <tr>\n",
       "      <th>3</th>\n",
       "      <td>7795-CFOCW</td>\n",
       "      <td>2016-05-01</td>\n",
       "      <td>2020-02-01</td>\n",
       "      <td>One year</td>\n",
       "      <td>No</td>\n",
       "      <td>Bank transfer (automatic)</td>\n",
       "      <td>42.30</td>\n",
       "      <td>1840.75</td>\n",
       "      <td>1371</td>\n",
       "    </tr>\n",
       "    <tr>\n",
       "      <th>4</th>\n",
       "      <td>9237-HQITU</td>\n",
       "      <td>2019-09-01</td>\n",
       "      <td>2019-11-01</td>\n",
       "      <td>Month-to-month</td>\n",
       "      <td>Yes</td>\n",
       "      <td>Electronic check</td>\n",
       "      <td>70.70</td>\n",
       "      <td>151.65</td>\n",
       "      <td>61</td>\n",
       "    </tr>\n",
       "  </tbody>\n",
       "</table>\n",
       "</div>"
      ],
      "text/plain": [
       "   customerID  BeginDate    EndDate            Type PaperlessBilling  \\\n",
       "0  7590-VHVEG 2020-01-01 2020-02-01  Month-to-month              Yes   \n",
       "1  5575-GNVDE 2017-04-01 2020-02-01        One year               No   \n",
       "2  3668-QPYBK 2019-10-01 2019-12-01  Month-to-month              Yes   \n",
       "3  7795-CFOCW 2016-05-01 2020-02-01        One year               No   \n",
       "4  9237-HQITU 2019-09-01 2019-11-01  Month-to-month              Yes   \n",
       "\n",
       "               PaymentMethod  MonthlyCharges  TotalCharges  Days  \n",
       "0           Electronic check           29.85         29.85    31  \n",
       "1               Mailed check           56.95       1889.50  1036  \n",
       "2               Mailed check           53.85        108.15    61  \n",
       "3  Bank transfer (automatic)           42.30       1840.75  1371  \n",
       "4           Electronic check           70.70        151.65    61  "
      ]
     },
     "execution_count": 15,
     "metadata": {},
     "output_type": "execute_result"
    }
   ],
   "source": [
    "# заменяем дату окончания контракта клиентов, которые не отказались от него, на дату выгрузки данных\n",
    "contract.loc[contract['EndDate']=='No', 'EndDate'] = '2020-02-01'\n",
    "\n",
    "#переводим дат в формат datetime\n",
    "contract['EndDate'] = pd.to_datetime(contract['EndDate'], format='%Y-%m-%d')\n",
    "contract['BeginDate'] = pd.to_datetime(contract['BeginDate'], format='%Y-%m-%d')\n",
    "\n",
    "#создаем новый признак - количество дней, которое клиент с компанией\n",
    "contract['Days'] = (contract['EndDate'] - contract['BeginDate']).dt.days\n",
    "\n",
    "contract.head()"
   ]
  },
  {
   "cell_type": "code",
   "execution_count": 16,
   "id": "761d3f48",
   "metadata": {},
   "outputs": [
    {
     "data": {
      "text/html": [
       "<div>\n",
       "<style scoped>\n",
       "    .dataframe tbody tr th:only-of-type {\n",
       "        vertical-align: middle;\n",
       "    }\n",
       "\n",
       "    .dataframe tbody tr th {\n",
       "        vertical-align: top;\n",
       "    }\n",
       "\n",
       "    .dataframe thead th {\n",
       "        text-align: right;\n",
       "    }\n",
       "</style>\n",
       "<table border=\"1\" class=\"dataframe\">\n",
       "  <thead>\n",
       "    <tr style=\"text-align: right;\">\n",
       "      <th></th>\n",
       "      <th>customerID</th>\n",
       "      <th>Is_left</th>\n",
       "      <th>Type</th>\n",
       "      <th>PaperlessBilling</th>\n",
       "      <th>PaymentMethod</th>\n",
       "      <th>MonthlyCharges</th>\n",
       "      <th>TotalCharges</th>\n",
       "      <th>Days</th>\n",
       "    </tr>\n",
       "  </thead>\n",
       "  <tbody>\n",
       "    <tr>\n",
       "      <th>0</th>\n",
       "      <td>7590-VHVEG</td>\n",
       "      <td>0</td>\n",
       "      <td>Month-to-month</td>\n",
       "      <td>Yes</td>\n",
       "      <td>Electronic check</td>\n",
       "      <td>29.85</td>\n",
       "      <td>29.85</td>\n",
       "      <td>31</td>\n",
       "    </tr>\n",
       "    <tr>\n",
       "      <th>1</th>\n",
       "      <td>5575-GNVDE</td>\n",
       "      <td>0</td>\n",
       "      <td>One year</td>\n",
       "      <td>No</td>\n",
       "      <td>Mailed check</td>\n",
       "      <td>56.95</td>\n",
       "      <td>1889.50</td>\n",
       "      <td>1036</td>\n",
       "    </tr>\n",
       "    <tr>\n",
       "      <th>2</th>\n",
       "      <td>3668-QPYBK</td>\n",
       "      <td>1</td>\n",
       "      <td>Month-to-month</td>\n",
       "      <td>Yes</td>\n",
       "      <td>Mailed check</td>\n",
       "      <td>53.85</td>\n",
       "      <td>108.15</td>\n",
       "      <td>61</td>\n",
       "    </tr>\n",
       "    <tr>\n",
       "      <th>3</th>\n",
       "      <td>7795-CFOCW</td>\n",
       "      <td>0</td>\n",
       "      <td>One year</td>\n",
       "      <td>No</td>\n",
       "      <td>Bank transfer (automatic)</td>\n",
       "      <td>42.30</td>\n",
       "      <td>1840.75</td>\n",
       "      <td>1371</td>\n",
       "    </tr>\n",
       "    <tr>\n",
       "      <th>4</th>\n",
       "      <td>9237-HQITU</td>\n",
       "      <td>1</td>\n",
       "      <td>Month-to-month</td>\n",
       "      <td>Yes</td>\n",
       "      <td>Electronic check</td>\n",
       "      <td>70.70</td>\n",
       "      <td>151.65</td>\n",
       "      <td>61</td>\n",
       "    </tr>\n",
       "  </tbody>\n",
       "</table>\n",
       "</div>"
      ],
      "text/plain": [
       "   customerID Is_left            Type PaperlessBilling  \\\n",
       "0  7590-VHVEG       0  Month-to-month              Yes   \n",
       "1  5575-GNVDE       0        One year               No   \n",
       "2  3668-QPYBK       1  Month-to-month              Yes   \n",
       "3  7795-CFOCW       0        One year               No   \n",
       "4  9237-HQITU       1  Month-to-month              Yes   \n",
       "\n",
       "               PaymentMethod  MonthlyCharges  TotalCharges  Days  \n",
       "0           Electronic check           29.85         29.85    31  \n",
       "1               Mailed check           56.95       1889.50  1036  \n",
       "2               Mailed check           53.85        108.15    61  \n",
       "3  Bank transfer (automatic)           42.30       1840.75  1371  \n",
       "4           Electronic check           70.70        151.65    61  "
      ]
     },
     "execution_count": 16,
     "metadata": {},
     "output_type": "execute_result"
    }
   ],
   "source": [
    "# кодируем целевой признак: 0 - клиент не ушел, 1 - ушел\n",
    "contract.loc[contract['EndDate']=='2020-02-01', 'EndDate'] = 0\n",
    "contract.loc[contract['EndDate']!=0, 'EndDate'] = 1\n",
    "\n",
    "# переименовываем столбец с целевым признаком\n",
    "contract.rename(columns = {'EndDate' : 'Is_left'}, inplace = True)\n",
    "\n",
    "# убираем столбец с датой начала контракта\n",
    "contract = contract.drop('BeginDate', axis=1)\n",
    "\n",
    "contract.head()"
   ]
  },
  {
   "cell_type": "code",
   "execution_count": 17,
   "id": "33bf9381",
   "metadata": {},
   "outputs": [
    {
     "data": {
      "text/html": [
       "<div>\n",
       "<style scoped>\n",
       "    .dataframe tbody tr th:only-of-type {\n",
       "        vertical-align: middle;\n",
       "    }\n",
       "\n",
       "    .dataframe tbody tr th {\n",
       "        vertical-align: top;\n",
       "    }\n",
       "\n",
       "    .dataframe thead th {\n",
       "        text-align: right;\n",
       "    }\n",
       "</style>\n",
       "<table border=\"1\" class=\"dataframe\">\n",
       "  <thead>\n",
       "    <tr style=\"text-align: right;\">\n",
       "      <th></th>\n",
       "      <th>customerID</th>\n",
       "      <th>Is_left</th>\n",
       "      <th>Type</th>\n",
       "      <th>PaperlessBilling</th>\n",
       "      <th>PaymentMethod</th>\n",
       "      <th>MonthlyCharges</th>\n",
       "      <th>TotalCharges</th>\n",
       "      <th>Days</th>\n",
       "      <th>gender</th>\n",
       "      <th>SeniorCitizen</th>\n",
       "      <th>Partner</th>\n",
       "      <th>Dependents</th>\n",
       "      <th>InternetService</th>\n",
       "      <th>OnlineSecurity</th>\n",
       "      <th>OnlineBackup</th>\n",
       "      <th>DeviceProtection</th>\n",
       "      <th>TechSupport</th>\n",
       "      <th>StreamingTV</th>\n",
       "      <th>StreamingMovies</th>\n",
       "      <th>MultipleLines</th>\n",
       "    </tr>\n",
       "  </thead>\n",
       "  <tbody>\n",
       "    <tr>\n",
       "      <th>0</th>\n",
       "      <td>7590-VHVEG</td>\n",
       "      <td>0</td>\n",
       "      <td>Month-to-month</td>\n",
       "      <td>Yes</td>\n",
       "      <td>Electronic check</td>\n",
       "      <td>29.85</td>\n",
       "      <td>29.85</td>\n",
       "      <td>31</td>\n",
       "      <td>Female</td>\n",
       "      <td>0</td>\n",
       "      <td>Yes</td>\n",
       "      <td>No</td>\n",
       "      <td>DSL</td>\n",
       "      <td>No</td>\n",
       "      <td>Yes</td>\n",
       "      <td>No</td>\n",
       "      <td>No</td>\n",
       "      <td>No</td>\n",
       "      <td>No</td>\n",
       "      <td>NaN</td>\n",
       "    </tr>\n",
       "    <tr>\n",
       "      <th>1</th>\n",
       "      <td>5575-GNVDE</td>\n",
       "      <td>0</td>\n",
       "      <td>One year</td>\n",
       "      <td>No</td>\n",
       "      <td>Mailed check</td>\n",
       "      <td>56.95</td>\n",
       "      <td>1889.50</td>\n",
       "      <td>1036</td>\n",
       "      <td>Male</td>\n",
       "      <td>0</td>\n",
       "      <td>No</td>\n",
       "      <td>No</td>\n",
       "      <td>DSL</td>\n",
       "      <td>Yes</td>\n",
       "      <td>No</td>\n",
       "      <td>Yes</td>\n",
       "      <td>No</td>\n",
       "      <td>No</td>\n",
       "      <td>No</td>\n",
       "      <td>No</td>\n",
       "    </tr>\n",
       "    <tr>\n",
       "      <th>2</th>\n",
       "      <td>3668-QPYBK</td>\n",
       "      <td>1</td>\n",
       "      <td>Month-to-month</td>\n",
       "      <td>Yes</td>\n",
       "      <td>Mailed check</td>\n",
       "      <td>53.85</td>\n",
       "      <td>108.15</td>\n",
       "      <td>61</td>\n",
       "      <td>Male</td>\n",
       "      <td>0</td>\n",
       "      <td>No</td>\n",
       "      <td>No</td>\n",
       "      <td>DSL</td>\n",
       "      <td>Yes</td>\n",
       "      <td>Yes</td>\n",
       "      <td>No</td>\n",
       "      <td>No</td>\n",
       "      <td>No</td>\n",
       "      <td>No</td>\n",
       "      <td>No</td>\n",
       "    </tr>\n",
       "    <tr>\n",
       "      <th>3</th>\n",
       "      <td>7795-CFOCW</td>\n",
       "      <td>0</td>\n",
       "      <td>One year</td>\n",
       "      <td>No</td>\n",
       "      <td>Bank transfer (automatic)</td>\n",
       "      <td>42.30</td>\n",
       "      <td>1840.75</td>\n",
       "      <td>1371</td>\n",
       "      <td>Male</td>\n",
       "      <td>0</td>\n",
       "      <td>No</td>\n",
       "      <td>No</td>\n",
       "      <td>DSL</td>\n",
       "      <td>Yes</td>\n",
       "      <td>No</td>\n",
       "      <td>Yes</td>\n",
       "      <td>Yes</td>\n",
       "      <td>No</td>\n",
       "      <td>No</td>\n",
       "      <td>NaN</td>\n",
       "    </tr>\n",
       "    <tr>\n",
       "      <th>4</th>\n",
       "      <td>9237-HQITU</td>\n",
       "      <td>1</td>\n",
       "      <td>Month-to-month</td>\n",
       "      <td>Yes</td>\n",
       "      <td>Electronic check</td>\n",
       "      <td>70.70</td>\n",
       "      <td>151.65</td>\n",
       "      <td>61</td>\n",
       "      <td>Female</td>\n",
       "      <td>0</td>\n",
       "      <td>No</td>\n",
       "      <td>No</td>\n",
       "      <td>Fiber optic</td>\n",
       "      <td>No</td>\n",
       "      <td>No</td>\n",
       "      <td>No</td>\n",
       "      <td>No</td>\n",
       "      <td>No</td>\n",
       "      <td>No</td>\n",
       "      <td>No</td>\n",
       "    </tr>\n",
       "  </tbody>\n",
       "</table>\n",
       "</div>"
      ],
      "text/plain": [
       "   customerID Is_left            Type PaperlessBilling  \\\n",
       "0  7590-VHVEG       0  Month-to-month              Yes   \n",
       "1  5575-GNVDE       0        One year               No   \n",
       "2  3668-QPYBK       1  Month-to-month              Yes   \n",
       "3  7795-CFOCW       0        One year               No   \n",
       "4  9237-HQITU       1  Month-to-month              Yes   \n",
       "\n",
       "               PaymentMethod  MonthlyCharges  TotalCharges  Days  gender  \\\n",
       "0           Electronic check           29.85         29.85    31  Female   \n",
       "1               Mailed check           56.95       1889.50  1036    Male   \n",
       "2               Mailed check           53.85        108.15    61    Male   \n",
       "3  Bank transfer (automatic)           42.30       1840.75  1371    Male   \n",
       "4           Electronic check           70.70        151.65    61  Female   \n",
       "\n",
       "   SeniorCitizen Partner Dependents InternetService OnlineSecurity  \\\n",
       "0              0     Yes         No             DSL             No   \n",
       "1              0      No         No             DSL            Yes   \n",
       "2              0      No         No             DSL            Yes   \n",
       "3              0      No         No             DSL            Yes   \n",
       "4              0      No         No     Fiber optic             No   \n",
       "\n",
       "  OnlineBackup DeviceProtection TechSupport StreamingTV StreamingMovies  \\\n",
       "0          Yes               No          No          No              No   \n",
       "1           No              Yes          No          No              No   \n",
       "2          Yes               No          No          No              No   \n",
       "3           No              Yes         Yes          No              No   \n",
       "4           No               No          No          No              No   \n",
       "\n",
       "  MultipleLines  \n",
       "0           NaN  \n",
       "1            No  \n",
       "2            No  \n",
       "3           NaN  \n",
       "4            No  "
      ]
     },
     "execution_count": 17,
     "metadata": {},
     "output_type": "execute_result"
    }
   ],
   "source": [
    "# объединяем все таблицы в одну\n",
    "df = contract.merge(personal, how='left', on='customerID')\n",
    "df = df.merge(internet, how='left', on='customerID')\n",
    "df = df.merge(phone, how='left', on='customerID')\n",
    "df.head()"
   ]
  },
  {
   "cell_type": "code",
   "execution_count": 18,
   "id": "1e43ffdf",
   "metadata": {},
   "outputs": [
    {
     "data": {
      "text/plain": [
       "customerID          0\n",
       "Is_left             0\n",
       "Type                0\n",
       "PaperlessBilling    0\n",
       "PaymentMethod       0\n",
       "MonthlyCharges      0\n",
       "TotalCharges        0\n",
       "Days                0\n",
       "gender              0\n",
       "SeniorCitizen       0\n",
       "Partner             0\n",
       "Dependents          0\n",
       "InternetService     0\n",
       "OnlineSecurity      0\n",
       "OnlineBackup        0\n",
       "DeviceProtection    0\n",
       "TechSupport         0\n",
       "StreamingTV         0\n",
       "StreamingMovies     0\n",
       "MultipleLines       0\n",
       "dtype: int64"
      ]
     },
     "execution_count": 18,
     "metadata": {},
     "output_type": "execute_result"
    }
   ],
   "source": [
    "# заполняем пропуски, где клиенты не пользуются услугами\n",
    "df = df.fillna('Not use')\n",
    "df.isna().sum()"
   ]
  },
  {
   "cell_type": "code",
   "execution_count": 19,
   "id": "a92c5041",
   "metadata": {},
   "outputs": [
    {
     "data": {
      "text/html": [
       "<div>\n",
       "<style scoped>\n",
       "    .dataframe tbody tr th:only-of-type {\n",
       "        vertical-align: middle;\n",
       "    }\n",
       "\n",
       "    .dataframe tbody tr th {\n",
       "        vertical-align: top;\n",
       "    }\n",
       "\n",
       "    .dataframe thead th {\n",
       "        text-align: right;\n",
       "    }\n",
       "</style>\n",
       "<table border=\"1\" class=\"dataframe\">\n",
       "  <thead>\n",
       "    <tr style=\"text-align: right;\">\n",
       "      <th></th>\n",
       "      <th>Is_left</th>\n",
       "      <th>Type</th>\n",
       "      <th>PaperlessBilling</th>\n",
       "      <th>PaymentMethod</th>\n",
       "      <th>MonthlyCharges</th>\n",
       "      <th>TotalCharges</th>\n",
       "      <th>Days</th>\n",
       "      <th>gender</th>\n",
       "      <th>SeniorCitizen</th>\n",
       "      <th>Partner</th>\n",
       "      <th>Dependents</th>\n",
       "      <th>InternetService</th>\n",
       "      <th>OnlineSecurity</th>\n",
       "      <th>OnlineBackup</th>\n",
       "      <th>DeviceProtection</th>\n",
       "      <th>TechSupport</th>\n",
       "      <th>StreamingTV</th>\n",
       "      <th>StreamingMovies</th>\n",
       "      <th>MultipleLines</th>\n",
       "    </tr>\n",
       "  </thead>\n",
       "  <tbody>\n",
       "    <tr>\n",
       "      <th>7027</th>\n",
       "      <td>0</td>\n",
       "      <td>One year</td>\n",
       "      <td>Yes</td>\n",
       "      <td>Mailed check</td>\n",
       "      <td>84.80</td>\n",
       "      <td>1990.50</td>\n",
       "      <td>730</td>\n",
       "      <td>Male</td>\n",
       "      <td>0</td>\n",
       "      <td>Yes</td>\n",
       "      <td>Yes</td>\n",
       "      <td>DSL</td>\n",
       "      <td>Yes</td>\n",
       "      <td>No</td>\n",
       "      <td>Yes</td>\n",
       "      <td>Yes</td>\n",
       "      <td>Yes</td>\n",
       "      <td>Yes</td>\n",
       "      <td>Yes</td>\n",
       "    </tr>\n",
       "    <tr>\n",
       "      <th>7028</th>\n",
       "      <td>0</td>\n",
       "      <td>One year</td>\n",
       "      <td>Yes</td>\n",
       "      <td>Credit card (automatic)</td>\n",
       "      <td>103.20</td>\n",
       "      <td>7362.90</td>\n",
       "      <td>2191</td>\n",
       "      <td>Female</td>\n",
       "      <td>0</td>\n",
       "      <td>Yes</td>\n",
       "      <td>Yes</td>\n",
       "      <td>Fiber optic</td>\n",
       "      <td>No</td>\n",
       "      <td>Yes</td>\n",
       "      <td>Yes</td>\n",
       "      <td>No</td>\n",
       "      <td>Yes</td>\n",
       "      <td>Yes</td>\n",
       "      <td>Yes</td>\n",
       "    </tr>\n",
       "    <tr>\n",
       "      <th>7029</th>\n",
       "      <td>0</td>\n",
       "      <td>Month-to-month</td>\n",
       "      <td>Yes</td>\n",
       "      <td>Electronic check</td>\n",
       "      <td>29.60</td>\n",
       "      <td>346.45</td>\n",
       "      <td>337</td>\n",
       "      <td>Female</td>\n",
       "      <td>0</td>\n",
       "      <td>Yes</td>\n",
       "      <td>Yes</td>\n",
       "      <td>DSL</td>\n",
       "      <td>Yes</td>\n",
       "      <td>No</td>\n",
       "      <td>No</td>\n",
       "      <td>No</td>\n",
       "      <td>No</td>\n",
       "      <td>No</td>\n",
       "      <td>Not use</td>\n",
       "    </tr>\n",
       "    <tr>\n",
       "      <th>7030</th>\n",
       "      <td>1</td>\n",
       "      <td>Month-to-month</td>\n",
       "      <td>Yes</td>\n",
       "      <td>Mailed check</td>\n",
       "      <td>74.40</td>\n",
       "      <td>306.60</td>\n",
       "      <td>123</td>\n",
       "      <td>Male</td>\n",
       "      <td>1</td>\n",
       "      <td>Yes</td>\n",
       "      <td>No</td>\n",
       "      <td>Fiber optic</td>\n",
       "      <td>No</td>\n",
       "      <td>No</td>\n",
       "      <td>No</td>\n",
       "      <td>No</td>\n",
       "      <td>No</td>\n",
       "      <td>No</td>\n",
       "      <td>Yes</td>\n",
       "    </tr>\n",
       "    <tr>\n",
       "      <th>7031</th>\n",
       "      <td>0</td>\n",
       "      <td>Two year</td>\n",
       "      <td>Yes</td>\n",
       "      <td>Bank transfer (automatic)</td>\n",
       "      <td>105.65</td>\n",
       "      <td>6844.50</td>\n",
       "      <td>2010</td>\n",
       "      <td>Male</td>\n",
       "      <td>0</td>\n",
       "      <td>No</td>\n",
       "      <td>No</td>\n",
       "      <td>Fiber optic</td>\n",
       "      <td>Yes</td>\n",
       "      <td>No</td>\n",
       "      <td>Yes</td>\n",
       "      <td>Yes</td>\n",
       "      <td>Yes</td>\n",
       "      <td>Yes</td>\n",
       "      <td>No</td>\n",
       "    </tr>\n",
       "  </tbody>\n",
       "</table>\n",
       "</div>"
      ],
      "text/plain": [
       "      Is_left            Type PaperlessBilling              PaymentMethod  \\\n",
       "7027        0        One year              Yes               Mailed check   \n",
       "7028        0        One year              Yes    Credit card (automatic)   \n",
       "7029        0  Month-to-month              Yes           Electronic check   \n",
       "7030        1  Month-to-month              Yes               Mailed check   \n",
       "7031        0        Two year              Yes  Bank transfer (automatic)   \n",
       "\n",
       "      MonthlyCharges  TotalCharges  Days  gender  SeniorCitizen Partner  \\\n",
       "7027           84.80       1990.50   730    Male              0     Yes   \n",
       "7028          103.20       7362.90  2191  Female              0     Yes   \n",
       "7029           29.60        346.45   337  Female              0     Yes   \n",
       "7030           74.40        306.60   123    Male              1     Yes   \n",
       "7031          105.65       6844.50  2010    Male              0      No   \n",
       "\n",
       "     Dependents InternetService OnlineSecurity OnlineBackup DeviceProtection  \\\n",
       "7027        Yes             DSL            Yes           No              Yes   \n",
       "7028        Yes     Fiber optic             No          Yes              Yes   \n",
       "7029        Yes             DSL            Yes           No               No   \n",
       "7030         No     Fiber optic             No           No               No   \n",
       "7031         No     Fiber optic            Yes           No              Yes   \n",
       "\n",
       "     TechSupport StreamingTV StreamingMovies MultipleLines  \n",
       "7027         Yes         Yes             Yes           Yes  \n",
       "7028          No         Yes             Yes           Yes  \n",
       "7029          No          No              No       Not use  \n",
       "7030          No          No              No           Yes  \n",
       "7031         Yes         Yes             Yes            No  "
      ]
     },
     "execution_count": 19,
     "metadata": {},
     "output_type": "execute_result"
    }
   ],
   "source": [
    "# убираем из признакков 'customerID'\n",
    "df = df.drop(['customerID'], axis=1)\n",
    "df.tail()"
   ]
  },
  {
   "cell_type": "code",
   "execution_count": 20,
   "id": "0fe941a0",
   "metadata": {},
   "outputs": [],
   "source": [
    "# выделяем целевой признак и остальные\n",
    "target = df['Is_left']\n",
    "features = df.drop('Is_left', axis=1)"
   ]
  },
  {
   "cell_type": "markdown",
   "id": "4dc8fcd3",
   "metadata": {},
   "source": [
    "Создадим список с категориальными признаками, чтобы позже передать их моделям градиентного бустинга. А чтобы модель lgbm смогла принять категориальные признаки, их необходимо перевести в тип 'category'."
   ]
  },
  {
   "cell_type": "code",
   "execution_count": 21,
   "id": "5e070d17",
   "metadata": {},
   "outputs": [],
   "source": [
    "categoric_features = ['Type', 'PaperlessBilling', 'PaymentMethod', 'gender', 'Partner', \n",
    "                      'Dependents', 'InternetService', 'OnlineSecurity', 'OnlineBackup',\n",
    "                      'DeviceProtection', 'TechSupport', 'StreamingTV', 'StreamingMovies', 'MultipleLines']"
   ]
  },
  {
   "cell_type": "code",
   "execution_count": 22,
   "id": "1fc57519",
   "metadata": {},
   "outputs": [],
   "source": [
    "for i in categoric_features:\n",
    "    features[i] = features[i].astype('category')"
   ]
  },
  {
   "cell_type": "code",
   "execution_count": 23,
   "id": "1e2f4b47",
   "metadata": {},
   "outputs": [
    {
     "data": {
      "text/plain": [
       "(5274, 18)"
      ]
     },
     "execution_count": 23,
     "metadata": {},
     "output_type": "execute_result"
    }
   ],
   "source": [
    "# делим данные на обучающую и тестовую выборки\n",
    "features_train, features_test, target_train, target_test = train_test_split(\n",
    "    features, target, test_size=0.25, random_state=190922)\n",
    "\n",
    "features_train.shape"
   ]
  },
  {
   "cell_type": "markdown",
   "id": "6e3dc567",
   "metadata": {},
   "source": [
    "## Обучение моделей"
   ]
  },
  {
   "cell_type": "markdown",
   "id": "1ba9529e",
   "metadata": {},
   "source": [
    "### CatBoost"
   ]
  },
  {
   "cell_type": "code",
   "execution_count": 24,
   "id": "37d13467",
   "metadata": {},
   "outputs": [],
   "source": [
    "cbc = CatBoostClassifier(random_state=190922, auto_class_weights='Balanced', loss_function='Logloss', eval_metric='AUC')"
   ]
  },
  {
   "cell_type": "code",
   "execution_count": 25,
   "id": "31859922",
   "metadata": {},
   "outputs": [],
   "source": [
    "parameters_cbc = {'learning_rate' : [0.01, 0.03, 0.05, 0.07],\n",
    "                 'depth' : [2, 4, 6, 8, 10],\n",
    "                  'iterations' : [100, 500, 1000]\n",
    "                }"
   ]
  },
  {
   "cell_type": "code",
   "execution_count": 26,
   "id": "bfb06b41",
   "metadata": {
    "scrolled": true
   },
   "outputs": [
    {
     "name": "stdout",
     "output_type": "stream",
     "text": [
      "0:\ttotal: 187ms\tremaining: 18.5s\n",
      "1:\ttotal: 221ms\tremaining: 10.8s\n",
      "2:\ttotal: 261ms\tremaining: 8.43s\n",
      "3:\ttotal: 298ms\tremaining: 7.16s\n",
      "4:\ttotal: 336ms\tremaining: 6.38s\n",
      "5:\ttotal: 374ms\tremaining: 5.85s\n",
      "6:\ttotal: 412ms\tremaining: 5.48s\n",
      "7:\ttotal: 463ms\tremaining: 5.33s\n",
      "8:\ttotal: 507ms\tremaining: 5.12s\n",
      "9:\ttotal: 544ms\tremaining: 4.9s\n",
      "10:\ttotal: 582ms\tremaining: 4.71s\n",
      "11:\ttotal: 620ms\tremaining: 4.55s\n",
      "12:\ttotal: 661ms\tremaining: 4.42s\n",
      "13:\ttotal: 720ms\tremaining: 4.42s\n",
      "14:\ttotal: 785ms\tremaining: 4.45s\n",
      "15:\ttotal: 833ms\tremaining: 4.37s\n",
      "16:\ttotal: 871ms\tremaining: 4.25s\n",
      "17:\ttotal: 908ms\tremaining: 4.14s\n",
      "18:\ttotal: 951ms\tremaining: 4.05s\n",
      "19:\ttotal: 1.03s\tremaining: 4.14s\n",
      "20:\ttotal: 1.12s\tremaining: 4.22s\n",
      "21:\ttotal: 1.16s\tremaining: 4.13s\n",
      "22:\ttotal: 1.21s\tremaining: 4.05s\n",
      "23:\ttotal: 1.25s\tremaining: 3.96s\n",
      "24:\ttotal: 1.31s\tremaining: 3.95s\n",
      "25:\ttotal: 1.36s\tremaining: 3.87s\n",
      "26:\ttotal: 1.43s\tremaining: 3.87s\n",
      "27:\ttotal: 1.49s\tremaining: 3.83s\n",
      "28:\ttotal: 1.54s\tremaining: 3.76s\n",
      "29:\ttotal: 1.59s\tremaining: 3.7s\n",
      "30:\ttotal: 1.62s\tremaining: 3.62s\n",
      "31:\ttotal: 1.66s\tremaining: 3.53s\n",
      "32:\ttotal: 1.7s\tremaining: 3.45s\n",
      "33:\ttotal: 1.74s\tremaining: 3.38s\n",
      "34:\ttotal: 1.78s\tremaining: 3.31s\n",
      "35:\ttotal: 1.82s\tremaining: 3.24s\n",
      "36:\ttotal: 1.87s\tremaining: 3.19s\n",
      "37:\ttotal: 1.91s\tremaining: 3.11s\n",
      "38:\ttotal: 1.97s\tremaining: 3.08s\n",
      "39:\ttotal: 2.02s\tremaining: 3.02s\n",
      "40:\ttotal: 2.08s\tremaining: 2.99s\n",
      "41:\ttotal: 2.11s\tremaining: 2.92s\n",
      "42:\ttotal: 2.17s\tremaining: 2.88s\n",
      "43:\ttotal: 2.22s\tremaining: 2.83s\n",
      "44:\ttotal: 2.24s\tremaining: 2.74s\n",
      "45:\ttotal: 2.29s\tremaining: 2.69s\n",
      "46:\ttotal: 2.34s\tremaining: 2.64s\n",
      "47:\ttotal: 2.38s\tremaining: 2.58s\n",
      "48:\ttotal: 2.43s\tremaining: 2.53s\n",
      "49:\ttotal: 2.46s\tremaining: 2.46s\n",
      "50:\ttotal: 2.5s\tremaining: 2.4s\n",
      "51:\ttotal: 2.57s\tremaining: 2.38s\n",
      "52:\ttotal: 2.62s\tremaining: 2.33s\n",
      "53:\ttotal: 2.66s\tremaining: 2.27s\n",
      "54:\ttotal: 2.7s\tremaining: 2.21s\n",
      "55:\ttotal: 2.77s\tremaining: 2.17s\n",
      "56:\ttotal: 2.82s\tremaining: 2.13s\n",
      "57:\ttotal: 2.88s\tremaining: 2.08s\n",
      "58:\ttotal: 2.91s\tremaining: 2.02s\n",
      "59:\ttotal: 2.96s\tremaining: 1.98s\n",
      "60:\ttotal: 3s\tremaining: 1.92s\n",
      "61:\ttotal: 3.04s\tremaining: 1.86s\n",
      "62:\ttotal: 3.1s\tremaining: 1.82s\n",
      "63:\ttotal: 3.17s\tremaining: 1.78s\n",
      "64:\ttotal: 3.22s\tremaining: 1.73s\n",
      "65:\ttotal: 3.24s\tremaining: 1.67s\n",
      "66:\ttotal: 3.3s\tremaining: 1.62s\n",
      "67:\ttotal: 3.34s\tremaining: 1.57s\n",
      "68:\ttotal: 3.38s\tremaining: 1.52s\n",
      "69:\ttotal: 3.42s\tremaining: 1.47s\n",
      "70:\ttotal: 3.46s\tremaining: 1.41s\n",
      "71:\ttotal: 3.51s\tremaining: 1.36s\n",
      "72:\ttotal: 3.54s\tremaining: 1.31s\n",
      "73:\ttotal: 3.58s\tremaining: 1.26s\n",
      "74:\ttotal: 3.63s\tremaining: 1.21s\n",
      "75:\ttotal: 3.69s\tremaining: 1.17s\n",
      "76:\ttotal: 3.75s\tremaining: 1.12s\n",
      "77:\ttotal: 3.83s\tremaining: 1.08s\n",
      "78:\ttotal: 3.9s\tremaining: 1.04s\n",
      "79:\ttotal: 3.94s\tremaining: 985ms\n",
      "80:\ttotal: 3.98s\tremaining: 934ms\n",
      "81:\ttotal: 4.03s\tremaining: 885ms\n",
      "82:\ttotal: 4.08s\tremaining: 835ms\n",
      "83:\ttotal: 4.11s\tremaining: 783ms\n",
      "84:\ttotal: 4.15s\tremaining: 732ms\n",
      "85:\ttotal: 4.19s\tremaining: 682ms\n",
      "86:\ttotal: 4.23s\tremaining: 633ms\n",
      "87:\ttotal: 4.27s\tremaining: 582ms\n",
      "88:\ttotal: 4.32s\tremaining: 534ms\n",
      "89:\ttotal: 4.38s\tremaining: 487ms\n",
      "90:\ttotal: 4.43s\tremaining: 438ms\n",
      "91:\ttotal: 4.47s\tremaining: 388ms\n",
      "92:\ttotal: 4.5s\tremaining: 339ms\n",
      "93:\ttotal: 4.54s\tremaining: 290ms\n",
      "94:\ttotal: 4.58s\tremaining: 241ms\n",
      "95:\ttotal: 4.6s\tremaining: 192ms\n",
      "96:\ttotal: 4.64s\tremaining: 144ms\n",
      "97:\ttotal: 4.68s\tremaining: 95.5ms\n",
      "98:\ttotal: 4.73s\tremaining: 47.7ms\n",
      "99:\ttotal: 4.76s\tremaining: 0us\n",
      "{'learning_rate': 0.03, 'iterations': 100, 'depth': 4}\n",
      "AUC-ROC: 0.8433244676699315\n",
      "Wall time: 30min 59s\n"
     ]
    }
   ],
   "source": [
    "%%time\n",
    "\n",
    "cbc_model = HalvingRandomSearchCV(cbc, parameters_cbc, scoring='roc_auc', n_jobs=-1)\n",
    "cbc_model.fit(features_train, target_train, cat_features=categoric_features)\n",
    "print(cbc_model.best_params_)\n",
    "print('AUC-ROC:', cbc_model.best_score_)"
   ]
  },
  {
   "cell_type": "markdown",
   "id": "4f70e5c4",
   "metadata": {},
   "source": [
    "### LightGBM"
   ]
  },
  {
   "cell_type": "code",
   "execution_count": 27,
   "id": "4a5e8841",
   "metadata": {},
   "outputs": [],
   "source": [
    "lgbm = LGBMClassifier(random_state=190922, class_weight ='balanced')"
   ]
  },
  {
   "cell_type": "code",
   "execution_count": 28,
   "id": "a924ff0a",
   "metadata": {},
   "outputs": [],
   "source": [
    "parameters_lgbm = {'learning_rate' : [0.05, 0.1, 0.15, 0.2, 0.25, 0.3],\n",
    "                 'max_depth' : [2, 4, 6, 8, 10],\n",
    "                  'n_estimators' : [100, 200, 300, 400, 500]\n",
    "                }"
   ]
  },
  {
   "cell_type": "code",
   "execution_count": 29,
   "id": "106d6e71",
   "metadata": {},
   "outputs": [
    {
     "name": "stdout",
     "output_type": "stream",
     "text": [
      "{'n_estimators': 500, 'max_depth': 4, 'learning_rate': 0.05}\n",
      "AUC-ROC: 0.8328319911961592\n",
      "Wall time: 33 s\n"
     ]
    }
   ],
   "source": [
    "%%time\n",
    "\n",
    "lgbm_model = HalvingRandomSearchCV(lgbm, parameters_lgbm, scoring='roc_auc', n_jobs=-1)\n",
    "lgbm_model.fit(features_train, target_train, categorical_feature=categoric_features)\n",
    "print(lgbm_model.best_params_)\n",
    "print('AUC-ROC:', lgbm_model.best_score_)"
   ]
  },
  {
   "cell_type": "markdown",
   "id": "996a7266",
   "metadata": {},
   "source": [
    "## Тестирование"
   ]
  },
  {
   "cell_type": "code",
   "execution_count": 34,
   "id": "3a319ccd",
   "metadata": {},
   "outputs": [
    {
     "name": "stdout",
     "output_type": "stream",
     "text": [
      "AUC-ROC на тестовой выборке: 0.9089\n"
     ]
    }
   ],
   "source": [
    "# Найдем значение AUC-ROC на тестовой выборке\n",
    "model = LGBMClassifier(random_state=190922, class_weight ='balanced', n_estimators=500, max_depth=4 ,learning_rate=0.05)\n",
    "model.fit(features_train, target_train, categorical_feature=categoric_features)\n",
    "score = roc_auc_score(target_test, model.predict_proba(features_test)[:, 1])\n",
    "print('AUC-ROC на тестовой выборке:', score.round(4))"
   ]
  },
  {
   "cell_type": "code",
   "execution_count": 35,
   "id": "1d66b0d0",
   "metadata": {},
   "outputs": [
    {
     "name": "stdout",
     "output_type": "stream",
     "text": [
      "AUC-ROC случайной модели на тестовой выборке: 0.5\n"
     ]
    }
   ],
   "source": [
    "# Сравним модель со случайной dummy-моделью\n",
    "\n",
    "dummy = DummyClassifier()\n",
    "dummy.fit(features_train, target_train)\n",
    "prediction = dummy.predict_proba(features_test)[:, 1]\n",
    "score_dummy = roc_auc_score(target_test, prediction)\n",
    "print('AUC-ROC случайной модели на тестовой выборке:', score_dummy.round(3))"
   ]
  },
  {
   "cell_type": "markdown",
   "id": "8d1bc7bb",
   "metadata": {},
   "source": [
    "Визуализируем полученный результат."
   ]
  },
  {
   "cell_type": "code",
   "execution_count": 36,
   "id": "3f36b539",
   "metadata": {},
   "outputs": [
    {
     "data": {
      "image/png": "[encoded data removed]",
      "text/plain": [
       "<Figure size 900x500 with 1 Axes>"
      ]
     },
     "metadata": {},
     "output_type": "display_data"
    }
   ],
   "source": [
    "# ROC-кривая выбранной модели\n",
    "fpr, tpr, thresholds = roc_curve(target_test, model.predict_proba(features_test)[:, 1]) \n",
    "\n",
    "plt.figure(figsize=(9,5))\n",
    "plt.grid()\n",
    "plt.plot(fpr, tpr)\n",
    "\n",
    "# ROC-кривая случайной модели \n",
    "plt.plot([0, 1], [0, 1], linestyle='--')\n",
    "\n",
    "plt.ylim([0.0, 1.0])\n",
    "plt.xlim([0.0, 1.0])\n",
    "\n",
    "plt.xlabel('False Positive Rate')\n",
    "plt.ylabel('True Positive Rate')\n",
    "\n",
    "plt.title('ROC-кривая')\n",
    "plt.show()"
   ]
  },
  {
   "cell_type": "code",
   "execution_count": 37,
   "id": "1901bb5a",
   "metadata": {},
   "outputs": [
    {
     "data": {
      "image/png": "[encoded data removed]",
      "text/plain": [
       "<Figure size 900x500 with 1 Axes>"
      ]
     },
     "metadata": {},
     "output_type": "display_data"
    }
   ],
   "source": [
    "# Проанализируем важность признаков\n",
    "\n",
    "importances = model.feature_importances_\n",
    "\n",
    " # создаем список факторов \n",
    "feature_list = list(features_train.columns)\n",
    "\n",
    "# создаем датафрейм с факторами и их важностью\n",
    "feature_results = pd.DataFrame({'feature': feature_list,'importance': importances})\n",
    "\n",
    "# Сортируем факторы\n",
    "feature_results = feature_results.sort_values(by='importance',ascending = False).reset_index(drop=True) \n",
    "\n",
    "# Строим диаграмму\n",
    "feature_results.plot(x='feature', \n",
    "                     y='importance', \n",
    "                     kind='bar',\n",
    "                     figsize=(9,5), \n",
    "                     grid=True,\n",
    "                     legend=False, \n",
    "                     title='Важность факторов при моделировании'\n",
    "                    )\n",
    "plt.show()"
   ]
  },
  {
   "cell_type": "markdown",
   "id": "f525adba",
   "metadata": {},
   "source": [
    "## Вывод"
   ]
  },
  {
   "cell_type": "markdown",
   "id": "f294ad49",
   "metadata": {},
   "source": [
    "- Из двух моделей рекомендуется выбрать LightGBM, поскольку значения AUC-ROC близки в двух рассмотренных моделях, а время на выполнение кода значительно меньше тратится именно в LightGBM;\n",
    "- на тестовой выборке значение AUC-ROC равно 0.9089, что является показателем качественной модели в данном проекте;\n",
    "- гиперпараметры выбранной модели: random_state=190922, class_weight ='balanced', n_estimators=500, max_depth=4, learning_rate=0.05;\n",
    "- в рекомендованной модели самое большее влияние на результат имеют количество дней, которое клиент с компанией. Также достаточно важными являются ежемесячная, итоговая плата и тип договора."
   ]
  }
 ],
 "metadata": {
  "ExecuteTimeLog": [
   {
    "duration": 3837,
    "start_time": "2022-09-29T13:22:06.030Z"
   },
   {
    "duration": 1671,
    "start_time": "2022-09-29T13:22:09.869Z"
   },
   {
    "duration": 3,
    "start_time": "2022-09-29T13:22:11.543Z"
   },
   {
    "duration": 378,
    "start_time": "2022-09-29T13:22:11.549Z"
   },
   {
    "duration": 28,
    "start_time": "2022-09-29T13:22:11.929Z"
   },
   {
    "duration": 38,
    "start_time": "2022-09-29T13:22:11.959Z"
   },
   {
    "duration": 48,
    "start_time": "2022-09-29T13:22:11.999Z"
   },
   {
    "duration": 29,
    "start_time": "2022-09-29T13:22:12.048Z"
   },
   {
    "duration": 36,
    "start_time": "2022-09-29T13:22:12.078Z"
   },
   {
    "duration": 4305,
    "start_time": "2022-09-29T13:22:12.116Z"
   },
   {
    "duration": 34,
    "start_time": "2022-09-29T13:22:16.423Z"
   },
   {
    "duration": 2403,
    "start_time": "2022-09-29T13:22:16.459Z"
   },
   {
    "duration": 21,
    "start_time": "2022-09-29T13:22:18.864Z"
   },
   {
    "duration": 15,
    "start_time": "2022-09-29T13:22:18.887Z"
   },
   {
    "duration": 54,
    "start_time": "2022-09-29T13:22:18.904Z"
   },
   {
    "duration": 33,
    "start_time": "2022-09-29T13:22:18.959Z"
   },
   {
    "duration": 38,
    "start_time": "2022-09-29T13:22:18.994Z"
   },
   {
    "duration": 19,
    "start_time": "2022-09-29T13:22:19.053Z"
   },
   {
    "duration": 19,
    "start_time": "2022-09-29T13:22:19.073Z"
   },
   {
    "duration": 4,
    "start_time": "2022-09-29T13:22:19.094Z"
   },
   {
    "duration": 18,
    "start_time": "2022-09-29T13:22:19.100Z"
   },
   {
    "duration": 34,
    "start_time": "2022-09-29T13:22:19.120Z"
   },
   {
    "duration": 10,
    "start_time": "2022-09-29T13:22:19.155Z"
   },
   {
    "duration": 7,
    "start_time": "2022-09-29T13:22:19.166Z"
   },
   {
    "duration": 16,
    "start_time": "2022-09-29T13:22:19.174Z"
   },
   {
    "duration": 3979,
    "start_time": "2022-09-29T15:44:50.964Z"
   },
   {
    "duration": 1999,
    "start_time": "2022-09-29T15:44:54.946Z"
   },
   {
    "duration": 3,
    "start_time": "2022-09-29T15:44:56.947Z"
   },
   {
    "duration": 400,
    "start_time": "2022-09-29T15:44:56.951Z"
   },
   {
    "duration": 26,
    "start_time": "2022-09-29T15:44:57.353Z"
   },
   {
    "duration": 19,
    "start_time": "2022-09-29T15:44:57.381Z"
   },
   {
    "duration": 10,
    "start_time": "2022-09-29T15:44:57.402Z"
   },
   {
    "duration": 11,
    "start_time": "2022-09-29T15:44:57.414Z"
   },
   {
    "duration": 16,
    "start_time": "2022-09-29T15:44:57.427Z"
   },
   {
    "duration": 4280,
    "start_time": "2022-09-29T15:44:57.444Z"
   },
   {
    "duration": 24,
    "start_time": "2022-09-29T15:45:01.727Z"
   },
   {
    "duration": 2400,
    "start_time": "2022-09-29T15:45:01.753Z"
   },
   {
    "duration": 19,
    "start_time": "2022-09-29T15:45:04.154Z"
   },
   {
    "duration": 48,
    "start_time": "2022-09-29T15:45:04.176Z"
   },
   {
    "duration": 20,
    "start_time": "2022-09-29T15:45:04.226Z"
   },
   {
    "duration": 71,
    "start_time": "2022-09-29T15:45:04.248Z"
   },
   {
    "duration": 40,
    "start_time": "2022-09-29T15:45:04.322Z"
   },
   {
    "duration": 21,
    "start_time": "2022-09-29T15:45:04.364Z"
   },
   {
    "duration": 58,
    "start_time": "2022-09-29T15:45:04.386Z"
   },
   {
    "duration": 28,
    "start_time": "2022-09-29T15:45:04.446Z"
   },
   {
    "duration": 13,
    "start_time": "2022-09-29T15:45:04.476Z"
   },
   {
    "duration": 55,
    "start_time": "2022-09-29T15:45:04.491Z"
   },
   {
    "duration": 11,
    "start_time": "2022-09-29T15:45:04.548Z"
   },
   {
    "duration": 4,
    "start_time": "2022-09-29T15:45:04.561Z"
   },
   {
    "duration": 15,
    "start_time": "2022-09-29T15:45:04.567Z"
   },
   {
    "duration": 718167,
    "start_time": "2022-09-29T15:45:04.585Z"
   },
   {
    "duration": 3,
    "start_time": "2022-09-29T15:57:02.754Z"
   },
   {
    "duration": 89,
    "start_time": "2022-09-29T15:57:02.759Z"
   },
   {
    "duration": 166853,
    "start_time": "2022-09-29T15:57:02.850Z"
   },
   {
    "duration": 327413,
    "start_time": "2022-09-29T15:59:49.705Z"
   },
   {
    "duration": 11,
    "start_time": "2022-09-29T16:05:17.120Z"
   },
   {
    "duration": 366,
    "start_time": "2022-09-29T16:05:17.133Z"
   },
   {
    "duration": 225,
    "start_time": "2022-09-29T16:05:17.500Z"
   }
  ],
  "kernelspec": {
   "display_name": "Python 3 (ipykernel)",
   "language": "python",
   "name": "python3"
  },
  "language_info": {
   "codemirror_mode": {
    "name": "ipython",
    "version": 3
   },
   "file_extension": ".py",
   "mimetype": "text/x-python",
   "name": "python",
   "nbconvert_exporter": "python",
   "pygments_lexer": "ipython3",
   "version": "3.9.7"
  },
  "toc": {
   "base_numbering": 1,
   "nav_menu": {},
   "number_sections": true,
   "sideBar": true,
   "skip_h1_title": true,
   "title_cell": "Содержание",
   "title_sidebar": "Содержание",
   "toc_cell": true,
   "toc_position": {
    "height": "calc(100% - 180px)",
    "left": "10px",
    "top": "150px",
    "width": "409.6px"
   },
   "toc_section_display": true,
   "toc_window_display": true
  }
 },
 "nbformat": 4,
 "nbformat_minor": 5
}
