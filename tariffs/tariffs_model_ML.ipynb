{
 "cells": [
  {
   "cell_type": "markdown",
   "id": "093f383a",
   "metadata": {
    "toc": true
   },
   "source": [
    "<h1>Содержание<span class=\"tocSkip\"></span></h1>\n",
    "<div class=\"toc\"><ul class=\"toc-item\"><li><span><a href=\"#Изучение-данных-и-их-разделение\" data-toc-modified-id=\"Изучение-данных-и-их-разделение-1\"><span class=\"toc-item-num\">1&nbsp;&nbsp;</span>Изучение данных и их разделение</a></span></li><li><span><a href=\"#Построение-моделей\" data-toc-modified-id=\"Построение-моделей-2\"><span class=\"toc-item-num\">2&nbsp;&nbsp;</span>Построение моделей</a></span><ul class=\"toc-item\"><li><span><a href=\"#Дерево-решений\" data-toc-modified-id=\"Дерево-решений-2.1\"><span class=\"toc-item-num\">2.1&nbsp;&nbsp;</span>Дерево решений</a></span></li><li><span><a href=\"#Случайный-лес\" data-toc-modified-id=\"Случайный-лес-2.2\"><span class=\"toc-item-num\">2.2&nbsp;&nbsp;</span>Случайный лес</a></span></li><li><span><a href=\"#Логистическая-регрессия\" data-toc-modified-id=\"Логистическая-регрессия-2.3\"><span class=\"toc-item-num\">2.3&nbsp;&nbsp;</span>Логистическая регрессия</a></span></li><li><span><a href=\"#Вывод\" data-toc-modified-id=\"Вывод-2.4\"><span class=\"toc-item-num\">2.4&nbsp;&nbsp;</span>Вывод</a></span></li></ul></li><li><span><a href=\"#Проверка-модели-на-тестовой-выборке\" data-toc-modified-id=\"Проверка-модели-на-тестовой-выборке-3\"><span class=\"toc-item-num\">3&nbsp;&nbsp;</span>Проверка модели на тестовой выборке</a></span></li><li><span><a href=\"#Общий-вывод\" data-toc-modified-id=\"Общий-вывод-4\"><span class=\"toc-item-num\">4&nbsp;&nbsp;</span>Общий вывод</a></span></li></ul></div>"
   ]
  },
  {
   "cell_type": "markdown",
   "id": "b8cf46be",
   "metadata": {},
   "source": [
    "# Построение модели для определения подходящего тарифа"
   ]
  },
  {
   "cell_type": "markdown",
   "id": "487e4308",
   "metadata": {},
   "source": [
    "Оператор мобильной связи выяснил, что многие клиенты пользуются архивными тарифами. Они хотят построить систему, способную проанализировать поведение клиентов и предложить пользователям новый тариф: «Смарт» или «Ультра».\n",
    "В нашем распоряжении предобработанные ранее данные о поведении клиентов, которые уже перешли на эти тарифы. **Цель проекта -  построить модель для задачи классификации, которая выберет подходящий тариф.**"
   ]
  },
  {
   "cell_type": "markdown",
   "id": "657f7dfc",
   "metadata": {},
   "source": [
    "## Изучение данных и их разделение"
   ]
  },
  {
   "cell_type": "code",
   "execution_count": 1,
   "id": "fe07f9e2",
   "metadata": {},
   "outputs": [],
   "source": [
    "import pandas as pd\n",
    "from sklearn.model_selection import train_test_split\n",
    "from sklearn.tree import DecisionTreeClassifier\n",
    "from sklearn.ensemble import RandomForestClassifier\n",
    "from sklearn.linear_model import LogisticRegression\n",
    "from sklearn.metrics import accuracy_score\n",
    "import seaborn as sns"
   ]
  },
  {
   "cell_type": "code",
   "execution_count": 2,
   "id": "b7310bab",
   "metadata": {},
   "outputs": [],
   "source": [
    "df = pd.read_csv('C:\\\\Users\\maria\\Desktop\\ЯПрактикум\\Проекты\\Проект6\\\\users_behavior.csv')"
   ]
  },
  {
   "cell_type": "code",
   "execution_count": 3,
   "id": "c77e62cc",
   "metadata": {
    "scrolled": false
   },
   "outputs": [
    {
     "data": {
      "text/html": [
       "<div>\n",
       "<style scoped>\n",
       "    .dataframe tbody tr th:only-of-type {\n",
       "        vertical-align: middle;\n",
       "    }\n",
       "\n",
       "    .dataframe tbody tr th {\n",
       "        vertical-align: top;\n",
       "    }\n",
       "\n",
       "    .dataframe thead th {\n",
       "        text-align: right;\n",
       "    }\n",
       "</style>\n",
       "<table border=\"1\" class=\"dataframe\">\n",
       "  <thead>\n",
       "    <tr style=\"text-align: right;\">\n",
       "      <th></th>\n",
       "      <th>calls</th>\n",
       "      <th>minutes</th>\n",
       "      <th>messages</th>\n",
       "      <th>mb_used</th>\n",
       "      <th>is_ultra</th>\n",
       "    </tr>\n",
       "  </thead>\n",
       "  <tbody>\n",
       "    <tr>\n",
       "      <th>0</th>\n",
       "      <td>40.0</td>\n",
       "      <td>311.90</td>\n",
       "      <td>83.0</td>\n",
       "      <td>19915.42</td>\n",
       "      <td>0</td>\n",
       "    </tr>\n",
       "    <tr>\n",
       "      <th>1</th>\n",
       "      <td>85.0</td>\n",
       "      <td>516.75</td>\n",
       "      <td>56.0</td>\n",
       "      <td>22696.96</td>\n",
       "      <td>0</td>\n",
       "    </tr>\n",
       "    <tr>\n",
       "      <th>2</th>\n",
       "      <td>77.0</td>\n",
       "      <td>467.66</td>\n",
       "      <td>86.0</td>\n",
       "      <td>21060.45</td>\n",
       "      <td>0</td>\n",
       "    </tr>\n",
       "    <tr>\n",
       "      <th>3</th>\n",
       "      <td>106.0</td>\n",
       "      <td>745.53</td>\n",
       "      <td>81.0</td>\n",
       "      <td>8437.39</td>\n",
       "      <td>1</td>\n",
       "    </tr>\n",
       "    <tr>\n",
       "      <th>4</th>\n",
       "      <td>66.0</td>\n",
       "      <td>418.74</td>\n",
       "      <td>1.0</td>\n",
       "      <td>14502.75</td>\n",
       "      <td>0</td>\n",
       "    </tr>\n",
       "  </tbody>\n",
       "</table>\n",
       "</div>"
      ],
      "text/plain": [
       "   calls  minutes  messages   mb_used  is_ultra\n",
       "0   40.0   311.90      83.0  19915.42         0\n",
       "1   85.0   516.75      56.0  22696.96         0\n",
       "2   77.0   467.66      86.0  21060.45         0\n",
       "3  106.0   745.53      81.0   8437.39         1\n",
       "4   66.0   418.74       1.0  14502.75         0"
      ]
     },
     "metadata": {},
     "output_type": "display_data"
    },
    {
     "name": "stdout",
     "output_type": "stream",
     "text": [
      "<class 'pandas.core.frame.DataFrame'>\n",
      "RangeIndex: 3214 entries, 0 to 3213\n",
      "Data columns (total 5 columns):\n",
      " #   Column    Non-Null Count  Dtype  \n",
      "---  ------    --------------  -----  \n",
      " 0   calls     3214 non-null   float64\n",
      " 1   minutes   3214 non-null   float64\n",
      " 2   messages  3214 non-null   float64\n",
      " 3   mb_used   3214 non-null   float64\n",
      " 4   is_ultra  3214 non-null   int64  \n",
      "dtypes: float64(4), int64(1)\n",
      "memory usage: 125.7 KB\n"
     ]
    }
   ],
   "source": [
    "display(df.head())\n",
    "df.info()"
   ]
  },
  {
   "cell_type": "markdown",
   "id": "ddb13ed9",
   "metadata": {},
   "source": [
    "Чтобы обучить и проверить модель необходимо выделить тестовую, валидационную и обучающую выборки в соотношении 3:1:1. Для этого:\n",
    "- разделим весь Датафрейм целевой признак - столбец `is_ultra` и на признаки - остальные столбцы.\n",
    "- отделим 20% данных для тестовой выборки\n",
    "- отделим 25% оставшихся данных для валидационной выборки"
   ]
  },
  {
   "cell_type": "code",
   "execution_count": 4,
   "id": "6ace01d6",
   "metadata": {},
   "outputs": [],
   "source": [
    "features = df.drop(['is_ultra'], axis=1)\n",
    "target = df['is_ultra']"
   ]
  },
  {
   "cell_type": "code",
   "execution_count": 5,
   "id": "3457e7be",
   "metadata": {},
   "outputs": [
    {
     "name": "stdout",
     "output_type": "stream",
     "text": [
      "Размер признаков для тестовой выборки: (643, 4)\n",
      "Размер признаков для валидационной выборки: (643, 4)\n",
      "Размер признаков для обучающей выборки: (1928, 4)\n"
     ]
    }
   ],
   "source": [
    "# отделяем 20% данных для тестовой выборки\n",
    "features_train_valid, features_test, target_train_valid, target_test = train_test_split(\n",
    "    features, target, test_size=0.2, random_state=12345)\n",
    "# отделяем 25% оставшихся данных для валидационной выборки\n",
    "features_train, features_valid, target_train, target_valid= train_test_split(\n",
    "    features_train_valid, target_train_valid, test_size=0.25, random_state=12345)\n",
    "# для проверки выведем размеры признаков всех выборок\n",
    "print(\"Размер признаков для тестовой выборки:\", features_test.shape)\n",
    "print(\"Размер признаков для валидационной выборки:\", features_valid.shape)\n",
    "print(\"Размер признаков для обучающей выборки:\", features_train\n",
    "      .shape)"
   ]
  },
  {
   "cell_type": "markdown",
   "id": "a96295b0",
   "metadata": {},
   "source": [
    "Данные готовы можно приступать к построению моделей."
   ]
  },
  {
   "cell_type": "markdown",
   "id": "c4d8c44d",
   "metadata": {},
   "source": [
    "## Построение моделей"
   ]
  },
  {
   "cell_type": "markdown",
   "id": "e168be5c",
   "metadata": {},
   "source": [
    "Так как тарифов только два, перед нами задача бинарной классификации. Поэтому построим три модели, подходящих для этой задачи: дерево решений, случайный лес и логистическую регрессию. Качество модели будем проверять критерием `accuracy`."
   ]
  },
  {
   "cell_type": "markdown",
   "id": "2a9b0ed8",
   "metadata": {},
   "source": [
    "### Дерево решений"
   ]
  },
  {
   "cell_type": "markdown",
   "id": "9732ac57",
   "metadata": {},
   "source": [
    "Для дерева решений возьмём следующие гиперпараметры: `max_depth`, `max_features`,`criterion`, `random_state`, `min_samples_split`, `min_samples_leaf`. В конце кода выведем все лучшие гиперпараметры и качество модели. В модель дерево решений работает достоточно быстро, поэтому переберем сочетания всех этих параметров."
   ]
  },
  {
   "cell_type": "code",
   "execution_count": 6,
   "id": "ccf57e72",
   "metadata": {},
   "outputs": [],
   "source": [
    "criterions = ['gini', 'entropy'] # список критериев расщепления\n",
    "max_features = [None, 'auto', 'log2'] # список числа признаков"
   ]
  },
  {
   "cell_type": "code",
   "execution_count": 7,
   "id": "9b978099",
   "metadata": {},
   "outputs": [
    {
     "name": "stdout",
     "output_type": "stream",
     "text": [
      "Accuracy наилучшей модели на валидационной выборке: 0.7962674961119751 \n",
      "Критерий: entropy \n",
      "Количество признаков: auto \n",
      "Глубина дерева: 9 \n",
      "Минимальное количество примеров: 10 \n",
      "Минимальное количество объектов: 4\n"
     ]
    }
   ],
   "source": [
    "best_model_1 = None\n",
    "best_result_1 = 0\n",
    "best_depth_1 = 0\n",
    "best_criterion_1 = ''\n",
    "best_max_feature_1 = ''\n",
    "best_samples_split_1 = 0\n",
    "best_samples_leaf_1 = 0\n",
    "\n",
    "for criterion_1 in criterions:\n",
    "    for max_feature_1 in max_features:\n",
    "        for depth_1 in range(1, 10):\n",
    "            for samples_split_1 in range(10, 200, 10):\n",
    "                for samples_leaf_1 in range(1, 5):\n",
    "                    # обучение модели с заданными гиперпараметрами\n",
    "                    model_1 = DecisionTreeClassifier(random_state=12345, \n",
    "                                                     criterion=criterion_1,\n",
    "                                                     max_features=max_feature_1,\n",
    "                                                     max_depth=depth_1,\n",
    "                                                     min_samples_split=samples_split_1, \n",
    "                                                     min_samples_leaf=samples_leaf_1)\n",
    "                    model_1.fit(features_train, target_train)\n",
    "                    result_1 = accuracy_score(target_valid, model_1.predict(features_valid)) # подсчёт качества модели\n",
    "                    if result_1 > best_result_1:\n",
    "                        # запись лучших параметров\n",
    "                        best_model_1 = model_1 \n",
    "                        best_result_1 = result_1\n",
    "                        best_criterion_1 = criterion_1\n",
    "                        best_max_feature_1 = max_feature_1\n",
    "                        best_depth_1 = depth_1\n",
    "                        best_samples_split_1 = samples_split_1\n",
    "                        best_samples_leaf_1 = samples_leaf_1\n",
    "                                                \n",
    "print(\"Accuracy наилучшей модели на валидационной выборке:\", best_result_1, \n",
    "      \"\\nКритерий:\", best_criterion_1, \n",
    "      \"\\nКоличество признаков:\", best_max_feature_1,\n",
    "      \"\\nГлубина дерева:\", best_depth_1,\n",
    "      \"\\nМинимальное количество примеров:\", best_samples_split_1, \n",
    "      \"\\nМинимальное количество объектов:\", best_samples_leaf_1)"
   ]
  },
  {
   "cell_type": "markdown",
   "id": "409af485",
   "metadata": {},
   "source": [
    "### Случайный лес"
   ]
  },
  {
   "cell_type": "markdown",
   "id": "8ae00780",
   "metadata": {},
   "source": [
    "Для случайного леса используем гиперпараметры: `n_estimators`, `max_depth`, `max_features`,`criterion`, `random_state`. Так как данная модель и так тратит больше времени на обучение, гиперпараметры `min_samples_split` и `min_samples_leaf` опустим."
   ]
  },
  {
   "cell_type": "code",
   "execution_count": 8,
   "id": "2dbba8ab",
   "metadata": {},
   "outputs": [
    {
     "name": "stdout",
     "output_type": "stream",
     "text": [
      "Accuracy наилучшей модели на валидационной выборке: 0.7993779160186625 \n",
      "Критерий: gini \n",
      "Количество признаков: None \n",
      "Количество деревьев: 10 \n",
      "Глубина дерева: 9\n"
     ]
    }
   ],
   "source": [
    "best_model_2 = None\n",
    "best_result_2 = 0\n",
    "best_est_2 = 0\n",
    "best_depth_2 = 0\n",
    "best_criterion_2 = ''\n",
    "best_max_feature_2 = ''\n",
    "\n",
    "for criterion_2 in criterions:\n",
    "    for max_feature_2 in max_features:\n",
    "        for est_2 in range(1, 15):\n",
    "            for depth_2 in range(1, 10):\n",
    "                        # обучение модели с заданными гиперпараметрами\n",
    "                        model_2 = RandomForestClassifier(random_state=12345,\n",
    "                                                         criterion=criterion_2,\n",
    "                                                         max_features=max_feature_2,\n",
    "                                                         n_estimators=est_2,\n",
    "                                                         max_depth=depth_2)\n",
    "                        model_2.fit(features_train, target_train)\n",
    "                        result_2 = accuracy_score(target_valid, model_2.predict(features_valid)) # подсчёт качества модели\n",
    "                        if result_2 > best_result_2:\n",
    "                            # запись лучших параметров\n",
    "                            best_model_2 = model_2\n",
    "                            best_result_2 = result_2\n",
    "                            best_criterion_2 = criterion_2\n",
    "                            best_max_feature_2 = max_feature_2\n",
    "                            best_est_2 = est_2\n",
    "                            best_depth_2 = depth_2\n",
    "                            \n",
    "print(\"Accuracy наилучшей модели на валидационной выборке:\", best_result_2, \n",
    "      \"\\nКритерий:\", best_criterion_2, \n",
    "      \"\\nКоличество признаков:\", best_max_feature_2,\n",
    "      \"\\nКоличество деревьев:\", best_est_2,\n",
    "      \"\\nГлубина дерева:\", best_depth_2)"
   ]
  },
  {
   "cell_type": "markdown",
   "id": "54371223",
   "metadata": {},
   "source": [
    "### Логистическая регрессия"
   ]
  },
  {
   "cell_type": "markdown",
   "id": "a9e2e83a",
   "metadata": {},
   "source": [
    "Для данной модели возьмем гиперпараметры `random_state`, `solver`, `max_iter` и зададим им сразу значения."
   ]
  },
  {
   "cell_type": "code",
   "execution_count": 9,
   "id": "4dba3296",
   "metadata": {},
   "outputs": [
    {
     "name": "stdout",
     "output_type": "stream",
     "text": [
      "Accuracy наилучшей модели на валидационной выборке: 0.7262830482115086\n"
     ]
    }
   ],
   "source": [
    "model_3 = LogisticRegression(random_state=12345, solver='lbfgs', max_iter=1000)\n",
    "model_3.fit(features_train, target_train)\n",
    "result_3 = model_3.score(features_valid, target_valid)\n",
    "        \n",
    "print(\"Accuracy наилучшей модели на валидационной выборке:\", result_3)"
   ]
  },
  {
   "cell_type": "markdown",
   "id": "0d13e7fe",
   "metadata": {},
   "source": [
    "### Вывод"
   ]
  },
  {
   "cell_type": "markdown",
   "id": "54f6fc51",
   "metadata": {},
   "source": [
    "- Значения accuracy моделей Дерево решений (0.796) и Случайный лес (0.799) получились очень близки, модель Логистической регрессии им явно уступает (0.726). \n",
    "- В модели Дерево решений использовалось больше гиперпараметров, чем в Случайном лесе, и получилось, что время выполнения задачи почти одинаковое. Быстрее всего явно справляется Логистическая регрессия, но это связано с тем, что в этой модели гиперпараметры не перебирались.\n",
    "- Так как нам важно именно значение accuracy в данному случае, наилучшей моделью будет являться Случайный лес."
   ]
  },
  {
   "cell_type": "markdown",
   "id": "e88802a0",
   "metadata": {},
   "source": [
    "## Проверка модели на тестовой выборке"
   ]
  },
  {
   "cell_type": "code",
   "execution_count": 10,
   "id": "fd79f1bc",
   "metadata": {},
   "outputs": [
    {
     "name": "stdout",
     "output_type": "stream",
     "text": [
      "Accuracy наилучшей модели на тестовой выборке: 0.7931570762052877\n"
     ]
    }
   ],
   "source": [
    "final_result = accuracy_score(target_test, best_model_2.predict(features_test))\n",
    "print(\"Accuracy наилучшей модели на тестовой выборке:\", final_result)"
   ]
  },
  {
   "cell_type": "markdown",
   "id": "08dfca8e",
   "metadata": {},
   "source": [
    "Получили нужное значение Accuracy равное 0.79 на тестовой выборке."
   ]
  },
  {
   "cell_type": "markdown",
   "id": "9eefb2b4",
   "metadata": {},
   "source": [
    "## Общий вывод"
   ]
  },
  {
   "cell_type": "markdown",
   "id": "fea97e6b",
   "metadata": {},
   "source": [
    "- Для обучения моделей был выбран целевой признак - наличие тарифа ultra (1-этот тариф, 0 - другой). Все остальные столбцы подошли для признаков.\n",
    "- Все данные были разбиты на тестовую, валидационную и обучающую выборки в соотношении 1:1:3.\n",
    "- Для обучения были выбраны три модели: Дерево решений, Случайный лес, Логистическая регрессия.\n",
    "- Для модели Дерево решений взяли и перебрали гиперпараметры: `max_depth`, `max_features`,`criterion`, `random_state`, `min_samples_split`, `min_samples_leaf`.\n",
    "- Для модели Случайного леса взяли и перебрали гиперпараметры:`n_estimators`, `max_depth`, `max_features`,`criterion`, `random_state`.\n",
    "- Для модели Логистической регресии взяли заданные гиперпараметры `random_state`, `solver`, `max_iter`.\n",
    "- Лучшее значение accuracy - 0.799 на валидационной выборке получилось в модели Случайный лес. При проверке этой модели на тестовой выборке получили также достаточно высокое значение accuracy - 0.793."
   ]
  }
 ],
 "metadata": {
  "ExecuteTimeLog": [
   {
    "duration": 80,
    "start_time": "2022-04-13T11:09:29.454Z"
   },
   {
    "duration": 2467,
    "start_time": "2022-04-13T11:09:46.161Z"
   },
   {
    "duration": 129,
    "start_time": "2022-04-13T11:09:49.074Z"
   },
   {
    "duration": 142,
    "start_time": "2022-04-13T11:09:52.830Z"
   },
   {
    "duration": 32,
    "start_time": "2022-04-13T11:09:53.239Z"
   },
   {
    "duration": 7594,
    "start_time": "2022-04-13T11:09:55.104Z"
   },
   {
    "duration": 16,
    "start_time": "2022-04-13T11:13:42.123Z"
   },
   {
    "duration": 5,
    "start_time": "2022-04-13T11:13:48.087Z"
   },
   {
    "duration": 12,
    "start_time": "2022-04-13T11:13:48.465Z"
   },
   {
    "duration": 14,
    "start_time": "2022-04-13T11:14:16.995Z"
   },
   {
    "duration": 2000,
    "start_time": "2022-04-13T11:26:01.697Z"
   },
   {
    "duration": 21,
    "start_time": "2022-04-13T11:26:03.700Z"
   },
   {
    "duration": 30,
    "start_time": "2022-04-13T11:26:03.723Z"
   },
   {
    "duration": 5,
    "start_time": "2022-04-13T11:26:03.755Z"
   },
   {
    "duration": 37,
    "start_time": "2022-04-13T11:26:03.762Z"
   },
   {
    "duration": 11,
    "start_time": "2022-04-13T11:26:03.801Z"
   },
   {
    "duration": 30023,
    "start_time": "2022-04-13T11:26:03.814Z"
   },
   {
    "duration": 24556,
    "start_time": "2022-04-13T11:26:33.839Z"
   },
   {
    "duration": 54,
    "start_time": "2022-04-13T11:26:58.398Z"
   },
   {
    "duration": 40,
    "start_time": "2022-04-13T11:26:58.456Z"
   }
  ],
  "kernelspec": {
   "display_name": "Python 3 (ipykernel)",
   "language": "python",
   "name": "python3"
  },
  "language_info": {
   "codemirror_mode": {
    "name": "ipython",
    "version": 3
   },
   "file_extension": ".py",
   "mimetype": "text/x-python",
   "name": "python",
   "nbconvert_exporter": "python",
   "pygments_lexer": "ipython3",
   "version": "3.9.7"
  },
  "toc": {
   "base_numbering": 1,
   "nav_menu": {},
   "number_sections": true,
   "sideBar": true,
   "skip_h1_title": true,
   "title_cell": "Содержание",
   "title_sidebar": "Содержание",
   "toc_cell": true,
   "toc_position": {},
   "toc_section_display": true,
   "toc_window_display": true
  }
 },
 "nbformat": 4,
 "nbformat_minor": 5
}
