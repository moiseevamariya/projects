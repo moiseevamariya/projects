{
 "cells": [
  {
   "cell_type": "markdown",
   "id": "10f6688b",
   "metadata": {
    "toc": true
   },
   "source": [
    "<h1>Table of Contents<span class=\"tocSkip\"></span></h1>\n",
    "<div class=\"toc\"><ul class=\"toc-item\"><li><span><a href=\"#Обзор-и-предобработка-данных\" data-toc-modified-id=\"Обзор-и-предобработка-данных-1\"><span class=\"toc-item-num\">1&nbsp;&nbsp;</span>Обзор и предобработка данных</a></span><ul class=\"toc-item\"><li><span><a href=\"#Звонки\" data-toc-modified-id=\"Звонки-1.1\"><span class=\"toc-item-num\">1.1&nbsp;&nbsp;</span>Звонки</a></span></li><li><span><a href=\"#Сообщения\" data-toc-modified-id=\"Сообщения-1.2\"><span class=\"toc-item-num\">1.2&nbsp;&nbsp;</span>Сообщения</a></span></li><li><span><a href=\"#Интернет\" data-toc-modified-id=\"Интернет-1.3\"><span class=\"toc-item-num\">1.3&nbsp;&nbsp;</span>Интернет</a></span></li><li><span><a href=\"#Тарифы\" data-toc-modified-id=\"Тарифы-1.4\"><span class=\"toc-item-num\">1.4&nbsp;&nbsp;</span>Тарифы</a></span></li><li><span><a href=\"#Пользователи\" data-toc-modified-id=\"Пользователи-1.5\"><span class=\"toc-item-num\">1.5&nbsp;&nbsp;</span>Пользователи</a></span></li></ul></li><li><span><a href=\"#Добавление-данных\" data-toc-modified-id=\"Добавление-данных-2\"><span class=\"toc-item-num\">2&nbsp;&nbsp;</span>Добавление данных</a></span></li><li><span><a href=\"#Анализ-тарифов\" data-toc-modified-id=\"Анализ-тарифов-3\"><span class=\"toc-item-num\">3&nbsp;&nbsp;</span>Анализ тарифов</a></span><ul class=\"toc-item\"><li><span><a href=\"#Звонки\" data-toc-modified-id=\"Звонки-3.1\"><span class=\"toc-item-num\">3.1&nbsp;&nbsp;</span>Звонки</a></span></li><li><span><a href=\"#Сообщения\" data-toc-modified-id=\"Сообщения-3.2\"><span class=\"toc-item-num\">3.2&nbsp;&nbsp;</span>Сообщения</a></span></li><li><span><a href=\"#Интернет\" data-toc-modified-id=\"Интернет-3.3\"><span class=\"toc-item-num\">3.3&nbsp;&nbsp;</span>Интернет</a></span></li><li><span><a href=\"#Выручка\" data-toc-modified-id=\"Выручка-3.4\"><span class=\"toc-item-num\">3.4&nbsp;&nbsp;</span>Выручка</a></span></li></ul></li><li><span><a href=\"#Проверка-гипотез\" data-toc-modified-id=\"Проверка-гипотез-4\"><span class=\"toc-item-num\">4&nbsp;&nbsp;</span>Проверка гипотез</a></span><ul class=\"toc-item\"><li><span><a href=\"#Гипотеза-1\" data-toc-modified-id=\"Гипотеза-1-4.1\"><span class=\"toc-item-num\">4.1&nbsp;&nbsp;</span>Гипотеза 1</a></span></li><li><span><a href=\"#Гипотеза-2\" data-toc-modified-id=\"Гипотеза-2-4.2\"><span class=\"toc-item-num\">4.2&nbsp;&nbsp;</span>Гипотеза 2</a></span></li></ul></li><li><span><a href=\"#Общий-вывод\" data-toc-modified-id=\"Общий-вывод-5\"><span class=\"toc-item-num\">5&nbsp;&nbsp;</span>Общий вывод</a></span></li></ul></div>"
   ]
  },
  {
   "cell_type": "markdown",
   "id": "7f431417",
   "metadata": {},
   "source": [
    "# Сравнительный анализ тарифных планов оператора\n",
    "\n",
    "Клиентам предлагают два тарифных плана: «Смарт» и «Ультра». Чтобы скорректировать рекламный бюджет, коммерческий департамент хочет понять, какой тариф приносит больше денег.\n",
    "\n",
    "Нам предстоит сделать предварительный анализ тарифов на небольшой выборке клиентов. В распоряжении данные 500 пользователей: кто они, откуда, каким тарифом пользуются, сколько звонков и сообщений каждый отправил за 2018 год. **Цель -  проанализировать поведение клиентов и сделать вывод — какой тариф лучше.**"
   ]
  },
  {
   "cell_type": "markdown",
   "id": "43630e10",
   "metadata": {},
   "source": [
    "## Обзор и предобработка данных "
   ]
  },
  {
   "cell_type": "code",
   "execution_count": 1,
   "id": "c98ae1f6",
   "metadata": {},
   "outputs": [],
   "source": [
    "import pandas as pd\n",
    "import matplotlib.pyplot as plt\n",
    "import math\n",
    "import numpy as np\n",
    "from scipy import stats as st"
   ]
  },
  {
   "cell_type": "code",
   "execution_count": 2,
   "id": "8e910f06",
   "metadata": {},
   "outputs": [],
   "source": [
    "calls = pd.read_csv('C:\\\\Users\\maria\\Desktop\\ЯПрактикум\\Проекты\\Проект4\\\\calls.csv')\n",
    "messages = pd.read_csv('C:\\\\Users\\maria\\Desktop\\ЯПрактикум\\Проекты\\Проект4\\\\messages.csv')\n",
    "internet = pd.read_csv('C:\\\\Users\\maria\\Desktop\\ЯПрактикум\\Проекты\\Проект4\\\\internet.csv', index_col=0)\n",
    "tariffs = pd.read_csv('C:\\\\Users\\maria\\Desktop\\ЯПрактикум\\Проекты\\Проект4\\\\tariffs.csv')\n",
    "users = pd.read_csv('C:\\\\Users\\maria\\Desktop\\ЯПрактикум\\Проекты\\Проект4\\\\users.csv')"
   ]
  },
  {
   "cell_type": "markdown",
   "id": "4b3d103a",
   "metadata": {},
   "source": [
    "Изучим данные каждой таблицы по отдельности."
   ]
  },
  {
   "cell_type": "markdown",
   "id": "27a0a855",
   "metadata": {},
   "source": [
    "### Звонки"
   ]
  },
  {
   "cell_type": "code",
   "execution_count": 3,
   "id": "2783d939",
   "metadata": {},
   "outputs": [
    {
     "data": {
      "text/html": [
       "<div>\n",
       "<style scoped>\n",
       "    .dataframe tbody tr th:only-of-type {\n",
       "        vertical-align: middle;\n",
       "    }\n",
       "\n",
       "    .dataframe tbody tr th {\n",
       "        vertical-align: top;\n",
       "    }\n",
       "\n",
       "    .dataframe thead th {\n",
       "        text-align: right;\n",
       "    }\n",
       "</style>\n",
       "<table border=\"1\" class=\"dataframe\">\n",
       "  <thead>\n",
       "    <tr style=\"text-align: right;\">\n",
       "      <th></th>\n",
       "      <th>id</th>\n",
       "      <th>call_date</th>\n",
       "      <th>duration</th>\n",
       "      <th>user_id</th>\n",
       "    </tr>\n",
       "  </thead>\n",
       "  <tbody>\n",
       "    <tr>\n",
       "      <th>0</th>\n",
       "      <td>1000_0</td>\n",
       "      <td>2018-07-25</td>\n",
       "      <td>0.00</td>\n",
       "      <td>1000</td>\n",
       "    </tr>\n",
       "    <tr>\n",
       "      <th>1</th>\n",
       "      <td>1000_1</td>\n",
       "      <td>2018-08-17</td>\n",
       "      <td>0.00</td>\n",
       "      <td>1000</td>\n",
       "    </tr>\n",
       "    <tr>\n",
       "      <th>2</th>\n",
       "      <td>1000_2</td>\n",
       "      <td>2018-06-11</td>\n",
       "      <td>2.85</td>\n",
       "      <td>1000</td>\n",
       "    </tr>\n",
       "    <tr>\n",
       "      <th>3</th>\n",
       "      <td>1000_3</td>\n",
       "      <td>2018-09-21</td>\n",
       "      <td>13.80</td>\n",
       "      <td>1000</td>\n",
       "    </tr>\n",
       "    <tr>\n",
       "      <th>4</th>\n",
       "      <td>1000_4</td>\n",
       "      <td>2018-12-15</td>\n",
       "      <td>5.18</td>\n",
       "      <td>1000</td>\n",
       "    </tr>\n",
       "  </tbody>\n",
       "</table>\n",
       "</div>"
      ],
      "text/plain": [
       "       id   call_date  duration  user_id\n",
       "0  1000_0  2018-07-25      0.00     1000\n",
       "1  1000_1  2018-08-17      0.00     1000\n",
       "2  1000_2  2018-06-11      2.85     1000\n",
       "3  1000_3  2018-09-21     13.80     1000\n",
       "4  1000_4  2018-12-15      5.18     1000"
      ]
     },
     "metadata": {},
     "output_type": "display_data"
    },
    {
     "name": "stdout",
     "output_type": "stream",
     "text": [
      "<class 'pandas.core.frame.DataFrame'>\n",
      "RangeIndex: 202607 entries, 0 to 202606\n",
      "Data columns (total 4 columns):\n",
      " #   Column     Non-Null Count   Dtype  \n",
      "---  ------     --------------   -----  \n",
      " 0   id         202607 non-null  object \n",
      " 1   call_date  202607 non-null  object \n",
      " 2   duration   202607 non-null  float64\n",
      " 3   user_id    202607 non-null  int64  \n",
      "dtypes: float64(1), int64(1), object(2)\n",
      "memory usage: 6.2+ MB\n"
     ]
    },
    {
     "data": {
      "text/plain": [
       "0"
      ]
     },
     "execution_count": 3,
     "metadata": {},
     "output_type": "execute_result"
    }
   ],
   "source": [
    "display(calls.head())\n",
    "calls.info()\n",
    "calls.duplicated().sum()"
   ]
  },
  {
   "cell_type": "markdown",
   "id": "3a935910",
   "metadata": {},
   "source": [
    "Нет пропущенных значений, нет дубликатов. Необходимо перевести дату в формат `datetime` и изучить столбец `duration`."
   ]
  },
  {
   "cell_type": "code",
   "execution_count": 4,
   "id": "6777e209",
   "metadata": {},
   "outputs": [
    {
     "name": "stdout",
     "output_type": "stream",
     "text": [
      "<class 'pandas.core.frame.DataFrame'>\n",
      "RangeIndex: 202607 entries, 0 to 202606\n",
      "Data columns (total 4 columns):\n",
      " #   Column     Non-Null Count   Dtype         \n",
      "---  ------     --------------   -----         \n",
      " 0   id         202607 non-null  object        \n",
      " 1   call_date  202607 non-null  datetime64[ns]\n",
      " 2   duration   202607 non-null  float64       \n",
      " 3   user_id    202607 non-null  int64         \n",
      "dtypes: datetime64[ns](1), float64(1), int64(1), object(1)\n",
      "memory usage: 6.2+ MB\n"
     ]
    }
   ],
   "source": [
    "calls['call_date'] = pd.to_datetime(calls['call_date'], format='%Y-%m-%d')\n",
    "calls.info() # проверка формата даты"
   ]
  },
  {
   "cell_type": "code",
   "execution_count": 5,
   "id": "7c52a95b",
   "metadata": {},
   "outputs": [
    {
     "name": "stdout",
     "output_type": "stream",
     "text": [
      "count    202607.000000\n",
      "mean          6.755887\n",
      "std           5.843365\n",
      "min           0.000000\n",
      "25%           1.300000\n",
      "50%           6.000000\n",
      "75%          10.700000\n",
      "max          38.000000\n",
      "Name: duration, dtype: float64\n"
     ]
    },
    {
     "data": {
      "text/plain": [
       "<AxesSubplot:>"
      ]
     },
     "execution_count": 5,
     "metadata": {},
     "output_type": "execute_result"
    },
    {
     "data": {
      "image/png": "[encoded data removed]",
      "text/plain": [
       "<Figure size 432x288 with 1 Axes>"
      ]
     },
     "metadata": {
      "needs_background": "light"
     },
     "output_type": "display_data"
    }
   ],
   "source": [
    "print(calls['duration'].describe()) # изучение данных столбца 'duration'\n",
    "calls.boxplot('duration')"
   ]
  },
  {
   "cell_type": "markdown",
   "id": "2d3549ae",
   "metadata": {},
   "source": [
    "Данные в продолжительности звонков, однородны, больших выбросов нет, максимальное значение 38 минут, что вполне реально. Также в условии сказано, что значение 0 - это пропущенный вызов, поэтому его удалять не стоит. Но если звонок не состоялся, минуты не потрачены, то по моему мнению, эти данные не несут никакого смысла и никак не влияют на дальнейшее исследование. Поэтому уберём значения, где продолжительность звонков 0."
   ]
  },
  {
   "cell_type": "code",
   "execution_count": 6,
   "id": "c888e526",
   "metadata": {},
   "outputs": [],
   "source": [
    "calls = calls.query('duration != 0')"
   ]
  },
  {
   "cell_type": "markdown",
   "id": "0fbdaae7",
   "metadata": {},
   "source": [
    "### Сообщения"
   ]
  },
  {
   "cell_type": "code",
   "execution_count": 7,
   "id": "1b2f4f3f",
   "metadata": {},
   "outputs": [
    {
     "data": {
      "text/html": [
       "<div>\n",
       "<style scoped>\n",
       "    .dataframe tbody tr th:only-of-type {\n",
       "        vertical-align: middle;\n",
       "    }\n",
       "\n",
       "    .dataframe tbody tr th {\n",
       "        vertical-align: top;\n",
       "    }\n",
       "\n",
       "    .dataframe thead th {\n",
       "        text-align: right;\n",
       "    }\n",
       "</style>\n",
       "<table border=\"1\" class=\"dataframe\">\n",
       "  <thead>\n",
       "    <tr style=\"text-align: right;\">\n",
       "      <th></th>\n",
       "      <th>id</th>\n",
       "      <th>message_date</th>\n",
       "      <th>user_id</th>\n",
       "    </tr>\n",
       "  </thead>\n",
       "  <tbody>\n",
       "    <tr>\n",
       "      <th>0</th>\n",
       "      <td>1000_0</td>\n",
       "      <td>2018-06-27</td>\n",
       "      <td>1000</td>\n",
       "    </tr>\n",
       "    <tr>\n",
       "      <th>1</th>\n",
       "      <td>1000_1</td>\n",
       "      <td>2018-10-08</td>\n",
       "      <td>1000</td>\n",
       "    </tr>\n",
       "    <tr>\n",
       "      <th>2</th>\n",
       "      <td>1000_2</td>\n",
       "      <td>2018-08-04</td>\n",
       "      <td>1000</td>\n",
       "    </tr>\n",
       "    <tr>\n",
       "      <th>3</th>\n",
       "      <td>1000_3</td>\n",
       "      <td>2018-06-16</td>\n",
       "      <td>1000</td>\n",
       "    </tr>\n",
       "    <tr>\n",
       "      <th>4</th>\n",
       "      <td>1000_4</td>\n",
       "      <td>2018-12-05</td>\n",
       "      <td>1000</td>\n",
       "    </tr>\n",
       "  </tbody>\n",
       "</table>\n",
       "</div>"
      ],
      "text/plain": [
       "       id message_date  user_id\n",
       "0  1000_0   2018-06-27     1000\n",
       "1  1000_1   2018-10-08     1000\n",
       "2  1000_2   2018-08-04     1000\n",
       "3  1000_3   2018-06-16     1000\n",
       "4  1000_4   2018-12-05     1000"
      ]
     },
     "metadata": {},
     "output_type": "display_data"
    },
    {
     "name": "stdout",
     "output_type": "stream",
     "text": [
      "<class 'pandas.core.frame.DataFrame'>\n",
      "RangeIndex: 123036 entries, 0 to 123035\n",
      "Data columns (total 3 columns):\n",
      " #   Column        Non-Null Count   Dtype \n",
      "---  ------        --------------   ----- \n",
      " 0   id            123036 non-null  object\n",
      " 1   message_date  123036 non-null  object\n",
      " 2   user_id       123036 non-null  int64 \n",
      "dtypes: int64(1), object(2)\n",
      "memory usage: 2.8+ MB\n"
     ]
    },
    {
     "data": {
      "text/plain": [
       "0"
      ]
     },
     "execution_count": 7,
     "metadata": {},
     "output_type": "execute_result"
    }
   ],
   "source": [
    "display(messages.head())\n",
    "messages.info()\n",
    "messages.duplicated().sum()"
   ]
  },
  {
   "cell_type": "markdown",
   "id": "6d6bf81a",
   "metadata": {},
   "source": [
    "Нет пропущенных значений, нет дубликатов. Необходимо перевести дату в формат `datetime`."
   ]
  },
  {
   "cell_type": "code",
   "execution_count": 8,
   "id": "168d7fe9",
   "metadata": {},
   "outputs": [
    {
     "name": "stdout",
     "output_type": "stream",
     "text": [
      "<class 'pandas.core.frame.DataFrame'>\n",
      "RangeIndex: 123036 entries, 0 to 123035\n",
      "Data columns (total 3 columns):\n",
      " #   Column        Non-Null Count   Dtype         \n",
      "---  ------        --------------   -----         \n",
      " 0   id            123036 non-null  object        \n",
      " 1   message_date  123036 non-null  datetime64[ns]\n",
      " 2   user_id       123036 non-null  int64         \n",
      "dtypes: datetime64[ns](1), int64(1), object(1)\n",
      "memory usage: 2.8+ MB\n"
     ]
    }
   ],
   "source": [
    "messages['message_date'] = pd.to_datetime(messages['message_date'], format='%Y-%m-%d')\n",
    "messages.info()"
   ]
  },
  {
   "cell_type": "markdown",
   "id": "82b18d13",
   "metadata": {},
   "source": [
    "### Интернет"
   ]
  },
  {
   "cell_type": "code",
   "execution_count": 9,
   "id": "dfcfdcb9",
   "metadata": {},
   "outputs": [
    {
     "data": {
      "text/html": [
       "<div>\n",
       "<style scoped>\n",
       "    .dataframe tbody tr th:only-of-type {\n",
       "        vertical-align: middle;\n",
       "    }\n",
       "\n",
       "    .dataframe tbody tr th {\n",
       "        vertical-align: top;\n",
       "    }\n",
       "\n",
       "    .dataframe thead th {\n",
       "        text-align: right;\n",
       "    }\n",
       "</style>\n",
       "<table border=\"1\" class=\"dataframe\">\n",
       "  <thead>\n",
       "    <tr style=\"text-align: right;\">\n",
       "      <th></th>\n",
       "      <th>id</th>\n",
       "      <th>mb_used</th>\n",
       "      <th>session_date</th>\n",
       "      <th>user_id</th>\n",
       "    </tr>\n",
       "  </thead>\n",
       "  <tbody>\n",
       "    <tr>\n",
       "      <th>0</th>\n",
       "      <td>1000_0</td>\n",
       "      <td>112.95</td>\n",
       "      <td>2018-11-25</td>\n",
       "      <td>1000</td>\n",
       "    </tr>\n",
       "    <tr>\n",
       "      <th>1</th>\n",
       "      <td>1000_1</td>\n",
       "      <td>1052.81</td>\n",
       "      <td>2018-09-07</td>\n",
       "      <td>1000</td>\n",
       "    </tr>\n",
       "    <tr>\n",
       "      <th>2</th>\n",
       "      <td>1000_2</td>\n",
       "      <td>1197.26</td>\n",
       "      <td>2018-06-25</td>\n",
       "      <td>1000</td>\n",
       "    </tr>\n",
       "    <tr>\n",
       "      <th>3</th>\n",
       "      <td>1000_3</td>\n",
       "      <td>550.27</td>\n",
       "      <td>2018-08-22</td>\n",
       "      <td>1000</td>\n",
       "    </tr>\n",
       "    <tr>\n",
       "      <th>4</th>\n",
       "      <td>1000_4</td>\n",
       "      <td>302.56</td>\n",
       "      <td>2018-09-24</td>\n",
       "      <td>1000</td>\n",
       "    </tr>\n",
       "  </tbody>\n",
       "</table>\n",
       "</div>"
      ],
      "text/plain": [
       "       id  mb_used session_date  user_id\n",
       "0  1000_0   112.95   2018-11-25     1000\n",
       "1  1000_1  1052.81   2018-09-07     1000\n",
       "2  1000_2  1197.26   2018-06-25     1000\n",
       "3  1000_3   550.27   2018-08-22     1000\n",
       "4  1000_4   302.56   2018-09-24     1000"
      ]
     },
     "metadata": {},
     "output_type": "display_data"
    },
    {
     "name": "stdout",
     "output_type": "stream",
     "text": [
      "<class 'pandas.core.frame.DataFrame'>\n",
      "Int64Index: 149396 entries, 0 to 149395\n",
      "Data columns (total 4 columns):\n",
      " #   Column        Non-Null Count   Dtype  \n",
      "---  ------        --------------   -----  \n",
      " 0   id            149396 non-null  object \n",
      " 1   mb_used       149396 non-null  float64\n",
      " 2   session_date  149396 non-null  object \n",
      " 3   user_id       149396 non-null  int64  \n",
      "dtypes: float64(1), int64(1), object(2)\n",
      "memory usage: 5.7+ MB\n"
     ]
    },
    {
     "data": {
      "text/plain": [
       "0"
      ]
     },
     "execution_count": 9,
     "metadata": {},
     "output_type": "execute_result"
    }
   ],
   "source": [
    "display(internet.head())\n",
    "internet.info()\n",
    "internet.duplicated().sum()"
   ]
  },
  {
   "cell_type": "markdown",
   "id": "9979c85a",
   "metadata": {},
   "source": [
    "Нет пропущенных значений, нет дубликатов. Есть столбец `Unnamed: 0`, который возникает, когда данные сохраняют с указанием индекса. Чтобы данные отображались корректно при чтении файла в начале работы укажем этот столбец как `pd.read_csv(..., index_col=0)`. \n",
    "\n",
    "Также необходимо перевести дату в формат `datetime` и изучить столбец `mb_used`."
   ]
  },
  {
   "cell_type": "code",
   "execution_count": 10,
   "id": "0a5c673b",
   "metadata": {},
   "outputs": [],
   "source": [
    "internet['session_date'] = pd.to_datetime(internet['session_date'], format='%Y-%m-%d') # перевод даты"
   ]
  },
  {
   "cell_type": "code",
   "execution_count": 11,
   "id": "a63c29d4",
   "metadata": {},
   "outputs": [
    {
     "name": "stdout",
     "output_type": "stream",
     "text": [
      "count    149396.000000\n",
      "mean        370.192426\n",
      "std         278.300951\n",
      "min           0.000000\n",
      "25%         138.187500\n",
      "50%         348.015000\n",
      "75%         559.552500\n",
      "max        1724.830000\n",
      "Name: mb_used, dtype: float64\n"
     ]
    },
    {
     "data": {
      "text/plain": [
       "<AxesSubplot:>"
      ]
     },
     "execution_count": 11,
     "metadata": {},
     "output_type": "execute_result"
    },
    {
     "data": {
      "image/png": "[encoded data removed]",
      "text/plain": [
       "<Figure size 432x288 with 1 Axes>"
      ]
     },
     "metadata": {
      "needs_background": "light"
     },
     "output_type": "display_data"
    }
   ],
   "source": [
    "# изучение данных столбца 'mb_used'\n",
    "print(internet['mb_used'].describe())\n",
    "internet['mb_used'].hist()"
   ]
  },
  {
   "cell_type": "markdown",
   "id": "17ebf642",
   "metadata": {},
   "source": [
    "Видно, что в данных есть значения 0 Мб, но если идет загрузка страницы, то влюбом случае какое-либо количество Мб должно посчитаться. Значит, это ошибка в данных. Посмотрим, какую часть строки со значением 0 составляют от всех данных."
   ]
  },
  {
   "cell_type": "code",
   "execution_count": 12,
   "id": "719531a7",
   "metadata": {},
   "outputs": [
    {
     "data": {
      "text/plain": [
       "13"
      ]
     },
     "execution_count": 12,
     "metadata": {},
     "output_type": "execute_result"
    }
   ],
   "source": [
    "round(len(internet.query('mb_used == 0'))/len(internet)*100) # расчёт доли в процентах"
   ]
  },
  {
   "cell_type": "markdown",
   "id": "850d20da",
   "metadata": {},
   "source": [
    "Видно, что строки составляют достаточно большое количество от всех данных - 13%. Но если оставить значения таким образом, то данные могут исказиться. Попробуем убрать строки, где количество Мб равно, (введём другую переменную `internet_new`, чтобы не перезаписывать исходные данные) и посмотрим как изменятся данные."
   ]
  },
  {
   "cell_type": "code",
   "execution_count": 13,
   "id": "533ad158",
   "metadata": {},
   "outputs": [
    {
     "data": {
      "text/plain": [
       "count    129798.000000\n",
       "mean        426.087210\n",
       "std         255.596447\n",
       "min           0.030000\n",
       "25%         227.460000\n",
       "50%         400.540000\n",
       "75%         592.947500\n",
       "max        1724.830000\n",
       "Name: mb_used, dtype: float64"
      ]
     },
     "execution_count": 13,
     "metadata": {},
     "output_type": "execute_result"
    },
    {
     "data": {
      "image/png": "[encoded data removed]",
      "text/plain": [
       "<Figure size 432x288 with 1 Axes>"
      ]
     },
     "metadata": {
      "needs_background": "light"
     },
     "output_type": "display_data"
    }
   ],
   "source": [
    "internet_new = internet.query('mb_used != 0')\n",
    "internet_new['mb_used'].hist()\n",
    "internet_new['mb_used'].describe()"
   ]
  },
  {
   "cell_type": "markdown",
   "id": "e2f2baf4",
   "metadata": {},
   "source": [
    "По графику видно, что теперь большая часть данных лежит не от 0 до 100 Мб, а от 200 до 500 Мб. Также относительно исходных данных поменялись среднее значение и медиана. В дальнейшем для анализа данных нам необходимо будет искать общий объём трафика, а не среднее значение или их количество, поэтому несмотря на то, что данные в 0 Мб можно считать ошибкой, в данном случае избавляться от этих строк мы не будем."
   ]
  },
  {
   "cell_type": "markdown",
   "id": "020275ff",
   "metadata": {},
   "source": [
    "### Тарифы"
   ]
  },
  {
   "cell_type": "code",
   "execution_count": 14,
   "id": "8b066bbd",
   "metadata": {},
   "outputs": [
    {
     "data": {
      "text/html": [
       "<div>\n",
       "<style scoped>\n",
       "    .dataframe tbody tr th:only-of-type {\n",
       "        vertical-align: middle;\n",
       "    }\n",
       "\n",
       "    .dataframe tbody tr th {\n",
       "        vertical-align: top;\n",
       "    }\n",
       "\n",
       "    .dataframe thead th {\n",
       "        text-align: right;\n",
       "    }\n",
       "</style>\n",
       "<table border=\"1\" class=\"dataframe\">\n",
       "  <thead>\n",
       "    <tr style=\"text-align: right;\">\n",
       "      <th></th>\n",
       "      <th>messages_included</th>\n",
       "      <th>mb_per_month_included</th>\n",
       "      <th>minutes_included</th>\n",
       "      <th>rub_monthly_fee</th>\n",
       "      <th>rub_per_gb</th>\n",
       "      <th>rub_per_message</th>\n",
       "      <th>rub_per_minute</th>\n",
       "      <th>tariff_name</th>\n",
       "    </tr>\n",
       "  </thead>\n",
       "  <tbody>\n",
       "    <tr>\n",
       "      <th>0</th>\n",
       "      <td>50</td>\n",
       "      <td>15360</td>\n",
       "      <td>500</td>\n",
       "      <td>550</td>\n",
       "      <td>200</td>\n",
       "      <td>3</td>\n",
       "      <td>3</td>\n",
       "      <td>smart</td>\n",
       "    </tr>\n",
       "    <tr>\n",
       "      <th>1</th>\n",
       "      <td>1000</td>\n",
       "      <td>30720</td>\n",
       "      <td>3000</td>\n",
       "      <td>1950</td>\n",
       "      <td>150</td>\n",
       "      <td>1</td>\n",
       "      <td>1</td>\n",
       "      <td>ultra</td>\n",
       "    </tr>\n",
       "  </tbody>\n",
       "</table>\n",
       "</div>"
      ],
      "text/plain": [
       "   messages_included  mb_per_month_included  minutes_included  \\\n",
       "0                 50                  15360               500   \n",
       "1               1000                  30720              3000   \n",
       "\n",
       "   rub_monthly_fee  rub_per_gb  rub_per_message  rub_per_minute tariff_name  \n",
       "0              550         200                3               3       smart  \n",
       "1             1950         150                1               1       ultra  "
      ]
     },
     "metadata": {},
     "output_type": "display_data"
    },
    {
     "name": "stdout",
     "output_type": "stream",
     "text": [
      "<class 'pandas.core.frame.DataFrame'>\n",
      "RangeIndex: 2 entries, 0 to 1\n",
      "Data columns (total 8 columns):\n",
      " #   Column                 Non-Null Count  Dtype \n",
      "---  ------                 --------------  ----- \n",
      " 0   messages_included      2 non-null      int64 \n",
      " 1   mb_per_month_included  2 non-null      int64 \n",
      " 2   minutes_included       2 non-null      int64 \n",
      " 3   rub_monthly_fee        2 non-null      int64 \n",
      " 4   rub_per_gb             2 non-null      int64 \n",
      " 5   rub_per_message        2 non-null      int64 \n",
      " 6   rub_per_minute         2 non-null      int64 \n",
      " 7   tariff_name            2 non-null      object\n",
      "dtypes: int64(7), object(1)\n",
      "memory usage: 256.0+ bytes\n"
     ]
    }
   ],
   "source": [
    "display(tariffs)\n",
    "tariffs.info()"
   ]
  },
  {
   "cell_type": "markdown",
   "id": "2c809352",
   "metadata": {},
   "source": [
    "Данные в порядке, но для дальнейшего исследования будет удобнее перевести включенные Мб в Гб для подсчета и переименовать столбец."
   ]
  },
  {
   "cell_type": "code",
   "execution_count": 15,
   "id": "6a7dad88",
   "metadata": {},
   "outputs": [],
   "source": [
    "tariffs['mb_per_month_included'] = (tariffs['mb_per_month_included']/1024).astype('int')\n",
    "tariffs = tariffs.rename(columns={'mb_per_month_included': 'gb_per_month_included', 'tariff_name':'tariff'})"
   ]
  },
  {
   "cell_type": "markdown",
   "id": "cfed7771",
   "metadata": {},
   "source": [
    "### Пользователи"
   ]
  },
  {
   "cell_type": "code",
   "execution_count": 16,
   "id": "6242517d",
   "metadata": {},
   "outputs": [
    {
     "data": {
      "text/html": [
       "<div>\n",
       "<style scoped>\n",
       "    .dataframe tbody tr th:only-of-type {\n",
       "        vertical-align: middle;\n",
       "    }\n",
       "\n",
       "    .dataframe tbody tr th {\n",
       "        vertical-align: top;\n",
       "    }\n",
       "\n",
       "    .dataframe thead th {\n",
       "        text-align: right;\n",
       "    }\n",
       "</style>\n",
       "<table border=\"1\" class=\"dataframe\">\n",
       "  <thead>\n",
       "    <tr style=\"text-align: right;\">\n",
       "      <th></th>\n",
       "      <th>user_id</th>\n",
       "      <th>age</th>\n",
       "      <th>churn_date</th>\n",
       "      <th>city</th>\n",
       "      <th>first_name</th>\n",
       "      <th>last_name</th>\n",
       "      <th>reg_date</th>\n",
       "      <th>tariff</th>\n",
       "    </tr>\n",
       "  </thead>\n",
       "  <tbody>\n",
       "    <tr>\n",
       "      <th>0</th>\n",
       "      <td>1000</td>\n",
       "      <td>52</td>\n",
       "      <td>NaN</td>\n",
       "      <td>Краснодар</td>\n",
       "      <td>Рафаил</td>\n",
       "      <td>Верещагин</td>\n",
       "      <td>2018-05-25</td>\n",
       "      <td>ultra</td>\n",
       "    </tr>\n",
       "    <tr>\n",
       "      <th>1</th>\n",
       "      <td>1001</td>\n",
       "      <td>41</td>\n",
       "      <td>NaN</td>\n",
       "      <td>Москва</td>\n",
       "      <td>Иван</td>\n",
       "      <td>Ежов</td>\n",
       "      <td>2018-11-01</td>\n",
       "      <td>smart</td>\n",
       "    </tr>\n",
       "    <tr>\n",
       "      <th>2</th>\n",
       "      <td>1002</td>\n",
       "      <td>59</td>\n",
       "      <td>NaN</td>\n",
       "      <td>Стерлитамак</td>\n",
       "      <td>Евгений</td>\n",
       "      <td>Абрамович</td>\n",
       "      <td>2018-06-17</td>\n",
       "      <td>smart</td>\n",
       "    </tr>\n",
       "    <tr>\n",
       "      <th>3</th>\n",
       "      <td>1003</td>\n",
       "      <td>23</td>\n",
       "      <td>NaN</td>\n",
       "      <td>Москва</td>\n",
       "      <td>Белла</td>\n",
       "      <td>Белякова</td>\n",
       "      <td>2018-08-17</td>\n",
       "      <td>ultra</td>\n",
       "    </tr>\n",
       "    <tr>\n",
       "      <th>4</th>\n",
       "      <td>1004</td>\n",
       "      <td>68</td>\n",
       "      <td>NaN</td>\n",
       "      <td>Новокузнецк</td>\n",
       "      <td>Татьяна</td>\n",
       "      <td>Авдеенко</td>\n",
       "      <td>2018-05-14</td>\n",
       "      <td>ultra</td>\n",
       "    </tr>\n",
       "    <tr>\n",
       "      <th>5</th>\n",
       "      <td>1005</td>\n",
       "      <td>67</td>\n",
       "      <td>NaN</td>\n",
       "      <td>Набережные Челны</td>\n",
       "      <td>Афанасий</td>\n",
       "      <td>Горлов</td>\n",
       "      <td>2018-01-25</td>\n",
       "      <td>smart</td>\n",
       "    </tr>\n",
       "    <tr>\n",
       "      <th>6</th>\n",
       "      <td>1006</td>\n",
       "      <td>21</td>\n",
       "      <td>NaN</td>\n",
       "      <td>Ульяновск</td>\n",
       "      <td>Леонид</td>\n",
       "      <td>Ермолаев</td>\n",
       "      <td>2018-02-26</td>\n",
       "      <td>smart</td>\n",
       "    </tr>\n",
       "    <tr>\n",
       "      <th>7</th>\n",
       "      <td>1007</td>\n",
       "      <td>65</td>\n",
       "      <td>NaN</td>\n",
       "      <td>Москва</td>\n",
       "      <td>Юна</td>\n",
       "      <td>Березина</td>\n",
       "      <td>2018-04-19</td>\n",
       "      <td>smart</td>\n",
       "    </tr>\n",
       "    <tr>\n",
       "      <th>8</th>\n",
       "      <td>1008</td>\n",
       "      <td>63</td>\n",
       "      <td>NaN</td>\n",
       "      <td>Челябинск</td>\n",
       "      <td>Рустэм</td>\n",
       "      <td>Пономарёв</td>\n",
       "      <td>2018-12-19</td>\n",
       "      <td>smart</td>\n",
       "    </tr>\n",
       "    <tr>\n",
       "      <th>9</th>\n",
       "      <td>1009</td>\n",
       "      <td>24</td>\n",
       "      <td>NaN</td>\n",
       "      <td>Пермь</td>\n",
       "      <td>Василиса</td>\n",
       "      <td>Блинова</td>\n",
       "      <td>2018-03-22</td>\n",
       "      <td>smart</td>\n",
       "    </tr>\n",
       "  </tbody>\n",
       "</table>\n",
       "</div>"
      ],
      "text/plain": [
       "   user_id  age churn_date              city first_name  last_name  \\\n",
       "0     1000   52        NaN         Краснодар     Рафаил  Верещагин   \n",
       "1     1001   41        NaN            Москва       Иван       Ежов   \n",
       "2     1002   59        NaN       Стерлитамак    Евгений  Абрамович   \n",
       "3     1003   23        NaN            Москва      Белла   Белякова   \n",
       "4     1004   68        NaN       Новокузнецк    Татьяна   Авдеенко   \n",
       "5     1005   67        NaN  Набережные Челны   Афанасий     Горлов   \n",
       "6     1006   21        NaN         Ульяновск     Леонид   Ермолаев   \n",
       "7     1007   65        NaN            Москва        Юна   Березина   \n",
       "8     1008   63        NaN         Челябинск     Рустэм  Пономарёв   \n",
       "9     1009   24        NaN             Пермь   Василиса    Блинова   \n",
       "\n",
       "     reg_date tariff  \n",
       "0  2018-05-25  ultra  \n",
       "1  2018-11-01  smart  \n",
       "2  2018-06-17  smart  \n",
       "3  2018-08-17  ultra  \n",
       "4  2018-05-14  ultra  \n",
       "5  2018-01-25  smart  \n",
       "6  2018-02-26  smart  \n",
       "7  2018-04-19  smart  \n",
       "8  2018-12-19  smart  \n",
       "9  2018-03-22  smart  "
      ]
     },
     "metadata": {},
     "output_type": "display_data"
    },
    {
     "name": "stdout",
     "output_type": "stream",
     "text": [
      "<class 'pandas.core.frame.DataFrame'>\n",
      "RangeIndex: 500 entries, 0 to 499\n",
      "Data columns (total 8 columns):\n",
      " #   Column      Non-Null Count  Dtype \n",
      "---  ------      --------------  ----- \n",
      " 0   user_id     500 non-null    int64 \n",
      " 1   age         500 non-null    int64 \n",
      " 2   churn_date  38 non-null     object\n",
      " 3   city        500 non-null    object\n",
      " 4   first_name  500 non-null    object\n",
      " 5   last_name   500 non-null    object\n",
      " 6   reg_date    500 non-null    object\n",
      " 7   tariff      500 non-null    object\n",
      "dtypes: int64(2), object(6)\n",
      "memory usage: 31.4+ KB\n"
     ]
    },
    {
     "data": {
      "text/plain": [
       "0"
      ]
     },
     "execution_count": 16,
     "metadata": {},
     "output_type": "execute_result"
    }
   ],
   "source": [
    "display(users.head(10))\n",
    "users.info()\n",
    "users.duplicated().sum()"
   ]
  },
  {
   "cell_type": "markdown",
   "id": "5698c732",
   "metadata": {},
   "source": [
    "Нет дубликатов. Есть пропущенные значения в столбце `churn_date`. По условию это значит, что абонент еще пользовался тарифом на момент выгрузки данных. Поэтому эти пропущенные значения не трогаем. Необходимо перевести дату в формат `datetime` и изучить столбец `age`."
   ]
  },
  {
   "cell_type": "code",
   "execution_count": 17,
   "id": "77ed684a",
   "metadata": {},
   "outputs": [
    {
     "name": "stdout",
     "output_type": "stream",
     "text": [
      "<class 'pandas.core.frame.DataFrame'>\n",
      "RangeIndex: 500 entries, 0 to 499\n",
      "Data columns (total 8 columns):\n",
      " #   Column      Non-Null Count  Dtype         \n",
      "---  ------      --------------  -----         \n",
      " 0   user_id     500 non-null    int64         \n",
      " 1   age         500 non-null    int64         \n",
      " 2   churn_date  38 non-null     datetime64[ns]\n",
      " 3   city        500 non-null    object        \n",
      " 4   first_name  500 non-null    object        \n",
      " 5   last_name   500 non-null    object        \n",
      " 6   reg_date    500 non-null    datetime64[ns]\n",
      " 7   tariff      500 non-null    object        \n",
      "dtypes: datetime64[ns](2), int64(2), object(4)\n",
      "memory usage: 31.4+ KB\n"
     ]
    }
   ],
   "source": [
    "users['reg_date'] = pd.to_datetime(users['reg_date'], format='%Y-%m-%d')\n",
    "users['churn_date'] = pd.to_datetime(users['churn_date'], format='%Y-%m-%d')\n",
    "users.info() # проверка получившихся значений"
   ]
  },
  {
   "cell_type": "code",
   "execution_count": 18,
   "id": "b64f865b",
   "metadata": {},
   "outputs": [
    {
     "name": "stdout",
     "output_type": "stream",
     "text": [
      "count    500.00000\n",
      "mean      46.58800\n",
      "std       16.66763\n",
      "min       18.00000\n",
      "25%       32.00000\n",
      "50%       46.00000\n",
      "75%       62.00000\n",
      "max       75.00000\n",
      "Name: age, dtype: float64\n"
     ]
    },
    {
     "data": {
      "text/plain": [
       "<AxesSubplot:>"
      ]
     },
     "execution_count": 18,
     "metadata": {},
     "output_type": "execute_result"
    },
    {
     "data": {
      "image/png": "[encoded data removed]",
      "text/plain": [
       "<Figure size 432x288 with 1 Axes>"
      ]
     },
     "metadata": {
      "needs_background": "light"
     },
     "output_type": "display_data"
    }
   ],
   "source": [
    "print(users['age'].describe())\n",
    "users.boxplot('age')"
   ]
  },
  {
   "cell_type": "markdown",
   "id": "0730f155",
   "metadata": {},
   "source": [
    "Минимальный возраст - 18 лет, максимальный - 75, вполне жизненные значения. Также можно заметить, что медиана и среднее почти совпадают, значит данные однородны."
   ]
  },
  {
   "cell_type": "markdown",
   "id": "2178e250",
   "metadata": {},
   "source": [
    "**Вывод**\n",
    "\n",
    "В данном пунтке были обработаны следующие данные:\n",
    "- Во всех таблицах формат даты переведен в `datetime`\n",
    "- В таблице со звонками убраны строки, где продолжительность звонка равна 0 (пропущенные звонки)\n",
    "- В таблице интернета убран лишний столбец `Unnamed: 0`\n",
    "- В таблице с тарифами добавлен столбец с переводом Мб в Гб"
   ]
  },
  {
   "cell_type": "markdown",
   "id": "974643ce",
   "metadata": {},
   "source": [
    "## Добавление данных "
   ]
  },
  {
   "cell_type": "markdown",
   "id": "004e8c9d",
   "metadata": {},
   "source": [
    "Для дальнейшего анализа данных составим одну таблицу из всех имеющихся, в которой будут содержатся столбцы `user_id`, `city`, `tariff` из ДатаФрейма `users`; все данные по тарифу из из ДатаФрейма `tariffs`; а также данные:\n",
    "- 'calls_amount' - количество звонков\n",
    "- 'calls_duration' - суммарная продолжительность звонков\n",
    "- 'messages_amount' - количество сообщений\n",
    "- 'mb_used'/ 'gb_used' - количество использованных Мб и Гб соответственно\n",
    "- 'month' - месяц использования тарифа\n",
    "\n",
    "Эти данные получим сначала преобразованием в изначальных таблицах, а затем соединим все нужные столбцы в один ДатаФрейм `data`."
   ]
  },
  {
   "cell_type": "code",
   "execution_count": 19,
   "id": "c1d7f658",
   "metadata": {
    "scrolled": false
   },
   "outputs": [
    {
     "data": {
      "text/html": [
       "<div>\n",
       "<style scoped>\n",
       "    .dataframe tbody tr th:only-of-type {\n",
       "        vertical-align: middle;\n",
       "    }\n",
       "\n",
       "    .dataframe tbody tr th {\n",
       "        vertical-align: top;\n",
       "    }\n",
       "\n",
       "    .dataframe thead th {\n",
       "        text-align: right;\n",
       "    }\n",
       "</style>\n",
       "<table border=\"1\" class=\"dataframe\">\n",
       "  <thead>\n",
       "    <tr style=\"text-align: right;\">\n",
       "      <th></th>\n",
       "      <th>user_id</th>\n",
       "      <th>city</th>\n",
       "      <th>tariff</th>\n",
       "      <th>messages_included</th>\n",
       "      <th>gb_per_month_included</th>\n",
       "      <th>minutes_included</th>\n",
       "      <th>rub_monthly_fee</th>\n",
       "      <th>rub_per_gb</th>\n",
       "      <th>rub_per_message</th>\n",
       "      <th>rub_per_minute</th>\n",
       "    </tr>\n",
       "  </thead>\n",
       "  <tbody>\n",
       "    <tr>\n",
       "      <th>0</th>\n",
       "      <td>1000</td>\n",
       "      <td>Краснодар</td>\n",
       "      <td>ultra</td>\n",
       "      <td>1000</td>\n",
       "      <td>30</td>\n",
       "      <td>3000</td>\n",
       "      <td>1950</td>\n",
       "      <td>150</td>\n",
       "      <td>1</td>\n",
       "      <td>1</td>\n",
       "    </tr>\n",
       "    <tr>\n",
       "      <th>1</th>\n",
       "      <td>1003</td>\n",
       "      <td>Москва</td>\n",
       "      <td>ultra</td>\n",
       "      <td>1000</td>\n",
       "      <td>30</td>\n",
       "      <td>3000</td>\n",
       "      <td>1950</td>\n",
       "      <td>150</td>\n",
       "      <td>1</td>\n",
       "      <td>1</td>\n",
       "    </tr>\n",
       "    <tr>\n",
       "      <th>2</th>\n",
       "      <td>1004</td>\n",
       "      <td>Новокузнецк</td>\n",
       "      <td>ultra</td>\n",
       "      <td>1000</td>\n",
       "      <td>30</td>\n",
       "      <td>3000</td>\n",
       "      <td>1950</td>\n",
       "      <td>150</td>\n",
       "      <td>1</td>\n",
       "      <td>1</td>\n",
       "    </tr>\n",
       "    <tr>\n",
       "      <th>3</th>\n",
       "      <td>1013</td>\n",
       "      <td>Иваново</td>\n",
       "      <td>ultra</td>\n",
       "      <td>1000</td>\n",
       "      <td>30</td>\n",
       "      <td>3000</td>\n",
       "      <td>1950</td>\n",
       "      <td>150</td>\n",
       "      <td>1</td>\n",
       "      <td>1</td>\n",
       "    </tr>\n",
       "    <tr>\n",
       "      <th>4</th>\n",
       "      <td>1016</td>\n",
       "      <td>Омск</td>\n",
       "      <td>ultra</td>\n",
       "      <td>1000</td>\n",
       "      <td>30</td>\n",
       "      <td>3000</td>\n",
       "      <td>1950</td>\n",
       "      <td>150</td>\n",
       "      <td>1</td>\n",
       "      <td>1</td>\n",
       "    </tr>\n",
       "  </tbody>\n",
       "</table>\n",
       "</div>"
      ],
      "text/plain": [
       "   user_id         city tariff  messages_included  gb_per_month_included  \\\n",
       "0     1000    Краснодар  ultra               1000                     30   \n",
       "1     1003       Москва  ultra               1000                     30   \n",
       "2     1004  Новокузнецк  ultra               1000                     30   \n",
       "3     1013      Иваново  ultra               1000                     30   \n",
       "4     1016         Омск  ultra               1000                     30   \n",
       "\n",
       "   minutes_included  rub_monthly_fee  rub_per_gb  rub_per_message  \\\n",
       "0              3000             1950         150                1   \n",
       "1              3000             1950         150                1   \n",
       "2              3000             1950         150                1   \n",
       "3              3000             1950         150                1   \n",
       "4              3000             1950         150                1   \n",
       "\n",
       "   rub_per_minute  \n",
       "0               1  \n",
       "1               1  \n",
       "2               1  \n",
       "3               1  \n",
       "4               1  "
      ]
     },
     "execution_count": 19,
     "metadata": {},
     "output_type": "execute_result"
    }
   ],
   "source": [
    "data = users.drop(columns = ['age', 'churn_date', 'first_name', 'last_name','reg_date'], axis = 1)\n",
    "data = data.merge(tariffs, on='tariff') # добавление данные по тарифу\n",
    "data.head() "
   ]
  },
  {
   "cell_type": "markdown",
   "id": "3f70e2cf",
   "metadata": {},
   "source": [
    "Обработаем ДатаФрейм `calls`."
   ]
  },
  {
   "cell_type": "code",
   "execution_count": 20,
   "id": "bb133be7",
   "metadata": {},
   "outputs": [
    {
     "data": {
      "text/html": [
       "<div>\n",
       "<style scoped>\n",
       "    .dataframe tbody tr th:only-of-type {\n",
       "        vertical-align: middle;\n",
       "    }\n",
       "\n",
       "    .dataframe tbody tr th {\n",
       "        vertical-align: top;\n",
       "    }\n",
       "\n",
       "    .dataframe thead th {\n",
       "        text-align: right;\n",
       "    }\n",
       "</style>\n",
       "<table border=\"1\" class=\"dataframe\">\n",
       "  <thead>\n",
       "    <tr style=\"text-align: right;\">\n",
       "      <th></th>\n",
       "      <th>user_id</th>\n",
       "      <th>month</th>\n",
       "      <th>calls_amount</th>\n",
       "      <th>calls_duration</th>\n",
       "    </tr>\n",
       "  </thead>\n",
       "  <tbody>\n",
       "    <tr>\n",
       "      <th>0</th>\n",
       "      <td>1000</td>\n",
       "      <td>5</td>\n",
       "      <td>17</td>\n",
       "      <td>151</td>\n",
       "    </tr>\n",
       "    <tr>\n",
       "      <th>1</th>\n",
       "      <td>1000</td>\n",
       "      <td>6</td>\n",
       "      <td>28</td>\n",
       "      <td>159</td>\n",
       "    </tr>\n",
       "    <tr>\n",
       "      <th>2</th>\n",
       "      <td>1000</td>\n",
       "      <td>7</td>\n",
       "      <td>41</td>\n",
       "      <td>319</td>\n",
       "    </tr>\n",
       "    <tr>\n",
       "      <th>3</th>\n",
       "      <td>1000</td>\n",
       "      <td>8</td>\n",
       "      <td>42</td>\n",
       "      <td>390</td>\n",
       "    </tr>\n",
       "    <tr>\n",
       "      <th>4</th>\n",
       "      <td>1000</td>\n",
       "      <td>9</td>\n",
       "      <td>46</td>\n",
       "      <td>441</td>\n",
       "    </tr>\n",
       "  </tbody>\n",
       "</table>\n",
       "</div>"
      ],
      "text/plain": [
       "   user_id  month  calls_amount  calls_duration\n",
       "0     1000      5            17             151\n",
       "1     1000      6            28             159\n",
       "2     1000      7            41             319\n",
       "3     1000      8            42             390\n",
       "4     1000      9            46             441"
      ]
     },
     "execution_count": 20,
     "metadata": {},
     "output_type": "execute_result"
    }
   ],
   "source": [
    " # добавление столбца с месяцем для создания сводной таблицы\n",
    "calls['month']=calls['call_date'].dt.month\n",
    "# создание сводной таблицы по пользователю и месяцу с подсчетом количества звонков и их продолжительности\n",
    "calls_new = calls.pivot_table(index=['user_id', 'month'], values ='duration', aggfunc=['count', 'sum']).reset_index()\n",
    "# переименование столбцов\n",
    "calls_new.columns=['user_id', 'month', 'calls_amount', 'calls_duration']\n",
    "# округление звонков сначала до целых минут в меньшую сторону с помощью 'int', затем прибавление 1 для подсчета минут по правилам тарифа\n",
    "calls_new['calls_duration'] = (calls_new['calls_duration'].astype('int'))+1\n",
    "calls_new.head()"
   ]
  },
  {
   "cell_type": "markdown",
   "id": "5d330409",
   "metadata": {},
   "source": [
    "Обработаем ДатаФрейм `messages` аналогично обработке ДатаФрейма `calls`."
   ]
  },
  {
   "cell_type": "code",
   "execution_count": 21,
   "id": "2fda3f91",
   "metadata": {},
   "outputs": [
    {
     "data": {
      "text/html": [
       "<div>\n",
       "<style scoped>\n",
       "    .dataframe tbody tr th:only-of-type {\n",
       "        vertical-align: middle;\n",
       "    }\n",
       "\n",
       "    .dataframe tbody tr th {\n",
       "        vertical-align: top;\n",
       "    }\n",
       "\n",
       "    .dataframe thead th {\n",
       "        text-align: right;\n",
       "    }\n",
       "</style>\n",
       "<table border=\"1\" class=\"dataframe\">\n",
       "  <thead>\n",
       "    <tr style=\"text-align: right;\">\n",
       "      <th></th>\n",
       "      <th>user_id</th>\n",
       "      <th>month</th>\n",
       "      <th>messages_amount</th>\n",
       "    </tr>\n",
       "  </thead>\n",
       "  <tbody>\n",
       "    <tr>\n",
       "      <th>0</th>\n",
       "      <td>1000</td>\n",
       "      <td>5</td>\n",
       "      <td>22</td>\n",
       "    </tr>\n",
       "    <tr>\n",
       "      <th>1</th>\n",
       "      <td>1000</td>\n",
       "      <td>6</td>\n",
       "      <td>60</td>\n",
       "    </tr>\n",
       "    <tr>\n",
       "      <th>2</th>\n",
       "      <td>1000</td>\n",
       "      <td>7</td>\n",
       "      <td>75</td>\n",
       "    </tr>\n",
       "    <tr>\n",
       "      <th>3</th>\n",
       "      <td>1000</td>\n",
       "      <td>8</td>\n",
       "      <td>81</td>\n",
       "    </tr>\n",
       "    <tr>\n",
       "      <th>4</th>\n",
       "      <td>1000</td>\n",
       "      <td>9</td>\n",
       "      <td>57</td>\n",
       "    </tr>\n",
       "  </tbody>\n",
       "</table>\n",
       "</div>"
      ],
      "text/plain": [
       "   user_id  month  messages_amount\n",
       "0     1000      5               22\n",
       "1     1000      6               60\n",
       "2     1000      7               75\n",
       "3     1000      8               81\n",
       "4     1000      9               57"
      ]
     },
     "execution_count": 21,
     "metadata": {},
     "output_type": "execute_result"
    }
   ],
   "source": [
    "messages['month']=messages['message_date'].dt.month\n",
    "messages_new = messages.pivot_table(index=['user_id', 'month'], values='id', aggfunc='count').reset_index()\n",
    "messages_new.columns=['user_id', 'month', 'messages_amount']\n",
    "messages_new.head()"
   ]
  },
  {
   "cell_type": "markdown",
   "id": "eb3f8446",
   "metadata": {},
   "source": [
    "Обработаем ДатаФрейм `internet` аналогично обработке ДатаФрейма `calls`."
   ]
  },
  {
   "cell_type": "code",
   "execution_count": 22,
   "id": "4bab9d27",
   "metadata": {},
   "outputs": [
    {
     "data": {
      "text/html": [
       "<div>\n",
       "<style scoped>\n",
       "    .dataframe tbody tr th:only-of-type {\n",
       "        vertical-align: middle;\n",
       "    }\n",
       "\n",
       "    .dataframe tbody tr th {\n",
       "        vertical-align: top;\n",
       "    }\n",
       "\n",
       "    .dataframe thead th {\n",
       "        text-align: right;\n",
       "    }\n",
       "</style>\n",
       "<table border=\"1\" class=\"dataframe\">\n",
       "  <thead>\n",
       "    <tr style=\"text-align: right;\">\n",
       "      <th></th>\n",
       "      <th>user_id</th>\n",
       "      <th>month</th>\n",
       "      <th>mb_used</th>\n",
       "      <th>gb_used</th>\n",
       "    </tr>\n",
       "  </thead>\n",
       "  <tbody>\n",
       "    <tr>\n",
       "      <th>0</th>\n",
       "      <td>1000</td>\n",
       "      <td>5</td>\n",
       "      <td>2253.49</td>\n",
       "      <td>3</td>\n",
       "    </tr>\n",
       "    <tr>\n",
       "      <th>1</th>\n",
       "      <td>1000</td>\n",
       "      <td>6</td>\n",
       "      <td>23233.77</td>\n",
       "      <td>23</td>\n",
       "    </tr>\n",
       "    <tr>\n",
       "      <th>2</th>\n",
       "      <td>1000</td>\n",
       "      <td>7</td>\n",
       "      <td>14003.64</td>\n",
       "      <td>14</td>\n",
       "    </tr>\n",
       "    <tr>\n",
       "      <th>3</th>\n",
       "      <td>1000</td>\n",
       "      <td>8</td>\n",
       "      <td>14055.93</td>\n",
       "      <td>14</td>\n",
       "    </tr>\n",
       "    <tr>\n",
       "      <th>4</th>\n",
       "      <td>1000</td>\n",
       "      <td>9</td>\n",
       "      <td>14568.91</td>\n",
       "      <td>15</td>\n",
       "    </tr>\n",
       "  </tbody>\n",
       "</table>\n",
       "</div>"
      ],
      "text/plain": [
       "   user_id  month   mb_used  gb_used\n",
       "0     1000      5   2253.49        3\n",
       "1     1000      6  23233.77       23\n",
       "2     1000      7  14003.64       14\n",
       "3     1000      8  14055.93       14\n",
       "4     1000      9  14568.91       15"
      ]
     },
     "execution_count": 22,
     "metadata": {},
     "output_type": "execute_result"
    }
   ],
   "source": [
    "internet['month']=internet['session_date'].dt.month\n",
    "internet_new = internet.pivot_table(index=['user_id', 'month'], values='mb_used', aggfunc='sum').reset_index()\n",
    "# перевод Гб в Мб и их округление сначала до целого значения в меньшую сторону с помощью 'int'\n",
    "# затем прибавление 1 для подсчета Гб по правилам тарифа\n",
    "internet_new['gb_used']=(internet_new['mb_used']/1024).astype('int')+1\n",
    "internet_new.head()"
   ]
  },
  {
   "cell_type": "markdown",
   "id": "2718d81d",
   "metadata": {},
   "source": [
    "Cоединим сначала таблицы со звонками, сообщениями и интернетом в новый Датафрейм `data_new` по id и по месяцам, потом его присоединим к основной таблице `data`. Все объединения сделаем при помощи `merge()` внешним методом `outer`, чтобы не потерять данные. Для проверки будем выводить количество сообщений, минут и гб до и после объединения."
   ]
  },
  {
   "cell_type": "code",
   "execution_count": 23,
   "id": "b53846a9",
   "metadata": {},
   "outputs": [
    {
     "name": "stdout",
     "output_type": "stream",
     "text": [
      "количество минут до объединения 1370386\n",
      "количество сообщений до объединения 123036\n",
      "количество трафика до объединения 55601\n"
     ]
    }
   ],
   "source": [
    "print('количество минут до объединения', calls_new['calls_duration'].sum())\n",
    "print('количество сообщений до объединения', messages_new['messages_amount'].sum())\n",
    "print('количество трафика до объединения', internet_new['gb_used'].sum())"
   ]
  },
  {
   "cell_type": "code",
   "execution_count": 24,
   "id": "58144c2c",
   "metadata": {},
   "outputs": [
    {
     "data": {
      "text/html": [
       "<div>\n",
       "<style scoped>\n",
       "    .dataframe tbody tr th:only-of-type {\n",
       "        vertical-align: middle;\n",
       "    }\n",
       "\n",
       "    .dataframe tbody tr th {\n",
       "        vertical-align: top;\n",
       "    }\n",
       "\n",
       "    .dataframe thead th {\n",
       "        text-align: right;\n",
       "    }\n",
       "</style>\n",
       "<table border=\"1\" class=\"dataframe\">\n",
       "  <thead>\n",
       "    <tr style=\"text-align: right;\">\n",
       "      <th></th>\n",
       "      <th>user_id</th>\n",
       "      <th>month</th>\n",
       "      <th>calls_amount</th>\n",
       "      <th>calls_duration</th>\n",
       "      <th>messages_amount</th>\n",
       "      <th>mb_used</th>\n",
       "      <th>gb_used</th>\n",
       "    </tr>\n",
       "  </thead>\n",
       "  <tbody>\n",
       "    <tr>\n",
       "      <th>0</th>\n",
       "      <td>1000</td>\n",
       "      <td>5</td>\n",
       "      <td>17.0</td>\n",
       "      <td>151.0</td>\n",
       "      <td>22.0</td>\n",
       "      <td>2253.49</td>\n",
       "      <td>3.0</td>\n",
       "    </tr>\n",
       "    <tr>\n",
       "      <th>1</th>\n",
       "      <td>1000</td>\n",
       "      <td>6</td>\n",
       "      <td>28.0</td>\n",
       "      <td>159.0</td>\n",
       "      <td>60.0</td>\n",
       "      <td>23233.77</td>\n",
       "      <td>23.0</td>\n",
       "    </tr>\n",
       "    <tr>\n",
       "      <th>2</th>\n",
       "      <td>1000</td>\n",
       "      <td>7</td>\n",
       "      <td>41.0</td>\n",
       "      <td>319.0</td>\n",
       "      <td>75.0</td>\n",
       "      <td>14003.64</td>\n",
       "      <td>14.0</td>\n",
       "    </tr>\n",
       "    <tr>\n",
       "      <th>3</th>\n",
       "      <td>1000</td>\n",
       "      <td>8</td>\n",
       "      <td>42.0</td>\n",
       "      <td>390.0</td>\n",
       "      <td>81.0</td>\n",
       "      <td>14055.93</td>\n",
       "      <td>14.0</td>\n",
       "    </tr>\n",
       "    <tr>\n",
       "      <th>4</th>\n",
       "      <td>1000</td>\n",
       "      <td>9</td>\n",
       "      <td>46.0</td>\n",
       "      <td>441.0</td>\n",
       "      <td>57.0</td>\n",
       "      <td>14568.91</td>\n",
       "      <td>15.0</td>\n",
       "    </tr>\n",
       "  </tbody>\n",
       "</table>\n",
       "</div>"
      ],
      "text/plain": [
       "   user_id  month  calls_amount  calls_duration  messages_amount   mb_used  \\\n",
       "0     1000      5          17.0           151.0             22.0   2253.49   \n",
       "1     1000      6          28.0           159.0             60.0  23233.77   \n",
       "2     1000      7          41.0           319.0             75.0  14003.64   \n",
       "3     1000      8          42.0           390.0             81.0  14055.93   \n",
       "4     1000      9          46.0           441.0             57.0  14568.91   \n",
       "\n",
       "   gb_used  \n",
       "0      3.0  \n",
       "1     23.0  \n",
       "2     14.0  \n",
       "3     14.0  \n",
       "4     15.0  "
      ]
     },
     "metadata": {},
     "output_type": "display_data"
    },
    {
     "name": "stdout",
     "output_type": "stream",
     "text": [
      "<class 'pandas.core.frame.DataFrame'>\n",
      "Int64Index: 3214 entries, 0 to 3213\n",
      "Data columns (total 7 columns):\n",
      " #   Column           Non-Null Count  Dtype  \n",
      "---  ------           --------------  -----  \n",
      " 0   user_id          3214 non-null   int64  \n",
      " 1   month            3214 non-null   int64  \n",
      " 2   calls_amount     3168 non-null   float64\n",
      " 3   calls_duration   3168 non-null   float64\n",
      " 4   messages_amount  2717 non-null   float64\n",
      " 5   mb_used          3203 non-null   float64\n",
      " 6   gb_used          3203 non-null   float64\n",
      "dtypes: float64(5), int64(2)\n",
      "memory usage: 200.9 KB\n"
     ]
    }
   ],
   "source": [
    "data_new = calls_new.merge(messages_new, on=['user_id','month'], how='outer').merge(internet_new, on=['user_id','month'], how='outer')\n",
    "display(data_new.head())\n",
    "data_new.info()"
   ]
  },
  {
   "cell_type": "code",
   "execution_count": 25,
   "id": "159f81bd",
   "metadata": {},
   "outputs": [
    {
     "name": "stdout",
     "output_type": "stream",
     "text": [
      "количество минут после объединения 1370386.0\n",
      "количество сообщений после объединения 123036.0\n",
      "количество трафика после объединения 55601.0\n"
     ]
    }
   ],
   "source": [
    "print('количество минут после объединения', data_new['calls_duration'].sum())\n",
    "print('количество сообщений после объединения', data_new['messages_amount'].sum())\n",
    "print('количество трафика после объединения', data_new['gb_used'].sum())"
   ]
  },
  {
   "cell_type": "markdown",
   "id": "d0763e11",
   "metadata": {},
   "source": [
    "По пропущенным значениям в столбцах очевидно, что есть определенные виды связи, например, только звонки и интернет, поэтому в столбцах messages_amount, mb_used, gb_used, calls_amount, calls_duration заменим пропущенные значения на 0, то есть совсем не использовали."
   ]
  },
  {
   "cell_type": "code",
   "execution_count": 26,
   "id": "cefc0fa5",
   "metadata": {},
   "outputs": [],
   "source": [
    "data_new[['messages_amount', 'mb_used', 'gb_used','calls_amount','calls_duration']] = data_new[['messages_amount', 'mb_used', 'gb_used', 'calls_amount','calls_duration']].fillna(0)"
   ]
  },
  {
   "cell_type": "markdown",
   "id": "9154641e",
   "metadata": {},
   "source": [
    "Теперь присоеденим этот Датафрейм к основному."
   ]
  },
  {
   "cell_type": "code",
   "execution_count": 27,
   "id": "de69ebbe",
   "metadata": {},
   "outputs": [],
   "source": [
    "data = data.merge(data_new, on='user_id', how='outer')"
   ]
  },
  {
   "cell_type": "code",
   "execution_count": 28,
   "id": "c054e112",
   "metadata": {},
   "outputs": [
    {
     "name": "stdout",
     "output_type": "stream",
     "text": [
      "количество минут после объединения 1370386.0\n",
      "количество сообщений после объединения 123036.0\n",
      "количество трафика после объединения 55601.0\n"
     ]
    }
   ],
   "source": [
    "print('количество минут после объединения', data['calls_duration'].sum())\n",
    "print('количество сообщений после объединения', data['messages_amount'].sum())\n",
    "print('количество трафика после объединения', data['gb_used'].sum())"
   ]
  },
  {
   "cell_type": "code",
   "execution_count": 29,
   "id": "c0c59500",
   "metadata": {},
   "outputs": [
    {
     "name": "stdout",
     "output_type": "stream",
     "text": [
      "<class 'pandas.core.frame.DataFrame'>\n",
      "Int64Index: 3216 entries, 0 to 3215\n",
      "Data columns (total 16 columns):\n",
      " #   Column                 Non-Null Count  Dtype  \n",
      "---  ------                 --------------  -----  \n",
      " 0   user_id                3216 non-null   int64  \n",
      " 1   city                   3216 non-null   object \n",
      " 2   tariff                 3216 non-null   object \n",
      " 3   messages_included      3216 non-null   int64  \n",
      " 4   gb_per_month_included  3216 non-null   int32  \n",
      " 5   minutes_included       3216 non-null   int64  \n",
      " 6   rub_monthly_fee        3216 non-null   int64  \n",
      " 7   rub_per_gb             3216 non-null   int64  \n",
      " 8   rub_per_message        3216 non-null   int64  \n",
      " 9   rub_per_minute         3216 non-null   int64  \n",
      " 10  month                  3214 non-null   float64\n",
      " 11  calls_amount           3214 non-null   float64\n",
      " 12  calls_duration         3214 non-null   float64\n",
      " 13  messages_amount        3214 non-null   float64\n",
      " 14  mb_used                3214 non-null   float64\n",
      " 15  gb_used                3214 non-null   float64\n",
      "dtypes: float64(6), int32(1), int64(7), object(2)\n",
      "memory usage: 414.6+ KB\n"
     ]
    },
    {
     "data": {
      "text/html": [
       "<div>\n",
       "<style scoped>\n",
       "    .dataframe tbody tr th:only-of-type {\n",
       "        vertical-align: middle;\n",
       "    }\n",
       "\n",
       "    .dataframe tbody tr th {\n",
       "        vertical-align: top;\n",
       "    }\n",
       "\n",
       "    .dataframe thead th {\n",
       "        text-align: right;\n",
       "    }\n",
       "</style>\n",
       "<table border=\"1\" class=\"dataframe\">\n",
       "  <thead>\n",
       "    <tr style=\"text-align: right;\">\n",
       "      <th></th>\n",
       "      <th>user_id</th>\n",
       "      <th>city</th>\n",
       "      <th>tariff</th>\n",
       "      <th>messages_included</th>\n",
       "      <th>gb_per_month_included</th>\n",
       "      <th>minutes_included</th>\n",
       "      <th>rub_monthly_fee</th>\n",
       "      <th>rub_per_gb</th>\n",
       "      <th>rub_per_message</th>\n",
       "      <th>rub_per_minute</th>\n",
       "      <th>month</th>\n",
       "      <th>calls_amount</th>\n",
       "      <th>calls_duration</th>\n",
       "      <th>messages_amount</th>\n",
       "      <th>mb_used</th>\n",
       "      <th>gb_used</th>\n",
       "    </tr>\n",
       "  </thead>\n",
       "  <tbody>\n",
       "    <tr>\n",
       "      <th>0</th>\n",
       "      <td>1000</td>\n",
       "      <td>Краснодар</td>\n",
       "      <td>ultra</td>\n",
       "      <td>1000</td>\n",
       "      <td>30</td>\n",
       "      <td>3000</td>\n",
       "      <td>1950</td>\n",
       "      <td>150</td>\n",
       "      <td>1</td>\n",
       "      <td>1</td>\n",
       "      <td>5.0</td>\n",
       "      <td>17.0</td>\n",
       "      <td>151.0</td>\n",
       "      <td>22.0</td>\n",
       "      <td>2253.49</td>\n",
       "      <td>3.0</td>\n",
       "    </tr>\n",
       "    <tr>\n",
       "      <th>1</th>\n",
       "      <td>1000</td>\n",
       "      <td>Краснодар</td>\n",
       "      <td>ultra</td>\n",
       "      <td>1000</td>\n",
       "      <td>30</td>\n",
       "      <td>3000</td>\n",
       "      <td>1950</td>\n",
       "      <td>150</td>\n",
       "      <td>1</td>\n",
       "      <td>1</td>\n",
       "      <td>6.0</td>\n",
       "      <td>28.0</td>\n",
       "      <td>159.0</td>\n",
       "      <td>60.0</td>\n",
       "      <td>23233.77</td>\n",
       "      <td>23.0</td>\n",
       "    </tr>\n",
       "    <tr>\n",
       "      <th>2</th>\n",
       "      <td>1000</td>\n",
       "      <td>Краснодар</td>\n",
       "      <td>ultra</td>\n",
       "      <td>1000</td>\n",
       "      <td>30</td>\n",
       "      <td>3000</td>\n",
       "      <td>1950</td>\n",
       "      <td>150</td>\n",
       "      <td>1</td>\n",
       "      <td>1</td>\n",
       "      <td>7.0</td>\n",
       "      <td>41.0</td>\n",
       "      <td>319.0</td>\n",
       "      <td>75.0</td>\n",
       "      <td>14003.64</td>\n",
       "      <td>14.0</td>\n",
       "    </tr>\n",
       "    <tr>\n",
       "      <th>3</th>\n",
       "      <td>1000</td>\n",
       "      <td>Краснодар</td>\n",
       "      <td>ultra</td>\n",
       "      <td>1000</td>\n",
       "      <td>30</td>\n",
       "      <td>3000</td>\n",
       "      <td>1950</td>\n",
       "      <td>150</td>\n",
       "      <td>1</td>\n",
       "      <td>1</td>\n",
       "      <td>8.0</td>\n",
       "      <td>42.0</td>\n",
       "      <td>390.0</td>\n",
       "      <td>81.0</td>\n",
       "      <td>14055.93</td>\n",
       "      <td>14.0</td>\n",
       "    </tr>\n",
       "    <tr>\n",
       "      <th>4</th>\n",
       "      <td>1000</td>\n",
       "      <td>Краснодар</td>\n",
       "      <td>ultra</td>\n",
       "      <td>1000</td>\n",
       "      <td>30</td>\n",
       "      <td>3000</td>\n",
       "      <td>1950</td>\n",
       "      <td>150</td>\n",
       "      <td>1</td>\n",
       "      <td>1</td>\n",
       "      <td>9.0</td>\n",
       "      <td>46.0</td>\n",
       "      <td>441.0</td>\n",
       "      <td>57.0</td>\n",
       "      <td>14568.91</td>\n",
       "      <td>15.0</td>\n",
       "    </tr>\n",
       "  </tbody>\n",
       "</table>\n",
       "</div>"
      ],
      "text/plain": [
       "   user_id       city tariff  messages_included  gb_per_month_included  \\\n",
       "0     1000  Краснодар  ultra               1000                     30   \n",
       "1     1000  Краснодар  ultra               1000                     30   \n",
       "2     1000  Краснодар  ultra               1000                     30   \n",
       "3     1000  Краснодар  ultra               1000                     30   \n",
       "4     1000  Краснодар  ultra               1000                     30   \n",
       "\n",
       "   minutes_included  rub_monthly_fee  rub_per_gb  rub_per_message  \\\n",
       "0              3000             1950         150                1   \n",
       "1              3000             1950         150                1   \n",
       "2              3000             1950         150                1   \n",
       "3              3000             1950         150                1   \n",
       "4              3000             1950         150                1   \n",
       "\n",
       "   rub_per_minute  month  calls_amount  calls_duration  messages_amount  \\\n",
       "0               1    5.0          17.0           151.0             22.0   \n",
       "1               1    6.0          28.0           159.0             60.0   \n",
       "2               1    7.0          41.0           319.0             75.0   \n",
       "3               1    8.0          42.0           390.0             81.0   \n",
       "4               1    9.0          46.0           441.0             57.0   \n",
       "\n",
       "    mb_used  gb_used  \n",
       "0   2253.49      3.0  \n",
       "1  23233.77     23.0  \n",
       "2  14003.64     14.0  \n",
       "3  14055.93     14.0  \n",
       "4  14568.91     15.0  "
      ]
     },
     "execution_count": 29,
     "metadata": {},
     "output_type": "execute_result"
    }
   ],
   "source": [
    "data.info() # проверка данных\n",
    "data.head()"
   ]
  },
  {
   "cell_type": "markdown",
   "id": "b0dcc5b0",
   "metadata": {},
   "source": [
    "Проверим пропущенные значения. И приведем значения в последних 6 столбцах к целочисленному типу."
   ]
  },
  {
   "cell_type": "code",
   "execution_count": 30,
   "id": "7640c73b",
   "metadata": {},
   "outputs": [
    {
     "data": {
      "text/html": [
       "<div>\n",
       "<style scoped>\n",
       "    .dataframe tbody tr th:only-of-type {\n",
       "        vertical-align: middle;\n",
       "    }\n",
       "\n",
       "    .dataframe tbody tr th {\n",
       "        vertical-align: top;\n",
       "    }\n",
       "\n",
       "    .dataframe thead th {\n",
       "        text-align: right;\n",
       "    }\n",
       "</style>\n",
       "<table border=\"1\" class=\"dataframe\">\n",
       "  <thead>\n",
       "    <tr style=\"text-align: right;\">\n",
       "      <th></th>\n",
       "      <th>user_id</th>\n",
       "      <th>city</th>\n",
       "      <th>tariff</th>\n",
       "      <th>messages_included</th>\n",
       "      <th>gb_per_month_included</th>\n",
       "      <th>minutes_included</th>\n",
       "      <th>rub_monthly_fee</th>\n",
       "      <th>rub_per_gb</th>\n",
       "      <th>rub_per_message</th>\n",
       "      <th>rub_per_minute</th>\n",
       "      <th>month</th>\n",
       "      <th>calls_amount</th>\n",
       "      <th>calls_duration</th>\n",
       "      <th>messages_amount</th>\n",
       "      <th>mb_used</th>\n",
       "      <th>gb_used</th>\n",
       "    </tr>\n",
       "  </thead>\n",
       "  <tbody>\n",
       "    <tr>\n",
       "      <th>243</th>\n",
       "      <td>1128</td>\n",
       "      <td>Волжский</td>\n",
       "      <td>ultra</td>\n",
       "      <td>1000</td>\n",
       "      <td>30</td>\n",
       "      <td>3000</td>\n",
       "      <td>1950</td>\n",
       "      <td>150</td>\n",
       "      <td>1</td>\n",
       "      <td>1</td>\n",
       "      <td>NaN</td>\n",
       "      <td>NaN</td>\n",
       "      <td>NaN</td>\n",
       "      <td>NaN</td>\n",
       "      <td>NaN</td>\n",
       "      <td>NaN</td>\n",
       "    </tr>\n",
       "    <tr>\n",
       "      <th>2619</th>\n",
       "      <td>1371</td>\n",
       "      <td>Омск</td>\n",
       "      <td>smart</td>\n",
       "      <td>50</td>\n",
       "      <td>15</td>\n",
       "      <td>500</td>\n",
       "      <td>550</td>\n",
       "      <td>200</td>\n",
       "      <td>3</td>\n",
       "      <td>3</td>\n",
       "      <td>NaN</td>\n",
       "      <td>NaN</td>\n",
       "      <td>NaN</td>\n",
       "      <td>NaN</td>\n",
       "      <td>NaN</td>\n",
       "      <td>NaN</td>\n",
       "    </tr>\n",
       "  </tbody>\n",
       "</table>\n",
       "</div>"
      ],
      "text/plain": [
       "      user_id      city tariff  messages_included  gb_per_month_included  \\\n",
       "243      1128  Волжский  ultra               1000                     30   \n",
       "2619     1371      Омск  smart                 50                     15   \n",
       "\n",
       "      minutes_included  rub_monthly_fee  rub_per_gb  rub_per_message  \\\n",
       "243               3000             1950         150                1   \n",
       "2619               500              550         200                3   \n",
       "\n",
       "      rub_per_minute  month  calls_amount  calls_duration  messages_amount  \\\n",
       "243                1    NaN           NaN             NaN              NaN   \n",
       "2619               3    NaN           NaN             NaN              NaN   \n",
       "\n",
       "      mb_used  gb_used  \n",
       "243       NaN      NaN  \n",
       "2619      NaN      NaN  "
      ]
     },
     "metadata": {},
     "output_type": "display_data"
    }
   ],
   "source": [
    "display(data[data['month'].isna()])"
   ]
  },
  {
   "cell_type": "markdown",
   "id": "6ecf4fa5",
   "metadata": {},
   "source": [
    "По данным пользователям нет никакой активности, вероятно они просто купили сим-карту и не стали её использовать. Такие данные можно не брать врасчёт, поэтому удалим эти строки."
   ]
  },
  {
   "cell_type": "code",
   "execution_count": 31,
   "id": "c90fdd78",
   "metadata": {},
   "outputs": [],
   "source": [
    "data = data.dropna(subset=['month'])"
   ]
  },
  {
   "cell_type": "code",
   "execution_count": 32,
   "id": "72942a87",
   "metadata": {},
   "outputs": [],
   "source": [
    "# приведение столбцов к целочисленному типу\n",
    "data[['month','calls_amount', 'calls_duration', 'messages_amount', 'mb_used', 'gb_used']] = data[['month','calls_amount', 'calls_duration', 'messages_amount', 'mb_used', 'gb_used']].astype('int')"
   ]
  },
  {
   "cell_type": "code",
   "execution_count": 33,
   "id": "d6bd5b4f",
   "metadata": {},
   "outputs": [
    {
     "name": "stdout",
     "output_type": "stream",
     "text": [
      "<class 'pandas.core.frame.DataFrame'>\n",
      "Int64Index: 3214 entries, 0 to 3215\n",
      "Data columns (total 16 columns):\n",
      " #   Column                 Non-Null Count  Dtype \n",
      "---  ------                 --------------  ----- \n",
      " 0   user_id                3214 non-null   int64 \n",
      " 1   city                   3214 non-null   object\n",
      " 2   tariff                 3214 non-null   object\n",
      " 3   messages_included      3214 non-null   int64 \n",
      " 4   gb_per_month_included  3214 non-null   int32 \n",
      " 5   minutes_included       3214 non-null   int64 \n",
      " 6   rub_monthly_fee        3214 non-null   int64 \n",
      " 7   rub_per_gb             3214 non-null   int64 \n",
      " 8   rub_per_message        3214 non-null   int64 \n",
      " 9   rub_per_minute         3214 non-null   int64 \n",
      " 10  month                  3214 non-null   int32 \n",
      " 11  calls_amount           3214 non-null   int32 \n",
      " 12  calls_duration         3214 non-null   int32 \n",
      " 13  messages_amount        3214 non-null   int32 \n",
      " 14  mb_used                3214 non-null   int32 \n",
      " 15  gb_used                3214 non-null   int32 \n",
      "dtypes: int32(7), int64(7), object(2)\n",
      "memory usage: 339.0+ KB\n"
     ]
    }
   ],
   "source": [
    "data.info() # окончательная проверка данных"
   ]
  },
  {
   "cell_type": "markdown",
   "id": "471ab5b0",
   "metadata": {},
   "source": [
    "Посчитаем помесячную выручку с каждого пользователя. Для этого создадим три функции отдельно для дополнительной платы за звонки, сообщения и интернет. Получив эти данные, прибавим дополнительную стомость к ежемесячной стоимости тарифного плана."
   ]
  },
  {
   "cell_type": "code",
   "execution_count": 34,
   "id": "f836daba",
   "metadata": {},
   "outputs": [],
   "source": [
    "# функция, которая возвращает дополнительную стоимость за звонки по правилу:\n",
    "    # если длительность звонков меньше включенных минут - cost_calls=0\n",
    "    # в ином случае вычитаем из текущей длительности включенные минуты и умножаем на стоимость одной доп минуты\n",
    "\n",
    "def cost_calls(row): \n",
    "    if row['calls_duration'] <= row['minutes_included']:\n",
    "        return 0\n",
    "    else:\n",
    "        return (row['calls_duration']-row['minutes_included'])*row['rub_per_minute']\n",
    "data['cost_calls'] = data.apply(cost_calls, axis=1)"
   ]
  },
  {
   "cell_type": "code",
   "execution_count": 35,
   "id": "15fed1e4",
   "metadata": {},
   "outputs": [],
   "source": [
    "# функция, которая возвращает дополнительную стоимость за собщения по правилу:\n",
    "    # если количество сообщений меньше включенных в тариф - cost_messages = 0\n",
    "    # в ином случае вычитаем из текущего количества включенные сообщения и умножаем на стоимость одного доп сообщения\n",
    "    \n",
    "def cost_messages(row): \n",
    "    if row['messages_amount'] <= row['messages_included']:\n",
    "        return 0\n",
    "    else:\n",
    "        return (row['messages_amount']-row['messages_included'])*row['rub_per_message']\n",
    "data['cost_messages'] = data.apply(cost_messages, axis=1)"
   ]
  },
  {
   "cell_type": "code",
   "execution_count": 36,
   "id": "bf374f36",
   "metadata": {},
   "outputs": [],
   "source": [
    "# функция, которая возвращает дополнительную стоимость за интернет по правилу:\n",
    "    # если количество Гб меньше включенных в тариф - cost_internet = 0\n",
    "    # в ином случае вычитаем из текущего количества включенные Гб и умножаем на стоимость одного доп Гб\n",
    "    \n",
    "def cost_internet(row): \n",
    "    if row['gb_used'] <= row['gb_per_month_included']:\n",
    "        return 0\n",
    "    else:\n",
    "        return (row['gb_used']-row['gb_per_month_included'])*row['rub_per_gb']\n",
    "    \n",
    "data['cost_internet'] = data.apply(cost_internet, axis=1)"
   ]
  },
  {
   "cell_type": "code",
   "execution_count": 37,
   "id": "f9b388c4",
   "metadata": {},
   "outputs": [],
   "source": [
    "# считаем общую стоимость\n",
    "\n",
    "data['total_cost'] = data['rub_monthly_fee']+data['cost_calls']+data['cost_messages']+data['cost_internet']"
   ]
  },
  {
   "cell_type": "code",
   "execution_count": 38,
   "id": "0f261159",
   "metadata": {},
   "outputs": [],
   "source": [
    "# для удобства удалим ненужные для дальнейшего анализа столбцы\n",
    "\n",
    "data = data.drop(columns = ['messages_included', 'gb_per_month_included', 'minutes_included', 'rub_monthly_fee','rub_per_gb','rub_per_message','rub_per_minute','cost_calls', 'cost_messages', 'cost_internet', 'calls_amount', 'mb_used'], axis = 1)"
   ]
  },
  {
   "cell_type": "code",
   "execution_count": 39,
   "id": "881f66a0",
   "metadata": {
    "scrolled": true
   },
   "outputs": [
    {
     "data": {
      "text/html": [
       "<div>\n",
       "<style scoped>\n",
       "    .dataframe tbody tr th:only-of-type {\n",
       "        vertical-align: middle;\n",
       "    }\n",
       "\n",
       "    .dataframe tbody tr th {\n",
       "        vertical-align: top;\n",
       "    }\n",
       "\n",
       "    .dataframe thead th {\n",
       "        text-align: right;\n",
       "    }\n",
       "</style>\n",
       "<table border=\"1\" class=\"dataframe\">\n",
       "  <thead>\n",
       "    <tr style=\"text-align: right;\">\n",
       "      <th></th>\n",
       "      <th>user_id</th>\n",
       "      <th>city</th>\n",
       "      <th>tariff</th>\n",
       "      <th>month</th>\n",
       "      <th>calls_duration</th>\n",
       "      <th>messages_amount</th>\n",
       "      <th>gb_used</th>\n",
       "      <th>total_cost</th>\n",
       "    </tr>\n",
       "  </thead>\n",
       "  <tbody>\n",
       "    <tr>\n",
       "      <th>3211</th>\n",
       "      <td>1498</td>\n",
       "      <td>Владикавказ</td>\n",
       "      <td>smart</td>\n",
       "      <td>10</td>\n",
       "      <td>233</td>\n",
       "      <td>42</td>\n",
       "      <td>21</td>\n",
       "      <td>1750</td>\n",
       "    </tr>\n",
       "    <tr>\n",
       "      <th>3212</th>\n",
       "      <td>1499</td>\n",
       "      <td>Пермь</td>\n",
       "      <td>smart</td>\n",
       "      <td>9</td>\n",
       "      <td>65</td>\n",
       "      <td>11</td>\n",
       "      <td>2</td>\n",
       "      <td>550</td>\n",
       "    </tr>\n",
       "    <tr>\n",
       "      <th>3213</th>\n",
       "      <td>1499</td>\n",
       "      <td>Пермь</td>\n",
       "      <td>smart</td>\n",
       "      <td>10</td>\n",
       "      <td>430</td>\n",
       "      <td>48</td>\n",
       "      <td>18</td>\n",
       "      <td>1150</td>\n",
       "    </tr>\n",
       "    <tr>\n",
       "      <th>3214</th>\n",
       "      <td>1499</td>\n",
       "      <td>Пермь</td>\n",
       "      <td>smart</td>\n",
       "      <td>11</td>\n",
       "      <td>577</td>\n",
       "      <td>59</td>\n",
       "      <td>18</td>\n",
       "      <td>1408</td>\n",
       "    </tr>\n",
       "    <tr>\n",
       "      <th>3215</th>\n",
       "      <td>1499</td>\n",
       "      <td>Пермь</td>\n",
       "      <td>smart</td>\n",
       "      <td>12</td>\n",
       "      <td>466</td>\n",
       "      <td>66</td>\n",
       "      <td>13</td>\n",
       "      <td>598</td>\n",
       "    </tr>\n",
       "  </tbody>\n",
       "</table>\n",
       "</div>"
      ],
      "text/plain": [
       "      user_id         city tariff  month  calls_duration  messages_amount  \\\n",
       "3211     1498  Владикавказ  smart     10             233               42   \n",
       "3212     1499        Пермь  smart      9              65               11   \n",
       "3213     1499        Пермь  smart     10             430               48   \n",
       "3214     1499        Пермь  smart     11             577               59   \n",
       "3215     1499        Пермь  smart     12             466               66   \n",
       "\n",
       "      gb_used  total_cost  \n",
       "3211       21        1750  \n",
       "3212        2         550  \n",
       "3213       18        1150  \n",
       "3214       18        1408  \n",
       "3215       13         598  "
      ]
     },
     "execution_count": 39,
     "metadata": {},
     "output_type": "execute_result"
    }
   ],
   "source": [
    "data.tail()"
   ]
  },
  {
   "cell_type": "markdown",
   "id": "214bdb28",
   "metadata": {},
   "source": [
    "## Анализ тарифов"
   ]
  },
  {
   "cell_type": "markdown",
   "id": "48ad5a79",
   "metadata": {},
   "source": [
    "### Звонки"
   ]
  },
  {
   "cell_type": "code",
   "execution_count": 40,
   "id": "20c290c6",
   "metadata": {
    "scrolled": false
   },
   "outputs": [
    {
     "name": "stdout",
     "output_type": "stream",
     "text": [
      "Среднее количество минут в месяц тарифа ultra равно:  498\n",
      "Дисперсия:  89958.09\n",
      "Стандартное отклонение:  299.93\n",
      "\n",
      "Среднее количество минут в месяц тарифа smart равно:  395\n",
      "Дисперсия:  32391.71\n",
      "Стандартное отклонение:  179.98\n",
      "\n"
     ]
    },
    {
     "data": {
      "image/png": "[encoded data removed]",
      "text/plain": [
       "<Figure size 648x504 with 1 Axes>"
      ]
     },
     "metadata": {
      "needs_background": "light"
     },
     "output_type": "display_data"
    }
   ],
   "source": [
    "for n in data['tariff'].unique():    \n",
    "    print('Среднее количество минут в месяц тарифа', n,'равно: ', round(data.query('tariff == @n')['calls_duration'].mean()))\n",
    "    print('Дисперсия: ', round(np.var(data.query('tariff == @n')['calls_duration'], ddof=1), 2))\n",
    "    print('Стандартное отклонение: ', round(np.std(data.query('tariff == @n')['calls_duration'], ddof=1), 2))\n",
    "    print('')\n",
    "    data.query('tariff == @n')['calls_duration'].plot(kind='hist',\n",
    "                                                      bins=15,\n",
    "                                                      histtype='step', \n",
    "                                                      linewidth=3, \n",
    "                                                      label=n, \n",
    "                                                      grid=True, \n",
    "                                                      legend=True, \n",
    "                                                      title='Распеределение количества использованных минут в месяц по тарифам',\n",
    "                                                      figsize=(9,7))"
   ]
  },
  {
   "cell_type": "markdown",
   "id": "ab59a74b",
   "metadata": {},
   "source": [
    "- Исходя из выборки в среднем пользователям тарифа smart в месяц необходимо 395 минут, чаще всего тратят от 300 до 500 минут в месяц. \n",
    "- По тарифу ultra среднее количество минут составляет 498, а чаще всего пользователи тратят от 300 до 700 минут, то есть поведение пользователей двух тарифов по звонкам достаточно похожее.\n",
    "- В тарифе smart большая часть пользователей тарифа укладывается во включенный пакет минут, но есть выпадающие значения, которые больше 900 минут. Из-за них распределение имеет небольшую положительную скошенность, что видно на гистограмме.\n",
    "- В тарифе ultra все пользователи укладываются в пакет включенных минут. Гистограмма тарифа ultra также имеет положительную скошенность, причем более выраженную. \n",
    "- Но оба распределения приближены к нормальному, чтобы в этом убедиться воспользуемся методом `describe()`."
   ]
  },
  {
   "cell_type": "code",
   "execution_count": 41,
   "id": "1b019cae",
   "metadata": {},
   "outputs": [
    {
     "name": "stdout",
     "output_type": "stream",
     "text": [
      "count    2229.000000\n",
      "mean      394.928668\n",
      "std       179.976975\n",
      "min         0.000000\n",
      "25%       268.000000\n",
      "50%       398.000000\n",
      "75%       516.000000\n",
      "max      1355.000000\n",
      "Name: calls_duration, dtype: float64\n",
      "\n"
     ]
    },
    {
     "data": {
      "text/plain": [
       "count     985.000000\n",
       "mean      497.553299\n",
       "std       299.930150\n",
       "min         0.000000\n",
       "25%       268.000000\n",
       "50%       489.000000\n",
       "75%       712.000000\n",
       "max      1579.000000\n",
       "Name: calls_duration, dtype: float64"
      ]
     },
     "execution_count": 41,
     "metadata": {},
     "output_type": "execute_result"
    }
   ],
   "source": [
    "print(data.query('tariff == \"smart\"')['calls_duration'].describe())\n",
    "print('')\n",
    "data.query('tariff == \"ultra\"')['calls_duration'].describe()"
   ]
  },
  {
   "cell_type": "markdown",
   "id": "40271cb2",
   "metadata": {},
   "source": [
    "Можно заметить, что и в том, и другом тарифе значения среднего и медианы достаточно близки, это также подтверждает, что распределения стремятся к нормальному.\n",
    "\n",
    "В этом случае для тарифа smart можно расчитать, с какой вероятностью пользователь потратит 500 минут и меньше за один месяц, то есть уложится во включенный пакет минут."
   ]
  },
  {
   "cell_type": "code",
   "execution_count": 42,
   "id": "557cda6b",
   "metadata": {},
   "outputs": [
    {
     "name": "stdout",
     "output_type": "stream",
     "text": [
      "72 %\n"
     ]
    }
   ],
   "source": [
    "# задаём нормальное распределение с математическим ожиданием 396 и стандартным отклонением 178\n",
    "print(round((st.norm(396, 178).cdf(500)*100)), '%') # считаем вероятность получить значение 500"
   ]
  },
  {
   "cell_type": "markdown",
   "id": "952df325",
   "metadata": {},
   "source": [
    "В 72% случаев пользователи не будут переплачивать за минуты, так как смогут уложиться в количество минут, включенных в пакет. Остальным 28% придется платить сверх тарифа за потраченные минуты."
   ]
  },
  {
   "cell_type": "markdown",
   "id": "ddd29370",
   "metadata": {},
   "source": [
    "### Сообщения"
   ]
  },
  {
   "cell_type": "code",
   "execution_count": 43,
   "id": "135a2513",
   "metadata": {},
   "outputs": [
    {
     "name": "stdout",
     "output_type": "stream",
     "text": [
      "Среднее количество сообщений в месяц тарифа ultra равно:  49\n",
      "Дисперсия:  2285.27\n",
      "Стандартное отклонение:  47.8\n",
      "\n",
      "Среднее количество сообщений в месяц тарифа smart равно:  33\n",
      "Дисперсия:  796.81\n",
      "Стандартное отклонение:  28.23\n",
      "\n"
     ]
    },
    {
     "data": {
      "image/png": "[encoded data removed]",
      "text/plain": [
       "<Figure size 648x504 with 1 Axes>"
      ]
     },
     "metadata": {
      "needs_background": "light"
     },
     "output_type": "display_data"
    }
   ],
   "source": [
    "for n in data['tariff'].unique():    \n",
    "    print('Среднее количество сообщений в месяц тарифа', n,'равно: ', round(data.query('tariff == @n')['messages_amount'].mean()))\n",
    "    print('Дисперсия: ', round(np.var(data.query('tariff == @n')['messages_amount'], ddof=1), 2))\n",
    "    print('Стандартное отклонение: ', round(np.std(data.query('tariff == @n')['messages_amount'], ddof=1), 2))\n",
    "    print('')\n",
    "    data.query('tariff == @n')['messages_amount'].plot(kind='hist',\n",
    "                                                      bins=15,\n",
    "                                                      histtype='step', \n",
    "                                                      linewidth=3, \n",
    "                                                      label=n, \n",
    "                                                      grid=True, \n",
    "                                                      legend=True, \n",
    "                                                      title='Распеределение количества использованных сообщений в месяц по тарифам',\n",
    "                                                      figsize=(9,7))"
   ]
  },
  {
   "cell_type": "markdown",
   "id": "750f8f80",
   "metadata": {},
   "source": [
    "- Даже несмотря на то, что средние значения количества сообщений в месяц значительно отличаются, чаще всего пользователи обоих тарифов отправляют в месяц до 30 сообщений. \n",
    "- Как и в звонках все пользователи тарифа ultra укладываются во включенный пакет сообщений. В тарифе smart большинство пользователей укладываются в 50 сообщений, но есть те, кто явно превышают этот лимит.\n",
    "- Обе гистограммы напоминают распределение Пуассона. Вероятно, это обусловлено тем, что с приходом разных мессенджеров, пользователи отправляют всё меньше сообщений, то есть число событий - отправленных сообщений в месяц - невелико, поэтому гистограммы смещены влево, что является верным признаком распределения Пуассона."
   ]
  },
  {
   "cell_type": "markdown",
   "id": "96118e36",
   "metadata": {},
   "source": [
    "### Интернет"
   ]
  },
  {
   "cell_type": "code",
   "execution_count": 44,
   "id": "9b39a912",
   "metadata": {},
   "outputs": [
    {
     "name": "stdout",
     "output_type": "stream",
     "text": [
      "Среднее количество Гб в месяц тарифа ultra равно:  19\n",
      "Дисперсия:  97.05\n",
      "Стандартное отклонение:  9.85\n",
      "\n",
      "Среднее количество Гб в месяц тарифа smart равно:  16\n",
      "Дисперсия:  33.01\n",
      "Стандартное отклонение:  5.75\n",
      "\n"
     ]
    },
    {
     "data": {
      "image/png": "[encoded data removed]",
      "text/plain": [
       "<Figure size 648x504 with 1 Axes>"
      ]
     },
     "metadata": {
      "needs_background": "light"
     },
     "output_type": "display_data"
    }
   ],
   "source": [
    "for n in data['tariff'].unique():\n",
    "    print('Среднее количество Гб в месяц тарифа', n, 'равно: ', round(data.query('tariff == @n')['gb_used'].mean()))\n",
    "    print('Дисперсия: ', round(np.var(data.query('tariff == @n')['gb_used'], ddof=1), 2))\n",
    "    print('Стандартное отклонение: ', round(np.std(data.query('tariff == @n')['gb_used'], ddof=1), 2))\n",
    "    print('')\n",
    "    data.query('tariff == @n')['gb_used'].plot(kind='hist',\n",
    "                                                      bins=15,\n",
    "                                                      histtype='step', \n",
    "                                                      linewidth=3, \n",
    "                                                      label=n, \n",
    "                                                      grid=True, \n",
    "                                                      legend=True, \n",
    "                                                      title='Распеределение количества использованных гигабайт в месяц по тарифам',\n",
    "                                                      figsize=(9,7))"
   ]
  },
  {
   "cell_type": "markdown",
   "id": "8a0ff902",
   "metadata": {},
   "source": [
    "- Среднее количество потраченных Гб у пользователей разных тарифов почти одинаковое, но в тарифе ultra разброс использования явно выше, так как стандартное отклонение значительно отличается от стандартного отклонения тарифа smart. \n",
    "- Пользователи тарифа smart чаще всего тратят от 11 до 20 Гб за месяц, а тарифа ultra - от 10 до 30 Гб. \n",
    "- Также как в звонках и сообщениях, в тарифе ultra все укладываются во включенный пакет интернета. В тарифе smart явно половина или даже большинство не укладываются во включеннные Гб в пакет. Так как оплата дополнительных Гб самая затратная статья в условиях тарифа, то использование Гб сверх пакета может привести к большой переплате.\n",
    "- Обе гистрограммы имеют ярко выраженное нормальное распределение, чтобы в этом убедиться воспользуемся методом `describe()`."
   ]
  },
  {
   "cell_type": "code",
   "execution_count": 45,
   "id": "c9471d77",
   "metadata": {},
   "outputs": [
    {
     "name": "stdout",
     "output_type": "stream",
     "text": [
      "count    2229.000000\n",
      "mean       16.329296\n",
      "std         5.745824\n",
      "min         0.000000\n",
      "25%        13.000000\n",
      "50%        17.000000\n",
      "75%        20.000000\n",
      "max        38.000000\n",
      "Name: gb_used, dtype: float64\n",
      "\n"
     ]
    },
    {
     "data": {
      "text/plain": [
       "count    985.000000\n",
       "mean      19.495431\n",
       "std        9.851552\n",
       "min        0.000000\n",
       "25%       12.000000\n",
       "50%       19.000000\n",
       "75%       27.000000\n",
       "max       49.000000\n",
       "Name: gb_used, dtype: float64"
      ]
     },
     "execution_count": 45,
     "metadata": {},
     "output_type": "execute_result"
    }
   ],
   "source": [
    "print(data.query('tariff == \"smart\"')['gb_used'].describe())\n",
    "print('')\n",
    "data.query('tariff == \"ultra\"')['gb_used'].describe()"
   ]
  },
  {
   "cell_type": "markdown",
   "id": "128bd04c",
   "metadata": {},
   "source": [
    "И в том, и другом тарифе значения среднего и медианы очень близки, это также подтверждает, что распределения стремятся к нормальному.\n",
    "В этом случае для тарифа smart можно расчитать, с какой вероятностью пользователь потратит 15 Гб и меньше за один месяц, то есть уложится во включенный пакет интернета."
   ]
  },
  {
   "cell_type": "code",
   "execution_count": 46,
   "id": "5f79fd11",
   "metadata": {},
   "outputs": [
    {
     "name": "stdout",
     "output_type": "stream",
     "text": [
      "41 %\n"
     ]
    }
   ],
   "source": [
    "print(round(st.norm(16.3, 5.75).cdf(15)*100), '%')"
   ]
  },
  {
   "cell_type": "markdown",
   "id": "a8fbeac5",
   "metadata": {},
   "source": [
    "Почти в 60% случаев пользователям придется переплачивать за интернет. Учитывая, что переплата составляет 200 руб/Гб, пользователям, у кого идёт превышение лимита интернета более, чем на 7 гб (в месяц - от 22 Гб и более) будет выгоднее сменить тариф на Ultra."
   ]
  },
  {
   "cell_type": "markdown",
   "id": "5ca156db",
   "metadata": {},
   "source": [
    "### Выручка"
   ]
  },
  {
   "cell_type": "code",
   "execution_count": 47,
   "id": "d9a9a493",
   "metadata": {},
   "outputs": [
    {
     "name": "stdout",
     "output_type": "stream",
     "text": [
      "Средняя выручка с тарифа в месяц ultra равна:  2070\n",
      "Дисперсия:  141516.75\n",
      "Стандартное отклонение:  376.19\n",
      "\n",
      "Средняя выручка с тарифа в месяц smart равна:  1258\n",
      "Дисперсия:  641464.13\n",
      "Стандартное отклонение:  800.91\n",
      "\n"
     ]
    },
    {
     "data": {
      "image/png": "[encoded data removed]",
      "text/plain": [
       "<Figure size 648x504 with 1 Axes>"
      ]
     },
     "metadata": {
      "needs_background": "light"
     },
     "output_type": "display_data"
    }
   ],
   "source": [
    "for n in data['tariff'].unique():    \n",
    "    print('Средняя выручка с тарифа в месяц', n,'равна: ', round(data.query('tariff == @n')['total_cost'].mean()))\n",
    "    print('Дисперсия: ', round(np.var(data.query('tariff == @n')['total_cost'], ddof=1), 2))\n",
    "    print('Стандартное отклонение: ', round(np.std(data.query('tariff == @n')['total_cost'], ddof=1), 2))\n",
    "    print('')\n",
    "    data.query('tariff == @n')['total_cost'].plot(kind='hist',\n",
    "                                                      bins=15,\n",
    "                                                      histtype='step', \n",
    "                                                      linewidth=3, \n",
    "                                                      label=n, \n",
    "                                                      grid=True, \n",
    "                                                      legend=True, \n",
    "                                                      title='Распеределение количества использованных минут в месяц по тарифам',\n",
    "                                                      figsize=(9,7))"
   ]
  },
  {
   "cell_type": "markdown",
   "id": "768c222f",
   "metadata": {},
   "source": [
    "- В тарифе smart средняя выручка равна 1258р, это значение сильно отличается от стоимости абонентской платы в 550р., также, учитывая стандартное отклонение, наблюдается очень большой разброс в ежемесячном платеже. Многие пользователи этого тарифа явно переплачивают за использование трафика сверх пакета.\n",
    "- В тарифе ultra средняя выручка составляет 2070р, чуть выше месячной абонентской платы в 1950р. Некоторые пользователи также переплачивают за трафик сверх пакета, но их доля явно меньше, чем в тарифе smart."
   ]
  },
  {
   "cell_type": "markdown",
   "id": "17a740a0",
   "metadata": {},
   "source": [
    "## Проверка гипотез"
   ]
  },
  {
   "cell_type": "markdown",
   "id": "77c962d2",
   "metadata": {},
   "source": [
    "Проверим две гипотезы и для каждой сформулируем альтернативную. Так как нулевая гипотеза всегда формулируется так, чтобы использовать знак равенства, то нулевые и альтернативные гипотезы будут следующие:\n",
    "\n",
    "*Гипотеза 1:*\n",
    "- H₀: средние выручки пользователей тарифов «Ультра» и «Смарт» равны\n",
    "- H₁: средние выручки пользователей тарифов «Ультра» и «Смарт» не равны\n",
    "  \n",
    "*Гипотеза 2:*  \n",
    "- H₀: средние выручки пользователей из Москвы и пользователей из других регионов равны\n",
    "- H₁: средние выручки пользователей из Москвы и пользователей из других регионов не равны"
   ]
  },
  {
   "cell_type": "markdown",
   "id": "c7714a93",
   "metadata": {},
   "source": [
    "### Гипотеза 1"
   ]
  },
  {
   "cell_type": "markdown",
   "id": "ba0de8ea",
   "metadata": {},
   "source": [
    "Проверим объем выборки для каждого из тарифов."
   ]
  },
  {
   "cell_type": "code",
   "execution_count": 48,
   "id": "d4bb1cc3",
   "metadata": {},
   "outputs": [
    {
     "data": {
      "text/plain": [
       "tariff\n",
       "smart    2229\n",
       "ultra     985\n",
       "Name: user_id, dtype: int64"
      ]
     },
     "execution_count": 48,
     "metadata": {},
     "output_type": "execute_result"
    }
   ],
   "source": [
    "data.groupby('tariff')['user_id'].count()"
   ]
  },
  {
   "cell_type": "markdown",
   "id": "2f7b05b0",
   "metadata": {},
   "source": [
    "Так как количество пользователей тарифа smart превышает пользователей тарифа ultra более, чем в 2 раза, то объемы выборок разные. Тогда добавим параметр `equal_var = False`. Критический уровень статистической значимости возьмём 0.01. Проверим первую гипотезу."
   ]
  },
  {
   "cell_type": "code",
   "execution_count": 49,
   "id": "7eff33e8",
   "metadata": {},
   "outputs": [
    {
     "name": "stdout",
     "output_type": "stream",
     "text": [
      "p-значение:  6.184876677508212e-274\n",
      "Отвергаем нулевую гипотезу\n"
     ]
    }
   ],
   "source": [
    "sample_1 = data.query('tariff == \"smart\"')['total_cost']\n",
    "sample_2 = data.query('tariff == \"ultra\"')['total_cost']\n",
    "alpha = .01\n",
    "results_0 = st.ttest_ind(\n",
    "    sample_1, \n",
    "    sample_2,\n",
    "    equal_var = False)\n",
    "\n",
    "print('p-значение: ', results_0.pvalue)\n",
    "\n",
    "if results_0.pvalue < alpha:\n",
    "    print(\"Отвергаем нулевую гипотезу\")\n",
    "else:\n",
    "    print(\"Не отвергаем нулевую гипотезу\") "
   ]
  },
  {
   "cell_type": "markdown",
   "id": "20e9eff8",
   "metadata": {},
   "source": [
    "Вероятность того, что средние двух выборок окажутся равными ничтожна мала, значит мы отвергаем нулевую гипотезу в пользу альтернативной - **средние выручки пользователей тарифов «Ультра» и «Смарт» не равны.**"
   ]
  },
  {
   "cell_type": "markdown",
   "id": "db8c9e02",
   "metadata": {},
   "source": [
    "### Гипотеза 2"
   ]
  },
  {
   "cell_type": "markdown",
   "id": "6364734b",
   "metadata": {},
   "source": [
    "Проверим объем выборки для Москвы и других городов."
   ]
  },
  {
   "cell_type": "code",
   "execution_count": 50,
   "id": "28a063ba",
   "metadata": {},
   "outputs": [
    {
     "name": "stdout",
     "output_type": "stream",
     "text": [
      "Объем выборки для Москвы равен 611\n",
      "Объем выборки для других городов равен 2603\n"
     ]
    }
   ],
   "source": [
    "print('Объем выборки для Москвы равен', data.query('city == \"Москва\"')['total_cost'].count())\n",
    "print('Объем выборки для других городов равен', data.query('city != \"Москва\"')['total_cost'].count())"
   ]
  },
  {
   "cell_type": "markdown",
   "id": "af6cf513",
   "metadata": {},
   "source": [
    "Объемы выборок разные. Тогда добавим параметр `equal_var = False`. Критический уровень статистической значимости возьмём 0.01. Проверим вторую гипотезу."
   ]
  },
  {
   "cell_type": "code",
   "execution_count": 51,
   "id": "5658535b",
   "metadata": {},
   "outputs": [
    {
     "name": "stdout",
     "output_type": "stream",
     "text": [
      "p-значение:  0.4653490294517445\n",
      "Не отвергаем нулевую гипотезу\n"
     ]
    }
   ],
   "source": [
    "sample_3 = data.query('city == \"Москва\"')['total_cost']\n",
    "sample_4 = data.query('city != \"Москва\"')['total_cost']\n",
    "betta = .01\n",
    "results_1 = st.ttest_ind(\n",
    "    sample_3, \n",
    "    sample_4,\n",
    "    equal_var = False)\n",
    "\n",
    "print('p-значение: ', results_1.pvalue)\n",
    "\n",
    "if results_1.pvalue < betta:\n",
    "    print(\"Отвергаем нулевую гипотезу\")\n",
    "else:\n",
    "    print(\"Не отвергаем нулевую гипотезу\") "
   ]
  },
  {
   "cell_type": "markdown",
   "id": "f5238b14",
   "metadata": {},
   "source": [
    "Вероятность равенства выручек 37,6% - это значение явно выше порогов, поэтому отвергнуть первую гипотезу не можем. Получается, что **средние выручки пользователей из Москвы и пользователей из других регионов равны.**"
   ]
  },
  {
   "cell_type": "markdown",
   "id": "fa80ec40",
   "metadata": {},
   "source": [
    "## Общий вывод"
   ]
  },
  {
   "cell_type": "markdown",
   "id": "d341b456",
   "metadata": {},
   "source": [
    "- Поведение пользователей разных тарифов незначительно отличается друг от друга. В тарифе ultra минуты, сообщения и Гб в месяц в среднем тратятся больше, но не намного. \n",
    "- Пользователям тарифа ultra не приходится переплачивать за минуты, сообщения и Гб сверх пакета, так как все пользователи из выборки укладываются во включенный пакет. Пользователи тарифа smart не всегда укладываются в тариф и время от времени им приходится платить за дополнительные услуги связи.\n",
    "- Распределения затраченных минут и Гб в месяц приближаются к нормальному распределению, а потраченные сообщения в месяц напоминают распределение Пуассона. \n",
    "- Гипотеза о том, что средние выручки пользователей тарифов «Ультра» и «Смарт» равны была отвергнута.\n",
    "- Гипотеза о том, что средние выручки пользователей из Москвы и пользователей из других регионов равны не была отвергнута.\n",
    "- На данный момент тарифом smart пользуется большинство клиентов, но многие переплачивают сверх абонентской платы из-за дополнительного трафика. \n",
    "- Помесячная выручка с тарифа ultra, больше чем с тарифа smart более чем в 1,5 раза. По моему мнению стоит вкладывать средства в продвижении тарифа ultra. Для пользователей преимуществом будет то, что не нужно волноваться за переплату сверх пакета и счетать истраченные минуты и Гб, так как почти все пользователи укладываются в абонентскую плату. А для компании этот тариф приносит больше средней выручки. И уже на данном этапе, можно перевести тех пользователей с тарифа smart, кто много тратит на интернет."
   ]
  }
 ],
 "metadata": {
  "ExecuteTimeLog": [
   {
    "duration": 1261,
    "start_time": "2022-03-27T07:27:17.237Z"
   },
   {
    "duration": 356,
    "start_time": "2022-03-27T07:27:18.500Z"
   },
   {
    "duration": 132,
    "start_time": "2022-03-27T07:27:18.857Z"
   },
   {
    "duration": 48,
    "start_time": "2022-03-27T07:27:18.991Z"
   },
   {
    "duration": 261,
    "start_time": "2022-03-27T07:27:19.041Z"
   },
   {
    "duration": 15,
    "start_time": "2022-03-27T07:27:19.304Z"
   },
   {
    "duration": 71,
    "start_time": "2022-03-27T07:27:19.320Z"
   },
   {
    "duration": 30,
    "start_time": "2022-03-27T07:27:19.393Z"
   },
   {
    "duration": 94,
    "start_time": "2022-03-27T07:27:19.424Z"
   },
   {
    "duration": 28,
    "start_time": "2022-03-27T07:27:19.520Z"
   },
   {
    "duration": 147,
    "start_time": "2022-03-27T07:27:19.550Z"
   },
   {
    "duration": 9,
    "start_time": "2022-03-27T07:27:19.698Z"
   },
   {
    "duration": 145,
    "start_time": "2022-03-27T07:27:19.709Z"
   },
   {
    "duration": 19,
    "start_time": "2022-03-27T07:27:19.855Z"
   },
   {
    "duration": 3,
    "start_time": "2022-03-27T07:27:19.876Z"
   },
   {
    "duration": 22,
    "start_time": "2022-03-27T07:27:19.881Z"
   },
   {
    "duration": 12,
    "start_time": "2022-03-27T07:27:19.904Z"
   },
   {
    "duration": 119,
    "start_time": "2022-03-27T07:27:19.918Z"
   },
   {
    "duration": 29,
    "start_time": "2022-03-27T07:27:20.039Z"
   },
   {
    "duration": 69,
    "start_time": "2022-03-27T07:27:20.070Z"
   },
   {
    "duration": 53,
    "start_time": "2022-03-27T07:27:20.140Z"
   },
   {
    "duration": 44,
    "start_time": "2022-03-27T07:27:20.194Z"
   },
   {
    "duration": 32,
    "start_time": "2022-03-27T07:27:20.240Z"
   },
   {
    "duration": 21,
    "start_time": "2022-03-27T07:27:20.273Z"
   },
   {
    "duration": 13,
    "start_time": "2022-03-27T07:27:20.296Z"
   },
   {
    "duration": 5,
    "start_time": "2022-03-27T07:27:20.311Z"
   },
   {
    "duration": 7,
    "start_time": "2022-03-27T07:27:20.318Z"
   },
   {
    "duration": 34,
    "start_time": "2022-03-27T07:27:20.329Z"
   },
   {
    "duration": 22,
    "start_time": "2022-03-27T07:27:20.365Z"
   },
   {
    "duration": 40,
    "start_time": "2022-03-27T07:27:20.389Z"
   },
   {
    "duration": 62,
    "start_time": "2022-03-27T07:27:20.430Z"
   },
   {
    "duration": 42,
    "start_time": "2022-03-27T07:27:20.493Z"
   },
   {
    "duration": 4,
    "start_time": "2022-03-27T07:27:20.536Z"
   },
   {
    "duration": 23,
    "start_time": "2022-03-27T07:27:20.541Z"
   },
   {
    "duration": 181,
    "start_time": "2022-03-27T07:27:20.565Z"
   },
   {
    "duration": 22,
    "start_time": "2022-03-27T07:27:20.748Z"
   },
   {
    "duration": 4,
    "start_time": "2022-03-27T07:27:20.772Z"
   },
   {
    "duration": 166,
    "start_time": "2022-03-27T07:27:20.777Z"
   },
   {
    "duration": 172,
    "start_time": "2022-03-27T07:27:20.945Z"
   },
   {
    "duration": 17,
    "start_time": "2022-03-27T07:27:21.119Z"
   },
   {
    "duration": 7,
    "start_time": "2022-03-27T07:27:21.137Z"
   },
   {
    "duration": 6,
    "start_time": "2022-03-27T07:27:21.163Z"
   },
   {
    "duration": 10,
    "start_time": "2022-03-27T07:27:21.171Z"
   },
   {
    "duration": 8,
    "start_time": "2022-03-27T07:27:21.183Z"
   },
   {
    "duration": 15,
    "start_time": "2022-03-27T07:27:21.193Z"
   },
   {
    "duration": 51,
    "start_time": "2022-03-28T16:00:15.821Z"
   },
   {
    "duration": 1282,
    "start_time": "2022-03-28T16:00:17.238Z"
   },
   {
    "duration": 422,
    "start_time": "2022-03-28T16:00:18.522Z"
   },
   {
    "duration": 1167,
    "start_time": "2022-03-28T16:00:23.887Z"
   },
   {
    "duration": 391,
    "start_time": "2022-03-28T16:00:25.056Z"
   },
   {
    "duration": 136,
    "start_time": "2022-03-28T16:00:25.448Z"
   },
   {
    "duration": 55,
    "start_time": "2022-03-28T16:00:25.586Z"
   },
   {
    "duration": 278,
    "start_time": "2022-03-28T16:00:25.642Z"
   },
   {
    "duration": 14,
    "start_time": "2022-03-28T16:00:25.921Z"
   },
   {
    "duration": 81,
    "start_time": "2022-03-28T16:00:25.937Z"
   },
   {
    "duration": 32,
    "start_time": "2022-03-28T16:00:26.019Z"
   },
   {
    "duration": 102,
    "start_time": "2022-03-28T16:00:26.053Z"
   },
   {
    "duration": 123,
    "start_time": "2022-03-28T16:00:26.158Z"
   },
   {
    "duration": 0,
    "start_time": "2022-03-28T16:00:26.283Z"
   },
   {
    "duration": 0,
    "start_time": "2022-03-28T16:00:26.285Z"
   },
   {
    "duration": 0,
    "start_time": "2022-03-28T16:00:26.286Z"
   },
   {
    "duration": 0,
    "start_time": "2022-03-28T16:00:26.287Z"
   },
   {
    "duration": 0,
    "start_time": "2022-03-28T16:00:26.288Z"
   },
   {
    "duration": 0,
    "start_time": "2022-03-28T16:00:26.289Z"
   },
   {
    "duration": 0,
    "start_time": "2022-03-28T16:00:26.290Z"
   },
   {
    "duration": 0,
    "start_time": "2022-03-28T16:00:26.291Z"
   },
   {
    "duration": 0,
    "start_time": "2022-03-28T16:00:26.291Z"
   },
   {
    "duration": 0,
    "start_time": "2022-03-28T16:00:26.292Z"
   },
   {
    "duration": 0,
    "start_time": "2022-03-28T16:00:26.308Z"
   },
   {
    "duration": 0,
    "start_time": "2022-03-28T16:00:26.309Z"
   },
   {
    "duration": 0,
    "start_time": "2022-03-28T16:00:26.310Z"
   },
   {
    "duration": 0,
    "start_time": "2022-03-28T16:00:26.311Z"
   },
   {
    "duration": 0,
    "start_time": "2022-03-28T16:00:26.312Z"
   },
   {
    "duration": 0,
    "start_time": "2022-03-28T16:00:26.313Z"
   },
   {
    "duration": 0,
    "start_time": "2022-03-28T16:00:26.314Z"
   },
   {
    "duration": 0,
    "start_time": "2022-03-28T16:00:26.315Z"
   },
   {
    "duration": 0,
    "start_time": "2022-03-28T16:00:26.316Z"
   },
   {
    "duration": 0,
    "start_time": "2022-03-28T16:00:26.317Z"
   },
   {
    "duration": 0,
    "start_time": "2022-03-28T16:00:26.318Z"
   },
   {
    "duration": 0,
    "start_time": "2022-03-28T16:00:26.319Z"
   },
   {
    "duration": 0,
    "start_time": "2022-03-28T16:00:26.320Z"
   },
   {
    "duration": 0,
    "start_time": "2022-03-28T16:00:26.321Z"
   },
   {
    "duration": 0,
    "start_time": "2022-03-28T16:00:26.322Z"
   },
   {
    "duration": 0,
    "start_time": "2022-03-28T16:00:26.323Z"
   },
   {
    "duration": 0,
    "start_time": "2022-03-28T16:00:26.324Z"
   },
   {
    "duration": 0,
    "start_time": "2022-03-28T16:00:26.325Z"
   },
   {
    "duration": 0,
    "start_time": "2022-03-28T16:00:26.327Z"
   },
   {
    "duration": 0,
    "start_time": "2022-03-28T16:00:26.328Z"
   },
   {
    "duration": 0,
    "start_time": "2022-03-28T16:00:26.329Z"
   },
   {
    "duration": 0,
    "start_time": "2022-03-28T16:00:26.329Z"
   },
   {
    "duration": 0,
    "start_time": "2022-03-28T16:00:26.330Z"
   },
   {
    "duration": 0,
    "start_time": "2022-03-28T16:00:26.332Z"
   },
   {
    "duration": 0,
    "start_time": "2022-03-28T16:00:26.333Z"
   },
   {
    "duration": 24,
    "start_time": "2022-03-28T16:07:29.214Z"
   },
   {
    "duration": 1087,
    "start_time": "2022-03-28T16:08:23.866Z"
   },
   {
    "duration": 405,
    "start_time": "2022-03-28T16:08:24.955Z"
   },
   {
    "duration": 139,
    "start_time": "2022-03-28T16:08:25.361Z"
   },
   {
    "duration": 54,
    "start_time": "2022-03-28T16:08:25.501Z"
   },
   {
    "duration": 289,
    "start_time": "2022-03-28T16:08:25.557Z"
   },
   {
    "duration": 17,
    "start_time": "2022-03-28T16:08:25.847Z"
   },
   {
    "duration": 85,
    "start_time": "2022-03-28T16:08:25.866Z"
   },
   {
    "duration": 32,
    "start_time": "2022-03-28T16:08:25.953Z"
   },
   {
    "duration": 85,
    "start_time": "2022-03-28T16:08:25.987Z"
   },
   {
    "duration": 37,
    "start_time": "2022-03-28T16:08:26.074Z"
   },
   {
    "duration": 170,
    "start_time": "2022-03-28T16:08:26.113Z"
   },
   {
    "duration": 10,
    "start_time": "2022-03-28T16:08:26.284Z"
   },
   {
    "duration": 185,
    "start_time": "2022-03-28T16:08:26.296Z"
   },
   {
    "duration": 25,
    "start_time": "2022-03-28T16:08:26.484Z"
   },
   {
    "duration": 4,
    "start_time": "2022-03-28T16:08:26.511Z"
   },
   {
    "duration": 24,
    "start_time": "2022-03-28T16:08:26.517Z"
   },
   {
    "duration": 14,
    "start_time": "2022-03-28T16:08:26.543Z"
   },
   {
    "duration": 133,
    "start_time": "2022-03-28T16:08:26.559Z"
   },
   {
    "duration": 25,
    "start_time": "2022-03-28T16:08:26.694Z"
   },
   {
    "duration": 76,
    "start_time": "2022-03-28T16:08:26.720Z"
   },
   {
    "duration": 46,
    "start_time": "2022-03-28T16:08:26.810Z"
   },
   {
    "duration": 63,
    "start_time": "2022-03-28T16:08:26.858Z"
   },
   {
    "duration": 16,
    "start_time": "2022-03-28T16:08:26.923Z"
   },
   {
    "duration": 25,
    "start_time": "2022-03-28T16:08:26.941Z"
   },
   {
    "duration": 15,
    "start_time": "2022-03-28T16:08:26.968Z"
   },
   {
    "duration": 6,
    "start_time": "2022-03-28T16:08:27.009Z"
   },
   {
    "duration": 7,
    "start_time": "2022-03-28T16:08:27.016Z"
   },
   {
    "duration": 7,
    "start_time": "2022-03-28T16:08:27.024Z"
   },
   {
    "duration": 19,
    "start_time": "2022-03-28T16:08:27.033Z"
   },
   {
    "duration": 67,
    "start_time": "2022-03-28T16:08:27.054Z"
   },
   {
    "duration": 39,
    "start_time": "2022-03-28T16:08:27.122Z"
   },
   {
    "duration": 61,
    "start_time": "2022-03-28T16:08:27.163Z"
   },
   {
    "duration": 4,
    "start_time": "2022-03-28T16:08:27.226Z"
   },
   {
    "duration": 15,
    "start_time": "2022-03-28T16:08:27.232Z"
   },
   {
    "duration": 215,
    "start_time": "2022-03-28T16:08:27.249Z"
   },
   {
    "duration": 17,
    "start_time": "2022-03-28T16:08:27.466Z"
   },
   {
    "duration": 25,
    "start_time": "2022-03-28T16:08:27.485Z"
   },
   {
    "duration": 193,
    "start_time": "2022-03-28T16:08:27.512Z"
   },
   {
    "duration": 205,
    "start_time": "2022-03-28T16:08:27.709Z"
   },
   {
    "duration": 17,
    "start_time": "2022-03-28T16:08:27.915Z"
   },
   {
    "duration": 5,
    "start_time": "2022-03-28T16:08:27.936Z"
   },
   {
    "duration": 8,
    "start_time": "2022-03-28T16:08:27.942Z"
   },
   {
    "duration": 10,
    "start_time": "2022-03-28T16:08:27.951Z"
   },
   {
    "duration": 51,
    "start_time": "2022-03-28T16:08:27.963Z"
   },
   {
    "duration": 11,
    "start_time": "2022-03-28T16:08:28.016Z"
   },
   {
    "duration": 5,
    "start_time": "2022-03-28T16:11:18.377Z"
   },
   {
    "duration": 4,
    "start_time": "2022-03-28T16:11:45.343Z"
   },
   {
    "duration": 4,
    "start_time": "2022-03-28T16:11:59.194Z"
   },
   {
    "duration": 4,
    "start_time": "2022-03-28T16:12:25.681Z"
   },
   {
    "duration": 5,
    "start_time": "2022-03-28T16:12:41.104Z"
   },
   {
    "duration": 4,
    "start_time": "2022-03-28T16:12:52.388Z"
   },
   {
    "duration": 4,
    "start_time": "2022-03-28T16:13:28.241Z"
   },
   {
    "duration": 4,
    "start_time": "2022-03-28T16:13:28.705Z"
   },
   {
    "duration": 4,
    "start_time": "2022-03-28T16:13:29.282Z"
   },
   {
    "duration": 108,
    "start_time": "2022-03-28T16:13:42.113Z"
   },
   {
    "duration": 147,
    "start_time": "2022-03-28T16:14:43.061Z"
   },
   {
    "duration": 1083,
    "start_time": "2022-03-28T16:14:51.724Z"
   },
   {
    "duration": 71,
    "start_time": "2022-03-28T16:15:01.084Z"
   },
   {
    "duration": 899,
    "start_time": "2022-03-28T16:15:37.408Z"
   },
   {
    "duration": 32,
    "start_time": "2022-03-28T16:15:38.362Z"
   },
   {
    "duration": 1110,
    "start_time": "2022-03-28T16:16:04.550Z"
   },
   {
    "duration": 439,
    "start_time": "2022-03-28T16:16:05.662Z"
   },
   {
    "duration": 136,
    "start_time": "2022-03-28T16:16:06.103Z"
   },
   {
    "duration": 47,
    "start_time": "2022-03-28T16:16:06.241Z"
   },
   {
    "duration": 275,
    "start_time": "2022-03-28T16:16:06.289Z"
   },
   {
    "duration": 15,
    "start_time": "2022-03-28T16:16:06.566Z"
   },
   {
    "duration": 79,
    "start_time": "2022-03-28T16:16:06.583Z"
   },
   {
    "duration": 45,
    "start_time": "2022-03-28T16:16:06.664Z"
   },
   {
    "duration": 75,
    "start_time": "2022-03-28T16:16:06.711Z"
   },
   {
    "duration": 27,
    "start_time": "2022-03-28T16:16:06.808Z"
   },
   {
    "duration": 177,
    "start_time": "2022-03-28T16:16:06.837Z"
   },
   {
    "duration": 10,
    "start_time": "2022-03-28T16:16:07.015Z"
   },
   {
    "duration": 170,
    "start_time": "2022-03-28T16:16:07.026Z"
   },
   {
    "duration": 20,
    "start_time": "2022-03-28T16:16:07.197Z"
   },
   {
    "duration": 5,
    "start_time": "2022-03-28T16:16:07.219Z"
   },
   {
    "duration": 23,
    "start_time": "2022-03-28T16:16:07.225Z"
   },
   {
    "duration": 14,
    "start_time": "2022-03-28T16:16:07.250Z"
   },
   {
    "duration": 130,
    "start_time": "2022-03-28T16:16:07.266Z"
   },
   {
    "duration": 23,
    "start_time": "2022-03-28T16:16:07.398Z"
   },
   {
    "duration": 85,
    "start_time": "2022-03-28T16:16:07.423Z"
   },
   {
    "duration": 4,
    "start_time": "2022-03-28T16:16:07.509Z"
   },
   {
    "duration": 43,
    "start_time": "2022-03-28T16:16:07.514Z"
   },
   {
    "duration": 4,
    "start_time": "2022-03-28T16:16:07.559Z"
   },
   {
    "duration": 63,
    "start_time": "2022-03-28T16:16:07.564Z"
   },
   {
    "duration": 3,
    "start_time": "2022-03-28T16:16:07.629Z"
   },
   {
    "duration": 18,
    "start_time": "2022-03-28T16:16:07.633Z"
   },
   {
    "duration": 24,
    "start_time": "2022-03-28T16:16:07.653Z"
   },
   {
    "duration": 28,
    "start_time": "2022-03-28T16:16:07.681Z"
   },
   {
    "duration": 4,
    "start_time": "2022-03-28T16:16:07.711Z"
   },
   {
    "duration": 8,
    "start_time": "2022-03-28T16:16:07.716Z"
   },
   {
    "duration": 20,
    "start_time": "2022-03-28T16:16:07.726Z"
   },
   {
    "duration": 5,
    "start_time": "2022-03-28T16:16:07.747Z"
   },
   {
    "duration": 7,
    "start_time": "2022-03-28T16:16:07.754Z"
   },
   {
    "duration": 6,
    "start_time": "2022-03-28T16:16:07.762Z"
   },
   {
    "duration": 44,
    "start_time": "2022-03-28T16:16:07.770Z"
   },
   {
    "duration": 41,
    "start_time": "2022-03-28T16:16:07.816Z"
   },
   {
    "duration": 56,
    "start_time": "2022-03-28T16:16:07.859Z"
   },
   {
    "duration": 45,
    "start_time": "2022-03-28T16:16:07.917Z"
   },
   {
    "duration": 4,
    "start_time": "2022-03-28T16:16:07.963Z"
   },
   {
    "duration": 20,
    "start_time": "2022-03-28T16:16:07.969Z"
   },
   {
    "duration": 214,
    "start_time": "2022-03-28T16:16:07.991Z"
   },
   {
    "duration": 16,
    "start_time": "2022-03-28T16:16:08.208Z"
   },
   {
    "duration": 5,
    "start_time": "2022-03-28T16:16:08.225Z"
   },
   {
    "duration": 208,
    "start_time": "2022-03-28T16:16:08.231Z"
   },
   {
    "duration": 201,
    "start_time": "2022-03-28T16:16:08.441Z"
   },
   {
    "duration": 18,
    "start_time": "2022-03-28T16:16:08.645Z"
   },
   {
    "duration": 5,
    "start_time": "2022-03-28T16:16:08.665Z"
   },
   {
    "duration": 38,
    "start_time": "2022-03-28T16:16:08.672Z"
   },
   {
    "duration": 11,
    "start_time": "2022-03-28T16:16:08.712Z"
   },
   {
    "duration": 10,
    "start_time": "2022-03-28T16:16:08.725Z"
   },
   {
    "duration": 12,
    "start_time": "2022-03-28T16:16:08.737Z"
   },
   {
    "duration": 1128,
    "start_time": "2022-03-28T16:16:53.026Z"
   },
   {
    "duration": 404,
    "start_time": "2022-03-28T16:16:54.156Z"
   },
   {
    "duration": 151,
    "start_time": "2022-03-28T16:16:54.562Z"
   },
   {
    "duration": 48,
    "start_time": "2022-03-28T16:16:54.715Z"
   },
   {
    "duration": 296,
    "start_time": "2022-03-28T16:16:54.764Z"
   },
   {
    "duration": 16,
    "start_time": "2022-03-28T16:16:55.061Z"
   },
   {
    "duration": 83,
    "start_time": "2022-03-28T16:16:55.079Z"
   },
   {
    "duration": 49,
    "start_time": "2022-03-28T16:16:55.164Z"
   },
   {
    "duration": 72,
    "start_time": "2022-03-28T16:16:55.215Z"
   },
   {
    "duration": 38,
    "start_time": "2022-03-28T16:16:55.290Z"
   },
   {
    "duration": 178,
    "start_time": "2022-03-28T16:16:55.330Z"
   },
   {
    "duration": 10,
    "start_time": "2022-03-28T16:16:55.510Z"
   },
   {
    "duration": 179,
    "start_time": "2022-03-28T16:16:55.522Z"
   },
   {
    "duration": 20,
    "start_time": "2022-03-28T16:16:55.703Z"
   },
   {
    "duration": 4,
    "start_time": "2022-03-28T16:16:55.725Z"
   },
   {
    "duration": 23,
    "start_time": "2022-03-28T16:16:55.731Z"
   },
   {
    "duration": 13,
    "start_time": "2022-03-28T16:16:55.756Z"
   },
   {
    "duration": 149,
    "start_time": "2022-03-28T16:16:55.771Z"
   },
   {
    "duration": 15,
    "start_time": "2022-03-28T16:16:55.922Z"
   },
   {
    "duration": 92,
    "start_time": "2022-03-28T16:16:55.938Z"
   },
   {
    "duration": 4,
    "start_time": "2022-03-28T16:16:56.032Z"
   },
   {
    "duration": 45,
    "start_time": "2022-03-28T16:16:56.037Z"
   },
   {
    "duration": 3,
    "start_time": "2022-03-28T16:16:56.084Z"
   },
   {
    "duration": 44,
    "start_time": "2022-03-28T16:16:56.109Z"
   },
   {
    "duration": 5,
    "start_time": "2022-03-28T16:16:56.155Z"
   },
   {
    "duration": 49,
    "start_time": "2022-03-28T16:16:56.162Z"
   },
   {
    "duration": 33,
    "start_time": "2022-03-28T16:16:56.214Z"
   },
   {
    "duration": 5,
    "start_time": "2022-03-28T16:16:56.250Z"
   },
   {
    "duration": 6,
    "start_time": "2022-03-28T16:16:56.257Z"
   },
   {
    "duration": 8,
    "start_time": "2022-03-28T16:16:56.264Z"
   },
   {
    "duration": 40,
    "start_time": "2022-03-28T16:16:56.274Z"
   },
   {
    "duration": 5,
    "start_time": "2022-03-28T16:16:56.315Z"
   },
   {
    "duration": 10,
    "start_time": "2022-03-28T16:16:56.322Z"
   },
   {
    "duration": 7,
    "start_time": "2022-03-28T16:16:56.333Z"
   },
   {
    "duration": 18,
    "start_time": "2022-03-28T16:16:56.342Z"
   },
   {
    "duration": 62,
    "start_time": "2022-03-28T16:16:56.362Z"
   },
   {
    "duration": 37,
    "start_time": "2022-03-28T16:16:56.426Z"
   },
   {
    "duration": 56,
    "start_time": "2022-03-28T16:16:56.464Z"
   },
   {
    "duration": 4,
    "start_time": "2022-03-28T16:16:56.522Z"
   },
   {
    "duration": 15,
    "start_time": "2022-03-28T16:16:56.527Z"
   },
   {
    "duration": 222,
    "start_time": "2022-03-28T16:16:56.544Z"
   },
   {
    "duration": 17,
    "start_time": "2022-03-28T16:16:56.768Z"
   },
   {
    "duration": 22,
    "start_time": "2022-03-28T16:16:56.787Z"
   },
   {
    "duration": 203,
    "start_time": "2022-03-28T16:16:56.811Z"
   },
   {
    "duration": 203,
    "start_time": "2022-03-28T16:16:57.016Z"
   },
   {
    "duration": 18,
    "start_time": "2022-03-28T16:16:57.221Z"
   },
   {
    "duration": 5,
    "start_time": "2022-03-28T16:16:57.241Z"
   },
   {
    "duration": 8,
    "start_time": "2022-03-28T16:16:57.248Z"
   },
   {
    "duration": 51,
    "start_time": "2022-03-28T16:16:57.258Z"
   },
   {
    "duration": 9,
    "start_time": "2022-03-28T16:16:57.311Z"
   },
   {
    "duration": 12,
    "start_time": "2022-03-28T16:16:57.322Z"
   },
   {
    "duration": 1055,
    "start_time": "2022-03-28T16:18:34.846Z"
   },
   {
    "duration": 419,
    "start_time": "2022-03-28T16:18:35.903Z"
   },
   {
    "duration": 130,
    "start_time": "2022-03-28T16:18:36.324Z"
   },
   {
    "duration": 53,
    "start_time": "2022-03-28T16:18:36.455Z"
   },
   {
    "duration": 288,
    "start_time": "2022-03-28T16:18:36.511Z"
   },
   {
    "duration": 16,
    "start_time": "2022-03-28T16:18:36.808Z"
   },
   {
    "duration": 67,
    "start_time": "2022-03-28T16:18:36.826Z"
   },
   {
    "duration": 42,
    "start_time": "2022-03-28T16:18:36.895Z"
   },
   {
    "duration": 94,
    "start_time": "2022-03-28T16:18:36.939Z"
   },
   {
    "duration": 26,
    "start_time": "2022-03-28T16:18:37.035Z"
   },
   {
    "duration": 182,
    "start_time": "2022-03-28T16:18:37.063Z"
   },
   {
    "duration": 10,
    "start_time": "2022-03-28T16:18:37.247Z"
   },
   {
    "duration": 173,
    "start_time": "2022-03-28T16:18:37.259Z"
   },
   {
    "duration": 15,
    "start_time": "2022-03-28T16:18:37.436Z"
   },
   {
    "duration": 5,
    "start_time": "2022-03-28T16:18:37.453Z"
   },
   {
    "duration": 23,
    "start_time": "2022-03-28T16:18:37.459Z"
   },
   {
    "duration": 17,
    "start_time": "2022-03-28T16:18:37.508Z"
   },
   {
    "duration": 138,
    "start_time": "2022-03-28T16:18:37.526Z"
   },
   {
    "duration": 13,
    "start_time": "2022-03-28T16:18:37.666Z"
   },
   {
    "duration": 77,
    "start_time": "2022-03-28T16:18:37.681Z"
   },
   {
    "duration": 5,
    "start_time": "2022-03-28T16:18:37.760Z"
   },
   {
    "duration": 61,
    "start_time": "2022-03-28T16:18:37.766Z"
   },
   {
    "duration": 4,
    "start_time": "2022-03-28T16:18:37.829Z"
   },
   {
    "duration": 44,
    "start_time": "2022-03-28T16:18:37.835Z"
   },
   {
    "duration": 4,
    "start_time": "2022-03-28T16:18:37.881Z"
   },
   {
    "duration": 35,
    "start_time": "2022-03-28T16:18:37.887Z"
   },
   {
    "duration": 30,
    "start_time": "2022-03-28T16:18:37.923Z"
   },
   {
    "duration": 5,
    "start_time": "2022-03-28T16:18:37.954Z"
   },
   {
    "duration": 5,
    "start_time": "2022-03-28T16:18:37.961Z"
   },
   {
    "duration": 6,
    "start_time": "2022-03-28T16:18:37.968Z"
   },
   {
    "duration": 20,
    "start_time": "2022-03-28T16:18:38.009Z"
   },
   {
    "duration": 7,
    "start_time": "2022-03-28T16:18:38.031Z"
   },
   {
    "duration": 6,
    "start_time": "2022-03-28T16:18:38.039Z"
   },
   {
    "duration": 128,
    "start_time": "2022-03-28T16:18:38.046Z"
   },
   {
    "duration": 0,
    "start_time": "2022-03-28T16:18:38.178Z"
   },
   {
    "duration": 0,
    "start_time": "2022-03-28T16:18:38.179Z"
   },
   {
    "duration": 0,
    "start_time": "2022-03-28T16:18:38.180Z"
   },
   {
    "duration": 0,
    "start_time": "2022-03-28T16:18:38.182Z"
   },
   {
    "duration": 0,
    "start_time": "2022-03-28T16:18:38.184Z"
   },
   {
    "duration": 0,
    "start_time": "2022-03-28T16:18:38.186Z"
   },
   {
    "duration": 0,
    "start_time": "2022-03-28T16:18:38.187Z"
   },
   {
    "duration": 0,
    "start_time": "2022-03-28T16:18:38.209Z"
   },
   {
    "duration": 0,
    "start_time": "2022-03-28T16:18:38.211Z"
   },
   {
    "duration": 0,
    "start_time": "2022-03-28T16:18:38.213Z"
   },
   {
    "duration": 0,
    "start_time": "2022-03-28T16:18:38.214Z"
   },
   {
    "duration": 0,
    "start_time": "2022-03-28T16:18:38.215Z"
   },
   {
    "duration": 0,
    "start_time": "2022-03-28T16:18:38.217Z"
   },
   {
    "duration": 0,
    "start_time": "2022-03-28T16:18:38.219Z"
   },
   {
    "duration": 0,
    "start_time": "2022-03-28T16:18:38.221Z"
   },
   {
    "duration": 0,
    "start_time": "2022-03-28T16:18:38.222Z"
   },
   {
    "duration": 0,
    "start_time": "2022-03-28T16:18:38.224Z"
   },
   {
    "duration": 1179,
    "start_time": "2022-03-28T16:19:09.373Z"
   },
   {
    "duration": 421,
    "start_time": "2022-03-28T16:19:10.554Z"
   },
   {
    "duration": 148,
    "start_time": "2022-03-28T16:19:10.977Z"
   },
   {
    "duration": 54,
    "start_time": "2022-03-28T16:19:11.127Z"
   },
   {
    "duration": 382,
    "start_time": "2022-03-28T16:19:11.183Z"
   },
   {
    "duration": 23,
    "start_time": "2022-03-28T16:19:11.568Z"
   },
   {
    "duration": 126,
    "start_time": "2022-03-28T16:19:11.609Z"
   },
   {
    "duration": 52,
    "start_time": "2022-03-28T16:19:11.737Z"
   },
   {
    "duration": 691,
    "start_time": "2022-03-28T16:19:11.791Z"
   },
   {
    "duration": 36,
    "start_time": "2022-03-28T16:19:12.484Z"
   },
   {
    "duration": 184,
    "start_time": "2022-03-28T16:19:12.521Z"
   },
   {
    "duration": 10,
    "start_time": "2022-03-28T16:19:12.709Z"
   },
   {
    "duration": 203,
    "start_time": "2022-03-28T16:19:12.720Z"
   },
   {
    "duration": 17,
    "start_time": "2022-03-28T16:19:12.926Z"
   },
   {
    "duration": 91,
    "start_time": "2022-03-28T16:19:12.944Z"
   },
   {
    "duration": 123,
    "start_time": "2022-03-28T16:19:13.036Z"
   },
   {
    "duration": 79,
    "start_time": "2022-03-28T16:19:13.160Z"
   },
   {
    "duration": 252,
    "start_time": "2022-03-28T16:19:13.242Z"
   },
   {
    "duration": 24,
    "start_time": "2022-03-28T16:19:13.496Z"
   },
   {
    "duration": 175,
    "start_time": "2022-03-28T16:19:13.522Z"
   },
   {
    "duration": 53,
    "start_time": "2022-03-28T16:19:13.699Z"
   },
   {
    "duration": 203,
    "start_time": "2022-03-28T16:19:13.753Z"
   },
   {
    "duration": 34,
    "start_time": "2022-03-28T16:19:13.959Z"
   },
   {
    "duration": 140,
    "start_time": "2022-03-28T16:19:13.994Z"
   },
   {
    "duration": 71,
    "start_time": "2022-03-28T16:19:14.136Z"
   },
   {
    "duration": 158,
    "start_time": "2022-03-28T16:19:14.208Z"
   },
   {
    "duration": 132,
    "start_time": "2022-03-28T16:19:14.367Z"
   },
   {
    "duration": 78,
    "start_time": "2022-03-28T16:19:14.501Z"
   },
   {
    "duration": 90,
    "start_time": "2022-03-28T16:19:14.581Z"
   },
   {
    "duration": 79,
    "start_time": "2022-03-28T16:19:14.673Z"
   },
   {
    "duration": 117,
    "start_time": "2022-03-28T16:19:14.753Z"
   },
   {
    "duration": 202,
    "start_time": "2022-03-28T16:19:14.872Z"
   },
   {
    "duration": 116,
    "start_time": "2022-03-28T16:19:15.076Z"
   },
   {
    "duration": 282,
    "start_time": "2022-03-28T16:19:15.194Z"
   },
   {
    "duration": 0,
    "start_time": "2022-03-28T16:19:15.478Z"
   },
   {
    "duration": 0,
    "start_time": "2022-03-28T16:19:15.480Z"
   },
   {
    "duration": 0,
    "start_time": "2022-03-28T16:19:15.481Z"
   },
   {
    "duration": 0,
    "start_time": "2022-03-28T16:19:15.482Z"
   },
   {
    "duration": 0,
    "start_time": "2022-03-28T16:19:15.483Z"
   },
   {
    "duration": 0,
    "start_time": "2022-03-28T16:19:15.485Z"
   },
   {
    "duration": 0,
    "start_time": "2022-03-28T16:19:15.485Z"
   },
   {
    "duration": 0,
    "start_time": "2022-03-28T16:19:15.486Z"
   },
   {
    "duration": 0,
    "start_time": "2022-03-28T16:19:15.487Z"
   },
   {
    "duration": 0,
    "start_time": "2022-03-28T16:19:15.509Z"
   },
   {
    "duration": 0,
    "start_time": "2022-03-28T16:19:15.510Z"
   },
   {
    "duration": 0,
    "start_time": "2022-03-28T16:19:15.512Z"
   },
   {
    "duration": 0,
    "start_time": "2022-03-28T16:19:15.513Z"
   },
   {
    "duration": 0,
    "start_time": "2022-03-28T16:19:15.514Z"
   },
   {
    "duration": 0,
    "start_time": "2022-03-28T16:19:15.515Z"
   },
   {
    "duration": 0,
    "start_time": "2022-03-28T16:19:15.516Z"
   },
   {
    "duration": 0,
    "start_time": "2022-03-28T16:19:15.517Z"
   },
   {
    "duration": 37,
    "start_time": "2022-03-28T16:22:15.321Z"
   },
   {
    "duration": 5,
    "start_time": "2022-03-28T16:24:19.454Z"
   },
   {
    "duration": 6,
    "start_time": "2022-03-28T16:25:46.654Z"
   },
   {
    "duration": 6,
    "start_time": "2022-03-28T16:27:08.005Z"
   },
   {
    "duration": 12,
    "start_time": "2022-03-28T16:27:12.981Z"
   },
   {
    "duration": 11,
    "start_time": "2022-03-28T16:27:32.591Z"
   },
   {
    "duration": 1106,
    "start_time": "2022-03-28T16:27:43.051Z"
   },
   {
    "duration": 413,
    "start_time": "2022-03-28T16:27:44.159Z"
   },
   {
    "duration": 144,
    "start_time": "2022-03-28T16:27:44.574Z"
   },
   {
    "duration": 50,
    "start_time": "2022-03-28T16:27:44.720Z"
   },
   {
    "duration": 281,
    "start_time": "2022-03-28T16:27:44.772Z"
   },
   {
    "duration": 17,
    "start_time": "2022-03-28T16:27:45.055Z"
   },
   {
    "duration": 80,
    "start_time": "2022-03-28T16:27:45.073Z"
   },
   {
    "duration": 31,
    "start_time": "2022-03-28T16:27:45.155Z"
   },
   {
    "duration": 87,
    "start_time": "2022-03-28T16:27:45.188Z"
   },
   {
    "duration": 42,
    "start_time": "2022-03-28T16:27:45.278Z"
   },
   {
    "duration": 162,
    "start_time": "2022-03-28T16:27:45.322Z"
   },
   {
    "duration": 10,
    "start_time": "2022-03-28T16:27:45.486Z"
   },
   {
    "duration": 159,
    "start_time": "2022-03-28T16:27:45.509Z"
   },
   {
    "duration": 15,
    "start_time": "2022-03-28T16:27:45.670Z"
   },
   {
    "duration": 4,
    "start_time": "2022-03-28T16:27:45.686Z"
   },
   {
    "duration": 21,
    "start_time": "2022-03-28T16:27:45.708Z"
   },
   {
    "duration": 13,
    "start_time": "2022-03-28T16:27:45.731Z"
   },
   {
    "duration": 123,
    "start_time": "2022-03-28T16:27:45.746Z"
   },
   {
    "duration": 15,
    "start_time": "2022-03-28T16:27:45.870Z"
   },
   {
    "duration": 86,
    "start_time": "2022-03-28T16:27:45.887Z"
   },
   {
    "duration": 52,
    "start_time": "2022-03-28T16:27:45.975Z"
   },
   {
    "duration": 48,
    "start_time": "2022-03-28T16:27:46.029Z"
   },
   {
    "duration": 5,
    "start_time": "2022-03-28T16:27:46.079Z"
   },
   {
    "duration": 23,
    "start_time": "2022-03-28T16:27:46.109Z"
   },
   {
    "duration": 29,
    "start_time": "2022-03-28T16:27:46.134Z"
   },
   {
    "duration": 5,
    "start_time": "2022-03-28T16:27:46.166Z"
   },
   {
    "duration": 57,
    "start_time": "2022-03-28T16:27:46.173Z"
   },
   {
    "duration": 6,
    "start_time": "2022-03-28T16:27:46.234Z"
   },
   {
    "duration": 13,
    "start_time": "2022-03-28T16:27:46.242Z"
   },
   {
    "duration": 4,
    "start_time": "2022-03-28T16:27:46.257Z"
   },
   {
    "duration": 121,
    "start_time": "2022-03-28T16:27:46.263Z"
   },
   {
    "duration": 0,
    "start_time": "2022-03-28T16:27:46.386Z"
   },
   {
    "duration": 0,
    "start_time": "2022-03-28T16:27:46.387Z"
   },
   {
    "duration": 0,
    "start_time": "2022-03-28T16:27:46.388Z"
   },
   {
    "duration": 0,
    "start_time": "2022-03-28T16:27:46.389Z"
   },
   {
    "duration": 0,
    "start_time": "2022-03-28T16:27:46.390Z"
   },
   {
    "duration": 0,
    "start_time": "2022-03-28T16:27:46.391Z"
   },
   {
    "duration": 0,
    "start_time": "2022-03-28T16:27:46.392Z"
   },
   {
    "duration": 0,
    "start_time": "2022-03-28T16:27:46.409Z"
   },
   {
    "duration": 0,
    "start_time": "2022-03-28T16:27:46.410Z"
   },
   {
    "duration": 0,
    "start_time": "2022-03-28T16:27:46.411Z"
   },
   {
    "duration": 0,
    "start_time": "2022-03-28T16:27:46.412Z"
   },
   {
    "duration": 0,
    "start_time": "2022-03-28T16:27:46.413Z"
   },
   {
    "duration": 0,
    "start_time": "2022-03-28T16:27:46.413Z"
   },
   {
    "duration": 0,
    "start_time": "2022-03-28T16:27:46.415Z"
   },
   {
    "duration": 0,
    "start_time": "2022-03-28T16:27:46.416Z"
   },
   {
    "duration": 0,
    "start_time": "2022-03-28T16:27:46.418Z"
   },
   {
    "duration": 0,
    "start_time": "2022-03-28T16:27:46.419Z"
   },
   {
    "duration": 17,
    "start_time": "2022-03-28T16:28:21.426Z"
   },
   {
    "duration": 10,
    "start_time": "2022-03-28T16:28:46.802Z"
   },
   {
    "duration": 22,
    "start_time": "2022-03-28T16:29:23.175Z"
   },
   {
    "duration": 1046,
    "start_time": "2022-03-28T16:29:58.611Z"
   },
   {
    "duration": 385,
    "start_time": "2022-03-28T16:29:59.659Z"
   },
   {
    "duration": 137,
    "start_time": "2022-03-28T16:30:00.046Z"
   },
   {
    "duration": 50,
    "start_time": "2022-03-28T16:30:00.185Z"
   },
   {
    "duration": 299,
    "start_time": "2022-03-28T16:30:00.238Z"
   },
   {
    "duration": 16,
    "start_time": "2022-03-28T16:30:00.538Z"
   },
   {
    "duration": 85,
    "start_time": "2022-03-28T16:30:00.556Z"
   },
   {
    "duration": 32,
    "start_time": "2022-03-28T16:30:00.642Z"
   },
   {
    "duration": 92,
    "start_time": "2022-03-28T16:30:00.676Z"
   },
   {
    "duration": 25,
    "start_time": "2022-03-28T16:30:00.770Z"
   },
   {
    "duration": 183,
    "start_time": "2022-03-28T16:30:00.796Z"
   },
   {
    "duration": 9,
    "start_time": "2022-03-28T16:30:00.981Z"
   },
   {
    "duration": 193,
    "start_time": "2022-03-28T16:30:00.992Z"
   },
   {
    "duration": 26,
    "start_time": "2022-03-28T16:30:01.188Z"
   },
   {
    "duration": 12,
    "start_time": "2022-03-28T16:30:01.215Z"
   },
   {
    "duration": 50,
    "start_time": "2022-03-28T16:30:01.229Z"
   },
   {
    "duration": 32,
    "start_time": "2022-03-28T16:30:01.281Z"
   },
   {
    "duration": 144,
    "start_time": "2022-03-28T16:30:01.315Z"
   },
   {
    "duration": 15,
    "start_time": "2022-03-28T16:30:01.461Z"
   },
   {
    "duration": 113,
    "start_time": "2022-03-28T16:30:01.477Z"
   },
   {
    "duration": 43,
    "start_time": "2022-03-28T16:30:01.592Z"
   },
   {
    "duration": 44,
    "start_time": "2022-03-28T16:30:01.637Z"
   },
   {
    "duration": 11,
    "start_time": "2022-03-28T16:30:01.682Z"
   },
   {
    "duration": 115,
    "start_time": "2022-03-28T16:30:01.695Z"
   },
   {
    "duration": 56,
    "start_time": "2022-03-28T16:30:01.812Z"
   },
   {
    "duration": 6,
    "start_time": "2022-03-28T16:30:01.869Z"
   },
   {
    "duration": 43,
    "start_time": "2022-03-28T16:30:01.876Z"
   },
   {
    "duration": 32,
    "start_time": "2022-03-28T16:30:01.920Z"
   },
   {
    "duration": 15,
    "start_time": "2022-03-28T16:30:01.954Z"
   },
   {
    "duration": 21,
    "start_time": "2022-03-28T16:30:01.971Z"
   },
   {
    "duration": 31,
    "start_time": "2022-03-28T16:30:01.994Z"
   },
   {
    "duration": 18,
    "start_time": "2022-03-28T16:30:02.027Z"
   },
   {
    "duration": 40,
    "start_time": "2022-03-28T16:30:02.047Z"
   },
   {
    "duration": 39,
    "start_time": "2022-03-28T16:30:02.089Z"
   },
   {
    "duration": 37,
    "start_time": "2022-03-28T16:30:02.130Z"
   },
   {
    "duration": 55,
    "start_time": "2022-03-28T16:30:02.169Z"
   },
   {
    "duration": 4,
    "start_time": "2022-03-28T16:30:02.226Z"
   },
   {
    "duration": 22,
    "start_time": "2022-03-28T16:30:02.232Z"
   },
   {
    "duration": 225,
    "start_time": "2022-03-28T16:30:02.256Z"
   },
   {
    "duration": 28,
    "start_time": "2022-03-28T16:30:02.482Z"
   },
   {
    "duration": 5,
    "start_time": "2022-03-28T16:30:02.514Z"
   },
   {
    "duration": 204,
    "start_time": "2022-03-28T16:30:02.520Z"
   },
   {
    "duration": 196,
    "start_time": "2022-03-28T16:30:02.725Z"
   },
   {
    "duration": 17,
    "start_time": "2022-03-28T16:30:02.922Z"
   },
   {
    "duration": 4,
    "start_time": "2022-03-28T16:30:02.941Z"
   },
   {
    "duration": 11,
    "start_time": "2022-03-28T16:30:02.947Z"
   },
   {
    "duration": 11,
    "start_time": "2022-03-28T16:30:02.960Z"
   },
   {
    "duration": 44,
    "start_time": "2022-03-28T16:30:02.973Z"
   },
   {
    "duration": 17,
    "start_time": "2022-03-28T16:30:03.019Z"
   },
   {
    "duration": 10,
    "start_time": "2022-03-28T16:31:30.776Z"
   },
   {
    "duration": 1070,
    "start_time": "2022-03-28T16:31:37.299Z"
   },
   {
    "duration": 397,
    "start_time": "2022-03-28T16:31:38.371Z"
   },
   {
    "duration": 138,
    "start_time": "2022-03-28T16:31:38.770Z"
   },
   {
    "duration": 47,
    "start_time": "2022-03-28T16:31:38.910Z"
   },
   {
    "duration": 284,
    "start_time": "2022-03-28T16:31:38.959Z"
   },
   {
    "duration": 16,
    "start_time": "2022-03-28T16:31:39.244Z"
   },
   {
    "duration": 78,
    "start_time": "2022-03-28T16:31:39.261Z"
   },
   {
    "duration": 31,
    "start_time": "2022-03-28T16:31:39.340Z"
   },
   {
    "duration": 94,
    "start_time": "2022-03-28T16:31:39.373Z"
   },
   {
    "duration": 24,
    "start_time": "2022-03-28T16:31:39.469Z"
   },
   {
    "duration": 186,
    "start_time": "2022-03-28T16:31:39.495Z"
   },
   {
    "duration": 9,
    "start_time": "2022-03-28T16:31:39.683Z"
   },
   {
    "duration": 172,
    "start_time": "2022-03-28T16:31:39.694Z"
   },
   {
    "duration": 16,
    "start_time": "2022-03-28T16:31:39.869Z"
   },
   {
    "duration": 21,
    "start_time": "2022-03-28T16:31:39.887Z"
   },
   {
    "duration": 23,
    "start_time": "2022-03-28T16:31:39.910Z"
   },
   {
    "duration": 14,
    "start_time": "2022-03-28T16:31:39.935Z"
   },
   {
    "duration": 123,
    "start_time": "2022-03-28T16:31:39.951Z"
   },
   {
    "duration": 15,
    "start_time": "2022-03-28T16:31:40.076Z"
   },
   {
    "duration": 69,
    "start_time": "2022-03-28T16:31:40.110Z"
   },
   {
    "duration": 58,
    "start_time": "2022-03-28T16:31:40.181Z"
   },
   {
    "duration": 42,
    "start_time": "2022-03-28T16:31:40.240Z"
   },
   {
    "duration": 4,
    "start_time": "2022-03-28T16:31:40.284Z"
   },
   {
    "duration": 34,
    "start_time": "2022-03-28T16:31:40.290Z"
   },
   {
    "duration": 27,
    "start_time": "2022-03-28T16:31:40.326Z"
   },
   {
    "duration": 5,
    "start_time": "2022-03-28T16:31:40.355Z"
   },
   {
    "duration": 58,
    "start_time": "2022-03-28T16:31:40.361Z"
   },
   {
    "duration": 25,
    "start_time": "2022-03-28T16:31:40.420Z"
   },
   {
    "duration": 7,
    "start_time": "2022-03-28T16:31:40.447Z"
   },
   {
    "duration": 13,
    "start_time": "2022-03-28T16:31:40.455Z"
   },
   {
    "duration": 4,
    "start_time": "2022-03-28T16:31:40.469Z"
   },
   {
    "duration": 9,
    "start_time": "2022-03-28T16:31:40.475Z"
   },
   {
    "duration": 45,
    "start_time": "2022-03-28T16:31:40.486Z"
   },
   {
    "duration": 40,
    "start_time": "2022-03-28T16:31:40.533Z"
   },
   {
    "duration": 58,
    "start_time": "2022-03-28T16:31:40.575Z"
   },
   {
    "duration": 47,
    "start_time": "2022-03-28T16:31:40.634Z"
   },
   {
    "duration": 4,
    "start_time": "2022-03-28T16:31:40.683Z"
   },
   {
    "duration": 32,
    "start_time": "2022-03-28T16:31:40.689Z"
   },
   {
    "duration": 218,
    "start_time": "2022-03-28T16:31:40.723Z"
   },
   {
    "duration": 17,
    "start_time": "2022-03-28T16:31:40.943Z"
   },
   {
    "duration": 4,
    "start_time": "2022-03-28T16:31:40.963Z"
   },
   {
    "duration": 205,
    "start_time": "2022-03-28T16:31:40.969Z"
   },
   {
    "duration": 194,
    "start_time": "2022-03-28T16:31:41.175Z"
   },
   {
    "duration": 16,
    "start_time": "2022-03-28T16:31:41.371Z"
   },
   {
    "duration": 22,
    "start_time": "2022-03-28T16:31:41.389Z"
   },
   {
    "duration": 8,
    "start_time": "2022-03-28T16:31:41.412Z"
   },
   {
    "duration": 10,
    "start_time": "2022-03-28T16:31:41.422Z"
   },
   {
    "duration": 9,
    "start_time": "2022-03-28T16:31:41.433Z"
   },
   {
    "duration": 18,
    "start_time": "2022-03-28T16:31:41.444Z"
   },
   {
    "duration": 1160,
    "start_time": "2022-03-28T16:35:01.518Z"
   },
   {
    "duration": 409,
    "start_time": "2022-03-28T16:35:02.680Z"
   },
   {
    "duration": 141,
    "start_time": "2022-03-28T16:35:03.090Z"
   },
   {
    "duration": 47,
    "start_time": "2022-03-28T16:35:03.233Z"
   },
   {
    "duration": 286,
    "start_time": "2022-03-28T16:35:03.282Z"
   },
   {
    "duration": 15,
    "start_time": "2022-03-28T16:35:03.570Z"
   },
   {
    "duration": 80,
    "start_time": "2022-03-28T16:35:03.587Z"
   },
   {
    "duration": 45,
    "start_time": "2022-03-28T16:35:03.669Z"
   },
   {
    "duration": 68,
    "start_time": "2022-03-28T16:35:03.716Z"
   },
   {
    "duration": 38,
    "start_time": "2022-03-28T16:35:03.786Z"
   },
   {
    "duration": 169,
    "start_time": "2022-03-28T16:35:03.825Z"
   },
   {
    "duration": 13,
    "start_time": "2022-03-28T16:35:03.996Z"
   },
   {
    "duration": 162,
    "start_time": "2022-03-28T16:35:04.011Z"
   },
   {
    "duration": 15,
    "start_time": "2022-03-28T16:35:04.176Z"
   },
   {
    "duration": 4,
    "start_time": "2022-03-28T16:35:04.209Z"
   },
   {
    "duration": 28,
    "start_time": "2022-03-28T16:35:04.215Z"
   },
   {
    "duration": 14,
    "start_time": "2022-03-28T16:35:04.245Z"
   },
   {
    "duration": 120,
    "start_time": "2022-03-28T16:35:04.260Z"
   },
   {
    "duration": 14,
    "start_time": "2022-03-28T16:35:04.381Z"
   },
   {
    "duration": 76,
    "start_time": "2022-03-28T16:35:04.396Z"
   },
   {
    "duration": 60,
    "start_time": "2022-03-28T16:35:04.474Z"
   },
   {
    "duration": 42,
    "start_time": "2022-03-28T16:35:04.535Z"
   },
   {
    "duration": 4,
    "start_time": "2022-03-28T16:35:04.579Z"
   },
   {
    "duration": 54,
    "start_time": "2022-03-28T16:35:04.585Z"
   },
   {
    "duration": 45,
    "start_time": "2022-03-28T16:35:04.640Z"
   },
   {
    "duration": 24,
    "start_time": "2022-03-28T16:35:04.686Z"
   },
   {
    "duration": 41,
    "start_time": "2022-03-28T16:35:04.712Z"
   },
   {
    "duration": 20,
    "start_time": "2022-03-28T16:35:04.754Z"
   },
   {
    "duration": 54,
    "start_time": "2022-03-28T16:35:04.776Z"
   },
   {
    "duration": 31,
    "start_time": "2022-03-28T16:35:04.832Z"
   },
   {
    "duration": 9,
    "start_time": "2022-03-28T16:35:04.864Z"
   },
   {
    "duration": 121,
    "start_time": "2022-03-28T16:35:04.875Z"
   },
   {
    "duration": 0,
    "start_time": "2022-03-28T16:35:04.998Z"
   },
   {
    "duration": 0,
    "start_time": "2022-03-28T16:35:04.999Z"
   },
   {
    "duration": 0,
    "start_time": "2022-03-28T16:35:05.008Z"
   },
   {
    "duration": 0,
    "start_time": "2022-03-28T16:35:05.010Z"
   },
   {
    "duration": 0,
    "start_time": "2022-03-28T16:35:05.011Z"
   },
   {
    "duration": 0,
    "start_time": "2022-03-28T16:35:05.012Z"
   },
   {
    "duration": 1,
    "start_time": "2022-03-28T16:35:05.012Z"
   },
   {
    "duration": 0,
    "start_time": "2022-03-28T16:35:05.013Z"
   },
   {
    "duration": 0,
    "start_time": "2022-03-28T16:35:05.015Z"
   },
   {
    "duration": 0,
    "start_time": "2022-03-28T16:35:05.015Z"
   },
   {
    "duration": 0,
    "start_time": "2022-03-28T16:35:05.017Z"
   },
   {
    "duration": 0,
    "start_time": "2022-03-28T16:35:05.017Z"
   },
   {
    "duration": 0,
    "start_time": "2022-03-28T16:35:05.018Z"
   },
   {
    "duration": 0,
    "start_time": "2022-03-28T16:35:05.019Z"
   },
   {
    "duration": 0,
    "start_time": "2022-03-28T16:35:05.020Z"
   },
   {
    "duration": 0,
    "start_time": "2022-03-28T16:35:05.021Z"
   },
   {
    "duration": 0,
    "start_time": "2022-03-28T16:35:05.021Z"
   },
   {
    "duration": 1073,
    "start_time": "2022-03-28T16:36:54.485Z"
   },
   {
    "duration": 383,
    "start_time": "2022-03-28T16:36:55.560Z"
   },
   {
    "duration": 136,
    "start_time": "2022-03-28T16:36:55.945Z"
   },
   {
    "duration": 52,
    "start_time": "2022-03-28T16:36:56.082Z"
   },
   {
    "duration": 262,
    "start_time": "2022-03-28T16:36:56.137Z"
   },
   {
    "duration": 16,
    "start_time": "2022-03-28T16:36:56.408Z"
   },
   {
    "duration": 90,
    "start_time": "2022-03-28T16:36:56.425Z"
   },
   {
    "duration": 32,
    "start_time": "2022-03-28T16:36:56.517Z"
   },
   {
    "duration": 93,
    "start_time": "2022-03-28T16:36:56.551Z"
   },
   {
    "duration": 26,
    "start_time": "2022-03-28T16:36:56.646Z"
   },
   {
    "duration": 192,
    "start_time": "2022-03-28T16:36:56.673Z"
   },
   {
    "duration": 11,
    "start_time": "2022-03-28T16:36:56.867Z"
   },
   {
    "duration": 173,
    "start_time": "2022-03-28T16:36:56.880Z"
   },
   {
    "duration": 17,
    "start_time": "2022-03-28T16:36:57.057Z"
   },
   {
    "duration": 5,
    "start_time": "2022-03-28T16:36:57.076Z"
   },
   {
    "duration": 42,
    "start_time": "2022-03-28T16:36:57.083Z"
   },
   {
    "duration": 14,
    "start_time": "2022-03-28T16:36:57.127Z"
   },
   {
    "duration": 132,
    "start_time": "2022-03-28T16:36:57.143Z"
   },
   {
    "duration": 15,
    "start_time": "2022-03-28T16:36:57.277Z"
   },
   {
    "duration": 80,
    "start_time": "2022-03-28T16:36:57.294Z"
   },
   {
    "duration": 65,
    "start_time": "2022-03-28T16:36:57.376Z"
   },
   {
    "duration": 44,
    "start_time": "2022-03-28T16:36:57.443Z"
   },
   {
    "duration": 19,
    "start_time": "2022-03-28T16:36:57.489Z"
   },
   {
    "duration": 19,
    "start_time": "2022-03-28T16:36:57.511Z"
   },
   {
    "duration": 27,
    "start_time": "2022-03-28T16:36:57.532Z"
   },
   {
    "duration": 6,
    "start_time": "2022-03-28T16:36:57.560Z"
   },
   {
    "duration": 68,
    "start_time": "2022-03-28T16:36:57.568Z"
   },
   {
    "duration": 28,
    "start_time": "2022-03-28T16:36:57.638Z"
   },
   {
    "duration": 22,
    "start_time": "2022-03-28T16:36:57.668Z"
   },
   {
    "duration": 12,
    "start_time": "2022-03-28T16:36:57.692Z"
   },
   {
    "duration": 5,
    "start_time": "2022-03-28T16:36:57.706Z"
   },
   {
    "duration": 9,
    "start_time": "2022-03-28T16:36:57.712Z"
   },
   {
    "duration": 26,
    "start_time": "2022-03-28T16:36:57.722Z"
   },
   {
    "duration": 60,
    "start_time": "2022-03-28T16:36:57.749Z"
   },
   {
    "duration": 41,
    "start_time": "2022-03-28T16:36:57.811Z"
   },
   {
    "duration": 63,
    "start_time": "2022-03-28T16:36:57.853Z"
   },
   {
    "duration": 4,
    "start_time": "2022-03-28T16:36:57.918Z"
   },
   {
    "duration": 23,
    "start_time": "2022-03-28T16:36:57.923Z"
   },
   {
    "duration": 214,
    "start_time": "2022-03-28T16:36:57.947Z"
   },
   {
    "duration": 17,
    "start_time": "2022-03-28T16:36:58.163Z"
   },
   {
    "duration": 4,
    "start_time": "2022-03-28T16:36:58.184Z"
   },
   {
    "duration": 202,
    "start_time": "2022-03-28T16:36:58.210Z"
   },
   {
    "duration": 196,
    "start_time": "2022-03-28T16:36:58.414Z"
   },
   {
    "duration": 16,
    "start_time": "2022-03-28T16:36:58.612Z"
   },
   {
    "duration": 4,
    "start_time": "2022-03-28T16:36:58.630Z"
   },
   {
    "duration": 6,
    "start_time": "2022-03-28T16:36:58.636Z"
   },
   {
    "duration": 67,
    "start_time": "2022-03-28T16:36:58.644Z"
   },
   {
    "duration": 9,
    "start_time": "2022-03-28T16:36:58.713Z"
   },
   {
    "duration": 12,
    "start_time": "2022-03-28T16:36:58.724Z"
   },
   {
    "duration": 984,
    "start_time": "2022-03-28T16:39:40.160Z"
   },
   {
    "duration": 391,
    "start_time": "2022-03-28T16:39:41.146Z"
   },
   {
    "duration": 135,
    "start_time": "2022-03-28T16:39:41.538Z"
   },
   {
    "duration": 47,
    "start_time": "2022-03-28T16:39:41.676Z"
   },
   {
    "duration": 267,
    "start_time": "2022-03-28T16:39:41.725Z"
   },
   {
    "duration": 25,
    "start_time": "2022-03-28T16:39:41.993Z"
   },
   {
    "duration": 65,
    "start_time": "2022-03-28T16:39:42.019Z"
   },
   {
    "duration": 45,
    "start_time": "2022-03-28T16:39:42.085Z"
   },
   {
    "duration": 80,
    "start_time": "2022-03-28T16:39:42.131Z"
   },
   {
    "duration": 23,
    "start_time": "2022-03-28T16:39:42.214Z"
   },
   {
    "duration": 165,
    "start_time": "2022-03-28T16:39:42.239Z"
   },
   {
    "duration": 9,
    "start_time": "2022-03-28T16:39:42.409Z"
   },
   {
    "duration": 194,
    "start_time": "2022-03-28T16:39:42.420Z"
   },
   {
    "duration": 22,
    "start_time": "2022-03-28T16:39:42.616Z"
   },
   {
    "duration": 4,
    "start_time": "2022-03-28T16:39:42.639Z"
   },
   {
    "duration": 76,
    "start_time": "2022-03-28T16:39:42.644Z"
   },
   {
    "duration": 13,
    "start_time": "2022-03-28T16:39:42.721Z"
   },
   {
    "duration": 205,
    "start_time": "2022-03-28T16:39:42.735Z"
   },
   {
    "duration": 69,
    "start_time": "2022-03-28T16:39:42.941Z"
   },
   {
    "duration": 125,
    "start_time": "2022-03-28T16:39:43.011Z"
   },
   {
    "duration": 98,
    "start_time": "2022-03-28T16:39:43.138Z"
   },
   {
    "duration": 96,
    "start_time": "2022-03-28T16:39:43.237Z"
   },
   {
    "duration": 4,
    "start_time": "2022-03-28T16:39:43.335Z"
   },
   {
    "duration": 13,
    "start_time": "2022-03-28T16:39:43.341Z"
   },
   {
    "duration": 26,
    "start_time": "2022-03-28T16:39:43.409Z"
   },
   {
    "duration": 1223,
    "start_time": "2022-03-28T16:39:43.437Z"
   },
   {
    "duration": 0,
    "start_time": "2022-03-28T16:39:44.662Z"
   },
   {
    "duration": 0,
    "start_time": "2022-03-28T16:39:44.663Z"
   },
   {
    "duration": 0,
    "start_time": "2022-03-28T16:39:44.664Z"
   },
   {
    "duration": 0,
    "start_time": "2022-03-28T16:39:44.665Z"
   },
   {
    "duration": 0,
    "start_time": "2022-03-28T16:39:44.667Z"
   },
   {
    "duration": 0,
    "start_time": "2022-03-28T16:39:44.668Z"
   },
   {
    "duration": 0,
    "start_time": "2022-03-28T16:39:44.669Z"
   },
   {
    "duration": 0,
    "start_time": "2022-03-28T16:39:44.670Z"
   },
   {
    "duration": 0,
    "start_time": "2022-03-28T16:39:44.671Z"
   },
   {
    "duration": 0,
    "start_time": "2022-03-28T16:39:44.671Z"
   },
   {
    "duration": 0,
    "start_time": "2022-03-28T16:39:44.672Z"
   },
   {
    "duration": 0,
    "start_time": "2022-03-28T16:39:44.674Z"
   },
   {
    "duration": 0,
    "start_time": "2022-03-28T16:39:44.675Z"
   },
   {
    "duration": 0,
    "start_time": "2022-03-28T16:39:44.676Z"
   },
   {
    "duration": 0,
    "start_time": "2022-03-28T16:39:44.677Z"
   },
   {
    "duration": 0,
    "start_time": "2022-03-28T16:39:44.678Z"
   },
   {
    "duration": 0,
    "start_time": "2022-03-28T16:39:44.679Z"
   },
   {
    "duration": 0,
    "start_time": "2022-03-28T16:39:44.680Z"
   },
   {
    "duration": 0,
    "start_time": "2022-03-28T16:39:44.682Z"
   },
   {
    "duration": 0,
    "start_time": "2022-03-28T16:39:44.683Z"
   },
   {
    "duration": 0,
    "start_time": "2022-03-28T16:39:44.684Z"
   },
   {
    "duration": 0,
    "start_time": "2022-03-28T16:39:44.684Z"
   },
   {
    "duration": 0,
    "start_time": "2022-03-28T16:39:44.686Z"
   },
   {
    "duration": 5,
    "start_time": "2022-03-28T16:40:09.722Z"
   },
   {
    "duration": 1117,
    "start_time": "2022-03-28T16:40:34.303Z"
   },
   {
    "duration": 401,
    "start_time": "2022-03-28T16:40:35.422Z"
   },
   {
    "duration": 145,
    "start_time": "2022-03-28T16:40:35.825Z"
   },
   {
    "duration": 52,
    "start_time": "2022-03-28T16:40:35.972Z"
   },
   {
    "duration": 284,
    "start_time": "2022-03-28T16:40:36.025Z"
   },
   {
    "duration": 16,
    "start_time": "2022-03-28T16:40:36.311Z"
   },
   {
    "duration": 82,
    "start_time": "2022-03-28T16:40:36.329Z"
   },
   {
    "duration": 31,
    "start_time": "2022-03-28T16:40:36.413Z"
   },
   {
    "duration": 91,
    "start_time": "2022-03-28T16:40:36.446Z"
   },
   {
    "duration": 25,
    "start_time": "2022-03-28T16:40:36.540Z"
   },
   {
    "duration": 182,
    "start_time": "2022-03-28T16:40:36.566Z"
   },
   {
    "duration": 9,
    "start_time": "2022-03-28T16:40:36.750Z"
   },
   {
    "duration": 171,
    "start_time": "2022-03-28T16:40:36.761Z"
   },
   {
    "duration": 15,
    "start_time": "2022-03-28T16:40:36.934Z"
   },
   {
    "duration": 4,
    "start_time": "2022-03-28T16:40:36.951Z"
   },
   {
    "duration": 23,
    "start_time": "2022-03-28T16:40:36.957Z"
   },
   {
    "duration": 14,
    "start_time": "2022-03-28T16:40:37.009Z"
   },
   {
    "duration": 112,
    "start_time": "2022-03-28T16:40:37.025Z"
   },
   {
    "duration": 15,
    "start_time": "2022-03-28T16:40:37.139Z"
   },
   {
    "duration": 88,
    "start_time": "2022-03-28T16:40:37.155Z"
   },
   {
    "duration": 43,
    "start_time": "2022-03-28T16:40:37.245Z"
   },
   {
    "duration": 57,
    "start_time": "2022-03-28T16:40:37.290Z"
   },
   {
    "duration": 5,
    "start_time": "2022-03-28T16:40:37.348Z"
   },
   {
    "duration": 31,
    "start_time": "2022-03-28T16:40:37.355Z"
   },
   {
    "duration": 30,
    "start_time": "2022-03-28T16:40:37.388Z"
   },
   {
    "duration": 5,
    "start_time": "2022-03-28T16:40:37.420Z"
   },
   {
    "duration": 27,
    "start_time": "2022-03-28T16:40:37.427Z"
   },
   {
    "duration": 18,
    "start_time": "2022-03-28T16:40:37.458Z"
   },
   {
    "duration": 33,
    "start_time": "2022-03-28T16:40:37.478Z"
   },
   {
    "duration": 12,
    "start_time": "2022-03-28T16:40:37.512Z"
   },
   {
    "duration": 124,
    "start_time": "2022-03-28T16:40:37.526Z"
   },
   {
    "duration": 0,
    "start_time": "2022-03-28T16:40:37.652Z"
   },
   {
    "duration": 0,
    "start_time": "2022-03-28T16:40:37.653Z"
   },
   {
    "duration": 0,
    "start_time": "2022-03-28T16:40:37.654Z"
   },
   {
    "duration": 0,
    "start_time": "2022-03-28T16:40:37.655Z"
   },
   {
    "duration": 0,
    "start_time": "2022-03-28T16:40:37.656Z"
   },
   {
    "duration": 0,
    "start_time": "2022-03-28T16:40:37.657Z"
   },
   {
    "duration": 0,
    "start_time": "2022-03-28T16:40:37.658Z"
   },
   {
    "duration": 0,
    "start_time": "2022-03-28T16:40:37.659Z"
   },
   {
    "duration": 0,
    "start_time": "2022-03-28T16:40:37.660Z"
   },
   {
    "duration": 0,
    "start_time": "2022-03-28T16:40:37.661Z"
   },
   {
    "duration": 0,
    "start_time": "2022-03-28T16:40:37.662Z"
   },
   {
    "duration": 0,
    "start_time": "2022-03-28T16:40:37.663Z"
   },
   {
    "duration": 0,
    "start_time": "2022-03-28T16:40:37.664Z"
   },
   {
    "duration": 0,
    "start_time": "2022-03-28T16:40:37.665Z"
   },
   {
    "duration": 0,
    "start_time": "2022-03-28T16:40:37.666Z"
   },
   {
    "duration": 0,
    "start_time": "2022-03-28T16:40:37.667Z"
   },
   {
    "duration": 0,
    "start_time": "2022-03-28T16:40:37.668Z"
   },
   {
    "duration": 0,
    "start_time": "2022-03-28T16:40:37.669Z"
   },
   {
    "duration": 1145,
    "start_time": "2022-03-28T16:42:00.278Z"
   },
   {
    "duration": 415,
    "start_time": "2022-03-28T16:42:01.425Z"
   },
   {
    "duration": 140,
    "start_time": "2022-03-28T16:42:01.842Z"
   },
   {
    "duration": 51,
    "start_time": "2022-03-28T16:42:01.984Z"
   },
   {
    "duration": 274,
    "start_time": "2022-03-28T16:42:02.037Z"
   },
   {
    "duration": 16,
    "start_time": "2022-03-28T16:42:02.313Z"
   },
   {
    "duration": 85,
    "start_time": "2022-03-28T16:42:02.330Z"
   },
   {
    "duration": 38,
    "start_time": "2022-03-28T16:42:02.417Z"
   },
   {
    "duration": 85,
    "start_time": "2022-03-28T16:42:02.457Z"
   },
   {
    "duration": 26,
    "start_time": "2022-03-28T16:42:02.544Z"
   },
   {
    "duration": 175,
    "start_time": "2022-03-28T16:42:02.572Z"
   },
   {
    "duration": 10,
    "start_time": "2022-03-28T16:42:02.749Z"
   },
   {
    "duration": 177,
    "start_time": "2022-03-28T16:42:02.761Z"
   },
   {
    "duration": 16,
    "start_time": "2022-03-28T16:42:02.941Z"
   },
   {
    "duration": 4,
    "start_time": "2022-03-28T16:42:02.959Z"
   },
   {
    "duration": 45,
    "start_time": "2022-03-28T16:42:02.965Z"
   },
   {
    "duration": 13,
    "start_time": "2022-03-28T16:42:03.011Z"
   },
   {
    "duration": 121,
    "start_time": "2022-03-28T16:42:03.026Z"
   },
   {
    "duration": 14,
    "start_time": "2022-03-28T16:42:03.149Z"
   },
   {
    "duration": 83,
    "start_time": "2022-03-28T16:42:03.165Z"
   },
   {
    "duration": 43,
    "start_time": "2022-03-28T16:42:03.250Z"
   },
   {
    "duration": 51,
    "start_time": "2022-03-28T16:42:03.295Z"
   },
   {
    "duration": 5,
    "start_time": "2022-03-28T16:42:03.348Z"
   },
   {
    "duration": 60,
    "start_time": "2022-03-28T16:42:03.354Z"
   },
   {
    "duration": 45,
    "start_time": "2022-03-28T16:42:03.416Z"
   },
   {
    "duration": 9,
    "start_time": "2022-03-28T16:42:03.463Z"
   },
   {
    "duration": 64,
    "start_time": "2022-03-28T16:42:03.473Z"
   },
   {
    "duration": 19,
    "start_time": "2022-03-28T16:42:03.539Z"
   },
   {
    "duration": 54,
    "start_time": "2022-03-28T16:42:03.560Z"
   },
   {
    "duration": 30,
    "start_time": "2022-03-28T16:42:03.616Z"
   },
   {
    "duration": 8,
    "start_time": "2022-03-28T16:42:03.648Z"
   },
   {
    "duration": 119,
    "start_time": "2022-03-28T16:42:03.658Z"
   },
   {
    "duration": 0,
    "start_time": "2022-03-28T16:42:03.779Z"
   },
   {
    "duration": 0,
    "start_time": "2022-03-28T16:42:03.780Z"
   },
   {
    "duration": 0,
    "start_time": "2022-03-28T16:42:03.781Z"
   },
   {
    "duration": 0,
    "start_time": "2022-03-28T16:42:03.782Z"
   },
   {
    "duration": 0,
    "start_time": "2022-03-28T16:42:03.783Z"
   },
   {
    "duration": 0,
    "start_time": "2022-03-28T16:42:03.784Z"
   },
   {
    "duration": 0,
    "start_time": "2022-03-28T16:42:03.784Z"
   },
   {
    "duration": 0,
    "start_time": "2022-03-28T16:42:03.786Z"
   },
   {
    "duration": 0,
    "start_time": "2022-03-28T16:42:03.787Z"
   },
   {
    "duration": 0,
    "start_time": "2022-03-28T16:42:03.788Z"
   },
   {
    "duration": 0,
    "start_time": "2022-03-28T16:42:03.789Z"
   },
   {
    "duration": 0,
    "start_time": "2022-03-28T16:42:03.809Z"
   },
   {
    "duration": 0,
    "start_time": "2022-03-28T16:42:03.810Z"
   },
   {
    "duration": 0,
    "start_time": "2022-03-28T16:42:03.811Z"
   },
   {
    "duration": 0,
    "start_time": "2022-03-28T16:42:03.812Z"
   },
   {
    "duration": 0,
    "start_time": "2022-03-28T16:42:03.813Z"
   },
   {
    "duration": 0,
    "start_time": "2022-03-28T16:42:03.814Z"
   },
   {
    "duration": 1146,
    "start_time": "2022-03-28T16:45:05.218Z"
   },
   {
    "duration": 409,
    "start_time": "2022-03-28T16:45:06.367Z"
   },
   {
    "duration": 148,
    "start_time": "2022-03-28T16:45:06.778Z"
   },
   {
    "duration": 51,
    "start_time": "2022-03-28T16:45:06.928Z"
   },
   {
    "duration": 298,
    "start_time": "2022-03-28T16:45:06.981Z"
   },
   {
    "duration": 30,
    "start_time": "2022-03-28T16:45:07.280Z"
   },
   {
    "duration": 71,
    "start_time": "2022-03-28T16:45:07.311Z"
   },
   {
    "duration": 48,
    "start_time": "2022-03-28T16:45:07.384Z"
   },
   {
    "duration": 84,
    "start_time": "2022-03-28T16:45:07.434Z"
   },
   {
    "duration": 24,
    "start_time": "2022-03-28T16:45:07.521Z"
   },
   {
    "duration": 180,
    "start_time": "2022-03-28T16:45:07.547Z"
   },
   {
    "duration": 10,
    "start_time": "2022-03-28T16:45:07.729Z"
   },
   {
    "duration": 174,
    "start_time": "2022-03-28T16:45:07.741Z"
   },
   {
    "duration": 15,
    "start_time": "2022-03-28T16:45:07.917Z"
   },
   {
    "duration": 6,
    "start_time": "2022-03-28T16:45:07.933Z"
   },
   {
    "duration": 41,
    "start_time": "2022-03-28T16:45:07.940Z"
   },
   {
    "duration": 17,
    "start_time": "2022-03-28T16:45:07.983Z"
   },
   {
    "duration": 109,
    "start_time": "2022-03-28T16:45:08.009Z"
   },
   {
    "duration": 15,
    "start_time": "2022-03-28T16:45:08.119Z"
   },
   {
    "duration": 83,
    "start_time": "2022-03-28T16:45:08.136Z"
   },
   {
    "duration": 43,
    "start_time": "2022-03-28T16:45:08.221Z"
   },
   {
    "duration": 61,
    "start_time": "2022-03-28T16:45:08.265Z"
   },
   {
    "duration": 5,
    "start_time": "2022-03-28T16:45:08.328Z"
   },
   {
    "duration": 19,
    "start_time": "2022-03-28T16:45:08.334Z"
   },
   {
    "duration": 26,
    "start_time": "2022-03-28T16:45:08.355Z"
   },
   {
    "duration": 5,
    "start_time": "2022-03-28T16:45:08.382Z"
   },
   {
    "duration": 36,
    "start_time": "2022-03-28T16:45:08.409Z"
   },
   {
    "duration": 25,
    "start_time": "2022-03-28T16:45:08.449Z"
   },
   {
    "duration": 7,
    "start_time": "2022-03-28T16:45:08.476Z"
   },
   {
    "duration": 32,
    "start_time": "2022-03-28T16:45:08.484Z"
   },
   {
    "duration": 6,
    "start_time": "2022-03-28T16:45:08.518Z"
   },
   {
    "duration": 8,
    "start_time": "2022-03-28T16:45:08.525Z"
   },
   {
    "duration": 25,
    "start_time": "2022-03-28T16:45:08.534Z"
   },
   {
    "duration": 74,
    "start_time": "2022-03-28T16:45:08.561Z"
   },
   {
    "duration": 39,
    "start_time": "2022-03-28T16:45:08.637Z"
   },
   {
    "duration": 63,
    "start_time": "2022-03-28T16:45:08.678Z"
   },
   {
    "duration": 4,
    "start_time": "2022-03-28T16:45:08.743Z"
   },
   {
    "duration": 20,
    "start_time": "2022-03-28T16:45:08.749Z"
   },
   {
    "duration": 229,
    "start_time": "2022-03-28T16:45:08.771Z"
   },
   {
    "duration": 21,
    "start_time": "2022-03-28T16:45:09.002Z"
   },
   {
    "duration": 4,
    "start_time": "2022-03-28T16:45:09.025Z"
   },
   {
    "duration": 209,
    "start_time": "2022-03-28T16:45:09.031Z"
   },
   {
    "duration": 204,
    "start_time": "2022-03-28T16:45:09.242Z"
   },
   {
    "duration": 17,
    "start_time": "2022-03-28T16:45:09.448Z"
   },
   {
    "duration": 5,
    "start_time": "2022-03-28T16:45:09.467Z"
   },
   {
    "duration": 8,
    "start_time": "2022-03-28T16:45:09.474Z"
   },
   {
    "duration": 12,
    "start_time": "2022-03-28T16:45:09.508Z"
   },
   {
    "duration": 10,
    "start_time": "2022-03-28T16:45:09.522Z"
   },
   {
    "duration": 10,
    "start_time": "2022-03-28T16:45:09.534Z"
   },
   {
    "duration": 9,
    "start_time": "2022-03-28T16:49:43.796Z"
   },
   {
    "duration": 13,
    "start_time": "2022-03-28T16:50:05.768Z"
   },
   {
    "duration": 1048,
    "start_time": "2022-03-28T16:50:23.931Z"
   },
   {
    "duration": 428,
    "start_time": "2022-03-28T16:50:24.981Z"
   },
   {
    "duration": 155,
    "start_time": "2022-03-28T16:50:25.410Z"
   },
   {
    "duration": 59,
    "start_time": "2022-03-28T16:50:25.568Z"
   },
   {
    "duration": 296,
    "start_time": "2022-03-28T16:50:25.629Z"
   },
   {
    "duration": 17,
    "start_time": "2022-03-28T16:50:25.927Z"
   },
   {
    "duration": 85,
    "start_time": "2022-03-28T16:50:25.945Z"
   },
   {
    "duration": 33,
    "start_time": "2022-03-28T16:50:26.032Z"
   },
   {
    "duration": 95,
    "start_time": "2022-03-28T16:50:26.067Z"
   },
   {
    "duration": 43,
    "start_time": "2022-03-28T16:50:26.166Z"
   },
   {
    "duration": 177,
    "start_time": "2022-03-28T16:50:26.211Z"
   },
   {
    "duration": 19,
    "start_time": "2022-03-28T16:50:26.391Z"
   },
   {
    "duration": 179,
    "start_time": "2022-03-28T16:50:26.412Z"
   },
   {
    "duration": 23,
    "start_time": "2022-03-28T16:50:26.594Z"
   },
   {
    "duration": 8,
    "start_time": "2022-03-28T16:50:26.620Z"
   },
   {
    "duration": 27,
    "start_time": "2022-03-28T16:50:26.630Z"
   },
   {
    "duration": 14,
    "start_time": "2022-03-28T16:50:26.659Z"
   },
   {
    "duration": 147,
    "start_time": "2022-03-28T16:50:26.675Z"
   },
   {
    "duration": 15,
    "start_time": "2022-03-28T16:50:26.825Z"
   },
   {
    "duration": 91,
    "start_time": "2022-03-28T16:50:26.842Z"
   },
   {
    "duration": 46,
    "start_time": "2022-03-28T16:50:26.936Z"
   },
   {
    "duration": 60,
    "start_time": "2022-03-28T16:50:26.985Z"
   },
   {
    "duration": 4,
    "start_time": "2022-03-28T16:50:27.048Z"
   },
   {
    "duration": 20,
    "start_time": "2022-03-28T16:50:27.054Z"
   },
   {
    "duration": 48,
    "start_time": "2022-03-28T16:50:27.076Z"
   },
   {
    "duration": 5,
    "start_time": "2022-03-28T16:50:27.126Z"
   },
   {
    "duration": 35,
    "start_time": "2022-03-28T16:50:27.132Z"
   },
   {
    "duration": 42,
    "start_time": "2022-03-28T16:50:27.170Z"
   },
   {
    "duration": 37,
    "start_time": "2022-03-28T16:50:27.214Z"
   },
   {
    "duration": 7,
    "start_time": "2022-03-28T16:50:27.253Z"
   },
   {
    "duration": 12,
    "start_time": "2022-03-28T16:50:27.262Z"
   },
   {
    "duration": 4,
    "start_time": "2022-03-28T16:50:27.276Z"
   },
   {
    "duration": 6,
    "start_time": "2022-03-28T16:50:27.309Z"
   },
   {
    "duration": 26,
    "start_time": "2022-03-28T16:50:27.316Z"
   },
   {
    "duration": 40,
    "start_time": "2022-03-28T16:50:27.343Z"
   },
   {
    "duration": 60,
    "start_time": "2022-03-28T16:50:27.385Z"
   },
   {
    "duration": 48,
    "start_time": "2022-03-28T16:50:27.447Z"
   },
   {
    "duration": 5,
    "start_time": "2022-03-28T16:50:27.509Z"
   },
   {
    "duration": 28,
    "start_time": "2022-03-28T16:50:27.515Z"
   },
   {
    "duration": 217,
    "start_time": "2022-03-28T16:50:27.545Z"
   },
   {
    "duration": 17,
    "start_time": "2022-03-28T16:50:27.763Z"
   },
   {
    "duration": 4,
    "start_time": "2022-03-28T16:50:27.782Z"
   },
   {
    "duration": 204,
    "start_time": "2022-03-28T16:50:27.808Z"
   },
   {
    "duration": 200,
    "start_time": "2022-03-28T16:50:28.014Z"
   },
   {
    "duration": 16,
    "start_time": "2022-03-28T16:50:28.215Z"
   },
   {
    "duration": 4,
    "start_time": "2022-03-28T16:50:28.233Z"
   },
   {
    "duration": 11,
    "start_time": "2022-03-28T16:50:28.238Z"
   },
   {
    "duration": 10,
    "start_time": "2022-03-28T16:50:28.250Z"
   },
   {
    "duration": 10,
    "start_time": "2022-03-28T16:50:28.262Z"
   },
   {
    "duration": 45,
    "start_time": "2022-03-28T16:50:28.273Z"
   },
   {
    "duration": 62,
    "start_time": "2022-03-28T17:08:02.206Z"
   },
   {
    "duration": 1739,
    "start_time": "2022-03-28T17:08:07.817Z"
   },
   {
    "duration": 510,
    "start_time": "2022-03-28T17:08:09.559Z"
   },
   {
    "duration": 197,
    "start_time": "2022-03-28T17:08:10.072Z"
   },
   {
    "duration": 79,
    "start_time": "2022-03-28T17:08:10.272Z"
   },
   {
    "duration": 425,
    "start_time": "2022-03-28T17:08:10.354Z"
   },
   {
    "duration": 22,
    "start_time": "2022-03-28T17:08:10.782Z"
   },
   {
    "duration": 113,
    "start_time": "2022-03-28T17:08:10.807Z"
   },
   {
    "duration": 44,
    "start_time": "2022-03-28T17:08:10.923Z"
   },
   {
    "duration": 117,
    "start_time": "2022-03-28T17:08:10.982Z"
   },
   {
    "duration": 31,
    "start_time": "2022-03-28T17:08:11.103Z"
   },
   {
    "duration": 257,
    "start_time": "2022-03-28T17:08:11.136Z"
   },
   {
    "duration": 13,
    "start_time": "2022-03-28T17:08:11.395Z"
   },
   {
    "duration": 271,
    "start_time": "2022-03-28T17:08:11.410Z"
   },
   {
    "duration": 24,
    "start_time": "2022-03-28T17:08:11.683Z"
   },
   {
    "duration": 6,
    "start_time": "2022-03-28T17:08:11.708Z"
   },
   {
    "duration": 66,
    "start_time": "2022-03-28T17:08:11.716Z"
   },
   {
    "duration": 19,
    "start_time": "2022-03-28T17:08:11.784Z"
   },
   {
    "duration": 179,
    "start_time": "2022-03-28T17:08:11.806Z"
   },
   {
    "duration": 25,
    "start_time": "2022-03-28T17:08:11.988Z"
   },
   {
    "duration": 122,
    "start_time": "2022-03-28T17:08:12.016Z"
   },
   {
    "duration": 63,
    "start_time": "2022-03-28T17:08:12.140Z"
   },
   {
    "duration": 56,
    "start_time": "2022-03-28T17:08:12.205Z"
   },
   {
    "duration": 24,
    "start_time": "2022-03-28T17:08:12.264Z"
   },
   {
    "duration": 175,
    "start_time": "2022-03-28T17:08:12.291Z"
   },
   {
    "duration": 0,
    "start_time": "2022-03-28T17:08:12.471Z"
   },
   {
    "duration": 0,
    "start_time": "2022-03-28T17:08:12.473Z"
   },
   {
    "duration": 0,
    "start_time": "2022-03-28T17:08:12.483Z"
   },
   {
    "duration": 0,
    "start_time": "2022-03-28T17:08:12.485Z"
   },
   {
    "duration": 0,
    "start_time": "2022-03-28T17:08:12.487Z"
   },
   {
    "duration": 0,
    "start_time": "2022-03-28T17:08:12.490Z"
   },
   {
    "duration": 0,
    "start_time": "2022-03-28T17:08:12.492Z"
   },
   {
    "duration": 0,
    "start_time": "2022-03-28T17:08:12.495Z"
   },
   {
    "duration": 0,
    "start_time": "2022-03-28T17:08:12.497Z"
   },
   {
    "duration": 0,
    "start_time": "2022-03-28T17:08:12.499Z"
   },
   {
    "duration": 0,
    "start_time": "2022-03-28T17:08:12.502Z"
   },
   {
    "duration": 0,
    "start_time": "2022-03-28T17:08:12.504Z"
   },
   {
    "duration": 0,
    "start_time": "2022-03-28T17:08:12.506Z"
   },
   {
    "duration": 0,
    "start_time": "2022-03-28T17:08:12.509Z"
   },
   {
    "duration": 0,
    "start_time": "2022-03-28T17:08:12.511Z"
   },
   {
    "duration": 0,
    "start_time": "2022-03-28T17:08:12.513Z"
   },
   {
    "duration": 0,
    "start_time": "2022-03-28T17:08:12.515Z"
   },
   {
    "duration": 0,
    "start_time": "2022-03-28T17:08:12.517Z"
   },
   {
    "duration": 0,
    "start_time": "2022-03-28T17:08:12.519Z"
   },
   {
    "duration": 0,
    "start_time": "2022-03-28T17:08:12.521Z"
   },
   {
    "duration": 0,
    "start_time": "2022-03-28T17:08:12.583Z"
   },
   {
    "duration": 0,
    "start_time": "2022-03-28T17:08:12.585Z"
   },
   {
    "duration": 0,
    "start_time": "2022-03-28T17:08:12.587Z"
   },
   {
    "duration": 0,
    "start_time": "2022-03-28T17:08:12.589Z"
   },
   {
    "duration": 0,
    "start_time": "2022-03-28T17:08:12.591Z"
   },
   {
    "duration": 0,
    "start_time": "2022-03-28T17:08:12.593Z"
   },
   {
    "duration": 1478,
    "start_time": "2022-03-28T17:08:31.135Z"
   },
   {
    "duration": 471,
    "start_time": "2022-03-28T17:08:32.616Z"
   },
   {
    "duration": 193,
    "start_time": "2022-03-28T17:08:33.089Z"
   },
   {
    "duration": 67,
    "start_time": "2022-03-28T17:08:33.285Z"
   },
   {
    "duration": 380,
    "start_time": "2022-03-28T17:08:33.355Z"
   },
   {
    "duration": 20,
    "start_time": "2022-03-28T17:08:33.737Z"
   },
   {
    "duration": 101,
    "start_time": "2022-03-28T17:08:33.759Z"
   },
   {
    "duration": 63,
    "start_time": "2022-03-28T17:08:33.863Z"
   },
   {
    "duration": 119,
    "start_time": "2022-03-28T17:08:33.929Z"
   },
   {
    "duration": 47,
    "start_time": "2022-03-28T17:08:34.053Z"
   },
   {
    "duration": 242,
    "start_time": "2022-03-28T17:08:34.103Z"
   },
   {
    "duration": 14,
    "start_time": "2022-03-28T17:08:34.347Z"
   },
   {
    "duration": 238,
    "start_time": "2022-03-28T17:08:34.383Z"
   },
   {
    "duration": 25,
    "start_time": "2022-03-28T17:08:34.624Z"
   },
   {
    "duration": 30,
    "start_time": "2022-03-28T17:08:34.652Z"
   },
   {
    "duration": 33,
    "start_time": "2022-03-28T17:08:34.685Z"
   },
   {
    "duration": 21,
    "start_time": "2022-03-28T17:08:34.721Z"
   },
   {
    "duration": 171,
    "start_time": "2022-03-28T17:08:34.783Z"
   },
   {
    "duration": 27,
    "start_time": "2022-03-28T17:08:34.956Z"
   },
   {
    "duration": 102,
    "start_time": "2022-03-28T17:08:34.986Z"
   },
   {
    "duration": 57,
    "start_time": "2022-03-28T17:08:35.090Z"
   },
   {
    "duration": 78,
    "start_time": "2022-03-28T17:08:35.149Z"
   },
   {
    "duration": 7,
    "start_time": "2022-03-28T17:08:35.230Z"
   },
   {
    "duration": 18,
    "start_time": "2022-03-28T17:08:35.239Z"
   },
   {
    "duration": 49,
    "start_time": "2022-03-28T17:08:35.259Z"
   },
   {
    "duration": 2567,
    "start_time": "2022-03-28T17:08:35.310Z"
   },
   {
    "duration": 0,
    "start_time": "2022-03-28T17:08:37.881Z"
   },
   {
    "duration": 0,
    "start_time": "2022-03-28T17:08:37.883Z"
   },
   {
    "duration": 0,
    "start_time": "2022-03-28T17:08:37.884Z"
   },
   {
    "duration": 0,
    "start_time": "2022-03-28T17:08:37.886Z"
   },
   {
    "duration": 0,
    "start_time": "2022-03-28T17:08:37.888Z"
   },
   {
    "duration": 0,
    "start_time": "2022-03-28T17:08:37.889Z"
   },
   {
    "duration": 0,
    "start_time": "2022-03-28T17:08:37.892Z"
   },
   {
    "duration": 0,
    "start_time": "2022-03-28T17:08:37.893Z"
   },
   {
    "duration": 0,
    "start_time": "2022-03-28T17:08:37.895Z"
   },
   {
    "duration": 0,
    "start_time": "2022-03-28T17:08:37.896Z"
   },
   {
    "duration": 0,
    "start_time": "2022-03-28T17:08:37.897Z"
   },
   {
    "duration": 0,
    "start_time": "2022-03-28T17:08:37.899Z"
   },
   {
    "duration": 0,
    "start_time": "2022-03-28T17:08:37.901Z"
   },
   {
    "duration": 0,
    "start_time": "2022-03-28T17:08:37.902Z"
   },
   {
    "duration": 0,
    "start_time": "2022-03-28T17:08:37.904Z"
   },
   {
    "duration": 0,
    "start_time": "2022-03-28T17:08:37.906Z"
   },
   {
    "duration": 0,
    "start_time": "2022-03-28T17:08:37.908Z"
   },
   {
    "duration": 0,
    "start_time": "2022-03-28T17:08:37.909Z"
   },
   {
    "duration": 0,
    "start_time": "2022-03-28T17:08:37.911Z"
   },
   {
    "duration": 0,
    "start_time": "2022-03-28T17:08:37.912Z"
   },
   {
    "duration": 0,
    "start_time": "2022-03-28T17:08:37.913Z"
   },
   {
    "duration": 0,
    "start_time": "2022-03-28T17:08:37.914Z"
   },
   {
    "duration": 0,
    "start_time": "2022-03-28T17:08:37.916Z"
   },
   {
    "duration": 0,
    "start_time": "2022-03-28T17:08:37.917Z"
   },
   {
    "duration": 1410,
    "start_time": "2022-03-28T17:09:46.606Z"
   },
   {
    "duration": 513,
    "start_time": "2022-03-28T17:09:48.019Z"
   },
   {
    "duration": 195,
    "start_time": "2022-03-28T17:09:48.536Z"
   },
   {
    "duration": 77,
    "start_time": "2022-03-28T17:09:48.736Z"
   },
   {
    "duration": 402,
    "start_time": "2022-03-28T17:09:48.816Z"
   },
   {
    "duration": 21,
    "start_time": "2022-03-28T17:09:49.220Z"
   },
   {
    "duration": 120,
    "start_time": "2022-03-28T17:09:49.244Z"
   },
   {
    "duration": 48,
    "start_time": "2022-03-28T17:09:49.381Z"
   },
   {
    "duration": 133,
    "start_time": "2022-03-28T17:09:49.432Z"
   },
   {
    "duration": 34,
    "start_time": "2022-03-28T17:09:49.582Z"
   },
   {
    "duration": 256,
    "start_time": "2022-03-28T17:09:49.619Z"
   },
   {
    "duration": 14,
    "start_time": "2022-03-28T17:09:49.881Z"
   },
   {
    "duration": 277,
    "start_time": "2022-03-28T17:09:49.897Z"
   },
   {
    "duration": 22,
    "start_time": "2022-03-28T17:09:50.176Z"
   },
   {
    "duration": 16,
    "start_time": "2022-03-28T17:09:50.200Z"
   },
   {
    "duration": 35,
    "start_time": "2022-03-28T17:09:50.219Z"
   },
   {
    "duration": 43,
    "start_time": "2022-03-28T17:09:50.257Z"
   },
   {
    "duration": 185,
    "start_time": "2022-03-28T17:09:50.303Z"
   },
   {
    "duration": 23,
    "start_time": "2022-03-28T17:09:50.491Z"
   },
   {
    "duration": 127,
    "start_time": "2022-03-28T17:09:50.516Z"
   },
   {
    "duration": 83,
    "start_time": "2022-03-28T17:09:50.644Z"
   },
   {
    "duration": 71,
    "start_time": "2022-03-28T17:09:50.730Z"
   },
   {
    "duration": 9,
    "start_time": "2022-03-28T17:09:50.804Z"
   },
   {
    "duration": 147,
    "start_time": "2022-03-28T17:09:50.816Z"
   },
   {
    "duration": 0,
    "start_time": "2022-03-28T17:09:50.966Z"
   },
   {
    "duration": 0,
    "start_time": "2022-03-28T17:09:50.968Z"
   },
   {
    "duration": 0,
    "start_time": "2022-03-28T17:09:50.970Z"
   },
   {
    "duration": 0,
    "start_time": "2022-03-28T17:09:50.972Z"
   },
   {
    "duration": 0,
    "start_time": "2022-03-28T17:09:50.973Z"
   },
   {
    "duration": 0,
    "start_time": "2022-03-28T17:09:50.975Z"
   },
   {
    "duration": 0,
    "start_time": "2022-03-28T17:09:50.977Z"
   },
   {
    "duration": 0,
    "start_time": "2022-03-28T17:09:50.980Z"
   },
   {
    "duration": 0,
    "start_time": "2022-03-28T17:09:50.982Z"
   },
   {
    "duration": 0,
    "start_time": "2022-03-28T17:09:50.983Z"
   },
   {
    "duration": 0,
    "start_time": "2022-03-28T17:09:50.985Z"
   },
   {
    "duration": 0,
    "start_time": "2022-03-28T17:09:50.986Z"
   },
   {
    "duration": 0,
    "start_time": "2022-03-28T17:09:50.987Z"
   },
   {
    "duration": 0,
    "start_time": "2022-03-28T17:09:50.989Z"
   },
   {
    "duration": 0,
    "start_time": "2022-03-28T17:09:50.990Z"
   },
   {
    "duration": 0,
    "start_time": "2022-03-28T17:09:50.991Z"
   },
   {
    "duration": 0,
    "start_time": "2022-03-28T17:09:50.992Z"
   },
   {
    "duration": 0,
    "start_time": "2022-03-28T17:09:50.994Z"
   },
   {
    "duration": 0,
    "start_time": "2022-03-28T17:09:50.995Z"
   },
   {
    "duration": 0,
    "start_time": "2022-03-28T17:09:50.996Z"
   },
   {
    "duration": 0,
    "start_time": "2022-03-28T17:09:50.998Z"
   },
   {
    "duration": 0,
    "start_time": "2022-03-28T17:09:50.999Z"
   },
   {
    "duration": 0,
    "start_time": "2022-03-28T17:09:51.000Z"
   },
   {
    "duration": 0,
    "start_time": "2022-03-28T17:09:51.001Z"
   },
   {
    "duration": 0,
    "start_time": "2022-03-28T17:09:51.003Z"
   },
   {
    "duration": 0,
    "start_time": "2022-03-28T17:09:51.005Z"
   },
   {
    "duration": 157,
    "start_time": "2022-03-28T17:10:09.836Z"
   },
   {
    "duration": 14,
    "start_time": "2022-03-28T17:10:19.656Z"
   },
   {
    "duration": 16,
    "start_time": "2022-03-28T17:11:06.087Z"
   },
   {
    "duration": 37,
    "start_time": "2022-03-28T17:11:11.047Z"
   },
   {
    "duration": 127,
    "start_time": "2022-03-28T17:11:29.485Z"
   },
   {
    "duration": 69,
    "start_time": "2022-03-28T17:11:31.998Z"
   },
   {
    "duration": 1435,
    "start_time": "2022-03-28T17:11:38.373Z"
   },
   {
    "duration": 561,
    "start_time": "2022-03-28T17:11:39.811Z"
   },
   {
    "duration": 193,
    "start_time": "2022-03-28T17:11:40.375Z"
   },
   {
    "duration": 78,
    "start_time": "2022-03-28T17:11:40.571Z"
   },
   {
    "duration": 409,
    "start_time": "2022-03-28T17:11:40.653Z"
   },
   {
    "duration": 26,
    "start_time": "2022-03-28T17:11:41.064Z"
   },
   {
    "duration": 104,
    "start_time": "2022-03-28T17:11:41.092Z"
   },
   {
    "duration": 43,
    "start_time": "2022-03-28T17:11:41.199Z"
   },
   {
    "duration": 125,
    "start_time": "2022-03-28T17:11:41.245Z"
   },
   {
    "duration": 37,
    "start_time": "2022-03-28T17:11:41.383Z"
   },
   {
    "duration": 408,
    "start_time": "2022-03-28T17:11:41.423Z"
   },
   {
    "duration": 14,
    "start_time": "2022-03-28T17:11:41.833Z"
   },
   {
    "duration": 280,
    "start_time": "2022-03-28T17:11:41.850Z"
   },
   {
    "duration": 23,
    "start_time": "2022-03-28T17:11:42.135Z"
   },
   {
    "duration": 25,
    "start_time": "2022-03-28T17:11:42.161Z"
   },
   {
    "duration": 55,
    "start_time": "2022-03-28T17:11:42.189Z"
   },
   {
    "duration": 19,
    "start_time": "2022-03-28T17:11:42.246Z"
   },
   {
    "duration": 179,
    "start_time": "2022-03-28T17:11:42.283Z"
   },
   {
    "duration": 40,
    "start_time": "2022-03-28T17:11:42.464Z"
   },
   {
    "duration": 118,
    "start_time": "2022-03-28T17:11:42.507Z"
   },
   {
    "duration": 171,
    "start_time": "2022-03-28T17:11:42.627Z"
   },
   {
    "duration": 125,
    "start_time": "2022-03-28T17:11:42.801Z"
   },
   {
    "duration": 56,
    "start_time": "2022-03-28T17:11:42.929Z"
   },
   {
    "duration": 18,
    "start_time": "2022-03-28T17:11:42.987Z"
   },
   {
    "duration": 98,
    "start_time": "2022-03-28T17:11:43.007Z"
   },
   {
    "duration": 8,
    "start_time": "2022-03-28T17:11:43.108Z"
   },
   {
    "duration": 111,
    "start_time": "2022-03-28T17:11:43.119Z"
   },
   {
    "duration": 41,
    "start_time": "2022-03-28T17:11:43.284Z"
   },
   {
    "duration": 109,
    "start_time": "2022-03-28T17:11:43.382Z"
   },
   {
    "duration": 17,
    "start_time": "2022-03-28T17:11:43.495Z"
   },
   {
    "duration": 21,
    "start_time": "2022-03-28T17:11:43.514Z"
   },
   {
    "duration": 319,
    "start_time": "2022-03-28T17:11:43.584Z"
   },
   {
    "duration": 0,
    "start_time": "2022-03-28T17:11:43.905Z"
   },
   {
    "duration": 0,
    "start_time": "2022-03-28T17:11:43.907Z"
   },
   {
    "duration": 0,
    "start_time": "2022-03-28T17:11:43.908Z"
   },
   {
    "duration": 0,
    "start_time": "2022-03-28T17:11:43.910Z"
   },
   {
    "duration": 0,
    "start_time": "2022-03-28T17:11:43.912Z"
   },
   {
    "duration": 0,
    "start_time": "2022-03-28T17:11:43.914Z"
   },
   {
    "duration": 0,
    "start_time": "2022-03-28T17:11:43.916Z"
   },
   {
    "duration": 0,
    "start_time": "2022-03-28T17:11:43.917Z"
   },
   {
    "duration": 0,
    "start_time": "2022-03-28T17:11:43.918Z"
   },
   {
    "duration": 0,
    "start_time": "2022-03-28T17:11:43.920Z"
   },
   {
    "duration": 0,
    "start_time": "2022-03-28T17:11:43.921Z"
   },
   {
    "duration": 0,
    "start_time": "2022-03-28T17:11:43.923Z"
   },
   {
    "duration": 0,
    "start_time": "2022-03-28T17:11:43.924Z"
   },
   {
    "duration": 1,
    "start_time": "2022-03-28T17:11:43.994Z"
   },
   {
    "duration": 0,
    "start_time": "2022-03-28T17:11:43.997Z"
   },
   {
    "duration": 0,
    "start_time": "2022-03-28T17:11:43.999Z"
   },
   {
    "duration": 0,
    "start_time": "2022-03-28T17:11:44.002Z"
   },
   {
    "duration": 0,
    "start_time": "2022-03-28T17:11:44.004Z"
   },
   {
    "duration": 13,
    "start_time": "2022-03-28T17:12:42.179Z"
   },
   {
    "duration": 1421,
    "start_time": "2022-03-28T17:13:02.243Z"
   },
   {
    "duration": 529,
    "start_time": "2022-03-28T17:13:03.666Z"
   },
   {
    "duration": 184,
    "start_time": "2022-03-28T17:13:04.198Z"
   },
   {
    "duration": 67,
    "start_time": "2022-03-28T17:13:04.386Z"
   },
   {
    "duration": 388,
    "start_time": "2022-03-28T17:13:04.455Z"
   },
   {
    "duration": 35,
    "start_time": "2022-03-28T17:13:04.847Z"
   },
   {
    "duration": 146,
    "start_time": "2022-03-28T17:13:04.885Z"
   },
   {
    "duration": 80,
    "start_time": "2022-03-28T17:13:05.034Z"
   },
   {
    "duration": 157,
    "start_time": "2022-03-28T17:13:05.117Z"
   },
   {
    "duration": 56,
    "start_time": "2022-03-28T17:13:05.284Z"
   },
   {
    "duration": 384,
    "start_time": "2022-03-28T17:13:05.344Z"
   },
   {
    "duration": 15,
    "start_time": "2022-03-28T17:13:05.731Z"
   },
   {
    "duration": 242,
    "start_time": "2022-03-28T17:13:05.748Z"
   },
   {
    "duration": 23,
    "start_time": "2022-03-28T17:13:05.993Z"
   },
   {
    "duration": 6,
    "start_time": "2022-03-28T17:13:06.019Z"
   },
   {
    "duration": 67,
    "start_time": "2022-03-28T17:13:06.028Z"
   },
   {
    "duration": 21,
    "start_time": "2022-03-28T17:13:06.098Z"
   },
   {
    "duration": 182,
    "start_time": "2022-03-28T17:13:06.121Z"
   },
   {
    "duration": 22,
    "start_time": "2022-03-28T17:13:06.305Z"
   },
   {
    "duration": 111,
    "start_time": "2022-03-28T17:13:06.330Z"
   },
   {
    "duration": 69,
    "start_time": "2022-03-28T17:13:06.444Z"
   },
   {
    "duration": 77,
    "start_time": "2022-03-28T17:13:06.515Z"
   },
   {
    "duration": 7,
    "start_time": "2022-03-28T17:13:06.594Z"
   },
   {
    "duration": 20,
    "start_time": "2022-03-28T17:13:06.603Z"
   },
   {
    "duration": 65,
    "start_time": "2022-03-28T17:13:06.625Z"
   },
   {
    "duration": 7,
    "start_time": "2022-03-28T17:13:06.693Z"
   },
   {
    "duration": 42,
    "start_time": "2022-03-28T17:13:06.702Z"
   },
   {
    "duration": 55,
    "start_time": "2022-03-28T17:13:06.750Z"
   },
   {
    "duration": 90,
    "start_time": "2022-03-28T17:13:06.808Z"
   },
   {
    "duration": 12,
    "start_time": "2022-03-28T17:13:06.901Z"
   },
   {
    "duration": 22,
    "start_time": "2022-03-28T17:13:06.916Z"
   },
   {
    "duration": 175,
    "start_time": "2022-03-28T17:13:06.940Z"
   },
   {
    "duration": 0,
    "start_time": "2022-03-28T17:13:07.118Z"
   },
   {
    "duration": 0,
    "start_time": "2022-03-28T17:13:07.120Z"
   },
   {
    "duration": 0,
    "start_time": "2022-03-28T17:13:07.122Z"
   },
   {
    "duration": 0,
    "start_time": "2022-03-28T17:13:07.123Z"
   },
   {
    "duration": 0,
    "start_time": "2022-03-28T17:13:07.125Z"
   },
   {
    "duration": 0,
    "start_time": "2022-03-28T17:13:07.127Z"
   },
   {
    "duration": 0,
    "start_time": "2022-03-28T17:13:07.129Z"
   },
   {
    "duration": 0,
    "start_time": "2022-03-28T17:13:07.131Z"
   },
   {
    "duration": 0,
    "start_time": "2022-03-28T17:13:07.133Z"
   },
   {
    "duration": 0,
    "start_time": "2022-03-28T17:13:07.134Z"
   },
   {
    "duration": 0,
    "start_time": "2022-03-28T17:13:07.136Z"
   },
   {
    "duration": 0,
    "start_time": "2022-03-28T17:13:07.137Z"
   },
   {
    "duration": 0,
    "start_time": "2022-03-28T17:13:07.138Z"
   },
   {
    "duration": 0,
    "start_time": "2022-03-28T17:13:07.141Z"
   },
   {
    "duration": 0,
    "start_time": "2022-03-28T17:13:07.143Z"
   },
   {
    "duration": 0,
    "start_time": "2022-03-28T17:13:07.183Z"
   },
   {
    "duration": 0,
    "start_time": "2022-03-28T17:13:07.184Z"
   },
   {
    "duration": 0,
    "start_time": "2022-03-28T17:13:07.186Z"
   },
   {
    "duration": 17,
    "start_time": "2022-03-28T17:14:03.451Z"
   },
   {
    "duration": 2070,
    "start_time": "2022-03-28T17:14:18.915Z"
   },
   {
    "duration": 941,
    "start_time": "2022-03-28T17:14:20.988Z"
   },
   {
    "duration": 374,
    "start_time": "2022-03-28T17:14:21.931Z"
   },
   {
    "duration": 78,
    "start_time": "2022-03-28T17:14:22.308Z"
   },
   {
    "duration": 373,
    "start_time": "2022-03-28T17:14:22.390Z"
   },
   {
    "duration": 25,
    "start_time": "2022-03-28T17:14:22.765Z"
   },
   {
    "duration": 103,
    "start_time": "2022-03-28T17:14:22.792Z"
   },
   {
    "duration": 42,
    "start_time": "2022-03-28T17:14:22.897Z"
   },
   {
    "duration": 117,
    "start_time": "2022-03-28T17:14:22.942Z"
   },
   {
    "duration": 49,
    "start_time": "2022-03-28T17:14:23.061Z"
   },
   {
    "duration": 237,
    "start_time": "2022-03-28T17:14:23.112Z"
   },
   {
    "duration": 12,
    "start_time": "2022-03-28T17:14:23.352Z"
   },
   {
    "duration": 230,
    "start_time": "2022-03-28T17:14:23.382Z"
   },
   {
    "duration": 23,
    "start_time": "2022-03-28T17:14:23.617Z"
   },
   {
    "duration": 6,
    "start_time": "2022-03-28T17:14:23.642Z"
   },
   {
    "duration": 55,
    "start_time": "2022-03-28T17:14:23.650Z"
   },
   {
    "duration": 19,
    "start_time": "2022-03-28T17:14:23.707Z"
   },
   {
    "duration": 181,
    "start_time": "2022-03-28T17:14:23.728Z"
   },
   {
    "duration": 22,
    "start_time": "2022-03-28T17:14:23.911Z"
   },
   {
    "duration": 111,
    "start_time": "2022-03-28T17:14:23.936Z"
   },
   {
    "duration": 72,
    "start_time": "2022-03-28T17:14:24.049Z"
   },
   {
    "duration": 69,
    "start_time": "2022-03-28T17:14:24.123Z"
   },
   {
    "duration": 7,
    "start_time": "2022-03-28T17:14:24.194Z"
   },
   {
    "duration": 25,
    "start_time": "2022-03-28T17:14:24.204Z"
   },
   {
    "duration": 76,
    "start_time": "2022-03-28T17:14:24.232Z"
   },
   {
    "duration": 8,
    "start_time": "2022-03-28T17:14:24.310Z"
   },
   {
    "duration": 62,
    "start_time": "2022-03-28T17:14:24.322Z"
   },
   {
    "duration": 25,
    "start_time": "2022-03-28T17:14:24.386Z"
   },
   {
    "duration": 69,
    "start_time": "2022-03-28T17:14:24.413Z"
   },
   {
    "duration": 9,
    "start_time": "2022-03-28T17:14:24.485Z"
   },
   {
    "duration": 29,
    "start_time": "2022-03-28T17:14:24.496Z"
   },
   {
    "duration": 255,
    "start_time": "2022-03-28T17:14:24.529Z"
   },
   {
    "duration": 0,
    "start_time": "2022-03-28T17:14:24.787Z"
   },
   {
    "duration": 0,
    "start_time": "2022-03-28T17:14:24.790Z"
   },
   {
    "duration": 0,
    "start_time": "2022-03-28T17:14:24.792Z"
   },
   {
    "duration": 0,
    "start_time": "2022-03-28T17:14:24.793Z"
   },
   {
    "duration": 0,
    "start_time": "2022-03-28T17:14:24.796Z"
   },
   {
    "duration": 0,
    "start_time": "2022-03-28T17:14:24.799Z"
   },
   {
    "duration": 0,
    "start_time": "2022-03-28T17:14:24.801Z"
   },
   {
    "duration": 0,
    "start_time": "2022-03-28T17:14:24.803Z"
   },
   {
    "duration": 0,
    "start_time": "2022-03-28T17:14:24.806Z"
   },
   {
    "duration": 0,
    "start_time": "2022-03-28T17:14:24.808Z"
   },
   {
    "duration": 0,
    "start_time": "2022-03-28T17:14:24.810Z"
   },
   {
    "duration": 0,
    "start_time": "2022-03-28T17:14:24.812Z"
   },
   {
    "duration": 0,
    "start_time": "2022-03-28T17:14:24.815Z"
   },
   {
    "duration": 0,
    "start_time": "2022-03-28T17:14:24.817Z"
   },
   {
    "duration": 0,
    "start_time": "2022-03-28T17:14:24.820Z"
   },
   {
    "duration": 0,
    "start_time": "2022-03-28T17:14:24.822Z"
   },
   {
    "duration": 0,
    "start_time": "2022-03-28T17:14:24.825Z"
   },
   {
    "duration": 0,
    "start_time": "2022-03-28T17:14:24.883Z"
   },
   {
    "duration": 32,
    "start_time": "2022-03-28T17:16:33.943Z"
   },
   {
    "duration": 38,
    "start_time": "2022-03-28T17:16:54.922Z"
   },
   {
    "duration": 1402,
    "start_time": "2022-03-28T17:18:24.007Z"
   },
   {
    "duration": 481,
    "start_time": "2022-03-28T17:18:25.413Z"
   },
   {
    "duration": 177,
    "start_time": "2022-03-28T17:18:25.896Z"
   },
   {
    "duration": 63,
    "start_time": "2022-03-28T17:18:26.083Z"
   },
   {
    "duration": 375,
    "start_time": "2022-03-28T17:18:26.148Z"
   },
   {
    "duration": 21,
    "start_time": "2022-03-28T17:18:26.525Z"
   },
   {
    "duration": 108,
    "start_time": "2022-03-28T17:18:26.549Z"
   },
   {
    "duration": 54,
    "start_time": "2022-03-28T17:18:26.659Z"
   },
   {
    "duration": 121,
    "start_time": "2022-03-28T17:18:26.715Z"
   },
   {
    "duration": 43,
    "start_time": "2022-03-28T17:18:26.839Z"
   },
   {
    "duration": 267,
    "start_time": "2022-03-28T17:18:26.885Z"
   },
   {
    "duration": 27,
    "start_time": "2022-03-28T17:18:27.155Z"
   },
   {
    "duration": 231,
    "start_time": "2022-03-28T17:18:27.184Z"
   },
   {
    "duration": 23,
    "start_time": "2022-03-28T17:18:27.418Z"
   },
   {
    "duration": 6,
    "start_time": "2022-03-28T17:18:27.444Z"
   },
   {
    "duration": 62,
    "start_time": "2022-03-28T17:18:27.453Z"
   },
   {
    "duration": 20,
    "start_time": "2022-03-28T17:18:27.517Z"
   },
   {
    "duration": 240,
    "start_time": "2022-03-28T17:18:27.540Z"
   },
   {
    "duration": 29,
    "start_time": "2022-03-28T17:18:27.783Z"
   },
   {
    "duration": 109,
    "start_time": "2022-03-28T17:18:27.816Z"
   },
   {
    "duration": 68,
    "start_time": "2022-03-28T17:18:27.928Z"
   },
   {
    "duration": 90,
    "start_time": "2022-03-28T17:18:27.999Z"
   },
   {
    "duration": 8,
    "start_time": "2022-03-28T17:18:28.092Z"
   },
   {
    "duration": 25,
    "start_time": "2022-03-28T17:18:28.103Z"
   },
   {
    "duration": 64,
    "start_time": "2022-03-28T17:18:28.131Z"
   },
   {
    "duration": 20,
    "start_time": "2022-03-28T17:18:28.198Z"
   },
   {
    "duration": 23,
    "start_time": "2022-03-28T17:18:28.220Z"
   },
   {
    "duration": 55,
    "start_time": "2022-03-28T17:18:28.249Z"
   },
   {
    "duration": 2886,
    "start_time": "2022-03-28T17:18:28.307Z"
   },
   {
    "duration": 0,
    "start_time": "2022-03-28T17:18:31.196Z"
   },
   {
    "duration": 0,
    "start_time": "2022-03-28T17:18:31.199Z"
   },
   {
    "duration": 0,
    "start_time": "2022-03-28T17:18:31.200Z"
   },
   {
    "duration": 0,
    "start_time": "2022-03-28T17:18:31.202Z"
   },
   {
    "duration": 0,
    "start_time": "2022-03-28T17:18:31.204Z"
   },
   {
    "duration": 0,
    "start_time": "2022-03-28T17:18:31.206Z"
   },
   {
    "duration": 0,
    "start_time": "2022-03-28T17:18:31.207Z"
   },
   {
    "duration": 0,
    "start_time": "2022-03-28T17:18:31.209Z"
   },
   {
    "duration": 0,
    "start_time": "2022-03-28T17:18:31.211Z"
   },
   {
    "duration": 0,
    "start_time": "2022-03-28T17:18:31.212Z"
   },
   {
    "duration": 0,
    "start_time": "2022-03-28T17:18:31.214Z"
   },
   {
    "duration": 0,
    "start_time": "2022-03-28T17:18:31.216Z"
   },
   {
    "duration": 0,
    "start_time": "2022-03-28T17:18:31.217Z"
   },
   {
    "duration": 0,
    "start_time": "2022-03-28T17:18:31.218Z"
   },
   {
    "duration": 0,
    "start_time": "2022-03-28T17:18:31.220Z"
   },
   {
    "duration": 0,
    "start_time": "2022-03-28T17:18:31.221Z"
   },
   {
    "duration": 0,
    "start_time": "2022-03-28T17:18:31.223Z"
   },
   {
    "duration": 0,
    "start_time": "2022-03-28T17:18:31.224Z"
   },
   {
    "duration": 0,
    "start_time": "2022-03-28T17:18:31.227Z"
   },
   {
    "duration": 0,
    "start_time": "2022-03-28T17:18:31.229Z"
   },
   {
    "duration": 0,
    "start_time": "2022-03-28T17:18:31.231Z"
   },
   {
    "duration": 0,
    "start_time": "2022-03-28T17:18:31.233Z"
   },
   {
    "duration": 1,
    "start_time": "2022-03-28T17:18:31.284Z"
   },
   {
    "duration": 0,
    "start_time": "2022-03-28T17:18:31.287Z"
   },
   {
    "duration": 36,
    "start_time": "2022-03-28T17:21:09.428Z"
   },
   {
    "duration": 1647,
    "start_time": "2022-03-28T17:21:37.808Z"
   },
   {
    "duration": 671,
    "start_time": "2022-03-28T17:21:39.459Z"
   },
   {
    "duration": 244,
    "start_time": "2022-03-28T17:21:40.133Z"
   },
   {
    "duration": 106,
    "start_time": "2022-03-28T17:21:40.384Z"
   },
   {
    "duration": 402,
    "start_time": "2022-03-28T17:21:40.493Z"
   },
   {
    "duration": 22,
    "start_time": "2022-03-28T17:21:40.898Z"
   },
   {
    "duration": 126,
    "start_time": "2022-03-28T17:21:40.922Z"
   },
   {
    "duration": 57,
    "start_time": "2022-03-28T17:21:41.051Z"
   },
   {
    "duration": 120,
    "start_time": "2022-03-28T17:21:41.110Z"
   },
   {
    "duration": 54,
    "start_time": "2022-03-28T17:21:41.236Z"
   },
   {
    "duration": 251,
    "start_time": "2022-03-28T17:21:41.293Z"
   },
   {
    "duration": 11,
    "start_time": "2022-03-28T17:21:41.547Z"
   },
   {
    "duration": 260,
    "start_time": "2022-03-28T17:21:41.561Z"
   },
   {
    "duration": 23,
    "start_time": "2022-03-28T17:21:41.824Z"
   },
   {
    "duration": 32,
    "start_time": "2022-03-28T17:21:41.850Z"
   },
   {
    "duration": 49,
    "start_time": "2022-03-28T17:21:41.884Z"
   },
   {
    "duration": 21,
    "start_time": "2022-03-28T17:21:41.936Z"
   },
   {
    "duration": 184,
    "start_time": "2022-03-28T17:21:41.959Z"
   },
   {
    "duration": 21,
    "start_time": "2022-03-28T17:21:42.145Z"
   },
   {
    "duration": 99,
    "start_time": "2022-03-28T17:21:42.184Z"
   },
   {
    "duration": 56,
    "start_time": "2022-03-28T17:21:42.285Z"
   },
   {
    "duration": 82,
    "start_time": "2022-03-28T17:21:42.344Z"
   },
   {
    "duration": 7,
    "start_time": "2022-03-28T17:21:42.428Z"
   },
   {
    "duration": 45,
    "start_time": "2022-03-28T17:21:42.437Z"
   },
   {
    "duration": 39,
    "start_time": "2022-03-28T17:21:42.485Z"
   },
   {
    "duration": 9,
    "start_time": "2022-03-28T17:21:42.527Z"
   },
   {
    "duration": 26,
    "start_time": "2022-03-28T17:21:42.538Z"
   },
   {
    "duration": 20,
    "start_time": "2022-03-28T17:21:42.585Z"
   },
   {
    "duration": 30,
    "start_time": "2022-03-28T17:21:42.608Z"
   },
   {
    "duration": 16,
    "start_time": "2022-03-28T17:21:42.641Z"
   },
   {
    "duration": 29,
    "start_time": "2022-03-28T17:21:42.659Z"
   },
   {
    "duration": 7,
    "start_time": "2022-03-28T17:21:42.691Z"
   },
   {
    "duration": 25,
    "start_time": "2022-03-28T17:21:42.700Z"
   },
   {
    "duration": 47,
    "start_time": "2022-03-28T17:21:42.727Z"
   },
   {
    "duration": 64,
    "start_time": "2022-03-28T17:21:42.776Z"
   },
   {
    "duration": 71,
    "start_time": "2022-03-28T17:21:42.843Z"
   },
   {
    "duration": 82,
    "start_time": "2022-03-28T17:21:42.916Z"
   },
   {
    "duration": 6,
    "start_time": "2022-03-28T17:21:43.000Z"
   },
   {
    "duration": 46,
    "start_time": "2022-03-28T17:21:43.009Z"
   },
   {
    "duration": 308,
    "start_time": "2022-03-28T17:21:43.057Z"
   },
   {
    "duration": 38,
    "start_time": "2022-03-28T17:21:43.368Z"
   },
   {
    "duration": 34,
    "start_time": "2022-03-28T17:21:43.408Z"
   },
   {
    "duration": 313,
    "start_time": "2022-03-28T17:21:43.444Z"
   },
   {
    "duration": 525,
    "start_time": "2022-03-28T17:21:43.760Z"
   },
   {
    "duration": 23,
    "start_time": "2022-03-28T17:21:44.287Z"
   },
   {
    "duration": 5,
    "start_time": "2022-03-28T17:21:44.313Z"
   },
   {
    "duration": 63,
    "start_time": "2022-03-28T17:21:44.320Z"
   },
   {
    "duration": 13,
    "start_time": "2022-03-28T17:21:44.386Z"
   },
   {
    "duration": 12,
    "start_time": "2022-03-28T17:21:44.401Z"
   },
   {
    "duration": 68,
    "start_time": "2022-03-28T17:21:44.415Z"
   },
   {
    "duration": 1875,
    "start_time": "2022-03-28T17:22:37.288Z"
   },
   {
    "duration": 662,
    "start_time": "2022-03-28T17:22:39.166Z"
   },
   {
    "duration": 247,
    "start_time": "2022-03-28T17:22:39.830Z"
   },
   {
    "duration": 111,
    "start_time": "2022-03-28T17:22:40.084Z"
   },
   {
    "duration": 595,
    "start_time": "2022-03-28T17:22:40.198Z"
   },
   {
    "duration": 25,
    "start_time": "2022-03-28T17:22:40.796Z"
   },
   {
    "duration": 144,
    "start_time": "2022-03-28T17:22:40.823Z"
   },
   {
    "duration": 72,
    "start_time": "2022-03-28T17:22:40.970Z"
   },
   {
    "duration": 162,
    "start_time": "2022-03-28T17:22:41.044Z"
   },
   {
    "duration": 52,
    "start_time": "2022-03-28T17:22:41.212Z"
   },
   {
    "duration": 363,
    "start_time": "2022-03-28T17:22:41.283Z"
   },
   {
    "duration": 15,
    "start_time": "2022-03-28T17:22:41.649Z"
   },
   {
    "duration": 340,
    "start_time": "2022-03-28T17:22:41.683Z"
   },
   {
    "duration": 30,
    "start_time": "2022-03-28T17:22:42.026Z"
   },
   {
    "duration": 28,
    "start_time": "2022-03-28T17:22:42.059Z"
   },
   {
    "duration": 62,
    "start_time": "2022-03-28T17:22:42.090Z"
   },
   {
    "duration": 29,
    "start_time": "2022-03-28T17:22:42.154Z"
   },
   {
    "duration": 305,
    "start_time": "2022-03-28T17:22:42.186Z"
   },
   {
    "duration": 21,
    "start_time": "2022-03-28T17:22:42.493Z"
   },
   {
    "duration": 197,
    "start_time": "2022-03-28T17:22:42.516Z"
   },
   {
    "duration": 103,
    "start_time": "2022-03-28T17:22:42.715Z"
   },
   {
    "duration": 107,
    "start_time": "2022-03-28T17:22:42.820Z"
   },
   {
    "duration": 7,
    "start_time": "2022-03-28T17:22:42.983Z"
   },
   {
    "duration": 38,
    "start_time": "2022-03-28T17:22:42.993Z"
   },
   {
    "duration": 86,
    "start_time": "2022-03-28T17:22:43.033Z"
   },
   {
    "duration": 64,
    "start_time": "2022-03-28T17:22:43.121Z"
   },
   {
    "duration": 112,
    "start_time": "2022-03-28T17:22:43.188Z"
   },
   {
    "duration": 83,
    "start_time": "2022-03-28T17:22:43.306Z"
   },
   {
    "duration": 108,
    "start_time": "2022-03-28T17:22:43.391Z"
   },
   {
    "duration": 9,
    "start_time": "2022-03-28T17:22:43.501Z"
   },
   {
    "duration": 78,
    "start_time": "2022-03-28T17:22:43.512Z"
   },
   {
    "duration": 28,
    "start_time": "2022-03-28T17:22:43.593Z"
   },
   {
    "duration": 63,
    "start_time": "2022-03-28T17:22:43.623Z"
   },
   {
    "duration": 95,
    "start_time": "2022-03-28T17:22:43.688Z"
   },
   {
    "duration": 117,
    "start_time": "2022-03-28T17:22:43.785Z"
   },
   {
    "duration": 108,
    "start_time": "2022-03-28T17:22:43.905Z"
   },
   {
    "duration": 171,
    "start_time": "2022-03-28T17:22:44.015Z"
   },
   {
    "duration": 6,
    "start_time": "2022-03-28T17:22:44.188Z"
   },
   {
    "duration": 87,
    "start_time": "2022-03-28T17:22:44.196Z"
   },
   {
    "duration": 625,
    "start_time": "2022-03-28T17:22:44.285Z"
   },
   {
    "duration": 78,
    "start_time": "2022-03-28T17:22:44.912Z"
   },
   {
    "duration": 6,
    "start_time": "2022-03-28T17:22:44.993Z"
   },
   {
    "duration": 614,
    "start_time": "2022-03-28T17:22:45.002Z"
   },
   {
    "duration": 573,
    "start_time": "2022-03-28T17:22:45.618Z"
   },
   {
    "duration": 24,
    "start_time": "2022-03-28T17:22:46.194Z"
   },
   {
    "duration": 8,
    "start_time": "2022-03-28T17:22:46.220Z"
   },
   {
    "duration": 11,
    "start_time": "2022-03-28T17:22:46.230Z"
   },
   {
    "duration": 52,
    "start_time": "2022-03-28T17:22:46.243Z"
   },
   {
    "duration": 18,
    "start_time": "2022-03-28T17:22:46.298Z"
   },
   {
    "duration": 17,
    "start_time": "2022-03-28T17:22:46.318Z"
   },
   {
    "duration": 1348,
    "start_time": "2022-03-28T17:48:37.045Z"
   },
   {
    "duration": 473,
    "start_time": "2022-03-28T17:48:38.396Z"
   },
   {
    "duration": 187,
    "start_time": "2022-03-28T17:48:38.871Z"
   },
   {
    "duration": 78,
    "start_time": "2022-03-28T17:48:39.061Z"
   },
   {
    "duration": 406,
    "start_time": "2022-03-28T17:48:39.141Z"
   },
   {
    "duration": 20,
    "start_time": "2022-03-28T17:48:39.549Z"
   },
   {
    "duration": 113,
    "start_time": "2022-03-28T17:48:39.571Z"
   },
   {
    "duration": 48,
    "start_time": "2022-03-28T17:48:39.687Z"
   },
   {
    "duration": 131,
    "start_time": "2022-03-28T17:48:39.738Z"
   },
   {
    "duration": 33,
    "start_time": "2022-03-28T17:48:39.882Z"
   },
   {
    "duration": 270,
    "start_time": "2022-03-28T17:48:39.918Z"
   },
   {
    "duration": 12,
    "start_time": "2022-03-28T17:48:40.190Z"
   },
   {
    "duration": 256,
    "start_time": "2022-03-28T17:48:40.204Z"
   },
   {
    "duration": 33,
    "start_time": "2022-03-28T17:48:40.463Z"
   },
   {
    "duration": 10,
    "start_time": "2022-03-28T17:48:40.498Z"
   },
   {
    "duration": 48,
    "start_time": "2022-03-28T17:48:40.510Z"
   },
   {
    "duration": 36,
    "start_time": "2022-03-28T17:48:40.561Z"
   },
   {
    "duration": 171,
    "start_time": "2022-03-28T17:48:40.599Z"
   },
   {
    "duration": 29,
    "start_time": "2022-03-28T17:48:40.773Z"
   },
   {
    "duration": 105,
    "start_time": "2022-03-28T17:48:40.804Z"
   },
   {
    "duration": 71,
    "start_time": "2022-03-28T17:48:40.911Z"
   },
   {
    "duration": 60,
    "start_time": "2022-03-28T17:48:40.985Z"
   },
   {
    "duration": 8,
    "start_time": "2022-03-28T17:48:41.048Z"
   },
   {
    "duration": 39,
    "start_time": "2022-03-28T17:48:41.059Z"
   },
   {
    "duration": 36,
    "start_time": "2022-03-28T17:48:41.100Z"
   },
   {
    "duration": 2800,
    "start_time": "2022-03-28T17:48:41.138Z"
   },
   {
    "duration": 0,
    "start_time": "2022-03-28T17:48:43.941Z"
   },
   {
    "duration": 0,
    "start_time": "2022-03-28T17:48:43.943Z"
   },
   {
    "duration": 0,
    "start_time": "2022-03-28T17:48:43.944Z"
   },
   {
    "duration": 0,
    "start_time": "2022-03-28T17:48:43.946Z"
   },
   {
    "duration": 0,
    "start_time": "2022-03-28T17:48:43.947Z"
   },
   {
    "duration": 0,
    "start_time": "2022-03-28T17:48:43.949Z"
   },
   {
    "duration": 0,
    "start_time": "2022-03-28T17:48:43.950Z"
   },
   {
    "duration": 0,
    "start_time": "2022-03-28T17:48:43.952Z"
   },
   {
    "duration": 0,
    "start_time": "2022-03-28T17:48:43.953Z"
   },
   {
    "duration": 0,
    "start_time": "2022-03-28T17:48:43.955Z"
   },
   {
    "duration": 0,
    "start_time": "2022-03-28T17:48:43.956Z"
   },
   {
    "duration": 0,
    "start_time": "2022-03-28T17:48:43.957Z"
   },
   {
    "duration": 0,
    "start_time": "2022-03-28T17:48:43.959Z"
   },
   {
    "duration": 0,
    "start_time": "2022-03-28T17:48:43.961Z"
   },
   {
    "duration": 1,
    "start_time": "2022-03-28T17:48:43.962Z"
   },
   {
    "duration": 0,
    "start_time": "2022-03-28T17:48:43.964Z"
   },
   {
    "duration": 0,
    "start_time": "2022-03-28T17:48:43.965Z"
   },
   {
    "duration": 0,
    "start_time": "2022-03-28T17:48:43.966Z"
   },
   {
    "duration": 0,
    "start_time": "2022-03-28T17:48:43.968Z"
   },
   {
    "duration": 0,
    "start_time": "2022-03-28T17:48:43.970Z"
   },
   {
    "duration": 0,
    "start_time": "2022-03-28T17:48:43.971Z"
   },
   {
    "duration": 0,
    "start_time": "2022-03-28T17:48:43.973Z"
   },
   {
    "duration": 0,
    "start_time": "2022-03-28T17:48:43.975Z"
   },
   {
    "duration": 0,
    "start_time": "2022-03-28T17:48:43.976Z"
   },
   {
    "duration": 1382,
    "start_time": "2022-03-28T17:51:01.227Z"
   },
   {
    "duration": 452,
    "start_time": "2022-03-28T17:51:02.612Z"
   },
   {
    "duration": 173,
    "start_time": "2022-03-28T17:51:03.067Z"
   },
   {
    "duration": 76,
    "start_time": "2022-03-28T17:51:03.243Z"
   },
   {
    "duration": 374,
    "start_time": "2022-03-28T17:51:03.321Z"
   },
   {
    "duration": 20,
    "start_time": "2022-03-28T17:51:03.697Z"
   },
   {
    "duration": 113,
    "start_time": "2022-03-28T17:51:03.720Z"
   },
   {
    "duration": 66,
    "start_time": "2022-03-28T17:51:03.835Z"
   },
   {
    "duration": 126,
    "start_time": "2022-03-28T17:51:03.908Z"
   },
   {
    "duration": 47,
    "start_time": "2022-03-28T17:51:04.038Z"
   },
   {
    "duration": 245,
    "start_time": "2022-03-28T17:51:04.088Z"
   },
   {
    "duration": 12,
    "start_time": "2022-03-28T17:51:04.337Z"
   },
   {
    "duration": 242,
    "start_time": "2022-03-28T17:51:04.351Z"
   },
   {
    "duration": 23,
    "start_time": "2022-03-28T17:51:04.596Z"
   },
   {
    "duration": 6,
    "start_time": "2022-03-28T17:51:04.622Z"
   },
   {
    "duration": 65,
    "start_time": "2022-03-28T17:51:04.630Z"
   },
   {
    "duration": 21,
    "start_time": "2022-03-28T17:51:04.698Z"
   },
   {
    "duration": 189,
    "start_time": "2022-03-28T17:51:04.721Z"
   },
   {
    "duration": 21,
    "start_time": "2022-03-28T17:51:04.913Z"
   },
   {
    "duration": 109,
    "start_time": "2022-03-28T17:51:04.937Z"
   },
   {
    "duration": 69,
    "start_time": "2022-03-28T17:51:05.048Z"
   },
   {
    "duration": 65,
    "start_time": "2022-03-28T17:51:05.119Z"
   },
   {
    "duration": 8,
    "start_time": "2022-03-28T17:51:05.187Z"
   },
   {
    "duration": 49,
    "start_time": "2022-03-28T17:51:05.198Z"
   },
   {
    "duration": 56,
    "start_time": "2022-03-28T17:51:05.249Z"
   },
   {
    "duration": 7,
    "start_time": "2022-03-28T17:51:05.307Z"
   },
   {
    "duration": 65,
    "start_time": "2022-03-28T17:51:05.317Z"
   },
   {
    "duration": 28,
    "start_time": "2022-03-28T17:51:05.388Z"
   },
   {
    "duration": 77,
    "start_time": "2022-03-28T17:51:05.418Z"
   },
   {
    "duration": 22,
    "start_time": "2022-03-28T17:51:05.497Z"
   },
   {
    "duration": 26,
    "start_time": "2022-03-28T17:51:05.522Z"
   },
   {
    "duration": 14,
    "start_time": "2022-03-28T17:51:05.550Z"
   },
   {
    "duration": 27,
    "start_time": "2022-03-28T17:51:05.567Z"
   },
   {
    "duration": 48,
    "start_time": "2022-03-28T17:51:05.596Z"
   },
   {
    "duration": 61,
    "start_time": "2022-03-28T17:51:05.646Z"
   },
   {
    "duration": 60,
    "start_time": "2022-03-28T17:51:05.710Z"
   },
   {
    "duration": 86,
    "start_time": "2022-03-28T17:51:05.772Z"
   },
   {
    "duration": 6,
    "start_time": "2022-03-28T17:51:05.861Z"
   },
   {
    "duration": 39,
    "start_time": "2022-03-28T17:51:05.870Z"
   },
   {
    "duration": 324,
    "start_time": "2022-03-28T17:51:05.911Z"
   },
   {
    "duration": 23,
    "start_time": "2022-03-28T17:51:06.237Z"
   },
   {
    "duration": 23,
    "start_time": "2022-03-28T17:51:06.263Z"
   },
   {
    "duration": 303,
    "start_time": "2022-03-28T17:51:06.289Z"
   },
   {
    "duration": 293,
    "start_time": "2022-03-28T17:51:06.595Z"
   },
   {
    "duration": 25,
    "start_time": "2022-03-28T17:51:06.892Z"
   },
   {
    "duration": 6,
    "start_time": "2022-03-28T17:51:06.920Z"
   },
   {
    "duration": 53,
    "start_time": "2022-03-28T17:51:06.929Z"
   },
   {
    "duration": 16,
    "start_time": "2022-03-28T17:51:06.984Z"
   },
   {
    "duration": 18,
    "start_time": "2022-03-28T17:51:07.003Z"
   },
   {
    "duration": 15,
    "start_time": "2022-03-28T17:51:07.024Z"
   },
   {
    "duration": 1303,
    "start_time": "2022-03-28T17:55:55.702Z"
   },
   {
    "duration": 454,
    "start_time": "2022-03-28T17:55:57.007Z"
   },
   {
    "duration": 166,
    "start_time": "2022-03-28T17:55:57.463Z"
   },
   {
    "duration": 69,
    "start_time": "2022-03-28T17:55:57.631Z"
   },
   {
    "duration": 355,
    "start_time": "2022-03-28T17:55:57.703Z"
   },
   {
    "duration": 28,
    "start_time": "2022-03-28T17:55:58.060Z"
   },
   {
    "duration": 104,
    "start_time": "2022-03-28T17:55:58.090Z"
   },
   {
    "duration": 41,
    "start_time": "2022-03-28T17:55:58.196Z"
   },
   {
    "duration": 122,
    "start_time": "2022-03-28T17:55:58.239Z"
   },
   {
    "duration": 42,
    "start_time": "2022-03-28T17:55:58.364Z"
   },
   {
    "duration": 243,
    "start_time": "2022-03-28T17:55:58.408Z"
   },
   {
    "duration": 12,
    "start_time": "2022-03-28T17:55:58.653Z"
   },
   {
    "duration": 234,
    "start_time": "2022-03-28T17:55:58.683Z"
   },
   {
    "duration": 23,
    "start_time": "2022-03-28T17:55:58.921Z"
   },
   {
    "duration": 6,
    "start_time": "2022-03-28T17:55:58.947Z"
   },
   {
    "duration": 31,
    "start_time": "2022-03-28T17:55:58.981Z"
   },
   {
    "duration": 18,
    "start_time": "2022-03-28T17:55:59.015Z"
   },
   {
    "duration": 189,
    "start_time": "2022-03-28T17:55:59.035Z"
   },
   {
    "duration": 21,
    "start_time": "2022-03-28T17:55:59.227Z"
   },
   {
    "duration": 108,
    "start_time": "2022-03-28T17:55:59.250Z"
   },
   {
    "duration": 66,
    "start_time": "2022-03-28T17:55:59.360Z"
   },
   {
    "duration": 69,
    "start_time": "2022-03-28T17:55:59.429Z"
   },
   {
    "duration": 7,
    "start_time": "2022-03-28T17:55:59.500Z"
   },
   {
    "duration": 16,
    "start_time": "2022-03-28T17:55:59.510Z"
   },
   {
    "duration": 62,
    "start_time": "2022-03-28T17:55:59.529Z"
   },
   {
    "duration": 2618,
    "start_time": "2022-03-28T17:55:59.593Z"
   },
   {
    "duration": 0,
    "start_time": "2022-03-28T17:56:02.214Z"
   },
   {
    "duration": 0,
    "start_time": "2022-03-28T17:56:02.215Z"
   },
   {
    "duration": 0,
    "start_time": "2022-03-28T17:56:02.217Z"
   },
   {
    "duration": 0,
    "start_time": "2022-03-28T17:56:02.219Z"
   },
   {
    "duration": 0,
    "start_time": "2022-03-28T17:56:02.220Z"
   },
   {
    "duration": 0,
    "start_time": "2022-03-28T17:56:02.221Z"
   },
   {
    "duration": 0,
    "start_time": "2022-03-28T17:56:02.223Z"
   },
   {
    "duration": 0,
    "start_time": "2022-03-28T17:56:02.224Z"
   },
   {
    "duration": 0,
    "start_time": "2022-03-28T17:56:02.225Z"
   },
   {
    "duration": 0,
    "start_time": "2022-03-28T17:56:02.227Z"
   },
   {
    "duration": 0,
    "start_time": "2022-03-28T17:56:02.228Z"
   },
   {
    "duration": 0,
    "start_time": "2022-03-28T17:56:02.230Z"
   },
   {
    "duration": 0,
    "start_time": "2022-03-28T17:56:02.231Z"
   },
   {
    "duration": 0,
    "start_time": "2022-03-28T17:56:02.232Z"
   },
   {
    "duration": 0,
    "start_time": "2022-03-28T17:56:02.234Z"
   },
   {
    "duration": 0,
    "start_time": "2022-03-28T17:56:02.235Z"
   },
   {
    "duration": 0,
    "start_time": "2022-03-28T17:56:02.236Z"
   },
   {
    "duration": 0,
    "start_time": "2022-03-28T17:56:02.238Z"
   },
   {
    "duration": 0,
    "start_time": "2022-03-28T17:56:02.239Z"
   },
   {
    "duration": 0,
    "start_time": "2022-03-28T17:56:02.284Z"
   },
   {
    "duration": 0,
    "start_time": "2022-03-28T17:56:02.285Z"
   },
   {
    "duration": 0,
    "start_time": "2022-03-28T17:56:02.287Z"
   },
   {
    "duration": 0,
    "start_time": "2022-03-28T17:56:02.288Z"
   },
   {
    "duration": 0,
    "start_time": "2022-03-28T17:56:02.290Z"
   },
   {
    "duration": 37,
    "start_time": "2022-03-28T17:58:36.448Z"
   },
   {
    "duration": 11,
    "start_time": "2022-03-28T17:59:34.418Z"
   },
   {
    "duration": 29,
    "start_time": "2022-03-28T17:59:42.643Z"
   },
   {
    "duration": 63,
    "start_time": "2022-03-28T18:00:12.933Z"
   },
   {
    "duration": 69,
    "start_time": "2022-03-28T18:00:56.067Z"
   },
   {
    "duration": 99,
    "start_time": "2022-03-28T18:01:18.442Z"
   },
   {
    "duration": 18,
    "start_time": "2022-03-28T18:04:25.517Z"
   },
   {
    "duration": 129,
    "start_time": "2022-03-28T18:05:19.207Z"
   },
   {
    "duration": 1450,
    "start_time": "2022-03-28T18:05:50.059Z"
   },
   {
    "duration": 481,
    "start_time": "2022-03-28T18:05:51.512Z"
   },
   {
    "duration": 212,
    "start_time": "2022-03-28T18:05:51.995Z"
   },
   {
    "duration": 82,
    "start_time": "2022-03-28T18:05:52.210Z"
   },
   {
    "duration": 376,
    "start_time": "2022-03-28T18:05:52.294Z"
   },
   {
    "duration": 29,
    "start_time": "2022-03-28T18:05:52.672Z"
   },
   {
    "duration": 178,
    "start_time": "2022-03-28T18:05:52.704Z"
   },
   {
    "duration": 98,
    "start_time": "2022-03-28T18:05:52.885Z"
   },
   {
    "duration": 215,
    "start_time": "2022-03-28T18:05:52.985Z"
   },
   {
    "duration": 113,
    "start_time": "2022-03-28T18:05:53.206Z"
   },
   {
    "duration": 566,
    "start_time": "2022-03-28T18:05:53.322Z"
   },
   {
    "duration": 12,
    "start_time": "2022-03-28T18:05:53.891Z"
   },
   {
    "duration": 476,
    "start_time": "2022-03-28T18:05:53.906Z"
   },
   {
    "duration": 23,
    "start_time": "2022-03-28T18:05:54.385Z"
   },
   {
    "duration": 6,
    "start_time": "2022-03-28T18:05:54.410Z"
   },
   {
    "duration": 82,
    "start_time": "2022-03-28T18:05:54.418Z"
   },
   {
    "duration": 20,
    "start_time": "2022-03-28T18:05:54.502Z"
   },
   {
    "duration": 483,
    "start_time": "2022-03-28T18:05:54.525Z"
   },
   {
    "duration": 81,
    "start_time": "2022-03-28T18:05:55.012Z"
   },
   {
    "duration": 287,
    "start_time": "2022-03-28T18:05:55.096Z"
   },
   {
    "duration": 136,
    "start_time": "2022-03-28T18:05:55.386Z"
   },
   {
    "duration": 162,
    "start_time": "2022-03-28T18:05:55.525Z"
   },
   {
    "duration": 7,
    "start_time": "2022-03-28T18:05:55.689Z"
   },
   {
    "duration": 204,
    "start_time": "2022-03-28T18:05:55.698Z"
   },
   {
    "duration": 291,
    "start_time": "2022-03-28T18:05:55.905Z"
   },
   {
    "duration": 0,
    "start_time": "2022-03-28T18:05:56.201Z"
   },
   {
    "duration": 0,
    "start_time": "2022-03-28T18:05:56.205Z"
   },
   {
    "duration": 0,
    "start_time": "2022-03-28T18:05:56.207Z"
   },
   {
    "duration": 0,
    "start_time": "2022-03-28T18:05:56.209Z"
   },
   {
    "duration": 0,
    "start_time": "2022-03-28T18:05:56.211Z"
   },
   {
    "duration": 0,
    "start_time": "2022-03-28T18:05:56.214Z"
   },
   {
    "duration": 0,
    "start_time": "2022-03-28T18:05:56.215Z"
   },
   {
    "duration": 0,
    "start_time": "2022-03-28T18:05:56.217Z"
   },
   {
    "duration": 0,
    "start_time": "2022-03-28T18:05:56.219Z"
   },
   {
    "duration": 0,
    "start_time": "2022-03-28T18:05:56.221Z"
   },
   {
    "duration": 0,
    "start_time": "2022-03-28T18:05:56.283Z"
   },
   {
    "duration": 0,
    "start_time": "2022-03-28T18:05:56.285Z"
   },
   {
    "duration": 0,
    "start_time": "2022-03-28T18:05:56.287Z"
   },
   {
    "duration": 0,
    "start_time": "2022-03-28T18:05:56.289Z"
   },
   {
    "duration": 0,
    "start_time": "2022-03-28T18:05:56.292Z"
   },
   {
    "duration": 0,
    "start_time": "2022-03-28T18:05:56.294Z"
   },
   {
    "duration": 0,
    "start_time": "2022-03-28T18:05:56.296Z"
   },
   {
    "duration": 0,
    "start_time": "2022-03-28T18:05:56.298Z"
   },
   {
    "duration": 0,
    "start_time": "2022-03-28T18:05:56.300Z"
   },
   {
    "duration": 0,
    "start_time": "2022-03-28T18:05:56.302Z"
   },
   {
    "duration": 0,
    "start_time": "2022-03-28T18:05:56.305Z"
   },
   {
    "duration": 0,
    "start_time": "2022-03-28T18:05:56.308Z"
   },
   {
    "duration": 0,
    "start_time": "2022-03-28T18:05:56.311Z"
   },
   {
    "duration": 0,
    "start_time": "2022-03-28T18:05:56.315Z"
   },
   {
    "duration": 0,
    "start_time": "2022-03-28T18:05:56.317Z"
   },
   {
    "duration": 0,
    "start_time": "2022-03-28T18:05:56.319Z"
   },
   {
    "duration": 0,
    "start_time": "2022-03-28T18:05:56.383Z"
   },
   {
    "duration": 16,
    "start_time": "2022-03-28T18:06:11.939Z"
   },
   {
    "duration": 15,
    "start_time": "2022-03-28T18:08:15.567Z"
   },
   {
    "duration": 1442,
    "start_time": "2022-03-28T18:09:25.458Z"
   },
   {
    "duration": 481,
    "start_time": "2022-03-28T18:09:26.903Z"
   },
   {
    "duration": 188,
    "start_time": "2022-03-28T18:09:27.387Z"
   },
   {
    "duration": 77,
    "start_time": "2022-03-28T18:09:27.578Z"
   },
   {
    "duration": 411,
    "start_time": "2022-03-28T18:09:27.657Z"
   },
   {
    "duration": 27,
    "start_time": "2022-03-28T18:09:28.071Z"
   },
   {
    "duration": 109,
    "start_time": "2022-03-28T18:09:28.100Z"
   },
   {
    "duration": 48,
    "start_time": "2022-03-28T18:09:28.211Z"
   },
   {
    "duration": 141,
    "start_time": "2022-03-28T18:09:28.262Z"
   },
   {
    "duration": 34,
    "start_time": "2022-03-28T18:09:28.407Z"
   },
   {
    "duration": 268,
    "start_time": "2022-03-28T18:09:28.443Z"
   },
   {
    "duration": 12,
    "start_time": "2022-03-28T18:09:28.714Z"
   },
   {
    "duration": 257,
    "start_time": "2022-03-28T18:09:28.728Z"
   },
   {
    "duration": 24,
    "start_time": "2022-03-28T18:09:28.988Z"
   },
   {
    "duration": 5,
    "start_time": "2022-03-28T18:09:29.015Z"
   },
   {
    "duration": 65,
    "start_time": "2022-03-28T18:09:29.022Z"
   },
   {
    "duration": 21,
    "start_time": "2022-03-28T18:09:29.090Z"
   },
   {
    "duration": 195,
    "start_time": "2022-03-28T18:09:29.114Z"
   },
   {
    "duration": 23,
    "start_time": "2022-03-28T18:09:29.311Z"
   },
   {
    "duration": 117,
    "start_time": "2022-03-28T18:09:29.338Z"
   },
   {
    "duration": 65,
    "start_time": "2022-03-28T18:09:29.457Z"
   },
   {
    "duration": 74,
    "start_time": "2022-03-28T18:09:29.524Z"
   },
   {
    "duration": 6,
    "start_time": "2022-03-28T18:09:29.600Z"
   },
   {
    "duration": 2760,
    "start_time": "2022-03-28T18:09:29.608Z"
   },
   {
    "duration": 0,
    "start_time": "2022-03-28T18:09:32.372Z"
   },
   {
    "duration": 0,
    "start_time": "2022-03-28T18:09:32.374Z"
   },
   {
    "duration": 0,
    "start_time": "2022-03-28T18:09:32.375Z"
   },
   {
    "duration": 0,
    "start_time": "2022-03-28T18:09:32.377Z"
   },
   {
    "duration": 0,
    "start_time": "2022-03-28T18:09:32.378Z"
   },
   {
    "duration": 0,
    "start_time": "2022-03-28T18:09:32.379Z"
   },
   {
    "duration": 0,
    "start_time": "2022-03-28T18:09:32.381Z"
   },
   {
    "duration": 0,
    "start_time": "2022-03-28T18:09:32.383Z"
   },
   {
    "duration": 0,
    "start_time": "2022-03-28T18:09:32.385Z"
   },
   {
    "duration": 0,
    "start_time": "2022-03-28T18:09:32.387Z"
   },
   {
    "duration": 0,
    "start_time": "2022-03-28T18:09:32.388Z"
   },
   {
    "duration": 0,
    "start_time": "2022-03-28T18:09:32.389Z"
   },
   {
    "duration": 0,
    "start_time": "2022-03-28T18:09:32.391Z"
   },
   {
    "duration": 0,
    "start_time": "2022-03-28T18:09:32.392Z"
   },
   {
    "duration": 0,
    "start_time": "2022-03-28T18:09:32.394Z"
   },
   {
    "duration": 0,
    "start_time": "2022-03-28T18:09:32.395Z"
   },
   {
    "duration": 0,
    "start_time": "2022-03-28T18:09:32.399Z"
   },
   {
    "duration": 0,
    "start_time": "2022-03-28T18:09:32.400Z"
   },
   {
    "duration": 0,
    "start_time": "2022-03-28T18:09:32.401Z"
   },
   {
    "duration": 0,
    "start_time": "2022-03-28T18:09:32.403Z"
   },
   {
    "duration": 0,
    "start_time": "2022-03-28T18:09:32.404Z"
   },
   {
    "duration": 0,
    "start_time": "2022-03-28T18:09:32.405Z"
   },
   {
    "duration": 0,
    "start_time": "2022-03-28T18:09:32.406Z"
   },
   {
    "duration": 0,
    "start_time": "2022-03-28T18:09:32.407Z"
   },
   {
    "duration": 0,
    "start_time": "2022-03-28T18:09:32.408Z"
   },
   {
    "duration": 0,
    "start_time": "2022-03-28T18:09:32.410Z"
   },
   {
    "duration": 0,
    "start_time": "2022-03-28T18:09:32.411Z"
   },
   {
    "duration": 0,
    "start_time": "2022-03-28T18:09:32.412Z"
   },
   {
    "duration": 41,
    "start_time": "2022-03-28T18:10:11.828Z"
   },
   {
    "duration": 8,
    "start_time": "2022-03-28T18:10:49.541Z"
   },
   {
    "duration": 7,
    "start_time": "2022-03-28T18:10:58.924Z"
   },
   {
    "duration": 8,
    "start_time": "2022-03-28T18:10:59.521Z"
   },
   {
    "duration": 19,
    "start_time": "2022-03-28T18:11:23.622Z"
   },
   {
    "duration": 10,
    "start_time": "2022-03-28T18:12:09.668Z"
   },
   {
    "duration": 36,
    "start_time": "2022-03-28T18:12:12.759Z"
   },
   {
    "duration": 1450,
    "start_time": "2022-03-28T18:12:38.193Z"
   },
   {
    "duration": 467,
    "start_time": "2022-03-28T18:12:39.645Z"
   },
   {
    "duration": 175,
    "start_time": "2022-03-28T18:12:40.114Z"
   },
   {
    "duration": 65,
    "start_time": "2022-03-28T18:12:40.294Z"
   },
   {
    "duration": 396,
    "start_time": "2022-03-28T18:12:40.362Z"
   },
   {
    "duration": 27,
    "start_time": "2022-03-28T18:12:40.761Z"
   },
   {
    "duration": 101,
    "start_time": "2022-03-28T18:12:40.791Z"
   },
   {
    "duration": 46,
    "start_time": "2022-03-28T18:12:40.895Z"
   },
   {
    "duration": 126,
    "start_time": "2022-03-28T18:12:40.944Z"
   },
   {
    "duration": 34,
    "start_time": "2022-03-28T18:12:41.083Z"
   },
   {
    "duration": 251,
    "start_time": "2022-03-28T18:12:41.119Z"
   },
   {
    "duration": 15,
    "start_time": "2022-03-28T18:12:41.373Z"
   },
   {
    "duration": 255,
    "start_time": "2022-03-28T18:12:41.391Z"
   },
   {
    "duration": 38,
    "start_time": "2022-03-28T18:12:41.648Z"
   },
   {
    "duration": 6,
    "start_time": "2022-03-28T18:12:41.688Z"
   },
   {
    "duration": 36,
    "start_time": "2022-03-28T18:12:41.696Z"
   },
   {
    "duration": 59,
    "start_time": "2022-03-28T18:12:41.734Z"
   },
   {
    "duration": 226,
    "start_time": "2022-03-28T18:12:41.795Z"
   },
   {
    "duration": 32,
    "start_time": "2022-03-28T18:12:42.024Z"
   },
   {
    "duration": 158,
    "start_time": "2022-03-28T18:12:42.058Z"
   },
   {
    "duration": 99,
    "start_time": "2022-03-28T18:12:42.219Z"
   },
   {
    "duration": 93,
    "start_time": "2022-03-28T18:12:42.321Z"
   },
   {
    "duration": 8,
    "start_time": "2022-03-28T18:12:42.417Z"
   },
   {
    "duration": 75,
    "start_time": "2022-03-28T18:12:42.428Z"
   },
   {
    "duration": 9,
    "start_time": "2022-03-28T18:12:42.506Z"
   },
   {
    "duration": 27,
    "start_time": "2022-03-28T18:12:42.518Z"
   },
   {
    "duration": 45,
    "start_time": "2022-03-28T18:12:42.548Z"
   },
   {
    "duration": 4,
    "start_time": "2022-03-28T18:12:42.604Z"
   },
   {
    "duration": 76,
    "start_time": "2022-03-28T18:12:42.611Z"
   },
   {
    "duration": 3062,
    "start_time": "2022-03-28T18:12:42.691Z"
   },
   {
    "duration": 0,
    "start_time": "2022-03-28T18:12:45.756Z"
   },
   {
    "duration": 0,
    "start_time": "2022-03-28T18:12:45.757Z"
   },
   {
    "duration": 0,
    "start_time": "2022-03-28T18:12:45.758Z"
   },
   {
    "duration": 0,
    "start_time": "2022-03-28T18:12:45.760Z"
   },
   {
    "duration": 0,
    "start_time": "2022-03-28T18:12:45.761Z"
   },
   {
    "duration": 0,
    "start_time": "2022-03-28T18:12:45.763Z"
   },
   {
    "duration": 0,
    "start_time": "2022-03-28T18:12:45.764Z"
   },
   {
    "duration": 0,
    "start_time": "2022-03-28T18:12:45.766Z"
   },
   {
    "duration": 0,
    "start_time": "2022-03-28T18:12:45.767Z"
   },
   {
    "duration": 0,
    "start_time": "2022-03-28T18:12:45.770Z"
   },
   {
    "duration": 0,
    "start_time": "2022-03-28T18:12:45.771Z"
   },
   {
    "duration": 0,
    "start_time": "2022-03-28T18:12:45.773Z"
   },
   {
    "duration": 0,
    "start_time": "2022-03-28T18:12:45.774Z"
   },
   {
    "duration": 0,
    "start_time": "2022-03-28T18:12:45.776Z"
   },
   {
    "duration": 0,
    "start_time": "2022-03-28T18:12:45.777Z"
   },
   {
    "duration": 0,
    "start_time": "2022-03-28T18:12:45.778Z"
   },
   {
    "duration": 0,
    "start_time": "2022-03-28T18:12:45.780Z"
   },
   {
    "duration": 0,
    "start_time": "2022-03-28T18:12:45.781Z"
   },
   {
    "duration": 0,
    "start_time": "2022-03-28T18:12:45.783Z"
   },
   {
    "duration": 0,
    "start_time": "2022-03-28T18:12:45.784Z"
   },
   {
    "duration": 0,
    "start_time": "2022-03-28T18:12:45.785Z"
   },
   {
    "duration": 0,
    "start_time": "2022-03-28T18:12:45.786Z"
   },
   {
    "duration": 0,
    "start_time": "2022-03-28T18:12:45.788Z"
   },
   {
    "duration": 0,
    "start_time": "2022-03-28T18:12:45.789Z"
   },
   {
    "duration": 19,
    "start_time": "2022-03-28T18:13:21.103Z"
   },
   {
    "duration": 7,
    "start_time": "2022-03-28T18:13:47.342Z"
   },
   {
    "duration": 10,
    "start_time": "2022-03-28T18:17:02.803Z"
   },
   {
    "duration": 16,
    "start_time": "2022-03-28T18:17:40.671Z"
   },
   {
    "duration": 1424,
    "start_time": "2022-03-28T18:17:52.162Z"
   },
   {
    "duration": 467,
    "start_time": "2022-03-28T18:17:53.588Z"
   },
   {
    "duration": 177,
    "start_time": "2022-03-28T18:17:54.057Z"
   },
   {
    "duration": 78,
    "start_time": "2022-03-28T18:17:54.237Z"
   },
   {
    "duration": 366,
    "start_time": "2022-03-28T18:17:54.317Z"
   },
   {
    "duration": 20,
    "start_time": "2022-03-28T18:17:54.685Z"
   },
   {
    "duration": 108,
    "start_time": "2022-03-28T18:17:54.707Z"
   },
   {
    "duration": 41,
    "start_time": "2022-03-28T18:17:54.817Z"
   },
   {
    "duration": 135,
    "start_time": "2022-03-28T18:17:54.860Z"
   },
   {
    "duration": 33,
    "start_time": "2022-03-28T18:17:54.999Z"
   },
   {
    "duration": 260,
    "start_time": "2022-03-28T18:17:55.035Z"
   },
   {
    "duration": 12,
    "start_time": "2022-03-28T18:17:55.297Z"
   },
   {
    "duration": 255,
    "start_time": "2022-03-28T18:17:55.311Z"
   },
   {
    "duration": 31,
    "start_time": "2022-03-28T18:17:55.568Z"
   },
   {
    "duration": 6,
    "start_time": "2022-03-28T18:17:55.601Z"
   },
   {
    "duration": 40,
    "start_time": "2022-03-28T18:17:55.609Z"
   },
   {
    "duration": 49,
    "start_time": "2022-03-28T18:17:55.651Z"
   },
   {
    "duration": 181,
    "start_time": "2022-03-28T18:17:55.703Z"
   },
   {
    "duration": 23,
    "start_time": "2022-03-28T18:17:55.887Z"
   },
   {
    "duration": 121,
    "start_time": "2022-03-28T18:17:55.913Z"
   },
   {
    "duration": 72,
    "start_time": "2022-03-28T18:17:56.037Z"
   },
   {
    "duration": 76,
    "start_time": "2022-03-28T18:17:56.112Z"
   },
   {
    "duration": 8,
    "start_time": "2022-03-28T18:17:56.191Z"
   },
   {
    "duration": 35,
    "start_time": "2022-03-28T18:17:56.202Z"
   },
   {
    "duration": 50,
    "start_time": "2022-03-28T18:17:56.240Z"
   },
   {
    "duration": 17,
    "start_time": "2022-03-28T18:17:56.292Z"
   },
   {
    "duration": 32,
    "start_time": "2022-03-28T18:17:56.312Z"
   },
   {
    "duration": 11,
    "start_time": "2022-03-28T18:17:56.350Z"
   },
   {
    "duration": 26,
    "start_time": "2022-03-28T18:17:56.363Z"
   },
   {
    "duration": 35,
    "start_time": "2022-03-28T18:17:56.391Z"
   },
   {
    "duration": 21,
    "start_time": "2022-03-28T18:17:56.429Z"
   },
   {
    "duration": 43,
    "start_time": "2022-03-28T18:17:56.452Z"
   },
   {
    "duration": 29,
    "start_time": "2022-03-28T18:17:56.497Z"
   },
   {
    "duration": 23,
    "start_time": "2022-03-28T18:17:56.528Z"
   },
   {
    "duration": 22,
    "start_time": "2022-03-28T18:17:56.553Z"
   },
   {
    "duration": 7,
    "start_time": "2022-03-28T18:17:56.581Z"
   },
   {
    "duration": 12,
    "start_time": "2022-03-28T18:17:56.590Z"
   },
   {
    "duration": 40,
    "start_time": "2022-03-28T18:17:56.604Z"
   },
   {
    "duration": 82,
    "start_time": "2022-03-28T18:17:56.646Z"
   },
   {
    "duration": 66,
    "start_time": "2022-03-28T18:17:56.730Z"
   },
   {
    "duration": 72,
    "start_time": "2022-03-28T18:17:56.798Z"
   },
   {
    "duration": 15,
    "start_time": "2022-03-28T18:17:56.872Z"
   },
   {
    "duration": 22,
    "start_time": "2022-03-28T18:17:56.889Z"
   },
   {
    "duration": 331,
    "start_time": "2022-03-28T18:17:56.914Z"
   },
   {
    "duration": 36,
    "start_time": "2022-03-28T18:17:57.247Z"
   },
   {
    "duration": 5,
    "start_time": "2022-03-28T18:17:57.286Z"
   },
   {
    "duration": 316,
    "start_time": "2022-03-28T18:17:57.293Z"
   },
   {
    "duration": 504,
    "start_time": "2022-03-28T18:17:57.611Z"
   },
   {
    "duration": 78,
    "start_time": "2022-03-28T18:17:58.118Z"
   },
   {
    "duration": 7,
    "start_time": "2022-03-28T18:17:58.198Z"
   },
   {
    "duration": 12,
    "start_time": "2022-03-28T18:17:58.207Z"
   },
   {
    "duration": 65,
    "start_time": "2022-03-28T18:17:58.221Z"
   },
   {
    "duration": 12,
    "start_time": "2022-03-28T18:17:58.288Z"
   },
   {
    "duration": 13,
    "start_time": "2022-03-28T18:17:58.302Z"
   },
   {
    "duration": 33,
    "start_time": "2022-03-28T18:24:07.634Z"
   },
   {
    "duration": 8,
    "start_time": "2022-03-28T18:25:40.665Z"
   },
   {
    "duration": 18,
    "start_time": "2022-03-28T18:25:45.086Z"
   },
   {
    "duration": 1495,
    "start_time": "2022-03-28T18:32:04.695Z"
   },
   {
    "duration": 491,
    "start_time": "2022-03-28T18:32:06.192Z"
   },
   {
    "duration": 199,
    "start_time": "2022-03-28T18:32:06.686Z"
   },
   {
    "duration": 68,
    "start_time": "2022-03-28T18:32:06.888Z"
   },
   {
    "duration": 408,
    "start_time": "2022-03-28T18:32:06.982Z"
   },
   {
    "duration": 22,
    "start_time": "2022-03-28T18:32:07.392Z"
   },
   {
    "duration": 122,
    "start_time": "2022-03-28T18:32:07.417Z"
   },
   {
    "duration": 61,
    "start_time": "2022-03-28T18:32:07.541Z"
   },
   {
    "duration": 123,
    "start_time": "2022-03-28T18:32:07.605Z"
   },
   {
    "duration": 34,
    "start_time": "2022-03-28T18:32:07.732Z"
   },
   {
    "duration": 250,
    "start_time": "2022-03-28T18:32:07.782Z"
   },
   {
    "duration": 12,
    "start_time": "2022-03-28T18:32:08.035Z"
   },
   {
    "duration": 253,
    "start_time": "2022-03-28T18:32:08.050Z"
   },
   {
    "duration": 26,
    "start_time": "2022-03-28T18:32:08.307Z"
   },
   {
    "duration": 7,
    "start_time": "2022-03-28T18:32:08.336Z"
   },
   {
    "duration": 65,
    "start_time": "2022-03-28T18:32:08.347Z"
   },
   {
    "duration": 21,
    "start_time": "2022-03-28T18:32:08.415Z"
   },
   {
    "duration": 195,
    "start_time": "2022-03-28T18:32:08.439Z"
   },
   {
    "duration": 22,
    "start_time": "2022-03-28T18:32:08.637Z"
   },
   {
    "duration": 107,
    "start_time": "2022-03-28T18:32:08.662Z"
   },
   {
    "duration": 62,
    "start_time": "2022-03-28T18:32:08.771Z"
   },
   {
    "duration": 87,
    "start_time": "2022-03-28T18:32:08.836Z"
   },
   {
    "duration": 8,
    "start_time": "2022-03-28T18:32:08.926Z"
   },
   {
    "duration": 54,
    "start_time": "2022-03-28T18:32:08.938Z"
   },
   {
    "duration": 19,
    "start_time": "2022-03-28T18:32:08.994Z"
   },
   {
    "duration": 11,
    "start_time": "2022-03-28T18:32:09.016Z"
   },
   {
    "duration": 19,
    "start_time": "2022-03-28T18:32:09.030Z"
   },
   {
    "duration": 10,
    "start_time": "2022-03-28T18:32:09.086Z"
   },
   {
    "duration": 8,
    "start_time": "2022-03-28T18:32:09.099Z"
   },
   {
    "duration": 37,
    "start_time": "2022-03-28T18:32:09.109Z"
   },
   {
    "duration": 51,
    "start_time": "2022-03-28T18:32:09.148Z"
   },
   {
    "duration": 8,
    "start_time": "2022-03-28T18:32:09.202Z"
   },
   {
    "duration": 19,
    "start_time": "2022-03-28T18:32:09.212Z"
   },
   {
    "duration": 6,
    "start_time": "2022-03-28T18:32:09.234Z"
   },
   {
    "duration": 47,
    "start_time": "2022-03-28T18:32:09.242Z"
   },
   {
    "duration": 34,
    "start_time": "2022-03-28T18:32:09.291Z"
   },
   {
    "duration": 101,
    "start_time": "2022-03-28T18:32:09.327Z"
   },
   {
    "duration": 69,
    "start_time": "2022-03-28T18:32:09.430Z"
   },
   {
    "duration": 85,
    "start_time": "2022-03-28T18:32:09.501Z"
   },
   {
    "duration": 6,
    "start_time": "2022-03-28T18:32:09.588Z"
   },
   {
    "duration": 23,
    "start_time": "2022-03-28T18:32:09.597Z"
   },
   {
    "duration": 341,
    "start_time": "2022-03-28T18:32:09.623Z"
   },
   {
    "duration": 31,
    "start_time": "2022-03-28T18:32:09.967Z"
   },
   {
    "duration": 12,
    "start_time": "2022-03-28T18:32:10.000Z"
   },
   {
    "duration": 357,
    "start_time": "2022-03-28T18:32:10.015Z"
   },
   {
    "duration": 627,
    "start_time": "2022-03-28T18:32:10.383Z"
   },
   {
    "duration": 78,
    "start_time": "2022-03-28T18:32:11.013Z"
   },
   {
    "duration": 7,
    "start_time": "2022-03-28T18:32:11.094Z"
   },
   {
    "duration": 17,
    "start_time": "2022-03-28T18:32:11.104Z"
   },
   {
    "duration": 61,
    "start_time": "2022-03-28T18:32:11.124Z"
   },
   {
    "duration": 20,
    "start_time": "2022-03-28T18:32:11.188Z"
   },
   {
    "duration": 77,
    "start_time": "2022-03-28T18:32:11.212Z"
   },
   {
    "duration": 33,
    "start_time": "2022-03-28T18:33:08.554Z"
   },
   {
    "duration": 42,
    "start_time": "2022-03-28T18:33:33.268Z"
   },
   {
    "duration": 11,
    "start_time": "2022-03-28T18:34:54.309Z"
   },
   {
    "duration": 1933,
    "start_time": "2022-03-28T18:37:43.649Z"
   },
   {
    "duration": 718,
    "start_time": "2022-03-28T18:37:45.586Z"
   },
   {
    "duration": 177,
    "start_time": "2022-03-28T18:37:46.308Z"
   },
   {
    "duration": 66,
    "start_time": "2022-03-28T18:37:46.489Z"
   },
   {
    "duration": 389,
    "start_time": "2022-03-28T18:37:46.558Z"
   },
   {
    "duration": 36,
    "start_time": "2022-03-28T18:37:46.950Z"
   },
   {
    "duration": 101,
    "start_time": "2022-03-28T18:37:46.989Z"
   },
   {
    "duration": 42,
    "start_time": "2022-03-28T18:37:47.093Z"
   },
   {
    "duration": 126,
    "start_time": "2022-03-28T18:37:47.137Z"
   },
   {
    "duration": 33,
    "start_time": "2022-03-28T18:37:47.282Z"
   },
   {
    "duration": 409,
    "start_time": "2022-03-28T18:37:47.318Z"
   },
   {
    "duration": 15,
    "start_time": "2022-03-28T18:37:47.731Z"
   },
   {
    "duration": 264,
    "start_time": "2022-03-28T18:37:47.748Z"
   },
   {
    "duration": 23,
    "start_time": "2022-03-28T18:37:48.015Z"
   },
   {
    "duration": 32,
    "start_time": "2022-03-28T18:37:48.040Z"
   },
   {
    "duration": 49,
    "start_time": "2022-03-28T18:37:48.075Z"
   },
   {
    "duration": 20,
    "start_time": "2022-03-28T18:37:48.127Z"
   },
   {
    "duration": 187,
    "start_time": "2022-03-28T18:37:48.149Z"
   },
   {
    "duration": 44,
    "start_time": "2022-03-28T18:37:48.340Z"
   },
   {
    "duration": 139,
    "start_time": "2022-03-28T18:37:48.387Z"
   },
   {
    "duration": 92,
    "start_time": "2022-03-28T18:37:48.529Z"
   },
   {
    "duration": 95,
    "start_time": "2022-03-28T18:37:48.623Z"
   },
   {
    "duration": 8,
    "start_time": "2022-03-28T18:37:48.721Z"
   },
   {
    "duration": 276,
    "start_time": "2022-03-28T18:37:48.731Z"
   },
   {
    "duration": 0,
    "start_time": "2022-03-28T18:37:49.012Z"
   },
   {
    "duration": 0,
    "start_time": "2022-03-28T18:37:49.015Z"
   },
   {
    "duration": 0,
    "start_time": "2022-03-28T18:37:49.017Z"
   },
   {
    "duration": 0,
    "start_time": "2022-03-28T18:37:49.019Z"
   },
   {
    "duration": 0,
    "start_time": "2022-03-28T18:37:49.021Z"
   },
   {
    "duration": 1,
    "start_time": "2022-03-28T18:37:49.022Z"
   },
   {
    "duration": 0,
    "start_time": "2022-03-28T18:37:49.024Z"
   },
   {
    "duration": 0,
    "start_time": "2022-03-28T18:37:49.025Z"
   },
   {
    "duration": 0,
    "start_time": "2022-03-28T18:37:49.026Z"
   },
   {
    "duration": 0,
    "start_time": "2022-03-28T18:37:49.028Z"
   },
   {
    "duration": 0,
    "start_time": "2022-03-28T18:37:49.032Z"
   },
   {
    "duration": 0,
    "start_time": "2022-03-28T18:37:49.034Z"
   },
   {
    "duration": 0,
    "start_time": "2022-03-28T18:37:49.035Z"
   },
   {
    "duration": 0,
    "start_time": "2022-03-28T18:37:49.037Z"
   },
   {
    "duration": 0,
    "start_time": "2022-03-28T18:37:49.038Z"
   },
   {
    "duration": 0,
    "start_time": "2022-03-28T18:37:49.040Z"
   },
   {
    "duration": 0,
    "start_time": "2022-03-28T18:37:49.042Z"
   },
   {
    "duration": 0,
    "start_time": "2022-03-28T18:37:49.082Z"
   },
   {
    "duration": 0,
    "start_time": "2022-03-28T18:37:49.084Z"
   },
   {
    "duration": 0,
    "start_time": "2022-03-28T18:37:49.086Z"
   },
   {
    "duration": 0,
    "start_time": "2022-03-28T18:37:49.087Z"
   },
   {
    "duration": 0,
    "start_time": "2022-03-28T18:37:49.089Z"
   },
   {
    "duration": 0,
    "start_time": "2022-03-28T18:37:49.090Z"
   },
   {
    "duration": 0,
    "start_time": "2022-03-28T18:37:49.092Z"
   },
   {
    "duration": 0,
    "start_time": "2022-03-28T18:37:49.093Z"
   },
   {
    "duration": 0,
    "start_time": "2022-03-28T18:37:49.094Z"
   },
   {
    "duration": 43,
    "start_time": "2022-03-28T18:37:59.154Z"
   },
   {
    "duration": 1454,
    "start_time": "2022-03-28T18:38:18.492Z"
   },
   {
    "duration": 883,
    "start_time": "2022-03-28T18:38:19.949Z"
   },
   {
    "duration": 382,
    "start_time": "2022-03-28T18:38:20.834Z"
   },
   {
    "duration": 169,
    "start_time": "2022-03-28T18:38:21.219Z"
   },
   {
    "duration": 702,
    "start_time": "2022-03-28T18:38:21.390Z"
   },
   {
    "duration": 20,
    "start_time": "2022-03-28T18:38:22.094Z"
   },
   {
    "duration": 202,
    "start_time": "2022-03-28T18:38:22.116Z"
   },
   {
    "duration": 98,
    "start_time": "2022-03-28T18:38:22.320Z"
   },
   {
    "duration": 270,
    "start_time": "2022-03-28T18:38:22.420Z"
   },
   {
    "duration": 86,
    "start_time": "2022-03-28T18:38:22.696Z"
   },
   {
    "duration": 384,
    "start_time": "2022-03-28T18:38:22.785Z"
   },
   {
    "duration": 18,
    "start_time": "2022-03-28T18:38:23.172Z"
   },
   {
    "duration": 240,
    "start_time": "2022-03-28T18:38:23.193Z"
   },
   {
    "duration": 23,
    "start_time": "2022-03-28T18:38:23.436Z"
   },
   {
    "duration": 5,
    "start_time": "2022-03-28T18:38:23.482Z"
   },
   {
    "duration": 68,
    "start_time": "2022-03-28T18:38:23.489Z"
   },
   {
    "duration": 46,
    "start_time": "2022-03-28T18:38:23.559Z"
   },
   {
    "duration": 166,
    "start_time": "2022-03-28T18:38:23.607Z"
   },
   {
    "duration": 22,
    "start_time": "2022-03-28T18:38:23.782Z"
   },
   {
    "duration": 122,
    "start_time": "2022-03-28T18:38:23.806Z"
   },
   {
    "duration": 64,
    "start_time": "2022-03-28T18:38:23.931Z"
   },
   {
    "duration": 56,
    "start_time": "2022-03-28T18:38:23.997Z"
   },
   {
    "duration": 6,
    "start_time": "2022-03-28T18:38:24.055Z"
   },
   {
    "duration": 50,
    "start_time": "2022-03-28T18:38:24.083Z"
   },
   {
    "duration": 155,
    "start_time": "2022-03-28T18:38:24.135Z"
   },
   {
    "duration": 0,
    "start_time": "2022-03-28T18:38:24.294Z"
   },
   {
    "duration": 0,
    "start_time": "2022-03-28T18:38:24.295Z"
   },
   {
    "duration": 0,
    "start_time": "2022-03-28T18:38:24.297Z"
   },
   {
    "duration": 0,
    "start_time": "2022-03-28T18:38:24.299Z"
   },
   {
    "duration": 0,
    "start_time": "2022-03-28T18:38:24.300Z"
   },
   {
    "duration": 0,
    "start_time": "2022-03-28T18:38:24.301Z"
   },
   {
    "duration": 0,
    "start_time": "2022-03-28T18:38:24.303Z"
   },
   {
    "duration": 0,
    "start_time": "2022-03-28T18:38:24.304Z"
   },
   {
    "duration": 0,
    "start_time": "2022-03-28T18:38:24.306Z"
   },
   {
    "duration": 0,
    "start_time": "2022-03-28T18:38:24.308Z"
   },
   {
    "duration": 0,
    "start_time": "2022-03-28T18:38:24.309Z"
   },
   {
    "duration": 0,
    "start_time": "2022-03-28T18:38:24.311Z"
   },
   {
    "duration": 0,
    "start_time": "2022-03-28T18:38:24.313Z"
   },
   {
    "duration": 0,
    "start_time": "2022-03-28T18:38:24.315Z"
   },
   {
    "duration": 0,
    "start_time": "2022-03-28T18:38:24.317Z"
   },
   {
    "duration": 0,
    "start_time": "2022-03-28T18:38:24.319Z"
   },
   {
    "duration": 0,
    "start_time": "2022-03-28T18:38:24.321Z"
   },
   {
    "duration": 0,
    "start_time": "2022-03-28T18:38:24.323Z"
   },
   {
    "duration": 0,
    "start_time": "2022-03-28T18:38:24.325Z"
   },
   {
    "duration": 1,
    "start_time": "2022-03-28T18:38:24.382Z"
   },
   {
    "duration": 0,
    "start_time": "2022-03-28T18:38:24.385Z"
   },
   {
    "duration": 0,
    "start_time": "2022-03-28T18:38:24.387Z"
   },
   {
    "duration": 0,
    "start_time": "2022-03-28T18:38:24.389Z"
   },
   {
    "duration": 0,
    "start_time": "2022-03-28T18:38:24.391Z"
   },
   {
    "duration": 0,
    "start_time": "2022-03-28T18:38:24.393Z"
   },
   {
    "duration": 1404,
    "start_time": "2022-03-28T18:53:11.365Z"
   },
   {
    "duration": 462,
    "start_time": "2022-03-28T18:53:12.772Z"
   },
   {
    "duration": 155,
    "start_time": "2022-03-28T18:53:13.236Z"
   },
   {
    "duration": 60,
    "start_time": "2022-03-28T18:53:13.393Z"
   },
   {
    "duration": 302,
    "start_time": "2022-03-28T18:53:13.455Z"
   },
   {
    "duration": 21,
    "start_time": "2022-03-28T18:53:13.759Z"
   },
   {
    "duration": 97,
    "start_time": "2022-03-28T18:53:13.783Z"
   },
   {
    "duration": 33,
    "start_time": "2022-03-28T18:53:13.882Z"
   },
   {
    "duration": 89,
    "start_time": "2022-03-28T18:53:13.916Z"
   },
   {
    "duration": 59,
    "start_time": "2022-03-28T18:53:14.009Z"
   },
   {
    "duration": 188,
    "start_time": "2022-03-28T18:53:14.070Z"
   },
   {
    "duration": 14,
    "start_time": "2022-03-28T18:53:14.259Z"
   },
   {
    "duration": 194,
    "start_time": "2022-03-28T18:53:14.275Z"
   },
   {
    "duration": 19,
    "start_time": "2022-03-28T18:53:14.471Z"
   },
   {
    "duration": 6,
    "start_time": "2022-03-28T18:53:14.492Z"
   },
   {
    "duration": 56,
    "start_time": "2022-03-28T18:53:14.500Z"
   },
   {
    "duration": 17,
    "start_time": "2022-03-28T18:53:14.558Z"
   },
   {
    "duration": 130,
    "start_time": "2022-03-28T18:53:14.577Z"
   },
   {
    "duration": 33,
    "start_time": "2022-03-28T18:53:14.710Z"
   },
   {
    "duration": 73,
    "start_time": "2022-03-28T18:53:14.745Z"
   },
   {
    "duration": 48,
    "start_time": "2022-03-28T18:53:14.832Z"
   },
   {
    "duration": 64,
    "start_time": "2022-03-28T18:53:14.882Z"
   },
   {
    "duration": 6,
    "start_time": "2022-03-28T18:53:14.948Z"
   },
   {
    "duration": 40,
    "start_time": "2022-03-28T18:53:14.956Z"
   },
   {
    "duration": 6,
    "start_time": "2022-03-28T18:53:14.998Z"
   },
   {
    "duration": 141,
    "start_time": "2022-03-28T18:53:15.006Z"
   },
   {
    "duration": 0,
    "start_time": "2022-03-28T18:53:15.150Z"
   },
   {
    "duration": 0,
    "start_time": "2022-03-28T18:53:15.151Z"
   },
   {
    "duration": 0,
    "start_time": "2022-03-28T18:53:15.152Z"
   },
   {
    "duration": 0,
    "start_time": "2022-03-28T18:53:15.153Z"
   },
   {
    "duration": 0,
    "start_time": "2022-03-28T18:53:15.155Z"
   },
   {
    "duration": 0,
    "start_time": "2022-03-28T18:53:15.156Z"
   },
   {
    "duration": 0,
    "start_time": "2022-03-28T18:53:15.157Z"
   },
   {
    "duration": 0,
    "start_time": "2022-03-28T18:53:15.158Z"
   },
   {
    "duration": 0,
    "start_time": "2022-03-28T18:53:15.159Z"
   },
   {
    "duration": 0,
    "start_time": "2022-03-28T18:53:15.160Z"
   },
   {
    "duration": 0,
    "start_time": "2022-03-28T18:53:15.162Z"
   },
   {
    "duration": 0,
    "start_time": "2022-03-28T18:53:15.163Z"
   },
   {
    "duration": 0,
    "start_time": "2022-03-28T18:53:15.164Z"
   },
   {
    "duration": 0,
    "start_time": "2022-03-28T18:53:15.165Z"
   },
   {
    "duration": 0,
    "start_time": "2022-03-28T18:53:15.166Z"
   },
   {
    "duration": 0,
    "start_time": "2022-03-28T18:53:15.167Z"
   },
   {
    "duration": 0,
    "start_time": "2022-03-28T18:53:15.168Z"
   },
   {
    "duration": 0,
    "start_time": "2022-03-28T18:53:15.170Z"
   },
   {
    "duration": 0,
    "start_time": "2022-03-28T18:53:15.171Z"
   },
   {
    "duration": 0,
    "start_time": "2022-03-28T18:53:15.172Z"
   },
   {
    "duration": 0,
    "start_time": "2022-03-28T18:53:15.173Z"
   },
   {
    "duration": 0,
    "start_time": "2022-03-28T18:53:15.175Z"
   },
   {
    "duration": 0,
    "start_time": "2022-03-28T18:53:15.176Z"
   },
   {
    "duration": 1164,
    "start_time": "2022-03-28T18:54:28.627Z"
   },
   {
    "duration": 450,
    "start_time": "2022-03-28T18:54:29.793Z"
   },
   {
    "duration": 149,
    "start_time": "2022-03-28T18:54:30.244Z"
   },
   {
    "duration": 61,
    "start_time": "2022-03-28T18:54:30.396Z"
   },
   {
    "duration": 300,
    "start_time": "2022-03-28T18:54:30.459Z"
   },
   {
    "duration": 16,
    "start_time": "2022-03-28T18:54:30.761Z"
   },
   {
    "duration": 86,
    "start_time": "2022-03-28T18:54:30.779Z"
   },
   {
    "duration": 33,
    "start_time": "2022-03-28T18:54:30.867Z"
   },
   {
    "duration": 97,
    "start_time": "2022-03-28T18:54:30.901Z"
   },
   {
    "duration": 39,
    "start_time": "2022-03-28T18:54:31.001Z"
   },
   {
    "duration": 203,
    "start_time": "2022-03-28T18:54:31.041Z"
   },
   {
    "duration": 10,
    "start_time": "2022-03-28T18:54:31.246Z"
   },
   {
    "duration": 181,
    "start_time": "2022-03-28T18:54:31.258Z"
   },
   {
    "duration": 16,
    "start_time": "2022-03-28T18:54:31.441Z"
   },
   {
    "duration": 5,
    "start_time": "2022-03-28T18:54:31.459Z"
   },
   {
    "duration": 49,
    "start_time": "2022-03-28T18:54:31.466Z"
   },
   {
    "duration": 23,
    "start_time": "2022-03-28T18:54:31.517Z"
   },
   {
    "duration": 116,
    "start_time": "2022-03-28T18:54:31.542Z"
   },
   {
    "duration": 16,
    "start_time": "2022-03-28T18:54:31.660Z"
   },
   {
    "duration": 85,
    "start_time": "2022-03-28T18:54:31.678Z"
   },
   {
    "duration": 46,
    "start_time": "2022-03-28T18:54:31.764Z"
   },
   {
    "duration": 61,
    "start_time": "2022-03-28T18:54:31.812Z"
   },
   {
    "duration": 5,
    "start_time": "2022-03-28T18:54:31.875Z"
   },
   {
    "duration": 50,
    "start_time": "2022-03-28T18:54:31.881Z"
   },
   {
    "duration": 6,
    "start_time": "2022-03-28T18:54:31.933Z"
   },
   {
    "duration": 118,
    "start_time": "2022-03-28T18:54:31.940Z"
   },
   {
    "duration": 0,
    "start_time": "2022-03-28T18:54:32.061Z"
   },
   {
    "duration": 0,
    "start_time": "2022-03-28T18:54:32.062Z"
   },
   {
    "duration": 0,
    "start_time": "2022-03-28T18:54:32.064Z"
   },
   {
    "duration": 0,
    "start_time": "2022-03-28T18:54:32.065Z"
   },
   {
    "duration": 0,
    "start_time": "2022-03-28T18:54:32.066Z"
   },
   {
    "duration": 0,
    "start_time": "2022-03-28T18:54:32.067Z"
   },
   {
    "duration": 0,
    "start_time": "2022-03-28T18:54:32.068Z"
   },
   {
    "duration": 0,
    "start_time": "2022-03-28T18:54:32.069Z"
   },
   {
    "duration": 0,
    "start_time": "2022-03-28T18:54:32.070Z"
   },
   {
    "duration": 0,
    "start_time": "2022-03-28T18:54:32.070Z"
   },
   {
    "duration": 0,
    "start_time": "2022-03-28T18:54:32.072Z"
   },
   {
    "duration": 0,
    "start_time": "2022-03-28T18:54:32.073Z"
   },
   {
    "duration": 0,
    "start_time": "2022-03-28T18:54:32.073Z"
   },
   {
    "duration": 0,
    "start_time": "2022-03-28T18:54:32.074Z"
   },
   {
    "duration": 0,
    "start_time": "2022-03-28T18:54:32.075Z"
   },
   {
    "duration": 0,
    "start_time": "2022-03-28T18:54:32.076Z"
   },
   {
    "duration": 0,
    "start_time": "2022-03-28T18:54:32.077Z"
   },
   {
    "duration": 0,
    "start_time": "2022-03-28T18:54:32.078Z"
   },
   {
    "duration": 0,
    "start_time": "2022-03-28T18:54:32.079Z"
   },
   {
    "duration": 0,
    "start_time": "2022-03-28T18:54:32.080Z"
   },
   {
    "duration": 0,
    "start_time": "2022-03-28T18:54:32.081Z"
   },
   {
    "duration": 0,
    "start_time": "2022-03-28T18:54:32.082Z"
   },
   {
    "duration": 0,
    "start_time": "2022-03-28T18:54:32.083Z"
   },
   {
    "duration": 8,
    "start_time": "2022-03-28T18:54:49.325Z"
   },
   {
    "duration": 7,
    "start_time": "2022-03-28T18:55:18.038Z"
   },
   {
    "duration": 6,
    "start_time": "2022-03-28T18:55:19.800Z"
   },
   {
    "duration": 27,
    "start_time": "2022-03-28T18:55:21.924Z"
   },
   {
    "duration": 7,
    "start_time": "2022-03-28T18:55:43.715Z"
   },
   {
    "duration": 9,
    "start_time": "2022-03-28T18:55:54.321Z"
   },
   {
    "duration": 12,
    "start_time": "2022-03-28T18:55:54.838Z"
   },
   {
    "duration": 7,
    "start_time": "2022-03-28T18:56:15.728Z"
   },
   {
    "duration": 6,
    "start_time": "2022-03-28T18:56:21.261Z"
   },
   {
    "duration": 10,
    "start_time": "2022-03-28T18:56:21.844Z"
   },
   {
    "duration": 1273,
    "start_time": "2022-03-28T18:58:16.004Z"
   },
   {
    "duration": 477,
    "start_time": "2022-03-28T18:58:17.279Z"
   },
   {
    "duration": 154,
    "start_time": "2022-03-28T18:58:17.758Z"
   },
   {
    "duration": 50,
    "start_time": "2022-03-28T18:58:17.915Z"
   },
   {
    "duration": 315,
    "start_time": "2022-03-28T18:58:17.968Z"
   },
   {
    "duration": 17,
    "start_time": "2022-03-28T18:58:18.285Z"
   },
   {
    "duration": 87,
    "start_time": "2022-03-28T18:58:18.304Z"
   },
   {
    "duration": 46,
    "start_time": "2022-03-28T18:58:18.393Z"
   },
   {
    "duration": 75,
    "start_time": "2022-03-28T18:58:18.441Z"
   },
   {
    "duration": 26,
    "start_time": "2022-03-28T18:58:18.532Z"
   },
   {
    "duration": 191,
    "start_time": "2022-03-28T18:58:18.560Z"
   },
   {
    "duration": 10,
    "start_time": "2022-03-28T18:58:18.752Z"
   },
   {
    "duration": 186,
    "start_time": "2022-03-28T18:58:18.764Z"
   },
   {
    "duration": 17,
    "start_time": "2022-03-28T18:58:18.952Z"
   },
   {
    "duration": 5,
    "start_time": "2022-03-28T18:58:18.970Z"
   },
   {
    "duration": 30,
    "start_time": "2022-03-28T18:58:18.976Z"
   },
   {
    "duration": 16,
    "start_time": "2022-03-28T18:58:19.032Z"
   },
   {
    "duration": 123,
    "start_time": "2022-03-28T18:58:19.050Z"
   },
   {
    "duration": 15,
    "start_time": "2022-03-28T18:58:19.175Z"
   },
   {
    "duration": 92,
    "start_time": "2022-03-28T18:58:19.192Z"
   },
   {
    "duration": 54,
    "start_time": "2022-03-28T18:58:19.286Z"
   },
   {
    "duration": 44,
    "start_time": "2022-03-28T18:58:19.342Z"
   },
   {
    "duration": 5,
    "start_time": "2022-03-28T18:58:19.388Z"
   },
   {
    "duration": 56,
    "start_time": "2022-03-28T18:58:19.395Z"
   },
   {
    "duration": 6,
    "start_time": "2022-03-28T18:58:19.453Z"
   },
   {
    "duration": 6,
    "start_time": "2022-03-28T18:58:19.461Z"
   },
   {
    "duration": 7,
    "start_time": "2022-03-28T18:58:19.469Z"
   },
   {
    "duration": 6,
    "start_time": "2022-03-28T18:58:19.479Z"
   },
   {
    "duration": 57,
    "start_time": "2022-03-28T18:58:19.487Z"
   },
   {
    "duration": 14,
    "start_time": "2022-03-28T18:58:19.546Z"
   },
   {
    "duration": 8,
    "start_time": "2022-03-28T18:58:19.562Z"
   },
   {
    "duration": 10,
    "start_time": "2022-03-28T18:58:19.571Z"
   },
   {
    "duration": 14,
    "start_time": "2022-03-28T18:58:19.583Z"
   },
   {
    "duration": 49,
    "start_time": "2022-03-28T18:58:19.599Z"
   },
   {
    "duration": 44,
    "start_time": "2022-03-28T18:58:19.649Z"
   },
   {
    "duration": 63,
    "start_time": "2022-03-28T18:58:19.695Z"
   },
   {
    "duration": 47,
    "start_time": "2022-03-28T18:58:19.760Z"
   },
   {
    "duration": 5,
    "start_time": "2022-03-28T18:58:19.809Z"
   },
   {
    "duration": 33,
    "start_time": "2022-03-28T18:58:19.816Z"
   },
   {
    "duration": 224,
    "start_time": "2022-03-28T18:58:19.851Z"
   },
   {
    "duration": 17,
    "start_time": "2022-03-28T18:58:20.077Z"
   },
   {
    "duration": 5,
    "start_time": "2022-03-28T18:58:20.096Z"
   },
   {
    "duration": 224,
    "start_time": "2022-03-28T18:58:20.103Z"
   },
   {
    "duration": 200,
    "start_time": "2022-03-28T18:58:20.332Z"
   },
   {
    "duration": 17,
    "start_time": "2022-03-28T18:58:20.534Z"
   },
   {
    "duration": 5,
    "start_time": "2022-03-28T18:58:20.552Z"
   },
   {
    "duration": 15,
    "start_time": "2022-03-28T18:58:20.559Z"
   },
   {
    "duration": 11,
    "start_time": "2022-03-28T18:58:20.576Z"
   },
   {
    "duration": 43,
    "start_time": "2022-03-28T18:58:20.589Z"
   },
   {
    "duration": 13,
    "start_time": "2022-03-28T18:58:20.634Z"
   },
   {
    "duration": 13,
    "start_time": "2022-03-28T19:00:21.024Z"
   },
   {
    "duration": 42,
    "start_time": "2022-03-28T19:00:40.750Z"
   },
   {
    "duration": 43,
    "start_time": "2022-03-28T19:00:41.295Z"
   },
   {
    "duration": 47,
    "start_time": "2022-03-28T19:00:41.786Z"
   },
   {
    "duration": 4,
    "start_time": "2022-03-28T19:00:42.356Z"
   },
   {
    "duration": 13,
    "start_time": "2022-03-28T19:00:44.249Z"
   },
   {
    "duration": 214,
    "start_time": "2022-03-28T19:01:09.585Z"
   },
   {
    "duration": 6,
    "start_time": "2022-03-28T19:02:34.699Z"
   },
   {
    "duration": 6,
    "start_time": "2022-03-28T19:05:03.339Z"
   },
   {
    "duration": 11,
    "start_time": "2022-03-28T19:05:04.046Z"
   },
   {
    "duration": 128,
    "start_time": "2022-03-28T19:05:42.977Z"
   },
   {
    "duration": 1291,
    "start_time": "2022-03-28T19:05:54.108Z"
   },
   {
    "duration": 495,
    "start_time": "2022-03-28T19:05:55.401Z"
   },
   {
    "duration": 154,
    "start_time": "2022-03-28T19:05:55.898Z"
   },
   {
    "duration": 52,
    "start_time": "2022-03-28T19:05:56.055Z"
   },
   {
    "duration": 324,
    "start_time": "2022-03-28T19:05:56.109Z"
   },
   {
    "duration": 18,
    "start_time": "2022-03-28T19:05:56.435Z"
   },
   {
    "duration": 113,
    "start_time": "2022-03-28T19:05:56.455Z"
   },
   {
    "duration": 37,
    "start_time": "2022-03-28T19:05:56.570Z"
   },
   {
    "duration": 102,
    "start_time": "2022-03-28T19:05:56.609Z"
   },
   {
    "duration": 40,
    "start_time": "2022-03-28T19:05:56.715Z"
   },
   {
    "duration": 203,
    "start_time": "2022-03-28T19:05:56.758Z"
   },
   {
    "duration": 10,
    "start_time": "2022-03-28T19:05:56.963Z"
   },
   {
    "duration": 191,
    "start_time": "2022-03-28T19:05:56.975Z"
   },
   {
    "duration": 20,
    "start_time": "2022-03-28T19:05:57.168Z"
   },
   {
    "duration": 6,
    "start_time": "2022-03-28T19:05:57.190Z"
   },
   {
    "duration": 55,
    "start_time": "2022-03-28T19:05:57.198Z"
   },
   {
    "duration": 15,
    "start_time": "2022-03-28T19:05:57.255Z"
   },
   {
    "duration": 133,
    "start_time": "2022-03-28T19:05:57.272Z"
   },
   {
    "duration": 27,
    "start_time": "2022-03-28T19:05:57.407Z"
   },
   {
    "duration": 97,
    "start_time": "2022-03-28T19:05:57.436Z"
   },
   {
    "duration": 45,
    "start_time": "2022-03-28T19:05:57.534Z"
   },
   {
    "duration": 63,
    "start_time": "2022-03-28T19:05:57.581Z"
   },
   {
    "duration": 5,
    "start_time": "2022-03-28T19:05:57.645Z"
   },
   {
    "duration": 58,
    "start_time": "2022-03-28T19:05:57.652Z"
   },
   {
    "duration": 5,
    "start_time": "2022-03-28T19:05:57.712Z"
   },
   {
    "duration": 12,
    "start_time": "2022-03-28T19:05:57.719Z"
   },
   {
    "duration": 8,
    "start_time": "2022-03-28T19:05:57.733Z"
   },
   {
    "duration": 8,
    "start_time": "2022-03-28T19:05:57.745Z"
   },
   {
    "duration": 38,
    "start_time": "2022-03-28T19:05:57.754Z"
   },
   {
    "duration": 45,
    "start_time": "2022-03-28T19:05:57.794Z"
   },
   {
    "duration": 7,
    "start_time": "2022-03-28T19:05:57.842Z"
   },
   {
    "duration": 13,
    "start_time": "2022-03-28T19:05:57.851Z"
   },
   {
    "duration": 14,
    "start_time": "2022-03-28T19:05:57.866Z"
   },
   {
    "duration": 70,
    "start_time": "2022-03-28T19:05:57.883Z"
   },
   {
    "duration": 44,
    "start_time": "2022-03-28T19:05:57.955Z"
   },
   {
    "duration": 63,
    "start_time": "2022-03-28T19:05:58.001Z"
   },
   {
    "duration": 5,
    "start_time": "2022-03-28T19:05:58.066Z"
   },
   {
    "duration": 11,
    "start_time": "2022-03-28T19:05:58.072Z"
   },
   {
    "duration": 13,
    "start_time": "2022-03-28T19:05:58.085Z"
   },
   {
    "duration": 242,
    "start_time": "2022-03-28T19:05:58.100Z"
   },
   {
    "duration": 19,
    "start_time": "2022-03-28T19:05:58.344Z"
   },
   {
    "duration": 6,
    "start_time": "2022-03-28T19:05:58.364Z"
   },
   {
    "duration": 224,
    "start_time": "2022-03-28T19:05:58.372Z"
   },
   {
    "duration": 218,
    "start_time": "2022-03-28T19:05:58.599Z"
   },
   {
    "duration": 24,
    "start_time": "2022-03-28T19:05:58.819Z"
   },
   {
    "duration": 5,
    "start_time": "2022-03-28T19:05:58.845Z"
   },
   {
    "duration": 10,
    "start_time": "2022-03-28T19:05:58.852Z"
   },
   {
    "duration": 16,
    "start_time": "2022-03-28T19:05:58.864Z"
   },
   {
    "duration": 18,
    "start_time": "2022-03-28T19:05:58.882Z"
   },
   {
    "duration": 35,
    "start_time": "2022-03-28T19:05:58.902Z"
   },
   {
    "duration": 229,
    "start_time": "2022-03-28T19:09:31.117Z"
   },
   {
    "duration": 214,
    "start_time": "2022-03-28T19:09:52.908Z"
   },
   {
    "duration": 110,
    "start_time": "2022-03-28T19:26:54.172Z"
   },
   {
    "duration": 1297,
    "start_time": "2022-03-28T19:27:00.917Z"
   },
   {
    "duration": 489,
    "start_time": "2022-03-28T19:27:02.217Z"
   },
   {
    "duration": 155,
    "start_time": "2022-03-28T19:27:02.709Z"
   },
   {
    "duration": 66,
    "start_time": "2022-03-28T19:27:02.866Z"
   },
   {
    "duration": 319,
    "start_time": "2022-03-28T19:27:02.933Z"
   },
   {
    "duration": 17,
    "start_time": "2022-03-28T19:27:03.254Z"
   },
   {
    "duration": 96,
    "start_time": "2022-03-28T19:27:03.273Z"
   },
   {
    "duration": 35,
    "start_time": "2022-03-28T19:27:03.371Z"
   },
   {
    "duration": 94,
    "start_time": "2022-03-28T19:27:03.408Z"
   },
   {
    "duration": 43,
    "start_time": "2022-03-28T19:27:03.505Z"
   },
   {
    "duration": 189,
    "start_time": "2022-03-28T19:27:03.550Z"
   },
   {
    "duration": 10,
    "start_time": "2022-03-28T19:27:03.741Z"
   },
   {
    "duration": 189,
    "start_time": "2022-03-28T19:27:03.753Z"
   },
   {
    "duration": 17,
    "start_time": "2022-03-28T19:27:03.944Z"
   },
   {
    "duration": 24,
    "start_time": "2022-03-28T19:27:03.962Z"
   },
   {
    "duration": 41,
    "start_time": "2022-03-28T19:27:03.988Z"
   },
   {
    "duration": 18,
    "start_time": "2022-03-28T19:27:04.031Z"
   },
   {
    "duration": 142,
    "start_time": "2022-03-28T19:27:04.051Z"
   },
   {
    "duration": 16,
    "start_time": "2022-03-28T19:27:04.195Z"
   },
   {
    "duration": 89,
    "start_time": "2022-03-28T19:27:04.213Z"
   },
   {
    "duration": 52,
    "start_time": "2022-03-28T19:27:04.303Z"
   },
   {
    "duration": 47,
    "start_time": "2022-03-28T19:27:04.357Z"
   },
   {
    "duration": 5,
    "start_time": "2022-03-28T19:27:04.406Z"
   },
   {
    "duration": 54,
    "start_time": "2022-03-28T19:27:04.412Z"
   },
   {
    "duration": 6,
    "start_time": "2022-03-28T19:27:04.468Z"
   },
   {
    "duration": 38,
    "start_time": "2022-03-28T19:27:04.476Z"
   },
   {
    "duration": 16,
    "start_time": "2022-03-28T19:27:04.516Z"
   },
   {
    "duration": 18,
    "start_time": "2022-03-28T19:27:04.536Z"
   },
   {
    "duration": 42,
    "start_time": "2022-03-28T19:27:04.556Z"
   },
   {
    "duration": 19,
    "start_time": "2022-03-28T19:27:04.600Z"
   },
   {
    "duration": 11,
    "start_time": "2022-03-28T19:27:04.621Z"
   },
   {
    "duration": 24,
    "start_time": "2022-03-28T19:27:04.634Z"
   },
   {
    "duration": 39,
    "start_time": "2022-03-28T19:27:04.660Z"
   },
   {
    "duration": 66,
    "start_time": "2022-03-28T19:27:04.701Z"
   },
   {
    "duration": 45,
    "start_time": "2022-03-28T19:27:04.769Z"
   },
   {
    "duration": 50,
    "start_time": "2022-03-28T19:27:04.816Z"
   },
   {
    "duration": 5,
    "start_time": "2022-03-28T19:27:04.868Z"
   },
   {
    "duration": 35,
    "start_time": "2022-03-28T19:27:04.874Z"
   },
   {
    "duration": 26,
    "start_time": "2022-03-28T19:27:04.911Z"
   },
   {
    "duration": 244,
    "start_time": "2022-03-28T19:27:04.939Z"
   },
   {
    "duration": 17,
    "start_time": "2022-03-28T19:27:05.185Z"
   },
   {
    "duration": 10,
    "start_time": "2022-03-28T19:27:05.204Z"
   },
   {
    "duration": 207,
    "start_time": "2022-03-28T19:27:05.232Z"
   },
   {
    "duration": 210,
    "start_time": "2022-03-28T19:27:05.441Z"
   },
   {
    "duration": 18,
    "start_time": "2022-03-28T19:27:05.652Z"
   },
   {
    "duration": 22,
    "start_time": "2022-03-28T19:27:05.672Z"
   },
   {
    "duration": 226,
    "start_time": "2022-03-28T19:27:05.696Z"
   },
   {
    "duration": 13,
    "start_time": "2022-03-28T19:27:05.924Z"
   },
   {
    "duration": 38,
    "start_time": "2022-03-28T19:27:05.939Z"
   },
   {
    "duration": 31,
    "start_time": "2022-03-28T19:27:05.979Z"
   },
   {
    "duration": 27,
    "start_time": "2022-03-28T19:27:06.012Z"
   },
   {
    "duration": 5,
    "start_time": "2022-03-28T19:28:50.825Z"
   },
   {
    "duration": 6,
    "start_time": "2022-03-28T19:29:05.508Z"
   }
  ],
  "kernelspec": {
   "display_name": "Python 3 (ipykernel)",
   "language": "python",
   "name": "python3"
  },
  "language_info": {
   "codemirror_mode": {
    "name": "ipython",
    "version": 3
   },
   "file_extension": ".py",
   "mimetype": "text/x-python",
   "name": "python",
   "nbconvert_exporter": "python",
   "pygments_lexer": "ipython3",
   "version": "3.9.7"
  },
  "toc": {
   "base_numbering": 1,
   "nav_menu": {
    "height": "232.969px",
    "width": "185.981px"
   },
   "number_sections": true,
   "sideBar": true,
   "skip_h1_title": true,
   "title_cell": "Table of Contents",
   "title_sidebar": "Contents",
   "toc_cell": true,
   "toc_position": {
    "height": "calc(100% - 180px)",
    "left": "10px",
    "top": "150px",
    "width": "255.938px"
   },
   "toc_section_display": true,
   "toc_window_display": true
  }
 },
 "nbformat": 4,
 "nbformat_minor": 5
}
